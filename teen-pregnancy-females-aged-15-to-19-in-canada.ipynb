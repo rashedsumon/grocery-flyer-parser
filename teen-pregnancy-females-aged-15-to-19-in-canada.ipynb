{
 "cells": [
  {
   "cell_type": "code",
   "execution_count": 1,
   "id": "5a6c9e75",
   "metadata": {
    "_cell_guid": "b1076dfc-b9ad-4769-8c92-a6c4dae69d19",
    "_uuid": "8f2839f25d086af736a60e9eeb907d3b93b6e0e5",
    "execution": {
     "iopub.execute_input": "2025-10-03T12:47:52.273298Z",
     "iopub.status.busy": "2025-10-03T12:47:52.272905Z",
     "iopub.status.idle": "2025-10-03T12:47:54.232763Z",
     "shell.execute_reply": "2025-10-03T12:47:54.231835Z"
    },
    "papermill": {
     "duration": 1.966315,
     "end_time": "2025-10-03T12:47:54.234230",
     "exception": false,
     "start_time": "2025-10-03T12:47:52.267915",
     "status": "completed"
    },
    "tags": []
   },
   "outputs": [
    {
     "name": "stdout",
     "output_type": "stream",
     "text": [
      "/kaggle/input/teen-pregnancy-females-aged-15-to-19/13100166.csv\n"
     ]
    }
   ],
   "source": [
    "# This Python 3 environment comes with many helpful analytics libraries installed\n",
    "# It is defined by the kaggle/python Docker image: https://github.com/kaggle/docker-python\n",
    "# For example, here's several helpful packages to load\n",
    "\n",
    "import numpy as np # linear algebra\n",
    "import pandas as pd # data processing, CSV file I/O (e.g. pd.read_csv)\n",
    "\n",
    "# Input data files are available in the read-only \"../input/\" directory\n",
    "# For example, running this (by clicking run or pressing Shift+Enter) will list all files under the input directory\n",
    "\n",
    "import os\n",
    "for dirname, _, filenames in os.walk('/kaggle/input'):\n",
    "    for filename in filenames:\n",
    "        print(os.path.join(dirname, filename))\n",
    "\n",
    "# You can write up to 20GB to the current directory (/kaggle/working/) that gets preserved as output when you create a version using \"Save & Run All\" \n",
    "# You can also write temporary files to /kaggle/temp/, but they won't be saved outside of the current session"
   ]
  },
  {
   "cell_type": "code",
   "execution_count": 2,
   "id": "306c6a92",
   "metadata": {
    "execution": {
     "iopub.execute_input": "2025-10-03T12:47:54.241984Z",
     "iopub.status.busy": "2025-10-03T12:47:54.241608Z",
     "iopub.status.idle": "2025-10-03T12:47:54.245763Z",
     "shell.execute_reply": "2025-10-03T12:47:54.245072Z"
    },
    "papermill": {
     "duration": 0.009293,
     "end_time": "2025-10-03T12:47:54.247157",
     "exception": false,
     "start_time": "2025-10-03T12:47:54.237864",
     "status": "completed"
    },
    "tags": []
   },
   "outputs": [],
   "source": [
    "import warnings\n",
    "warnings.filterwarnings(\"ignore\")"
   ]
  },
  {
   "cell_type": "code",
   "execution_count": 3,
   "id": "141198f2",
   "metadata": {
    "execution": {
     "iopub.execute_input": "2025-10-03T12:47:54.254572Z",
     "iopub.status.busy": "2025-10-03T12:47:54.254296Z",
     "iopub.status.idle": "2025-10-03T12:47:54.307976Z",
     "shell.execute_reply": "2025-10-03T12:47:54.307084Z"
    },
    "papermill": {
     "duration": 0.058948,
     "end_time": "2025-10-03T12:47:54.309399",
     "exception": false,
     "start_time": "2025-10-03T12:47:54.250451",
     "status": "completed"
    },
    "tags": []
   },
   "outputs": [
    {
     "data": {
      "text/html": [
       "<div>\n",
       "<style scoped>\n",
       "    .dataframe tbody tr th:only-of-type {\n",
       "        vertical-align: middle;\n",
       "    }\n",
       "\n",
       "    .dataframe tbody tr th {\n",
       "        vertical-align: top;\n",
       "    }\n",
       "\n",
       "    .dataframe thead th {\n",
       "        text-align: right;\n",
       "    }\n",
       "</style>\n",
       "<table border=\"1\" class=\"dataframe\">\n",
       "  <thead>\n",
       "    <tr style=\"text-align: right;\">\n",
       "      <th></th>\n",
       "      <th>REF_DATE</th>\n",
       "      <th>GEO</th>\n",
       "      <th>DGUID</th>\n",
       "      <th>Age group</th>\n",
       "      <th>Teen pregnancy outcomes</th>\n",
       "      <th>Characteristics</th>\n",
       "      <th>UOM</th>\n",
       "      <th>UOM_ID</th>\n",
       "      <th>SCALAR_FACTOR</th>\n",
       "      <th>SCALAR_ID</th>\n",
       "      <th>VECTOR</th>\n",
       "      <th>COORDINATE</th>\n",
       "      <th>VALUE</th>\n",
       "      <th>STATUS</th>\n",
       "      <th>SYMBOL</th>\n",
       "      <th>TERMINATED</th>\n",
       "      <th>DECIMALS</th>\n",
       "    </tr>\n",
       "  </thead>\n",
       "  <tbody>\n",
       "    <tr>\n",
       "      <th>0</th>\n",
       "      <td>1998</td>\n",
       "      <td>Canada</td>\n",
       "      <td>NaN</td>\n",
       "      <td>15 to 19 years</td>\n",
       "      <td>Total, teen pregnancies</td>\n",
       "      <td>Number of events</td>\n",
       "      <td>Number</td>\n",
       "      <td>223</td>\n",
       "      <td>units</td>\n",
       "      <td>0</td>\n",
       "      <td>v4384837</td>\n",
       "      <td>1.1.1.1</td>\n",
       "      <td>41588.0</td>\n",
       "      <td>NaN</td>\n",
       "      <td>NaN</td>\n",
       "      <td>NaN</td>\n",
       "      <td>0</td>\n",
       "    </tr>\n",
       "    <tr>\n",
       "      <th>1</th>\n",
       "      <td>1998</td>\n",
       "      <td>Canada</td>\n",
       "      <td>NaN</td>\n",
       "      <td>15 to 19 years</td>\n",
       "      <td>Total, teen pregnancies</td>\n",
       "      <td>Rate per 1,000 females</td>\n",
       "      <td>Rates per 1,000 females</td>\n",
       "      <td>266</td>\n",
       "      <td>units</td>\n",
       "      <td>0</td>\n",
       "      <td>v4384838</td>\n",
       "      <td>1.1.1.2</td>\n",
       "      <td>41.7</td>\n",
       "      <td>NaN</td>\n",
       "      <td>NaN</td>\n",
       "      <td>NaN</td>\n",
       "      <td>1</td>\n",
       "    </tr>\n",
       "    <tr>\n",
       "      <th>2</th>\n",
       "      <td>1998</td>\n",
       "      <td>Canada</td>\n",
       "      <td>NaN</td>\n",
       "      <td>15 to 19 years</td>\n",
       "      <td>Live births</td>\n",
       "      <td>Number of events</td>\n",
       "      <td>Number</td>\n",
       "      <td>223</td>\n",
       "      <td>units</td>\n",
       "      <td>0</td>\n",
       "      <td>v4384839</td>\n",
       "      <td>1.1.2.1</td>\n",
       "      <td>19721.0</td>\n",
       "      <td>NaN</td>\n",
       "      <td>NaN</td>\n",
       "      <td>NaN</td>\n",
       "      <td>0</td>\n",
       "    </tr>\n",
       "    <tr>\n",
       "      <th>3</th>\n",
       "      <td>1998</td>\n",
       "      <td>Canada</td>\n",
       "      <td>NaN</td>\n",
       "      <td>15 to 19 years</td>\n",
       "      <td>Live births</td>\n",
       "      <td>Rate per 1,000 females</td>\n",
       "      <td>Rates per 1,000 females</td>\n",
       "      <td>266</td>\n",
       "      <td>units</td>\n",
       "      <td>0</td>\n",
       "      <td>v4384840</td>\n",
       "      <td>1.1.2.2</td>\n",
       "      <td>19.8</td>\n",
       "      <td>NaN</td>\n",
       "      <td>NaN</td>\n",
       "      <td>NaN</td>\n",
       "      <td>1</td>\n",
       "    </tr>\n",
       "    <tr>\n",
       "      <th>4</th>\n",
       "      <td>1998</td>\n",
       "      <td>Canada</td>\n",
       "      <td>NaN</td>\n",
       "      <td>15 to 19 years</td>\n",
       "      <td>Induced abortions</td>\n",
       "      <td>Number of events</td>\n",
       "      <td>Number</td>\n",
       "      <td>223</td>\n",
       "      <td>units</td>\n",
       "      <td>0</td>\n",
       "      <td>v4384841</td>\n",
       "      <td>1.1.3.1</td>\n",
       "      <td>20859.0</td>\n",
       "      <td>NaN</td>\n",
       "      <td>NaN</td>\n",
       "      <td>NaN</td>\n",
       "      <td>0</td>\n",
       "    </tr>\n",
       "  </tbody>\n",
       "</table>\n",
       "</div>"
      ],
      "text/plain": [
       "   REF_DATE     GEO  DGUID       Age group  Teen pregnancy outcomes  \\\n",
       "0      1998  Canada    NaN  15 to 19 years  Total, teen pregnancies   \n",
       "1      1998  Canada    NaN  15 to 19 years  Total, teen pregnancies   \n",
       "2      1998  Canada    NaN  15 to 19 years              Live births   \n",
       "3      1998  Canada    NaN  15 to 19 years              Live births   \n",
       "4      1998  Canada    NaN  15 to 19 years        Induced abortions   \n",
       "\n",
       "          Characteristics                      UOM  UOM_ID SCALAR_FACTOR  \\\n",
       "0        Number of events                   Number     223        units    \n",
       "1  Rate per 1,000 females  Rates per 1,000 females     266        units    \n",
       "2        Number of events                   Number     223        units    \n",
       "3  Rate per 1,000 females  Rates per 1,000 females     266        units    \n",
       "4        Number of events                   Number     223        units    \n",
       "\n",
       "   SCALAR_ID    VECTOR COORDINATE    VALUE  STATUS SYMBOL TERMINATED  DECIMALS  \n",
       "0          0  v4384837    1.1.1.1  41588.0     NaN    NaN        NaN         0  \n",
       "1          0  v4384838    1.1.1.2     41.7     NaN    NaN        NaN         1  \n",
       "2          0  v4384839    1.1.2.1  19721.0     NaN    NaN        NaN         0  \n",
       "3          0  v4384840    1.1.2.2     19.8     NaN    NaN        NaN         1  \n",
       "4          0  v4384841    1.1.3.1  20859.0     NaN    NaN        NaN         0  "
      ]
     },
     "execution_count": 3,
     "metadata": {},
     "output_type": "execute_result"
    }
   ],
   "source": [
    "df = pd.read_csv('/kaggle/input/teen-pregnancy-females-aged-15-to-19/13100166.csv')\n",
    "df.head()"
   ]
  },
  {
   "cell_type": "code",
   "execution_count": 4,
   "id": "4545e8f3",
   "metadata": {
    "execution": {
     "iopub.execute_input": "2025-10-03T12:47:54.317644Z",
     "iopub.status.busy": "2025-10-03T12:47:54.317009Z",
     "iopub.status.idle": "2025-10-03T12:47:54.323601Z",
     "shell.execute_reply": "2025-10-03T12:47:54.322883Z"
    },
    "papermill": {
     "duration": 0.011799,
     "end_time": "2025-10-03T12:47:54.324793",
     "exception": false,
     "start_time": "2025-10-03T12:47:54.312994",
     "status": "completed"
    },
    "tags": []
   },
   "outputs": [
    {
     "data": {
      "text/plain": [
       "Index(['REF_DATE', 'GEO', 'DGUID', 'Age group', 'Teen pregnancy outcomes',\n",
       "       'Characteristics', 'UOM', 'UOM_ID', 'SCALAR_FACTOR', 'SCALAR_ID',\n",
       "       'VECTOR', 'COORDINATE', 'VALUE', 'STATUS', 'SYMBOL', 'TERMINATED',\n",
       "       'DECIMALS'],\n",
       "      dtype='object')"
      ]
     },
     "execution_count": 4,
     "metadata": {},
     "output_type": "execute_result"
    }
   ],
   "source": [
    "df.columns"
   ]
  },
  {
   "cell_type": "code",
   "execution_count": 5,
   "id": "8ada401b",
   "metadata": {
    "execution": {
     "iopub.execute_input": "2025-10-03T12:47:54.332573Z",
     "iopub.status.busy": "2025-10-03T12:47:54.332335Z",
     "iopub.status.idle": "2025-10-03T12:47:54.354610Z",
     "shell.execute_reply": "2025-10-03T12:47:54.353731Z"
    },
    "papermill": {
     "duration": 0.027674,
     "end_time": "2025-10-03T12:47:54.356018",
     "exception": false,
     "start_time": "2025-10-03T12:47:54.328344",
     "status": "completed"
    },
    "tags": []
   },
   "outputs": [
    {
     "name": "stdout",
     "output_type": "stream",
     "text": [
      "<class 'pandas.core.frame.DataFrame'>\n",
      "RangeIndex: 960 entries, 0 to 959\n",
      "Data columns (total 17 columns):\n",
      " #   Column                   Non-Null Count  Dtype  \n",
      "---  ------                   --------------  -----  \n",
      " 0   REF_DATE                 960 non-null    int64  \n",
      " 1   GEO                      960 non-null    object \n",
      " 2   DGUID                    0 non-null      float64\n",
      " 3   Age group                960 non-null    object \n",
      " 4   Teen pregnancy outcomes  960 non-null    object \n",
      " 5   Characteristics          960 non-null    object \n",
      " 6   UOM                      960 non-null    object \n",
      " 7   UOM_ID                   960 non-null    int64  \n",
      " 8   SCALAR_FACTOR            960 non-null    object \n",
      " 9   SCALAR_ID                960 non-null    int64  \n",
      " 10  VECTOR                   960 non-null    object \n",
      " 11  COORDINATE               960 non-null    object \n",
      " 12  VALUE                    960 non-null    float64\n",
      " 13  STATUS                   0 non-null      float64\n",
      " 14  SYMBOL                   3 non-null      object \n",
      " 15  TERMINATED               48 non-null     object \n",
      " 16  DECIMALS                 960 non-null    int64  \n",
      "dtypes: float64(3), int64(4), object(10)\n",
      "memory usage: 127.6+ KB\n"
     ]
    }
   ],
   "source": [
    "# Basic dataset info\n",
    "df.info()"
   ]
  },
  {
   "cell_type": "code",
   "execution_count": 6,
   "id": "2a96376d",
   "metadata": {
    "execution": {
     "iopub.execute_input": "2025-10-03T12:47:54.364172Z",
     "iopub.status.busy": "2025-10-03T12:47:54.363864Z",
     "iopub.status.idle": "2025-10-03T12:47:54.371199Z",
     "shell.execute_reply": "2025-10-03T12:47:54.370265Z"
    },
    "papermill": {
     "duration": 0.012863,
     "end_time": "2025-10-03T12:47:54.372550",
     "exception": false,
     "start_time": "2025-10-03T12:47:54.359687",
     "status": "completed"
    },
    "tags": []
   },
   "outputs": [
    {
     "data": {
      "text/plain": [
       "REF_DATE                     0\n",
       "GEO                          0\n",
       "DGUID                      960\n",
       "Age group                    0\n",
       "Teen pregnancy outcomes      0\n",
       "Characteristics              0\n",
       "UOM                          0\n",
       "UOM_ID                       0\n",
       "SCALAR_FACTOR                0\n",
       "SCALAR_ID                    0\n",
       "VECTOR                       0\n",
       "COORDINATE                   0\n",
       "VALUE                        0\n",
       "STATUS                     960\n",
       "SYMBOL                     957\n",
       "TERMINATED                 912\n",
       "DECIMALS                     0\n",
       "dtype: int64"
      ]
     },
     "execution_count": 6,
     "metadata": {},
     "output_type": "execute_result"
    }
   ],
   "source": [
    "# Check for missing values\n",
    "df.isnull().sum()"
   ]
  },
  {
   "cell_type": "code",
   "execution_count": 7,
   "id": "bbea2fbc",
   "metadata": {
    "execution": {
     "iopub.execute_input": "2025-10-03T12:47:54.380957Z",
     "iopub.status.busy": "2025-10-03T12:47:54.380515Z",
     "iopub.status.idle": "2025-10-03T12:47:54.395828Z",
     "shell.execute_reply": "2025-10-03T12:47:54.395005Z"
    },
    "papermill": {
     "duration": 0.020926,
     "end_time": "2025-10-03T12:47:54.397192",
     "exception": false,
     "start_time": "2025-10-03T12:47:54.376266",
     "status": "completed"
    },
    "tags": []
   },
   "outputs": [
    {
     "data": {
      "text/html": [
       "<div>\n",
       "<style scoped>\n",
       "    .dataframe tbody tr th:only-of-type {\n",
       "        vertical-align: middle;\n",
       "    }\n",
       "\n",
       "    .dataframe tbody tr th {\n",
       "        vertical-align: top;\n",
       "    }\n",
       "\n",
       "    .dataframe thead th {\n",
       "        text-align: right;\n",
       "    }\n",
       "</style>\n",
       "<table border=\"1\" class=\"dataframe\">\n",
       "  <thead>\n",
       "    <tr style=\"text-align: right;\">\n",
       "      <th></th>\n",
       "      <th>Year</th>\n",
       "      <th>Region</th>\n",
       "      <th>Outcome</th>\n",
       "      <th>Characteristic</th>\n",
       "      <th>Value</th>\n",
       "    </tr>\n",
       "  </thead>\n",
       "  <tbody>\n",
       "    <tr>\n",
       "      <th>0</th>\n",
       "      <td>1998</td>\n",
       "      <td>Canada</td>\n",
       "      <td>Total, teen pregnancies</td>\n",
       "      <td>Number of events</td>\n",
       "      <td>41588.0</td>\n",
       "    </tr>\n",
       "    <tr>\n",
       "      <th>1</th>\n",
       "      <td>1998</td>\n",
       "      <td>Canada</td>\n",
       "      <td>Total, teen pregnancies</td>\n",
       "      <td>Rate per 1,000 females</td>\n",
       "      <td>41.7</td>\n",
       "    </tr>\n",
       "    <tr>\n",
       "      <th>2</th>\n",
       "      <td>1998</td>\n",
       "      <td>Canada</td>\n",
       "      <td>Live births</td>\n",
       "      <td>Number of events</td>\n",
       "      <td>19721.0</td>\n",
       "    </tr>\n",
       "    <tr>\n",
       "      <th>3</th>\n",
       "      <td>1998</td>\n",
       "      <td>Canada</td>\n",
       "      <td>Live births</td>\n",
       "      <td>Rate per 1,000 females</td>\n",
       "      <td>19.8</td>\n",
       "    </tr>\n",
       "    <tr>\n",
       "      <th>4</th>\n",
       "      <td>1998</td>\n",
       "      <td>Canada</td>\n",
       "      <td>Induced abortions</td>\n",
       "      <td>Number of events</td>\n",
       "      <td>20859.0</td>\n",
       "    </tr>\n",
       "  </tbody>\n",
       "</table>\n",
       "</div>"
      ],
      "text/plain": [
       "   Year  Region                  Outcome          Characteristic    Value\n",
       "0  1998  Canada  Total, teen pregnancies        Number of events  41588.0\n",
       "1  1998  Canada  Total, teen pregnancies  Rate per 1,000 females     41.7\n",
       "2  1998  Canada              Live births        Number of events  19721.0\n",
       "3  1998  Canada              Live births  Rate per 1,000 females     19.8\n",
       "4  1998  Canada        Induced abortions        Number of events  20859.0"
      ]
     },
     "execution_count": 7,
     "metadata": {},
     "output_type": "execute_result"
    }
   ],
   "source": [
    "# Keep useful columns only\n",
    "df = df[['REF_DATE', 'GEO', 'Teen pregnancy outcomes', 'Characteristics', 'VALUE']]\n",
    "\n",
    "# Drop rows with missing values\n",
    "df.dropna(inplace=True)\n",
    "\n",
    "# Rename for ease\n",
    "df.columns = ['Year', 'Region', 'Outcome', 'Characteristic', 'Value']\n",
    "\n",
    "df.head()"
   ]
  },
  {
   "cell_type": "code",
   "execution_count": 8,
   "id": "0a04a997",
   "metadata": {
    "execution": {
     "iopub.execute_input": "2025-10-03T12:47:54.405827Z",
     "iopub.status.busy": "2025-10-03T12:47:54.405555Z",
     "iopub.status.idle": "2025-10-03T12:47:56.760073Z",
     "shell.execute_reply": "2025-10-03T12:47:56.759163Z"
    },
    "papermill": {
     "duration": 2.360373,
     "end_time": "2025-10-03T12:47:56.761520",
     "exception": false,
     "start_time": "2025-10-03T12:47:54.401147",
     "status": "completed"
    },
    "tags": []
   },
   "outputs": [
    {
     "data": {
      "image/png": "[encoded data removed]",
      "text/plain": [
       "<Figure size 1000x500 with 1 Axes>"
      ]
     },
     "metadata": {},
     "output_type": "display_data"
    }
   ],
   "source": [
    "import matplotlib.pyplot as plt\n",
    "import seaborn as sns\n",
    "\n",
    "# Set style\n",
    "sns.set(style=\"whitegrid\")\n",
    "\n",
    "# Plot Teen Pregnancy over Years for Canada\n",
    "canada_df = df[(df['Region'] == 'Canada') & (df['Outcome'] == 'Total teen pregnancies')]\n",
    "plt.figure(figsize=(10, 5))\n",
    "sns.lineplot(data=canada_df, x='Year', y='Value', hue='Characteristic', marker='o')\n",
    "plt.title('Teen Pregnancy in Canada (Ages 15-19) Over Time')\n",
    "plt.ylabel('Pregnancies per 1,000 Females')\n",
    "plt.xticks(rotation=45)\n",
    "plt.show()"
   ]
  },
  {
   "cell_type": "code",
   "execution_count": 9,
   "id": "c0287023",
   "metadata": {
    "execution": {
     "iopub.execute_input": "2025-10-03T12:47:56.771557Z",
     "iopub.status.busy": "2025-10-03T12:47:56.771154Z",
     "iopub.status.idle": "2025-10-03T12:47:56.972001Z",
     "shell.execute_reply": "2025-10-03T12:47:56.971296Z"
    },
    "papermill": {
     "duration": 0.2075,
     "end_time": "2025-10-03T12:47:56.973618",
     "exception": false,
     "start_time": "2025-10-03T12:47:56.766118",
     "status": "completed"
    },
    "tags": []
   },
   "outputs": [],
   "source": [
    "from sklearn.preprocessing import LabelEncoder\n",
    "\n",
    "# Copy the cleaned data\n",
    "ml_df = df.copy()\n",
    "\n",
    "# Encode categorical columns\n",
    "le = LabelEncoder()\n",
    "ml_df['Region'] = le.fit_transform(ml_df['Region'])\n",
    "ml_df['Outcome'] = le.fit_transform(ml_df['Outcome'])\n",
    "ml_df['Characteristic'] = le.fit_transform(ml_df['Characteristic'])"
   ]
  },
  {
   "cell_type": "code",
   "execution_count": 10,
   "id": "4f6a7545",
   "metadata": {
    "execution": {
     "iopub.execute_input": "2025-10-03T12:47:56.983568Z",
     "iopub.status.busy": "2025-10-03T12:47:56.983285Z",
     "iopub.status.idle": "2025-10-03T12:47:56.988411Z",
     "shell.execute_reply": "2025-10-03T12:47:56.987721Z"
    },
    "papermill": {
     "duration": 0.011575,
     "end_time": "2025-10-03T12:47:56.989691",
     "exception": false,
     "start_time": "2025-10-03T12:47:56.978116",
     "status": "completed"
    },
    "tags": []
   },
   "outputs": [],
   "source": [
    "# Features and target\n",
    "X = ml_df[['Year', 'Region', 'Outcome', 'Characteristic']]\n",
    "y = ml_df['Value']"
   ]
  },
  {
   "cell_type": "code",
   "execution_count": 11,
   "id": "7b6aa2c7",
   "metadata": {
    "execution": {
     "iopub.execute_input": "2025-10-03T12:47:56.999347Z",
     "iopub.status.busy": "2025-10-03T12:47:56.999065Z",
     "iopub.status.idle": "2025-10-03T12:47:57.521367Z",
     "shell.execute_reply": "2025-10-03T12:47:57.520656Z"
    },
    "papermill": {
     "duration": 0.529162,
     "end_time": "2025-10-03T12:47:57.523261",
     "exception": false,
     "start_time": "2025-10-03T12:47:56.994099",
     "status": "completed"
    },
    "tags": []
   },
   "outputs": [],
   "source": [
    "from sklearn.model_selection import train_test_split\n",
    "from sklearn.ensemble import RandomForestRegressor\n",
    "from sklearn.metrics import mean_squared_error, r2_score\n",
    "\n",
    "# Split dataset\n",
    "X_train, X_test, y_train, y_test = train_test_split(X, y, test_size=0.2, random_state=42)"
   ]
  },
  {
   "cell_type": "code",
   "execution_count": 12,
   "id": "9b34ebca",
   "metadata": {
    "execution": {
     "iopub.execute_input": "2025-10-03T12:47:57.534922Z",
     "iopub.status.busy": "2025-10-03T12:47:57.534625Z",
     "iopub.status.idle": "2025-10-03T12:47:57.734837Z",
     "shell.execute_reply": "2025-10-03T12:47:57.733984Z"
    },
    "papermill": {
     "duration": 0.207921,
     "end_time": "2025-10-03T12:47:57.736249",
     "exception": false,
     "start_time": "2025-10-03T12:47:57.528328",
     "status": "completed"
    },
    "tags": []
   },
   "outputs": [
    {
     "data": {
      "text/html": [
       "<style>#sk-container-id-1 {color: black;background-color: white;}#sk-container-id-1 pre{padding: 0;}#sk-container-id-1 div.sk-toggleable {background-color: white;}#sk-container-id-1 label.sk-toggleable__label {cursor: pointer;display: block;width: 100%;margin-bottom: 0;padding: 0.3em;box-sizing: border-box;text-align: center;}#sk-container-id-1 label.sk-toggleable__label-arrow:before {content: \"▸\";float: left;margin-right: 0.25em;color: #696969;}#sk-container-id-1 label.sk-toggleable__label-arrow:hover:before {color: black;}#sk-container-id-1 div.sk-estimator:hover label.sk-toggleable__label-arrow:before {color: black;}#sk-container-id-1 div.sk-toggleable__content {max-height: 0;max-width: 0;overflow: hidden;text-align: left;background-color: #f0f8ff;}#sk-container-id-1 div.sk-toggleable__content pre {margin: 0.2em;color: black;border-radius: 0.25em;background-color: #f0f8ff;}#sk-container-id-1 input.sk-toggleable__control:checked~div.sk-toggleable__content {max-height: 200px;max-width: 100%;overflow: auto;}#sk-container-id-1 input.sk-toggleable__control:checked~label.sk-toggleable__label-arrow:before {content: \"▾\";}#sk-container-id-1 div.sk-estimator input.sk-toggleable__control:checked~label.sk-toggleable__label {background-color: #d4ebff;}#sk-container-id-1 div.sk-label input.sk-toggleable__control:checked~label.sk-toggleable__label {background-color: #d4ebff;}#sk-container-id-1 input.sk-hidden--visually {border: 0;clip: rect(1px 1px 1px 1px);clip: rect(1px, 1px, 1px, 1px);height: 1px;margin: -1px;overflow: hidden;padding: 0;position: absolute;width: 1px;}#sk-container-id-1 div.sk-estimator {font-family: monospace;background-color: #f0f8ff;border: 1px dotted black;border-radius: 0.25em;box-sizing: border-box;margin-bottom: 0.5em;}#sk-container-id-1 div.sk-estimator:hover {background-color: #d4ebff;}#sk-container-id-1 div.sk-parallel-item::after {content: \"\";width: 100%;border-bottom: 1px solid gray;flex-grow: 1;}#sk-container-id-1 div.sk-label:hover label.sk-toggleable__label {background-color: #d4ebff;}#sk-container-id-1 div.sk-serial::before {content: \"\";position: absolute;border-left: 1px solid gray;box-sizing: border-box;top: 0;bottom: 0;left: 50%;z-index: 0;}#sk-container-id-1 div.sk-serial {display: flex;flex-direction: column;align-items: center;background-color: white;padding-right: 0.2em;padding-left: 0.2em;position: relative;}#sk-container-id-1 div.sk-item {position: relative;z-index: 1;}#sk-container-id-1 div.sk-parallel {display: flex;align-items: stretch;justify-content: center;background-color: white;position: relative;}#sk-container-id-1 div.sk-item::before, #sk-container-id-1 div.sk-parallel-item::before {content: \"\";position: absolute;border-left: 1px solid gray;box-sizing: border-box;top: 0;bottom: 0;left: 50%;z-index: -1;}#sk-container-id-1 div.sk-parallel-item {display: flex;flex-direction: column;z-index: 1;position: relative;background-color: white;}#sk-container-id-1 div.sk-parallel-item:first-child::after {align-self: flex-end;width: 50%;}#sk-container-id-1 div.sk-parallel-item:last-child::after {align-self: flex-start;width: 50%;}#sk-container-id-1 div.sk-parallel-item:only-child::after {width: 0;}#sk-container-id-1 div.sk-dashed-wrapped {border: 1px dashed gray;margin: 0 0.4em 0.5em 0.4em;box-sizing: border-box;padding-bottom: 0.4em;background-color: white;}#sk-container-id-1 div.sk-label label {font-family: monospace;font-weight: bold;display: inline-block;line-height: 1.2em;}#sk-container-id-1 div.sk-label-container {text-align: center;}#sk-container-id-1 div.sk-container {/* jupyter's `normalize.less` sets `[hidden] { display: none; }` but bootstrap.min.css set `[hidden] { display: none !important; }` so we also need the `!important` here to be able to override the default hidden behavior on the sphinx rendered scikit-learn.org. See: https://github.com/scikit-learn/scikit-learn/issues/21755 */display: inline-block !important;position: relative;}#sk-container-id-1 div.sk-text-repr-fallback {display: none;}</style><div id=\"sk-container-id-1\" class=\"sk-top-container\"><div class=\"sk-text-repr-fallback\"><pre>RandomForestRegressor(random_state=42)</pre><b>In a Jupyter environment, please rerun this cell to show the HTML representation or trust the notebook. <br />On GitHub, the HTML representation is unable to render, please try loading this page with nbviewer.org.</b></div><div class=\"sk-container\" hidden><div class=\"sk-item\"><div class=\"sk-estimator sk-toggleable\"><input class=\"sk-toggleable__control sk-hidden--visually\" id=\"sk-estimator-id-1\" type=\"checkbox\" checked><label for=\"sk-estimator-id-1\" class=\"sk-toggleable__label sk-toggleable__label-arrow\">RandomForestRegressor</label><div class=\"sk-toggleable__content\"><pre>RandomForestRegressor(random_state=42)</pre></div></div></div></div></div>"
      ],
      "text/plain": [
       "RandomForestRegressor(random_state=42)"
      ]
     },
     "execution_count": 12,
     "metadata": {},
     "output_type": "execute_result"
    }
   ],
   "source": [
    "# Train Random Forest\n",
    "model = RandomForestRegressor(n_estimators=100, random_state=42)\n",
    "model.fit(X_train, y_train)"
   ]
  },
  {
   "cell_type": "code",
   "execution_count": 13,
   "id": "31ef81e3",
   "metadata": {
    "execution": {
     "iopub.execute_input": "2025-10-03T12:47:57.746651Z",
     "iopub.status.busy": "2025-10-03T12:47:57.746372Z",
     "iopub.status.idle": "2025-10-03T12:47:57.761100Z",
     "shell.execute_reply": "2025-10-03T12:47:57.760193Z"
    },
    "papermill": {
     "duration": 0.021383,
     "end_time": "2025-10-03T12:47:57.762524",
     "exception": false,
     "start_time": "2025-10-03T12:47:57.741141",
     "status": "completed"
    },
    "tags": []
   },
   "outputs": [
    {
     "name": "stdout",
     "output_type": "stream",
     "text": [
      "R² Score: 0.7120087301439262\n",
      "RMSE: 1864.4355340981206\n"
     ]
    }
   ],
   "source": [
    "# Predict\n",
    "y_pred = model.predict(X_test)\n",
    "\n",
    "# Evaluate\n",
    "print(\"R² Score:\", r2_score(y_test, y_pred))\n",
    "print(\"RMSE:\", mean_squared_error(y_test, y_pred, squared=False))"
   ]
  }
 ],
 "metadata": {
  "kaggle": {
   "accelerator": "none",
   "dataSources": [
    {
     "datasetId": 2666883,
     "sourceId": 4571174,
     "sourceType": "datasetVersion"
    }
   ],
   "dockerImageVersionId": 31089,
   "isGpuEnabled": false,
   "isInternetEnabled": true,
   "language": "python",
   "sourceType": "notebook"
  },
  "kernelspec": {
   "display_name": "Python 3",
   "language": "python",
   "name": "python3"
  },
  "language_info": {
   "codemirror_mode": {
    "name": "ipython",
    "version": 3
   },
   "file_extension": ".py",
   "mimetype": "text/x-python",
   "name": "python",
   "nbconvert_exporter": "python",
   "pygments_lexer": "ipython3",
   "version": "3.11.13"
  },
  "papermill": {
   "default_parameters": {},
   "duration": 11.66401,
   "end_time": "2025-10-03T12:47:58.385661",
   "environment_variables": {},
   "exception": null,
   "input_path": "__notebook__.ipynb",
   "output_path": "__notebook__.ipynb",
   "parameters": {},
   "start_time": "2025-10-03T12:47:46.721651",
   "version": "2.6.0"
  }
 },
 "nbformat": 4,
 "nbformat_minor": 5
}
