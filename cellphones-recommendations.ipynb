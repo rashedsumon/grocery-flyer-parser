{
 "cells": [
  {
   "cell_type": "code",
   "execution_count": 1,
   "id": "87e8c201",
   "metadata": {
    "_cell_guid": "b1076dfc-b9ad-4769-8c92-a6c4dae69d19",
    "_uuid": "8f2839f25d086af736a60e9eeb907d3b93b6e0e5",
    "collapsed": true,
    "execution": {
     "iopub.execute_input": "2025-10-03T12:41:50.291805Z",
     "iopub.status.busy": "2025-10-03T12:41:50.291353Z",
     "iopub.status.idle": "2025-10-03T12:41:52.585592Z",
     "shell.execute_reply": "2025-10-03T12:41:52.583749Z"
    },
    "jupyter": {
     "outputs_hidden": true
    },
    "papermill": {
     "duration": 2.302256,
     "end_time": "2025-10-03T12:41:52.588001",
     "exception": false,
     "start_time": "2025-10-03T12:41:50.285745",
     "status": "completed"
    },
    "tags": []
   },
   "outputs": [
    {
     "name": "stdout",
     "output_type": "stream",
     "text": [
      "/kaggle/input/cellphones-recommendations/cellphones ratings.csv\n",
      "/kaggle/input/cellphones-recommendations/cellphones data.csv\n",
      "/kaggle/input/cellphones-recommendations/cellphones users.csv\n"
     ]
    }
   ],
   "source": [
    "# This Python 3 environment comes with many helpful analytics libraries installed\n",
    "# It is defined by the kaggle/python Docker image: https://github.com/kaggle/docker-python\n",
    "# For example, here's several helpful packages to load\n",
    "\n",
    "import numpy as np # linear algebra\n",
    "import pandas as pd # data processing, CSV file I/O (e.g. pd.read_csv)\n",
    "\n",
    "# Input data files are available in the read-only \"../input/\" directory\n",
    "# For example, running this (by clicking run or pressing Shift+Enter) will list all files under the input directory\n",
    "\n",
    "import os\n",
    "for dirname, _, filenames in os.walk('/kaggle/input'):\n",
    "    for filename in filenames:\n",
    "        print(os.path.join(dirname, filename))\n",
    "\n",
    "# You can write up to 20GB to the current directory (/kaggle/working/) that gets preserved as output when you create a version using \"Save & Run All\" \n",
    "# You can also write temporary files to /kaggle/temp/, but they won't be saved outside of the current session"
   ]
  },
  {
   "cell_type": "code",
   "execution_count": 2,
   "id": "4fe1eab5",
   "metadata": {
    "execution": {
     "iopub.execute_input": "2025-10-03T12:41:52.598076Z",
     "iopub.status.busy": "2025-10-03T12:41:52.597628Z",
     "iopub.status.idle": "2025-10-03T12:41:52.603196Z",
     "shell.execute_reply": "2025-10-03T12:41:52.601896Z"
    },
    "papermill": {
     "duration": 0.012308,
     "end_time": "2025-10-03T12:41:52.604949",
     "exception": false,
     "start_time": "2025-10-03T12:41:52.592641",
     "status": "completed"
    },
    "tags": []
   },
   "outputs": [],
   "source": [
    "import warnings\n",
    "warnings.filterwarnings(\"ignore\")"
   ]
  },
  {
   "cell_type": "code",
   "execution_count": 3,
   "id": "2b6ab082",
   "metadata": {
    "execution": {
     "iopub.execute_input": "2025-10-03T12:41:52.614047Z",
     "iopub.status.busy": "2025-10-03T12:41:52.613711Z",
     "iopub.status.idle": "2025-10-03T12:41:55.690993Z",
     "shell.execute_reply": "2025-10-03T12:41:55.689736Z"
    },
    "papermill": {
     "duration": 3.084176,
     "end_time": "2025-10-03T12:41:55.693047",
     "exception": false,
     "start_time": "2025-10-03T12:41:52.608871",
     "status": "completed"
    },
    "tags": []
   },
   "outputs": [],
   "source": [
    "# Import libraries\n",
    "import pandas as pd\n",
    "import matplotlib.pyplot as plt\n",
    "import seaborn as sns\n",
    "from sklearn.model_selection import train_test_split\n",
    "from sklearn.preprocessing import LabelEncoder\n",
    "from sklearn.metrics import mean_squared_error\n",
    "from sklearn.linear_model import LinearRegression\n",
    "from sklearn.ensemble import RandomForestRegressor, GradientBoostingRegressor\n",
    "from sklearn.svm import SVR\n",
    "from sklearn.neighbors import KNeighborsRegressor"
   ]
  },
  {
   "cell_type": "code",
   "execution_count": 4,
   "id": "38e5f4f6",
   "metadata": {
    "execution": {
     "iopub.execute_input": "2025-10-03T12:41:55.702899Z",
     "iopub.status.busy": "2025-10-03T12:41:55.702372Z",
     "iopub.status.idle": "2025-10-03T12:41:55.751726Z",
     "shell.execute_reply": "2025-10-03T12:41:55.750572Z"
    },
    "papermill": {
     "duration": 0.056496,
     "end_time": "2025-10-03T12:41:55.753676",
     "exception": false,
     "start_time": "2025-10-03T12:41:55.697180",
     "status": "completed"
    },
    "tags": []
   },
   "outputs": [
    {
     "data": {
      "text/html": [
       "<div>\n",
       "<style scoped>\n",
       "    .dataframe tbody tr th:only-of-type {\n",
       "        vertical-align: middle;\n",
       "    }\n",
       "\n",
       "    .dataframe tbody tr th {\n",
       "        vertical-align: top;\n",
       "    }\n",
       "\n",
       "    .dataframe thead th {\n",
       "        text-align: right;\n",
       "    }\n",
       "</style>\n",
       "<table border=\"1\" class=\"dataframe\">\n",
       "  <thead>\n",
       "    <tr style=\"text-align: right;\">\n",
       "      <th></th>\n",
       "      <th>cellphone_id</th>\n",
       "      <th>brand</th>\n",
       "      <th>model</th>\n",
       "      <th>operating system</th>\n",
       "      <th>internal memory</th>\n",
       "      <th>RAM</th>\n",
       "      <th>performance</th>\n",
       "      <th>main camera</th>\n",
       "      <th>selfie camera</th>\n",
       "      <th>battery size</th>\n",
       "      <th>screen size</th>\n",
       "      <th>weight</th>\n",
       "      <th>price</th>\n",
       "      <th>release date</th>\n",
       "    </tr>\n",
       "  </thead>\n",
       "  <tbody>\n",
       "    <tr>\n",
       "      <th>0</th>\n",
       "      <td>0</td>\n",
       "      <td>Apple</td>\n",
       "      <td>iPhone SE (2022)</td>\n",
       "      <td>iOS</td>\n",
       "      <td>128</td>\n",
       "      <td>4</td>\n",
       "      <td>7.23</td>\n",
       "      <td>12</td>\n",
       "      <td>7</td>\n",
       "      <td>2018</td>\n",
       "      <td>4.7</td>\n",
       "      <td>144</td>\n",
       "      <td>429</td>\n",
       "      <td>18/03/2022</td>\n",
       "    </tr>\n",
       "    <tr>\n",
       "      <th>1</th>\n",
       "      <td>1</td>\n",
       "      <td>Apple</td>\n",
       "      <td>iPhone 13 Mini</td>\n",
       "      <td>iOS</td>\n",
       "      <td>128</td>\n",
       "      <td>4</td>\n",
       "      <td>7.72</td>\n",
       "      <td>12</td>\n",
       "      <td>12</td>\n",
       "      <td>2438</td>\n",
       "      <td>5.4</td>\n",
       "      <td>141</td>\n",
       "      <td>699</td>\n",
       "      <td>24/09/2021</td>\n",
       "    </tr>\n",
       "    <tr>\n",
       "      <th>2</th>\n",
       "      <td>2</td>\n",
       "      <td>Apple</td>\n",
       "      <td>iPhone 13</td>\n",
       "      <td>iOS</td>\n",
       "      <td>128</td>\n",
       "      <td>4</td>\n",
       "      <td>7.75</td>\n",
       "      <td>12</td>\n",
       "      <td>12</td>\n",
       "      <td>3240</td>\n",
       "      <td>6.1</td>\n",
       "      <td>174</td>\n",
       "      <td>699</td>\n",
       "      <td>24/09/2021</td>\n",
       "    </tr>\n",
       "    <tr>\n",
       "      <th>3</th>\n",
       "      <td>3</td>\n",
       "      <td>Apple</td>\n",
       "      <td>iPhone 13 Pro</td>\n",
       "      <td>iOS</td>\n",
       "      <td>256</td>\n",
       "      <td>6</td>\n",
       "      <td>7.94</td>\n",
       "      <td>12</td>\n",
       "      <td>12</td>\n",
       "      <td>3065</td>\n",
       "      <td>6.1</td>\n",
       "      <td>204</td>\n",
       "      <td>999</td>\n",
       "      <td>24/09/2021</td>\n",
       "    </tr>\n",
       "    <tr>\n",
       "      <th>4</th>\n",
       "      <td>4</td>\n",
       "      <td>Apple</td>\n",
       "      <td>iPhone 13 Pro Max</td>\n",
       "      <td>iOS</td>\n",
       "      <td>256</td>\n",
       "      <td>6</td>\n",
       "      <td>8.01</td>\n",
       "      <td>12</td>\n",
       "      <td>12</td>\n",
       "      <td>4352</td>\n",
       "      <td>6.7</td>\n",
       "      <td>240</td>\n",
       "      <td>1199</td>\n",
       "      <td>24/09/2021</td>\n",
       "    </tr>\n",
       "  </tbody>\n",
       "</table>\n",
       "</div>"
      ],
      "text/plain": [
       "   cellphone_id  brand              model operating system  internal memory  \\\n",
       "0             0  Apple   iPhone SE (2022)              iOS              128   \n",
       "1             1  Apple     iPhone 13 Mini              iOS              128   \n",
       "2             2  Apple          iPhone 13              iOS              128   \n",
       "3             3  Apple      iPhone 13 Pro              iOS              256   \n",
       "4             4  Apple  iPhone 13 Pro Max              iOS              256   \n",
       "\n",
       "   RAM  performance  main camera  selfie camera  battery size  screen size  \\\n",
       "0    4         7.23           12              7          2018          4.7   \n",
       "1    4         7.72           12             12          2438          5.4   \n",
       "2    4         7.75           12             12          3240          6.1   \n",
       "3    6         7.94           12             12          3065          6.1   \n",
       "4    6         8.01           12             12          4352          6.7   \n",
       "\n",
       "   weight  price release date  \n",
       "0     144    429   18/03/2022  \n",
       "1     141    699   24/09/2021  \n",
       "2     174    699   24/09/2021  \n",
       "3     204    999   24/09/2021  \n",
       "4     240   1199   24/09/2021  "
      ]
     },
     "execution_count": 4,
     "metadata": {},
     "output_type": "execute_result"
    }
   ],
   "source": [
    "df = pd.read_csv('/kaggle/input/cellphones-recommendations/cellphones data.csv')\n",
    "df.head()"
   ]
  },
  {
   "cell_type": "code",
   "execution_count": 5,
   "id": "be9bcb90",
   "metadata": {
    "execution": {
     "iopub.execute_input": "2025-10-03T12:41:55.763529Z",
     "iopub.status.busy": "2025-10-03T12:41:55.763156Z",
     "iopub.status.idle": "2025-10-03T12:41:55.770828Z",
     "shell.execute_reply": "2025-10-03T12:41:55.769804Z"
    },
    "papermill": {
     "duration": 0.014508,
     "end_time": "2025-10-03T12:41:55.772695",
     "exception": false,
     "start_time": "2025-10-03T12:41:55.758187",
     "status": "completed"
    },
    "tags": []
   },
   "outputs": [
    {
     "data": {
      "text/plain": [
       "Index(['cellphone_id', 'brand', 'model', 'operating system', 'internal memory',\n",
       "       'RAM', 'performance', 'main camera', 'selfie camera', 'battery size',\n",
       "       'screen size', 'weight', 'price', 'release date'],\n",
       "      dtype='object')"
      ]
     },
     "execution_count": 5,
     "metadata": {},
     "output_type": "execute_result"
    }
   ],
   "source": [
    "df.columns"
   ]
  },
  {
   "cell_type": "code",
   "execution_count": 6,
   "id": "f2d2e32d",
   "metadata": {
    "execution": {
     "iopub.execute_input": "2025-10-03T12:41:55.782069Z",
     "iopub.status.busy": "2025-10-03T12:41:55.781753Z",
     "iopub.status.idle": "2025-10-03T12:41:55.806207Z",
     "shell.execute_reply": "2025-10-03T12:41:55.805085Z"
    },
    "papermill": {
     "duration": 0.031177,
     "end_time": "2025-10-03T12:41:55.808043",
     "exception": false,
     "start_time": "2025-10-03T12:41:55.776866",
     "status": "completed"
    },
    "tags": []
   },
   "outputs": [
    {
     "name": "stdout",
     "output_type": "stream",
     "text": [
      "<class 'pandas.core.frame.DataFrame'>\n",
      "RangeIndex: 33 entries, 0 to 32\n",
      "Data columns (total 14 columns):\n",
      " #   Column            Non-Null Count  Dtype  \n",
      "---  ------            --------------  -----  \n",
      " 0   cellphone_id      33 non-null     int64  \n",
      " 1   brand             33 non-null     object \n",
      " 2   model             33 non-null     object \n",
      " 3   operating system  33 non-null     object \n",
      " 4   internal memory   33 non-null     int64  \n",
      " 5   RAM               33 non-null     int64  \n",
      " 6   performance       33 non-null     float64\n",
      " 7   main camera       33 non-null     int64  \n",
      " 8   selfie camera     33 non-null     int64  \n",
      " 9   battery size      33 non-null     int64  \n",
      " 10  screen size       33 non-null     float64\n",
      " 11  weight            33 non-null     int64  \n",
      " 12  price             33 non-null     int64  \n",
      " 13  release date      33 non-null     object \n",
      "dtypes: float64(2), int64(8), object(4)\n",
      "memory usage: 3.7+ KB\n",
      "None\n"
     ]
    }
   ],
   "source": [
    "print(df.info())"
   ]
  },
  {
   "cell_type": "code",
   "execution_count": 7,
   "id": "4f7965bf",
   "metadata": {
    "execution": {
     "iopub.execute_input": "2025-10-03T12:41:55.818001Z",
     "iopub.status.busy": "2025-10-03T12:41:55.817704Z",
     "iopub.status.idle": "2025-10-03T12:41:55.824575Z",
     "shell.execute_reply": "2025-10-03T12:41:55.823383Z"
    },
    "papermill": {
     "duration": 0.013662,
     "end_time": "2025-10-03T12:41:55.826458",
     "exception": false,
     "start_time": "2025-10-03T12:41:55.812796",
     "status": "completed"
    },
    "tags": []
   },
   "outputs": [
    {
     "name": "stdout",
     "output_type": "stream",
     "text": [
      "cellphone_id        0\n",
      "brand               0\n",
      "model               0\n",
      "operating system    0\n",
      "internal memory     0\n",
      "RAM                 0\n",
      "performance         0\n",
      "main camera         0\n",
      "selfie camera       0\n",
      "battery size        0\n",
      "screen size         0\n",
      "weight              0\n",
      "price               0\n",
      "release date        0\n",
      "dtype: int64\n"
     ]
    }
   ],
   "source": [
    "print(df.isnull().sum())"
   ]
  },
  {
   "cell_type": "code",
   "execution_count": 8,
   "id": "ae52a942",
   "metadata": {
    "execution": {
     "iopub.execute_input": "2025-10-03T12:41:55.836046Z",
     "iopub.status.busy": "2025-10-03T12:41:55.835708Z",
     "iopub.status.idle": "2025-10-03T12:41:55.872238Z",
     "shell.execute_reply": "2025-10-03T12:41:55.871214Z"
    },
    "papermill": {
     "duration": 0.043463,
     "end_time": "2025-10-03T12:41:55.874193",
     "exception": false,
     "start_time": "2025-10-03T12:41:55.830730",
     "status": "completed"
    },
    "tags": []
   },
   "outputs": [
    {
     "name": "stdout",
     "output_type": "stream",
     "text": [
      "       cellphone_id  internal memory        RAM  performance  main camera  \\\n",
      "count      33.00000        33.000000  33.000000    33.000000    33.000000   \n",
      "mean       16.00000       148.363636   6.787879     6.219091    41.333333   \n",
      "std         9.66954        92.197417   2.712904     2.885472    26.350601   \n",
      "min         0.00000        32.000000   3.000000     1.020000    12.000000   \n",
      "25%         8.00000       128.000000   4.000000     3.800000    12.000000   \n",
      "50%        16.00000       128.000000   8.000000     6.880000    50.000000   \n",
      "75%        24.00000       128.000000   8.000000     7.940000    50.000000   \n",
      "max        32.00000       512.000000  12.000000    11.000000   108.000000   \n",
      "\n",
      "       selfie camera  battery size  screen size      weight        price  \n",
      "count      33.000000     33.000000    33.000000   33.000000    33.000000  \n",
      "mean       15.484848   4320.666667     6.433333  197.363636   628.272727  \n",
      "std        10.028463    818.746590     0.476095   25.379394   433.873057  \n",
      "min         4.000000   2018.000000     4.700000  141.000000   129.000000  \n",
      "25%         8.000000   4000.000000     6.400000  183.000000   312.000000  \n",
      "50%        12.000000   4500.000000     6.500000  201.000000   528.000000  \n",
      "75%        16.000000   5000.000000     6.700000  207.000000   840.000000  \n",
      "max        40.000000   5003.000000     7.600000  271.000000  1998.000000  \n"
     ]
    }
   ],
   "source": [
    "# Basic statistics for numeric columns\n",
    "print(df.describe())"
   ]
  },
  {
   "cell_type": "code",
   "execution_count": 9,
   "id": "7b227207",
   "metadata": {
    "execution": {
     "iopub.execute_input": "2025-10-03T12:41:55.884519Z",
     "iopub.status.busy": "2025-10-03T12:41:55.884168Z",
     "iopub.status.idle": "2025-10-03T12:41:56.315603Z",
     "shell.execute_reply": "2025-10-03T12:41:56.314626Z"
    },
    "papermill": {
     "duration": 0.438575,
     "end_time": "2025-10-03T12:41:56.317225",
     "exception": false,
     "start_time": "2025-10-03T12:41:55.878650",
     "status": "completed"
    },
    "tags": []
   },
   "outputs": [
    {
     "data": {
      "image/png": "[encoded data removed]",
      "text/plain": [
       "<Figure size 800x400 with 1 Axes>"
      ]
     },
     "metadata": {},
     "output_type": "display_data"
    }
   ],
   "source": [
    "# Visualize price distribution\n",
    "plt.figure(figsize=(8,4))\n",
    "sns.histplot(df['price'], bins=30, kde=True)\n",
    "plt.title('Price Distribution')\n",
    "plt.show()"
   ]
  },
  {
   "cell_type": "code",
   "execution_count": 10,
   "id": "86de60c3",
   "metadata": {
    "execution": {
     "iopub.execute_input": "2025-10-03T12:41:56.328331Z",
     "iopub.status.busy": "2025-10-03T12:41:56.328025Z",
     "iopub.status.idle": "2025-10-03T12:41:56.551792Z",
     "shell.execute_reply": "2025-10-03T12:41:56.550790Z"
    },
    "papermill": {
     "duration": 0.231269,
     "end_time": "2025-10-03T12:41:56.553286",
     "exception": false,
     "start_time": "2025-10-03T12:41:56.322017",
     "status": "completed"
    },
    "tags": []
   },
   "outputs": [
    {
     "data": {
      "image/png": "[encoded data removed]",
      "text/plain": [
       "<Figure size 1000x500 with 1 Axes>"
      ]
     },
     "metadata": {},
     "output_type": "display_data"
    }
   ],
   "source": [
    "# Visualize count of brands\n",
    "plt.figure(figsize=(10,5))\n",
    "sns.countplot(data=df, x='brand', order=df['brand'].value_counts().index)\n",
    "plt.title('Count of Cellphones by Brand')\n",
    "plt.xticks(rotation=45)\n",
    "plt.show()"
   ]
  },
  {
   "cell_type": "code",
   "execution_count": 11,
   "id": "93a4c9ff",
   "metadata": {
    "execution": {
     "iopub.execute_input": "2025-10-03T12:41:56.566240Z",
     "iopub.status.busy": "2025-10-03T12:41:56.565934Z",
     "iopub.status.idle": "2025-10-03T12:41:56.583795Z",
     "shell.execute_reply": "2025-10-03T12:41:56.582709Z"
    },
    "papermill": {
     "duration": 0.026149,
     "end_time": "2025-10-03T12:41:56.585744",
     "exception": false,
     "start_time": "2025-10-03T12:41:56.559595",
     "status": "completed"
    },
    "tags": []
   },
   "outputs": [],
   "source": [
    "from sklearn.preprocessing import LabelEncoder\n",
    "\n",
    "# Label encode categorical columns (brand, model, operating system)\n",
    "for col in ['brand', 'model', 'operating system']:\n",
    "    le = LabelEncoder()\n",
    "    df[col] = le.fit_transform(df[col])\n",
    "\n",
    "# Select only numeric columns for median calculation and fillna\n",
    "numeric_cols = df.select_dtypes(include=['number']).columns\n",
    "df[numeric_cols] = df[numeric_cols].fillna(df[numeric_cols].median())"
   ]
  },
  {
   "cell_type": "code",
   "execution_count": 12,
   "id": "de5e3b2c",
   "metadata": {
    "execution": {
     "iopub.execute_input": "2025-10-03T12:41:56.598112Z",
     "iopub.status.busy": "2025-10-03T12:41:56.597186Z",
     "iopub.status.idle": "2025-10-03T12:41:56.604542Z",
     "shell.execute_reply": "2025-10-03T12:41:56.603540Z"
    },
    "papermill": {
     "duration": 0.01514,
     "end_time": "2025-10-03T12:41:56.606173",
     "exception": false,
     "start_time": "2025-10-03T12:41:56.591033",
     "status": "completed"
    },
    "tags": []
   },
   "outputs": [],
   "source": [
    "# Prepare features and target\n",
    "X = df.drop(['cellphone_id', 'price', 'release date'], axis=1)  # features\n",
    "y = df['price']  # target"
   ]
  },
  {
   "cell_type": "code",
   "execution_count": 13,
   "id": "f9e5d681",
   "metadata": {
    "execution": {
     "iopub.execute_input": "2025-10-03T12:41:56.618937Z",
     "iopub.status.busy": "2025-10-03T12:41:56.618575Z",
     "iopub.status.idle": "2025-10-03T12:41:56.627133Z",
     "shell.execute_reply": "2025-10-03T12:41:56.626172Z"
    },
    "papermill": {
     "duration": 0.016608,
     "end_time": "2025-10-03T12:41:56.628798",
     "exception": false,
     "start_time": "2025-10-03T12:41:56.612190",
     "status": "completed"
    },
    "tags": []
   },
   "outputs": [],
   "source": [
    "# Split into train-test sets (80% train, 20% test)\n",
    "X_train, X_test, y_train, y_test = train_test_split(X, y, test_size=0.2, random_state=42)"
   ]
  },
  {
   "cell_type": "code",
   "execution_count": 14,
   "id": "cb8fb129",
   "metadata": {
    "execution": {
     "iopub.execute_input": "2025-10-03T12:41:56.641160Z",
     "iopub.status.busy": "2025-10-03T12:41:56.640204Z",
     "iopub.status.idle": "2025-10-03T12:41:56.853520Z",
     "shell.execute_reply": "2025-10-03T12:41:56.852557Z"
    },
    "papermill": {
     "duration": 0.221761,
     "end_time": "2025-10-03T12:41:56.855837",
     "exception": false,
     "start_time": "2025-10-03T12:41:56.634076",
     "status": "completed"
    },
    "tags": []
   },
   "outputs": [
    {
     "name": "stdout",
     "output_type": "stream",
     "text": [
      "Linear Regression RMSE: 153.10\n",
      "Random Forest RMSE: 173.27\n",
      "Gradient Boosting RMSE: 139.51\n",
      "Support Vector Regression RMSE: 293.78\n",
      "K-Nearest Neighbors RMSE: 356.93\n"
     ]
    }
   ],
   "source": [
    "# Define 5 ML regression models\n",
    "models = {\n",
    "    'Linear Regression': LinearRegression(),\n",
    "    'Random Forest': RandomForestRegressor(random_state=42),\n",
    "    'Gradient Boosting': GradientBoostingRegressor(random_state=42),\n",
    "    'Support Vector Regression': SVR(),\n",
    "    'K-Nearest Neighbors': KNeighborsRegressor()\n",
    "}\n",
    "\n",
    "# Train, predict and evaluate models\n",
    "results = {}\n",
    "for name, model in models.items():\n",
    "    model.fit(X_train, y_train)\n",
    "    preds = model.predict(X_test)\n",
    "    rmse = mean_squared_error(y_test, preds, squared=False)\n",
    "    results[name] = rmse\n",
    "    print(f'{name} RMSE: {rmse:.2f}')"
   ]
  },
  {
   "cell_type": "code",
   "execution_count": 15,
   "id": "417ce4b6",
   "metadata": {
    "execution": {
     "iopub.execute_input": "2025-10-03T12:41:56.869489Z",
     "iopub.status.busy": "2025-10-03T12:41:56.868388Z",
     "iopub.status.idle": "2025-10-03T12:41:57.097105Z",
     "shell.execute_reply": "2025-10-03T12:41:57.095750Z"
    },
    "papermill": {
     "duration": 0.2377,
     "end_time": "2025-10-03T12:41:57.099376",
     "exception": false,
     "start_time": "2025-10-03T12:41:56.861676",
     "status": "completed"
    },
    "tags": []
   },
   "outputs": [
    {
     "data": {
      "image/png": "[encoded data removed]",
      "text/plain": [
       "<Figure size 800x500 with 1 Axes>"
      ]
     },
     "metadata": {},
     "output_type": "display_data"
    }
   ],
   "source": [
    "# Visualize model performance (lower RMSE is better)\n",
    "plt.figure(figsize=(8,5))\n",
    "sns.barplot(x=list(results.keys()), y=list(results.values()))\n",
    "plt.ylabel('RMSE')\n",
    "plt.title('Model RMSE Comparison')\n",
    "plt.xticks(rotation=45)\n",
    "plt.show()"
   ]
  }
 ],
 "metadata": {
  "kaggle": {
   "accelerator": "none",
   "dataSources": [
    {
     "datasetId": 2632102,
     "sourceId": 4502299,
     "sourceType": "datasetVersion"
    }
   ],
   "dockerImageVersionId": 31089,
   "isGpuEnabled": false,
   "isInternetEnabled": true,
   "language": "python",
   "sourceType": "notebook"
  },
  "kernelspec": {
   "display_name": "Python 3",
   "language": "python",
   "name": "python3"
  },
  "language_info": {
   "codemirror_mode": {
    "name": "ipython",
    "version": 3
   },
   "file_extension": ".py",
   "mimetype": "text/x-python",
   "name": "python",
   "nbconvert_exporter": "python",
   "pygments_lexer": "ipython3",
   "version": "3.11.13"
  },
  "papermill": {
   "default_parameters": {},
   "duration": 13.990921,
   "end_time": "2025-10-03T12:41:57.826057",
   "environment_variables": {},
   "exception": null,
   "input_path": "__notebook__.ipynb",
   "output_path": "__notebook__.ipynb",
   "parameters": {},
   "start_time": "2025-10-03T12:41:43.835136",
   "version": "2.6.0"
  }
 },
 "nbformat": 4,
 "nbformat_minor": 5
}
