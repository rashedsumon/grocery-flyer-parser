{
 "cells": [
  {
   "cell_type": "code",
   "execution_count": 1,
   "id": "de5ec0f0",
   "metadata": {
    "_cell_guid": "b1076dfc-b9ad-4769-8c92-a6c4dae69d19",
    "_uuid": "8f2839f25d086af736a60e9eeb907d3b93b6e0e5",
    "execution": {
     "iopub.execute_input": "2025-10-03T13:46:35.128970Z",
     "iopub.status.busy": "2025-10-03T13:46:35.127568Z",
     "iopub.status.idle": "2025-10-03T13:46:37.117302Z",
     "shell.execute_reply": "2025-10-03T13:46:37.116354Z"
    },
    "papermill": {
     "duration": 1.996513,
     "end_time": "2025-10-03T13:46:37.119097",
     "exception": false,
     "start_time": "2025-10-03T13:46:35.122584",
     "status": "completed"
    },
    "tags": []
   },
   "outputs": [
    {
     "name": "stdout",
     "output_type": "stream",
     "text": [
      "/kaggle/input/cryptocurrency-blockchain-and-stock-market-qa/text_corpus.jsonl\n",
      "/kaggle/input/cryptocurrency-blockchain-and-stock-market-qa/KnowledgeBase Pdf Files - Crypto Currencies.csv\n",
      "/kaggle/input/cryptocurrency-blockchain-and-stock-market-qa/train.csv\n"
     ]
    }
   ],
   "source": [
    "# This Python 3 environment comes with many helpful analytics libraries installed\n",
    "# It is defined by the kaggle/python Docker image: https://github.com/kaggle/docker-python\n",
    "# For example, here's several helpful packages to load\n",
    "\n",
    "import numpy as np # linear algebra\n",
    "import pandas as pd # data processing, CSV file I/O (e.g. pd.read_csv)\n",
    "\n",
    "# Input data files are available in the read-only \"../input/\" directory\n",
    "# For example, running this (by clicking run or pressing Shift+Enter) will list all files under the input directory\n",
    "\n",
    "import os\n",
    "for dirname, _, filenames in os.walk('/kaggle/input'):\n",
    "    for filename in filenames:\n",
    "        print(os.path.join(dirname, filename))\n",
    "\n",
    "# You can write up to 20GB to the current directory (/kaggle/working/) that gets preserved as output when you create a version using \"Save & Run All\" \n",
    "# You can also write temporary files to /kaggle/temp/, but they won't be saved outside of the current session"
   ]
  },
  {
   "cell_type": "code",
   "execution_count": 2,
   "id": "62cb4e7e",
   "metadata": {
    "execution": {
     "iopub.execute_input": "2025-10-03T13:46:37.127436Z",
     "iopub.status.busy": "2025-10-03T13:46:37.126952Z",
     "iopub.status.idle": "2025-10-03T13:46:37.131650Z",
     "shell.execute_reply": "2025-10-03T13:46:37.130789Z"
    },
    "papermill": {
     "duration": 0.010555,
     "end_time": "2025-10-03T13:46:37.133305",
     "exception": false,
     "start_time": "2025-10-03T13:46:37.122750",
     "status": "completed"
    },
    "tags": []
   },
   "outputs": [],
   "source": [
    "import warnings\n",
    "warnings.filterwarnings(\"ignore\")"
   ]
  },
  {
   "cell_type": "code",
   "execution_count": 3,
   "id": "f83cd0df",
   "metadata": {
    "execution": {
     "iopub.execute_input": "2025-10-03T13:46:37.140875Z",
     "iopub.status.busy": "2025-10-03T13:46:37.140524Z",
     "iopub.status.idle": "2025-10-03T13:46:39.065631Z",
     "shell.execute_reply": "2025-10-03T13:46:39.064794Z"
    },
    "papermill": {
     "duration": 1.930859,
     "end_time": "2025-10-03T13:46:39.067403",
     "exception": false,
     "start_time": "2025-10-03T13:46:37.136544",
     "status": "completed"
    },
    "tags": []
   },
   "outputs": [],
   "source": [
    "import pandas as pd\n",
    "import matplotlib.pyplot as plt\n",
    "import seaborn as sns"
   ]
  },
  {
   "cell_type": "code",
   "execution_count": 4,
   "id": "fafc4c96",
   "metadata": {
    "execution": {
     "iopub.execute_input": "2025-10-03T13:46:39.075297Z",
     "iopub.status.busy": "2025-10-03T13:46:39.074844Z",
     "iopub.status.idle": "2025-10-03T13:46:39.130327Z",
     "shell.execute_reply": "2025-10-03T13:46:39.129330Z"
    },
    "papermill": {
     "duration": 0.061127,
     "end_time": "2025-10-03T13:46:39.131893",
     "exception": false,
     "start_time": "2025-10-03T13:46:39.070766",
     "status": "completed"
    },
    "tags": []
   },
   "outputs": [
    {
     "data": {
      "text/html": [
       "<div>\n",
       "<style scoped>\n",
       "    .dataframe tbody tr th:only-of-type {\n",
       "        vertical-align: middle;\n",
       "    }\n",
       "\n",
       "    .dataframe tbody tr th {\n",
       "        vertical-align: top;\n",
       "    }\n",
       "\n",
       "    .dataframe thead th {\n",
       "        text-align: right;\n",
       "    }\n",
       "</style>\n",
       "<table border=\"1\" class=\"dataframe\">\n",
       "  <thead>\n",
       "    <tr style=\"text-align: right;\">\n",
       "      <th></th>\n",
       "      <th>Unnamed: 0</th>\n",
       "      <th>question</th>\n",
       "      <th>answer</th>\n",
       "      <th>text</th>\n",
       "    </tr>\n",
       "  </thead>\n",
       "  <tbody>\n",
       "    <tr>\n",
       "      <th>0</th>\n",
       "      <td>0</td>\n",
       "      <td>What significant challenges does the rapid exp...</td>\n",
       "      <td>Balancing scalability and security, computatio...</td>\n",
       "      <td>###Human:\\nAnswer this question in the context...</td>\n",
       "    </tr>\n",
       "    <tr>\n",
       "      <th>1</th>\n",
       "      <td>1</td>\n",
       "      <td>How does the proposed framework address the in...</td>\n",
       "      <td>By employing edge aggregating servers and Ethe...</td>\n",
       "      <td>###Human:\\nAnswer this question in the context...</td>\n",
       "    </tr>\n",
       "    <tr>\n",
       "      <th>2</th>\n",
       "      <td>2</td>\n",
       "      <td>What are the primary benefits of using blockch...</td>\n",
       "      <td>Data integrity, device authentication, and pro...</td>\n",
       "      <td>###Human:\\nAnswer this question in the context...</td>\n",
       "    </tr>\n",
       "    <tr>\n",
       "      <th>3</th>\n",
       "      <td>3</td>\n",
       "      <td>Why are traditional blockchain-based solutions...</td>\n",
       "      <td>Due to scalability, cost issues, and computati...</td>\n",
       "      <td>###Human:\\nAnswer this question in the context...</td>\n",
       "    </tr>\n",
       "    <tr>\n",
       "      <th>4</th>\n",
       "      <td>4</td>\n",
       "      <td>How does the proposed framework ensure data pr...</td>\n",
       "      <td>Through the use of Zero-Knowledge Proofs (ZKPs...</td>\n",
       "      <td>###Human:\\nAnswer this question in the context...</td>\n",
       "    </tr>\n",
       "  </tbody>\n",
       "</table>\n",
       "</div>"
      ],
      "text/plain": [
       "   Unnamed: 0                                           question  \\\n",
       "0           0  What significant challenges does the rapid exp...   \n",
       "1           1  How does the proposed framework address the in...   \n",
       "2           2  What are the primary benefits of using blockch...   \n",
       "3           3  Why are traditional blockchain-based solutions...   \n",
       "4           4  How does the proposed framework ensure data pr...   \n",
       "\n",
       "                                              answer  \\\n",
       "0  Balancing scalability and security, computatio...   \n",
       "1  By employing edge aggregating servers and Ethe...   \n",
       "2  Data integrity, device authentication, and pro...   \n",
       "3  Due to scalability, cost issues, and computati...   \n",
       "4  Through the use of Zero-Knowledge Proofs (ZKPs...   \n",
       "\n",
       "                                                text  \n",
       "0  ###Human:\\nAnswer this question in the context...  \n",
       "1  ###Human:\\nAnswer this question in the context...  \n",
       "2  ###Human:\\nAnswer this question in the context...  \n",
       "3  ###Human:\\nAnswer this question in the context...  \n",
       "4  ###Human:\\nAnswer this question in the context...  "
      ]
     },
     "execution_count": 4,
     "metadata": {},
     "output_type": "execute_result"
    }
   ],
   "source": [
    "df = pd.read_csv('/kaggle/input/cryptocurrency-blockchain-and-stock-market-qa/train.csv')\n",
    "df.head()"
   ]
  },
  {
   "cell_type": "code",
   "execution_count": 5,
   "id": "16a05b17",
   "metadata": {
    "execution": {
     "iopub.execute_input": "2025-10-03T13:46:39.140011Z",
     "iopub.status.busy": "2025-10-03T13:46:39.139666Z",
     "iopub.status.idle": "2025-10-03T13:46:39.146672Z",
     "shell.execute_reply": "2025-10-03T13:46:39.145923Z"
    },
    "papermill": {
     "duration": 0.012904,
     "end_time": "2025-10-03T13:46:39.148366",
     "exception": false,
     "start_time": "2025-10-03T13:46:39.135462",
     "status": "completed"
    },
    "tags": []
   },
   "outputs": [
    {
     "data": {
      "text/plain": [
       "Index(['Unnamed: 0', 'question', 'answer', 'text'], dtype='object')"
      ]
     },
     "execution_count": 5,
     "metadata": {},
     "output_type": "execute_result"
    }
   ],
   "source": [
    "df.columns"
   ]
  },
  {
   "cell_type": "code",
   "execution_count": 6,
   "id": "44684605",
   "metadata": {
    "execution": {
     "iopub.execute_input": "2025-10-03T13:46:39.156656Z",
     "iopub.status.busy": "2025-10-03T13:46:39.156324Z",
     "iopub.status.idle": "2025-10-03T13:46:39.179625Z",
     "shell.execute_reply": "2025-10-03T13:46:39.178580Z"
    },
    "papermill": {
     "duration": 0.029137,
     "end_time": "2025-10-03T13:46:39.181073",
     "exception": false,
     "start_time": "2025-10-03T13:46:39.151936",
     "status": "completed"
    },
    "tags": []
   },
   "outputs": [
    {
     "name": "stdout",
     "output_type": "stream",
     "text": [
      "<class 'pandas.core.frame.DataFrame'>\n",
      "RangeIndex: 804 entries, 0 to 803\n",
      "Data columns (total 4 columns):\n",
      " #   Column      Non-Null Count  Dtype \n",
      "---  ------      --------------  ----- \n",
      " 0   Unnamed: 0  804 non-null    int64 \n",
      " 1   question    804 non-null    object\n",
      " 2   answer      804 non-null    object\n",
      " 3   text        804 non-null    object\n",
      "dtypes: int64(1), object(3)\n",
      "memory usage: 25.3+ KB\n"
     ]
    }
   ],
   "source": [
    "df.info()"
   ]
  },
  {
   "cell_type": "code",
   "execution_count": 7,
   "id": "d1b36bc4",
   "metadata": {
    "execution": {
     "iopub.execute_input": "2025-10-03T13:46:39.189643Z",
     "iopub.status.busy": "2025-10-03T13:46:39.189322Z",
     "iopub.status.idle": "2025-10-03T13:46:39.203683Z",
     "shell.execute_reply": "2025-10-03T13:46:39.202803Z"
    },
    "papermill": {
     "duration": 0.020607,
     "end_time": "2025-10-03T13:46:39.205349",
     "exception": false,
     "start_time": "2025-10-03T13:46:39.184742",
     "status": "completed"
    },
    "tags": []
   },
   "outputs": [
    {
     "data": {
      "text/html": [
       "<div>\n",
       "<style scoped>\n",
       "    .dataframe tbody tr th:only-of-type {\n",
       "        vertical-align: middle;\n",
       "    }\n",
       "\n",
       "    .dataframe tbody tr th {\n",
       "        vertical-align: top;\n",
       "    }\n",
       "\n",
       "    .dataframe thead th {\n",
       "        text-align: right;\n",
       "    }\n",
       "</style>\n",
       "<table border=\"1\" class=\"dataframe\">\n",
       "  <thead>\n",
       "    <tr style=\"text-align: right;\">\n",
       "      <th></th>\n",
       "      <th>question</th>\n",
       "      <th>answer</th>\n",
       "      <th>text</th>\n",
       "    </tr>\n",
       "  </thead>\n",
       "  <tbody>\n",
       "    <tr>\n",
       "      <th>0</th>\n",
       "      <td>What significant challenges does the rapid exp...</td>\n",
       "      <td>Balancing scalability and security, computatio...</td>\n",
       "      <td>###Human:\\nAnswer this question in the context...</td>\n",
       "    </tr>\n",
       "    <tr>\n",
       "      <th>1</th>\n",
       "      <td>How does the proposed framework address the in...</td>\n",
       "      <td>By employing edge aggregating servers and Ethe...</td>\n",
       "      <td>###Human:\\nAnswer this question in the context...</td>\n",
       "    </tr>\n",
       "    <tr>\n",
       "      <th>2</th>\n",
       "      <td>What are the primary benefits of using blockch...</td>\n",
       "      <td>Data integrity, device authentication, and pro...</td>\n",
       "      <td>###Human:\\nAnswer this question in the context...</td>\n",
       "    </tr>\n",
       "    <tr>\n",
       "      <th>3</th>\n",
       "      <td>Why are traditional blockchain-based solutions...</td>\n",
       "      <td>Due to scalability, cost issues, and computati...</td>\n",
       "      <td>###Human:\\nAnswer this question in the context...</td>\n",
       "    </tr>\n",
       "    <tr>\n",
       "      <th>4</th>\n",
       "      <td>How does the proposed framework ensure data pr...</td>\n",
       "      <td>Through the use of Zero-Knowledge Proofs (ZKPs...</td>\n",
       "      <td>###Human:\\nAnswer this question in the context...</td>\n",
       "    </tr>\n",
       "  </tbody>\n",
       "</table>\n",
       "</div>"
      ],
      "text/plain": [
       "                                            question  \\\n",
       "0  What significant challenges does the rapid exp...   \n",
       "1  How does the proposed framework address the in...   \n",
       "2  What are the primary benefits of using blockch...   \n",
       "3  Why are traditional blockchain-based solutions...   \n",
       "4  How does the proposed framework ensure data pr...   \n",
       "\n",
       "                                              answer  \\\n",
       "0  Balancing scalability and security, computatio...   \n",
       "1  By employing edge aggregating servers and Ethe...   \n",
       "2  Data integrity, device authentication, and pro...   \n",
       "3  Due to scalability, cost issues, and computati...   \n",
       "4  Through the use of Zero-Knowledge Proofs (ZKPs...   \n",
       "\n",
       "                                                text  \n",
       "0  ###Human:\\nAnswer this question in the context...  \n",
       "1  ###Human:\\nAnswer this question in the context...  \n",
       "2  ###Human:\\nAnswer this question in the context...  \n",
       "3  ###Human:\\nAnswer this question in the context...  \n",
       "4  ###Human:\\nAnswer this question in the context...  "
      ]
     },
     "execution_count": 7,
     "metadata": {},
     "output_type": "execute_result"
    }
   ],
   "source": [
    "df.drop(columns=['Unnamed: 0'], inplace=True)\n",
    "df.dropna(inplace=True)\n",
    "df.head()"
   ]
  },
  {
   "cell_type": "code",
   "execution_count": 8,
   "id": "cd49bed5",
   "metadata": {
    "execution": {
     "iopub.execute_input": "2025-10-03T13:46:39.214139Z",
     "iopub.status.busy": "2025-10-03T13:46:39.213810Z",
     "iopub.status.idle": "2025-10-03T13:46:39.842328Z",
     "shell.execute_reply": "2025-10-03T13:46:39.841296Z"
    },
    "papermill": {
     "duration": 0.635034,
     "end_time": "2025-10-03T13:46:39.844233",
     "exception": false,
     "start_time": "2025-10-03T13:46:39.209199",
     "status": "completed"
    },
    "tags": []
   },
   "outputs": [
    {
     "data": {
      "image/png": "[encoded data removed]",
      "text/plain": [
       "<Figure size 1200x500 with 1 Axes>"
      ]
     },
     "metadata": {},
     "output_type": "display_data"
    }
   ],
   "source": [
    "# Length of questions and answers\n",
    "df['question_len'] = df['question'].apply(len)\n",
    "df['answer_len'] = df['answer'].apply(len)\n",
    "\n",
    "plt.figure(figsize=(12,5))\n",
    "sns.histplot(df['question_len'], color='blue', label='Question Length', kde=True)\n",
    "sns.histplot(df['answer_len'], color='green', label='Answer Length', kde=True)\n",
    "plt.legend(); plt.title(\"Length Distribution\"); plt.show()"
   ]
  },
  {
   "cell_type": "code",
   "execution_count": 9,
   "id": "0bbb7893",
   "metadata": {
    "execution": {
     "iopub.execute_input": "2025-10-03T13:46:39.854232Z",
     "iopub.status.busy": "2025-10-03T13:46:39.853906Z",
     "iopub.status.idle": "2025-10-03T13:46:40.164855Z",
     "shell.execute_reply": "2025-10-03T13:46:40.163947Z"
    },
    "papermill": {
     "duration": 0.318198,
     "end_time": "2025-10-03T13:46:40.166880",
     "exception": false,
     "start_time": "2025-10-03T13:46:39.848682",
     "status": "completed"
    },
    "tags": []
   },
   "outputs": [],
   "source": [
    "from sklearn.model_selection import train_test_split\n",
    "from sklearn.feature_extraction.text import TfidfVectorizer\n",
    "\n",
    "# Combine text + question for better prediction\n",
    "df['combined'] = df['text'] + \" \" + df['question']"
   ]
  },
  {
   "cell_type": "code",
   "execution_count": 10,
   "id": "05240a09",
   "metadata": {
    "execution": {
     "iopub.execute_input": "2025-10-03T13:46:40.178192Z",
     "iopub.status.busy": "2025-10-03T13:46:40.177883Z",
     "iopub.status.idle": "2025-10-03T13:46:40.186076Z",
     "shell.execute_reply": "2025-10-03T13:46:40.185094Z"
    },
    "papermill": {
     "duration": 0.015809,
     "end_time": "2025-10-03T13:46:40.187831",
     "exception": false,
     "start_time": "2025-10-03T13:46:40.172022",
     "status": "completed"
    },
    "tags": []
   },
   "outputs": [],
   "source": [
    "# Split data\n",
    "X_train, X_test, y_train, y_test = train_test_split(df['combined'], df['answer'], test_size=0.2, random_state=42)"
   ]
  },
  {
   "cell_type": "code",
   "execution_count": 11,
   "id": "64256d72",
   "metadata": {
    "execution": {
     "iopub.execute_input": "2025-10-03T13:46:40.198797Z",
     "iopub.status.busy": "2025-10-03T13:46:40.198447Z",
     "iopub.status.idle": "2025-10-03T13:46:40.251722Z",
     "shell.execute_reply": "2025-10-03T13:46:40.250961Z"
    },
    "papermill": {
     "duration": 0.060745,
     "end_time": "2025-10-03T13:46:40.253786",
     "exception": false,
     "start_time": "2025-10-03T13:46:40.193041",
     "status": "completed"
    },
    "tags": []
   },
   "outputs": [],
   "source": [
    "# Convert text to vectors\n",
    "tfidf = TfidfVectorizer(max_features=5000)\n",
    "X_train_vec = tfidf.fit_transform(X_train)\n",
    "X_test_vec = tfidf.transform(X_test)"
   ]
  },
  {
   "cell_type": "code",
   "execution_count": 12,
   "id": "55d29084",
   "metadata": {
    "execution": {
     "iopub.execute_input": "2025-10-03T13:46:40.264834Z",
     "iopub.status.busy": "2025-10-03T13:46:40.264476Z",
     "iopub.status.idle": "2025-10-03T13:46:42.870200Z",
     "shell.execute_reply": "2025-10-03T13:46:42.869449Z"
    },
    "papermill": {
     "duration": 2.6124,
     "end_time": "2025-10-03T13:46:42.871571",
     "exception": false,
     "start_time": "2025-10-03T13:46:40.259171",
     "status": "completed"
    },
    "tags": []
   },
   "outputs": [
    {
     "data": {
      "text/html": [
       "<style>#sk-container-id-1 {color: black;background-color: white;}#sk-container-id-1 pre{padding: 0;}#sk-container-id-1 div.sk-toggleable {background-color: white;}#sk-container-id-1 label.sk-toggleable__label {cursor: pointer;display: block;width: 100%;margin-bottom: 0;padding: 0.3em;box-sizing: border-box;text-align: center;}#sk-container-id-1 label.sk-toggleable__label-arrow:before {content: \"▸\";float: left;margin-right: 0.25em;color: #696969;}#sk-container-id-1 label.sk-toggleable__label-arrow:hover:before {color: black;}#sk-container-id-1 div.sk-estimator:hover label.sk-toggleable__label-arrow:before {color: black;}#sk-container-id-1 div.sk-toggleable__content {max-height: 0;max-width: 0;overflow: hidden;text-align: left;background-color: #f0f8ff;}#sk-container-id-1 div.sk-toggleable__content pre {margin: 0.2em;color: black;border-radius: 0.25em;background-color: #f0f8ff;}#sk-container-id-1 input.sk-toggleable__control:checked~div.sk-toggleable__content {max-height: 200px;max-width: 100%;overflow: auto;}#sk-container-id-1 input.sk-toggleable__control:checked~label.sk-toggleable__label-arrow:before {content: \"▾\";}#sk-container-id-1 div.sk-estimator input.sk-toggleable__control:checked~label.sk-toggleable__label {background-color: #d4ebff;}#sk-container-id-1 div.sk-label input.sk-toggleable__control:checked~label.sk-toggleable__label {background-color: #d4ebff;}#sk-container-id-1 input.sk-hidden--visually {border: 0;clip: rect(1px 1px 1px 1px);clip: rect(1px, 1px, 1px, 1px);height: 1px;margin: -1px;overflow: hidden;padding: 0;position: absolute;width: 1px;}#sk-container-id-1 div.sk-estimator {font-family: monospace;background-color: #f0f8ff;border: 1px dotted black;border-radius: 0.25em;box-sizing: border-box;margin-bottom: 0.5em;}#sk-container-id-1 div.sk-estimator:hover {background-color: #d4ebff;}#sk-container-id-1 div.sk-parallel-item::after {content: \"\";width: 100%;border-bottom: 1px solid gray;flex-grow: 1;}#sk-container-id-1 div.sk-label:hover label.sk-toggleable__label {background-color: #d4ebff;}#sk-container-id-1 div.sk-serial::before {content: \"\";position: absolute;border-left: 1px solid gray;box-sizing: border-box;top: 0;bottom: 0;left: 50%;z-index: 0;}#sk-container-id-1 div.sk-serial {display: flex;flex-direction: column;align-items: center;background-color: white;padding-right: 0.2em;padding-left: 0.2em;position: relative;}#sk-container-id-1 div.sk-item {position: relative;z-index: 1;}#sk-container-id-1 div.sk-parallel {display: flex;align-items: stretch;justify-content: center;background-color: white;position: relative;}#sk-container-id-1 div.sk-item::before, #sk-container-id-1 div.sk-parallel-item::before {content: \"\";position: absolute;border-left: 1px solid gray;box-sizing: border-box;top: 0;bottom: 0;left: 50%;z-index: -1;}#sk-container-id-1 div.sk-parallel-item {display: flex;flex-direction: column;z-index: 1;position: relative;background-color: white;}#sk-container-id-1 div.sk-parallel-item:first-child::after {align-self: flex-end;width: 50%;}#sk-container-id-1 div.sk-parallel-item:last-child::after {align-self: flex-start;width: 50%;}#sk-container-id-1 div.sk-parallel-item:only-child::after {width: 0;}#sk-container-id-1 div.sk-dashed-wrapped {border: 1px dashed gray;margin: 0 0.4em 0.5em 0.4em;box-sizing: border-box;padding-bottom: 0.4em;background-color: white;}#sk-container-id-1 div.sk-label label {font-family: monospace;font-weight: bold;display: inline-block;line-height: 1.2em;}#sk-container-id-1 div.sk-label-container {text-align: center;}#sk-container-id-1 div.sk-container {/* jupyter's `normalize.less` sets `[hidden] { display: none; }` but bootstrap.min.css set `[hidden] { display: none !important; }` so we also need the `!important` here to be able to override the default hidden behavior on the sphinx rendered scikit-learn.org. See: https://github.com/scikit-learn/scikit-learn/issues/21755 */display: inline-block !important;position: relative;}#sk-container-id-1 div.sk-text-repr-fallback {display: none;}</style><div id=\"sk-container-id-1\" class=\"sk-top-container\"><div class=\"sk-text-repr-fallback\"><pre>LogisticRegression(max_iter=1000)</pre><b>In a Jupyter environment, please rerun this cell to show the HTML representation or trust the notebook. <br />On GitHub, the HTML representation is unable to render, please try loading this page with nbviewer.org.</b></div><div class=\"sk-container\" hidden><div class=\"sk-item\"><div class=\"sk-estimator sk-toggleable\"><input class=\"sk-toggleable__control sk-hidden--visually\" id=\"sk-estimator-id-1\" type=\"checkbox\" checked><label for=\"sk-estimator-id-1\" class=\"sk-toggleable__label sk-toggleable__label-arrow\">LogisticRegression</label><div class=\"sk-toggleable__content\"><pre>LogisticRegression(max_iter=1000)</pre></div></div></div></div></div>"
      ],
      "text/plain": [
       "LogisticRegression(max_iter=1000)"
      ]
     },
     "execution_count": 12,
     "metadata": {},
     "output_type": "execute_result"
    }
   ],
   "source": [
    "from sklearn.linear_model import LogisticRegression\n",
    "from sklearn.metrics import accuracy_score\n",
    "\n",
    "# Train model\n",
    "model = LogisticRegression(max_iter=1000)\n",
    "model.fit(X_train_vec, y_train)"
   ]
  },
  {
   "cell_type": "code",
   "execution_count": 13,
   "id": "9e79255d",
   "metadata": {
    "execution": {
     "iopub.execute_input": "2025-10-03T13:46:42.887819Z",
     "iopub.status.busy": "2025-10-03T13:46:42.887433Z",
     "iopub.status.idle": "2025-10-03T13:46:42.907303Z",
     "shell.execute_reply": "2025-10-03T13:46:42.906235Z"
    },
    "papermill": {
     "duration": 0.030209,
     "end_time": "2025-10-03T13:46:42.909262",
     "exception": false,
     "start_time": "2025-10-03T13:46:42.879053",
     "status": "completed"
    },
    "tags": []
   },
   "outputs": [
    {
     "name": "stdout",
     "output_type": "stream",
     "text": [
      "Model Score: 0.012422360248447204\n"
     ]
    }
   ],
   "source": [
    "# Predict\n",
    "preds = model.predict(X_test_vec)\n",
    "\n",
    "# Accuracy (on string data, it's more of a rough score)\n",
    "print(\"Model Score:\", accuracy_score(y_test, preds))"
   ]
  },
  {
   "cell_type": "code",
   "execution_count": 14,
   "id": "4423e484",
   "metadata": {
    "execution": {
     "iopub.execute_input": "2025-10-03T13:46:42.920337Z",
     "iopub.status.busy": "2025-10-03T13:46:42.920018Z",
     "iopub.status.idle": "2025-10-03T13:46:42.930760Z",
     "shell.execute_reply": "2025-10-03T13:46:42.929687Z"
    },
    "papermill": {
     "duration": 0.017835,
     "end_time": "2025-10-03T13:46:42.932206",
     "exception": false,
     "start_time": "2025-10-03T13:46:42.914371",
     "status": "completed"
    },
    "tags": []
   },
   "outputs": [
    {
     "data": {
      "text/html": [
       "<div>\n",
       "<style scoped>\n",
       "    .dataframe tbody tr th:only-of-type {\n",
       "        vertical-align: middle;\n",
       "    }\n",
       "\n",
       "    .dataframe tbody tr th {\n",
       "        vertical-align: top;\n",
       "    }\n",
       "\n",
       "    .dataframe thead th {\n",
       "        text-align: right;\n",
       "    }\n",
       "</style>\n",
       "<table border=\"1\" class=\"dataframe\">\n",
       "  <thead>\n",
       "    <tr style=\"text-align: right;\">\n",
       "      <th></th>\n",
       "      <th>Question</th>\n",
       "      <th>Actual Answer</th>\n",
       "      <th>Predicted Answer</th>\n",
       "    </tr>\n",
       "  </thead>\n",
       "  <tbody>\n",
       "    <tr>\n",
       "      <th>0</th>\n",
       "      <td>###Human:\\nAnswer this question in the context...</td>\n",
       "      <td>By showing that small, often imperceptible, mo...</td>\n",
       "      <td>By leveraging blockchain platforms designed fo...</td>\n",
       "    </tr>\n",
       "    <tr>\n",
       "      <th>1</th>\n",
       "      <td>###Human:\\nAnswer this question in the context...</td>\n",
       "      <td>There is a positive correlation between ESG in...</td>\n",
       "      <td>By identifying the best-fitting distributions,...</td>\n",
       "    </tr>\n",
       "    <tr>\n",
       "      <th>2</th>\n",
       "      <td>###Human:\\nAnswer this question in the context...</td>\n",
       "      <td>Through predictive capabilities, early disaste...</td>\n",
       "      <td>By identifying the best-fitting distributions,...</td>\n",
       "    </tr>\n",
       "    <tr>\n",
       "      <th>3</th>\n",
       "      <td>###Human:\\nAnswer this question in the context...</td>\n",
       "      <td>The heatmap matrix visualizes the diverse trad...</td>\n",
       "      <td>Raspberry Pi serves as an affordable and effic...</td>\n",
       "    </tr>\n",
       "    <tr>\n",
       "      <th>4</th>\n",
       "      <td>###Human:\\nAnswer this question in the context...</td>\n",
       "      <td>The IRS treats cryptocurrencies as property, n...</td>\n",
       "      <td>Cryptocurrencies' unique market dynamics, incl...</td>\n",
       "    </tr>\n",
       "  </tbody>\n",
       "</table>\n",
       "</div>"
      ],
      "text/plain": [
       "                                            Question  \\\n",
       "0  ###Human:\\nAnswer this question in the context...   \n",
       "1  ###Human:\\nAnswer this question in the context...   \n",
       "2  ###Human:\\nAnswer this question in the context...   \n",
       "3  ###Human:\\nAnswer this question in the context...   \n",
       "4  ###Human:\\nAnswer this question in the context...   \n",
       "\n",
       "                                       Actual Answer  \\\n",
       "0  By showing that small, often imperceptible, mo...   \n",
       "1  There is a positive correlation between ESG in...   \n",
       "2  Through predictive capabilities, early disaste...   \n",
       "3  The heatmap matrix visualizes the diverse trad...   \n",
       "4  The IRS treats cryptocurrencies as property, n...   \n",
       "\n",
       "                                    Predicted Answer  \n",
       "0  By leveraging blockchain platforms designed fo...  \n",
       "1  By identifying the best-fitting distributions,...  \n",
       "2  By identifying the best-fitting distributions,...  \n",
       "3  Raspberry Pi serves as an affordable and effic...  \n",
       "4  Cryptocurrencies' unique market dynamics, incl...  "
      ]
     },
     "execution_count": 14,
     "metadata": {},
     "output_type": "execute_result"
    }
   ],
   "source": [
    "results = pd.DataFrame({'Question': X_test.values[:5], \n",
    "                        'Actual Answer': y_test.values[:5], \n",
    "                        'Predicted Answer': preds[:5]})\n",
    "results"
   ]
  }
 ],
 "metadata": {
  "kaggle": {
   "accelerator": "none",
   "dataSources": [
    {
     "datasetId": 4427611,
     "sourceId": 7607964,
     "sourceType": "datasetVersion"
    }
   ],
   "dockerImageVersionId": 31089,
   "isGpuEnabled": false,
   "isInternetEnabled": true,
   "language": "python",
   "sourceType": "notebook"
  },
  "kernelspec": {
   "display_name": "Python 3",
   "language": "python",
   "name": "python3"
  },
  "language_info": {
   "codemirror_mode": {
    "name": "ipython",
    "version": 3
   },
   "file_extension": ".py",
   "mimetype": "text/x-python",
   "name": "python",
   "nbconvert_exporter": "python",
   "pygments_lexer": "ipython3",
   "version": "3.11.13"
  },
  "papermill": {
   "default_parameters": {},
   "duration": 14.183718,
   "end_time": "2025-10-03T13:46:43.660946",
   "environment_variables": {},
   "exception": null,
   "input_path": "__notebook__.ipynb",
   "output_path": "__notebook__.ipynb",
   "parameters": {},
   "start_time": "2025-10-03T13:46:29.477228",
   "version": "2.6.0"
  }
 },
 "nbformat": 4,
 "nbformat_minor": 5
}
