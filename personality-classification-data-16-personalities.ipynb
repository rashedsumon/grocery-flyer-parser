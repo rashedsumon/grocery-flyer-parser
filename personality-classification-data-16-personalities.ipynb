{
 "cells": [
  {
   "cell_type": "code",
   "execution_count": 1,
   "id": "7ace3271",
   "metadata": {
    "_cell_guid": "b1076dfc-b9ad-4769-8c92-a6c4dae69d19",
    "_uuid": "8f2839f25d086af736a60e9eeb907d3b93b6e0e5",
    "execution": {
     "iopub.execute_input": "2025-10-03T13:27:26.522400Z",
     "iopub.status.busy": "2025-10-03T13:27:26.522054Z",
     "iopub.status.idle": "2025-10-03T13:27:28.739086Z",
     "shell.execute_reply": "2025-10-03T13:27:28.737844Z"
    },
    "papermill": {
     "duration": 2.224312,
     "end_time": "2025-10-03T13:27:28.740776",
     "exception": false,
     "start_time": "2025-10-03T13:27:26.516464",
     "status": "completed"
    },
    "tags": []
   },
   "outputs": [
    {
     "name": "stdout",
     "output_type": "stream",
     "text": [
      "/kaggle/input/60k-responses-of-16-personalities-test-mbt/16P.csv\n",
      "/kaggle/input/60k-responses-of-16-personalities-test-mbt/16p-Mapping.txt\n"
     ]
    }
   ],
   "source": [
    "# This Python 3 environment comes with many helpful analytics libraries installed\n",
    "# It is defined by the kaggle/python Docker image: https://github.com/kaggle/docker-python\n",
    "# For example, here's several helpful packages to load\n",
    "\n",
    "import numpy as np # linear algebra\n",
    "import pandas as pd # data processing, CSV file I/O (e.g. pd.read_csv)\n",
    "\n",
    "# Input data files are available in the read-only \"../input/\" directory\n",
    "# For example, running this (by clicking run or pressing Shift+Enter) will list all files under the input directory\n",
    "\n",
    "import os\n",
    "for dirname, _, filenames in os.walk('/kaggle/input'):\n",
    "    for filename in filenames:\n",
    "        print(os.path.join(dirname, filename))\n",
    "\n",
    "# You can write up to 20GB to the current directory (/kaggle/working/) that gets preserved as output when you create a version using \"Save & Run All\" \n",
    "# You can also write temporary files to /kaggle/temp/, but they won't be saved outside of the current session"
   ]
  },
  {
   "cell_type": "code",
   "execution_count": 2,
   "id": "4e5f75f5",
   "metadata": {
    "execution": {
     "iopub.execute_input": "2025-10-03T13:27:28.749585Z",
     "iopub.status.busy": "2025-10-03T13:27:28.749089Z",
     "iopub.status.idle": "2025-10-03T13:27:28.753975Z",
     "shell.execute_reply": "2025-10-03T13:27:28.753001Z"
    },
    "papermill": {
     "duration": 0.011242,
     "end_time": "2025-10-03T13:27:28.755884",
     "exception": false,
     "start_time": "2025-10-03T13:27:28.744642",
     "status": "completed"
    },
    "tags": []
   },
   "outputs": [],
   "source": [
    "import warnings\n",
    "warnings.filterwarnings(\"ignore\")"
   ]
  },
  {
   "cell_type": "code",
   "execution_count": 3,
   "id": "d6ec0446",
   "metadata": {
    "execution": {
     "iopub.execute_input": "2025-10-03T13:27:28.764040Z",
     "iopub.status.busy": "2025-10-03T13:27:28.763723Z",
     "iopub.status.idle": "2025-10-03T13:27:30.905303Z",
     "shell.execute_reply": "2025-10-03T13:27:30.903977Z"
    },
    "papermill": {
     "duration": 2.147652,
     "end_time": "2025-10-03T13:27:30.907125",
     "exception": false,
     "start_time": "2025-10-03T13:27:28.759473",
     "status": "completed"
    },
    "tags": []
   },
   "outputs": [],
   "source": [
    "import pandas as pd\n",
    "import seaborn as sns\n",
    "import matplotlib.pyplot as plt"
   ]
  },
  {
   "cell_type": "code",
   "execution_count": 4,
   "id": "37deca57",
   "metadata": {
    "execution": {
     "iopub.execute_input": "2025-10-03T13:27:30.916709Z",
     "iopub.status.busy": "2025-10-03T13:27:30.915181Z",
     "iopub.status.idle": "2025-10-03T13:27:31.412643Z",
     "shell.execute_reply": "2025-10-03T13:27:31.411554Z"
    },
    "papermill": {
     "duration": 0.503981,
     "end_time": "2025-10-03T13:27:31.414534",
     "exception": false,
     "start_time": "2025-10-03T13:27:30.910553",
     "status": "completed"
    },
    "tags": []
   },
   "outputs": [
    {
     "data": {
      "text/html": [
       "<div>\n",
       "<style scoped>\n",
       "    .dataframe tbody tr th:only-of-type {\n",
       "        vertical-align: middle;\n",
       "    }\n",
       "\n",
       "    .dataframe tbody tr th {\n",
       "        vertical-align: top;\n",
       "    }\n",
       "\n",
       "    .dataframe thead th {\n",
       "        text-align: right;\n",
       "    }\n",
       "</style>\n",
       "<table border=\"1\" class=\"dataframe\">\n",
       "  <thead>\n",
       "    <tr style=\"text-align: right;\">\n",
       "      <th></th>\n",
       "      <th>Response Id</th>\n",
       "      <th>You regularly make new friends.</th>\n",
       "      <th>You spend a lot of your free time exploring various random topics that pique your interest</th>\n",
       "      <th>Seeing other people cry can easily make you feel like you want to cry too</th>\n",
       "      <th>You often make a backup plan for a backup plan.</th>\n",
       "      <th>You usually stay calm, even under a lot of pressure</th>\n",
       "      <th>At social events, you rarely try to introduce yourself to new people and mostly talk to the ones you already know</th>\n",
       "      <th>You prefer to completely finish one project before starting another.</th>\n",
       "      <th>You are very sentimental.</th>\n",
       "      <th>You like to use organizing tools like schedules and lists.</th>\n",
       "      <th>...</th>\n",
       "      <th>You believe that pondering abstract philosophical questions is a waste of time.</th>\n",
       "      <th>You feel more drawn to places with busy, bustling atmospheres than quiet, intimate places.</th>\n",
       "      <th>You know at first glance how someone is feeling.</th>\n",
       "      <th>You often feel overwhelmed.</th>\n",
       "      <th>You complete things methodically without skipping over any steps.</th>\n",
       "      <th>You are very intrigued by things labeled as controversial.</th>\n",
       "      <th>You would pass along a good opportunity if you thought someone else needed it more.</th>\n",
       "      <th>You struggle with deadlines.</th>\n",
       "      <th>You feel confident that things will work out for you.</th>\n",
       "      <th>Personality</th>\n",
       "    </tr>\n",
       "  </thead>\n",
       "  <tbody>\n",
       "    <tr>\n",
       "      <th>0</th>\n",
       "      <td>0</td>\n",
       "      <td>0</td>\n",
       "      <td>0</td>\n",
       "      <td>0</td>\n",
       "      <td>0</td>\n",
       "      <td>0</td>\n",
       "      <td>1</td>\n",
       "      <td>1</td>\n",
       "      <td>0</td>\n",
       "      <td>0</td>\n",
       "      <td>...</td>\n",
       "      <td>0</td>\n",
       "      <td>0</td>\n",
       "      <td>0</td>\n",
       "      <td>-1</td>\n",
       "      <td>0</td>\n",
       "      <td>0</td>\n",
       "      <td>0</td>\n",
       "      <td>0</td>\n",
       "      <td>0</td>\n",
       "      <td>ENFP</td>\n",
       "    </tr>\n",
       "    <tr>\n",
       "      <th>1</th>\n",
       "      <td>1</td>\n",
       "      <td>0</td>\n",
       "      <td>0</td>\n",
       "      <td>-2</td>\n",
       "      <td>-3</td>\n",
       "      <td>-1</td>\n",
       "      <td>2</td>\n",
       "      <td>-2</td>\n",
       "      <td>0</td>\n",
       "      <td>3</td>\n",
       "      <td>...</td>\n",
       "      <td>0</td>\n",
       "      <td>-2</td>\n",
       "      <td>0</td>\n",
       "      <td>2</td>\n",
       "      <td>0</td>\n",
       "      <td>-1</td>\n",
       "      <td>-1</td>\n",
       "      <td>-1</td>\n",
       "      <td>3</td>\n",
       "      <td>ISFP</td>\n",
       "    </tr>\n",
       "    <tr>\n",
       "      <th>2</th>\n",
       "      <td>2</td>\n",
       "      <td>0</td>\n",
       "      <td>0</td>\n",
       "      <td>2</td>\n",
       "      <td>0</td>\n",
       "      <td>-1</td>\n",
       "      <td>2</td>\n",
       "      <td>0</td>\n",
       "      <td>0</td>\n",
       "      <td>1</td>\n",
       "      <td>...</td>\n",
       "      <td>0</td>\n",
       "      <td>2</td>\n",
       "      <td>0</td>\n",
       "      <td>2</td>\n",
       "      <td>-1</td>\n",
       "      <td>0</td>\n",
       "      <td>1</td>\n",
       "      <td>2</td>\n",
       "      <td>1</td>\n",
       "      <td>INFJ</td>\n",
       "    </tr>\n",
       "    <tr>\n",
       "      <th>3</th>\n",
       "      <td>3</td>\n",
       "      <td>0</td>\n",
       "      <td>-1</td>\n",
       "      <td>3</td>\n",
       "      <td>-1</td>\n",
       "      <td>0</td>\n",
       "      <td>0</td>\n",
       "      <td>-2</td>\n",
       "      <td>0</td>\n",
       "      <td>-2</td>\n",
       "      <td>...</td>\n",
       "      <td>0</td>\n",
       "      <td>0</td>\n",
       "      <td>-1</td>\n",
       "      <td>-1</td>\n",
       "      <td>0</td>\n",
       "      <td>1</td>\n",
       "      <td>0</td>\n",
       "      <td>-2</td>\n",
       "      <td>-1</td>\n",
       "      <td>ISTP</td>\n",
       "    </tr>\n",
       "    <tr>\n",
       "      <th>4</th>\n",
       "      <td>4</td>\n",
       "      <td>0</td>\n",
       "      <td>0</td>\n",
       "      <td>-1</td>\n",
       "      <td>0</td>\n",
       "      <td>2</td>\n",
       "      <td>-1</td>\n",
       "      <td>-2</td>\n",
       "      <td>0</td>\n",
       "      <td>1</td>\n",
       "      <td>...</td>\n",
       "      <td>0</td>\n",
       "      <td>1</td>\n",
       "      <td>0</td>\n",
       "      <td>2</td>\n",
       "      <td>0</td>\n",
       "      <td>1</td>\n",
       "      <td>-1</td>\n",
       "      <td>2</td>\n",
       "      <td>-1</td>\n",
       "      <td>ENFJ</td>\n",
       "    </tr>\n",
       "  </tbody>\n",
       "</table>\n",
       "<p>5 rows × 62 columns</p>\n",
       "</div>"
      ],
      "text/plain": [
       "   Response Id  You regularly make new friends.  \\\n",
       "0            0                                0   \n",
       "1            1                                0   \n",
       "2            2                                0   \n",
       "3            3                                0   \n",
       "4            4                                0   \n",
       "\n",
       "   You spend a lot of your free time exploring various random topics that pique your interest  \\\n",
       "0                                                  0                                            \n",
       "1                                                  0                                            \n",
       "2                                                  0                                            \n",
       "3                                                 -1                                            \n",
       "4                                                  0                                            \n",
       "\n",
       "   Seeing other people cry can easily make you feel like you want to cry too  \\\n",
       "0                                                  0                           \n",
       "1                                                 -2                           \n",
       "2                                                  2                           \n",
       "3                                                  3                           \n",
       "4                                                 -1                           \n",
       "\n",
       "   You often make a backup plan for a backup plan.  \\\n",
       "0                                                0   \n",
       "1                                               -3   \n",
       "2                                                0   \n",
       "3                                               -1   \n",
       "4                                                0   \n",
       "\n",
       "   You usually stay calm, even under a lot of pressure  \\\n",
       "0                                                  0     \n",
       "1                                                 -1     \n",
       "2                                                 -1     \n",
       "3                                                  0     \n",
       "4                                                  2     \n",
       "\n",
       "   At social events, you rarely try to introduce yourself to new people and mostly talk to the ones you already know  \\\n",
       "0                                                  1                                                                   \n",
       "1                                                  2                                                                   \n",
       "2                                                  2                                                                   \n",
       "3                                                  0                                                                   \n",
       "4                                                 -1                                                                   \n",
       "\n",
       "   You prefer to completely finish one project before starting another.  \\\n",
       "0                                                  1                      \n",
       "1                                                 -2                      \n",
       "2                                                  0                      \n",
       "3                                                 -2                      \n",
       "4                                                 -2                      \n",
       "\n",
       "   You are very sentimental.  \\\n",
       "0                          0   \n",
       "1                          0   \n",
       "2                          0   \n",
       "3                          0   \n",
       "4                          0   \n",
       "\n",
       "   You like to use organizing tools like schedules and lists.  ...  \\\n",
       "0                                                  0           ...   \n",
       "1                                                  3           ...   \n",
       "2                                                  1           ...   \n",
       "3                                                 -2           ...   \n",
       "4                                                  1           ...   \n",
       "\n",
       "   You believe that pondering abstract philosophical questions is a waste of time.  \\\n",
       "0                                                  0                                 \n",
       "1                                                  0                                 \n",
       "2                                                  0                                 \n",
       "3                                                  0                                 \n",
       "4                                                  0                                 \n",
       "\n",
       "   You feel more drawn to places with busy, bustling atmospheres than quiet, intimate places.  \\\n",
       "0                                                  0                                            \n",
       "1                                                 -2                                            \n",
       "2                                                  2                                            \n",
       "3                                                  0                                            \n",
       "4                                                  1                                            \n",
       "\n",
       "   You know at first glance how someone is feeling.  \\\n",
       "0                                                 0   \n",
       "1                                                 0   \n",
       "2                                                 0   \n",
       "3                                                -1   \n",
       "4                                                 0   \n",
       "\n",
       "   You often feel overwhelmed.  \\\n",
       "0                           -1   \n",
       "1                            2   \n",
       "2                            2   \n",
       "3                           -1   \n",
       "4                            2   \n",
       "\n",
       "   You complete things methodically without skipping over any steps.  \\\n",
       "0                                                  0                   \n",
       "1                                                  0                   \n",
       "2                                                 -1                   \n",
       "3                                                  0                   \n",
       "4                                                  0                   \n",
       "\n",
       "   You are very intrigued by things labeled as controversial.  \\\n",
       "0                                                  0            \n",
       "1                                                 -1            \n",
       "2                                                  0            \n",
       "3                                                  1            \n",
       "4                                                  1            \n",
       "\n",
       "   You would pass along a good opportunity if you thought someone else needed it more.  \\\n",
       "0                                                  0                                     \n",
       "1                                                 -1                                     \n",
       "2                                                  1                                     \n",
       "3                                                  0                                     \n",
       "4                                                 -1                                     \n",
       "\n",
       "   You struggle with deadlines.  \\\n",
       "0                             0   \n",
       "1                            -1   \n",
       "2                             2   \n",
       "3                            -2   \n",
       "4                             2   \n",
       "\n",
       "   You feel confident that things will work out for you.  Personality  \n",
       "0                                                  0             ENFP  \n",
       "1                                                  3             ISFP  \n",
       "2                                                  1             INFJ  \n",
       "3                                                 -1             ISTP  \n",
       "4                                                 -1             ENFJ  \n",
       "\n",
       "[5 rows x 62 columns]"
      ]
     },
     "execution_count": 4,
     "metadata": {},
     "output_type": "execute_result"
    }
   ],
   "source": [
    "df = pd.read_csv('/kaggle/input/60k-responses-of-16-personalities-test-mbt/16P.csv', encoding='ISO-8859-1')\n",
    "df.head()"
   ]
  },
  {
   "cell_type": "code",
   "execution_count": 5,
   "id": "dc4db96f",
   "metadata": {
    "execution": {
     "iopub.execute_input": "2025-10-03T13:27:31.424280Z",
     "iopub.status.busy": "2025-10-03T13:27:31.423264Z",
     "iopub.status.idle": "2025-10-03T13:27:31.432099Z",
     "shell.execute_reply": "2025-10-03T13:27:31.431037Z"
    },
    "papermill": {
     "duration": 0.014939,
     "end_time": "2025-10-03T13:27:31.433677",
     "exception": false,
     "start_time": "2025-10-03T13:27:31.418738",
     "status": "completed"
    },
    "tags": []
   },
   "outputs": [
    {
     "data": {
      "text/plain": [
       "Index(['Response Id', 'You regularly make new friends.',\n",
       "       'You spend a lot of your free time exploring various random topics that pique your interest',\n",
       "       'Seeing other people cry can easily make you feel like you want to cry too',\n",
       "       'You often make a backup plan for a backup plan.',\n",
       "       'You usually stay calm, even under a lot of pressure',\n",
       "       'At social events, you rarely try to introduce yourself to new people and mostly talk to the ones you already know',\n",
       "       'You prefer to completely finish one project before starting another.',\n",
       "       'You are very sentimental.',\n",
       "       'You like to use organizing tools like schedules and lists.',\n",
       "       'Even a small mistake can cause you to doubt your overall abilities and knowledge.',\n",
       "       'You feel comfortable just walking up to someone you find interesting and striking up a conversation.',\n",
       "       'You are not too interested in discussing various interpretations and analyses of creative works.',\n",
       "       'You are more inclined to follow your head than your heart.',\n",
       "       'You usually prefer just doing what you feel like at any given moment instead of planning a particular daily routine.',\n",
       "       'You rarely worry about whether you make a good impression on people you meet.',\n",
       "       'You enjoy participating in group activities.',\n",
       "       'You like books and movies that make you come up with your own interpretation of the ending.',\n",
       "       'Your happiness comes more from helping others accomplish things than your own accomplishments.',\n",
       "       'You are interested in so many things that you find it difficult to choose what to try next.',\n",
       "       'You are prone to worrying that things will take a turn for the worse.',\n",
       "       'You avoid leadership roles in group settings.',\n",
       "       'You are definitely not an artistic type of person.',\n",
       "       'You think the world would be a better place if people relied more on rationality and less on their feelings.',\n",
       "       'You prefer to do your chores before allowing yourself to relax.',\n",
       "       'You enjoy watching people argue.',\n",
       "       'You tend to avoid drawing attention to yourself.',\n",
       "       'Your mood can change very quickly.',\n",
       "       'You lose patience with people who are not as efficient as you.',\n",
       "       'You often end up doing things at the last possible moment.',\n",
       "       'You have always been fascinated by the question of what, if anything, happens after death.',\n",
       "       'You usually prefer to be around others rather than on your own.',\n",
       "       'You become bored or lose interest when the discussion gets highly theoretical.',\n",
       "       'You find it easy to empathize with a person whose experiences are very different from yours.',\n",
       "       'You usually postpone finalizing decisions for as long as possible.',\n",
       "       'You rarely second-guess the choices that you have made.',\n",
       "       'After a long and exhausting week, a lively social event is just what you need.',\n",
       "       'You enjoy going to art museums.',\n",
       "       'You often have a hard time understanding other peoples feelings.',\n",
       "       'You like to have a to-do list for each day.',\n",
       "       'You rarely feel insecure.', 'You avoid making phone calls.',\n",
       "       'You often spend a lot of time trying to understand views that are very different from your own.',\n",
       "       'In your social circle, you are often the one who contacts your friends and initiates activities.',\n",
       "       'If your plans are interrupted, your top priority is to get back on track as soon as possible.',\n",
       "       'You are still bothered by mistakes that you made a long time ago.',\n",
       "       'You rarely contemplate the reasons for human existence or the meaning of life.',\n",
       "       'Your emotions control you more than you control them.',\n",
       "       'You take great care not to make people look bad, even when it is completely their fault.',\n",
       "       'Your personal work style is closer to spontaneous bursts of energy than organized and consistent efforts.',\n",
       "       'When someone thinks highly of you, you wonder how long it will take them to feel disappointed in you.',\n",
       "       'You would love a job that requires you to work alone most of the time.',\n",
       "       'You believe that pondering abstract philosophical questions is a waste of time.',\n",
       "       'You feel more drawn to places with busy, bustling atmospheres than quiet, intimate places.',\n",
       "       'You know at first glance how someone is feeling.',\n",
       "       'You often feel overwhelmed.',\n",
       "       'You complete things methodically without skipping over any steps.',\n",
       "       'You are very intrigued by things labeled as controversial.',\n",
       "       'You would pass along a good opportunity if you thought someone else needed it more.',\n",
       "       'You struggle with deadlines.',\n",
       "       'You feel confident that things will work out for you.', 'Personality'],\n",
       "      dtype='object')"
      ]
     },
     "execution_count": 5,
     "metadata": {},
     "output_type": "execute_result"
    }
   ],
   "source": [
    "df.columns"
   ]
  },
  {
   "cell_type": "code",
   "execution_count": 6,
   "id": "35797f5d",
   "metadata": {
    "execution": {
     "iopub.execute_input": "2025-10-03T13:27:31.443063Z",
     "iopub.status.busy": "2025-10-03T13:27:31.442722Z",
     "iopub.status.idle": "2025-10-03T13:27:31.448283Z",
     "shell.execute_reply": "2025-10-03T13:27:31.446987Z"
    },
    "papermill": {
     "duration": 0.012615,
     "end_time": "2025-10-03T13:27:31.450414",
     "exception": false,
     "start_time": "2025-10-03T13:27:31.437799",
     "status": "completed"
    },
    "tags": []
   },
   "outputs": [
    {
     "name": "stdout",
     "output_type": "stream",
     "text": [
      "Shape: (59999, 62)\n"
     ]
    }
   ],
   "source": [
    "# Rows and columns\n",
    "print(\"Shape:\", df.shape)"
   ]
  },
  {
   "cell_type": "code",
   "execution_count": 7,
   "id": "be47b6e3",
   "metadata": {
    "execution": {
     "iopub.execute_input": "2025-10-03T13:27:31.460288Z",
     "iopub.status.busy": "2025-10-03T13:27:31.459972Z",
     "iopub.status.idle": "2025-10-03T13:27:31.484778Z",
     "shell.execute_reply": "2025-10-03T13:27:31.483415Z"
    },
    "papermill": {
     "duration": 0.031678,
     "end_time": "2025-10-03T13:27:31.486290",
     "exception": false,
     "start_time": "2025-10-03T13:27:31.454612",
     "status": "completed"
    },
    "tags": []
   },
   "outputs": [
    {
     "name": "stdout",
     "output_type": "stream",
     "text": [
      "Missing Values:\n",
      " Response Id                                                                                   0\n",
      "You regularly make new friends.                                                               0\n",
      "You spend a lot of your free time exploring various random topics that pique your interest    0\n",
      "Seeing other people cry can easily make you feel like you want to cry too                     0\n",
      "You often make a backup plan for a backup plan.                                               0\n",
      "                                                                                             ..\n",
      "You are very intrigued by things labeled as controversial.                                    0\n",
      "You would pass along a good opportunity if you thought someone else needed it more.           0\n",
      "You struggle with deadlines.                                                                  0\n",
      "You feel confident that things will work out for you.                                         0\n",
      "Personality                                                                                   0\n",
      "Length: 62, dtype: int64\n"
     ]
    }
   ],
   "source": [
    "# Check for nulls\n",
    "print(\"Missing Values:\\n\", df.isnull().sum())"
   ]
  },
  {
   "cell_type": "code",
   "execution_count": 8,
   "id": "fbe84bb1",
   "metadata": {
    "execution": {
     "iopub.execute_input": "2025-10-03T13:27:31.495795Z",
     "iopub.status.busy": "2025-10-03T13:27:31.495452Z",
     "iopub.status.idle": "2025-10-03T13:27:32.016312Z",
     "shell.execute_reply": "2025-10-03T13:27:32.015103Z"
    },
    "papermill": {
     "duration": 0.527621,
     "end_time": "2025-10-03T13:27:32.018151",
     "exception": false,
     "start_time": "2025-10-03T13:27:31.490530",
     "status": "completed"
    },
    "tags": []
   },
   "outputs": [
    {
     "data": {
      "image/png": "[encoded data removed]",
      "text/plain": [
       "<Figure size 1200x500 with 1 Axes>"
      ]
     },
     "metadata": {},
     "output_type": "display_data"
    }
   ],
   "source": [
    "# Count of each personality type\n",
    "plt.figure(figsize=(12,5))\n",
    "sns.countplot(x='Personality', data=df, order=df['Personality'].value_counts().index)\n",
    "plt.title(\"Distribution of Personality Types\")\n",
    "plt.xticks(rotation=90)\n",
    "plt.show()"
   ]
  },
  {
   "cell_type": "code",
   "execution_count": 9,
   "id": "750c7b95",
   "metadata": {
    "execution": {
     "iopub.execute_input": "2025-10-03T13:27:32.030796Z",
     "iopub.status.busy": "2025-10-03T13:27:32.029099Z",
     "iopub.status.idle": "2025-10-03T13:27:32.302572Z",
     "shell.execute_reply": "2025-10-03T13:27:32.301260Z"
    },
    "papermill": {
     "duration": 0.281363,
     "end_time": "2025-10-03T13:27:32.304379",
     "exception": false,
     "start_time": "2025-10-03T13:27:32.023016",
     "status": "completed"
    },
    "tags": []
   },
   "outputs": [
    {
     "data": {
      "text/plain": [
       "Personality\n",
       "5     3769\n",
       "8     3761\n",
       "1     3760\n",
       "3     3760\n",
       "6     3759\n",
       "14    3756\n",
       "15    3755\n",
       "7     3749\n",
       "13    3746\n",
       "4     3746\n",
       "0     3743\n",
       "10    3743\n",
       "11    3742\n",
       "12    3739\n",
       "2     3737\n",
       "9     3734\n",
       "Name: count, dtype: int64"
      ]
     },
     "execution_count": 9,
     "metadata": {},
     "output_type": "execute_result"
    }
   ],
   "source": [
    "from sklearn.preprocessing import LabelEncoder\n",
    "\n",
    "# Drop response ID\n",
    "df.drop('Response Id', axis=1, inplace=True)\n",
    "\n",
    "# Label encode the target\n",
    "le = LabelEncoder()\n",
    "df['Personality'] = le.fit_transform(df['Personality'])\n",
    "\n",
    "# Show encoded personality values\n",
    "df['Personality'].value_counts()"
   ]
  },
  {
   "cell_type": "code",
   "execution_count": 10,
   "id": "0379d0aa",
   "metadata": {
    "execution": {
     "iopub.execute_input": "2025-10-03T13:27:32.315544Z",
     "iopub.status.busy": "2025-10-03T13:27:32.315137Z",
     "iopub.status.idle": "2025-10-03T13:27:38.833784Z",
     "shell.execute_reply": "2025-10-03T13:27:38.832868Z"
    },
    "papermill": {
     "duration": 6.526532,
     "end_time": "2025-10-03T13:27:38.835625",
     "exception": false,
     "start_time": "2025-10-03T13:27:32.309093",
     "status": "completed"
    },
    "tags": []
   },
   "outputs": [],
   "source": [
    "from lightgbm import LGBMClassifier\n",
    "from sklearn.metrics import accuracy_score, classification_report\n",
    "from sklearn.model_selection import train_test_split\n",
    "import pandas as pd\n",
    "import re"
   ]
  },
  {
   "cell_type": "code",
   "execution_count": 11,
   "id": "d76ac253",
   "metadata": {
    "execution": {
     "iopub.execute_input": "2025-10-03T13:27:38.847847Z",
     "iopub.status.busy": "2025-10-03T13:27:38.847114Z",
     "iopub.status.idle": "2025-10-03T13:27:38.854577Z",
     "shell.execute_reply": "2025-10-03T13:27:38.853403Z"
    },
    "papermill": {
     "duration": 0.014786,
     "end_time": "2025-10-03T13:27:38.856284",
     "exception": false,
     "start_time": "2025-10-03T13:27:38.841498",
     "status": "completed"
    },
    "tags": []
   },
   "outputs": [
    {
     "name": "stdout",
     "output_type": "stream",
     "text": [
      "['You_regularly_make_new_friends', 'You_spend_a_lot_of_your_free_time_exploring_various_random_topics_that_pique_your_interest', 'Seeing_other_people_cry_can_easily_make_you_feel_like_you_want_to_cry_too', 'You_often_make_a_backup_plan_for_a_backup_plan', 'You_usually_stay_calm_even_under_a_lot_of_pressure', 'At_social_events_you_rarely_try_to_introduce_yourself_to_new_people_and_mostly_talk_to_the_ones_you_already_know', 'You_prefer_to_completely_finish_one_project_before_starting_another', 'You_are_very_sentimental', 'You_like_to_use_organizing_tools_like_schedules_and_lists', 'Even_a_small_mistake_can_cause_you_to_doubt_your_overall_abilities_and_knowledge', 'You_feel_comfortable_just_walking_up_to_someone_you_find_interesting_and_striking_up_a_conversation', 'You_are_not_too_interested_in_discussing_various_interpretations_and_analyses_of_creative_works', 'You_are_more_inclined_to_follow_your_head_than_your_heart', 'You_usually_prefer_just_doing_what_you_feel_like_at_any_given_moment_instead_of_planning_a_particular_daily_routine', 'You_rarely_worry_about_whether_you_make_a_good_impression_on_people_you_meet', 'You_enjoy_participating_in_group_activities', 'You_like_books_and_movies_that_make_you_come_up_with_your_own_interpretation_of_the_ending', 'Your_happiness_comes_more_from_helping_others_accomplish_things_than_your_own_accomplishments', 'You_are_interested_in_so_many_things_that_you_find_it_difficult_to_choose_what_to_try_next', 'You_are_prone_to_worrying_that_things_will_take_a_turn_for_the_worse', 'You_avoid_leadership_roles_in_group_settings', 'You_are_definitely_not_an_artistic_type_of_person', 'You_think_the_world_would_be_a_better_place_if_people_relied_more_on_rationality_and_less_on_their_feelings', 'You_prefer_to_do_your_chores_before_allowing_yourself_to_relax', 'You_enjoy_watching_people_argue', 'You_tend_to_avoid_drawing_attention_to_yourself', 'Your_mood_can_change_very_quickly', 'You_lose_patience_with_people_who_are_not_as_efficient_as_you', 'You_often_end_up_doing_things_at_the_last_possible_moment', 'You_have_always_been_fascinated_by_the_question_of_what_if_anything_happens_after_death', 'You_usually_prefer_to_be_around_others_rather_than_on_your_own', 'You_become_bored_or_lose_interest_when_the_discussion_gets_highly_theoretical', 'You_find_it_easy_to_empathize_with_a_person_whose_experiences_are_very_different_from_yours', 'You_usually_postpone_finalizing_decisions_for_as_long_as_possible', 'You_rarely_second_guess_the_choices_that_you_have_made', 'After_a_long_and_exhausting_week_a_lively_social_event_is_just_what_you_need', 'You_enjoy_going_to_art_museums', 'You_often_have_a_hard_time_understanding_other_people_s_feelings', 'You_like_to_have_a_to_do_list_for_each_day', 'You_rarely_feel_insecure', 'You_avoid_making_phone_calls', 'You_often_spend_a_lot_of_time_trying_to_understand_views_that_are_very_different_from_your_own', 'In_your_social_circle_you_are_often_the_one_who_contacts_your_friends_and_initiates_activities', 'If_your_plans_are_interrupted_your_top_priority_is_to_get_back_on_track_as_soon_as_possible', 'You_are_still_bothered_by_mistakes_that_you_made_a_long_time_ago', 'You_rarely_contemplate_the_reasons_for_human_existence_or_the_meaning_of_life', 'Your_emotions_control_you_more_than_you_control_them', 'You_take_great_care_not_to_make_people_look_bad_even_when_it_is_completely_their_fault', 'Your_personal_work_style_is_closer_to_spontaneous_bursts_of_energy_than_organized_and_consistent_efforts', 'When_someone_thinks_highly_of_you_you_wonder_how_long_it_will_take_them_to_feel_disappointed_in_you', 'You_would_love_a_job_that_requires_you_to_work_alone_most_of_the_time', 'You_believe_that_pondering_abstract_philosophical_questions_is_a_waste_of_time', 'You_feel_more_drawn_to_places_with_busy_bustling_atmospheres_than_quiet_intimate_places', 'You_know_at_first_glance_how_someone_is_feeling', 'You_often_feel_overwhelmed', 'You_complete_things_methodically_without_skipping_over_any_steps', 'You_are_very_intrigued_by_things_labeled_as_controversial', 'You_would_pass_along_a_good_opportunity_if_you_thought_someone_else_needed_it_more', 'You_struggle_with_deadlines', 'You_feel_confident_that_things_will_work_out_for_you', 'Personality']\n"
     ]
    }
   ],
   "source": [
    "# Optional: Clean column names\n",
    "df.columns = [re.sub(r'\\W+', '_', col).strip('_') for col in df.columns]\n",
    "\n",
    "# Check column names\n",
    "print(df.columns.tolist())  # Inspect and find the correct target column name\n",
    "\n",
    "# Example: Set the correct target column here\n",
    "target_column = 'Personality'  # CHANGE THIS to your actual column name"
   ]
  },
  {
   "cell_type": "code",
   "execution_count": 12,
   "id": "52de36a2",
   "metadata": {
    "execution": {
     "iopub.execute_input": "2025-10-03T13:27:38.867758Z",
     "iopub.status.busy": "2025-10-03T13:27:38.867414Z",
     "iopub.status.idle": "2025-10-03T13:27:38.886514Z",
     "shell.execute_reply": "2025-10-03T13:27:38.885471Z"
    },
    "papermill": {
     "duration": 0.026769,
     "end_time": "2025-10-03T13:27:38.888254",
     "exception": false,
     "start_time": "2025-10-03T13:27:38.861485",
     "status": "completed"
    },
    "tags": []
   },
   "outputs": [],
   "source": [
    "# Split features and target\n",
    "X = df.drop(target_column, axis=1)\n",
    "y = df[target_column]"
   ]
  },
  {
   "cell_type": "code",
   "execution_count": 13,
   "id": "15de6416",
   "metadata": {
    "execution": {
     "iopub.execute_input": "2025-10-03T13:27:38.899133Z",
     "iopub.status.busy": "2025-10-03T13:27:38.898798Z",
     "iopub.status.idle": "2025-10-03T13:27:38.939559Z",
     "shell.execute_reply": "2025-10-03T13:27:38.938686Z"
    },
    "papermill": {
     "duration": 0.048087,
     "end_time": "2025-10-03T13:27:38.941190",
     "exception": false,
     "start_time": "2025-10-03T13:27:38.893103",
     "status": "completed"
    },
    "tags": []
   },
   "outputs": [],
   "source": [
    "# Train-test split\n",
    "X_train, X_test, y_train, y_test = train_test_split(X, y, test_size=0.2, random_state=42)"
   ]
  },
  {
   "cell_type": "code",
   "execution_count": 14,
   "id": "cc4bd64b",
   "metadata": {
    "execution": {
     "iopub.execute_input": "2025-10-03T13:27:38.952155Z",
     "iopub.status.busy": "2025-10-03T13:27:38.951854Z",
     "iopub.status.idle": "2025-10-03T13:27:50.179011Z",
     "shell.execute_reply": "2025-10-03T13:27:50.178114Z"
    },
    "papermill": {
     "duration": 11.235167,
     "end_time": "2025-10-03T13:27:50.181260",
     "exception": false,
     "start_time": "2025-10-03T13:27:38.946093",
     "status": "completed"
    },
    "tags": []
   },
   "outputs": [
    {
     "name": "stdout",
     "output_type": "stream",
     "text": [
      "[LightGBM] [Info] Auto-choosing row-wise multi-threading, the overhead of testing was 0.013582 seconds.\n",
      "You can set `force_row_wise=true` to remove the overhead.\n",
      "And if memory is not enough, you can set `force_col_wise=true`.\n",
      "[LightGBM] [Info] Total Bins 351\n",
      "[LightGBM] [Info] Number of data points in the train set: 47999, number of used features: 60\n",
      "[LightGBM] [Info] Start training from score -2.771235\n",
      "[LightGBM] [Info] Start training from score -2.776911\n",
      "[LightGBM] [Info] Start training from score -2.772901\n",
      "[LightGBM] [Info] Start training from score -2.768576\n",
      "[LightGBM] [Info] Start training from score -2.780600\n",
      "[LightGBM] [Info] Start training from score -2.779593\n",
      "[LightGBM] [Info] Start training from score -2.765923\n",
      "[LightGBM] [Info] Start training from score -2.780600\n",
      "[LightGBM] [Info] Start training from score -2.777245\n",
      "[LightGBM] [Info] Start training from score -2.777580\n",
      "[LightGBM] [Info] Start training from score -2.758008\n",
      "[LightGBM] [Info] Start training from score -2.773235\n",
      "[LightGBM] [Info] Start training from score -2.777245\n",
      "[LightGBM] [Info] Start training from score -2.772235\n",
      "[LightGBM] [Info] Start training from score -2.767249\n",
      "[LightGBM] [Info] Start training from score -2.762618\n"
     ]
    },
    {
     "data": {
      "text/html": [
       "<style>#sk-container-id-1 {color: black;background-color: white;}#sk-container-id-1 pre{padding: 0;}#sk-container-id-1 div.sk-toggleable {background-color: white;}#sk-container-id-1 label.sk-toggleable__label {cursor: pointer;display: block;width: 100%;margin-bottom: 0;padding: 0.3em;box-sizing: border-box;text-align: center;}#sk-container-id-1 label.sk-toggleable__label-arrow:before {content: \"▸\";float: left;margin-right: 0.25em;color: #696969;}#sk-container-id-1 label.sk-toggleable__label-arrow:hover:before {color: black;}#sk-container-id-1 div.sk-estimator:hover label.sk-toggleable__label-arrow:before {color: black;}#sk-container-id-1 div.sk-toggleable__content {max-height: 0;max-width: 0;overflow: hidden;text-align: left;background-color: #f0f8ff;}#sk-container-id-1 div.sk-toggleable__content pre {margin: 0.2em;color: black;border-radius: 0.25em;background-color: #f0f8ff;}#sk-container-id-1 input.sk-toggleable__control:checked~div.sk-toggleable__content {max-height: 200px;max-width: 100%;overflow: auto;}#sk-container-id-1 input.sk-toggleable__control:checked~label.sk-toggleable__label-arrow:before {content: \"▾\";}#sk-container-id-1 div.sk-estimator input.sk-toggleable__control:checked~label.sk-toggleable__label {background-color: #d4ebff;}#sk-container-id-1 div.sk-label input.sk-toggleable__control:checked~label.sk-toggleable__label {background-color: #d4ebff;}#sk-container-id-1 input.sk-hidden--visually {border: 0;clip: rect(1px 1px 1px 1px);clip: rect(1px, 1px, 1px, 1px);height: 1px;margin: -1px;overflow: hidden;padding: 0;position: absolute;width: 1px;}#sk-container-id-1 div.sk-estimator {font-family: monospace;background-color: #f0f8ff;border: 1px dotted black;border-radius: 0.25em;box-sizing: border-box;margin-bottom: 0.5em;}#sk-container-id-1 div.sk-estimator:hover {background-color: #d4ebff;}#sk-container-id-1 div.sk-parallel-item::after {content: \"\";width: 100%;border-bottom: 1px solid gray;flex-grow: 1;}#sk-container-id-1 div.sk-label:hover label.sk-toggleable__label {background-color: #d4ebff;}#sk-container-id-1 div.sk-serial::before {content: \"\";position: absolute;border-left: 1px solid gray;box-sizing: border-box;top: 0;bottom: 0;left: 50%;z-index: 0;}#sk-container-id-1 div.sk-serial {display: flex;flex-direction: column;align-items: center;background-color: white;padding-right: 0.2em;padding-left: 0.2em;position: relative;}#sk-container-id-1 div.sk-item {position: relative;z-index: 1;}#sk-container-id-1 div.sk-parallel {display: flex;align-items: stretch;justify-content: center;background-color: white;position: relative;}#sk-container-id-1 div.sk-item::before, #sk-container-id-1 div.sk-parallel-item::before {content: \"\";position: absolute;border-left: 1px solid gray;box-sizing: border-box;top: 0;bottom: 0;left: 50%;z-index: -1;}#sk-container-id-1 div.sk-parallel-item {display: flex;flex-direction: column;z-index: 1;position: relative;background-color: white;}#sk-container-id-1 div.sk-parallel-item:first-child::after {align-self: flex-end;width: 50%;}#sk-container-id-1 div.sk-parallel-item:last-child::after {align-self: flex-start;width: 50%;}#sk-container-id-1 div.sk-parallel-item:only-child::after {width: 0;}#sk-container-id-1 div.sk-dashed-wrapped {border: 1px dashed gray;margin: 0 0.4em 0.5em 0.4em;box-sizing: border-box;padding-bottom: 0.4em;background-color: white;}#sk-container-id-1 div.sk-label label {font-family: monospace;font-weight: bold;display: inline-block;line-height: 1.2em;}#sk-container-id-1 div.sk-label-container {text-align: center;}#sk-container-id-1 div.sk-container {/* jupyter's `normalize.less` sets `[hidden] { display: none; }` but bootstrap.min.css set `[hidden] { display: none !important; }` so we also need the `!important` here to be able to override the default hidden behavior on the sphinx rendered scikit-learn.org. See: https://github.com/scikit-learn/scikit-learn/issues/21755 */display: inline-block !important;position: relative;}#sk-container-id-1 div.sk-text-repr-fallback {display: none;}</style><div id=\"sk-container-id-1\" class=\"sk-top-container\"><div class=\"sk-text-repr-fallback\"><pre>LGBMClassifier()</pre><b>In a Jupyter environment, please rerun this cell to show the HTML representation or trust the notebook. <br />On GitHub, the HTML representation is unable to render, please try loading this page with nbviewer.org.</b></div><div class=\"sk-container\" hidden><div class=\"sk-item\"><div class=\"sk-estimator sk-toggleable\"><input class=\"sk-toggleable__control sk-hidden--visually\" id=\"sk-estimator-id-1\" type=\"checkbox\" checked><label for=\"sk-estimator-id-1\" class=\"sk-toggleable__label sk-toggleable__label-arrow\">LGBMClassifier</label><div class=\"sk-toggleable__content\"><pre>LGBMClassifier()</pre></div></div></div></div></div>"
      ],
      "text/plain": [
       "LGBMClassifier()"
      ]
     },
     "execution_count": 14,
     "metadata": {},
     "output_type": "execute_result"
    }
   ],
   "source": [
    "# Train LightGBM model\n",
    "model = LGBMClassifier()\n",
    "model.fit(X_train, y_train)"
   ]
  },
  {
   "cell_type": "code",
   "execution_count": 15,
   "id": "42abbbcd",
   "metadata": {
    "execution": {
     "iopub.execute_input": "2025-10-03T13:27:50.193748Z",
     "iopub.status.busy": "2025-10-03T13:27:50.193414Z",
     "iopub.status.idle": "2025-10-03T13:27:51.561047Z",
     "shell.execute_reply": "2025-10-03T13:27:51.559830Z"
    },
    "papermill": {
     "duration": 1.376028,
     "end_time": "2025-10-03T13:27:51.563226",
     "exception": false,
     "start_time": "2025-10-03T13:27:50.187198",
     "status": "completed"
    },
    "tags": []
   },
   "outputs": [
    {
     "name": "stdout",
     "output_type": "stream",
     "text": [
      "Accuracy: 0.9741666666666666\n",
      "\n",
      "Classification Report:\n",
      "               precision    recall  f1-score   support\n",
      "\n",
      "           0       0.98      0.98      0.98       739\n",
      "           1       0.97      0.98      0.98       773\n",
      "           2       0.98      0.98      0.98       738\n",
      "           3       0.98      0.98      0.98       748\n",
      "           4       0.97      0.97      0.97       770\n",
      "           5       0.99      0.97      0.98       790\n",
      "           6       0.98      0.97      0.98       739\n",
      "           7       0.97      0.97      0.97       773\n",
      "           8       0.97      0.97      0.97       775\n",
      "           9       0.97      0.96      0.97       749\n",
      "          10       0.96      0.98      0.97       699\n",
      "          11       0.96      0.98      0.97       744\n",
      "          12       0.98      0.98      0.98       753\n",
      "          13       0.98      0.97      0.97       745\n",
      "          14       0.97      0.98      0.97       740\n",
      "          15       0.97      0.98      0.98       725\n",
      "\n",
      "    accuracy                           0.97     12000\n",
      "   macro avg       0.97      0.97      0.97     12000\n",
      "weighted avg       0.97      0.97      0.97     12000\n",
      "\n"
     ]
    }
   ],
   "source": [
    "# Predict\n",
    "y_pred = model.predict(X_test)\n",
    "\n",
    "# Evaluate\n",
    "print(\"Accuracy:\", accuracy_score(y_test, y_pred))\n",
    "print(\"\\nClassification Report:\\n\", classification_report(y_test, y_pred))"
   ]
  }
 ],
 "metadata": {
  "kaggle": {
   "accelerator": "none",
   "dataSources": [
    {
     "datasetId": 1912907,
     "sourceId": 3808496,
     "sourceType": "datasetVersion"
    }
   ],
   "dockerImageVersionId": 31089,
   "isGpuEnabled": false,
   "isInternetEnabled": true,
   "language": "python",
   "sourceType": "notebook"
  },
  "kernelspec": {
   "display_name": "Python 3",
   "language": "python",
   "name": "python3"
  },
  "language_info": {
   "codemirror_mode": {
    "name": "ipython",
    "version": 3
   },
   "file_extension": ".py",
   "mimetype": "text/x-python",
   "name": "python",
   "nbconvert_exporter": "python",
   "pygments_lexer": "ipython3",
   "version": "3.11.13"
  },
  "papermill": {
   "default_parameters": {},
   "duration": 32.351467,
   "end_time": "2025-10-03T13:27:52.694075",
   "environment_variables": {},
   "exception": null,
   "input_path": "__notebook__.ipynb",
   "output_path": "__notebook__.ipynb",
   "parameters": {},
   "start_time": "2025-10-03T13:27:20.342608",
   "version": "2.6.0"
  }
 },
 "nbformat": 4,
 "nbformat_minor": 5
}
