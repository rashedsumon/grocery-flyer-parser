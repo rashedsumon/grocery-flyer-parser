{
 "cells": [
  {
   "cell_type": "code",
   "execution_count": 1,
   "id": "beda90e9",
   "metadata": {
    "_cell_guid": "b1076dfc-b9ad-4769-8c92-a6c4dae69d19",
    "_uuid": "8f2839f25d086af736a60e9eeb907d3b93b6e0e5",
    "execution": {
     "iopub.execute_input": "2025-10-03T13:28:50.627865Z",
     "iopub.status.busy": "2025-10-03T13:28:50.627474Z",
     "iopub.status.idle": "2025-10-03T13:28:52.462904Z",
     "shell.execute_reply": "2025-10-03T13:28:52.461905Z"
    },
    "papermill": {
     "duration": 1.842377,
     "end_time": "2025-10-03T13:28:52.464494",
     "exception": false,
     "start_time": "2025-10-03T13:28:50.622117",
     "status": "completed"
    },
    "tags": []
   },
   "outputs": [
    {
     "name": "stdout",
     "output_type": "stream",
     "text": [
      "/kaggle/input/fake-news-classification/train (2).csv\n",
      "/kaggle/input/fake-news-classification/evaluation.csv\n",
      "/kaggle/input/fake-news-classification/test (1).csv\n"
     ]
    }
   ],
   "source": [
    "# This Python 3 environment comes with many helpful analytics libraries installed\n",
    "# It is defined by the kaggle/python Docker image: https://github.com/kaggle/docker-python\n",
    "# For example, here's several helpful packages to load\n",
    "\n",
    "import numpy as np # linear algebra\n",
    "import pandas as pd # data processing, CSV file I/O (e.g. pd.read_csv)\n",
    "\n",
    "# Input data files are available in the read-only \"../input/\" directory\n",
    "# For example, running this (by clicking run or pressing Shift+Enter) will list all files under the input directory\n",
    "\n",
    "import os\n",
    "for dirname, _, filenames in os.walk('/kaggle/input'):\n",
    "    for filename in filenames:\n",
    "        print(os.path.join(dirname, filename))\n",
    "\n",
    "# You can write up to 20GB to the current directory (/kaggle/working/) that gets preserved as output when you create a version using \"Save & Run All\" \n",
    "# You can also write temporary files to /kaggle/temp/, but they won't be saved outside of the current session"
   ]
  },
  {
   "cell_type": "code",
   "execution_count": 2,
   "id": "97adec86",
   "metadata": {
    "execution": {
     "iopub.execute_input": "2025-10-03T13:28:52.472861Z",
     "iopub.status.busy": "2025-10-03T13:28:52.471941Z",
     "iopub.status.idle": "2025-10-03T13:28:52.476407Z",
     "shell.execute_reply": "2025-10-03T13:28:52.475700Z"
    },
    "papermill": {
     "duration": 0.009707,
     "end_time": "2025-10-03T13:28:52.477671",
     "exception": false,
     "start_time": "2025-10-03T13:28:52.467964",
     "status": "completed"
    },
    "tags": []
   },
   "outputs": [],
   "source": [
    "import warnings\n",
    "warnings.filterwarnings(\"ignore\")"
   ]
  },
  {
   "cell_type": "code",
   "execution_count": 3,
   "id": "7f0b763a",
   "metadata": {
    "execution": {
     "iopub.execute_input": "2025-10-03T13:28:52.485472Z",
     "iopub.status.busy": "2025-10-03T13:28:52.485171Z",
     "iopub.status.idle": "2025-10-03T13:28:55.097846Z",
     "shell.execute_reply": "2025-10-03T13:28:55.096852Z"
    },
    "papermill": {
     "duration": 2.618705,
     "end_time": "2025-10-03T13:28:55.099863",
     "exception": false,
     "start_time": "2025-10-03T13:28:52.481158",
     "status": "completed"
    },
    "tags": []
   },
   "outputs": [],
   "source": [
    "# Import necessary libraries\n",
    "import pandas as pd\n",
    "import matplotlib.pyplot as plt\n",
    "import seaborn as sns\n",
    "from sklearn.model_selection import train_test_split\n",
    "from sklearn.feature_extraction.text import TfidfVectorizer\n",
    "from sklearn.ensemble import RandomForestClassifier\n",
    "from sklearn.metrics import classification_report, confusion_matrix, accuracy_score"
   ]
  },
  {
   "cell_type": "code",
   "execution_count": 4,
   "id": "fa9d2b34",
   "metadata": {
    "execution": {
     "iopub.execute_input": "2025-10-03T13:28:55.107768Z",
     "iopub.status.busy": "2025-10-03T13:28:55.107314Z",
     "iopub.status.idle": "2025-10-03T13:28:57.810576Z",
     "shell.execute_reply": "2025-10-03T13:28:57.809665Z"
    },
    "papermill": {
     "duration": 2.708903,
     "end_time": "2025-10-03T13:28:57.812129",
     "exception": false,
     "start_time": "2025-10-03T13:28:55.103226",
     "status": "completed"
    },
    "tags": []
   },
   "outputs": [
    {
     "data": {
      "text/html": [
       "<div>\n",
       "<style scoped>\n",
       "    .dataframe tbody tr th:only-of-type {\n",
       "        vertical-align: middle;\n",
       "    }\n",
       "\n",
       "    .dataframe tbody tr th {\n",
       "        vertical-align: top;\n",
       "    }\n",
       "\n",
       "    .dataframe thead th {\n",
       "        text-align: right;\n",
       "    }\n",
       "</style>\n",
       "<table border=\"1\" class=\"dataframe\">\n",
       "  <thead>\n",
       "    <tr style=\"text-align: right;\">\n",
       "      <th></th>\n",
       "      <th>Unnamed: 0</th>\n",
       "      <th>title</th>\n",
       "      <th>text</th>\n",
       "      <th>label</th>\n",
       "    </tr>\n",
       "  </thead>\n",
       "  <tbody>\n",
       "    <tr>\n",
       "      <th>0</th>\n",
       "      <td>0</td>\n",
       "      <td>Palestinians switch off Christmas lights in Be...</td>\n",
       "      <td>RAMALLAH, West Bank (Reuters) - Palestinians s...</td>\n",
       "      <td>1</td>\n",
       "    </tr>\n",
       "    <tr>\n",
       "      <th>1</th>\n",
       "      <td>1</td>\n",
       "      <td>China says Trump call with Taiwan president wo...</td>\n",
       "      <td>BEIJING (Reuters) - U.S. President-elect Donal...</td>\n",
       "      <td>1</td>\n",
       "    </tr>\n",
       "    <tr>\n",
       "      <th>2</th>\n",
       "      <td>2</td>\n",
       "      <td>FAIL! The Trump Organization’s Credit Score W...</td>\n",
       "      <td>While the controversy over Trump s personal ta...</td>\n",
       "      <td>0</td>\n",
       "    </tr>\n",
       "    <tr>\n",
       "      <th>3</th>\n",
       "      <td>3</td>\n",
       "      <td>Zimbabwe military chief's China trip was norma...</td>\n",
       "      <td>BEIJING (Reuters) - A trip to Beijing last wee...</td>\n",
       "      <td>1</td>\n",
       "    </tr>\n",
       "    <tr>\n",
       "      <th>4</th>\n",
       "      <td>4</td>\n",
       "      <td>THE MOST UNCOURAGEOUS PRESIDENT EVER Receives ...</td>\n",
       "      <td>There has never been a more UNCOURAGEOUS perso...</td>\n",
       "      <td>0</td>\n",
       "    </tr>\n",
       "  </tbody>\n",
       "</table>\n",
       "</div>"
      ],
      "text/plain": [
       "   Unnamed: 0                                              title  \\\n",
       "0           0  Palestinians switch off Christmas lights in Be...   \n",
       "1           1  China says Trump call with Taiwan president wo...   \n",
       "2           2   FAIL! The Trump Organization’s Credit Score W...   \n",
       "3           3  Zimbabwe military chief's China trip was norma...   \n",
       "4           4  THE MOST UNCOURAGEOUS PRESIDENT EVER Receives ...   \n",
       "\n",
       "                                                text  label  \n",
       "0  RAMALLAH, West Bank (Reuters) - Palestinians s...      1  \n",
       "1  BEIJING (Reuters) - U.S. President-elect Donal...      1  \n",
       "2  While the controversy over Trump s personal ta...      0  \n",
       "3  BEIJING (Reuters) - A trip to Beijing last wee...      1  \n",
       "4  There has never been a more UNCOURAGEOUS perso...      0  "
      ]
     },
     "execution_count": 4,
     "metadata": {},
     "output_type": "execute_result"
    }
   ],
   "source": [
    "df = pd.read_csv('/kaggle/input/fake-news-classification/train (2).csv', sep=None, engine='python')\n",
    "df.head()"
   ]
  },
  {
   "cell_type": "code",
   "execution_count": 5,
   "id": "8d5035d5",
   "metadata": {
    "execution": {
     "iopub.execute_input": "2025-10-03T13:28:57.821049Z",
     "iopub.status.busy": "2025-10-03T13:28:57.820638Z",
     "iopub.status.idle": "2025-10-03T13:28:57.827022Z",
     "shell.execute_reply": "2025-10-03T13:28:57.826084Z"
    },
    "papermill": {
     "duration": 0.012387,
     "end_time": "2025-10-03T13:28:57.828432",
     "exception": false,
     "start_time": "2025-10-03T13:28:57.816045",
     "status": "completed"
    },
    "tags": []
   },
   "outputs": [
    {
     "data": {
      "text/plain": [
       "Index(['Unnamed: 0', 'title', 'text', 'label'], dtype='object')"
      ]
     },
     "execution_count": 5,
     "metadata": {},
     "output_type": "execute_result"
    }
   ],
   "source": [
    "df.columns"
   ]
  },
  {
   "cell_type": "code",
   "execution_count": 6,
   "id": "6ee90197",
   "metadata": {
    "execution": {
     "iopub.execute_input": "2025-10-03T13:28:57.836555Z",
     "iopub.status.busy": "2025-10-03T13:28:57.836258Z",
     "iopub.status.idle": "2025-10-03T13:28:57.865189Z",
     "shell.execute_reply": "2025-10-03T13:28:57.864176Z"
    },
    "papermill": {
     "duration": 0.035303,
     "end_time": "2025-10-03T13:28:57.867237",
     "exception": false,
     "start_time": "2025-10-03T13:28:57.831934",
     "status": "completed"
    },
    "tags": []
   },
   "outputs": [
    {
     "name": "stdout",
     "output_type": "stream",
     "text": [
      "<class 'pandas.core.frame.DataFrame'>\n",
      "RangeIndex: 24353 entries, 0 to 24352\n",
      "Data columns (total 4 columns):\n",
      " #   Column      Non-Null Count  Dtype \n",
      "---  ------      --------------  ----- \n",
      " 0   Unnamed: 0  24353 non-null  int64 \n",
      " 1   title       24353 non-null  object\n",
      " 2   text        24353 non-null  object\n",
      " 3   label       24353 non-null  int64 \n",
      "dtypes: int64(2), object(2)\n",
      "memory usage: 761.2+ KB\n",
      "None\n"
     ]
    }
   ],
   "source": [
    "# Check dataset information and missing values\n",
    "print(df.info())           # Data types and non-null counts"
   ]
  },
  {
   "cell_type": "code",
   "execution_count": 7,
   "id": "27f96426",
   "metadata": {
    "execution": {
     "iopub.execute_input": "2025-10-03T13:28:57.875602Z",
     "iopub.status.busy": "2025-10-03T13:28:57.875321Z",
     "iopub.status.idle": "2025-10-03T13:28:57.888179Z",
     "shell.execute_reply": "2025-10-03T13:28:57.887179Z"
    },
    "papermill": {
     "duration": 0.018691,
     "end_time": "2025-10-03T13:28:57.889621",
     "exception": false,
     "start_time": "2025-10-03T13:28:57.870930",
     "status": "completed"
    },
    "tags": []
   },
   "outputs": [
    {
     "name": "stdout",
     "output_type": "stream",
     "text": [
      "Unnamed: 0    0\n",
      "title         0\n",
      "text          0\n",
      "label         0\n",
      "dtype: int64\n"
     ]
    }
   ],
   "source": [
    "print(df.isnull().sum())   # Count of missing values per column"
   ]
  },
  {
   "cell_type": "code",
   "execution_count": 8,
   "id": "e83d306b",
   "metadata": {
    "execution": {
     "iopub.execute_input": "2025-10-03T13:28:57.897966Z",
     "iopub.status.busy": "2025-10-03T13:28:57.897659Z",
     "iopub.status.idle": "2025-10-03T13:28:58.139397Z",
     "shell.execute_reply": "2025-10-03T13:28:58.138460Z"
    },
    "papermill": {
     "duration": 0.247457,
     "end_time": "2025-10-03T13:28:58.140759",
     "exception": false,
     "start_time": "2025-10-03T13:28:57.893302",
     "status": "completed"
    },
    "tags": []
   },
   "outputs": [
    {
     "data": {
      "image/png": "[encoded data removed]",
      "text/plain": [
       "<Figure size 640x480 with 1 Axes>"
      ]
     },
     "metadata": {},
     "output_type": "display_data"
    }
   ],
   "source": [
    "# Visualize the distribution of labels (Fake vs Real)\n",
    "sns.countplot(x='label', data=df)\n",
    "plt.title('Count of Fake and Real News')\n",
    "plt.show()"
   ]
  },
  {
   "cell_type": "code",
   "execution_count": 9,
   "id": "e7ac8299",
   "metadata": {
    "execution": {
     "iopub.execute_input": "2025-10-03T13:28:58.150361Z",
     "iopub.status.busy": "2025-10-03T13:28:58.149696Z",
     "iopub.status.idle": "2025-10-03T13:28:58.154230Z",
     "shell.execute_reply": "2025-10-03T13:28:58.153375Z"
    },
    "papermill": {
     "duration": 0.010455,
     "end_time": "2025-10-03T13:28:58.155582",
     "exception": false,
     "start_time": "2025-10-03T13:28:58.145127",
     "status": "completed"
    },
    "tags": []
   },
   "outputs": [],
   "source": [
    "# Separate features and target variable\n",
    "X = df['text']    # Text data (news content)\n",
    "y = df['label']   # Labels (0 = Real, 1 = Fake)"
   ]
  },
  {
   "cell_type": "code",
   "execution_count": 10,
   "id": "2a95af03",
   "metadata": {
    "execution": {
     "iopub.execute_input": "2025-10-03T13:28:58.164671Z",
     "iopub.status.busy": "2025-10-03T13:28:58.164420Z",
     "iopub.status.idle": "2025-10-03T13:28:58.172769Z",
     "shell.execute_reply": "2025-10-03T13:28:58.171962Z"
    },
    "papermill": {
     "duration": 0.014777,
     "end_time": "2025-10-03T13:28:58.174312",
     "exception": false,
     "start_time": "2025-10-03T13:28:58.159535",
     "status": "completed"
    },
    "tags": []
   },
   "outputs": [],
   "source": [
    "# Split dataset into training and testing sets (80% train, 20% test)\n",
    "X_train, X_test, y_train, y_test = train_test_split(X, y, test_size=0.2, random_state=42)"
   ]
  },
  {
   "cell_type": "code",
   "execution_count": 11,
   "id": "35c5bc82",
   "metadata": {
    "execution": {
     "iopub.execute_input": "2025-10-03T13:28:58.184601Z",
     "iopub.status.busy": "2025-10-03T13:28:58.184312Z",
     "iopub.status.idle": "2025-10-03T13:29:05.577488Z",
     "shell.execute_reply": "2025-10-03T13:29:05.576274Z"
    },
    "papermill": {
     "duration": 7.399873,
     "end_time": "2025-10-03T13:29:05.579253",
     "exception": false,
     "start_time": "2025-10-03T13:28:58.179380",
     "status": "completed"
    },
    "tags": []
   },
   "outputs": [],
   "source": [
    "# Convert text data into numerical features using TF-IDF Vectorizer\n",
    "vectorizer = TfidfVectorizer(stop_words='english', max_df=0.7)\n",
    "\n",
    "# Fit and transform training data, transform test data\n",
    "X_train_tfidf = vectorizer.fit_transform(X_train)\n",
    "X_test_tfidf = vectorizer.transform(X_test)"
   ]
  },
  {
   "cell_type": "code",
   "execution_count": 12,
   "id": "9b06b34b",
   "metadata": {
    "execution": {
     "iopub.execute_input": "2025-10-03T13:29:05.588934Z",
     "iopub.status.busy": "2025-10-03T13:29:05.588614Z",
     "iopub.status.idle": "2025-10-03T13:29:49.323522Z",
     "shell.execute_reply": "2025-10-03T13:29:49.322250Z"
    },
    "papermill": {
     "duration": 43.744946,
     "end_time": "2025-10-03T13:29:49.328519",
     "exception": false,
     "start_time": "2025-10-03T13:29:05.583573",
     "status": "completed"
    },
    "tags": []
   },
   "outputs": [
    {
     "data": {
      "text/html": [
       "<style>#sk-container-id-1 {color: black;background-color: white;}#sk-container-id-1 pre{padding: 0;}#sk-container-id-1 div.sk-toggleable {background-color: white;}#sk-container-id-1 label.sk-toggleable__label {cursor: pointer;display: block;width: 100%;margin-bottom: 0;padding: 0.3em;box-sizing: border-box;text-align: center;}#sk-container-id-1 label.sk-toggleable__label-arrow:before {content: \"▸\";float: left;margin-right: 0.25em;color: #696969;}#sk-container-id-1 label.sk-toggleable__label-arrow:hover:before {color: black;}#sk-container-id-1 div.sk-estimator:hover label.sk-toggleable__label-arrow:before {color: black;}#sk-container-id-1 div.sk-toggleable__content {max-height: 0;max-width: 0;overflow: hidden;text-align: left;background-color: #f0f8ff;}#sk-container-id-1 div.sk-toggleable__content pre {margin: 0.2em;color: black;border-radius: 0.25em;background-color: #f0f8ff;}#sk-container-id-1 input.sk-toggleable__control:checked~div.sk-toggleable__content {max-height: 200px;max-width: 100%;overflow: auto;}#sk-container-id-1 input.sk-toggleable__control:checked~label.sk-toggleable__label-arrow:before {content: \"▾\";}#sk-container-id-1 div.sk-estimator input.sk-toggleable__control:checked~label.sk-toggleable__label {background-color: #d4ebff;}#sk-container-id-1 div.sk-label input.sk-toggleable__control:checked~label.sk-toggleable__label {background-color: #d4ebff;}#sk-container-id-1 input.sk-hidden--visually {border: 0;clip: rect(1px 1px 1px 1px);clip: rect(1px, 1px, 1px, 1px);height: 1px;margin: -1px;overflow: hidden;padding: 0;position: absolute;width: 1px;}#sk-container-id-1 div.sk-estimator {font-family: monospace;background-color: #f0f8ff;border: 1px dotted black;border-radius: 0.25em;box-sizing: border-box;margin-bottom: 0.5em;}#sk-container-id-1 div.sk-estimator:hover {background-color: #d4ebff;}#sk-container-id-1 div.sk-parallel-item::after {content: \"\";width: 100%;border-bottom: 1px solid gray;flex-grow: 1;}#sk-container-id-1 div.sk-label:hover label.sk-toggleable__label {background-color: #d4ebff;}#sk-container-id-1 div.sk-serial::before {content: \"\";position: absolute;border-left: 1px solid gray;box-sizing: border-box;top: 0;bottom: 0;left: 50%;z-index: 0;}#sk-container-id-1 div.sk-serial {display: flex;flex-direction: column;align-items: center;background-color: white;padding-right: 0.2em;padding-left: 0.2em;position: relative;}#sk-container-id-1 div.sk-item {position: relative;z-index: 1;}#sk-container-id-1 div.sk-parallel {display: flex;align-items: stretch;justify-content: center;background-color: white;position: relative;}#sk-container-id-1 div.sk-item::before, #sk-container-id-1 div.sk-parallel-item::before {content: \"\";position: absolute;border-left: 1px solid gray;box-sizing: border-box;top: 0;bottom: 0;left: 50%;z-index: -1;}#sk-container-id-1 div.sk-parallel-item {display: flex;flex-direction: column;z-index: 1;position: relative;background-color: white;}#sk-container-id-1 div.sk-parallel-item:first-child::after {align-self: flex-end;width: 50%;}#sk-container-id-1 div.sk-parallel-item:last-child::after {align-self: flex-start;width: 50%;}#sk-container-id-1 div.sk-parallel-item:only-child::after {width: 0;}#sk-container-id-1 div.sk-dashed-wrapped {border: 1px dashed gray;margin: 0 0.4em 0.5em 0.4em;box-sizing: border-box;padding-bottom: 0.4em;background-color: white;}#sk-container-id-1 div.sk-label label {font-family: monospace;font-weight: bold;display: inline-block;line-height: 1.2em;}#sk-container-id-1 div.sk-label-container {text-align: center;}#sk-container-id-1 div.sk-container {/* jupyter's `normalize.less` sets `[hidden] { display: none; }` but bootstrap.min.css set `[hidden] { display: none !important; }` so we also need the `!important` here to be able to override the default hidden behavior on the sphinx rendered scikit-learn.org. See: https://github.com/scikit-learn/scikit-learn/issues/21755 */display: inline-block !important;position: relative;}#sk-container-id-1 div.sk-text-repr-fallback {display: none;}</style><div id=\"sk-container-id-1\" class=\"sk-top-container\"><div class=\"sk-text-repr-fallback\"><pre>RandomForestClassifier(random_state=42)</pre><b>In a Jupyter environment, please rerun this cell to show the HTML representation or trust the notebook. <br />On GitHub, the HTML representation is unable to render, please try loading this page with nbviewer.org.</b></div><div class=\"sk-container\" hidden><div class=\"sk-item\"><div class=\"sk-estimator sk-toggleable\"><input class=\"sk-toggleable__control sk-hidden--visually\" id=\"sk-estimator-id-1\" type=\"checkbox\" checked><label for=\"sk-estimator-id-1\" class=\"sk-toggleable__label sk-toggleable__label-arrow\">RandomForestClassifier</label><div class=\"sk-toggleable__content\"><pre>RandomForestClassifier(random_state=42)</pre></div></div></div></div></div>"
      ],
      "text/plain": [
       "RandomForestClassifier(random_state=42)"
      ]
     },
     "execution_count": 12,
     "metadata": {},
     "output_type": "execute_result"
    }
   ],
   "source": [
    "# Train a Random Forest Classifier on the training data\n",
    "model = RandomForestClassifier(n_estimators=100, random_state=42)\n",
    "model.fit(X_train_tfidf, y_train)"
   ]
  },
  {
   "cell_type": "code",
   "execution_count": 13,
   "id": "71c6cb65",
   "metadata": {
    "execution": {
     "iopub.execute_input": "2025-10-03T13:29:49.338450Z",
     "iopub.status.busy": "2025-10-03T13:29:49.338107Z",
     "iopub.status.idle": "2025-10-03T13:29:49.901622Z",
     "shell.execute_reply": "2025-10-03T13:29:49.900682Z"
    },
    "papermill": {
     "duration": 0.570608,
     "end_time": "2025-10-03T13:29:49.903440",
     "exception": false,
     "start_time": "2025-10-03T13:29:49.332832",
     "status": "completed"
    },
    "tags": []
   },
   "outputs": [],
   "source": [
    "# Make predictions on the test data\n",
    "y_pred = model.predict(X_test_tfidf)"
   ]
  },
  {
   "cell_type": "code",
   "execution_count": 14,
   "id": "85640e45",
   "metadata": {
    "execution": {
     "iopub.execute_input": "2025-10-03T13:29:49.913495Z",
     "iopub.status.busy": "2025-10-03T13:29:49.913185Z",
     "iopub.status.idle": "2025-10-03T13:29:49.932943Z",
     "shell.execute_reply": "2025-10-03T13:29:49.931768Z"
    },
    "papermill": {
     "duration": 0.026695,
     "end_time": "2025-10-03T13:29:49.934497",
     "exception": false,
     "start_time": "2025-10-03T13:29:49.907802",
     "status": "completed"
    },
    "tags": []
   },
   "outputs": [
    {
     "name": "stdout",
     "output_type": "stream",
     "text": [
      "Accuracy: 0.9648942722233628\n",
      "\n",
      "Classification Report:\n",
      "               precision    recall  f1-score   support\n",
      "\n",
      "           0       0.96      0.96      0.96      2215\n",
      "           1       0.97      0.97      0.97      2656\n",
      "\n",
      "    accuracy                           0.96      4871\n",
      "   macro avg       0.96      0.96      0.96      4871\n",
      "weighted avg       0.96      0.96      0.96      4871\n",
      "\n"
     ]
    }
   ],
   "source": [
    "# Evaluate model performance\n",
    "print(\"Accuracy:\", accuracy_score(y_test, y_pred))\n",
    "print(\"\\nClassification Report:\\n\", classification_report(y_test, y_pred))"
   ]
  },
  {
   "cell_type": "code",
   "execution_count": 15,
   "id": "000a64fa",
   "metadata": {
    "execution": {
     "iopub.execute_input": "2025-10-03T13:29:49.944604Z",
     "iopub.status.busy": "2025-10-03T13:29:49.943797Z",
     "iopub.status.idle": "2025-10-03T13:29:50.117478Z",
     "shell.execute_reply": "2025-10-03T13:29:50.116413Z"
    },
    "papermill": {
     "duration": 0.180593,
     "end_time": "2025-10-03T13:29:50.119407",
     "exception": false,
     "start_time": "2025-10-03T13:29:49.938814",
     "status": "completed"
    },
    "tags": []
   },
   "outputs": [
    {
     "data": {
      "image/png": "[encoded data removed]",
      "text/plain": [
       "<Figure size 640x480 with 2 Axes>"
      ]
     },
     "metadata": {},
     "output_type": "display_data"
    }
   ],
   "source": [
    "# Visualize the confusion matrix to understand prediction results\n",
    "cm = confusion_matrix(y_test, y_pred)\n",
    "sns.heatmap(cm, annot=True, fmt='d', cmap='Blues',\n",
    "            xticklabels=['Real', 'Fake'], yticklabels=['Real', 'Fake'])\n",
    "plt.xlabel('Predicted Label')\n",
    "plt.ylabel('True Label')\n",
    "plt.title('Confusion Matrix')\n",
    "plt.show()"
   ]
  }
 ],
 "metadata": {
  "kaggle": {
   "accelerator": "none",
   "dataSources": [
    {
     "datasetId": 5926278,
     "sourceId": 9693156,
     "sourceType": "datasetVersion"
    }
   ],
   "dockerImageVersionId": 31089,
   "isGpuEnabled": false,
   "isInternetEnabled": true,
   "language": "python",
   "sourceType": "notebook"
  },
  "kernelspec": {
   "display_name": "Python 3",
   "language": "python",
   "name": "python3"
  },
  "language_info": {
   "codemirror_mode": {
    "name": "ipython",
    "version": 3
   },
   "file_extension": ".py",
   "mimetype": "text/x-python",
   "name": "python",
   "nbconvert_exporter": "python",
   "pygments_lexer": "ipython3",
   "version": "3.11.13"
  },
  "papermill": {
   "default_parameters": {},
   "duration": 65.674483,
   "end_time": "2025-10-03T13:29:50.945906",
   "environment_variables": {},
   "exception": null,
   "input_path": "__notebook__.ipynb",
   "output_path": "__notebook__.ipynb",
   "parameters": {},
   "start_time": "2025-10-03T13:28:45.271423",
   "version": "2.6.0"
  }
 },
 "nbformat": 4,
 "nbformat_minor": 5
}
