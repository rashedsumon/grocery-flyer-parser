{
 "cells": [
  {
   "cell_type": "code",
   "execution_count": 1,
   "id": "256f5f03",
   "metadata": {
    "_cell_guid": "b1076dfc-b9ad-4769-8c92-a6c4dae69d19",
    "_uuid": "8f2839f25d086af736a60e9eeb907d3b93b6e0e5",
    "execution": {
     "iopub.execute_input": "2025-10-03T13:24:57.236203Z",
     "iopub.status.busy": "2025-10-03T13:24:57.235760Z",
     "iopub.status.idle": "2025-10-03T13:24:59.264899Z",
     "shell.execute_reply": "2025-10-03T13:24:59.263787Z"
    },
    "papermill": {
     "duration": 2.036381,
     "end_time": "2025-10-03T13:24:59.266695",
     "exception": false,
     "start_time": "2025-10-03T13:24:57.230314",
     "status": "completed"
    },
    "tags": []
   },
   "outputs": [
    {
     "name": "stdout",
     "output_type": "stream",
     "text": [
      "/kaggle/input/global-video-game-sales/vgsales.csv\n"
     ]
    }
   ],
   "source": [
    "# This Python 3 environment comes with many helpful analytics libraries installed\n",
    "# It is defined by the kaggle/python Docker image: https://github.com/kaggle/docker-python\n",
    "# For example, here's several helpful packages to load\n",
    "\n",
    "import numpy as np # linear algebra\n",
    "import pandas as pd # data processing, CSV file I/O (e.g. pd.read_csv)\n",
    "\n",
    "# Input data files are available in the read-only \"../input/\" directory\n",
    "# For example, running this (by clicking run or pressing Shift+Enter) will list all files under the input directory\n",
    "\n",
    "import os\n",
    "for dirname, _, filenames in os.walk('/kaggle/input'):\n",
    "    for filename in filenames:\n",
    "        print(os.path.join(dirname, filename))\n",
    "\n",
    "# You can write up to 20GB to the current directory (/kaggle/working/) that gets preserved as output when you create a version using \"Save & Run All\" \n",
    "# You can also write temporary files to /kaggle/temp/, but they won't be saved outside of the current session"
   ]
  },
  {
   "cell_type": "code",
   "execution_count": 2,
   "id": "50cc66d1",
   "metadata": {
    "execution": {
     "iopub.execute_input": "2025-10-03T13:24:59.276774Z",
     "iopub.status.busy": "2025-10-03T13:24:59.276355Z",
     "iopub.status.idle": "2025-10-03T13:24:59.281753Z",
     "shell.execute_reply": "2025-10-03T13:24:59.280721Z"
    },
    "papermill": {
     "duration": 0.013159,
     "end_time": "2025-10-03T13:24:59.283583",
     "exception": false,
     "start_time": "2025-10-03T13:24:59.270424",
     "status": "completed"
    },
    "tags": []
   },
   "outputs": [],
   "source": [
    "import warnings\n",
    "warnings.filterwarnings(\"ignore\")"
   ]
  },
  {
   "cell_type": "code",
   "execution_count": 3,
   "id": "9dfd6430",
   "metadata": {
    "execution": {
     "iopub.execute_input": "2025-10-03T13:24:59.291939Z",
     "iopub.status.busy": "2025-10-03T13:24:59.291514Z",
     "iopub.status.idle": "2025-10-03T13:25:01.403611Z",
     "shell.execute_reply": "2025-10-03T13:25:01.402528Z"
    },
    "papermill": {
     "duration": 2.118184,
     "end_time": "2025-10-03T13:25:01.405366",
     "exception": false,
     "start_time": "2025-10-03T13:24:59.287182",
     "status": "completed"
    },
    "tags": []
   },
   "outputs": [],
   "source": [
    "import pandas as pd\n",
    "import matplotlib.pyplot as plt\n",
    "import seaborn as sns"
   ]
  },
  {
   "cell_type": "code",
   "execution_count": 4,
   "id": "8db0667f",
   "metadata": {
    "execution": {
     "iopub.execute_input": "2025-10-03T13:25:01.413574Z",
     "iopub.status.busy": "2025-10-03T13:25:01.413117Z",
     "iopub.status.idle": "2025-10-03T13:25:01.540272Z",
     "shell.execute_reply": "2025-10-03T13:25:01.538842Z"
    },
    "papermill": {
     "duration": 0.133302,
     "end_time": "2025-10-03T13:25:01.542089",
     "exception": false,
     "start_time": "2025-10-03T13:25:01.408787",
     "status": "completed"
    },
    "tags": []
   },
   "outputs": [
    {
     "data": {
      "text/html": [
       "<div>\n",
       "<style scoped>\n",
       "    .dataframe tbody tr th:only-of-type {\n",
       "        vertical-align: middle;\n",
       "    }\n",
       "\n",
       "    .dataframe tbody tr th {\n",
       "        vertical-align: top;\n",
       "    }\n",
       "\n",
       "    .dataframe thead th {\n",
       "        text-align: right;\n",
       "    }\n",
       "</style>\n",
       "<table border=\"1\" class=\"dataframe\">\n",
       "  <thead>\n",
       "    <tr style=\"text-align: right;\">\n",
       "      <th></th>\n",
       "      <th>Rank</th>\n",
       "      <th>Name</th>\n",
       "      <th>Platform</th>\n",
       "      <th>Year</th>\n",
       "      <th>Genre</th>\n",
       "      <th>Publisher</th>\n",
       "      <th>NA_Sales</th>\n",
       "      <th>EU_Sales</th>\n",
       "      <th>JP_Sales</th>\n",
       "      <th>Other_Sales</th>\n",
       "      <th>Global_Sales</th>\n",
       "    </tr>\n",
       "  </thead>\n",
       "  <tbody>\n",
       "    <tr>\n",
       "      <th>0</th>\n",
       "      <td>1</td>\n",
       "      <td>Wii Sports</td>\n",
       "      <td>Wii</td>\n",
       "      <td>2006.0</td>\n",
       "      <td>Sports</td>\n",
       "      <td>Nintendo</td>\n",
       "      <td>41.49</td>\n",
       "      <td>29.02</td>\n",
       "      <td>3.77</td>\n",
       "      <td>8.46</td>\n",
       "      <td>82.74</td>\n",
       "    </tr>\n",
       "    <tr>\n",
       "      <th>1</th>\n",
       "      <td>2</td>\n",
       "      <td>Super Mario Bros.</td>\n",
       "      <td>NES</td>\n",
       "      <td>1985.0</td>\n",
       "      <td>Platform</td>\n",
       "      <td>Nintendo</td>\n",
       "      <td>29.08</td>\n",
       "      <td>3.58</td>\n",
       "      <td>6.81</td>\n",
       "      <td>0.77</td>\n",
       "      <td>40.24</td>\n",
       "    </tr>\n",
       "    <tr>\n",
       "      <th>2</th>\n",
       "      <td>3</td>\n",
       "      <td>Mario Kart Wii</td>\n",
       "      <td>Wii</td>\n",
       "      <td>2008.0</td>\n",
       "      <td>Racing</td>\n",
       "      <td>Nintendo</td>\n",
       "      <td>15.85</td>\n",
       "      <td>12.88</td>\n",
       "      <td>3.79</td>\n",
       "      <td>3.31</td>\n",
       "      <td>35.82</td>\n",
       "    </tr>\n",
       "    <tr>\n",
       "      <th>3</th>\n",
       "      <td>4</td>\n",
       "      <td>Wii Sports Resort</td>\n",
       "      <td>Wii</td>\n",
       "      <td>2009.0</td>\n",
       "      <td>Sports</td>\n",
       "      <td>Nintendo</td>\n",
       "      <td>15.75</td>\n",
       "      <td>11.01</td>\n",
       "      <td>3.28</td>\n",
       "      <td>2.96</td>\n",
       "      <td>33.00</td>\n",
       "    </tr>\n",
       "    <tr>\n",
       "      <th>4</th>\n",
       "      <td>5</td>\n",
       "      <td>Pokemon Red/Pokemon Blue</td>\n",
       "      <td>GB</td>\n",
       "      <td>1996.0</td>\n",
       "      <td>Role-Playing</td>\n",
       "      <td>Nintendo</td>\n",
       "      <td>11.27</td>\n",
       "      <td>8.89</td>\n",
       "      <td>10.22</td>\n",
       "      <td>1.00</td>\n",
       "      <td>31.37</td>\n",
       "    </tr>\n",
       "  </tbody>\n",
       "</table>\n",
       "</div>"
      ],
      "text/plain": [
       "   Rank                      Name Platform    Year         Genre Publisher  \\\n",
       "0     1                Wii Sports      Wii  2006.0        Sports  Nintendo   \n",
       "1     2         Super Mario Bros.      NES  1985.0      Platform  Nintendo   \n",
       "2     3            Mario Kart Wii      Wii  2008.0        Racing  Nintendo   \n",
       "3     4         Wii Sports Resort      Wii  2009.0        Sports  Nintendo   \n",
       "4     5  Pokemon Red/Pokemon Blue       GB  1996.0  Role-Playing  Nintendo   \n",
       "\n",
       "   NA_Sales  EU_Sales  JP_Sales  Other_Sales  Global_Sales  \n",
       "0     41.49     29.02      3.77         8.46         82.74  \n",
       "1     29.08      3.58      6.81         0.77         40.24  \n",
       "2     15.85     12.88      3.79         3.31         35.82  \n",
       "3     15.75     11.01      3.28         2.96         33.00  \n",
       "4     11.27      8.89     10.22         1.00         31.37  "
      ]
     },
     "execution_count": 4,
     "metadata": {},
     "output_type": "execute_result"
    }
   ],
   "source": [
    "df = pd.read_csv('/kaggle/input/global-video-game-sales/vgsales.csv')\n",
    "df.head()"
   ]
  },
  {
   "cell_type": "code",
   "execution_count": 5,
   "id": "3c0d66ef",
   "metadata": {
    "execution": {
     "iopub.execute_input": "2025-10-03T13:25:01.551794Z",
     "iopub.status.busy": "2025-10-03T13:25:01.551470Z",
     "iopub.status.idle": "2025-10-03T13:25:01.560233Z",
     "shell.execute_reply": "2025-10-03T13:25:01.558825Z"
    },
    "papermill": {
     "duration": 0.016038,
     "end_time": "2025-10-03T13:25:01.562027",
     "exception": false,
     "start_time": "2025-10-03T13:25:01.545989",
     "status": "completed"
    },
    "tags": []
   },
   "outputs": [
    {
     "data": {
      "text/plain": [
       "Index(['Rank', 'Name', 'Platform', 'Year', 'Genre', 'Publisher', 'NA_Sales',\n",
       "       'EU_Sales', 'JP_Sales', 'Other_Sales', 'Global_Sales'],\n",
       "      dtype='object')"
      ]
     },
     "execution_count": 5,
     "metadata": {},
     "output_type": "execute_result"
    }
   ],
   "source": [
    "df.columns"
   ]
  },
  {
   "cell_type": "code",
   "execution_count": 6,
   "id": "2660cee2",
   "metadata": {
    "execution": {
     "iopub.execute_input": "2025-10-03T13:25:01.570550Z",
     "iopub.status.busy": "2025-10-03T13:25:01.570239Z",
     "iopub.status.idle": "2025-10-03T13:25:01.583887Z",
     "shell.execute_reply": "2025-10-03T13:25:01.582368Z"
    },
    "papermill": {
     "duration": 0.019925,
     "end_time": "2025-10-03T13:25:01.585702",
     "exception": false,
     "start_time": "2025-10-03T13:25:01.565777",
     "status": "completed"
    },
    "tags": []
   },
   "outputs": [
    {
     "data": {
      "text/plain": [
       "Rank              0\n",
       "Name              0\n",
       "Platform          0\n",
       "Year            271\n",
       "Genre             0\n",
       "Publisher        58\n",
       "NA_Sales          0\n",
       "EU_Sales          0\n",
       "JP_Sales          0\n",
       "Other_Sales       0\n",
       "Global_Sales      0\n",
       "dtype: int64"
      ]
     },
     "execution_count": 6,
     "metadata": {},
     "output_type": "execute_result"
    }
   ],
   "source": [
    "# Check missing values\n",
    "df.isnull().sum()"
   ]
  },
  {
   "cell_type": "code",
   "execution_count": 7,
   "id": "9de5aa25",
   "metadata": {
    "execution": {
     "iopub.execute_input": "2025-10-03T13:25:01.594695Z",
     "iopub.status.busy": "2025-10-03T13:25:01.594405Z",
     "iopub.status.idle": "2025-10-03T13:25:01.610546Z",
     "shell.execute_reply": "2025-10-03T13:25:01.609455Z"
    },
    "papermill": {
     "duration": 0.022743,
     "end_time": "2025-10-03T13:25:01.612365",
     "exception": false,
     "start_time": "2025-10-03T13:25:01.589622",
     "status": "completed"
    },
    "tags": []
   },
   "outputs": [],
   "source": [
    "# Drop rows with missing values\n",
    "df.dropna(inplace=True)"
   ]
  },
  {
   "cell_type": "code",
   "execution_count": 8,
   "id": "9b3b4b55",
   "metadata": {
    "execution": {
     "iopub.execute_input": "2025-10-03T13:25:01.621470Z",
     "iopub.status.busy": "2025-10-03T13:25:01.621176Z",
     "iopub.status.idle": "2025-10-03T13:25:01.634914Z",
     "shell.execute_reply": "2025-10-03T13:25:01.634001Z"
    },
    "papermill": {
     "duration": 0.020103,
     "end_time": "2025-10-03T13:25:01.636465",
     "exception": false,
     "start_time": "2025-10-03T13:25:01.616362",
     "status": "completed"
    },
    "tags": []
   },
   "outputs": [
    {
     "data": {
      "text/plain": [
       "Rank            0\n",
       "Name            0\n",
       "Platform        0\n",
       "Year            0\n",
       "Genre           0\n",
       "Publisher       0\n",
       "NA_Sales        0\n",
       "EU_Sales        0\n",
       "JP_Sales        0\n",
       "Other_Sales     0\n",
       "Global_Sales    0\n",
       "dtype: int64"
      ]
     },
     "execution_count": 8,
     "metadata": {},
     "output_type": "execute_result"
    }
   ],
   "source": [
    "# Confirm no missing values\n",
    "df.isnull().sum()"
   ]
  },
  {
   "cell_type": "code",
   "execution_count": 9,
   "id": "3991eebb",
   "metadata": {
    "execution": {
     "iopub.execute_input": "2025-10-03T13:25:01.645538Z",
     "iopub.status.busy": "2025-10-03T13:25:01.645258Z",
     "iopub.status.idle": "2025-10-03T13:25:02.030967Z",
     "shell.execute_reply": "2025-10-03T13:25:02.029829Z"
    },
    "papermill": {
     "duration": 0.392056,
     "end_time": "2025-10-03T13:25:02.032626",
     "exception": false,
     "start_time": "2025-10-03T13:25:01.640570",
     "status": "completed"
    },
    "tags": []
   },
   "outputs": [
    {
     "data": {
      "image/png": "[encoded data removed]",
      "text/plain": [
       "<Figure size 800x400 with 1 Axes>"
      ]
     },
     "metadata": {},
     "output_type": "display_data"
    }
   ],
   "source": [
    "# Top 10 platforms by global sales\n",
    "top_platforms = df.groupby('Platform')['Global_Sales'].sum().sort_values(ascending=False).head(10)\n",
    "top_platforms.plot(kind='bar', title='Top 10 Platforms by Global Sales', ylabel='Sales (millions)', figsize=(8,4))\n",
    "plt.show()"
   ]
  },
  {
   "cell_type": "code",
   "execution_count": 10,
   "id": "d02e3b7a",
   "metadata": {
    "execution": {
     "iopub.execute_input": "2025-10-03T13:25:02.042576Z",
     "iopub.status.busy": "2025-10-03T13:25:02.042272Z",
     "iopub.status.idle": "2025-10-03T13:25:02.353122Z",
     "shell.execute_reply": "2025-10-03T13:25:02.352013Z"
    },
    "papermill": {
     "duration": 0.317915,
     "end_time": "2025-10-03T13:25:02.354970",
     "exception": false,
     "start_time": "2025-10-03T13:25:02.037055",
     "status": "completed"
    },
    "tags": []
   },
   "outputs": [
    {
     "data": {
      "image/png": "[encoded data removed]",
      "text/plain": [
       "<Figure size 640x480 with 1 Axes>"
      ]
     },
     "metadata": {},
     "output_type": "display_data"
    }
   ],
   "source": [
    "# Genre distribution\n",
    "sns.countplot(data=df, x='Genre', order=df['Genre'].value_counts().index)\n",
    "plt.title('Number of Games per Genre')\n",
    "plt.xticks(rotation=45)\n",
    "plt.show()"
   ]
  },
  {
   "cell_type": "code",
   "execution_count": 11,
   "id": "434fe005",
   "metadata": {
    "execution": {
     "iopub.execute_input": "2025-10-03T13:25:02.368346Z",
     "iopub.status.busy": "2025-10-03T13:25:02.367988Z",
     "iopub.status.idle": "2025-10-03T13:25:02.523279Z",
     "shell.execute_reply": "2025-10-03T13:25:02.521986Z"
    },
    "papermill": {
     "duration": 0.163629,
     "end_time": "2025-10-03T13:25:02.525142",
     "exception": false,
     "start_time": "2025-10-03T13:25:02.361513",
     "status": "completed"
    },
    "tags": []
   },
   "outputs": [
    {
     "data": {
      "image/png": "[encoded data removed]",
      "text/plain": [
       "<Figure size 640x480 with 1 Axes>"
      ]
     },
     "metadata": {},
     "output_type": "display_data"
    }
   ],
   "source": [
    "# Sales by Region\n",
    "regions = ['NA_Sales', 'EU_Sales', 'JP_Sales', 'Other_Sales']\n",
    "df[regions].sum().plot(kind='bar', title='Sales by Region', ylabel='Sales (millions)')\n",
    "plt.show()"
   ]
  },
  {
   "cell_type": "code",
   "execution_count": 12,
   "id": "2fe6647d",
   "metadata": {
    "execution": {
     "iopub.execute_input": "2025-10-03T13:25:02.537007Z",
     "iopub.status.busy": "2025-10-03T13:25:02.536630Z",
     "iopub.status.idle": "2025-10-03T13:25:02.921333Z",
     "shell.execute_reply": "2025-10-03T13:25:02.920273Z"
    },
    "papermill": {
     "duration": 0.392537,
     "end_time": "2025-10-03T13:25:02.923052",
     "exception": false,
     "start_time": "2025-10-03T13:25:02.530515",
     "status": "completed"
    },
    "tags": []
   },
   "outputs": [],
   "source": [
    "from sklearn.model_selection import train_test_split\n",
    "from sklearn.preprocessing import LabelEncoder\n",
    "\n",
    "# Select features and target\n",
    "features = ['Platform', 'Year', 'Genre', 'Publisher', 'NA_Sales', 'EU_Sales', 'JP_Sales', 'Other_Sales']\n",
    "X = df[features].copy()  # <-- Safe copy to avoid SettingWithCopyWarning\n",
    "y = df['Global_Sales']"
   ]
  },
  {
   "cell_type": "code",
   "execution_count": 13,
   "id": "0d8c8b31",
   "metadata": {
    "execution": {
     "iopub.execute_input": "2025-10-03T13:25:02.935106Z",
     "iopub.status.busy": "2025-10-03T13:25:02.934748Z",
     "iopub.status.idle": "2025-10-03T13:25:02.951735Z",
     "shell.execute_reply": "2025-10-03T13:25:02.950705Z"
    },
    "papermill": {
     "duration": 0.024819,
     "end_time": "2025-10-03T13:25:02.953352",
     "exception": false,
     "start_time": "2025-10-03T13:25:02.928533",
     "status": "completed"
    },
    "tags": []
   },
   "outputs": [],
   "source": [
    "# Encode categorical columns\n",
    "le = LabelEncoder()\n",
    "for col in ['Platform', 'Genre', 'Publisher']:\n",
    "    X[col] = le.fit_transform(X[col])  # Safe now because X is a copy"
   ]
  },
  {
   "cell_type": "code",
   "execution_count": 14,
   "id": "1dc3a877",
   "metadata": {
    "execution": {
     "iopub.execute_input": "2025-10-03T13:25:02.965296Z",
     "iopub.status.busy": "2025-10-03T13:25:02.964946Z",
     "iopub.status.idle": "2025-10-03T13:25:02.974121Z",
     "shell.execute_reply": "2025-10-03T13:25:02.973056Z"
    },
    "papermill": {
     "duration": 0.017309,
     "end_time": "2025-10-03T13:25:02.975907",
     "exception": false,
     "start_time": "2025-10-03T13:25:02.958598",
     "status": "completed"
    },
    "tags": []
   },
   "outputs": [],
   "source": [
    "# Train-test split\n",
    "X_train, X_test, y_train, y_test = train_test_split(X, y, test_size=0.2, random_state=42)"
   ]
  },
  {
   "cell_type": "code",
   "execution_count": 15,
   "id": "34a5d80c",
   "metadata": {
    "execution": {
     "iopub.execute_input": "2025-10-03T13:25:02.988197Z",
     "iopub.status.busy": "2025-10-03T13:25:02.987797Z",
     "iopub.status.idle": "2025-10-03T13:25:04.682025Z",
     "shell.execute_reply": "2025-10-03T13:25:04.680784Z"
    },
    "papermill": {
     "duration": 1.702627,
     "end_time": "2025-10-03T13:25:04.683973",
     "exception": false,
     "start_time": "2025-10-03T13:25:02.981346",
     "status": "completed"
    },
    "tags": []
   },
   "outputs": [
    {
     "data": {
      "text/html": [
       "<style>#sk-container-id-1 {color: black;background-color: white;}#sk-container-id-1 pre{padding: 0;}#sk-container-id-1 div.sk-toggleable {background-color: white;}#sk-container-id-1 label.sk-toggleable__label {cursor: pointer;display: block;width: 100%;margin-bottom: 0;padding: 0.3em;box-sizing: border-box;text-align: center;}#sk-container-id-1 label.sk-toggleable__label-arrow:before {content: \"▸\";float: left;margin-right: 0.25em;color: #696969;}#sk-container-id-1 label.sk-toggleable__label-arrow:hover:before {color: black;}#sk-container-id-1 div.sk-estimator:hover label.sk-toggleable__label-arrow:before {color: black;}#sk-container-id-1 div.sk-toggleable__content {max-height: 0;max-width: 0;overflow: hidden;text-align: left;background-color: #f0f8ff;}#sk-container-id-1 div.sk-toggleable__content pre {margin: 0.2em;color: black;border-radius: 0.25em;background-color: #f0f8ff;}#sk-container-id-1 input.sk-toggleable__control:checked~div.sk-toggleable__content {max-height: 200px;max-width: 100%;overflow: auto;}#sk-container-id-1 input.sk-toggleable__control:checked~label.sk-toggleable__label-arrow:before {content: \"▾\";}#sk-container-id-1 div.sk-estimator input.sk-toggleable__control:checked~label.sk-toggleable__label {background-color: #d4ebff;}#sk-container-id-1 div.sk-label input.sk-toggleable__control:checked~label.sk-toggleable__label {background-color: #d4ebff;}#sk-container-id-1 input.sk-hidden--visually {border: 0;clip: rect(1px 1px 1px 1px);clip: rect(1px, 1px, 1px, 1px);height: 1px;margin: -1px;overflow: hidden;padding: 0;position: absolute;width: 1px;}#sk-container-id-1 div.sk-estimator {font-family: monospace;background-color: #f0f8ff;border: 1px dotted black;border-radius: 0.25em;box-sizing: border-box;margin-bottom: 0.5em;}#sk-container-id-1 div.sk-estimator:hover {background-color: #d4ebff;}#sk-container-id-1 div.sk-parallel-item::after {content: \"\";width: 100%;border-bottom: 1px solid gray;flex-grow: 1;}#sk-container-id-1 div.sk-label:hover label.sk-toggleable__label {background-color: #d4ebff;}#sk-container-id-1 div.sk-serial::before {content: \"\";position: absolute;border-left: 1px solid gray;box-sizing: border-box;top: 0;bottom: 0;left: 50%;z-index: 0;}#sk-container-id-1 div.sk-serial {display: flex;flex-direction: column;align-items: center;background-color: white;padding-right: 0.2em;padding-left: 0.2em;position: relative;}#sk-container-id-1 div.sk-item {position: relative;z-index: 1;}#sk-container-id-1 div.sk-parallel {display: flex;align-items: stretch;justify-content: center;background-color: white;position: relative;}#sk-container-id-1 div.sk-item::before, #sk-container-id-1 div.sk-parallel-item::before {content: \"\";position: absolute;border-left: 1px solid gray;box-sizing: border-box;top: 0;bottom: 0;left: 50%;z-index: -1;}#sk-container-id-1 div.sk-parallel-item {display: flex;flex-direction: column;z-index: 1;position: relative;background-color: white;}#sk-container-id-1 div.sk-parallel-item:first-child::after {align-self: flex-end;width: 50%;}#sk-container-id-1 div.sk-parallel-item:last-child::after {align-self: flex-start;width: 50%;}#sk-container-id-1 div.sk-parallel-item:only-child::after {width: 0;}#sk-container-id-1 div.sk-dashed-wrapped {border: 1px dashed gray;margin: 0 0.4em 0.5em 0.4em;box-sizing: border-box;padding-bottom: 0.4em;background-color: white;}#sk-container-id-1 div.sk-label label {font-family: monospace;font-weight: bold;display: inline-block;line-height: 1.2em;}#sk-container-id-1 div.sk-label-container {text-align: center;}#sk-container-id-1 div.sk-container {/* jupyter's `normalize.less` sets `[hidden] { display: none; }` but bootstrap.min.css set `[hidden] { display: none !important; }` so we also need the `!important` here to be able to override the default hidden behavior on the sphinx rendered scikit-learn.org. See: https://github.com/scikit-learn/scikit-learn/issues/21755 */display: inline-block !important;position: relative;}#sk-container-id-1 div.sk-text-repr-fallback {display: none;}</style><div id=\"sk-container-id-1\" class=\"sk-top-container\"><div class=\"sk-text-repr-fallback\"><pre>GradientBoostingRegressor()</pre><b>In a Jupyter environment, please rerun this cell to show the HTML representation or trust the notebook. <br />On GitHub, the HTML representation is unable to render, please try loading this page with nbviewer.org.</b></div><div class=\"sk-container\" hidden><div class=\"sk-item\"><div class=\"sk-estimator sk-toggleable\"><input class=\"sk-toggleable__control sk-hidden--visually\" id=\"sk-estimator-id-1\" type=\"checkbox\" checked><label for=\"sk-estimator-id-1\" class=\"sk-toggleable__label sk-toggleable__label-arrow\">GradientBoostingRegressor</label><div class=\"sk-toggleable__content\"><pre>GradientBoostingRegressor()</pre></div></div></div></div></div>"
      ],
      "text/plain": [
       "GradientBoostingRegressor()"
      ]
     },
     "execution_count": 15,
     "metadata": {},
     "output_type": "execute_result"
    }
   ],
   "source": [
    "from sklearn.ensemble import GradientBoostingRegressor\n",
    "\n",
    "# Initialize and train model\n",
    "model = GradientBoostingRegressor()\n",
    "model.fit(X_train, y_train)"
   ]
  },
  {
   "cell_type": "code",
   "execution_count": 16,
   "id": "65fe966a",
   "metadata": {
    "execution": {
     "iopub.execute_input": "2025-10-03T13:25:04.697247Z",
     "iopub.status.busy": "2025-10-03T13:25:04.696931Z",
     "iopub.status.idle": "2025-10-03T13:25:04.711165Z",
     "shell.execute_reply": "2025-10-03T13:25:04.709946Z"
    },
    "papermill": {
     "duration": 0.0224,
     "end_time": "2025-10-03T13:25:04.712822",
     "exception": false,
     "start_time": "2025-10-03T13:25:04.690422",
     "status": "completed"
    },
    "tags": []
   },
   "outputs": [
    {
     "name": "stdout",
     "output_type": "stream",
     "text": [
      "Mean Squared Error: 0.6\n",
      "R² Score: 0.86\n"
     ]
    }
   ],
   "source": [
    "from sklearn.metrics import mean_squared_error, r2_score\n",
    "\n",
    "# Predict and evaluate\n",
    "y_pred = model.predict(X_test)\n",
    "mse = mean_squared_error(y_test, y_pred)\n",
    "r2 = r2_score(y_test, y_pred)\n",
    "\n",
    "print(\"Mean Squared Error:\", round(mse, 2))\n",
    "print(\"R² Score:\", round(r2, 2))"
   ]
  }
 ],
 "metadata": {
  "kaggle": {
   "accelerator": "none",
   "dataSources": [
    {
     "datasetId": 2873389,
     "sourceId": 4954903,
     "sourceType": "datasetVersion"
    }
   ],
   "dockerImageVersionId": 31089,
   "isGpuEnabled": false,
   "isInternetEnabled": true,
   "language": "python",
   "sourceType": "notebook"
  },
  "kernelspec": {
   "display_name": "Python 3",
   "language": "python",
   "name": "python3"
  },
  "language_info": {
   "codemirror_mode": {
    "name": "ipython",
    "version": 3
   },
   "file_extension": ".py",
   "mimetype": "text/x-python",
   "name": "python",
   "nbconvert_exporter": "python",
   "pygments_lexer": "ipython3",
   "version": "3.11.13"
  },
  "papermill": {
   "default_parameters": {},
   "duration": 14.228898,
   "end_time": "2025-10-03T13:25:05.541449",
   "environment_variables": {},
   "exception": null,
   "input_path": "__notebook__.ipynb",
   "output_path": "__notebook__.ipynb",
   "parameters": {},
   "start_time": "2025-10-03T13:24:51.312551",
   "version": "2.6.0"
  }
 },
 "nbformat": 4,
 "nbformat_minor": 5
}
