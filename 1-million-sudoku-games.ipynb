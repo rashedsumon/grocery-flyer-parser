{
 "cells": [
  {
   "cell_type": "code",
   "execution_count": 1,
   "id": "29c4c061",
   "metadata": {
    "_cell_guid": "b1076dfc-b9ad-4769-8c92-a6c4dae69d19",
    "_uuid": "8f2839f25d086af736a60e9eeb907d3b93b6e0e5",
    "execution": {
     "iopub.execute_input": "2025-10-03T09:45:52.697301Z",
     "iopub.status.busy": "2025-10-03T09:45:52.696421Z",
     "iopub.status.idle": "2025-10-03T09:45:54.612816Z",
     "shell.execute_reply": "2025-10-03T09:45:54.611612Z"
    },
    "papermill": {
     "duration": 1.923915,
     "end_time": "2025-10-03T09:45:54.614474",
     "exception": false,
     "start_time": "2025-10-03T09:45:52.690559",
     "status": "completed"
    },
    "tags": []
   },
   "outputs": [
    {
     "name": "stdout",
     "output_type": "stream",
     "text": [
      "/kaggle/input/sudoku/sudoku.csv\n"
     ]
    }
   ],
   "source": [
    "# This Python 3 environment comes with many helpful analytics libraries installed\n",
    "# It is defined by the kaggle/python Docker image: https://github.com/kaggle/docker-python\n",
    "# For example, here's several helpful packages to load\n",
    "\n",
    "import numpy as np # linear algebra\n",
    "import pandas as pd # data processing, CSV file I/O (e.g. pd.read_csv)\n",
    "\n",
    "# Input data files are available in the read-only \"../input/\" directory\n",
    "# For example, running this (by clicking run or pressing Shift+Enter) will list all files under the input directory\n",
    "\n",
    "import os\n",
    "for dirname, _, filenames in os.walk('/kaggle/input'):\n",
    "    for filename in filenames:\n",
    "        print(os.path.join(dirname, filename))\n",
    "\n",
    "# You can write up to 20GB to the current directory (/kaggle/working/) that gets preserved as output when you create a version using \"Save & Run All\" \n",
    "# You can also write temporary files to /kaggle/temp/, but they won't be saved outside of the current session"
   ]
  },
  {
   "cell_type": "code",
   "execution_count": 2,
   "id": "9698fade",
   "metadata": {
    "execution": {
     "iopub.execute_input": "2025-10-03T09:45:54.623455Z",
     "iopub.status.busy": "2025-10-03T09:45:54.622496Z",
     "iopub.status.idle": "2025-10-03T09:45:54.627051Z",
     "shell.execute_reply": "2025-10-03T09:45:54.626144Z"
    },
    "papermill": {
     "duration": 0.010139,
     "end_time": "2025-10-03T09:45:54.628397",
     "exception": false,
     "start_time": "2025-10-03T09:45:54.618258",
     "status": "completed"
    },
    "tags": []
   },
   "outputs": [],
   "source": [
    "import warnings\n",
    "warnings.filterwarnings(\"ignore\")"
   ]
  },
  {
   "cell_type": "code",
   "execution_count": 3,
   "id": "aba2491e",
   "metadata": {
    "execution": {
     "iopub.execute_input": "2025-10-03T09:45:54.636471Z",
     "iopub.status.busy": "2025-10-03T09:45:54.636194Z",
     "iopub.status.idle": "2025-10-03T09:45:56.501570Z",
     "shell.execute_reply": "2025-10-03T09:45:56.500597Z"
    },
    "papermill": {
     "duration": 1.871421,
     "end_time": "2025-10-03T09:45:56.503432",
     "exception": false,
     "start_time": "2025-10-03T09:45:54.632011",
     "status": "completed"
    },
    "tags": []
   },
   "outputs": [],
   "source": [
    "import pandas as pd\n",
    "import matplotlib.pyplot as plt\n",
    "import seaborn as sns"
   ]
  },
  {
   "cell_type": "code",
   "execution_count": 4,
   "id": "7b67fafc",
   "metadata": {
    "execution": {
     "iopub.execute_input": "2025-10-03T09:45:56.511848Z",
     "iopub.status.busy": "2025-10-03T09:45:56.511411Z",
     "iopub.status.idle": "2025-10-03T09:46:01.866926Z",
     "shell.execute_reply": "2025-10-03T09:46:01.865952Z"
    },
    "papermill": {
     "duration": 5.361546,
     "end_time": "2025-10-03T09:46:01.868549",
     "exception": false,
     "start_time": "2025-10-03T09:45:56.507003",
     "status": "completed"
    },
    "tags": []
   },
   "outputs": [
    {
     "data": {
      "text/html": [
       "<div>\n",
       "<style scoped>\n",
       "    .dataframe tbody tr th:only-of-type {\n",
       "        vertical-align: middle;\n",
       "    }\n",
       "\n",
       "    .dataframe tbody tr th {\n",
       "        vertical-align: top;\n",
       "    }\n",
       "\n",
       "    .dataframe thead th {\n",
       "        text-align: right;\n",
       "    }\n",
       "</style>\n",
       "<table border=\"1\" class=\"dataframe\">\n",
       "  <thead>\n",
       "    <tr style=\"text-align: right;\">\n",
       "      <th></th>\n",
       "      <th>quizzes</th>\n",
       "      <th>solutions</th>\n",
       "    </tr>\n",
       "  </thead>\n",
       "  <tbody>\n",
       "    <tr>\n",
       "      <th>0</th>\n",
       "      <td>0043002090050090010700600430060020871900074000...</td>\n",
       "      <td>8643712593258497619712658434361925871986574322...</td>\n",
       "    </tr>\n",
       "    <tr>\n",
       "      <th>1</th>\n",
       "      <td>0401000501070039605200080000000000170009068008...</td>\n",
       "      <td>3461792581875239645296483719658324174729168358...</td>\n",
       "    </tr>\n",
       "    <tr>\n",
       "      <th>2</th>\n",
       "      <td>6001203840084590720000060050002640300700800069...</td>\n",
       "      <td>6951273841384596727248369158512647392739815469...</td>\n",
       "    </tr>\n",
       "    <tr>\n",
       "      <th>3</th>\n",
       "      <td>4972000001004000050000160986203000403009000000...</td>\n",
       "      <td>4972583161864397252537164986293815473759641828...</td>\n",
       "    </tr>\n",
       "    <tr>\n",
       "      <th>4</th>\n",
       "      <td>0059103080094030600275001000300002010008200070...</td>\n",
       "      <td>4659123781894735623275681497386452919548216372...</td>\n",
       "    </tr>\n",
       "  </tbody>\n",
       "</table>\n",
       "</div>"
      ],
      "text/plain": [
       "                                             quizzes  \\\n",
       "0  0043002090050090010700600430060020871900074000...   \n",
       "1  0401000501070039605200080000000000170009068008...   \n",
       "2  6001203840084590720000060050002640300700800069...   \n",
       "3  4972000001004000050000160986203000403009000000...   \n",
       "4  0059103080094030600275001000300002010008200070...   \n",
       "\n",
       "                                           solutions  \n",
       "0  8643712593258497619712658434361925871986574322...  \n",
       "1  3461792581875239645296483719658324174729168358...  \n",
       "2  6951273841384596727248369158512647392739815469...  \n",
       "3  4972583161864397252537164986293815473759641828...  \n",
       "4  4659123781894735623275681497386452919548216372...  "
      ]
     },
     "execution_count": 4,
     "metadata": {},
     "output_type": "execute_result"
    }
   ],
   "source": [
    "df = pd.read_csv('/kaggle/input/sudoku/sudoku.csv')\n",
    "df.head()"
   ]
  },
  {
   "cell_type": "code",
   "execution_count": 5,
   "id": "0be51f01",
   "metadata": {
    "execution": {
     "iopub.execute_input": "2025-10-03T09:46:01.877537Z",
     "iopub.status.busy": "2025-10-03T09:46:01.877213Z",
     "iopub.status.idle": "2025-10-03T09:46:01.884898Z",
     "shell.execute_reply": "2025-10-03T09:46:01.883985Z"
    },
    "papermill": {
     "duration": 0.014153,
     "end_time": "2025-10-03T09:46:01.886668",
     "exception": false,
     "start_time": "2025-10-03T09:46:01.872515",
     "status": "completed"
    },
    "tags": []
   },
   "outputs": [
    {
     "data": {
      "text/plain": [
       "Index(['quizzes', 'solutions'], dtype='object')"
      ]
     },
     "execution_count": 5,
     "metadata": {},
     "output_type": "execute_result"
    }
   ],
   "source": [
    "df.columns"
   ]
  },
  {
   "cell_type": "code",
   "execution_count": 6,
   "id": "bc36463a",
   "metadata": {
    "execution": {
     "iopub.execute_input": "2025-10-03T09:46:01.895694Z",
     "iopub.status.busy": "2025-10-03T09:46:01.895360Z",
     "iopub.status.idle": "2025-10-03T09:46:01.900913Z",
     "shell.execute_reply": "2025-10-03T09:46:01.899857Z"
    },
    "papermill": {
     "duration": 0.011713,
     "end_time": "2025-10-03T09:46:01.902322",
     "exception": false,
     "start_time": "2025-10-03T09:46:01.890609",
     "status": "completed"
    },
    "tags": []
   },
   "outputs": [
    {
     "name": "stdout",
     "output_type": "stream",
     "text": [
      "Shape: (1000000, 2)\n"
     ]
    }
   ],
   "source": [
    "print(\"Shape:\", df.shape)"
   ]
  },
  {
   "cell_type": "code",
   "execution_count": 7,
   "id": "22b6df7c",
   "metadata": {
    "execution": {
     "iopub.execute_input": "2025-10-03T09:46:01.912138Z",
     "iopub.status.busy": "2025-10-03T09:46:01.911157Z",
     "iopub.status.idle": "2025-10-03T09:46:01.916502Z",
     "shell.execute_reply": "2025-10-03T09:46:01.915443Z"
    },
    "papermill": {
     "duration": 0.011245,
     "end_time": "2025-10-03T09:46:01.917803",
     "exception": false,
     "start_time": "2025-10-03T09:46:01.906558",
     "status": "completed"
    },
    "tags": []
   },
   "outputs": [
    {
     "name": "stdout",
     "output_type": "stream",
     "text": [
      "Columns: Index(['quizzes', 'solutions'], dtype='object')\n"
     ]
    }
   ],
   "source": [
    "print(\"Columns:\", df.columns)"
   ]
  },
  {
   "cell_type": "code",
   "execution_count": 8,
   "id": "844fe84b",
   "metadata": {
    "execution": {
     "iopub.execute_input": "2025-10-03T09:46:01.926650Z",
     "iopub.status.busy": "2025-10-03T09:46:01.926348Z",
     "iopub.status.idle": "2025-10-03T09:46:02.543398Z",
     "shell.execute_reply": "2025-10-03T09:46:02.542328Z"
    },
    "papermill": {
     "duration": 0.623556,
     "end_time": "2025-10-03T09:46:02.545266",
     "exception": false,
     "start_time": "2025-10-03T09:46:01.921710",
     "status": "completed"
    },
    "tags": []
   },
   "outputs": [],
   "source": [
    "# Length of each puzzle\n",
    "df['quiz_length'] = df['quizzes'].apply(len)\n",
    "df['solution_length'] = df['solutions'].apply(len)"
   ]
  },
  {
   "cell_type": "code",
   "execution_count": 9,
   "id": "260cccd6",
   "metadata": {
    "execution": {
     "iopub.execute_input": "2025-10-03T09:46:02.554372Z",
     "iopub.status.busy": "2025-10-03T09:46:02.554028Z",
     "iopub.status.idle": "2025-10-03T09:46:04.017705Z",
     "shell.execute_reply": "2025-10-03T09:46:04.016763Z"
    },
    "papermill": {
     "duration": 1.469879,
     "end_time": "2025-10-03T09:46:04.019331",
     "exception": false,
     "start_time": "2025-10-03T09:46:02.549452",
     "status": "completed"
    },
    "tags": []
   },
   "outputs": [
    {
     "data": {
      "image/png": "[encoded data removed]",
      "text/plain": [
       "<Figure size 640x480 with 1 Axes>"
      ]
     },
     "metadata": {},
     "output_type": "display_data"
    }
   ],
   "source": [
    "# Visualize length distribution\n",
    "sns.histplot(df['quiz_length'], color='blue', label='Quizzes', kde=True)\n",
    "sns.histplot(df['solution_length'], color='green', label='Solutions', kde=True)\n",
    "plt.legend()\n",
    "plt.title(\"Length of Sudoku Quizzes and Solutions\")\n",
    "plt.show()"
   ]
  },
  {
   "cell_type": "code",
   "execution_count": 10,
   "id": "8706a898",
   "metadata": {
    "execution": {
     "iopub.execute_input": "2025-10-03T09:46:04.029564Z",
     "iopub.status.busy": "2025-10-03T09:46:04.029258Z",
     "iopub.status.idle": "2025-10-03T09:46:44.654161Z",
     "shell.execute_reply": "2025-10-03T09:46:44.653140Z"
    },
    "papermill": {
     "duration": 40.631968,
     "end_time": "2025-10-03T09:46:44.656069",
     "exception": false,
     "start_time": "2025-10-03T09:46:04.024101",
     "status": "completed"
    },
    "tags": []
   },
   "outputs": [],
   "source": [
    "from sklearn.model_selection import train_test_split\n",
    "from sklearn.preprocessing import LabelBinarizer\n",
    "import numpy as np\n",
    "\n",
    "# Convert strings to arrays of digits\n",
    "X = df['quizzes'].apply(lambda x: [int(i) for i in x]).tolist()\n",
    "y = df['solutions'].apply(lambda x: [int(i) for i in x]).tolist()\n",
    "\n",
    "# Convert to numpy arrays\n",
    "X = np.array(X)\n",
    "y = np.array(y)"
   ]
  },
  {
   "cell_type": "code",
   "execution_count": 11,
   "id": "9a6ee3d0",
   "metadata": {
    "execution": {
     "iopub.execute_input": "2025-10-03T09:46:44.666000Z",
     "iopub.status.busy": "2025-10-03T09:46:44.665656Z",
     "iopub.status.idle": "2025-10-03T09:52:12.689088Z",
     "shell.execute_reply": "2025-10-03T09:52:12.688149Z"
    },
    "papermill": {
     "duration": 328.03055,
     "end_time": "2025-10-03T09:52:12.691066",
     "exception": false,
     "start_time": "2025-10-03T09:46:44.660516",
     "status": "completed"
    },
    "tags": []
   },
   "outputs": [],
   "source": [
    "# One-hot encode output labels (0–9)\n",
    "lb = LabelBinarizer()\n",
    "lb.fit(range(10))\n",
    "y = np.array([lb.transform(row) for row in y])  # Shape: (n_samples, 81, 10)"
   ]
  },
  {
   "cell_type": "code",
   "execution_count": 12,
   "id": "4021b7cd",
   "metadata": {
    "execution": {
     "iopub.execute_input": "2025-10-03T09:52:12.701426Z",
     "iopub.status.busy": "2025-10-03T09:52:12.701137Z",
     "iopub.status.idle": "2025-10-03T09:52:14.563253Z",
     "shell.execute_reply": "2025-10-03T09:52:14.562358Z"
    },
    "papermill": {
     "duration": 1.869018,
     "end_time": "2025-10-03T09:52:14.564946",
     "exception": false,
     "start_time": "2025-10-03T09:52:12.695928",
     "status": "completed"
    },
    "tags": []
   },
   "outputs": [],
   "source": [
    "# Split data\n",
    "X_train, X_test, y_train, y_test = train_test_split(X, y, test_size=0.2, random_state=42)"
   ]
  },
  {
   "cell_type": "code",
   "execution_count": 13,
   "id": "ae5f6143",
   "metadata": {
    "execution": {
     "iopub.execute_input": "2025-10-03T09:52:14.575196Z",
     "iopub.status.busy": "2025-10-03T09:52:14.574816Z",
     "iopub.status.idle": "2025-10-03T09:52:30.734487Z",
     "shell.execute_reply": "2025-10-03T09:52:30.733638Z"
    },
    "papermill": {
     "duration": 16.166229,
     "end_time": "2025-10-03T09:52:30.735826",
     "exception": false,
     "start_time": "2025-10-03T09:52:14.569597",
     "status": "completed"
    },
    "tags": []
   },
   "outputs": [
    {
     "name": "stderr",
     "output_type": "stream",
     "text": [
      "2025-10-03 09:52:16.645306: E external/local_xla/xla/stream_executor/cuda/cuda_fft.cc:477] Unable to register cuFFT factory: Attempting to register factory for plugin cuFFT when one has already been registered\n",
      "WARNING: All log messages before absl::InitializeLog() is called are written to STDERR\n",
      "E0000 00:00:1759485136.872353      13 cuda_dnn.cc:8310] Unable to register cuDNN factory: Attempting to register factory for plugin cuDNN when one has already been registered\n",
      "E0000 00:00:1759485136.940601      13 cuda_blas.cc:1418] Unable to register cuBLAS factory: Attempting to register factory for plugin cuBLAS when one has already been registered\n",
      "2025-10-03 09:52:30.627054: E external/local_xla/xla/stream_executor/cuda/cuda_driver.cc:152] failed call to cuInit: INTERNAL: CUDA error: Failed call to cuInit: UNKNOWN ERROR (303)\n"
     ]
    },
    {
     "data": {
      "text/html": [
       "<pre style=\"white-space:pre;overflow-x:auto;line-height:normal;font-family:Menlo,'DejaVu Sans Mono',consolas,'Courier New',monospace\"><span style=\"font-weight: bold\">Model: \"sequential\"</span>\n",
       "</pre>\n"
      ],
      "text/plain": [
       "\u001b[1mModel: \"sequential\"\u001b[0m\n"
      ]
     },
     "metadata": {},
     "output_type": "display_data"
    },
    {
     "data": {
      "text/html": [
       "<pre style=\"white-space:pre;overflow-x:auto;line-height:normal;font-family:Menlo,'DejaVu Sans Mono',consolas,'Courier New',monospace\">┏━━━━━━━━━━━━━━━━━━━━━━━━━━━━━━━━━┳━━━━━━━━━━━━━━━━━━━━━━━━┳━━━━━━━━━━━━━━━┓\n",
       "┃<span style=\"font-weight: bold\"> Layer (type)                    </span>┃<span style=\"font-weight: bold\"> Output Shape           </span>┃<span style=\"font-weight: bold\">       Param # </span>┃\n",
       "┡━━━━━━━━━━━━━━━━━━━━━━━━━━━━━━━━━╇━━━━━━━━━━━━━━━━━━━━━━━━╇━━━━━━━━━━━━━━━┩\n",
       "│ dense (<span style=\"color: #0087ff; text-decoration-color: #0087ff\">Dense</span>)                   │ (<span style=\"color: #00d7ff; text-decoration-color: #00d7ff\">None</span>, <span style=\"color: #00af00; text-decoration-color: #00af00\">512</span>)            │        <span style=\"color: #00af00; text-decoration-color: #00af00\">41,984</span> │\n",
       "├─────────────────────────────────┼────────────────────────┼───────────────┤\n",
       "│ dense_1 (<span style=\"color: #0087ff; text-decoration-color: #0087ff\">Dense</span>)                 │ (<span style=\"color: #00d7ff; text-decoration-color: #00d7ff\">None</span>, <span style=\"color: #00af00; text-decoration-color: #00af00\">512</span>)            │       <span style=\"color: #00af00; text-decoration-color: #00af00\">262,656</span> │\n",
       "├─────────────────────────────────┼────────────────────────┼───────────────┤\n",
       "│ dense_2 (<span style=\"color: #0087ff; text-decoration-color: #0087ff\">Dense</span>)                 │ (<span style=\"color: #00d7ff; text-decoration-color: #00d7ff\">None</span>, <span style=\"color: #00af00; text-decoration-color: #00af00\">810</span>)            │       <span style=\"color: #00af00; text-decoration-color: #00af00\">415,530</span> │\n",
       "├─────────────────────────────────┼────────────────────────┼───────────────┤\n",
       "│ reshape (<span style=\"color: #0087ff; text-decoration-color: #0087ff\">Reshape</span>)               │ (<span style=\"color: #00d7ff; text-decoration-color: #00d7ff\">None</span>, <span style=\"color: #00af00; text-decoration-color: #00af00\">81</span>, <span style=\"color: #00af00; text-decoration-color: #00af00\">10</span>)         │             <span style=\"color: #00af00; text-decoration-color: #00af00\">0</span> │\n",
       "└─────────────────────────────────┴────────────────────────┴───────────────┘\n",
       "</pre>\n"
      ],
      "text/plain": [
       "┏━━━━━━━━━━━━━━━━━━━━━━━━━━━━━━━━━┳━━━━━━━━━━━━━━━━━━━━━━━━┳━━━━━━━━━━━━━━━┓\n",
       "┃\u001b[1m \u001b[0m\u001b[1mLayer (type)                   \u001b[0m\u001b[1m \u001b[0m┃\u001b[1m \u001b[0m\u001b[1mOutput Shape          \u001b[0m\u001b[1m \u001b[0m┃\u001b[1m \u001b[0m\u001b[1m      Param #\u001b[0m\u001b[1m \u001b[0m┃\n",
       "┡━━━━━━━━━━━━━━━━━━━━━━━━━━━━━━━━━╇━━━━━━━━━━━━━━━━━━━━━━━━╇━━━━━━━━━━━━━━━┩\n",
       "│ dense (\u001b[38;5;33mDense\u001b[0m)                   │ (\u001b[38;5;45mNone\u001b[0m, \u001b[38;5;34m512\u001b[0m)            │        \u001b[38;5;34m41,984\u001b[0m │\n",
       "├─────────────────────────────────┼────────────────────────┼───────────────┤\n",
       "│ dense_1 (\u001b[38;5;33mDense\u001b[0m)                 │ (\u001b[38;5;45mNone\u001b[0m, \u001b[38;5;34m512\u001b[0m)            │       \u001b[38;5;34m262,656\u001b[0m │\n",
       "├─────────────────────────────────┼────────────────────────┼───────────────┤\n",
       "│ dense_2 (\u001b[38;5;33mDense\u001b[0m)                 │ (\u001b[38;5;45mNone\u001b[0m, \u001b[38;5;34m810\u001b[0m)            │       \u001b[38;5;34m415,530\u001b[0m │\n",
       "├─────────────────────────────────┼────────────────────────┼───────────────┤\n",
       "│ reshape (\u001b[38;5;33mReshape\u001b[0m)               │ (\u001b[38;5;45mNone\u001b[0m, \u001b[38;5;34m81\u001b[0m, \u001b[38;5;34m10\u001b[0m)         │             \u001b[38;5;34m0\u001b[0m │\n",
       "└─────────────────────────────────┴────────────────────────┴───────────────┘\n"
      ]
     },
     "metadata": {},
     "output_type": "display_data"
    },
    {
     "data": {
      "text/html": [
       "<pre style=\"white-space:pre;overflow-x:auto;line-height:normal;font-family:Menlo,'DejaVu Sans Mono',consolas,'Courier New',monospace\"><span style=\"font-weight: bold\"> Total params: </span><span style=\"color: #00af00; text-decoration-color: #00af00\">720,170</span> (2.75 MB)\n",
       "</pre>\n"
      ],
      "text/plain": [
       "\u001b[1m Total params: \u001b[0m\u001b[38;5;34m720,170\u001b[0m (2.75 MB)\n"
      ]
     },
     "metadata": {},
     "output_type": "display_data"
    },
    {
     "data": {
      "text/html": [
       "<pre style=\"white-space:pre;overflow-x:auto;line-height:normal;font-family:Menlo,'DejaVu Sans Mono',consolas,'Courier New',monospace\"><span style=\"font-weight: bold\"> Trainable params: </span><span style=\"color: #00af00; text-decoration-color: #00af00\">720,170</span> (2.75 MB)\n",
       "</pre>\n"
      ],
      "text/plain": [
       "\u001b[1m Trainable params: \u001b[0m\u001b[38;5;34m720,170\u001b[0m (2.75 MB)\n"
      ]
     },
     "metadata": {},
     "output_type": "display_data"
    },
    {
     "data": {
      "text/html": [
       "<pre style=\"white-space:pre;overflow-x:auto;line-height:normal;font-family:Menlo,'DejaVu Sans Mono',consolas,'Courier New',monospace\"><span style=\"font-weight: bold\"> Non-trainable params: </span><span style=\"color: #00af00; text-decoration-color: #00af00\">0</span> (0.00 B)\n",
       "</pre>\n"
      ],
      "text/plain": [
       "\u001b[1m Non-trainable params: \u001b[0m\u001b[38;5;34m0\u001b[0m (0.00 B)\n"
      ]
     },
     "metadata": {},
     "output_type": "display_data"
    }
   ],
   "source": [
    "import tensorflow as tf\n",
    "from tensorflow.keras.models import Sequential\n",
    "from tensorflow.keras.layers import Dense, Reshape\n",
    "\n",
    "model = Sequential([\n",
    "    tf.keras.Input(shape=(81,)),\n",
    "    Dense(512, activation='relu'),\n",
    "    Dense(512, activation='relu'),\n",
    "    Dense(810, activation='softmax'),     # 81 cells × 10 classes\n",
    "    Reshape((81, 10))                     # reshape output to (81 positions × 10 classes)\n",
    "])\n",
    "\n",
    "model.compile(optimizer='adam', loss='categorical_crossentropy', metrics=['accuracy'])\n",
    "model.summary()"
   ]
  },
  {
   "cell_type": "code",
   "execution_count": 14,
   "id": "25bad025",
   "metadata": {
    "execution": {
     "iopub.execute_input": "2025-10-03T09:52:30.747473Z",
     "iopub.status.busy": "2025-10-03T09:52:30.746912Z",
     "iopub.status.idle": "2025-10-03T10:00:17.403069Z",
     "shell.execute_reply": "2025-10-03T10:00:17.401982Z"
    },
    "papermill": {
     "duration": 466.664375,
     "end_time": "2025-10-03T10:00:17.405336",
     "exception": false,
     "start_time": "2025-10-03T09:52:30.740961",
     "status": "completed"
    },
    "tags": []
   },
   "outputs": [
    {
     "name": "stdout",
     "output_type": "stream",
     "text": [
      "Epoch 1/5\n",
      "\u001b[1m5625/5625\u001b[0m \u001b[32m━━━━━━━━━━━━━━━━━━━━\u001b[0m\u001b[37m\u001b[0m \u001b[1m97s\u001b[0m 17ms/step - accuracy: 0.1893 - loss: 2.0457 - val_accuracy: 0.3220 - val_loss: 1.7195\n",
      "Epoch 2/5\n",
      "\u001b[1m5625/5625\u001b[0m \u001b[32m━━━━━━━━━━━━━━━━━━━━\u001b[0m\u001b[37m\u001b[0m \u001b[1m90s\u001b[0m 16ms/step - accuracy: 0.3320 - loss: 1.6969 - val_accuracy: 0.3529 - val_loss: 1.6493\n",
      "Epoch 3/5\n",
      "\u001b[1m5625/5625\u001b[0m \u001b[32m━━━━━━━━━━━━━━━━━━━━\u001b[0m\u001b[37m\u001b[0m \u001b[1m89s\u001b[0m 16ms/step - accuracy: 0.3601 - loss: 1.6374 - val_accuracy: 0.3726 - val_loss: 1.6086\n",
      "Epoch 4/5\n",
      "\u001b[1m5625/5625\u001b[0m \u001b[32m━━━━━━━━━━━━━━━━━━━━\u001b[0m\u001b[37m\u001b[0m \u001b[1m90s\u001b[0m 16ms/step - accuracy: 0.3768 - loss: 1.6014 - val_accuracy: 0.3822 - val_loss: 1.5866\n",
      "Epoch 5/5\n",
      "\u001b[1m5625/5625\u001b[0m \u001b[32m━━━━━━━━━━━━━━━━━━━━\u001b[0m\u001b[37m\u001b[0m \u001b[1m90s\u001b[0m 16ms/step - accuracy: 0.3826 - loss: 1.5863 - val_accuracy: 0.3832 - val_loss: 1.5809\n"
     ]
    }
   ],
   "source": [
    "history = model.fit(X_train, y_train, epochs=5, batch_size=128, validation_split=0.1)"
   ]
  },
  {
   "cell_type": "code",
   "execution_count": 15,
   "id": "931b8da7",
   "metadata": {
    "execution": {
     "iopub.execute_input": "2025-10-03T10:00:18.128290Z",
     "iopub.status.busy": "2025-10-03T10:00:18.127928Z",
     "iopub.status.idle": "2025-10-03T10:00:42.924255Z",
     "shell.execute_reply": "2025-10-03T10:00:42.922682Z"
    },
    "papermill": {
     "duration": 25.159997,
     "end_time": "2025-10-03T10:00:42.927241",
     "exception": false,
     "start_time": "2025-10-03T10:00:17.767244",
     "status": "completed"
    },
    "tags": []
   },
   "outputs": [
    {
     "name": "stdout",
     "output_type": "stream",
     "text": [
      "\u001b[1m6250/6250\u001b[0m \u001b[32m━━━━━━━━━━━━━━━━━━━━\u001b[0m\u001b[37m\u001b[0m \u001b[1m23s\u001b[0m 4ms/step - accuracy: 0.3831 - loss: 1.5811\n",
      "Test Accuracy: 38.32%\n"
     ]
    }
   ],
   "source": [
    "# Evaluate on test set\n",
    "loss, acc = model.evaluate(X_test, y_test)\n",
    "print(f\"Test Accuracy: {acc*100:.2f}%\")"
   ]
  },
  {
   "cell_type": "code",
   "execution_count": 16,
   "id": "7ff8e064",
   "metadata": {
    "execution": {
     "iopub.execute_input": "2025-10-03T10:00:45.413818Z",
     "iopub.status.busy": "2025-10-03T10:00:45.412612Z",
     "iopub.status.idle": "2025-10-03T10:00:46.210051Z",
     "shell.execute_reply": "2025-10-03T10:00:46.205772Z"
    },
    "papermill": {
     "duration": 2.096355,
     "end_time": "2025-10-03T10:00:46.215328",
     "exception": false,
     "start_time": "2025-10-03T10:00:44.118973",
     "status": "completed"
    },
    "tags": []
   },
   "outputs": [
    {
     "data": {
      "image/png": "[encoded data removed]",
      "text/plain": [
       "<Figure size 640x480 with 1 Axes>"
      ]
     },
     "metadata": {},
     "output_type": "display_data"
    }
   ],
   "source": [
    "plt.plot(history.history['accuracy'], label='Train Accuracy')\n",
    "plt.plot(history.history['val_accuracy'], label='Validation Accuracy')\n",
    "plt.title(\"Model Accuracy Over Epochs\")\n",
    "plt.xlabel(\"Epochs\")\n",
    "plt.ylabel(\"Accuracy\")\n",
    "plt.legend()\n",
    "plt.show()"
   ]
  },
  {
   "cell_type": "code",
   "execution_count": 17,
   "id": "ce313d9a",
   "metadata": {
    "execution": {
     "iopub.execute_input": "2025-10-03T10:00:47.815060Z",
     "iopub.status.busy": "2025-10-03T10:00:47.814657Z",
     "iopub.status.idle": "2025-10-03T10:00:47.995144Z",
     "shell.execute_reply": "2025-10-03T10:00:47.993832Z"
    },
    "papermill": {
     "duration": 0.611354,
     "end_time": "2025-10-03T10:00:47.996917",
     "exception": false,
     "start_time": "2025-10-03T10:00:47.385563",
     "status": "completed"
    },
    "tags": []
   },
   "outputs": [
    {
     "name": "stdout",
     "output_type": "stream",
     "text": [
      "\u001b[1m1/1\u001b[0m \u001b[32m━━━━━━━━━━━━━━━━━━━━\u001b[0m\u001b[37m\u001b[0m \u001b[1m0s\u001b[0m 98ms/step\n",
      "Original Puzzle:\n",
      "[[0 0 4 0 0 0 0 0 8]\n",
      " [7 0 0 2 0 9 0 0 6]\n",
      " [0 1 0 0 8 0 4 5 0]\n",
      " [8 0 0 0 6 0 5 0 0]\n",
      " [0 7 9 0 0 4 0 0 1]\n",
      " [0 0 1 0 0 5 2 3 9]\n",
      " [0 0 0 6 0 2 9 0 0]\n",
      " [3 0 8 0 5 7 0 2 0]\n",
      " [0 0 6 4 0 0 1 0 3]]\n",
      "\n",
      "Predicted Solution:\n",
      "[[7 2 4 1 5 1 9 9 8]\n",
      " [7 1 1 5 3 9 1 7 6]\n",
      " [9 2 1 3 8 2 4 5 1]\n",
      " [9 2 1 9 6 1 5 7 1]\n",
      " [5 6 9 8 2 4 1 2 2]\n",
      " [3 1 2 9 3 5 4 4 9]\n",
      " [3 5 2 6 1 3 9 7 5]\n",
      " [4 3 8 9 2 7 2 3 5]\n",
      " [4 9 6 4 9 8 6 7 4]]\n",
      "\n",
      "Actual Solution:\n",
      "[[6 2 4 5 1 3 7 9 8]\n",
      " [7 8 5 2 4 9 3 1 6]\n",
      " [9 1 3 7 8 6 4 5 2]\n",
      " [8 3 2 9 6 1 5 4 7]\n",
      " [5 7 9 3 2 4 8 6 1]\n",
      " [4 6 1 8 7 5 2 3 9]\n",
      " [1 4 7 6 3 2 9 8 5]\n",
      " [3 9 8 1 5 7 6 2 4]\n",
      " [2 5 6 4 9 8 1 7 3]]\n"
     ]
    }
   ],
   "source": [
    "# Predict a sample Sudoku\n",
    "sample_index = 0\n",
    "sample = X_test[sample_index].reshape(1, -1)\n",
    "pred = model.predict(sample)\n",
    "\n",
    "# Decode prediction\n",
    "predicted_digits = np.argmax(pred, axis=2).flatten()\n",
    "original_quiz = X_test[sample_index].flatten()\n",
    "actual_solution = np.argmax(y_test[sample_index], axis=1)\n",
    "\n",
    "# Show puzzle and predicted solution\n",
    "print(\"Original Puzzle:\")\n",
    "print(np.array(original_quiz).reshape(9, 9))\n",
    "\n",
    "print(\"\\nPredicted Solution:\")\n",
    "print(np.array(predicted_digits).reshape(9, 9))\n",
    "\n",
    "print(\"\\nActual Solution:\")\n",
    "print(np.array(actual_solution).reshape(9, 9))"
   ]
  }
 ],
 "metadata": {
  "kaggle": {
   "accelerator": "none",
   "dataSources": [
    {
     "datasetId": 595,
     "sourceId": 1134,
     "sourceType": "datasetVersion"
    }
   ],
   "dockerImageVersionId": 31089,
   "isGpuEnabled": false,
   "isInternetEnabled": true,
   "language": "python",
   "sourceType": "notebook"
  },
  "kernelspec": {
   "display_name": "Python 3",
   "language": "python",
   "name": "python3"
  },
  "language_info": {
   "codemirror_mode": {
    "name": "ipython",
    "version": 3
   },
   "file_extension": ".py",
   "mimetype": "text/x-python",
   "name": "python",
   "nbconvert_exporter": "python",
   "pygments_lexer": "ipython3",
   "version": "3.11.13"
  },
  "papermill": {
   "default_parameters": {},
   "duration": 905.463006,
   "end_time": "2025-10-03T10:00:52.735587",
   "environment_variables": {},
   "exception": null,
   "input_path": "__notebook__.ipynb",
   "output_path": "__notebook__.ipynb",
   "parameters": {},
   "start_time": "2025-10-03T09:45:47.272581",
   "version": "2.6.0"
  }
 },
 "nbformat": 4,
 "nbformat_minor": 5
}
