{
 "cells": [
  {
   "cell_type": "code",
   "execution_count": 1,
   "id": "acdad694",
   "metadata": {
    "_cell_guid": "b1076dfc-b9ad-4769-8c92-a6c4dae69d19",
    "_uuid": "8f2839f25d086af736a60e9eeb907d3b93b6e0e5",
    "execution": {
     "iopub.execute_input": "2025-10-03T14:13:44.695389Z",
     "iopub.status.busy": "2025-10-03T14:13:44.694970Z",
     "iopub.status.idle": "2025-10-03T14:13:46.618515Z",
     "shell.execute_reply": "2025-10-03T14:13:46.617515Z"
    },
    "papermill": {
     "duration": 1.930175,
     "end_time": "2025-10-03T14:13:46.619989",
     "exception": false,
     "start_time": "2025-10-03T14:13:44.689814",
     "status": "completed"
    },
    "tags": []
   },
   "outputs": [
    {
     "name": "stdout",
     "output_type": "stream",
     "text": [
      "/kaggle/input/mobile-device-usage-and-user-behavior-dataset/user_behavior_dataset.csv\n"
     ]
    }
   ],
   "source": [
    "# This Python 3 environment comes with many helpful analytics libraries installed\n",
    "# It is defined by the kaggle/python Docker image: https://github.com/kaggle/docker-python\n",
    "# For example, here's several helpful packages to load\n",
    "\n",
    "import numpy as np # linear algebra\n",
    "import pandas as pd # data processing, CSV file I/O (e.g. pd.read_csv)\n",
    "\n",
    "# Input data files are available in the read-only \"../input/\" directory\n",
    "# For example, running this (by clicking run or pressing Shift+Enter) will list all files under the input directory\n",
    "\n",
    "import os\n",
    "for dirname, _, filenames in os.walk('/kaggle/input'):\n",
    "    for filename in filenames:\n",
    "        print(os.path.join(dirname, filename))\n",
    "\n",
    "# You can write up to 20GB to the current directory (/kaggle/working/) that gets preserved as output when you create a version using \"Save & Run All\" \n",
    "# You can also write temporary files to /kaggle/temp/, but they won't be saved outside of the current session"
   ]
  },
  {
   "cell_type": "code",
   "execution_count": 2,
   "id": "b2280c5d",
   "metadata": {
    "execution": {
     "iopub.execute_input": "2025-10-03T14:13:46.628336Z",
     "iopub.status.busy": "2025-10-03T14:13:46.627884Z",
     "iopub.status.idle": "2025-10-03T14:13:46.632235Z",
     "shell.execute_reply": "2025-10-03T14:13:46.631458Z"
    },
    "papermill": {
     "duration": 0.009882,
     "end_time": "2025-10-03T14:13:46.633667",
     "exception": false,
     "start_time": "2025-10-03T14:13:46.623785",
     "status": "completed"
    },
    "tags": []
   },
   "outputs": [],
   "source": [
    "import warnings\n",
    "warnings.filterwarnings(\"ignore\")"
   ]
  },
  {
   "cell_type": "code",
   "execution_count": 3,
   "id": "e70b080b",
   "metadata": {
    "execution": {
     "iopub.execute_input": "2025-10-03T14:13:46.641649Z",
     "iopub.status.busy": "2025-10-03T14:13:46.641352Z",
     "iopub.status.idle": "2025-10-03T14:13:48.528935Z",
     "shell.execute_reply": "2025-10-03T14:13:48.527914Z"
    },
    "papermill": {
     "duration": 1.893491,
     "end_time": "2025-10-03T14:13:48.530688",
     "exception": false,
     "start_time": "2025-10-03T14:13:46.637197",
     "status": "completed"
    },
    "tags": []
   },
   "outputs": [],
   "source": [
    "import pandas as pd\n",
    "import seaborn as sns\n",
    "import matplotlib.pyplot as plt"
   ]
  },
  {
   "cell_type": "code",
   "execution_count": 4,
   "id": "f3a4d8b2",
   "metadata": {
    "execution": {
     "iopub.execute_input": "2025-10-03T14:13:48.538904Z",
     "iopub.status.busy": "2025-10-03T14:13:48.538386Z",
     "iopub.status.idle": "2025-10-03T14:13:48.583261Z",
     "shell.execute_reply": "2025-10-03T14:13:48.582233Z"
    },
    "papermill": {
     "duration": 0.050831,
     "end_time": "2025-10-03T14:13:48.584862",
     "exception": false,
     "start_time": "2025-10-03T14:13:48.534031",
     "status": "completed"
    },
    "tags": []
   },
   "outputs": [
    {
     "data": {
      "text/html": [
       "<div>\n",
       "<style scoped>\n",
       "    .dataframe tbody tr th:only-of-type {\n",
       "        vertical-align: middle;\n",
       "    }\n",
       "\n",
       "    .dataframe tbody tr th {\n",
       "        vertical-align: top;\n",
       "    }\n",
       "\n",
       "    .dataframe thead th {\n",
       "        text-align: right;\n",
       "    }\n",
       "</style>\n",
       "<table border=\"1\" class=\"dataframe\">\n",
       "  <thead>\n",
       "    <tr style=\"text-align: right;\">\n",
       "      <th></th>\n",
       "      <th>User ID</th>\n",
       "      <th>Device Model</th>\n",
       "      <th>Operating System</th>\n",
       "      <th>App Usage Time (min/day)</th>\n",
       "      <th>Screen On Time (hours/day)</th>\n",
       "      <th>Battery Drain (mAh/day)</th>\n",
       "      <th>Number of Apps Installed</th>\n",
       "      <th>Data Usage (MB/day)</th>\n",
       "      <th>Age</th>\n",
       "      <th>Gender</th>\n",
       "      <th>User Behavior Class</th>\n",
       "    </tr>\n",
       "  </thead>\n",
       "  <tbody>\n",
       "    <tr>\n",
       "      <th>0</th>\n",
       "      <td>1</td>\n",
       "      <td>Google Pixel 5</td>\n",
       "      <td>Android</td>\n",
       "      <td>393</td>\n",
       "      <td>6.4</td>\n",
       "      <td>1872</td>\n",
       "      <td>67</td>\n",
       "      <td>1122</td>\n",
       "      <td>40</td>\n",
       "      <td>Male</td>\n",
       "      <td>4</td>\n",
       "    </tr>\n",
       "    <tr>\n",
       "      <th>1</th>\n",
       "      <td>2</td>\n",
       "      <td>OnePlus 9</td>\n",
       "      <td>Android</td>\n",
       "      <td>268</td>\n",
       "      <td>4.7</td>\n",
       "      <td>1331</td>\n",
       "      <td>42</td>\n",
       "      <td>944</td>\n",
       "      <td>47</td>\n",
       "      <td>Female</td>\n",
       "      <td>3</td>\n",
       "    </tr>\n",
       "    <tr>\n",
       "      <th>2</th>\n",
       "      <td>3</td>\n",
       "      <td>Xiaomi Mi 11</td>\n",
       "      <td>Android</td>\n",
       "      <td>154</td>\n",
       "      <td>4.0</td>\n",
       "      <td>761</td>\n",
       "      <td>32</td>\n",
       "      <td>322</td>\n",
       "      <td>42</td>\n",
       "      <td>Male</td>\n",
       "      <td>2</td>\n",
       "    </tr>\n",
       "    <tr>\n",
       "      <th>3</th>\n",
       "      <td>4</td>\n",
       "      <td>Google Pixel 5</td>\n",
       "      <td>Android</td>\n",
       "      <td>239</td>\n",
       "      <td>4.8</td>\n",
       "      <td>1676</td>\n",
       "      <td>56</td>\n",
       "      <td>871</td>\n",
       "      <td>20</td>\n",
       "      <td>Male</td>\n",
       "      <td>3</td>\n",
       "    </tr>\n",
       "    <tr>\n",
       "      <th>4</th>\n",
       "      <td>5</td>\n",
       "      <td>iPhone 12</td>\n",
       "      <td>iOS</td>\n",
       "      <td>187</td>\n",
       "      <td>4.3</td>\n",
       "      <td>1367</td>\n",
       "      <td>58</td>\n",
       "      <td>988</td>\n",
       "      <td>31</td>\n",
       "      <td>Female</td>\n",
       "      <td>3</td>\n",
       "    </tr>\n",
       "  </tbody>\n",
       "</table>\n",
       "</div>"
      ],
      "text/plain": [
       "   User ID    Device Model Operating System  App Usage Time (min/day)  \\\n",
       "0        1  Google Pixel 5          Android                       393   \n",
       "1        2       OnePlus 9          Android                       268   \n",
       "2        3    Xiaomi Mi 11          Android                       154   \n",
       "3        4  Google Pixel 5          Android                       239   \n",
       "4        5       iPhone 12              iOS                       187   \n",
       "\n",
       "   Screen On Time (hours/day)  Battery Drain (mAh/day)  \\\n",
       "0                         6.4                     1872   \n",
       "1                         4.7                     1331   \n",
       "2                         4.0                      761   \n",
       "3                         4.8                     1676   \n",
       "4                         4.3                     1367   \n",
       "\n",
       "   Number of Apps Installed  Data Usage (MB/day)  Age  Gender  \\\n",
       "0                        67                 1122   40    Male   \n",
       "1                        42                  944   47  Female   \n",
       "2                        32                  322   42    Male   \n",
       "3                        56                  871   20    Male   \n",
       "4                        58                  988   31  Female   \n",
       "\n",
       "   User Behavior Class  \n",
       "0                    4  \n",
       "1                    3  \n",
       "2                    2  \n",
       "3                    3  \n",
       "4                    3  "
      ]
     },
     "execution_count": 4,
     "metadata": {},
     "output_type": "execute_result"
    }
   ],
   "source": [
    "df = pd.read_csv('/kaggle/input/mobile-device-usage-and-user-behavior-dataset/user_behavior_dataset.csv')\n",
    "df.head()"
   ]
  },
  {
   "cell_type": "code",
   "execution_count": 5,
   "id": "5fd84bbf",
   "metadata": {
    "execution": {
     "iopub.execute_input": "2025-10-03T14:13:48.593355Z",
     "iopub.status.busy": "2025-10-03T14:13:48.593038Z",
     "iopub.status.idle": "2025-10-03T14:13:48.600666Z",
     "shell.execute_reply": "2025-10-03T14:13:48.599820Z"
    },
    "papermill": {
     "duration": 0.013846,
     "end_time": "2025-10-03T14:13:48.602430",
     "exception": false,
     "start_time": "2025-10-03T14:13:48.588584",
     "status": "completed"
    },
    "tags": []
   },
   "outputs": [
    {
     "data": {
      "text/plain": [
       "Index(['User ID', 'Device Model', 'Operating System',\n",
       "       'App Usage Time (min/day)', 'Screen On Time (hours/day)',\n",
       "       'Battery Drain (mAh/day)', 'Number of Apps Installed',\n",
       "       'Data Usage (MB/day)', 'Age', 'Gender', 'User Behavior Class'],\n",
       "      dtype='object')"
      ]
     },
     "execution_count": 5,
     "metadata": {},
     "output_type": "execute_result"
    }
   ],
   "source": [
    "df.columns"
   ]
  },
  {
   "cell_type": "code",
   "execution_count": 6,
   "id": "d9415ad4",
   "metadata": {
    "execution": {
     "iopub.execute_input": "2025-10-03T14:13:48.610798Z",
     "iopub.status.busy": "2025-10-03T14:13:48.610508Z",
     "iopub.status.idle": "2025-10-03T14:13:48.633965Z",
     "shell.execute_reply": "2025-10-03T14:13:48.632891Z"
    },
    "papermill": {
     "duration": 0.029429,
     "end_time": "2025-10-03T14:13:48.635545",
     "exception": false,
     "start_time": "2025-10-03T14:13:48.606116",
     "status": "completed"
    },
    "tags": []
   },
   "outputs": [
    {
     "name": "stdout",
     "output_type": "stream",
     "text": [
      "<class 'pandas.core.frame.DataFrame'>\n",
      "RangeIndex: 700 entries, 0 to 699\n",
      "Data columns (total 11 columns):\n",
      " #   Column                      Non-Null Count  Dtype  \n",
      "---  ------                      --------------  -----  \n",
      " 0   User ID                     700 non-null    int64  \n",
      " 1   Device Model                700 non-null    object \n",
      " 2   Operating System            700 non-null    object \n",
      " 3   App Usage Time (min/day)    700 non-null    int64  \n",
      " 4   Screen On Time (hours/day)  700 non-null    float64\n",
      " 5   Battery Drain (mAh/day)     700 non-null    int64  \n",
      " 6   Number of Apps Installed    700 non-null    int64  \n",
      " 7   Data Usage (MB/day)         700 non-null    int64  \n",
      " 8   Age                         700 non-null    int64  \n",
      " 9   Gender                      700 non-null    object \n",
      " 10  User Behavior Class         700 non-null    int64  \n",
      "dtypes: float64(1), int64(7), object(3)\n",
      "memory usage: 60.3+ KB\n",
      "None\n"
     ]
    }
   ],
   "source": [
    "print(df.info())"
   ]
  },
  {
   "cell_type": "code",
   "execution_count": 7,
   "id": "1aad0549",
   "metadata": {
    "execution": {
     "iopub.execute_input": "2025-10-03T14:13:48.644521Z",
     "iopub.status.busy": "2025-10-03T14:13:48.644221Z",
     "iopub.status.idle": "2025-10-03T14:13:48.650799Z",
     "shell.execute_reply": "2025-10-03T14:13:48.649673Z"
    },
    "papermill": {
     "duration": 0.013507,
     "end_time": "2025-10-03T14:13:48.652771",
     "exception": false,
     "start_time": "2025-10-03T14:13:48.639264",
     "status": "completed"
    },
    "tags": []
   },
   "outputs": [
    {
     "name": "stdout",
     "output_type": "stream",
     "text": [
      "User ID                       0\n",
      "Device Model                  0\n",
      "Operating System              0\n",
      "App Usage Time (min/day)      0\n",
      "Screen On Time (hours/day)    0\n",
      "Battery Drain (mAh/day)       0\n",
      "Number of Apps Installed      0\n",
      "Data Usage (MB/day)           0\n",
      "Age                           0\n",
      "Gender                        0\n",
      "User Behavior Class           0\n",
      "dtype: int64\n"
     ]
    }
   ],
   "source": [
    "\n",
    "print(df.isnull().sum())"
   ]
  },
  {
   "cell_type": "code",
   "execution_count": 8,
   "id": "c06307ff",
   "metadata": {
    "execution": {
     "iopub.execute_input": "2025-10-03T14:13:48.661601Z",
     "iopub.status.busy": "2025-10-03T14:13:48.661258Z",
     "iopub.status.idle": "2025-10-03T14:13:49.070894Z",
     "shell.execute_reply": "2025-10-03T14:13:49.070002Z"
    },
    "papermill": {
     "duration": 0.415907,
     "end_time": "2025-10-03T14:13:49.072555",
     "exception": false,
     "start_time": "2025-10-03T14:13:48.656648",
     "status": "completed"
    },
    "tags": []
   },
   "outputs": [
    {
     "data": {
      "image/png": "[encoded data removed]",
      "text/plain": [
       "<Figure size 1000x500 with 1 Axes>"
      ]
     },
     "metadata": {},
     "output_type": "display_data"
    }
   ],
   "source": [
    "plt.figure(figsize=(10,5))\n",
    "sns.countplot(data=df, x='User Behavior Class')\n",
    "plt.title(\"Target Class Distribution\")\n",
    "plt.show()"
   ]
  },
  {
   "cell_type": "code",
   "execution_count": 9,
   "id": "5fe7eef5",
   "metadata": {
    "execution": {
     "iopub.execute_input": "2025-10-03T14:13:49.082098Z",
     "iopub.status.busy": "2025-10-03T14:13:49.081727Z",
     "iopub.status.idle": "2025-10-03T14:13:49.241561Z",
     "shell.execute_reply": "2025-10-03T14:13:49.240710Z"
    },
    "papermill": {
     "duration": 0.166282,
     "end_time": "2025-10-03T14:13:49.243224",
     "exception": false,
     "start_time": "2025-10-03T14:13:49.076942",
     "status": "completed"
    },
    "tags": []
   },
   "outputs": [
    {
     "data": {
      "image/png": "[encoded data removed]",
      "text/plain": [
       "<Figure size 640x480 with 1 Axes>"
      ]
     },
     "metadata": {},
     "output_type": "display_data"
    }
   ],
   "source": [
    "sns.boxplot(data=df[['App Usage Time (min/day)', 'Battery Drain (mAh/day)', 'Data Usage (MB/day)']])\n",
    "plt.title(\"Feature Distribution\")\n",
    "plt.show()"
   ]
  },
  {
   "cell_type": "code",
   "execution_count": 10,
   "id": "eec4934e",
   "metadata": {
    "execution": {
     "iopub.execute_input": "2025-10-03T14:13:49.254226Z",
     "iopub.status.busy": "2025-10-03T14:13:49.253888Z",
     "iopub.status.idle": "2025-10-03T14:13:49.447134Z",
     "shell.execute_reply": "2025-10-03T14:13:49.446094Z"
    },
    "papermill": {
     "duration": 0.200333,
     "end_time": "2025-10-03T14:13:49.448801",
     "exception": false,
     "start_time": "2025-10-03T14:13:49.248468",
     "status": "completed"
    },
    "tags": []
   },
   "outputs": [],
   "source": [
    "df = df.drop('User ID', axis=1)\n",
    "\n",
    "from sklearn.preprocessing import LabelEncoder\n",
    "for col in ['Device Model', 'Operating System', 'Gender', 'User Behavior Class']:\n",
    "    df[col] = LabelEncoder().fit_transform(df[col])"
   ]
  },
  {
   "cell_type": "code",
   "execution_count": 11,
   "id": "5ef118e9",
   "metadata": {
    "execution": {
     "iopub.execute_input": "2025-10-03T14:13:49.460225Z",
     "iopub.status.busy": "2025-10-03T14:13:49.459870Z",
     "iopub.status.idle": "2025-10-03T14:13:49.465234Z",
     "shell.execute_reply": "2025-10-03T14:13:49.464418Z"
    },
    "papermill": {
     "duration": 0.011981,
     "end_time": "2025-10-03T14:13:49.466645",
     "exception": false,
     "start_time": "2025-10-03T14:13:49.454664",
     "status": "completed"
    },
    "tags": []
   },
   "outputs": [],
   "source": [
    "X = df.drop('User Behavior Class', axis=1)\n",
    "y = df['User Behavior Class']"
   ]
  },
  {
   "cell_type": "code",
   "execution_count": 12,
   "id": "796a266d",
   "metadata": {
    "execution": {
     "iopub.execute_input": "2025-10-03T14:13:49.476811Z",
     "iopub.status.busy": "2025-10-03T14:13:49.476508Z",
     "iopub.status.idle": "2025-10-03T14:13:49.589619Z",
     "shell.execute_reply": "2025-10-03T14:13:49.588824Z"
    },
    "papermill": {
     "duration": 0.119942,
     "end_time": "2025-10-03T14:13:49.591167",
     "exception": false,
     "start_time": "2025-10-03T14:13:49.471225",
     "status": "completed"
    },
    "tags": []
   },
   "outputs": [],
   "source": [
    "from sklearn.model_selection import train_test_split\n",
    "X_train, X_test, y_train, y_test = train_test_split(X, y, test_size=0.2, random_state=42)"
   ]
  },
  {
   "cell_type": "code",
   "execution_count": 13,
   "id": "0643653e",
   "metadata": {
    "execution": {
     "iopub.execute_input": "2025-10-03T14:13:49.601677Z",
     "iopub.status.busy": "2025-10-03T14:13:49.601401Z",
     "iopub.status.idle": "2025-10-03T14:13:50.196625Z",
     "shell.execute_reply": "2025-10-03T14:13:50.195383Z"
    },
    "papermill": {
     "duration": 0.602786,
     "end_time": "2025-10-03T14:13:50.198550",
     "exception": false,
     "start_time": "2025-10-03T14:13:49.595764",
     "status": "completed"
    },
    "tags": []
   },
   "outputs": [
    {
     "data": {
      "text/html": [
       "<style>#sk-container-id-1 {color: black;background-color: white;}#sk-container-id-1 pre{padding: 0;}#sk-container-id-1 div.sk-toggleable {background-color: white;}#sk-container-id-1 label.sk-toggleable__label {cursor: pointer;display: block;width: 100%;margin-bottom: 0;padding: 0.3em;box-sizing: border-box;text-align: center;}#sk-container-id-1 label.sk-toggleable__label-arrow:before {content: \"▸\";float: left;margin-right: 0.25em;color: #696969;}#sk-container-id-1 label.sk-toggleable__label-arrow:hover:before {color: black;}#sk-container-id-1 div.sk-estimator:hover label.sk-toggleable__label-arrow:before {color: black;}#sk-container-id-1 div.sk-toggleable__content {max-height: 0;max-width: 0;overflow: hidden;text-align: left;background-color: #f0f8ff;}#sk-container-id-1 div.sk-toggleable__content pre {margin: 0.2em;color: black;border-radius: 0.25em;background-color: #f0f8ff;}#sk-container-id-1 input.sk-toggleable__control:checked~div.sk-toggleable__content {max-height: 200px;max-width: 100%;overflow: auto;}#sk-container-id-1 input.sk-toggleable__control:checked~label.sk-toggleable__label-arrow:before {content: \"▾\";}#sk-container-id-1 div.sk-estimator input.sk-toggleable__control:checked~label.sk-toggleable__label {background-color: #d4ebff;}#sk-container-id-1 div.sk-label input.sk-toggleable__control:checked~label.sk-toggleable__label {background-color: #d4ebff;}#sk-container-id-1 input.sk-hidden--visually {border: 0;clip: rect(1px 1px 1px 1px);clip: rect(1px, 1px, 1px, 1px);height: 1px;margin: -1px;overflow: hidden;padding: 0;position: absolute;width: 1px;}#sk-container-id-1 div.sk-estimator {font-family: monospace;background-color: #f0f8ff;border: 1px dotted black;border-radius: 0.25em;box-sizing: border-box;margin-bottom: 0.5em;}#sk-container-id-1 div.sk-estimator:hover {background-color: #d4ebff;}#sk-container-id-1 div.sk-parallel-item::after {content: \"\";width: 100%;border-bottom: 1px solid gray;flex-grow: 1;}#sk-container-id-1 div.sk-label:hover label.sk-toggleable__label {background-color: #d4ebff;}#sk-container-id-1 div.sk-serial::before {content: \"\";position: absolute;border-left: 1px solid gray;box-sizing: border-box;top: 0;bottom: 0;left: 50%;z-index: 0;}#sk-container-id-1 div.sk-serial {display: flex;flex-direction: column;align-items: center;background-color: white;padding-right: 0.2em;padding-left: 0.2em;position: relative;}#sk-container-id-1 div.sk-item {position: relative;z-index: 1;}#sk-container-id-1 div.sk-parallel {display: flex;align-items: stretch;justify-content: center;background-color: white;position: relative;}#sk-container-id-1 div.sk-item::before, #sk-container-id-1 div.sk-parallel-item::before {content: \"\";position: absolute;border-left: 1px solid gray;box-sizing: border-box;top: 0;bottom: 0;left: 50%;z-index: -1;}#sk-container-id-1 div.sk-parallel-item {display: flex;flex-direction: column;z-index: 1;position: relative;background-color: white;}#sk-container-id-1 div.sk-parallel-item:first-child::after {align-self: flex-end;width: 50%;}#sk-container-id-1 div.sk-parallel-item:last-child::after {align-self: flex-start;width: 50%;}#sk-container-id-1 div.sk-parallel-item:only-child::after {width: 0;}#sk-container-id-1 div.sk-dashed-wrapped {border: 1px dashed gray;margin: 0 0.4em 0.5em 0.4em;box-sizing: border-box;padding-bottom: 0.4em;background-color: white;}#sk-container-id-1 div.sk-label label {font-family: monospace;font-weight: bold;display: inline-block;line-height: 1.2em;}#sk-container-id-1 div.sk-label-container {text-align: center;}#sk-container-id-1 div.sk-container {/* jupyter's `normalize.less` sets `[hidden] { display: none; }` but bootstrap.min.css set `[hidden] { display: none !important; }` so we also need the `!important` here to be able to override the default hidden behavior on the sphinx rendered scikit-learn.org. See: https://github.com/scikit-learn/scikit-learn/issues/21755 */display: inline-block !important;position: relative;}#sk-container-id-1 div.sk-text-repr-fallback {display: none;}</style><div id=\"sk-container-id-1\" class=\"sk-top-container\"><div class=\"sk-text-repr-fallback\"><pre>RandomForestClassifier()</pre><b>In a Jupyter environment, please rerun this cell to show the HTML representation or trust the notebook. <br />On GitHub, the HTML representation is unable to render, please try loading this page with nbviewer.org.</b></div><div class=\"sk-container\" hidden><div class=\"sk-item\"><div class=\"sk-estimator sk-toggleable\"><input class=\"sk-toggleable__control sk-hidden--visually\" id=\"sk-estimator-id-1\" type=\"checkbox\" checked><label for=\"sk-estimator-id-1\" class=\"sk-toggleable__label sk-toggleable__label-arrow\">RandomForestClassifier</label><div class=\"sk-toggleable__content\"><pre>RandomForestClassifier()</pre></div></div></div></div></div>"
      ],
      "text/plain": [
       "RandomForestClassifier()"
      ]
     },
     "execution_count": 13,
     "metadata": {},
     "output_type": "execute_result"
    }
   ],
   "source": [
    "from sklearn.ensemble import RandomForestClassifier\n",
    "from sklearn.metrics import classification_report, confusion_matrix\n",
    "\n",
    "model = RandomForestClassifier()\n",
    "model.fit(X_train, y_train)"
   ]
  },
  {
   "cell_type": "code",
   "execution_count": 14,
   "id": "0f822c51",
   "metadata": {
    "execution": {
     "iopub.execute_input": "2025-10-03T14:13:50.211368Z",
     "iopub.status.busy": "2025-10-03T14:13:50.210270Z",
     "iopub.status.idle": "2025-10-03T14:13:50.230643Z",
     "shell.execute_reply": "2025-10-03T14:13:50.229568Z"
    },
    "papermill": {
     "duration": 0.029066,
     "end_time": "2025-10-03T14:13:50.232502",
     "exception": false,
     "start_time": "2025-10-03T14:13:50.203436",
     "status": "completed"
    },
    "tags": []
   },
   "outputs": [
    {
     "name": "stdout",
     "output_type": "stream",
     "text": [
      "              precision    recall  f1-score   support\n",
      "\n",
      "           0       1.00      1.00      1.00        27\n",
      "           1       1.00      1.00      1.00        29\n",
      "           2       1.00      1.00      1.00        34\n",
      "           3       1.00      1.00      1.00        27\n",
      "           4       1.00      1.00      1.00        23\n",
      "\n",
      "    accuracy                           1.00       140\n",
      "   macro avg       1.00      1.00      1.00       140\n",
      "weighted avg       1.00      1.00      1.00       140\n",
      "\n"
     ]
    }
   ],
   "source": [
    "y_pred = model.predict(X_test)\n",
    "\n",
    "print(classification_report(y_test, y_pred))"
   ]
  },
  {
   "cell_type": "code",
   "execution_count": 15,
   "id": "d9835827",
   "metadata": {
    "execution": {
     "iopub.execute_input": "2025-10-03T14:13:50.243634Z",
     "iopub.status.busy": "2025-10-03T14:13:50.243335Z",
     "iopub.status.idle": "2025-10-03T14:13:50.495465Z",
     "shell.execute_reply": "2025-10-03T14:13:50.494524Z"
    },
    "papermill": {
     "duration": 0.259622,
     "end_time": "2025-10-03T14:13:50.497305",
     "exception": false,
     "start_time": "2025-10-03T14:13:50.237683",
     "status": "completed"
    },
    "tags": []
   },
   "outputs": [
    {
     "data": {
      "image/png": "[encoded data removed]",
      "text/plain": [
       "<Figure size 640x480 with 2 Axes>"
      ]
     },
     "metadata": {},
     "output_type": "display_data"
    }
   ],
   "source": [
    "sns.heatmap(confusion_matrix(y_test, y_pred), annot=True, fmt='d', cmap='Blues')\n",
    "plt.title(\"Confusion Matrix\")\n",
    "plt.xlabel(\"Predicted\")\n",
    "plt.ylabel(\"Actual\")\n",
    "plt.show()"
   ]
  },
  {
   "cell_type": "code",
   "execution_count": 16,
   "id": "3eaef794",
   "metadata": {
    "execution": {
     "iopub.execute_input": "2025-10-03T14:13:50.508997Z",
     "iopub.status.busy": "2025-10-03T14:13:50.508665Z",
     "iopub.status.idle": "2025-10-03T14:13:50.730224Z",
     "shell.execute_reply": "2025-10-03T14:13:50.728585Z"
    },
    "papermill": {
     "duration": 0.231404,
     "end_time": "2025-10-03T14:13:50.734110",
     "exception": false,
     "start_time": "2025-10-03T14:13:50.502706",
     "status": "completed"
    },
    "tags": []
   },
   "outputs": [
    {
     "data": {
      "image/png": "[encoded data removed]",
      "text/plain": [
       "<Figure size 640x480 with 1 Axes>"
      ]
     },
     "metadata": {},
     "output_type": "display_data"
    }
   ],
   "source": [
    "feat_imp = pd.Series(model.feature_importances_, index=X.columns)\n",
    "feat_imp.nlargest(5).plot(kind='barh')\n",
    "plt.title(\"Top 5 Important Features\")\n",
    "plt.show()"
   ]
  }
 ],
 "metadata": {
  "kaggle": {
   "accelerator": "none",
   "dataSources": [
    {
     "datasetId": 5784553,
     "sourceId": 9504237,
     "sourceType": "datasetVersion"
    }
   ],
   "dockerImageVersionId": 31089,
   "isGpuEnabled": false,
   "isInternetEnabled": true,
   "language": "python",
   "sourceType": "notebook"
  },
  "kernelspec": {
   "display_name": "Python 3",
   "language": "python",
   "name": "python3"
  },
  "language_info": {
   "codemirror_mode": {
    "name": "ipython",
    "version": 3
   },
   "file_extension": ".py",
   "mimetype": "text/x-python",
   "name": "python",
   "nbconvert_exporter": "python",
   "pygments_lexer": "ipython3",
   "version": "3.11.13"
  },
  "papermill": {
   "default_parameters": {},
   "duration": 12.188013,
   "end_time": "2025-10-03T14:13:51.463425",
   "environment_variables": {},
   "exception": null,
   "input_path": "__notebook__.ipynb",
   "output_path": "__notebook__.ipynb",
   "parameters": {},
   "start_time": "2025-10-03T14:13:39.275412",
   "version": "2.6.0"
  }
 },
 "nbformat": 4,
 "nbformat_minor": 5
}
