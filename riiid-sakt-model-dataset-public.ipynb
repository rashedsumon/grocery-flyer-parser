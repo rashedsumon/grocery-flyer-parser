{
 "cells": [
  {
   "cell_type": "code",
   "execution_count": 1,
   "id": "0c3f0e0b",
   "metadata": {
    "_cell_guid": "b1076dfc-b9ad-4769-8c92-a6c4dae69d19",
    "_uuid": "8f2839f25d086af736a60e9eeb907d3b93b6e0e5",
    "collapsed": true,
    "execution": {
     "iopub.execute_input": "2025-10-03T13:11:48.691426Z",
     "iopub.status.busy": "2025-10-03T13:11:48.691035Z",
     "iopub.status.idle": "2025-10-03T13:11:50.643729Z",
     "shell.execute_reply": "2025-10-03T13:11:50.642582Z"
    },
    "jupyter": {
     "outputs_hidden": true
    },
    "papermill": {
     "duration": 1.95907,
     "end_time": "2025-10-03T13:11:50.645379",
     "exception": false,
     "start_time": "2025-10-03T13:11:48.686309",
     "status": "completed"
    },
    "tags": []
   },
   "outputs": [
    {
     "name": "stdout",
     "output_type": "stream",
     "text": [
      "/kaggle/input/riiid-sakt-model-dataset-public/group.pkl.zip\n",
      "/kaggle/input/riiid-sakt-model-dataset-public/skills.pkl.zip\n",
      "/kaggle/input/riiid-sakt-model-dataset-public/__notebook_source__.ipynb\n",
      "/kaggle/input/riiid-sakt-model-dataset-public/submission.csv\n",
      "/kaggle/input/riiid-sakt-model-dataset-public/sakt_model.pt\n"
     ]
    }
   ],
   "source": [
    "# This Python 3 environment comes with many helpful analytics libraries installed\n",
    "# It is defined by the kaggle/python Docker image: https://github.com/kaggle/docker-python\n",
    "# For example, here's several helpful packages to load\n",
    "\n",
    "import numpy as np # linear algebra\n",
    "import pandas as pd # data processing, CSV file I/O (e.g. pd.read_csv)\n",
    "\n",
    "# Input data files are available in the read-only \"../input/\" directory\n",
    "# For example, running this (by clicking run or pressing Shift+Enter) will list all files under the input directory\n",
    "\n",
    "import os\n",
    "for dirname, _, filenames in os.walk('/kaggle/input'):\n",
    "    for filename in filenames:\n",
    "        print(os.path.join(dirname, filename))\n",
    "\n",
    "# You can write up to 20GB to the current directory (/kaggle/working/) that gets preserved as output when you create a version using \"Save & Run All\" \n",
    "# You can also write temporary files to /kaggle/temp/, but they won't be saved outside of the current session"
   ]
  },
  {
   "cell_type": "code",
   "execution_count": 2,
   "id": "d8909575",
   "metadata": {
    "execution": {
     "iopub.execute_input": "2025-10-03T13:11:50.653308Z",
     "iopub.status.busy": "2025-10-03T13:11:50.652711Z",
     "iopub.status.idle": "2025-10-03T13:11:52.618547Z",
     "shell.execute_reply": "2025-10-03T13:11:52.617594Z"
    },
    "papermill": {
     "duration": 1.97141,
     "end_time": "2025-10-03T13:11:52.620371",
     "exception": false,
     "start_time": "2025-10-03T13:11:50.648961",
     "status": "completed"
    },
    "tags": []
   },
   "outputs": [],
   "source": [
    "import pandas as pd\n",
    "import matplotlib.pyplot as plt\n",
    "import seaborn as sns"
   ]
  },
  {
   "cell_type": "code",
   "execution_count": 3,
   "id": "b801a5b4",
   "metadata": {
    "execution": {
     "iopub.execute_input": "2025-10-03T13:11:52.627619Z",
     "iopub.status.busy": "2025-10-03T13:11:52.627199Z",
     "iopub.status.idle": "2025-10-03T13:11:52.666336Z",
     "shell.execute_reply": "2025-10-03T13:11:52.665387Z"
    },
    "papermill": {
     "duration": 0.044514,
     "end_time": "2025-10-03T13:11:52.667935",
     "exception": false,
     "start_time": "2025-10-03T13:11:52.623421",
     "status": "completed"
    },
    "tags": []
   },
   "outputs": [
    {
     "data": {
      "text/html": [
       "<div>\n",
       "<style scoped>\n",
       "    .dataframe tbody tr th:only-of-type {\n",
       "        vertical-align: middle;\n",
       "    }\n",
       "\n",
       "    .dataframe tbody tr th {\n",
       "        vertical-align: top;\n",
       "    }\n",
       "\n",
       "    .dataframe thead th {\n",
       "        text-align: right;\n",
       "    }\n",
       "</style>\n",
       "<table border=\"1\" class=\"dataframe\">\n",
       "  <thead>\n",
       "    <tr style=\"text-align: right;\">\n",
       "      <th></th>\n",
       "      <th>row_id</th>\n",
       "      <th>answered_correctly</th>\n",
       "    </tr>\n",
       "  </thead>\n",
       "  <tbody>\n",
       "    <tr>\n",
       "      <th>0</th>\n",
       "      <td>0</td>\n",
       "      <td>0.398105</td>\n",
       "    </tr>\n",
       "    <tr>\n",
       "      <th>1</th>\n",
       "      <td>1</td>\n",
       "      <td>0.923208</td>\n",
       "    </tr>\n",
       "    <tr>\n",
       "      <th>2</th>\n",
       "      <td>2</td>\n",
       "      <td>0.715975</td>\n",
       "    </tr>\n",
       "    <tr>\n",
       "      <th>3</th>\n",
       "      <td>3</td>\n",
       "      <td>0.851350</td>\n",
       "    </tr>\n",
       "    <tr>\n",
       "      <th>4</th>\n",
       "      <td>4</td>\n",
       "      <td>0.413131</td>\n",
       "    </tr>\n",
       "  </tbody>\n",
       "</table>\n",
       "</div>"
      ],
      "text/plain": [
       "   row_id  answered_correctly\n",
       "0       0            0.398105\n",
       "1       1            0.923208\n",
       "2       2            0.715975\n",
       "3       3            0.851350\n",
       "4       4            0.413131"
      ]
     },
     "execution_count": 3,
     "metadata": {},
     "output_type": "execute_result"
    }
   ],
   "source": [
    "df = pd.read_csv('/kaggle/input/riiid-sakt-model-dataset-public/submission.csv')\n",
    "df.head()"
   ]
  },
  {
   "cell_type": "code",
   "execution_count": 4,
   "id": "de36a221",
   "metadata": {
    "execution": {
     "iopub.execute_input": "2025-10-03T13:11:52.675458Z",
     "iopub.status.busy": "2025-10-03T13:11:52.675146Z",
     "iopub.status.idle": "2025-10-03T13:11:52.682105Z",
     "shell.execute_reply": "2025-10-03T13:11:52.681139Z"
    },
    "papermill": {
     "duration": 0.012407,
     "end_time": "2025-10-03T13:11:52.683561",
     "exception": false,
     "start_time": "2025-10-03T13:11:52.671154",
     "status": "completed"
    },
    "tags": []
   },
   "outputs": [
    {
     "data": {
      "text/plain": [
       "Index(['row_id', 'answered_correctly'], dtype='object')"
      ]
     },
     "execution_count": 4,
     "metadata": {},
     "output_type": "execute_result"
    }
   ],
   "source": [
    "df.columns"
   ]
  },
  {
   "cell_type": "code",
   "execution_count": 5,
   "id": "b1cabab6",
   "metadata": {
    "execution": {
     "iopub.execute_input": "2025-10-03T13:11:52.691504Z",
     "iopub.status.busy": "2025-10-03T13:11:52.690688Z",
     "iopub.status.idle": "2025-10-03T13:11:52.712204Z",
     "shell.execute_reply": "2025-10-03T13:11:52.711029Z"
    },
    "papermill": {
     "duration": 0.026753,
     "end_time": "2025-10-03T13:11:52.713612",
     "exception": false,
     "start_time": "2025-10-03T13:11:52.686859",
     "status": "completed"
    },
    "tags": []
   },
   "outputs": [
    {
     "name": "stdout",
     "output_type": "stream",
     "text": [
      "<class 'pandas.core.frame.DataFrame'>\n",
      "RangeIndex: 104 entries, 0 to 103\n",
      "Data columns (total 2 columns):\n",
      " #   Column              Non-Null Count  Dtype  \n",
      "---  ------              --------------  -----  \n",
      " 0   row_id              104 non-null    int64  \n",
      " 1   answered_correctly  104 non-null    float64\n",
      "dtypes: float64(1), int64(1)\n",
      "memory usage: 1.8 KB\n",
      "None\n"
     ]
    }
   ],
   "source": [
    "print(df.info())"
   ]
  },
  {
   "cell_type": "code",
   "execution_count": 6,
   "id": "c3796cd9",
   "metadata": {
    "execution": {
     "iopub.execute_input": "2025-10-03T13:11:52.721360Z",
     "iopub.status.busy": "2025-10-03T13:11:52.721057Z",
     "iopub.status.idle": "2025-10-03T13:11:52.726455Z",
     "shell.execute_reply": "2025-10-03T13:11:52.725293Z"
    },
    "papermill": {
     "duration": 0.011218,
     "end_time": "2025-10-03T13:11:52.728195",
     "exception": false,
     "start_time": "2025-10-03T13:11:52.716977",
     "status": "completed"
    },
    "tags": []
   },
   "outputs": [
    {
     "name": "stdout",
     "output_type": "stream",
     "text": [
      "Index(['row_id', 'answered_correctly'], dtype='object')\n"
     ]
    }
   ],
   "source": [
    "print(df.columns)"
   ]
  },
  {
   "cell_type": "code",
   "execution_count": 7,
   "id": "aaf52279",
   "metadata": {
    "execution": {
     "iopub.execute_input": "2025-10-03T13:11:52.736923Z",
     "iopub.status.busy": "2025-10-03T13:11:52.736562Z",
     "iopub.status.idle": "2025-10-03T13:11:53.823023Z",
     "shell.execute_reply": "2025-10-03T13:11:53.822110Z"
    },
    "papermill": {
     "duration": 1.09309,
     "end_time": "2025-10-03T13:11:53.824701",
     "exception": false,
     "start_time": "2025-10-03T13:11:52.731611",
     "status": "completed"
    },
    "tags": []
   },
   "outputs": [
    {
     "data": {
      "image/png": "[encoded data removed]",
      "text/plain": [
       "<Figure size 600x400 with 1 Axes>"
      ]
     },
     "metadata": {},
     "output_type": "display_data"
    }
   ],
   "source": [
    "# Plot the distribution of predicted correctness\n",
    "plt.figure(figsize=(6,4))\n",
    "sns.countplot(x='answered_correctly', data=df)\n",
    "plt.title('Distribution of Predicted Answers (Correct/Incorrect)')\n",
    "plt.show()"
   ]
  },
  {
   "cell_type": "code",
   "execution_count": 8,
   "id": "64a6bd73",
   "metadata": {
    "execution": {
     "iopub.execute_input": "2025-10-03T13:11:53.833536Z",
     "iopub.status.busy": "2025-10-03T13:11:53.833232Z",
     "iopub.status.idle": "2025-10-03T13:11:54.253771Z",
     "shell.execute_reply": "2025-10-03T13:11:54.252606Z"
    },
    "papermill": {
     "duration": 0.427311,
     "end_time": "2025-10-03T13:11:54.255876",
     "exception": false,
     "start_time": "2025-10-03T13:11:53.828565",
     "status": "completed"
    },
    "tags": []
   },
   "outputs": [],
   "source": [
    "from sklearn.model_selection import train_test_split\n",
    "from sklearn.linear_model import LogisticRegression\n",
    "from sklearn.metrics import accuracy_score, confusion_matrix, ConfusionMatrixDisplay\n",
    "\n",
    "# Sample fake training data for demonstration (features + target)\n",
    "# Normally you should load actual training data with features!\n",
    "import numpy as np\n",
    "np.random.seed(0)\n",
    "X = np.random.rand(1000, 5)  # 5 random features\n",
    "y = (X[:, 0] + X[:, 1] * 0.5 + np.random.randn(1000) * 0.1 > 0.7).astype(int)  # binary target"
   ]
  },
  {
   "cell_type": "code",
   "execution_count": 9,
   "id": "2694690f",
   "metadata": {
    "execution": {
     "iopub.execute_input": "2025-10-03T13:11:54.265101Z",
     "iopub.status.busy": "2025-10-03T13:11:54.264423Z",
     "iopub.status.idle": "2025-10-03T13:11:54.269991Z",
     "shell.execute_reply": "2025-10-03T13:11:54.269096Z"
    },
    "papermill": {
     "duration": 0.011789,
     "end_time": "2025-10-03T13:11:54.271592",
     "exception": false,
     "start_time": "2025-10-03T13:11:54.259803",
     "status": "completed"
    },
    "tags": []
   },
   "outputs": [],
   "source": [
    "# Split train/test\n",
    "X_train, X_test, y_train, y_test = train_test_split(X, y, test_size=0.2, random_state=42)"
   ]
  },
  {
   "cell_type": "code",
   "execution_count": 10,
   "id": "9a60700d",
   "metadata": {
    "execution": {
     "iopub.execute_input": "2025-10-03T13:11:54.280253Z",
     "iopub.status.busy": "2025-10-03T13:11:54.279917Z",
     "iopub.status.idle": "2025-10-03T13:11:54.352421Z",
     "shell.execute_reply": "2025-10-03T13:11:54.350174Z"
    },
    "papermill": {
     "duration": 0.079061,
     "end_time": "2025-10-03T13:11:54.354510",
     "exception": false,
     "start_time": "2025-10-03T13:11:54.275449",
     "status": "completed"
    },
    "tags": []
   },
   "outputs": [
    {
     "data": {
      "text/html": [
       "<style>#sk-container-id-1 {color: black;background-color: white;}#sk-container-id-1 pre{padding: 0;}#sk-container-id-1 div.sk-toggleable {background-color: white;}#sk-container-id-1 label.sk-toggleable__label {cursor: pointer;display: block;width: 100%;margin-bottom: 0;padding: 0.3em;box-sizing: border-box;text-align: center;}#sk-container-id-1 label.sk-toggleable__label-arrow:before {content: \"▸\";float: left;margin-right: 0.25em;color: #696969;}#sk-container-id-1 label.sk-toggleable__label-arrow:hover:before {color: black;}#sk-container-id-1 div.sk-estimator:hover label.sk-toggleable__label-arrow:before {color: black;}#sk-container-id-1 div.sk-toggleable__content {max-height: 0;max-width: 0;overflow: hidden;text-align: left;background-color: #f0f8ff;}#sk-container-id-1 div.sk-toggleable__content pre {margin: 0.2em;color: black;border-radius: 0.25em;background-color: #f0f8ff;}#sk-container-id-1 input.sk-toggleable__control:checked~div.sk-toggleable__content {max-height: 200px;max-width: 100%;overflow: auto;}#sk-container-id-1 input.sk-toggleable__control:checked~label.sk-toggleable__label-arrow:before {content: \"▾\";}#sk-container-id-1 div.sk-estimator input.sk-toggleable__control:checked~label.sk-toggleable__label {background-color: #d4ebff;}#sk-container-id-1 div.sk-label input.sk-toggleable__control:checked~label.sk-toggleable__label {background-color: #d4ebff;}#sk-container-id-1 input.sk-hidden--visually {border: 0;clip: rect(1px 1px 1px 1px);clip: rect(1px, 1px, 1px, 1px);height: 1px;margin: -1px;overflow: hidden;padding: 0;position: absolute;width: 1px;}#sk-container-id-1 div.sk-estimator {font-family: monospace;background-color: #f0f8ff;border: 1px dotted black;border-radius: 0.25em;box-sizing: border-box;margin-bottom: 0.5em;}#sk-container-id-1 div.sk-estimator:hover {background-color: #d4ebff;}#sk-container-id-1 div.sk-parallel-item::after {content: \"\";width: 100%;border-bottom: 1px solid gray;flex-grow: 1;}#sk-container-id-1 div.sk-label:hover label.sk-toggleable__label {background-color: #d4ebff;}#sk-container-id-1 div.sk-serial::before {content: \"\";position: absolute;border-left: 1px solid gray;box-sizing: border-box;top: 0;bottom: 0;left: 50%;z-index: 0;}#sk-container-id-1 div.sk-serial {display: flex;flex-direction: column;align-items: center;background-color: white;padding-right: 0.2em;padding-left: 0.2em;position: relative;}#sk-container-id-1 div.sk-item {position: relative;z-index: 1;}#sk-container-id-1 div.sk-parallel {display: flex;align-items: stretch;justify-content: center;background-color: white;position: relative;}#sk-container-id-1 div.sk-item::before, #sk-container-id-1 div.sk-parallel-item::before {content: \"\";position: absolute;border-left: 1px solid gray;box-sizing: border-box;top: 0;bottom: 0;left: 50%;z-index: -1;}#sk-container-id-1 div.sk-parallel-item {display: flex;flex-direction: column;z-index: 1;position: relative;background-color: white;}#sk-container-id-1 div.sk-parallel-item:first-child::after {align-self: flex-end;width: 50%;}#sk-container-id-1 div.sk-parallel-item:last-child::after {align-self: flex-start;width: 50%;}#sk-container-id-1 div.sk-parallel-item:only-child::after {width: 0;}#sk-container-id-1 div.sk-dashed-wrapped {border: 1px dashed gray;margin: 0 0.4em 0.5em 0.4em;box-sizing: border-box;padding-bottom: 0.4em;background-color: white;}#sk-container-id-1 div.sk-label label {font-family: monospace;font-weight: bold;display: inline-block;line-height: 1.2em;}#sk-container-id-1 div.sk-label-container {text-align: center;}#sk-container-id-1 div.sk-container {/* jupyter's `normalize.less` sets `[hidden] { display: none; }` but bootstrap.min.css set `[hidden] { display: none !important; }` so we also need the `!important` here to be able to override the default hidden behavior on the sphinx rendered scikit-learn.org. See: https://github.com/scikit-learn/scikit-learn/issues/21755 */display: inline-block !important;position: relative;}#sk-container-id-1 div.sk-text-repr-fallback {display: none;}</style><div id=\"sk-container-id-1\" class=\"sk-top-container\"><div class=\"sk-text-repr-fallback\"><pre>LogisticRegression()</pre><b>In a Jupyter environment, please rerun this cell to show the HTML representation or trust the notebook. <br />On GitHub, the HTML representation is unable to render, please try loading this page with nbviewer.org.</b></div><div class=\"sk-container\" hidden><div class=\"sk-item\"><div class=\"sk-estimator sk-toggleable\"><input class=\"sk-toggleable__control sk-hidden--visually\" id=\"sk-estimator-id-1\" type=\"checkbox\" checked><label for=\"sk-estimator-id-1\" class=\"sk-toggleable__label sk-toggleable__label-arrow\">LogisticRegression</label><div class=\"sk-toggleable__content\"><pre>LogisticRegression()</pre></div></div></div></div></div>"
      ],
      "text/plain": [
       "LogisticRegression()"
      ]
     },
     "execution_count": 10,
     "metadata": {},
     "output_type": "execute_result"
    }
   ],
   "source": [
    "# Train logistic regression model\n",
    "model = LogisticRegression()\n",
    "model.fit(X_train, y_train)"
   ]
  },
  {
   "cell_type": "code",
   "execution_count": 11,
   "id": "1bb29c6d",
   "metadata": {
    "execution": {
     "iopub.execute_input": "2025-10-03T13:11:54.369414Z",
     "iopub.status.busy": "2025-10-03T13:11:54.369066Z",
     "iopub.status.idle": "2025-10-03T13:11:54.379041Z",
     "shell.execute_reply": "2025-10-03T13:11:54.378269Z"
    },
    "papermill": {
     "duration": 0.019623,
     "end_time": "2025-10-03T13:11:54.381113",
     "exception": false,
     "start_time": "2025-10-03T13:11:54.361490",
     "status": "completed"
    },
    "tags": []
   },
   "outputs": [
    {
     "name": "stdout",
     "output_type": "stream",
     "text": [
      "Accuracy: 0.9300\n"
     ]
    }
   ],
   "source": [
    "# Predict on test set\n",
    "y_pred = model.predict(X_test)\n",
    "\n",
    "# Accuracy\n",
    "print(f'Accuracy: {accuracy_score(y_test, y_pred):.4f}')"
   ]
  },
  {
   "cell_type": "code",
   "execution_count": 12,
   "id": "20b0ad50",
   "metadata": {
    "execution": {
     "iopub.execute_input": "2025-10-03T13:11:54.396393Z",
     "iopub.status.busy": "2025-10-03T13:11:54.394198Z",
     "iopub.status.idle": "2025-10-03T13:11:54.633625Z",
     "shell.execute_reply": "2025-10-03T13:11:54.632623Z"
    },
    "papermill": {
     "duration": 0.248232,
     "end_time": "2025-10-03T13:11:54.635506",
     "exception": false,
     "start_time": "2025-10-03T13:11:54.387274",
     "status": "completed"
    },
    "tags": []
   },
   "outputs": [
    {
     "data": {
      "image/png": "[encoded data removed]",
      "text/plain": [
       "<Figure size 640x480 with 2 Axes>"
      ]
     },
     "metadata": {},
     "output_type": "display_data"
    }
   ],
   "source": [
    "# Confusion matrix visualization\n",
    "cm = confusion_matrix(y_test, y_pred)\n",
    "disp = ConfusionMatrixDisplay(confusion_matrix=cm, display_labels=['Incorrect', 'Correct'])\n",
    "disp.plot(cmap='Blues')\n",
    "plt.title('Confusion Matrix of Logistic Regression Model')\n",
    "plt.show()"
   ]
  }
 ],
 "metadata": {
  "kaggle": {
   "accelerator": "none",
   "dataSources": [
    {
     "datasetId": 1033994,
     "sourceId": 1741906,
     "sourceType": "datasetVersion"
    }
   ],
   "dockerImageVersionId": 31089,
   "isGpuEnabled": false,
   "isInternetEnabled": true,
   "language": "python",
   "sourceType": "notebook"
  },
  "kernelspec": {
   "display_name": "Python 3",
   "language": "python",
   "name": "python3"
  },
  "language_info": {
   "codemirror_mode": {
    "name": "ipython",
    "version": 3
   },
   "file_extension": ".py",
   "mimetype": "text/x-python",
   "name": "python",
   "nbconvert_exporter": "python",
   "pygments_lexer": "ipython3",
   "version": "3.11.13"
  },
  "papermill": {
   "default_parameters": {},
   "duration": 12.341986,
   "end_time": "2025-10-03T13:11:55.361083",
   "environment_variables": {},
   "exception": null,
   "input_path": "__notebook__.ipynb",
   "output_path": "__notebook__.ipynb",
   "parameters": {},
   "start_time": "2025-10-03T13:11:43.019097",
   "version": "2.6.0"
  }
 },
 "nbformat": 4,
 "nbformat_minor": 5
}
