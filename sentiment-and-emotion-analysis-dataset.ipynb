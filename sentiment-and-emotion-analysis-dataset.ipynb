{
 "cells": [
  {
   "cell_type": "code",
   "execution_count": 1,
   "id": "9ceb42c5",
   "metadata": {
    "_cell_guid": "b1076dfc-b9ad-4769-8c92-a6c4dae69d19",
    "_uuid": "8f2839f25d086af736a60e9eeb907d3b93b6e0e5",
    "execution": {
     "iopub.execute_input": "2025-10-03T13:36:48.037561Z",
     "iopub.status.busy": "2025-10-03T13:36:48.037150Z",
     "iopub.status.idle": "2025-10-03T13:36:50.336124Z",
     "shell.execute_reply": "2025-10-03T13:36:50.334379Z"
    },
    "papermill": {
     "duration": 2.305879,
     "end_time": "2025-10-03T13:36:50.338041",
     "exception": false,
     "start_time": "2025-10-03T13:36:48.032162",
     "status": "completed"
    },
    "tags": []
   },
   "outputs": [
    {
     "name": "stdout",
     "output_type": "stream",
     "text": [
      "/kaggle/input/sentiment-and-emotion-analysis-dataset/archive/combined_emotion.csv\n",
      "/kaggle/input/sentiment-and-emotion-analysis-dataset/archive/combined_sentiment_data.csv\n"
     ]
    }
   ],
   "source": [
    "# This Python 3 environment comes with many helpful analytics libraries installed\n",
    "# It is defined by the kaggle/python Docker image: https://github.com/kaggle/docker-python\n",
    "# For example, here's several helpful packages to load\n",
    "\n",
    "import numpy as np # linear algebra\n",
    "import pandas as pd # data processing, CSV file I/O (e.g. pd.read_csv)\n",
    "\n",
    "# Input data files are available in the read-only \"../input/\" directory\n",
    "# For example, running this (by clicking run or pressing Shift+Enter) will list all files under the input directory\n",
    "\n",
    "import os\n",
    "for dirname, _, filenames in os.walk('/kaggle/input'):\n",
    "    for filename in filenames:\n",
    "        print(os.path.join(dirname, filename))\n",
    "\n",
    "# You can write up to 20GB to the current directory (/kaggle/working/) that gets preserved as output when you create a version using \"Save & Run All\" \n",
    "# You can also write temporary files to /kaggle/temp/, but they won't be saved outside of the current session"
   ]
  },
  {
   "cell_type": "code",
   "execution_count": 2,
   "id": "83424edf",
   "metadata": {
    "execution": {
     "iopub.execute_input": "2025-10-03T13:36:50.346702Z",
     "iopub.status.busy": "2025-10-03T13:36:50.346296Z",
     "iopub.status.idle": "2025-10-03T13:36:50.351405Z",
     "shell.execute_reply": "2025-10-03T13:36:50.350201Z"
    },
    "papermill": {
     "duration": 0.011187,
     "end_time": "2025-10-03T13:36:50.353401",
     "exception": false,
     "start_time": "2025-10-03T13:36:50.342214",
     "status": "completed"
    },
    "tags": []
   },
   "outputs": [],
   "source": [
    "import warnings\n",
    "warnings.filterwarnings(\"ignore\")"
   ]
  },
  {
   "cell_type": "code",
   "execution_count": 3,
   "id": "97c0bf3c",
   "metadata": {
    "execution": {
     "iopub.execute_input": "2025-10-03T13:36:50.360812Z",
     "iopub.status.busy": "2025-10-03T13:36:50.360500Z",
     "iopub.status.idle": "2025-10-03T13:36:52.920170Z",
     "shell.execute_reply": "2025-10-03T13:36:52.918835Z"
    },
    "papermill": {
     "duration": 2.565682,
     "end_time": "2025-10-03T13:36:52.922259",
     "exception": false,
     "start_time": "2025-10-03T13:36:50.356577",
     "status": "completed"
    },
    "tags": []
   },
   "outputs": [],
   "source": [
    "# Import required libraries\n",
    "import pandas as pd\n",
    "import matplotlib.pyplot as plt\n",
    "import seaborn as sns"
   ]
  },
  {
   "cell_type": "code",
   "execution_count": 4,
   "id": "677c3641",
   "metadata": {
    "execution": {
     "iopub.execute_input": "2025-10-03T13:36:52.930194Z",
     "iopub.status.busy": "2025-10-03T13:36:52.929681Z",
     "iopub.status.idle": "2025-10-03T13:36:54.519853Z",
     "shell.execute_reply": "2025-10-03T13:36:54.518594Z"
    },
    "papermill": {
     "duration": 1.59615,
     "end_time": "2025-10-03T13:36:54.521654",
     "exception": false,
     "start_time": "2025-10-03T13:36:52.925504",
     "status": "completed"
    },
    "tags": []
   },
   "outputs": [
    {
     "data": {
      "text/html": [
       "<div>\n",
       "<style scoped>\n",
       "    .dataframe tbody tr th:only-of-type {\n",
       "        vertical-align: middle;\n",
       "    }\n",
       "\n",
       "    .dataframe tbody tr th {\n",
       "        vertical-align: top;\n",
       "    }\n",
       "\n",
       "    .dataframe thead th {\n",
       "        text-align: right;\n",
       "    }\n",
       "</style>\n",
       "<table border=\"1\" class=\"dataframe\">\n",
       "  <thead>\n",
       "    <tr style=\"text-align: right;\">\n",
       "      <th></th>\n",
       "      <th>sentence</th>\n",
       "      <th>emotion</th>\n",
       "    </tr>\n",
       "  </thead>\n",
       "  <tbody>\n",
       "    <tr>\n",
       "      <th>0</th>\n",
       "      <td>i just feel really helpless and heavy hearted</td>\n",
       "      <td>fear</td>\n",
       "    </tr>\n",
       "    <tr>\n",
       "      <th>1</th>\n",
       "      <td>ive enjoyed being able to slouch about relax a...</td>\n",
       "      <td>sad</td>\n",
       "    </tr>\n",
       "    <tr>\n",
       "      <th>2</th>\n",
       "      <td>i gave up my internship with the dmrg and am f...</td>\n",
       "      <td>fear</td>\n",
       "    </tr>\n",
       "    <tr>\n",
       "      <th>3</th>\n",
       "      <td>i dont know i feel so lost</td>\n",
       "      <td>sad</td>\n",
       "    </tr>\n",
       "    <tr>\n",
       "      <th>4</th>\n",
       "      <td>i am a kindergarten teacher and i am thoroughl...</td>\n",
       "      <td>fear</td>\n",
       "    </tr>\n",
       "  </tbody>\n",
       "</table>\n",
       "</div>"
      ],
      "text/plain": [
       "                                            sentence emotion\n",
       "0      i just feel really helpless and heavy hearted    fear\n",
       "1  ive enjoyed being able to slouch about relax a...     sad\n",
       "2  i gave up my internship with the dmrg and am f...    fear\n",
       "3                         i dont know i feel so lost     sad\n",
       "4  i am a kindergarten teacher and i am thoroughl...    fear"
      ]
     },
     "execution_count": 4,
     "metadata": {},
     "output_type": "execute_result"
    }
   ],
   "source": [
    "df = pd.read_csv('/kaggle/input/sentiment-and-emotion-analysis-dataset/archive/combined_emotion.csv')\n",
    "df.head()"
   ]
  },
  {
   "cell_type": "code",
   "execution_count": 5,
   "id": "7da51065",
   "metadata": {
    "execution": {
     "iopub.execute_input": "2025-10-03T13:36:54.529820Z",
     "iopub.status.busy": "2025-10-03T13:36:54.529503Z",
     "iopub.status.idle": "2025-10-03T13:36:54.538094Z",
     "shell.execute_reply": "2025-10-03T13:36:54.536978Z"
    },
    "papermill": {
     "duration": 0.014554,
     "end_time": "2025-10-03T13:36:54.540014",
     "exception": false,
     "start_time": "2025-10-03T13:36:54.525460",
     "status": "completed"
    },
    "tags": []
   },
   "outputs": [
    {
     "data": {
      "text/plain": [
       "Index(['sentence', 'emotion'], dtype='object')"
      ]
     },
     "execution_count": 5,
     "metadata": {},
     "output_type": "execute_result"
    }
   ],
   "source": [
    "df.columns"
   ]
  },
  {
   "cell_type": "code",
   "execution_count": 6,
   "id": "ca851033",
   "metadata": {
    "execution": {
     "iopub.execute_input": "2025-10-03T13:36:54.548406Z",
     "iopub.status.busy": "2025-10-03T13:36:54.548094Z",
     "iopub.status.idle": "2025-10-03T13:36:55.192453Z",
     "shell.execute_reply": "2025-10-03T13:36:55.191060Z"
    },
    "papermill": {
     "duration": 0.65067,
     "end_time": "2025-10-03T13:36:55.194103",
     "exception": false,
     "start_time": "2025-10-03T13:36:54.543433",
     "status": "completed"
    },
    "tags": []
   },
   "outputs": [
    {
     "data": {
      "image/png": "[encoded data removed]",
      "text/plain": [
       "<Figure size 1000x500 with 1 Axes>"
      ]
     },
     "metadata": {},
     "output_type": "display_data"
    }
   ],
   "source": [
    "# Count of each emotion\n",
    "plt.figure(figsize=(10,5))\n",
    "sns.countplot(data=df, x='emotion', order=df['emotion'].value_counts().index)\n",
    "plt.title('Emotion Distribution')\n",
    "plt.xticks(rotation=45)\n",
    "plt.show()"
   ]
  },
  {
   "cell_type": "code",
   "execution_count": 7,
   "id": "1d2a9b8f",
   "metadata": {
    "execution": {
     "iopub.execute_input": "2025-10-03T13:36:55.202948Z",
     "iopub.status.busy": "2025-10-03T13:36:55.202593Z",
     "iopub.status.idle": "2025-10-03T13:36:55.587142Z",
     "shell.execute_reply": "2025-10-03T13:36:55.585969Z"
    },
    "papermill": {
     "duration": 0.390904,
     "end_time": "2025-10-03T13:36:55.588958",
     "exception": false,
     "start_time": "2025-10-03T13:36:55.198054",
     "status": "completed"
    },
    "tags": []
   },
   "outputs": [],
   "source": [
    "# Split into train and test\n",
    "from sklearn.model_selection import train_test_split\n",
    "X = df['sentence']\n",
    "y = df['emotion']"
   ]
  },
  {
   "cell_type": "code",
   "execution_count": 8,
   "id": "da7e9447",
   "metadata": {
    "execution": {
     "iopub.execute_input": "2025-10-03T13:36:55.598433Z",
     "iopub.status.busy": "2025-10-03T13:36:55.598023Z",
     "iopub.status.idle": "2025-10-03T13:36:55.657672Z",
     "shell.execute_reply": "2025-10-03T13:36:55.656352Z"
    },
    "papermill": {
     "duration": 0.066472,
     "end_time": "2025-10-03T13:36:55.659710",
     "exception": false,
     "start_time": "2025-10-03T13:36:55.593238",
     "status": "completed"
    },
    "tags": []
   },
   "outputs": [],
   "source": [
    "X_train, X_test, y_train, y_test = train_test_split(X, y, test_size=0.2, random_state=42)"
   ]
  },
  {
   "cell_type": "code",
   "execution_count": 9,
   "id": "1a6a474c",
   "metadata": {
    "execution": {
     "iopub.execute_input": "2025-10-03T13:36:55.669593Z",
     "iopub.status.busy": "2025-10-03T13:36:55.669240Z",
     "iopub.status.idle": "2025-10-03T13:37:02.366957Z",
     "shell.execute_reply": "2025-10-03T13:37:02.365977Z"
    },
    "papermill": {
     "duration": 6.70508,
     "end_time": "2025-10-03T13:37:02.369030",
     "exception": false,
     "start_time": "2025-10-03T13:36:55.663950",
     "status": "completed"
    },
    "tags": []
   },
   "outputs": [],
   "source": [
    "# Convert text to numbers using TF-IDF\n",
    "from sklearn.feature_extraction.text import TfidfVectorizer\n",
    "tfidf = TfidfVectorizer(stop_words='english', max_features=5000)\n",
    "X_train_tfidf = tfidf.fit_transform(X_train)\n",
    "X_test_tfidf = tfidf.transform(X_test)"
   ]
  },
  {
   "cell_type": "code",
   "execution_count": 10,
   "id": "55dea65e",
   "metadata": {
    "execution": {
     "iopub.execute_input": "2025-10-03T13:37:02.378016Z",
     "iopub.status.busy": "2025-10-03T13:37:02.377650Z",
     "iopub.status.idle": "2025-10-03T13:38:25.006810Z",
     "shell.execute_reply": "2025-10-03T13:38:25.005949Z"
    },
    "papermill": {
     "duration": 82.641564,
     "end_time": "2025-10-03T13:38:25.014610",
     "exception": false,
     "start_time": "2025-10-03T13:37:02.373046",
     "status": "completed"
    },
    "tags": []
   },
   "outputs": [
    {
     "data": {
      "text/html": [
       "<style>#sk-container-id-1 {color: black;background-color: white;}#sk-container-id-1 pre{padding: 0;}#sk-container-id-1 div.sk-toggleable {background-color: white;}#sk-container-id-1 label.sk-toggleable__label {cursor: pointer;display: block;width: 100%;margin-bottom: 0;padding: 0.3em;box-sizing: border-box;text-align: center;}#sk-container-id-1 label.sk-toggleable__label-arrow:before {content: \"▸\";float: left;margin-right: 0.25em;color: #696969;}#sk-container-id-1 label.sk-toggleable__label-arrow:hover:before {color: black;}#sk-container-id-1 div.sk-estimator:hover label.sk-toggleable__label-arrow:before {color: black;}#sk-container-id-1 div.sk-toggleable__content {max-height: 0;max-width: 0;overflow: hidden;text-align: left;background-color: #f0f8ff;}#sk-container-id-1 div.sk-toggleable__content pre {margin: 0.2em;color: black;border-radius: 0.25em;background-color: #f0f8ff;}#sk-container-id-1 input.sk-toggleable__control:checked~div.sk-toggleable__content {max-height: 200px;max-width: 100%;overflow: auto;}#sk-container-id-1 input.sk-toggleable__control:checked~label.sk-toggleable__label-arrow:before {content: \"▾\";}#sk-container-id-1 div.sk-estimator input.sk-toggleable__control:checked~label.sk-toggleable__label {background-color: #d4ebff;}#sk-container-id-1 div.sk-label input.sk-toggleable__control:checked~label.sk-toggleable__label {background-color: #d4ebff;}#sk-container-id-1 input.sk-hidden--visually {border: 0;clip: rect(1px 1px 1px 1px);clip: rect(1px, 1px, 1px, 1px);height: 1px;margin: -1px;overflow: hidden;padding: 0;position: absolute;width: 1px;}#sk-container-id-1 div.sk-estimator {font-family: monospace;background-color: #f0f8ff;border: 1px dotted black;border-radius: 0.25em;box-sizing: border-box;margin-bottom: 0.5em;}#sk-container-id-1 div.sk-estimator:hover {background-color: #d4ebff;}#sk-container-id-1 div.sk-parallel-item::after {content: \"\";width: 100%;border-bottom: 1px solid gray;flex-grow: 1;}#sk-container-id-1 div.sk-label:hover label.sk-toggleable__label {background-color: #d4ebff;}#sk-container-id-1 div.sk-serial::before {content: \"\";position: absolute;border-left: 1px solid gray;box-sizing: border-box;top: 0;bottom: 0;left: 50%;z-index: 0;}#sk-container-id-1 div.sk-serial {display: flex;flex-direction: column;align-items: center;background-color: white;padding-right: 0.2em;padding-left: 0.2em;position: relative;}#sk-container-id-1 div.sk-item {position: relative;z-index: 1;}#sk-container-id-1 div.sk-parallel {display: flex;align-items: stretch;justify-content: center;background-color: white;position: relative;}#sk-container-id-1 div.sk-item::before, #sk-container-id-1 div.sk-parallel-item::before {content: \"\";position: absolute;border-left: 1px solid gray;box-sizing: border-box;top: 0;bottom: 0;left: 50%;z-index: -1;}#sk-container-id-1 div.sk-parallel-item {display: flex;flex-direction: column;z-index: 1;position: relative;background-color: white;}#sk-container-id-1 div.sk-parallel-item:first-child::after {align-self: flex-end;width: 50%;}#sk-container-id-1 div.sk-parallel-item:last-child::after {align-self: flex-start;width: 50%;}#sk-container-id-1 div.sk-parallel-item:only-child::after {width: 0;}#sk-container-id-1 div.sk-dashed-wrapped {border: 1px dashed gray;margin: 0 0.4em 0.5em 0.4em;box-sizing: border-box;padding-bottom: 0.4em;background-color: white;}#sk-container-id-1 div.sk-label label {font-family: monospace;font-weight: bold;display: inline-block;line-height: 1.2em;}#sk-container-id-1 div.sk-label-container {text-align: center;}#sk-container-id-1 div.sk-container {/* jupyter's `normalize.less` sets `[hidden] { display: none; }` but bootstrap.min.css set `[hidden] { display: none !important; }` so we also need the `!important` here to be able to override the default hidden behavior on the sphinx rendered scikit-learn.org. See: https://github.com/scikit-learn/scikit-learn/issues/21755 */display: inline-block !important;position: relative;}#sk-container-id-1 div.sk-text-repr-fallback {display: none;}</style><div id=\"sk-container-id-1\" class=\"sk-top-container\"><div class=\"sk-text-repr-fallback\"><pre>LogisticRegression(max_iter=1000)</pre><b>In a Jupyter environment, please rerun this cell to show the HTML representation or trust the notebook. <br />On GitHub, the HTML representation is unable to render, please try loading this page with nbviewer.org.</b></div><div class=\"sk-container\" hidden><div class=\"sk-item\"><div class=\"sk-estimator sk-toggleable\"><input class=\"sk-toggleable__control sk-hidden--visually\" id=\"sk-estimator-id-1\" type=\"checkbox\" checked><label for=\"sk-estimator-id-1\" class=\"sk-toggleable__label sk-toggleable__label-arrow\">LogisticRegression</label><div class=\"sk-toggleable__content\"><pre>LogisticRegression(max_iter=1000)</pre></div></div></div></div></div>"
      ],
      "text/plain": [
       "LogisticRegression(max_iter=1000)"
      ]
     },
     "execution_count": 10,
     "metadata": {},
     "output_type": "execute_result"
    }
   ],
   "source": [
    "# Use a simple but powerful model: Logistic Regression\n",
    "from sklearn.linear_model import LogisticRegression\n",
    "model = LogisticRegression(max_iter=1000)\n",
    "model.fit(X_train_tfidf, y_train)"
   ]
  },
  {
   "cell_type": "code",
   "execution_count": 11,
   "id": "47469877",
   "metadata": {
    "execution": {
     "iopub.execute_input": "2025-10-03T13:38:25.028668Z",
     "iopub.status.busy": "2025-10-03T13:38:25.028315Z",
     "iopub.status.idle": "2025-10-03T13:38:28.342053Z",
     "shell.execute_reply": "2025-10-03T13:38:28.340793Z"
    },
    "papermill": {
     "duration": 3.322996,
     "end_time": "2025-10-03T13:38:28.343759",
     "exception": false,
     "start_time": "2025-10-03T13:38:25.020763",
     "status": "completed"
    },
    "tags": []
   },
   "outputs": [
    {
     "name": "stdout",
     "output_type": "stream",
     "text": [
      "Accuracy: 0.8963453577764636\n",
      "              precision    recall  f1-score   support\n",
      "\n",
      "       anger       0.91      0.90      0.90     11810\n",
      "        fear       0.85      0.85      0.85      9952\n",
      "         joy       0.91      0.93      0.92     28781\n",
      "        love       0.81      0.76      0.78      6929\n",
      "         sad       0.94      0.93      0.93     24036\n",
      "     suprise       0.77      0.71      0.74      3042\n",
      "\n",
      "    accuracy                           0.90     84550\n",
      "   macro avg       0.86      0.85      0.86     84550\n",
      "weighted avg       0.90      0.90      0.90     84550\n",
      "\n"
     ]
    }
   ],
   "source": [
    "# Predict and check accuracy\n",
    "from sklearn.metrics import classification_report, accuracy_score\n",
    "y_pred = model.predict(X_test_tfidf)\n",
    "print(\"Accuracy:\", accuracy_score(y_test, y_pred))\n",
    "print(classification_report(y_test, y_pred))"
   ]
  }
 ],
 "metadata": {
  "kaggle": {
   "accelerator": "none",
   "dataSources": [
    {
     "datasetId": 6282898,
     "sourceId": 10172688,
     "sourceType": "datasetVersion"
    }
   ],
   "dockerImageVersionId": 31089,
   "isGpuEnabled": false,
   "isInternetEnabled": true,
   "language": "python",
   "sourceType": "notebook"
  },
  "kernelspec": {
   "display_name": "Python 3",
   "language": "python",
   "name": "python3"
  },
  "language_info": {
   "codemirror_mode": {
    "name": "ipython",
    "version": 3
   },
   "file_extension": ".py",
   "mimetype": "text/x-python",
   "name": "python",
   "nbconvert_exporter": "python",
   "pygments_lexer": "ipython3",
   "version": "3.11.13"
  },
  "papermill": {
   "default_parameters": {},
   "duration": 107.897996,
   "end_time": "2025-10-03T13:38:29.176190",
   "environment_variables": {},
   "exception": null,
   "input_path": "__notebook__.ipynb",
   "output_path": "__notebook__.ipynb",
   "parameters": {},
   "start_time": "2025-10-03T13:36:41.278194",
   "version": "2.6.0"
  }
 },
 "nbformat": 4,
 "nbformat_minor": 5
}
