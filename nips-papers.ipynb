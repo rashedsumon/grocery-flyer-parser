{
 "cells": [
  {
   "cell_type": "code",
   "execution_count": 1,
   "id": "2da5198f",
   "metadata": {
    "_cell_guid": "b1076dfc-b9ad-4769-8c92-a6c4dae69d19",
    "_uuid": "8f2839f25d086af736a60e9eeb907d3b93b6e0e5",
    "execution": {
     "iopub.execute_input": "2025-10-03T10:11:35.377301Z",
     "iopub.status.busy": "2025-10-03T10:11:35.376979Z",
     "iopub.status.idle": "2025-10-03T10:11:37.463502Z",
     "shell.execute_reply": "2025-10-03T10:11:37.462154Z"
    },
    "papermill": {
     "duration": 2.094007,
     "end_time": "2025-10-03T10:11:37.465602",
     "exception": false,
     "start_time": "2025-10-03T10:11:35.371595",
     "status": "completed"
    },
    "tags": []
   },
   "outputs": [
    {
     "name": "stdout",
     "output_type": "stream",
     "text": [
      "/kaggle/input/nips-papers/paper_authors.csv\n",
      "/kaggle/input/nips-papers/papers.csv\n",
      "/kaggle/input/nips-papers/authors.csv\n",
      "/kaggle/input/nips-papers/database.sqlite\n"
     ]
    }
   ],
   "source": [
    "# This Python 3 environment comes with many helpful analytics libraries installed\n",
    "# It is defined by the kaggle/python Docker image: https://github.com/kaggle/docker-python\n",
    "# For example, here's several helpful packages to load\n",
    "\n",
    "import numpy as np # linear algebra\n",
    "import pandas as pd # data processing, CSV file I/O (e.g. pd.read_csv)\n",
    "\n",
    "# Input data files are available in the read-only \"../input/\" directory\n",
    "# For example, running this (by clicking run or pressing Shift+Enter) will list all files under the input directory\n",
    "\n",
    "import os\n",
    "for dirname, _, filenames in os.walk('/kaggle/input'):\n",
    "    for filename in filenames:\n",
    "        print(os.path.join(dirname, filename))\n",
    "\n",
    "# You can write up to 20GB to the current directory (/kaggle/working/) that gets preserved as output when you create a version using \"Save & Run All\" \n",
    "# You can also write temporary files to /kaggle/temp/, but they won't be saved outside of the current session"
   ]
  },
  {
   "cell_type": "code",
   "execution_count": 2,
   "id": "491a2b66",
   "metadata": {
    "execution": {
     "iopub.execute_input": "2025-10-03T10:11:37.474303Z",
     "iopub.status.busy": "2025-10-03T10:11:37.473639Z",
     "iopub.status.idle": "2025-10-03T10:11:37.479300Z",
     "shell.execute_reply": "2025-10-03T10:11:37.478119Z"
    },
    "papermill": {
     "duration": 0.011796,
     "end_time": "2025-10-03T10:11:37.481145",
     "exception": false,
     "start_time": "2025-10-03T10:11:37.469349",
     "status": "completed"
    },
    "tags": []
   },
   "outputs": [],
   "source": [
    "import warnings\n",
    "warnings.filterwarnings(\"ignore\")"
   ]
  },
  {
   "cell_type": "code",
   "execution_count": 3,
   "id": "6a927d99",
   "metadata": {
    "execution": {
     "iopub.execute_input": "2025-10-03T10:11:37.488875Z",
     "iopub.status.busy": "2025-10-03T10:11:37.488500Z",
     "iopub.status.idle": "2025-10-03T10:11:40.139713Z",
     "shell.execute_reply": "2025-10-03T10:11:40.138844Z"
    },
    "papermill": {
     "duration": 2.657218,
     "end_time": "2025-10-03T10:11:40.141639",
     "exception": false,
     "start_time": "2025-10-03T10:11:37.484421",
     "status": "completed"
    },
    "tags": []
   },
   "outputs": [],
   "source": [
    "import pandas as pd\n",
    "import matplotlib.pyplot as plt\n",
    "import seaborn as sns\n",
    "from sklearn.model_selection import train_test_split\n",
    "from sklearn.feature_extraction.text import TfidfVectorizer\n",
    "from sklearn.linear_model import LogisticRegression\n",
    "from sklearn.ensemble import RandomForestClassifier\n",
    "from sklearn.naive_bayes import MultinomialNB\n",
    "from sklearn.metrics import accuracy_score, classification_report\n",
    "import numpy as np"
   ]
  },
  {
   "cell_type": "code",
   "execution_count": 4,
   "id": "e7163443",
   "metadata": {
    "execution": {
     "iopub.execute_input": "2025-10-03T10:11:40.149687Z",
     "iopub.status.busy": "2025-10-03T10:11:40.149199Z",
     "iopub.status.idle": "2025-10-03T10:11:40.195303Z",
     "shell.execute_reply": "2025-10-03T10:11:40.194121Z"
    },
    "papermill": {
     "duration": 0.052202,
     "end_time": "2025-10-03T10:11:40.197333",
     "exception": false,
     "start_time": "2025-10-03T10:11:40.145131",
     "status": "completed"
    },
    "tags": []
   },
   "outputs": [
    {
     "data": {
      "text/html": [
       "<div>\n",
       "<style scoped>\n",
       "    .dataframe tbody tr th:only-of-type {\n",
       "        vertical-align: middle;\n",
       "    }\n",
       "\n",
       "    .dataframe tbody tr th {\n",
       "        vertical-align: top;\n",
       "    }\n",
       "\n",
       "    .dataframe thead th {\n",
       "        text-align: right;\n",
       "    }\n",
       "</style>\n",
       "<table border=\"1\" class=\"dataframe\">\n",
       "  <thead>\n",
       "    <tr style=\"text-align: right;\">\n",
       "      <th></th>\n",
       "      <th>id</th>\n",
       "      <th>name</th>\n",
       "    </tr>\n",
       "  </thead>\n",
       "  <tbody>\n",
       "    <tr>\n",
       "      <th>0</th>\n",
       "      <td>1</td>\n",
       "      <td>Hisashi Suzuki</td>\n",
       "    </tr>\n",
       "    <tr>\n",
       "      <th>1</th>\n",
       "      <td>10</td>\n",
       "      <td>David Brady</td>\n",
       "    </tr>\n",
       "    <tr>\n",
       "      <th>2</th>\n",
       "      <td>100</td>\n",
       "      <td>Santosh S. Venkatesh</td>\n",
       "    </tr>\n",
       "    <tr>\n",
       "      <th>3</th>\n",
       "      <td>1000</td>\n",
       "      <td>Charles Fefferman</td>\n",
       "    </tr>\n",
       "    <tr>\n",
       "      <th>4</th>\n",
       "      <td>10000</td>\n",
       "      <td>Artur Speiser</td>\n",
       "    </tr>\n",
       "  </tbody>\n",
       "</table>\n",
       "</div>"
      ],
      "text/plain": [
       "      id                  name\n",
       "0      1        Hisashi Suzuki\n",
       "1     10           David Brady\n",
       "2    100  Santosh S. Venkatesh\n",
       "3   1000     Charles Fefferman\n",
       "4  10000         Artur Speiser"
      ]
     },
     "execution_count": 4,
     "metadata": {},
     "output_type": "execute_result"
    }
   ],
   "source": [
    "df = pd.read_csv('/kaggle/input/nips-papers/authors.csv')\n",
    "df.head()"
   ]
  },
  {
   "cell_type": "code",
   "execution_count": 5,
   "id": "938cf0c4",
   "metadata": {
    "execution": {
     "iopub.execute_input": "2025-10-03T10:11:40.205682Z",
     "iopub.status.busy": "2025-10-03T10:11:40.205350Z",
     "iopub.status.idle": "2025-10-03T10:11:40.213523Z",
     "shell.execute_reply": "2025-10-03T10:11:40.212527Z"
    },
    "papermill": {
     "duration": 0.014057,
     "end_time": "2025-10-03T10:11:40.215001",
     "exception": false,
     "start_time": "2025-10-03T10:11:40.200944",
     "status": "completed"
    },
    "tags": []
   },
   "outputs": [
    {
     "data": {
      "text/plain": [
       "Index(['id', 'name'], dtype='object')"
      ]
     },
     "execution_count": 5,
     "metadata": {},
     "output_type": "execute_result"
    }
   ],
   "source": [
    "df.columns"
   ]
  },
  {
   "cell_type": "code",
   "execution_count": 6,
   "id": "883f9b18",
   "metadata": {
    "execution": {
     "iopub.execute_input": "2025-10-03T10:11:40.223204Z",
     "iopub.status.busy": "2025-10-03T10:11:40.222697Z",
     "iopub.status.idle": "2025-10-03T10:11:40.247969Z",
     "shell.execute_reply": "2025-10-03T10:11:40.246818Z"
    },
    "papermill": {
     "duration": 0.031316,
     "end_time": "2025-10-03T10:11:40.249719",
     "exception": false,
     "start_time": "2025-10-03T10:11:40.218403",
     "status": "completed"
    },
    "tags": []
   },
   "outputs": [
    {
     "name": "stdout",
     "output_type": "stream",
     "text": [
      "<class 'pandas.core.frame.DataFrame'>\n",
      "RangeIndex: 9784 entries, 0 to 9783\n",
      "Data columns (total 2 columns):\n",
      " #   Column  Non-Null Count  Dtype \n",
      "---  ------  --------------  ----- \n",
      " 0   id      9784 non-null   int64 \n",
      " 1   name    9783 non-null   object\n",
      "dtypes: int64(1), object(1)\n",
      "memory usage: 153.0+ KB\n",
      "None\n"
     ]
    }
   ],
   "source": [
    "print(df.info())"
   ]
  },
  {
   "cell_type": "code",
   "execution_count": 7,
   "id": "d176ae8f",
   "metadata": {
    "execution": {
     "iopub.execute_input": "2025-10-03T10:11:40.257937Z",
     "iopub.status.busy": "2025-10-03T10:11:40.257587Z",
     "iopub.status.idle": "2025-10-03T10:11:40.696805Z",
     "shell.execute_reply": "2025-10-03T10:11:40.695797Z"
    },
    "papermill": {
     "duration": 0.445202,
     "end_time": "2025-10-03T10:11:40.698493",
     "exception": false,
     "start_time": "2025-10-03T10:11:40.253291",
     "status": "completed"
    },
    "tags": []
   },
   "outputs": [
    {
     "data": {
      "image/png": "[encoded data removed]",
      "text/plain": [
       "<Figure size 1000x500 with 1 Axes>"
      ]
     },
     "metadata": {},
     "output_type": "display_data"
    }
   ],
   "source": [
    "# Create a new column with name lengths, skipping NaN values\n",
    "df['name_length'] = df['name'].apply(lambda x: len(str(x)) if pd.notnull(x) else 0)\n",
    "\n",
    "# Plot the distribution of name lengths\n",
    "plt.figure(figsize=(10,5))\n",
    "sns.histplot(df['name_length'], bins=30, kde=True)\n",
    "plt.title(\"Distribution of Author Name Lengths\")\n",
    "plt.xlabel(\"Name Length\")\n",
    "plt.ylabel(\"Count\")\n",
    "plt.show()"
   ]
  },
  {
   "cell_type": "code",
   "execution_count": 8,
   "id": "d7c6f75a",
   "metadata": {
    "execution": {
     "iopub.execute_input": "2025-10-03T10:11:40.708236Z",
     "iopub.status.busy": "2025-10-03T10:11:40.707883Z",
     "iopub.status.idle": "2025-10-03T10:11:40.724275Z",
     "shell.execute_reply": "2025-10-03T10:11:40.723022Z"
    },
    "papermill": {
     "duration": 0.023288,
     "end_time": "2025-10-03T10:11:40.725886",
     "exception": false,
     "start_time": "2025-10-03T10:11:40.702598",
     "status": "completed"
    },
    "tags": []
   },
   "outputs": [
    {
     "name": "stdout",
     "output_type": "stream",
     "text": [
      "      id                  name  name_length target\n",
      "0      1        Hisashi Suzuki           14      1\n",
      "1     10           David Brady           11      0\n",
      "2    100  Santosh S. Venkatesh           20      1\n",
      "3   1000     Charles Fefferman           17      1\n",
      "4  10000         Artur Speiser           13      1\n"
     ]
    }
   ],
   "source": [
    "df['target'] = pd.cut(df['name_length'], bins=3, labels=[0,1,2])\n",
    "print(df.head())"
   ]
  },
  {
   "cell_type": "code",
   "execution_count": 9,
   "id": "8b41d410",
   "metadata": {
    "execution": {
     "iopub.execute_input": "2025-10-03T10:11:40.735595Z",
     "iopub.status.busy": "2025-10-03T10:11:40.735239Z",
     "iopub.status.idle": "2025-10-03T10:11:40.822464Z",
     "shell.execute_reply": "2025-10-03T10:11:40.821440Z"
    },
    "papermill": {
     "duration": 0.094291,
     "end_time": "2025-10-03T10:11:40.824526",
     "exception": false,
     "start_time": "2025-10-03T10:11:40.730235",
     "status": "completed"
    },
    "tags": []
   },
   "outputs": [],
   "source": [
    "from sklearn.feature_extraction.text import TfidfVectorizer\n",
    "\n",
    "# Fill missing values with empty strings\n",
    "df['name'] = df['name'].fillna('')\n",
    "\n",
    "# Create TF-IDF features\n",
    "vectorizer = TfidfVectorizer()\n",
    "X = vectorizer.fit_transform(df['name'])\n",
    "\n",
    "# Target variable\n",
    "y = df['target']"
   ]
  },
  {
   "cell_type": "code",
   "execution_count": 10,
   "id": "cc06bbb8",
   "metadata": {
    "execution": {
     "iopub.execute_input": "2025-10-03T10:11:40.833896Z",
     "iopub.status.busy": "2025-10-03T10:11:40.833503Z",
     "iopub.status.idle": "2025-10-03T10:11:40.846002Z",
     "shell.execute_reply": "2025-10-03T10:11:40.844938Z"
    },
    "papermill": {
     "duration": 0.019557,
     "end_time": "2025-10-03T10:11:40.848121",
     "exception": false,
     "start_time": "2025-10-03T10:11:40.828564",
     "status": "completed"
    },
    "tags": []
   },
   "outputs": [],
   "source": [
    "X_train, X_test, y_train, y_test = train_test_split(X, y, test_size=0.2, random_state=42, stratify=y)\n"
   ]
  },
  {
   "cell_type": "code",
   "execution_count": 11,
   "id": "e50808a1",
   "metadata": {
    "execution": {
     "iopub.execute_input": "2025-10-03T10:11:40.857523Z",
     "iopub.status.busy": "2025-10-03T10:11:40.857227Z",
     "iopub.status.idle": "2025-10-03T10:12:13.391782Z",
     "shell.execute_reply": "2025-10-03T10:12:13.390801Z"
    },
    "papermill": {
     "duration": 32.545246,
     "end_time": "2025-10-03T10:12:13.397339",
     "exception": false,
     "start_time": "2025-10-03T10:11:40.852093",
     "status": "completed"
    },
    "tags": []
   },
   "outputs": [
    {
     "name": "stdout",
     "output_type": "stream",
     "text": [
      "Model: Logistic Regression\n",
      "              precision    recall  f1-score   support\n",
      "\n",
      "           0       0.81      0.47      0.59       757\n",
      "           1       0.73      0.93      0.81      1186\n",
      "           2       0.00      0.00      0.00        14\n",
      "\n",
      "    accuracy                           0.74      1957\n",
      "   macro avg       0.51      0.47      0.47      1957\n",
      "weighted avg       0.75      0.74      0.72      1957\n",
      "\n",
      "----------------------------\n",
      "Model: Random Forest\n",
      "              precision    recall  f1-score   support\n",
      "\n",
      "           0       0.79      0.46      0.59       757\n",
      "           1       0.72      0.92      0.81      1186\n",
      "           2       0.50      0.07      0.12        14\n",
      "\n",
      "    accuracy                           0.74      1957\n",
      "   macro avg       0.67      0.49      0.51      1957\n",
      "weighted avg       0.75      0.74      0.72      1957\n",
      "\n",
      "----------------------------\n",
      "Model: Naive Bayes\n",
      "              precision    recall  f1-score   support\n",
      "\n",
      "           0       0.76      0.53      0.63       757\n",
      "           1       0.74      0.89      0.81      1186\n",
      "           2       0.00      0.00      0.00        14\n",
      "\n",
      "    accuracy                           0.75      1957\n",
      "   macro avg       0.50      0.48      0.48      1957\n",
      "weighted avg       0.75      0.75      0.73      1957\n",
      "\n",
      "----------------------------\n"
     ]
    }
   ],
   "source": [
    "models = {\n",
    "    \"Logistic Regression\": LogisticRegression(max_iter=1000),\n",
    "    \"Random Forest\": RandomForestClassifier(),\n",
    "    \"Naive Bayes\": MultinomialNB()\n",
    "}\n",
    "\n",
    "results = {}\n",
    "for name, model in models.items():\n",
    "    model.fit(X_train, y_train)\n",
    "    pred = model.predict(X_test)\n",
    "    acc = accuracy_score(y_test, pred)\n",
    "    results[name] = acc\n",
    "    print(f\"Model: {name}\")\n",
    "    print(classification_report(y_test, pred))\n",
    "    print(\"----------------------------\")"
   ]
  },
  {
   "cell_type": "code",
   "execution_count": 12,
   "id": "7e670a83",
   "metadata": {
    "execution": {
     "iopub.execute_input": "2025-10-03T10:12:13.407365Z",
     "iopub.status.busy": "2025-10-03T10:12:13.407083Z",
     "iopub.status.idle": "2025-10-03T10:12:13.412994Z",
     "shell.execute_reply": "2025-10-03T10:12:13.411814Z"
    },
    "papermill": {
     "duration": 0.013332,
     "end_time": "2025-10-03T10:12:13.414646",
     "exception": false,
     "start_time": "2025-10-03T10:12:13.401314",
     "status": "completed"
    },
    "tags": []
   },
   "outputs": [
    {
     "name": "stdout",
     "output_type": "stream",
     "text": [
      "Best Model: Naive Bayes with Accuracy: 0.7481\n"
     ]
    }
   ],
   "source": [
    "best_model_name = max(results, key=results.get)\n",
    "print(f\"Best Model: {best_model_name} with Accuracy: {results[best_model_name]:.4f}\")"
   ]
  },
  {
   "cell_type": "code",
   "execution_count": 13,
   "id": "b4ad599b",
   "metadata": {
    "execution": {
     "iopub.execute_input": "2025-10-03T10:12:13.424564Z",
     "iopub.status.busy": "2025-10-03T10:12:13.424279Z",
     "iopub.status.idle": "2025-10-03T10:12:13.577966Z",
     "shell.execute_reply": "2025-10-03T10:12:13.576955Z"
    },
    "papermill": {
     "duration": 0.160631,
     "end_time": "2025-10-03T10:12:13.579534",
     "exception": false,
     "start_time": "2025-10-03T10:12:13.418903",
     "status": "completed"
    },
    "tags": []
   },
   "outputs": [
    {
     "data": {
      "image/png": "[encoded data removed]",
      "text/plain": [
       "<Figure size 800x500 with 1 Axes>"
      ]
     },
     "metadata": {},
     "output_type": "display_data"
    }
   ],
   "source": [
    "best_model = models[best_model_name]\n",
    "y_pred = best_model.predict(X_test)\n",
    "\n",
    "plt.figure(figsize=(8,5))\n",
    "sns.countplot(x=y_pred)\n",
    "plt.title(f\"Prediction Distribution of Best Model ({best_model_name})\")\n",
    "plt.xlabel(\"Predicted Class\")\n",
    "plt.ylabel(\"Count\")\n",
    "plt.show()"
   ]
  }
 ],
 "metadata": {
  "kaggle": {
   "accelerator": "none",
   "dataSources": [
    {
     "datasetId": 491,
     "sourceId": 9097,
     "sourceType": "datasetVersion"
    }
   ],
   "dockerImageVersionId": 31089,
   "isGpuEnabled": false,
   "isInternetEnabled": true,
   "language": "python",
   "sourceType": "notebook"
  },
  "kernelspec": {
   "display_name": "Python 3",
   "language": "python",
   "name": "python3"
  },
  "language_info": {
   "codemirror_mode": {
    "name": "ipython",
    "version": 3
   },
   "file_extension": ".py",
   "mimetype": "text/x-python",
   "name": "python",
   "nbconvert_exporter": "python",
   "pygments_lexer": "ipython3",
   "version": "3.11.13"
  },
  "papermill": {
   "default_parameters": {},
   "duration": 44.63945,
   "end_time": "2025-10-03T10:12:14.406429",
   "environment_variables": {},
   "exception": null,
   "input_path": "__notebook__.ipynb",
   "output_path": "__notebook__.ipynb",
   "parameters": {},
   "start_time": "2025-10-03T10:11:29.766979",
   "version": "2.6.0"
  }
 },
 "nbformat": 4,
 "nbformat_minor": 5
}
