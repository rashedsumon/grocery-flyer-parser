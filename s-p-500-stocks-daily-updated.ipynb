{
 "cells": [
  {
   "cell_type": "code",
   "execution_count": 1,
   "id": "6f0aec44",
   "metadata": {
    "_cell_guid": "b1076dfc-b9ad-4769-8c92-a6c4dae69d19",
    "_uuid": "8f2839f25d086af736a60e9eeb907d3b93b6e0e5",
    "execution": {
     "iopub.execute_input": "2025-10-03T17:13:26.262122Z",
     "iopub.status.busy": "2025-10-03T17:13:26.261373Z",
     "iopub.status.idle": "2025-10-03T17:13:28.149193Z",
     "shell.execute_reply": "2025-10-03T17:13:28.148200Z"
    },
    "papermill": {
     "duration": 1.894561,
     "end_time": "2025-10-03T17:13:28.150808",
     "exception": false,
     "start_time": "2025-10-03T17:13:26.256247",
     "status": "completed"
    },
    "tags": []
   },
   "outputs": [
    {
     "name": "stdout",
     "output_type": "stream",
     "text": [
      "/kaggle/input/sp-500-stocks/sp500_stocks.csv\n",
      "/kaggle/input/sp-500-stocks/sp500_companies.csv\n",
      "/kaggle/input/sp-500-stocks/sp500_index.csv\n"
     ]
    }
   ],
   "source": [
    "# This Python 3 environment comes with many helpful analytics libraries installed\n",
    "# It is defined by the kaggle/python Docker image: https://github.com/kaggle/docker-python\n",
    "# For example, here's several helpful packages to load\n",
    "\n",
    "import numpy as np # linear algebra\n",
    "import pandas as pd # data processing, CSV file I/O (e.g. pd.read_csv)\n",
    "\n",
    "# Input data files are available in the read-only \"../input/\" directory\n",
    "# For example, running this (by clicking run or pressing Shift+Enter) will list all files under the input directory\n",
    "\n",
    "import os\n",
    "for dirname, _, filenames in os.walk('/kaggle/input'):\n",
    "    for filename in filenames:\n",
    "        print(os.path.join(dirname, filename))\n",
    "\n",
    "# You can write up to 20GB to the current directory (/kaggle/working/) that gets preserved as output when you create a version using \"Save & Run All\" \n",
    "# You can also write temporary files to /kaggle/temp/, but they won't be saved outside of the current session"
   ]
  },
  {
   "cell_type": "code",
   "execution_count": 2,
   "id": "ffbbef38",
   "metadata": {
    "execution": {
     "iopub.execute_input": "2025-10-03T17:13:28.159984Z",
     "iopub.status.busy": "2025-10-03T17:13:28.159185Z",
     "iopub.status.idle": "2025-10-03T17:13:28.163476Z",
     "shell.execute_reply": "2025-10-03T17:13:28.162722Z"
    },
    "papermill": {
     "duration": 0.010156,
     "end_time": "2025-10-03T17:13:28.164889",
     "exception": false,
     "start_time": "2025-10-03T17:13:28.154733",
     "status": "completed"
    },
    "tags": []
   },
   "outputs": [],
   "source": [
    "import warnings\n",
    "warnings.filterwarnings(\"ignore\")"
   ]
  },
  {
   "cell_type": "code",
   "execution_count": 3,
   "id": "493841b8",
   "metadata": {
    "execution": {
     "iopub.execute_input": "2025-10-03T17:13:28.172630Z",
     "iopub.status.busy": "2025-10-03T17:13:28.172363Z",
     "iopub.status.idle": "2025-10-03T17:13:30.078583Z",
     "shell.execute_reply": "2025-10-03T17:13:30.077583Z"
    },
    "papermill": {
     "duration": 1.911919,
     "end_time": "2025-10-03T17:13:30.080307",
     "exception": false,
     "start_time": "2025-10-03T17:13:28.168388",
     "status": "completed"
    },
    "tags": []
   },
   "outputs": [],
   "source": [
    "import pandas as pd\n",
    "import matplotlib.pyplot as plt\n",
    "import seaborn as sns"
   ]
  },
  {
   "cell_type": "code",
   "execution_count": 4,
   "id": "84d28673",
   "metadata": {
    "execution": {
     "iopub.execute_input": "2025-10-03T17:13:30.088550Z",
     "iopub.status.busy": "2025-10-03T17:13:30.088084Z",
     "iopub.status.idle": "2025-10-03T17:13:30.165647Z",
     "shell.execute_reply": "2025-10-03T17:13:30.164772Z"
    },
    "papermill": {
     "duration": 0.083223,
     "end_time": "2025-10-03T17:13:30.167061",
     "exception": false,
     "start_time": "2025-10-03T17:13:30.083838",
     "status": "completed"
    },
    "tags": []
   },
   "outputs": [
    {
     "data": {
      "text/html": [
       "<div>\n",
       "<style scoped>\n",
       "    .dataframe tbody tr th:only-of-type {\n",
       "        vertical-align: middle;\n",
       "    }\n",
       "\n",
       "    .dataframe tbody tr th {\n",
       "        vertical-align: top;\n",
       "    }\n",
       "\n",
       "    .dataframe thead th {\n",
       "        text-align: right;\n",
       "    }\n",
       "</style>\n",
       "<table border=\"1\" class=\"dataframe\">\n",
       "  <thead>\n",
       "    <tr style=\"text-align: right;\">\n",
       "      <th></th>\n",
       "      <th>Exchange</th>\n",
       "      <th>Symbol</th>\n",
       "      <th>Shortname</th>\n",
       "      <th>Longname</th>\n",
       "      <th>Sector</th>\n",
       "      <th>Industry</th>\n",
       "      <th>Currentprice</th>\n",
       "      <th>Marketcap</th>\n",
       "      <th>Ebitda</th>\n",
       "      <th>Revenuegrowth</th>\n",
       "      <th>City</th>\n",
       "      <th>State</th>\n",
       "      <th>Country</th>\n",
       "      <th>Fulltimeemployees</th>\n",
       "      <th>Longbusinesssummary</th>\n",
       "      <th>Weight</th>\n",
       "    </tr>\n",
       "  </thead>\n",
       "  <tbody>\n",
       "    <tr>\n",
       "      <th>0</th>\n",
       "      <td>NMS</td>\n",
       "      <td>AAPL</td>\n",
       "      <td>Apple Inc.</td>\n",
       "      <td>Apple Inc.</td>\n",
       "      <td>Technology</td>\n",
       "      <td>Consumer Electronics</td>\n",
       "      <td>254.49</td>\n",
       "      <td>3846819807232</td>\n",
       "      <td>1.346610e+11</td>\n",
       "      <td>0.061</td>\n",
       "      <td>Cupertino</td>\n",
       "      <td>CA</td>\n",
       "      <td>United States</td>\n",
       "      <td>164000.0</td>\n",
       "      <td>Apple Inc. designs, manufactures, and markets ...</td>\n",
       "      <td>0.069209</td>\n",
       "    </tr>\n",
       "    <tr>\n",
       "      <th>1</th>\n",
       "      <td>NMS</td>\n",
       "      <td>NVDA</td>\n",
       "      <td>NVIDIA Corporation</td>\n",
       "      <td>NVIDIA Corporation</td>\n",
       "      <td>Technology</td>\n",
       "      <td>Semiconductors</td>\n",
       "      <td>134.70</td>\n",
       "      <td>3298803056640</td>\n",
       "      <td>6.118400e+10</td>\n",
       "      <td>1.224</td>\n",
       "      <td>Santa Clara</td>\n",
       "      <td>CA</td>\n",
       "      <td>United States</td>\n",
       "      <td>29600.0</td>\n",
       "      <td>NVIDIA Corporation provides graphics and compu...</td>\n",
       "      <td>0.059350</td>\n",
       "    </tr>\n",
       "    <tr>\n",
       "      <th>2</th>\n",
       "      <td>NMS</td>\n",
       "      <td>MSFT</td>\n",
       "      <td>Microsoft Corporation</td>\n",
       "      <td>Microsoft Corporation</td>\n",
       "      <td>Technology</td>\n",
       "      <td>Software - Infrastructure</td>\n",
       "      <td>436.60</td>\n",
       "      <td>3246068596736</td>\n",
       "      <td>1.365520e+11</td>\n",
       "      <td>0.160</td>\n",
       "      <td>Redmond</td>\n",
       "      <td>WA</td>\n",
       "      <td>United States</td>\n",
       "      <td>228000.0</td>\n",
       "      <td>Microsoft Corporation develops and supports so...</td>\n",
       "      <td>0.058401</td>\n",
       "    </tr>\n",
       "    <tr>\n",
       "      <th>3</th>\n",
       "      <td>NMS</td>\n",
       "      <td>AMZN</td>\n",
       "      <td>Amazon.com, Inc.</td>\n",
       "      <td>Amazon.com, Inc.</td>\n",
       "      <td>Consumer Cyclical</td>\n",
       "      <td>Internet Retail</td>\n",
       "      <td>224.92</td>\n",
       "      <td>2365033807872</td>\n",
       "      <td>1.115830e+11</td>\n",
       "      <td>0.110</td>\n",
       "      <td>Seattle</td>\n",
       "      <td>WA</td>\n",
       "      <td>United States</td>\n",
       "      <td>1551000.0</td>\n",
       "      <td>Amazon.com, Inc. engages in the retail sale of...</td>\n",
       "      <td>0.042550</td>\n",
       "    </tr>\n",
       "    <tr>\n",
       "      <th>4</th>\n",
       "      <td>NMS</td>\n",
       "      <td>GOOGL</td>\n",
       "      <td>Alphabet Inc.</td>\n",
       "      <td>Alphabet Inc.</td>\n",
       "      <td>Communication Services</td>\n",
       "      <td>Internet Content &amp; Information</td>\n",
       "      <td>191.41</td>\n",
       "      <td>2351625142272</td>\n",
       "      <td>1.234700e+11</td>\n",
       "      <td>0.151</td>\n",
       "      <td>Mountain View</td>\n",
       "      <td>CA</td>\n",
       "      <td>United States</td>\n",
       "      <td>181269.0</td>\n",
       "      <td>Alphabet Inc. offers various products and plat...</td>\n",
       "      <td>0.042309</td>\n",
       "    </tr>\n",
       "  </tbody>\n",
       "</table>\n",
       "</div>"
      ],
      "text/plain": [
       "  Exchange Symbol              Shortname               Longname  \\\n",
       "0      NMS   AAPL             Apple Inc.             Apple Inc.   \n",
       "1      NMS   NVDA     NVIDIA Corporation     NVIDIA Corporation   \n",
       "2      NMS   MSFT  Microsoft Corporation  Microsoft Corporation   \n",
       "3      NMS   AMZN       Amazon.com, Inc.       Amazon.com, Inc.   \n",
       "4      NMS  GOOGL          Alphabet Inc.          Alphabet Inc.   \n",
       "\n",
       "                   Sector                        Industry  Currentprice  \\\n",
       "0              Technology            Consumer Electronics        254.49   \n",
       "1              Technology                  Semiconductors        134.70   \n",
       "2              Technology       Software - Infrastructure        436.60   \n",
       "3       Consumer Cyclical                 Internet Retail        224.92   \n",
       "4  Communication Services  Internet Content & Information        191.41   \n",
       "\n",
       "       Marketcap        Ebitda  Revenuegrowth           City State  \\\n",
       "0  3846819807232  1.346610e+11          0.061      Cupertino    CA   \n",
       "1  3298803056640  6.118400e+10          1.224    Santa Clara    CA   \n",
       "2  3246068596736  1.365520e+11          0.160        Redmond    WA   \n",
       "3  2365033807872  1.115830e+11          0.110        Seattle    WA   \n",
       "4  2351625142272  1.234700e+11          0.151  Mountain View    CA   \n",
       "\n",
       "         Country  Fulltimeemployees  \\\n",
       "0  United States           164000.0   \n",
       "1  United States            29600.0   \n",
       "2  United States           228000.0   \n",
       "3  United States          1551000.0   \n",
       "4  United States           181269.0   \n",
       "\n",
       "                                 Longbusinesssummary    Weight  \n",
       "0  Apple Inc. designs, manufactures, and markets ...  0.069209  \n",
       "1  NVIDIA Corporation provides graphics and compu...  0.059350  \n",
       "2  Microsoft Corporation develops and supports so...  0.058401  \n",
       "3  Amazon.com, Inc. engages in the retail sale of...  0.042550  \n",
       "4  Alphabet Inc. offers various products and plat...  0.042309  "
      ]
     },
     "execution_count": 4,
     "metadata": {},
     "output_type": "execute_result"
    }
   ],
   "source": [
    "df = pd.read_csv('/kaggle/input/sp-500-stocks/sp500_companies.csv')\n",
    "df.head()"
   ]
  },
  {
   "cell_type": "code",
   "execution_count": 5,
   "id": "2392ba7c",
   "metadata": {
    "execution": {
     "iopub.execute_input": "2025-10-03T17:13:30.175194Z",
     "iopub.status.busy": "2025-10-03T17:13:30.174867Z",
     "iopub.status.idle": "2025-10-03T17:13:30.181976Z",
     "shell.execute_reply": "2025-10-03T17:13:30.181032Z"
    },
    "papermill": {
     "duration": 0.012741,
     "end_time": "2025-10-03T17:13:30.183469",
     "exception": false,
     "start_time": "2025-10-03T17:13:30.170728",
     "status": "completed"
    },
    "tags": []
   },
   "outputs": [
    {
     "data": {
      "text/plain": [
       "Index(['Exchange', 'Symbol', 'Shortname', 'Longname', 'Sector', 'Industry',\n",
       "       'Currentprice', 'Marketcap', 'Ebitda', 'Revenuegrowth', 'City', 'State',\n",
       "       'Country', 'Fulltimeemployees', 'Longbusinesssummary', 'Weight'],\n",
       "      dtype='object')"
      ]
     },
     "execution_count": 5,
     "metadata": {},
     "output_type": "execute_result"
    }
   ],
   "source": [
    "df.columns"
   ]
  },
  {
   "cell_type": "code",
   "execution_count": 6,
   "id": "de28a392",
   "metadata": {
    "execution": {
     "iopub.execute_input": "2025-10-03T17:13:30.191887Z",
     "iopub.status.busy": "2025-10-03T17:13:30.191543Z",
     "iopub.status.idle": "2025-10-03T17:13:30.213366Z",
     "shell.execute_reply": "2025-10-03T17:13:30.212205Z"
    },
    "papermill": {
     "duration": 0.027994,
     "end_time": "2025-10-03T17:13:30.215114",
     "exception": false,
     "start_time": "2025-10-03T17:13:30.187120",
     "status": "completed"
    },
    "tags": []
   },
   "outputs": [
    {
     "name": "stdout",
     "output_type": "stream",
     "text": [
      "<class 'pandas.core.frame.DataFrame'>\n",
      "RangeIndex: 502 entries, 0 to 501\n",
      "Data columns (total 16 columns):\n",
      " #   Column               Non-Null Count  Dtype  \n",
      "---  ------               --------------  -----  \n",
      " 0   Exchange             502 non-null    object \n",
      " 1   Symbol               502 non-null    object \n",
      " 2   Shortname            502 non-null    object \n",
      " 3   Longname             502 non-null    object \n",
      " 4   Sector               502 non-null    object \n",
      " 5   Industry             502 non-null    object \n",
      " 6   Currentprice         502 non-null    float64\n",
      " 7   Marketcap            502 non-null    int64  \n",
      " 8   Ebitda               473 non-null    float64\n",
      " 9   Revenuegrowth        499 non-null    float64\n",
      " 10  City                 502 non-null    object \n",
      " 11  State                482 non-null    object \n",
      " 12  Country              502 non-null    object \n",
      " 13  Fulltimeemployees    493 non-null    float64\n",
      " 14  Longbusinesssummary  502 non-null    object \n",
      " 15  Weight               502 non-null    float64\n",
      "dtypes: float64(5), int64(1), object(10)\n",
      "memory usage: 62.9+ KB\n"
     ]
    }
   ],
   "source": [
    "# Basic info\n",
    "df.info()"
   ]
  },
  {
   "cell_type": "code",
   "execution_count": 7,
   "id": "160ca92a",
   "metadata": {
    "execution": {
     "iopub.execute_input": "2025-10-03T17:13:30.223846Z",
     "iopub.status.busy": "2025-10-03T17:13:30.223558Z",
     "iopub.status.idle": "2025-10-03T17:13:30.256041Z",
     "shell.execute_reply": "2025-10-03T17:13:30.255224Z"
    },
    "papermill": {
     "duration": 0.038576,
     "end_time": "2025-10-03T17:13:30.257540",
     "exception": false,
     "start_time": "2025-10-03T17:13:30.218964",
     "status": "completed"
    },
    "tags": []
   },
   "outputs": [
    {
     "data": {
      "text/html": [
       "<div>\n",
       "<style scoped>\n",
       "    .dataframe tbody tr th:only-of-type {\n",
       "        vertical-align: middle;\n",
       "    }\n",
       "\n",
       "    .dataframe tbody tr th {\n",
       "        vertical-align: top;\n",
       "    }\n",
       "\n",
       "    .dataframe thead th {\n",
       "        text-align: right;\n",
       "    }\n",
       "</style>\n",
       "<table border=\"1\" class=\"dataframe\">\n",
       "  <thead>\n",
       "    <tr style=\"text-align: right;\">\n",
       "      <th></th>\n",
       "      <th>Currentprice</th>\n",
       "      <th>Marketcap</th>\n",
       "      <th>Ebitda</th>\n",
       "      <th>Revenuegrowth</th>\n",
       "      <th>Fulltimeemployees</th>\n",
       "      <th>Weight</th>\n",
       "    </tr>\n",
       "  </thead>\n",
       "  <tbody>\n",
       "    <tr>\n",
       "      <th>count</th>\n",
       "      <td>502.000000</td>\n",
       "      <td>5.020000e+02</td>\n",
       "      <td>4.730000e+02</td>\n",
       "      <td>499.000000</td>\n",
       "      <td>4.930000e+02</td>\n",
       "      <td>502.000000</td>\n",
       "    </tr>\n",
       "    <tr>\n",
       "      <th>mean</th>\n",
       "      <td>217.893685</td>\n",
       "      <td>1.107222e+11</td>\n",
       "      <td>7.045286e+09</td>\n",
       "      <td>0.070541</td>\n",
       "      <td>5.782761e+04</td>\n",
       "      <td>0.001992</td>\n",
       "    </tr>\n",
       "    <tr>\n",
       "      <th>std</th>\n",
       "      <td>489.205027</td>\n",
       "      <td>3.440074e+11</td>\n",
       "      <td>1.624213e+10</td>\n",
       "      <td>0.180247</td>\n",
       "      <td>1.395988e+05</td>\n",
       "      <td>0.006189</td>\n",
       "    </tr>\n",
       "    <tr>\n",
       "      <th>min</th>\n",
       "      <td>9.400000</td>\n",
       "      <td>4.664099e+09</td>\n",
       "      <td>-3.991000e+09</td>\n",
       "      <td>-0.602000</td>\n",
       "      <td>2.800000e+01</td>\n",
       "      <td>0.000084</td>\n",
       "    </tr>\n",
       "    <tr>\n",
       "      <th>25%</th>\n",
       "      <td>68.547500</td>\n",
       "      <td>1.933417e+10</td>\n",
       "      <td>1.625000e+09</td>\n",
       "      <td>0.002000</td>\n",
       "      <td>1.020000e+04</td>\n",
       "      <td>0.000348</td>\n",
       "    </tr>\n",
       "    <tr>\n",
       "      <th>50%</th>\n",
       "      <td>118.365000</td>\n",
       "      <td>3.706396e+10</td>\n",
       "      <td>2.952748e+09</td>\n",
       "      <td>0.051000</td>\n",
       "      <td>2.169000e+04</td>\n",
       "      <td>0.000667</td>\n",
       "    </tr>\n",
       "    <tr>\n",
       "      <th>75%</th>\n",
       "      <td>227.667500</td>\n",
       "      <td>7.830565e+10</td>\n",
       "      <td>6.020000e+09</td>\n",
       "      <td>0.109000</td>\n",
       "      <td>5.510000e+04</td>\n",
       "      <td>0.001409</td>\n",
       "    </tr>\n",
       "    <tr>\n",
       "      <th>max</th>\n",
       "      <td>8276.780000</td>\n",
       "      <td>3.846820e+12</td>\n",
       "      <td>1.495470e+11</td>\n",
       "      <td>1.632000</td>\n",
       "      <td>2.100000e+06</td>\n",
       "      <td>0.069209</td>\n",
       "    </tr>\n",
       "  </tbody>\n",
       "</table>\n",
       "</div>"
      ],
      "text/plain": [
       "       Currentprice     Marketcap        Ebitda  Revenuegrowth  \\\n",
       "count    502.000000  5.020000e+02  4.730000e+02     499.000000   \n",
       "mean     217.893685  1.107222e+11  7.045286e+09       0.070541   \n",
       "std      489.205027  3.440074e+11  1.624213e+10       0.180247   \n",
       "min        9.400000  4.664099e+09 -3.991000e+09      -0.602000   \n",
       "25%       68.547500  1.933417e+10  1.625000e+09       0.002000   \n",
       "50%      118.365000  3.706396e+10  2.952748e+09       0.051000   \n",
       "75%      227.667500  7.830565e+10  6.020000e+09       0.109000   \n",
       "max     8276.780000  3.846820e+12  1.495470e+11       1.632000   \n",
       "\n",
       "       Fulltimeemployees      Weight  \n",
       "count       4.930000e+02  502.000000  \n",
       "mean        5.782761e+04    0.001992  \n",
       "std         1.395988e+05    0.006189  \n",
       "min         2.800000e+01    0.000084  \n",
       "25%         1.020000e+04    0.000348  \n",
       "50%         2.169000e+04    0.000667  \n",
       "75%         5.510000e+04    0.001409  \n",
       "max         2.100000e+06    0.069209  "
      ]
     },
     "execution_count": 7,
     "metadata": {},
     "output_type": "execute_result"
    }
   ],
   "source": [
    "# Summary statistics\n",
    "df.describe()"
   ]
  },
  {
   "cell_type": "code",
   "execution_count": 8,
   "id": "66e16918",
   "metadata": {
    "execution": {
     "iopub.execute_input": "2025-10-03T17:13:30.269660Z",
     "iopub.status.busy": "2025-10-03T17:13:30.269334Z",
     "iopub.status.idle": "2025-10-03T17:13:30.277413Z",
     "shell.execute_reply": "2025-10-03T17:13:30.276548Z"
    },
    "papermill": {
     "duration": 0.014589,
     "end_time": "2025-10-03T17:13:30.278854",
     "exception": false,
     "start_time": "2025-10-03T17:13:30.264265",
     "status": "completed"
    },
    "tags": []
   },
   "outputs": [
    {
     "data": {
      "text/plain": [
       "Exchange                0\n",
       "Symbol                  0\n",
       "Shortname               0\n",
       "Longname                0\n",
       "Sector                  0\n",
       "Industry                0\n",
       "Currentprice            0\n",
       "Marketcap               0\n",
       "Ebitda                 29\n",
       "Revenuegrowth           3\n",
       "City                    0\n",
       "State                  20\n",
       "Country                 0\n",
       "Fulltimeemployees       9\n",
       "Longbusinesssummary     0\n",
       "Weight                  0\n",
       "dtype: int64"
      ]
     },
     "execution_count": 8,
     "metadata": {},
     "output_type": "execute_result"
    }
   ],
   "source": [
    "# Check for missing values\n",
    "df.isnull().sum()"
   ]
  },
  {
   "cell_type": "code",
   "execution_count": 9,
   "id": "4e53abcf",
   "metadata": {
    "execution": {
     "iopub.execute_input": "2025-10-03T17:13:30.288273Z",
     "iopub.status.busy": "2025-10-03T17:13:30.287488Z",
     "iopub.status.idle": "2025-10-03T17:13:30.896997Z",
     "shell.execute_reply": "2025-10-03T17:13:30.896008Z"
    },
    "papermill": {
     "duration": 0.615757,
     "end_time": "2025-10-03T17:13:30.898614",
     "exception": false,
     "start_time": "2025-10-03T17:13:30.282857",
     "status": "completed"
    },
    "tags": []
   },
   "outputs": [
    {
     "data": {
      "image/png": "[encoded data removed]",
      "text/plain": [
       "<Figure size 1000x500 with 1 Axes>"
      ]
     },
     "metadata": {},
     "output_type": "display_data"
    }
   ],
   "source": [
    "# Marketcap by Sector\n",
    "plt.figure(figsize=(10,5))\n",
    "sns.barplot(data=df, x='Sector', y='Marketcap', estimator='sum')\n",
    "plt.xticks(rotation=90)\n",
    "plt.title(\"Total Market Cap by Sector\")\n",
    "plt.show()"
   ]
  },
  {
   "cell_type": "code",
   "execution_count": 10,
   "id": "75415fe3",
   "metadata": {
    "execution": {
     "iopub.execute_input": "2025-10-03T17:13:30.909252Z",
     "iopub.status.busy": "2025-10-03T17:13:30.908944Z",
     "iopub.status.idle": "2025-10-03T17:13:31.187363Z",
     "shell.execute_reply": "2025-10-03T17:13:31.186415Z"
    },
    "papermill": {
     "duration": 0.285675,
     "end_time": "2025-10-03T17:13:31.189272",
     "exception": false,
     "start_time": "2025-10-03T17:13:30.903597",
     "status": "completed"
    },
    "tags": []
   },
   "outputs": [
    {
     "data": {
      "image/png": "[encoded data removed]",
      "text/plain": [
       "<Figure size 1000x500 with 1 Axes>"
      ]
     },
     "metadata": {},
     "output_type": "display_data"
    }
   ],
   "source": [
    "# Revenue Growth by Sector\n",
    "plt.figure(figsize=(10,5))\n",
    "sns.boxplot(data=df, x='Sector', y='Revenuegrowth')\n",
    "plt.xticks(rotation=90)\n",
    "plt.title(\"Revenue Growth Distribution by Sector\")\n",
    "plt.show()"
   ]
  },
  {
   "cell_type": "code",
   "execution_count": 11,
   "id": "26149957",
   "metadata": {
    "execution": {
     "iopub.execute_input": "2025-10-03T17:13:31.204020Z",
     "iopub.status.busy": "2025-10-03T17:13:31.203721Z",
     "iopub.status.idle": "2025-10-03T17:13:31.214483Z",
     "shell.execute_reply": "2025-10-03T17:13:31.213624Z"
    },
    "papermill": {
     "duration": 0.018607,
     "end_time": "2025-10-03T17:13:31.215985",
     "exception": false,
     "start_time": "2025-10-03T17:13:31.197378",
     "status": "completed"
    },
    "tags": []
   },
   "outputs": [],
   "source": [
    "# Select numerical features for prediction\n",
    "df_model = df[['Marketcap', 'Ebitda', 'Revenuegrowth', 'Currentprice', 'Weight']].copy()\n",
    "\n",
    "# Drop missing values\n",
    "df_model.dropna(inplace=True)"
   ]
  },
  {
   "cell_type": "code",
   "execution_count": 12,
   "id": "1904ca22",
   "metadata": {
    "execution": {
     "iopub.execute_input": "2025-10-03T17:13:31.228794Z",
     "iopub.status.busy": "2025-10-03T17:13:31.228521Z",
     "iopub.status.idle": "2025-10-03T17:13:31.233931Z",
     "shell.execute_reply": "2025-10-03T17:13:31.233073Z"
    },
    "papermill": {
     "duration": 0.013364,
     "end_time": "2025-10-03T17:13:31.235648",
     "exception": false,
     "start_time": "2025-10-03T17:13:31.222284",
     "status": "completed"
    },
    "tags": []
   },
   "outputs": [],
   "source": [
    "# Features and Target\n",
    "X = df_model.drop('Marketcap', axis=1)\n",
    "y = df_model['Marketcap']"
   ]
  },
  {
   "cell_type": "code",
   "execution_count": 13,
   "id": "5cb80831",
   "metadata": {
    "execution": {
     "iopub.execute_input": "2025-10-03T17:13:31.248089Z",
     "iopub.status.busy": "2025-10-03T17:13:31.247475Z",
     "iopub.status.idle": "2025-10-03T17:13:31.548419Z",
     "shell.execute_reply": "2025-10-03T17:13:31.547474Z"
    },
    "papermill": {
     "duration": 0.308825,
     "end_time": "2025-10-03T17:13:31.550203",
     "exception": false,
     "start_time": "2025-10-03T17:13:31.241378",
     "status": "completed"
    },
    "tags": []
   },
   "outputs": [],
   "source": [
    "from sklearn.model_selection import train_test_split\n",
    "\n",
    "X_train, X_test, y_train, y_test = train_test_split(X, y, test_size=0.2, random_state=42)"
   ]
  },
  {
   "cell_type": "code",
   "execution_count": 14,
   "id": "d4801f61",
   "metadata": {
    "execution": {
     "iopub.execute_input": "2025-10-03T17:13:31.563688Z",
     "iopub.status.busy": "2025-10-03T17:13:31.563397Z",
     "iopub.status.idle": "2025-10-03T17:13:32.048472Z",
     "shell.execute_reply": "2025-10-03T17:13:32.047583Z"
    },
    "papermill": {
     "duration": 0.493471,
     "end_time": "2025-10-03T17:13:32.049976",
     "exception": false,
     "start_time": "2025-10-03T17:13:31.556505",
     "status": "completed"
    },
    "tags": []
   },
   "outputs": [
    {
     "data": {
      "text/html": [
       "<style>#sk-container-id-1 {color: black;background-color: white;}#sk-container-id-1 pre{padding: 0;}#sk-container-id-1 div.sk-toggleable {background-color: white;}#sk-container-id-1 label.sk-toggleable__label {cursor: pointer;display: block;width: 100%;margin-bottom: 0;padding: 0.3em;box-sizing: border-box;text-align: center;}#sk-container-id-1 label.sk-toggleable__label-arrow:before {content: \"▸\";float: left;margin-right: 0.25em;color: #696969;}#sk-container-id-1 label.sk-toggleable__label-arrow:hover:before {color: black;}#sk-container-id-1 div.sk-estimator:hover label.sk-toggleable__label-arrow:before {color: black;}#sk-container-id-1 div.sk-toggleable__content {max-height: 0;max-width: 0;overflow: hidden;text-align: left;background-color: #f0f8ff;}#sk-container-id-1 div.sk-toggleable__content pre {margin: 0.2em;color: black;border-radius: 0.25em;background-color: #f0f8ff;}#sk-container-id-1 input.sk-toggleable__control:checked~div.sk-toggleable__content {max-height: 200px;max-width: 100%;overflow: auto;}#sk-container-id-1 input.sk-toggleable__control:checked~label.sk-toggleable__label-arrow:before {content: \"▾\";}#sk-container-id-1 div.sk-estimator input.sk-toggleable__control:checked~label.sk-toggleable__label {background-color: #d4ebff;}#sk-container-id-1 div.sk-label input.sk-toggleable__control:checked~label.sk-toggleable__label {background-color: #d4ebff;}#sk-container-id-1 input.sk-hidden--visually {border: 0;clip: rect(1px 1px 1px 1px);clip: rect(1px, 1px, 1px, 1px);height: 1px;margin: -1px;overflow: hidden;padding: 0;position: absolute;width: 1px;}#sk-container-id-1 div.sk-estimator {font-family: monospace;background-color: #f0f8ff;border: 1px dotted black;border-radius: 0.25em;box-sizing: border-box;margin-bottom: 0.5em;}#sk-container-id-1 div.sk-estimator:hover {background-color: #d4ebff;}#sk-container-id-1 div.sk-parallel-item::after {content: \"\";width: 100%;border-bottom: 1px solid gray;flex-grow: 1;}#sk-container-id-1 div.sk-label:hover label.sk-toggleable__label {background-color: #d4ebff;}#sk-container-id-1 div.sk-serial::before {content: \"\";position: absolute;border-left: 1px solid gray;box-sizing: border-box;top: 0;bottom: 0;left: 50%;z-index: 0;}#sk-container-id-1 div.sk-serial {display: flex;flex-direction: column;align-items: center;background-color: white;padding-right: 0.2em;padding-left: 0.2em;position: relative;}#sk-container-id-1 div.sk-item {position: relative;z-index: 1;}#sk-container-id-1 div.sk-parallel {display: flex;align-items: stretch;justify-content: center;background-color: white;position: relative;}#sk-container-id-1 div.sk-item::before, #sk-container-id-1 div.sk-parallel-item::before {content: \"\";position: absolute;border-left: 1px solid gray;box-sizing: border-box;top: 0;bottom: 0;left: 50%;z-index: -1;}#sk-container-id-1 div.sk-parallel-item {display: flex;flex-direction: column;z-index: 1;position: relative;background-color: white;}#sk-container-id-1 div.sk-parallel-item:first-child::after {align-self: flex-end;width: 50%;}#sk-container-id-1 div.sk-parallel-item:last-child::after {align-self: flex-start;width: 50%;}#sk-container-id-1 div.sk-parallel-item:only-child::after {width: 0;}#sk-container-id-1 div.sk-dashed-wrapped {border: 1px dashed gray;margin: 0 0.4em 0.5em 0.4em;box-sizing: border-box;padding-bottom: 0.4em;background-color: white;}#sk-container-id-1 div.sk-label label {font-family: monospace;font-weight: bold;display: inline-block;line-height: 1.2em;}#sk-container-id-1 div.sk-label-container {text-align: center;}#sk-container-id-1 div.sk-container {/* jupyter's `normalize.less` sets `[hidden] { display: none; }` but bootstrap.min.css set `[hidden] { display: none !important; }` so we also need the `!important` here to be able to override the default hidden behavior on the sphinx rendered scikit-learn.org. See: https://github.com/scikit-learn/scikit-learn/issues/21755 */display: inline-block !important;position: relative;}#sk-container-id-1 div.sk-text-repr-fallback {display: none;}</style><div id=\"sk-container-id-1\" class=\"sk-top-container\"><div class=\"sk-text-repr-fallback\"><pre>GradientBoostingRegressor()</pre><b>In a Jupyter environment, please rerun this cell to show the HTML representation or trust the notebook. <br />On GitHub, the HTML representation is unable to render, please try loading this page with nbviewer.org.</b></div><div class=\"sk-container\" hidden><div class=\"sk-item\"><div class=\"sk-estimator sk-toggleable\"><input class=\"sk-toggleable__control sk-hidden--visually\" id=\"sk-estimator-id-1\" type=\"checkbox\" checked><label for=\"sk-estimator-id-1\" class=\"sk-toggleable__label sk-toggleable__label-arrow\">GradientBoostingRegressor</label><div class=\"sk-toggleable__content\"><pre>GradientBoostingRegressor()</pre></div></div></div></div></div>"
      ],
      "text/plain": [
       "GradientBoostingRegressor()"
      ]
     },
     "execution_count": 14,
     "metadata": {},
     "output_type": "execute_result"
    }
   ],
   "source": [
    "from sklearn.ensemble import GradientBoostingRegressor\n",
    "from sklearn.metrics import r2_score\n",
    "\n",
    "# Train the model\n",
    "model = GradientBoostingRegressor()\n",
    "model.fit(X_train, y_train)"
   ]
  },
  {
   "cell_type": "code",
   "execution_count": 15,
   "id": "f20d4608",
   "metadata": {
    "execution": {
     "iopub.execute_input": "2025-10-03T17:13:32.062831Z",
     "iopub.status.busy": "2025-10-03T17:13:32.062458Z",
     "iopub.status.idle": "2025-10-03T17:13:32.071039Z",
     "shell.execute_reply": "2025-10-03T17:13:32.070205Z"
    },
    "papermill": {
     "duration": 0.016748,
     "end_time": "2025-10-03T17:13:32.072510",
     "exception": false,
     "start_time": "2025-10-03T17:13:32.055762",
     "status": "completed"
    },
    "tags": []
   },
   "outputs": [
    {
     "data": {
      "text/plain": [
       "0.945937928627448"
      ]
     },
     "execution_count": 15,
     "metadata": {},
     "output_type": "execute_result"
    }
   ],
   "source": [
    "# Predict\n",
    "y_pred = model.predict(X_test)\n",
    "\n",
    "# Check R2 score\n",
    "r2_score(y_test, y_pred)"
   ]
  },
  {
   "cell_type": "code",
   "execution_count": 16,
   "id": "f22a2a9d",
   "metadata": {
    "execution": {
     "iopub.execute_input": "2025-10-03T17:13:32.085146Z",
     "iopub.status.busy": "2025-10-03T17:13:32.084799Z",
     "iopub.status.idle": "2025-10-03T17:13:32.338056Z",
     "shell.execute_reply": "2025-10-03T17:13:32.337096Z"
    },
    "papermill": {
     "duration": 0.261383,
     "end_time": "2025-10-03T17:13:32.339637",
     "exception": false,
     "start_time": "2025-10-03T17:13:32.078254",
     "status": "completed"
    },
    "tags": []
   },
   "outputs": [
    {
     "data": {
      "image/png": "[encoded data removed]",
      "text/plain": [
       "<Figure size 600x600 with 1 Axes>"
      ]
     },
     "metadata": {},
     "output_type": "display_data"
    }
   ],
   "source": [
    "# Plot true vs predicted\n",
    "plt.figure(figsize=(6,6))\n",
    "sns.scatterplot(x=y_test, y=y_pred)\n",
    "plt.xlabel('Actual Marketcap')\n",
    "plt.ylabel('Predicted Marketcap')\n",
    "plt.title('Actual vs Predicted Market Cap')\n",
    "plt.plot([y_test.min(), y_test.max()], [y_test.min(), y_test.max()], 'r--')\n",
    "plt.show()"
   ]
  }
 ],
 "metadata": {
  "kaggle": {
   "accelerator": "none",
   "dataSources": [
    {
     "datasetId": 1807380,
     "sourceId": 10273516,
     "sourceType": "datasetVersion"
    }
   ],
   "dockerImageVersionId": 31089,
   "isGpuEnabled": false,
   "isInternetEnabled": true,
   "language": "python",
   "sourceType": "notebook"
  },
  "kernelspec": {
   "display_name": "Python 3",
   "language": "python",
   "name": "python3"
  },
  "language_info": {
   "codemirror_mode": {
    "name": "ipython",
    "version": 3
   },
   "file_extension": ".py",
   "mimetype": "text/x-python",
   "name": "python",
   "nbconvert_exporter": "python",
   "pygments_lexer": "ipython3",
   "version": "3.11.13"
  },
  "papermill": {
   "default_parameters": {},
   "duration": 12.049596,
   "end_time": "2025-10-03T17:13:33.066458",
   "environment_variables": {},
   "exception": null,
   "input_path": "__notebook__.ipynb",
   "output_path": "__notebook__.ipynb",
   "parameters": {},
   "start_time": "2025-10-03T17:13:21.016862",
   "version": "2.6.0"
  }
 },
 "nbformat": 4,
 "nbformat_minor": 5
}
