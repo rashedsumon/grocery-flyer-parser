{
 "cells": [
  {
   "cell_type": "code",
   "execution_count": 1,
   "id": "9232d6a1",
   "metadata": {
    "_cell_guid": "b1076dfc-b9ad-4769-8c92-a6c4dae69d19",
    "_uuid": "8f2839f25d086af736a60e9eeb907d3b93b6e0e5",
    "execution": {
     "iopub.execute_input": "2025-10-03T17:21:20.575215Z",
     "iopub.status.busy": "2025-10-03T17:21:20.574880Z",
     "iopub.status.idle": "2025-10-03T17:21:22.471207Z",
     "shell.execute_reply": "2025-10-03T17:21:22.470211Z"
    },
    "papermill": {
     "duration": 1.903084,
     "end_time": "2025-10-03T17:21:22.472899",
     "exception": false,
     "start_time": "2025-10-03T17:21:20.569815",
     "status": "completed"
    },
    "tags": []
   },
   "outputs": [
    {
     "name": "stdout",
     "output_type": "stream",
     "text": [
      "/kaggle/input/netflix-data-cleaning-analysis-and-visualization/netflix1.csv\n"
     ]
    }
   ],
   "source": [
    "# This Python 3 environment comes with many helpful analytics libraries installed\n",
    "# It is defined by the kaggle/python Docker image: https://github.com/kaggle/docker-python\n",
    "# For example, here's several helpful packages to load\n",
    "\n",
    "import numpy as np # linear algebra\n",
    "import pandas as pd # data processing, CSV file I/O (e.g. pd.read_csv)\n",
    "\n",
    "# Input data files are available in the read-only \"../input/\" directory\n",
    "# For example, running this (by clicking run or pressing Shift+Enter) will list all files under the input directory\n",
    "\n",
    "import os\n",
    "for dirname, _, filenames in os.walk('/kaggle/input'):\n",
    "    for filename in filenames:\n",
    "        print(os.path.join(dirname, filename))\n",
    "\n",
    "# You can write up to 20GB to the current directory (/kaggle/working/) that gets preserved as output when you create a version using \"Save & Run All\" \n",
    "# You can also write temporary files to /kaggle/temp/, but they won't be saved outside of the current session"
   ]
  },
  {
   "cell_type": "code",
   "execution_count": 2,
   "id": "ce5fd0a9",
   "metadata": {
    "execution": {
     "iopub.execute_input": "2025-10-03T17:21:22.480752Z",
     "iopub.status.busy": "2025-10-03T17:21:22.480368Z",
     "iopub.status.idle": "2025-10-03T17:21:22.485163Z",
     "shell.execute_reply": "2025-10-03T17:21:22.484173Z"
    },
    "papermill": {
     "duration": 0.010148,
     "end_time": "2025-10-03T17:21:22.486516",
     "exception": false,
     "start_time": "2025-10-03T17:21:22.476368",
     "status": "completed"
    },
    "tags": []
   },
   "outputs": [],
   "source": [
    "import warnings\n",
    "warnings.filterwarnings(\"ignore\")"
   ]
  },
  {
   "cell_type": "code",
   "execution_count": 3,
   "id": "701891c1",
   "metadata": {
    "execution": {
     "iopub.execute_input": "2025-10-03T17:21:22.494151Z",
     "iopub.status.busy": "2025-10-03T17:21:22.493843Z",
     "iopub.status.idle": "2025-10-03T17:21:24.350624Z",
     "shell.execute_reply": "2025-10-03T17:21:24.349715Z"
    },
    "papermill": {
     "duration": 1.862507,
     "end_time": "2025-10-03T17:21:24.352347",
     "exception": false,
     "start_time": "2025-10-03T17:21:22.489840",
     "status": "completed"
    },
    "tags": []
   },
   "outputs": [],
   "source": [
    "import pandas as pd\n",
    "import matplotlib.pyplot as plt\n",
    "import seaborn as sns"
   ]
  },
  {
   "cell_type": "code",
   "execution_count": 4,
   "id": "ea1a80cb",
   "metadata": {
    "execution": {
     "iopub.execute_input": "2025-10-03T17:21:24.360520Z",
     "iopub.status.busy": "2025-10-03T17:21:24.360045Z",
     "iopub.status.idle": "2025-10-03T17:21:24.496324Z",
     "shell.execute_reply": "2025-10-03T17:21:24.495230Z"
    },
    "papermill": {
     "duration": 0.142261,
     "end_time": "2025-10-03T17:21:24.498019",
     "exception": false,
     "start_time": "2025-10-03T17:21:24.355758",
     "status": "completed"
    },
    "tags": []
   },
   "outputs": [
    {
     "data": {
      "text/html": [
       "<div>\n",
       "<style scoped>\n",
       "    .dataframe tbody tr th:only-of-type {\n",
       "        vertical-align: middle;\n",
       "    }\n",
       "\n",
       "    .dataframe tbody tr th {\n",
       "        vertical-align: top;\n",
       "    }\n",
       "\n",
       "    .dataframe thead th {\n",
       "        text-align: right;\n",
       "    }\n",
       "</style>\n",
       "<table border=\"1\" class=\"dataframe\">\n",
       "  <thead>\n",
       "    <tr style=\"text-align: right;\">\n",
       "      <th></th>\n",
       "      <th>show_id</th>\n",
       "      <th>type</th>\n",
       "      <th>title</th>\n",
       "      <th>director</th>\n",
       "      <th>country</th>\n",
       "      <th>date_added</th>\n",
       "      <th>release_year</th>\n",
       "      <th>rating</th>\n",
       "      <th>duration</th>\n",
       "      <th>listed_in</th>\n",
       "    </tr>\n",
       "  </thead>\n",
       "  <tbody>\n",
       "    <tr>\n",
       "      <th>0</th>\n",
       "      <td>s1</td>\n",
       "      <td>Movie</td>\n",
       "      <td>Dick Johnson Is Dead</td>\n",
       "      <td>Kirsten Johnson</td>\n",
       "      <td>United States</td>\n",
       "      <td>9/25/2021</td>\n",
       "      <td>2020</td>\n",
       "      <td>PG-13</td>\n",
       "      <td>90 min</td>\n",
       "      <td>Documentaries</td>\n",
       "    </tr>\n",
       "    <tr>\n",
       "      <th>1</th>\n",
       "      <td>s3</td>\n",
       "      <td>TV Show</td>\n",
       "      <td>Ganglands</td>\n",
       "      <td>Julien Leclercq</td>\n",
       "      <td>France</td>\n",
       "      <td>9/24/2021</td>\n",
       "      <td>2021</td>\n",
       "      <td>TV-MA</td>\n",
       "      <td>1 Season</td>\n",
       "      <td>Crime TV Shows, International TV Shows, TV Act...</td>\n",
       "    </tr>\n",
       "    <tr>\n",
       "      <th>2</th>\n",
       "      <td>s6</td>\n",
       "      <td>TV Show</td>\n",
       "      <td>Midnight Mass</td>\n",
       "      <td>Mike Flanagan</td>\n",
       "      <td>United States</td>\n",
       "      <td>9/24/2021</td>\n",
       "      <td>2021</td>\n",
       "      <td>TV-MA</td>\n",
       "      <td>1 Season</td>\n",
       "      <td>TV Dramas, TV Horror, TV Mysteries</td>\n",
       "    </tr>\n",
       "    <tr>\n",
       "      <th>3</th>\n",
       "      <td>s14</td>\n",
       "      <td>Movie</td>\n",
       "      <td>Confessions of an Invisible Girl</td>\n",
       "      <td>Bruno Garotti</td>\n",
       "      <td>Brazil</td>\n",
       "      <td>9/22/2021</td>\n",
       "      <td>2021</td>\n",
       "      <td>TV-PG</td>\n",
       "      <td>91 min</td>\n",
       "      <td>Children &amp; Family Movies, Comedies</td>\n",
       "    </tr>\n",
       "    <tr>\n",
       "      <th>4</th>\n",
       "      <td>s8</td>\n",
       "      <td>Movie</td>\n",
       "      <td>Sankofa</td>\n",
       "      <td>Haile Gerima</td>\n",
       "      <td>United States</td>\n",
       "      <td>9/24/2021</td>\n",
       "      <td>1993</td>\n",
       "      <td>TV-MA</td>\n",
       "      <td>125 min</td>\n",
       "      <td>Dramas, Independent Movies, International Movies</td>\n",
       "    </tr>\n",
       "  </tbody>\n",
       "</table>\n",
       "</div>"
      ],
      "text/plain": [
       "  show_id     type                             title         director  \\\n",
       "0      s1    Movie              Dick Johnson Is Dead  Kirsten Johnson   \n",
       "1      s3  TV Show                         Ganglands  Julien Leclercq   \n",
       "2      s6  TV Show                     Midnight Mass    Mike Flanagan   \n",
       "3     s14    Movie  Confessions of an Invisible Girl    Bruno Garotti   \n",
       "4      s8    Movie                           Sankofa     Haile Gerima   \n",
       "\n",
       "         country date_added  release_year rating  duration  \\\n",
       "0  United States  9/25/2021          2020  PG-13    90 min   \n",
       "1         France  9/24/2021          2021  TV-MA  1 Season   \n",
       "2  United States  9/24/2021          2021  TV-MA  1 Season   \n",
       "3         Brazil  9/22/2021          2021  TV-PG    91 min   \n",
       "4  United States  9/24/2021          1993  TV-MA   125 min   \n",
       "\n",
       "                                           listed_in  \n",
       "0                                      Documentaries  \n",
       "1  Crime TV Shows, International TV Shows, TV Act...  \n",
       "2                 TV Dramas, TV Horror, TV Mysteries  \n",
       "3                 Children & Family Movies, Comedies  \n",
       "4   Dramas, Independent Movies, International Movies  "
      ]
     },
     "execution_count": 4,
     "metadata": {},
     "output_type": "execute_result"
    }
   ],
   "source": [
    "df = pd.read_csv('/kaggle/input/netflix-data-cleaning-analysis-and-visualization/netflix1.csv')\n",
    "df.head()"
   ]
  },
  {
   "cell_type": "code",
   "execution_count": 5,
   "id": "ea16e74d",
   "metadata": {
    "execution": {
     "iopub.execute_input": "2025-10-03T17:21:24.506579Z",
     "iopub.status.busy": "2025-10-03T17:21:24.506214Z",
     "iopub.status.idle": "2025-10-03T17:21:24.514004Z",
     "shell.execute_reply": "2025-10-03T17:21:24.512919Z"
    },
    "papermill": {
     "duration": 0.013954,
     "end_time": "2025-10-03T17:21:24.515606",
     "exception": false,
     "start_time": "2025-10-03T17:21:24.501652",
     "status": "completed"
    },
    "tags": []
   },
   "outputs": [
    {
     "data": {
      "text/plain": [
       "Index(['show_id', 'type', 'title', 'director', 'country', 'date_added',\n",
       "       'release_year', 'rating', 'duration', 'listed_in'],\n",
       "      dtype='object')"
      ]
     },
     "execution_count": 5,
     "metadata": {},
     "output_type": "execute_result"
    }
   ],
   "source": [
    "df.columns"
   ]
  },
  {
   "cell_type": "code",
   "execution_count": 6,
   "id": "55f397fb",
   "metadata": {
    "execution": {
     "iopub.execute_input": "2025-10-03T17:21:24.524062Z",
     "iopub.status.busy": "2025-10-03T17:21:24.523752Z",
     "iopub.status.idle": "2025-10-03T17:21:24.577723Z",
     "shell.execute_reply": "2025-10-03T17:21:24.576819Z"
    },
    "papermill": {
     "duration": 0.059947,
     "end_time": "2025-10-03T17:21:24.579253",
     "exception": false,
     "start_time": "2025-10-03T17:21:24.519306",
     "status": "completed"
    },
    "tags": []
   },
   "outputs": [
    {
     "data": {
      "text/plain": [
       "show_id         0\n",
       "type            0\n",
       "title           0\n",
       "director        0\n",
       "country         0\n",
       "date_added      0\n",
       "release_year    0\n",
       "rating          0\n",
       "duration        0\n",
       "listed_in       0\n",
       "dtype: int64"
      ]
     },
     "execution_count": 6,
     "metadata": {},
     "output_type": "execute_result"
    }
   ],
   "source": [
    "# Drop duplicates\n",
    "df.drop_duplicates(inplace=True)\n",
    "\n",
    "# Fill missing values\n",
    "df['director'].fillna('Unknown', inplace=True)\n",
    "df['country'].fillna(df['country'].mode()[0], inplace=True)\n",
    "df['date_added'].fillna(method='ffill', inplace=True)\n",
    "\n",
    "# Remove rows with missing rating/duration\n",
    "df.dropna(subset=['rating', 'duration'], inplace=True)\n",
    "\n",
    "# Convert 'date_added' to datetime\n",
    "df['date_added'] = pd.to_datetime(df['date_added'])\n",
    "\n",
    "# View clean dataset\n",
    "df.isnull().sum()"
   ]
  },
  {
   "cell_type": "code",
   "execution_count": 7,
   "id": "dcebb18c",
   "metadata": {
    "execution": {
     "iopub.execute_input": "2025-10-03T17:21:24.588534Z",
     "iopub.status.busy": "2025-10-03T17:21:24.587575Z",
     "iopub.status.idle": "2025-10-03T17:21:24.838118Z",
     "shell.execute_reply": "2025-10-03T17:21:24.837249Z"
    },
    "papermill": {
     "duration": 0.256535,
     "end_time": "2025-10-03T17:21:24.839543",
     "exception": false,
     "start_time": "2025-10-03T17:21:24.583008",
     "status": "completed"
    },
    "tags": []
   },
   "outputs": [
    {
     "data": {
      "image/png": "[encoded data removed]",
      "text/plain": [
       "<Figure size 640x480 with 1 Axes>"
      ]
     },
     "metadata": {},
     "output_type": "display_data"
    }
   ],
   "source": [
    "import matplotlib.pyplot as plt\n",
    "import seaborn as sns\n",
    "\n",
    "# Count of Movies vs TV Shows\n",
    "sns.countplot(x='type', data=df)\n",
    "plt.title('Content Type Count')\n",
    "plt.show()"
   ]
  },
  {
   "cell_type": "code",
   "execution_count": 8,
   "id": "defcc073",
   "metadata": {
    "execution": {
     "iopub.execute_input": "2025-10-03T17:21:24.848632Z",
     "iopub.status.busy": "2025-10-03T17:21:24.848332Z",
     "iopub.status.idle": "2025-10-03T17:21:25.179814Z",
     "shell.execute_reply": "2025-10-03T17:21:25.178758Z"
    },
    "papermill": {
     "duration": 0.337841,
     "end_time": "2025-10-03T17:21:25.181391",
     "exception": false,
     "start_time": "2025-10-03T17:21:24.843550",
     "status": "completed"
    },
    "tags": []
   },
   "outputs": [
    {
     "data": {
      "image/png": "[encoded data removed]",
      "text/plain": [
       "<Figure size 640x480 with 1 Axes>"
      ]
     },
     "metadata": {},
     "output_type": "display_data"
    }
   ],
   "source": [
    "# Top 10 countries\n",
    "df['country'].value_counts().head(10).plot(kind='bar', color='coral')\n",
    "plt.title('Top 10 Countries by Content Count')\n",
    "plt.ylabel('Count')\n",
    "plt.show()"
   ]
  },
  {
   "cell_type": "code",
   "execution_count": 9,
   "id": "c6ffbf84",
   "metadata": {
    "execution": {
     "iopub.execute_input": "2025-10-03T17:21:25.192247Z",
     "iopub.status.busy": "2025-10-03T17:21:25.191962Z",
     "iopub.status.idle": "2025-10-03T17:21:25.389155Z",
     "shell.execute_reply": "2025-10-03T17:21:25.388260Z"
    },
    "papermill": {
     "duration": 0.204295,
     "end_time": "2025-10-03T17:21:25.390888",
     "exception": false,
     "start_time": "2025-10-03T17:21:25.186593",
     "status": "completed"
    },
    "tags": []
   },
   "outputs": [
    {
     "data": {
      "image/png": "[encoded data removed]",
      "text/plain": [
       "<Figure size 640x480 with 1 Axes>"
      ]
     },
     "metadata": {},
     "output_type": "display_data"
    }
   ],
   "source": [
    "# Content added over years\n",
    "df['year_added'] = df['date_added'].dt.year\n",
    "df['year_added'].value_counts().sort_index().plot(kind='line', marker='o')\n",
    "plt.title('Content Added Over Years')\n",
    "plt.xlabel('Year')\n",
    "plt.ylabel('Count')\n",
    "plt.grid(True)\n",
    "plt.show()"
   ]
  },
  {
   "cell_type": "code",
   "execution_count": 10,
   "id": "fddf6cb5",
   "metadata": {
    "execution": {
     "iopub.execute_input": "2025-10-03T17:21:25.402378Z",
     "iopub.status.busy": "2025-10-03T17:21:25.402024Z",
     "iopub.status.idle": "2025-10-03T17:21:25.714107Z",
     "shell.execute_reply": "2025-10-03T17:21:25.713137Z"
    },
    "papermill": {
     "duration": 0.319703,
     "end_time": "2025-10-03T17:21:25.715788",
     "exception": false,
     "start_time": "2025-10-03T17:21:25.396085",
     "status": "completed"
    },
    "tags": []
   },
   "outputs": [],
   "source": [
    "from sklearn.model_selection import train_test_split\n",
    "from sklearn.preprocessing import LabelEncoder\n",
    "\n",
    "# Use simple columns\n",
    "data = df[['release_year', 'rating', 'duration', 'type']].copy()\n",
    "\n",
    "# Clean duration column\n",
    "data['duration'] = data['duration'].str.extract('(\\d+)').astype(int)\n",
    "\n",
    "# Encode rating and type\n",
    "le_rating = LabelEncoder()\n",
    "le_type = LabelEncoder()\n",
    "data['rating'] = le_rating.fit_transform(data['rating'])\n",
    "data['type'] = le_type.fit_transform(data['type'])"
   ]
  },
  {
   "cell_type": "code",
   "execution_count": 11,
   "id": "c54b14c0",
   "metadata": {
    "execution": {
     "iopub.execute_input": "2025-10-03T17:21:25.729035Z",
     "iopub.status.busy": "2025-10-03T17:21:25.728117Z",
     "iopub.status.idle": "2025-10-03T17:21:25.733421Z",
     "shell.execute_reply": "2025-10-03T17:21:25.732584Z"
    },
    "papermill": {
     "duration": 0.013809,
     "end_time": "2025-10-03T17:21:25.735142",
     "exception": false,
     "start_time": "2025-10-03T17:21:25.721333",
     "status": "completed"
    },
    "tags": []
   },
   "outputs": [],
   "source": [
    "# Train-test split\n",
    "X = data.drop('type', axis=1)\n",
    "y = data['type']"
   ]
  },
  {
   "cell_type": "code",
   "execution_count": 12,
   "id": "f51da121",
   "metadata": {
    "execution": {
     "iopub.execute_input": "2025-10-03T17:21:25.747489Z",
     "iopub.status.busy": "2025-10-03T17:21:25.746764Z",
     "iopub.status.idle": "2025-10-03T17:21:25.754303Z",
     "shell.execute_reply": "2025-10-03T17:21:25.753581Z"
    },
    "papermill": {
     "duration": 0.014793,
     "end_time": "2025-10-03T17:21:25.755628",
     "exception": false,
     "start_time": "2025-10-03T17:21:25.740835",
     "status": "completed"
    },
    "tags": []
   },
   "outputs": [],
   "source": [
    "X_train, X_test, y_train, y_test = train_test_split(X, y, test_size=0.2, random_state=42)"
   ]
  },
  {
   "cell_type": "code",
   "execution_count": 13,
   "id": "041896fe",
   "metadata": {
    "execution": {
     "iopub.execute_input": "2025-10-03T17:21:25.767106Z",
     "iopub.status.busy": "2025-10-03T17:21:25.766510Z",
     "iopub.status.idle": "2025-10-03T17:21:26.434643Z",
     "shell.execute_reply": "2025-10-03T17:21:26.433687Z"
    },
    "papermill": {
     "duration": 0.675399,
     "end_time": "2025-10-03T17:21:26.436036",
     "exception": false,
     "start_time": "2025-10-03T17:21:25.760637",
     "status": "completed"
    },
    "tags": []
   },
   "outputs": [
    {
     "data": {
      "text/html": [
       "<style>#sk-container-id-1 {color: black;background-color: white;}#sk-container-id-1 pre{padding: 0;}#sk-container-id-1 div.sk-toggleable {background-color: white;}#sk-container-id-1 label.sk-toggleable__label {cursor: pointer;display: block;width: 100%;margin-bottom: 0;padding: 0.3em;box-sizing: border-box;text-align: center;}#sk-container-id-1 label.sk-toggleable__label-arrow:before {content: \"▸\";float: left;margin-right: 0.25em;color: #696969;}#sk-container-id-1 label.sk-toggleable__label-arrow:hover:before {color: black;}#sk-container-id-1 div.sk-estimator:hover label.sk-toggleable__label-arrow:before {color: black;}#sk-container-id-1 div.sk-toggleable__content {max-height: 0;max-width: 0;overflow: hidden;text-align: left;background-color: #f0f8ff;}#sk-container-id-1 div.sk-toggleable__content pre {margin: 0.2em;color: black;border-radius: 0.25em;background-color: #f0f8ff;}#sk-container-id-1 input.sk-toggleable__control:checked~div.sk-toggleable__content {max-height: 200px;max-width: 100%;overflow: auto;}#sk-container-id-1 input.sk-toggleable__control:checked~label.sk-toggleable__label-arrow:before {content: \"▾\";}#sk-container-id-1 div.sk-estimator input.sk-toggleable__control:checked~label.sk-toggleable__label {background-color: #d4ebff;}#sk-container-id-1 div.sk-label input.sk-toggleable__control:checked~label.sk-toggleable__label {background-color: #d4ebff;}#sk-container-id-1 input.sk-hidden--visually {border: 0;clip: rect(1px 1px 1px 1px);clip: rect(1px, 1px, 1px, 1px);height: 1px;margin: -1px;overflow: hidden;padding: 0;position: absolute;width: 1px;}#sk-container-id-1 div.sk-estimator {font-family: monospace;background-color: #f0f8ff;border: 1px dotted black;border-radius: 0.25em;box-sizing: border-box;margin-bottom: 0.5em;}#sk-container-id-1 div.sk-estimator:hover {background-color: #d4ebff;}#sk-container-id-1 div.sk-parallel-item::after {content: \"\";width: 100%;border-bottom: 1px solid gray;flex-grow: 1;}#sk-container-id-1 div.sk-label:hover label.sk-toggleable__label {background-color: #d4ebff;}#sk-container-id-1 div.sk-serial::before {content: \"\";position: absolute;border-left: 1px solid gray;box-sizing: border-box;top: 0;bottom: 0;left: 50%;z-index: 0;}#sk-container-id-1 div.sk-serial {display: flex;flex-direction: column;align-items: center;background-color: white;padding-right: 0.2em;padding-left: 0.2em;position: relative;}#sk-container-id-1 div.sk-item {position: relative;z-index: 1;}#sk-container-id-1 div.sk-parallel {display: flex;align-items: stretch;justify-content: center;background-color: white;position: relative;}#sk-container-id-1 div.sk-item::before, #sk-container-id-1 div.sk-parallel-item::before {content: \"\";position: absolute;border-left: 1px solid gray;box-sizing: border-box;top: 0;bottom: 0;left: 50%;z-index: -1;}#sk-container-id-1 div.sk-parallel-item {display: flex;flex-direction: column;z-index: 1;position: relative;background-color: white;}#sk-container-id-1 div.sk-parallel-item:first-child::after {align-self: flex-end;width: 50%;}#sk-container-id-1 div.sk-parallel-item:last-child::after {align-self: flex-start;width: 50%;}#sk-container-id-1 div.sk-parallel-item:only-child::after {width: 0;}#sk-container-id-1 div.sk-dashed-wrapped {border: 1px dashed gray;margin: 0 0.4em 0.5em 0.4em;box-sizing: border-box;padding-bottom: 0.4em;background-color: white;}#sk-container-id-1 div.sk-label label {font-family: monospace;font-weight: bold;display: inline-block;line-height: 1.2em;}#sk-container-id-1 div.sk-label-container {text-align: center;}#sk-container-id-1 div.sk-container {/* jupyter's `normalize.less` sets `[hidden] { display: none; }` but bootstrap.min.css set `[hidden] { display: none !important; }` so we also need the `!important` here to be able to override the default hidden behavior on the sphinx rendered scikit-learn.org. See: https://github.com/scikit-learn/scikit-learn/issues/21755 */display: inline-block !important;position: relative;}#sk-container-id-1 div.sk-text-repr-fallback {display: none;}</style><div id=\"sk-container-id-1\" class=\"sk-top-container\"><div class=\"sk-text-repr-fallback\"><pre>RandomForestClassifier()</pre><b>In a Jupyter environment, please rerun this cell to show the HTML representation or trust the notebook. <br />On GitHub, the HTML representation is unable to render, please try loading this page with nbviewer.org.</b></div><div class=\"sk-container\" hidden><div class=\"sk-item\"><div class=\"sk-estimator sk-toggleable\"><input class=\"sk-toggleable__control sk-hidden--visually\" id=\"sk-estimator-id-1\" type=\"checkbox\" checked><label for=\"sk-estimator-id-1\" class=\"sk-toggleable__label sk-toggleable__label-arrow\">RandomForestClassifier</label><div class=\"sk-toggleable__content\"><pre>RandomForestClassifier()</pre></div></div></div></div></div>"
      ],
      "text/plain": [
       "RandomForestClassifier()"
      ]
     },
     "execution_count": 13,
     "metadata": {},
     "output_type": "execute_result"
    }
   ],
   "source": [
    "from sklearn.ensemble import RandomForestClassifier\n",
    "from sklearn.metrics import classification_report, accuracy_score\n",
    "\n",
    "# Train model\n",
    "model = RandomForestClassifier()\n",
    "model.fit(X_train, y_train)"
   ]
  },
  {
   "cell_type": "code",
   "execution_count": 14,
   "id": "61c8d7b1",
   "metadata": {
    "execution": {
     "iopub.execute_input": "2025-10-03T17:21:26.448444Z",
     "iopub.status.busy": "2025-10-03T17:21:26.448119Z",
     "iopub.status.idle": "2025-10-03T17:21:26.482179Z",
     "shell.execute_reply": "2025-10-03T17:21:26.481130Z"
    },
    "papermill": {
     "duration": 0.041727,
     "end_time": "2025-10-03T17:21:26.483652",
     "exception": false,
     "start_time": "2025-10-03T17:21:26.441925",
     "status": "completed"
    },
    "tags": []
   },
   "outputs": [
    {
     "name": "stdout",
     "output_type": "stream",
     "text": [
      "Accuracy: 0.9965870307167235\n",
      "              precision    recall  f1-score   support\n",
      "\n",
      "       Movie       1.00      1.00      1.00      1238\n",
      "     TV Show       0.99      1.00      0.99       520\n",
      "\n",
      "    accuracy                           1.00      1758\n",
      "   macro avg       0.99      1.00      1.00      1758\n",
      "weighted avg       1.00      1.00      1.00      1758\n",
      "\n"
     ]
    }
   ],
   "source": [
    "# Predict\n",
    "y_pred = model.predict(X_test)\n",
    "\n",
    "# Evaluate\n",
    "print(\"Accuracy:\", accuracy_score(y_test, y_pred))\n",
    "print(classification_report(y_test, y_pred, target_names=le_type.classes_))"
   ]
  },
  {
   "cell_type": "code",
   "execution_count": 15,
   "id": "e7d58ac1",
   "metadata": {
    "execution": {
     "iopub.execute_input": "2025-10-03T17:21:26.495833Z",
     "iopub.status.busy": "2025-10-03T17:21:26.495199Z",
     "iopub.status.idle": "2025-10-03T17:21:26.702976Z",
     "shell.execute_reply": "2025-10-03T17:21:26.702058Z"
    },
    "papermill": {
     "duration": 0.215519,
     "end_time": "2025-10-03T17:21:26.704586",
     "exception": false,
     "start_time": "2025-10-03T17:21:26.489067",
     "status": "completed"
    },
    "tags": []
   },
   "outputs": [
    {
     "data": {
      "image/png": "[encoded data removed]",
      "text/plain": [
       "<Figure size 640x480 with 2 Axes>"
      ]
     },
     "metadata": {},
     "output_type": "display_data"
    }
   ],
   "source": [
    "from sklearn.metrics import ConfusionMatrixDisplay\n",
    "from sklearn.metrics import confusion_matrix\n",
    "\n",
    "# Confusion matrix\n",
    "cm = confusion_matrix(y_test, y_pred)\n",
    "disp = ConfusionMatrixDisplay(confusion_matrix=cm, display_labels=le_type.classes_)\n",
    "disp.plot(cmap='YlGnBu')\n",
    "plt.title(\"Confusion Matrix\")\n",
    "plt.show()"
   ]
  }
 ],
 "metadata": {
  "kaggle": {
   "accelerator": "none",
   "dataSources": [
    {
     "datasetId": 2437124,
     "sourceId": 4123716,
     "sourceType": "datasetVersion"
    }
   ],
   "dockerImageVersionId": 31089,
   "isGpuEnabled": false,
   "isInternetEnabled": true,
   "language": "python",
   "sourceType": "notebook"
  },
  "kernelspec": {
   "display_name": "Python 3",
   "language": "python",
   "name": "python3"
  },
  "language_info": {
   "codemirror_mode": {
    "name": "ipython",
    "version": 3
   },
   "file_extension": ".py",
   "mimetype": "text/x-python",
   "name": "python",
   "nbconvert_exporter": "python",
   "pygments_lexer": "ipython3",
   "version": "3.11.13"
  },
  "papermill": {
   "default_parameters": {},
   "duration": 12.321652,
   "end_time": "2025-10-03T17:21:27.430646",
   "environment_variables": {},
   "exception": null,
   "input_path": "__notebook__.ipynb",
   "output_path": "__notebook__.ipynb",
   "parameters": {},
   "start_time": "2025-10-03T17:21:15.108994",
   "version": "2.6.0"
  }
 },
 "nbformat": 4,
 "nbformat_minor": 5
}
