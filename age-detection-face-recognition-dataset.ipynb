{
 "cells": [
  {
   "cell_type": "code",
   "execution_count": 1,
   "id": "1306306b",
   "metadata": {
    "_cell_guid": "b1076dfc-b9ad-4769-8c92-a6c4dae69d19",
    "_uuid": "8f2839f25d086af736a60e9eeb907d3b93b6e0e5",
    "collapsed": true,
    "execution": {
     "iopub.execute_input": "2025-10-03T12:12:42.238074Z",
     "iopub.status.busy": "2025-10-03T12:12:42.237077Z",
     "iopub.status.idle": "2025-10-03T12:12:44.722300Z",
     "shell.execute_reply": "2025-10-03T12:12:44.720962Z"
    },
    "jupyter": {
     "outputs_hidden": true
    },
    "papermill": {
     "duration": 2.492861,
     "end_time": "2025-10-03T12:12:44.724337",
     "exception": false,
     "start_time": "2025-10-03T12:12:42.231476",
     "status": "completed"
    },
    "tags": []
   },
   "outputs": [
    {
     "name": "stdout",
     "output_type": "stream",
     "text": [
      "/kaggle/input/age-detection-human-faces-18-60-years/age_detection.csv\n",
      "/kaggle/input/age-detection-human-faces-18-60-years/test/51-60/29.jpg\n",
      "/kaggle/input/age-detection-human-faces-18-60-years/test/51-60/28.jpg\n",
      "/kaggle/input/age-detection-human-faces-18-60-years/test/51-60/26.jpg\n",
      "/kaggle/input/age-detection-human-faces-18-60-years/test/51-60/27.jpg\n",
      "/kaggle/input/age-detection-human-faces-18-60-years/test/51-60/25.jpg\n",
      "/kaggle/input/age-detection-human-faces-18-60-years/test/31-40/29.jpg\n",
      "/kaggle/input/age-detection-human-faces-18-60-years/test/31-40/28.jpg\n",
      "/kaggle/input/age-detection-human-faces-18-60-years/test/31-40/26.jpg\n",
      "/kaggle/input/age-detection-human-faces-18-60-years/test/31-40/27.jpg\n",
      "/kaggle/input/age-detection-human-faces-18-60-years/test/31-40/25.jpg\n",
      "/kaggle/input/age-detection-human-faces-18-60-years/test/21-30/29.jpg\n",
      "/kaggle/input/age-detection-human-faces-18-60-years/test/21-30/28.jpg\n",
      "/kaggle/input/age-detection-human-faces-18-60-years/test/21-30/26.jpg\n",
      "/kaggle/input/age-detection-human-faces-18-60-years/test/21-30/27.jpg\n",
      "/kaggle/input/age-detection-human-faces-18-60-years/test/21-30/25.jpg\n",
      "/kaggle/input/age-detection-human-faces-18-60-years/test/18-20/29.jpg\n",
      "/kaggle/input/age-detection-human-faces-18-60-years/test/18-20/28.jpg\n",
      "/kaggle/input/age-detection-human-faces-18-60-years/test/18-20/26.jpg\n",
      "/kaggle/input/age-detection-human-faces-18-60-years/test/18-20/27.jpg\n",
      "/kaggle/input/age-detection-human-faces-18-60-years/test/18-20/25.jpg\n",
      "/kaggle/input/age-detection-human-faces-18-60-years/test/41-50/29.jpg\n",
      "/kaggle/input/age-detection-human-faces-18-60-years/test/41-50/28.jpg\n",
      "/kaggle/input/age-detection-human-faces-18-60-years/test/41-50/26.jpg\n",
      "/kaggle/input/age-detection-human-faces-18-60-years/test/41-50/27.jpg\n",
      "/kaggle/input/age-detection-human-faces-18-60-years/test/41-50/25.jpg\n",
      "/kaggle/input/age-detection-human-faces-18-60-years/train/51-60/20.jpg\n",
      "/kaggle/input/age-detection-human-faces-18-60-years/train/51-60/6.jpg\n",
      "/kaggle/input/age-detection-human-faces-18-60-years/train/51-60/5.jpg\n",
      "/kaggle/input/age-detection-human-faces-18-60-years/train/51-60/8.jpg\n",
      "/kaggle/input/age-detection-human-faces-18-60-years/train/51-60/10.jpg\n",
      "/kaggle/input/age-detection-human-faces-18-60-years/train/51-60/0.jpg\n",
      "/kaggle/input/age-detection-human-faces-18-60-years/train/51-60/9.jpg\n",
      "/kaggle/input/age-detection-human-faces-18-60-years/train/51-60/1.jpg\n",
      "/kaggle/input/age-detection-human-faces-18-60-years/train/51-60/16.jpg\n",
      "/kaggle/input/age-detection-human-faces-18-60-years/train/51-60/23.jpg\n",
      "/kaggle/input/age-detection-human-faces-18-60-years/train/51-60/7.jpg\n",
      "/kaggle/input/age-detection-human-faces-18-60-years/train/51-60/22.jpg\n",
      "/kaggle/input/age-detection-human-faces-18-60-years/train/51-60/24.jpg\n",
      "/kaggle/input/age-detection-human-faces-18-60-years/train/51-60/13.jpg\n",
      "/kaggle/input/age-detection-human-faces-18-60-years/train/51-60/17.jpg\n",
      "/kaggle/input/age-detection-human-faces-18-60-years/train/51-60/15.jpg\n",
      "/kaggle/input/age-detection-human-faces-18-60-years/train/51-60/12.jpg\n",
      "/kaggle/input/age-detection-human-faces-18-60-years/train/51-60/11.jpg\n",
      "/kaggle/input/age-detection-human-faces-18-60-years/train/51-60/21.jpg\n",
      "/kaggle/input/age-detection-human-faces-18-60-years/train/51-60/4.jpg\n",
      "/kaggle/input/age-detection-human-faces-18-60-years/train/51-60/3.jpg\n",
      "/kaggle/input/age-detection-human-faces-18-60-years/train/51-60/19.jpg\n",
      "/kaggle/input/age-detection-human-faces-18-60-years/train/51-60/14.jpg\n",
      "/kaggle/input/age-detection-human-faces-18-60-years/train/51-60/18.jpg\n",
      "/kaggle/input/age-detection-human-faces-18-60-years/train/51-60/2.jpg\n",
      "/kaggle/input/age-detection-human-faces-18-60-years/train/31-40/20.jpg\n",
      "/kaggle/input/age-detection-human-faces-18-60-years/train/31-40/6.jpg\n",
      "/kaggle/input/age-detection-human-faces-18-60-years/train/31-40/5.jpg\n",
      "/kaggle/input/age-detection-human-faces-18-60-years/train/31-40/8.jpg\n",
      "/kaggle/input/age-detection-human-faces-18-60-years/train/31-40/10.jpg\n",
      "/kaggle/input/age-detection-human-faces-18-60-years/train/31-40/0.jpg\n",
      "/kaggle/input/age-detection-human-faces-18-60-years/train/31-40/9.jpg\n",
      "/kaggle/input/age-detection-human-faces-18-60-years/train/31-40/1.jpg\n",
      "/kaggle/input/age-detection-human-faces-18-60-years/train/31-40/16.jpg\n",
      "/kaggle/input/age-detection-human-faces-18-60-years/train/31-40/23.jpg\n",
      "/kaggle/input/age-detection-human-faces-18-60-years/train/31-40/7.jpg\n",
      "/kaggle/input/age-detection-human-faces-18-60-years/train/31-40/22.jpg\n",
      "/kaggle/input/age-detection-human-faces-18-60-years/train/31-40/24.jpg\n",
      "/kaggle/input/age-detection-human-faces-18-60-years/train/31-40/13.jpg\n",
      "/kaggle/input/age-detection-human-faces-18-60-years/train/31-40/17.jpg\n",
      "/kaggle/input/age-detection-human-faces-18-60-years/train/31-40/15.jpg\n",
      "/kaggle/input/age-detection-human-faces-18-60-years/train/31-40/12.jpg\n",
      "/kaggle/input/age-detection-human-faces-18-60-years/train/31-40/11.jpg\n",
      "/kaggle/input/age-detection-human-faces-18-60-years/train/31-40/21.jpg\n",
      "/kaggle/input/age-detection-human-faces-18-60-years/train/31-40/4.jpg\n",
      "/kaggle/input/age-detection-human-faces-18-60-years/train/31-40/3.jpg\n",
      "/kaggle/input/age-detection-human-faces-18-60-years/train/31-40/19.jpg\n",
      "/kaggle/input/age-detection-human-faces-18-60-years/train/31-40/14.jpg\n",
      "/kaggle/input/age-detection-human-faces-18-60-years/train/31-40/18.jpg\n",
      "/kaggle/input/age-detection-human-faces-18-60-years/train/31-40/2.jpg\n",
      "/kaggle/input/age-detection-human-faces-18-60-years/train/21-30/20.jpg\n",
      "/kaggle/input/age-detection-human-faces-18-60-years/train/21-30/6.jpg\n",
      "/kaggle/input/age-detection-human-faces-18-60-years/train/21-30/5.jpg\n",
      "/kaggle/input/age-detection-human-faces-18-60-years/train/21-30/8.jpg\n",
      "/kaggle/input/age-detection-human-faces-18-60-years/train/21-30/10.jpg\n",
      "/kaggle/input/age-detection-human-faces-18-60-years/train/21-30/0.jpg\n",
      "/kaggle/input/age-detection-human-faces-18-60-years/train/21-30/9.jpg\n",
      "/kaggle/input/age-detection-human-faces-18-60-years/train/21-30/1.jpg\n",
      "/kaggle/input/age-detection-human-faces-18-60-years/train/21-30/16.jpg\n",
      "/kaggle/input/age-detection-human-faces-18-60-years/train/21-30/23.jpg\n",
      "/kaggle/input/age-detection-human-faces-18-60-years/train/21-30/7.jpg\n",
      "/kaggle/input/age-detection-human-faces-18-60-years/train/21-30/22.jpg\n",
      "/kaggle/input/age-detection-human-faces-18-60-years/train/21-30/24.jpg\n",
      "/kaggle/input/age-detection-human-faces-18-60-years/train/21-30/13.jpg\n",
      "/kaggle/input/age-detection-human-faces-18-60-years/train/21-30/17.jpg\n",
      "/kaggle/input/age-detection-human-faces-18-60-years/train/21-30/15.jpg\n",
      "/kaggle/input/age-detection-human-faces-18-60-years/train/21-30/12.jpg\n",
      "/kaggle/input/age-detection-human-faces-18-60-years/train/21-30/11.jpg\n",
      "/kaggle/input/age-detection-human-faces-18-60-years/train/21-30/21.jpg\n",
      "/kaggle/input/age-detection-human-faces-18-60-years/train/21-30/4.jpg\n",
      "/kaggle/input/age-detection-human-faces-18-60-years/train/21-30/3.jpg\n",
      "/kaggle/input/age-detection-human-faces-18-60-years/train/21-30/19.jpg\n",
      "/kaggle/input/age-detection-human-faces-18-60-years/train/21-30/14.jpg\n",
      "/kaggle/input/age-detection-human-faces-18-60-years/train/21-30/18.jpg\n",
      "/kaggle/input/age-detection-human-faces-18-60-years/train/21-30/2.jpg\n",
      "/kaggle/input/age-detection-human-faces-18-60-years/train/18-20/20.jpg\n",
      "/kaggle/input/age-detection-human-faces-18-60-years/train/18-20/6.jpg\n",
      "/kaggle/input/age-detection-human-faces-18-60-years/train/18-20/5.jpg\n",
      "/kaggle/input/age-detection-human-faces-18-60-years/train/18-20/8.jpg\n",
      "/kaggle/input/age-detection-human-faces-18-60-years/train/18-20/10.jpg\n",
      "/kaggle/input/age-detection-human-faces-18-60-years/train/18-20/0.jpg\n",
      "/kaggle/input/age-detection-human-faces-18-60-years/train/18-20/9.jpg\n",
      "/kaggle/input/age-detection-human-faces-18-60-years/train/18-20/1.jpg\n",
      "/kaggle/input/age-detection-human-faces-18-60-years/train/18-20/16.jpg\n",
      "/kaggle/input/age-detection-human-faces-18-60-years/train/18-20/23.jpg\n",
      "/kaggle/input/age-detection-human-faces-18-60-years/train/18-20/7.jpg\n",
      "/kaggle/input/age-detection-human-faces-18-60-years/train/18-20/22.jpg\n",
      "/kaggle/input/age-detection-human-faces-18-60-years/train/18-20/24.jpg\n",
      "/kaggle/input/age-detection-human-faces-18-60-years/train/18-20/13.jpg\n",
      "/kaggle/input/age-detection-human-faces-18-60-years/train/18-20/17.jpg\n",
      "/kaggle/input/age-detection-human-faces-18-60-years/train/18-20/15.jpg\n",
      "/kaggle/input/age-detection-human-faces-18-60-years/train/18-20/12.jpg\n",
      "/kaggle/input/age-detection-human-faces-18-60-years/train/18-20/11.jpg\n",
      "/kaggle/input/age-detection-human-faces-18-60-years/train/18-20/21.jpg\n",
      "/kaggle/input/age-detection-human-faces-18-60-years/train/18-20/4.jpg\n",
      "/kaggle/input/age-detection-human-faces-18-60-years/train/18-20/3.jpg\n",
      "/kaggle/input/age-detection-human-faces-18-60-years/train/18-20/19.jpg\n",
      "/kaggle/input/age-detection-human-faces-18-60-years/train/18-20/14.jpg\n",
      "/kaggle/input/age-detection-human-faces-18-60-years/train/18-20/18.jpg\n",
      "/kaggle/input/age-detection-human-faces-18-60-years/train/18-20/2.jpg\n",
      "/kaggle/input/age-detection-human-faces-18-60-years/train/41-50/20.jpg\n",
      "/kaggle/input/age-detection-human-faces-18-60-years/train/41-50/6.jpg\n",
      "/kaggle/input/age-detection-human-faces-18-60-years/train/41-50/5.jpg\n",
      "/kaggle/input/age-detection-human-faces-18-60-years/train/41-50/8.jpg\n",
      "/kaggle/input/age-detection-human-faces-18-60-years/train/41-50/10.jpg\n",
      "/kaggle/input/age-detection-human-faces-18-60-years/train/41-50/0.jpg\n",
      "/kaggle/input/age-detection-human-faces-18-60-years/train/41-50/9.jpg\n",
      "/kaggle/input/age-detection-human-faces-18-60-years/train/41-50/1.jpg\n",
      "/kaggle/input/age-detection-human-faces-18-60-years/train/41-50/16.jpg\n",
      "/kaggle/input/age-detection-human-faces-18-60-years/train/41-50/23.jpg\n",
      "/kaggle/input/age-detection-human-faces-18-60-years/train/41-50/7.jpg\n",
      "/kaggle/input/age-detection-human-faces-18-60-years/train/41-50/22.jpg\n",
      "/kaggle/input/age-detection-human-faces-18-60-years/train/41-50/24.jpg\n",
      "/kaggle/input/age-detection-human-faces-18-60-years/train/41-50/13.jpg\n",
      "/kaggle/input/age-detection-human-faces-18-60-years/train/41-50/17.jpg\n",
      "/kaggle/input/age-detection-human-faces-18-60-years/train/41-50/15.jpg\n",
      "/kaggle/input/age-detection-human-faces-18-60-years/train/41-50/12.jpg\n",
      "/kaggle/input/age-detection-human-faces-18-60-years/train/41-50/11.jpg\n",
      "/kaggle/input/age-detection-human-faces-18-60-years/train/41-50/21.jpg\n",
      "/kaggle/input/age-detection-human-faces-18-60-years/train/41-50/4.jpg\n",
      "/kaggle/input/age-detection-human-faces-18-60-years/train/41-50/3.jpg\n",
      "/kaggle/input/age-detection-human-faces-18-60-years/train/41-50/19.jpg\n",
      "/kaggle/input/age-detection-human-faces-18-60-years/train/41-50/14.jpg\n",
      "/kaggle/input/age-detection-human-faces-18-60-years/train/41-50/18.jpg\n",
      "/kaggle/input/age-detection-human-faces-18-60-years/train/41-50/2.jpg\n"
     ]
    }
   ],
   "source": [
    "# This Python 3 environment comes with many helpful analytics libraries installed\n",
    "# It is defined by the kaggle/python Docker image: https://github.com/kaggle/docker-python\n",
    "# For example, here's several helpful packages to load\n",
    "\n",
    "import numpy as np # linear algebra\n",
    "import pandas as pd # data processing, CSV file I/O (e.g. pd.read_csv)\n",
    "\n",
    "# Input data files are available in the read-only \"../input/\" directory\n",
    "# For example, running this (by clicking run or pressing Shift+Enter) will list all files under the input directory\n",
    "\n",
    "import os\n",
    "for dirname, _, filenames in os.walk('/kaggle/input'):\n",
    "    for filename in filenames:\n",
    "        print(os.path.join(dirname, filename))\n",
    "\n",
    "# You can write up to 20GB to the current directory (/kaggle/working/) that gets preserved as output when you create a version using \"Save & Run All\" \n",
    "# You can also write temporary files to /kaggle/temp/, but they won't be saved outside of the current session"
   ]
  },
  {
   "cell_type": "code",
   "execution_count": 2,
   "id": "d7a2aa8c",
   "metadata": {
    "execution": {
     "iopub.execute_input": "2025-10-03T12:12:44.733789Z",
     "iopub.status.busy": "2025-10-03T12:12:44.733395Z",
     "iopub.status.idle": "2025-10-03T12:12:44.738119Z",
     "shell.execute_reply": "2025-10-03T12:12:44.737287Z"
    },
    "papermill": {
     "duration": 0.01133,
     "end_time": "2025-10-03T12:12:44.739936",
     "exception": false,
     "start_time": "2025-10-03T12:12:44.728606",
     "status": "completed"
    },
    "tags": []
   },
   "outputs": [],
   "source": [
    "import warnings\n",
    "warnings.filterwarnings(\"ignore\")"
   ]
  },
  {
   "cell_type": "code",
   "execution_count": 3,
   "id": "b486c6b1",
   "metadata": {
    "execution": {
     "iopub.execute_input": "2025-10-03T12:12:44.749100Z",
     "iopub.status.busy": "2025-10-03T12:12:44.748808Z",
     "iopub.status.idle": "2025-10-03T12:12:48.635477Z",
     "shell.execute_reply": "2025-10-03T12:12:48.634179Z"
    },
    "papermill": {
     "duration": 3.89341,
     "end_time": "2025-10-03T12:12:48.637515",
     "exception": false,
     "start_time": "2025-10-03T12:12:44.744105",
     "status": "completed"
    },
    "tags": []
   },
   "outputs": [],
   "source": [
    "import pandas as pd\n",
    "import matplotlib.pyplot as plt\n",
    "import seaborn as sns\n",
    "import cv2\n",
    "import numpy as np\n",
    "from sklearn.model_selection import train_test_split\n",
    "from sklearn.ensemble import RandomForestRegressor\n",
    "from sklearn.metrics import mean_squared_error, r2_score\n",
    "import os\n",
    "from tqdm import tqdm"
   ]
  },
  {
   "cell_type": "code",
   "execution_count": 4,
   "id": "c5385617",
   "metadata": {
    "execution": {
     "iopub.execute_input": "2025-10-03T12:12:48.646708Z",
     "iopub.status.busy": "2025-10-03T12:12:48.646284Z",
     "iopub.status.idle": "2025-10-03T12:12:48.692125Z",
     "shell.execute_reply": "2025-10-03T12:12:48.690959Z"
    },
    "papermill": {
     "duration": 0.052507,
     "end_time": "2025-10-03T12:12:48.693984",
     "exception": false,
     "start_time": "2025-10-03T12:12:48.641477",
     "status": "completed"
    },
    "tags": []
   },
   "outputs": [
    {
     "data": {
      "text/html": [
       "<div>\n",
       "<style scoped>\n",
       "    .dataframe tbody tr th:only-of-type {\n",
       "        vertical-align: middle;\n",
       "    }\n",
       "\n",
       "    .dataframe tbody tr th {\n",
       "        vertical-align: top;\n",
       "    }\n",
       "\n",
       "    .dataframe thead th {\n",
       "        text-align: right;\n",
       "    }\n",
       "</style>\n",
       "<table border=\"1\" class=\"dataframe\">\n",
       "  <thead>\n",
       "    <tr style=\"text-align: right;\">\n",
       "      <th></th>\n",
       "      <th>file</th>\n",
       "      <th>age</th>\n",
       "      <th>split</th>\n",
       "    </tr>\n",
       "  </thead>\n",
       "  <tbody>\n",
       "    <tr>\n",
       "      <th>0</th>\n",
       "      <td>train/18-20/0.jpg</td>\n",
       "      <td>18-20</td>\n",
       "      <td>train</td>\n",
       "    </tr>\n",
       "    <tr>\n",
       "      <th>1</th>\n",
       "      <td>train/18-20/1.jpg</td>\n",
       "      <td>18-20</td>\n",
       "      <td>train</td>\n",
       "    </tr>\n",
       "    <tr>\n",
       "      <th>2</th>\n",
       "      <td>train/18-20/2.jpg</td>\n",
       "      <td>18-20</td>\n",
       "      <td>train</td>\n",
       "    </tr>\n",
       "    <tr>\n",
       "      <th>3</th>\n",
       "      <td>train/18-20/3.jpg</td>\n",
       "      <td>18-20</td>\n",
       "      <td>train</td>\n",
       "    </tr>\n",
       "    <tr>\n",
       "      <th>4</th>\n",
       "      <td>train/18-20/4.jpg</td>\n",
       "      <td>18-20</td>\n",
       "      <td>train</td>\n",
       "    </tr>\n",
       "  </tbody>\n",
       "</table>\n",
       "</div>"
      ],
      "text/plain": [
       "                file    age  split\n",
       "0  train/18-20/0.jpg  18-20  train\n",
       "1  train/18-20/1.jpg  18-20  train\n",
       "2  train/18-20/2.jpg  18-20  train\n",
       "3  train/18-20/3.jpg  18-20  train\n",
       "4  train/18-20/4.jpg  18-20  train"
      ]
     },
     "execution_count": 4,
     "metadata": {},
     "output_type": "execute_result"
    }
   ],
   "source": [
    "df = pd.read_csv('/kaggle/input/age-detection-human-faces-18-60-years/age_detection.csv')\n",
    "df.head()"
   ]
  },
  {
   "cell_type": "code",
   "execution_count": 5,
   "id": "1fb76714",
   "metadata": {
    "execution": {
     "iopub.execute_input": "2025-10-03T12:12:48.703383Z",
     "iopub.status.busy": "2025-10-03T12:12:48.703016Z",
     "iopub.status.idle": "2025-10-03T12:12:48.711691Z",
     "shell.execute_reply": "2025-10-03T12:12:48.710584Z"
    },
    "papermill": {
     "duration": 0.015104,
     "end_time": "2025-10-03T12:12:48.713371",
     "exception": false,
     "start_time": "2025-10-03T12:12:48.698267",
     "status": "completed"
    },
    "tags": []
   },
   "outputs": [
    {
     "data": {
      "text/plain": [
       "Index(['file', 'age', 'split'], dtype='object')"
      ]
     },
     "execution_count": 5,
     "metadata": {},
     "output_type": "execute_result"
    }
   ],
   "source": [
    "df.columns"
   ]
  },
  {
   "cell_type": "code",
   "execution_count": 6,
   "id": "50007d0f",
   "metadata": {
    "execution": {
     "iopub.execute_input": "2025-10-03T12:12:48.722900Z",
     "iopub.status.busy": "2025-10-03T12:12:48.722590Z",
     "iopub.status.idle": "2025-10-03T12:12:48.750875Z",
     "shell.execute_reply": "2025-10-03T12:12:48.749694Z"
    },
    "papermill": {
     "duration": 0.035223,
     "end_time": "2025-10-03T12:12:48.752792",
     "exception": false,
     "start_time": "2025-10-03T12:12:48.717569",
     "status": "completed"
    },
    "tags": []
   },
   "outputs": [
    {
     "name": "stdout",
     "output_type": "stream",
     "text": [
      "<class 'pandas.core.frame.DataFrame'>\n",
      "RangeIndex: 150 entries, 0 to 149\n",
      "Data columns (total 3 columns):\n",
      " #   Column  Non-Null Count  Dtype \n",
      "---  ------  --------------  ----- \n",
      " 0   file    150 non-null    object\n",
      " 1   age     150 non-null    object\n",
      " 2   split   150 non-null    object\n",
      "dtypes: object(3)\n",
      "memory usage: 3.6+ KB\n",
      "None\n"
     ]
    }
   ],
   "source": [
    "print(df.info())"
   ]
  },
  {
   "cell_type": "code",
   "execution_count": 7,
   "id": "af40f5cd",
   "metadata": {
    "execution": {
     "iopub.execute_input": "2025-10-03T12:12:48.762887Z",
     "iopub.status.busy": "2025-10-03T12:12:48.762471Z",
     "iopub.status.idle": "2025-10-03T12:12:48.769465Z",
     "shell.execute_reply": "2025-10-03T12:12:48.768200Z"
    },
    "papermill": {
     "duration": 0.014006,
     "end_time": "2025-10-03T12:12:48.771141",
     "exception": false,
     "start_time": "2025-10-03T12:12:48.757135",
     "status": "completed"
    },
    "tags": []
   },
   "outputs": [],
   "source": [
    "def age_to_num(age_str):\n",
    "    if isinstance(age_str, str) and '-' in age_str:\n",
    "        low, high = age_str.split('-')\n",
    "        return (int(low) + int(high)) / 2\n",
    "    return float(age_str)\n",
    "\n",
    "df['age'] = df['age'].apply(age_to_num)"
   ]
  },
  {
   "cell_type": "code",
   "execution_count": 8,
   "id": "0c638f09",
   "metadata": {
    "execution": {
     "iopub.execute_input": "2025-10-03T12:12:48.780632Z",
     "iopub.status.busy": "2025-10-03T12:12:48.780325Z",
     "iopub.status.idle": "2025-10-03T12:12:49.225084Z",
     "shell.execute_reply": "2025-10-03T12:12:49.224067Z"
    },
    "papermill": {
     "duration": 0.451427,
     "end_time": "2025-10-03T12:12:49.226798",
     "exception": false,
     "start_time": "2025-10-03T12:12:48.775371",
     "status": "completed"
    },
    "tags": []
   },
   "outputs": [
    {
     "data": {
      "image/png": "[encoded data removed]",
      "text/plain": [
       "<Figure size 800x500 with 1 Axes>"
      ]
     },
     "metadata": {},
     "output_type": "display_data"
    }
   ],
   "source": [
    "plt.figure(figsize=(8,5))\n",
    "sns.histplot(df['age'], bins=20, kde=True)\n",
    "plt.title(\"Age Distribution\")\n",
    "plt.xlabel(\"Age\")\n",
    "plt.ylabel(\"Count\")\n",
    "plt.show()"
   ]
  },
  {
   "cell_type": "code",
   "execution_count": 9,
   "id": "90293f87",
   "metadata": {
    "execution": {
     "iopub.execute_input": "2025-10-03T12:12:49.237208Z",
     "iopub.status.busy": "2025-10-03T12:12:49.236889Z",
     "iopub.status.idle": "2025-10-03T12:12:49.388520Z",
     "shell.execute_reply": "2025-10-03T12:12:49.387354Z"
    },
    "papermill": {
     "duration": 0.158839,
     "end_time": "2025-10-03T12:12:49.390418",
     "exception": false,
     "start_time": "2025-10-03T12:12:49.231579",
     "status": "completed"
    },
    "tags": []
   },
   "outputs": [
    {
     "data": {
      "image/png": "[encoded data removed]",
      "text/plain": [
       "<Figure size 800x500 with 1 Axes>"
      ]
     },
     "metadata": {},
     "output_type": "display_data"
    }
   ],
   "source": [
    "plt.figure(figsize=(8,5))\n",
    "sns.countplot(x='split', data=df)\n",
    "plt.title(\"Train/Validation Split\")\n",
    "plt.show()"
   ]
  },
  {
   "cell_type": "code",
   "execution_count": 10,
   "id": "dcc8a2d0",
   "metadata": {
    "execution": {
     "iopub.execute_input": "2025-10-03T12:12:49.401353Z",
     "iopub.status.busy": "2025-10-03T12:12:49.400977Z",
     "iopub.status.idle": "2025-10-03T12:13:08.378291Z",
     "shell.execute_reply": "2025-10-03T12:13:08.376909Z"
    },
    "papermill": {
     "duration": 18.984578,
     "end_time": "2025-10-03T12:13:08.379895",
     "exception": false,
     "start_time": "2025-10-03T12:12:49.395317",
     "status": "completed"
    },
    "tags": []
   },
   "outputs": [
    {
     "name": "stderr",
     "output_type": "stream",
     "text": [
      " 66%|██████▌   | 99/150 [00:13<00:06,  8.29it/s]Invalid SOS parameters for sequential JPEG\n",
      " 67%|██████▋   | 101/150 [00:13<00:06,  7.89it/s]Invalid SOS parameters for sequential JPEG\n",
      " 69%|██████▊   | 103/150 [00:13<00:04,  9.79it/s]Invalid SOS parameters for sequential JPEG\n",
      "100%|██████████| 150/150 [00:18<00:00,  7.91it/s]\n"
     ]
    }
   ],
   "source": [
    "images, ages = [], []\n",
    "for idx, row in tqdm(df.iterrows(), total=len(df)):\n",
    "    img_path = '/kaggle/input/age-detection-human-faces-18-60-years/' + row['file']\n",
    "    if os.path.exists(img_path):\n",
    "        img = cv2.imread(img_path)\n",
    "        img = cv2.resize(img, (64,64))\n",
    "        img = cv2.cvtColor(img, cv2.COLOR_BGR2GRAY)\n",
    "        images.append(img.flatten())\n",
    "        ages.append(row['age'])"
   ]
  },
  {
   "cell_type": "code",
   "execution_count": 11,
   "id": "8b9c4a7c",
   "metadata": {
    "execution": {
     "iopub.execute_input": "2025-10-03T12:13:08.401917Z",
     "iopub.status.busy": "2025-10-03T12:13:08.401167Z",
     "iopub.status.idle": "2025-10-03T12:13:08.407285Z",
     "shell.execute_reply": "2025-10-03T12:13:08.406319Z"
    },
    "papermill": {
     "duration": 0.018666,
     "end_time": "2025-10-03T12:13:08.408921",
     "exception": false,
     "start_time": "2025-10-03T12:13:08.390255",
     "status": "completed"
    },
    "tags": []
   },
   "outputs": [],
   "source": [
    "X = np.array(images)\n",
    "y = np.array(ages)"
   ]
  },
  {
   "cell_type": "code",
   "execution_count": 12,
   "id": "8ef5ec0e",
   "metadata": {
    "execution": {
     "iopub.execute_input": "2025-10-03T12:13:08.430180Z",
     "iopub.status.busy": "2025-10-03T12:13:08.429168Z",
     "iopub.status.idle": "2025-10-03T12:13:08.435793Z",
     "shell.execute_reply": "2025-10-03T12:13:08.434791Z"
    },
    "papermill": {
     "duration": 0.018828,
     "end_time": "2025-10-03T12:13:08.437481",
     "exception": false,
     "start_time": "2025-10-03T12:13:08.418653",
     "status": "completed"
    },
    "tags": []
   },
   "outputs": [],
   "source": [
    "X_train, X_test, y_train, y_test = train_test_split(X, y, test_size=0.2, random_state=42)"
   ]
  },
  {
   "cell_type": "code",
   "execution_count": 13,
   "id": "a2b6f797",
   "metadata": {
    "execution": {
     "iopub.execute_input": "2025-10-03T12:13:08.459121Z",
     "iopub.status.busy": "2025-10-03T12:13:08.458763Z",
     "iopub.status.idle": "2025-10-03T12:13:21.639434Z",
     "shell.execute_reply": "2025-10-03T12:13:21.638456Z"
    },
    "papermill": {
     "duration": 13.193836,
     "end_time": "2025-10-03T12:13:21.641496",
     "exception": false,
     "start_time": "2025-10-03T12:13:08.447660",
     "status": "completed"
    },
    "tags": []
   },
   "outputs": [
    {
     "data": {
      "text/html": [
       "<style>#sk-container-id-1 {color: black;background-color: white;}#sk-container-id-1 pre{padding: 0;}#sk-container-id-1 div.sk-toggleable {background-color: white;}#sk-container-id-1 label.sk-toggleable__label {cursor: pointer;display: block;width: 100%;margin-bottom: 0;padding: 0.3em;box-sizing: border-box;text-align: center;}#sk-container-id-1 label.sk-toggleable__label-arrow:before {content: \"▸\";float: left;margin-right: 0.25em;color: #696969;}#sk-container-id-1 label.sk-toggleable__label-arrow:hover:before {color: black;}#sk-container-id-1 div.sk-estimator:hover label.sk-toggleable__label-arrow:before {color: black;}#sk-container-id-1 div.sk-toggleable__content {max-height: 0;max-width: 0;overflow: hidden;text-align: left;background-color: #f0f8ff;}#sk-container-id-1 div.sk-toggleable__content pre {margin: 0.2em;color: black;border-radius: 0.25em;background-color: #f0f8ff;}#sk-container-id-1 input.sk-toggleable__control:checked~div.sk-toggleable__content {max-height: 200px;max-width: 100%;overflow: auto;}#sk-container-id-1 input.sk-toggleable__control:checked~label.sk-toggleable__label-arrow:before {content: \"▾\";}#sk-container-id-1 div.sk-estimator input.sk-toggleable__control:checked~label.sk-toggleable__label {background-color: #d4ebff;}#sk-container-id-1 div.sk-label input.sk-toggleable__control:checked~label.sk-toggleable__label {background-color: #d4ebff;}#sk-container-id-1 input.sk-hidden--visually {border: 0;clip: rect(1px 1px 1px 1px);clip: rect(1px, 1px, 1px, 1px);height: 1px;margin: -1px;overflow: hidden;padding: 0;position: absolute;width: 1px;}#sk-container-id-1 div.sk-estimator {font-family: monospace;background-color: #f0f8ff;border: 1px dotted black;border-radius: 0.25em;box-sizing: border-box;margin-bottom: 0.5em;}#sk-container-id-1 div.sk-estimator:hover {background-color: #d4ebff;}#sk-container-id-1 div.sk-parallel-item::after {content: \"\";width: 100%;border-bottom: 1px solid gray;flex-grow: 1;}#sk-container-id-1 div.sk-label:hover label.sk-toggleable__label {background-color: #d4ebff;}#sk-container-id-1 div.sk-serial::before {content: \"\";position: absolute;border-left: 1px solid gray;box-sizing: border-box;top: 0;bottom: 0;left: 50%;z-index: 0;}#sk-container-id-1 div.sk-serial {display: flex;flex-direction: column;align-items: center;background-color: white;padding-right: 0.2em;padding-left: 0.2em;position: relative;}#sk-container-id-1 div.sk-item {position: relative;z-index: 1;}#sk-container-id-1 div.sk-parallel {display: flex;align-items: stretch;justify-content: center;background-color: white;position: relative;}#sk-container-id-1 div.sk-item::before, #sk-container-id-1 div.sk-parallel-item::before {content: \"\";position: absolute;border-left: 1px solid gray;box-sizing: border-box;top: 0;bottom: 0;left: 50%;z-index: -1;}#sk-container-id-1 div.sk-parallel-item {display: flex;flex-direction: column;z-index: 1;position: relative;background-color: white;}#sk-container-id-1 div.sk-parallel-item:first-child::after {align-self: flex-end;width: 50%;}#sk-container-id-1 div.sk-parallel-item:last-child::after {align-self: flex-start;width: 50%;}#sk-container-id-1 div.sk-parallel-item:only-child::after {width: 0;}#sk-container-id-1 div.sk-dashed-wrapped {border: 1px dashed gray;margin: 0 0.4em 0.5em 0.4em;box-sizing: border-box;padding-bottom: 0.4em;background-color: white;}#sk-container-id-1 div.sk-label label {font-family: monospace;font-weight: bold;display: inline-block;line-height: 1.2em;}#sk-container-id-1 div.sk-label-container {text-align: center;}#sk-container-id-1 div.sk-container {/* jupyter's `normalize.less` sets `[hidden] { display: none; }` but bootstrap.min.css set `[hidden] { display: none !important; }` so we also need the `!important` here to be able to override the default hidden behavior on the sphinx rendered scikit-learn.org. See: https://github.com/scikit-learn/scikit-learn/issues/21755 */display: inline-block !important;position: relative;}#sk-container-id-1 div.sk-text-repr-fallback {display: none;}</style><div id=\"sk-container-id-1\" class=\"sk-top-container\"><div class=\"sk-text-repr-fallback\"><pre>RandomForestRegressor(random_state=42)</pre><b>In a Jupyter environment, please rerun this cell to show the HTML representation or trust the notebook. <br />On GitHub, the HTML representation is unable to render, please try loading this page with nbviewer.org.</b></div><div class=\"sk-container\" hidden><div class=\"sk-item\"><div class=\"sk-estimator sk-toggleable\"><input class=\"sk-toggleable__control sk-hidden--visually\" id=\"sk-estimator-id-1\" type=\"checkbox\" checked><label for=\"sk-estimator-id-1\" class=\"sk-toggleable__label sk-toggleable__label-arrow\">RandomForestRegressor</label><div class=\"sk-toggleable__content\"><pre>RandomForestRegressor(random_state=42)</pre></div></div></div></div></div>"
      ],
      "text/plain": [
       "RandomForestRegressor(random_state=42)"
      ]
     },
     "execution_count": 13,
     "metadata": {},
     "output_type": "execute_result"
    }
   ],
   "source": [
    "model = RandomForestRegressor(n_estimators=100, random_state=42)\n",
    "model.fit(X_train, y_train)"
   ]
  },
  {
   "cell_type": "code",
   "execution_count": 14,
   "id": "26a23b87",
   "metadata": {
    "execution": {
     "iopub.execute_input": "2025-10-03T12:13:21.663177Z",
     "iopub.status.busy": "2025-10-03T12:13:21.662874Z",
     "iopub.status.idle": "2025-10-03T12:13:21.674999Z",
     "shell.execute_reply": "2025-10-03T12:13:21.673917Z"
    },
    "papermill": {
     "duration": 0.024711,
     "end_time": "2025-10-03T12:13:21.676703",
     "exception": false,
     "start_time": "2025-10-03T12:13:21.651992",
     "status": "completed"
    },
    "tags": []
   },
   "outputs": [
    {
     "name": "stdout",
     "output_type": "stream",
     "text": [
      "\n",
      "Mean Squared Error: 211.61\n",
      "R2 Score: -0.17\n",
      "Best Model: RandomForestRegressor\n"
     ]
    }
   ],
   "source": [
    "y_pred = model.predict(X_test)\n",
    "mse = mean_squared_error(y_test, y_pred)\n",
    "r2 = r2_score(y_test, y_pred)\n",
    "print(f\"\\nMean Squared Error: {mse:.2f}\")\n",
    "print(f\"R2 Score: {r2:.2f}\")\n",
    "print(\"Best Model: RandomForestRegressor\")"
   ]
  },
  {
   "cell_type": "code",
   "execution_count": 15,
   "id": "c0f11826",
   "metadata": {
    "execution": {
     "iopub.execute_input": "2025-10-03T12:13:21.698448Z",
     "iopub.status.busy": "2025-10-03T12:13:21.697693Z",
     "iopub.status.idle": "2025-10-03T12:13:21.940487Z",
     "shell.execute_reply": "2025-10-03T12:13:21.939384Z"
    },
    "papermill": {
     "duration": 0.255183,
     "end_time": "2025-10-03T12:13:21.941908",
     "exception": false,
     "start_time": "2025-10-03T12:13:21.686725",
     "status": "completed"
    },
    "tags": []
   },
   "outputs": [
    {
     "data": {
      "image/png": "[encoded data removed]",
      "text/plain": [
       "<Figure size 800x500 with 1 Axes>"
      ]
     },
     "metadata": {},
     "output_type": "display_data"
    }
   ],
   "source": [
    "plt.figure(figsize=(8,5))\n",
    "plt.scatter(y_test, y_pred, alpha=0.5)\n",
    "plt.plot([min(y_test), max(y_test)], [min(y_test), max(y_test)], 'r--')\n",
    "plt.xlabel(\"Actual Age\")\n",
    "plt.ylabel(\"Predicted Age\")\n",
    "plt.title(\"Actual vs Predicted Age\")\n",
    "plt.show()"
   ]
  }
 ],
 "metadata": {
  "kaggle": {
   "accelerator": "none",
   "dataSources": [
    {
     "datasetId": 3933739,
     "sourceId": 6842818,
     "sourceType": "datasetVersion"
    }
   ],
   "dockerImageVersionId": 31089,
   "isGpuEnabled": false,
   "isInternetEnabled": true,
   "language": "python",
   "sourceType": "notebook"
  },
  "kernelspec": {
   "display_name": "Python 3",
   "language": "python",
   "name": "python3"
  },
  "language_info": {
   "codemirror_mode": {
    "name": "ipython",
    "version": 3
   },
   "file_extension": ".py",
   "mimetype": "text/x-python",
   "name": "python",
   "nbconvert_exporter": "python",
   "pygments_lexer": "ipython3",
   "version": "3.11.13"
  },
  "papermill": {
   "default_parameters": {},
   "duration": 46.998439,
   "end_time": "2025-10-03T12:13:22.673141",
   "environment_variables": {},
   "exception": null,
   "input_path": "__notebook__.ipynb",
   "output_path": "__notebook__.ipynb",
   "parameters": {},
   "start_time": "2025-10-03T12:12:35.674702",
   "version": "2.6.0"
  }
 },
 "nbformat": 4,
 "nbformat_minor": 5
}
