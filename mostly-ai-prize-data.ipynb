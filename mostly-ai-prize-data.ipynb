{
 "cells": [
  {
   "cell_type": "code",
   "execution_count": 1,
   "id": "0cfb1007",
   "metadata": {
    "_cell_guid": "b1076dfc-b9ad-4769-8c92-a6c4dae69d19",
    "_uuid": "8f2839f25d086af736a60e9eeb907d3b93b6e0e5",
    "execution": {
     "iopub.execute_input": "2025-10-03T11:16:02.983519Z",
     "iopub.status.busy": "2025-10-03T11:16:02.983186Z",
     "iopub.status.idle": "2025-10-03T11:16:04.797659Z",
     "shell.execute_reply": "2025-10-03T11:16:04.796836Z"
    },
    "papermill": {
     "duration": 1.821316,
     "end_time": "2025-10-03T11:16:04.799253",
     "exception": false,
     "start_time": "2025-10-03T11:16:02.977937",
     "status": "completed"
    },
    "tags": []
   },
   "outputs": [
    {
     "name": "stdout",
     "output_type": "stream",
     "text": [
      "/kaggle/input/mostly-ai-prize-data/sequential-training.csv\n",
      "/kaggle/input/mostly-ai-prize-data/flat-training.csv\n"
     ]
    }
   ],
   "source": [
    "# This Python 3 environment comes with many helpful analytics libraries installed\n",
    "# It is defined by the kaggle/python Docker image: https://github.com/kaggle/docker-python\n",
    "# For example, here's several helpful packages to load\n",
    "\n",
    "import numpy as np # linear algebra\n",
    "import pandas as pd # data processing, CSV file I/O (e.g. pd.read_csv)\n",
    "\n",
    "# Input data files are available in the read-only \"../input/\" directory\n",
    "# For example, running this (by clicking run or pressing Shift+Enter) will list all files under the input directory\n",
    "\n",
    "import os\n",
    "for dirname, _, filenames in os.walk('/kaggle/input'):\n",
    "    for filename in filenames:\n",
    "        print(os.path.join(dirname, filename))\n",
    "\n",
    "# You can write up to 20GB to the current directory (/kaggle/working/) that gets preserved as output when you create a version using \"Save & Run All\" \n",
    "# You can also write temporary files to /kaggle/temp/, but they won't be saved outside of the current session"
   ]
  },
  {
   "cell_type": "code",
   "execution_count": 2,
   "id": "2eccc4de",
   "metadata": {
    "execution": {
     "iopub.execute_input": "2025-10-03T11:16:04.807176Z",
     "iopub.status.busy": "2025-10-03T11:16:04.806354Z",
     "iopub.status.idle": "2025-10-03T11:16:04.810499Z",
     "shell.execute_reply": "2025-10-03T11:16:04.809699Z"
    },
    "papermill": {
     "duration": 0.009316,
     "end_time": "2025-10-03T11:16:04.811909",
     "exception": false,
     "start_time": "2025-10-03T11:16:04.802593",
     "status": "completed"
    },
    "tags": []
   },
   "outputs": [],
   "source": [
    "import warnings\n",
    "warnings.filterwarnings(\"ignore\")"
   ]
  },
  {
   "cell_type": "code",
   "execution_count": 3,
   "id": "99d9facf",
   "metadata": {
    "execution": {
     "iopub.execute_input": "2025-10-03T11:16:04.818823Z",
     "iopub.status.busy": "2025-10-03T11:16:04.818559Z",
     "iopub.status.idle": "2025-10-03T11:16:07.210717Z",
     "shell.execute_reply": "2025-10-03T11:16:07.209968Z"
    },
    "papermill": {
     "duration": 2.397295,
     "end_time": "2025-10-03T11:16:07.212239",
     "exception": false,
     "start_time": "2025-10-03T11:16:04.814944",
     "status": "completed"
    },
    "tags": []
   },
   "outputs": [],
   "source": [
    "# Import libraries\n",
    "import pandas as pd\n",
    "import matplotlib.pyplot as plt\n",
    "import seaborn as sns\n",
    "from sklearn.model_selection import train_test_split\n",
    "from sklearn.ensemble import RandomForestClassifier\n",
    "from sklearn.metrics import classification_report, confusion_matrix"
   ]
  },
  {
   "cell_type": "code",
   "execution_count": 4,
   "id": "400c1c74",
   "metadata": {
    "execution": {
     "iopub.execute_input": "2025-10-03T11:16:07.219949Z",
     "iopub.status.busy": "2025-10-03T11:16:07.219171Z",
     "iopub.status.idle": "2025-10-03T11:16:08.320805Z",
     "shell.execute_reply": "2025-10-03T11:16:08.319914Z"
    },
    "papermill": {
     "duration": 1.106997,
     "end_time": "2025-10-03T11:16:08.322359",
     "exception": false,
     "start_time": "2025-10-03T11:16:07.215362",
     "status": "completed"
    },
    "tags": []
   },
   "outputs": [
    {
     "data": {
      "text/html": [
       "<div>\n",
       "<style scoped>\n",
       "    .dataframe tbody tr th:only-of-type {\n",
       "        vertical-align: middle;\n",
       "    }\n",
       "\n",
       "    .dataframe tbody tr th {\n",
       "        vertical-align: top;\n",
       "    }\n",
       "\n",
       "    .dataframe thead th {\n",
       "        text-align: right;\n",
       "    }\n",
       "</style>\n",
       "<table border=\"1\" class=\"dataframe\">\n",
       "  <thead>\n",
       "    <tr style=\"text-align: right;\">\n",
       "      <th></th>\n",
       "      <th>dog</th>\n",
       "      <th>cat</th>\n",
       "      <th>rabbit</th>\n",
       "      <th>deer</th>\n",
       "      <th>panda</th>\n",
       "      <th>koala</th>\n",
       "      <th>otter</th>\n",
       "      <th>hedgehog</th>\n",
       "      <th>squirrel</th>\n",
       "      <th>dolphin</th>\n",
       "      <th>...</th>\n",
       "      <th>blanket</th>\n",
       "      <th>button</th>\n",
       "      <th>whistle</th>\n",
       "      <th>marble</th>\n",
       "      <th>wagon</th>\n",
       "      <th>storybook</th>\n",
       "      <th>candle</th>\n",
       "      <th>clover</th>\n",
       "      <th>bubble</th>\n",
       "      <th>cookie</th>\n",
       "    </tr>\n",
       "  </thead>\n",
       "  <tbody>\n",
       "    <tr>\n",
       "      <th>0</th>\n",
       "      <td>10</td>\n",
       "      <td>A5DB</td>\n",
       "      <td>NaN</td>\n",
       "      <td>4.46</td>\n",
       "      <td>-2</td>\n",
       "      <td>T2</td>\n",
       "      <td>B9DE</td>\n",
       "      <td>51.8</td>\n",
       "      <td>0</td>\n",
       "      <td>1</td>\n",
       "      <td>...</td>\n",
       "      <td>A8</td>\n",
       "      <td>2</td>\n",
       "      <td>2</td>\n",
       "      <td>0</td>\n",
       "      <td>-0.76</td>\n",
       "      <td>-54</td>\n",
       "      <td>B2</td>\n",
       "      <td>0.38</td>\n",
       "      <td>0</td>\n",
       "      <td>C13</td>\n",
       "    </tr>\n",
       "    <tr>\n",
       "      <th>1</th>\n",
       "      <td>10</td>\n",
       "      <td>A5DB</td>\n",
       "      <td>NaN</td>\n",
       "      <td>4.42</td>\n",
       "      <td>0</td>\n",
       "      <td>T3</td>\n",
       "      <td>027A</td>\n",
       "      <td>72.2</td>\n",
       "      <td>1</td>\n",
       "      <td>1</td>\n",
       "      <td>...</td>\n",
       "      <td>A7</td>\n",
       "      <td>16</td>\n",
       "      <td>0</td>\n",
       "      <td>0</td>\n",
       "      <td>-0.76</td>\n",
       "      <td>-48</td>\n",
       "      <td>B0</td>\n",
       "      <td>0.16</td>\n",
       "      <td>0</td>\n",
       "      <td>C15</td>\n",
       "    </tr>\n",
       "    <tr>\n",
       "      <th>2</th>\n",
       "      <td>43</td>\n",
       "      <td>027A</td>\n",
       "      <td>8.0</td>\n",
       "      <td>3.11</td>\n",
       "      <td>-1</td>\n",
       "      <td>T0</td>\n",
       "      <td>B9DE</td>\n",
       "      <td>44.2</td>\n",
       "      <td>1</td>\n",
       "      <td>1</td>\n",
       "      <td>...</td>\n",
       "      <td>A4</td>\n",
       "      <td>-25</td>\n",
       "      <td>10</td>\n",
       "      <td>0</td>\n",
       "      <td>-0.88</td>\n",
       "      <td>-39</td>\n",
       "      <td>B0</td>\n",
       "      <td>0.13</td>\n",
       "      <td>0</td>\n",
       "      <td>C1</td>\n",
       "    </tr>\n",
       "    <tr>\n",
       "      <th>3</th>\n",
       "      <td>28</td>\n",
       "      <td>63D1</td>\n",
       "      <td>NaN</td>\n",
       "      <td>3.37</td>\n",
       "      <td>-1</td>\n",
       "      <td>T1</td>\n",
       "      <td>027A</td>\n",
       "      <td>41.0</td>\n",
       "      <td>0</td>\n",
       "      <td>1</td>\n",
       "      <td>...</td>\n",
       "      <td>A3</td>\n",
       "      <td>21</td>\n",
       "      <td>9</td>\n",
       "      <td>0</td>\n",
       "      <td>-0.85</td>\n",
       "      <td>-58</td>\n",
       "      <td>B1</td>\n",
       "      <td>0.29</td>\n",
       "      <td>1</td>\n",
       "      <td>C5</td>\n",
       "    </tr>\n",
       "    <tr>\n",
       "      <th>4</th>\n",
       "      <td>82</td>\n",
       "      <td>C09E</td>\n",
       "      <td>NaN</td>\n",
       "      <td>3.07</td>\n",
       "      <td>-6</td>\n",
       "      <td>T0</td>\n",
       "      <td>B9DE</td>\n",
       "      <td>46.4</td>\n",
       "      <td>1</td>\n",
       "      <td>1</td>\n",
       "      <td>...</td>\n",
       "      <td>A7</td>\n",
       "      <td>-4</td>\n",
       "      <td>13</td>\n",
       "      <td>0</td>\n",
       "      <td>-0.85</td>\n",
       "      <td>70</td>\n",
       "      <td>B2</td>\n",
       "      <td>0.75</td>\n",
       "      <td>1</td>\n",
       "      <td>C13</td>\n",
       "    </tr>\n",
       "  </tbody>\n",
       "</table>\n",
       "<p>5 rows × 80 columns</p>\n",
       "</div>"
      ],
      "text/plain": [
       "   dog   cat  rabbit  deer  panda koala otter  hedgehog  squirrel  dolphin  \\\n",
       "0   10  A5DB     NaN  4.46     -2    T2  B9DE      51.8         0        1   \n",
       "1   10  A5DB     NaN  4.42      0    T3  027A      72.2         1        1   \n",
       "2   43  027A     8.0  3.11     -1    T0  B9DE      44.2         1        1   \n",
       "3   28  63D1     NaN  3.37     -1    T1  027A      41.0         0        1   \n",
       "4   82  C09E     NaN  3.07     -6    T0  B9DE      46.4         1        1   \n",
       "\n",
       "   ...  blanket  button  whistle marble  wagon storybook  candle  clover  \\\n",
       "0  ...       A8       2        2      0  -0.76       -54      B2    0.38   \n",
       "1  ...       A7      16        0      0  -0.76       -48      B0    0.16   \n",
       "2  ...       A4     -25       10      0  -0.88       -39      B0    0.13   \n",
       "3  ...       A3      21        9      0  -0.85       -58      B1    0.29   \n",
       "4  ...       A7      -4       13      0  -0.85        70      B2    0.75   \n",
       "\n",
       "  bubble cookie  \n",
       "0      0    C13  \n",
       "1      0    C15  \n",
       "2      0     C1  \n",
       "3      1     C5  \n",
       "4      1    C13  \n",
       "\n",
       "[5 rows x 80 columns]"
      ]
     },
     "execution_count": 4,
     "metadata": {},
     "output_type": "execute_result"
    }
   ],
   "source": [
    "df = pd.read_csv('/kaggle/input/mostly-ai-prize-data/flat-training.csv')\n",
    "df.head()"
   ]
  },
  {
   "cell_type": "code",
   "execution_count": 5,
   "id": "6990f417",
   "metadata": {
    "execution": {
     "iopub.execute_input": "2025-10-03T11:16:08.330359Z",
     "iopub.status.busy": "2025-10-03T11:16:08.330006Z",
     "iopub.status.idle": "2025-10-03T11:16:08.336782Z",
     "shell.execute_reply": "2025-10-03T11:16:08.335941Z"
    },
    "papermill": {
     "duration": 0.012269,
     "end_time": "2025-10-03T11:16:08.338122",
     "exception": false,
     "start_time": "2025-10-03T11:16:08.325853",
     "status": "completed"
    },
    "tags": []
   },
   "outputs": [
    {
     "data": {
      "text/plain": [
       "Index(['dog', 'cat', 'rabbit', 'deer', 'panda', 'koala', 'otter', 'hedgehog',\n",
       "       'squirrel', 'dolphin', 'penguin', 'turtle', 'elephant', 'giraffe',\n",
       "       'lamb', 'goat', 'cow', 'horse', 'donkey', 'pony', 'llama', 'mouse',\n",
       "       'hamster', 'guinea', 'duck', 'chicken', 'sparrow', 'parrot', 'finch',\n",
       "       'canary', 'bee', 'butterfly', 'ladybug', 'snail', 'frog', 'cricket',\n",
       "       'tamarin', 'wallaby', 'wombat', 'zebra', 'flamingo', 'peacock', 'bat',\n",
       "       'fox', 'beaver', 'monkey', 'seal', 'robin', 'loon', 'swan', 'goldfish',\n",
       "       'minnow', 'mole', 'shrew', 'puffin', 'owl', 'bunny', 'bear', 'chipmunk',\n",
       "       'cub', 'acorn', 'leaf', 'cloud', 'rainbow', 'puddle', 'berry', 'apple',\n",
       "       'honey', 'pumpkin', 'teddy', 'blanket', 'button', 'whistle', 'marble',\n",
       "       'wagon', 'storybook', 'candle', 'clover', 'bubble', 'cookie'],\n",
       "      dtype='object')"
      ]
     },
     "execution_count": 5,
     "metadata": {},
     "output_type": "execute_result"
    }
   ],
   "source": [
    "df.columns"
   ]
  },
  {
   "cell_type": "code",
   "execution_count": 6,
   "id": "4e47c47c",
   "metadata": {
    "execution": {
     "iopub.execute_input": "2025-10-03T11:16:08.346551Z",
     "iopub.status.busy": "2025-10-03T11:16:08.345647Z",
     "iopub.status.idle": "2025-10-03T11:16:09.188032Z",
     "shell.execute_reply": "2025-10-03T11:16:09.187029Z"
    },
    "papermill": {
     "duration": 0.848066,
     "end_time": "2025-10-03T11:16:09.189580",
     "exception": false,
     "start_time": "2025-10-03T11:16:08.341514",
     "status": "completed"
    },
    "tags": []
   },
   "outputs": [
    {
     "name": "stdout",
     "output_type": "stream",
     "text": [
      "Flat-training shape: (100000, 80)\n",
      "   dog   cat  rabbit  deer  panda koala otter  hedgehog  squirrel  dolphin  \\\n",
      "0   10  A5DB     NaN  4.46     -2    T2  B9DE      51.8         0        1   \n",
      "1   10  A5DB     NaN  4.42      0    T3  027A      72.2         1        1   \n",
      "2   43  027A     8.0  3.11     -1    T0  B9DE      44.2         1        1   \n",
      "3   28  63D1     NaN  3.37     -1    T1  027A      41.0         0        1   \n",
      "4   82  C09E     NaN  3.07     -6    T0  B9DE      46.4         1        1   \n",
      "\n",
      "   ...  blanket  button  whistle marble  wagon storybook  candle  clover  \\\n",
      "0  ...       A8       2        2      0  -0.76       -54      B2    0.38   \n",
      "1  ...       A7      16        0      0  -0.76       -48      B0    0.16   \n",
      "2  ...       A4     -25       10      0  -0.88       -39      B0    0.13   \n",
      "3  ...       A3      21        9      0  -0.85       -58      B1    0.29   \n",
      "4  ...       A7      -4       13      0  -0.85        70      B2    0.75   \n",
      "\n",
      "  bubble cookie  \n",
      "0      0    C13  \n",
      "1      0    C15  \n",
      "2      0     C1  \n",
      "3      1     C5  \n",
      "4      1    C13  \n",
      "\n",
      "[5 rows x 80 columns]\n"
     ]
    }
   ],
   "source": [
    "# Load flat training data\n",
    "flat = pd.read_csv('/kaggle/input/mostly-ai-prize-data/flat-training.csv')\n",
    "print(\"Flat-training shape:\", flat.shape)\n",
    "print(flat.head())"
   ]
  },
  {
   "cell_type": "code",
   "execution_count": 7,
   "id": "7602c93d",
   "metadata": {
    "execution": {
     "iopub.execute_input": "2025-10-03T11:16:09.197735Z",
     "iopub.status.busy": "2025-10-03T11:16:09.197438Z",
     "iopub.status.idle": "2025-10-03T11:16:09.377995Z",
     "shell.execute_reply": "2025-10-03T11:16:09.377008Z"
    },
    "papermill": {
     "duration": 0.186277,
     "end_time": "2025-10-03T11:16:09.379472",
     "exception": false,
     "start_time": "2025-10-03T11:16:09.193195",
     "status": "completed"
    },
    "tags": []
   },
   "outputs": [
    {
     "name": "stdout",
     "output_type": "stream",
     "text": [
      "Sequential-training shape: (154456, 11)\n",
      "   group_id alice  david emily  jacob  james john  mike  lucas  mary  sarah\n",
      "0  e5f463e4    V0    4.1    A0    NaN   20.0   X6    -1    1.9   2.7    0.0\n",
      "1  e5f463e4    V0    4.3    A0    NaN   18.0   X5    -1    1.7   1.5    0.0\n",
      "2  e5f463e4    V0    4.4    A0    NaN   20.0   X6    -1    1.7   1.2    0.0\n",
      "3  e5f463e4    V0    4.6    A0    NaN   17.0   X4    -1    1.3   0.8    0.0\n",
      "4  e5f463e4    V0    4.8    A0    NaN   17.0   X4    -1    1.2   0.4    0.0\n"
     ]
    }
   ],
   "source": [
    "# Load sequential training data\n",
    "seq = pd.read_csv('/kaggle/input/mostly-ai-prize-data/sequential-training.csv')\n",
    "print(\"Sequential-training shape:\", seq.shape)\n",
    "print(seq.head())"
   ]
  },
  {
   "cell_type": "code",
   "execution_count": 8,
   "id": "f315527f",
   "metadata": {
    "execution": {
     "iopub.execute_input": "2025-10-03T11:16:09.387696Z",
     "iopub.status.busy": "2025-10-03T11:16:09.387160Z",
     "iopub.status.idle": "2025-10-03T11:16:10.427508Z",
     "shell.execute_reply": "2025-10-03T11:16:10.426617Z"
    },
    "papermill": {
     "duration": 1.04639,
     "end_time": "2025-10-03T11:16:10.429482",
     "exception": false,
     "start_time": "2025-10-03T11:16:09.383092",
     "status": "completed"
    },
    "tags": []
   },
   "outputs": [
    {
     "data": {
      "image/png": "[encoded data removed]",
      "text/plain": [
       "<Figure size 1200x600 with 9 Axes>"
      ]
     },
     "metadata": {},
     "output_type": "display_data"
    }
   ],
   "source": [
    "# Plot histogram for the first 10 columns (animal/object features)\n",
    "flat.iloc[:, :10].hist(figsize=(12, 6))\n",
    "plt.suptitle(\"Feature Distributions (first 10 columns)\")\n",
    "plt.show()"
   ]
  },
  {
   "cell_type": "code",
   "execution_count": 9,
   "id": "4e07eb47",
   "metadata": {
    "execution": {
     "iopub.execute_input": "2025-10-03T11:16:10.439904Z",
     "iopub.status.busy": "2025-10-03T11:16:10.439632Z",
     "iopub.status.idle": "2025-10-03T11:16:10.445300Z",
     "shell.execute_reply": "2025-10-03T11:16:10.444520Z"
    },
    "papermill": {
     "duration": 0.012107,
     "end_time": "2025-10-03T11:16:10.446590",
     "exception": false,
     "start_time": "2025-10-03T11:16:10.434483",
     "status": "completed"
    },
    "tags": []
   },
   "outputs": [],
   "source": [
    "# Use 'dog' column as a binary target example (1 if dog presence > 0, else 0)\n",
    "flat['target'] = (flat['dog'] > 0).astype(int)"
   ]
  },
  {
   "cell_type": "code",
   "execution_count": 10,
   "id": "4fc17954",
   "metadata": {
    "execution": {
     "iopub.execute_input": "2025-10-03T11:16:10.456631Z",
     "iopub.status.busy": "2025-10-03T11:16:10.455953Z",
     "iopub.status.idle": "2025-10-03T11:16:10.481223Z",
     "shell.execute_reply": "2025-10-03T11:16:10.480366Z"
    },
    "papermill": {
     "duration": 0.0319,
     "end_time": "2025-10-03T11:16:10.482819",
     "exception": false,
     "start_time": "2025-10-03T11:16:10.450919",
     "status": "completed"
    },
    "tags": []
   },
   "outputs": [],
   "source": [
    "# Features are all columns except 'target'\n",
    "X = flat.drop('target', axis=1)\n",
    "y = flat['target']"
   ]
  },
  {
   "cell_type": "code",
   "execution_count": 11,
   "id": "1aaf9d22",
   "metadata": {
    "execution": {
     "iopub.execute_input": "2025-10-03T11:16:10.493776Z",
     "iopub.status.busy": "2025-10-03T11:16:10.493497Z",
     "iopub.status.idle": "2025-10-03T11:16:10.567868Z",
     "shell.execute_reply": "2025-10-03T11:16:10.567203Z"
    },
    "papermill": {
     "duration": 0.081995,
     "end_time": "2025-10-03T11:16:10.569408",
     "exception": false,
     "start_time": "2025-10-03T11:16:10.487413",
     "status": "completed"
    },
    "tags": []
   },
   "outputs": [],
   "source": [
    "# Split data 80-20 for training/testing\n",
    "X_train, X_test, y_train, y_test = train_test_split(X, y, random_state=42, test_size=0.2)"
   ]
  },
  {
   "cell_type": "code",
   "execution_count": 12,
   "id": "fbc50675",
   "metadata": {
    "execution": {
     "iopub.execute_input": "2025-10-03T11:16:10.579540Z",
     "iopub.status.busy": "2025-10-03T11:16:10.578744Z",
     "iopub.status.idle": "2025-10-03T11:16:12.924153Z",
     "shell.execute_reply": "2025-10-03T11:16:12.923166Z"
    },
    "papermill": {
     "duration": 2.351697,
     "end_time": "2025-10-03T11:16:12.925527",
     "exception": false,
     "start_time": "2025-10-03T11:16:10.573830",
     "status": "completed"
    },
    "tags": []
   },
   "outputs": [
    {
     "data": {
      "text/html": [
       "<style>#sk-container-id-1 {color: black;background-color: white;}#sk-container-id-1 pre{padding: 0;}#sk-container-id-1 div.sk-toggleable {background-color: white;}#sk-container-id-1 label.sk-toggleable__label {cursor: pointer;display: block;width: 100%;margin-bottom: 0;padding: 0.3em;box-sizing: border-box;text-align: center;}#sk-container-id-1 label.sk-toggleable__label-arrow:before {content: \"▸\";float: left;margin-right: 0.25em;color: #696969;}#sk-container-id-1 label.sk-toggleable__label-arrow:hover:before {color: black;}#sk-container-id-1 div.sk-estimator:hover label.sk-toggleable__label-arrow:before {color: black;}#sk-container-id-1 div.sk-toggleable__content {max-height: 0;max-width: 0;overflow: hidden;text-align: left;background-color: #f0f8ff;}#sk-container-id-1 div.sk-toggleable__content pre {margin: 0.2em;color: black;border-radius: 0.25em;background-color: #f0f8ff;}#sk-container-id-1 input.sk-toggleable__control:checked~div.sk-toggleable__content {max-height: 200px;max-width: 100%;overflow: auto;}#sk-container-id-1 input.sk-toggleable__control:checked~label.sk-toggleable__label-arrow:before {content: \"▾\";}#sk-container-id-1 div.sk-estimator input.sk-toggleable__control:checked~label.sk-toggleable__label {background-color: #d4ebff;}#sk-container-id-1 div.sk-label input.sk-toggleable__control:checked~label.sk-toggleable__label {background-color: #d4ebff;}#sk-container-id-1 input.sk-hidden--visually {border: 0;clip: rect(1px 1px 1px 1px);clip: rect(1px, 1px, 1px, 1px);height: 1px;margin: -1px;overflow: hidden;padding: 0;position: absolute;width: 1px;}#sk-container-id-1 div.sk-estimator {font-family: monospace;background-color: #f0f8ff;border: 1px dotted black;border-radius: 0.25em;box-sizing: border-box;margin-bottom: 0.5em;}#sk-container-id-1 div.sk-estimator:hover {background-color: #d4ebff;}#sk-container-id-1 div.sk-parallel-item::after {content: \"\";width: 100%;border-bottom: 1px solid gray;flex-grow: 1;}#sk-container-id-1 div.sk-label:hover label.sk-toggleable__label {background-color: #d4ebff;}#sk-container-id-1 div.sk-serial::before {content: \"\";position: absolute;border-left: 1px solid gray;box-sizing: border-box;top: 0;bottom: 0;left: 50%;z-index: 0;}#sk-container-id-1 div.sk-serial {display: flex;flex-direction: column;align-items: center;background-color: white;padding-right: 0.2em;padding-left: 0.2em;position: relative;}#sk-container-id-1 div.sk-item {position: relative;z-index: 1;}#sk-container-id-1 div.sk-parallel {display: flex;align-items: stretch;justify-content: center;background-color: white;position: relative;}#sk-container-id-1 div.sk-item::before, #sk-container-id-1 div.sk-parallel-item::before {content: \"\";position: absolute;border-left: 1px solid gray;box-sizing: border-box;top: 0;bottom: 0;left: 50%;z-index: -1;}#sk-container-id-1 div.sk-parallel-item {display: flex;flex-direction: column;z-index: 1;position: relative;background-color: white;}#sk-container-id-1 div.sk-parallel-item:first-child::after {align-self: flex-end;width: 50%;}#sk-container-id-1 div.sk-parallel-item:last-child::after {align-self: flex-start;width: 50%;}#sk-container-id-1 div.sk-parallel-item:only-child::after {width: 0;}#sk-container-id-1 div.sk-dashed-wrapped {border: 1px dashed gray;margin: 0 0.4em 0.5em 0.4em;box-sizing: border-box;padding-bottom: 0.4em;background-color: white;}#sk-container-id-1 div.sk-label label {font-family: monospace;font-weight: bold;display: inline-block;line-height: 1.2em;}#sk-container-id-1 div.sk-label-container {text-align: center;}#sk-container-id-1 div.sk-container {/* jupyter's `normalize.less` sets `[hidden] { display: none; }` but bootstrap.min.css set `[hidden] { display: none !important; }` so we also need the `!important` here to be able to override the default hidden behavior on the sphinx rendered scikit-learn.org. See: https://github.com/scikit-learn/scikit-learn/issues/21755 */display: inline-block !important;position: relative;}#sk-container-id-1 div.sk-text-repr-fallback {display: none;}</style><div id=\"sk-container-id-1\" class=\"sk-top-container\"><div class=\"sk-text-repr-fallback\"><pre>Pipeline(steps=[(&#x27;columntransformer&#x27;,\n",
       "                 ColumnTransformer(transformers=[(&#x27;num&#x27;, SimpleImputer(),\n",
       "                                                  [&#x27;dog&#x27;, &#x27;rabbit&#x27;, &#x27;deer&#x27;,\n",
       "                                                   &#x27;panda&#x27;, &#x27;hedgehog&#x27;,\n",
       "                                                   &#x27;squirrel&#x27;, &#x27;dolphin&#x27;,\n",
       "                                                   &#x27;penguin&#x27;, &#x27;turtle&#x27;,\n",
       "                                                   &#x27;elephant&#x27;, &#x27;lamb&#x27;, &#x27;cow&#x27;,\n",
       "                                                   &#x27;horse&#x27;, &#x27;mouse&#x27;, &#x27;guinea&#x27;,\n",
       "                                                   &#x27;chicken&#x27;, &#x27;sparrow&#x27;,\n",
       "                                                   &#x27;parrot&#x27;, &#x27;finch&#x27;, &#x27;canary&#x27;,\n",
       "                                                   &#x27;bee&#x27;, &#x27;ladybug&#x27;, &#x27;snail&#x27;,\n",
       "                                                   &#x27;frog&#x27;, &#x27;cricket&#x27;, &#x27;wombat&#x27;,\n",
       "                                                   &#x27;zebra&#x27;, &#x27;flamingo&#x27;,\n",
       "                                                   &#x27;peacock&#x27;, &#x27;b...\n",
       "                                                  Pipeline(steps=[(&#x27;simpleimputer&#x27;,\n",
       "                                                                   SimpleImputer(strategy=&#x27;most_frequent&#x27;)),\n",
       "                                                                  (&#x27;onehotencoder&#x27;,\n",
       "                                                                   OneHotEncoder(handle_unknown=&#x27;ignore&#x27;))]),\n",
       "                                                  [&#x27;cat&#x27;, &#x27;koala&#x27;, &#x27;otter&#x27;,\n",
       "                                                   &#x27;giraffe&#x27;, &#x27;goat&#x27;, &#x27;donkey&#x27;,\n",
       "                                                   &#x27;pony&#x27;, &#x27;llama&#x27;, &#x27;hamster&#x27;,\n",
       "                                                   &#x27;duck&#x27;, &#x27;butterfly&#x27;,\n",
       "                                                   &#x27;tamarin&#x27;, &#x27;wallaby&#x27;,\n",
       "                                                   &#x27;monkey&#x27;, &#x27;chipmunk&#x27;, &#x27;leaf&#x27;,\n",
       "                                                   &#x27;teddy&#x27;, &#x27;blanket&#x27;, &#x27;candle&#x27;,\n",
       "                                                   &#x27;cookie&#x27;])])),\n",
       "                (&#x27;randomforestclassifier&#x27;,\n",
       "                 RandomForestClassifier(random_state=42))])</pre><b>In a Jupyter environment, please rerun this cell to show the HTML representation or trust the notebook. <br />On GitHub, the HTML representation is unable to render, please try loading this page with nbviewer.org.</b></div><div class=\"sk-container\" hidden><div class=\"sk-item sk-dashed-wrapped\"><div class=\"sk-label-container\"><div class=\"sk-label sk-toggleable\"><input class=\"sk-toggleable__control sk-hidden--visually\" id=\"sk-estimator-id-1\" type=\"checkbox\" ><label for=\"sk-estimator-id-1\" class=\"sk-toggleable__label sk-toggleable__label-arrow\">Pipeline</label><div class=\"sk-toggleable__content\"><pre>Pipeline(steps=[(&#x27;columntransformer&#x27;,\n",
       "                 ColumnTransformer(transformers=[(&#x27;num&#x27;, SimpleImputer(),\n",
       "                                                  [&#x27;dog&#x27;, &#x27;rabbit&#x27;, &#x27;deer&#x27;,\n",
       "                                                   &#x27;panda&#x27;, &#x27;hedgehog&#x27;,\n",
       "                                                   &#x27;squirrel&#x27;, &#x27;dolphin&#x27;,\n",
       "                                                   &#x27;penguin&#x27;, &#x27;turtle&#x27;,\n",
       "                                                   &#x27;elephant&#x27;, &#x27;lamb&#x27;, &#x27;cow&#x27;,\n",
       "                                                   &#x27;horse&#x27;, &#x27;mouse&#x27;, &#x27;guinea&#x27;,\n",
       "                                                   &#x27;chicken&#x27;, &#x27;sparrow&#x27;,\n",
       "                                                   &#x27;parrot&#x27;, &#x27;finch&#x27;, &#x27;canary&#x27;,\n",
       "                                                   &#x27;bee&#x27;, &#x27;ladybug&#x27;, &#x27;snail&#x27;,\n",
       "                                                   &#x27;frog&#x27;, &#x27;cricket&#x27;, &#x27;wombat&#x27;,\n",
       "                                                   &#x27;zebra&#x27;, &#x27;flamingo&#x27;,\n",
       "                                                   &#x27;peacock&#x27;, &#x27;b...\n",
       "                                                  Pipeline(steps=[(&#x27;simpleimputer&#x27;,\n",
       "                                                                   SimpleImputer(strategy=&#x27;most_frequent&#x27;)),\n",
       "                                                                  (&#x27;onehotencoder&#x27;,\n",
       "                                                                   OneHotEncoder(handle_unknown=&#x27;ignore&#x27;))]),\n",
       "                                                  [&#x27;cat&#x27;, &#x27;koala&#x27;, &#x27;otter&#x27;,\n",
       "                                                   &#x27;giraffe&#x27;, &#x27;goat&#x27;, &#x27;donkey&#x27;,\n",
       "                                                   &#x27;pony&#x27;, &#x27;llama&#x27;, &#x27;hamster&#x27;,\n",
       "                                                   &#x27;duck&#x27;, &#x27;butterfly&#x27;,\n",
       "                                                   &#x27;tamarin&#x27;, &#x27;wallaby&#x27;,\n",
       "                                                   &#x27;monkey&#x27;, &#x27;chipmunk&#x27;, &#x27;leaf&#x27;,\n",
       "                                                   &#x27;teddy&#x27;, &#x27;blanket&#x27;, &#x27;candle&#x27;,\n",
       "                                                   &#x27;cookie&#x27;])])),\n",
       "                (&#x27;randomforestclassifier&#x27;,\n",
       "                 RandomForestClassifier(random_state=42))])</pre></div></div></div><div class=\"sk-serial\"><div class=\"sk-item sk-dashed-wrapped\"><div class=\"sk-label-container\"><div class=\"sk-label sk-toggleable\"><input class=\"sk-toggleable__control sk-hidden--visually\" id=\"sk-estimator-id-2\" type=\"checkbox\" ><label for=\"sk-estimator-id-2\" class=\"sk-toggleable__label sk-toggleable__label-arrow\">columntransformer: ColumnTransformer</label><div class=\"sk-toggleable__content\"><pre>ColumnTransformer(transformers=[(&#x27;num&#x27;, SimpleImputer(),\n",
       "                                 [&#x27;dog&#x27;, &#x27;rabbit&#x27;, &#x27;deer&#x27;, &#x27;panda&#x27;, &#x27;hedgehog&#x27;,\n",
       "                                  &#x27;squirrel&#x27;, &#x27;dolphin&#x27;, &#x27;penguin&#x27;, &#x27;turtle&#x27;,\n",
       "                                  &#x27;elephant&#x27;, &#x27;lamb&#x27;, &#x27;cow&#x27;, &#x27;horse&#x27;, &#x27;mouse&#x27;,\n",
       "                                  &#x27;guinea&#x27;, &#x27;chicken&#x27;, &#x27;sparrow&#x27;, &#x27;parrot&#x27;,\n",
       "                                  &#x27;finch&#x27;, &#x27;canary&#x27;, &#x27;bee&#x27;, &#x27;ladybug&#x27;, &#x27;snail&#x27;,\n",
       "                                  &#x27;frog&#x27;, &#x27;cricket&#x27;, &#x27;wombat&#x27;, &#x27;zebra&#x27;,\n",
       "                                  &#x27;flamingo&#x27;, &#x27;peacock&#x27;, &#x27;bat&#x27;, ...]),\n",
       "                                (&#x27;cat&#x27;,\n",
       "                                 Pipeline(steps=[(&#x27;simpleimputer&#x27;,\n",
       "                                                  SimpleImputer(strategy=&#x27;most_frequent&#x27;)),\n",
       "                                                 (&#x27;onehotencoder&#x27;,\n",
       "                                                  OneHotEncoder(handle_unknown=&#x27;ignore&#x27;))]),\n",
       "                                 [&#x27;cat&#x27;, &#x27;koala&#x27;, &#x27;otter&#x27;, &#x27;giraffe&#x27;, &#x27;goat&#x27;,\n",
       "                                  &#x27;donkey&#x27;, &#x27;pony&#x27;, &#x27;llama&#x27;, &#x27;hamster&#x27;, &#x27;duck&#x27;,\n",
       "                                  &#x27;butterfly&#x27;, &#x27;tamarin&#x27;, &#x27;wallaby&#x27;, &#x27;monkey&#x27;,\n",
       "                                  &#x27;chipmunk&#x27;, &#x27;leaf&#x27;, &#x27;teddy&#x27;, &#x27;blanket&#x27;,\n",
       "                                  &#x27;candle&#x27;, &#x27;cookie&#x27;])])</pre></div></div></div><div class=\"sk-parallel\"><div class=\"sk-parallel-item\"><div class=\"sk-item\"><div class=\"sk-label-container\"><div class=\"sk-label sk-toggleable\"><input class=\"sk-toggleable__control sk-hidden--visually\" id=\"sk-estimator-id-3\" type=\"checkbox\" ><label for=\"sk-estimator-id-3\" class=\"sk-toggleable__label sk-toggleable__label-arrow\">num</label><div class=\"sk-toggleable__content\"><pre>[&#x27;dog&#x27;, &#x27;rabbit&#x27;, &#x27;deer&#x27;, &#x27;panda&#x27;, &#x27;hedgehog&#x27;, &#x27;squirrel&#x27;, &#x27;dolphin&#x27;, &#x27;penguin&#x27;, &#x27;turtle&#x27;, &#x27;elephant&#x27;, &#x27;lamb&#x27;, &#x27;cow&#x27;, &#x27;horse&#x27;, &#x27;mouse&#x27;, &#x27;guinea&#x27;, &#x27;chicken&#x27;, &#x27;sparrow&#x27;, &#x27;parrot&#x27;, &#x27;finch&#x27;, &#x27;canary&#x27;, &#x27;bee&#x27;, &#x27;ladybug&#x27;, &#x27;snail&#x27;, &#x27;frog&#x27;, &#x27;cricket&#x27;, &#x27;wombat&#x27;, &#x27;zebra&#x27;, &#x27;flamingo&#x27;, &#x27;peacock&#x27;, &#x27;bat&#x27;, &#x27;fox&#x27;, &#x27;beaver&#x27;, &#x27;seal&#x27;, &#x27;robin&#x27;, &#x27;loon&#x27;, &#x27;swan&#x27;, &#x27;goldfish&#x27;, &#x27;minnow&#x27;, &#x27;mole&#x27;, &#x27;shrew&#x27;, &#x27;puffin&#x27;, &#x27;owl&#x27;, &#x27;bunny&#x27;, &#x27;bear&#x27;, &#x27;cub&#x27;, &#x27;acorn&#x27;, &#x27;cloud&#x27;, &#x27;rainbow&#x27;, &#x27;puddle&#x27;, &#x27;berry&#x27;, &#x27;apple&#x27;, &#x27;honey&#x27;, &#x27;pumpkin&#x27;, &#x27;button&#x27;, &#x27;whistle&#x27;, &#x27;marble&#x27;, &#x27;wagon&#x27;, &#x27;storybook&#x27;, &#x27;clover&#x27;, &#x27;bubble&#x27;]</pre></div></div></div><div class=\"sk-serial\"><div class=\"sk-item\"><div class=\"sk-estimator sk-toggleable\"><input class=\"sk-toggleable__control sk-hidden--visually\" id=\"sk-estimator-id-4\" type=\"checkbox\" ><label for=\"sk-estimator-id-4\" class=\"sk-toggleable__label sk-toggleable__label-arrow\">SimpleImputer</label><div class=\"sk-toggleable__content\"><pre>SimpleImputer()</pre></div></div></div></div></div></div><div class=\"sk-parallel-item\"><div class=\"sk-item\"><div class=\"sk-label-container\"><div class=\"sk-label sk-toggleable\"><input class=\"sk-toggleable__control sk-hidden--visually\" id=\"sk-estimator-id-5\" type=\"checkbox\" ><label for=\"sk-estimator-id-5\" class=\"sk-toggleable__label sk-toggleable__label-arrow\">cat</label><div class=\"sk-toggleable__content\"><pre>[&#x27;cat&#x27;, &#x27;koala&#x27;, &#x27;otter&#x27;, &#x27;giraffe&#x27;, &#x27;goat&#x27;, &#x27;donkey&#x27;, &#x27;pony&#x27;, &#x27;llama&#x27;, &#x27;hamster&#x27;, &#x27;duck&#x27;, &#x27;butterfly&#x27;, &#x27;tamarin&#x27;, &#x27;wallaby&#x27;, &#x27;monkey&#x27;, &#x27;chipmunk&#x27;, &#x27;leaf&#x27;, &#x27;teddy&#x27;, &#x27;blanket&#x27;, &#x27;candle&#x27;, &#x27;cookie&#x27;]</pre></div></div></div><div class=\"sk-serial\"><div class=\"sk-item\"><div class=\"sk-serial\"><div class=\"sk-item\"><div class=\"sk-estimator sk-toggleable\"><input class=\"sk-toggleable__control sk-hidden--visually\" id=\"sk-estimator-id-6\" type=\"checkbox\" ><label for=\"sk-estimator-id-6\" class=\"sk-toggleable__label sk-toggleable__label-arrow\">SimpleImputer</label><div class=\"sk-toggleable__content\"><pre>SimpleImputer(strategy=&#x27;most_frequent&#x27;)</pre></div></div></div><div class=\"sk-item\"><div class=\"sk-estimator sk-toggleable\"><input class=\"sk-toggleable__control sk-hidden--visually\" id=\"sk-estimator-id-7\" type=\"checkbox\" ><label for=\"sk-estimator-id-7\" class=\"sk-toggleable__label sk-toggleable__label-arrow\">OneHotEncoder</label><div class=\"sk-toggleable__content\"><pre>OneHotEncoder(handle_unknown=&#x27;ignore&#x27;)</pre></div></div></div></div></div></div></div></div></div></div><div class=\"sk-item\"><div class=\"sk-estimator sk-toggleable\"><input class=\"sk-toggleable__control sk-hidden--visually\" id=\"sk-estimator-id-8\" type=\"checkbox\" ><label for=\"sk-estimator-id-8\" class=\"sk-toggleable__label sk-toggleable__label-arrow\">RandomForestClassifier</label><div class=\"sk-toggleable__content\"><pre>RandomForestClassifier(random_state=42)</pre></div></div></div></div></div></div></div>"
      ],
      "text/plain": [
       "Pipeline(steps=[('columntransformer',\n",
       "                 ColumnTransformer(transformers=[('num', SimpleImputer(),\n",
       "                                                  ['dog', 'rabbit', 'deer',\n",
       "                                                   'panda', 'hedgehog',\n",
       "                                                   'squirrel', 'dolphin',\n",
       "                                                   'penguin', 'turtle',\n",
       "                                                   'elephant', 'lamb', 'cow',\n",
       "                                                   'horse', 'mouse', 'guinea',\n",
       "                                                   'chicken', 'sparrow',\n",
       "                                                   'parrot', 'finch', 'canary',\n",
       "                                                   'bee', 'ladybug', 'snail',\n",
       "                                                   'frog', 'cricket', 'wombat',\n",
       "                                                   'zebra', 'flamingo',\n",
       "                                                   'peacock', 'b...\n",
       "                                                  Pipeline(steps=[('simpleimputer',\n",
       "                                                                   SimpleImputer(strategy='most_frequent')),\n",
       "                                                                  ('onehotencoder',\n",
       "                                                                   OneHotEncoder(handle_unknown='ignore'))]),\n",
       "                                                  ['cat', 'koala', 'otter',\n",
       "                                                   'giraffe', 'goat', 'donkey',\n",
       "                                                   'pony', 'llama', 'hamster',\n",
       "                                                   'duck', 'butterfly',\n",
       "                                                   'tamarin', 'wallaby',\n",
       "                                                   'monkey', 'chipmunk', 'leaf',\n",
       "                                                   'teddy', 'blanket', 'candle',\n",
       "                                                   'cookie'])])),\n",
       "                ('randomforestclassifier',\n",
       "                 RandomForestClassifier(random_state=42))])"
      ]
     },
     "execution_count": 12,
     "metadata": {},
     "output_type": "execute_result"
    }
   ],
   "source": [
    "from sklearn.impute import SimpleImputer\n",
    "from sklearn.preprocessing import OneHotEncoder\n",
    "from sklearn.compose import ColumnTransformer\n",
    "from sklearn.pipeline import make_pipeline\n",
    "from sklearn.ensemble import RandomForestClassifier\n",
    "\n",
    "# Identify categorical columns\n",
    "categorical_cols = X_train.select_dtypes(include=['object', 'category']).columns.tolist()\n",
    "numeric_cols = X_train.select_dtypes(include=['number']).columns.tolist()\n",
    "\n",
    "# Define transformers\n",
    "numeric_transformer = SimpleImputer(strategy='mean')\n",
    "categorical_transformer = make_pipeline(\n",
    "    SimpleImputer(strategy='most_frequent'),\n",
    "    OneHotEncoder(handle_unknown='ignore')\n",
    ")\n",
    "\n",
    "# Combine preprocessors\n",
    "preprocessor = ColumnTransformer(\n",
    "    transformers=[\n",
    "        ('num', numeric_transformer, numeric_cols),\n",
    "        ('cat', categorical_transformer, categorical_cols)\n",
    "    ]\n",
    ")\n",
    "\n",
    "# Create pipeline\n",
    "model = make_pipeline(preprocessor, RandomForestClassifier(n_estimators=100, random_state=42))\n",
    "\n",
    "# Train\n",
    "model.fit(X_train, y_train)"
   ]
  },
  {
   "cell_type": "code",
   "execution_count": 13,
   "id": "4aae3157",
   "metadata": {
    "execution": {
     "iopub.execute_input": "2025-10-03T11:16:12.936299Z",
     "iopub.status.busy": "2025-10-03T11:16:12.935968Z",
     "iopub.status.idle": "2025-10-03T11:16:13.332303Z",
     "shell.execute_reply": "2025-10-03T11:16:13.331407Z"
    },
    "papermill": {
     "duration": 0.403737,
     "end_time": "2025-10-03T11:16:13.334224",
     "exception": false,
     "start_time": "2025-10-03T11:16:12.930487",
     "status": "completed"
    },
    "tags": []
   },
   "outputs": [
    {
     "name": "stdout",
     "output_type": "stream",
     "text": [
      "              precision    recall  f1-score   support\n",
      "\n",
      "           1       1.00      1.00      1.00     20000\n",
      "\n",
      "    accuracy                           1.00     20000\n",
      "   macro avg       1.00      1.00      1.00     20000\n",
      "weighted avg       1.00      1.00      1.00     20000\n",
      "\n"
     ]
    }
   ],
   "source": [
    "# Predict on test data\n",
    "y_pred = model.predict(X_test)\n",
    "\n",
    "# Print classification report\n",
    "print(classification_report(y_test, y_pred))"
   ]
  },
  {
   "cell_type": "code",
   "execution_count": 14,
   "id": "39072511",
   "metadata": {
    "execution": {
     "iopub.execute_input": "2025-10-03T11:16:13.345569Z",
     "iopub.status.busy": "2025-10-03T11:16:13.344946Z",
     "iopub.status.idle": "2025-10-03T11:16:13.525258Z",
     "shell.execute_reply": "2025-10-03T11:16:13.524399Z"
    },
    "papermill": {
     "duration": 0.187382,
     "end_time": "2025-10-03T11:16:13.526756",
     "exception": false,
     "start_time": "2025-10-03T11:16:13.339374",
     "status": "completed"
    },
    "tags": []
   },
   "outputs": [
    {
     "data": {
      "image/png": "[encoded data removed]",
      "text/plain": [
       "<Figure size 500x400 with 2 Axes>"
      ]
     },
     "metadata": {},
     "output_type": "display_data"
    }
   ],
   "source": [
    "# Plot confusion matrix\n",
    "cm = confusion_matrix(y_test, y_pred)\n",
    "plt.figure(figsize=(5,4))\n",
    "sns.heatmap(cm, annot=True, fmt='d', cmap='Blues')\n",
    "plt.title('Confusion Matrix')\n",
    "plt.xlabel('Predicted')\n",
    "plt.ylabel('Actual')\n",
    "plt.show()"
   ]
  }
 ],
 "metadata": {
  "kaggle": {
   "accelerator": "none",
   "dataSources": [
    {
     "datasetId": 7427703,
     "sourceId": 11833494,
     "sourceType": "datasetVersion"
    }
   ],
   "dockerImageVersionId": 31089,
   "isGpuEnabled": false,
   "isInternetEnabled": true,
   "language": "python",
   "sourceType": "notebook"
  },
  "kernelspec": {
   "display_name": "Python 3",
   "language": "python",
   "name": "python3"
  },
  "language_info": {
   "codemirror_mode": {
    "name": "ipython",
    "version": 3
   },
   "file_extension": ".py",
   "mimetype": "text/x-python",
   "name": "python",
   "nbconvert_exporter": "python",
   "pygments_lexer": "ipython3",
   "version": "3.11.13"
  },
  "papermill": {
   "default_parameters": {},
   "duration": 16.236296,
   "end_time": "2025-10-03T11:16:14.251693",
   "environment_variables": {},
   "exception": null,
   "input_path": "__notebook__.ipynb",
   "output_path": "__notebook__.ipynb",
   "parameters": {},
   "start_time": "2025-10-03T11:15:58.015397",
   "version": "2.6.0"
  }
 },
 "nbformat": 4,
 "nbformat_minor": 5
}
