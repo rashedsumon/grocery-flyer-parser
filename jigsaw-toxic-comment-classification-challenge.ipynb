{
 "cells": [
  {
   "cell_type": "code",
   "execution_count": 1,
   "id": "8b4dc914",
   "metadata": {
    "_cell_guid": "b1076dfc-b9ad-4769-8c92-a6c4dae69d19",
    "_uuid": "8f2839f25d086af736a60e9eeb907d3b93b6e0e5",
    "execution": {
     "iopub.execute_input": "2025-10-03T14:42:44.471714Z",
     "iopub.status.busy": "2025-10-03T14:42:44.471330Z",
     "iopub.status.idle": "2025-10-03T14:42:46.323351Z",
     "shell.execute_reply": "2025-10-03T14:42:46.322382Z"
    },
    "papermill": {
     "duration": 1.859028,
     "end_time": "2025-10-03T14:42:46.325014",
     "exception": false,
     "start_time": "2025-10-03T14:42:44.465986",
     "status": "completed"
    },
    "tags": []
   },
   "outputs": [
    {
     "name": "stdout",
     "output_type": "stream",
     "text": [
      "/kaggle/input/jigsaw-toxic-comment-classification-challenge/sample_submission.csv\n",
      "/kaggle/input/jigsaw-toxic-comment-classification-challenge/test_labels.csv\n",
      "/kaggle/input/jigsaw-toxic-comment-classification-challenge/train.csv\n",
      "/kaggle/input/jigsaw-toxic-comment-classification-challenge/test.csv\n"
     ]
    }
   ],
   "source": [
    "# This Python 3 environment comes with many helpful analytics libraries installed\n",
    "# It is defined by the kaggle/python Docker image: https://github.com/kaggle/docker-python\n",
    "# For example, here's several helpful packages to load\n",
    "\n",
    "import numpy as np # linear algebra\n",
    "import pandas as pd # data processing, CSV file I/O (e.g. pd.read_csv)\n",
    "\n",
    "# Input data files are available in the read-only \"../input/\" directory\n",
    "# For example, running this (by clicking run or pressing Shift+Enter) will list all files under the input directory\n",
    "\n",
    "import os\n",
    "for dirname, _, filenames in os.walk('/kaggle/input'):\n",
    "    for filename in filenames:\n",
    "        print(os.path.join(dirname, filename))\n",
    "\n",
    "# You can write up to 20GB to the current directory (/kaggle/working/) that gets preserved as output when you create a version using \"Save & Run All\" \n",
    "# You can also write temporary files to /kaggle/temp/, but they won't be saved outside of the current session"
   ]
  },
  {
   "cell_type": "code",
   "execution_count": 2,
   "id": "18a751bf",
   "metadata": {
    "execution": {
     "iopub.execute_input": "2025-10-03T14:42:46.333800Z",
     "iopub.status.busy": "2025-10-03T14:42:46.333036Z",
     "iopub.status.idle": "2025-10-03T14:42:46.337221Z",
     "shell.execute_reply": "2025-10-03T14:42:46.336346Z"
    },
    "papermill": {
     "duration": 0.009717,
     "end_time": "2025-10-03T14:42:46.338616",
     "exception": false,
     "start_time": "2025-10-03T14:42:46.328899",
     "status": "completed"
    },
    "tags": []
   },
   "outputs": [],
   "source": [
    "import warnings\n",
    "warnings.filterwarnings(\"ignore\")"
   ]
  },
  {
   "cell_type": "code",
   "execution_count": 3,
   "id": "819ae535",
   "metadata": {
    "execution": {
     "iopub.execute_input": "2025-10-03T14:42:46.346713Z",
     "iopub.status.busy": "2025-10-03T14:42:46.346068Z",
     "iopub.status.idle": "2025-10-03T14:42:48.082102Z",
     "shell.execute_reply": "2025-10-03T14:42:48.081357Z"
    },
    "papermill": {
     "duration": 1.74161,
     "end_time": "2025-10-03T14:42:48.083636",
     "exception": false,
     "start_time": "2025-10-03T14:42:46.342026",
     "status": "completed"
    },
    "tags": []
   },
   "outputs": [],
   "source": [
    "import pandas as pd\n",
    "import matplotlib.pyplot as plt\n",
    "import seaborn as sns"
   ]
  },
  {
   "cell_type": "code",
   "execution_count": 4,
   "id": "74c9f189",
   "metadata": {
    "execution": {
     "iopub.execute_input": "2025-10-03T14:42:48.092488Z",
     "iopub.status.busy": "2025-10-03T14:42:48.091408Z",
     "iopub.status.idle": "2025-10-03T14:42:50.405018Z",
     "shell.execute_reply": "2025-10-03T14:42:50.404198Z"
    },
    "papermill": {
     "duration": 2.319186,
     "end_time": "2025-10-03T14:42:50.406309",
     "exception": false,
     "start_time": "2025-10-03T14:42:48.087123",
     "status": "completed"
    },
    "tags": []
   },
   "outputs": [
    {
     "data": {
      "text/html": [
       "<div>\n",
       "<style scoped>\n",
       "    .dataframe tbody tr th:only-of-type {\n",
       "        vertical-align: middle;\n",
       "    }\n",
       "\n",
       "    .dataframe tbody tr th {\n",
       "        vertical-align: top;\n",
       "    }\n",
       "\n",
       "    .dataframe thead th {\n",
       "        text-align: right;\n",
       "    }\n",
       "</style>\n",
       "<table border=\"1\" class=\"dataframe\">\n",
       "  <thead>\n",
       "    <tr style=\"text-align: right;\">\n",
       "      <th></th>\n",
       "      <th>id</th>\n",
       "      <th>comment_text</th>\n",
       "      <th>toxic</th>\n",
       "      <th>severe_toxic</th>\n",
       "      <th>obscene</th>\n",
       "      <th>threat</th>\n",
       "      <th>insult</th>\n",
       "      <th>identity_hate</th>\n",
       "    </tr>\n",
       "  </thead>\n",
       "  <tbody>\n",
       "    <tr>\n",
       "      <th>0</th>\n",
       "      <td>0000997932d777bf</td>\n",
       "      <td>Explanation\\nWhy the edits made under my usern...</td>\n",
       "      <td>0</td>\n",
       "      <td>0</td>\n",
       "      <td>0</td>\n",
       "      <td>0</td>\n",
       "      <td>0</td>\n",
       "      <td>0</td>\n",
       "    </tr>\n",
       "    <tr>\n",
       "      <th>1</th>\n",
       "      <td>000103f0d9cfb60f</td>\n",
       "      <td>D'aww! He matches this background colour I'm s...</td>\n",
       "      <td>0</td>\n",
       "      <td>0</td>\n",
       "      <td>0</td>\n",
       "      <td>0</td>\n",
       "      <td>0</td>\n",
       "      <td>0</td>\n",
       "    </tr>\n",
       "    <tr>\n",
       "      <th>2</th>\n",
       "      <td>000113f07ec002fd</td>\n",
       "      <td>Hey man, I'm really not trying to edit war. It...</td>\n",
       "      <td>0</td>\n",
       "      <td>0</td>\n",
       "      <td>0</td>\n",
       "      <td>0</td>\n",
       "      <td>0</td>\n",
       "      <td>0</td>\n",
       "    </tr>\n",
       "    <tr>\n",
       "      <th>3</th>\n",
       "      <td>0001b41b1c6bb37e</td>\n",
       "      <td>\"\\nMore\\nI can't make any real suggestions on ...</td>\n",
       "      <td>0</td>\n",
       "      <td>0</td>\n",
       "      <td>0</td>\n",
       "      <td>0</td>\n",
       "      <td>0</td>\n",
       "      <td>0</td>\n",
       "    </tr>\n",
       "    <tr>\n",
       "      <th>4</th>\n",
       "      <td>0001d958c54c6e35</td>\n",
       "      <td>You, sir, are my hero. Any chance you remember...</td>\n",
       "      <td>0</td>\n",
       "      <td>0</td>\n",
       "      <td>0</td>\n",
       "      <td>0</td>\n",
       "      <td>0</td>\n",
       "      <td>0</td>\n",
       "    </tr>\n",
       "  </tbody>\n",
       "</table>\n",
       "</div>"
      ],
      "text/plain": [
       "                 id                                       comment_text  toxic  \\\n",
       "0  0000997932d777bf  Explanation\\nWhy the edits made under my usern...      0   \n",
       "1  000103f0d9cfb60f  D'aww! He matches this background colour I'm s...      0   \n",
       "2  000113f07ec002fd  Hey man, I'm really not trying to edit war. It...      0   \n",
       "3  0001b41b1c6bb37e  \"\\nMore\\nI can't make any real suggestions on ...      0   \n",
       "4  0001d958c54c6e35  You, sir, are my hero. Any chance you remember...      0   \n",
       "\n",
       "   severe_toxic  obscene  threat  insult  identity_hate  \n",
       "0             0        0       0       0              0  \n",
       "1             0        0       0       0              0  \n",
       "2             0        0       0       0              0  \n",
       "3             0        0       0       0              0  \n",
       "4             0        0       0       0              0  "
      ]
     },
     "execution_count": 4,
     "metadata": {},
     "output_type": "execute_result"
    }
   ],
   "source": [
    "df = pd.read_csv('/kaggle/input/jigsaw-toxic-comment-classification-challenge/train.csv')\n",
    "df.head()"
   ]
  },
  {
   "cell_type": "code",
   "execution_count": 5,
   "id": "00391de0",
   "metadata": {
    "execution": {
     "iopub.execute_input": "2025-10-03T14:42:50.415109Z",
     "iopub.status.busy": "2025-10-03T14:42:50.414355Z",
     "iopub.status.idle": "2025-10-03T14:42:50.420929Z",
     "shell.execute_reply": "2025-10-03T14:42:50.420232Z"
    },
    "papermill": {
     "duration": 0.012151,
     "end_time": "2025-10-03T14:42:50.422199",
     "exception": false,
     "start_time": "2025-10-03T14:42:50.410048",
     "status": "completed"
    },
    "tags": []
   },
   "outputs": [
    {
     "data": {
      "text/plain": [
       "Index(['id', 'comment_text', 'toxic', 'severe_toxic', 'obscene', 'threat',\n",
       "       'insult', 'identity_hate'],\n",
       "      dtype='object')"
      ]
     },
     "execution_count": 5,
     "metadata": {},
     "output_type": "execute_result"
    }
   ],
   "source": [
    "df.columns"
   ]
  },
  {
   "cell_type": "code",
   "execution_count": 6,
   "id": "b00afe86",
   "metadata": {
    "execution": {
     "iopub.execute_input": "2025-10-03T14:42:50.430386Z",
     "iopub.status.busy": "2025-10-03T14:42:50.430106Z",
     "iopub.status.idle": "2025-10-03T14:42:50.482526Z",
     "shell.execute_reply": "2025-10-03T14:42:50.481602Z"
    },
    "papermill": {
     "duration": 0.058176,
     "end_time": "2025-10-03T14:42:50.483995",
     "exception": false,
     "start_time": "2025-10-03T14:42:50.425819",
     "status": "completed"
    },
    "tags": []
   },
   "outputs": [
    {
     "name": "stdout",
     "output_type": "stream",
     "text": [
      "<class 'pandas.core.frame.DataFrame'>\n",
      "RangeIndex: 159571 entries, 0 to 159570\n",
      "Data columns (total 8 columns):\n",
      " #   Column         Non-Null Count   Dtype \n",
      "---  ------         --------------   ----- \n",
      " 0   id             159571 non-null  object\n",
      " 1   comment_text   159571 non-null  object\n",
      " 2   toxic          159571 non-null  int64 \n",
      " 3   severe_toxic   159571 non-null  int64 \n",
      " 4   obscene        159571 non-null  int64 \n",
      " 5   threat         159571 non-null  int64 \n",
      " 6   insult         159571 non-null  int64 \n",
      " 7   identity_hate  159571 non-null  int64 \n",
      "dtypes: int64(6), object(2)\n",
      "memory usage: 9.7+ MB\n"
     ]
    }
   ],
   "source": [
    "df.info()"
   ]
  },
  {
   "cell_type": "code",
   "execution_count": 7,
   "id": "0a0fe925",
   "metadata": {
    "execution": {
     "iopub.execute_input": "2025-10-03T14:42:50.492556Z",
     "iopub.status.busy": "2025-10-03T14:42:50.491909Z",
     "iopub.status.idle": "2025-10-03T14:42:50.540720Z",
     "shell.execute_reply": "2025-10-03T14:42:50.539885Z"
    },
    "papermill": {
     "duration": 0.054446,
     "end_time": "2025-10-03T14:42:50.542144",
     "exception": false,
     "start_time": "2025-10-03T14:42:50.487698",
     "status": "completed"
    },
    "tags": []
   },
   "outputs": [
    {
     "data": {
      "text/html": [
       "<div>\n",
       "<style scoped>\n",
       "    .dataframe tbody tr th:only-of-type {\n",
       "        vertical-align: middle;\n",
       "    }\n",
       "\n",
       "    .dataframe tbody tr th {\n",
       "        vertical-align: top;\n",
       "    }\n",
       "\n",
       "    .dataframe thead th {\n",
       "        text-align: right;\n",
       "    }\n",
       "</style>\n",
       "<table border=\"1\" class=\"dataframe\">\n",
       "  <thead>\n",
       "    <tr style=\"text-align: right;\">\n",
       "      <th></th>\n",
       "      <th>toxic</th>\n",
       "      <th>severe_toxic</th>\n",
       "      <th>obscene</th>\n",
       "      <th>threat</th>\n",
       "      <th>insult</th>\n",
       "      <th>identity_hate</th>\n",
       "    </tr>\n",
       "  </thead>\n",
       "  <tbody>\n",
       "    <tr>\n",
       "      <th>count</th>\n",
       "      <td>159571.000000</td>\n",
       "      <td>159571.000000</td>\n",
       "      <td>159571.000000</td>\n",
       "      <td>159571.000000</td>\n",
       "      <td>159571.000000</td>\n",
       "      <td>159571.000000</td>\n",
       "    </tr>\n",
       "    <tr>\n",
       "      <th>mean</th>\n",
       "      <td>0.095844</td>\n",
       "      <td>0.009996</td>\n",
       "      <td>0.052948</td>\n",
       "      <td>0.002996</td>\n",
       "      <td>0.049364</td>\n",
       "      <td>0.008805</td>\n",
       "    </tr>\n",
       "    <tr>\n",
       "      <th>std</th>\n",
       "      <td>0.294379</td>\n",
       "      <td>0.099477</td>\n",
       "      <td>0.223931</td>\n",
       "      <td>0.054650</td>\n",
       "      <td>0.216627</td>\n",
       "      <td>0.093420</td>\n",
       "    </tr>\n",
       "    <tr>\n",
       "      <th>min</th>\n",
       "      <td>0.000000</td>\n",
       "      <td>0.000000</td>\n",
       "      <td>0.000000</td>\n",
       "      <td>0.000000</td>\n",
       "      <td>0.000000</td>\n",
       "      <td>0.000000</td>\n",
       "    </tr>\n",
       "    <tr>\n",
       "      <th>25%</th>\n",
       "      <td>0.000000</td>\n",
       "      <td>0.000000</td>\n",
       "      <td>0.000000</td>\n",
       "      <td>0.000000</td>\n",
       "      <td>0.000000</td>\n",
       "      <td>0.000000</td>\n",
       "    </tr>\n",
       "    <tr>\n",
       "      <th>50%</th>\n",
       "      <td>0.000000</td>\n",
       "      <td>0.000000</td>\n",
       "      <td>0.000000</td>\n",
       "      <td>0.000000</td>\n",
       "      <td>0.000000</td>\n",
       "      <td>0.000000</td>\n",
       "    </tr>\n",
       "    <tr>\n",
       "      <th>75%</th>\n",
       "      <td>0.000000</td>\n",
       "      <td>0.000000</td>\n",
       "      <td>0.000000</td>\n",
       "      <td>0.000000</td>\n",
       "      <td>0.000000</td>\n",
       "      <td>0.000000</td>\n",
       "    </tr>\n",
       "    <tr>\n",
       "      <th>max</th>\n",
       "      <td>1.000000</td>\n",
       "      <td>1.000000</td>\n",
       "      <td>1.000000</td>\n",
       "      <td>1.000000</td>\n",
       "      <td>1.000000</td>\n",
       "      <td>1.000000</td>\n",
       "    </tr>\n",
       "  </tbody>\n",
       "</table>\n",
       "</div>"
      ],
      "text/plain": [
       "               toxic   severe_toxic        obscene         threat  \\\n",
       "count  159571.000000  159571.000000  159571.000000  159571.000000   \n",
       "mean        0.095844       0.009996       0.052948       0.002996   \n",
       "std         0.294379       0.099477       0.223931       0.054650   \n",
       "min         0.000000       0.000000       0.000000       0.000000   \n",
       "25%         0.000000       0.000000       0.000000       0.000000   \n",
       "50%         0.000000       0.000000       0.000000       0.000000   \n",
       "75%         0.000000       0.000000       0.000000       0.000000   \n",
       "max         1.000000       1.000000       1.000000       1.000000   \n",
       "\n",
       "              insult  identity_hate  \n",
       "count  159571.000000  159571.000000  \n",
       "mean        0.049364       0.008805  \n",
       "std         0.216627       0.093420  \n",
       "min         0.000000       0.000000  \n",
       "25%         0.000000       0.000000  \n",
       "50%         0.000000       0.000000  \n",
       "75%         0.000000       0.000000  \n",
       "max         1.000000       1.000000  "
      ]
     },
     "execution_count": 7,
     "metadata": {},
     "output_type": "execute_result"
    }
   ],
   "source": [
    "df.describe()"
   ]
  },
  {
   "cell_type": "code",
   "execution_count": 8,
   "id": "6eb19246",
   "metadata": {
    "execution": {
     "iopub.execute_input": "2025-10-03T14:42:50.551393Z",
     "iopub.status.busy": "2025-10-03T14:42:50.550659Z",
     "iopub.status.idle": "2025-10-03T14:42:50.590996Z",
     "shell.execute_reply": "2025-10-03T14:42:50.590162Z"
    },
    "papermill": {
     "duration": 0.046349,
     "end_time": "2025-10-03T14:42:50.592430",
     "exception": false,
     "start_time": "2025-10-03T14:42:50.546081",
     "status": "completed"
    },
    "tags": []
   },
   "outputs": [
    {
     "data": {
      "text/plain": [
       "id               0\n",
       "comment_text     0\n",
       "toxic            0\n",
       "severe_toxic     0\n",
       "obscene          0\n",
       "threat           0\n",
       "insult           0\n",
       "identity_hate    0\n",
       "dtype: int64"
      ]
     },
     "execution_count": 8,
     "metadata": {},
     "output_type": "execute_result"
    }
   ],
   "source": [
    "df.isnull().sum()"
   ]
  },
  {
   "cell_type": "code",
   "execution_count": 9,
   "id": "66f7b484",
   "metadata": {
    "execution": {
     "iopub.execute_input": "2025-10-03T14:42:50.602134Z",
     "iopub.status.busy": "2025-10-03T14:42:50.601449Z",
     "iopub.status.idle": "2025-10-03T14:42:50.949871Z",
     "shell.execute_reply": "2025-10-03T14:42:50.948855Z"
    },
    "papermill": {
     "duration": 0.354605,
     "end_time": "2025-10-03T14:42:50.951260",
     "exception": false,
     "start_time": "2025-10-03T14:42:50.596655",
     "status": "completed"
    },
    "tags": []
   },
   "outputs": [
    {
     "data": {
      "image/png": "[encoded data removed]",
      "text/plain": [
       "<Figure size 1000x600 with 1 Axes>"
      ]
     },
     "metadata": {},
     "output_type": "display_data"
    }
   ],
   "source": [
    "labels = ['toxic', 'severe_toxic', 'obscene', 'threat', 'insult', 'identity_hate']\n",
    "df[labels].sum().sort_values().plot(kind='barh', figsize=(10,6), color='salmon')\n",
    "plt.title(\"Number of Comments per Label\")\n",
    "plt.xlabel(\"Count\")\n",
    "plt.show()"
   ]
  },
  {
   "cell_type": "code",
   "execution_count": 10,
   "id": "ba9284a4",
   "metadata": {
    "execution": {
     "iopub.execute_input": "2025-10-03T14:42:50.961921Z",
     "iopub.status.busy": "2025-10-03T14:42:50.961615Z",
     "iopub.status.idle": "2025-10-03T14:42:51.122642Z",
     "shell.execute_reply": "2025-10-03T14:42:51.121706Z"
    },
    "papermill": {
     "duration": 0.168542,
     "end_time": "2025-10-03T14:42:51.124123",
     "exception": false,
     "start_time": "2025-10-03T14:42:50.955581",
     "status": "completed"
    },
    "tags": []
   },
   "outputs": [
    {
     "data": {
      "image/png": "[encoded data removed]",
      "text/plain": [
       "<Figure size 640x480 with 1 Axes>"
      ]
     },
     "metadata": {},
     "output_type": "display_data"
    }
   ],
   "source": [
    "df['clean'] = (df[labels].sum(axis=1) == 0)\n",
    "df['clean'].value_counts().plot(kind='bar', color=['green','red'])\n",
    "plt.title(\"Clean vs Toxic Comments\")\n",
    "plt.xticks([0, 1], ['Toxic', 'Clean'], rotation=0)\n",
    "plt.show()"
   ]
  },
  {
   "cell_type": "code",
   "execution_count": 11,
   "id": "011ac54d",
   "metadata": {
    "execution": {
     "iopub.execute_input": "2025-10-03T14:42:51.134582Z",
     "iopub.status.busy": "2025-10-03T14:42:51.134269Z",
     "iopub.status.idle": "2025-10-03T14:42:52.697191Z",
     "shell.execute_reply": "2025-10-03T14:42:52.696062Z"
    },
    "papermill": {
     "duration": 1.569986,
     "end_time": "2025-10-03T14:42:52.698881",
     "exception": false,
     "start_time": "2025-10-03T14:42:51.128895",
     "status": "completed"
    },
    "tags": []
   },
   "outputs": [],
   "source": [
    "import re\n",
    "\n",
    "def clean_text(text):\n",
    "    text = re.sub(r'[^a-zA-Z ]', '', text)\n",
    "    return text.lower()\n",
    "\n",
    "df['comment_text'] = df['comment_text'].fillna('').apply(clean_text)"
   ]
  },
  {
   "cell_type": "code",
   "execution_count": 12,
   "id": "b7613dc7",
   "metadata": {
    "execution": {
     "iopub.execute_input": "2025-10-03T14:42:52.709414Z",
     "iopub.status.busy": "2025-10-03T14:42:52.709116Z",
     "iopub.status.idle": "2025-10-03T14:42:52.989124Z",
     "shell.execute_reply": "2025-10-03T14:42:52.988254Z"
    },
    "papermill": {
     "duration": 0.287012,
     "end_time": "2025-10-03T14:42:52.990757",
     "exception": false,
     "start_time": "2025-10-03T14:42:52.703745",
     "status": "completed"
    },
    "tags": []
   },
   "outputs": [],
   "source": [
    "from sklearn.model_selection import train_test_split\n",
    "\n",
    "X = df['comment_text']\n",
    "y = df[labels]"
   ]
  },
  {
   "cell_type": "code",
   "execution_count": 13,
   "id": "54f68136",
   "metadata": {
    "execution": {
     "iopub.execute_input": "2025-10-03T14:42:53.001832Z",
     "iopub.status.busy": "2025-10-03T14:42:53.001042Z",
     "iopub.status.idle": "2025-10-03T14:42:53.039676Z",
     "shell.execute_reply": "2025-10-03T14:42:53.038804Z"
    },
    "papermill": {
     "duration": 0.045764,
     "end_time": "2025-10-03T14:42:53.041247",
     "exception": false,
     "start_time": "2025-10-03T14:42:52.995483",
     "status": "completed"
    },
    "tags": []
   },
   "outputs": [],
   "source": [
    "X_train, X_test, y_train, y_test = train_test_split(X, y, test_size=0.2, random_state=42)"
   ]
  },
  {
   "cell_type": "code",
   "execution_count": 14,
   "id": "1d65b44f",
   "metadata": {
    "execution": {
     "iopub.execute_input": "2025-10-03T14:42:53.052011Z",
     "iopub.status.busy": "2025-10-03T14:42:53.051641Z",
     "iopub.status.idle": "2025-10-03T14:43:01.395618Z",
     "shell.execute_reply": "2025-10-03T14:43:01.394905Z"
    },
    "papermill": {
     "duration": 8.35101,
     "end_time": "2025-10-03T14:43:01.397128",
     "exception": false,
     "start_time": "2025-10-03T14:42:53.046118",
     "status": "completed"
    },
    "tags": []
   },
   "outputs": [],
   "source": [
    "from sklearn.feature_extraction.text import TfidfVectorizer\n",
    "\n",
    "vectorizer = TfidfVectorizer(max_features=10000)\n",
    "X_train_vec = vectorizer.fit_transform(X_train)\n",
    "X_test_vec = vectorizer.transform(X_test)"
   ]
  },
  {
   "cell_type": "code",
   "execution_count": 15,
   "id": "8f7b2c5a",
   "metadata": {
    "execution": {
     "iopub.execute_input": "2025-10-03T14:43:01.407842Z",
     "iopub.status.busy": "2025-10-03T14:43:01.407470Z",
     "iopub.status.idle": "2025-10-03T14:43:18.586288Z",
     "shell.execute_reply": "2025-10-03T14:43:18.585577Z"
    },
    "papermill": {
     "duration": 17.186609,
     "end_time": "2025-10-03T14:43:18.588605",
     "exception": false,
     "start_time": "2025-10-03T14:43:01.401996",
     "status": "completed"
    },
    "tags": []
   },
   "outputs": [
    {
     "data": {
      "text/html": [
       "<style>#sk-container-id-1 {color: black;background-color: white;}#sk-container-id-1 pre{padding: 0;}#sk-container-id-1 div.sk-toggleable {background-color: white;}#sk-container-id-1 label.sk-toggleable__label {cursor: pointer;display: block;width: 100%;margin-bottom: 0;padding: 0.3em;box-sizing: border-box;text-align: center;}#sk-container-id-1 label.sk-toggleable__label-arrow:before {content: \"▸\";float: left;margin-right: 0.25em;color: #696969;}#sk-container-id-1 label.sk-toggleable__label-arrow:hover:before {color: black;}#sk-container-id-1 div.sk-estimator:hover label.sk-toggleable__label-arrow:before {color: black;}#sk-container-id-1 div.sk-toggleable__content {max-height: 0;max-width: 0;overflow: hidden;text-align: left;background-color: #f0f8ff;}#sk-container-id-1 div.sk-toggleable__content pre {margin: 0.2em;color: black;border-radius: 0.25em;background-color: #f0f8ff;}#sk-container-id-1 input.sk-toggleable__control:checked~div.sk-toggleable__content {max-height: 200px;max-width: 100%;overflow: auto;}#sk-container-id-1 input.sk-toggleable__control:checked~label.sk-toggleable__label-arrow:before {content: \"▾\";}#sk-container-id-1 div.sk-estimator input.sk-toggleable__control:checked~label.sk-toggleable__label {background-color: #d4ebff;}#sk-container-id-1 div.sk-label input.sk-toggleable__control:checked~label.sk-toggleable__label {background-color: #d4ebff;}#sk-container-id-1 input.sk-hidden--visually {border: 0;clip: rect(1px 1px 1px 1px);clip: rect(1px, 1px, 1px, 1px);height: 1px;margin: -1px;overflow: hidden;padding: 0;position: absolute;width: 1px;}#sk-container-id-1 div.sk-estimator {font-family: monospace;background-color: #f0f8ff;border: 1px dotted black;border-radius: 0.25em;box-sizing: border-box;margin-bottom: 0.5em;}#sk-container-id-1 div.sk-estimator:hover {background-color: #d4ebff;}#sk-container-id-1 div.sk-parallel-item::after {content: \"\";width: 100%;border-bottom: 1px solid gray;flex-grow: 1;}#sk-container-id-1 div.sk-label:hover label.sk-toggleable__label {background-color: #d4ebff;}#sk-container-id-1 div.sk-serial::before {content: \"\";position: absolute;border-left: 1px solid gray;box-sizing: border-box;top: 0;bottom: 0;left: 50%;z-index: 0;}#sk-container-id-1 div.sk-serial {display: flex;flex-direction: column;align-items: center;background-color: white;padding-right: 0.2em;padding-left: 0.2em;position: relative;}#sk-container-id-1 div.sk-item {position: relative;z-index: 1;}#sk-container-id-1 div.sk-parallel {display: flex;align-items: stretch;justify-content: center;background-color: white;position: relative;}#sk-container-id-1 div.sk-item::before, #sk-container-id-1 div.sk-parallel-item::before {content: \"\";position: absolute;border-left: 1px solid gray;box-sizing: border-box;top: 0;bottom: 0;left: 50%;z-index: -1;}#sk-container-id-1 div.sk-parallel-item {display: flex;flex-direction: column;z-index: 1;position: relative;background-color: white;}#sk-container-id-1 div.sk-parallel-item:first-child::after {align-self: flex-end;width: 50%;}#sk-container-id-1 div.sk-parallel-item:last-child::after {align-self: flex-start;width: 50%;}#sk-container-id-1 div.sk-parallel-item:only-child::after {width: 0;}#sk-container-id-1 div.sk-dashed-wrapped {border: 1px dashed gray;margin: 0 0.4em 0.5em 0.4em;box-sizing: border-box;padding-bottom: 0.4em;background-color: white;}#sk-container-id-1 div.sk-label label {font-family: monospace;font-weight: bold;display: inline-block;line-height: 1.2em;}#sk-container-id-1 div.sk-label-container {text-align: center;}#sk-container-id-1 div.sk-container {/* jupyter's `normalize.less` sets `[hidden] { display: none; }` but bootstrap.min.css set `[hidden] { display: none !important; }` so we also need the `!important` here to be able to override the default hidden behavior on the sphinx rendered scikit-learn.org. See: https://github.com/scikit-learn/scikit-learn/issues/21755 */display: inline-block !important;position: relative;}#sk-container-id-1 div.sk-text-repr-fallback {display: none;}</style><div id=\"sk-container-id-1\" class=\"sk-top-container\"><div class=\"sk-text-repr-fallback\"><pre>OneVsRestClassifier(estimator=LogisticRegression(max_iter=200))</pre><b>In a Jupyter environment, please rerun this cell to show the HTML representation or trust the notebook. <br />On GitHub, the HTML representation is unable to render, please try loading this page with nbviewer.org.</b></div><div class=\"sk-container\" hidden><div class=\"sk-item sk-dashed-wrapped\"><div class=\"sk-label-container\"><div class=\"sk-label sk-toggleable\"><input class=\"sk-toggleable__control sk-hidden--visually\" id=\"sk-estimator-id-1\" type=\"checkbox\" ><label for=\"sk-estimator-id-1\" class=\"sk-toggleable__label sk-toggleable__label-arrow\">OneVsRestClassifier</label><div class=\"sk-toggleable__content\"><pre>OneVsRestClassifier(estimator=LogisticRegression(max_iter=200))</pre></div></div></div><div class=\"sk-parallel\"><div class=\"sk-parallel-item\"><div class=\"sk-item\"><div class=\"sk-label-container\"><div class=\"sk-label sk-toggleable\"><input class=\"sk-toggleable__control sk-hidden--visually\" id=\"sk-estimator-id-2\" type=\"checkbox\" ><label for=\"sk-estimator-id-2\" class=\"sk-toggleable__label sk-toggleable__label-arrow\">estimator: LogisticRegression</label><div class=\"sk-toggleable__content\"><pre>LogisticRegression(max_iter=200)</pre></div></div></div><div class=\"sk-serial\"><div class=\"sk-item\"><div class=\"sk-estimator sk-toggleable\"><input class=\"sk-toggleable__control sk-hidden--visually\" id=\"sk-estimator-id-3\" type=\"checkbox\" ><label for=\"sk-estimator-id-3\" class=\"sk-toggleable__label sk-toggleable__label-arrow\">LogisticRegression</label><div class=\"sk-toggleable__content\"><pre>LogisticRegression(max_iter=200)</pre></div></div></div></div></div></div></div></div></div></div>"
      ],
      "text/plain": [
       "OneVsRestClassifier(estimator=LogisticRegression(max_iter=200))"
      ]
     },
     "execution_count": 15,
     "metadata": {},
     "output_type": "execute_result"
    }
   ],
   "source": [
    "from sklearn.linear_model import LogisticRegression\n",
    "from sklearn.multiclass import OneVsRestClassifier\n",
    "\n",
    "model = OneVsRestClassifier(LogisticRegression(max_iter=200))\n",
    "model.fit(X_train_vec, y_train)"
   ]
  },
  {
   "cell_type": "code",
   "execution_count": 16,
   "id": "d79f48c4",
   "metadata": {
    "execution": {
     "iopub.execute_input": "2025-10-03T14:43:18.605930Z",
     "iopub.status.busy": "2025-10-03T14:43:18.605488Z",
     "iopub.status.idle": "2025-10-03T14:43:18.872058Z",
     "shell.execute_reply": "2025-10-03T14:43:18.870944Z"
    },
    "papermill": {
     "duration": 0.276729,
     "end_time": "2025-10-03T14:43:18.873480",
     "exception": false,
     "start_time": "2025-10-03T14:43:18.596751",
     "status": "completed"
    },
    "tags": []
   },
   "outputs": [
    {
     "name": "stdout",
     "output_type": "stream",
     "text": [
      "\n",
      "Label: toxic\n",
      "              precision    recall  f1-score   support\n",
      "\n",
      "           0       0.96      0.99      0.98     28859\n",
      "           1       0.90      0.61      0.73      3056\n",
      "\n",
      "    accuracy                           0.96     31915\n",
      "   macro avg       0.93      0.80      0.85     31915\n",
      "weighted avg       0.95      0.96      0.95     31915\n",
      "\n",
      "\n",
      "Label: severe_toxic\n",
      "              precision    recall  f1-score   support\n",
      "\n",
      "           0       0.99      1.00      1.00     31594\n",
      "           1       0.58      0.22      0.32       321\n",
      "\n",
      "    accuracy                           0.99     31915\n",
      "   macro avg       0.78      0.61      0.66     31915\n",
      "weighted avg       0.99      0.99      0.99     31915\n",
      "\n",
      "\n",
      "Label: obscene\n",
      "              precision    recall  f1-score   support\n",
      "\n",
      "           0       0.98      1.00      0.99     30200\n",
      "           1       0.91      0.61      0.73      1715\n",
      "\n",
      "    accuracy                           0.98     31915\n",
      "   macro avg       0.94      0.80      0.86     31915\n",
      "weighted avg       0.97      0.98      0.97     31915\n",
      "\n",
      "\n",
      "Label: threat\n",
      "              precision    recall  f1-score   support\n",
      "\n",
      "           0       1.00      1.00      1.00     31841\n",
      "           1       0.71      0.16      0.26        74\n",
      "\n",
      "    accuracy                           1.00     31915\n",
      "   macro avg       0.85      0.58      0.63     31915\n",
      "weighted avg       1.00      1.00      1.00     31915\n",
      "\n",
      "\n",
      "Label: insult\n",
      "              precision    recall  f1-score   support\n",
      "\n",
      "           0       0.97      0.99      0.98     30301\n",
      "           1       0.83      0.51      0.63      1614\n",
      "\n",
      "    accuracy                           0.97     31915\n",
      "   macro avg       0.90      0.75      0.81     31915\n",
      "weighted avg       0.97      0.97      0.97     31915\n",
      "\n",
      "\n",
      "Label: identity_hate\n",
      "              precision    recall  f1-score   support\n",
      "\n",
      "           0       0.99      1.00      1.00     31621\n",
      "           1       0.74      0.14      0.24       294\n",
      "\n",
      "    accuracy                           0.99     31915\n",
      "   macro avg       0.86      0.57      0.62     31915\n",
      "weighted avg       0.99      0.99      0.99     31915\n",
      "\n"
     ]
    }
   ],
   "source": [
    "from sklearn.metrics import classification_report, accuracy_score\n",
    "\n",
    "y_pred = model.predict(X_test_vec)\n",
    "\n",
    "for i, label in enumerate(labels):\n",
    "    print(f\"\\nLabel: {label}\")\n",
    "    print(classification_report(y_test[label], y_pred[:, i]))"
   ]
  },
  {
   "cell_type": "code",
   "execution_count": 17,
   "id": "de81b1b2",
   "metadata": {
    "execution": {
     "iopub.execute_input": "2025-10-03T14:43:18.884947Z",
     "iopub.status.busy": "2025-10-03T14:43:18.884294Z",
     "iopub.status.idle": "2025-10-03T14:43:18.893559Z",
     "shell.execute_reply": "2025-10-03T14:43:18.892390Z"
    },
    "papermill": {
     "duration": 0.016612,
     "end_time": "2025-10-03T14:43:18.895323",
     "exception": false,
     "start_time": "2025-10-03T14:43:18.878711",
     "status": "completed"
    },
    "tags": []
   },
   "outputs": [
    {
     "data": {
      "text/plain": [
       "array([[1, 0, 0, 0, 1, 0]])"
      ]
     },
     "execution_count": 17,
     "metadata": {},
     "output_type": "execute_result"
    }
   ],
   "source": [
    "comment = [\"You are the worst. I hate you!\"]\n",
    "comment_clean = [clean_text(comment[0])]\n",
    "vec = vectorizer.transform(comment_clean)\n",
    "model.predict(vec)"
   ]
  }
 ],
 "metadata": {
  "kaggle": {
   "accelerator": "none",
   "dataSources": [
    {
     "datasetId": 1709138,
     "sourceId": 2798066,
     "sourceType": "datasetVersion"
    }
   ],
   "dockerImageVersionId": 31089,
   "isGpuEnabled": false,
   "isInternetEnabled": true,
   "language": "python",
   "sourceType": "notebook"
  },
  "kernelspec": {
   "display_name": "Python 3",
   "language": "python",
   "name": "python3"
  },
  "language_info": {
   "codemirror_mode": {
    "name": "ipython",
    "version": 3
   },
   "file_extension": ".py",
   "mimetype": "text/x-python",
   "name": "python",
   "nbconvert_exporter": "python",
   "pygments_lexer": "ipython3",
   "version": "3.11.13"
  },
  "papermill": {
   "default_parameters": {},
   "duration": 40.223991,
   "end_time": "2025-10-03T14:43:19.619355",
   "environment_variables": {},
   "exception": null,
   "input_path": "__notebook__.ipynb",
   "output_path": "__notebook__.ipynb",
   "parameters": {},
   "start_time": "2025-10-03T14:42:39.395364",
   "version": "2.6.0"
  }
 },
 "nbformat": 4,
 "nbformat_minor": 5
}
