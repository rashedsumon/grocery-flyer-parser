{
 "cells": [
  {
   "cell_type": "code",
   "execution_count": 1,
   "id": "30174da1",
   "metadata": {
    "_cell_guid": "b1076dfc-b9ad-4769-8c92-a6c4dae69d19",
    "_uuid": "8f2839f25d086af736a60e9eeb907d3b93b6e0e5",
    "execution": {
     "iopub.execute_input": "2025-10-03T13:23:55.722874Z",
     "iopub.status.busy": "2025-10-03T13:23:55.722559Z",
     "iopub.status.idle": "2025-10-03T13:23:57.864720Z",
     "shell.execute_reply": "2025-10-03T13:23:57.863566Z"
    },
    "papermill": {
     "duration": 2.148783,
     "end_time": "2025-10-03T13:23:57.866277",
     "exception": false,
     "start_time": "2025-10-03T13:23:55.717494",
     "status": "completed"
    },
    "tags": []
   },
   "outputs": [
    {
     "name": "stdout",
     "output_type": "stream",
     "text": [
      "/kaggle/input/mental-health-counseling-conversations-k/combined_dataset.json\n",
      "/kaggle/input/mental-health-counseling-conversations-k/archive/counsel_chat2.csv\n",
      "/kaggle/input/mental-health-counseling-conversations-k/archive/counselchat-data.csv\n",
      "/kaggle/input/mental-health-counseling-conversations-k/archive/Dataset.csv\n"
     ]
    }
   ],
   "source": [
    "# This Python 3 environment comes with many helpful analytics libraries installed\n",
    "# It is defined by the kaggle/python Docker image: https://github.com/kaggle/docker-python\n",
    "# For example, here's several helpful packages to load\n",
    "\n",
    "import numpy as np # linear algebra\n",
    "import pandas as pd # data processing, CSV file I/O (e.g. pd.read_csv)\n",
    "\n",
    "# Input data files are available in the read-only \"../input/\" directory\n",
    "# For example, running this (by clicking run or pressing Shift+Enter) will list all files under the input directory\n",
    "\n",
    "import os\n",
    "for dirname, _, filenames in os.walk('/kaggle/input'):\n",
    "    for filename in filenames:\n",
    "        print(os.path.join(dirname, filename))\n",
    "\n",
    "# You can write up to 20GB to the current directory (/kaggle/working/) that gets preserved as output when you create a version using \"Save & Run All\" \n",
    "# You can also write temporary files to /kaggle/temp/, but they won't be saved outside of the current session"
   ]
  },
  {
   "cell_type": "code",
   "execution_count": 2,
   "id": "341d03ed",
   "metadata": {
    "execution": {
     "iopub.execute_input": "2025-10-03T13:23:57.874546Z",
     "iopub.status.busy": "2025-10-03T13:23:57.874120Z",
     "iopub.status.idle": "2025-10-03T13:23:57.879704Z",
     "shell.execute_reply": "2025-10-03T13:23:57.878699Z"
    },
    "papermill": {
     "duration": 0.011369,
     "end_time": "2025-10-03T13:23:57.881280",
     "exception": false,
     "start_time": "2025-10-03T13:23:57.869911",
     "status": "completed"
    },
    "tags": []
   },
   "outputs": [],
   "source": [
    "import warnings\n",
    "warnings.filterwarnings(\"ignore\")"
   ]
  },
  {
   "cell_type": "code",
   "execution_count": 3,
   "id": "b4f5f9e1",
   "metadata": {
    "execution": {
     "iopub.execute_input": "2025-10-03T13:23:57.889461Z",
     "iopub.status.busy": "2025-10-03T13:23:57.889151Z",
     "iopub.status.idle": "2025-10-03T13:24:00.377337Z",
     "shell.execute_reply": "2025-10-03T13:24:00.376191Z"
    },
    "papermill": {
     "duration": 2.494134,
     "end_time": "2025-10-03T13:24:00.379046",
     "exception": false,
     "start_time": "2025-10-03T13:23:57.884912",
     "status": "completed"
    },
    "tags": []
   },
   "outputs": [],
   "source": [
    "import pandas as pd\n",
    "import seaborn as sns\n",
    "import matplotlib.pyplot as plt\n",
    "from sklearn.model_selection import train_test_split\n",
    "from sklearn.feature_extraction.text import TfidfVectorizer\n",
    "from sklearn.linear_model import LogisticRegression\n",
    "from sklearn.metrics import classification_report, ConfusionMatrixDisplay"
   ]
  },
  {
   "cell_type": "code",
   "execution_count": 4,
   "id": "ccd3af8a",
   "metadata": {
    "execution": {
     "iopub.execute_input": "2025-10-03T13:24:00.387307Z",
     "iopub.status.busy": "2025-10-03T13:24:00.386836Z",
     "iopub.status.idle": "2025-10-03T13:24:00.515257Z",
     "shell.execute_reply": "2025-10-03T13:24:00.514179Z"
    },
    "papermill": {
     "duration": 0.134431,
     "end_time": "2025-10-03T13:24:00.516977",
     "exception": false,
     "start_time": "2025-10-03T13:24:00.382546",
     "status": "completed"
    },
    "tags": []
   },
   "outputs": [
    {
     "data": {
      "text/html": [
       "<div>\n",
       "<style scoped>\n",
       "    .dataframe tbody tr th:only-of-type {\n",
       "        vertical-align: middle;\n",
       "    }\n",
       "\n",
       "    .dataframe tbody tr th {\n",
       "        vertical-align: top;\n",
       "    }\n",
       "\n",
       "    .dataframe thead th {\n",
       "        text-align: right;\n",
       "    }\n",
       "</style>\n",
       "<table border=\"1\" class=\"dataframe\">\n",
       "  <thead>\n",
       "    <tr style=\"text-align: right;\">\n",
       "      <th></th>\n",
       "      <th>questionID</th>\n",
       "      <th>questionTitle</th>\n",
       "      <th>questionText</th>\n",
       "      <th>questionUrl</th>\n",
       "      <th>topics</th>\n",
       "      <th>therapistName</th>\n",
       "      <th>therapistUrl</th>\n",
       "      <th>answerText</th>\n",
       "      <th>upvotes</th>\n",
       "    </tr>\n",
       "  </thead>\n",
       "  <tbody>\n",
       "    <tr>\n",
       "      <th>0</th>\n",
       "      <td>5566fab2a64752d71ec3ca69</td>\n",
       "      <td>Escalating disagreements between mother and wife</td>\n",
       "      <td>My wife and mother are having tense disagreeme...</td>\n",
       "      <td>https://counselchat.com/questions/escalating-d...</td>\n",
       "      <td>Family Conflict</td>\n",
       "      <td>Kristi King-Morgan, LMSW</td>\n",
       "      <td>https://counselchat.com/therapists/kristi-king...</td>\n",
       "      <td>&lt;p&gt;What you are describing is something psycho...</td>\n",
       "      <td>0</td>\n",
       "    </tr>\n",
       "    <tr>\n",
       "      <th>1</th>\n",
       "      <td>5566f94fa64752d71ec3ca64</td>\n",
       "      <td>I'm addicted to smoking. How can I stop?</td>\n",
       "      <td>I'm planning to have baby, so I have to quit s...</td>\n",
       "      <td>https://counselchat.com/questions/i-m-addicted...</td>\n",
       "      <td>Substance Abuse,Addiction</td>\n",
       "      <td>Rebecca Duellman</td>\n",
       "      <td>https://counselchat.com/therapists/rebecca-due...</td>\n",
       "      <td>&lt;p&gt;Hi. Good for you in planning ahead to do wh...</td>\n",
       "      <td>0</td>\n",
       "    </tr>\n",
       "    <tr>\n",
       "      <th>2</th>\n",
       "      <td>5567d26887a1cc0c3f3d8f46</td>\n",
       "      <td>Keeping secrets from my family</td>\n",
       "      <td>I have secrets in my mind, and I don't know wh...</td>\n",
       "      <td>https://counselchat.com/questions/keeping-secr...</td>\n",
       "      <td>Family Conflict</td>\n",
       "      <td>Jeevna Bajaj</td>\n",
       "      <td>https://counselchat.com/therapists/jeevna-bajaj</td>\n",
       "      <td>&lt;p&gt;It sounds like keeping the secrets has beco...</td>\n",
       "      <td>0</td>\n",
       "    </tr>\n",
       "    <tr>\n",
       "      <th>3</th>\n",
       "      <td>556bed15c969ba5861709df5</td>\n",
       "      <td>The Underlying Causes of Being Possessive</td>\n",
       "      <td>I am extremely possessive in my relationships ...</td>\n",
       "      <td>https://counselchat.com/questions/the-underlyi...</td>\n",
       "      <td>Behavioral Change,Social Relationships</td>\n",
       "      <td>Rebecca Duellman</td>\n",
       "      <td>https://counselchat.com/therapists/rebecca-due...</td>\n",
       "      <td>&lt;p&gt;Hi there. It's great you are able to realiz...</td>\n",
       "      <td>0</td>\n",
       "    </tr>\n",
       "    <tr>\n",
       "      <th>4</th>\n",
       "      <td>556ba115c969ba5861709de6</td>\n",
       "      <td>Can I control anxiety without medication?</td>\n",
       "      <td>I had a head injury a few years ago and my min...</td>\n",
       "      <td>https://counselchat.com/questions/can-i-contro...</td>\n",
       "      <td>Anxiety</td>\n",
       "      <td>Rebecca Duellman</td>\n",
       "      <td>https://counselchat.com/therapists/rebecca-due...</td>\n",
       "      <td>&lt;p&gt;You didn't say what or how many medications...</td>\n",
       "      <td>0</td>\n",
       "    </tr>\n",
       "  </tbody>\n",
       "</table>\n",
       "</div>"
      ],
      "text/plain": [
       "                 questionID                                     questionTitle  \\\n",
       "0  5566fab2a64752d71ec3ca69  Escalating disagreements between mother and wife   \n",
       "1  5566f94fa64752d71ec3ca64          I'm addicted to smoking. How can I stop?   \n",
       "2  5567d26887a1cc0c3f3d8f46                    Keeping secrets from my family   \n",
       "3  556bed15c969ba5861709df5         The Underlying Causes of Being Possessive   \n",
       "4  556ba115c969ba5861709de6         Can I control anxiety without medication?   \n",
       "\n",
       "                                        questionText  \\\n",
       "0  My wife and mother are having tense disagreeme...   \n",
       "1  I'm planning to have baby, so I have to quit s...   \n",
       "2  I have secrets in my mind, and I don't know wh...   \n",
       "3  I am extremely possessive in my relationships ...   \n",
       "4  I had a head injury a few years ago and my min...   \n",
       "\n",
       "                                         questionUrl  \\\n",
       "0  https://counselchat.com/questions/escalating-d...   \n",
       "1  https://counselchat.com/questions/i-m-addicted...   \n",
       "2  https://counselchat.com/questions/keeping-secr...   \n",
       "3  https://counselchat.com/questions/the-underlyi...   \n",
       "4  https://counselchat.com/questions/can-i-contro...   \n",
       "\n",
       "                                   topics             therapistName  \\\n",
       "0                         Family Conflict  Kristi King-Morgan, LMSW   \n",
       "1               Substance Abuse,Addiction          Rebecca Duellman   \n",
       "2                         Family Conflict              Jeevna Bajaj   \n",
       "3  Behavioral Change,Social Relationships          Rebecca Duellman   \n",
       "4                                 Anxiety          Rebecca Duellman   \n",
       "\n",
       "                                        therapistUrl  \\\n",
       "0  https://counselchat.com/therapists/kristi-king...   \n",
       "1  https://counselchat.com/therapists/rebecca-due...   \n",
       "2    https://counselchat.com/therapists/jeevna-bajaj   \n",
       "3  https://counselchat.com/therapists/rebecca-due...   \n",
       "4  https://counselchat.com/therapists/rebecca-due...   \n",
       "\n",
       "                                          answerText  upvotes  \n",
       "0  <p>What you are describing is something psycho...        0  \n",
       "1  <p>Hi. Good for you in planning ahead to do wh...        0  \n",
       "2  <p>It sounds like keeping the secrets has beco...        0  \n",
       "3  <p>Hi there. It's great you are able to realiz...        0  \n",
       "4  <p>You didn't say what or how many medications...        0  "
      ]
     },
     "execution_count": 4,
     "metadata": {},
     "output_type": "execute_result"
    }
   ],
   "source": [
    "df = pd.read_csv('/kaggle/input/mental-health-counseling-conversations-k/archive/counselchat-data.csv')\n",
    "df.head()"
   ]
  },
  {
   "cell_type": "code",
   "execution_count": 5,
   "id": "17a9062f",
   "metadata": {
    "execution": {
     "iopub.execute_input": "2025-10-03T13:24:00.525481Z",
     "iopub.status.busy": "2025-10-03T13:24:00.525166Z",
     "iopub.status.idle": "2025-10-03T13:24:00.533253Z",
     "shell.execute_reply": "2025-10-03T13:24:00.532150Z"
    },
    "papermill": {
     "duration": 0.014399,
     "end_time": "2025-10-03T13:24:00.535149",
     "exception": false,
     "start_time": "2025-10-03T13:24:00.520750",
     "status": "completed"
    },
    "tags": []
   },
   "outputs": [
    {
     "data": {
      "text/plain": [
       "Index(['questionID', 'questionTitle', 'questionText', 'questionUrl', 'topics',\n",
       "       'therapistName', 'therapistUrl', 'answerText', 'upvotes'],\n",
       "      dtype='object')"
      ]
     },
     "execution_count": 5,
     "metadata": {},
     "output_type": "execute_result"
    }
   ],
   "source": [
    "df.columns"
   ]
  },
  {
   "cell_type": "code",
   "execution_count": 6,
   "id": "b9b05447",
   "metadata": {
    "execution": {
     "iopub.execute_input": "2025-10-03T13:24:00.543923Z",
     "iopub.status.busy": "2025-10-03T13:24:00.543557Z",
     "iopub.status.idle": "2025-10-03T13:24:00.548949Z",
     "shell.execute_reply": "2025-10-03T13:24:00.548165Z"
    },
    "papermill": {
     "duration": 0.011392,
     "end_time": "2025-10-03T13:24:00.550395",
     "exception": false,
     "start_time": "2025-10-03T13:24:00.539003",
     "status": "completed"
    },
    "tags": []
   },
   "outputs": [
    {
     "name": "stdout",
     "output_type": "stream",
     "text": [
      "(1482, 9)\n"
     ]
    }
   ],
   "source": [
    "print(df.shape)          # rows, columns"
   ]
  },
  {
   "cell_type": "code",
   "execution_count": 7,
   "id": "d1c88fe3",
   "metadata": {
    "execution": {
     "iopub.execute_input": "2025-10-03T13:24:00.558974Z",
     "iopub.status.busy": "2025-10-03T13:24:00.558638Z",
     "iopub.status.idle": "2025-10-03T13:24:00.584212Z",
     "shell.execute_reply": "2025-10-03T13:24:00.583143Z"
    },
    "papermill": {
     "duration": 0.031654,
     "end_time": "2025-10-03T13:24:00.585854",
     "exception": false,
     "start_time": "2025-10-03T13:24:00.554200",
     "status": "completed"
    },
    "tags": []
   },
   "outputs": [
    {
     "name": "stdout",
     "output_type": "stream",
     "text": [
      "<class 'pandas.core.frame.DataFrame'>\n",
      "RangeIndex: 1482 entries, 0 to 1481\n",
      "Data columns (total 9 columns):\n",
      " #   Column         Non-Null Count  Dtype \n",
      "---  ------         --------------  ----- \n",
      " 0   questionID     1482 non-null   object\n",
      " 1   questionTitle  1480 non-null   object\n",
      " 2   questionText   1383 non-null   object\n",
      " 3   questionUrl    1482 non-null   object\n",
      " 4   topics         1472 non-null   object\n",
      " 5   therapistName  1482 non-null   object\n",
      " 6   therapistUrl   1482 non-null   object\n",
      " 7   answerText     1482 non-null   object\n",
      " 8   upvotes        1482 non-null   int64 \n",
      "dtypes: int64(1), object(8)\n",
      "memory usage: 104.3+ KB\n"
     ]
    }
   ],
   "source": [
    "df.info()                # nulls, types"
   ]
  },
  {
   "cell_type": "code",
   "execution_count": 8,
   "id": "74568ed9",
   "metadata": {
    "execution": {
     "iopub.execute_input": "2025-10-03T13:24:00.594702Z",
     "iopub.status.busy": "2025-10-03T13:24:00.594356Z",
     "iopub.status.idle": "2025-10-03T13:24:00.624136Z",
     "shell.execute_reply": "2025-10-03T13:24:00.623138Z"
    },
    "papermill": {
     "duration": 0.036185,
     "end_time": "2025-10-03T13:24:00.625802",
     "exception": false,
     "start_time": "2025-10-03T13:24:00.589617",
     "status": "completed"
    },
    "tags": []
   },
   "outputs": [
    {
     "data": {
      "text/html": [
       "<div>\n",
       "<style scoped>\n",
       "    .dataframe tbody tr th:only-of-type {\n",
       "        vertical-align: middle;\n",
       "    }\n",
       "\n",
       "    .dataframe tbody tr th {\n",
       "        vertical-align: top;\n",
       "    }\n",
       "\n",
       "    .dataframe thead th {\n",
       "        text-align: right;\n",
       "    }\n",
       "</style>\n",
       "<table border=\"1\" class=\"dataframe\">\n",
       "  <thead>\n",
       "    <tr style=\"text-align: right;\">\n",
       "      <th></th>\n",
       "      <th>questionID</th>\n",
       "      <th>questionTitle</th>\n",
       "      <th>questionText</th>\n",
       "      <th>questionUrl</th>\n",
       "      <th>topics</th>\n",
       "      <th>therapistName</th>\n",
       "      <th>therapistUrl</th>\n",
       "      <th>answerText</th>\n",
       "    </tr>\n",
       "  </thead>\n",
       "  <tbody>\n",
       "    <tr>\n",
       "      <th>count</th>\n",
       "      <td>1482</td>\n",
       "      <td>1480</td>\n",
       "      <td>1383</td>\n",
       "      <td>1482</td>\n",
       "      <td>1472</td>\n",
       "      <td>1482</td>\n",
       "      <td>1482</td>\n",
       "      <td>1482</td>\n",
       "    </tr>\n",
       "    <tr>\n",
       "      <th>unique</th>\n",
       "      <td>781</td>\n",
       "      <td>774</td>\n",
       "      <td>718</td>\n",
       "      <td>780</td>\n",
       "      <td>288</td>\n",
       "      <td>159</td>\n",
       "      <td>160</td>\n",
       "      <td>1478</td>\n",
       "    </tr>\n",
       "    <tr>\n",
       "      <th>top</th>\n",
       "      <td>579e400d188cd61c1684e835</td>\n",
       "      <td>Is it normal to go into therapy feeling nervous?</td>\n",
       "      <td>I've gone to a couple therapy sessions so far ...</td>\n",
       "      <td>https://counselchat.com/questions/is-it-normal...</td>\n",
       "      <td>Relationships</td>\n",
       "      <td>Sherry Katz, LCSW</td>\n",
       "      <td>https://counselchat.com/therapists/sherry-katz...</td>\n",
       "      <td>&lt;p&gt;&lt;br&gt;&lt;/p&gt;</td>\n",
       "    </tr>\n",
       "    <tr>\n",
       "      <th>freq</th>\n",
       "      <td>22</td>\n",
       "      <td>22</td>\n",
       "      <td>22</td>\n",
       "      <td>22</td>\n",
       "      <td>116</td>\n",
       "      <td>275</td>\n",
       "      <td>275</td>\n",
       "      <td>5</td>\n",
       "    </tr>\n",
       "  </tbody>\n",
       "</table>\n",
       "</div>"
      ],
      "text/plain": [
       "                      questionID  \\\n",
       "count                       1482   \n",
       "unique                       781   \n",
       "top     579e400d188cd61c1684e835   \n",
       "freq                          22   \n",
       "\n",
       "                                           questionTitle  \\\n",
       "count                                               1480   \n",
       "unique                                               774   \n",
       "top     Is it normal to go into therapy feeling nervous?   \n",
       "freq                                                  22   \n",
       "\n",
       "                                             questionText  \\\n",
       "count                                                1383   \n",
       "unique                                                718   \n",
       "top     I've gone to a couple therapy sessions so far ...   \n",
       "freq                                                   22   \n",
       "\n",
       "                                              questionUrl         topics  \\\n",
       "count                                                1482           1472   \n",
       "unique                                                780            288   \n",
       "top     https://counselchat.com/questions/is-it-normal...  Relationships   \n",
       "freq                                                   22            116   \n",
       "\n",
       "            therapistName                                       therapistUrl  \\\n",
       "count                1482                                               1482   \n",
       "unique                159                                                160   \n",
       "top     Sherry Katz, LCSW  https://counselchat.com/therapists/sherry-katz...   \n",
       "freq                  275                                                275   \n",
       "\n",
       "         answerText  \n",
       "count          1482  \n",
       "unique         1478  \n",
       "top     <p><br></p>  \n",
       "freq              5  "
      ]
     },
     "execution_count": 8,
     "metadata": {},
     "output_type": "execute_result"
    }
   ],
   "source": [
    "df.describe(include='object')  # text-based stats"
   ]
  },
  {
   "cell_type": "code",
   "execution_count": 9,
   "id": "3df48a2c",
   "metadata": {
    "execution": {
     "iopub.execute_input": "2025-10-03T13:24:00.635378Z",
     "iopub.status.busy": "2025-10-03T13:24:00.634784Z",
     "iopub.status.idle": "2025-10-03T13:24:00.652102Z",
     "shell.execute_reply": "2025-10-03T13:24:00.651141Z"
    },
    "papermill": {
     "duration": 0.023919,
     "end_time": "2025-10-03T13:24:00.653905",
     "exception": false,
     "start_time": "2025-10-03T13:24:00.629986",
     "status": "completed"
    },
    "tags": []
   },
   "outputs": [
    {
     "data": {
      "text/html": [
       "<div>\n",
       "<style scoped>\n",
       "    .dataframe tbody tr th:only-of-type {\n",
       "        vertical-align: middle;\n",
       "    }\n",
       "\n",
       "    .dataframe tbody tr th {\n",
       "        vertical-align: top;\n",
       "    }\n",
       "\n",
       "    .dataframe thead th {\n",
       "        text-align: right;\n",
       "    }\n",
       "</style>\n",
       "<table border=\"1\" class=\"dataframe\">\n",
       "  <thead>\n",
       "    <tr style=\"text-align: right;\">\n",
       "      <th></th>\n",
       "      <th>questionText</th>\n",
       "      <th>main_topic</th>\n",
       "    </tr>\n",
       "  </thead>\n",
       "  <tbody>\n",
       "    <tr>\n",
       "      <th>0</th>\n",
       "      <td>My wife and mother are having tense disagreeme...</td>\n",
       "      <td>Family Conflict</td>\n",
       "    </tr>\n",
       "    <tr>\n",
       "      <th>1</th>\n",
       "      <td>I'm planning to have baby, so I have to quit s...</td>\n",
       "      <td>Substance Abuse</td>\n",
       "    </tr>\n",
       "    <tr>\n",
       "      <th>2</th>\n",
       "      <td>I have secrets in my mind, and I don't know wh...</td>\n",
       "      <td>Family Conflict</td>\n",
       "    </tr>\n",
       "    <tr>\n",
       "      <th>3</th>\n",
       "      <td>I am extremely possessive in my relationships ...</td>\n",
       "      <td>Behavioral Change</td>\n",
       "    </tr>\n",
       "    <tr>\n",
       "      <th>4</th>\n",
       "      <td>I had a head injury a few years ago and my min...</td>\n",
       "      <td>Anxiety</td>\n",
       "    </tr>\n",
       "  </tbody>\n",
       "</table>\n",
       "</div>"
      ],
      "text/plain": [
       "                                        questionText         main_topic\n",
       "0  My wife and mother are having tense disagreeme...    Family Conflict\n",
       "1  I'm planning to have baby, so I have to quit s...    Substance Abuse\n",
       "2  I have secrets in my mind, and I don't know wh...    Family Conflict\n",
       "3  I am extremely possessive in my relationships ...  Behavioral Change\n",
       "4  I had a head injury a few years ago and my min...            Anxiety"
      ]
     },
     "execution_count": 9,
     "metadata": {},
     "output_type": "execute_result"
    }
   ],
   "source": [
    "df = df[['questionText', 'topics']].dropna()\n",
    "df['main_topic'] = df['topics'].apply(lambda x: x.split(',')[0])\n",
    "df = df[['questionText', 'main_topic']]\n",
    "df.head()"
   ]
  },
  {
   "cell_type": "code",
   "execution_count": 10,
   "id": "5429005b",
   "metadata": {
    "execution": {
     "iopub.execute_input": "2025-10-03T13:24:00.663440Z",
     "iopub.status.busy": "2025-10-03T13:24:00.663107Z",
     "iopub.status.idle": "2025-10-03T13:24:01.103140Z",
     "shell.execute_reply": "2025-10-03T13:24:01.102077Z"
    },
    "papermill": {
     "duration": 0.446828,
     "end_time": "2025-10-03T13:24:01.104863",
     "exception": false,
     "start_time": "2025-10-03T13:24:00.658035",
     "status": "completed"
    },
    "tags": []
   },
   "outputs": [
    {
     "data": {
      "image/png": "[encoded data removed]",
      "text/plain": [
       "<Figure size 1000x400 with 1 Axes>"
      ]
     },
     "metadata": {},
     "output_type": "display_data"
    }
   ],
   "source": [
    "plt.figure(figsize=(10,4))\n",
    "df['main_topic'].value_counts().head(10).plot(kind='bar', color='skyblue')\n",
    "plt.title('Top 10 Counseling Topics')\n",
    "plt.xlabel('Topic'); plt.ylabel('Number of Questions'); plt.xticks(rotation=45)\n",
    "plt.tight_layout(); plt.show()"
   ]
  },
  {
   "cell_type": "code",
   "execution_count": 11,
   "id": "c668f9d0",
   "metadata": {
    "execution": {
     "iopub.execute_input": "2025-10-03T13:24:01.118801Z",
     "iopub.status.busy": "2025-10-03T13:24:01.118083Z",
     "iopub.status.idle": "2025-10-03T13:24:01.122767Z",
     "shell.execute_reply": "2025-10-03T13:24:01.122045Z"
    },
    "papermill": {
     "duration": 0.013627,
     "end_time": "2025-10-03T13:24:01.124686",
     "exception": false,
     "start_time": "2025-10-03T13:24:01.111059",
     "status": "completed"
    },
    "tags": []
   },
   "outputs": [],
   "source": [
    "X = df['questionText']\n",
    "y = df['main_topic']"
   ]
  },
  {
   "cell_type": "code",
   "execution_count": 12,
   "id": "5db6bdfe",
   "metadata": {
    "execution": {
     "iopub.execute_input": "2025-10-03T13:24:01.135528Z",
     "iopub.status.busy": "2025-10-03T13:24:01.135248Z",
     "iopub.status.idle": "2025-10-03T13:24:01.143052Z",
     "shell.execute_reply": "2025-10-03T13:24:01.142055Z"
    },
    "papermill": {
     "duration": 0.015159,
     "end_time": "2025-10-03T13:24:01.144700",
     "exception": false,
     "start_time": "2025-10-03T13:24:01.129541",
     "status": "completed"
    },
    "tags": []
   },
   "outputs": [],
   "source": [
    "X_train, X_test, y_train, y_test = train_test_split(X, y, test_size=0.2, random_state=42)"
   ]
  },
  {
   "cell_type": "code",
   "execution_count": 13,
   "id": "f3cebf05",
   "metadata": {
    "execution": {
     "iopub.execute_input": "2025-10-03T13:24:01.155716Z",
     "iopub.status.busy": "2025-10-03T13:24:01.155316Z",
     "iopub.status.idle": "2025-10-03T13:24:01.249774Z",
     "shell.execute_reply": "2025-10-03T13:24:01.249038Z"
    },
    "papermill": {
     "duration": 0.101814,
     "end_time": "2025-10-03T13:24:01.251412",
     "exception": false,
     "start_time": "2025-10-03T13:24:01.149598",
     "status": "completed"
    },
    "tags": []
   },
   "outputs": [],
   "source": [
    "vectorizer = TfidfVectorizer(stop_words='english', max_features=3000)\n",
    "X_train_vec = vectorizer.fit_transform(X_train)\n",
    "X_test_vec = vectorizer.transform(X_test)"
   ]
  },
  {
   "cell_type": "code",
   "execution_count": 14,
   "id": "9c0509ae",
   "metadata": {
    "execution": {
     "iopub.execute_input": "2025-10-03T13:24:01.263130Z",
     "iopub.status.busy": "2025-10-03T13:24:01.262299Z",
     "iopub.status.idle": "2025-10-03T13:24:02.634605Z",
     "shell.execute_reply": "2025-10-03T13:24:02.633803Z"
    },
    "papermill": {
     "duration": 1.380301,
     "end_time": "2025-10-03T13:24:02.636593",
     "exception": false,
     "start_time": "2025-10-03T13:24:01.256292",
     "status": "completed"
    },
    "tags": []
   },
   "outputs": [
    {
     "data": {
      "text/html": [
       "<style>#sk-container-id-1 {color: black;background-color: white;}#sk-container-id-1 pre{padding: 0;}#sk-container-id-1 div.sk-toggleable {background-color: white;}#sk-container-id-1 label.sk-toggleable__label {cursor: pointer;display: block;width: 100%;margin-bottom: 0;padding: 0.3em;box-sizing: border-box;text-align: center;}#sk-container-id-1 label.sk-toggleable__label-arrow:before {content: \"▸\";float: left;margin-right: 0.25em;color: #696969;}#sk-container-id-1 label.sk-toggleable__label-arrow:hover:before {color: black;}#sk-container-id-1 div.sk-estimator:hover label.sk-toggleable__label-arrow:before {color: black;}#sk-container-id-1 div.sk-toggleable__content {max-height: 0;max-width: 0;overflow: hidden;text-align: left;background-color: #f0f8ff;}#sk-container-id-1 div.sk-toggleable__content pre {margin: 0.2em;color: black;border-radius: 0.25em;background-color: #f0f8ff;}#sk-container-id-1 input.sk-toggleable__control:checked~div.sk-toggleable__content {max-height: 200px;max-width: 100%;overflow: auto;}#sk-container-id-1 input.sk-toggleable__control:checked~label.sk-toggleable__label-arrow:before {content: \"▾\";}#sk-container-id-1 div.sk-estimator input.sk-toggleable__control:checked~label.sk-toggleable__label {background-color: #d4ebff;}#sk-container-id-1 div.sk-label input.sk-toggleable__control:checked~label.sk-toggleable__label {background-color: #d4ebff;}#sk-container-id-1 input.sk-hidden--visually {border: 0;clip: rect(1px 1px 1px 1px);clip: rect(1px, 1px, 1px, 1px);height: 1px;margin: -1px;overflow: hidden;padding: 0;position: absolute;width: 1px;}#sk-container-id-1 div.sk-estimator {font-family: monospace;background-color: #f0f8ff;border: 1px dotted black;border-radius: 0.25em;box-sizing: border-box;margin-bottom: 0.5em;}#sk-container-id-1 div.sk-estimator:hover {background-color: #d4ebff;}#sk-container-id-1 div.sk-parallel-item::after {content: \"\";width: 100%;border-bottom: 1px solid gray;flex-grow: 1;}#sk-container-id-1 div.sk-label:hover label.sk-toggleable__label {background-color: #d4ebff;}#sk-container-id-1 div.sk-serial::before {content: \"\";position: absolute;border-left: 1px solid gray;box-sizing: border-box;top: 0;bottom: 0;left: 50%;z-index: 0;}#sk-container-id-1 div.sk-serial {display: flex;flex-direction: column;align-items: center;background-color: white;padding-right: 0.2em;padding-left: 0.2em;position: relative;}#sk-container-id-1 div.sk-item {position: relative;z-index: 1;}#sk-container-id-1 div.sk-parallel {display: flex;align-items: stretch;justify-content: center;background-color: white;position: relative;}#sk-container-id-1 div.sk-item::before, #sk-container-id-1 div.sk-parallel-item::before {content: \"\";position: absolute;border-left: 1px solid gray;box-sizing: border-box;top: 0;bottom: 0;left: 50%;z-index: -1;}#sk-container-id-1 div.sk-parallel-item {display: flex;flex-direction: column;z-index: 1;position: relative;background-color: white;}#sk-container-id-1 div.sk-parallel-item:first-child::after {align-self: flex-end;width: 50%;}#sk-container-id-1 div.sk-parallel-item:last-child::after {align-self: flex-start;width: 50%;}#sk-container-id-1 div.sk-parallel-item:only-child::after {width: 0;}#sk-container-id-1 div.sk-dashed-wrapped {border: 1px dashed gray;margin: 0 0.4em 0.5em 0.4em;box-sizing: border-box;padding-bottom: 0.4em;background-color: white;}#sk-container-id-1 div.sk-label label {font-family: monospace;font-weight: bold;display: inline-block;line-height: 1.2em;}#sk-container-id-1 div.sk-label-container {text-align: center;}#sk-container-id-1 div.sk-container {/* jupyter's `normalize.less` sets `[hidden] { display: none; }` but bootstrap.min.css set `[hidden] { display: none !important; }` so we also need the `!important` here to be able to override the default hidden behavior on the sphinx rendered scikit-learn.org. See: https://github.com/scikit-learn/scikit-learn/issues/21755 */display: inline-block !important;position: relative;}#sk-container-id-1 div.sk-text-repr-fallback {display: none;}</style><div id=\"sk-container-id-1\" class=\"sk-top-container\"><div class=\"sk-text-repr-fallback\"><pre>LogisticRegression(max_iter=1000)</pre><b>In a Jupyter environment, please rerun this cell to show the HTML representation or trust the notebook. <br />On GitHub, the HTML representation is unable to render, please try loading this page with nbviewer.org.</b></div><div class=\"sk-container\" hidden><div class=\"sk-item\"><div class=\"sk-estimator sk-toggleable\"><input class=\"sk-toggleable__control sk-hidden--visually\" id=\"sk-estimator-id-1\" type=\"checkbox\" checked><label for=\"sk-estimator-id-1\" class=\"sk-toggleable__label sk-toggleable__label-arrow\">LogisticRegression</label><div class=\"sk-toggleable__content\"><pre>LogisticRegression(max_iter=1000)</pre></div></div></div></div></div>"
      ],
      "text/plain": [
       "LogisticRegression(max_iter=1000)"
      ]
     },
     "execution_count": 14,
     "metadata": {},
     "output_type": "execute_result"
    }
   ],
   "source": [
    "model = LogisticRegression(max_iter=1000)\n",
    "model.fit(X_train_vec, y_train)"
   ]
  },
  {
   "cell_type": "code",
   "execution_count": 15,
   "id": "a64a72d2",
   "metadata": {
    "execution": {
     "iopub.execute_input": "2025-10-03T13:24:02.655442Z",
     "iopub.status.busy": "2025-10-03T13:24:02.653844Z",
     "iopub.status.idle": "2025-10-03T13:24:02.685828Z",
     "shell.execute_reply": "2025-10-03T13:24:02.684861Z"
    },
    "papermill": {
     "duration": 0.042822,
     "end_time": "2025-10-03T13:24:02.687672",
     "exception": false,
     "start_time": "2025-10-03T13:24:02.644850",
     "status": "completed"
    },
    "tags": []
   },
   "outputs": [
    {
     "name": "stdout",
     "output_type": "stream",
     "text": [
      "                           precision    recall  f1-score   support\n",
      "\n",
      "                Addiction       1.00      0.33      0.50         3\n",
      "         Anger Management       1.00      0.20      0.33         5\n",
      "                  Anxiety       0.67      0.85      0.75        34\n",
      "        Behavioral Change       1.00      0.10      0.18        10\n",
      "   Children & Adolescents       0.00      0.00      0.00         1\n",
      " Counseling Fundamentals        1.00      0.90      0.95        10\n",
      "               Depression       0.73      0.47      0.57        17\n",
      "                Diagnosis       0.00      0.00      0.00         4\n",
      "        Domestic Violence       0.00      0.00      0.00         2\n",
      "         Eating Disorders       0.00      0.00      0.00         1\n",
      "          Family Conflict       0.67      0.38      0.49        26\n",
      "           Grief and Loss       0.00      0.00      0.00         2\n",
      "          Human Sexuality       1.00      0.50      0.67         6\n",
      "                 Intimacy       1.00      0.25      0.40        16\n",
      "                    LGBTQ       1.00      0.50      0.67         4\n",
      "       Legal & Regulatory       0.00      0.00      0.00         1\n",
      "                 Marriage       0.90      0.64      0.75        14\n",
      "                Parenting       1.00      0.71      0.83        17\n",
      "      Professional Ethics       0.67      0.50      0.57         4\n",
      "Relationship Dissolution        1.00      0.75      0.86         4\n",
      "            Relationships       0.29      0.93      0.44        41\n",
      "              Self-esteem       1.00      0.22      0.36        18\n",
      "        Sleep Improvement       1.00      0.33      0.50         3\n",
      "     Social Relationships       1.00      0.17      0.29         6\n",
      "             Spirituality       1.00      1.00      1.00         2\n",
      "                   Stress       1.00      1.00      1.00         6\n",
      "          Substance Abuse       0.00      0.00      0.00         1\n",
      "                   Trauma       1.00      0.81      0.90        16\n",
      "  Workplace Relationships       0.00      0.00      0.00         2\n",
      "\n",
      "                 accuracy                           0.58       276\n",
      "                macro avg       0.65      0.40      0.45       276\n",
      "             weighted avg       0.75      0.58      0.57       276\n",
      "\n"
     ]
    }
   ],
   "source": [
    "y_pred = model.predict(X_test_vec)\n",
    "print(classification_report(y_test, y_pred))"
   ]
  }
 ],
 "metadata": {
  "kaggle": {
   "accelerator": "none",
   "dataSources": [
    {
     "datasetId": 5575883,
     "sourceId": 9220402,
     "sourceType": "datasetVersion"
    }
   ],
   "dockerImageVersionId": 31089,
   "isGpuEnabled": false,
   "isInternetEnabled": true,
   "language": "python",
   "sourceType": "notebook"
  },
  "kernelspec": {
   "display_name": "Python 3",
   "language": "python",
   "name": "python3"
  },
  "language_info": {
   "codemirror_mode": {
    "name": "ipython",
    "version": 3
   },
   "file_extension": ".py",
   "mimetype": "text/x-python",
   "name": "python",
   "nbconvert_exporter": "python",
   "pygments_lexer": "ipython3",
   "version": "3.11.13"
  },
  "papermill": {
   "default_parameters": {},
   "duration": 13.730101,
   "end_time": "2025-10-03T13:24:03.522127",
   "environment_variables": {},
   "exception": null,
   "input_path": "__notebook__.ipynb",
   "output_path": "__notebook__.ipynb",
   "parameters": {},
   "start_time": "2025-10-03T13:23:49.792026",
   "version": "2.6.0"
  }
 },
 "nbformat": 4,
 "nbformat_minor": 5
}
