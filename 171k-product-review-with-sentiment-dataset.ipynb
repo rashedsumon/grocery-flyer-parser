{
 "cells": [
  {
   "cell_type": "code",
   "execution_count": 1,
   "id": "8ab95bcb",
   "metadata": {
    "_cell_guid": "b1076dfc-b9ad-4769-8c92-a6c4dae69d19",
    "_uuid": "8f2839f25d086af736a60e9eeb907d3b93b6e0e5",
    "execution": {
     "iopub.execute_input": "2025-10-03T13:20:39.633299Z",
     "iopub.status.busy": "2025-10-03T13:20:39.632970Z",
     "iopub.status.idle": "2025-10-03T13:20:41.745971Z",
     "shell.execute_reply": "2025-10-03T13:20:41.744880Z"
    },
    "papermill": {
     "duration": 2.119727,
     "end_time": "2025-10-03T13:20:41.747744",
     "exception": false,
     "start_time": "2025-10-03T13:20:39.628017",
     "status": "completed"
    },
    "tags": []
   },
   "outputs": [
    {
     "name": "stdout",
     "output_type": "stream",
     "text": [
      "/kaggle/input/171k-product-review-with-sentiment-dataset/Equal.csv\n",
      "/kaggle/input/171k-product-review-with-sentiment-dataset/sentiment.csv\n",
      "/kaggle/input/171k-product-review-with-sentiment-dataset/RATIO.csv\n"
     ]
    }
   ],
   "source": [
    "# This Python 3 environment comes with many helpful analytics libraries installed\n",
    "# It is defined by the kaggle/python Docker image: https://github.com/kaggle/docker-python\n",
    "# For example, here's several helpful packages to load\n",
    "\n",
    "import numpy as np # linear algebra\n",
    "import pandas as pd # data processing, CSV file I/O (e.g. pd.read_csv)\n",
    "\n",
    "# Input data files are available in the read-only \"../input/\" directory\n",
    "# For example, running this (by clicking run or pressing Shift+Enter) will list all files under the input directory\n",
    "\n",
    "import os\n",
    "for dirname, _, filenames in os.walk('/kaggle/input'):\n",
    "    for filename in filenames:\n",
    "        print(os.path.join(dirname, filename))\n",
    "\n",
    "# You can write up to 20GB to the current directory (/kaggle/working/) that gets preserved as output when you create a version using \"Save & Run All\" \n",
    "# You can also write temporary files to /kaggle/temp/, but they won't be saved outside of the current session"
   ]
  },
  {
   "cell_type": "code",
   "execution_count": 2,
   "id": "4f4bea1a",
   "metadata": {
    "execution": {
     "iopub.execute_input": "2025-10-03T13:20:41.756165Z",
     "iopub.status.busy": "2025-10-03T13:20:41.755655Z",
     "iopub.status.idle": "2025-10-03T13:20:41.760302Z",
     "shell.execute_reply": "2025-10-03T13:20:41.759489Z"
    },
    "papermill": {
     "duration": 0.010573,
     "end_time": "2025-10-03T13:20:41.761959",
     "exception": false,
     "start_time": "2025-10-03T13:20:41.751386",
     "status": "completed"
    },
    "tags": []
   },
   "outputs": [],
   "source": [
    "import warnings\n",
    "warnings.filterwarnings(\"ignore\")"
   ]
  },
  {
   "cell_type": "code",
   "execution_count": 3,
   "id": "f7a9e2b7",
   "metadata": {
    "execution": {
     "iopub.execute_input": "2025-10-03T13:20:41.769937Z",
     "iopub.status.busy": "2025-10-03T13:20:41.769559Z",
     "iopub.status.idle": "2025-10-03T13:20:43.964083Z",
     "shell.execute_reply": "2025-10-03T13:20:43.962843Z"
    },
    "papermill": {
     "duration": 2.200603,
     "end_time": "2025-10-03T13:20:43.966010",
     "exception": false,
     "start_time": "2025-10-03T13:20:41.765407",
     "status": "completed"
    },
    "tags": []
   },
   "outputs": [],
   "source": [
    "import pandas as pd\n",
    "import seaborn as sns\n",
    "import matplotlib.pyplot as plt"
   ]
  },
  {
   "cell_type": "code",
   "execution_count": 4,
   "id": "5460cf42",
   "metadata": {
    "execution": {
     "iopub.execute_input": "2025-10-03T13:20:43.974083Z",
     "iopub.status.busy": "2025-10-03T13:20:43.973465Z",
     "iopub.status.idle": "2025-10-03T13:20:44.409116Z",
     "shell.execute_reply": "2025-10-03T13:20:44.408144Z"
    },
    "papermill": {
     "duration": 0.441472,
     "end_time": "2025-10-03T13:20:44.410758",
     "exception": false,
     "start_time": "2025-10-03T13:20:43.969286",
     "status": "completed"
    },
    "tags": []
   },
   "outputs": [
    {
     "data": {
      "text/html": [
       "<div>\n",
       "<style scoped>\n",
       "    .dataframe tbody tr th:only-of-type {\n",
       "        vertical-align: middle;\n",
       "    }\n",
       "\n",
       "    .dataframe tbody tr th {\n",
       "        vertical-align: top;\n",
       "    }\n",
       "\n",
       "    .dataframe thead th {\n",
       "        text-align: right;\n",
       "    }\n",
       "</style>\n",
       "<table border=\"1\" class=\"dataframe\">\n",
       "  <thead>\n",
       "    <tr style=\"text-align: right;\">\n",
       "      <th></th>\n",
       "      <th>product_name</th>\n",
       "      <th>product_price</th>\n",
       "      <th>Rate</th>\n",
       "      <th>Review</th>\n",
       "      <th>Summary</th>\n",
       "      <th>Sentiment</th>\n",
       "    </tr>\n",
       "  </thead>\n",
       "  <tbody>\n",
       "    <tr>\n",
       "      <th>0</th>\n",
       "      <td>SportSoul Cotton Gym &amp; Athletic Abdomen Suppor...</td>\n",
       "      <td>449</td>\n",
       "      <td>4</td>\n",
       "      <td>good quality product</td>\n",
       "      <td>good cuality</td>\n",
       "      <td>positive</td>\n",
       "    </tr>\n",
       "    <tr>\n",
       "      <th>1</th>\n",
       "      <td>SportSoul Cotton Gym &amp; Athletic Abdomen Suppor...</td>\n",
       "      <td>449</td>\n",
       "      <td>4</td>\n",
       "      <td>wonderful</td>\n",
       "      <td>super product</td>\n",
       "      <td>positive</td>\n",
       "    </tr>\n",
       "    <tr>\n",
       "      <th>2</th>\n",
       "      <td>SportSoul Cotton Gym &amp; Athletic Abdomen Suppor...</td>\n",
       "      <td>449</td>\n",
       "      <td>4</td>\n",
       "      <td>value-for-money</td>\n",
       "      <td>as expected</td>\n",
       "      <td>positive</td>\n",
       "    </tr>\n",
       "    <tr>\n",
       "      <th>3</th>\n",
       "      <td>SportSoul Cotton Gym &amp; Athletic Abdomen Suppor...</td>\n",
       "      <td>449</td>\n",
       "      <td>2</td>\n",
       "      <td>not good</td>\n",
       "      <td>meteriyal is not good but very comfortable</td>\n",
       "      <td>positive</td>\n",
       "    </tr>\n",
       "    <tr>\n",
       "      <th>4</th>\n",
       "      <td>SportSoul Cotton Gym &amp; Athletic Abdomen Suppor...</td>\n",
       "      <td>449</td>\n",
       "      <td>5</td>\n",
       "      <td>best in the market!</td>\n",
       "      <td>god</td>\n",
       "      <td>positive</td>\n",
       "    </tr>\n",
       "  </tbody>\n",
       "</table>\n",
       "</div>"
      ],
      "text/plain": [
       "                                        product_name product_price Rate  \\\n",
       "0  SportSoul Cotton Gym & Athletic Abdomen Suppor...           449    4   \n",
       "1  SportSoul Cotton Gym & Athletic Abdomen Suppor...           449    4   \n",
       "2  SportSoul Cotton Gym & Athletic Abdomen Suppor...           449    4   \n",
       "3  SportSoul Cotton Gym & Athletic Abdomen Suppor...           449    2   \n",
       "4  SportSoul Cotton Gym & Athletic Abdomen Suppor...           449    5   \n",
       "\n",
       "                 Review                                     Summary Sentiment  \n",
       "0  good quality product                                good cuality  positive  \n",
       "1             wonderful                               super product  positive  \n",
       "2       value-for-money                                as expected   positive  \n",
       "3              not good  meteriyal is not good but very comfortable  positive  \n",
       "4   best in the market!                                         god  positive  "
      ]
     },
     "execution_count": 4,
     "metadata": {},
     "output_type": "execute_result"
    }
   ],
   "source": [
    "df = pd.read_csv('/kaggle/input/171k-product-review-with-sentiment-dataset/Equal.csv', encoding='ISO-8859-1')\n",
    "df.head()"
   ]
  },
  {
   "cell_type": "code",
   "execution_count": 5,
   "id": "2f4ae603",
   "metadata": {
    "execution": {
     "iopub.execute_input": "2025-10-03T13:20:44.418865Z",
     "iopub.status.busy": "2025-10-03T13:20:44.418512Z",
     "iopub.status.idle": "2025-10-03T13:20:44.425865Z",
     "shell.execute_reply": "2025-10-03T13:20:44.424934Z"
    },
    "papermill": {
     "duration": 0.01323,
     "end_time": "2025-10-03T13:20:44.427450",
     "exception": false,
     "start_time": "2025-10-03T13:20:44.414220",
     "status": "completed"
    },
    "tags": []
   },
   "outputs": [
    {
     "data": {
      "text/plain": [
       "Index(['product_name', 'product_price', 'Rate', 'Review', 'Summary',\n",
       "       'Sentiment'],\n",
       "      dtype='object')"
      ]
     },
     "execution_count": 5,
     "metadata": {},
     "output_type": "execute_result"
    }
   ],
   "source": [
    "df.columns"
   ]
  },
  {
   "cell_type": "code",
   "execution_count": 6,
   "id": "b53b43eb",
   "metadata": {
    "execution": {
     "iopub.execute_input": "2025-10-03T13:20:44.435706Z",
     "iopub.status.busy": "2025-10-03T13:20:44.435387Z",
     "iopub.status.idle": "2025-10-03T13:20:44.488136Z",
     "shell.execute_reply": "2025-10-03T13:20:44.486840Z"
    },
    "papermill": {
     "duration": 0.059161,
     "end_time": "2025-10-03T13:20:44.490150",
     "exception": false,
     "start_time": "2025-10-03T13:20:44.430989",
     "status": "completed"
    },
    "tags": []
   },
   "outputs": [
    {
     "name": "stdout",
     "output_type": "stream",
     "text": [
      "<class 'pandas.core.frame.DataFrame'>\n",
      "RangeIndex: 76704 entries, 0 to 76703\n",
      "Data columns (total 6 columns):\n",
      " #   Column         Non-Null Count  Dtype \n",
      "---  ------         --------------  ----- \n",
      " 0   product_name   76704 non-null  object\n",
      " 1   product_price  76704 non-null  object\n",
      " 2   Rate           76704 non-null  object\n",
      " 3   Review         76704 non-null  object\n",
      " 4   Summary        76704 non-null  object\n",
      " 5   Sentiment      76704 non-null  object\n",
      "dtypes: object(6)\n",
      "memory usage: 3.5+ MB\n"
     ]
    }
   ],
   "source": [
    "# Check basic info\n",
    "df.info()"
   ]
  },
  {
   "cell_type": "code",
   "execution_count": 7,
   "id": "8b1ab5a2",
   "metadata": {
    "execution": {
     "iopub.execute_input": "2025-10-03T13:20:44.498447Z",
     "iopub.status.busy": "2025-10-03T13:20:44.498157Z",
     "iopub.status.idle": "2025-10-03T13:20:44.533629Z",
     "shell.execute_reply": "2025-10-03T13:20:44.532813Z"
    },
    "papermill": {
     "duration": 0.041652,
     "end_time": "2025-10-03T13:20:44.535382",
     "exception": false,
     "start_time": "2025-10-03T13:20:44.493730",
     "status": "completed"
    },
    "tags": []
   },
   "outputs": [
    {
     "data": {
      "text/plain": [
       "product_name     0\n",
       "product_price    0\n",
       "Rate             0\n",
       "Review           0\n",
       "Summary          0\n",
       "Sentiment        0\n",
       "dtype: int64"
      ]
     },
     "execution_count": 7,
     "metadata": {},
     "output_type": "execute_result"
    }
   ],
   "source": [
    "# Check missing values\n",
    "df.isnull().sum()"
   ]
  },
  {
   "cell_type": "code",
   "execution_count": 8,
   "id": "e58f6afd",
   "metadata": {
    "execution": {
     "iopub.execute_input": "2025-10-03T13:20:44.544121Z",
     "iopub.status.busy": "2025-10-03T13:20:44.543300Z",
     "iopub.status.idle": "2025-10-03T13:20:44.588663Z",
     "shell.execute_reply": "2025-10-03T13:20:44.587666Z"
    },
    "papermill": {
     "duration": 0.051346,
     "end_time": "2025-10-03T13:20:44.590363",
     "exception": false,
     "start_time": "2025-10-03T13:20:44.539017",
     "status": "completed"
    },
    "tags": []
   },
   "outputs": [
    {
     "data": {
      "text/html": [
       "<div>\n",
       "<style scoped>\n",
       "    .dataframe tbody tr th:only-of-type {\n",
       "        vertical-align: middle;\n",
       "    }\n",
       "\n",
       "    .dataframe tbody tr th {\n",
       "        vertical-align: top;\n",
       "    }\n",
       "\n",
       "    .dataframe thead th {\n",
       "        text-align: right;\n",
       "    }\n",
       "</style>\n",
       "<table border=\"1\" class=\"dataframe\">\n",
       "  <thead>\n",
       "    <tr style=\"text-align: right;\">\n",
       "      <th></th>\n",
       "      <th>Review</th>\n",
       "      <th>Sentiment</th>\n",
       "    </tr>\n",
       "  </thead>\n",
       "  <tbody>\n",
       "    <tr>\n",
       "      <th>0</th>\n",
       "      <td>good quality product</td>\n",
       "      <td>positive</td>\n",
       "    </tr>\n",
       "    <tr>\n",
       "      <th>1</th>\n",
       "      <td>wonderful</td>\n",
       "      <td>positive</td>\n",
       "    </tr>\n",
       "    <tr>\n",
       "      <th>2</th>\n",
       "      <td>value-for-money</td>\n",
       "      <td>positive</td>\n",
       "    </tr>\n",
       "    <tr>\n",
       "      <th>3</th>\n",
       "      <td>not good</td>\n",
       "      <td>positive</td>\n",
       "    </tr>\n",
       "    <tr>\n",
       "      <th>4</th>\n",
       "      <td>best in the market!</td>\n",
       "      <td>positive</td>\n",
       "    </tr>\n",
       "  </tbody>\n",
       "</table>\n",
       "</div>"
      ],
      "text/plain": [
       "                 Review Sentiment\n",
       "0  good quality product  positive\n",
       "1             wonderful  positive\n",
       "2       value-for-money  positive\n",
       "3              not good  positive\n",
       "4   best in the market!  positive"
      ]
     },
     "execution_count": 8,
     "metadata": {},
     "output_type": "execute_result"
    }
   ],
   "source": [
    "# Drop rows with missing values\n",
    "df = df.dropna()\n",
    "\n",
    "# Keep only Review and Sentiment for modeling\n",
    "df = df[['Review', 'Sentiment']]\n",
    "\n",
    "# Check cleaned data\n",
    "df.head()"
   ]
  },
  {
   "cell_type": "code",
   "execution_count": 9,
   "id": "cb2f927c",
   "metadata": {
    "execution": {
     "iopub.execute_input": "2025-10-03T13:20:44.599797Z",
     "iopub.status.busy": "2025-10-03T13:20:44.599461Z",
     "iopub.status.idle": "2025-10-03T13:20:44.903943Z",
     "shell.execute_reply": "2025-10-03T13:20:44.902973Z"
    },
    "papermill": {
     "duration": 0.311069,
     "end_time": "2025-10-03T13:20:44.905602",
     "exception": false,
     "start_time": "2025-10-03T13:20:44.594533",
     "status": "completed"
    },
    "tags": []
   },
   "outputs": [
    {
     "data": {
      "image/png": "[encoded data removed]",
      "text/plain": [
       "<Figure size 640x480 with 1 Axes>"
      ]
     },
     "metadata": {},
     "output_type": "display_data"
    }
   ],
   "source": [
    "# Check class balance\n",
    "sns.countplot(data=df, x='Sentiment')\n",
    "plt.title('Sentiment Class Distribution')\n",
    "plt.show()"
   ]
  },
  {
   "cell_type": "code",
   "execution_count": 10,
   "id": "08da2a9b",
   "metadata": {
    "execution": {
     "iopub.execute_input": "2025-10-03T13:20:44.915988Z",
     "iopub.status.busy": "2025-10-03T13:20:44.915636Z",
     "iopub.status.idle": "2025-10-03T13:20:45.330643Z",
     "shell.execute_reply": "2025-10-03T13:20:45.329858Z"
    },
    "papermill": {
     "duration": 0.42209,
     "end_time": "2025-10-03T13:20:45.332248",
     "exception": false,
     "start_time": "2025-10-03T13:20:44.910158",
     "status": "completed"
    },
    "tags": []
   },
   "outputs": [],
   "source": [
    "from sklearn.model_selection import train_test_split\n",
    "from sklearn.preprocessing import LabelEncoder\n",
    "\n",
    "# Encode Sentiment labels (e.g., Positive/Negative -> 1/0)\n",
    "le = LabelEncoder()\n",
    "df['Sentiment'] = le.fit_transform(df['Sentiment'])"
   ]
  },
  {
   "cell_type": "code",
   "execution_count": 11,
   "id": "8b01fef0",
   "metadata": {
    "execution": {
     "iopub.execute_input": "2025-10-03T13:20:45.342705Z",
     "iopub.status.busy": "2025-10-03T13:20:45.342366Z",
     "iopub.status.idle": "2025-10-03T13:20:45.354800Z",
     "shell.execute_reply": "2025-10-03T13:20:45.353753Z"
    },
    "papermill": {
     "duration": 0.020236,
     "end_time": "2025-10-03T13:20:45.356551",
     "exception": false,
     "start_time": "2025-10-03T13:20:45.336315",
     "status": "completed"
    },
    "tags": []
   },
   "outputs": [],
   "source": [
    "# Split into train and test sets\n",
    "X_train, X_test, y_train, y_test = train_test_split(df['Review'], df['Sentiment'], test_size=0.2, random_state=42)"
   ]
  },
  {
   "cell_type": "code",
   "execution_count": 12,
   "id": "fbaa6d50",
   "metadata": {
    "execution": {
     "iopub.execute_input": "2025-10-03T13:20:45.366394Z",
     "iopub.status.busy": "2025-10-03T13:20:45.366070Z",
     "iopub.status.idle": "2025-10-03T13:20:49.050505Z",
     "shell.execute_reply": "2025-10-03T13:20:49.049628Z"
    },
    "papermill": {
     "duration": 3.691326,
     "end_time": "2025-10-03T13:20:49.052079",
     "exception": false,
     "start_time": "2025-10-03T13:20:45.360753",
     "status": "completed"
    },
    "tags": []
   },
   "outputs": [
    {
     "data": {
      "text/html": [
       "<style>#sk-container-id-1 {color: black;background-color: white;}#sk-container-id-1 pre{padding: 0;}#sk-container-id-1 div.sk-toggleable {background-color: white;}#sk-container-id-1 label.sk-toggleable__label {cursor: pointer;display: block;width: 100%;margin-bottom: 0;padding: 0.3em;box-sizing: border-box;text-align: center;}#sk-container-id-1 label.sk-toggleable__label-arrow:before {content: \"▸\";float: left;margin-right: 0.25em;color: #696969;}#sk-container-id-1 label.sk-toggleable__label-arrow:hover:before {color: black;}#sk-container-id-1 div.sk-estimator:hover label.sk-toggleable__label-arrow:before {color: black;}#sk-container-id-1 div.sk-toggleable__content {max-height: 0;max-width: 0;overflow: hidden;text-align: left;background-color: #f0f8ff;}#sk-container-id-1 div.sk-toggleable__content pre {margin: 0.2em;color: black;border-radius: 0.25em;background-color: #f0f8ff;}#sk-container-id-1 input.sk-toggleable__control:checked~div.sk-toggleable__content {max-height: 200px;max-width: 100%;overflow: auto;}#sk-container-id-1 input.sk-toggleable__control:checked~label.sk-toggleable__label-arrow:before {content: \"▾\";}#sk-container-id-1 div.sk-estimator input.sk-toggleable__control:checked~label.sk-toggleable__label {background-color: #d4ebff;}#sk-container-id-1 div.sk-label input.sk-toggleable__control:checked~label.sk-toggleable__label {background-color: #d4ebff;}#sk-container-id-1 input.sk-hidden--visually {border: 0;clip: rect(1px 1px 1px 1px);clip: rect(1px, 1px, 1px, 1px);height: 1px;margin: -1px;overflow: hidden;padding: 0;position: absolute;width: 1px;}#sk-container-id-1 div.sk-estimator {font-family: monospace;background-color: #f0f8ff;border: 1px dotted black;border-radius: 0.25em;box-sizing: border-box;margin-bottom: 0.5em;}#sk-container-id-1 div.sk-estimator:hover {background-color: #d4ebff;}#sk-container-id-1 div.sk-parallel-item::after {content: \"\";width: 100%;border-bottom: 1px solid gray;flex-grow: 1;}#sk-container-id-1 div.sk-label:hover label.sk-toggleable__label {background-color: #d4ebff;}#sk-container-id-1 div.sk-serial::before {content: \"\";position: absolute;border-left: 1px solid gray;box-sizing: border-box;top: 0;bottom: 0;left: 50%;z-index: 0;}#sk-container-id-1 div.sk-serial {display: flex;flex-direction: column;align-items: center;background-color: white;padding-right: 0.2em;padding-left: 0.2em;position: relative;}#sk-container-id-1 div.sk-item {position: relative;z-index: 1;}#sk-container-id-1 div.sk-parallel {display: flex;align-items: stretch;justify-content: center;background-color: white;position: relative;}#sk-container-id-1 div.sk-item::before, #sk-container-id-1 div.sk-parallel-item::before {content: \"\";position: absolute;border-left: 1px solid gray;box-sizing: border-box;top: 0;bottom: 0;left: 50%;z-index: -1;}#sk-container-id-1 div.sk-parallel-item {display: flex;flex-direction: column;z-index: 1;position: relative;background-color: white;}#sk-container-id-1 div.sk-parallel-item:first-child::after {align-self: flex-end;width: 50%;}#sk-container-id-1 div.sk-parallel-item:last-child::after {align-self: flex-start;width: 50%;}#sk-container-id-1 div.sk-parallel-item:only-child::after {width: 0;}#sk-container-id-1 div.sk-dashed-wrapped {border: 1px dashed gray;margin: 0 0.4em 0.5em 0.4em;box-sizing: border-box;padding-bottom: 0.4em;background-color: white;}#sk-container-id-1 div.sk-label label {font-family: monospace;font-weight: bold;display: inline-block;line-height: 1.2em;}#sk-container-id-1 div.sk-label-container {text-align: center;}#sk-container-id-1 div.sk-container {/* jupyter's `normalize.less` sets `[hidden] { display: none; }` but bootstrap.min.css set `[hidden] { display: none !important; }` so we also need the `!important` here to be able to override the default hidden behavior on the sphinx rendered scikit-learn.org. See: https://github.com/scikit-learn/scikit-learn/issues/21755 */display: inline-block !important;position: relative;}#sk-container-id-1 div.sk-text-repr-fallback {display: none;}</style><div id=\"sk-container-id-1\" class=\"sk-top-container\"><div class=\"sk-text-repr-fallback\"><pre>Pipeline(steps=[(&#x27;tfidf&#x27;,\n",
       "                 TfidfVectorizer(max_features=10000, stop_words=&#x27;english&#x27;)),\n",
       "                (&#x27;lr&#x27;, LogisticRegression(max_iter=200))])</pre><b>In a Jupyter environment, please rerun this cell to show the HTML representation or trust the notebook. <br />On GitHub, the HTML representation is unable to render, please try loading this page with nbviewer.org.</b></div><div class=\"sk-container\" hidden><div class=\"sk-item sk-dashed-wrapped\"><div class=\"sk-label-container\"><div class=\"sk-label sk-toggleable\"><input class=\"sk-toggleable__control sk-hidden--visually\" id=\"sk-estimator-id-1\" type=\"checkbox\" ><label for=\"sk-estimator-id-1\" class=\"sk-toggleable__label sk-toggleable__label-arrow\">Pipeline</label><div class=\"sk-toggleable__content\"><pre>Pipeline(steps=[(&#x27;tfidf&#x27;,\n",
       "                 TfidfVectorizer(max_features=10000, stop_words=&#x27;english&#x27;)),\n",
       "                (&#x27;lr&#x27;, LogisticRegression(max_iter=200))])</pre></div></div></div><div class=\"sk-serial\"><div class=\"sk-item\"><div class=\"sk-estimator sk-toggleable\"><input class=\"sk-toggleable__control sk-hidden--visually\" id=\"sk-estimator-id-2\" type=\"checkbox\" ><label for=\"sk-estimator-id-2\" class=\"sk-toggleable__label sk-toggleable__label-arrow\">TfidfVectorizer</label><div class=\"sk-toggleable__content\"><pre>TfidfVectorizer(max_features=10000, stop_words=&#x27;english&#x27;)</pre></div></div></div><div class=\"sk-item\"><div class=\"sk-estimator sk-toggleable\"><input class=\"sk-toggleable__control sk-hidden--visually\" id=\"sk-estimator-id-3\" type=\"checkbox\" ><label for=\"sk-estimator-id-3\" class=\"sk-toggleable__label sk-toggleable__label-arrow\">LogisticRegression</label><div class=\"sk-toggleable__content\"><pre>LogisticRegression(max_iter=200)</pre></div></div></div></div></div></div></div>"
      ],
      "text/plain": [
       "Pipeline(steps=[('tfidf',\n",
       "                 TfidfVectorizer(max_features=10000, stop_words='english')),\n",
       "                ('lr', LogisticRegression(max_iter=200))])"
      ]
     },
     "execution_count": 12,
     "metadata": {},
     "output_type": "execute_result"
    }
   ],
   "source": [
    "from sklearn.feature_extraction.text import TfidfVectorizer\n",
    "from sklearn.linear_model import LogisticRegression\n",
    "from sklearn.pipeline import Pipeline\n",
    "from sklearn.metrics import classification_report, accuracy_score\n",
    "\n",
    "# Create pipeline: TF-IDF + Logistic Regression (simple, accurate for text)\n",
    "model = Pipeline([\n",
    "    ('tfidf', TfidfVectorizer(stop_words='english', max_features=10000)),\n",
    "    ('lr', LogisticRegression(max_iter=200))\n",
    "])\n",
    "\n",
    "# Train the model\n",
    "model.fit(X_train, y_train)"
   ]
  },
  {
   "cell_type": "code",
   "execution_count": 13,
   "id": "e0ac0f85",
   "metadata": {
    "execution": {
     "iopub.execute_input": "2025-10-03T13:20:49.067495Z",
     "iopub.status.busy": "2025-10-03T13:20:49.067162Z",
     "iopub.status.idle": "2025-10-03T13:20:49.192328Z",
     "shell.execute_reply": "2025-10-03T13:20:49.190926Z"
    },
    "papermill": {
     "duration": 0.134924,
     "end_time": "2025-10-03T13:20:49.194026",
     "exception": false,
     "start_time": "2025-10-03T13:20:49.059102",
     "status": "completed"
    },
    "tags": []
   },
   "outputs": [
    {
     "name": "stdout",
     "output_type": "stream",
     "text": [
      "Accuracy: 0.7660517567303304\n",
      "              precision    recall  f1-score   support\n",
      "\n",
      "    negative       0.77      0.81      0.79      4976\n",
      "     neutral       0.70      0.58      0.64      5257\n",
      "    positive       0.81      0.91      0.86      5108\n",
      "\n",
      "    accuracy                           0.77     15341\n",
      "   macro avg       0.76      0.77      0.76     15341\n",
      "weighted avg       0.76      0.77      0.76     15341\n",
      "\n"
     ]
    }
   ],
   "source": [
    "# Predict on test set\n",
    "y_pred = model.predict(X_test)\n",
    "\n",
    "# Accuracy\n",
    "print(\"Accuracy:\", accuracy_score(y_test, y_pred))\n",
    "\n",
    "# Full classification report\n",
    "print(classification_report(y_test, y_pred, target_names=le.classes_))"
   ]
  },
  {
   "cell_type": "code",
   "execution_count": 14,
   "id": "8e9ff990",
   "metadata": {
    "execution": {
     "iopub.execute_input": "2025-10-03T13:20:49.204202Z",
     "iopub.status.busy": "2025-10-03T13:20:49.203859Z",
     "iopub.status.idle": "2025-10-03T13:20:49.426410Z",
     "shell.execute_reply": "2025-10-03T13:20:49.425509Z"
    },
    "papermill": {
     "duration": 0.229846,
     "end_time": "2025-10-03T13:20:49.428240",
     "exception": false,
     "start_time": "2025-10-03T13:20:49.198394",
     "status": "completed"
    },
    "tags": []
   },
   "outputs": [
    {
     "data": {
      "image/png": "[encoded data removed]",
      "text/plain": [
       "<Figure size 640x480 with 2 Axes>"
      ]
     },
     "metadata": {},
     "output_type": "display_data"
    }
   ],
   "source": [
    "from sklearn.metrics import ConfusionMatrixDisplay\n",
    "from sklearn.metrics import confusion_matrix\n",
    "\n",
    "# Confusion matrix visualization\n",
    "cm = confusion_matrix(y_test, y_pred, normalize='true')\n",
    "disp = ConfusionMatrixDisplay(confusion_matrix=cm, display_labels=le.classes_)\n",
    "disp.plot(cmap='Blues')\n",
    "plt.title('Normalized Confusion Matrix')\n",
    "plt.show()"
   ]
  }
 ],
 "metadata": {
  "kaggle": {
   "accelerator": "none",
   "dataSources": [
    {
     "datasetId": 2897237,
     "sourceId": 5097590,
     "sourceType": "datasetVersion"
    }
   ],
   "dockerImageVersionId": 31089,
   "isGpuEnabled": false,
   "isInternetEnabled": true,
   "language": "python",
   "sourceType": "notebook"
  },
  "kernelspec": {
   "display_name": "Python 3",
   "language": "python",
   "name": "python3"
  },
  "language_info": {
   "codemirror_mode": {
    "name": "ipython",
    "version": 3
   },
   "file_extension": ".py",
   "mimetype": "text/x-python",
   "name": "python",
   "nbconvert_exporter": "python",
   "pygments_lexer": "ipython3",
   "version": "3.11.13"
  },
  "papermill": {
   "default_parameters": {},
   "duration": 16.337631,
   "end_time": "2025-10-03T13:20:50.155265",
   "environment_variables": {},
   "exception": null,
   "input_path": "__notebook__.ipynb",
   "output_path": "__notebook__.ipynb",
   "parameters": {},
   "start_time": "2025-10-03T13:20:33.817634",
   "version": "2.6.0"
  }
 },
 "nbformat": 4,
 "nbformat_minor": 5
}
