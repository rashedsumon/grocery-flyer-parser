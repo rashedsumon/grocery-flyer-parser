{
 "cells": [
  {
   "cell_type": "code",
   "execution_count": 1,
   "id": "7ed956f0",
   "metadata": {
    "_cell_guid": "b1076dfc-b9ad-4769-8c92-a6c4dae69d19",
    "_uuid": "8f2839f25d086af736a60e9eeb907d3b93b6e0e5",
    "execution": {
     "iopub.execute_input": "2025-10-03T14:10:27.194130Z",
     "iopub.status.busy": "2025-10-03T14:10:27.193690Z",
     "iopub.status.idle": "2025-10-03T14:10:29.282748Z",
     "shell.execute_reply": "2025-10-03T14:10:29.281471Z"
    },
    "papermill": {
     "duration": 2.095938,
     "end_time": "2025-10-03T14:10:29.284562",
     "exception": false,
     "start_time": "2025-10-03T14:10:27.188624",
     "status": "completed"
    },
    "tags": []
   },
   "outputs": [
    {
     "name": "stdout",
     "output_type": "stream",
     "text": [
      "/kaggle/input/covid-19-nlp-text-classification/Corona_NLP_test.csv\n",
      "/kaggle/input/covid-19-nlp-text-classification/Corona_NLP_train.csv\n"
     ]
    }
   ],
   "source": [
    "# This Python 3 environment comes with many helpful analytics libraries installed\n",
    "# It is defined by the kaggle/python Docker image: https://github.com/kaggle/docker-python\n",
    "# For example, here's several helpful packages to load\n",
    "\n",
    "import numpy as np # linear algebra\n",
    "import pandas as pd # data processing, CSV file I/O (e.g. pd.read_csv)\n",
    "\n",
    "# Input data files are available in the read-only \"../input/\" directory\n",
    "# For example, running this (by clicking run or pressing Shift+Enter) will list all files under the input directory\n",
    "\n",
    "import os\n",
    "for dirname, _, filenames in os.walk('/kaggle/input'):\n",
    "    for filename in filenames:\n",
    "        print(os.path.join(dirname, filename))\n",
    "\n",
    "# You can write up to 20GB to the current directory (/kaggle/working/) that gets preserved as output when you create a version using \"Save & Run All\" \n",
    "# You can also write temporary files to /kaggle/temp/, but they won't be saved outside of the current session"
   ]
  },
  {
   "cell_type": "code",
   "execution_count": 2,
   "id": "67dda6c0",
   "metadata": {
    "execution": {
     "iopub.execute_input": "2025-10-03T14:10:29.292785Z",
     "iopub.status.busy": "2025-10-03T14:10:29.292369Z",
     "iopub.status.idle": "2025-10-03T14:10:29.297102Z",
     "shell.execute_reply": "2025-10-03T14:10:29.296106Z"
    },
    "papermill": {
     "duration": 0.010311,
     "end_time": "2025-10-03T14:10:29.298511",
     "exception": false,
     "start_time": "2025-10-03T14:10:29.288200",
     "status": "completed"
    },
    "tags": []
   },
   "outputs": [],
   "source": [
    "import warnings\n",
    "warnings.filterwarnings(\"ignore\")"
   ]
  },
  {
   "cell_type": "code",
   "execution_count": 3,
   "id": "08472764",
   "metadata": {
    "execution": {
     "iopub.execute_input": "2025-10-03T14:10:29.306463Z",
     "iopub.status.busy": "2025-10-03T14:10:29.306181Z",
     "iopub.status.idle": "2025-10-03T14:10:31.978455Z",
     "shell.execute_reply": "2025-10-03T14:10:31.977285Z"
    },
    "papermill": {
     "duration": 2.678612,
     "end_time": "2025-10-03T14:10:31.980560",
     "exception": false,
     "start_time": "2025-10-03T14:10:29.301948",
     "status": "completed"
    },
    "tags": []
   },
   "outputs": [],
   "source": [
    "import pandas as pd\n",
    "import seaborn as sns\n",
    "import matplotlib.pyplot as plt\n",
    "from sklearn.model_selection import train_test_split\n",
    "from sklearn.feature_extraction.text import TfidfVectorizer\n",
    "from sklearn.pipeline import make_pipeline\n",
    "from sklearn.linear_model import LogisticRegression\n",
    "from sklearn.metrics import classification_report, ConfusionMatrixDisplay"
   ]
  },
  {
   "cell_type": "code",
   "execution_count": 4,
   "id": "0973ff81",
   "metadata": {
    "execution": {
     "iopub.execute_input": "2025-10-03T14:10:31.988762Z",
     "iopub.status.busy": "2025-10-03T14:10:31.988244Z",
     "iopub.status.idle": "2025-10-03T14:10:32.335596Z",
     "shell.execute_reply": "2025-10-03T14:10:32.334435Z"
    },
    "papermill": {
     "duration": 0.353532,
     "end_time": "2025-10-03T14:10:32.337486",
     "exception": false,
     "start_time": "2025-10-03T14:10:31.983954",
     "status": "completed"
    },
    "tags": []
   },
   "outputs": [
    {
     "data": {
      "text/html": [
       "<div>\n",
       "<style scoped>\n",
       "    .dataframe tbody tr th:only-of-type {\n",
       "        vertical-align: middle;\n",
       "    }\n",
       "\n",
       "    .dataframe tbody tr th {\n",
       "        vertical-align: top;\n",
       "    }\n",
       "\n",
       "    .dataframe thead th {\n",
       "        text-align: right;\n",
       "    }\n",
       "</style>\n",
       "<table border=\"1\" class=\"dataframe\">\n",
       "  <thead>\n",
       "    <tr style=\"text-align: right;\">\n",
       "      <th></th>\n",
       "      <th>UserName</th>\n",
       "      <th>ScreenName</th>\n",
       "      <th>Location</th>\n",
       "      <th>TweetAt</th>\n",
       "      <th>OriginalTweet</th>\n",
       "      <th>Sentiment</th>\n",
       "    </tr>\n",
       "  </thead>\n",
       "  <tbody>\n",
       "    <tr>\n",
       "      <th>0</th>\n",
       "      <td>3799</td>\n",
       "      <td>48751</td>\n",
       "      <td>London</td>\n",
       "      <td>16-03-2020</td>\n",
       "      <td>@MeNyrbie @Phil_Gahan @Chrisitv https://t.co/i...</td>\n",
       "      <td>Neutral</td>\n",
       "    </tr>\n",
       "    <tr>\n",
       "      <th>1</th>\n",
       "      <td>3800</td>\n",
       "      <td>48752</td>\n",
       "      <td>UK</td>\n",
       "      <td>16-03-2020</td>\n",
       "      <td>advice Talk to your neighbours family to excha...</td>\n",
       "      <td>Positive</td>\n",
       "    </tr>\n",
       "    <tr>\n",
       "      <th>2</th>\n",
       "      <td>3801</td>\n",
       "      <td>48753</td>\n",
       "      <td>Vagabonds</td>\n",
       "      <td>16-03-2020</td>\n",
       "      <td>Coronavirus Australia: Woolworths to give elde...</td>\n",
       "      <td>Positive</td>\n",
       "    </tr>\n",
       "    <tr>\n",
       "      <th>3</th>\n",
       "      <td>3802</td>\n",
       "      <td>48754</td>\n",
       "      <td>NaN</td>\n",
       "      <td>16-03-2020</td>\n",
       "      <td>My food stock is not the only one which is emp...</td>\n",
       "      <td>Positive</td>\n",
       "    </tr>\n",
       "    <tr>\n",
       "      <th>4</th>\n",
       "      <td>3803</td>\n",
       "      <td>48755</td>\n",
       "      <td>NaN</td>\n",
       "      <td>16-03-2020</td>\n",
       "      <td>Me, ready to go at supermarket during the #COV...</td>\n",
       "      <td>Extremely Negative</td>\n",
       "    </tr>\n",
       "  </tbody>\n",
       "</table>\n",
       "</div>"
      ],
      "text/plain": [
       "   UserName  ScreenName   Location     TweetAt  \\\n",
       "0      3799       48751     London  16-03-2020   \n",
       "1      3800       48752         UK  16-03-2020   \n",
       "2      3801       48753  Vagabonds  16-03-2020   \n",
       "3      3802       48754        NaN  16-03-2020   \n",
       "4      3803       48755        NaN  16-03-2020   \n",
       "\n",
       "                                       OriginalTweet           Sentiment  \n",
       "0  @MeNyrbie @Phil_Gahan @Chrisitv https://t.co/i...             Neutral  \n",
       "1  advice Talk to your neighbours family to excha...            Positive  \n",
       "2  Coronavirus Australia: Woolworths to give elde...            Positive  \n",
       "3  My food stock is not the only one which is emp...            Positive  \n",
       "4  Me, ready to go at supermarket during the #COV...  Extremely Negative  "
      ]
     },
     "execution_count": 4,
     "metadata": {},
     "output_type": "execute_result"
    }
   ],
   "source": [
    "df = pd.read_csv('/kaggle/input/covid-19-nlp-text-classification/Corona_NLP_train.csv', encoding='ISO-8859-1')\n",
    "df.head()"
   ]
  },
  {
   "cell_type": "code",
   "execution_count": 5,
   "id": "ed88a6f2",
   "metadata": {
    "execution": {
     "iopub.execute_input": "2025-10-03T14:10:32.347437Z",
     "iopub.status.busy": "2025-10-03T14:10:32.347094Z",
     "iopub.status.idle": "2025-10-03T14:10:32.355604Z",
     "shell.execute_reply": "2025-10-03T14:10:32.354330Z"
    },
    "papermill": {
     "duration": 0.016242,
     "end_time": "2025-10-03T14:10:32.357859",
     "exception": false,
     "start_time": "2025-10-03T14:10:32.341617",
     "status": "completed"
    },
    "tags": []
   },
   "outputs": [
    {
     "data": {
      "text/plain": [
       "Index(['UserName', 'ScreenName', 'Location', 'TweetAt', 'OriginalTweet',\n",
       "       'Sentiment'],\n",
       "      dtype='object')"
      ]
     },
     "execution_count": 5,
     "metadata": {},
     "output_type": "execute_result"
    }
   ],
   "source": [
    "df.columns"
   ]
  },
  {
   "cell_type": "code",
   "execution_count": 6,
   "id": "64e30248",
   "metadata": {
    "execution": {
     "iopub.execute_input": "2025-10-03T14:10:32.367291Z",
     "iopub.status.busy": "2025-10-03T14:10:32.366536Z",
     "iopub.status.idle": "2025-10-03T14:10:32.372237Z",
     "shell.execute_reply": "2025-10-03T14:10:32.370793Z"
    },
    "papermill": {
     "duration": 0.011747,
     "end_time": "2025-10-03T14:10:32.373843",
     "exception": false,
     "start_time": "2025-10-03T14:10:32.362096",
     "status": "completed"
    },
    "tags": []
   },
   "outputs": [
    {
     "name": "stdout",
     "output_type": "stream",
     "text": [
      "(41157, 6)\n"
     ]
    }
   ],
   "source": [
    "# Check shape and nulls\n",
    "print(df.shape)"
   ]
  },
  {
   "cell_type": "code",
   "execution_count": 7,
   "id": "a1c8b038",
   "metadata": {
    "execution": {
     "iopub.execute_input": "2025-10-03T14:10:32.382354Z",
     "iopub.status.busy": "2025-10-03T14:10:32.382036Z",
     "iopub.status.idle": "2025-10-03T14:10:32.401294Z",
     "shell.execute_reply": "2025-10-03T14:10:32.400318Z"
    },
    "papermill": {
     "duration": 0.025818,
     "end_time": "2025-10-03T14:10:32.403411",
     "exception": false,
     "start_time": "2025-10-03T14:10:32.377593",
     "status": "completed"
    },
    "tags": []
   },
   "outputs": [
    {
     "name": "stdout",
     "output_type": "stream",
     "text": [
      "UserName            0\n",
      "ScreenName          0\n",
      "Location         8590\n",
      "TweetAt             0\n",
      "OriginalTweet       0\n",
      "Sentiment           0\n",
      "dtype: int64\n"
     ]
    }
   ],
   "source": [
    "print(df.isnull().sum())"
   ]
  },
  {
   "cell_type": "code",
   "execution_count": 8,
   "id": "866bff3f",
   "metadata": {
    "execution": {
     "iopub.execute_input": "2025-10-03T14:10:32.411968Z",
     "iopub.status.busy": "2025-10-03T14:10:32.411614Z",
     "iopub.status.idle": "2025-10-03T14:10:32.730373Z",
     "shell.execute_reply": "2025-10-03T14:10:32.729097Z"
    },
    "papermill": {
     "duration": 0.325035,
     "end_time": "2025-10-03T14:10:32.732117",
     "exception": false,
     "start_time": "2025-10-03T14:10:32.407082",
     "status": "completed"
    },
    "tags": []
   },
   "outputs": [
    {
     "data": {
      "image/png": "[encoded data removed]",
      "text/plain": [
       "<Figure size 640x480 with 1 Axes>"
      ]
     },
     "metadata": {},
     "output_type": "display_data"
    }
   ],
   "source": [
    "# Plot sentiment counts\n",
    "sns.countplot(data=df, x='Sentiment')\n",
    "plt.title(\"Sentiment Distribution\")\n",
    "plt.xticks(rotation=45)\n",
    "plt.show()"
   ]
  },
  {
   "cell_type": "code",
   "execution_count": 9,
   "id": "d2846a63",
   "metadata": {
    "execution": {
     "iopub.execute_input": "2025-10-03T14:10:32.742042Z",
     "iopub.status.busy": "2025-10-03T14:10:32.741676Z",
     "iopub.status.idle": "2025-10-03T14:10:32.766323Z",
     "shell.execute_reply": "2025-10-03T14:10:32.765413Z"
    },
    "papermill": {
     "duration": 0.031646,
     "end_time": "2025-10-03T14:10:32.768090",
     "exception": false,
     "start_time": "2025-10-03T14:10:32.736444",
     "status": "completed"
    },
    "tags": []
   },
   "outputs": [],
   "source": [
    "# Keep only necessary columns\n",
    "df = df[['OriginalTweet', 'Sentiment']]\n",
    "\n",
    "# Drop missing\n",
    "df.dropna(inplace=True)\n",
    "\n",
    "# Encode labels into binary classes for simplicity\n",
    "df = df[df['Sentiment'].isin(['Positive', 'Negative'])]  # Optional: keep only binary for clearer prediction"
   ]
  },
  {
   "cell_type": "code",
   "execution_count": 10,
   "id": "ee9940bb",
   "metadata": {
    "execution": {
     "iopub.execute_input": "2025-10-03T14:10:32.777804Z",
     "iopub.status.busy": "2025-10-03T14:10:32.777464Z",
     "iopub.status.idle": "2025-10-03T14:10:32.782000Z",
     "shell.execute_reply": "2025-10-03T14:10:32.781082Z"
    },
    "papermill": {
     "duration": 0.011221,
     "end_time": "2025-10-03T14:10:32.783547",
     "exception": false,
     "start_time": "2025-10-03T14:10:32.772326",
     "status": "completed"
    },
    "tags": []
   },
   "outputs": [],
   "source": [
    "X = df['OriginalTweet']\n",
    "y = df['Sentiment']"
   ]
  },
  {
   "cell_type": "code",
   "execution_count": 11,
   "id": "76275094",
   "metadata": {
    "execution": {
     "iopub.execute_input": "2025-10-03T14:10:32.794579Z",
     "iopub.status.busy": "2025-10-03T14:10:32.794241Z",
     "iopub.status.idle": "2025-10-03T14:10:32.803710Z",
     "shell.execute_reply": "2025-10-03T14:10:32.802856Z"
    },
    "papermill": {
     "duration": 0.01816,
     "end_time": "2025-10-03T14:10:32.805817",
     "exception": false,
     "start_time": "2025-10-03T14:10:32.787657",
     "status": "completed"
    },
    "tags": []
   },
   "outputs": [],
   "source": [
    "X_train, X_test, y_train, y_test = train_test_split(X, y, test_size=0.2, random_state=42)"
   ]
  },
  {
   "cell_type": "code",
   "execution_count": 12,
   "id": "5b41b016",
   "metadata": {
    "execution": {
     "iopub.execute_input": "2025-10-03T14:10:32.815476Z",
     "iopub.status.busy": "2025-10-03T14:10:32.815087Z",
     "iopub.status.idle": "2025-10-03T14:10:34.952424Z",
     "shell.execute_reply": "2025-10-03T14:10:34.951548Z"
    },
    "papermill": {
     "duration": 2.144184,
     "end_time": "2025-10-03T14:10:34.954231",
     "exception": false,
     "start_time": "2025-10-03T14:10:32.810047",
     "status": "completed"
    },
    "tags": []
   },
   "outputs": [
    {
     "data": {
      "text/html": [
       "<style>#sk-container-id-1 {color: black;background-color: white;}#sk-container-id-1 pre{padding: 0;}#sk-container-id-1 div.sk-toggleable {background-color: white;}#sk-container-id-1 label.sk-toggleable__label {cursor: pointer;display: block;width: 100%;margin-bottom: 0;padding: 0.3em;box-sizing: border-box;text-align: center;}#sk-container-id-1 label.sk-toggleable__label-arrow:before {content: \"▸\";float: left;margin-right: 0.25em;color: #696969;}#sk-container-id-1 label.sk-toggleable__label-arrow:hover:before {color: black;}#sk-container-id-1 div.sk-estimator:hover label.sk-toggleable__label-arrow:before {color: black;}#sk-container-id-1 div.sk-toggleable__content {max-height: 0;max-width: 0;overflow: hidden;text-align: left;background-color: #f0f8ff;}#sk-container-id-1 div.sk-toggleable__content pre {margin: 0.2em;color: black;border-radius: 0.25em;background-color: #f0f8ff;}#sk-container-id-1 input.sk-toggleable__control:checked~div.sk-toggleable__content {max-height: 200px;max-width: 100%;overflow: auto;}#sk-container-id-1 input.sk-toggleable__control:checked~label.sk-toggleable__label-arrow:before {content: \"▾\";}#sk-container-id-1 div.sk-estimator input.sk-toggleable__control:checked~label.sk-toggleable__label {background-color: #d4ebff;}#sk-container-id-1 div.sk-label input.sk-toggleable__control:checked~label.sk-toggleable__label {background-color: #d4ebff;}#sk-container-id-1 input.sk-hidden--visually {border: 0;clip: rect(1px 1px 1px 1px);clip: rect(1px, 1px, 1px, 1px);height: 1px;margin: -1px;overflow: hidden;padding: 0;position: absolute;width: 1px;}#sk-container-id-1 div.sk-estimator {font-family: monospace;background-color: #f0f8ff;border: 1px dotted black;border-radius: 0.25em;box-sizing: border-box;margin-bottom: 0.5em;}#sk-container-id-1 div.sk-estimator:hover {background-color: #d4ebff;}#sk-container-id-1 div.sk-parallel-item::after {content: \"\";width: 100%;border-bottom: 1px solid gray;flex-grow: 1;}#sk-container-id-1 div.sk-label:hover label.sk-toggleable__label {background-color: #d4ebff;}#sk-container-id-1 div.sk-serial::before {content: \"\";position: absolute;border-left: 1px solid gray;box-sizing: border-box;top: 0;bottom: 0;left: 50%;z-index: 0;}#sk-container-id-1 div.sk-serial {display: flex;flex-direction: column;align-items: center;background-color: white;padding-right: 0.2em;padding-left: 0.2em;position: relative;}#sk-container-id-1 div.sk-item {position: relative;z-index: 1;}#sk-container-id-1 div.sk-parallel {display: flex;align-items: stretch;justify-content: center;background-color: white;position: relative;}#sk-container-id-1 div.sk-item::before, #sk-container-id-1 div.sk-parallel-item::before {content: \"\";position: absolute;border-left: 1px solid gray;box-sizing: border-box;top: 0;bottom: 0;left: 50%;z-index: -1;}#sk-container-id-1 div.sk-parallel-item {display: flex;flex-direction: column;z-index: 1;position: relative;background-color: white;}#sk-container-id-1 div.sk-parallel-item:first-child::after {align-self: flex-end;width: 50%;}#sk-container-id-1 div.sk-parallel-item:last-child::after {align-self: flex-start;width: 50%;}#sk-container-id-1 div.sk-parallel-item:only-child::after {width: 0;}#sk-container-id-1 div.sk-dashed-wrapped {border: 1px dashed gray;margin: 0 0.4em 0.5em 0.4em;box-sizing: border-box;padding-bottom: 0.4em;background-color: white;}#sk-container-id-1 div.sk-label label {font-family: monospace;font-weight: bold;display: inline-block;line-height: 1.2em;}#sk-container-id-1 div.sk-label-container {text-align: center;}#sk-container-id-1 div.sk-container {/* jupyter's `normalize.less` sets `[hidden] { display: none; }` but bootstrap.min.css set `[hidden] { display: none !important; }` so we also need the `!important` here to be able to override the default hidden behavior on the sphinx rendered scikit-learn.org. See: https://github.com/scikit-learn/scikit-learn/issues/21755 */display: inline-block !important;position: relative;}#sk-container-id-1 div.sk-text-repr-fallback {display: none;}</style><div id=\"sk-container-id-1\" class=\"sk-top-container\"><div class=\"sk-text-repr-fallback\"><pre>Pipeline(steps=[(&#x27;tfidfvectorizer&#x27;, TfidfVectorizer(stop_words=&#x27;english&#x27;)),\n",
       "                (&#x27;logisticregression&#x27;, LogisticRegression(max_iter=1000))])</pre><b>In a Jupyter environment, please rerun this cell to show the HTML representation or trust the notebook. <br />On GitHub, the HTML representation is unable to render, please try loading this page with nbviewer.org.</b></div><div class=\"sk-container\" hidden><div class=\"sk-item sk-dashed-wrapped\"><div class=\"sk-label-container\"><div class=\"sk-label sk-toggleable\"><input class=\"sk-toggleable__control sk-hidden--visually\" id=\"sk-estimator-id-1\" type=\"checkbox\" ><label for=\"sk-estimator-id-1\" class=\"sk-toggleable__label sk-toggleable__label-arrow\">Pipeline</label><div class=\"sk-toggleable__content\"><pre>Pipeline(steps=[(&#x27;tfidfvectorizer&#x27;, TfidfVectorizer(stop_words=&#x27;english&#x27;)),\n",
       "                (&#x27;logisticregression&#x27;, LogisticRegression(max_iter=1000))])</pre></div></div></div><div class=\"sk-serial\"><div class=\"sk-item\"><div class=\"sk-estimator sk-toggleable\"><input class=\"sk-toggleable__control sk-hidden--visually\" id=\"sk-estimator-id-2\" type=\"checkbox\" ><label for=\"sk-estimator-id-2\" class=\"sk-toggleable__label sk-toggleable__label-arrow\">TfidfVectorizer</label><div class=\"sk-toggleable__content\"><pre>TfidfVectorizer(stop_words=&#x27;english&#x27;)</pre></div></div></div><div class=\"sk-item\"><div class=\"sk-estimator sk-toggleable\"><input class=\"sk-toggleable__control sk-hidden--visually\" id=\"sk-estimator-id-3\" type=\"checkbox\" ><label for=\"sk-estimator-id-3\" class=\"sk-toggleable__label sk-toggleable__label-arrow\">LogisticRegression</label><div class=\"sk-toggleable__content\"><pre>LogisticRegression(max_iter=1000)</pre></div></div></div></div></div></div></div>"
      ],
      "text/plain": [
       "Pipeline(steps=[('tfidfvectorizer', TfidfVectorizer(stop_words='english')),\n",
       "                ('logisticregression', LogisticRegression(max_iter=1000))])"
      ]
     },
     "execution_count": 12,
     "metadata": {},
     "output_type": "execute_result"
    }
   ],
   "source": [
    "# Pipeline: TF-IDF + Logistic Regression (best simple text model)\n",
    "model = make_pipeline(TfidfVectorizer(stop_words='english'), LogisticRegression(max_iter=1000))\n",
    "\n",
    "# Train\n",
    "model.fit(X_train, y_train)"
   ]
  },
  {
   "cell_type": "code",
   "execution_count": 13,
   "id": "0c28610c",
   "metadata": {
    "execution": {
     "iopub.execute_input": "2025-10-03T14:10:34.969738Z",
     "iopub.status.busy": "2025-10-03T14:10:34.969403Z",
     "iopub.status.idle": "2025-10-03T14:10:35.260627Z",
     "shell.execute_reply": "2025-10-03T14:10:35.259504Z"
    },
    "papermill": {
     "duration": 0.30115,
     "end_time": "2025-10-03T14:10:35.262410",
     "exception": false,
     "start_time": "2025-10-03T14:10:34.961260",
     "status": "completed"
    },
    "tags": []
   },
   "outputs": [
    {
     "name": "stdout",
     "output_type": "stream",
     "text": [
      "              precision    recall  f1-score   support\n",
      "\n",
      "    Negative       0.77      0.69      0.73      1987\n",
      "    Positive       0.75      0.82      0.78      2281\n",
      "\n",
      "    accuracy                           0.76      4268\n",
      "   macro avg       0.76      0.76      0.76      4268\n",
      "weighted avg       0.76      0.76      0.76      4268\n",
      "\n"
     ]
    }
   ],
   "source": [
    "# Predict\n",
    "y_pred = model.predict(X_test)\n",
    "\n",
    "# Report\n",
    "print(classification_report(y_test, y_pred))"
   ]
  },
  {
   "cell_type": "code",
   "execution_count": 14,
   "id": "64c18cc2",
   "metadata": {
    "execution": {
     "iopub.execute_input": "2025-10-03T14:10:35.272522Z",
     "iopub.status.busy": "2025-10-03T14:10:35.272196Z",
     "iopub.status.idle": "2025-10-03T14:10:35.508365Z",
     "shell.execute_reply": "2025-10-03T14:10:35.506646Z"
    },
    "papermill": {
     "duration": 0.243523,
     "end_time": "2025-10-03T14:10:35.510321",
     "exception": false,
     "start_time": "2025-10-03T14:10:35.266798",
     "status": "completed"
    },
    "tags": []
   },
   "outputs": [
    {
     "data": {
      "image/png": "[encoded data removed]",
      "text/plain": [
       "<Figure size 640x480 with 2 Axes>"
      ]
     },
     "metadata": {},
     "output_type": "display_data"
    }
   ],
   "source": [
    "# Confusion Matrix\n",
    "ConfusionMatrixDisplay.from_predictions(y_test, y_pred, cmap='Blues')\n",
    "plt.title(\"Confusion Matrix\")\n",
    "plt.show()"
   ]
  }
 ],
 "metadata": {
  "kaggle": {
   "accelerator": "none",
   "dataSources": [
    {
     "datasetId": 863934,
     "sourceId": 1472453,
     "sourceType": "datasetVersion"
    }
   ],
   "dockerImageVersionId": 31089,
   "isGpuEnabled": false,
   "isInternetEnabled": true,
   "language": "python",
   "sourceType": "notebook"
  },
  "kernelspec": {
   "display_name": "Python 3",
   "language": "python",
   "name": "python3"
  },
  "language_info": {
   "codemirror_mode": {
    "name": "ipython",
    "version": 3
   },
   "file_extension": ".py",
   "mimetype": "text/x-python",
   "name": "python",
   "nbconvert_exporter": "python",
   "pygments_lexer": "ipython3",
   "version": "3.11.13"
  },
  "papermill": {
   "default_parameters": {},
   "duration": 15.022071,
   "end_time": "2025-10-03T14:10:36.337257",
   "environment_variables": {},
   "exception": null,
   "input_path": "__notebook__.ipynb",
   "output_path": "__notebook__.ipynb",
   "parameters": {},
   "start_time": "2025-10-03T14:10:21.315186",
   "version": "2.6.0"
  }
 },
 "nbformat": 4,
 "nbformat_minor": 5
}
