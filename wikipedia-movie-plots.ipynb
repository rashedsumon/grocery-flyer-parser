{
 "cells": [
  {
   "cell_type": "code",
   "execution_count": 1,
   "id": "d182f045",
   "metadata": {
    "_cell_guid": "b1076dfc-b9ad-4769-8c92-a6c4dae69d19",
    "_uuid": "8f2839f25d086af736a60e9eeb907d3b93b6e0e5",
    "execution": {
     "iopub.execute_input": "2025-10-03T14:16:34.384155Z",
     "iopub.status.busy": "2025-10-03T14:16:34.383695Z",
     "iopub.status.idle": "2025-10-03T14:16:36.855948Z",
     "shell.execute_reply": "2025-10-03T14:16:36.854749Z"
    },
    "papermill": {
     "duration": 2.47923,
     "end_time": "2025-10-03T14:16:36.857785",
     "exception": false,
     "start_time": "2025-10-03T14:16:34.378555",
     "status": "completed"
    },
    "tags": []
   },
   "outputs": [
    {
     "name": "stdout",
     "output_type": "stream",
     "text": [
      "/kaggle/input/wikipedia-movie-plots/wiki_movie_plots_deduped.csv\n"
     ]
    }
   ],
   "source": [
    "# This Python 3 environment comes with many helpful analytics libraries installed\n",
    "# It is defined by the kaggle/python Docker image: https://github.com/kaggle/docker-python\n",
    "# For example, here's several helpful packages to load\n",
    "\n",
    "import numpy as np # linear algebra\n",
    "import pandas as pd # data processing, CSV file I/O (e.g. pd.read_csv)\n",
    "\n",
    "# Input data files are available in the read-only \"../input/\" directory\n",
    "# For example, running this (by clicking run or pressing Shift+Enter) will list all files under the input directory\n",
    "\n",
    "import os\n",
    "for dirname, _, filenames in os.walk('/kaggle/input'):\n",
    "    for filename in filenames:\n",
    "        print(os.path.join(dirname, filename))\n",
    "\n",
    "# You can write up to 20GB to the current directory (/kaggle/working/) that gets preserved as output when you create a version using \"Save & Run All\" \n",
    "# You can also write temporary files to /kaggle/temp/, but they won't be saved outside of the current session"
   ]
  },
  {
   "cell_type": "code",
   "execution_count": 2,
   "id": "323be624",
   "metadata": {
    "execution": {
     "iopub.execute_input": "2025-10-03T14:16:36.867131Z",
     "iopub.status.busy": "2025-10-03T14:16:36.866681Z",
     "iopub.status.idle": "2025-10-03T14:16:36.872591Z",
     "shell.execute_reply": "2025-10-03T14:16:36.871254Z"
    },
    "papermill": {
     "duration": 0.012886,
     "end_time": "2025-10-03T14:16:36.874587",
     "exception": false,
     "start_time": "2025-10-03T14:16:36.861701",
     "status": "completed"
    },
    "tags": []
   },
   "outputs": [],
   "source": [
    "import warnings\n",
    "warnings.filterwarnings(\"ignore\")"
   ]
  },
  {
   "cell_type": "code",
   "execution_count": 3,
   "id": "fc1d922b",
   "metadata": {
    "execution": {
     "iopub.execute_input": "2025-10-03T14:16:36.883035Z",
     "iopub.status.busy": "2025-10-03T14:16:36.882679Z",
     "iopub.status.idle": "2025-10-03T14:16:40.519562Z",
     "shell.execute_reply": "2025-10-03T14:16:40.518390Z"
    },
    "papermill": {
     "duration": 3.643467,
     "end_time": "2025-10-03T14:16:40.521753",
     "exception": false,
     "start_time": "2025-10-03T14:16:36.878286",
     "status": "completed"
    },
    "tags": []
   },
   "outputs": [],
   "source": [
    "import pandas as pd\n",
    "import matplotlib.pyplot as plt\n",
    "import seaborn as sns\n",
    "from sklearn.model_selection import train_test_split\n",
    "from sklearn.feature_extraction.text import TfidfVectorizer\n",
    "from sklearn.pipeline import make_pipeline\n",
    "from sklearn.ensemble import RandomForestClassifier\n",
    "from sklearn.metrics import classification_report, confusion_matrix"
   ]
  },
  {
   "cell_type": "code",
   "execution_count": 4,
   "id": "1673e7c2",
   "metadata": {
    "execution": {
     "iopub.execute_input": "2025-10-03T14:16:40.530021Z",
     "iopub.status.busy": "2025-10-03T14:16:40.529533Z",
     "iopub.status.idle": "2025-10-03T14:16:42.823804Z",
     "shell.execute_reply": "2025-10-03T14:16:42.822727Z"
    },
    "papermill": {
     "duration": 2.300856,
     "end_time": "2025-10-03T14:16:42.826180",
     "exception": false,
     "start_time": "2025-10-03T14:16:40.525324",
     "status": "completed"
    },
    "tags": []
   },
   "outputs": [
    {
     "data": {
      "text/html": [
       "<div>\n",
       "<style scoped>\n",
       "    .dataframe tbody tr th:only-of-type {\n",
       "        vertical-align: middle;\n",
       "    }\n",
       "\n",
       "    .dataframe tbody tr th {\n",
       "        vertical-align: top;\n",
       "    }\n",
       "\n",
       "    .dataframe thead th {\n",
       "        text-align: right;\n",
       "    }\n",
       "</style>\n",
       "<table border=\"1\" class=\"dataframe\">\n",
       "  <thead>\n",
       "    <tr style=\"text-align: right;\">\n",
       "      <th></th>\n",
       "      <th>Release Year</th>\n",
       "      <th>Title</th>\n",
       "      <th>Origin/Ethnicity</th>\n",
       "      <th>Director</th>\n",
       "      <th>Cast</th>\n",
       "      <th>Genre</th>\n",
       "      <th>Wiki Page</th>\n",
       "      <th>Plot</th>\n",
       "    </tr>\n",
       "  </thead>\n",
       "  <tbody>\n",
       "    <tr>\n",
       "      <th>0</th>\n",
       "      <td>1901</td>\n",
       "      <td>Kansas Saloon Smashers</td>\n",
       "      <td>American</td>\n",
       "      <td>Unknown</td>\n",
       "      <td>NaN</td>\n",
       "      <td>unknown</td>\n",
       "      <td>https://en.wikipedia.org/wiki/Kansas_Saloon_Sm...</td>\n",
       "      <td>A bartender is working at a saloon, serving dr...</td>\n",
       "    </tr>\n",
       "    <tr>\n",
       "      <th>1</th>\n",
       "      <td>1901</td>\n",
       "      <td>Love by the Light of the Moon</td>\n",
       "      <td>American</td>\n",
       "      <td>Unknown</td>\n",
       "      <td>NaN</td>\n",
       "      <td>unknown</td>\n",
       "      <td>https://en.wikipedia.org/wiki/Love_by_the_Ligh...</td>\n",
       "      <td>The moon, painted with a smiling face hangs ov...</td>\n",
       "    </tr>\n",
       "    <tr>\n",
       "      <th>2</th>\n",
       "      <td>1901</td>\n",
       "      <td>The Martyred Presidents</td>\n",
       "      <td>American</td>\n",
       "      <td>Unknown</td>\n",
       "      <td>NaN</td>\n",
       "      <td>unknown</td>\n",
       "      <td>https://en.wikipedia.org/wiki/The_Martyred_Pre...</td>\n",
       "      <td>The film, just over a minute long, is composed...</td>\n",
       "    </tr>\n",
       "    <tr>\n",
       "      <th>3</th>\n",
       "      <td>1901</td>\n",
       "      <td>Terrible Teddy, the Grizzly King</td>\n",
       "      <td>American</td>\n",
       "      <td>Unknown</td>\n",
       "      <td>NaN</td>\n",
       "      <td>unknown</td>\n",
       "      <td>https://en.wikipedia.org/wiki/Terrible_Teddy,_...</td>\n",
       "      <td>Lasting just 61 seconds and consisting of two ...</td>\n",
       "    </tr>\n",
       "    <tr>\n",
       "      <th>4</th>\n",
       "      <td>1902</td>\n",
       "      <td>Jack and the Beanstalk</td>\n",
       "      <td>American</td>\n",
       "      <td>George S. Fleming, Edwin S. Porter</td>\n",
       "      <td>NaN</td>\n",
       "      <td>unknown</td>\n",
       "      <td>https://en.wikipedia.org/wiki/Jack_and_the_Bea...</td>\n",
       "      <td>The earliest known adaptation of the classic f...</td>\n",
       "    </tr>\n",
       "  </tbody>\n",
       "</table>\n",
       "</div>"
      ],
      "text/plain": [
       "   Release Year                             Title Origin/Ethnicity  \\\n",
       "0          1901            Kansas Saloon Smashers         American   \n",
       "1          1901     Love by the Light of the Moon         American   \n",
       "2          1901           The Martyred Presidents         American   \n",
       "3          1901  Terrible Teddy, the Grizzly King         American   \n",
       "4          1902            Jack and the Beanstalk         American   \n",
       "\n",
       "                             Director Cast    Genre  \\\n",
       "0                             Unknown  NaN  unknown   \n",
       "1                             Unknown  NaN  unknown   \n",
       "2                             Unknown  NaN  unknown   \n",
       "3                             Unknown  NaN  unknown   \n",
       "4  George S. Fleming, Edwin S. Porter  NaN  unknown   \n",
       "\n",
       "                                           Wiki Page  \\\n",
       "0  https://en.wikipedia.org/wiki/Kansas_Saloon_Sm...   \n",
       "1  https://en.wikipedia.org/wiki/Love_by_the_Ligh...   \n",
       "2  https://en.wikipedia.org/wiki/The_Martyred_Pre...   \n",
       "3  https://en.wikipedia.org/wiki/Terrible_Teddy,_...   \n",
       "4  https://en.wikipedia.org/wiki/Jack_and_the_Bea...   \n",
       "\n",
       "                                                Plot  \n",
       "0  A bartender is working at a saloon, serving dr...  \n",
       "1  The moon, painted with a smiling face hangs ov...  \n",
       "2  The film, just over a minute long, is composed...  \n",
       "3  Lasting just 61 seconds and consisting of two ...  \n",
       "4  The earliest known adaptation of the classic f...  "
      ]
     },
     "execution_count": 4,
     "metadata": {},
     "output_type": "execute_result"
    }
   ],
   "source": [
    "df = pd.read_csv('/kaggle/input/wikipedia-movie-plots/wiki_movie_plots_deduped.csv')\n",
    "df.head()"
   ]
  },
  {
   "cell_type": "code",
   "execution_count": 5,
   "id": "f8d4e3dc",
   "metadata": {
    "execution": {
     "iopub.execute_input": "2025-10-03T14:16:42.836867Z",
     "iopub.status.busy": "2025-10-03T14:16:42.836540Z",
     "iopub.status.idle": "2025-10-03T14:16:42.846591Z",
     "shell.execute_reply": "2025-10-03T14:16:42.845176Z"
    },
    "papermill": {
     "duration": 0.018059,
     "end_time": "2025-10-03T14:16:42.848648",
     "exception": false,
     "start_time": "2025-10-03T14:16:42.830589",
     "status": "completed"
    },
    "tags": []
   },
   "outputs": [
    {
     "data": {
      "text/plain": [
       "Index(['Release Year', 'Title', 'Origin/Ethnicity', 'Director', 'Cast',\n",
       "       'Genre', 'Wiki Page', 'Plot'],\n",
       "      dtype='object')"
      ]
     },
     "execution_count": 5,
     "metadata": {},
     "output_type": "execute_result"
    }
   ],
   "source": [
    "df.columns"
   ]
  },
  {
   "cell_type": "code",
   "execution_count": 6,
   "id": "3e395eab",
   "metadata": {
    "execution": {
     "iopub.execute_input": "2025-10-03T14:16:42.858389Z",
     "iopub.status.busy": "2025-10-03T14:16:42.857666Z",
     "iopub.status.idle": "2025-10-03T14:16:42.911217Z",
     "shell.execute_reply": "2025-10-03T14:16:42.909967Z"
    },
    "papermill": {
     "duration": 0.060366,
     "end_time": "2025-10-03T14:16:42.913166",
     "exception": false,
     "start_time": "2025-10-03T14:16:42.852800",
     "status": "completed"
    },
    "tags": []
   },
   "outputs": [
    {
     "name": "stdout",
     "output_type": "stream",
     "text": [
      "<class 'pandas.core.frame.DataFrame'>\n",
      "RangeIndex: 34886 entries, 0 to 34885\n",
      "Data columns (total 8 columns):\n",
      " #   Column            Non-Null Count  Dtype \n",
      "---  ------            --------------  ----- \n",
      " 0   Release Year      34886 non-null  int64 \n",
      " 1   Title             34886 non-null  object\n",
      " 2   Origin/Ethnicity  34886 non-null  object\n",
      " 3   Director          34886 non-null  object\n",
      " 4   Cast              33464 non-null  object\n",
      " 5   Genre             34886 non-null  object\n",
      " 6   Wiki Page         34886 non-null  object\n",
      " 7   Plot              34886 non-null  object\n",
      "dtypes: int64(1), object(7)\n",
      "memory usage: 2.1+ MB\n"
     ]
    }
   ],
   "source": [
    "df.info()  # Check for nulls"
   ]
  },
  {
   "cell_type": "code",
   "execution_count": 7,
   "id": "c5d1a839",
   "metadata": {
    "execution": {
     "iopub.execute_input": "2025-10-03T14:16:42.923053Z",
     "iopub.status.busy": "2025-10-03T14:16:42.921751Z",
     "iopub.status.idle": "2025-10-03T14:16:43.375760Z",
     "shell.execute_reply": "2025-10-03T14:16:43.374721Z"
    },
    "papermill": {
     "duration": 0.460741,
     "end_time": "2025-10-03T14:16:43.377862",
     "exception": false,
     "start_time": "2025-10-03T14:16:42.917121",
     "status": "completed"
    },
    "tags": []
   },
   "outputs": [
    {
     "data": {
      "image/png": "[encoded data removed]",
      "text/plain": [
       "<Figure size 640x480 with 1 Axes>"
      ]
     },
     "metadata": {},
     "output_type": "display_data"
    }
   ],
   "source": [
    "df['Genre'].value_counts().head(10).plot(kind='barh', title='Top 10 Genres')\n",
    "plt.show()"
   ]
  },
  {
   "cell_type": "code",
   "execution_count": 8,
   "id": "f90a7039",
   "metadata": {
    "execution": {
     "iopub.execute_input": "2025-10-03T14:16:43.388045Z",
     "iopub.status.busy": "2025-10-03T14:16:43.387689Z",
     "iopub.status.idle": "2025-10-03T14:16:43.419613Z",
     "shell.execute_reply": "2025-10-03T14:16:43.418598Z"
    },
    "papermill": {
     "duration": 0.039329,
     "end_time": "2025-10-03T14:16:43.421583",
     "exception": false,
     "start_time": "2025-10-03T14:16:43.382254",
     "status": "completed"
    },
    "tags": []
   },
   "outputs": [],
   "source": [
    "df = df[['Plot', 'Genre']].dropna()\n",
    "top_genres = df['Genre'].value_counts().nlargest(10).index\n",
    "df = df[df['Genre'].isin(top_genres)]"
   ]
  },
  {
   "cell_type": "code",
   "execution_count": 9,
   "id": "2bdb5279",
   "metadata": {
    "execution": {
     "iopub.execute_input": "2025-10-03T14:16:43.431433Z",
     "iopub.status.busy": "2025-10-03T14:16:43.431098Z",
     "iopub.status.idle": "2025-10-03T14:16:43.436772Z",
     "shell.execute_reply": "2025-10-03T14:16:43.435481Z"
    },
    "papermill": {
     "duration": 0.012646,
     "end_time": "2025-10-03T14:16:43.438623",
     "exception": false,
     "start_time": "2025-10-03T14:16:43.425977",
     "status": "completed"
    },
    "tags": []
   },
   "outputs": [],
   "source": [
    "X = df['Plot']\n",
    "y = df['Genre']"
   ]
  },
  {
   "cell_type": "code",
   "execution_count": 10,
   "id": "d46a5f9f",
   "metadata": {
    "execution": {
     "iopub.execute_input": "2025-10-03T14:16:43.448500Z",
     "iopub.status.busy": "2025-10-03T14:16:43.448038Z",
     "iopub.status.idle": "2025-10-03T14:16:43.459027Z",
     "shell.execute_reply": "2025-10-03T14:16:43.457842Z"
    },
    "papermill": {
     "duration": 0.0182,
     "end_time": "2025-10-03T14:16:43.461066",
     "exception": false,
     "start_time": "2025-10-03T14:16:43.442866",
     "status": "completed"
    },
    "tags": []
   },
   "outputs": [],
   "source": [
    "X_train, X_test, y_train, y_test = train_test_split(X, y, test_size=0.2, random_state=42)"
   ]
  },
  {
   "cell_type": "code",
   "execution_count": 11,
   "id": "f679ef1d",
   "metadata": {
    "execution": {
     "iopub.execute_input": "2025-10-03T14:16:43.471506Z",
     "iopub.status.busy": "2025-10-03T14:16:43.471130Z",
     "iopub.status.idle": "2025-10-03T14:19:00.179380Z",
     "shell.execute_reply": "2025-10-03T14:19:00.178153Z"
    },
    "papermill": {
     "duration": 136.718713,
     "end_time": "2025-10-03T14:19:00.184572",
     "exception": false,
     "start_time": "2025-10-03T14:16:43.465859",
     "status": "completed"
    },
    "tags": []
   },
   "outputs": [
    {
     "data": {
      "text/html": [
       "<style>#sk-container-id-1 {color: black;background-color: white;}#sk-container-id-1 pre{padding: 0;}#sk-container-id-1 div.sk-toggleable {background-color: white;}#sk-container-id-1 label.sk-toggleable__label {cursor: pointer;display: block;width: 100%;margin-bottom: 0;padding: 0.3em;box-sizing: border-box;text-align: center;}#sk-container-id-1 label.sk-toggleable__label-arrow:before {content: \"▸\";float: left;margin-right: 0.25em;color: #696969;}#sk-container-id-1 label.sk-toggleable__label-arrow:hover:before {color: black;}#sk-container-id-1 div.sk-estimator:hover label.sk-toggleable__label-arrow:before {color: black;}#sk-container-id-1 div.sk-toggleable__content {max-height: 0;max-width: 0;overflow: hidden;text-align: left;background-color: #f0f8ff;}#sk-container-id-1 div.sk-toggleable__content pre {margin: 0.2em;color: black;border-radius: 0.25em;background-color: #f0f8ff;}#sk-container-id-1 input.sk-toggleable__control:checked~div.sk-toggleable__content {max-height: 200px;max-width: 100%;overflow: auto;}#sk-container-id-1 input.sk-toggleable__control:checked~label.sk-toggleable__label-arrow:before {content: \"▾\";}#sk-container-id-1 div.sk-estimator input.sk-toggleable__control:checked~label.sk-toggleable__label {background-color: #d4ebff;}#sk-container-id-1 div.sk-label input.sk-toggleable__control:checked~label.sk-toggleable__label {background-color: #d4ebff;}#sk-container-id-1 input.sk-hidden--visually {border: 0;clip: rect(1px 1px 1px 1px);clip: rect(1px, 1px, 1px, 1px);height: 1px;margin: -1px;overflow: hidden;padding: 0;position: absolute;width: 1px;}#sk-container-id-1 div.sk-estimator {font-family: monospace;background-color: #f0f8ff;border: 1px dotted black;border-radius: 0.25em;box-sizing: border-box;margin-bottom: 0.5em;}#sk-container-id-1 div.sk-estimator:hover {background-color: #d4ebff;}#sk-container-id-1 div.sk-parallel-item::after {content: \"\";width: 100%;border-bottom: 1px solid gray;flex-grow: 1;}#sk-container-id-1 div.sk-label:hover label.sk-toggleable__label {background-color: #d4ebff;}#sk-container-id-1 div.sk-serial::before {content: \"\";position: absolute;border-left: 1px solid gray;box-sizing: border-box;top: 0;bottom: 0;left: 50%;z-index: 0;}#sk-container-id-1 div.sk-serial {display: flex;flex-direction: column;align-items: center;background-color: white;padding-right: 0.2em;padding-left: 0.2em;position: relative;}#sk-container-id-1 div.sk-item {position: relative;z-index: 1;}#sk-container-id-1 div.sk-parallel {display: flex;align-items: stretch;justify-content: center;background-color: white;position: relative;}#sk-container-id-1 div.sk-item::before, #sk-container-id-1 div.sk-parallel-item::before {content: \"\";position: absolute;border-left: 1px solid gray;box-sizing: border-box;top: 0;bottom: 0;left: 50%;z-index: -1;}#sk-container-id-1 div.sk-parallel-item {display: flex;flex-direction: column;z-index: 1;position: relative;background-color: white;}#sk-container-id-1 div.sk-parallel-item:first-child::after {align-self: flex-end;width: 50%;}#sk-container-id-1 div.sk-parallel-item:last-child::after {align-self: flex-start;width: 50%;}#sk-container-id-1 div.sk-parallel-item:only-child::after {width: 0;}#sk-container-id-1 div.sk-dashed-wrapped {border: 1px dashed gray;margin: 0 0.4em 0.5em 0.4em;box-sizing: border-box;padding-bottom: 0.4em;background-color: white;}#sk-container-id-1 div.sk-label label {font-family: monospace;font-weight: bold;display: inline-block;line-height: 1.2em;}#sk-container-id-1 div.sk-label-container {text-align: center;}#sk-container-id-1 div.sk-container {/* jupyter's `normalize.less` sets `[hidden] { display: none; }` but bootstrap.min.css set `[hidden] { display: none !important; }` so we also need the `!important` here to be able to override the default hidden behavior on the sphinx rendered scikit-learn.org. See: https://github.com/scikit-learn/scikit-learn/issues/21755 */display: inline-block !important;position: relative;}#sk-container-id-1 div.sk-text-repr-fallback {display: none;}</style><div id=\"sk-container-id-1\" class=\"sk-top-container\"><div class=\"sk-text-repr-fallback\"><pre>Pipeline(steps=[(&#x27;tfidfvectorizer&#x27;,\n",
       "                 TfidfVectorizer(max_features=10000, stop_words=&#x27;english&#x27;)),\n",
       "                (&#x27;randomforestclassifier&#x27;,\n",
       "                 RandomForestClassifier(random_state=42))])</pre><b>In a Jupyter environment, please rerun this cell to show the HTML representation or trust the notebook. <br />On GitHub, the HTML representation is unable to render, please try loading this page with nbviewer.org.</b></div><div class=\"sk-container\" hidden><div class=\"sk-item sk-dashed-wrapped\"><div class=\"sk-label-container\"><div class=\"sk-label sk-toggleable\"><input class=\"sk-toggleable__control sk-hidden--visually\" id=\"sk-estimator-id-1\" type=\"checkbox\" ><label for=\"sk-estimator-id-1\" class=\"sk-toggleable__label sk-toggleable__label-arrow\">Pipeline</label><div class=\"sk-toggleable__content\"><pre>Pipeline(steps=[(&#x27;tfidfvectorizer&#x27;,\n",
       "                 TfidfVectorizer(max_features=10000, stop_words=&#x27;english&#x27;)),\n",
       "                (&#x27;randomforestclassifier&#x27;,\n",
       "                 RandomForestClassifier(random_state=42))])</pre></div></div></div><div class=\"sk-serial\"><div class=\"sk-item\"><div class=\"sk-estimator sk-toggleable\"><input class=\"sk-toggleable__control sk-hidden--visually\" id=\"sk-estimator-id-2\" type=\"checkbox\" ><label for=\"sk-estimator-id-2\" class=\"sk-toggleable__label sk-toggleable__label-arrow\">TfidfVectorizer</label><div class=\"sk-toggleable__content\"><pre>TfidfVectorizer(max_features=10000, stop_words=&#x27;english&#x27;)</pre></div></div></div><div class=\"sk-item\"><div class=\"sk-estimator sk-toggleable\"><input class=\"sk-toggleable__control sk-hidden--visually\" id=\"sk-estimator-id-3\" type=\"checkbox\" ><label for=\"sk-estimator-id-3\" class=\"sk-toggleable__label sk-toggleable__label-arrow\">RandomForestClassifier</label><div class=\"sk-toggleable__content\"><pre>RandomForestClassifier(random_state=42)</pre></div></div></div></div></div></div></div>"
      ],
      "text/plain": [
       "Pipeline(steps=[('tfidfvectorizer',\n",
       "                 TfidfVectorizer(max_features=10000, stop_words='english')),\n",
       "                ('randomforestclassifier',\n",
       "                 RandomForestClassifier(random_state=42))])"
      ]
     },
     "execution_count": 11,
     "metadata": {},
     "output_type": "execute_result"
    }
   ],
   "source": [
    "model = make_pipeline(\n",
    "    TfidfVectorizer(stop_words='english', max_features=10000),\n",
    "    RandomForestClassifier(n_estimators=100, random_state=42)\n",
    ")\n",
    "\n",
    "model.fit(X_train, y_train)"
   ]
  },
  {
   "cell_type": "code",
   "execution_count": 12,
   "id": "d737419f",
   "metadata": {
    "execution": {
     "iopub.execute_input": "2025-10-03T14:19:00.194979Z",
     "iopub.status.busy": "2025-10-03T14:19:00.194603Z",
     "iopub.status.idle": "2025-10-03T14:19:01.984975Z",
     "shell.execute_reply": "2025-10-03T14:19:01.983468Z"
    },
    "papermill": {
     "duration": 1.797633,
     "end_time": "2025-10-03T14:19:01.986764",
     "exception": false,
     "start_time": "2025-10-03T14:19:00.189131",
     "status": "completed"
    },
    "tags": []
   },
   "outputs": [
    {
     "name": "stdout",
     "output_type": "stream",
     "text": [
      "              precision    recall  f1-score   support\n",
      "\n",
      "      action       0.50      0.04      0.07       222\n",
      "   adventure       0.80      0.04      0.08        97\n",
      "      comedy       0.58      0.44      0.50       896\n",
      "       crime       0.33      0.01      0.02       101\n",
      "       drama       0.43      0.64      0.51      1184\n",
      "      horror       0.67      0.37      0.48       244\n",
      "     romance       0.00      0.00      0.00       194\n",
      "    thriller       0.50      0.01      0.03       209\n",
      "     unknown       0.48      0.72      0.58      1171\n",
      "     western       0.88      0.63      0.73       190\n",
      "\n",
      "    accuracy                           0.49      4508\n",
      "   macro avg       0.52      0.29      0.30      4508\n",
      "weighted avg       0.50      0.49      0.45      4508\n",
      "\n"
     ]
    }
   ],
   "source": [
    "y_pred = model.predict(X_test)\n",
    "print(classification_report(y_test, y_pred))"
   ]
  },
  {
   "cell_type": "code",
   "execution_count": 13,
   "id": "fe9125eb",
   "metadata": {
    "execution": {
     "iopub.execute_input": "2025-10-03T14:19:01.998800Z",
     "iopub.status.busy": "2025-10-03T14:19:01.998453Z",
     "iopub.status.idle": "2025-10-03T14:19:02.511738Z",
     "shell.execute_reply": "2025-10-03T14:19:02.510660Z"
    },
    "papermill": {
     "duration": 0.522183,
     "end_time": "2025-10-03T14:19:02.513721",
     "exception": false,
     "start_time": "2025-10-03T14:19:01.991538",
     "status": "completed"
    },
    "tags": []
   },
   "outputs": [
    {
     "data": {
      "image/png": "[encoded data removed]",
      "text/plain": [
       "<Figure size 1000x600 with 2 Axes>"
      ]
     },
     "metadata": {},
     "output_type": "display_data"
    }
   ],
   "source": [
    "plt.figure(figsize=(10, 6))\n",
    "sns.heatmap(confusion_matrix(y_test, y_pred), annot=True, fmt='d',\n",
    "            xticklabels=top_genres, yticklabels=top_genres, cmap='Blues')\n",
    "plt.title('Confusion Matrix')\n",
    "plt.xlabel('Predicted')\n",
    "plt.ylabel('Actual')\n",
    "plt.show()"
   ]
  }
 ],
 "metadata": {
  "kaggle": {
   "accelerator": "none",
   "dataSources": [
    {
     "datasetId": 64890,
     "sourceId": 127736,
     "sourceType": "datasetVersion"
    }
   ],
   "dockerImageVersionId": 31089,
   "isGpuEnabled": false,
   "isInternetEnabled": true,
   "language": "python",
   "sourceType": "notebook"
  },
  "kernelspec": {
   "display_name": "Python 3",
   "language": "python",
   "name": "python3"
  },
  "language_info": {
   "codemirror_mode": {
    "name": "ipython",
    "version": 3
   },
   "file_extension": ".py",
   "mimetype": "text/x-python",
   "name": "python",
   "nbconvert_exporter": "python",
   "pygments_lexer": "ipython3",
   "version": "3.11.13"
  },
  "papermill": {
   "default_parameters": {},
   "duration": 156.20807,
   "end_time": "2025-10-03T14:19:03.342992",
   "environment_variables": {},
   "exception": null,
   "input_path": "__notebook__.ipynb",
   "output_path": "__notebook__.ipynb",
   "parameters": {},
   "start_time": "2025-10-03T14:16:27.134922",
   "version": "2.6.0"
  }
 },
 "nbformat": 4,
 "nbformat_minor": 5
}
