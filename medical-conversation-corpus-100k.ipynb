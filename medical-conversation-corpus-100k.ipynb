{
 "cells": [
  {
   "cell_type": "code",
   "execution_count": 1,
   "id": "281610ea",
   "metadata": {
    "_cell_guid": "b1076dfc-b9ad-4769-8c92-a6c4dae69d19",
    "_uuid": "8f2839f25d086af736a60e9eeb907d3b93b6e0e5",
    "execution": {
     "iopub.execute_input": "2025-10-03T11:09:14.031311Z",
     "iopub.status.busy": "2025-10-03T11:09:14.031052Z",
     "iopub.status.idle": "2025-10-03T11:09:15.462512Z",
     "shell.execute_reply": "2025-10-03T11:09:15.461680Z"
    },
    "papermill": {
     "duration": 1.43675,
     "end_time": "2025-10-03T11:09:15.463679",
     "exception": false,
     "start_time": "2025-10-03T11:09:14.026929",
     "status": "completed"
    },
    "tags": []
   },
   "outputs": [
    {
     "name": "stdout",
     "output_type": "stream",
     "text": [
      "/kaggle/input/medical-conversation-corpus-100k/train.csv\n",
      "/kaggle/input/medical-conversation-corpus-100k/test.csv\n"
     ]
    }
   ],
   "source": [
    "# This Python 3 environment comes with many helpful analytics libraries installed\n",
    "# It is defined by the kaggle/python Docker image: https://github.com/kaggle/docker-python\n",
    "# For example, here's several helpful packages to load\n",
    "\n",
    "import numpy as np # linear algebra\n",
    "import pandas as pd # data processing, CSV file I/O (e.g. pd.read_csv)\n",
    "\n",
    "# Input data files are available in the read-only \"../input/\" directory\n",
    "# For example, running this (by clicking run or pressing Shift+Enter) will list all files under the input directory\n",
    "\n",
    "import os\n",
    "for dirname, _, filenames in os.walk('/kaggle/input'):\n",
    "    for filename in filenames:\n",
    "        print(os.path.join(dirname, filename))\n",
    "\n",
    "# You can write up to 20GB to the current directory (/kaggle/working/) that gets preserved as output when you create a version using \"Save & Run All\" \n",
    "# You can also write temporary files to /kaggle/temp/, but they won't be saved outside of the current session"
   ]
  },
  {
   "cell_type": "code",
   "execution_count": 2,
   "id": "73832897",
   "metadata": {
    "execution": {
     "iopub.execute_input": "2025-10-03T11:09:15.470046Z",
     "iopub.status.busy": "2025-10-03T11:09:15.469718Z",
     "iopub.status.idle": "2025-10-03T11:09:15.473137Z",
     "shell.execute_reply": "2025-10-03T11:09:15.472581Z"
    },
    "papermill": {
     "duration": 0.007614,
     "end_time": "2025-10-03T11:09:15.474224",
     "exception": false,
     "start_time": "2025-10-03T11:09:15.466610",
     "status": "completed"
    },
    "tags": []
   },
   "outputs": [],
   "source": [
    "import warnings\n",
    "warnings.filterwarnings(\"ignore\")"
   ]
  },
  {
   "cell_type": "code",
   "execution_count": 3,
   "id": "ac66a50f",
   "metadata": {
    "execution": {
     "iopub.execute_input": "2025-10-03T11:09:15.480020Z",
     "iopub.status.busy": "2025-10-03T11:09:15.479785Z",
     "iopub.status.idle": "2025-10-03T11:09:16.815737Z",
     "shell.execute_reply": "2025-10-03T11:09:16.815121Z"
    },
    "papermill": {
     "duration": 1.34047,
     "end_time": "2025-10-03T11:09:16.817201",
     "exception": false,
     "start_time": "2025-10-03T11:09:15.476731",
     "status": "completed"
    },
    "tags": []
   },
   "outputs": [],
   "source": [
    "import pandas as pd\n",
    "import matplotlib.pyplot as plt\n",
    "from sklearn.model_selection import train_test_split\n",
    "from sklearn.feature_extraction.text import TfidfVectorizer\n",
    "from sklearn.linear_model import LogisticRegression\n",
    "from sklearn.metrics import accuracy_score, classification_report"
   ]
  },
  {
   "cell_type": "code",
   "execution_count": 4,
   "id": "c86017d0",
   "metadata": {
    "execution": {
     "iopub.execute_input": "2025-10-03T11:09:16.823771Z",
     "iopub.status.busy": "2025-10-03T11:09:16.823170Z",
     "iopub.status.idle": "2025-10-03T11:09:19.570640Z",
     "shell.execute_reply": "2025-10-03T11:09:19.569851Z"
    },
    "papermill": {
     "duration": 2.751941,
     "end_time": "2025-10-03T11:09:19.571975",
     "exception": false,
     "start_time": "2025-10-03T11:09:16.820034",
     "status": "completed"
    },
    "tags": []
   },
   "outputs": [
    {
     "data": {
      "text/html": [
       "<div>\n",
       "<style scoped>\n",
       "    .dataframe tbody tr th:only-of-type {\n",
       "        vertical-align: middle;\n",
       "    }\n",
       "\n",
       "    .dataframe tbody tr th {\n",
       "        vertical-align: top;\n",
       "    }\n",
       "\n",
       "    .dataframe thead th {\n",
       "        text-align: right;\n",
       "    }\n",
       "</style>\n",
       "<table border=\"1\" class=\"dataframe\">\n",
       "  <thead>\n",
       "    <tr style=\"text-align: right;\">\n",
       "      <th></th>\n",
       "      <th>Conversation</th>\n",
       "    </tr>\n",
       "  </thead>\n",
       "  <tbody>\n",
       "    <tr>\n",
       "      <th>0</th>\n",
       "      <td>The conversation between human and AI assistan...</td>\n",
       "    </tr>\n",
       "    <tr>\n",
       "      <th>1</th>\n",
       "      <td>The conversation between human and AI assistan...</td>\n",
       "    </tr>\n",
       "    <tr>\n",
       "      <th>2</th>\n",
       "      <td>The conversation between human and AI assistan...</td>\n",
       "    </tr>\n",
       "    <tr>\n",
       "      <th>3</th>\n",
       "      <td>The conversation between human and AI assistan...</td>\n",
       "    </tr>\n",
       "    <tr>\n",
       "      <th>4</th>\n",
       "      <td>The conversation between human and AI assistan...</td>\n",
       "    </tr>\n",
       "  </tbody>\n",
       "</table>\n",
       "</div>"
      ],
      "text/plain": [
       "                                        Conversation\n",
       "0  The conversation between human and AI assistan...\n",
       "1  The conversation between human and AI assistan...\n",
       "2  The conversation between human and AI assistan...\n",
       "3  The conversation between human and AI assistan...\n",
       "4  The conversation between human and AI assistan..."
      ]
     },
     "execution_count": 4,
     "metadata": {},
     "output_type": "execute_result"
    }
   ],
   "source": [
    "df = pd.read_csv('/kaggle/input/medical-conversation-corpus-100k/train.csv')\n",
    "df.head()"
   ]
  },
  {
   "cell_type": "code",
   "execution_count": 5,
   "id": "57a525d8",
   "metadata": {
    "execution": {
     "iopub.execute_input": "2025-10-03T11:09:19.579103Z",
     "iopub.status.busy": "2025-10-03T11:09:19.578506Z",
     "iopub.status.idle": "2025-10-03T11:09:19.584498Z",
     "shell.execute_reply": "2025-10-03T11:09:19.583855Z"
    },
    "papermill": {
     "duration": 0.010518,
     "end_time": "2025-10-03T11:09:19.585533",
     "exception": false,
     "start_time": "2025-10-03T11:09:19.575015",
     "status": "completed"
    },
    "tags": []
   },
   "outputs": [
    {
     "data": {
      "text/plain": [
       "Index(['Conversation'], dtype='object')"
      ]
     },
     "execution_count": 5,
     "metadata": {},
     "output_type": "execute_result"
    }
   ],
   "source": [
    "df.columns"
   ]
  },
  {
   "cell_type": "code",
   "execution_count": 6,
   "id": "d013fcb8",
   "metadata": {
    "execution": {
     "iopub.execute_input": "2025-10-03T11:09:19.591815Z",
     "iopub.status.busy": "2025-10-03T11:09:19.591607Z",
     "iopub.status.idle": "2025-10-03T11:09:19.619625Z",
     "shell.execute_reply": "2025-10-03T11:09:19.619029Z"
    },
    "papermill": {
     "duration": 0.032163,
     "end_time": "2025-10-03T11:09:19.620606",
     "exception": false,
     "start_time": "2025-10-03T11:09:19.588443",
     "status": "completed"
    },
    "tags": []
   },
   "outputs": [
    {
     "name": "stdout",
     "output_type": "stream",
     "text": [
      "\n",
      "Dataset info:\n",
      "<class 'pandas.core.frame.DataFrame'>\n",
      "RangeIndex: 106556 entries, 0 to 106555\n",
      "Data columns (total 1 columns):\n",
      " #   Column        Non-Null Count   Dtype \n",
      "---  ------        --------------   ----- \n",
      " 0   Conversation  106556 non-null  object\n",
      "dtypes: object(1)\n",
      "memory usage: 832.6+ KB\n",
      "None\n"
     ]
    }
   ],
   "source": [
    "# Basic info about the dataset\n",
    "print(\"\\nDataset info:\")\n",
    "print(df.info())"
   ]
  },
  {
   "cell_type": "code",
   "execution_count": 7,
   "id": "45d48ea1",
   "metadata": {
    "execution": {
     "iopub.execute_input": "2025-10-03T11:09:19.626563Z",
     "iopub.status.busy": "2025-10-03T11:09:19.626386Z",
     "iopub.status.idle": "2025-10-03T11:09:19.641097Z",
     "shell.execute_reply": "2025-10-03T11:09:19.640177Z"
    },
    "papermill": {
     "duration": 0.019005,
     "end_time": "2025-10-03T11:09:19.642255",
     "exception": false,
     "start_time": "2025-10-03T11:09:19.623250",
     "status": "completed"
    },
    "tags": []
   },
   "outputs": [
    {
     "name": "stdout",
     "output_type": "stream",
     "text": [
      "\n",
      "Missing values:\n",
      "Conversation    0\n",
      "dtype: int64\n"
     ]
    }
   ],
   "source": [
    "# Check for missing values\n",
    "print(\"\\nMissing values:\")\n",
    "print(df.isnull().sum())"
   ]
  },
  {
   "cell_type": "code",
   "execution_count": 8,
   "id": "5f334aa5",
   "metadata": {
    "execution": {
     "iopub.execute_input": "2025-10-03T11:09:19.648482Z",
     "iopub.status.busy": "2025-10-03T11:09:19.648280Z",
     "iopub.status.idle": "2025-10-03T11:09:19.950375Z",
     "shell.execute_reply": "2025-10-03T11:09:19.949648Z"
    },
    "papermill": {
     "duration": 0.306707,
     "end_time": "2025-10-03T11:09:19.951668",
     "exception": false,
     "start_time": "2025-10-03T11:09:19.644961",
     "status": "completed"
    },
    "tags": []
   },
   "outputs": [
    {
     "data": {
      "image/png": "[encoded data removed]",
      "text/plain": [
       "<Figure size 1000x500 with 1 Axes>"
      ]
     },
     "metadata": {},
     "output_type": "display_data"
    }
   ],
   "source": [
    "# Visualize conversation length distribution\n",
    "df['Conversation_length'] = df['Conversation'].apply(len)\n",
    "plt.figure(figsize=(10, 5))\n",
    "plt.hist(df['Conversation_length'], bins=50, color='skyblue')\n",
    "plt.title('Distribution of Conversation Lengths')\n",
    "plt.xlabel('Length (characters)')\n",
    "plt.ylabel('Frequency')\n",
    "plt.show()"
   ]
  },
  {
   "cell_type": "code",
   "execution_count": 9,
   "id": "8fd22ddc",
   "metadata": {
    "execution": {
     "iopub.execute_input": "2025-10-03T11:09:19.959425Z",
     "iopub.status.busy": "2025-10-03T11:09:19.959202Z",
     "iopub.status.idle": "2025-10-03T11:09:20.002042Z",
     "shell.execute_reply": "2025-10-03T11:09:20.001472Z"
    },
    "papermill": {
     "duration": 0.047959,
     "end_time": "2025-10-03T11:09:20.003092",
     "exception": false,
     "start_time": "2025-10-03T11:09:19.955133",
     "status": "completed"
    },
    "tags": []
   },
   "outputs": [],
   "source": [
    "# Since this is a conversation dataset, we'll create a simple binary classification task\n",
    "# Let's assume we're trying to predict if a conversation is long or short\n",
    "df['is_long'] = df['Conversation_length'].apply(lambda x: 1 if x > 500 else 0)"
   ]
  },
  {
   "cell_type": "code",
   "execution_count": 10,
   "id": "f430ad53",
   "metadata": {
    "execution": {
     "iopub.execute_input": "2025-10-03T11:09:20.010242Z",
     "iopub.status.busy": "2025-10-03T11:09:20.010018Z",
     "iopub.status.idle": "2025-10-03T11:09:20.013264Z",
     "shell.execute_reply": "2025-10-03T11:09:20.012739Z"
    },
    "papermill": {
     "duration": 0.007984,
     "end_time": "2025-10-03T11:09:20.014277",
     "exception": false,
     "start_time": "2025-10-03T11:09:20.006293",
     "status": "completed"
    },
    "tags": []
   },
   "outputs": [],
   "source": [
    "# Split data into features and target\n",
    "X = df['Conversation']\n",
    "y = df['is_long']"
   ]
  },
  {
   "cell_type": "code",
   "execution_count": 11,
   "id": "aadad09e",
   "metadata": {
    "execution": {
     "iopub.execute_input": "2025-10-03T11:09:20.022132Z",
     "iopub.status.busy": "2025-10-03T11:09:20.021927Z",
     "iopub.status.idle": "2025-10-03T11:09:20.037429Z",
     "shell.execute_reply": "2025-10-03T11:09:20.036939Z"
    },
    "papermill": {
     "duration": 0.020974,
     "end_time": "2025-10-03T11:09:20.038411",
     "exception": false,
     "start_time": "2025-10-03T11:09:20.017437",
     "status": "completed"
    },
    "tags": []
   },
   "outputs": [],
   "source": [
    "# Split into train and test sets\n",
    "X_train, X_test, y_train, y_test = train_test_split(X, y, test_size=0.2, random_state=42)"
   ]
  },
  {
   "cell_type": "code",
   "execution_count": 12,
   "id": "40bb6e39",
   "metadata": {
    "execution": {
     "iopub.execute_input": "2025-10-03T11:09:20.045300Z",
     "iopub.status.busy": "2025-10-03T11:09:20.045124Z",
     "iopub.status.idle": "2025-10-03T11:09:32.804390Z",
     "shell.execute_reply": "2025-10-03T11:09:32.803751Z"
    },
    "papermill": {
     "duration": 12.764205,
     "end_time": "2025-10-03T11:09:32.805705",
     "exception": false,
     "start_time": "2025-10-03T11:09:20.041500",
     "status": "completed"
    },
    "tags": []
   },
   "outputs": [],
   "source": [
    "# Convert text to numerical features using TF-IDF\n",
    "vectorizer = TfidfVectorizer(max_features=1000)\n",
    "X_train_vec = vectorizer.fit_transform(X_train)\n",
    "X_test_vec = vectorizer.transform(X_test)"
   ]
  },
  {
   "cell_type": "code",
   "execution_count": 13,
   "id": "dbc23c4a",
   "metadata": {
    "execution": {
     "iopub.execute_input": "2025-10-03T11:09:32.814067Z",
     "iopub.status.busy": "2025-10-03T11:09:32.813828Z",
     "iopub.status.idle": "2025-10-03T11:09:33.506535Z",
     "shell.execute_reply": "2025-10-03T11:09:33.505874Z"
    },
    "papermill": {
     "duration": 0.698589,
     "end_time": "2025-10-03T11:09:33.508041",
     "exception": false,
     "start_time": "2025-10-03T11:09:32.809452",
     "status": "completed"
    },
    "tags": []
   },
   "outputs": [
    {
     "data": {
      "text/html": [
       "<style>#sk-container-id-1 {color: black;background-color: white;}#sk-container-id-1 pre{padding: 0;}#sk-container-id-1 div.sk-toggleable {background-color: white;}#sk-container-id-1 label.sk-toggleable__label {cursor: pointer;display: block;width: 100%;margin-bottom: 0;padding: 0.3em;box-sizing: border-box;text-align: center;}#sk-container-id-1 label.sk-toggleable__label-arrow:before {content: \"▸\";float: left;margin-right: 0.25em;color: #696969;}#sk-container-id-1 label.sk-toggleable__label-arrow:hover:before {color: black;}#sk-container-id-1 div.sk-estimator:hover label.sk-toggleable__label-arrow:before {color: black;}#sk-container-id-1 div.sk-toggleable__content {max-height: 0;max-width: 0;overflow: hidden;text-align: left;background-color: #f0f8ff;}#sk-container-id-1 div.sk-toggleable__content pre {margin: 0.2em;color: black;border-radius: 0.25em;background-color: #f0f8ff;}#sk-container-id-1 input.sk-toggleable__control:checked~div.sk-toggleable__content {max-height: 200px;max-width: 100%;overflow: auto;}#sk-container-id-1 input.sk-toggleable__control:checked~label.sk-toggleable__label-arrow:before {content: \"▾\";}#sk-container-id-1 div.sk-estimator input.sk-toggleable__control:checked~label.sk-toggleable__label {background-color: #d4ebff;}#sk-container-id-1 div.sk-label input.sk-toggleable__control:checked~label.sk-toggleable__label {background-color: #d4ebff;}#sk-container-id-1 input.sk-hidden--visually {border: 0;clip: rect(1px 1px 1px 1px);clip: rect(1px, 1px, 1px, 1px);height: 1px;margin: -1px;overflow: hidden;padding: 0;position: absolute;width: 1px;}#sk-container-id-1 div.sk-estimator {font-family: monospace;background-color: #f0f8ff;border: 1px dotted black;border-radius: 0.25em;box-sizing: border-box;margin-bottom: 0.5em;}#sk-container-id-1 div.sk-estimator:hover {background-color: #d4ebff;}#sk-container-id-1 div.sk-parallel-item::after {content: \"\";width: 100%;border-bottom: 1px solid gray;flex-grow: 1;}#sk-container-id-1 div.sk-label:hover label.sk-toggleable__label {background-color: #d4ebff;}#sk-container-id-1 div.sk-serial::before {content: \"\";position: absolute;border-left: 1px solid gray;box-sizing: border-box;top: 0;bottom: 0;left: 50%;z-index: 0;}#sk-container-id-1 div.sk-serial {display: flex;flex-direction: column;align-items: center;background-color: white;padding-right: 0.2em;padding-left: 0.2em;position: relative;}#sk-container-id-1 div.sk-item {position: relative;z-index: 1;}#sk-container-id-1 div.sk-parallel {display: flex;align-items: stretch;justify-content: center;background-color: white;position: relative;}#sk-container-id-1 div.sk-item::before, #sk-container-id-1 div.sk-parallel-item::before {content: \"\";position: absolute;border-left: 1px solid gray;box-sizing: border-box;top: 0;bottom: 0;left: 50%;z-index: -1;}#sk-container-id-1 div.sk-parallel-item {display: flex;flex-direction: column;z-index: 1;position: relative;background-color: white;}#sk-container-id-1 div.sk-parallel-item:first-child::after {align-self: flex-end;width: 50%;}#sk-container-id-1 div.sk-parallel-item:last-child::after {align-self: flex-start;width: 50%;}#sk-container-id-1 div.sk-parallel-item:only-child::after {width: 0;}#sk-container-id-1 div.sk-dashed-wrapped {border: 1px dashed gray;margin: 0 0.4em 0.5em 0.4em;box-sizing: border-box;padding-bottom: 0.4em;background-color: white;}#sk-container-id-1 div.sk-label label {font-family: monospace;font-weight: bold;display: inline-block;line-height: 1.2em;}#sk-container-id-1 div.sk-label-container {text-align: center;}#sk-container-id-1 div.sk-container {/* jupyter's `normalize.less` sets `[hidden] { display: none; }` but bootstrap.min.css set `[hidden] { display: none !important; }` so we also need the `!important` here to be able to override the default hidden behavior on the sphinx rendered scikit-learn.org. See: https://github.com/scikit-learn/scikit-learn/issues/21755 */display: inline-block !important;position: relative;}#sk-container-id-1 div.sk-text-repr-fallback {display: none;}</style><div id=\"sk-container-id-1\" class=\"sk-top-container\"><div class=\"sk-text-repr-fallback\"><pre>LogisticRegression(max_iter=1000)</pre><b>In a Jupyter environment, please rerun this cell to show the HTML representation or trust the notebook. <br />On GitHub, the HTML representation is unable to render, please try loading this page with nbviewer.org.</b></div><div class=\"sk-container\" hidden><div class=\"sk-item\"><div class=\"sk-estimator sk-toggleable\"><input class=\"sk-toggleable__control sk-hidden--visually\" id=\"sk-estimator-id-1\" type=\"checkbox\" checked><label for=\"sk-estimator-id-1\" class=\"sk-toggleable__label sk-toggleable__label-arrow\">LogisticRegression</label><div class=\"sk-toggleable__content\"><pre>LogisticRegression(max_iter=1000)</pre></div></div></div></div></div>"
      ],
      "text/plain": [
       "LogisticRegression(max_iter=1000)"
      ]
     },
     "execution_count": 13,
     "metadata": {},
     "output_type": "execute_result"
    }
   ],
   "source": [
    "# Initialize and train Logistic Regression model (good baseline for text classification)\n",
    "model = LogisticRegression(max_iter=1000)\n",
    "model.fit(X_train_vec, y_train)"
   ]
  },
  {
   "cell_type": "code",
   "execution_count": 14,
   "id": "5f98a601",
   "metadata": {
    "execution": {
     "iopub.execute_input": "2025-10-03T11:09:33.520221Z",
     "iopub.status.busy": "2025-10-03T11:09:33.519977Z",
     "iopub.status.idle": "2025-10-03T11:09:33.570293Z",
     "shell.execute_reply": "2025-10-03T11:09:33.569688Z"
    },
    "papermill": {
     "duration": 0.058101,
     "end_time": "2025-10-03T11:09:33.571967",
     "exception": false,
     "start_time": "2025-10-03T11:09:33.513866",
     "status": "completed"
    },
    "tags": []
   },
   "outputs": [
    {
     "name": "stdout",
     "output_type": "stream",
     "text": [
      "\n",
      "Model Accuracy: 1.00\n",
      "\n",
      "Classification Report:\n",
      "              precision    recall  f1-score   support\n",
      "\n",
      "           1       1.00      1.00      1.00     21312\n",
      "\n",
      "    accuracy                           1.00     21312\n",
      "   macro avg       1.00      1.00      1.00     21312\n",
      "weighted avg       1.00      1.00      1.00     21312\n",
      "\n",
      "\n",
      "Best Model: Logistic Regression\n"
     ]
    }
   ],
   "source": [
    "# Make predictions\n",
    "y_pred = model.predict(X_test_vec)\n",
    "\n",
    "# Evaluate model\n",
    "accuracy = accuracy_score(y_test, y_pred)\n",
    "print(f\"\\nModel Accuracy: {accuracy:.2f}\")\n",
    "print(\"\\nClassification Report:\")\n",
    "print(classification_report(y_test, y_pred))\n",
    "\n",
    "print(\"\\nBest Model: Logistic Regression\")"
   ]
  },
  {
   "cell_type": "code",
   "execution_count": 15,
   "id": "06bb5fa7",
   "metadata": {
    "execution": {
     "iopub.execute_input": "2025-10-03T11:09:33.584026Z",
     "iopub.status.busy": "2025-10-03T11:09:33.583684Z",
     "iopub.status.idle": "2025-10-03T11:09:33.786641Z",
     "shell.execute_reply": "2025-10-03T11:09:33.785832Z"
    },
    "papermill": {
     "duration": 0.210422,
     "end_time": "2025-10-03T11:09:33.787870",
     "exception": false,
     "start_time": "2025-10-03T11:09:33.577448",
     "status": "completed"
    },
    "tags": []
   },
   "outputs": [
    {
     "data": {
      "image/png": "[encoded data removed]",
      "text/plain": [
       "<Figure size 1000x500 with 1 Axes>"
      ]
     },
     "metadata": {},
     "output_type": "display_data"
    }
   ],
   "source": [
    "# Create a DataFrame with actual and predicted values\n",
    "results = pd.DataFrame({'Actual': y_test, 'Predicted': y_pred})\n",
    "\n",
    "# Plot the comparison\n",
    "plt.figure(figsize=(10, 5))\n",
    "results['Actual'].value_counts().plot(kind='bar', color='skyblue', alpha=0.7, label='Actual')\n",
    "results['Predicted'].value_counts().plot(kind='bar', color='orange', alpha=0.7, label='Predicted')\n",
    "plt.title('Actual vs Predicted Class Distribution')\n",
    "plt.xlabel('Class (0=Short, 1=Long)')\n",
    "plt.ylabel('Count')\n",
    "plt.legend()\n",
    "plt.show()"
   ]
  }
 ],
 "metadata": {
  "kaggle": {
   "accelerator": "none",
   "dataSources": [
    {
     "datasetId": 4062409,
     "sourceId": 7057378,
     "sourceType": "datasetVersion"
    }
   ],
   "dockerImageVersionId": 31089,
   "isGpuEnabled": false,
   "isInternetEnabled": true,
   "language": "python",
   "sourceType": "notebook"
  },
  "kernelspec": {
   "display_name": "Python 3",
   "language": "python",
   "name": "python3"
  },
  "language_info": {
   "codemirror_mode": {
    "name": "ipython",
    "version": 3
   },
   "file_extension": ".py",
   "mimetype": "text/x-python",
   "name": "python",
   "nbconvert_exporter": "python",
   "pygments_lexer": "ipython3",
   "version": "3.11.13"
  },
  "papermill": {
   "default_parameters": {},
   "duration": 24.629272,
   "end_time": "2025-10-03T11:09:34.309286",
   "environment_variables": {},
   "exception": null,
   "input_path": "__notebook__.ipynb",
   "output_path": "__notebook__.ipynb",
   "parameters": {},
   "start_time": "2025-10-03T11:09:09.680014",
   "version": "2.6.0"
  }
 },
 "nbformat": 4,
 "nbformat_minor": 5
}
