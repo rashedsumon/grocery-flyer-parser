{
 "cells": [
  {
   "cell_type": "code",
   "execution_count": 1,
   "id": "531eecaf",
   "metadata": {
    "_cell_guid": "b1076dfc-b9ad-4769-8c92-a6c4dae69d19",
    "_uuid": "8f2839f25d086af736a60e9eeb907d3b93b6e0e5",
    "collapsed": true,
    "execution": {
     "iopub.execute_input": "2025-10-03T11:04:52.909772Z",
     "iopub.status.busy": "2025-10-03T11:04:52.909410Z",
     "iopub.status.idle": "2025-10-03T11:04:54.882041Z",
     "shell.execute_reply": "2025-10-03T11:04:54.881003Z"
    },
    "jupyter": {
     "outputs_hidden": true
    },
    "papermill": {
     "duration": 1.980981,
     "end_time": "2025-10-03T11:04:54.884788",
     "exception": false,
     "start_time": "2025-10-03T11:04:52.903807",
     "status": "completed"
    },
    "tags": []
   },
   "outputs": [
    {
     "name": "stdout",
     "output_type": "stream",
     "text": [
      "/kaggle/input/acquired-podcast-transcripts-and-rag-evaluation/acquired_transcripts_all.txt\n",
      "/kaggle/input/acquired-podcast-transcripts-and-rag-evaluation/acquired-qa-evaluation.csv\n",
      "/kaggle/input/acquired-podcast-transcripts-and-rag-evaluation/acquired_metadata.csv\n",
      "/kaggle/input/acquired-podcast-transcripts-and-rag-evaluation/acquired-individual-transcripts/acquired-individual-transcripts/complexity_investing_semiconductors_with_nzs_capital.txt\n",
      "/kaggle/input/acquired-podcast-transcripts-and-rag-evaluation/acquired-individual-transcripts/acquired-individual-transcripts/adapting_episode_3_intel.txt\n",
      "/kaggle/input/acquired-podcast-transcripts-and-rag-evaluation/acquired-individual-transcripts/acquired-individual-transcripts/retool_ceo_david_hsu_on_finding_productmarket_fit_via_sales.txt\n",
      "/kaggle/input/acquired-podcast-transcripts-and-rag-evaluation/acquired-individual-transcripts/acquired-individual-transcripts/berkshire_hathaway_part_iii.txt\n",
      "/kaggle/input/acquired-podcast-transcripts-and-rag-evaluation/acquired-individual-transcripts/acquired-individual-transcripts/the_amazon_ipo_with_original_amazon_board_member_tom_alberg.txt\n",
      "/kaggle/input/acquired-podcast-transcripts-and-rag-evaluation/acquired-individual-transcripts/acquired-individual-transcripts/superhuman_part_ii_designing_software_to_feel_like_a_game_with_rahul_vohra.txt\n",
      "/kaggle/input/acquired-podcast-transcripts-and-rag-evaluation/acquired-individual-transcripts/acquired-individual-transcripts/what_remote_work_looks_like_in_2021_and_beyond_with_doist_ceo_amir_salihefendi.txt\n",
      "/kaggle/input/acquired-podcast-transcripts-and-rag-evaluation/acquired-individual-transcripts/acquired-individual-transcripts/activision_blizzard.txt\n",
      "/kaggle/input/acquired-podcast-transcripts-and-rag-evaluation/acquired-individual-transcripts/acquired-individual-transcripts/the_pinterest_ipo.txt\n",
      "/kaggle/input/acquired-podcast-transcripts-and-rag-evaluation/acquired-individual-transcripts/acquired-individual-transcripts/arena_show_part_i_idea_dinner_yc_continuity.txt\n",
      "/kaggle/input/acquired-podcast-transcripts-and-rag-evaluation/acquired-individual-transcripts/acquired-individual-transcripts/kevin_rose_from_web_20_to_web3.txt\n",
      "/kaggle/input/acquired-podcast-transcripts-and-rag-evaluation/acquired-individual-transcripts/acquired-individual-transcripts/the_browser_with_brendan_eich_chief_architect_of_netscape_mozilla_and_ceo_of_brave.txt\n",
      "/kaggle/input/acquired-podcast-transcripts-and-rag-evaluation/acquired-individual-transcripts/acquired-individual-transcripts/the_square_ipo.txt\n",
      "/kaggle/input/acquired-podcast-transcripts-and-rag-evaluation/acquired-individual-transcripts/acquired-individual-transcripts/the_nba.txt\n",
      "/kaggle/input/acquired-podcast-transcripts-and-rag-evaluation/acquired-individual-transcripts/acquired-individual-transcripts/special_2016_review_and_2017_predictions.txt\n",
      "/kaggle/input/acquired-podcast-transcripts-and-rag-evaluation/acquired-individual-transcripts/acquired-individual-transcripts/tradfi_vs_crypto_explaining_bnpl_and_whats_next_in_fintech_with_bain_capital_ventures_christina_melaskyriazi.txt\n",
      "/kaggle/input/acquired-podcast-transcripts-and-rag-evaluation/acquired-individual-transcripts/acquired-individual-transcripts/slack_salesforce_emergency_pod_with_packy_mccormick_of_not_boring.txt\n",
      "/kaggle/input/acquired-podcast-transcripts-and-rag-evaluation/acquired-individual-transcripts/acquired-individual-transcripts/nvidia_part_iii_the_dawn_of_the_ai_era_20222023.txt\n",
      "/kaggle/input/acquired-podcast-transcripts-and-rag-evaluation/acquired-individual-transcripts/acquired-individual-transcripts/sequoia_capital_part_ii_with_doug_leone.txt\n",
      "/kaggle/input/acquired-podcast-transcripts-and-rag-evaluation/acquired-individual-transcripts/acquired-individual-transcripts/starbucks_ipo_with_dan_levitan.txt\n",
      "/kaggle/input/acquired-podcast-transcripts-and-rag-evaluation/acquired-individual-transcripts/acquired-individual-transcripts/caa_with_michael_ovitz.txt\n",
      "/kaggle/input/acquired-podcast-transcripts-and-rag-evaluation/acquired-individual-transcripts/acquired-individual-transcripts/porsche_with_doug_demuro.txt\n",
      "/kaggle/input/acquired-podcast-transcripts-and-rag-evaluation/acquired-individual-transcripts/acquired-individual-transcripts/push_pop_press_facebook_instant_articles_with_todd_bishop.txt\n",
      "/kaggle/input/acquired-podcast-transcripts-and-rag-evaluation/acquired-individual-transcripts/acquired-individual-transcripts/lvmh.txt\n",
      "/kaggle/input/acquired-podcast-transcripts-and-rag-evaluation/acquired-individual-transcripts/acquired-individual-transcripts/eventbrite.txt\n",
      "/kaggle/input/acquired-podcast-transcripts-and-rag-evaluation/acquired-individual-transcripts/acquired-individual-transcripts/bitcoin.txt\n",
      "/kaggle/input/acquired-podcast-transcripts-and-rag-evaluation/acquired-individual-transcripts/acquired-individual-transcripts/special_sequoia_capitals_investment_playbook_with_alfred_lin.txt\n",
      "/kaggle/input/acquired-podcast-transcripts-and-rag-evaluation/acquired-individual-transcripts/acquired-individual-transcripts/italic_a_new_era_of_online_retail.txt\n",
      "/kaggle/input/acquired-podcast-transcripts-and-rag-evaluation/acquired-individual-transcripts/acquired-individual-transcripts/investing_in_american_dynamism_with_katherine_boyle.txt\n",
      "/kaggle/input/acquired-podcast-transcripts-and-rag-evaluation/acquired-individual-transcripts/acquired-individual-transcripts/virgin_galactic.txt\n",
      "/kaggle/input/acquired-podcast-transcripts-and-rag-evaluation/acquired-individual-transcripts/acquired-individual-transcripts/adapting_episode_1_canlis.txt\n",
      "/kaggle/input/acquired-podcast-transcripts-and-rag-evaluation/acquired-individual-transcripts/acquired-individual-transcripts/berkshire_hathaway_part_ii.txt\n",
      "/kaggle/input/acquired-podcast-transcripts-and-rag-evaluation/acquired-individual-transcripts/acquired-individual-transcripts/how_yc_rewrote_the_seed_playbook_with_garry_tan.txt\n",
      "/kaggle/input/acquired-podcast-transcripts-and-rag-evaluation/acquired-individual-transcripts/acquired-individual-transcripts/qualcomm.txt\n",
      "/kaggle/input/acquired-podcast-transcripts-and-rag-evaluation/acquired-individual-transcripts/acquired-individual-transcripts/reverse_interview_acquired_strategy_w_nathan_baschez_of_divinations_formerly_gimlet_substack.txt\n",
      "/kaggle/input/acquired-podcast-transcripts-and-rag-evaluation/acquired-individual-transcripts/acquired-individual-transcripts/special_2021_china_tech_trends_with_tech_buzz_china.txt\n",
      "/kaggle/input/acquired-podcast-transcripts-and-rag-evaluation/acquired-individual-transcripts/acquired-individual-transcripts/cameo_ceo_steven_galanis_on_building_the_first_nonadvertising_driven_social_media_company.txt\n",
      "/kaggle/input/acquired-podcast-transcripts-and-rag-evaluation/acquired-individual-transcripts/acquired-individual-transcripts/superhuman.txt\n",
      "/kaggle/input/acquired-podcast-transcripts-and-rag-evaluation/acquired-individual-transcripts/acquired-individual-transcripts/ftx_with_sam_bankmanfried_mario_gabriele.txt\n",
      "/kaggle/input/acquired-podcast-transcripts-and-rag-evaluation/acquired-individual-transcripts/acquired-individual-transcripts/acq_sessions_jason_calacanis.txt\n",
      "/kaggle/input/acquired-podcast-transcripts-and-rag-evaluation/acquired-individual-transcripts/acquired-individual-transcripts/masterclass_superhumans_fundraising_playbook_with_ceo_rahul_vohra.txt\n",
      "/kaggle/input/acquired-podcast-transcripts-and-rag-evaluation/acquired-individual-transcripts/acquired-individual-transcripts/bookingcom_with_jetsetter_room_77_ceo_drew_patterson.txt\n",
      "/kaggle/input/acquired-podcast-transcripts-and-rag-evaluation/acquired-individual-transcripts/acquired-individual-transcripts/platforms_and_power_with_hamilton_helmer_and_chenyi_shi.txt\n",
      "/kaggle/input/acquired-podcast-transcripts-and-rag-evaluation/acquired-individual-transcripts/acquired-individual-transcripts/spacex.txt\n",
      "/kaggle/input/acquired-podcast-transcripts-and-rag-evaluation/acquired-individual-transcripts/acquired-individual-transcripts/pricing_everything_you_wanted_to_know_but_were_afraid_to_ask_with_profitwell_ceo_patrick_campbell.txt\n",
      "/kaggle/input/acquired-podcast-transcripts-and-rag-evaluation/acquired-individual-transcripts/acquired-individual-transcripts/not_boring_with_packy_mccormick.txt\n",
      "/kaggle/input/acquired-podcast-transcripts-and-rag-evaluation/acquired-individual-transcripts/acquired-individual-transcripts/sony.txt\n",
      "/kaggle/input/acquired-podcast-transcripts-and-rag-evaluation/acquired-individual-transcripts/acquired-individual-transcripts/vc_fundamentals_part_2_investment_decisions.txt\n",
      "/kaggle/input/acquired-podcast-transcripts-and-rag-evaluation/acquired-individual-transcripts/acquired-individual-transcripts/interview_hamilton_helmer_chenyi_shi_on_how_to_build_an_awslike_second_business.txt\n",
      "/kaggle/input/acquired-podcast-transcripts-and-rag-evaluation/acquired-individual-transcripts/acquired-individual-transcripts/special_amazon_unbound_with_brad_stone.txt\n",
      "/kaggle/input/acquired-podcast-transcripts-and-rag-evaluation/acquired-individual-transcripts/acquired-individual-transcripts/vc_fundamentals_part_1_sourcing.txt\n",
      "/kaggle/input/acquired-podcast-transcripts-and-rag-evaluation/acquired-individual-transcripts/acquired-individual-transcripts/composer_with_ceo_benjamin_rollert.txt\n",
      "/kaggle/input/acquired-podcast-transcripts-and-rag-evaluation/acquired-individual-transcripts/acquired-individual-transcripts/altimeter_with_brad_gerstner.txt\n",
      "/kaggle/input/acquired-podcast-transcripts-and-rag-evaluation/acquired-individual-transcripts/acquired-individual-transcripts/waze.txt\n",
      "/kaggle/input/acquired-podcast-transcripts-and-rag-evaluation/acquired-individual-transcripts/acquired-individual-transcripts/exacttarget_acquired_by_salesforce_with_scott_dorsey.txt\n",
      "/kaggle/input/acquired-podcast-transcripts-and-rag-evaluation/acquired-individual-transcripts/acquired-individual-transcripts/adapting_mystery_growing_when_your_business_goes_to_zero_shane_kovalsky_vince_coppola.txt\n",
      "/kaggle/input/acquired-podcast-transcripts-and-rag-evaluation/acquired-individual-transcripts/acquired-individual-transcripts/special_acquired_x_my_first_million_crossover.txt\n",
      "/kaggle/input/acquired-podcast-transcripts-and-rag-evaluation/acquired-individual-transcripts/acquired-individual-transcripts/walmart.txt\n",
      "/kaggle/input/acquired-podcast-transcripts-and-rag-evaluation/acquired-individual-transcripts/acquired-individual-transcripts/oprah_harpo_studios.txt\n",
      "/kaggle/input/acquired-podcast-transcripts-and-rag-evaluation/acquired-individual-transcripts/acquired-individual-transcripts/the_facebook_ipo.txt\n",
      "/kaggle/input/acquired-podcast-transcripts-and-rag-evaluation/acquired-individual-transcripts/acquired-individual-transcripts/doug_demuro_on_analyzing_the_car_industry_creatorled_businesses_and_porsche_episode_follow_up.txt\n",
      "/kaggle/input/acquired-podcast-transcripts-and-rag-evaluation/acquired-individual-transcripts/acquired-individual-transcripts/the_best_acquisitions_of_all_time.txt\n",
      "/kaggle/input/acquired-podcast-transcripts-and-rag-evaluation/acquired-individual-transcripts/acquired-individual-transcripts/generative_ai_moats_in_b2b_with_emergence_capitals_jake_saper.txt\n",
      "/kaggle/input/acquired-podcast-transcripts-and-rag-evaluation/acquired-individual-transcripts/acquired-individual-transcripts/opsware_with_special_guest_michel_feaster.txt\n",
      "/kaggle/input/acquired-podcast-transcripts-and-rag-evaluation/acquired-individual-transcripts/acquired-individual-transcripts/midroll_stitcher_acquired_by_scripps.txt\n",
      "/kaggle/input/acquired-podcast-transcripts-and-rag-evaluation/acquired-individual-transcripts/acquired-individual-transcripts/everything_you_need_to_know_about_preseed_with_charles_hudson_of_precursor_ventures.txt\n",
      "/kaggle/input/acquired-podcast-transcripts-and-rag-evaluation/acquired-individual-transcripts/acquired-individual-transcripts/netflix_part_1.txt\n",
      "/kaggle/input/acquired-podcast-transcripts-and-rag-evaluation/acquired-individual-transcripts/acquired-individual-transcripts/the_zoom_ipo_with_santi_subotovsky.txt\n",
      "/kaggle/input/acquired-podcast-transcripts-and-rag-evaluation/acquired-individual-transcripts/acquired-individual-transcripts/capitalefficient_growth_with_zoom_ceo_eric_yuan_veeva_ceo_peter_gassner.txt\n",
      "/kaggle/input/acquired-podcast-transcripts-and-rag-evaluation/acquired-individual-transcripts/acquired-individual-transcripts/star_wars_the_rise_of_skywalker_with_chetan_puttagunta_general_partner_at_benchmark.txt\n",
      "/kaggle/input/acquired-podcast-transcripts-and-rag-evaluation/acquired-individual-transcripts/acquired-individual-transcripts/vc_fundamentals_part_4_portfolio_management_with_jaclyn_hester_lindel_eakman_of_foundry_group.txt\n",
      "/kaggle/input/acquired-podcast-transcripts-and-rag-evaluation/acquired-individual-transcripts/acquired-individual-transcripts/modern_treasury_interviews_ben_david_and_vice_versa.txt\n",
      "/kaggle/input/acquired-podcast-transcripts-and-rag-evaluation/acquired-individual-transcripts/acquired-individual-transcripts/kimmai_cutler_from_journalist_to_vc.txt\n",
      "/kaggle/input/acquired-podcast-transcripts-and-rag-evaluation/acquired-individual-transcripts/acquired-individual-transcripts/joseph_gordonlevitt_a_fireside_chat.txt\n",
      "/kaggle/input/acquired-podcast-transcripts-and-rag-evaluation/acquired-individual-transcripts/acquired-individual-transcripts/reverse_interview_with_ben_and_david_at_vanta.txt\n",
      "/kaggle/input/acquired-podcast-transcripts-and-rag-evaluation/acquired-individual-transcripts/acquired-individual-transcripts/the_slack_dpo.txt\n",
      "/kaggle/input/acquired-podcast-transcripts-and-rag-evaluation/acquired-individual-transcripts/acquired-individual-transcripts/peloton.txt\n",
      "/kaggle/input/acquired-podcast-transcripts-and-rag-evaluation/acquired-individual-transcripts/acquired-individual-transcripts/android.txt\n",
      "/kaggle/input/acquired-podcast-transcripts-and-rag-evaluation/acquired-individual-transcripts/acquired-individual-transcripts/the_scientific_journey_behind_ozempic_with_lotte_bjerre_knudsen_novo_nordisks_chief_scientific_advisor.txt\n",
      "/kaggle/input/acquired-podcast-transcripts-and-rag-evaluation/acquired-individual-transcripts/acquired-individual-transcripts/special_an_acquirers_view_into_ma_with_taylor_barada_head_of_corp_dev_at_adobe.txt\n",
      "/kaggle/input/acquired-podcast-transcripts-and-rag-evaluation/acquired-individual-transcripts/acquired-individual-transcripts/the_future_of_cloud_data_collaboration_with_samooha_cofounder_kamakshi_sivaramakrishnan.txt\n",
      "/kaggle/input/acquired-podcast-transcripts-and-rag-evaluation/acquired-individual-transcripts/acquired-individual-transcripts/whatsapp.txt\n",
      "/kaggle/input/acquired-podcast-transcripts-and-rag-evaluation/acquired-individual-transcripts/acquired-individual-transcripts/stratechery_with_ben_thompson.txt\n",
      "/kaggle/input/acquired-podcast-transcripts-and-rag-evaluation/acquired-individual-transcripts/acquired-individual-transcripts/skype.txt\n",
      "/kaggle/input/acquired-podcast-transcripts-and-rag-evaluation/acquired-individual-transcripts/acquired-individual-transcripts/arming_the_restaurant_rebels_with_tock_ceo_nick_kokonas.txt\n",
      "/kaggle/input/acquired-podcast-transcripts-and-rag-evaluation/acquired-individual-transcripts/acquired-individual-transcripts/building_webflow_and_the_nocode_movement_with_vlad_magdalin_cofounder_and_ceo.txt\n",
      "/kaggle/input/acquired-podcast-transcripts-and-rag-evaluation/acquired-individual-transcripts/acquired-individual-transcripts/andreessen_horowitz_part_i.txt\n",
      "/kaggle/input/acquired-podcast-transcripts-and-rag-evaluation/acquired-individual-transcripts/acquired-individual-transcripts/race_capital_crypto_investing_and_ftx_solanas_early_days.txt\n",
      "/kaggle/input/acquired-podcast-transcripts-and-rag-evaluation/acquired-individual-transcripts/acquired-individual-transcripts/saving_the_planet_with_better_ai_data_centers_with_crusoe_ceo_chase_lochmiller.txt\n",
      "/kaggle/input/acquired-podcast-transcripts-and-rag-evaluation/acquired-individual-transcripts/acquired-individual-transcripts/highperformance_hiring_interviewing_fmr_amazon_gm_prime_membership_anna_collins.txt\n",
      "/kaggle/input/acquired-podcast-transcripts-and-rag-evaluation/acquired-individual-transcripts/acquired-individual-transcripts/sequoia_capital_part_1.txt\n",
      "/kaggle/input/acquired-podcast-transcripts-and-rag-evaluation/acquired-individual-transcripts/acquired-individual-transcripts/howard_marks_andrew_marks_something_of_value.txt\n",
      "/kaggle/input/acquired-podcast-transcripts-and-rag-evaluation/acquired-individual-transcripts/acquired-individual-transcripts/the_meituan_bear_case_with_lillian_li.txt\n",
      "/kaggle/input/acquired-podcast-transcripts-and-rag-evaluation/acquired-individual-transcripts/acquired-individual-transcripts/bamtech_disney_and_the_biggest_media_company_youve_never_heard_of.txt\n",
      "/kaggle/input/acquired-podcast-transcripts-and-rag-evaluation/acquired-individual-transcripts/acquired-individual-transcripts/saas_in_2021_and_emergence_capitals_deep_collaboration_thesis.txt\n",
      "/kaggle/input/acquired-podcast-transcripts-and-rag-evaluation/acquired-individual-transcripts/acquired-individual-transcripts/super_pumped_with_brian_koppelman_and_joseph_gordonlevitt.txt\n",
      "/kaggle/input/acquired-podcast-transcripts-and-rag-evaluation/acquired-individual-transcripts/acquired-individual-transcripts/costco.txt\n",
      "/kaggle/input/acquired-podcast-transcripts-and-rag-evaluation/acquired-individual-transcripts/acquired-individual-transcripts/the_shopify_ipo.txt\n",
      "/kaggle/input/acquired-podcast-transcripts-and-rag-evaluation/acquired-individual-transcripts/acquired-individual-transcripts/kindergarten_ventures_vanta_investment_and_building_a_new_strategy_for_venture_with_thomas_mcgannon.txt\n",
      "/kaggle/input/acquired-podcast-transcripts-and-rag-evaluation/acquired-individual-transcripts/acquired-individual-transcripts/aol_time_warner_with_the_internet_history_podcast.txt\n",
      "/kaggle/input/acquired-podcast-transcripts-and-rag-evaluation/acquired-individual-transcripts/acquired-individual-transcripts/amazoncom.txt\n",
      "/kaggle/input/acquired-podcast-transcripts-and-rag-evaluation/acquired-individual-transcripts/acquired-individual-transcripts/epic_games.txt\n",
      "/kaggle/input/acquired-podcast-transcripts-and-rag-evaluation/acquired-individual-transcripts/acquired-individual-transcripts/the_snap_inc_ipo.txt\n",
      "/kaggle/input/acquired-podcast-transcripts-and-rag-evaluation/acquired-individual-transcripts/acquired-individual-transcripts/inside_the_ma_press_with_bloombergs_alex_sherman.txt\n",
      "/kaggle/input/acquired-podcast-transcripts-and-rag-evaluation/acquired-individual-transcripts/acquired-individual-transcripts/microsoft.txt\n",
      "/kaggle/input/acquired-podcast-transcripts-and-rag-evaluation/acquired-individual-transcripts/acquired-individual-transcripts/the_uber_ipo.txt\n",
      "/kaggle/input/acquired-podcast-transcripts-and-rag-evaluation/acquired-individual-transcripts/acquired-individual-transcripts/standard_oil_part_i.txt\n",
      "/kaggle/input/acquired-podcast-transcripts-and-rag-evaluation/acquired-individual-transcripts/acquired-individual-transcripts/the_electronic_arts_ipo_with_trip_hawkins.txt\n",
      "/kaggle/input/acquired-podcast-transcripts-and-rag-evaluation/acquired-individual-transcripts/acquired-individual-transcripts/twitter_with_dick_costolo.txt\n",
      "/kaggle/input/acquired-podcast-transcripts-and-rag-evaluation/acquired-individual-transcripts/acquired-individual-transcripts/the_wework_acquisition_with_dan_primack.txt\n",
      "/kaggle/input/acquired-podcast-transcripts-and-rag-evaluation/acquired-individual-transcripts/acquired-individual-transcripts/benchmark_part_i.txt\n",
      "/kaggle/input/acquired-podcast-transcripts-and-rag-evaluation/acquired-individual-transcripts/acquired-individual-transcripts/nzs_capital_part_ii_whats_going_on_in_todays_markets_plus_more_semiconductors.txt\n",
      "/kaggle/input/acquired-podcast-transcripts-and-rag-evaluation/acquired-individual-transcripts/acquired-individual-transcripts/atari_with_nolan_bushnell.txt\n",
      "/kaggle/input/acquired-podcast-transcripts-and-rag-evaluation/acquired-individual-transcripts/acquired-individual-transcripts/the_profitable_b2b_growth_playbook_and_mutinys_story.txt\n",
      "/kaggle/input/acquired-podcast-transcripts-and-rag-evaluation/acquired-individual-transcripts/acquired-individual-transcripts/angellist_ceo_avlok_kohli_on_the_transforming_the_company_and_venture_itself.txt\n",
      "/kaggle/input/acquired-podcast-transcripts-and-rag-evaluation/acquired-individual-transcripts/acquired-individual-transcripts/berkshire_hathaway_part_i.txt\n",
      "/kaggle/input/acquired-podcast-transcripts-and-rag-evaluation/acquired-individual-transcripts/acquired-individual-transcripts/democratizing_the_tools_of_big_tech_with_statsig_ceo_vijaye_raji.txt\n",
      "/kaggle/input/acquired-podcast-transcripts-and-rag-evaluation/acquired-individual-transcripts/acquired-individual-transcripts/special_solana_with_ceo_anatoly_yakovenko.txt\n",
      "/kaggle/input/acquired-podcast-transcripts-and-rag-evaluation/acquired-individual-transcripts/acquired-individual-transcripts/uber_ceo_dara_khosrowshahi.txt\n",
      "/kaggle/input/acquired-podcast-transcripts-and-rag-evaluation/acquired-individual-transcripts/acquired-individual-transcripts/overture_with_the_internet_history_podcast.txt\n",
      "/kaggle/input/acquired-podcast-transcripts-and-rag-evaluation/acquired-individual-transcripts/acquired-individual-transcripts/disney_plus.txt\n",
      "/kaggle/input/acquired-podcast-transcripts-and-rag-evaluation/acquired-individual-transcripts/acquired-individual-transcripts/airbnb.txt\n",
      "/kaggle/input/acquired-podcast-transcripts-and-rag-evaluation/acquired-individual-transcripts/acquired-individual-transcripts/herms.txt\n",
      "/kaggle/input/acquired-podcast-transcripts-and-rag-evaluation/acquired-individual-transcripts/acquired-individual-transcripts/vc_fundamentals_consumer_investing_master_class_with_benchmark_gp_sarah_tavel.txt\n",
      "/kaggle/input/acquired-podcast-transcripts-and-rag-evaluation/acquired-individual-transcripts/acquired-individual-transcripts/renaissance_technologies.txt\n",
      "/kaggle/input/acquired-podcast-transcripts-and-rag-evaluation/acquired-individual-transcripts/acquired-individual-transcripts/holiday_special_2022.txt\n",
      "/kaggle/input/acquired-podcast-transcripts-and-rag-evaluation/acquired-individual-transcripts/acquired-individual-transcripts/the_playbook_lessons_from_200_company_stories.txt\n",
      "/kaggle/input/acquired-podcast-transcripts-and-rag-evaluation/acquired-individual-transcripts/acquired-individual-transcripts/marvel.txt\n",
      "/kaggle/input/acquired-podcast-transcripts-and-rag-evaluation/acquired-individual-transcripts/acquired-individual-transcripts/blue_bottle_coffee.txt\n",
      "/kaggle/input/acquired-podcast-transcripts-and-rag-evaluation/acquired-individual-transcripts/acquired-individual-transcripts/generative_ai_in_video_and_the_future_of_storytelling_with_runway_ceo_cristobal_valenzuela.txt\n",
      "/kaggle/input/acquired-podcast-transcripts-and-rag-evaluation/acquired-individual-transcripts/acquired-individual-transcripts/novo_nordisk_ozempic.txt\n",
      "/kaggle/input/acquired-podcast-transcripts-and-rag-evaluation/acquired-individual-transcripts/acquired-individual-transcripts/paypal.txt\n",
      "/kaggle/input/acquired-podcast-transcripts-and-rag-evaluation/acquired-individual-transcripts/acquired-individual-transcripts/oculus.txt\n",
      "/kaggle/input/acquired-podcast-transcripts-and-rag-evaluation/acquired-individual-transcripts/acquired-individual-transcripts/explaining_macroeconomics_the_fed_interest_rates_and_valuations_with_matt_mcbrady.txt\n",
      "/kaggle/input/acquired-podcast-transcripts-and-rag-evaluation/acquired-individual-transcripts/acquired-individual-transcripts/blue_origin_and_the_2021_space_landscape_with_rob_meyerson.txt\n",
      "/kaggle/input/acquired-podcast-transcripts-and-rag-evaluation/acquired-individual-transcripts/acquired-individual-transcripts/nike.txt\n",
      "/kaggle/input/acquired-podcast-transcripts-and-rag-evaluation/acquired-individual-transcripts/acquired-individual-transcripts/web3_marketplaces_with_braintrust_ceo_adam_jackson.txt\n",
      "/kaggle/input/acquired-podcast-transcripts-and-rag-evaluation/acquired-individual-transcripts/acquired-individual-transcripts/the_new_york_times_company.txt\n",
      "/kaggle/input/acquired-podcast-transcripts-and-rag-evaluation/acquired-individual-transcripts/acquired-individual-transcripts/amazon_web_services.txt\n",
      "/kaggle/input/acquired-podcast-transcripts-and-rag-evaluation/acquired-individual-transcripts/acquired-individual-transcripts/tsmc.txt\n",
      "/kaggle/input/acquired-podcast-transcripts-and-rag-evaluation/acquired-individual-transcripts/acquired-individual-transcripts/nvidia_part_i_the_gpu_company_19932006.txt\n",
      "/kaggle/input/acquired-podcast-transcripts-and-rag-evaluation/acquired-individual-transcripts/acquired-individual-transcripts/nintendo_the_console_wars.txt\n",
      "/kaggle/input/acquired-podcast-transcripts-and-rag-evaluation/acquired-individual-transcripts/acquired-individual-transcripts/jet.txt\n",
      "/kaggle/input/acquired-podcast-transcripts-and-rag-evaluation/acquired-individual-transcripts/acquired-individual-transcripts/taylor_swift_acquireds_version.txt\n",
      "/kaggle/input/acquired-podcast-transcripts-and-rag-evaluation/acquired-individual-transcripts/acquired-individual-transcripts/arena_show_part_ii_brooks_running_with_ceo_jim_weber.txt\n",
      "/kaggle/input/acquired-podcast-transcripts-and-rag-evaluation/acquired-individual-transcripts/acquired-individual-transcripts/the_la_clippers.txt\n",
      "/kaggle/input/acquired-podcast-transcripts-and-rag-evaluation/acquired-individual-transcripts/acquired-individual-transcripts/short_the_death_of_sega.txt\n",
      "/kaggle/input/acquired-podcast-transcripts-and-rag-evaluation/acquired-individual-transcripts/acquired-individual-transcripts/nvidia_ceo_jensen_huang.txt\n",
      "/kaggle/input/acquired-podcast-transcripts-and-rag-evaluation/acquired-individual-transcripts/acquired-individual-transcripts/the_uber_didi_chuxing_merger_with_brad_stone_author_of_the_upstarts_the_everything_store.txt\n",
      "/kaggle/input/acquired-podcast-transcripts-and-rag-evaluation/acquired-individual-transcripts/acquired-individual-transcripts/roblox_ipo_preview_with_mario_gabriele_from_the_generalist.txt\n",
      "/kaggle/input/acquired-podcast-transcripts-and-rag-evaluation/acquired-individual-transcripts/acquired-individual-transcripts/standard_oil_part_ii.txt\n",
      "/kaggle/input/acquired-podcast-transcripts-and-rag-evaluation/acquired-individual-transcripts/acquired-individual-transcripts/whole_foods_market.txt\n",
      "/kaggle/input/acquired-podcast-transcripts-and-rag-evaluation/acquired-individual-transcripts/acquired-individual-transcripts/ethereum_with_packy_mccormick.txt\n",
      "/kaggle/input/acquired-podcast-transcripts-and-rag-evaluation/acquired-individual-transcripts/acquired-individual-transcripts/writely_google_docs.txt\n",
      "/kaggle/input/acquired-podcast-transcripts-and-rag-evaluation/acquired-individual-transcripts/acquired-individual-transcripts/google_maps.txt\n",
      "/kaggle/input/acquired-podcast-transcripts-and-rag-evaluation/acquired-individual-transcripts/acquired-individual-transcripts/netflixs_journey_building_tcv_and_investing_through_downturns_with_tcv_cofounder_jay_hoag.txt\n",
      "/kaggle/input/acquired-podcast-transcripts-and-rag-evaluation/acquired-individual-transcripts/acquired-individual-transcripts/enron.txt\n",
      "/kaggle/input/acquired-podcast-transcripts-and-rag-evaluation/acquired-individual-transcripts/acquired-individual-transcripts/doordash.txt\n",
      "/kaggle/input/acquired-podcast-transcripts-and-rag-evaluation/acquired-individual-transcripts/acquired-individual-transcripts/morgan_housel.txt\n",
      "/kaggle/input/acquired-podcast-transcripts-and-rag-evaluation/acquired-individual-transcripts/acquired-individual-transcripts/zillow_trulia_with_zillow_group_cfo_kathleen_philips.txt\n",
      "/kaggle/input/acquired-podcast-transcripts-and-rag-evaluation/acquired-individual-transcripts/acquired-individual-transcripts/audius_with_ceo_roneil_rumberg.txt\n",
      "/kaggle/input/acquired-podcast-transcripts-and-rag-evaluation/acquired-individual-transcripts/acquired-individual-transcripts/consumer_investing_in_2022_with_brian_omalley_of_forerunner_ventures.txt\n",
      "/kaggle/input/acquired-podcast-transcripts-and-rag-evaluation/acquired-individual-transcripts/acquired-individual-transcripts/nintendos_origins.txt\n",
      "/kaggle/input/acquired-podcast-transcripts-and-rag-evaluation/acquired-individual-transcripts/acquired-individual-transcripts/special_why_now_for_digital_health_with_levels_founder_josh_clemente.txt\n",
      "/kaggle/input/acquired-podcast-transcripts-and-rag-evaluation/acquired-individual-transcripts/acquired-individual-transcripts/convoy_with_ceo_dan_lewis.txt\n",
      "/kaggle/input/acquired-podcast-transcripts-and-rag-evaluation/acquired-individual-transcripts/acquired-individual-transcripts/vc_fundamentals_part_3_company_building.txt\n",
      "/kaggle/input/acquired-podcast-transcripts-and-rag-evaluation/acquired-individual-transcripts/acquired-individual-transcripts/linkedin.txt\n",
      "/kaggle/input/acquired-podcast-transcripts-and-rag-evaluation/acquired-individual-transcripts/acquired-individual-transcripts/10k_diver_building_a_top_fintwit_account_and_teaching_finance_principles_to_everyone_pseudonymously.txt\n",
      "/kaggle/input/acquired-podcast-transcripts-and-rag-evaluation/acquired-individual-transcripts/acquired-individual-transcripts/the_nfl.txt\n",
      "/kaggle/input/acquired-podcast-transcripts-and-rag-evaluation/acquired-individual-transcripts/acquired-individual-transcripts/andreessen_horowitz_part_ii.txt\n",
      "/kaggle/input/acquired-podcast-transcripts-and-rag-evaluation/acquired-individual-transcripts/acquired-individual-transcripts/netflix_part_2.txt\n",
      "/kaggle/input/acquired-podcast-transcripts-and-rag-evaluation/acquired-individual-transcripts/acquired-individual-transcripts/spotify_ceo_daniel_ek.txt\n",
      "/kaggle/input/acquired-podcast-transcripts-and-rag-evaluation/acquired-individual-transcripts/acquired-individual-transcripts/comparing_the_dotcom_crash_to_today_with_tom_cowan_from_tdm.txt\n",
      "/kaggle/input/acquired-podcast-transcripts-and-rag-evaluation/acquired-individual-transcripts/acquired-individual-transcripts/holiday_special_2023.txt\n",
      "/kaggle/input/acquired-podcast-transcripts-and-rag-evaluation/acquired-individual-transcripts/acquired-individual-transcripts/7_powers_with_hamilton_helmer.txt\n",
      "/kaggle/input/acquired-podcast-transcripts-and-rag-evaluation/acquired-individual-transcripts/acquired-individual-transcripts/rec_room_part_ii_with_ceo_nick_fajt.txt\n",
      "/kaggle/input/acquired-podcast-transcripts-and-rag-evaluation/acquired-individual-transcripts/acquired-individual-transcripts/lockheed_martin.txt\n",
      "/kaggle/input/acquired-podcast-transcripts-and-rag-evaluation/acquired-individual-transcripts/acquired-individual-transcripts/special_invest_like_the_best_on_acquired.txt\n",
      "/kaggle/input/acquired-podcast-transcripts-and-rag-evaluation/acquired-individual-transcripts/acquired-individual-transcripts/the_2022_state_of_crypto_web3_with_solanas_austin_federa.txt\n",
      "/kaggle/input/acquired-podcast-transcripts-and-rag-evaluation/acquired-individual-transcripts/acquired-individual-transcripts/sessions_david_senra_founders_podcast.txt\n",
      "/kaggle/input/acquired-podcast-transcripts-and-rag-evaluation/acquired-individual-transcripts/acquired-individual-transcripts/special_conversation_with_microsofts_head_of_strategic_investments_brian_schultz.txt\n",
      "/kaggle/input/acquired-podcast-transcripts-and-rag-evaluation/acquired-individual-transcripts/acquired-individual-transcripts/special_episode_jason_calacanis.txt\n",
      "/kaggle/input/acquired-podcast-transcripts-and-rag-evaluation/acquired-individual-transcripts/acquired-individual-transcripts/virgin_america.txt\n",
      "/kaggle/input/acquired-podcast-transcripts-and-rag-evaluation/acquired-individual-transcripts/acquired-individual-transcripts/special_ho_nam_from_altos_ventures_a_different_approach_to_vc.txt\n",
      "/kaggle/input/acquired-podcast-transcripts-and-rag-evaluation/acquired-individual-transcripts/acquired-individual-transcripts/soundjam_itunes.txt\n",
      "/kaggle/input/acquired-podcast-transcripts-and-rag-evaluation/acquired-individual-transcripts/acquired-individual-transcripts/special_acquired_x_indie_hackers.txt\n",
      "/kaggle/input/acquired-podcast-transcripts-and-rag-evaluation/acquired-individual-transcripts/acquired-individual-transcripts/nvidia_part_ii_the_machine_learning_company_20062022.txt\n",
      "/kaggle/input/acquired-podcast-transcripts-and-rag-evaluation/acquired-individual-transcripts/acquired-individual-transcripts/visa.txt\n",
      "/kaggle/input/acquired-podcast-transcripts-and-rag-evaluation/acquired-individual-transcripts/acquired-individual-transcripts/charlie_munger.txt\n",
      "/kaggle/input/acquired-podcast-transcripts-and-rag-evaluation/acquired-individual-transcripts/acquired-individual-transcripts/capital_formation_and_the_lp_gp_relationship_with_altimeters_meghan_reynolds.txt\n",
      "/kaggle/input/acquired-podcast-transcripts-and-rag-evaluation/acquired-individual-transcripts/acquired-individual-transcripts/benchmarks_mitch_lasky_and_blake_robbins_on_the_art_of_business_in_gaming.txt\n",
      "/kaggle/input/acquired-podcast-transcripts-and-rag-evaluation/acquired-individual-transcripts/acquired-individual-transcripts/pinduoduo.txt\n",
      "/kaggle/input/acquired-podcast-transcripts-and-rag-evaluation/acquired-individual-transcripts/acquired-individual-transcripts/adapting_episode_2sequoias_black_swan_memo_with_roelof_botha.txt\n",
      "/kaggle/input/acquired-podcast-transcripts-and-rag-evaluation/acquired-individual-transcripts/acquired-individual-transcripts/snapchat.txt\n",
      "/kaggle/input/acquired-podcast-transcripts-and-rag-evaluation/acquired-individual-transcripts/acquired-individual-transcripts/benchmark_part_ii_the_dinner.txt\n",
      "/kaggle/input/acquired-podcast-transcripts-and-rag-evaluation/acquired-individual-transcripts/acquired-individual-transcripts/tiktok.txt\n",
      "/kaggle/input/acquired-podcast-transcripts-and-rag-evaluation/acquired-individual-transcripts/acquired-individual-transcripts/next_live_show_at_the_geekwire_summit.txt\n",
      "/kaggle/input/acquired-podcast-transcripts-and-rag-evaluation/acquired-individual-transcripts/acquired-individual-transcripts/dissecting_profitwells_acquisition_with_patrick_campbell.txt\n",
      "/kaggle/input/acquired-podcast-transcripts-and-rag-evaluation/acquired-individual-transcripts/acquired-individual-transcripts/from_nfl_to_startup_coo_to_congressman_regulating_crypto_with_rep_anthony_gonzalez.txt\n",
      "/kaggle/input/acquired-podcast-transcripts-and-rag-evaluation/acquired-individual-transcripts/acquired-individual-transcripts/pa_semi_authentec.txt\n"
     ]
    }
   ],
   "source": [
    "# This Python 3 environment comes with many helpful analytics libraries installed\n",
    "# It is defined by the kaggle/python Docker image: https://github.com/kaggle/docker-python\n",
    "# For example, here's several helpful packages to load\n",
    "\n",
    "import numpy as np # linear algebra\n",
    "import pandas as pd # data processing, CSV file I/O (e.g. pd.read_csv)\n",
    "\n",
    "# Input data files are available in the read-only \"../input/\" directory\n",
    "# For example, running this (by clicking run or pressing Shift+Enter) will list all files under the input directory\n",
    "\n",
    "import os\n",
    "for dirname, _, filenames in os.walk('/kaggle/input'):\n",
    "    for filename in filenames:\n",
    "        print(os.path.join(dirname, filename))\n",
    "\n",
    "# You can write up to 20GB to the current directory (/kaggle/working/) that gets preserved as output when you create a version using \"Save & Run All\" \n",
    "# You can also write temporary files to /kaggle/temp/, but they won't be saved outside of the current session"
   ]
  },
  {
   "cell_type": "code",
   "execution_count": 2,
   "id": "b60ca0eb",
   "metadata": {
    "execution": {
     "iopub.execute_input": "2025-10-03T11:04:54.895854Z",
     "iopub.status.busy": "2025-10-03T11:04:54.895430Z",
     "iopub.status.idle": "2025-10-03T11:04:54.900038Z",
     "shell.execute_reply": "2025-10-03T11:04:54.899078Z"
    },
    "papermill": {
     "duration": 0.012016,
     "end_time": "2025-10-03T11:04:54.901496",
     "exception": false,
     "start_time": "2025-10-03T11:04:54.889480",
     "status": "completed"
    },
    "tags": []
   },
   "outputs": [],
   "source": [
    "import warnings\n",
    "warnings.filterwarnings(\"ignore\")"
   ]
  },
  {
   "cell_type": "code",
   "execution_count": 3,
   "id": "986fdc12",
   "metadata": {
    "execution": {
     "iopub.execute_input": "2025-10-03T11:04:54.910715Z",
     "iopub.status.busy": "2025-10-03T11:04:54.910362Z",
     "iopub.status.idle": "2025-10-03T11:04:57.579303Z",
     "shell.execute_reply": "2025-10-03T11:04:57.578426Z"
    },
    "papermill": {
     "duration": 2.675457,
     "end_time": "2025-10-03T11:04:57.581007",
     "exception": false,
     "start_time": "2025-10-03T11:04:54.905550",
     "status": "completed"
    },
    "tags": []
   },
   "outputs": [],
   "source": [
    "import pandas as pd\n",
    "import matplotlib.pyplot as plt\n",
    "import seaborn as sns\n",
    "from sklearn.model_selection import train_test_split\n",
    "from sklearn.ensemble import RandomForestClassifier\n",
    "from sklearn.metrics import classification_report, accuracy_score"
   ]
  },
  {
   "cell_type": "code",
   "execution_count": 4,
   "id": "5be16c15",
   "metadata": {
    "execution": {
     "iopub.execute_input": "2025-10-03T11:04:57.590391Z",
     "iopub.status.busy": "2025-10-03T11:04:57.589939Z",
     "iopub.status.idle": "2025-10-03T11:04:57.642011Z",
     "shell.execute_reply": "2025-10-03T11:04:57.641026Z"
    },
    "papermill": {
     "duration": 0.058671,
     "end_time": "2025-10-03T11:04:57.643746",
     "exception": false,
     "start_time": "2025-10-03T11:04:57.585075",
     "status": "completed"
    },
    "tags": []
   },
   "outputs": [
    {
     "data": {
      "text/html": [
       "<div>\n",
       "<style scoped>\n",
       "    .dataframe tbody tr th:only-of-type {\n",
       "        vertical-align: middle;\n",
       "    }\n",
       "\n",
       "    .dataframe tbody tr th {\n",
       "        vertical-align: top;\n",
       "    }\n",
       "\n",
       "    .dataframe thead th {\n",
       "        text-align: right;\n",
       "    }\n",
       "</style>\n",
       "<table border=\"1\" class=\"dataframe\">\n",
       "  <thead>\n",
       "    <tr style=\"text-align: right;\">\n",
       "      <th></th>\n",
       "      <th>post_url</th>\n",
       "      <th>post_title</th>\n",
       "      <th>series_number</th>\n",
       "      <th>blog_date</th>\n",
       "      <th>blog_title</th>\n",
       "      <th>file_name</th>\n",
       "      <th>has_transcript</th>\n",
       "    </tr>\n",
       "  </thead>\n",
       "  <tbody>\n",
       "    <tr>\n",
       "      <th>0</th>\n",
       "      <td>https://www.acquired.fm/episodes/costco</td>\n",
       "      <td>Costco</td>\n",
       "      <td>Season 13, Episode 2</td>\n",
       "      <td>August 20, 2023</td>\n",
       "      <td>The Complete History &amp; Strategy of Costco</td>\n",
       "      <td>costco</td>\n",
       "      <td>True</td>\n",
       "    </tr>\n",
       "    <tr>\n",
       "      <th>1</th>\n",
       "      <td>https://www.acquired.fm/episodes/generative-ai...</td>\n",
       "      <td>Generative AI in Video and the Future of Story...</td>\n",
       "      <td>ACQ2 Episode</td>\n",
       "      <td>August 29, 2023</td>\n",
       "      <td>Related Episodes</td>\n",
       "      <td>generative_ai_in_video_and_the_future_of_story...</td>\n",
       "      <td>True</td>\n",
       "    </tr>\n",
       "    <tr>\n",
       "      <th>2</th>\n",
       "      <td>https://www.acquired.fm/episodes/nvidia-the-da...</td>\n",
       "      <td>Nvidia Part III: The Dawn of the AI Era (2022-...</td>\n",
       "      <td>Season 13, Episode 3</td>\n",
       "      <td>September 5, 2023</td>\n",
       "      <td>The Complete History &amp; Strategy of Nvidia: Part 3</td>\n",
       "      <td>nvidia_part_iii_the_dawn_of_the_ai_era_20222023</td>\n",
       "      <td>True</td>\n",
       "    </tr>\n",
       "    <tr>\n",
       "      <th>3</th>\n",
       "      <td>https://www.acquired.fm/episodes/doug-demuro-o...</td>\n",
       "      <td>Doug Demuro on Analyzing the Car Industry, Cre...</td>\n",
       "      <td>ACQ2 Episode</td>\n",
       "      <td>September 17, 2023</td>\n",
       "      <td>Related Episodes</td>\n",
       "      <td>doug_demuro_on_analyzing_the_car_industry_crea...</td>\n",
       "      <td>True</td>\n",
       "    </tr>\n",
       "    <tr>\n",
       "      <th>4</th>\n",
       "      <td>https://www.acquired.fm/episodes/jensen-huang</td>\n",
       "      <td>NVIDIA CEO Jensen Huang</td>\n",
       "      <td>ACQ2 Episode</td>\n",
       "      <td>October 15, 2023</td>\n",
       "      <td>Related Episodes</td>\n",
       "      <td>nvidia_ceo_jensen_huang</td>\n",
       "      <td>True</td>\n",
       "    </tr>\n",
       "  </tbody>\n",
       "</table>\n",
       "</div>"
      ],
      "text/plain": [
       "                                            post_url  \\\n",
       "0            https://www.acquired.fm/episodes/costco   \n",
       "1  https://www.acquired.fm/episodes/generative-ai...   \n",
       "2  https://www.acquired.fm/episodes/nvidia-the-da...   \n",
       "3  https://www.acquired.fm/episodes/doug-demuro-o...   \n",
       "4      https://www.acquired.fm/episodes/jensen-huang   \n",
       "\n",
       "                                          post_title         series_number  \\\n",
       "0                                             Costco  Season 13, Episode 2   \n",
       "1  Generative AI in Video and the Future of Story...          ACQ2 Episode   \n",
       "2  Nvidia Part III: The Dawn of the AI Era (2022-...  Season 13, Episode 3   \n",
       "3  Doug Demuro on Analyzing the Car Industry, Cre...          ACQ2 Episode   \n",
       "4                            NVIDIA CEO Jensen Huang          ACQ2 Episode   \n",
       "\n",
       "            blog_date                                         blog_title  \\\n",
       "0     August 20, 2023          The Complete History & Strategy of Costco   \n",
       "1     August 29, 2023                                   Related Episodes   \n",
       "2   September 5, 2023  The Complete History & Strategy of Nvidia: Part 3   \n",
       "3  September 17, 2023                                   Related Episodes   \n",
       "4    October 15, 2023                                   Related Episodes   \n",
       "\n",
       "                                           file_name  has_transcript  \n",
       "0                                             costco            True  \n",
       "1  generative_ai_in_video_and_the_future_of_story...            True  \n",
       "2    nvidia_part_iii_the_dawn_of_the_ai_era_20222023            True  \n",
       "3  doug_demuro_on_analyzing_the_car_industry_crea...            True  \n",
       "4                            nvidia_ceo_jensen_huang            True  "
      ]
     },
     "execution_count": 4,
     "metadata": {},
     "output_type": "execute_result"
    }
   ],
   "source": [
    "df = pd.read_csv('/kaggle/input/acquired-podcast-transcripts-and-rag-evaluation/acquired_metadata.csv')\n",
    "df.head()"
   ]
  },
  {
   "cell_type": "code",
   "execution_count": 5,
   "id": "90e23ed8",
   "metadata": {
    "execution": {
     "iopub.execute_input": "2025-10-03T11:04:57.653190Z",
     "iopub.status.busy": "2025-10-03T11:04:57.652866Z",
     "iopub.status.idle": "2025-10-03T11:04:57.660406Z",
     "shell.execute_reply": "2025-10-03T11:04:57.659531Z"
    },
    "papermill": {
     "duration": 0.01376,
     "end_time": "2025-10-03T11:04:57.661788",
     "exception": false,
     "start_time": "2025-10-03T11:04:57.648028",
     "status": "completed"
    },
    "tags": []
   },
   "outputs": [
    {
     "data": {
      "text/plain": [
       "Index(['post_url', 'post_title', 'series_number', 'blog_date', 'blog_title',\n",
       "       'file_name', 'has_transcript'],\n",
       "      dtype='object')"
      ]
     },
     "execution_count": 5,
     "metadata": {},
     "output_type": "execute_result"
    }
   ],
   "source": [
    "df.columns"
   ]
  },
  {
   "cell_type": "code",
   "execution_count": 6,
   "id": "ff94f77c",
   "metadata": {
    "execution": {
     "iopub.execute_input": "2025-10-03T11:04:57.674882Z",
     "iopub.status.busy": "2025-10-03T11:04:57.674280Z",
     "iopub.status.idle": "2025-10-03T11:04:57.679767Z",
     "shell.execute_reply": "2025-10-03T11:04:57.678683Z"
    },
    "papermill": {
     "duration": 0.015166,
     "end_time": "2025-10-03T11:04:57.681301",
     "exception": false,
     "start_time": "2025-10-03T11:04:57.666135",
     "status": "completed"
    },
    "tags": []
   },
   "outputs": [
    {
     "name": "stdout",
     "output_type": "stream",
     "text": [
      "Dataset Info:\n"
     ]
    }
   ],
   "source": [
    "print(\"Dataset Info:\")"
   ]
  },
  {
   "cell_type": "code",
   "execution_count": 7,
   "id": "aa5dee9d",
   "metadata": {
    "execution": {
     "iopub.execute_input": "2025-10-03T11:04:57.690916Z",
     "iopub.status.busy": "2025-10-03T11:04:57.690543Z",
     "iopub.status.idle": "2025-10-03T11:04:57.716278Z",
     "shell.execute_reply": "2025-10-03T11:04:57.714929Z"
    },
    "papermill": {
     "duration": 0.032573,
     "end_time": "2025-10-03T11:04:57.718184",
     "exception": false,
     "start_time": "2025-10-03T11:04:57.685611",
     "status": "completed"
    },
    "tags": []
   },
   "outputs": [
    {
     "name": "stdout",
     "output_type": "stream",
     "text": [
      "<class 'pandas.core.frame.DataFrame'>\n",
      "RangeIndex: 275 entries, 0 to 274\n",
      "Data columns (total 7 columns):\n",
      " #   Column          Non-Null Count  Dtype \n",
      "---  ------          --------------  ----- \n",
      " 0   post_url        275 non-null    object\n",
      " 1   post_title      275 non-null    object\n",
      " 2   series_number   275 non-null    object\n",
      " 3   blog_date       275 non-null    object\n",
      " 4   blog_title      275 non-null    object\n",
      " 5   file_name       275 non-null    object\n",
      " 6   has_transcript  275 non-null    bool  \n",
      "dtypes: bool(1), object(6)\n",
      "memory usage: 13.3+ KB\n",
      "None\n"
     ]
    }
   ],
   "source": [
    "print(df.info())"
   ]
  },
  {
   "cell_type": "code",
   "execution_count": 8,
   "id": "0d51f0e8",
   "metadata": {
    "execution": {
     "iopub.execute_input": "2025-10-03T11:04:57.729106Z",
     "iopub.status.busy": "2025-10-03T11:04:57.728783Z",
     "iopub.status.idle": "2025-10-03T11:04:57.733801Z",
     "shell.execute_reply": "2025-10-03T11:04:57.732780Z"
    },
    "papermill": {
     "duration": 0.012576,
     "end_time": "2025-10-03T11:04:57.735130",
     "exception": false,
     "start_time": "2025-10-03T11:04:57.722554",
     "status": "completed"
    },
    "tags": []
   },
   "outputs": [
    {
     "name": "stdout",
     "output_type": "stream",
     "text": [
      "\n",
      "First 5 rows:\n"
     ]
    }
   ],
   "source": [
    "print(\"\\nFirst 5 rows:\")"
   ]
  },
  {
   "cell_type": "code",
   "execution_count": 9,
   "id": "7fd94a4f",
   "metadata": {
    "execution": {
     "iopub.execute_input": "2025-10-03T11:04:57.745229Z",
     "iopub.status.busy": "2025-10-03T11:04:57.744888Z",
     "iopub.status.idle": "2025-10-03T11:04:58.039199Z",
     "shell.execute_reply": "2025-10-03T11:04:58.038358Z"
    },
    "papermill": {
     "duration": 0.301194,
     "end_time": "2025-10-03T11:04:58.040648",
     "exception": false,
     "start_time": "2025-10-03T11:04:57.739454",
     "status": "completed"
    },
    "tags": []
   },
   "outputs": [
    {
     "data": {
      "image/png": "[encoded data removed]",
      "text/plain": [
       "<Figure size 800x500 with 1 Axes>"
      ]
     },
     "metadata": {},
     "output_type": "display_data"
    }
   ],
   "source": [
    "# Set style for plots\n",
    "sns.set_style(\"whitegrid\")\n",
    "\n",
    "# Count of episodes with/without transcripts\n",
    "plt.figure(figsize=(8, 5))\n",
    "sns.countplot(x='has_transcript', data=df)\n",
    "plt.title('Episodes with Transcripts vs Without')\n",
    "plt.show()"
   ]
  },
  {
   "cell_type": "code",
   "execution_count": 10,
   "id": "1aebab01",
   "metadata": {
    "execution": {
     "iopub.execute_input": "2025-10-03T11:04:58.052318Z",
     "iopub.status.busy": "2025-10-03T11:04:58.051262Z",
     "iopub.status.idle": "2025-10-03T11:04:58.363311Z",
     "shell.execute_reply": "2025-10-03T11:04:58.362348Z"
    },
    "papermill": {
     "duration": 0.31975,
     "end_time": "2025-10-03T11:04:58.365050",
     "exception": false,
     "start_time": "2025-10-03T11:04:58.045300",
     "status": "completed"
    },
    "tags": []
   },
   "outputs": [
    {
     "data": {
      "image/png": "[encoded data removed]",
      "text/plain": [
       "<Figure size 1200x600 with 1 Axes>"
      ]
     },
     "metadata": {},
     "output_type": "display_data"
    }
   ],
   "source": [
    "# Episodes over time\n",
    "df['blog_date'] = pd.to_datetime(df['blog_date'])\n",
    "plt.figure(figsize=(12, 6))\n",
    "df.groupby(df['blog_date'].dt.year)['post_title'].count().plot(kind='bar')\n",
    "plt.title('Number of Episodes per Year')\n",
    "plt.xlabel('Year')\n",
    "plt.ylabel('Count')\n",
    "plt.show()"
   ]
  },
  {
   "cell_type": "code",
   "execution_count": 11,
   "id": "f2895463",
   "metadata": {
    "execution": {
     "iopub.execute_input": "2025-10-03T11:04:58.377317Z",
     "iopub.status.busy": "2025-10-03T11:04:58.377036Z",
     "iopub.status.idle": "2025-10-03T11:04:58.384148Z",
     "shell.execute_reply": "2025-10-03T11:04:58.383177Z"
    },
    "papermill": {
     "duration": 0.014469,
     "end_time": "2025-10-03T11:04:58.385687",
     "exception": false,
     "start_time": "2025-10-03T11:04:58.371218",
     "status": "completed"
    },
    "tags": []
   },
   "outputs": [],
   "source": [
    "# Feature engineering\n",
    "df['year'] = df['blog_date'].dt.year\n",
    "df['month'] = df['blog_date'].dt.month"
   ]
  },
  {
   "cell_type": "code",
   "execution_count": 12,
   "id": "6847f7df",
   "metadata": {
    "execution": {
     "iopub.execute_input": "2025-10-03T11:04:58.398048Z",
     "iopub.status.busy": "2025-10-03T11:04:58.397413Z",
     "iopub.status.idle": "2025-10-03T11:04:58.404927Z",
     "shell.execute_reply": "2025-10-03T11:04:58.403624Z"
    },
    "papermill": {
     "duration": 0.015117,
     "end_time": "2025-10-03T11:04:58.406452",
     "exception": false,
     "start_time": "2025-10-03T11:04:58.391335",
     "status": "completed"
    },
    "tags": []
   },
   "outputs": [],
   "source": [
    "# Select features and target\n",
    "X = df[['series_number', 'year', 'month']]\n",
    "y = df['has_transcript']"
   ]
  },
  {
   "cell_type": "code",
   "execution_count": 13,
   "id": "b9226efe",
   "metadata": {
    "execution": {
     "iopub.execute_input": "2025-10-03T11:04:58.417523Z",
     "iopub.status.busy": "2025-10-03T11:04:58.417230Z",
     "iopub.status.idle": "2025-10-03T11:04:58.425417Z",
     "shell.execute_reply": "2025-10-03T11:04:58.424622Z"
    },
    "papermill": {
     "duration": 0.015416,
     "end_time": "2025-10-03T11:04:58.426872",
     "exception": false,
     "start_time": "2025-10-03T11:04:58.411456",
     "status": "completed"
    },
    "tags": []
   },
   "outputs": [],
   "source": [
    "# Split data into train and test sets\n",
    "X_train, X_test, y_train, y_test = train_test_split(X, y, test_size=0.2, random_state=42)"
   ]
  },
  {
   "cell_type": "code",
   "execution_count": 14,
   "id": "6b7e3376",
   "metadata": {
    "execution": {
     "iopub.execute_input": "2025-10-03T11:04:58.438160Z",
     "iopub.status.busy": "2025-10-03T11:04:58.437864Z",
     "iopub.status.idle": "2025-10-03T11:04:58.477629Z",
     "shell.execute_reply": "2025-10-03T11:04:58.476648Z"
    },
    "papermill": {
     "duration": 0.047549,
     "end_time": "2025-10-03T11:04:58.479341",
     "exception": false,
     "start_time": "2025-10-03T11:04:58.431792",
     "status": "completed"
    },
    "tags": []
   },
   "outputs": [],
   "source": [
    "from sklearn.preprocessing import OneHotEncoder\n",
    "from sklearn.compose import ColumnTransformer\n",
    "\n",
    "# Identify categorical columns (adjust as needed)\n",
    "categorical_cols = [col for col in X_train.columns if X_train[col].dtype == 'object']\n",
    "\n",
    "# Create preprocessor\n",
    "preprocessor = ColumnTransformer(\n",
    "    transformers=[\n",
    "        ('cat', OneHotEncoder(handle_unknown='ignore'), categorical_cols)\n",
    "    ],\n",
    "    remainder='passthrough'\n",
    ")\n",
    "\n",
    "# Fit and transform the data\n",
    "X_train_processed = preprocessor.fit_transform(X_train)\n",
    "X_test_processed = preprocessor.transform(X_test)"
   ]
  },
  {
   "cell_type": "code",
   "execution_count": 15,
   "id": "3bb9a339",
   "metadata": {
    "execution": {
     "iopub.execute_input": "2025-10-03T11:04:58.490450Z",
     "iopub.status.busy": "2025-10-03T11:04:58.490135Z",
     "iopub.status.idle": "2025-10-03T11:04:58.660551Z",
     "shell.execute_reply": "2025-10-03T11:04:58.659680Z"
    },
    "papermill": {
     "duration": 0.177777,
     "end_time": "2025-10-03T11:04:58.662072",
     "exception": false,
     "start_time": "2025-10-03T11:04:58.484295",
     "status": "completed"
    },
    "tags": []
   },
   "outputs": [
    {
     "data": {
      "text/html": [
       "<style>#sk-container-id-1 {color: black;background-color: white;}#sk-container-id-1 pre{padding: 0;}#sk-container-id-1 div.sk-toggleable {background-color: white;}#sk-container-id-1 label.sk-toggleable__label {cursor: pointer;display: block;width: 100%;margin-bottom: 0;padding: 0.3em;box-sizing: border-box;text-align: center;}#sk-container-id-1 label.sk-toggleable__label-arrow:before {content: \"▸\";float: left;margin-right: 0.25em;color: #696969;}#sk-container-id-1 label.sk-toggleable__label-arrow:hover:before {color: black;}#sk-container-id-1 div.sk-estimator:hover label.sk-toggleable__label-arrow:before {color: black;}#sk-container-id-1 div.sk-toggleable__content {max-height: 0;max-width: 0;overflow: hidden;text-align: left;background-color: #f0f8ff;}#sk-container-id-1 div.sk-toggleable__content pre {margin: 0.2em;color: black;border-radius: 0.25em;background-color: #f0f8ff;}#sk-container-id-1 input.sk-toggleable__control:checked~div.sk-toggleable__content {max-height: 200px;max-width: 100%;overflow: auto;}#sk-container-id-1 input.sk-toggleable__control:checked~label.sk-toggleable__label-arrow:before {content: \"▾\";}#sk-container-id-1 div.sk-estimator input.sk-toggleable__control:checked~label.sk-toggleable__label {background-color: #d4ebff;}#sk-container-id-1 div.sk-label input.sk-toggleable__control:checked~label.sk-toggleable__label {background-color: #d4ebff;}#sk-container-id-1 input.sk-hidden--visually {border: 0;clip: rect(1px 1px 1px 1px);clip: rect(1px, 1px, 1px, 1px);height: 1px;margin: -1px;overflow: hidden;padding: 0;position: absolute;width: 1px;}#sk-container-id-1 div.sk-estimator {font-family: monospace;background-color: #f0f8ff;border: 1px dotted black;border-radius: 0.25em;box-sizing: border-box;margin-bottom: 0.5em;}#sk-container-id-1 div.sk-estimator:hover {background-color: #d4ebff;}#sk-container-id-1 div.sk-parallel-item::after {content: \"\";width: 100%;border-bottom: 1px solid gray;flex-grow: 1;}#sk-container-id-1 div.sk-label:hover label.sk-toggleable__label {background-color: #d4ebff;}#sk-container-id-1 div.sk-serial::before {content: \"\";position: absolute;border-left: 1px solid gray;box-sizing: border-box;top: 0;bottom: 0;left: 50%;z-index: 0;}#sk-container-id-1 div.sk-serial {display: flex;flex-direction: column;align-items: center;background-color: white;padding-right: 0.2em;padding-left: 0.2em;position: relative;}#sk-container-id-1 div.sk-item {position: relative;z-index: 1;}#sk-container-id-1 div.sk-parallel {display: flex;align-items: stretch;justify-content: center;background-color: white;position: relative;}#sk-container-id-1 div.sk-item::before, #sk-container-id-1 div.sk-parallel-item::before {content: \"\";position: absolute;border-left: 1px solid gray;box-sizing: border-box;top: 0;bottom: 0;left: 50%;z-index: -1;}#sk-container-id-1 div.sk-parallel-item {display: flex;flex-direction: column;z-index: 1;position: relative;background-color: white;}#sk-container-id-1 div.sk-parallel-item:first-child::after {align-self: flex-end;width: 50%;}#sk-container-id-1 div.sk-parallel-item:last-child::after {align-self: flex-start;width: 50%;}#sk-container-id-1 div.sk-parallel-item:only-child::after {width: 0;}#sk-container-id-1 div.sk-dashed-wrapped {border: 1px dashed gray;margin: 0 0.4em 0.5em 0.4em;box-sizing: border-box;padding-bottom: 0.4em;background-color: white;}#sk-container-id-1 div.sk-label label {font-family: monospace;font-weight: bold;display: inline-block;line-height: 1.2em;}#sk-container-id-1 div.sk-label-container {text-align: center;}#sk-container-id-1 div.sk-container {/* jupyter's `normalize.less` sets `[hidden] { display: none; }` but bootstrap.min.css set `[hidden] { display: none !important; }` so we also need the `!important` here to be able to override the default hidden behavior on the sphinx rendered scikit-learn.org. See: https://github.com/scikit-learn/scikit-learn/issues/21755 */display: inline-block !important;position: relative;}#sk-container-id-1 div.sk-text-repr-fallback {display: none;}</style><div id=\"sk-container-id-1\" class=\"sk-top-container\"><div class=\"sk-text-repr-fallback\"><pre>RandomForestClassifier(random_state=42)</pre><b>In a Jupyter environment, please rerun this cell to show the HTML representation or trust the notebook. <br />On GitHub, the HTML representation is unable to render, please try loading this page with nbviewer.org.</b></div><div class=\"sk-container\" hidden><div class=\"sk-item\"><div class=\"sk-estimator sk-toggleable\"><input class=\"sk-toggleable__control sk-hidden--visually\" id=\"sk-estimator-id-1\" type=\"checkbox\" checked><label for=\"sk-estimator-id-1\" class=\"sk-toggleable__label sk-toggleable__label-arrow\">RandomForestClassifier</label><div class=\"sk-toggleable__content\"><pre>RandomForestClassifier(random_state=42)</pre></div></div></div></div></div>"
      ],
      "text/plain": [
       "RandomForestClassifier(random_state=42)"
      ]
     },
     "execution_count": 15,
     "metadata": {},
     "output_type": "execute_result"
    }
   ],
   "source": [
    "# Then train your model on the processed data\n",
    "model = RandomForestClassifier(random_state=42)\n",
    "model.fit(X_train_processed, y_train)"
   ]
  },
  {
   "cell_type": "code",
   "execution_count": 16,
   "id": "0b9f770d",
   "metadata": {
    "execution": {
     "iopub.execute_input": "2025-10-03T11:04:58.675913Z",
     "iopub.status.busy": "2025-10-03T11:04:58.675255Z",
     "iopub.status.idle": "2025-10-03T11:04:58.697298Z",
     "shell.execute_reply": "2025-10-03T11:04:58.695789Z"
    },
    "papermill": {
     "duration": 0.031049,
     "end_time": "2025-10-03T11:04:58.698961",
     "exception": false,
     "start_time": "2025-10-03T11:04:58.667912",
     "status": "completed"
    },
    "tags": []
   },
   "outputs": [
    {
     "name": "stdout",
     "output_type": "stream",
     "text": [
      "\n",
      "Model Evaluation:\n",
      "Accuracy: 0.87\n",
      "\n",
      "Classification Report:\n",
      "              precision    recall  f1-score   support\n",
      "\n",
      "       False       0.78      0.58      0.67        12\n",
      "        True       0.89      0.95      0.92        43\n",
      "\n",
      "    accuracy                           0.87        55\n",
      "   macro avg       0.83      0.77      0.79        55\n",
      "weighted avg       0.87      0.87      0.87        55\n",
      "\n"
     ]
    }
   ],
   "source": [
    "y_pred = model.predict(X_test_processed)\n",
    "\n",
    "# Evaluate the model\n",
    "print(\"\\nModel Evaluation:\")\n",
    "print(f\"Accuracy: {accuracy_score(y_test, y_pred):.2f}\")\n",
    "print(\"\\nClassification Report:\")\n",
    "print(classification_report(y_test, y_pred))"
   ]
  }
 ],
 "metadata": {
  "kaggle": {
   "accelerator": "none",
   "dataSources": [
    {
     "datasetId": 5007671,
     "sourceId": 8572925,
     "sourceType": "datasetVersion"
    }
   ],
   "dockerImageVersionId": 31089,
   "isGpuEnabled": false,
   "isInternetEnabled": true,
   "language": "python",
   "sourceType": "notebook"
  },
  "kernelspec": {
   "display_name": "Python 3",
   "language": "python",
   "name": "python3"
  },
  "language_info": {
   "codemirror_mode": {
    "name": "ipython",
    "version": 3
   },
   "file_extension": ".py",
   "mimetype": "text/x-python",
   "name": "python",
   "nbconvert_exporter": "python",
   "pygments_lexer": "ipython3",
   "version": "3.11.13"
  },
  "papermill": {
   "default_parameters": {},
   "duration": 12.381361,
   "end_time": "2025-10-03T11:04:59.425981",
   "environment_variables": {},
   "exception": null,
   "input_path": "__notebook__.ipynb",
   "output_path": "__notebook__.ipynb",
   "parameters": {},
   "start_time": "2025-10-03T11:04:47.044620",
   "version": "2.6.0"
  }
 },
 "nbformat": 4,
 "nbformat_minor": 5
}
