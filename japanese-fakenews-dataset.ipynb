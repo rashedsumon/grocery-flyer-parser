{
 "cells": [
  {
   "cell_type": "code",
   "execution_count": 1,
   "id": "a283264f",
   "metadata": {
    "_cell_guid": "b1076dfc-b9ad-4769-8c92-a6c4dae69d19",
    "_uuid": "8f2839f25d086af736a60e9eeb907d3b93b6e0e5",
    "execution": {
     "iopub.execute_input": "2025-10-03T13:52:06.542147Z",
     "iopub.status.busy": "2025-10-03T13:52:06.541710Z",
     "iopub.status.idle": "2025-10-03T13:52:08.725839Z",
     "shell.execute_reply": "2025-10-03T13:52:08.724096Z"
    },
    "papermill": {
     "duration": 2.192267,
     "end_time": "2025-10-03T13:52:08.728055",
     "exception": false,
     "start_time": "2025-10-03T13:52:06.535788",
     "status": "completed"
    },
    "tags": []
   },
   "outputs": [
    {
     "name": "stdout",
     "output_type": "stream",
     "text": [
      "/kaggle/input/japanese-fakenews-dataset/fakenews.csv\n"
     ]
    }
   ],
   "source": [
    "# This Python 3 environment comes with many helpful analytics libraries installed\n",
    "# It is defined by the kaggle/python Docker image: https://github.com/kaggle/docker-python\n",
    "# For example, here's several helpful packages to load\n",
    "\n",
    "import numpy as np # linear algebra\n",
    "import pandas as pd # data processing, CSV file I/O (e.g. pd.read_csv)\n",
    "\n",
    "# Input data files are available in the read-only \"../input/\" directory\n",
    "# For example, running this (by clicking run or pressing Shift+Enter) will list all files under the input directory\n",
    "\n",
    "import os\n",
    "for dirname, _, filenames in os.walk('/kaggle/input'):\n",
    "    for filename in filenames:\n",
    "        print(os.path.join(dirname, filename))\n",
    "\n",
    "# You can write up to 20GB to the current directory (/kaggle/working/) that gets preserved as output when you create a version using \"Save & Run All\" \n",
    "# You can also write temporary files to /kaggle/temp/, but they won't be saved outside of the current session"
   ]
  },
  {
   "cell_type": "code",
   "execution_count": 2,
   "id": "10946bba",
   "metadata": {
    "execution": {
     "iopub.execute_input": "2025-10-03T13:52:08.736924Z",
     "iopub.status.busy": "2025-10-03T13:52:08.736370Z",
     "iopub.status.idle": "2025-10-03T13:52:08.741790Z",
     "shell.execute_reply": "2025-10-03T13:52:08.740835Z"
    },
    "papermill": {
     "duration": 0.011391,
     "end_time": "2025-10-03T13:52:08.743503",
     "exception": false,
     "start_time": "2025-10-03T13:52:08.732112",
     "status": "completed"
    },
    "tags": []
   },
   "outputs": [],
   "source": [
    "import warnings\n",
    "warnings.filterwarnings(\"ignore\")"
   ]
  },
  {
   "cell_type": "code",
   "execution_count": 3,
   "id": "7876304a",
   "metadata": {
    "execution": {
     "iopub.execute_input": "2025-10-03T13:52:08.751368Z",
     "iopub.status.busy": "2025-10-03T13:52:08.751043Z",
     "iopub.status.idle": "2025-10-03T13:52:11.040205Z",
     "shell.execute_reply": "2025-10-03T13:52:11.039062Z"
    },
    "papermill": {
     "duration": 2.29504,
     "end_time": "2025-10-03T13:52:11.041994",
     "exception": false,
     "start_time": "2025-10-03T13:52:08.746954",
     "status": "completed"
    },
    "tags": []
   },
   "outputs": [],
   "source": [
    "# Import basic libraries\n",
    "import pandas as pd\n",
    "import matplotlib.pyplot as plt\n",
    "import seaborn as sns"
   ]
  },
  {
   "cell_type": "code",
   "execution_count": 4,
   "id": "5d863e72",
   "metadata": {
    "execution": {
     "iopub.execute_input": "2025-10-03T13:52:11.050089Z",
     "iopub.status.busy": "2025-10-03T13:52:11.049504Z",
     "iopub.status.idle": "2025-10-03T13:52:11.741501Z",
     "shell.execute_reply": "2025-10-03T13:52:11.740444Z"
    },
    "papermill": {
     "duration": 0.697932,
     "end_time": "2025-10-03T13:52:11.743263",
     "exception": false,
     "start_time": "2025-10-03T13:52:11.045331",
     "status": "completed"
    },
    "tags": []
   },
   "outputs": [
    {
     "data": {
      "text/html": [
       "<div>\n",
       "<style scoped>\n",
       "    .dataframe tbody tr th:only-of-type {\n",
       "        vertical-align: middle;\n",
       "    }\n",
       "\n",
       "    .dataframe tbody tr th {\n",
       "        vertical-align: top;\n",
       "    }\n",
       "\n",
       "    .dataframe thead th {\n",
       "        text-align: right;\n",
       "    }\n",
       "</style>\n",
       "<table border=\"1\" class=\"dataframe\">\n",
       "  <thead>\n",
       "    <tr style=\"text-align: right;\">\n",
       "      <th></th>\n",
       "      <th>id</th>\n",
       "      <th>context</th>\n",
       "      <th>isfake</th>\n",
       "      <th>nchar_real</th>\n",
       "      <th>nchar_fake</th>\n",
       "    </tr>\n",
       "  </thead>\n",
       "  <tbody>\n",
       "    <tr>\n",
       "      <th>0</th>\n",
       "      <td>000128042337</td>\n",
       "      <td>朝日新聞など各社の報道によれば、宅配便最大手「ヤマト運輸」が日本郵政公社を相手取り、大手コン...</td>\n",
       "      <td>0</td>\n",
       "      <td>541</td>\n",
       "      <td>0</td>\n",
       "    </tr>\n",
       "    <tr>\n",
       "      <th>1</th>\n",
       "      <td>00012b7a8314</td>\n",
       "      <td>11月5日の各社報道によると、諫早湾干拓事業は諫早海人（諫早湾の「海」）に囲まれる大洋に位置...</td>\n",
       "      <td>2</td>\n",
       "      <td>0</td>\n",
       "      <td>385</td>\n",
       "    </tr>\n",
       "    <tr>\n",
       "      <th>2</th>\n",
       "      <td>0005fb48880b</td>\n",
       "      <td>産経新聞、中日新聞によると、2004年から2005年まで、この大会による3年おきの開催を、2...</td>\n",
       "      <td>2</td>\n",
       "      <td>0</td>\n",
       "      <td>255</td>\n",
       "    </tr>\n",
       "    <tr>\n",
       "      <th>3</th>\n",
       "      <td>00087f9e14ab</td>\n",
       "      <td>開催地のリオデジャネイロ市に対して、大会期間中のリオデジャネイロオリンピックに関する公式発表...</td>\n",
       "      <td>1</td>\n",
       "      <td>435</td>\n",
       "      <td>218</td>\n",
       "    </tr>\n",
       "    <tr>\n",
       "      <th>4</th>\n",
       "      <td>000c9ac3d552</td>\n",
       "      <td>毎日新聞・時事通信によると、2006年2月13日には、グッドウィル・グッゲンハイム・アン・ハ...</td>\n",
       "      <td>2</td>\n",
       "      <td>0</td>\n",
       "      <td>248</td>\n",
       "    </tr>\n",
       "  </tbody>\n",
       "</table>\n",
       "</div>"
      ],
      "text/plain": [
       "             id                                            context  isfake  \\\n",
       "0  000128042337  朝日新聞など各社の報道によれば、宅配便最大手「ヤマト運輸」が日本郵政公社を相手取り、大手コン...       0   \n",
       "1  00012b7a8314  11月5日の各社報道によると、諫早湾干拓事業は諫早海人（諫早湾の「海」）に囲まれる大洋に位置...       2   \n",
       "2  0005fb48880b  産経新聞、中日新聞によると、2004年から2005年まで、この大会による3年おきの開催を、2...       2   \n",
       "3  00087f9e14ab  開催地のリオデジャネイロ市に対して、大会期間中のリオデジャネイロオリンピックに関する公式発表...       1   \n",
       "4  000c9ac3d552  毎日新聞・時事通信によると、2006年2月13日には、グッドウィル・グッゲンハイム・アン・ハ...       2   \n",
       "\n",
       "   nchar_real  nchar_fake  \n",
       "0         541           0  \n",
       "1           0         385  \n",
       "2           0         255  \n",
       "3         435         218  \n",
       "4           0         248  "
      ]
     },
     "execution_count": 4,
     "metadata": {},
     "output_type": "execute_result"
    }
   ],
   "source": [
    "df = pd.read_csv('/kaggle/input/japanese-fakenews-dataset/fakenews.csv')\n",
    "df.head()"
   ]
  },
  {
   "cell_type": "code",
   "execution_count": 5,
   "id": "ccff5180",
   "metadata": {
    "execution": {
     "iopub.execute_input": "2025-10-03T13:52:11.752220Z",
     "iopub.status.busy": "2025-10-03T13:52:11.751876Z",
     "iopub.status.idle": "2025-10-03T13:52:11.759481Z",
     "shell.execute_reply": "2025-10-03T13:52:11.758582Z"
    },
    "papermill": {
     "duration": 0.013898,
     "end_time": "2025-10-03T13:52:11.761098",
     "exception": false,
     "start_time": "2025-10-03T13:52:11.747200",
     "status": "completed"
    },
    "tags": []
   },
   "outputs": [
    {
     "data": {
      "text/plain": [
       "Index(['id', 'context', 'isfake', 'nchar_real', 'nchar_fake'], dtype='object')"
      ]
     },
     "execution_count": 5,
     "metadata": {},
     "output_type": "execute_result"
    }
   ],
   "source": [
    "df.columns"
   ]
  },
  {
   "cell_type": "code",
   "execution_count": 6,
   "id": "79fe4f7c",
   "metadata": {
    "execution": {
     "iopub.execute_input": "2025-10-03T13:52:11.769610Z",
     "iopub.status.busy": "2025-10-03T13:52:11.769288Z",
     "iopub.status.idle": "2025-10-03T13:52:11.796059Z",
     "shell.execute_reply": "2025-10-03T13:52:11.794788Z"
    },
    "papermill": {
     "duration": 0.032687,
     "end_time": "2025-10-03T13:52:11.797589",
     "exception": false,
     "start_time": "2025-10-03T13:52:11.764902",
     "status": "completed"
    },
    "tags": []
   },
   "outputs": [
    {
     "name": "stdout",
     "output_type": "stream",
     "text": [
      "<class 'pandas.core.frame.DataFrame'>\n",
      "RangeIndex: 13040 entries, 0 to 13039\n",
      "Data columns (total 5 columns):\n",
      " #   Column      Non-Null Count  Dtype \n",
      "---  ------      --------------  ----- \n",
      " 0   id          13040 non-null  object\n",
      " 1   context     13040 non-null  object\n",
      " 2   isfake      13040 non-null  int64 \n",
      " 3   nchar_real  13040 non-null  int64 \n",
      " 4   nchar_fake  13040 non-null  int64 \n",
      "dtypes: int64(3), object(2)\n",
      "memory usage: 509.5+ KB\n"
     ]
    }
   ],
   "source": [
    "# Check for nulls and types\n",
    "df.info()"
   ]
  },
  {
   "cell_type": "code",
   "execution_count": 7,
   "id": "62e5b50e",
   "metadata": {
    "execution": {
     "iopub.execute_input": "2025-10-03T13:52:11.806427Z",
     "iopub.status.busy": "2025-10-03T13:52:11.806090Z",
     "iopub.status.idle": "2025-10-03T13:52:12.106944Z",
     "shell.execute_reply": "2025-10-03T13:52:12.105875Z"
    },
    "papermill": {
     "duration": 0.307405,
     "end_time": "2025-10-03T13:52:12.108693",
     "exception": false,
     "start_time": "2025-10-03T13:52:11.801288",
     "status": "completed"
    },
    "tags": []
   },
   "outputs": [
    {
     "data": {
      "image/png": "[encoded data removed]",
      "text/plain": [
       "<Figure size 640x480 with 1 Axes>"
      ]
     },
     "metadata": {},
     "output_type": "display_data"
    }
   ],
   "source": [
    "# Visualize the distribution of real vs fake\n",
    "sns.countplot(data=df, x='isfake')\n",
    "plt.title('Real vs Fake News Count')\n",
    "plt.show()"
   ]
  },
  {
   "cell_type": "code",
   "execution_count": 8,
   "id": "a0bf3755",
   "metadata": {
    "execution": {
     "iopub.execute_input": "2025-10-03T13:52:12.117850Z",
     "iopub.status.busy": "2025-10-03T13:52:12.117477Z",
     "iopub.status.idle": "2025-10-03T13:52:12.790970Z",
     "shell.execute_reply": "2025-10-03T13:52:12.789864Z"
    },
    "papermill": {
     "duration": 0.679877,
     "end_time": "2025-10-03T13:52:12.792683",
     "exception": false,
     "start_time": "2025-10-03T13:52:12.112806",
     "status": "completed"
    },
    "tags": []
   },
   "outputs": [
    {
     "data": {
      "image/png": "[encoded data removed]",
      "text/plain": [
       "<Figure size 640x480 with 1 Axes>"
      ]
     },
     "metadata": {},
     "output_type": "display_data"
    }
   ],
   "source": [
    "# Check text lengths\n",
    "df['text_length'] = df['context'].apply(len)\n",
    "\n",
    "# Visualize text length by class\n",
    "sns.histplot(data=df, x='text_length', hue='isfake', bins=30, kde=True)\n",
    "plt.title('Text Length Distribution by Label')\n",
    "plt.show()"
   ]
  },
  {
   "cell_type": "code",
   "execution_count": 9,
   "id": "8f4cd36c",
   "metadata": {
    "execution": {
     "iopub.execute_input": "2025-10-03T13:52:12.804504Z",
     "iopub.status.busy": "2025-10-03T13:52:12.803450Z",
     "iopub.status.idle": "2025-10-03T13:52:13.178138Z",
     "shell.execute_reply": "2025-10-03T13:52:13.177140Z"
    },
    "papermill": {
     "duration": 0.382218,
     "end_time": "2025-10-03T13:52:13.180015",
     "exception": false,
     "start_time": "2025-10-03T13:52:12.797797",
     "status": "completed"
    },
    "tags": []
   },
   "outputs": [],
   "source": [
    "# Import preprocessing tools\n",
    "from sklearn.model_selection import train_test_split\n",
    "from sklearn.feature_extraction.text import TfidfVectorizer\n",
    "\n",
    "# Split data\n",
    "X = df['context']\n",
    "y = df['isfake']"
   ]
  },
  {
   "cell_type": "code",
   "execution_count": 10,
   "id": "b86319ce",
   "metadata": {
    "execution": {
     "iopub.execute_input": "2025-10-03T13:52:13.192861Z",
     "iopub.status.busy": "2025-10-03T13:52:13.192516Z",
     "iopub.status.idle": "2025-10-03T13:52:13.201300Z",
     "shell.execute_reply": "2025-10-03T13:52:13.200532Z"
    },
    "papermill": {
     "duration": 0.016607,
     "end_time": "2025-10-03T13:52:13.203033",
     "exception": false,
     "start_time": "2025-10-03T13:52:13.186426",
     "status": "completed"
    },
    "tags": []
   },
   "outputs": [],
   "source": [
    "X_train, X_test, y_train, y_test = train_test_split(X, y, test_size=0.2, random_state=42)"
   ]
  },
  {
   "cell_type": "code",
   "execution_count": 11,
   "id": "0f2c7879",
   "metadata": {
    "execution": {
     "iopub.execute_input": "2025-10-03T13:52:13.213853Z",
     "iopub.status.busy": "2025-10-03T13:52:13.213479Z",
     "iopub.status.idle": "2025-10-03T13:52:15.320148Z",
     "shell.execute_reply": "2025-10-03T13:52:15.318996Z"
    },
    "papermill": {
     "duration": 2.114054,
     "end_time": "2025-10-03T13:52:15.321807",
     "exception": false,
     "start_time": "2025-10-03T13:52:13.207753",
     "status": "completed"
    },
    "tags": []
   },
   "outputs": [],
   "source": [
    "# TF-IDF (text to numbers)\n",
    "tfidf = TfidfVectorizer(max_features=5000)\n",
    "X_train_tfidf = tfidf.fit_transform(X_train)\n",
    "X_test_tfidf = tfidf.transform(X_test)"
   ]
  },
  {
   "cell_type": "code",
   "execution_count": 12,
   "id": "ad60ed94",
   "metadata": {
    "execution": {
     "iopub.execute_input": "2025-10-03T13:52:15.333428Z",
     "iopub.status.busy": "2025-10-03T13:52:15.333087Z",
     "iopub.status.idle": "2025-10-03T13:52:23.621815Z",
     "shell.execute_reply": "2025-10-03T13:52:23.620934Z"
    },
    "papermill": {
     "duration": 8.296274,
     "end_time": "2025-10-03T13:52:23.623597",
     "exception": false,
     "start_time": "2025-10-03T13:52:15.327323",
     "status": "completed"
    },
    "tags": []
   },
   "outputs": [
    {
     "data": {
      "text/html": [
       "<style>#sk-container-id-1 {color: black;background-color: white;}#sk-container-id-1 pre{padding: 0;}#sk-container-id-1 div.sk-toggleable {background-color: white;}#sk-container-id-1 label.sk-toggleable__label {cursor: pointer;display: block;width: 100%;margin-bottom: 0;padding: 0.3em;box-sizing: border-box;text-align: center;}#sk-container-id-1 label.sk-toggleable__label-arrow:before {content: \"▸\";float: left;margin-right: 0.25em;color: #696969;}#sk-container-id-1 label.sk-toggleable__label-arrow:hover:before {color: black;}#sk-container-id-1 div.sk-estimator:hover label.sk-toggleable__label-arrow:before {color: black;}#sk-container-id-1 div.sk-toggleable__content {max-height: 0;max-width: 0;overflow: hidden;text-align: left;background-color: #f0f8ff;}#sk-container-id-1 div.sk-toggleable__content pre {margin: 0.2em;color: black;border-radius: 0.25em;background-color: #f0f8ff;}#sk-container-id-1 input.sk-toggleable__control:checked~div.sk-toggleable__content {max-height: 200px;max-width: 100%;overflow: auto;}#sk-container-id-1 input.sk-toggleable__control:checked~label.sk-toggleable__label-arrow:before {content: \"▾\";}#sk-container-id-1 div.sk-estimator input.sk-toggleable__control:checked~label.sk-toggleable__label {background-color: #d4ebff;}#sk-container-id-1 div.sk-label input.sk-toggleable__control:checked~label.sk-toggleable__label {background-color: #d4ebff;}#sk-container-id-1 input.sk-hidden--visually {border: 0;clip: rect(1px 1px 1px 1px);clip: rect(1px, 1px, 1px, 1px);height: 1px;margin: -1px;overflow: hidden;padding: 0;position: absolute;width: 1px;}#sk-container-id-1 div.sk-estimator {font-family: monospace;background-color: #f0f8ff;border: 1px dotted black;border-radius: 0.25em;box-sizing: border-box;margin-bottom: 0.5em;}#sk-container-id-1 div.sk-estimator:hover {background-color: #d4ebff;}#sk-container-id-1 div.sk-parallel-item::after {content: \"\";width: 100%;border-bottom: 1px solid gray;flex-grow: 1;}#sk-container-id-1 div.sk-label:hover label.sk-toggleable__label {background-color: #d4ebff;}#sk-container-id-1 div.sk-serial::before {content: \"\";position: absolute;border-left: 1px solid gray;box-sizing: border-box;top: 0;bottom: 0;left: 50%;z-index: 0;}#sk-container-id-1 div.sk-serial {display: flex;flex-direction: column;align-items: center;background-color: white;padding-right: 0.2em;padding-left: 0.2em;position: relative;}#sk-container-id-1 div.sk-item {position: relative;z-index: 1;}#sk-container-id-1 div.sk-parallel {display: flex;align-items: stretch;justify-content: center;background-color: white;position: relative;}#sk-container-id-1 div.sk-item::before, #sk-container-id-1 div.sk-parallel-item::before {content: \"\";position: absolute;border-left: 1px solid gray;box-sizing: border-box;top: 0;bottom: 0;left: 50%;z-index: -1;}#sk-container-id-1 div.sk-parallel-item {display: flex;flex-direction: column;z-index: 1;position: relative;background-color: white;}#sk-container-id-1 div.sk-parallel-item:first-child::after {align-self: flex-end;width: 50%;}#sk-container-id-1 div.sk-parallel-item:last-child::after {align-self: flex-start;width: 50%;}#sk-container-id-1 div.sk-parallel-item:only-child::after {width: 0;}#sk-container-id-1 div.sk-dashed-wrapped {border: 1px dashed gray;margin: 0 0.4em 0.5em 0.4em;box-sizing: border-box;padding-bottom: 0.4em;background-color: white;}#sk-container-id-1 div.sk-label label {font-family: monospace;font-weight: bold;display: inline-block;line-height: 1.2em;}#sk-container-id-1 div.sk-label-container {text-align: center;}#sk-container-id-1 div.sk-container {/* jupyter's `normalize.less` sets `[hidden] { display: none; }` but bootstrap.min.css set `[hidden] { display: none !important; }` so we also need the `!important` here to be able to override the default hidden behavior on the sphinx rendered scikit-learn.org. See: https://github.com/scikit-learn/scikit-learn/issues/21755 */display: inline-block !important;position: relative;}#sk-container-id-1 div.sk-text-repr-fallback {display: none;}</style><div id=\"sk-container-id-1\" class=\"sk-top-container\"><div class=\"sk-text-repr-fallback\"><pre>XGBClassifier(base_score=None, booster=None, callbacks=None,\n",
       "              colsample_bylevel=None, colsample_bynode=None,\n",
       "              colsample_bytree=None, device=None, early_stopping_rounds=None,\n",
       "              enable_categorical=False, eval_metric=&#x27;logloss&#x27;,\n",
       "              feature_types=None, gamma=None, grow_policy=None,\n",
       "              importance_type=None, interaction_constraints=None,\n",
       "              learning_rate=None, max_bin=None, max_cat_threshold=None,\n",
       "              max_cat_to_onehot=None, max_delta_step=None, max_depth=None,\n",
       "              max_leaves=None, min_child_weight=None, missing=nan,\n",
       "              monotone_constraints=None, multi_strategy=None, n_estimators=None,\n",
       "              n_jobs=None, num_parallel_tree=None, objective=&#x27;multi:softprob&#x27;, ...)</pre><b>In a Jupyter environment, please rerun this cell to show the HTML representation or trust the notebook. <br />On GitHub, the HTML representation is unable to render, please try loading this page with nbviewer.org.</b></div><div class=\"sk-container\" hidden><div class=\"sk-item\"><div class=\"sk-estimator sk-toggleable\"><input class=\"sk-toggleable__control sk-hidden--visually\" id=\"sk-estimator-id-1\" type=\"checkbox\" checked><label for=\"sk-estimator-id-1\" class=\"sk-toggleable__label sk-toggleable__label-arrow\">XGBClassifier</label><div class=\"sk-toggleable__content\"><pre>XGBClassifier(base_score=None, booster=None, callbacks=None,\n",
       "              colsample_bylevel=None, colsample_bynode=None,\n",
       "              colsample_bytree=None, device=None, early_stopping_rounds=None,\n",
       "              enable_categorical=False, eval_metric=&#x27;logloss&#x27;,\n",
       "              feature_types=None, gamma=None, grow_policy=None,\n",
       "              importance_type=None, interaction_constraints=None,\n",
       "              learning_rate=None, max_bin=None, max_cat_threshold=None,\n",
       "              max_cat_to_onehot=None, max_delta_step=None, max_depth=None,\n",
       "              max_leaves=None, min_child_weight=None, missing=nan,\n",
       "              monotone_constraints=None, multi_strategy=None, n_estimators=None,\n",
       "              n_jobs=None, num_parallel_tree=None, objective=&#x27;multi:softprob&#x27;, ...)</pre></div></div></div></div></div>"
      ],
      "text/plain": [
       "XGBClassifier(base_score=None, booster=None, callbacks=None,\n",
       "              colsample_bylevel=None, colsample_bynode=None,\n",
       "              colsample_bytree=None, device=None, early_stopping_rounds=None,\n",
       "              enable_categorical=False, eval_metric='logloss',\n",
       "              feature_types=None, gamma=None, grow_policy=None,\n",
       "              importance_type=None, interaction_constraints=None,\n",
       "              learning_rate=None, max_bin=None, max_cat_threshold=None,\n",
       "              max_cat_to_onehot=None, max_delta_step=None, max_depth=None,\n",
       "              max_leaves=None, min_child_weight=None, missing=nan,\n",
       "              monotone_constraints=None, multi_strategy=None, n_estimators=None,\n",
       "              n_jobs=None, num_parallel_tree=None, objective='multi:softprob', ...)"
      ]
     },
     "execution_count": 12,
     "metadata": {},
     "output_type": "execute_result"
    }
   ],
   "source": [
    "# Import and train XGBoost\n",
    "from xgboost import XGBClassifier\n",
    "model = XGBClassifier(use_label_encoder=False, eval_metric='logloss')\n",
    "model.fit(X_train_tfidf, y_train)"
   ]
  },
  {
   "cell_type": "code",
   "execution_count": 13,
   "id": "40084442",
   "metadata": {
    "execution": {
     "iopub.execute_input": "2025-10-03T13:52:23.634851Z",
     "iopub.status.busy": "2025-10-03T13:52:23.634496Z",
     "iopub.status.idle": "2025-10-03T13:52:23.676598Z",
     "shell.execute_reply": "2025-10-03T13:52:23.675633Z"
    },
    "papermill": {
     "duration": 0.050387,
     "end_time": "2025-10-03T13:52:23.679212",
     "exception": false,
     "start_time": "2025-10-03T13:52:23.628825",
     "status": "completed"
    },
    "tags": []
   },
   "outputs": [
    {
     "name": "stdout",
     "output_type": "stream",
     "text": [
      "Accuracy: 0.5996932515337423\n",
      "              precision    recall  f1-score   support\n",
      "\n",
      "           0       0.69      0.55      0.61       766\n",
      "           1       0.56      0.43      0.48       928\n",
      "           2       0.58      0.82      0.68       914\n",
      "\n",
      "    accuracy                           0.60      2608\n",
      "   macro avg       0.61      0.60      0.59      2608\n",
      "weighted avg       0.60      0.60      0.59      2608\n",
      "\n"
     ]
    }
   ],
   "source": [
    "# Accuracy and classification report\n",
    "from sklearn.metrics import accuracy_score, classification_report\n",
    "\n",
    "y_pred = model.predict(X_test_tfidf)\n",
    "print(\"Accuracy:\", accuracy_score(y_test, y_pred))\n",
    "print(classification_report(y_test, y_pred))"
   ]
  },
  {
   "cell_type": "code",
   "execution_count": 14,
   "id": "bb952f2d",
   "metadata": {
    "execution": {
     "iopub.execute_input": "2025-10-03T13:52:23.694035Z",
     "iopub.status.busy": "2025-10-03T13:52:23.693090Z",
     "iopub.status.idle": "2025-10-03T13:52:23.968023Z",
     "shell.execute_reply": "2025-10-03T13:52:23.967094Z"
    },
    "papermill": {
     "duration": 0.283721,
     "end_time": "2025-10-03T13:52:23.969642",
     "exception": false,
     "start_time": "2025-10-03T13:52:23.685921",
     "status": "completed"
    },
    "tags": []
   },
   "outputs": [
    {
     "data": {
      "image/png": "[encoded data removed]",
      "text/plain": [
       "<Figure size 640x480 with 2 Axes>"
      ]
     },
     "metadata": {},
     "output_type": "display_data"
    }
   ],
   "source": [
    "# Confusion matrix\n",
    "from sklearn.metrics import ConfusionMatrixDisplay\n",
    "\n",
    "ConfusionMatrixDisplay.from_estimator(model, X_test_tfidf, y_test, cmap='Blues')\n",
    "plt.title(\"Confusion Matrix\")\n",
    "plt.show()"
   ]
  }
 ],
 "metadata": {
  "kaggle": {
   "accelerator": "none",
   "dataSources": [
    {
     "datasetId": 1310358,
     "sourceId": 2182770,
     "sourceType": "datasetVersion"
    }
   ],
   "dockerImageVersionId": 31089,
   "isGpuEnabled": false,
   "isInternetEnabled": true,
   "language": "python",
   "sourceType": "notebook"
  },
  "kernelspec": {
   "display_name": "Python 3",
   "language": "python",
   "name": "python3"
  },
  "language_info": {
   "codemirror_mode": {
    "name": "ipython",
    "version": 3
   },
   "file_extension": ".py",
   "mimetype": "text/x-python",
   "name": "python",
   "nbconvert_exporter": "python",
   "pygments_lexer": "ipython3",
   "version": "3.11.13"
  },
  "papermill": {
   "default_parameters": {},
   "duration": 24.329918,
   "end_time": "2025-10-03T13:52:24.797317",
   "environment_variables": {},
   "exception": null,
   "input_path": "__notebook__.ipynb",
   "output_path": "__notebook__.ipynb",
   "parameters": {},
   "start_time": "2025-10-03T13:52:00.467399",
   "version": "2.6.0"
  }
 },
 "nbformat": 4,
 "nbformat_minor": 5
}
