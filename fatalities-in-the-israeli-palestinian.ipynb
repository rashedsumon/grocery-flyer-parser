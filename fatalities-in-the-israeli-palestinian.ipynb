{
 "cells": [
  {
   "cell_type": "code",
   "execution_count": 1,
   "id": "8621c7d6",
   "metadata": {
    "_cell_guid": "b1076dfc-b9ad-4769-8c92-a6c4dae69d19",
    "_uuid": "8f2839f25d086af736a60e9eeb907d3b93b6e0e5",
    "execution": {
     "iopub.execute_input": "2025-10-03T11:34:40.740208Z",
     "iopub.status.busy": "2025-10-03T11:34:40.739852Z",
     "iopub.status.idle": "2025-10-03T11:34:42.922793Z",
     "shell.execute_reply": "2025-10-03T11:34:42.921500Z"
    },
    "papermill": {
     "duration": 2.190608,
     "end_time": "2025-10-03T11:34:42.924584",
     "exception": false,
     "start_time": "2025-10-03T11:34:40.733976",
     "status": "completed"
    },
    "tags": []
   },
   "outputs": [
    {
     "name": "stdout",
     "output_type": "stream",
     "text": [
      "/kaggle/input/fatalities-in-the-israeli-palestinian/fatalities_isr_pse_conflict_2000_to_2023.csv\n"
     ]
    }
   ],
   "source": [
    "# This Python 3 environment comes with many helpful analytics libraries installed\n",
    "# It is defined by the kaggle/python Docker image: https://github.com/kaggle/docker-python\n",
    "# For example, here's several helpful packages to load\n",
    "\n",
    "import numpy as np # linear algebra\n",
    "import pandas as pd # data processing, CSV file I/O (e.g. pd.read_csv)\n",
    "\n",
    "# Input data files are available in the read-only \"../input/\" directory\n",
    "# For example, running this (by clicking run or pressing Shift+Enter) will list all files under the input directory\n",
    "\n",
    "import os\n",
    "for dirname, _, filenames in os.walk('/kaggle/input'):\n",
    "    for filename in filenames:\n",
    "        print(os.path.join(dirname, filename))\n",
    "\n",
    "# You can write up to 20GB to the current directory (/kaggle/working/) that gets preserved as output when you create a version using \"Save & Run All\" \n",
    "# You can also write temporary files to /kaggle/temp/, but they won't be saved outside of the current session"
   ]
  },
  {
   "cell_type": "code",
   "execution_count": 2,
   "id": "e77b21a5",
   "metadata": {
    "execution": {
     "iopub.execute_input": "2025-10-03T11:34:42.934056Z",
     "iopub.status.busy": "2025-10-03T11:34:42.933619Z",
     "iopub.status.idle": "2025-10-03T11:34:42.938924Z",
     "shell.execute_reply": "2025-10-03T11:34:42.937709Z"
    },
    "papermill": {
     "duration": 0.011925,
     "end_time": "2025-10-03T11:34:42.940796",
     "exception": false,
     "start_time": "2025-10-03T11:34:42.928871",
     "status": "completed"
    },
    "tags": []
   },
   "outputs": [],
   "source": [
    "import warnings\n",
    "warnings.filterwarnings(\"ignore\")"
   ]
  },
  {
   "cell_type": "code",
   "execution_count": 3,
   "id": "75e12cb2",
   "metadata": {
    "execution": {
     "iopub.execute_input": "2025-10-03T11:34:42.951087Z",
     "iopub.status.busy": "2025-10-03T11:34:42.949923Z",
     "iopub.status.idle": "2025-10-03T11:34:43.120433Z",
     "shell.execute_reply": "2025-10-03T11:34:43.119403Z"
    },
    "papermill": {
     "duration": 0.17703,
     "end_time": "2025-10-03T11:34:43.122126",
     "exception": false,
     "start_time": "2025-10-03T11:34:42.945096",
     "status": "completed"
    },
    "tags": []
   },
   "outputs": [
    {
     "data": {
      "text/html": [
       "<div>\n",
       "<style scoped>\n",
       "    .dataframe tbody tr th:only-of-type {\n",
       "        vertical-align: middle;\n",
       "    }\n",
       "\n",
       "    .dataframe tbody tr th {\n",
       "        vertical-align: top;\n",
       "    }\n",
       "\n",
       "    .dataframe thead th {\n",
       "        text-align: right;\n",
       "    }\n",
       "</style>\n",
       "<table border=\"1\" class=\"dataframe\">\n",
       "  <thead>\n",
       "    <tr style=\"text-align: right;\">\n",
       "      <th></th>\n",
       "      <th>name</th>\n",
       "      <th>date_of_event</th>\n",
       "      <th>age</th>\n",
       "      <th>citizenship</th>\n",
       "      <th>event_location</th>\n",
       "      <th>event_location_district</th>\n",
       "      <th>event_location_region</th>\n",
       "      <th>date_of_death</th>\n",
       "      <th>gender</th>\n",
       "      <th>took_part_in_the_hostilities</th>\n",
       "      <th>place_of_residence</th>\n",
       "      <th>place_of_residence_district</th>\n",
       "      <th>type_of_injury</th>\n",
       "      <th>ammunition</th>\n",
       "      <th>killed_by</th>\n",
       "      <th>notes</th>\n",
       "    </tr>\n",
       "  </thead>\n",
       "  <tbody>\n",
       "    <tr>\n",
       "      <th>0</th>\n",
       "      <td>'Abd a-Rahman Suleiman Muhammad Abu Daghash</td>\n",
       "      <td>2023-09-24</td>\n",
       "      <td>32.0</td>\n",
       "      <td>Palestinian</td>\n",
       "      <td>Nur Shams R.C.</td>\n",
       "      <td>Tulkarm</td>\n",
       "      <td>West Bank</td>\n",
       "      <td>2023-09-24</td>\n",
       "      <td>M</td>\n",
       "      <td>NaN</td>\n",
       "      <td>Nur Shams R.C.</td>\n",
       "      <td>Tulkarm</td>\n",
       "      <td>gunfire</td>\n",
       "      <td>live ammunition</td>\n",
       "      <td>Israeli security forces</td>\n",
       "      <td>Fatally shot by Israeli forces while standing ...</td>\n",
       "    </tr>\n",
       "    <tr>\n",
       "      <th>1</th>\n",
       "      <td>Usayed Farhan Muhammad 'Ali Abu 'Ali</td>\n",
       "      <td>2023-09-24</td>\n",
       "      <td>21.0</td>\n",
       "      <td>Palestinian</td>\n",
       "      <td>Nur Shams R.C.</td>\n",
       "      <td>Tulkarm</td>\n",
       "      <td>West Bank</td>\n",
       "      <td>2023-09-24</td>\n",
       "      <td>M</td>\n",
       "      <td>NaN</td>\n",
       "      <td>Nur Shams R.C.</td>\n",
       "      <td>Tulkarm</td>\n",
       "      <td>gunfire</td>\n",
       "      <td>live ammunition</td>\n",
       "      <td>Israeli security forces</td>\n",
       "      <td>Fatally shot by Israeli forces while trying to...</td>\n",
       "    </tr>\n",
       "    <tr>\n",
       "      <th>2</th>\n",
       "      <td>'Abdallah 'Imad Sa'ed Abu Hassan</td>\n",
       "      <td>2023-09-22</td>\n",
       "      <td>16.0</td>\n",
       "      <td>Palestinian</td>\n",
       "      <td>Kfar Dan</td>\n",
       "      <td>Jenin</td>\n",
       "      <td>West Bank</td>\n",
       "      <td>2023-09-22</td>\n",
       "      <td>M</td>\n",
       "      <td>NaN</td>\n",
       "      <td>al-Yamun</td>\n",
       "      <td>Jenin</td>\n",
       "      <td>gunfire</td>\n",
       "      <td>live ammunition</td>\n",
       "      <td>Israeli security forces</td>\n",
       "      <td>Fatally shot by soldiers while firing at them ...</td>\n",
       "    </tr>\n",
       "    <tr>\n",
       "      <th>3</th>\n",
       "      <td>Durgham Muhammad Yihya al-Akhras</td>\n",
       "      <td>2023-09-20</td>\n",
       "      <td>19.0</td>\n",
       "      <td>Palestinian</td>\n",
       "      <td>'Aqbat Jaber R.C.</td>\n",
       "      <td>Jericho</td>\n",
       "      <td>West Bank</td>\n",
       "      <td>2023-09-20</td>\n",
       "      <td>M</td>\n",
       "      <td>NaN</td>\n",
       "      <td>'Aqbat Jaber R.C.</td>\n",
       "      <td>Jericho</td>\n",
       "      <td>gunfire</td>\n",
       "      <td>live ammunition</td>\n",
       "      <td>Israeli security forces</td>\n",
       "      <td>Shot in the head by Israeli forces while throw...</td>\n",
       "    </tr>\n",
       "    <tr>\n",
       "      <th>4</th>\n",
       "      <td>Raafat 'Omar Ahmad Khamaisah</td>\n",
       "      <td>2023-09-19</td>\n",
       "      <td>15.0</td>\n",
       "      <td>Palestinian</td>\n",
       "      <td>Jenin R.C.</td>\n",
       "      <td>Jenin</td>\n",
       "      <td>West Bank</td>\n",
       "      <td>2023-09-19</td>\n",
       "      <td>M</td>\n",
       "      <td>NaN</td>\n",
       "      <td>Jenin</td>\n",
       "      <td>Jenin</td>\n",
       "      <td>gunfire</td>\n",
       "      <td>live ammunition</td>\n",
       "      <td>Israeli security forces</td>\n",
       "      <td>Wounded by soldiers’ gunfire after running awa...</td>\n",
       "    </tr>\n",
       "  </tbody>\n",
       "</table>\n",
       "</div>"
      ],
      "text/plain": [
       "                                          name date_of_event   age  \\\n",
       "0  'Abd a-Rahman Suleiman Muhammad Abu Daghash    2023-09-24  32.0   \n",
       "1         Usayed Farhan Muhammad 'Ali Abu 'Ali    2023-09-24  21.0   \n",
       "2             'Abdallah 'Imad Sa'ed Abu Hassan    2023-09-22  16.0   \n",
       "3             Durgham Muhammad Yihya al-Akhras    2023-09-20  19.0   \n",
       "4                 Raafat 'Omar Ahmad Khamaisah    2023-09-19  15.0   \n",
       "\n",
       "   citizenship     event_location event_location_district  \\\n",
       "0  Palestinian     Nur Shams R.C.                 Tulkarm   \n",
       "1  Palestinian     Nur Shams R.C.                 Tulkarm   \n",
       "2  Palestinian           Kfar Dan                   Jenin   \n",
       "3  Palestinian  'Aqbat Jaber R.C.                 Jericho   \n",
       "4  Palestinian         Jenin R.C.                   Jenin   \n",
       "\n",
       "  event_location_region date_of_death gender took_part_in_the_hostilities  \\\n",
       "0             West Bank    2023-09-24      M                          NaN   \n",
       "1             West Bank    2023-09-24      M                          NaN   \n",
       "2             West Bank    2023-09-22      M                          NaN   \n",
       "3             West Bank    2023-09-20      M                          NaN   \n",
       "4             West Bank    2023-09-19      M                          NaN   \n",
       "\n",
       "  place_of_residence place_of_residence_district type_of_injury  \\\n",
       "0     Nur Shams R.C.                     Tulkarm        gunfire   \n",
       "1     Nur Shams R.C.                     Tulkarm        gunfire   \n",
       "2           al-Yamun                       Jenin        gunfire   \n",
       "3  'Aqbat Jaber R.C.                     Jericho        gunfire   \n",
       "4              Jenin                       Jenin        gunfire   \n",
       "\n",
       "        ammunition                killed_by  \\\n",
       "0  live ammunition  Israeli security forces   \n",
       "1  live ammunition  Israeli security forces   \n",
       "2  live ammunition  Israeli security forces   \n",
       "3  live ammunition  Israeli security forces   \n",
       "4  live ammunition  Israeli security forces   \n",
       "\n",
       "                                               notes  \n",
       "0  Fatally shot by Israeli forces while standing ...  \n",
       "1  Fatally shot by Israeli forces while trying to...  \n",
       "2  Fatally shot by soldiers while firing at them ...  \n",
       "3  Shot in the head by Israeli forces while throw...  \n",
       "4  Wounded by soldiers’ gunfire after running awa...  "
      ]
     },
     "execution_count": 3,
     "metadata": {},
     "output_type": "execute_result"
    }
   ],
   "source": [
    "df = pd.read_csv('/kaggle/input/fatalities-in-the-israeli-palestinian/fatalities_isr_pse_conflict_2000_to_2023.csv')\n",
    "df.head()"
   ]
  },
  {
   "cell_type": "code",
   "execution_count": 4,
   "id": "e3d578c1",
   "metadata": {
    "execution": {
     "iopub.execute_input": "2025-10-03T11:34:43.132230Z",
     "iopub.status.busy": "2025-10-03T11:34:43.131843Z",
     "iopub.status.idle": "2025-10-03T11:34:43.140014Z",
     "shell.execute_reply": "2025-10-03T11:34:43.138917Z"
    },
    "papermill": {
     "duration": 0.015212,
     "end_time": "2025-10-03T11:34:43.141801",
     "exception": false,
     "start_time": "2025-10-03T11:34:43.126589",
     "status": "completed"
    },
    "tags": []
   },
   "outputs": [
    {
     "data": {
      "text/plain": [
       "Index(['name', 'date_of_event', 'age', 'citizenship', 'event_location',\n",
       "       'event_location_district', 'event_location_region', 'date_of_death',\n",
       "       'gender', 'took_part_in_the_hostilities', 'place_of_residence',\n",
       "       'place_of_residence_district', 'type_of_injury', 'ammunition',\n",
       "       'killed_by', 'notes'],\n",
       "      dtype='object')"
      ]
     },
     "execution_count": 4,
     "metadata": {},
     "output_type": "execute_result"
    }
   ],
   "source": [
    "df.columns"
   ]
  },
  {
   "cell_type": "code",
   "execution_count": 5,
   "id": "e812439d",
   "metadata": {
    "execution": {
     "iopub.execute_input": "2025-10-03T11:34:43.152087Z",
     "iopub.status.busy": "2025-10-03T11:34:43.151747Z",
     "iopub.status.idle": "2025-10-03T11:34:43.187829Z",
     "shell.execute_reply": "2025-10-03T11:34:43.186497Z"
    },
    "papermill": {
     "duration": 0.043042,
     "end_time": "2025-10-03T11:34:43.189566",
     "exception": false,
     "start_time": "2025-10-03T11:34:43.146524",
     "status": "completed"
    },
    "tags": []
   },
   "outputs": [
    {
     "name": "stdout",
     "output_type": "stream",
     "text": [
      "<class 'pandas.core.frame.DataFrame'>\n",
      "RangeIndex: 11124 entries, 0 to 11123\n",
      "Data columns (total 16 columns):\n",
      " #   Column                        Non-Null Count  Dtype  \n",
      "---  ------                        --------------  -----  \n",
      " 0   name                          11124 non-null  object \n",
      " 1   date_of_event                 11124 non-null  object \n",
      " 2   age                           10995 non-null  float64\n",
      " 3   citizenship                   11124 non-null  object \n",
      " 4   event_location                11124 non-null  object \n",
      " 5   event_location_district       11124 non-null  object \n",
      " 6   event_location_region         11124 non-null  object \n",
      " 7   date_of_death                 11124 non-null  object \n",
      " 8   gender                        11104 non-null  object \n",
      " 9   took_part_in_the_hostilities  9694 non-null   object \n",
      " 10  place_of_residence            11056 non-null  object \n",
      " 11  place_of_residence_district   11056 non-null  object \n",
      " 12  type_of_injury                10833 non-null  object \n",
      " 13  ammunition                    5871 non-null   object \n",
      " 14  killed_by                     11124 non-null  object \n",
      " 15  notes                         10844 non-null  object \n",
      "dtypes: float64(1), object(15)\n",
      "memory usage: 1.4+ MB\n"
     ]
    }
   ],
   "source": [
    "# Basic structure of dataset\n",
    "df.info()"
   ]
  },
  {
   "cell_type": "code",
   "execution_count": 6,
   "id": "ad4f5380",
   "metadata": {
    "execution": {
     "iopub.execute_input": "2025-10-03T11:34:43.200505Z",
     "iopub.status.busy": "2025-10-03T11:34:43.199705Z",
     "iopub.status.idle": "2025-10-03T11:34:43.218669Z",
     "shell.execute_reply": "2025-10-03T11:34:43.217710Z"
    },
    "papermill": {
     "duration": 0.02597,
     "end_time": "2025-10-03T11:34:43.220233",
     "exception": false,
     "start_time": "2025-10-03T11:34:43.194263",
     "status": "completed"
    },
    "tags": []
   },
   "outputs": [
    {
     "data": {
      "text/plain": [
       "name                               0\n",
       "date_of_event                      0\n",
       "age                              129\n",
       "citizenship                        0\n",
       "event_location                     0\n",
       "event_location_district            0\n",
       "event_location_region              0\n",
       "date_of_death                      0\n",
       "gender                            20\n",
       "took_part_in_the_hostilities    1430\n",
       "place_of_residence                68\n",
       "place_of_residence_district       68\n",
       "type_of_injury                   291\n",
       "ammunition                      5253\n",
       "killed_by                          0\n",
       "notes                            280\n",
       "dtype: int64"
      ]
     },
     "execution_count": 6,
     "metadata": {},
     "output_type": "execute_result"
    }
   ],
   "source": [
    "# Count missing values in each column\n",
    "df.isnull().sum()"
   ]
  },
  {
   "cell_type": "code",
   "execution_count": 7,
   "id": "6942e929",
   "metadata": {
    "execution": {
     "iopub.execute_input": "2025-10-03T11:34:43.230650Z",
     "iopub.status.busy": "2025-10-03T11:34:43.230335Z",
     "iopub.status.idle": "2025-10-03T11:34:43.254974Z",
     "shell.execute_reply": "2025-10-03T11:34:43.253780Z"
    },
    "papermill": {
     "duration": 0.031929,
     "end_time": "2025-10-03T11:34:43.256919",
     "exception": false,
     "start_time": "2025-10-03T11:34:43.224990",
     "status": "completed"
    },
    "tags": []
   },
   "outputs": [],
   "source": [
    "# Drop text-heavy or irrelevant columns\n",
    "df = df.drop(columns=['name', 'notes'])\n",
    "\n",
    "# Fill missing age with median\n",
    "df['age'] = df['age'].fillna(df['age'].median())\n",
    "\n",
    "# Fill missing gender with mode\n",
    "df['gender'] = df['gender'].fillna(df['gender'].mode()[0])\n",
    "\n",
    "# Drop remaining rows with missing values\n",
    "df = df.dropna()"
   ]
  },
  {
   "cell_type": "code",
   "execution_count": 8,
   "id": "2482dfd9",
   "metadata": {
    "execution": {
     "iopub.execute_input": "2025-10-03T11:34:43.267201Z",
     "iopub.status.busy": "2025-10-03T11:34:43.266877Z",
     "iopub.status.idle": "2025-10-03T11:34:43.281170Z",
     "shell.execute_reply": "2025-10-03T11:34:43.280104Z"
    },
    "papermill": {
     "duration": 0.021684,
     "end_time": "2025-10-03T11:34:43.283363",
     "exception": false,
     "start_time": "2025-10-03T11:34:43.261679",
     "status": "completed"
    },
    "tags": []
   },
   "outputs": [],
   "source": [
    "# Convert date columns to datetime\n",
    "df['date_of_event'] = pd.to_datetime(df['date_of_event'])\n",
    "df['year'] = df['date_of_event'].dt.year\n",
    "df['month'] = df['date_of_event'].dt.month"
   ]
  },
  {
   "cell_type": "code",
   "execution_count": 9,
   "id": "70c86635",
   "metadata": {
    "execution": {
     "iopub.execute_input": "2025-10-03T11:34:43.293963Z",
     "iopub.status.busy": "2025-10-03T11:34:43.293666Z",
     "iopub.status.idle": "2025-10-03T11:34:46.201942Z",
     "shell.execute_reply": "2025-10-03T11:34:46.200276Z"
    },
    "papermill": {
     "duration": 2.916093,
     "end_time": "2025-10-03T11:34:46.204270",
     "exception": false,
     "start_time": "2025-10-03T11:34:43.288177",
     "status": "completed"
    },
    "tags": []
   },
   "outputs": [
    {
     "data": {
      "image/png": "[encoded data removed]",
      "text/plain": [
       "<Figure size 1200x500 with 1 Axes>"
      ]
     },
     "metadata": {},
     "output_type": "display_data"
    }
   ],
   "source": [
    "import seaborn as sns\n",
    "import matplotlib.pyplot as plt\n",
    "\n",
    "# Fatalities per year\n",
    "plt.figure(figsize=(12,5))\n",
    "sns.countplot(data=df, x='year', order=sorted(df['year'].unique()))\n",
    "plt.title('Fatalities Per Year')\n",
    "plt.xticks(rotation=45)\n",
    "plt.show()"
   ]
  },
  {
   "cell_type": "code",
   "execution_count": 10,
   "id": "7499f07d",
   "metadata": {
    "execution": {
     "iopub.execute_input": "2025-10-03T11:34:46.218049Z",
     "iopub.status.busy": "2025-10-03T11:34:46.217174Z",
     "iopub.status.idle": "2025-10-03T11:34:46.391417Z",
     "shell.execute_reply": "2025-10-03T11:34:46.390364Z"
    },
    "papermill": {
     "duration": 0.183577,
     "end_time": "2025-10-03T11:34:46.393360",
     "exception": false,
     "start_time": "2025-10-03T11:34:46.209783",
     "status": "completed"
    },
    "tags": []
   },
   "outputs": [
    {
     "data": {
      "image/png": "[encoded data removed]",
      "text/plain": [
       "<Figure size 600x400 with 1 Axes>"
      ]
     },
     "metadata": {},
     "output_type": "display_data"
    }
   ],
   "source": [
    "# Fatalities by citizenship\n",
    "plt.figure(figsize=(6,4))\n",
    "sns.countplot(data=df, y='citizenship', order=df['citizenship'].value_counts().index)\n",
    "plt.title('Fatalities by Citizenship')\n",
    "plt.show()"
   ]
  },
  {
   "cell_type": "code",
   "execution_count": 11,
   "id": "27a89cc2",
   "metadata": {
    "execution": {
     "iopub.execute_input": "2025-10-03T11:34:46.406183Z",
     "iopub.status.busy": "2025-10-03T11:34:46.405824Z",
     "iopub.status.idle": "2025-10-03T11:34:46.568537Z",
     "shell.execute_reply": "2025-10-03T11:34:46.567232Z"
    },
    "papermill": {
     "duration": 0.171574,
     "end_time": "2025-10-03T11:34:46.570745",
     "exception": false,
     "start_time": "2025-10-03T11:34:46.399171",
     "status": "completed"
    },
    "tags": []
   },
   "outputs": [
    {
     "data": {
      "image/png": "[encoded data removed]",
      "text/plain": [
       "<Figure size 640x480 with 1 Axes>"
      ]
     },
     "metadata": {},
     "output_type": "display_data"
    }
   ],
   "source": [
    "# Gender distribution\n",
    "sns.countplot(data=df, x='gender')\n",
    "plt.title('Fatalities by Gender')\n",
    "plt.show()"
   ]
  },
  {
   "cell_type": "code",
   "execution_count": 12,
   "id": "15a71bf1",
   "metadata": {
    "execution": {
     "iopub.execute_input": "2025-10-03T11:34:46.584294Z",
     "iopub.status.busy": "2025-10-03T11:34:46.583937Z",
     "iopub.status.idle": "2025-10-03T11:34:46.590946Z",
     "shell.execute_reply": "2025-10-03T11:34:46.589794Z"
    },
    "papermill": {
     "duration": 0.015938,
     "end_time": "2025-10-03T11:34:46.592934",
     "exception": false,
     "start_time": "2025-10-03T11:34:46.576996",
     "status": "completed"
    },
    "tags": []
   },
   "outputs": [],
   "source": [
    "# Select features and target\n",
    "X = df[['age', 'gender', 'citizenship', 'took_part_in_the_hostilities', 'killed_by']]\n",
    "y = df['type_of_injury']"
   ]
  },
  {
   "cell_type": "code",
   "execution_count": 13,
   "id": "0e323321",
   "metadata": {
    "execution": {
     "iopub.execute_input": "2025-10-03T11:34:46.606715Z",
     "iopub.status.busy": "2025-10-03T11:34:46.606274Z",
     "iopub.status.idle": "2025-10-03T11:34:46.850361Z",
     "shell.execute_reply": "2025-10-03T11:34:46.849197Z"
    },
    "papermill": {
     "duration": 0.252689,
     "end_time": "2025-10-03T11:34:46.852165",
     "exception": false,
     "start_time": "2025-10-03T11:34:46.599476",
     "status": "completed"
    },
    "tags": []
   },
   "outputs": [],
   "source": [
    "# Convert categorical to numbers\n",
    "X = pd.get_dummies(X)\n",
    "\n",
    "# Encode target\n",
    "from sklearn.preprocessing import LabelEncoder\n",
    "le = LabelEncoder()\n",
    "y = le.fit_transform(y)"
   ]
  },
  {
   "cell_type": "code",
   "execution_count": 14,
   "id": "2594bd9f",
   "metadata": {
    "execution": {
     "iopub.execute_input": "2025-10-03T11:34:46.866143Z",
     "iopub.status.busy": "2025-10-03T11:34:46.864933Z",
     "iopub.status.idle": "2025-10-03T11:34:47.485004Z",
     "shell.execute_reply": "2025-10-03T11:34:47.483885Z"
    },
    "papermill": {
     "duration": 0.628637,
     "end_time": "2025-10-03T11:34:47.486798",
     "exception": false,
     "start_time": "2025-10-03T11:34:46.858161",
     "status": "completed"
    },
    "tags": []
   },
   "outputs": [],
   "source": [
    "from sklearn.ensemble import RandomForestClassifier\n",
    "from sklearn.model_selection import train_test_split\n",
    "from sklearn.metrics import classification_report\n",
    "import numpy as np\n",
    "\n",
    "# Split data\n",
    "X_train, X_test, y_train, y_test = train_test_split(X, y, test_size=0.2, random_state=42)"
   ]
  },
  {
   "cell_type": "code",
   "execution_count": 15,
   "id": "0825a663",
   "metadata": {
    "execution": {
     "iopub.execute_input": "2025-10-03T11:34:47.500088Z",
     "iopub.status.busy": "2025-10-03T11:34:47.499731Z",
     "iopub.status.idle": "2025-10-03T11:34:47.797092Z",
     "shell.execute_reply": "2025-10-03T11:34:47.795991Z"
    },
    "papermill": {
     "duration": 0.306221,
     "end_time": "2025-10-03T11:34:47.799289",
     "exception": false,
     "start_time": "2025-10-03T11:34:47.493068",
     "status": "completed"
    },
    "tags": []
   },
   "outputs": [
    {
     "data": {
      "text/html": [
       "<style>#sk-container-id-1 {color: black;background-color: white;}#sk-container-id-1 pre{padding: 0;}#sk-container-id-1 div.sk-toggleable {background-color: white;}#sk-container-id-1 label.sk-toggleable__label {cursor: pointer;display: block;width: 100%;margin-bottom: 0;padding: 0.3em;box-sizing: border-box;text-align: center;}#sk-container-id-1 label.sk-toggleable__label-arrow:before {content: \"▸\";float: left;margin-right: 0.25em;color: #696969;}#sk-container-id-1 label.sk-toggleable__label-arrow:hover:before {color: black;}#sk-container-id-1 div.sk-estimator:hover label.sk-toggleable__label-arrow:before {color: black;}#sk-container-id-1 div.sk-toggleable__content {max-height: 0;max-width: 0;overflow: hidden;text-align: left;background-color: #f0f8ff;}#sk-container-id-1 div.sk-toggleable__content pre {margin: 0.2em;color: black;border-radius: 0.25em;background-color: #f0f8ff;}#sk-container-id-1 input.sk-toggleable__control:checked~div.sk-toggleable__content {max-height: 200px;max-width: 100%;overflow: auto;}#sk-container-id-1 input.sk-toggleable__control:checked~label.sk-toggleable__label-arrow:before {content: \"▾\";}#sk-container-id-1 div.sk-estimator input.sk-toggleable__control:checked~label.sk-toggleable__label {background-color: #d4ebff;}#sk-container-id-1 div.sk-label input.sk-toggleable__control:checked~label.sk-toggleable__label {background-color: #d4ebff;}#sk-container-id-1 input.sk-hidden--visually {border: 0;clip: rect(1px 1px 1px 1px);clip: rect(1px, 1px, 1px, 1px);height: 1px;margin: -1px;overflow: hidden;padding: 0;position: absolute;width: 1px;}#sk-container-id-1 div.sk-estimator {font-family: monospace;background-color: #f0f8ff;border: 1px dotted black;border-radius: 0.25em;box-sizing: border-box;margin-bottom: 0.5em;}#sk-container-id-1 div.sk-estimator:hover {background-color: #d4ebff;}#sk-container-id-1 div.sk-parallel-item::after {content: \"\";width: 100%;border-bottom: 1px solid gray;flex-grow: 1;}#sk-container-id-1 div.sk-label:hover label.sk-toggleable__label {background-color: #d4ebff;}#sk-container-id-1 div.sk-serial::before {content: \"\";position: absolute;border-left: 1px solid gray;box-sizing: border-box;top: 0;bottom: 0;left: 50%;z-index: 0;}#sk-container-id-1 div.sk-serial {display: flex;flex-direction: column;align-items: center;background-color: white;padding-right: 0.2em;padding-left: 0.2em;position: relative;}#sk-container-id-1 div.sk-item {position: relative;z-index: 1;}#sk-container-id-1 div.sk-parallel {display: flex;align-items: stretch;justify-content: center;background-color: white;position: relative;}#sk-container-id-1 div.sk-item::before, #sk-container-id-1 div.sk-parallel-item::before {content: \"\";position: absolute;border-left: 1px solid gray;box-sizing: border-box;top: 0;bottom: 0;left: 50%;z-index: -1;}#sk-container-id-1 div.sk-parallel-item {display: flex;flex-direction: column;z-index: 1;position: relative;background-color: white;}#sk-container-id-1 div.sk-parallel-item:first-child::after {align-self: flex-end;width: 50%;}#sk-container-id-1 div.sk-parallel-item:last-child::after {align-self: flex-start;width: 50%;}#sk-container-id-1 div.sk-parallel-item:only-child::after {width: 0;}#sk-container-id-1 div.sk-dashed-wrapped {border: 1px dashed gray;margin: 0 0.4em 0.5em 0.4em;box-sizing: border-box;padding-bottom: 0.4em;background-color: white;}#sk-container-id-1 div.sk-label label {font-family: monospace;font-weight: bold;display: inline-block;line-height: 1.2em;}#sk-container-id-1 div.sk-label-container {text-align: center;}#sk-container-id-1 div.sk-container {/* jupyter's `normalize.less` sets `[hidden] { display: none; }` but bootstrap.min.css set `[hidden] { display: none !important; }` so we also need the `!important` here to be able to override the default hidden behavior on the sphinx rendered scikit-learn.org. See: https://github.com/scikit-learn/scikit-learn/issues/21755 */display: inline-block !important;position: relative;}#sk-container-id-1 div.sk-text-repr-fallback {display: none;}</style><div id=\"sk-container-id-1\" class=\"sk-top-container\"><div class=\"sk-text-repr-fallback\"><pre>RandomForestClassifier()</pre><b>In a Jupyter environment, please rerun this cell to show the HTML representation or trust the notebook. <br />On GitHub, the HTML representation is unable to render, please try loading this page with nbviewer.org.</b></div><div class=\"sk-container\" hidden><div class=\"sk-item\"><div class=\"sk-estimator sk-toggleable\"><input class=\"sk-toggleable__control sk-hidden--visually\" id=\"sk-estimator-id-1\" type=\"checkbox\" checked><label for=\"sk-estimator-id-1\" class=\"sk-toggleable__label sk-toggleable__label-arrow\">RandomForestClassifier</label><div class=\"sk-toggleable__content\"><pre>RandomForestClassifier()</pre></div></div></div></div></div>"
      ],
      "text/plain": [
       "RandomForestClassifier()"
      ]
     },
     "execution_count": 15,
     "metadata": {},
     "output_type": "execute_result"
    }
   ],
   "source": [
    "# Train model\n",
    "model = RandomForestClassifier()\n",
    "model.fit(X_train, y_train)"
   ]
  },
  {
   "cell_type": "code",
   "execution_count": 16,
   "id": "a9c56520",
   "metadata": {
    "execution": {
     "iopub.execute_input": "2025-10-03T11:34:47.814066Z",
     "iopub.status.busy": "2025-10-03T11:34:47.812843Z",
     "iopub.status.idle": "2025-10-03T11:34:47.848164Z",
     "shell.execute_reply": "2025-10-03T11:34:47.847057Z"
    },
    "papermill": {
     "duration": 0.044157,
     "end_time": "2025-10-03T11:34:47.849811",
     "exception": false,
     "start_time": "2025-10-03T11:34:47.805654",
     "status": "completed"
    },
    "tags": []
   },
   "outputs": [
    {
     "name": "stdout",
     "output_type": "stream",
     "text": [
      "              precision    recall  f1-score   support\n",
      "\n",
      "   explosion       0.81      0.88      0.84       101\n",
      "     gunfire       0.98      0.98      0.98       849\n",
      "    shelling       0.00      0.00      0.00         4\n",
      "    stabbing       0.00      0.00      0.00         5\n",
      "\n",
      "    accuracy                           0.96       959\n",
      "   macro avg       0.45      0.46      0.46       959\n",
      "weighted avg       0.95      0.96      0.96       959\n",
      "\n"
     ]
    }
   ],
   "source": [
    "# Predict\n",
    "y_pred = model.predict(X_test)\n",
    "\n",
    "# Get unique labels in the test set\n",
    "unique_labels = np.unique(y_test)\n",
    "\n",
    "# Print classification report with labels and target names aligned\n",
    "print(classification_report(\n",
    "    y_test, y_pred,\n",
    "    labels=unique_labels,\n",
    "    target_names=le.inverse_transform(unique_labels)\n",
    "))"
   ]
  },
  {
   "cell_type": "code",
   "execution_count": 17,
   "id": "e9007b40",
   "metadata": {
    "execution": {
     "iopub.execute_input": "2025-10-03T11:34:47.863979Z",
     "iopub.status.busy": "2025-10-03T11:34:47.862915Z",
     "iopub.status.idle": "2025-10-03T11:34:48.085085Z",
     "shell.execute_reply": "2025-10-03T11:34:48.083814Z"
    },
    "papermill": {
     "duration": 0.230837,
     "end_time": "2025-10-03T11:34:48.086798",
     "exception": false,
     "start_time": "2025-10-03T11:34:47.855961",
     "status": "completed"
    },
    "tags": []
   },
   "outputs": [
    {
     "data": {
      "image/png": "[encoded data removed]",
      "text/plain": [
       "<Figure size 800x500 with 1 Axes>"
      ]
     },
     "metadata": {},
     "output_type": "display_data"
    }
   ],
   "source": [
    "# Show most important features\n",
    "import numpy as np\n",
    "\n",
    "importances = model.feature_importances_\n",
    "features = X.columns\n",
    "indices = np.argsort(importances)[-10:]\n",
    "\n",
    "plt.figure(figsize=(8,5))\n",
    "plt.barh(range(len(indices)), importances[indices], align='center')\n",
    "plt.yticks(range(len(indices)), [features[i] for i in indices])\n",
    "plt.title('Top 10 Important Features in Prediction')\n",
    "plt.show()"
   ]
  }
 ],
 "metadata": {
  "kaggle": {
   "accelerator": "none",
   "dataSources": [
    {
     "datasetId": 3843482,
     "sourceId": 6660242,
     "sourceType": "datasetVersion"
    }
   ],
   "dockerImageVersionId": 31089,
   "isGpuEnabled": false,
   "isInternetEnabled": true,
   "language": "python",
   "sourceType": "notebook"
  },
  "kernelspec": {
   "display_name": "Python 3",
   "language": "python",
   "name": "python3"
  },
  "language_info": {
   "codemirror_mode": {
    "name": "ipython",
    "version": 3
   },
   "file_extension": ".py",
   "mimetype": "text/x-python",
   "name": "python",
   "nbconvert_exporter": "python",
   "pygments_lexer": "ipython3",
   "version": "3.11.13"
  },
  "papermill": {
   "default_parameters": {},
   "duration": 14.73986,
   "end_time": "2025-10-03T11:34:48.814837",
   "environment_variables": {},
   "exception": null,
   "input_path": "__notebook__.ipynb",
   "output_path": "__notebook__.ipynb",
   "parameters": {},
   "start_time": "2025-10-03T11:34:34.074977",
   "version": "2.6.0"
  }
 },
 "nbformat": 4,
 "nbformat_minor": 5
}
