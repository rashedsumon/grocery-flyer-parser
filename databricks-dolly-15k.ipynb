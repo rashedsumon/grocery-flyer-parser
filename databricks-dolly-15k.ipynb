{
 "cells": [
  {
   "cell_type": "code",
   "execution_count": 1,
   "id": "39da51ee",
   "metadata": {
    "_cell_guid": "b1076dfc-b9ad-4769-8c92-a6c4dae69d19",
    "_uuid": "8f2839f25d086af736a60e9eeb907d3b93b6e0e5",
    "execution": {
     "iopub.execute_input": "2025-10-03T10:56:31.249533Z",
     "iopub.status.busy": "2025-10-03T10:56:31.249117Z",
     "iopub.status.idle": "2025-10-03T10:56:33.225236Z",
     "shell.execute_reply": "2025-10-03T10:56:33.223986Z"
    },
    "papermill": {
     "duration": 1.983352,
     "end_time": "2025-10-03T10:56:33.227253",
     "exception": false,
     "start_time": "2025-10-03T10:56:31.243901",
     "status": "completed"
    },
    "tags": []
   },
   "outputs": [
    {
     "name": "stdout",
     "output_type": "stream",
     "text": [
      "/kaggle/input/databricksdatabricks-dolly-15k/dolly_15k.csv\n"
     ]
    }
   ],
   "source": [
    "# This Python 3 environment comes with many helpful analytics libraries installed\n",
    "# It is defined by the kaggle/python Docker image: https://github.com/kaggle/docker-python\n",
    "# For example, here's several helpful packages to load\n",
    "\n",
    "import numpy as np # linear algebra\n",
    "import pandas as pd # data processing, CSV file I/O (e.g. pd.read_csv)\n",
    "\n",
    "# Input data files are available in the read-only \"../input/\" directory\n",
    "# For example, running this (by clicking run or pressing Shift+Enter) will list all files under the input directory\n",
    "\n",
    "import os\n",
    "for dirname, _, filenames in os.walk('/kaggle/input'):\n",
    "    for filename in filenames:\n",
    "        print(os.path.join(dirname, filename))\n",
    "\n",
    "# You can write up to 20GB to the current directory (/kaggle/working/) that gets preserved as output when you create a version using \"Save & Run All\" \n",
    "# You can also write temporary files to /kaggle/temp/, but they won't be saved outside of the current session"
   ]
  },
  {
   "cell_type": "code",
   "execution_count": 2,
   "id": "c8b1e099",
   "metadata": {
    "execution": {
     "iopub.execute_input": "2025-10-03T10:56:33.235737Z",
     "iopub.status.busy": "2025-10-03T10:56:33.235269Z",
     "iopub.status.idle": "2025-10-03T10:56:33.240085Z",
     "shell.execute_reply": "2025-10-03T10:56:33.238842Z"
    },
    "papermill": {
     "duration": 0.010729,
     "end_time": "2025-10-03T10:56:33.241695",
     "exception": false,
     "start_time": "2025-10-03T10:56:33.230966",
     "status": "completed"
    },
    "tags": []
   },
   "outputs": [],
   "source": [
    "import warnings\n",
    "warnings.filterwarnings(\"ignore\")"
   ]
  },
  {
   "cell_type": "code",
   "execution_count": 3,
   "id": "5c250590",
   "metadata": {
    "execution": {
     "iopub.execute_input": "2025-10-03T10:56:33.249681Z",
     "iopub.status.busy": "2025-10-03T10:56:33.249373Z",
     "iopub.status.idle": "2025-10-03T10:56:35.238141Z",
     "shell.execute_reply": "2025-10-03T10:56:35.237075Z"
    },
    "papermill": {
     "duration": 1.994936,
     "end_time": "2025-10-03T10:56:35.240206",
     "exception": false,
     "start_time": "2025-10-03T10:56:33.245270",
     "status": "completed"
    },
    "tags": []
   },
   "outputs": [],
   "source": [
    "import pandas as pd\n",
    "import matplotlib.pyplot as plt\n",
    "import seaborn as sns"
   ]
  },
  {
   "cell_type": "code",
   "execution_count": 4,
   "id": "0f13f62c",
   "metadata": {
    "execution": {
     "iopub.execute_input": "2025-10-03T10:56:35.248028Z",
     "iopub.status.busy": "2025-10-03T10:56:35.247625Z",
     "iopub.status.idle": "2025-10-03T10:56:35.595764Z",
     "shell.execute_reply": "2025-10-03T10:56:35.594780Z"
    },
    "papermill": {
     "duration": 0.353793,
     "end_time": "2025-10-03T10:56:35.597363",
     "exception": false,
     "start_time": "2025-10-03T10:56:35.243570",
     "status": "completed"
    },
    "tags": []
   },
   "outputs": [
    {
     "data": {
      "text/html": [
       "<div>\n",
       "<style scoped>\n",
       "    .dataframe tbody tr th:only-of-type {\n",
       "        vertical-align: middle;\n",
       "    }\n",
       "\n",
       "    .dataframe tbody tr th {\n",
       "        vertical-align: top;\n",
       "    }\n",
       "\n",
       "    .dataframe thead th {\n",
       "        text-align: right;\n",
       "    }\n",
       "</style>\n",
       "<table border=\"1\" class=\"dataframe\">\n",
       "  <thead>\n",
       "    <tr style=\"text-align: right;\">\n",
       "      <th></th>\n",
       "      <th>instruction</th>\n",
       "      <th>context</th>\n",
       "      <th>response</th>\n",
       "      <th>category</th>\n",
       "    </tr>\n",
       "  </thead>\n",
       "  <tbody>\n",
       "    <tr>\n",
       "      <th>0</th>\n",
       "      <td>When did Virgin Australia start operating?</td>\n",
       "      <td>Virgin Australia, the trading name of Virgin A...</td>\n",
       "      <td>Virgin Australia commenced services on 31 Augu...</td>\n",
       "      <td>closed_qa</td>\n",
       "    </tr>\n",
       "    <tr>\n",
       "      <th>1</th>\n",
       "      <td>Which is a species of fish? Tope or Rope</td>\n",
       "      <td>NaN</td>\n",
       "      <td>Tope</td>\n",
       "      <td>classification</td>\n",
       "    </tr>\n",
       "    <tr>\n",
       "      <th>2</th>\n",
       "      <td>Why can camels survive for long without water?</td>\n",
       "      <td>NaN</td>\n",
       "      <td>Camels use the fat in their humps to keep them...</td>\n",
       "      <td>open_qa</td>\n",
       "    </tr>\n",
       "    <tr>\n",
       "      <th>3</th>\n",
       "      <td>Alice's parents have three daughters: Amy, Jes...</td>\n",
       "      <td>NaN</td>\n",
       "      <td>The name of the third daughter is Alice</td>\n",
       "      <td>open_qa</td>\n",
       "    </tr>\n",
       "    <tr>\n",
       "      <th>4</th>\n",
       "      <td>When was Tomoaki Komorida born?</td>\n",
       "      <td>Komorida was born in Kumamoto Prefecture on Ju...</td>\n",
       "      <td>Tomoaki Komorida was born on July 10,1981.</td>\n",
       "      <td>closed_qa</td>\n",
       "    </tr>\n",
       "  </tbody>\n",
       "</table>\n",
       "</div>"
      ],
      "text/plain": [
       "                                         instruction  \\\n",
       "0         When did Virgin Australia start operating?   \n",
       "1           Which is a species of fish? Tope or Rope   \n",
       "2     Why can camels survive for long without water?   \n",
       "3  Alice's parents have three daughters: Amy, Jes...   \n",
       "4                    When was Tomoaki Komorida born?   \n",
       "\n",
       "                                             context  \\\n",
       "0  Virgin Australia, the trading name of Virgin A...   \n",
       "1                                                NaN   \n",
       "2                                                NaN   \n",
       "3                                                NaN   \n",
       "4  Komorida was born in Kumamoto Prefecture on Ju...   \n",
       "\n",
       "                                            response        category  \n",
       "0  Virgin Australia commenced services on 31 Augu...       closed_qa  \n",
       "1                                               Tope  classification  \n",
       "2  Camels use the fat in their humps to keep them...         open_qa  \n",
       "3            The name of the third daughter is Alice         open_qa  \n",
       "4         Tomoaki Komorida was born on July 10,1981.       closed_qa  "
      ]
     },
     "execution_count": 4,
     "metadata": {},
     "output_type": "execute_result"
    }
   ],
   "source": [
    "df = pd.read_csv('/kaggle/input/databricksdatabricks-dolly-15k/dolly_15k.csv')\n",
    "df.head()"
   ]
  },
  {
   "cell_type": "code",
   "execution_count": 5,
   "id": "fb69703d",
   "metadata": {
    "execution": {
     "iopub.execute_input": "2025-10-03T10:56:35.605823Z",
     "iopub.status.busy": "2025-10-03T10:56:35.605097Z",
     "iopub.status.idle": "2025-10-03T10:56:35.612779Z",
     "shell.execute_reply": "2025-10-03T10:56:35.611749Z"
    },
    "papermill": {
     "duration": 0.013443,
     "end_time": "2025-10-03T10:56:35.614478",
     "exception": false,
     "start_time": "2025-10-03T10:56:35.601035",
     "status": "completed"
    },
    "tags": []
   },
   "outputs": [
    {
     "data": {
      "text/plain": [
       "Index(['instruction', 'context', 'response', 'category'], dtype='object')"
      ]
     },
     "execution_count": 5,
     "metadata": {},
     "output_type": "execute_result"
    }
   ],
   "source": [
    "df.columns"
   ]
  },
  {
   "cell_type": "code",
   "execution_count": 6,
   "id": "6b2a515f",
   "metadata": {
    "execution": {
     "iopub.execute_input": "2025-10-03T10:56:35.622231Z",
     "iopub.status.busy": "2025-10-03T10:56:35.621945Z",
     "iopub.status.idle": "2025-10-03T10:56:35.649067Z",
     "shell.execute_reply": "2025-10-03T10:56:35.647885Z"
    },
    "papermill": {
     "duration": 0.033024,
     "end_time": "2025-10-03T10:56:35.650881",
     "exception": false,
     "start_time": "2025-10-03T10:56:35.617857",
     "status": "completed"
    },
    "tags": []
   },
   "outputs": [
    {
     "name": "stdout",
     "output_type": "stream",
     "text": [
      "<class 'pandas.core.frame.DataFrame'>\n",
      "RangeIndex: 15011 entries, 0 to 15010\n",
      "Data columns (total 4 columns):\n",
      " #   Column       Non-Null Count  Dtype \n",
      "---  ------       --------------  ----- \n",
      " 0   instruction  15011 non-null  object\n",
      " 1   context      4466 non-null   object\n",
      " 2   response     15011 non-null  object\n",
      " 3   category     15011 non-null  object\n",
      "dtypes: object(4)\n",
      "memory usage: 469.2+ KB\n"
     ]
    }
   ],
   "source": [
    "# Dataset overview\n",
    "df.info()"
   ]
  },
  {
   "cell_type": "code",
   "execution_count": 7,
   "id": "d4fa44b3",
   "metadata": {
    "execution": {
     "iopub.execute_input": "2025-10-03T10:56:35.658887Z",
     "iopub.status.busy": "2025-10-03T10:56:35.658608Z",
     "iopub.status.idle": "2025-10-03T10:56:35.670736Z",
     "shell.execute_reply": "2025-10-03T10:56:35.669792Z"
    },
    "papermill": {
     "duration": 0.017666,
     "end_time": "2025-10-03T10:56:35.672158",
     "exception": false,
     "start_time": "2025-10-03T10:56:35.654492",
     "status": "completed"
    },
    "tags": []
   },
   "outputs": [
    {
     "data": {
      "text/plain": [
       "instruction        0\n",
       "context        10545\n",
       "response           0\n",
       "category           0\n",
       "dtype: int64"
      ]
     },
     "execution_count": 7,
     "metadata": {},
     "output_type": "execute_result"
    }
   ],
   "source": [
    "# Count null values\n",
    "df.isnull().sum()"
   ]
  },
  {
   "cell_type": "code",
   "execution_count": 8,
   "id": "119cac6b",
   "metadata": {
    "execution": {
     "iopub.execute_input": "2025-10-03T10:56:35.680440Z",
     "iopub.status.busy": "2025-10-03T10:56:35.680075Z",
     "iopub.status.idle": "2025-10-03T10:56:36.089267Z",
     "shell.execute_reply": "2025-10-03T10:56:36.088374Z"
    },
    "papermill": {
     "duration": 0.415036,
     "end_time": "2025-10-03T10:56:36.090892",
     "exception": false,
     "start_time": "2025-10-03T10:56:35.675856",
     "status": "completed"
    },
    "tags": []
   },
   "outputs": [
    {
     "data": {
      "image/png": "[encoded data removed]",
      "text/plain": [
       "<Figure size 1000x500 with 1 Axes>"
      ]
     },
     "metadata": {},
     "output_type": "display_data"
    }
   ],
   "source": [
    "plt.figure(figsize=(10,5))\n",
    "sns.countplot(data=df, y='category', order=df['category'].value_counts().index)\n",
    "plt.title('Number of Examples per Category')\n",
    "plt.xlabel('Count')\n",
    "plt.ylabel('Category')\n",
    "plt.show()"
   ]
  },
  {
   "cell_type": "code",
   "execution_count": 9,
   "id": "4c3f8897",
   "metadata": {
    "execution": {
     "iopub.execute_input": "2025-10-03T10:56:36.100631Z",
     "iopub.status.busy": "2025-10-03T10:56:36.100332Z",
     "iopub.status.idle": "2025-10-03T10:56:36.530686Z",
     "shell.execute_reply": "2025-10-03T10:56:36.529764Z"
    },
    "papermill": {
     "duration": 0.437089,
     "end_time": "2025-10-03T10:56:36.532438",
     "exception": false,
     "start_time": "2025-10-03T10:56:36.095349",
     "status": "completed"
    },
    "tags": []
   },
   "outputs": [
    {
     "data": {
      "image/png": "[encoded data removed]",
      "text/plain": [
       "<Figure size 1000x400 with 1 Axes>"
      ]
     },
     "metadata": {},
     "output_type": "display_data"
    }
   ],
   "source": [
    "# Add text lengths\n",
    "df['instruction_len'] = df['instruction'].str.len()\n",
    "df['response_len'] = df['response'].str.len()\n",
    "\n",
    "# Plot response lengths\n",
    "plt.figure(figsize=(10,4))\n",
    "sns.histplot(df['response_len'], bins=50, kde=True)\n",
    "plt.title('Response Length Distribution')\n",
    "plt.xlabel('Length of Response')\n",
    "plt.show()"
   ]
  },
  {
   "cell_type": "code",
   "execution_count": 10,
   "id": "b9aff3b4",
   "metadata": {
    "execution": {
     "iopub.execute_input": "2025-10-03T10:56:36.543605Z",
     "iopub.status.busy": "2025-10-03T10:56:36.543308Z",
     "iopub.status.idle": "2025-10-03T10:56:36.563134Z",
     "shell.execute_reply": "2025-10-03T10:56:36.562026Z"
    },
    "papermill": {
     "duration": 0.027304,
     "end_time": "2025-10-03T10:56:36.564896",
     "exception": false,
     "start_time": "2025-10-03T10:56:36.537592",
     "status": "completed"
    },
    "tags": []
   },
   "outputs": [],
   "source": [
    "# Combine instruction and context into one input text\n",
    "df['text'] = df['instruction'] + ' ' + df['context'].fillna('')"
   ]
  },
  {
   "cell_type": "code",
   "execution_count": 11,
   "id": "c34f6897",
   "metadata": {
    "execution": {
     "iopub.execute_input": "2025-10-03T10:56:36.576528Z",
     "iopub.status.busy": "2025-10-03T10:56:36.576139Z",
     "iopub.status.idle": "2025-10-03T10:56:36.581167Z",
     "shell.execute_reply": "2025-10-03T10:56:36.580206Z"
    },
    "papermill": {
     "duration": 0.012223,
     "end_time": "2025-10-03T10:56:36.582763",
     "exception": false,
     "start_time": "2025-10-03T10:56:36.570540",
     "status": "completed"
    },
    "tags": []
   },
   "outputs": [],
   "source": [
    "# Drop unused columns\n",
    "X = df['text']\n",
    "y = df['category']"
   ]
  },
  {
   "cell_type": "code",
   "execution_count": 12,
   "id": "593d305a",
   "metadata": {
    "execution": {
     "iopub.execute_input": "2025-10-03T10:56:36.594040Z",
     "iopub.status.busy": "2025-10-03T10:56:36.592961Z",
     "iopub.status.idle": "2025-10-03T10:56:36.897110Z",
     "shell.execute_reply": "2025-10-03T10:56:36.896019Z"
    },
    "papermill": {
     "duration": 0.311495,
     "end_time": "2025-10-03T10:56:36.899049",
     "exception": false,
     "start_time": "2025-10-03T10:56:36.587554",
     "status": "completed"
    },
    "tags": []
   },
   "outputs": [],
   "source": [
    "from sklearn.model_selection import train_test_split\n",
    "\n",
    "X_train, X_test, y_train, y_test = train_test_split(X, y, test_size=0.2, random_state=42)"
   ]
  },
  {
   "cell_type": "code",
   "execution_count": 13,
   "id": "1a86f4e0",
   "metadata": {
    "execution": {
     "iopub.execute_input": "2025-10-03T10:56:36.909818Z",
     "iopub.status.busy": "2025-10-03T10:56:36.909503Z",
     "iopub.status.idle": "2025-10-03T10:56:42.772999Z",
     "shell.execute_reply": "2025-10-03T10:56:42.772288Z"
    },
    "papermill": {
     "duration": 5.870648,
     "end_time": "2025-10-03T10:56:42.774633",
     "exception": false,
     "start_time": "2025-10-03T10:56:36.903985",
     "status": "completed"
    },
    "tags": []
   },
   "outputs": [
    {
     "data": {
      "text/html": [
       "<style>#sk-container-id-1 {color: black;background-color: white;}#sk-container-id-1 pre{padding: 0;}#sk-container-id-1 div.sk-toggleable {background-color: white;}#sk-container-id-1 label.sk-toggleable__label {cursor: pointer;display: block;width: 100%;margin-bottom: 0;padding: 0.3em;box-sizing: border-box;text-align: center;}#sk-container-id-1 label.sk-toggleable__label-arrow:before {content: \"▸\";float: left;margin-right: 0.25em;color: #696969;}#sk-container-id-1 label.sk-toggleable__label-arrow:hover:before {color: black;}#sk-container-id-1 div.sk-estimator:hover label.sk-toggleable__label-arrow:before {color: black;}#sk-container-id-1 div.sk-toggleable__content {max-height: 0;max-width: 0;overflow: hidden;text-align: left;background-color: #f0f8ff;}#sk-container-id-1 div.sk-toggleable__content pre {margin: 0.2em;color: black;border-radius: 0.25em;background-color: #f0f8ff;}#sk-container-id-1 input.sk-toggleable__control:checked~div.sk-toggleable__content {max-height: 200px;max-width: 100%;overflow: auto;}#sk-container-id-1 input.sk-toggleable__control:checked~label.sk-toggleable__label-arrow:before {content: \"▾\";}#sk-container-id-1 div.sk-estimator input.sk-toggleable__control:checked~label.sk-toggleable__label {background-color: #d4ebff;}#sk-container-id-1 div.sk-label input.sk-toggleable__control:checked~label.sk-toggleable__label {background-color: #d4ebff;}#sk-container-id-1 input.sk-hidden--visually {border: 0;clip: rect(1px 1px 1px 1px);clip: rect(1px, 1px, 1px, 1px);height: 1px;margin: -1px;overflow: hidden;padding: 0;position: absolute;width: 1px;}#sk-container-id-1 div.sk-estimator {font-family: monospace;background-color: #f0f8ff;border: 1px dotted black;border-radius: 0.25em;box-sizing: border-box;margin-bottom: 0.5em;}#sk-container-id-1 div.sk-estimator:hover {background-color: #d4ebff;}#sk-container-id-1 div.sk-parallel-item::after {content: \"\";width: 100%;border-bottom: 1px solid gray;flex-grow: 1;}#sk-container-id-1 div.sk-label:hover label.sk-toggleable__label {background-color: #d4ebff;}#sk-container-id-1 div.sk-serial::before {content: \"\";position: absolute;border-left: 1px solid gray;box-sizing: border-box;top: 0;bottom: 0;left: 50%;z-index: 0;}#sk-container-id-1 div.sk-serial {display: flex;flex-direction: column;align-items: center;background-color: white;padding-right: 0.2em;padding-left: 0.2em;position: relative;}#sk-container-id-1 div.sk-item {position: relative;z-index: 1;}#sk-container-id-1 div.sk-parallel {display: flex;align-items: stretch;justify-content: center;background-color: white;position: relative;}#sk-container-id-1 div.sk-item::before, #sk-container-id-1 div.sk-parallel-item::before {content: \"\";position: absolute;border-left: 1px solid gray;box-sizing: border-box;top: 0;bottom: 0;left: 50%;z-index: -1;}#sk-container-id-1 div.sk-parallel-item {display: flex;flex-direction: column;z-index: 1;position: relative;background-color: white;}#sk-container-id-1 div.sk-parallel-item:first-child::after {align-self: flex-end;width: 50%;}#sk-container-id-1 div.sk-parallel-item:last-child::after {align-self: flex-start;width: 50%;}#sk-container-id-1 div.sk-parallel-item:only-child::after {width: 0;}#sk-container-id-1 div.sk-dashed-wrapped {border: 1px dashed gray;margin: 0 0.4em 0.5em 0.4em;box-sizing: border-box;padding-bottom: 0.4em;background-color: white;}#sk-container-id-1 div.sk-label label {font-family: monospace;font-weight: bold;display: inline-block;line-height: 1.2em;}#sk-container-id-1 div.sk-label-container {text-align: center;}#sk-container-id-1 div.sk-container {/* jupyter's `normalize.less` sets `[hidden] { display: none; }` but bootstrap.min.css set `[hidden] { display: none !important; }` so we also need the `!important` here to be able to override the default hidden behavior on the sphinx rendered scikit-learn.org. See: https://github.com/scikit-learn/scikit-learn/issues/21755 */display: inline-block !important;position: relative;}#sk-container-id-1 div.sk-text-repr-fallback {display: none;}</style><div id=\"sk-container-id-1\" class=\"sk-top-container\"><div class=\"sk-text-repr-fallback\"><pre>Pipeline(steps=[(&#x27;tfidf&#x27;, TfidfVectorizer(max_features=5000)),\n",
       "                (&#x27;clf&#x27;, LogisticRegression(max_iter=1000))])</pre><b>In a Jupyter environment, please rerun this cell to show the HTML representation or trust the notebook. <br />On GitHub, the HTML representation is unable to render, please try loading this page with nbviewer.org.</b></div><div class=\"sk-container\" hidden><div class=\"sk-item sk-dashed-wrapped\"><div class=\"sk-label-container\"><div class=\"sk-label sk-toggleable\"><input class=\"sk-toggleable__control sk-hidden--visually\" id=\"sk-estimator-id-1\" type=\"checkbox\" ><label for=\"sk-estimator-id-1\" class=\"sk-toggleable__label sk-toggleable__label-arrow\">Pipeline</label><div class=\"sk-toggleable__content\"><pre>Pipeline(steps=[(&#x27;tfidf&#x27;, TfidfVectorizer(max_features=5000)),\n",
       "                (&#x27;clf&#x27;, LogisticRegression(max_iter=1000))])</pre></div></div></div><div class=\"sk-serial\"><div class=\"sk-item\"><div class=\"sk-estimator sk-toggleable\"><input class=\"sk-toggleable__control sk-hidden--visually\" id=\"sk-estimator-id-2\" type=\"checkbox\" ><label for=\"sk-estimator-id-2\" class=\"sk-toggleable__label sk-toggleable__label-arrow\">TfidfVectorizer</label><div class=\"sk-toggleable__content\"><pre>TfidfVectorizer(max_features=5000)</pre></div></div></div><div class=\"sk-item\"><div class=\"sk-estimator sk-toggleable\"><input class=\"sk-toggleable__control sk-hidden--visually\" id=\"sk-estimator-id-3\" type=\"checkbox\" ><label for=\"sk-estimator-id-3\" class=\"sk-toggleable__label sk-toggleable__label-arrow\">LogisticRegression</label><div class=\"sk-toggleable__content\"><pre>LogisticRegression(max_iter=1000)</pre></div></div></div></div></div></div></div>"
      ],
      "text/plain": [
       "Pipeline(steps=[('tfidf', TfidfVectorizer(max_features=5000)),\n",
       "                ('clf', LogisticRegression(max_iter=1000))])"
      ]
     },
     "execution_count": 13,
     "metadata": {},
     "output_type": "execute_result"
    }
   ],
   "source": [
    "from sklearn.feature_extraction.text import TfidfVectorizer\n",
    "from sklearn.linear_model import LogisticRegression\n",
    "from sklearn.pipeline import Pipeline\n",
    "from sklearn.metrics import classification_report\n",
    "\n",
    "# Create pipeline: TF-IDF + Logistic Regression\n",
    "model = Pipeline([\n",
    "    ('tfidf', TfidfVectorizer(max_features=5000)),\n",
    "    ('clf', LogisticRegression(max_iter=1000))\n",
    "])\n",
    "\n",
    "# Train the model\n",
    "model.fit(X_train, y_train)"
   ]
  },
  {
   "cell_type": "code",
   "execution_count": 14,
   "id": "a04a2ccf",
   "metadata": {
    "execution": {
     "iopub.execute_input": "2025-10-03T10:56:42.795086Z",
     "iopub.status.busy": "2025-10-03T10:56:42.794760Z",
     "iopub.status.idle": "2025-10-03T10:56:43.096266Z",
     "shell.execute_reply": "2025-10-03T10:56:43.095187Z"
    },
    "papermill": {
     "duration": 0.311987,
     "end_time": "2025-10-03T10:56:43.097732",
     "exception": false,
     "start_time": "2025-10-03T10:56:42.785745",
     "status": "completed"
    },
    "tags": []
   },
   "outputs": [
    {
     "name": "stdout",
     "output_type": "stream",
     "text": [
      "                        precision    recall  f1-score   support\n",
      "\n",
      "         brainstorming       0.76      0.65      0.70       361\n",
      "        classification       0.96      0.93      0.94       428\n",
      "             closed_qa       0.57      0.72      0.64       347\n",
      "      creative_writing       0.74      0.43      0.54       117\n",
      "            general_qa       0.53      0.49      0.51       458\n",
      "information_extraction       0.63      0.57      0.60       313\n",
      "               open_qa       0.68      0.82      0.75       757\n",
      "         summarization       0.45      0.31      0.37       222\n",
      "\n",
      "              accuracy                           0.67      3003\n",
      "             macro avg       0.66      0.62      0.63      3003\n",
      "          weighted avg       0.67      0.67      0.67      3003\n",
      "\n"
     ]
    }
   ],
   "source": [
    "# Predict and evaluate\n",
    "y_pred = model.predict(X_test)\n",
    "print(classification_report(y_test, y_pred))"
   ]
  },
  {
   "cell_type": "code",
   "execution_count": 15,
   "id": "5b72aa4d",
   "metadata": {
    "execution": {
     "iopub.execute_input": "2025-10-03T10:56:43.109361Z",
     "iopub.status.busy": "2025-10-03T10:56:43.109023Z",
     "iopub.status.idle": "2025-10-03T10:56:43.122829Z",
     "shell.execute_reply": "2025-10-03T10:56:43.121713Z"
    },
    "papermill": {
     "duration": 0.021619,
     "end_time": "2025-10-03T10:56:43.124507",
     "exception": false,
     "start_time": "2025-10-03T10:56:43.102888",
     "status": "completed"
    },
    "tags": []
   },
   "outputs": [
    {
     "name": "stdout",
     "output_type": "stream",
     "text": [
      "\n",
      "Top words for category 'brainstorming':\n",
      "five, think, could, some, what, me, ways, give, best, list\n",
      "\n",
      "Top words for category 'classification':\n",
      "categorize, each, tell, whether, or, which, identify, classify, these, following\n",
      "\n",
      "Top words for category 'closed_qa':\n",
      "by, as, about, in, the, this, reference, and, paragraph, given\n",
      "\n",
      "Top words for category 'creative_writing':\n",
      "about, why, imagine, should, to, trip, story, you, describe, write\n",
      "\n",
      "Top words for category 'general_qa':\n",
      "kafka, spark, covid, buying, greatest, review, do, how, why, what\n",
      "\n",
      "Top words for category 'information_extraction':\n",
      "by, provided, from, comma, as, in, passage, the, and, extract\n",
      "\n",
      "Top words for category 'open_qa':\n",
      "thrones, how, titles, books, did, which, difference, who, name, what\n",
      "\n",
      "Top words for category 'summarization':\n",
      "to, was, points, please, in, as, is, of, the, and\n"
     ]
    }
   ],
   "source": [
    "# Get class labels and feature names\n",
    "labels = model.named_steps['clf'].classes_\n",
    "features = model.named_steps['tfidf'].get_feature_names_out()\n",
    "coefs = model.named_steps['clf'].coef_\n",
    "\n",
    "# Print top words per category\n",
    "for i, label in enumerate(labels):\n",
    "    top10 = np.argsort(coefs[i])[-10:]\n",
    "    print(f\"\\nTop words for category '{label}':\")\n",
    "    print(\", \".join(features[top10]))"
   ]
  }
 ],
 "metadata": {
  "kaggle": {
   "accelerator": "none",
   "dataSources": [
    {
     "datasetId": 3624779,
     "sourceId": 6301228,
     "sourceType": "datasetVersion"
    }
   ],
   "dockerImageVersionId": 31089,
   "isGpuEnabled": false,
   "isInternetEnabled": true,
   "language": "python",
   "sourceType": "notebook"
  },
  "kernelspec": {
   "display_name": "Python 3",
   "language": "python",
   "name": "python3"
  },
  "language_info": {
   "codemirror_mode": {
    "name": "ipython",
    "version": 3
   },
   "file_extension": ".py",
   "mimetype": "text/x-python",
   "name": "python",
   "nbconvert_exporter": "python",
   "pygments_lexer": "ipython3",
   "version": "3.11.13"
  },
  "papermill": {
   "default_parameters": {},
   "duration": 18.30919,
   "end_time": "2025-10-03T10:56:43.851191",
   "environment_variables": {},
   "exception": null,
   "input_path": "__notebook__.ipynb",
   "output_path": "__notebook__.ipynb",
   "parameters": {},
   "start_time": "2025-10-03T10:56:25.542001",
   "version": "2.6.0"
  }
 },
 "nbformat": 4,
 "nbformat_minor": 5
}
