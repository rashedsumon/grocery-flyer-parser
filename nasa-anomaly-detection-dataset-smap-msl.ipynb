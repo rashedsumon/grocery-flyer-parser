{
 "cells": [
  {
   "cell_type": "code",
   "execution_count": 1,
   "id": "7617cf26",
   "metadata": {
    "_cell_guid": "b1076dfc-b9ad-4769-8c92-a6c4dae69d19",
    "_uuid": "8f2839f25d086af736a60e9eeb907d3b93b6e0e5",
    "collapsed": true,
    "execution": {
     "iopub.execute_input": "2025-10-03T13:08:02.123531Z",
     "iopub.status.busy": "2025-10-03T13:08:02.123233Z",
     "iopub.status.idle": "2025-10-03T13:08:05.150587Z",
     "shell.execute_reply": "2025-10-03T13:08:05.149682Z"
    },
    "jupyter": {
     "outputs_hidden": true
    },
    "papermill": {
     "duration": 3.033355,
     "end_time": "2025-10-03T13:08:05.152136",
     "exception": false,
     "start_time": "2025-10-03T13:08:02.118781",
     "status": "completed"
    },
    "tags": []
   },
   "outputs": [
    {
     "name": "stdout",
     "output_type": "stream",
     "text": [
      "/kaggle/input/nasa-anomaly-detection-dataset-smap-msl/labeled_anomalies.csv\n",
      "/kaggle/input/nasa-anomaly-detection-dataset-smap-msl/data/data/2018-05-19_15.00.10/params.log\n",
      "/kaggle/input/nasa-anomaly-detection-dataset-smap-msl/data/data/2018-05-19_15.00.10/smoothed_errors/M-4.npy\n",
      "/kaggle/input/nasa-anomaly-detection-dataset-smap-msl/data/data/2018-05-19_15.00.10/smoothed_errors/G-6.npy\n",
      "/kaggle/input/nasa-anomaly-detection-dataset-smap-msl/data/data/2018-05-19_15.00.10/smoothed_errors/S-1.npy\n",
      "/kaggle/input/nasa-anomaly-detection-dataset-smap-msl/data/data/2018-05-19_15.00.10/smoothed_errors/D-3.npy\n",
      "/kaggle/input/nasa-anomaly-detection-dataset-smap-msl/data/data/2018-05-19_15.00.10/smoothed_errors/G-3.npy\n",
      "/kaggle/input/nasa-anomaly-detection-dataset-smap-msl/data/data/2018-05-19_15.00.10/smoothed_errors/P-2.npy\n",
      "/kaggle/input/nasa-anomaly-detection-dataset-smap-msl/data/data/2018-05-19_15.00.10/smoothed_errors/E-5.npy\n",
      "/kaggle/input/nasa-anomaly-detection-dataset-smap-msl/data/data/2018-05-19_15.00.10/smoothed_errors/M-5.npy\n",
      "/kaggle/input/nasa-anomaly-detection-dataset-smap-msl/data/data/2018-05-19_15.00.10/smoothed_errors/E-7.npy\n",
      "/kaggle/input/nasa-anomaly-detection-dataset-smap-msl/data/data/2018-05-19_15.00.10/smoothed_errors/P-11.npy\n",
      "/kaggle/input/nasa-anomaly-detection-dataset-smap-msl/data/data/2018-05-19_15.00.10/smoothed_errors/T-3.npy\n",
      "/kaggle/input/nasa-anomaly-detection-dataset-smap-msl/data/data/2018-05-19_15.00.10/smoothed_errors/E-4.npy\n",
      "/kaggle/input/nasa-anomaly-detection-dataset-smap-msl/data/data/2018-05-19_15.00.10/smoothed_errors/E-12.npy\n",
      "/kaggle/input/nasa-anomaly-detection-dataset-smap-msl/data/data/2018-05-19_15.00.10/smoothed_errors/D-4.npy\n",
      "/kaggle/input/nasa-anomaly-detection-dataset-smap-msl/data/data/2018-05-19_15.00.10/smoothed_errors/R-1.npy\n",
      "/kaggle/input/nasa-anomaly-detection-dataset-smap-msl/data/data/2018-05-19_15.00.10/smoothed_errors/A-8.npy\n",
      "/kaggle/input/nasa-anomaly-detection-dataset-smap-msl/data/data/2018-05-19_15.00.10/smoothed_errors/T-4.npy\n",
      "/kaggle/input/nasa-anomaly-detection-dataset-smap-msl/data/data/2018-05-19_15.00.10/smoothed_errors/D-7.npy\n",
      "/kaggle/input/nasa-anomaly-detection-dataset-smap-msl/data/data/2018-05-19_15.00.10/smoothed_errors/F-3.npy\n",
      "/kaggle/input/nasa-anomaly-detection-dataset-smap-msl/data/data/2018-05-19_15.00.10/smoothed_errors/G-1.npy\n",
      "/kaggle/input/nasa-anomaly-detection-dataset-smap-msl/data/data/2018-05-19_15.00.10/smoothed_errors/T-5.npy\n",
      "/kaggle/input/nasa-anomaly-detection-dataset-smap-msl/data/data/2018-05-19_15.00.10/smoothed_errors/A-4.npy\n",
      "/kaggle/input/nasa-anomaly-detection-dataset-smap-msl/data/data/2018-05-19_15.00.10/smoothed_errors/P-3.npy\n",
      "/kaggle/input/nasa-anomaly-detection-dataset-smap-msl/data/data/2018-05-19_15.00.10/smoothed_errors/F-1.npy\n",
      "/kaggle/input/nasa-anomaly-detection-dataset-smap-msl/data/data/2018-05-19_15.00.10/smoothed_errors/F-5.npy\n",
      "/kaggle/input/nasa-anomaly-detection-dataset-smap-msl/data/data/2018-05-19_15.00.10/smoothed_errors/P-15.npy\n",
      "/kaggle/input/nasa-anomaly-detection-dataset-smap-msl/data/data/2018-05-19_15.00.10/smoothed_errors/A-5.npy\n",
      "/kaggle/input/nasa-anomaly-detection-dataset-smap-msl/data/data/2018-05-19_15.00.10/smoothed_errors/T-10.npy\n",
      "/kaggle/input/nasa-anomaly-detection-dataset-smap-msl/data/data/2018-05-19_15.00.10/smoothed_errors/D-6.npy\n",
      "/kaggle/input/nasa-anomaly-detection-dataset-smap-msl/data/data/2018-05-19_15.00.10/smoothed_errors/D-12.npy\n",
      "/kaggle/input/nasa-anomaly-detection-dataset-smap-msl/data/data/2018-05-19_15.00.10/smoothed_errors/A-6.npy\n",
      "/kaggle/input/nasa-anomaly-detection-dataset-smap-msl/data/data/2018-05-19_15.00.10/smoothed_errors/D-1.npy\n",
      "/kaggle/input/nasa-anomaly-detection-dataset-smap-msl/data/data/2018-05-19_15.00.10/smoothed_errors/M-7.npy\n",
      "/kaggle/input/nasa-anomaly-detection-dataset-smap-msl/data/data/2018-05-19_15.00.10/smoothed_errors/A-3.npy\n",
      "/kaggle/input/nasa-anomaly-detection-dataset-smap-msl/data/data/2018-05-19_15.00.10/smoothed_errors/D-15.npy\n",
      "/kaggle/input/nasa-anomaly-detection-dataset-smap-msl/data/data/2018-05-19_15.00.10/smoothed_errors/F-4.npy\n",
      "/kaggle/input/nasa-anomaly-detection-dataset-smap-msl/data/data/2018-05-19_15.00.10/smoothed_errors/A-1.npy\n",
      "/kaggle/input/nasa-anomaly-detection-dataset-smap-msl/data/data/2018-05-19_15.00.10/smoothed_errors/P-1.npy\n",
      "/kaggle/input/nasa-anomaly-detection-dataset-smap-msl/data/data/2018-05-19_15.00.10/smoothed_errors/D-16.npy\n",
      "/kaggle/input/nasa-anomaly-detection-dataset-smap-msl/data/data/2018-05-19_15.00.10/smoothed_errors/G-2.npy\n",
      "/kaggle/input/nasa-anomaly-detection-dataset-smap-msl/data/data/2018-05-19_15.00.10/smoothed_errors/P-7.npy\n",
      "/kaggle/input/nasa-anomaly-detection-dataset-smap-msl/data/data/2018-05-19_15.00.10/smoothed_errors/D-14.npy\n",
      "/kaggle/input/nasa-anomaly-detection-dataset-smap-msl/data/data/2018-05-19_15.00.10/smoothed_errors/E-11.npy\n",
      "/kaggle/input/nasa-anomaly-detection-dataset-smap-msl/data/data/2018-05-19_15.00.10/smoothed_errors/E-1.npy\n",
      "/kaggle/input/nasa-anomaly-detection-dataset-smap-msl/data/data/2018-05-19_15.00.10/smoothed_errors/S-2.npy\n",
      "/kaggle/input/nasa-anomaly-detection-dataset-smap-msl/data/data/2018-05-19_15.00.10/smoothed_errors/T-2.npy\n",
      "/kaggle/input/nasa-anomaly-detection-dataset-smap-msl/data/data/2018-05-19_15.00.10/smoothed_errors/T-8.npy\n",
      "/kaggle/input/nasa-anomaly-detection-dataset-smap-msl/data/data/2018-05-19_15.00.10/smoothed_errors/D-11.npy\n",
      "/kaggle/input/nasa-anomaly-detection-dataset-smap-msl/data/data/2018-05-19_15.00.10/smoothed_errors/D-13.npy\n",
      "/kaggle/input/nasa-anomaly-detection-dataset-smap-msl/data/data/2018-05-19_15.00.10/smoothed_errors/T-1.npy\n",
      "/kaggle/input/nasa-anomaly-detection-dataset-smap-msl/data/data/2018-05-19_15.00.10/smoothed_errors/T-13.npy\n",
      "/kaggle/input/nasa-anomaly-detection-dataset-smap-msl/data/data/2018-05-19_15.00.10/smoothed_errors/E-10.npy\n",
      "/kaggle/input/nasa-anomaly-detection-dataset-smap-msl/data/data/2018-05-19_15.00.10/smoothed_errors/C-2.npy\n",
      "/kaggle/input/nasa-anomaly-detection-dataset-smap-msl/data/data/2018-05-19_15.00.10/smoothed_errors/E-9.npy\n",
      "/kaggle/input/nasa-anomaly-detection-dataset-smap-msl/data/data/2018-05-19_15.00.10/smoothed_errors/E-13.npy\n",
      "/kaggle/input/nasa-anomaly-detection-dataset-smap-msl/data/data/2018-05-19_15.00.10/smoothed_errors/M-1.npy\n",
      "/kaggle/input/nasa-anomaly-detection-dataset-smap-msl/data/data/2018-05-19_15.00.10/smoothed_errors/T-9.npy\n",
      "/kaggle/input/nasa-anomaly-detection-dataset-smap-msl/data/data/2018-05-19_15.00.10/smoothed_errors/M-3.npy\n",
      "/kaggle/input/nasa-anomaly-detection-dataset-smap-msl/data/data/2018-05-19_15.00.10/smoothed_errors/E-3.npy\n",
      "/kaggle/input/nasa-anomaly-detection-dataset-smap-msl/data/data/2018-05-19_15.00.10/smoothed_errors/A-7.npy\n",
      "/kaggle/input/nasa-anomaly-detection-dataset-smap-msl/data/data/2018-05-19_15.00.10/smoothed_errors/D-9.npy\n",
      "/kaggle/input/nasa-anomaly-detection-dataset-smap-msl/data/data/2018-05-19_15.00.10/smoothed_errors/P-14.npy\n",
      "/kaggle/input/nasa-anomaly-detection-dataset-smap-msl/data/data/2018-05-19_15.00.10/smoothed_errors/P-4.npy\n",
      "/kaggle/input/nasa-anomaly-detection-dataset-smap-msl/data/data/2018-05-19_15.00.10/smoothed_errors/E-8.npy\n",
      "/kaggle/input/nasa-anomaly-detection-dataset-smap-msl/data/data/2018-05-19_15.00.10/smoothed_errors/F-8.npy\n",
      "/kaggle/input/nasa-anomaly-detection-dataset-smap-msl/data/data/2018-05-19_15.00.10/smoothed_errors/D-8.npy\n",
      "/kaggle/input/nasa-anomaly-detection-dataset-smap-msl/data/data/2018-05-19_15.00.10/smoothed_errors/G-7.npy\n",
      "/kaggle/input/nasa-anomaly-detection-dataset-smap-msl/data/data/2018-05-19_15.00.10/smoothed_errors/C-1.npy\n",
      "/kaggle/input/nasa-anomaly-detection-dataset-smap-msl/data/data/2018-05-19_15.00.10/smoothed_errors/M-6.npy\n",
      "/kaggle/input/nasa-anomaly-detection-dataset-smap-msl/data/data/2018-05-19_15.00.10/smoothed_errors/A-9.npy\n",
      "/kaggle/input/nasa-anomaly-detection-dataset-smap-msl/data/data/2018-05-19_15.00.10/smoothed_errors/M-2.npy\n",
      "/kaggle/input/nasa-anomaly-detection-dataset-smap-msl/data/data/2018-05-19_15.00.10/smoothed_errors/F-7.npy\n",
      "/kaggle/input/nasa-anomaly-detection-dataset-smap-msl/data/data/2018-05-19_15.00.10/smoothed_errors/E-6.npy\n",
      "/kaggle/input/nasa-anomaly-detection-dataset-smap-msl/data/data/2018-05-19_15.00.10/smoothed_errors/D-2.npy\n",
      "/kaggle/input/nasa-anomaly-detection-dataset-smap-msl/data/data/2018-05-19_15.00.10/smoothed_errors/G-4.npy\n",
      "/kaggle/input/nasa-anomaly-detection-dataset-smap-msl/data/data/2018-05-19_15.00.10/smoothed_errors/B-1.npy\n",
      "/kaggle/input/nasa-anomaly-detection-dataset-smap-msl/data/data/2018-05-19_15.00.10/smoothed_errors/D-5.npy\n",
      "/kaggle/input/nasa-anomaly-detection-dataset-smap-msl/data/data/2018-05-19_15.00.10/smoothed_errors/T-12.npy\n",
      "/kaggle/input/nasa-anomaly-detection-dataset-smap-msl/data/data/2018-05-19_15.00.10/smoothed_errors/F-2.npy\n",
      "/kaggle/input/nasa-anomaly-detection-dataset-smap-msl/data/data/2018-05-19_15.00.10/smoothed_errors/A-2.npy\n",
      "/kaggle/input/nasa-anomaly-detection-dataset-smap-msl/data/data/2018-05-19_15.00.10/smoothed_errors/P-10.npy\n",
      "/kaggle/input/nasa-anomaly-detection-dataset-smap-msl/data/data/2018-05-19_15.00.10/smoothed_errors/E-2.npy\n",
      "/kaggle/input/nasa-anomaly-detection-dataset-smap-msl/data/data/2018-05-19_15.00.10/y_hat/M-4.npy\n",
      "/kaggle/input/nasa-anomaly-detection-dataset-smap-msl/data/data/2018-05-19_15.00.10/y_hat/G-6.npy\n",
      "/kaggle/input/nasa-anomaly-detection-dataset-smap-msl/data/data/2018-05-19_15.00.10/y_hat/S-1.npy\n",
      "/kaggle/input/nasa-anomaly-detection-dataset-smap-msl/data/data/2018-05-19_15.00.10/y_hat/D-3.npy\n",
      "/kaggle/input/nasa-anomaly-detection-dataset-smap-msl/data/data/2018-05-19_15.00.10/y_hat/G-3.npy\n",
      "/kaggle/input/nasa-anomaly-detection-dataset-smap-msl/data/data/2018-05-19_15.00.10/y_hat/P-2.npy\n",
      "/kaggle/input/nasa-anomaly-detection-dataset-smap-msl/data/data/2018-05-19_15.00.10/y_hat/E-5.npy\n",
      "/kaggle/input/nasa-anomaly-detection-dataset-smap-msl/data/data/2018-05-19_15.00.10/y_hat/M-5.npy\n",
      "/kaggle/input/nasa-anomaly-detection-dataset-smap-msl/data/data/2018-05-19_15.00.10/y_hat/E-7.npy\n",
      "/kaggle/input/nasa-anomaly-detection-dataset-smap-msl/data/data/2018-05-19_15.00.10/y_hat/P-11.npy\n",
      "/kaggle/input/nasa-anomaly-detection-dataset-smap-msl/data/data/2018-05-19_15.00.10/y_hat/T-3.npy\n",
      "/kaggle/input/nasa-anomaly-detection-dataset-smap-msl/data/data/2018-05-19_15.00.10/y_hat/E-4.npy\n",
      "/kaggle/input/nasa-anomaly-detection-dataset-smap-msl/data/data/2018-05-19_15.00.10/y_hat/E-12.npy\n",
      "/kaggle/input/nasa-anomaly-detection-dataset-smap-msl/data/data/2018-05-19_15.00.10/y_hat/D-4.npy\n",
      "/kaggle/input/nasa-anomaly-detection-dataset-smap-msl/data/data/2018-05-19_15.00.10/y_hat/R-1.npy\n",
      "/kaggle/input/nasa-anomaly-detection-dataset-smap-msl/data/data/2018-05-19_15.00.10/y_hat/A-8.npy\n",
      "/kaggle/input/nasa-anomaly-detection-dataset-smap-msl/data/data/2018-05-19_15.00.10/y_hat/T-4.npy\n",
      "/kaggle/input/nasa-anomaly-detection-dataset-smap-msl/data/data/2018-05-19_15.00.10/y_hat/D-7.npy\n",
      "/kaggle/input/nasa-anomaly-detection-dataset-smap-msl/data/data/2018-05-19_15.00.10/y_hat/F-3.npy\n",
      "/kaggle/input/nasa-anomaly-detection-dataset-smap-msl/data/data/2018-05-19_15.00.10/y_hat/G-1.npy\n",
      "/kaggle/input/nasa-anomaly-detection-dataset-smap-msl/data/data/2018-05-19_15.00.10/y_hat/T-5.npy\n",
      "/kaggle/input/nasa-anomaly-detection-dataset-smap-msl/data/data/2018-05-19_15.00.10/y_hat/A-4.npy\n",
      "/kaggle/input/nasa-anomaly-detection-dataset-smap-msl/data/data/2018-05-19_15.00.10/y_hat/P-3.npy\n",
      "/kaggle/input/nasa-anomaly-detection-dataset-smap-msl/data/data/2018-05-19_15.00.10/y_hat/F-1.npy\n",
      "/kaggle/input/nasa-anomaly-detection-dataset-smap-msl/data/data/2018-05-19_15.00.10/y_hat/F-5.npy\n",
      "/kaggle/input/nasa-anomaly-detection-dataset-smap-msl/data/data/2018-05-19_15.00.10/y_hat/P-15.npy\n",
      "/kaggle/input/nasa-anomaly-detection-dataset-smap-msl/data/data/2018-05-19_15.00.10/y_hat/A-5.npy\n",
      "/kaggle/input/nasa-anomaly-detection-dataset-smap-msl/data/data/2018-05-19_15.00.10/y_hat/T-10.npy\n",
      "/kaggle/input/nasa-anomaly-detection-dataset-smap-msl/data/data/2018-05-19_15.00.10/y_hat/D-6.npy\n",
      "/kaggle/input/nasa-anomaly-detection-dataset-smap-msl/data/data/2018-05-19_15.00.10/y_hat/D-12.npy\n",
      "/kaggle/input/nasa-anomaly-detection-dataset-smap-msl/data/data/2018-05-19_15.00.10/y_hat/A-6.npy\n",
      "/kaggle/input/nasa-anomaly-detection-dataset-smap-msl/data/data/2018-05-19_15.00.10/y_hat/D-1.npy\n",
      "/kaggle/input/nasa-anomaly-detection-dataset-smap-msl/data/data/2018-05-19_15.00.10/y_hat/M-7.npy\n",
      "/kaggle/input/nasa-anomaly-detection-dataset-smap-msl/data/data/2018-05-19_15.00.10/y_hat/A-3.npy\n",
      "/kaggle/input/nasa-anomaly-detection-dataset-smap-msl/data/data/2018-05-19_15.00.10/y_hat/D-15.npy\n",
      "/kaggle/input/nasa-anomaly-detection-dataset-smap-msl/data/data/2018-05-19_15.00.10/y_hat/F-4.npy\n",
      "/kaggle/input/nasa-anomaly-detection-dataset-smap-msl/data/data/2018-05-19_15.00.10/y_hat/A-1.npy\n",
      "/kaggle/input/nasa-anomaly-detection-dataset-smap-msl/data/data/2018-05-19_15.00.10/y_hat/P-1.npy\n",
      "/kaggle/input/nasa-anomaly-detection-dataset-smap-msl/data/data/2018-05-19_15.00.10/y_hat/D-16.npy\n",
      "/kaggle/input/nasa-anomaly-detection-dataset-smap-msl/data/data/2018-05-19_15.00.10/y_hat/G-2.npy\n",
      "/kaggle/input/nasa-anomaly-detection-dataset-smap-msl/data/data/2018-05-19_15.00.10/y_hat/P-7.npy\n",
      "/kaggle/input/nasa-anomaly-detection-dataset-smap-msl/data/data/2018-05-19_15.00.10/y_hat/D-14.npy\n",
      "/kaggle/input/nasa-anomaly-detection-dataset-smap-msl/data/data/2018-05-19_15.00.10/y_hat/E-11.npy\n",
      "/kaggle/input/nasa-anomaly-detection-dataset-smap-msl/data/data/2018-05-19_15.00.10/y_hat/E-1.npy\n",
      "/kaggle/input/nasa-anomaly-detection-dataset-smap-msl/data/data/2018-05-19_15.00.10/y_hat/S-2.npy\n",
      "/kaggle/input/nasa-anomaly-detection-dataset-smap-msl/data/data/2018-05-19_15.00.10/y_hat/T-2.npy\n",
      "/kaggle/input/nasa-anomaly-detection-dataset-smap-msl/data/data/2018-05-19_15.00.10/y_hat/T-8.npy\n",
      "/kaggle/input/nasa-anomaly-detection-dataset-smap-msl/data/data/2018-05-19_15.00.10/y_hat/D-11.npy\n",
      "/kaggle/input/nasa-anomaly-detection-dataset-smap-msl/data/data/2018-05-19_15.00.10/y_hat/D-13.npy\n",
      "/kaggle/input/nasa-anomaly-detection-dataset-smap-msl/data/data/2018-05-19_15.00.10/y_hat/T-1.npy\n",
      "/kaggle/input/nasa-anomaly-detection-dataset-smap-msl/data/data/2018-05-19_15.00.10/y_hat/T-13.npy\n",
      "/kaggle/input/nasa-anomaly-detection-dataset-smap-msl/data/data/2018-05-19_15.00.10/y_hat/E-10.npy\n",
      "/kaggle/input/nasa-anomaly-detection-dataset-smap-msl/data/data/2018-05-19_15.00.10/y_hat/C-2.npy\n",
      "/kaggle/input/nasa-anomaly-detection-dataset-smap-msl/data/data/2018-05-19_15.00.10/y_hat/E-9.npy\n",
      "/kaggle/input/nasa-anomaly-detection-dataset-smap-msl/data/data/2018-05-19_15.00.10/y_hat/E-13.npy\n",
      "/kaggle/input/nasa-anomaly-detection-dataset-smap-msl/data/data/2018-05-19_15.00.10/y_hat/M-1.npy\n",
      "/kaggle/input/nasa-anomaly-detection-dataset-smap-msl/data/data/2018-05-19_15.00.10/y_hat/T-9.npy\n",
      "/kaggle/input/nasa-anomaly-detection-dataset-smap-msl/data/data/2018-05-19_15.00.10/y_hat/M-3.npy\n",
      "/kaggle/input/nasa-anomaly-detection-dataset-smap-msl/data/data/2018-05-19_15.00.10/y_hat/E-3.npy\n",
      "/kaggle/input/nasa-anomaly-detection-dataset-smap-msl/data/data/2018-05-19_15.00.10/y_hat/A-7.npy\n",
      "/kaggle/input/nasa-anomaly-detection-dataset-smap-msl/data/data/2018-05-19_15.00.10/y_hat/D-9.npy\n",
      "/kaggle/input/nasa-anomaly-detection-dataset-smap-msl/data/data/2018-05-19_15.00.10/y_hat/P-14.npy\n",
      "/kaggle/input/nasa-anomaly-detection-dataset-smap-msl/data/data/2018-05-19_15.00.10/y_hat/P-4.npy\n",
      "/kaggle/input/nasa-anomaly-detection-dataset-smap-msl/data/data/2018-05-19_15.00.10/y_hat/E-8.npy\n",
      "/kaggle/input/nasa-anomaly-detection-dataset-smap-msl/data/data/2018-05-19_15.00.10/y_hat/F-8.npy\n",
      "/kaggle/input/nasa-anomaly-detection-dataset-smap-msl/data/data/2018-05-19_15.00.10/y_hat/D-8.npy\n",
      "/kaggle/input/nasa-anomaly-detection-dataset-smap-msl/data/data/2018-05-19_15.00.10/y_hat/G-7.npy\n",
      "/kaggle/input/nasa-anomaly-detection-dataset-smap-msl/data/data/2018-05-19_15.00.10/y_hat/C-1.npy\n",
      "/kaggle/input/nasa-anomaly-detection-dataset-smap-msl/data/data/2018-05-19_15.00.10/y_hat/M-6.npy\n",
      "/kaggle/input/nasa-anomaly-detection-dataset-smap-msl/data/data/2018-05-19_15.00.10/y_hat/A-9.npy\n",
      "/kaggle/input/nasa-anomaly-detection-dataset-smap-msl/data/data/2018-05-19_15.00.10/y_hat/M-2.npy\n",
      "/kaggle/input/nasa-anomaly-detection-dataset-smap-msl/data/data/2018-05-19_15.00.10/y_hat/F-7.npy\n",
      "/kaggle/input/nasa-anomaly-detection-dataset-smap-msl/data/data/2018-05-19_15.00.10/y_hat/E-6.npy\n",
      "/kaggle/input/nasa-anomaly-detection-dataset-smap-msl/data/data/2018-05-19_15.00.10/y_hat/D-2.npy\n",
      "/kaggle/input/nasa-anomaly-detection-dataset-smap-msl/data/data/2018-05-19_15.00.10/y_hat/G-4.npy\n",
      "/kaggle/input/nasa-anomaly-detection-dataset-smap-msl/data/data/2018-05-19_15.00.10/y_hat/B-1.npy\n",
      "/kaggle/input/nasa-anomaly-detection-dataset-smap-msl/data/data/2018-05-19_15.00.10/y_hat/D-5.npy\n",
      "/kaggle/input/nasa-anomaly-detection-dataset-smap-msl/data/data/2018-05-19_15.00.10/y_hat/T-12.npy\n",
      "/kaggle/input/nasa-anomaly-detection-dataset-smap-msl/data/data/2018-05-19_15.00.10/y_hat/F-2.npy\n",
      "/kaggle/input/nasa-anomaly-detection-dataset-smap-msl/data/data/2018-05-19_15.00.10/y_hat/A-2.npy\n",
      "/kaggle/input/nasa-anomaly-detection-dataset-smap-msl/data/data/2018-05-19_15.00.10/y_hat/P-10.npy\n",
      "/kaggle/input/nasa-anomaly-detection-dataset-smap-msl/data/data/2018-05-19_15.00.10/y_hat/E-2.npy\n",
      "/kaggle/input/nasa-anomaly-detection-dataset-smap-msl/data/data/2018-05-19_15.00.10/models/P-15.h5\n",
      "/kaggle/input/nasa-anomaly-detection-dataset-smap-msl/data/data/2018-05-19_15.00.10/models/E-10.h5\n",
      "/kaggle/input/nasa-anomaly-detection-dataset-smap-msl/data/data/2018-05-19_15.00.10/models/F-1.h5\n",
      "/kaggle/input/nasa-anomaly-detection-dataset-smap-msl/data/data/2018-05-19_15.00.10/models/B-1.h5\n",
      "/kaggle/input/nasa-anomaly-detection-dataset-smap-msl/data/data/2018-05-19_15.00.10/models/E-1.h5\n",
      "/kaggle/input/nasa-anomaly-detection-dataset-smap-msl/data/data/2018-05-19_15.00.10/models/A-3.h5\n",
      "/kaggle/input/nasa-anomaly-detection-dataset-smap-msl/data/data/2018-05-19_15.00.10/models/D-8.h5\n",
      "/kaggle/input/nasa-anomaly-detection-dataset-smap-msl/data/data/2018-05-19_15.00.10/models/G-1.h5\n",
      "/kaggle/input/nasa-anomaly-detection-dataset-smap-msl/data/data/2018-05-19_15.00.10/models/G-3.h5\n",
      "/kaggle/input/nasa-anomaly-detection-dataset-smap-msl/data/data/2018-05-19_15.00.10/models/A-1.h5\n",
      "/kaggle/input/nasa-anomaly-detection-dataset-smap-msl/data/data/2018-05-19_15.00.10/models/E-8.h5\n",
      "/kaggle/input/nasa-anomaly-detection-dataset-smap-msl/data/data/2018-05-19_15.00.10/models/P-2.h5\n",
      "/kaggle/input/nasa-anomaly-detection-dataset-smap-msl/data/data/2018-05-19_15.00.10/models/P-14.h5\n",
      "/kaggle/input/nasa-anomaly-detection-dataset-smap-msl/data/data/2018-05-19_15.00.10/models/G-7.h5\n",
      "/kaggle/input/nasa-anomaly-detection-dataset-smap-msl/data/data/2018-05-19_15.00.10/models/A-9.h5\n",
      "/kaggle/input/nasa-anomaly-detection-dataset-smap-msl/data/data/2018-05-19_15.00.10/models/P-4.h5\n",
      "/kaggle/input/nasa-anomaly-detection-dataset-smap-msl/data/data/2018-05-19_15.00.10/models/F-2.h5\n",
      "/kaggle/input/nasa-anomaly-detection-dataset-smap-msl/data/data/2018-05-19_15.00.10/models/E-7.h5\n",
      "/kaggle/input/nasa-anomaly-detection-dataset-smap-msl/data/data/2018-05-19_15.00.10/models/D-12.h5\n",
      "/kaggle/input/nasa-anomaly-detection-dataset-smap-msl/data/data/2018-05-19_15.00.10/models/G-6.h5\n",
      "/kaggle/input/nasa-anomaly-detection-dataset-smap-msl/data/data/2018-05-19_15.00.10/models/C-2.h5\n",
      "/kaggle/input/nasa-anomaly-detection-dataset-smap-msl/data/data/2018-05-19_15.00.10/models/F-7.h5\n",
      "/kaggle/input/nasa-anomaly-detection-dataset-smap-msl/data/data/2018-05-19_15.00.10/models/E-3.h5\n",
      "/kaggle/input/nasa-anomaly-detection-dataset-smap-msl/data/data/2018-05-19_15.00.10/models/D-7.h5\n",
      "/kaggle/input/nasa-anomaly-detection-dataset-smap-msl/data/data/2018-05-19_15.00.10/models/E-9.h5\n",
      "/kaggle/input/nasa-anomaly-detection-dataset-smap-msl/data/data/2018-05-19_15.00.10/models/M-5.h5\n",
      "/kaggle/input/nasa-anomaly-detection-dataset-smap-msl/data/data/2018-05-19_15.00.10/models/T-3.h5\n",
      "/kaggle/input/nasa-anomaly-detection-dataset-smap-msl/data/data/2018-05-19_15.00.10/models/D-15.h5\n",
      "/kaggle/input/nasa-anomaly-detection-dataset-smap-msl/data/data/2018-05-19_15.00.10/models/E-12.h5\n",
      "/kaggle/input/nasa-anomaly-detection-dataset-smap-msl/data/data/2018-05-19_15.00.10/models/A-2.h5\n",
      "/kaggle/input/nasa-anomaly-detection-dataset-smap-msl/data/data/2018-05-19_15.00.10/models/D-5.h5\n",
      "/kaggle/input/nasa-anomaly-detection-dataset-smap-msl/data/data/2018-05-19_15.00.10/models/P-7.h5\n",
      "/kaggle/input/nasa-anomaly-detection-dataset-smap-msl/data/data/2018-05-19_15.00.10/models/T-2.h5\n",
      "/kaggle/input/nasa-anomaly-detection-dataset-smap-msl/data/data/2018-05-19_15.00.10/models/T-13.h5\n",
      "/kaggle/input/nasa-anomaly-detection-dataset-smap-msl/data/data/2018-05-19_15.00.10/models/D-16.h5\n",
      "/kaggle/input/nasa-anomaly-detection-dataset-smap-msl/data/data/2018-05-19_15.00.10/models/D-11.h5\n",
      "/kaggle/input/nasa-anomaly-detection-dataset-smap-msl/data/data/2018-05-19_15.00.10/models/M-2.h5\n",
      "/kaggle/input/nasa-anomaly-detection-dataset-smap-msl/data/data/2018-05-19_15.00.10/models/M-3.h5\n",
      "/kaggle/input/nasa-anomaly-detection-dataset-smap-msl/data/data/2018-05-19_15.00.10/models/G-2.h5\n",
      "/kaggle/input/nasa-anomaly-detection-dataset-smap-msl/data/data/2018-05-19_15.00.10/models/D-4.h5\n",
      "/kaggle/input/nasa-anomaly-detection-dataset-smap-msl/data/data/2018-05-19_15.00.10/models/G-4.h5\n",
      "/kaggle/input/nasa-anomaly-detection-dataset-smap-msl/data/data/2018-05-19_15.00.10/models/E-11.h5\n",
      "/kaggle/input/nasa-anomaly-detection-dataset-smap-msl/data/data/2018-05-19_15.00.10/models/A-6.h5\n",
      "/kaggle/input/nasa-anomaly-detection-dataset-smap-msl/data/data/2018-05-19_15.00.10/models/T-8.h5\n",
      "/kaggle/input/nasa-anomaly-detection-dataset-smap-msl/data/data/2018-05-19_15.00.10/models/P-3.h5\n",
      "/kaggle/input/nasa-anomaly-detection-dataset-smap-msl/data/data/2018-05-19_15.00.10/models/T-9.h5\n",
      "/kaggle/input/nasa-anomaly-detection-dataset-smap-msl/data/data/2018-05-19_15.00.10/models/T-5.h5\n",
      "/kaggle/input/nasa-anomaly-detection-dataset-smap-msl/data/data/2018-05-19_15.00.10/models/D-1.h5\n",
      "/kaggle/input/nasa-anomaly-detection-dataset-smap-msl/data/data/2018-05-19_15.00.10/models/A-8.h5\n",
      "/kaggle/input/nasa-anomaly-detection-dataset-smap-msl/data/data/2018-05-19_15.00.10/models/E-4.h5\n",
      "/kaggle/input/nasa-anomaly-detection-dataset-smap-msl/data/data/2018-05-19_15.00.10/models/A-4.h5\n",
      "/kaggle/input/nasa-anomaly-detection-dataset-smap-msl/data/data/2018-05-19_15.00.10/models/A-5.h5\n",
      "/kaggle/input/nasa-anomaly-detection-dataset-smap-msl/data/data/2018-05-19_15.00.10/models/S-2.h5\n",
      "/kaggle/input/nasa-anomaly-detection-dataset-smap-msl/data/data/2018-05-19_15.00.10/models/D-14.h5\n",
      "/kaggle/input/nasa-anomaly-detection-dataset-smap-msl/data/data/2018-05-19_15.00.10/models/T-1.h5\n",
      "/kaggle/input/nasa-anomaly-detection-dataset-smap-msl/data/data/2018-05-19_15.00.10/models/M-4.h5\n",
      "/kaggle/input/nasa-anomaly-detection-dataset-smap-msl/data/data/2018-05-19_15.00.10/models/P-10.h5\n",
      "/kaggle/input/nasa-anomaly-detection-dataset-smap-msl/data/data/2018-05-19_15.00.10/models/D-3.h5\n",
      "/kaggle/input/nasa-anomaly-detection-dataset-smap-msl/data/data/2018-05-19_15.00.10/models/F-8.h5\n",
      "/kaggle/input/nasa-anomaly-detection-dataset-smap-msl/data/data/2018-05-19_15.00.10/models/M-6.h5\n",
      "/kaggle/input/nasa-anomaly-detection-dataset-smap-msl/data/data/2018-05-19_15.00.10/models/D-6.h5\n",
      "/kaggle/input/nasa-anomaly-detection-dataset-smap-msl/data/data/2018-05-19_15.00.10/models/T-4.h5\n",
      "/kaggle/input/nasa-anomaly-detection-dataset-smap-msl/data/data/2018-05-19_15.00.10/models/F-4.h5\n",
      "/kaggle/input/nasa-anomaly-detection-dataset-smap-msl/data/data/2018-05-19_15.00.10/models/R-1.h5\n",
      "/kaggle/input/nasa-anomaly-detection-dataset-smap-msl/data/data/2018-05-19_15.00.10/models/E-6.h5\n",
      "/kaggle/input/nasa-anomaly-detection-dataset-smap-msl/data/data/2018-05-19_15.00.10/models/F-5.h5\n",
      "/kaggle/input/nasa-anomaly-detection-dataset-smap-msl/data/data/2018-05-19_15.00.10/models/S-1.h5\n",
      "/kaggle/input/nasa-anomaly-detection-dataset-smap-msl/data/data/2018-05-19_15.00.10/models/D-9.h5\n",
      "/kaggle/input/nasa-anomaly-detection-dataset-smap-msl/data/data/2018-05-19_15.00.10/models/M-1.h5\n",
      "/kaggle/input/nasa-anomaly-detection-dataset-smap-msl/data/data/2018-05-19_15.00.10/models/C-1.h5\n",
      "/kaggle/input/nasa-anomaly-detection-dataset-smap-msl/data/data/2018-05-19_15.00.10/models/P-1.h5\n",
      "/kaggle/input/nasa-anomaly-detection-dataset-smap-msl/data/data/2018-05-19_15.00.10/models/M-7.h5\n",
      "/kaggle/input/nasa-anomaly-detection-dataset-smap-msl/data/data/2018-05-19_15.00.10/models/A-7.h5\n",
      "/kaggle/input/nasa-anomaly-detection-dataset-smap-msl/data/data/2018-05-19_15.00.10/models/D-13.h5\n",
      "/kaggle/input/nasa-anomaly-detection-dataset-smap-msl/data/data/2018-05-19_15.00.10/models/F-3.h5\n",
      "/kaggle/input/nasa-anomaly-detection-dataset-smap-msl/data/data/2018-05-19_15.00.10/models/P-11.h5\n",
      "/kaggle/input/nasa-anomaly-detection-dataset-smap-msl/data/data/2018-05-19_15.00.10/models/E-13.h5\n",
      "/kaggle/input/nasa-anomaly-detection-dataset-smap-msl/data/data/2018-05-19_15.00.10/models/T-10.h5\n",
      "/kaggle/input/nasa-anomaly-detection-dataset-smap-msl/data/data/2018-05-19_15.00.10/models/E-5.h5\n",
      "/kaggle/input/nasa-anomaly-detection-dataset-smap-msl/data/data/2018-05-19_15.00.10/models/E-2.h5\n",
      "/kaggle/input/nasa-anomaly-detection-dataset-smap-msl/data/data/2018-05-19_15.00.10/models/T-12.h5\n",
      "/kaggle/input/nasa-anomaly-detection-dataset-smap-msl/data/data/2018-05-19_15.00.10/models/D-2.h5\n",
      "/kaggle/input/nasa-anomaly-detection-dataset-smap-msl/data/data/test/M-4.npy\n",
      "/kaggle/input/nasa-anomaly-detection-dataset-smap-msl/data/data/test/G-6.npy\n",
      "/kaggle/input/nasa-anomaly-detection-dataset-smap-msl/data/data/test/S-1.npy\n",
      "/kaggle/input/nasa-anomaly-detection-dataset-smap-msl/data/data/test/D-3.npy\n",
      "/kaggle/input/nasa-anomaly-detection-dataset-smap-msl/data/data/test/G-3.npy\n",
      "/kaggle/input/nasa-anomaly-detection-dataset-smap-msl/data/data/test/P-2.npy\n",
      "/kaggle/input/nasa-anomaly-detection-dataset-smap-msl/data/data/test/E-5.npy\n",
      "/kaggle/input/nasa-anomaly-detection-dataset-smap-msl/data/data/test/M-5.npy\n",
      "/kaggle/input/nasa-anomaly-detection-dataset-smap-msl/data/data/test/E-7.npy\n",
      "/kaggle/input/nasa-anomaly-detection-dataset-smap-msl/data/data/test/P-11.npy\n",
      "/kaggle/input/nasa-anomaly-detection-dataset-smap-msl/data/data/test/T-3.npy\n",
      "/kaggle/input/nasa-anomaly-detection-dataset-smap-msl/data/data/test/E-4.npy\n",
      "/kaggle/input/nasa-anomaly-detection-dataset-smap-msl/data/data/test/E-12.npy\n",
      "/kaggle/input/nasa-anomaly-detection-dataset-smap-msl/data/data/test/D-4.npy\n",
      "/kaggle/input/nasa-anomaly-detection-dataset-smap-msl/data/data/test/R-1.npy\n",
      "/kaggle/input/nasa-anomaly-detection-dataset-smap-msl/data/data/test/A-8.npy\n",
      "/kaggle/input/nasa-anomaly-detection-dataset-smap-msl/data/data/test/T-4.npy\n",
      "/kaggle/input/nasa-anomaly-detection-dataset-smap-msl/data/data/test/D-7.npy\n",
      "/kaggle/input/nasa-anomaly-detection-dataset-smap-msl/data/data/test/F-3.npy\n",
      "/kaggle/input/nasa-anomaly-detection-dataset-smap-msl/data/data/test/G-1.npy\n",
      "/kaggle/input/nasa-anomaly-detection-dataset-smap-msl/data/data/test/T-5.npy\n",
      "/kaggle/input/nasa-anomaly-detection-dataset-smap-msl/data/data/test/A-4.npy\n",
      "/kaggle/input/nasa-anomaly-detection-dataset-smap-msl/data/data/test/P-3.npy\n",
      "/kaggle/input/nasa-anomaly-detection-dataset-smap-msl/data/data/test/F-1.npy\n",
      "/kaggle/input/nasa-anomaly-detection-dataset-smap-msl/data/data/test/F-5.npy\n",
      "/kaggle/input/nasa-anomaly-detection-dataset-smap-msl/data/data/test/P-15.npy\n",
      "/kaggle/input/nasa-anomaly-detection-dataset-smap-msl/data/data/test/A-5.npy\n",
      "/kaggle/input/nasa-anomaly-detection-dataset-smap-msl/data/data/test/T-10.npy\n",
      "/kaggle/input/nasa-anomaly-detection-dataset-smap-msl/data/data/test/D-6.npy\n",
      "/kaggle/input/nasa-anomaly-detection-dataset-smap-msl/data/data/test/D-12.npy\n",
      "/kaggle/input/nasa-anomaly-detection-dataset-smap-msl/data/data/test/A-6.npy\n",
      "/kaggle/input/nasa-anomaly-detection-dataset-smap-msl/data/data/test/D-1.npy\n",
      "/kaggle/input/nasa-anomaly-detection-dataset-smap-msl/data/data/test/M-7.npy\n",
      "/kaggle/input/nasa-anomaly-detection-dataset-smap-msl/data/data/test/A-3.npy\n",
      "/kaggle/input/nasa-anomaly-detection-dataset-smap-msl/data/data/test/D-15.npy\n",
      "/kaggle/input/nasa-anomaly-detection-dataset-smap-msl/data/data/test/F-4.npy\n",
      "/kaggle/input/nasa-anomaly-detection-dataset-smap-msl/data/data/test/A-1.npy\n",
      "/kaggle/input/nasa-anomaly-detection-dataset-smap-msl/data/data/test/P-1.npy\n",
      "/kaggle/input/nasa-anomaly-detection-dataset-smap-msl/data/data/test/D-16.npy\n",
      "/kaggle/input/nasa-anomaly-detection-dataset-smap-msl/data/data/test/G-2.npy\n",
      "/kaggle/input/nasa-anomaly-detection-dataset-smap-msl/data/data/test/P-7.npy\n",
      "/kaggle/input/nasa-anomaly-detection-dataset-smap-msl/data/data/test/D-14.npy\n",
      "/kaggle/input/nasa-anomaly-detection-dataset-smap-msl/data/data/test/E-11.npy\n",
      "/kaggle/input/nasa-anomaly-detection-dataset-smap-msl/data/data/test/E-1.npy\n",
      "/kaggle/input/nasa-anomaly-detection-dataset-smap-msl/data/data/test/S-2.npy\n",
      "/kaggle/input/nasa-anomaly-detection-dataset-smap-msl/data/data/test/T-2.npy\n",
      "/kaggle/input/nasa-anomaly-detection-dataset-smap-msl/data/data/test/T-8.npy\n",
      "/kaggle/input/nasa-anomaly-detection-dataset-smap-msl/data/data/test/D-11.npy\n",
      "/kaggle/input/nasa-anomaly-detection-dataset-smap-msl/data/data/test/D-13.npy\n",
      "/kaggle/input/nasa-anomaly-detection-dataset-smap-msl/data/data/test/T-1.npy\n",
      "/kaggle/input/nasa-anomaly-detection-dataset-smap-msl/data/data/test/T-13.npy\n",
      "/kaggle/input/nasa-anomaly-detection-dataset-smap-msl/data/data/test/E-10.npy\n",
      "/kaggle/input/nasa-anomaly-detection-dataset-smap-msl/data/data/test/C-2.npy\n",
      "/kaggle/input/nasa-anomaly-detection-dataset-smap-msl/data/data/test/E-9.npy\n",
      "/kaggle/input/nasa-anomaly-detection-dataset-smap-msl/data/data/test/E-13.npy\n",
      "/kaggle/input/nasa-anomaly-detection-dataset-smap-msl/data/data/test/M-1.npy\n",
      "/kaggle/input/nasa-anomaly-detection-dataset-smap-msl/data/data/test/T-9.npy\n",
      "/kaggle/input/nasa-anomaly-detection-dataset-smap-msl/data/data/test/M-3.npy\n",
      "/kaggle/input/nasa-anomaly-detection-dataset-smap-msl/data/data/test/E-3.npy\n",
      "/kaggle/input/nasa-anomaly-detection-dataset-smap-msl/data/data/test/A-7.npy\n",
      "/kaggle/input/nasa-anomaly-detection-dataset-smap-msl/data/data/test/D-9.npy\n",
      "/kaggle/input/nasa-anomaly-detection-dataset-smap-msl/data/data/test/P-14.npy\n",
      "/kaggle/input/nasa-anomaly-detection-dataset-smap-msl/data/data/test/P-4.npy\n",
      "/kaggle/input/nasa-anomaly-detection-dataset-smap-msl/data/data/test/E-8.npy\n",
      "/kaggle/input/nasa-anomaly-detection-dataset-smap-msl/data/data/test/F-8.npy\n",
      "/kaggle/input/nasa-anomaly-detection-dataset-smap-msl/data/data/test/D-8.npy\n",
      "/kaggle/input/nasa-anomaly-detection-dataset-smap-msl/data/data/test/G-7.npy\n",
      "/kaggle/input/nasa-anomaly-detection-dataset-smap-msl/data/data/test/C-1.npy\n",
      "/kaggle/input/nasa-anomaly-detection-dataset-smap-msl/data/data/test/M-6.npy\n",
      "/kaggle/input/nasa-anomaly-detection-dataset-smap-msl/data/data/test/A-9.npy\n",
      "/kaggle/input/nasa-anomaly-detection-dataset-smap-msl/data/data/test/M-2.npy\n",
      "/kaggle/input/nasa-anomaly-detection-dataset-smap-msl/data/data/test/F-7.npy\n",
      "/kaggle/input/nasa-anomaly-detection-dataset-smap-msl/data/data/test/E-6.npy\n",
      "/kaggle/input/nasa-anomaly-detection-dataset-smap-msl/data/data/test/D-2.npy\n",
      "/kaggle/input/nasa-anomaly-detection-dataset-smap-msl/data/data/test/G-4.npy\n",
      "/kaggle/input/nasa-anomaly-detection-dataset-smap-msl/data/data/test/B-1.npy\n",
      "/kaggle/input/nasa-anomaly-detection-dataset-smap-msl/data/data/test/D-5.npy\n",
      "/kaggle/input/nasa-anomaly-detection-dataset-smap-msl/data/data/test/T-12.npy\n",
      "/kaggle/input/nasa-anomaly-detection-dataset-smap-msl/data/data/test/F-2.npy\n",
      "/kaggle/input/nasa-anomaly-detection-dataset-smap-msl/data/data/test/A-2.npy\n",
      "/kaggle/input/nasa-anomaly-detection-dataset-smap-msl/data/data/test/P-10.npy\n",
      "/kaggle/input/nasa-anomaly-detection-dataset-smap-msl/data/data/test/E-2.npy\n",
      "/kaggle/input/nasa-anomaly-detection-dataset-smap-msl/data/data/train/M-4.npy\n",
      "/kaggle/input/nasa-anomaly-detection-dataset-smap-msl/data/data/train/G-6.npy\n",
      "/kaggle/input/nasa-anomaly-detection-dataset-smap-msl/data/data/train/S-1.npy\n",
      "/kaggle/input/nasa-anomaly-detection-dataset-smap-msl/data/data/train/D-3.npy\n",
      "/kaggle/input/nasa-anomaly-detection-dataset-smap-msl/data/data/train/G-3.npy\n",
      "/kaggle/input/nasa-anomaly-detection-dataset-smap-msl/data/data/train/P-2.npy\n",
      "/kaggle/input/nasa-anomaly-detection-dataset-smap-msl/data/data/train/E-5.npy\n",
      "/kaggle/input/nasa-anomaly-detection-dataset-smap-msl/data/data/train/M-5.npy\n",
      "/kaggle/input/nasa-anomaly-detection-dataset-smap-msl/data/data/train/E-7.npy\n",
      "/kaggle/input/nasa-anomaly-detection-dataset-smap-msl/data/data/train/P-11.npy\n",
      "/kaggle/input/nasa-anomaly-detection-dataset-smap-msl/data/data/train/T-3.npy\n",
      "/kaggle/input/nasa-anomaly-detection-dataset-smap-msl/data/data/train/E-4.npy\n",
      "/kaggle/input/nasa-anomaly-detection-dataset-smap-msl/data/data/train/E-12.npy\n",
      "/kaggle/input/nasa-anomaly-detection-dataset-smap-msl/data/data/train/D-4.npy\n",
      "/kaggle/input/nasa-anomaly-detection-dataset-smap-msl/data/data/train/R-1.npy\n",
      "/kaggle/input/nasa-anomaly-detection-dataset-smap-msl/data/data/train/A-8.npy\n",
      "/kaggle/input/nasa-anomaly-detection-dataset-smap-msl/data/data/train/T-4.npy\n",
      "/kaggle/input/nasa-anomaly-detection-dataset-smap-msl/data/data/train/D-7.npy\n",
      "/kaggle/input/nasa-anomaly-detection-dataset-smap-msl/data/data/train/F-3.npy\n",
      "/kaggle/input/nasa-anomaly-detection-dataset-smap-msl/data/data/train/G-1.npy\n",
      "/kaggle/input/nasa-anomaly-detection-dataset-smap-msl/data/data/train/T-5.npy\n",
      "/kaggle/input/nasa-anomaly-detection-dataset-smap-msl/data/data/train/A-4.npy\n",
      "/kaggle/input/nasa-anomaly-detection-dataset-smap-msl/data/data/train/P-3.npy\n",
      "/kaggle/input/nasa-anomaly-detection-dataset-smap-msl/data/data/train/F-1.npy\n",
      "/kaggle/input/nasa-anomaly-detection-dataset-smap-msl/data/data/train/F-5.npy\n",
      "/kaggle/input/nasa-anomaly-detection-dataset-smap-msl/data/data/train/P-15.npy\n",
      "/kaggle/input/nasa-anomaly-detection-dataset-smap-msl/data/data/train/A-5.npy\n",
      "/kaggle/input/nasa-anomaly-detection-dataset-smap-msl/data/data/train/T-10.npy\n",
      "/kaggle/input/nasa-anomaly-detection-dataset-smap-msl/data/data/train/D-6.npy\n",
      "/kaggle/input/nasa-anomaly-detection-dataset-smap-msl/data/data/train/D-12.npy\n",
      "/kaggle/input/nasa-anomaly-detection-dataset-smap-msl/data/data/train/A-6.npy\n",
      "/kaggle/input/nasa-anomaly-detection-dataset-smap-msl/data/data/train/D-1.npy\n",
      "/kaggle/input/nasa-anomaly-detection-dataset-smap-msl/data/data/train/M-7.npy\n",
      "/kaggle/input/nasa-anomaly-detection-dataset-smap-msl/data/data/train/A-3.npy\n",
      "/kaggle/input/nasa-anomaly-detection-dataset-smap-msl/data/data/train/D-15.npy\n",
      "/kaggle/input/nasa-anomaly-detection-dataset-smap-msl/data/data/train/F-4.npy\n",
      "/kaggle/input/nasa-anomaly-detection-dataset-smap-msl/data/data/train/A-1.npy\n",
      "/kaggle/input/nasa-anomaly-detection-dataset-smap-msl/data/data/train/P-1.npy\n",
      "/kaggle/input/nasa-anomaly-detection-dataset-smap-msl/data/data/train/D-16.npy\n",
      "/kaggle/input/nasa-anomaly-detection-dataset-smap-msl/data/data/train/G-2.npy\n",
      "/kaggle/input/nasa-anomaly-detection-dataset-smap-msl/data/data/train/P-7.npy\n",
      "/kaggle/input/nasa-anomaly-detection-dataset-smap-msl/data/data/train/D-14.npy\n",
      "/kaggle/input/nasa-anomaly-detection-dataset-smap-msl/data/data/train/E-11.npy\n",
      "/kaggle/input/nasa-anomaly-detection-dataset-smap-msl/data/data/train/E-1.npy\n",
      "/kaggle/input/nasa-anomaly-detection-dataset-smap-msl/data/data/train/S-2.npy\n",
      "/kaggle/input/nasa-anomaly-detection-dataset-smap-msl/data/data/train/T-2.npy\n",
      "/kaggle/input/nasa-anomaly-detection-dataset-smap-msl/data/data/train/T-8.npy\n",
      "/kaggle/input/nasa-anomaly-detection-dataset-smap-msl/data/data/train/D-11.npy\n",
      "/kaggle/input/nasa-anomaly-detection-dataset-smap-msl/data/data/train/D-13.npy\n",
      "/kaggle/input/nasa-anomaly-detection-dataset-smap-msl/data/data/train/T-1.npy\n",
      "/kaggle/input/nasa-anomaly-detection-dataset-smap-msl/data/data/train/T-13.npy\n",
      "/kaggle/input/nasa-anomaly-detection-dataset-smap-msl/data/data/train/E-10.npy\n",
      "/kaggle/input/nasa-anomaly-detection-dataset-smap-msl/data/data/train/C-2.npy\n",
      "/kaggle/input/nasa-anomaly-detection-dataset-smap-msl/data/data/train/E-9.npy\n",
      "/kaggle/input/nasa-anomaly-detection-dataset-smap-msl/data/data/train/E-13.npy\n",
      "/kaggle/input/nasa-anomaly-detection-dataset-smap-msl/data/data/train/M-1.npy\n",
      "/kaggle/input/nasa-anomaly-detection-dataset-smap-msl/data/data/train/T-9.npy\n",
      "/kaggle/input/nasa-anomaly-detection-dataset-smap-msl/data/data/train/M-3.npy\n",
      "/kaggle/input/nasa-anomaly-detection-dataset-smap-msl/data/data/train/E-3.npy\n",
      "/kaggle/input/nasa-anomaly-detection-dataset-smap-msl/data/data/train/A-7.npy\n",
      "/kaggle/input/nasa-anomaly-detection-dataset-smap-msl/data/data/train/D-9.npy\n",
      "/kaggle/input/nasa-anomaly-detection-dataset-smap-msl/data/data/train/P-14.npy\n",
      "/kaggle/input/nasa-anomaly-detection-dataset-smap-msl/data/data/train/P-4.npy\n",
      "/kaggle/input/nasa-anomaly-detection-dataset-smap-msl/data/data/train/E-8.npy\n",
      "/kaggle/input/nasa-anomaly-detection-dataset-smap-msl/data/data/train/F-8.npy\n",
      "/kaggle/input/nasa-anomaly-detection-dataset-smap-msl/data/data/train/D-8.npy\n",
      "/kaggle/input/nasa-anomaly-detection-dataset-smap-msl/data/data/train/G-7.npy\n",
      "/kaggle/input/nasa-anomaly-detection-dataset-smap-msl/data/data/train/C-1.npy\n",
      "/kaggle/input/nasa-anomaly-detection-dataset-smap-msl/data/data/train/M-6.npy\n",
      "/kaggle/input/nasa-anomaly-detection-dataset-smap-msl/data/data/train/A-9.npy\n",
      "/kaggle/input/nasa-anomaly-detection-dataset-smap-msl/data/data/train/M-2.npy\n",
      "/kaggle/input/nasa-anomaly-detection-dataset-smap-msl/data/data/train/F-7.npy\n",
      "/kaggle/input/nasa-anomaly-detection-dataset-smap-msl/data/data/train/E-6.npy\n",
      "/kaggle/input/nasa-anomaly-detection-dataset-smap-msl/data/data/train/D-2.npy\n",
      "/kaggle/input/nasa-anomaly-detection-dataset-smap-msl/data/data/train/G-4.npy\n",
      "/kaggle/input/nasa-anomaly-detection-dataset-smap-msl/data/data/train/B-1.npy\n",
      "/kaggle/input/nasa-anomaly-detection-dataset-smap-msl/data/data/train/D-5.npy\n",
      "/kaggle/input/nasa-anomaly-detection-dataset-smap-msl/data/data/train/T-12.npy\n",
      "/kaggle/input/nasa-anomaly-detection-dataset-smap-msl/data/data/train/F-2.npy\n",
      "/kaggle/input/nasa-anomaly-detection-dataset-smap-msl/data/data/train/A-2.npy\n",
      "/kaggle/input/nasa-anomaly-detection-dataset-smap-msl/data/data/train/P-10.npy\n",
      "/kaggle/input/nasa-anomaly-detection-dataset-smap-msl/data/data/train/E-2.npy\n"
     ]
    }
   ],
   "source": [
    "# This Python 3 environment comes with many helpful analytics libraries installed\n",
    "# It is defined by the kaggle/python Docker image: https://github.com/kaggle/docker-python\n",
    "# For example, here's several helpful packages to load\n",
    "\n",
    "import numpy as np # linear algebra\n",
    "import pandas as pd # data processing, CSV file I/O (e.g. pd.read_csv)\n",
    "\n",
    "# Input data files are available in the read-only \"../input/\" directory\n",
    "# For example, running this (by clicking run or pressing Shift+Enter) will list all files under the input directory\n",
    "\n",
    "import os\n",
    "for dirname, _, filenames in os.walk('/kaggle/input'):\n",
    "    for filename in filenames:\n",
    "        print(os.path.join(dirname, filename))\n",
    "\n",
    "# You can write up to 20GB to the current directory (/kaggle/working/) that gets preserved as output when you create a version using \"Save & Run All\" \n",
    "# You can also write temporary files to /kaggle/temp/, but they won't be saved outside of the current session"
   ]
  },
  {
   "cell_type": "code",
   "execution_count": 2,
   "id": "993c6fb3",
   "metadata": {
    "execution": {
     "iopub.execute_input": "2025-10-03T13:08:05.161167Z",
     "iopub.status.busy": "2025-10-03T13:08:05.160451Z",
     "iopub.status.idle": "2025-10-03T13:08:05.165715Z",
     "shell.execute_reply": "2025-10-03T13:08:05.164726Z"
    },
    "papermill": {
     "duration": 0.011266,
     "end_time": "2025-10-03T13:08:05.167338",
     "exception": false,
     "start_time": "2025-10-03T13:08:05.156072",
     "status": "completed"
    },
    "tags": []
   },
   "outputs": [],
   "source": [
    "import warnings\n",
    "warnings.filterwarnings(\"ignore\")"
   ]
  },
  {
   "cell_type": "code",
   "execution_count": 3,
   "id": "efb4c2e1",
   "metadata": {
    "execution": {
     "iopub.execute_input": "2025-10-03T13:08:05.176167Z",
     "iopub.status.busy": "2025-10-03T13:08:05.175383Z",
     "iopub.status.idle": "2025-10-03T13:08:05.224464Z",
     "shell.execute_reply": "2025-10-03T13:08:05.223680Z"
    },
    "papermill": {
     "duration": 0.054883,
     "end_time": "2025-10-03T13:08:05.225911",
     "exception": false,
     "start_time": "2025-10-03T13:08:05.171028",
     "status": "completed"
    },
    "tags": []
   },
   "outputs": [
    {
     "data": {
      "text/html": [
       "<div>\n",
       "<style scoped>\n",
       "    .dataframe tbody tr th:only-of-type {\n",
       "        vertical-align: middle;\n",
       "    }\n",
       "\n",
       "    .dataframe tbody tr th {\n",
       "        vertical-align: top;\n",
       "    }\n",
       "\n",
       "    .dataframe thead th {\n",
       "        text-align: right;\n",
       "    }\n",
       "</style>\n",
       "<table border=\"1\" class=\"dataframe\">\n",
       "  <thead>\n",
       "    <tr style=\"text-align: right;\">\n",
       "      <th></th>\n",
       "      <th>chan_id</th>\n",
       "      <th>spacecraft</th>\n",
       "      <th>anomaly_sequences</th>\n",
       "      <th>class</th>\n",
       "      <th>num_values</th>\n",
       "    </tr>\n",
       "  </thead>\n",
       "  <tbody>\n",
       "    <tr>\n",
       "      <th>0</th>\n",
       "      <td>P-1</td>\n",
       "      <td>SMAP</td>\n",
       "      <td>[[2149, 2349], [4536, 4844], [3539, 3779]]</td>\n",
       "      <td>[contextual, contextual, contextual]</td>\n",
       "      <td>8505</td>\n",
       "    </tr>\n",
       "    <tr>\n",
       "      <th>1</th>\n",
       "      <td>S-1</td>\n",
       "      <td>SMAP</td>\n",
       "      <td>[[5300, 5747]]</td>\n",
       "      <td>[point]</td>\n",
       "      <td>7331</td>\n",
       "    </tr>\n",
       "    <tr>\n",
       "      <th>2</th>\n",
       "      <td>E-1</td>\n",
       "      <td>SMAP</td>\n",
       "      <td>[[5000, 5030], [5610, 6086]]</td>\n",
       "      <td>[contextual, contextual]</td>\n",
       "      <td>8516</td>\n",
       "    </tr>\n",
       "    <tr>\n",
       "      <th>3</th>\n",
       "      <td>E-2</td>\n",
       "      <td>SMAP</td>\n",
       "      <td>[[5598, 6995]]</td>\n",
       "      <td>[point]</td>\n",
       "      <td>8532</td>\n",
       "    </tr>\n",
       "    <tr>\n",
       "      <th>4</th>\n",
       "      <td>E-3</td>\n",
       "      <td>SMAP</td>\n",
       "      <td>[[5094, 8306]]</td>\n",
       "      <td>[point]</td>\n",
       "      <td>8307</td>\n",
       "    </tr>\n",
       "  </tbody>\n",
       "</table>\n",
       "</div>"
      ],
      "text/plain": [
       "  chan_id spacecraft                           anomaly_sequences  \\\n",
       "0     P-1       SMAP  [[2149, 2349], [4536, 4844], [3539, 3779]]   \n",
       "1     S-1       SMAP                              [[5300, 5747]]   \n",
       "2     E-1       SMAP                [[5000, 5030], [5610, 6086]]   \n",
       "3     E-2       SMAP                              [[5598, 6995]]   \n",
       "4     E-3       SMAP                              [[5094, 8306]]   \n",
       "\n",
       "                                  class  num_values  \n",
       "0  [contextual, contextual, contextual]        8505  \n",
       "1                               [point]        7331  \n",
       "2              [contextual, contextual]        8516  \n",
       "3                               [point]        8532  \n",
       "4                               [point]        8307  "
      ]
     },
     "execution_count": 3,
     "metadata": {},
     "output_type": "execute_result"
    }
   ],
   "source": [
    "df = pd.read_csv('/kaggle/input/nasa-anomaly-detection-dataset-smap-msl/labeled_anomalies.csv')\n",
    "df.head()"
   ]
  },
  {
   "cell_type": "code",
   "execution_count": 4,
   "id": "0f28fc97",
   "metadata": {
    "execution": {
     "iopub.execute_input": "2025-10-03T13:08:05.234795Z",
     "iopub.status.busy": "2025-10-03T13:08:05.234130Z",
     "iopub.status.idle": "2025-10-03T13:08:05.241644Z",
     "shell.execute_reply": "2025-10-03T13:08:05.240691Z"
    },
    "papermill": {
     "duration": 0.013439,
     "end_time": "2025-10-03T13:08:05.243103",
     "exception": false,
     "start_time": "2025-10-03T13:08:05.229664",
     "status": "completed"
    },
    "tags": []
   },
   "outputs": [
    {
     "data": {
      "text/plain": [
       "Index(['chan_id', 'spacecraft', 'anomaly_sequences', 'class', 'num_values'], dtype='object')"
      ]
     },
     "execution_count": 4,
     "metadata": {},
     "output_type": "execute_result"
    }
   ],
   "source": [
    "df.columns"
   ]
  },
  {
   "cell_type": "code",
   "execution_count": 5,
   "id": "e850c176",
   "metadata": {
    "execution": {
     "iopub.execute_input": "2025-10-03T13:08:05.252747Z",
     "iopub.status.busy": "2025-10-03T13:08:05.251709Z",
     "iopub.status.idle": "2025-10-03T13:08:07.416227Z",
     "shell.execute_reply": "2025-10-03T13:08:07.415359Z"
    },
    "papermill": {
     "duration": 2.170607,
     "end_time": "2025-10-03T13:08:07.417677",
     "exception": false,
     "start_time": "2025-10-03T13:08:05.247070",
     "status": "completed"
    },
    "tags": []
   },
   "outputs": [
    {
     "data": {
      "image/png": "[encoded data removed]",
      "text/plain": [
       "<Figure size 640x480 with 1 Axes>"
      ]
     },
     "metadata": {},
     "output_type": "display_data"
    }
   ],
   "source": [
    "import matplotlib.pyplot as plt\n",
    "import seaborn as sns\n",
    "\n",
    "# Class distribution\n",
    "sns.countplot(data=df, x='class')\n",
    "plt.title(\"Anomaly vs. No Anomaly\")\n",
    "plt.show()"
   ]
  },
  {
   "cell_type": "code",
   "execution_count": 6,
   "id": "db743ea6",
   "metadata": {
    "execution": {
     "iopub.execute_input": "2025-10-03T13:08:07.428068Z",
     "iopub.status.busy": "2025-10-03T13:08:07.427544Z",
     "iopub.status.idle": "2025-10-03T13:08:07.693255Z",
     "shell.execute_reply": "2025-10-03T13:08:07.692342Z"
    },
    "papermill": {
     "duration": 0.272425,
     "end_time": "2025-10-03T13:08:07.694801",
     "exception": false,
     "start_time": "2025-10-03T13:08:07.422376",
     "status": "completed"
    },
    "tags": []
   },
   "outputs": [
    {
     "data": {
      "image/png": "[encoded data removed]",
      "text/plain": [
       "<Figure size 600x400 with 1 Axes>"
      ]
     },
     "metadata": {},
     "output_type": "display_data"
    }
   ],
   "source": [
    "# Number of values in each anomaly sequence\n",
    "plt.figure(figsize=(6, 4))\n",
    "sns.histplot(df['num_values'], bins=20, kde=True)\n",
    "plt.title(\"Distribution of Sequence Lengths\")\n",
    "plt.xlabel(\"Number of Values\")\n",
    "plt.show()"
   ]
  },
  {
   "cell_type": "code",
   "execution_count": 7,
   "id": "6afbb82b",
   "metadata": {
    "execution": {
     "iopub.execute_input": "2025-10-03T13:08:07.706060Z",
     "iopub.status.busy": "2025-10-03T13:08:07.705269Z",
     "iopub.status.idle": "2025-10-03T13:08:07.869088Z",
     "shell.execute_reply": "2025-10-03T13:08:07.868248Z"
    },
    "papermill": {
     "duration": 0.171032,
     "end_time": "2025-10-03T13:08:07.870766",
     "exception": false,
     "start_time": "2025-10-03T13:08:07.699734",
     "status": "completed"
    },
    "tags": []
   },
   "outputs": [],
   "source": [
    "from sklearn.preprocessing import LabelEncoder\n",
    "\n",
    "# Encode 'chan_id', 'spacecraft', and 'anomaly_sequences'\n",
    "le = LabelEncoder()\n",
    "df['chan_id'] = le.fit_transform(df['chan_id'])\n",
    "df['spacecraft'] = le.fit_transform(df['spacecraft'])\n",
    "df['anomaly_sequences'] = le.fit_transform(df['anomaly_sequences'])"
   ]
  },
  {
   "cell_type": "code",
   "execution_count": 8,
   "id": "f61123fc",
   "metadata": {
    "execution": {
     "iopub.execute_input": "2025-10-03T13:08:07.881406Z",
     "iopub.status.busy": "2025-10-03T13:08:07.880862Z",
     "iopub.status.idle": "2025-10-03T13:08:07.889077Z",
     "shell.execute_reply": "2025-10-03T13:08:07.888263Z"
    },
    "papermill": {
     "duration": 0.014918,
     "end_time": "2025-10-03T13:08:07.890494",
     "exception": false,
     "start_time": "2025-10-03T13:08:07.875576",
     "status": "completed"
    },
    "tags": []
   },
   "outputs": [],
   "source": [
    "# Define X and y\n",
    "X = df.drop('class', axis=1)\n",
    "y = df['class'].apply(lambda x: 1 if x == 'anomaly' else 0)  # 1=Anomaly, 0=Normal"
   ]
  },
  {
   "cell_type": "code",
   "execution_count": 9,
   "id": "1ab7d07a",
   "metadata": {
    "execution": {
     "iopub.execute_input": "2025-10-03T13:08:07.901446Z",
     "iopub.status.busy": "2025-10-03T13:08:07.900709Z",
     "iopub.status.idle": "2025-10-03T13:08:08.575131Z",
     "shell.execute_reply": "2025-10-03T13:08:08.574199Z"
    },
    "papermill": {
     "duration": 0.681317,
     "end_time": "2025-10-03T13:08:08.576585",
     "exception": false,
     "start_time": "2025-10-03T13:08:07.895268",
     "status": "completed"
    },
    "tags": []
   },
   "outputs": [
    {
     "data": {
      "text/html": [
       "<style>#sk-container-id-1 {color: black;background-color: white;}#sk-container-id-1 pre{padding: 0;}#sk-container-id-1 div.sk-toggleable {background-color: white;}#sk-container-id-1 label.sk-toggleable__label {cursor: pointer;display: block;width: 100%;margin-bottom: 0;padding: 0.3em;box-sizing: border-box;text-align: center;}#sk-container-id-1 label.sk-toggleable__label-arrow:before {content: \"▸\";float: left;margin-right: 0.25em;color: #696969;}#sk-container-id-1 label.sk-toggleable__label-arrow:hover:before {color: black;}#sk-container-id-1 div.sk-estimator:hover label.sk-toggleable__label-arrow:before {color: black;}#sk-container-id-1 div.sk-toggleable__content {max-height: 0;max-width: 0;overflow: hidden;text-align: left;background-color: #f0f8ff;}#sk-container-id-1 div.sk-toggleable__content pre {margin: 0.2em;color: black;border-radius: 0.25em;background-color: #f0f8ff;}#sk-container-id-1 input.sk-toggleable__control:checked~div.sk-toggleable__content {max-height: 200px;max-width: 100%;overflow: auto;}#sk-container-id-1 input.sk-toggleable__control:checked~label.sk-toggleable__label-arrow:before {content: \"▾\";}#sk-container-id-1 div.sk-estimator input.sk-toggleable__control:checked~label.sk-toggleable__label {background-color: #d4ebff;}#sk-container-id-1 div.sk-label input.sk-toggleable__control:checked~label.sk-toggleable__label {background-color: #d4ebff;}#sk-container-id-1 input.sk-hidden--visually {border: 0;clip: rect(1px 1px 1px 1px);clip: rect(1px, 1px, 1px, 1px);height: 1px;margin: -1px;overflow: hidden;padding: 0;position: absolute;width: 1px;}#sk-container-id-1 div.sk-estimator {font-family: monospace;background-color: #f0f8ff;border: 1px dotted black;border-radius: 0.25em;box-sizing: border-box;margin-bottom: 0.5em;}#sk-container-id-1 div.sk-estimator:hover {background-color: #d4ebff;}#sk-container-id-1 div.sk-parallel-item::after {content: \"\";width: 100%;border-bottom: 1px solid gray;flex-grow: 1;}#sk-container-id-1 div.sk-label:hover label.sk-toggleable__label {background-color: #d4ebff;}#sk-container-id-1 div.sk-serial::before {content: \"\";position: absolute;border-left: 1px solid gray;box-sizing: border-box;top: 0;bottom: 0;left: 50%;z-index: 0;}#sk-container-id-1 div.sk-serial {display: flex;flex-direction: column;align-items: center;background-color: white;padding-right: 0.2em;padding-left: 0.2em;position: relative;}#sk-container-id-1 div.sk-item {position: relative;z-index: 1;}#sk-container-id-1 div.sk-parallel {display: flex;align-items: stretch;justify-content: center;background-color: white;position: relative;}#sk-container-id-1 div.sk-item::before, #sk-container-id-1 div.sk-parallel-item::before {content: \"\";position: absolute;border-left: 1px solid gray;box-sizing: border-box;top: 0;bottom: 0;left: 50%;z-index: -1;}#sk-container-id-1 div.sk-parallel-item {display: flex;flex-direction: column;z-index: 1;position: relative;background-color: white;}#sk-container-id-1 div.sk-parallel-item:first-child::after {align-self: flex-end;width: 50%;}#sk-container-id-1 div.sk-parallel-item:last-child::after {align-self: flex-start;width: 50%;}#sk-container-id-1 div.sk-parallel-item:only-child::after {width: 0;}#sk-container-id-1 div.sk-dashed-wrapped {border: 1px dashed gray;margin: 0 0.4em 0.5em 0.4em;box-sizing: border-box;padding-bottom: 0.4em;background-color: white;}#sk-container-id-1 div.sk-label label {font-family: monospace;font-weight: bold;display: inline-block;line-height: 1.2em;}#sk-container-id-1 div.sk-label-container {text-align: center;}#sk-container-id-1 div.sk-container {/* jupyter's `normalize.less` sets `[hidden] { display: none; }` but bootstrap.min.css set `[hidden] { display: none !important; }` so we also need the `!important` here to be able to override the default hidden behavior on the sphinx rendered scikit-learn.org. See: https://github.com/scikit-learn/scikit-learn/issues/21755 */display: inline-block !important;position: relative;}#sk-container-id-1 div.sk-text-repr-fallback {display: none;}</style><div id=\"sk-container-id-1\" class=\"sk-top-container\"><div class=\"sk-text-repr-fallback\"><pre>IsolationForest(contamination=0.1, random_state=42)</pre><b>In a Jupyter environment, please rerun this cell to show the HTML representation or trust the notebook. <br />On GitHub, the HTML representation is unable to render, please try loading this page with nbviewer.org.</b></div><div class=\"sk-container\" hidden><div class=\"sk-item\"><div class=\"sk-estimator sk-toggleable\"><input class=\"sk-toggleable__control sk-hidden--visually\" id=\"sk-estimator-id-1\" type=\"checkbox\" checked><label for=\"sk-estimator-id-1\" class=\"sk-toggleable__label sk-toggleable__label-arrow\">IsolationForest</label><div class=\"sk-toggleable__content\"><pre>IsolationForest(contamination=0.1, random_state=42)</pre></div></div></div></div></div>"
      ],
      "text/plain": [
       "IsolationForest(contamination=0.1, random_state=42)"
      ]
     },
     "execution_count": 9,
     "metadata": {},
     "output_type": "execute_result"
    }
   ],
   "source": [
    "from sklearn.ensemble import IsolationForest\n",
    "from sklearn.metrics import classification_report, confusion_matrix\n",
    "\n",
    "# Train Isolation Forest\n",
    "model = IsolationForest(contamination=0.1, random_state=42)\n",
    "model.fit(X)"
   ]
  },
  {
   "cell_type": "code",
   "execution_count": 10,
   "id": "a3cbe988",
   "metadata": {
    "execution": {
     "iopub.execute_input": "2025-10-03T13:08:08.587773Z",
     "iopub.status.busy": "2025-10-03T13:08:08.587462Z",
     "iopub.status.idle": "2025-10-03T13:08:08.633214Z",
     "shell.execute_reply": "2025-10-03T13:08:08.632189Z"
    },
    "papermill": {
     "duration": 0.053443,
     "end_time": "2025-10-03T13:08:08.635137",
     "exception": false,
     "start_time": "2025-10-03T13:08:08.581694",
     "status": "completed"
    },
    "tags": []
   },
   "outputs": [],
   "source": [
    "# Predict: 1=normal, -1=anomaly → convert to 0/1\n",
    "y_pred = model.predict(X)\n",
    "y_pred = [0 if x == 1 else 1 for x in y_pred]  # Match original label format"
   ]
  },
  {
   "cell_type": "code",
   "execution_count": 11,
   "id": "8a8ae48a",
   "metadata": {
    "execution": {
     "iopub.execute_input": "2025-10-03T13:08:08.646751Z",
     "iopub.status.busy": "2025-10-03T13:08:08.646398Z",
     "iopub.status.idle": "2025-10-03T13:08:08.655136Z",
     "shell.execute_reply": "2025-10-03T13:08:08.654160Z"
    },
    "papermill": {
     "duration": 0.016172,
     "end_time": "2025-10-03T13:08:08.656552",
     "exception": false,
     "start_time": "2025-10-03T13:08:08.640380",
     "status": "completed"
    },
    "tags": []
   },
   "outputs": [
    {
     "name": "stdout",
     "output_type": "stream",
     "text": [
      "Confusion Matrix:\n",
      " [[73  9]\n",
      " [ 0  0]]\n"
     ]
    }
   ],
   "source": [
    "print(\"Confusion Matrix:\\n\", confusion_matrix(y, y_pred))"
   ]
  },
  {
   "cell_type": "code",
   "execution_count": 12,
   "id": "33a45304",
   "metadata": {
    "execution": {
     "iopub.execute_input": "2025-10-03T13:08:08.668989Z",
     "iopub.status.busy": "2025-10-03T13:08:08.668310Z",
     "iopub.status.idle": "2025-10-03T13:08:08.681913Z",
     "shell.execute_reply": "2025-10-03T13:08:08.681146Z"
    },
    "papermill": {
     "duration": 0.020884,
     "end_time": "2025-10-03T13:08:08.683366",
     "exception": false,
     "start_time": "2025-10-03T13:08:08.662482",
     "status": "completed"
    },
    "tags": []
   },
   "outputs": [
    {
     "name": "stdout",
     "output_type": "stream",
     "text": [
      "\n",
      "Classification Report:\n",
      "               precision    recall  f1-score   support\n",
      "\n",
      "      Normal       1.00      0.89      0.94        82\n",
      "     Anomaly       0.00      0.00      0.00         0\n",
      "\n",
      "    accuracy                           0.89        82\n",
      "   macro avg       0.50      0.45      0.47        82\n",
      "weighted avg       1.00      0.89      0.94        82\n",
      "\n"
     ]
    }
   ],
   "source": [
    "print(\"\\nClassification Report:\\n\", classification_report(y, y_pred, target_names=[\"Normal\", \"Anomaly\"]))"
   ]
  }
 ],
 "metadata": {
  "kaggle": {
   "accelerator": "none",
   "dataSources": [
    {
     "datasetId": 2553653,
     "sourceId": 4337101,
     "sourceType": "datasetVersion"
    }
   ],
   "dockerImageVersionId": 31089,
   "isGpuEnabled": false,
   "isInternetEnabled": true,
   "language": "python",
   "sourceType": "notebook"
  },
  "kernelspec": {
   "display_name": "Python 3",
   "language": "python",
   "name": "python3"
  },
  "language_info": {
   "codemirror_mode": {
    "name": "ipython",
    "version": 3
   },
   "file_extension": ".py",
   "mimetype": "text/x-python",
   "name": "python",
   "nbconvert_exporter": "python",
   "pygments_lexer": "ipython3",
   "version": "3.11.13"
  },
  "papermill": {
   "default_parameters": {},
   "duration": 12.433847,
   "end_time": "2025-10-03T13:08:09.412339",
   "environment_variables": {},
   "exception": null,
   "input_path": "__notebook__.ipynb",
   "output_path": "__notebook__.ipynb",
   "parameters": {},
   "start_time": "2025-10-03T13:07:56.978492",
   "version": "2.6.0"
  }
 },
 "nbformat": 4,
 "nbformat_minor": 5
}
