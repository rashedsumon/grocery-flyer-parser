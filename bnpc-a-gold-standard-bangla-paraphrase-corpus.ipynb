{
 "cells": [
  {
   "cell_type": "code",
   "execution_count": 1,
   "id": "81d45b18",
   "metadata": {
    "_cell_guid": "b1076dfc-b9ad-4769-8c92-a6c4dae69d19",
    "_uuid": "8f2839f25d086af736a60e9eeb907d3b93b6e0e5",
    "execution": {
     "iopub.execute_input": "2025-10-03T11:10:28.757298Z",
     "iopub.status.busy": "2025-10-03T11:10:28.756915Z",
     "iopub.status.idle": "2025-10-03T11:10:30.576897Z",
     "shell.execute_reply": "2025-10-03T11:10:30.575889Z"
    },
    "papermill": {
     "duration": 1.826288,
     "end_time": "2025-10-03T11:10:30.578398",
     "exception": false,
     "start_time": "2025-10-03T11:10:28.752110",
     "status": "completed"
    },
    "tags": []
   },
   "outputs": [
    {
     "name": "stdout",
     "output_type": "stream",
     "text": [
      "/kaggle/input/bnpc-a-gold-standard-bangla-paraphrase-corpus/BnPC_val.csv\n",
      "/kaggle/input/bnpc-a-gold-standard-bangla-paraphrase-corpus/BnPC_train.csv\n",
      "/kaggle/input/bnpc-a-gold-standard-bangla-paraphrase-corpus/BnPC_test.csv\n"
     ]
    }
   ],
   "source": [
    "# This Python 3 environment comes with many helpful analytics libraries installed\n",
    "# It is defined by the kaggle/python Docker image: https://github.com/kaggle/docker-python\n",
    "# For example, here's several helpful packages to load\n",
    "\n",
    "import numpy as np # linear algebra\n",
    "import pandas as pd # data processing, CSV file I/O (e.g. pd.read_csv)\n",
    "\n",
    "# Input data files are available in the read-only \"../input/\" directory\n",
    "# For example, running this (by clicking run or pressing Shift+Enter) will list all files under the input directory\n",
    "\n",
    "import os\n",
    "for dirname, _, filenames in os.walk('/kaggle/input'):\n",
    "    for filename in filenames:\n",
    "        print(os.path.join(dirname, filename))\n",
    "\n",
    "# You can write up to 20GB to the current directory (/kaggle/working/) that gets preserved as output when you create a version using \"Save & Run All\" \n",
    "# You can also write temporary files to /kaggle/temp/, but they won't be saved outside of the current session"
   ]
  },
  {
   "cell_type": "code",
   "execution_count": 2,
   "id": "58d3d851",
   "metadata": {
    "execution": {
     "iopub.execute_input": "2025-10-03T11:10:30.586511Z",
     "iopub.status.busy": "2025-10-03T11:10:30.585406Z",
     "iopub.status.idle": "2025-10-03T11:10:30.589832Z",
     "shell.execute_reply": "2025-10-03T11:10:30.589033Z"
    },
    "papermill": {
     "duration": 0.009272,
     "end_time": "2025-10-03T11:10:30.591169",
     "exception": false,
     "start_time": "2025-10-03T11:10:30.581897",
     "status": "completed"
    },
    "tags": []
   },
   "outputs": [],
   "source": [
    "import warnings\n",
    "warnings.filterwarnings(\"ignore\")"
   ]
  },
  {
   "cell_type": "code",
   "execution_count": 3,
   "id": "785d8bde",
   "metadata": {
    "execution": {
     "iopub.execute_input": "2025-10-03T11:10:30.597894Z",
     "iopub.status.busy": "2025-10-03T11:10:30.597604Z",
     "iopub.status.idle": "2025-10-03T11:10:32.328431Z",
     "shell.execute_reply": "2025-10-03T11:10:32.327751Z"
    },
    "papermill": {
     "duration": 1.735917,
     "end_time": "2025-10-03T11:10:32.330030",
     "exception": false,
     "start_time": "2025-10-03T11:10:30.594113",
     "status": "completed"
    },
    "tags": []
   },
   "outputs": [],
   "source": [
    "# Import Libraries and Load Dataset\n",
    "import pandas as pd\n",
    "import matplotlib.pyplot as plt\n",
    "import seaborn as sns"
   ]
  },
  {
   "cell_type": "code",
   "execution_count": 4,
   "id": "06ebc6a6",
   "metadata": {
    "execution": {
     "iopub.execute_input": "2025-10-03T11:10:32.337269Z",
     "iopub.status.busy": "2025-10-03T11:10:32.336838Z",
     "iopub.status.idle": "2025-10-03T11:10:32.403694Z",
     "shell.execute_reply": "2025-10-03T11:10:32.402507Z"
    },
    "papermill": {
     "duration": 0.072152,
     "end_time": "2025-10-03T11:10:32.405305",
     "exception": false,
     "start_time": "2025-10-03T11:10:32.333153",
     "status": "completed"
    },
    "tags": []
   },
   "outputs": [
    {
     "name": "stdout",
     "output_type": "stream",
     "text": [
      "                                     sentence1  \\\n",
      "0  ফেসবুকে অস্ত্র হাতে ছবি, আলোচনায় এমপি বাবলু   \n",
      "1  ফেসবুকে অস্ত্র হাতে ছবি, আলোচনায় এমপি বাবলু   \n",
      "2  ফেসবুকে অস্ত্র হাতে ছবি, আলোচনায় এমপি বাবলু   \n",
      "3                 এমপি বাবলুর ফেসবুকে নগ্ন ছবি   \n",
      "4                 এমপি বাবলুর ফেসবুকে নগ্ন ছবি   \n",
      "\n",
      "                                        sentence2  label  \n",
      "0                    এমপি বাবলুর ফেসবুকে নগ্ন ছবি      0  \n",
      "1          ফেসবুকে পিস্তল হাতে বগুড়ার এমপি বাবলু      1  \n",
      "2     অস্ত্রের পর এবার নগ্ন ছবি সেই এমপির ফেসবুকে      0  \n",
      "3          ফেসবুকে পিস্তল হাতে বগুড়ার এমপি বাবলু      0  \n",
      "4  নতুন কেনা পিস্তল হাতে বগুড়ার এমপির ছবি ভাইরাল      0  \n"
     ]
    }
   ],
   "source": [
    "data = pd.read_csv('/kaggle/input/bnpc-a-gold-standard-bangla-paraphrase-corpus/BnPC_train.csv')\n",
    "print(data.head())"
   ]
  },
  {
   "cell_type": "code",
   "execution_count": 5,
   "id": "fc820011",
   "metadata": {
    "execution": {
     "iopub.execute_input": "2025-10-03T11:10:32.412456Z",
     "iopub.status.busy": "2025-10-03T11:10:32.412167Z",
     "iopub.status.idle": "2025-10-03T11:10:32.419599Z",
     "shell.execute_reply": "2025-10-03T11:10:32.418935Z"
    },
    "papermill": {
     "duration": 0.012495,
     "end_time": "2025-10-03T11:10:32.420968",
     "exception": false,
     "start_time": "2025-10-03T11:10:32.408473",
     "status": "completed"
    },
    "tags": []
   },
   "outputs": [
    {
     "data": {
      "text/plain": [
       "Index(['sentence1', 'sentence2', 'label'], dtype='object')"
      ]
     },
     "execution_count": 5,
     "metadata": {},
     "output_type": "execute_result"
    }
   ],
   "source": [
    "data.columns"
   ]
  },
  {
   "cell_type": "code",
   "execution_count": 6,
   "id": "e651a60d",
   "metadata": {
    "execution": {
     "iopub.execute_input": "2025-10-03T11:10:32.428114Z",
     "iopub.status.busy": "2025-10-03T11:10:32.427817Z",
     "iopub.status.idle": "2025-10-03T11:10:32.780377Z",
     "shell.execute_reply": "2025-10-03T11:10:32.779531Z"
    },
    "papermill": {
     "duration": 0.357772,
     "end_time": "2025-10-03T11:10:32.781859",
     "exception": false,
     "start_time": "2025-10-03T11:10:32.424087",
     "status": "completed"
    },
    "tags": []
   },
   "outputs": [
    {
     "data": {
      "image/png": "[encoded data removed]",
      "text/plain": [
       "<Figure size 640x480 with 1 Axes>"
      ]
     },
     "metadata": {},
     "output_type": "display_data"
    }
   ],
   "source": [
    "# Basic Data Visualization\n",
    "\n",
    "# Show label distribution count plot\n",
    "sns.countplot(x='label', data=data)\n",
    "plt.title('Distribution of Labels')\n",
    "plt.show()"
   ]
  },
  {
   "cell_type": "code",
   "execution_count": 7,
   "id": "8680537a",
   "metadata": {
    "execution": {
     "iopub.execute_input": "2025-10-03T11:10:32.790075Z",
     "iopub.status.busy": "2025-10-03T11:10:32.789773Z",
     "iopub.status.idle": "2025-10-03T11:10:32.796932Z",
     "shell.execute_reply": "2025-10-03T11:10:32.795921Z"
    },
    "papermill": {
     "duration": 0.012918,
     "end_time": "2025-10-03T11:10:32.798323",
     "exception": false,
     "start_time": "2025-10-03T11:10:32.785405",
     "status": "completed"
    },
    "tags": []
   },
   "outputs": [
    {
     "name": "stdout",
     "output_type": "stream",
     "text": [
      "Null values in dataset:\n",
      " sentence1    0\n",
      "sentence2    0\n",
      "label        0\n",
      "dtype: int64\n"
     ]
    }
   ],
   "source": [
    "# Check for null values\n",
    "print(\"Null values in dataset:\\n\", data.isnull().sum())"
   ]
  },
  {
   "cell_type": "code",
   "execution_count": 8,
   "id": "5b7cac2d",
   "metadata": {
    "execution": {
     "iopub.execute_input": "2025-10-03T11:10:32.806981Z",
     "iopub.status.busy": "2025-10-03T11:10:32.806124Z",
     "iopub.status.idle": "2025-10-03T11:10:33.086033Z",
     "shell.execute_reply": "2025-10-03T11:10:33.085153Z"
    },
    "papermill": {
     "duration": 0.285691,
     "end_time": "2025-10-03T11:10:33.087649",
     "exception": false,
     "start_time": "2025-10-03T11:10:32.801958",
     "status": "completed"
    },
    "tags": []
   },
   "outputs": [],
   "source": [
    "# Simple Text Preprocessing and Feature Preparation\n",
    "\n",
    "# For simple beginner-friendly ML, we'll convert the sentences to TF-IDF features\n",
    "\n",
    "from sklearn.feature_extraction.text import TfidfVectorizer\n",
    "from sklearn.model_selection import train_test_split\n",
    "\n",
    "# Combine sentence1 and sentence2 by joining with a separator for vectorization (simple concatenation)\n",
    "data['combined'] = data['sentence1'] + \" \" + data['sentence2']"
   ]
  },
  {
   "cell_type": "code",
   "execution_count": 9,
   "id": "74adfc67",
   "metadata": {
    "execution": {
     "iopub.execute_input": "2025-10-03T11:10:33.096763Z",
     "iopub.status.busy": "2025-10-03T11:10:33.096443Z",
     "iopub.status.idle": "2025-10-03T11:10:33.210415Z",
     "shell.execute_reply": "2025-10-03T11:10:33.209555Z"
    },
    "papermill": {
     "duration": 0.120719,
     "end_time": "2025-10-03T11:10:33.212688",
     "exception": false,
     "start_time": "2025-10-03T11:10:33.091969",
     "status": "completed"
    },
    "tags": []
   },
   "outputs": [],
   "source": [
    "# Vectorize text\n",
    "tfidf = TfidfVectorizer(max_features=5000)\n",
    "X = tfidf.fit_transform(data['combined'])\n",
    "\n",
    "# Target variable\n",
    "y = data['label']"
   ]
  },
  {
   "cell_type": "code",
   "execution_count": 10,
   "id": "c3477e7c",
   "metadata": {
    "execution": {
     "iopub.execute_input": "2025-10-03T11:10:33.221205Z",
     "iopub.status.busy": "2025-10-03T11:10:33.220890Z",
     "iopub.status.idle": "2025-10-03T11:10:33.227995Z",
     "shell.execute_reply": "2025-10-03T11:10:33.227108Z"
    },
    "papermill": {
     "duration": 0.012741,
     "end_time": "2025-10-03T11:10:33.229382",
     "exception": false,
     "start_time": "2025-10-03T11:10:33.216641",
     "status": "completed"
    },
    "tags": []
   },
   "outputs": [],
   "source": [
    "# Split dataset into train and test sets (80-20 split)\n",
    "X_train, X_test, y_train, y_test = train_test_split(X, y, test_size=0.2, random_state=42)"
   ]
  },
  {
   "cell_type": "code",
   "execution_count": 11,
   "id": "5c2097c2",
   "metadata": {
    "execution": {
     "iopub.execute_input": "2025-10-03T11:10:33.237491Z",
     "iopub.status.busy": "2025-10-03T11:10:33.237203Z",
     "iopub.status.idle": "2025-10-03T11:10:34.921175Z",
     "shell.execute_reply": "2025-10-03T11:10:34.920268Z"
    },
    "papermill": {
     "duration": 1.689693,
     "end_time": "2025-10-03T11:10:34.922601",
     "exception": false,
     "start_time": "2025-10-03T11:10:33.232908",
     "status": "completed"
    },
    "tags": []
   },
   "outputs": [
    {
     "data": {
      "text/html": [
       "<style>#sk-container-id-1 {color: black;background-color: white;}#sk-container-id-1 pre{padding: 0;}#sk-container-id-1 div.sk-toggleable {background-color: white;}#sk-container-id-1 label.sk-toggleable__label {cursor: pointer;display: block;width: 100%;margin-bottom: 0;padding: 0.3em;box-sizing: border-box;text-align: center;}#sk-container-id-1 label.sk-toggleable__label-arrow:before {content: \"▸\";float: left;margin-right: 0.25em;color: #696969;}#sk-container-id-1 label.sk-toggleable__label-arrow:hover:before {color: black;}#sk-container-id-1 div.sk-estimator:hover label.sk-toggleable__label-arrow:before {color: black;}#sk-container-id-1 div.sk-toggleable__content {max-height: 0;max-width: 0;overflow: hidden;text-align: left;background-color: #f0f8ff;}#sk-container-id-1 div.sk-toggleable__content pre {margin: 0.2em;color: black;border-radius: 0.25em;background-color: #f0f8ff;}#sk-container-id-1 input.sk-toggleable__control:checked~div.sk-toggleable__content {max-height: 200px;max-width: 100%;overflow: auto;}#sk-container-id-1 input.sk-toggleable__control:checked~label.sk-toggleable__label-arrow:before {content: \"▾\";}#sk-container-id-1 div.sk-estimator input.sk-toggleable__control:checked~label.sk-toggleable__label {background-color: #d4ebff;}#sk-container-id-1 div.sk-label input.sk-toggleable__control:checked~label.sk-toggleable__label {background-color: #d4ebff;}#sk-container-id-1 input.sk-hidden--visually {border: 0;clip: rect(1px 1px 1px 1px);clip: rect(1px, 1px, 1px, 1px);height: 1px;margin: -1px;overflow: hidden;padding: 0;position: absolute;width: 1px;}#sk-container-id-1 div.sk-estimator {font-family: monospace;background-color: #f0f8ff;border: 1px dotted black;border-radius: 0.25em;box-sizing: border-box;margin-bottom: 0.5em;}#sk-container-id-1 div.sk-estimator:hover {background-color: #d4ebff;}#sk-container-id-1 div.sk-parallel-item::after {content: \"\";width: 100%;border-bottom: 1px solid gray;flex-grow: 1;}#sk-container-id-1 div.sk-label:hover label.sk-toggleable__label {background-color: #d4ebff;}#sk-container-id-1 div.sk-serial::before {content: \"\";position: absolute;border-left: 1px solid gray;box-sizing: border-box;top: 0;bottom: 0;left: 50%;z-index: 0;}#sk-container-id-1 div.sk-serial {display: flex;flex-direction: column;align-items: center;background-color: white;padding-right: 0.2em;padding-left: 0.2em;position: relative;}#sk-container-id-1 div.sk-item {position: relative;z-index: 1;}#sk-container-id-1 div.sk-parallel {display: flex;align-items: stretch;justify-content: center;background-color: white;position: relative;}#sk-container-id-1 div.sk-item::before, #sk-container-id-1 div.sk-parallel-item::before {content: \"\";position: absolute;border-left: 1px solid gray;box-sizing: border-box;top: 0;bottom: 0;left: 50%;z-index: -1;}#sk-container-id-1 div.sk-parallel-item {display: flex;flex-direction: column;z-index: 1;position: relative;background-color: white;}#sk-container-id-1 div.sk-parallel-item:first-child::after {align-self: flex-end;width: 50%;}#sk-container-id-1 div.sk-parallel-item:last-child::after {align-self: flex-start;width: 50%;}#sk-container-id-1 div.sk-parallel-item:only-child::after {width: 0;}#sk-container-id-1 div.sk-dashed-wrapped {border: 1px dashed gray;margin: 0 0.4em 0.5em 0.4em;box-sizing: border-box;padding-bottom: 0.4em;background-color: white;}#sk-container-id-1 div.sk-label label {font-family: monospace;font-weight: bold;display: inline-block;line-height: 1.2em;}#sk-container-id-1 div.sk-label-container {text-align: center;}#sk-container-id-1 div.sk-container {/* jupyter's `normalize.less` sets `[hidden] { display: none; }` but bootstrap.min.css set `[hidden] { display: none !important; }` so we also need the `!important` here to be able to override the default hidden behavior on the sphinx rendered scikit-learn.org. See: https://github.com/scikit-learn/scikit-learn/issues/21755 */display: inline-block !important;position: relative;}#sk-container-id-1 div.sk-text-repr-fallback {display: none;}</style><div id=\"sk-container-id-1\" class=\"sk-top-container\"><div class=\"sk-text-repr-fallback\"><pre>XGBClassifier(base_score=None, booster=None, callbacks=None,\n",
       "              colsample_bylevel=None, colsample_bynode=None,\n",
       "              colsample_bytree=None, device=None, early_stopping_rounds=None,\n",
       "              enable_categorical=False, eval_metric=&#x27;logloss&#x27;,\n",
       "              feature_types=None, gamma=None, grow_policy=None,\n",
       "              importance_type=None, interaction_constraints=None,\n",
       "              learning_rate=None, max_bin=None, max_cat_threshold=None,\n",
       "              max_cat_to_onehot=None, max_delta_step=None, max_depth=None,\n",
       "              max_leaves=None, min_child_weight=None, missing=nan,\n",
       "              monotone_constraints=None, multi_strategy=None, n_estimators=None,\n",
       "              n_jobs=None, num_parallel_tree=None, random_state=42, ...)</pre><b>In a Jupyter environment, please rerun this cell to show the HTML representation or trust the notebook. <br />On GitHub, the HTML representation is unable to render, please try loading this page with nbviewer.org.</b></div><div class=\"sk-container\" hidden><div class=\"sk-item\"><div class=\"sk-estimator sk-toggleable\"><input class=\"sk-toggleable__control sk-hidden--visually\" id=\"sk-estimator-id-1\" type=\"checkbox\" checked><label for=\"sk-estimator-id-1\" class=\"sk-toggleable__label sk-toggleable__label-arrow\">XGBClassifier</label><div class=\"sk-toggleable__content\"><pre>XGBClassifier(base_score=None, booster=None, callbacks=None,\n",
       "              colsample_bylevel=None, colsample_bynode=None,\n",
       "              colsample_bytree=None, device=None, early_stopping_rounds=None,\n",
       "              enable_categorical=False, eval_metric=&#x27;logloss&#x27;,\n",
       "              feature_types=None, gamma=None, grow_policy=None,\n",
       "              importance_type=None, interaction_constraints=None,\n",
       "              learning_rate=None, max_bin=None, max_cat_threshold=None,\n",
       "              max_cat_to_onehot=None, max_delta_step=None, max_depth=None,\n",
       "              max_leaves=None, min_child_weight=None, missing=nan,\n",
       "              monotone_constraints=None, multi_strategy=None, n_estimators=None,\n",
       "              n_jobs=None, num_parallel_tree=None, random_state=42, ...)</pre></div></div></div></div></div>"
      ],
      "text/plain": [
       "XGBClassifier(base_score=None, booster=None, callbacks=None,\n",
       "              colsample_bylevel=None, colsample_bynode=None,\n",
       "              colsample_bytree=None, device=None, early_stopping_rounds=None,\n",
       "              enable_categorical=False, eval_metric='logloss',\n",
       "              feature_types=None, gamma=None, grow_policy=None,\n",
       "              importance_type=None, interaction_constraints=None,\n",
       "              learning_rate=None, max_bin=None, max_cat_threshold=None,\n",
       "              max_cat_to_onehot=None, max_delta_step=None, max_depth=None,\n",
       "              max_leaves=None, min_child_weight=None, missing=nan,\n",
       "              monotone_constraints=None, multi_strategy=None, n_estimators=None,\n",
       "              n_jobs=None, num_parallel_tree=None, random_state=42, ...)"
      ]
     },
     "execution_count": 11,
     "metadata": {},
     "output_type": "execute_result"
    }
   ],
   "source": [
    "# Train a Strong ML Model (Gradient Boosting with XGBoost)\n",
    "\n",
    "from xgboost import XGBClassifier\n",
    "from sklearn.metrics import classification_report, confusion_matrix, ConfusionMatrixDisplay\n",
    "\n",
    "# Initialize model with default params (good strong baseline)\n",
    "model = XGBClassifier(use_label_encoder=False, eval_metric='logloss', random_state=42)\n",
    "\n",
    "# Train model\n",
    "model.fit(X_train, y_train)"
   ]
  },
  {
   "cell_type": "code",
   "execution_count": 12,
   "id": "d2b07837",
   "metadata": {
    "execution": {
     "iopub.execute_input": "2025-10-03T11:10:34.931145Z",
     "iopub.status.busy": "2025-10-03T11:10:34.930863Z",
     "iopub.status.idle": "2025-10-03T11:10:34.949037Z",
     "shell.execute_reply": "2025-10-03T11:10:34.947869Z"
    },
    "papermill": {
     "duration": 0.024221,
     "end_time": "2025-10-03T11:10:34.950651",
     "exception": false,
     "start_time": "2025-10-03T11:10:34.926430",
     "status": "completed"
    },
    "tags": []
   },
   "outputs": [
    {
     "name": "stdout",
     "output_type": "stream",
     "text": [
      "              precision    recall  f1-score   support\n",
      "\n",
      "           0       0.80      0.89      0.84       741\n",
      "           1       0.77      0.63      0.69       443\n",
      "\n",
      "    accuracy                           0.79      1184\n",
      "   macro avg       0.78      0.76      0.76      1184\n",
      "weighted avg       0.79      0.79      0.78      1184\n",
      "\n"
     ]
    }
   ],
   "source": [
    "# Predict on test set\n",
    "y_pred = model.predict(X_test)\n",
    "\n",
    "# Show classification report\n",
    "print(classification_report(y_test, y_pred))"
   ]
  },
  {
   "cell_type": "code",
   "execution_count": 13,
   "id": "368c1fb3",
   "metadata": {
    "execution": {
     "iopub.execute_input": "2025-10-03T11:10:34.960169Z",
     "iopub.status.busy": "2025-10-03T11:10:34.959841Z",
     "iopub.status.idle": "2025-10-03T11:10:35.145602Z",
     "shell.execute_reply": "2025-10-03T11:10:35.144687Z"
    },
    "papermill": {
     "duration": 0.192618,
     "end_time": "2025-10-03T11:10:35.147020",
     "exception": false,
     "start_time": "2025-10-03T11:10:34.954402",
     "status": "completed"
    },
    "tags": []
   },
   "outputs": [
    {
     "data": {
      "image/png": "[encoded data removed]",
      "text/plain": [
       "<Figure size 640x480 with 2 Axes>"
      ]
     },
     "metadata": {},
     "output_type": "display_data"
    }
   ],
   "source": [
    "# Visualize Confusion Matrix for Model Evaluation\n",
    "\n",
    "cm = confusion_matrix(y_test, y_pred, labels=model.classes_)\n",
    "disp = ConfusionMatrixDisplay(confusion_matrix=cm, display_labels=model.classes_)\n",
    "disp.plot(cmap=plt.cm.Blues)\n",
    "plt.title(\"Confusion Matrix - XGBoost Model\")\n",
    "plt.show()"
   ]
  }
 ],
 "metadata": {
  "kaggle": {
   "accelerator": "none",
   "dataSources": [
    {
     "datasetId": 5084393,
     "sourceId": 8516151,
     "sourceType": "datasetVersion"
    }
   ],
   "dockerImageVersionId": 31089,
   "isGpuEnabled": false,
   "isInternetEnabled": true,
   "language": "python",
   "sourceType": "notebook"
  },
  "kernelspec": {
   "display_name": "Python 3",
   "language": "python",
   "name": "python3"
  },
  "language_info": {
   "codemirror_mode": {
    "name": "ipython",
    "version": 3
   },
   "file_extension": ".py",
   "mimetype": "text/x-python",
   "name": "python",
   "nbconvert_exporter": "python",
   "pygments_lexer": "ipython3",
   "version": "3.11.13"
  },
  "papermill": {
   "default_parameters": {},
   "duration": 12.160644,
   "end_time": "2025-10-03T11:10:35.870844",
   "environment_variables": {},
   "exception": null,
   "input_path": "__notebook__.ipynb",
   "output_path": "__notebook__.ipynb",
   "parameters": {},
   "start_time": "2025-10-03T11:10:23.710200",
   "version": "2.6.0"
  }
 },
 "nbformat": 4,
 "nbformat_minor": 5
}
