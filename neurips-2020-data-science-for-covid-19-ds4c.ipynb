{
 "cells": [
  {
   "cell_type": "code",
   "execution_count": 1,
   "id": "107318c5",
   "metadata": {
    "_cell_guid": "b1076dfc-b9ad-4769-8c92-a6c4dae69d19",
    "_uuid": "8f2839f25d086af736a60e9eeb907d3b93b6e0e5",
    "execution": {
     "iopub.execute_input": "2025-10-03T17:07:48.961734Z",
     "iopub.status.busy": "2025-10-03T17:07:48.961340Z",
     "iopub.status.idle": "2025-10-03T17:07:50.985192Z",
     "shell.execute_reply": "2025-10-03T17:07:50.984231Z"
    },
    "papermill": {
     "duration": 2.030484,
     "end_time": "2025-10-03T17:07:50.986948",
     "exception": false,
     "start_time": "2025-10-03T17:07:48.956464",
     "status": "completed"
    },
    "tags": []
   },
   "outputs": [
    {
     "name": "stdout",
     "output_type": "stream",
     "text": [
      "/kaggle/input/coronavirusdataset/TimeAge.csv\n",
      "/kaggle/input/coronavirusdataset/Case.csv\n",
      "/kaggle/input/coronavirusdataset/Policy.csv\n",
      "/kaggle/input/coronavirusdataset/Region.csv\n",
      "/kaggle/input/coronavirusdataset/PatientInfo.csv\n",
      "/kaggle/input/coronavirusdataset/SearchTrend.csv\n",
      "/kaggle/input/coronavirusdataset/Weather.csv\n",
      "/kaggle/input/coronavirusdataset/TimeProvince.csv\n",
      "/kaggle/input/coronavirusdataset/TimeGender.csv\n",
      "/kaggle/input/coronavirusdataset/SeoulFloating.csv\n",
      "/kaggle/input/coronavirusdataset/Time.csv\n"
     ]
    }
   ],
   "source": [
    "# This Python 3 environment comes with many helpful analytics libraries installed\n",
    "# It is defined by the kaggle/python Docker image: https://github.com/kaggle/docker-python\n",
    "# For example, here's several helpful packages to load\n",
    "\n",
    "import numpy as np # linear algebra\n",
    "import pandas as pd # data processing, CSV file I/O (e.g. pd.read_csv)\n",
    "\n",
    "# Input data files are available in the read-only \"../input/\" directory\n",
    "# For example, running this (by clicking run or pressing Shift+Enter) will list all files under the input directory\n",
    "\n",
    "import os\n",
    "for dirname, _, filenames in os.walk('/kaggle/input'):\n",
    "    for filename in filenames:\n",
    "        print(os.path.join(dirname, filename))\n",
    "\n",
    "# You can write up to 20GB to the current directory (/kaggle/working/) that gets preserved as output when you create a version using \"Save & Run All\" \n",
    "# You can also write temporary files to /kaggle/temp/, but they won't be saved outside of the current session"
   ]
  },
  {
   "cell_type": "code",
   "execution_count": 2,
   "id": "6d6587ef",
   "metadata": {
    "execution": {
     "iopub.execute_input": "2025-10-03T17:07:50.994450Z",
     "iopub.status.busy": "2025-10-03T17:07:50.994069Z",
     "iopub.status.idle": "2025-10-03T17:07:50.998753Z",
     "shell.execute_reply": "2025-10-03T17:07:50.997892Z"
    },
    "papermill": {
     "duration": 0.009807,
     "end_time": "2025-10-03T17:07:51.000109",
     "exception": false,
     "start_time": "2025-10-03T17:07:50.990302",
     "status": "completed"
    },
    "tags": []
   },
   "outputs": [],
   "source": [
    "import warnings\n",
    "warnings.filterwarnings(\"ignore\")"
   ]
  },
  {
   "cell_type": "code",
   "execution_count": 3,
   "id": "01cc2513",
   "metadata": {
    "execution": {
     "iopub.execute_input": "2025-10-03T17:07:51.007622Z",
     "iopub.status.busy": "2025-10-03T17:07:51.006593Z",
     "iopub.status.idle": "2025-10-03T17:07:53.860300Z",
     "shell.execute_reply": "2025-10-03T17:07:53.859424Z"
    },
    "papermill": {
     "duration": 2.859144,
     "end_time": "2025-10-03T17:07:53.862147",
     "exception": false,
     "start_time": "2025-10-03T17:07:51.003003",
     "status": "completed"
    },
    "tags": []
   },
   "outputs": [],
   "source": [
    "import pandas as pd\n",
    "import matplotlib.pyplot as plt\n",
    "import seaborn as sns\n",
    "from sklearn.model_selection import train_test_split\n",
    "from sklearn.ensemble import RandomForestRegressor\n",
    "from sklearn.metrics import r2_score"
   ]
  },
  {
   "cell_type": "code",
   "execution_count": 4,
   "id": "2237339a",
   "metadata": {
    "execution": {
     "iopub.execute_input": "2025-10-03T17:07:53.869544Z",
     "iopub.status.busy": "2025-10-03T17:07:53.869063Z",
     "iopub.status.idle": "2025-10-03T17:07:53.912945Z",
     "shell.execute_reply": "2025-10-03T17:07:53.912038Z"
    },
    "papermill": {
     "duration": 0.04937,
     "end_time": "2025-10-03T17:07:53.914496",
     "exception": false,
     "start_time": "2025-10-03T17:07:53.865126",
     "status": "completed"
    },
    "tags": []
   },
   "outputs": [
    {
     "data": {
      "text/html": [
       "<div>\n",
       "<style scoped>\n",
       "    .dataframe tbody tr th:only-of-type {\n",
       "        vertical-align: middle;\n",
       "    }\n",
       "\n",
       "    .dataframe tbody tr th {\n",
       "        vertical-align: top;\n",
       "    }\n",
       "\n",
       "    .dataframe thead th {\n",
       "        text-align: right;\n",
       "    }\n",
       "</style>\n",
       "<table border=\"1\" class=\"dataframe\">\n",
       "  <thead>\n",
       "    <tr style=\"text-align: right;\">\n",
       "      <th></th>\n",
       "      <th>case_id</th>\n",
       "      <th>province</th>\n",
       "      <th>city</th>\n",
       "      <th>group</th>\n",
       "      <th>infection_case</th>\n",
       "      <th>confirmed</th>\n",
       "      <th>latitude</th>\n",
       "      <th>longitude</th>\n",
       "    </tr>\n",
       "  </thead>\n",
       "  <tbody>\n",
       "    <tr>\n",
       "      <th>0</th>\n",
       "      <td>1000001</td>\n",
       "      <td>Seoul</td>\n",
       "      <td>Yongsan-gu</td>\n",
       "      <td>True</td>\n",
       "      <td>Itaewon Clubs</td>\n",
       "      <td>139</td>\n",
       "      <td>37.538621</td>\n",
       "      <td>126.992652</td>\n",
       "    </tr>\n",
       "    <tr>\n",
       "      <th>1</th>\n",
       "      <td>1000002</td>\n",
       "      <td>Seoul</td>\n",
       "      <td>Gwanak-gu</td>\n",
       "      <td>True</td>\n",
       "      <td>Richway</td>\n",
       "      <td>119</td>\n",
       "      <td>37.48208</td>\n",
       "      <td>126.901384</td>\n",
       "    </tr>\n",
       "    <tr>\n",
       "      <th>2</th>\n",
       "      <td>1000003</td>\n",
       "      <td>Seoul</td>\n",
       "      <td>Guro-gu</td>\n",
       "      <td>True</td>\n",
       "      <td>Guro-gu Call Center</td>\n",
       "      <td>95</td>\n",
       "      <td>37.508163</td>\n",
       "      <td>126.884387</td>\n",
       "    </tr>\n",
       "    <tr>\n",
       "      <th>3</th>\n",
       "      <td>1000004</td>\n",
       "      <td>Seoul</td>\n",
       "      <td>Yangcheon-gu</td>\n",
       "      <td>True</td>\n",
       "      <td>Yangcheon Table Tennis Club</td>\n",
       "      <td>43</td>\n",
       "      <td>37.546061</td>\n",
       "      <td>126.874209</td>\n",
       "    </tr>\n",
       "    <tr>\n",
       "      <th>4</th>\n",
       "      <td>1000005</td>\n",
       "      <td>Seoul</td>\n",
       "      <td>Dobong-gu</td>\n",
       "      <td>True</td>\n",
       "      <td>Day Care Center</td>\n",
       "      <td>43</td>\n",
       "      <td>37.679422</td>\n",
       "      <td>127.044374</td>\n",
       "    </tr>\n",
       "  </tbody>\n",
       "</table>\n",
       "</div>"
      ],
      "text/plain": [
       "    case_id province          city  group               infection_case  \\\n",
       "0   1000001    Seoul    Yongsan-gu   True                Itaewon Clubs   \n",
       "1   1000002    Seoul     Gwanak-gu   True                      Richway   \n",
       "2   1000003    Seoul       Guro-gu   True          Guro-gu Call Center   \n",
       "3   1000004    Seoul  Yangcheon-gu   True  Yangcheon Table Tennis Club   \n",
       "4   1000005    Seoul     Dobong-gu   True              Day Care Center   \n",
       "\n",
       "   confirmed   latitude   longitude  \n",
       "0        139  37.538621  126.992652  \n",
       "1        119   37.48208  126.901384  \n",
       "2         95  37.508163  126.884387  \n",
       "3         43  37.546061  126.874209  \n",
       "4         43  37.679422  127.044374  "
      ]
     },
     "execution_count": 4,
     "metadata": {},
     "output_type": "execute_result"
    }
   ],
   "source": [
    "df = pd.read_csv('/kaggle/input/coronavirusdataset/Case.csv')\n",
    "df.head()"
   ]
  },
  {
   "cell_type": "code",
   "execution_count": 5,
   "id": "1874c4cb",
   "metadata": {
    "execution": {
     "iopub.execute_input": "2025-10-03T17:07:53.922229Z",
     "iopub.status.busy": "2025-10-03T17:07:53.921546Z",
     "iopub.status.idle": "2025-10-03T17:07:53.929080Z",
     "shell.execute_reply": "2025-10-03T17:07:53.928177Z"
    },
    "papermill": {
     "duration": 0.013301,
     "end_time": "2025-10-03T17:07:53.930995",
     "exception": false,
     "start_time": "2025-10-03T17:07:53.917694",
     "status": "completed"
    },
    "tags": []
   },
   "outputs": [
    {
     "data": {
      "text/plain": [
       "Index([' case_id', 'province', 'city', 'group', 'infection_case', 'confirmed',\n",
       "       'latitude', 'longitude'],\n",
       "      dtype='object')"
      ]
     },
     "execution_count": 5,
     "metadata": {},
     "output_type": "execute_result"
    }
   ],
   "source": [
    "df.columns"
   ]
  },
  {
   "cell_type": "code",
   "execution_count": 6,
   "id": "68bf076a",
   "metadata": {
    "execution": {
     "iopub.execute_input": "2025-10-03T17:07:53.938322Z",
     "iopub.status.busy": "2025-10-03T17:07:53.938021Z",
     "iopub.status.idle": "2025-10-03T17:07:53.960638Z",
     "shell.execute_reply": "2025-10-03T17:07:53.959699Z"
    },
    "papermill": {
     "duration": 0.028123,
     "end_time": "2025-10-03T17:07:53.962283",
     "exception": false,
     "start_time": "2025-10-03T17:07:53.934160",
     "status": "completed"
    },
    "tags": []
   },
   "outputs": [
    {
     "data": {
      "text/html": [
       "<div>\n",
       "<style scoped>\n",
       "    .dataframe tbody tr th:only-of-type {\n",
       "        vertical-align: middle;\n",
       "    }\n",
       "\n",
       "    .dataframe tbody tr th {\n",
       "        vertical-align: top;\n",
       "    }\n",
       "\n",
       "    .dataframe thead th {\n",
       "        text-align: right;\n",
       "    }\n",
       "</style>\n",
       "<table border=\"1\" class=\"dataframe\">\n",
       "  <thead>\n",
       "    <tr style=\"text-align: right;\">\n",
       "      <th></th>\n",
       "      <th>province</th>\n",
       "      <th>infection_case</th>\n",
       "      <th>confirmed</th>\n",
       "    </tr>\n",
       "  </thead>\n",
       "  <tbody>\n",
       "    <tr>\n",
       "      <th>0</th>\n",
       "      <td>15</td>\n",
       "      <td>34</td>\n",
       "      <td>139</td>\n",
       "    </tr>\n",
       "    <tr>\n",
       "      <th>1</th>\n",
       "      <td>15</td>\n",
       "      <td>50</td>\n",
       "      <td>119</td>\n",
       "    </tr>\n",
       "    <tr>\n",
       "      <th>2</th>\n",
       "      <td>15</td>\n",
       "      <td>26</td>\n",
       "      <td>95</td>\n",
       "    </tr>\n",
       "    <tr>\n",
       "      <th>3</th>\n",
       "      <td>15</td>\n",
       "      <td>71</td>\n",
       "      <td>43</td>\n",
       "    </tr>\n",
       "    <tr>\n",
       "      <th>4</th>\n",
       "      <td>15</td>\n",
       "      <td>10</td>\n",
       "      <td>43</td>\n",
       "    </tr>\n",
       "  </tbody>\n",
       "</table>\n",
       "</div>"
      ],
      "text/plain": [
       "   province  infection_case  confirmed\n",
       "0        15              34        139\n",
       "1        15              50        119\n",
       "2        15              26         95\n",
       "3        15              71         43\n",
       "4        15              10         43"
      ]
     },
     "execution_count": 6,
     "metadata": {},
     "output_type": "execute_result"
    }
   ],
   "source": [
    "df.columns = df.columns.str.strip()  # remove spaces in column names\n",
    "df = df.drop(['case_id', 'city', 'group', 'latitude', 'longitude'], axis=1)\n",
    "df = df.dropna()\n",
    "df['province'] = df['province'].astype('category').cat.codes\n",
    "df['infection_case'] = df['infection_case'].astype('category').cat.codes\n",
    "df.head()"
   ]
  },
  {
   "cell_type": "code",
   "execution_count": 7,
   "id": "1da81c63",
   "metadata": {
    "execution": {
     "iopub.execute_input": "2025-10-03T17:07:53.970553Z",
     "iopub.status.busy": "2025-10-03T17:07:53.970236Z",
     "iopub.status.idle": "2025-10-03T17:07:54.560061Z",
     "shell.execute_reply": "2025-10-03T17:07:54.559117Z"
    },
    "papermill": {
     "duration": 0.595624,
     "end_time": "2025-10-03T17:07:54.561612",
     "exception": false,
     "start_time": "2025-10-03T17:07:53.965988",
     "status": "completed"
    },
    "tags": []
   },
   "outputs": [
    {
     "data": {
      "image/png": "[encoded data removed]",
      "text/plain": [
       "<Figure size 1000x600 with 1 Axes>"
      ]
     },
     "metadata": {},
     "output_type": "display_data"
    }
   ],
   "source": [
    "plt.figure(figsize=(10,6))\n",
    "sns.barplot(x='province', y='confirmed', data=df, estimator=sum)\n",
    "plt.title('Total Confirmed Cases by Province')\n",
    "plt.xlabel('Province Code')\n",
    "plt.ylabel('Confirmed Cases')\n",
    "plt.show()"
   ]
  },
  {
   "cell_type": "code",
   "execution_count": 8,
   "id": "13f4825f",
   "metadata": {
    "execution": {
     "iopub.execute_input": "2025-10-03T17:07:54.570743Z",
     "iopub.status.busy": "2025-10-03T17:07:54.570394Z",
     "iopub.status.idle": "2025-10-03T17:07:54.577587Z",
     "shell.execute_reply": "2025-10-03T17:07:54.576781Z"
    },
    "papermill": {
     "duration": 0.013515,
     "end_time": "2025-10-03T17:07:54.579123",
     "exception": false,
     "start_time": "2025-10-03T17:07:54.565608",
     "status": "completed"
    },
    "tags": []
   },
   "outputs": [],
   "source": [
    "X = df.drop('confirmed', axis=1)\n",
    "y = df['confirmed']"
   ]
  },
  {
   "cell_type": "code",
   "execution_count": 9,
   "id": "60810e26",
   "metadata": {
    "execution": {
     "iopub.execute_input": "2025-10-03T17:07:54.587919Z",
     "iopub.status.busy": "2025-10-03T17:07:54.587594Z",
     "iopub.status.idle": "2025-10-03T17:07:54.595890Z",
     "shell.execute_reply": "2025-10-03T17:07:54.595103Z"
    },
    "papermill": {
     "duration": 0.014156,
     "end_time": "2025-10-03T17:07:54.597200",
     "exception": false,
     "start_time": "2025-10-03T17:07:54.583044",
     "status": "completed"
    },
    "tags": []
   },
   "outputs": [],
   "source": [
    "X_train, X_test, y_train, y_test = train_test_split(X, y, test_size=0.2, random_state=42)"
   ]
  },
  {
   "cell_type": "code",
   "execution_count": 10,
   "id": "eaf38c16",
   "metadata": {
    "execution": {
     "iopub.execute_input": "2025-10-03T17:07:54.605930Z",
     "iopub.status.busy": "2025-10-03T17:07:54.605611Z",
     "iopub.status.idle": "2025-10-03T17:07:54.743215Z",
     "shell.execute_reply": "2025-10-03T17:07:54.742282Z"
    },
    "papermill": {
     "duration": 0.143618,
     "end_time": "2025-10-03T17:07:54.744664",
     "exception": false,
     "start_time": "2025-10-03T17:07:54.601046",
     "status": "completed"
    },
    "tags": []
   },
   "outputs": [
    {
     "data": {
      "text/html": [
       "<style>#sk-container-id-1 {color: black;background-color: white;}#sk-container-id-1 pre{padding: 0;}#sk-container-id-1 div.sk-toggleable {background-color: white;}#sk-container-id-1 label.sk-toggleable__label {cursor: pointer;display: block;width: 100%;margin-bottom: 0;padding: 0.3em;box-sizing: border-box;text-align: center;}#sk-container-id-1 label.sk-toggleable__label-arrow:before {content: \"▸\";float: left;margin-right: 0.25em;color: #696969;}#sk-container-id-1 label.sk-toggleable__label-arrow:hover:before {color: black;}#sk-container-id-1 div.sk-estimator:hover label.sk-toggleable__label-arrow:before {color: black;}#sk-container-id-1 div.sk-toggleable__content {max-height: 0;max-width: 0;overflow: hidden;text-align: left;background-color: #f0f8ff;}#sk-container-id-1 div.sk-toggleable__content pre {margin: 0.2em;color: black;border-radius: 0.25em;background-color: #f0f8ff;}#sk-container-id-1 input.sk-toggleable__control:checked~div.sk-toggleable__content {max-height: 200px;max-width: 100%;overflow: auto;}#sk-container-id-1 input.sk-toggleable__control:checked~label.sk-toggleable__label-arrow:before {content: \"▾\";}#sk-container-id-1 div.sk-estimator input.sk-toggleable__control:checked~label.sk-toggleable__label {background-color: #d4ebff;}#sk-container-id-1 div.sk-label input.sk-toggleable__control:checked~label.sk-toggleable__label {background-color: #d4ebff;}#sk-container-id-1 input.sk-hidden--visually {border: 0;clip: rect(1px 1px 1px 1px);clip: rect(1px, 1px, 1px, 1px);height: 1px;margin: -1px;overflow: hidden;padding: 0;position: absolute;width: 1px;}#sk-container-id-1 div.sk-estimator {font-family: monospace;background-color: #f0f8ff;border: 1px dotted black;border-radius: 0.25em;box-sizing: border-box;margin-bottom: 0.5em;}#sk-container-id-1 div.sk-estimator:hover {background-color: #d4ebff;}#sk-container-id-1 div.sk-parallel-item::after {content: \"\";width: 100%;border-bottom: 1px solid gray;flex-grow: 1;}#sk-container-id-1 div.sk-label:hover label.sk-toggleable__label {background-color: #d4ebff;}#sk-container-id-1 div.sk-serial::before {content: \"\";position: absolute;border-left: 1px solid gray;box-sizing: border-box;top: 0;bottom: 0;left: 50%;z-index: 0;}#sk-container-id-1 div.sk-serial {display: flex;flex-direction: column;align-items: center;background-color: white;padding-right: 0.2em;padding-left: 0.2em;position: relative;}#sk-container-id-1 div.sk-item {position: relative;z-index: 1;}#sk-container-id-1 div.sk-parallel {display: flex;align-items: stretch;justify-content: center;background-color: white;position: relative;}#sk-container-id-1 div.sk-item::before, #sk-container-id-1 div.sk-parallel-item::before {content: \"\";position: absolute;border-left: 1px solid gray;box-sizing: border-box;top: 0;bottom: 0;left: 50%;z-index: -1;}#sk-container-id-1 div.sk-parallel-item {display: flex;flex-direction: column;z-index: 1;position: relative;background-color: white;}#sk-container-id-1 div.sk-parallel-item:first-child::after {align-self: flex-end;width: 50%;}#sk-container-id-1 div.sk-parallel-item:last-child::after {align-self: flex-start;width: 50%;}#sk-container-id-1 div.sk-parallel-item:only-child::after {width: 0;}#sk-container-id-1 div.sk-dashed-wrapped {border: 1px dashed gray;margin: 0 0.4em 0.5em 0.4em;box-sizing: border-box;padding-bottom: 0.4em;background-color: white;}#sk-container-id-1 div.sk-label label {font-family: monospace;font-weight: bold;display: inline-block;line-height: 1.2em;}#sk-container-id-1 div.sk-label-container {text-align: center;}#sk-container-id-1 div.sk-container {/* jupyter's `normalize.less` sets `[hidden] { display: none; }` but bootstrap.min.css set `[hidden] { display: none !important; }` so we also need the `!important` here to be able to override the default hidden behavior on the sphinx rendered scikit-learn.org. See: https://github.com/scikit-learn/scikit-learn/issues/21755 */display: inline-block !important;position: relative;}#sk-container-id-1 div.sk-text-repr-fallback {display: none;}</style><div id=\"sk-container-id-1\" class=\"sk-top-container\"><div class=\"sk-text-repr-fallback\"><pre>RandomForestRegressor()</pre><b>In a Jupyter environment, please rerun this cell to show the HTML representation or trust the notebook. <br />On GitHub, the HTML representation is unable to render, please try loading this page with nbviewer.org.</b></div><div class=\"sk-container\" hidden><div class=\"sk-item\"><div class=\"sk-estimator sk-toggleable\"><input class=\"sk-toggleable__control sk-hidden--visually\" id=\"sk-estimator-id-1\" type=\"checkbox\" checked><label for=\"sk-estimator-id-1\" class=\"sk-toggleable__label sk-toggleable__label-arrow\">RandomForestRegressor</label><div class=\"sk-toggleable__content\"><pre>RandomForestRegressor()</pre></div></div></div></div></div>"
      ],
      "text/plain": [
       "RandomForestRegressor()"
      ]
     },
     "execution_count": 10,
     "metadata": {},
     "output_type": "execute_result"
    }
   ],
   "source": [
    "model = RandomForestRegressor()\n",
    "model.fit(X_train, y_train)"
   ]
  },
  {
   "cell_type": "code",
   "execution_count": 11,
   "id": "9b7d344a",
   "metadata": {
    "execution": {
     "iopub.execute_input": "2025-10-03T17:07:54.754807Z",
     "iopub.status.busy": "2025-10-03T17:07:54.754062Z",
     "iopub.status.idle": "2025-10-03T17:07:54.765926Z",
     "shell.execute_reply": "2025-10-03T17:07:54.764683Z"
    },
    "papermill": {
     "duration": 0.018461,
     "end_time": "2025-10-03T17:07:54.767503",
     "exception": false,
     "start_time": "2025-10-03T17:07:54.749042",
     "status": "completed"
    },
    "tags": []
   },
   "outputs": [
    {
     "name": "stdout",
     "output_type": "stream",
     "text": [
      "R² Score: -1.621641772637806\n"
     ]
    }
   ],
   "source": [
    "y_pred = model.predict(X_test)\n",
    "print(\"R² Score:\", r2_score(y_test, y_pred))"
   ]
  },
  {
   "cell_type": "code",
   "execution_count": 12,
   "id": "65508c78",
   "metadata": {
    "execution": {
     "iopub.execute_input": "2025-10-03T17:07:54.776872Z",
     "iopub.status.busy": "2025-10-03T17:07:54.776545Z",
     "iopub.status.idle": "2025-10-03T17:07:54.976069Z",
     "shell.execute_reply": "2025-10-03T17:07:54.975157Z"
    },
    "papermill": {
     "duration": 0.206004,
     "end_time": "2025-10-03T17:07:54.977645",
     "exception": false,
     "start_time": "2025-10-03T17:07:54.771641",
     "status": "completed"
    },
    "tags": []
   },
   "outputs": [
    {
     "data": {
      "image/png": "[encoded data removed]",
      "text/plain": [
       "<Figure size 800x600 with 1 Axes>"
      ]
     },
     "metadata": {},
     "output_type": "display_data"
    }
   ],
   "source": [
    "plt.figure(figsize=(8,6))\n",
    "plt.scatter(y_test, y_pred, alpha=0.7, color='green')\n",
    "plt.xlabel(\"Actual Confirmed Cases\")\n",
    "plt.ylabel(\"Predicted Confirmed Cases\")\n",
    "plt.title(\"Actual vs Predicted Confirmed Cases\")\n",
    "plt.plot([y.min(), y.max()], [y.min(), y.max()], 'r--')  # ideal line\n",
    "plt.show()"
   ]
  }
 ],
 "metadata": {
  "kaggle": {
   "accelerator": "none",
   "dataSources": [
    {
     "datasetId": 527325,
     "sourceId": 1332417,
     "sourceType": "datasetVersion"
    }
   ],
   "dockerImageVersionId": 31089,
   "isGpuEnabled": false,
   "isInternetEnabled": true,
   "language": "python",
   "sourceType": "notebook"
  },
  "kernelspec": {
   "display_name": "Python 3",
   "language": "python",
   "name": "python3"
  },
  "language_info": {
   "codemirror_mode": {
    "name": "ipython",
    "version": 3
   },
   "file_extension": ".py",
   "mimetype": "text/x-python",
   "name": "python",
   "nbconvert_exporter": "python",
   "pygments_lexer": "ipython3",
   "version": "3.11.13"
  },
  "papermill": {
   "default_parameters": {},
   "duration": 12.452537,
   "end_time": "2025-10-03T17:07:55.703940",
   "environment_variables": {},
   "exception": null,
   "input_path": "__notebook__.ipynb",
   "output_path": "__notebook__.ipynb",
   "parameters": {},
   "start_time": "2025-10-03T17:07:43.251403",
   "version": "2.6.0"
  }
 },
 "nbformat": 4,
 "nbformat_minor": 5
}
