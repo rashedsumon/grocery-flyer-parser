{
 "cells": [
  {
   "cell_type": "code",
   "execution_count": 1,
   "id": "17d82f51",
   "metadata": {
    "_cell_guid": "b1076dfc-b9ad-4769-8c92-a6c4dae69d19",
    "_uuid": "8f2839f25d086af736a60e9eeb907d3b93b6e0e5",
    "execution": {
     "iopub.execute_input": "2025-10-03T11:24:41.915044Z",
     "iopub.status.busy": "2025-10-03T11:24:41.914599Z",
     "iopub.status.idle": "2025-10-03T11:24:44.111071Z",
     "shell.execute_reply": "2025-10-03T11:24:44.109745Z"
    },
    "papermill": {
     "duration": 2.203971,
     "end_time": "2025-10-03T11:24:44.113200",
     "exception": false,
     "start_time": "2025-10-03T11:24:41.909229",
     "status": "completed"
    },
    "tags": []
   },
   "outputs": [
    {
     "name": "stdout",
     "output_type": "stream",
     "text": [
      "/kaggle/input/stroke-risk-prediction-dataset-v2/stroke_risk_dataset_v2.csv\n"
     ]
    }
   ],
   "source": [
    "# This Python 3 environment comes with many helpful analytics libraries installed\n",
    "# It is defined by the kaggle/python Docker image: https://github.com/kaggle/docker-python\n",
    "# For example, here's several helpful packages to load\n",
    "\n",
    "import numpy as np # linear algebra\n",
    "import pandas as pd # data processing, CSV file I/O (e.g. pd.read_csv)\n",
    "\n",
    "# Input data files are available in the read-only \"../input/\" directory\n",
    "# For example, running this (by clicking run or pressing Shift+Enter) will list all files under the input directory\n",
    "\n",
    "import os\n",
    "for dirname, _, filenames in os.walk('/kaggle/input'):\n",
    "    for filename in filenames:\n",
    "        print(os.path.join(dirname, filename))\n",
    "\n",
    "# You can write up to 20GB to the current directory (/kaggle/working/) that gets preserved as output when you create a version using \"Save & Run All\" \n",
    "# You can also write temporary files to /kaggle/temp/, but they won't be saved outside of the current session"
   ]
  },
  {
   "cell_type": "code",
   "execution_count": 2,
   "id": "c0f0d090",
   "metadata": {
    "execution": {
     "iopub.execute_input": "2025-10-03T11:24:44.121754Z",
     "iopub.status.busy": "2025-10-03T11:24:44.121298Z",
     "iopub.status.idle": "2025-10-03T11:24:44.126942Z",
     "shell.execute_reply": "2025-10-03T11:24:44.125747Z"
    },
    "papermill": {
     "duration": 0.011614,
     "end_time": "2025-10-03T11:24:44.128713",
     "exception": false,
     "start_time": "2025-10-03T11:24:44.117099",
     "status": "completed"
    },
    "tags": []
   },
   "outputs": [],
   "source": [
    "import warnings\n",
    "warnings.filterwarnings(\"ignore\")"
   ]
  },
  {
   "cell_type": "code",
   "execution_count": 3,
   "id": "d81ed3e8",
   "metadata": {
    "execution": {
     "iopub.execute_input": "2025-10-03T11:24:44.137578Z",
     "iopub.status.busy": "2025-10-03T11:24:44.137260Z",
     "iopub.status.idle": "2025-10-03T11:24:46.475539Z",
     "shell.execute_reply": "2025-10-03T11:24:46.474464Z"
    },
    "papermill": {
     "duration": 2.345388,
     "end_time": "2025-10-03T11:24:46.477547",
     "exception": false,
     "start_time": "2025-10-03T11:24:44.132159",
     "status": "completed"
    },
    "tags": []
   },
   "outputs": [],
   "source": [
    "# Import necessary libraries\n",
    "import pandas as pd\n",
    "import matplotlib.pyplot as plt\n",
    "import seaborn as sns"
   ]
  },
  {
   "cell_type": "code",
   "execution_count": 4,
   "id": "48985894",
   "metadata": {
    "execution": {
     "iopub.execute_input": "2025-10-03T11:24:46.485648Z",
     "iopub.status.busy": "2025-10-03T11:24:46.485128Z",
     "iopub.status.idle": "2025-10-03T11:24:46.622359Z",
     "shell.execute_reply": "2025-10-03T11:24:46.621273Z"
    },
    "papermill": {
     "duration": 0.143192,
     "end_time": "2025-10-03T11:24:46.624084",
     "exception": false,
     "start_time": "2025-10-03T11:24:46.480892",
     "status": "completed"
    },
    "tags": []
   },
   "outputs": [
    {
     "data": {
      "text/html": [
       "<div>\n",
       "<style scoped>\n",
       "    .dataframe tbody tr th:only-of-type {\n",
       "        vertical-align: middle;\n",
       "    }\n",
       "\n",
       "    .dataframe tbody tr th {\n",
       "        vertical-align: top;\n",
       "    }\n",
       "\n",
       "    .dataframe thead th {\n",
       "        text-align: right;\n",
       "    }\n",
       "</style>\n",
       "<table border=\"1\" class=\"dataframe\">\n",
       "  <thead>\n",
       "    <tr style=\"text-align: right;\">\n",
       "      <th></th>\n",
       "      <th>age</th>\n",
       "      <th>gender</th>\n",
       "      <th>chest_pain</th>\n",
       "      <th>high_blood_pressure</th>\n",
       "      <th>irregular_heartbeat</th>\n",
       "      <th>shortness_of_breath</th>\n",
       "      <th>fatigue_weakness</th>\n",
       "      <th>dizziness</th>\n",
       "      <th>swelling_edema</th>\n",
       "      <th>neck_jaw_pain</th>\n",
       "      <th>excessive_sweating</th>\n",
       "      <th>persistent_cough</th>\n",
       "      <th>nausea_vomiting</th>\n",
       "      <th>chest_discomfort</th>\n",
       "      <th>cold_hands_feet</th>\n",
       "      <th>snoring_sleep_apnea</th>\n",
       "      <th>anxiety_doom</th>\n",
       "      <th>stroke_risk_percentage</th>\n",
       "      <th>at_risk</th>\n",
       "    </tr>\n",
       "  </thead>\n",
       "  <tbody>\n",
       "    <tr>\n",
       "      <th>0</th>\n",
       "      <td>22</td>\n",
       "      <td>Male</td>\n",
       "      <td>1</td>\n",
       "      <td>0</td>\n",
       "      <td>0</td>\n",
       "      <td>0</td>\n",
       "      <td>0</td>\n",
       "      <td>0</td>\n",
       "      <td>0</td>\n",
       "      <td>0</td>\n",
       "      <td>0</td>\n",
       "      <td>1</td>\n",
       "      <td>0</td>\n",
       "      <td>0</td>\n",
       "      <td>0</td>\n",
       "      <td>0</td>\n",
       "      <td>0</td>\n",
       "      <td>33.3</td>\n",
       "      <td>0</td>\n",
       "    </tr>\n",
       "    <tr>\n",
       "      <th>1</th>\n",
       "      <td>52</td>\n",
       "      <td>Male</td>\n",
       "      <td>0</td>\n",
       "      <td>1</td>\n",
       "      <td>1</td>\n",
       "      <td>0</td>\n",
       "      <td>0</td>\n",
       "      <td>0</td>\n",
       "      <td>0</td>\n",
       "      <td>0</td>\n",
       "      <td>0</td>\n",
       "      <td>0</td>\n",
       "      <td>0</td>\n",
       "      <td>0</td>\n",
       "      <td>1</td>\n",
       "      <td>1</td>\n",
       "      <td>0</td>\n",
       "      <td>100.0</td>\n",
       "      <td>1</td>\n",
       "    </tr>\n",
       "    <tr>\n",
       "      <th>2</th>\n",
       "      <td>63</td>\n",
       "      <td>Female</td>\n",
       "      <td>0</td>\n",
       "      <td>1</td>\n",
       "      <td>0</td>\n",
       "      <td>0</td>\n",
       "      <td>0</td>\n",
       "      <td>1</td>\n",
       "      <td>0</td>\n",
       "      <td>0</td>\n",
       "      <td>0</td>\n",
       "      <td>0</td>\n",
       "      <td>0</td>\n",
       "      <td>0</td>\n",
       "      <td>0</td>\n",
       "      <td>0</td>\n",
       "      <td>0</td>\n",
       "      <td>100.0</td>\n",
       "      <td>1</td>\n",
       "    </tr>\n",
       "    <tr>\n",
       "      <th>3</th>\n",
       "      <td>41</td>\n",
       "      <td>Male</td>\n",
       "      <td>0</td>\n",
       "      <td>0</td>\n",
       "      <td>1</td>\n",
       "      <td>0</td>\n",
       "      <td>1</td>\n",
       "      <td>0</td>\n",
       "      <td>0</td>\n",
       "      <td>0</td>\n",
       "      <td>0</td>\n",
       "      <td>0</td>\n",
       "      <td>0</td>\n",
       "      <td>0</td>\n",
       "      <td>0</td>\n",
       "      <td>0</td>\n",
       "      <td>0</td>\n",
       "      <td>44.5</td>\n",
       "      <td>0</td>\n",
       "    </tr>\n",
       "    <tr>\n",
       "      <th>4</th>\n",
       "      <td>53</td>\n",
       "      <td>Male</td>\n",
       "      <td>0</td>\n",
       "      <td>0</td>\n",
       "      <td>0</td>\n",
       "      <td>0</td>\n",
       "      <td>0</td>\n",
       "      <td>1</td>\n",
       "      <td>1</td>\n",
       "      <td>0</td>\n",
       "      <td>0</td>\n",
       "      <td>0</td>\n",
       "      <td>1</td>\n",
       "      <td>0</td>\n",
       "      <td>1</td>\n",
       "      <td>0</td>\n",
       "      <td>0</td>\n",
       "      <td>84.8</td>\n",
       "      <td>1</td>\n",
       "    </tr>\n",
       "  </tbody>\n",
       "</table>\n",
       "</div>"
      ],
      "text/plain": [
       "   age  gender  chest_pain  high_blood_pressure  irregular_heartbeat  \\\n",
       "0   22    Male           1                    0                    0   \n",
       "1   52    Male           0                    1                    1   \n",
       "2   63  Female           0                    1                    0   \n",
       "3   41    Male           0                    0                    1   \n",
       "4   53    Male           0                    0                    0   \n",
       "\n",
       "   shortness_of_breath  fatigue_weakness  dizziness  swelling_edema  \\\n",
       "0                    0                 0          0               0   \n",
       "1                    0                 0          0               0   \n",
       "2                    0                 0          1               0   \n",
       "3                    0                 1          0               0   \n",
       "4                    0                 0          1               1   \n",
       "\n",
       "   neck_jaw_pain  excessive_sweating  persistent_cough  nausea_vomiting  \\\n",
       "0              0                   0                 1                0   \n",
       "1              0                   0                 0                0   \n",
       "2              0                   0                 0                0   \n",
       "3              0                   0                 0                0   \n",
       "4              0                   0                 0                1   \n",
       "\n",
       "   chest_discomfort  cold_hands_feet  snoring_sleep_apnea  anxiety_doom  \\\n",
       "0                 0                0                    0             0   \n",
       "1                 0                1                    1             0   \n",
       "2                 0                0                    0             0   \n",
       "3                 0                0                    0             0   \n",
       "4                 0                1                    0             0   \n",
       "\n",
       "   stroke_risk_percentage  at_risk  \n",
       "0                    33.3        0  \n",
       "1                   100.0        1  \n",
       "2                   100.0        1  \n",
       "3                    44.5        0  \n",
       "4                    84.8        1  "
      ]
     },
     "execution_count": 4,
     "metadata": {},
     "output_type": "execute_result"
    }
   ],
   "source": [
    "df = pd.read_csv('/kaggle/input/stroke-risk-prediction-dataset-v2/stroke_risk_dataset_v2.csv')\n",
    "df.head()"
   ]
  },
  {
   "cell_type": "code",
   "execution_count": 5,
   "id": "09b041f6",
   "metadata": {
    "execution": {
     "iopub.execute_input": "2025-10-03T11:24:46.633316Z",
     "iopub.status.busy": "2025-10-03T11:24:46.632318Z",
     "iopub.status.idle": "2025-10-03T11:24:46.640954Z",
     "shell.execute_reply": "2025-10-03T11:24:46.640030Z"
    },
    "papermill": {
     "duration": 0.014593,
     "end_time": "2025-10-03T11:24:46.642447",
     "exception": false,
     "start_time": "2025-10-03T11:24:46.627854",
     "status": "completed"
    },
    "tags": []
   },
   "outputs": [
    {
     "data": {
      "text/plain": [
       "Index(['age', 'gender', 'chest_pain', 'high_blood_pressure',\n",
       "       'irregular_heartbeat', 'shortness_of_breath', 'fatigue_weakness',\n",
       "       'dizziness', 'swelling_edema', 'neck_jaw_pain', 'excessive_sweating',\n",
       "       'persistent_cough', 'nausea_vomiting', 'chest_discomfort',\n",
       "       'cold_hands_feet', 'snoring_sleep_apnea', 'anxiety_doom',\n",
       "       'stroke_risk_percentage', 'at_risk'],\n",
       "      dtype='object')"
      ]
     },
     "execution_count": 5,
     "metadata": {},
     "output_type": "execute_result"
    }
   ],
   "source": [
    "df.columns"
   ]
  },
  {
   "cell_type": "code",
   "execution_count": 6,
   "id": "3cf8b879",
   "metadata": {
    "execution": {
     "iopub.execute_input": "2025-10-03T11:24:46.651109Z",
     "iopub.status.busy": "2025-10-03T11:24:46.650767Z",
     "iopub.status.idle": "2025-10-03T11:24:46.683629Z",
     "shell.execute_reply": "2025-10-03T11:24:46.682399Z"
    },
    "papermill": {
     "duration": 0.040703,
     "end_time": "2025-10-03T11:24:46.686895",
     "exception": false,
     "start_time": "2025-10-03T11:24:46.646192",
     "status": "completed"
    },
    "tags": []
   },
   "outputs": [
    {
     "name": "stdout",
     "output_type": "stream",
     "text": [
      "<class 'pandas.core.frame.DataFrame'>\n",
      "RangeIndex: 35000 entries, 0 to 34999\n",
      "Data columns (total 19 columns):\n",
      " #   Column                  Non-Null Count  Dtype  \n",
      "---  ------                  --------------  -----  \n",
      " 0   age                     35000 non-null  int64  \n",
      " 1   gender                  35000 non-null  object \n",
      " 2   chest_pain              35000 non-null  int64  \n",
      " 3   high_blood_pressure     35000 non-null  int64  \n",
      " 4   irregular_heartbeat     35000 non-null  int64  \n",
      " 5   shortness_of_breath     35000 non-null  int64  \n",
      " 6   fatigue_weakness        35000 non-null  int64  \n",
      " 7   dizziness               35000 non-null  int64  \n",
      " 8   swelling_edema          35000 non-null  int64  \n",
      " 9   neck_jaw_pain           35000 non-null  int64  \n",
      " 10  excessive_sweating      35000 non-null  int64  \n",
      " 11  persistent_cough        35000 non-null  int64  \n",
      " 12  nausea_vomiting         35000 non-null  int64  \n",
      " 13  chest_discomfort        35000 non-null  int64  \n",
      " 14  cold_hands_feet         35000 non-null  int64  \n",
      " 15  snoring_sleep_apnea     35000 non-null  int64  \n",
      " 16  anxiety_doom            35000 non-null  int64  \n",
      " 17  stroke_risk_percentage  35000 non-null  float64\n",
      " 18  at_risk                 35000 non-null  int64  \n",
      "dtypes: float64(1), int64(17), object(1)\n",
      "memory usage: 5.1+ MB\n",
      "None\n"
     ]
    }
   ],
   "source": [
    "# Check basic info\n",
    "print(df.info())"
   ]
  },
  {
   "cell_type": "code",
   "execution_count": 7,
   "id": "36dba05a",
   "metadata": {
    "execution": {
     "iopub.execute_input": "2025-10-03T11:24:46.696094Z",
     "iopub.status.busy": "2025-10-03T11:24:46.695734Z",
     "iopub.status.idle": "2025-10-03T11:24:46.711830Z",
     "shell.execute_reply": "2025-10-03T11:24:46.710542Z"
    },
    "papermill": {
     "duration": 0.022735,
     "end_time": "2025-10-03T11:24:46.713744",
     "exception": false,
     "start_time": "2025-10-03T11:24:46.691009",
     "status": "completed"
    },
    "tags": []
   },
   "outputs": [
    {
     "name": "stdout",
     "output_type": "stream",
     "text": [
      "age                       0\n",
      "gender                    0\n",
      "chest_pain                0\n",
      "high_blood_pressure       0\n",
      "irregular_heartbeat       0\n",
      "shortness_of_breath       0\n",
      "fatigue_weakness          0\n",
      "dizziness                 0\n",
      "swelling_edema            0\n",
      "neck_jaw_pain             0\n",
      "excessive_sweating        0\n",
      "persistent_cough          0\n",
      "nausea_vomiting           0\n",
      "chest_discomfort          0\n",
      "cold_hands_feet           0\n",
      "snoring_sleep_apnea       0\n",
      "anxiety_doom              0\n",
      "stroke_risk_percentage    0\n",
      "at_risk                   0\n",
      "dtype: int64\n"
     ]
    }
   ],
   "source": [
    "# Check missing values\n",
    "print(df.isnull().sum())"
   ]
  },
  {
   "cell_type": "code",
   "execution_count": 8,
   "id": "45420d79",
   "metadata": {
    "execution": {
     "iopub.execute_input": "2025-10-03T11:24:46.722780Z",
     "iopub.status.busy": "2025-10-03T11:24:46.722433Z",
     "iopub.status.idle": "2025-10-03T11:24:47.107920Z",
     "shell.execute_reply": "2025-10-03T11:24:47.107073Z"
    },
    "papermill": {
     "duration": 0.391581,
     "end_time": "2025-10-03T11:24:47.109468",
     "exception": false,
     "start_time": "2025-10-03T11:24:46.717887",
     "status": "completed"
    },
    "tags": []
   },
   "outputs": [
    {
     "data": {
      "image/png": "[encoded data removed]",
      "text/plain": [
       "<Figure size 640x480 with 1 Axes>"
      ]
     },
     "metadata": {},
     "output_type": "display_data"
    }
   ],
   "source": [
    "# Visualize target 'at_risk' (0 = No, 1 = Yes)\n",
    "sns.countplot(x='at_risk', data=df, palette='coolwarm')\n",
    "plt.title('Stroke Risk Distribution')\n",
    "plt.show()"
   ]
  },
  {
   "cell_type": "code",
   "execution_count": 9,
   "id": "cc396cbd",
   "metadata": {
    "execution": {
     "iopub.execute_input": "2025-10-03T11:24:47.119290Z",
     "iopub.status.busy": "2025-10-03T11:24:47.118933Z",
     "iopub.status.idle": "2025-10-03T11:24:47.576308Z",
     "shell.execute_reply": "2025-10-03T11:24:47.575270Z"
    },
    "papermill": {
     "duration": 0.464497,
     "end_time": "2025-10-03T11:24:47.578252",
     "exception": false,
     "start_time": "2025-10-03T11:24:47.113755",
     "status": "completed"
    },
    "tags": []
   },
   "outputs": [
    {
     "data": {
      "image/png": "[encoded data removed]",
      "text/plain": [
       "<Figure size 640x480 with 1 Axes>"
      ]
     },
     "metadata": {},
     "output_type": "display_data"
    }
   ],
   "source": [
    "# Visualize age distribution\n",
    "sns.histplot(df['age'], bins=20, kde=True, color='purple')\n",
    "plt.title('Age Distribution')\n",
    "plt.show()"
   ]
  },
  {
   "cell_type": "code",
   "execution_count": 10,
   "id": "2797cb43",
   "metadata": {
    "execution": {
     "iopub.execute_input": "2025-10-03T11:24:47.597388Z",
     "iopub.status.busy": "2025-10-03T11:24:47.593733Z",
     "iopub.status.idle": "2025-10-03T11:24:47.614703Z",
     "shell.execute_reply": "2025-10-03T11:24:47.613663Z"
    },
    "papermill": {
     "duration": 0.030644,
     "end_time": "2025-10-03T11:24:47.616556",
     "exception": false,
     "start_time": "2025-10-03T11:24:47.585912",
     "status": "completed"
    },
    "tags": []
   },
   "outputs": [],
   "source": [
    "# Convert categorical columns to numeric using one-hot encoding\n",
    "df = pd.get_dummies(df, drop_first=True)"
   ]
  },
  {
   "cell_type": "code",
   "execution_count": 11,
   "id": "093c36f5",
   "metadata": {
    "execution": {
     "iopub.execute_input": "2025-10-03T11:24:47.636739Z",
     "iopub.status.busy": "2025-10-03T11:24:47.636386Z",
     "iopub.status.idle": "2025-10-03T11:24:47.646511Z",
     "shell.execute_reply": "2025-10-03T11:24:47.644925Z"
    },
    "papermill": {
     "duration": 0.026776,
     "end_time": "2025-10-03T11:24:47.650974",
     "exception": false,
     "start_time": "2025-10-03T11:24:47.624198",
     "status": "completed"
    },
    "tags": []
   },
   "outputs": [],
   "source": [
    "# Define features and target\n",
    "X = df.drop(['at_risk'], axis=1)\n",
    "y = df['at_risk']"
   ]
  },
  {
   "cell_type": "code",
   "execution_count": 12,
   "id": "e5ddbbb0",
   "metadata": {
    "execution": {
     "iopub.execute_input": "2025-10-03T11:24:47.663325Z",
     "iopub.status.busy": "2025-10-03T11:24:47.662328Z",
     "iopub.status.idle": "2025-10-03T11:24:48.017291Z",
     "shell.execute_reply": "2025-10-03T11:24:48.016441Z"
    },
    "papermill": {
     "duration": 0.362629,
     "end_time": "2025-10-03T11:24:48.019050",
     "exception": false,
     "start_time": "2025-10-03T11:24:47.656421",
     "status": "completed"
    },
    "tags": []
   },
   "outputs": [],
   "source": [
    "from sklearn.model_selection import train_test_split\n",
    "X_train, X_test, y_train, y_test = train_test_split(X, y, test_size=0.2, random_state=42)"
   ]
  },
  {
   "cell_type": "code",
   "execution_count": 13,
   "id": "196d07ad",
   "metadata": {
    "execution": {
     "iopub.execute_input": "2025-10-03T11:24:48.030187Z",
     "iopub.status.busy": "2025-10-03T11:24:48.029831Z",
     "iopub.status.idle": "2025-10-03T11:24:52.402848Z",
     "shell.execute_reply": "2025-10-03T11:24:52.401620Z"
    },
    "papermill": {
     "duration": 4.381241,
     "end_time": "2025-10-03T11:24:52.405253",
     "exception": false,
     "start_time": "2025-10-03T11:24:48.024012",
     "status": "completed"
    },
    "tags": []
   },
   "outputs": [
    {
     "name": "stdout",
     "output_type": "stream",
     "text": [
      "Logistic Regression Accuracy: 0.9999\n",
      "Random Forest Accuracy: 0.9999\n",
      "Gradient Boosting Accuracy: 0.9999\n",
      "\n",
      "✅ Best Model: LogisticRegression with Accuracy: 0.9999\n"
     ]
    }
   ],
   "source": [
    "from sklearn.linear_model import LogisticRegression\n",
    "from sklearn.ensemble import RandomForestClassifier, GradientBoostingClassifier\n",
    "from sklearn.metrics import accuracy_score\n",
    "\n",
    "# Initialize models\n",
    "models = {\n",
    "    \"Logistic Regression\": LogisticRegression(max_iter=1000),\n",
    "    \"Random Forest\": RandomForestClassifier(),\n",
    "    \"Gradient Boosting\": GradientBoostingClassifier()\n",
    "}\n",
    "\n",
    "best_model = None\n",
    "best_score = 0\n",
    "\n",
    "# Train and evaluate each model\n",
    "for name, model in models.items():\n",
    "    model.fit(X_train, y_train)\n",
    "    score = accuracy_score(y_test, model.predict(X_test))\n",
    "    print(f\"{name} Accuracy: {score:.4f}\")\n",
    "    \n",
    "    if score > best_score:\n",
    "        best_score = score\n",
    "        best_model = model\n",
    "\n",
    "print(\"\\n✅ Best Model:\", best_model.__class__.__name__, \"with Accuracy:\", round(best_score, 4))"
   ]
  },
  {
   "cell_type": "code",
   "execution_count": 14,
   "id": "1444c516",
   "metadata": {
    "execution": {
     "iopub.execute_input": "2025-10-03T11:24:52.418144Z",
     "iopub.status.busy": "2025-10-03T11:24:52.417803Z",
     "iopub.status.idle": "2025-10-03T11:24:52.631346Z",
     "shell.execute_reply": "2025-10-03T11:24:52.630140Z"
    },
    "papermill": {
     "duration": 0.222184,
     "end_time": "2025-10-03T11:24:52.633181",
     "exception": false,
     "start_time": "2025-10-03T11:24:52.410997",
     "status": "completed"
    },
    "tags": []
   },
   "outputs": [
    {
     "data": {
      "image/png": "[encoded data removed]",
      "text/plain": [
       "<Figure size 640x480 with 2 Axes>"
      ]
     },
     "metadata": {},
     "output_type": "display_data"
    }
   ],
   "source": [
    "from sklearn.metrics import confusion_matrix, ConfusionMatrixDisplay\n",
    "\n",
    "# Predict using the best model\n",
    "y_pred = best_model.predict(X_test)\n",
    "\n",
    "# Confusion Matrix\n",
    "cm = confusion_matrix(y_test, y_pred)\n",
    "disp = ConfusionMatrixDisplay(confusion_matrix=cm, display_labels=best_model.classes_)\n",
    "disp.plot(cmap=plt.cm.Blues)\n",
    "plt.title(\"Confusion Matrix - Best Model\")\n",
    "plt.show()"
   ]
  }
 ],
 "metadata": {
  "kaggle": {
   "accelerator": "none",
   "dataSources": [
    {
     "datasetId": 6769333,
     "sourceId": 10892812,
     "sourceType": "datasetVersion"
    }
   ],
   "dockerImageVersionId": 31089,
   "isGpuEnabled": false,
   "isInternetEnabled": true,
   "language": "python",
   "sourceType": "notebook"
  },
  "kernelspec": {
   "display_name": "Python 3",
   "language": "python",
   "name": "python3"
  },
  "language_info": {
   "codemirror_mode": {
    "name": "ipython",
    "version": 3
   },
   "file_extension": ".py",
   "mimetype": "text/x-python",
   "name": "python",
   "nbconvert_exporter": "python",
   "pygments_lexer": "ipython3",
   "version": "3.11.13"
  },
  "papermill": {
   "default_parameters": {},
   "duration": 17.988278,
   "end_time": "2025-10-03T11:24:53.461649",
   "environment_variables": {},
   "exception": null,
   "input_path": "__notebook__.ipynb",
   "output_path": "__notebook__.ipynb",
   "parameters": {},
   "start_time": "2025-10-03T11:24:35.473371",
   "version": "2.6.0"
  }
 },
 "nbformat": 4,
 "nbformat_minor": 5
}
