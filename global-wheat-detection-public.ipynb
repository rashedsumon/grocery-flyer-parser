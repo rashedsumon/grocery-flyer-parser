{
 "cells": [
  {
   "cell_type": "code",
   "execution_count": 1,
   "id": "e836148e",
   "metadata": {
    "_cell_guid": "b1076dfc-b9ad-4769-8c92-a6c4dae69d19",
    "_uuid": "8f2839f25d086af736a60e9eeb907d3b93b6e0e5",
    "execution": {
     "iopub.execute_input": "2025-10-03T12:48:56.299468Z",
     "iopub.status.busy": "2025-10-03T12:48:56.299127Z",
     "iopub.status.idle": "2025-10-03T12:48:58.088363Z",
     "shell.execute_reply": "2025-10-03T12:48:58.087270Z"
    },
    "papermill": {
     "duration": 1.796206,
     "end_time": "2025-10-03T12:48:58.089969",
     "exception": false,
     "start_time": "2025-10-03T12:48:56.293763",
     "status": "completed"
    },
    "tags": []
   },
   "outputs": [
    {
     "name": "stdout",
     "output_type": "stream",
     "text": [
      "/kaggle/input/global-wheat-detection-public/validation_results_fold1_best.csv\n",
      "/kaggle/input/global-wheat-detection-public/validation_results_fold0_best.csv\n",
      "/kaggle/input/global-wheat-detection-public/validation_results_fold3_best.csv\n",
      "/kaggle/input/global-wheat-detection-public/benchmark_data.csv\n",
      "/kaggle/input/global-wheat-detection-public/validation_results_fold4_best.csv\n",
      "/kaggle/input/global-wheat-detection-public/validation_results_fold2_best.csv\n",
      "/kaggle/input/global-wheat-detection-public/fasterrcnn_resnet50_fpn_best.pth\n"
     ]
    }
   ],
   "source": [
    "# This Python 3 environment comes with many helpful analytics libraries installed\n",
    "# It is defined by the kaggle/python Docker image: https://github.com/kaggle/docker-python\n",
    "# For example, here's several helpful packages to load\n",
    "\n",
    "import numpy as np # linear algebra\n",
    "import pandas as pd # data processing, CSV file I/O (e.g. pd.read_csv)\n",
    "\n",
    "# Input data files are available in the read-only \"../input/\" directory\n",
    "# For example, running this (by clicking run or pressing Shift+Enter) will list all files under the input directory\n",
    "\n",
    "import os\n",
    "for dirname, _, filenames in os.walk('/kaggle/input'):\n",
    "    for filename in filenames:\n",
    "        print(os.path.join(dirname, filename))\n",
    "\n",
    "# You can write up to 20GB to the current directory (/kaggle/working/) that gets preserved as output when you create a version using \"Save & Run All\" \n",
    "# You can also write temporary files to /kaggle/temp/, but they won't be saved outside of the current session"
   ]
  },
  {
   "cell_type": "code",
   "execution_count": 2,
   "id": "93bfb054",
   "metadata": {
    "execution": {
     "iopub.execute_input": "2025-10-03T12:48:58.098638Z",
     "iopub.status.busy": "2025-10-03T12:48:58.097964Z",
     "iopub.status.idle": "2025-10-03T12:48:58.102833Z",
     "shell.execute_reply": "2025-10-03T12:48:58.101873Z"
    },
    "papermill": {
     "duration": 0.010744,
     "end_time": "2025-10-03T12:48:58.104512",
     "exception": false,
     "start_time": "2025-10-03T12:48:58.093768",
     "status": "completed"
    },
    "tags": []
   },
   "outputs": [],
   "source": [
    "import warnings\n",
    "warnings.filterwarnings(\"ignore\")"
   ]
  },
  {
   "cell_type": "code",
   "execution_count": 3,
   "id": "e8d84c42",
   "metadata": {
    "execution": {
     "iopub.execute_input": "2025-10-03T12:48:58.112456Z",
     "iopub.status.busy": "2025-10-03T12:48:58.112131Z",
     "iopub.status.idle": "2025-10-03T12:48:58.346022Z",
     "shell.execute_reply": "2025-10-03T12:48:58.345100Z"
    },
    "papermill": {
     "duration": 0.239662,
     "end_time": "2025-10-03T12:48:58.347730",
     "exception": false,
     "start_time": "2025-10-03T12:48:58.108068",
     "status": "completed"
    },
    "tags": []
   },
   "outputs": [],
   "source": [
    "import pandas as pd\n",
    "import matplotlib.pyplot as plt\n",
    "import cv2\n",
    "import os\n",
    "import numpy as np\n",
    "from matplotlib.patches import Rectangle"
   ]
  },
  {
   "cell_type": "code",
   "execution_count": 4,
   "id": "1fe5b9e4",
   "metadata": {
    "execution": {
     "iopub.execute_input": "2025-10-03T12:48:58.355992Z",
     "iopub.status.busy": "2025-10-03T12:48:58.355678Z",
     "iopub.status.idle": "2025-10-03T12:48:58.502618Z",
     "shell.execute_reply": "2025-10-03T12:48:58.501704Z"
    },
    "papermill": {
     "duration": 0.152915,
     "end_time": "2025-10-03T12:48:58.504135",
     "exception": false,
     "start_time": "2025-10-03T12:48:58.351220",
     "status": "completed"
    },
    "tags": []
   },
   "outputs": [
    {
     "data": {
      "text/html": [
       "<div>\n",
       "<style scoped>\n",
       "    .dataframe tbody tr th:only-of-type {\n",
       "        vertical-align: middle;\n",
       "    }\n",
       "\n",
       "    .dataframe tbody tr th {\n",
       "        vertical-align: top;\n",
       "    }\n",
       "\n",
       "    .dataframe thead th {\n",
       "        text-align: right;\n",
       "    }\n",
       "</style>\n",
       "<table border=\"1\" class=\"dataframe\">\n",
       "  <thead>\n",
       "    <tr style=\"text-align: right;\">\n",
       "      <th></th>\n",
       "      <th>image_id</th>\n",
       "      <th>PredictionString</th>\n",
       "      <th>map_score</th>\n",
       "    </tr>\n",
       "  </thead>\n",
       "  <tbody>\n",
       "    <tr>\n",
       "      <th>0</th>\n",
       "      <td>b6ab77fd7</td>\n",
       "      <td>0.9970 778 302 93 87 0.9963 862 684 110 149 0....</td>\n",
       "      <td>0.744792</td>\n",
       "    </tr>\n",
       "    <tr>\n",
       "      <th>1</th>\n",
       "      <td>0435654cd</td>\n",
       "      <td>0.9940 691 411 154 90 0.9929 385 178 84 75 0.9...</td>\n",
       "      <td>0.676928</td>\n",
       "    </tr>\n",
       "    <tr>\n",
       "      <th>2</th>\n",
       "      <td>c6b4933f7</td>\n",
       "      <td>0.9961 785 665 86 100 0.9951 49 493 144 88 0.9...</td>\n",
       "      <td>0.855303</td>\n",
       "    </tr>\n",
       "    <tr>\n",
       "      <th>3</th>\n",
       "      <td>42e247347</td>\n",
       "      <td>0.9906 776 396 177 86 0.9890 0 598 160 100 0.9...</td>\n",
       "      <td>0.715897</td>\n",
       "    </tr>\n",
       "    <tr>\n",
       "      <th>4</th>\n",
       "      <td>5738fcf14</td>\n",
       "      <td>0.9957 502 786 151 96 0.9944 279 195 90 194 0....</td>\n",
       "      <td>0.778438</td>\n",
       "    </tr>\n",
       "  </tbody>\n",
       "</table>\n",
       "</div>"
      ],
      "text/plain": [
       "    image_id                                   PredictionString  map_score\n",
       "0  b6ab77fd7  0.9970 778 302 93 87 0.9963 862 684 110 149 0....   0.744792\n",
       "1  0435654cd  0.9940 691 411 154 90 0.9929 385 178 84 75 0.9...   0.676928\n",
       "2  c6b4933f7  0.9961 785 665 86 100 0.9951 49 493 144 88 0.9...   0.855303\n",
       "3  42e247347  0.9906 776 396 177 86 0.9890 0 598 160 100 0.9...   0.715897\n",
       "4  5738fcf14  0.9957 502 786 151 96 0.9944 279 195 90 194 0....   0.778438"
      ]
     },
     "execution_count": 4,
     "metadata": {},
     "output_type": "execute_result"
    }
   ],
   "source": [
    "df = pd.read_csv('/kaggle/input/global-wheat-detection-public/benchmark_data.csv')\n",
    "df.head()"
   ]
  },
  {
   "cell_type": "code",
   "execution_count": 5,
   "id": "f906c0be",
   "metadata": {
    "execution": {
     "iopub.execute_input": "2025-10-03T12:48:58.512732Z",
     "iopub.status.busy": "2025-10-03T12:48:58.512385Z",
     "iopub.status.idle": "2025-10-03T12:48:58.519381Z",
     "shell.execute_reply": "2025-10-03T12:48:58.518616Z"
    },
    "papermill": {
     "duration": 0.012726,
     "end_time": "2025-10-03T12:48:58.520720",
     "exception": false,
     "start_time": "2025-10-03T12:48:58.507994",
     "status": "completed"
    },
    "tags": []
   },
   "outputs": [
    {
     "data": {
      "text/plain": [
       "Index(['image_id', 'PredictionString', 'map_score'], dtype='object')"
      ]
     },
     "execution_count": 5,
     "metadata": {},
     "output_type": "execute_result"
    }
   ],
   "source": [
    "df.columns"
   ]
  },
  {
   "cell_type": "code",
   "execution_count": 6,
   "id": "c41f15bc",
   "metadata": {
    "execution": {
     "iopub.execute_input": "2025-10-03T12:48:58.529614Z",
     "iopub.status.busy": "2025-10-03T12:48:58.528896Z",
     "iopub.status.idle": "2025-10-03T12:48:58.571944Z",
     "shell.execute_reply": "2025-10-03T12:48:58.571148Z"
    },
    "papermill": {
     "duration": 0.049051,
     "end_time": "2025-10-03T12:48:58.573520",
     "exception": false,
     "start_time": "2025-10-03T12:48:58.524469",
     "status": "completed"
    },
    "tags": []
   },
   "outputs": [
    {
     "data": {
      "text/html": [
       "<div>\n",
       "<style scoped>\n",
       "    .dataframe tbody tr th:only-of-type {\n",
       "        vertical-align: middle;\n",
       "    }\n",
       "\n",
       "    .dataframe tbody tr th {\n",
       "        vertical-align: top;\n",
       "    }\n",
       "\n",
       "    .dataframe thead th {\n",
       "        text-align: right;\n",
       "    }\n",
       "</style>\n",
       "<table border=\"1\" class=\"dataframe\">\n",
       "  <thead>\n",
       "    <tr style=\"text-align: right;\">\n",
       "      <th></th>\n",
       "      <th>image_id</th>\n",
       "      <th>PredictionString</th>\n",
       "      <th>bounding_boxes</th>\n",
       "      <th>map_score</th>\n",
       "    </tr>\n",
       "  </thead>\n",
       "  <tbody>\n",
       "    <tr>\n",
       "      <th>0</th>\n",
       "      <td>f5093f57d</td>\n",
       "      <td>0.9988 162 282 157 105 0.9977 381 244 117 109 ...</td>\n",
       "      <td>NaN</td>\n",
       "      <td>0.755028</td>\n",
       "    </tr>\n",
       "    <tr>\n",
       "      <th>1</th>\n",
       "      <td>4aeb37788</td>\n",
       "      <td>0.9968 365 109 103 95 0.9967 2 314 121 84 0.99...</td>\n",
       "      <td>NaN</td>\n",
       "      <td>0.660783</td>\n",
       "    </tr>\n",
       "    <tr>\n",
       "      <th>2</th>\n",
       "      <td>c3c03e0b7</td>\n",
       "      <td>0.9887 130 683 201 59 0.9847 90 129 257 101 0....</td>\n",
       "      <td>NaN</td>\n",
       "      <td>0.340920</td>\n",
       "    </tr>\n",
       "    <tr>\n",
       "      <th>3</th>\n",
       "      <td>42e247347</td>\n",
       "      <td>0.9946 0 469 131 77 0.9946 588 142 176 107 0.9...</td>\n",
       "      <td>NaN</td>\n",
       "      <td>0.491839</td>\n",
       "    </tr>\n",
       "    <tr>\n",
       "      <th>4</th>\n",
       "      <td>ca4cb597b</td>\n",
       "      <td>0.9948 461 348 117 99 0.9936 651 250 85 61 0.9...</td>\n",
       "      <td>NaN</td>\n",
       "      <td>0.505429</td>\n",
       "    </tr>\n",
       "  </tbody>\n",
       "</table>\n",
       "</div>"
      ],
      "text/plain": [
       "    image_id                                   PredictionString  \\\n",
       "0  f5093f57d  0.9988 162 282 157 105 0.9977 381 244 117 109 ...   \n",
       "1  4aeb37788  0.9968 365 109 103 95 0.9967 2 314 121 84 0.99...   \n",
       "2  c3c03e0b7  0.9887 130 683 201 59 0.9847 90 129 257 101 0....   \n",
       "3  42e247347  0.9946 0 469 131 77 0.9946 588 142 176 107 0.9...   \n",
       "4  ca4cb597b  0.9948 461 348 117 99 0.9936 651 250 85 61 0.9...   \n",
       "\n",
       "   bounding_boxes  map_score  \n",
       "0             NaN   0.755028  \n",
       "1             NaN   0.660783  \n",
       "2             NaN   0.340920  \n",
       "3             NaN   0.491839  \n",
       "4             NaN   0.505429  "
      ]
     },
     "execution_count": 6,
     "metadata": {},
     "output_type": "execute_result"
    }
   ],
   "source": [
    "df = pd.read_csv('/kaggle/input/global-wheat-detection-public/validation_results_fold0_best.csv')\n",
    "df.head()"
   ]
  },
  {
   "cell_type": "code",
   "execution_count": 7,
   "id": "c068f5c8",
   "metadata": {
    "execution": {
     "iopub.execute_input": "2025-10-03T12:48:58.582227Z",
     "iopub.status.busy": "2025-10-03T12:48:58.581965Z",
     "iopub.status.idle": "2025-10-03T12:48:58.587567Z",
     "shell.execute_reply": "2025-10-03T12:48:58.586738Z"
    },
    "papermill": {
     "duration": 0.011642,
     "end_time": "2025-10-03T12:48:58.589135",
     "exception": false,
     "start_time": "2025-10-03T12:48:58.577493",
     "status": "completed"
    },
    "tags": []
   },
   "outputs": [
    {
     "data": {
      "text/plain": [
       "Index(['image_id', 'PredictionString', 'bounding_boxes', 'map_score'], dtype='object')"
      ]
     },
     "execution_count": 7,
     "metadata": {},
     "output_type": "execute_result"
    }
   ],
   "source": [
    "df.columns"
   ]
  },
  {
   "cell_type": "code",
   "execution_count": 8,
   "id": "6e808002",
   "metadata": {
    "execution": {
     "iopub.execute_input": "2025-10-03T12:48:58.598109Z",
     "iopub.status.busy": "2025-10-03T12:48:58.597748Z",
     "iopub.status.idle": "2025-10-03T12:48:58.626481Z",
     "shell.execute_reply": "2025-10-03T12:48:58.625579Z"
    },
    "papermill": {
     "duration": 0.035099,
     "end_time": "2025-10-03T12:48:58.628117",
     "exception": false,
     "start_time": "2025-10-03T12:48:58.593018",
     "status": "completed"
    },
    "tags": []
   },
   "outputs": [],
   "source": [
    "# Load the benchmark and validation results\n",
    "benchmark_df = pd.read_csv('/kaggle/input/global-wheat-detection-public/benchmark_data.csv')\n",
    "validation_df = pd.read_csv('/kaggle/input/global-wheat-detection-public/validation_results_fold0_best.csv')"
   ]
  },
  {
   "cell_type": "code",
   "execution_count": 9,
   "id": "b555cfe3",
   "metadata": {
    "execution": {
     "iopub.execute_input": "2025-10-03T12:48:58.637155Z",
     "iopub.status.busy": "2025-10-03T12:48:58.636856Z",
     "iopub.status.idle": "2025-10-03T12:48:58.642012Z",
     "shell.execute_reply": "2025-10-03T12:48:58.641016Z"
    },
    "papermill": {
     "duration": 0.011395,
     "end_time": "2025-10-03T12:48:58.643535",
     "exception": false,
     "start_time": "2025-10-03T12:48:58.632140",
     "status": "completed"
    },
    "tags": []
   },
   "outputs": [
    {
     "name": "stdout",
     "output_type": "stream",
     "text": [
      "📘 Benchmark Columns:\n",
      " Index(['image_id', 'PredictionString', 'map_score'], dtype='object')\n",
      "🧪 Validation Columns:\n",
      " Index(['image_id', 'PredictionString', 'bounding_boxes', 'map_score'], dtype='object')\n"
     ]
    }
   ],
   "source": [
    "print(\"📘 Benchmark Columns:\\n\", benchmark_df.columns)\n",
    "print(\"🧪 Validation Columns:\\n\", validation_df.columns)"
   ]
  },
  {
   "cell_type": "code",
   "execution_count": 10,
   "id": "6f7d645d",
   "metadata": {
    "execution": {
     "iopub.execute_input": "2025-10-03T12:48:58.652305Z",
     "iopub.status.busy": "2025-10-03T12:48:58.652010Z",
     "iopub.status.idle": "2025-10-03T12:48:58.660382Z",
     "shell.execute_reply": "2025-10-03T12:48:58.659633Z"
    },
    "papermill": {
     "duration": 0.014209,
     "end_time": "2025-10-03T12:48:58.661672",
     "exception": false,
     "start_time": "2025-10-03T12:48:58.647463",
     "status": "completed"
    },
    "tags": []
   },
   "outputs": [
    {
     "data": {
      "text/html": [
       "<div>\n",
       "<style scoped>\n",
       "    .dataframe tbody tr th:only-of-type {\n",
       "        vertical-align: middle;\n",
       "    }\n",
       "\n",
       "    .dataframe tbody tr th {\n",
       "        vertical-align: top;\n",
       "    }\n",
       "\n",
       "    .dataframe thead th {\n",
       "        text-align: right;\n",
       "    }\n",
       "</style>\n",
       "<table border=\"1\" class=\"dataframe\">\n",
       "  <thead>\n",
       "    <tr style=\"text-align: right;\">\n",
       "      <th></th>\n",
       "      <th>image_id</th>\n",
       "      <th>PredictionString</th>\n",
       "      <th>map_score</th>\n",
       "    </tr>\n",
       "  </thead>\n",
       "  <tbody>\n",
       "    <tr>\n",
       "      <th>0</th>\n",
       "      <td>b6ab77fd7</td>\n",
       "      <td>0.9970 778 302 93 87 0.9963 862 684 110 149 0....</td>\n",
       "      <td>0.744792</td>\n",
       "    </tr>\n",
       "    <tr>\n",
       "      <th>1</th>\n",
       "      <td>0435654cd</td>\n",
       "      <td>0.9940 691 411 154 90 0.9929 385 178 84 75 0.9...</td>\n",
       "      <td>0.676928</td>\n",
       "    </tr>\n",
       "    <tr>\n",
       "      <th>2</th>\n",
       "      <td>c6b4933f7</td>\n",
       "      <td>0.9961 785 665 86 100 0.9951 49 493 144 88 0.9...</td>\n",
       "      <td>0.855303</td>\n",
       "    </tr>\n",
       "    <tr>\n",
       "      <th>3</th>\n",
       "      <td>42e247347</td>\n",
       "      <td>0.9906 776 396 177 86 0.9890 0 598 160 100 0.9...</td>\n",
       "      <td>0.715897</td>\n",
       "    </tr>\n",
       "    <tr>\n",
       "      <th>4</th>\n",
       "      <td>5738fcf14</td>\n",
       "      <td>0.9957 502 786 151 96 0.9944 279 195 90 194 0....</td>\n",
       "      <td>0.778438</td>\n",
       "    </tr>\n",
       "  </tbody>\n",
       "</table>\n",
       "</div>"
      ],
      "text/plain": [
       "    image_id                                   PredictionString  map_score\n",
       "0  b6ab77fd7  0.9970 778 302 93 87 0.9963 862 684 110 149 0....   0.744792\n",
       "1  0435654cd  0.9940 691 411 154 90 0.9929 385 178 84 75 0.9...   0.676928\n",
       "2  c6b4933f7  0.9961 785 665 86 100 0.9951 49 493 144 88 0.9...   0.855303\n",
       "3  42e247347  0.9906 776 396 177 86 0.9890 0 598 160 100 0.9...   0.715897\n",
       "4  5738fcf14  0.9957 502 786 151 96 0.9944 279 195 90 194 0....   0.778438"
      ]
     },
     "execution_count": 10,
     "metadata": {},
     "output_type": "execute_result"
    }
   ],
   "source": [
    "# Show first few rows\n",
    "benchmark_df.head()"
   ]
  },
  {
   "cell_type": "code",
   "execution_count": 11,
   "id": "4f97ea2b",
   "metadata": {
    "execution": {
     "iopub.execute_input": "2025-10-03T12:48:58.671679Z",
     "iopub.status.busy": "2025-10-03T12:48:58.671328Z",
     "iopub.status.idle": "2025-10-03T12:48:58.680569Z",
     "shell.execute_reply": "2025-10-03T12:48:58.679757Z"
    },
    "papermill": {
     "duration": 0.015233,
     "end_time": "2025-10-03T12:48:58.681846",
     "exception": false,
     "start_time": "2025-10-03T12:48:58.666613",
     "status": "completed"
    },
    "tags": []
   },
   "outputs": [
    {
     "data": {
      "text/html": [
       "<div>\n",
       "<style scoped>\n",
       "    .dataframe tbody tr th:only-of-type {\n",
       "        vertical-align: middle;\n",
       "    }\n",
       "\n",
       "    .dataframe tbody tr th {\n",
       "        vertical-align: top;\n",
       "    }\n",
       "\n",
       "    .dataframe thead th {\n",
       "        text-align: right;\n",
       "    }\n",
       "</style>\n",
       "<table border=\"1\" class=\"dataframe\">\n",
       "  <thead>\n",
       "    <tr style=\"text-align: right;\">\n",
       "      <th></th>\n",
       "      <th>image_id</th>\n",
       "      <th>PredictionString</th>\n",
       "      <th>bounding_boxes</th>\n",
       "      <th>map_score</th>\n",
       "    </tr>\n",
       "  </thead>\n",
       "  <tbody>\n",
       "    <tr>\n",
       "      <th>0</th>\n",
       "      <td>f5093f57d</td>\n",
       "      <td>0.9988 162 282 157 105 0.9977 381 244 117 109 ...</td>\n",
       "      <td>NaN</td>\n",
       "      <td>0.755028</td>\n",
       "    </tr>\n",
       "    <tr>\n",
       "      <th>1</th>\n",
       "      <td>4aeb37788</td>\n",
       "      <td>0.9968 365 109 103 95 0.9967 2 314 121 84 0.99...</td>\n",
       "      <td>NaN</td>\n",
       "      <td>0.660783</td>\n",
       "    </tr>\n",
       "    <tr>\n",
       "      <th>2</th>\n",
       "      <td>c3c03e0b7</td>\n",
       "      <td>0.9887 130 683 201 59 0.9847 90 129 257 101 0....</td>\n",
       "      <td>NaN</td>\n",
       "      <td>0.340920</td>\n",
       "    </tr>\n",
       "    <tr>\n",
       "      <th>3</th>\n",
       "      <td>42e247347</td>\n",
       "      <td>0.9946 0 469 131 77 0.9946 588 142 176 107 0.9...</td>\n",
       "      <td>NaN</td>\n",
       "      <td>0.491839</td>\n",
       "    </tr>\n",
       "    <tr>\n",
       "      <th>4</th>\n",
       "      <td>ca4cb597b</td>\n",
       "      <td>0.9948 461 348 117 99 0.9936 651 250 85 61 0.9...</td>\n",
       "      <td>NaN</td>\n",
       "      <td>0.505429</td>\n",
       "    </tr>\n",
       "  </tbody>\n",
       "</table>\n",
       "</div>"
      ],
      "text/plain": [
       "    image_id                                   PredictionString  \\\n",
       "0  f5093f57d  0.9988 162 282 157 105 0.9977 381 244 117 109 ...   \n",
       "1  4aeb37788  0.9968 365 109 103 95 0.9967 2 314 121 84 0.99...   \n",
       "2  c3c03e0b7  0.9887 130 683 201 59 0.9847 90 129 257 101 0....   \n",
       "3  42e247347  0.9946 0 469 131 77 0.9946 588 142 176 107 0.9...   \n",
       "4  ca4cb597b  0.9948 461 348 117 99 0.9936 651 250 85 61 0.9...   \n",
       "\n",
       "   bounding_boxes  map_score  \n",
       "0             NaN   0.755028  \n",
       "1             NaN   0.660783  \n",
       "2             NaN   0.340920  \n",
       "3             NaN   0.491839  \n",
       "4             NaN   0.505429  "
      ]
     },
     "execution_count": 11,
     "metadata": {},
     "output_type": "execute_result"
    }
   ],
   "source": [
    "validation_df.head()"
   ]
  },
  {
   "cell_type": "code",
   "execution_count": 12,
   "id": "bde0c40f",
   "metadata": {
    "execution": {
     "iopub.execute_input": "2025-10-03T12:48:58.691313Z",
     "iopub.status.busy": "2025-10-03T12:48:58.691016Z",
     "iopub.status.idle": "2025-10-03T12:48:59.063562Z",
     "shell.execute_reply": "2025-10-03T12:48:59.062662Z"
    },
    "papermill": {
     "duration": 0.378977,
     "end_time": "2025-10-03T12:48:59.065037",
     "exception": false,
     "start_time": "2025-10-03T12:48:58.686060",
     "status": "completed"
    },
    "tags": []
   },
   "outputs": [
    {
     "data": {
      "image/png": "[encoded data removed]",
      "text/plain": [
       "<Figure size 800x400 with 1 Axes>"
      ]
     },
     "metadata": {},
     "output_type": "display_data"
    }
   ],
   "source": [
    "plt.figure(figsize=(8,4))\n",
    "plt.hist(benchmark_df['map_score'], bins=30, alpha=0.7, label='Benchmark', color='skyblue')\n",
    "plt.hist(validation_df['map_score'], bins=30, alpha=0.7, label='Validation', color='orange')\n",
    "plt.title('MAP Score Distribution')\n",
    "plt.xlabel('MAP Score')\n",
    "plt.ylabel('Frequency')\n",
    "plt.legend()\n",
    "plt.show()"
   ]
  },
  {
   "cell_type": "code",
   "execution_count": 13,
   "id": "cb3610ce",
   "metadata": {
    "execution": {
     "iopub.execute_input": "2025-10-03T12:48:59.075918Z",
     "iopub.status.busy": "2025-10-03T12:48:59.075594Z",
     "iopub.status.idle": "2025-10-03T12:48:59.080746Z",
     "shell.execute_reply": "2025-10-03T12:48:59.079902Z"
    },
    "papermill": {
     "duration": 0.012233,
     "end_time": "2025-10-03T12:48:59.082223",
     "exception": false,
     "start_time": "2025-10-03T12:48:59.069990",
     "status": "completed"
    },
    "tags": []
   },
   "outputs": [],
   "source": [
    "def parse_predictions(pred_str):\n",
    "    if pd.isna(pred_str):\n",
    "        return []\n",
    "    nums = list(map(float, pred_str.strip().split()))\n",
    "    return [nums[i:i+5] for i in range(0, len(nums), 5)]"
   ]
  },
  {
   "cell_type": "code",
   "execution_count": 14,
   "id": "9dc482d5",
   "metadata": {
    "execution": {
     "iopub.execute_input": "2025-10-03T12:48:59.093917Z",
     "iopub.status.busy": "2025-10-03T12:48:59.092880Z",
     "iopub.status.idle": "2025-10-03T12:48:59.097683Z",
     "shell.execute_reply": "2025-10-03T12:48:59.096689Z"
    },
    "papermill": {
     "duration": 0.012242,
     "end_time": "2025-10-03T12:48:59.099361",
     "exception": false,
     "start_time": "2025-10-03T12:48:59.087119",
     "status": "completed"
    },
    "tags": []
   },
   "outputs": [],
   "source": [
    "image_folder = '/kaggle/input/global-wheat-detection/train'"
   ]
  },
  {
   "cell_type": "code",
   "execution_count": 15,
   "id": "8013988c",
   "metadata": {
    "execution": {
     "iopub.execute_input": "2025-10-03T12:48:59.110796Z",
     "iopub.status.busy": "2025-10-03T12:48:59.110051Z",
     "iopub.status.idle": "2025-10-03T12:48:59.369987Z",
     "shell.execute_reply": "2025-10-03T12:48:59.369041Z"
    },
    "papermill": {
     "duration": 0.267359,
     "end_time": "2025-10-03T12:48:59.371730",
     "exception": false,
     "start_time": "2025-10-03T12:48:59.104371",
     "status": "completed"
    },
    "tags": []
   },
   "outputs": [
    {
     "data": {
      "image/png": "[encoded data removed]",
      "text/plain": [
       "<Figure size 640x480 with 1 Axes>"
      ]
     },
     "metadata": {},
     "output_type": "display_data"
    }
   ],
   "source": [
    "# Count how many boxes per image\n",
    "def count_boxes(pred_str):\n",
    "    if pd.isna(pred_str):\n",
    "        return 0\n",
    "    return len(pred_str.strip().split()) // 5\n",
    "\n",
    "df['box_count'] = df['PredictionString'].apply(count_boxes)\n",
    "\n",
    "# Plot box count distribution\n",
    "df['box_count'].hist(bins=20)\n",
    "plt.title(\"Distribution of Predicted Boxes per Image\")\n",
    "plt.xlabel(\"Number of Boxes\")\n",
    "plt.ylabel(\"Number of Images\")\n",
    "plt.show()"
   ]
  },
  {
   "cell_type": "code",
   "execution_count": 16,
   "id": "74df5b9d",
   "metadata": {
    "execution": {
     "iopub.execute_input": "2025-10-03T12:48:59.383861Z",
     "iopub.status.busy": "2025-10-03T12:48:59.383553Z",
     "iopub.status.idle": "2025-10-03T12:48:59.389865Z",
     "shell.execute_reply": "2025-10-03T12:48:59.388785Z"
    },
    "papermill": {
     "duration": 0.013955,
     "end_time": "2025-10-03T12:48:59.391250",
     "exception": false,
     "start_time": "2025-10-03T12:48:59.377295",
     "status": "completed"
    },
    "tags": []
   },
   "outputs": [
    {
     "name": "stdout",
     "output_type": "stream",
     "text": [
      "🔢 Total benchmark images: 675\n",
      "📦 Total validation images: 675\n",
      "📈 Mean MAP Score - Benchmark: 0.7849271396550881\n",
      "📈 Mean MAP Score - Validation: 0.65671290268749\n"
     ]
    }
   ],
   "source": [
    "print(\"🔢 Total benchmark images:\", benchmark_df.shape[0])\n",
    "print(\"📦 Total validation images:\", validation_df.shape[0])\n",
    "print(\"📈 Mean MAP Score - Benchmark:\", benchmark_df['map_score'].mean())\n",
    "print(\"📈 Mean MAP Score - Validation:\", validation_df['map_score'].mean())"
   ]
  }
 ],
 "metadata": {
  "kaggle": {
   "accelerator": "none",
   "dataSources": [
    {
     "datasetId": 637073,
     "sourceId": 1227211,
     "sourceType": "datasetVersion"
    }
   ],
   "dockerImageVersionId": 31089,
   "isGpuEnabled": false,
   "isInternetEnabled": true,
   "language": "python",
   "sourceType": "notebook"
  },
  "kernelspec": {
   "display_name": "Python 3",
   "language": "python",
   "name": "python3"
  },
  "language_info": {
   "codemirror_mode": {
    "name": "ipython",
    "version": 3
   },
   "file_extension": ".py",
   "mimetype": "text/x-python",
   "name": "python",
   "nbconvert_exporter": "python",
   "pygments_lexer": "ipython3",
   "version": "3.11.13"
  },
  "papermill": {
   "default_parameters": {},
   "duration": 9.015713,
   "end_time": "2025-10-03T12:49:00.017980",
   "environment_variables": {},
   "exception": null,
   "input_path": "__notebook__.ipynb",
   "output_path": "__notebook__.ipynb",
   "parameters": {},
   "start_time": "2025-10-03T12:48:51.002267",
   "version": "2.6.0"
  }
 },
 "nbformat": 4,
 "nbformat_minor": 5
}
