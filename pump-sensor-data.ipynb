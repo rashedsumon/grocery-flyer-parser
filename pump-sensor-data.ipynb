{
 "cells": [
  {
   "cell_type": "code",
   "execution_count": 1,
   "id": "c59e296a",
   "metadata": {
    "_cell_guid": "b1076dfc-b9ad-4769-8c92-a6c4dae69d19",
    "_uuid": "8f2839f25d086af736a60e9eeb907d3b93b6e0e5",
    "execution": {
     "iopub.execute_input": "2025-10-03T17:32:24.718355Z",
     "iopub.status.busy": "2025-10-03T17:32:24.718034Z",
     "iopub.status.idle": "2025-10-03T17:32:26.787005Z",
     "shell.execute_reply": "2025-10-03T17:32:26.785906Z"
    },
    "papermill": {
     "duration": 2.076674,
     "end_time": "2025-10-03T17:32:26.788766",
     "exception": false,
     "start_time": "2025-10-03T17:32:24.712092",
     "status": "completed"
    },
    "tags": []
   },
   "outputs": [
    {
     "name": "stdout",
     "output_type": "stream",
     "text": [
      "/kaggle/input/pump-sensor-data/sensor.csv\n"
     ]
    }
   ],
   "source": [
    "# This Python 3 environment comes with many helpful analytics libraries installed\n",
    "# It is defined by the kaggle/python Docker image: https://github.com/kaggle/docker-python\n",
    "# For example, here's several helpful packages to load\n",
    "\n",
    "import numpy as np # linear algebra\n",
    "import pandas as pd # data processing, CSV file I/O (e.g. pd.read_csv)\n",
    "\n",
    "# Input data files are available in the read-only \"../input/\" directory\n",
    "# For example, running this (by clicking run or pressing Shift+Enter) will list all files under the input directory\n",
    "\n",
    "import os\n",
    "for dirname, _, filenames in os.walk('/kaggle/input'):\n",
    "    for filename in filenames:\n",
    "        print(os.path.join(dirname, filename))\n",
    "\n",
    "# You can write up to 20GB to the current directory (/kaggle/working/) that gets preserved as output when you create a version using \"Save & Run All\" \n",
    "# You can also write temporary files to /kaggle/temp/, but they won't be saved outside of the current session"
   ]
  },
  {
   "cell_type": "code",
   "execution_count": 2,
   "id": "8c114460",
   "metadata": {
    "execution": {
     "iopub.execute_input": "2025-10-03T17:32:26.797833Z",
     "iopub.status.busy": "2025-10-03T17:32:26.797197Z",
     "iopub.status.idle": "2025-10-03T17:32:26.802065Z",
     "shell.execute_reply": "2025-10-03T17:32:26.801096Z"
    },
    "papermill": {
     "duration": 0.010927,
     "end_time": "2025-10-03T17:32:26.803653",
     "exception": false,
     "start_time": "2025-10-03T17:32:26.792726",
     "status": "completed"
    },
    "tags": []
   },
   "outputs": [],
   "source": [
    "import warnings\n",
    "warnings.filterwarnings(\"ignore\")"
   ]
  },
  {
   "cell_type": "code",
   "execution_count": 3,
   "id": "0776f148",
   "metadata": {
    "execution": {
     "iopub.execute_input": "2025-10-03T17:32:26.811985Z",
     "iopub.status.busy": "2025-10-03T17:32:26.811660Z",
     "iopub.status.idle": "2025-10-03T17:32:28.742384Z",
     "shell.execute_reply": "2025-10-03T17:32:28.740872Z"
    },
    "papermill": {
     "duration": 1.936865,
     "end_time": "2025-10-03T17:32:28.744177",
     "exception": false,
     "start_time": "2025-10-03T17:32:26.807312",
     "status": "completed"
    },
    "tags": []
   },
   "outputs": [],
   "source": [
    "import pandas as pd\n",
    "import matplotlib.pyplot as plt\n",
    "import seaborn as sns"
   ]
  },
  {
   "cell_type": "code",
   "execution_count": 4,
   "id": "6d796862",
   "metadata": {
    "execution": {
     "iopub.execute_input": "2025-10-03T17:32:28.753568Z",
     "iopub.status.busy": "2025-10-03T17:32:28.753085Z",
     "iopub.status.idle": "2025-10-03T17:32:32.953973Z",
     "shell.execute_reply": "2025-10-03T17:32:32.953078Z"
    },
    "papermill": {
     "duration": 4.206978,
     "end_time": "2025-10-03T17:32:32.955508",
     "exception": false,
     "start_time": "2025-10-03T17:32:28.748530",
     "status": "completed"
    },
    "tags": []
   },
   "outputs": [
    {
     "data": {
      "text/html": [
       "<div>\n",
       "<style scoped>\n",
       "    .dataframe tbody tr th:only-of-type {\n",
       "        vertical-align: middle;\n",
       "    }\n",
       "\n",
       "    .dataframe tbody tr th {\n",
       "        vertical-align: top;\n",
       "    }\n",
       "\n",
       "    .dataframe thead th {\n",
       "        text-align: right;\n",
       "    }\n",
       "</style>\n",
       "<table border=\"1\" class=\"dataframe\">\n",
       "  <thead>\n",
       "    <tr style=\"text-align: right;\">\n",
       "      <th></th>\n",
       "      <th>Unnamed: 0</th>\n",
       "      <th>timestamp</th>\n",
       "      <th>sensor_00</th>\n",
       "      <th>sensor_01</th>\n",
       "      <th>sensor_02</th>\n",
       "      <th>sensor_03</th>\n",
       "      <th>sensor_04</th>\n",
       "      <th>sensor_05</th>\n",
       "      <th>sensor_06</th>\n",
       "      <th>sensor_07</th>\n",
       "      <th>...</th>\n",
       "      <th>sensor_43</th>\n",
       "      <th>sensor_44</th>\n",
       "      <th>sensor_45</th>\n",
       "      <th>sensor_46</th>\n",
       "      <th>sensor_47</th>\n",
       "      <th>sensor_48</th>\n",
       "      <th>sensor_49</th>\n",
       "      <th>sensor_50</th>\n",
       "      <th>sensor_51</th>\n",
       "      <th>machine_status</th>\n",
       "    </tr>\n",
       "  </thead>\n",
       "  <tbody>\n",
       "    <tr>\n",
       "      <th>0</th>\n",
       "      <td>0</td>\n",
       "      <td>2018-04-01 00:00:00</td>\n",
       "      <td>2.465394</td>\n",
       "      <td>47.09201</td>\n",
       "      <td>53.2118</td>\n",
       "      <td>46.310760</td>\n",
       "      <td>634.3750</td>\n",
       "      <td>76.45975</td>\n",
       "      <td>13.41146</td>\n",
       "      <td>16.13136</td>\n",
       "      <td>...</td>\n",
       "      <td>41.92708</td>\n",
       "      <td>39.641200</td>\n",
       "      <td>65.68287</td>\n",
       "      <td>50.92593</td>\n",
       "      <td>38.194440</td>\n",
       "      <td>157.9861</td>\n",
       "      <td>67.70834</td>\n",
       "      <td>243.0556</td>\n",
       "      <td>201.3889</td>\n",
       "      <td>NORMAL</td>\n",
       "    </tr>\n",
       "    <tr>\n",
       "      <th>1</th>\n",
       "      <td>1</td>\n",
       "      <td>2018-04-01 00:01:00</td>\n",
       "      <td>2.465394</td>\n",
       "      <td>47.09201</td>\n",
       "      <td>53.2118</td>\n",
       "      <td>46.310760</td>\n",
       "      <td>634.3750</td>\n",
       "      <td>76.45975</td>\n",
       "      <td>13.41146</td>\n",
       "      <td>16.13136</td>\n",
       "      <td>...</td>\n",
       "      <td>41.92708</td>\n",
       "      <td>39.641200</td>\n",
       "      <td>65.68287</td>\n",
       "      <td>50.92593</td>\n",
       "      <td>38.194440</td>\n",
       "      <td>157.9861</td>\n",
       "      <td>67.70834</td>\n",
       "      <td>243.0556</td>\n",
       "      <td>201.3889</td>\n",
       "      <td>NORMAL</td>\n",
       "    </tr>\n",
       "    <tr>\n",
       "      <th>2</th>\n",
       "      <td>2</td>\n",
       "      <td>2018-04-01 00:02:00</td>\n",
       "      <td>2.444734</td>\n",
       "      <td>47.35243</td>\n",
       "      <td>53.2118</td>\n",
       "      <td>46.397570</td>\n",
       "      <td>638.8889</td>\n",
       "      <td>73.54598</td>\n",
       "      <td>13.32465</td>\n",
       "      <td>16.03733</td>\n",
       "      <td>...</td>\n",
       "      <td>41.66666</td>\n",
       "      <td>39.351852</td>\n",
       "      <td>65.39352</td>\n",
       "      <td>51.21528</td>\n",
       "      <td>38.194443</td>\n",
       "      <td>155.9606</td>\n",
       "      <td>67.12963</td>\n",
       "      <td>241.3194</td>\n",
       "      <td>203.7037</td>\n",
       "      <td>NORMAL</td>\n",
       "    </tr>\n",
       "    <tr>\n",
       "      <th>3</th>\n",
       "      <td>3</td>\n",
       "      <td>2018-04-01 00:03:00</td>\n",
       "      <td>2.460474</td>\n",
       "      <td>47.09201</td>\n",
       "      <td>53.1684</td>\n",
       "      <td>46.397568</td>\n",
       "      <td>628.1250</td>\n",
       "      <td>76.98898</td>\n",
       "      <td>13.31742</td>\n",
       "      <td>16.24711</td>\n",
       "      <td>...</td>\n",
       "      <td>40.88541</td>\n",
       "      <td>39.062500</td>\n",
       "      <td>64.81481</td>\n",
       "      <td>51.21528</td>\n",
       "      <td>38.194440</td>\n",
       "      <td>155.9606</td>\n",
       "      <td>66.84028</td>\n",
       "      <td>240.4514</td>\n",
       "      <td>203.1250</td>\n",
       "      <td>NORMAL</td>\n",
       "    </tr>\n",
       "    <tr>\n",
       "      <th>4</th>\n",
       "      <td>4</td>\n",
       "      <td>2018-04-01 00:04:00</td>\n",
       "      <td>2.445718</td>\n",
       "      <td>47.13541</td>\n",
       "      <td>53.2118</td>\n",
       "      <td>46.397568</td>\n",
       "      <td>636.4583</td>\n",
       "      <td>76.58897</td>\n",
       "      <td>13.35359</td>\n",
       "      <td>16.21094</td>\n",
       "      <td>...</td>\n",
       "      <td>41.40625</td>\n",
       "      <td>38.773150</td>\n",
       "      <td>65.10416</td>\n",
       "      <td>51.79398</td>\n",
       "      <td>38.773150</td>\n",
       "      <td>158.2755</td>\n",
       "      <td>66.55093</td>\n",
       "      <td>242.1875</td>\n",
       "      <td>201.3889</td>\n",
       "      <td>NORMAL</td>\n",
       "    </tr>\n",
       "  </tbody>\n",
       "</table>\n",
       "<p>5 rows × 55 columns</p>\n",
       "</div>"
      ],
      "text/plain": [
       "   Unnamed: 0            timestamp  sensor_00  sensor_01  sensor_02  \\\n",
       "0           0  2018-04-01 00:00:00   2.465394   47.09201    53.2118   \n",
       "1           1  2018-04-01 00:01:00   2.465394   47.09201    53.2118   \n",
       "2           2  2018-04-01 00:02:00   2.444734   47.35243    53.2118   \n",
       "3           3  2018-04-01 00:03:00   2.460474   47.09201    53.1684   \n",
       "4           4  2018-04-01 00:04:00   2.445718   47.13541    53.2118   \n",
       "\n",
       "   sensor_03  sensor_04  sensor_05  sensor_06  sensor_07  ...  sensor_43  \\\n",
       "0  46.310760   634.3750   76.45975   13.41146   16.13136  ...   41.92708   \n",
       "1  46.310760   634.3750   76.45975   13.41146   16.13136  ...   41.92708   \n",
       "2  46.397570   638.8889   73.54598   13.32465   16.03733  ...   41.66666   \n",
       "3  46.397568   628.1250   76.98898   13.31742   16.24711  ...   40.88541   \n",
       "4  46.397568   636.4583   76.58897   13.35359   16.21094  ...   41.40625   \n",
       "\n",
       "   sensor_44  sensor_45  sensor_46  sensor_47  sensor_48  sensor_49  \\\n",
       "0  39.641200   65.68287   50.92593  38.194440   157.9861   67.70834   \n",
       "1  39.641200   65.68287   50.92593  38.194440   157.9861   67.70834   \n",
       "2  39.351852   65.39352   51.21528  38.194443   155.9606   67.12963   \n",
       "3  39.062500   64.81481   51.21528  38.194440   155.9606   66.84028   \n",
       "4  38.773150   65.10416   51.79398  38.773150   158.2755   66.55093   \n",
       "\n",
       "   sensor_50  sensor_51  machine_status  \n",
       "0   243.0556   201.3889          NORMAL  \n",
       "1   243.0556   201.3889          NORMAL  \n",
       "2   241.3194   203.7037          NORMAL  \n",
       "3   240.4514   203.1250          NORMAL  \n",
       "4   242.1875   201.3889          NORMAL  \n",
       "\n",
       "[5 rows x 55 columns]"
      ]
     },
     "execution_count": 4,
     "metadata": {},
     "output_type": "execute_result"
    }
   ],
   "source": [
    "df = pd.read_csv('/kaggle/input/pump-sensor-data/sensor.csv')\n",
    "df.head()"
   ]
  },
  {
   "cell_type": "code",
   "execution_count": 5,
   "id": "6832e554",
   "metadata": {
    "execution": {
     "iopub.execute_input": "2025-10-03T17:32:32.964302Z",
     "iopub.status.busy": "2025-10-03T17:32:32.963971Z",
     "iopub.status.idle": "2025-10-03T17:32:32.971933Z",
     "shell.execute_reply": "2025-10-03T17:32:32.971007Z"
    },
    "papermill": {
     "duration": 0.014308,
     "end_time": "2025-10-03T17:32:32.973676",
     "exception": false,
     "start_time": "2025-10-03T17:32:32.959368",
     "status": "completed"
    },
    "tags": []
   },
   "outputs": [
    {
     "data": {
      "text/plain": [
       "Index(['Unnamed: 0', 'timestamp', 'sensor_00', 'sensor_01', 'sensor_02',\n",
       "       'sensor_03', 'sensor_04', 'sensor_05', 'sensor_06', 'sensor_07',\n",
       "       'sensor_08', 'sensor_09', 'sensor_10', 'sensor_11', 'sensor_12',\n",
       "       'sensor_13', 'sensor_14', 'sensor_15', 'sensor_16', 'sensor_17',\n",
       "       'sensor_18', 'sensor_19', 'sensor_20', 'sensor_21', 'sensor_22',\n",
       "       'sensor_23', 'sensor_24', 'sensor_25', 'sensor_26', 'sensor_27',\n",
       "       'sensor_28', 'sensor_29', 'sensor_30', 'sensor_31', 'sensor_32',\n",
       "       'sensor_33', 'sensor_34', 'sensor_35', 'sensor_36', 'sensor_37',\n",
       "       'sensor_38', 'sensor_39', 'sensor_40', 'sensor_41', 'sensor_42',\n",
       "       'sensor_43', 'sensor_44', 'sensor_45', 'sensor_46', 'sensor_47',\n",
       "       'sensor_48', 'sensor_49', 'sensor_50', 'sensor_51', 'machine_status'],\n",
       "      dtype='object')"
      ]
     },
     "execution_count": 5,
     "metadata": {},
     "output_type": "execute_result"
    }
   ],
   "source": [
    "df.columns"
   ]
  },
  {
   "cell_type": "code",
   "execution_count": 6,
   "id": "e5b2e687",
   "metadata": {
    "execution": {
     "iopub.execute_input": "2025-10-03T17:32:32.982358Z",
     "iopub.status.busy": "2025-10-03T17:32:32.982033Z",
     "iopub.status.idle": "2025-10-03T17:32:33.050710Z",
     "shell.execute_reply": "2025-10-03T17:32:33.049363Z"
    },
    "papermill": {
     "duration": 0.074735,
     "end_time": "2025-10-03T17:32:33.052234",
     "exception": false,
     "start_time": "2025-10-03T17:32:32.977499",
     "status": "completed"
    },
    "tags": []
   },
   "outputs": [
    {
     "name": "stdout",
     "output_type": "stream",
     "text": [
      "Shape: (220320, 55)\n",
      "Missing values:\n",
      " Unnamed: 0             0\n",
      "timestamp              0\n",
      "sensor_00          10208\n",
      "sensor_01            369\n",
      "sensor_02             19\n",
      "sensor_03             19\n",
      "sensor_04             19\n",
      "sensor_05             19\n",
      "sensor_06           4798\n",
      "sensor_07           5451\n",
      "sensor_08           5107\n",
      "sensor_09           4595\n",
      "sensor_10             19\n",
      "sensor_11             19\n",
      "sensor_12             19\n",
      "sensor_13             19\n",
      "sensor_14             21\n",
      "sensor_15         220320\n",
      "sensor_16             31\n",
      "sensor_17             46\n",
      "sensor_18             46\n",
      "sensor_19             16\n",
      "sensor_20             16\n",
      "sensor_21             16\n",
      "sensor_22             41\n",
      "sensor_23             16\n",
      "sensor_24             16\n",
      "sensor_25             36\n",
      "sensor_26             20\n",
      "sensor_27             16\n",
      "sensor_28             16\n",
      "sensor_29             72\n",
      "sensor_30            261\n",
      "sensor_31             16\n",
      "sensor_32             68\n",
      "sensor_33             16\n",
      "sensor_34             16\n",
      "sensor_35             16\n",
      "sensor_36             16\n",
      "sensor_37             16\n",
      "sensor_38             27\n",
      "sensor_39             27\n",
      "sensor_40             27\n",
      "sensor_41             27\n",
      "sensor_42             27\n",
      "sensor_43             27\n",
      "sensor_44             27\n",
      "sensor_45             27\n",
      "sensor_46             27\n",
      "sensor_47             27\n",
      "sensor_48             27\n",
      "sensor_49             27\n",
      "sensor_50          77017\n",
      "sensor_51          15383\n",
      "machine_status         0\n",
      "dtype: int64\n"
     ]
    }
   ],
   "source": [
    "# Shape and missing values\n",
    "print(\"Shape:\", df.shape)\n",
    "print(\"Missing values:\\n\", df.isnull().sum())"
   ]
  },
  {
   "cell_type": "code",
   "execution_count": 7,
   "id": "376d8591",
   "metadata": {
    "execution": {
     "iopub.execute_input": "2025-10-03T17:32:33.061200Z",
     "iopub.status.busy": "2025-10-03T17:32:33.060870Z",
     "iopub.status.idle": "2025-10-03T17:32:33.088698Z",
     "shell.execute_reply": "2025-10-03T17:32:33.087871Z"
    },
    "papermill": {
     "duration": 0.033972,
     "end_time": "2025-10-03T17:32:33.090156",
     "exception": false,
     "start_time": "2025-10-03T17:32:33.056184",
     "status": "completed"
    },
    "tags": []
   },
   "outputs": [
    {
     "name": "stdout",
     "output_type": "stream",
     "text": [
      "\n",
      "Machine status counts:\n",
      " machine_status\n",
      "NORMAL        205836\n",
      "RECOVERING     14477\n",
      "BROKEN             7\n",
      "Name: count, dtype: int64\n"
     ]
    }
   ],
   "source": [
    "# Class balance\n",
    "print(\"\\nMachine status counts:\\n\", df['machine_status'].value_counts())"
   ]
  },
  {
   "cell_type": "code",
   "execution_count": 8,
   "id": "6db8877f",
   "metadata": {
    "execution": {
     "iopub.execute_input": "2025-10-03T17:32:33.099345Z",
     "iopub.status.busy": "2025-10-03T17:32:33.099012Z",
     "iopub.status.idle": "2025-10-03T17:32:33.323350Z",
     "shell.execute_reply": "2025-10-03T17:32:33.322378Z"
    },
    "papermill": {
     "duration": 0.230779,
     "end_time": "2025-10-03T17:32:33.324914",
     "exception": false,
     "start_time": "2025-10-03T17:32:33.094135",
     "status": "completed"
    },
    "tags": []
   },
   "outputs": [],
   "source": [
    "# Drop unnecessary column\n",
    "df.drop('Unnamed: 0', axis=1, inplace=True)\n",
    "\n",
    "# Convert timestamp\n",
    "df['timestamp'] = pd.to_datetime(df['timestamp'])\n",
    "\n",
    "# Forward fill missing values\n",
    "df.fillna(method='ffill', inplace=True)\n",
    "\n",
    "# Encode target variable\n",
    "df['machine_status'] = df['machine_status'].map({'NORMAL': 0, 'RECOVERING': 1, 'BROKEN': 2})"
   ]
  },
  {
   "cell_type": "code",
   "execution_count": 9,
   "id": "43ee4ed4",
   "metadata": {
    "execution": {
     "iopub.execute_input": "2025-10-03T17:32:33.334651Z",
     "iopub.status.busy": "2025-10-03T17:32:33.334296Z",
     "iopub.status.idle": "2025-10-03T17:32:39.019148Z",
     "shell.execute_reply": "2025-10-03T17:32:39.018071Z"
    },
    "papermill": {
     "duration": 5.691569,
     "end_time": "2025-10-03T17:32:39.020702",
     "exception": false,
     "start_time": "2025-10-03T17:32:33.329133",
     "status": "completed"
    },
    "tags": []
   },
   "outputs": [
    {
     "data": {
      "image/png": "[encoded data removed]",
      "text/plain": [
       "<Figure size 1400x400 with 1 Axes>"
      ]
     },
     "metadata": {},
     "output_type": "display_data"
    }
   ],
   "source": [
    "# Machine status over time\n",
    "plt.figure(figsize=(14, 4))\n",
    "sns.scatterplot(x='timestamp', y='machine_status', data=df, hue='machine_status', palette='Set1')\n",
    "plt.title('Machine Status Over Time')\n",
    "plt.show()"
   ]
  },
  {
   "cell_type": "code",
   "execution_count": 10,
   "id": "6221b30f",
   "metadata": {
    "execution": {
     "iopub.execute_input": "2025-10-03T17:32:39.032012Z",
     "iopub.status.busy": "2025-10-03T17:32:39.031624Z",
     "iopub.status.idle": "2025-10-03T17:32:44.056536Z",
     "shell.execute_reply": "2025-10-03T17:32:44.055374Z"
    },
    "papermill": {
     "duration": 5.033629,
     "end_time": "2025-10-03T17:32:44.059058",
     "exception": false,
     "start_time": "2025-10-03T17:32:39.025429",
     "status": "completed"
    },
    "tags": []
   },
   "outputs": [
    {
     "data": {
      "image/png": "[encoded data removed]",
      "text/plain": [
       "<Figure size 1400x400 with 1 Axes>"
      ]
     },
     "metadata": {},
     "output_type": "display_data"
    }
   ],
   "source": [
    "\n",
    "\n",
    "# Plot a few sensors\n",
    "df.set_index('timestamp')[['sensor_00', 'sensor_01', 'sensor_02']].plot(figsize=(14, 4))\n",
    "plt.title('Sensor Values Over Time')\n",
    "plt.show()"
   ]
  },
  {
   "cell_type": "code",
   "execution_count": 11,
   "id": "ff27e536",
   "metadata": {
    "execution": {
     "iopub.execute_input": "2025-10-03T17:32:44.074144Z",
     "iopub.status.busy": "2025-10-03T17:32:44.073417Z",
     "iopub.status.idle": "2025-10-03T17:32:44.456853Z",
     "shell.execute_reply": "2025-10-03T17:32:44.455728Z"
    },
    "papermill": {
     "duration": 0.392526,
     "end_time": "2025-10-03T17:32:44.458716",
     "exception": false,
     "start_time": "2025-10-03T17:32:44.066190",
     "status": "completed"
    },
    "tags": []
   },
   "outputs": [],
   "source": [
    "from sklearn.model_selection import train_test_split\n",
    "from sklearn.preprocessing import StandardScaler\n",
    "\n",
    "# Drop timestamp\n",
    "X = df.drop(['timestamp', 'machine_status'], axis=1)\n",
    "y = df['machine_status']"
   ]
  },
  {
   "cell_type": "code",
   "execution_count": 12,
   "id": "44639158",
   "metadata": {
    "execution": {
     "iopub.execute_input": "2025-10-03T17:32:44.472196Z",
     "iopub.status.busy": "2025-10-03T17:32:44.471842Z",
     "iopub.status.idle": "2025-10-03T17:32:44.669632Z",
     "shell.execute_reply": "2025-10-03T17:32:44.668636Z"
    },
    "papermill": {
     "duration": 0.206735,
     "end_time": "2025-10-03T17:32:44.671375",
     "exception": false,
     "start_time": "2025-10-03T17:32:44.464640",
     "status": "completed"
    },
    "tags": []
   },
   "outputs": [],
   "source": [
    "# Train-test split\n",
    "X_train, X_test, y_train, y_test = train_test_split(X, y, stratify=y, random_state=42)"
   ]
  },
  {
   "cell_type": "code",
   "execution_count": 13,
   "id": "feab01b9",
   "metadata": {
    "execution": {
     "iopub.execute_input": "2025-10-03T17:32:44.684193Z",
     "iopub.status.busy": "2025-10-03T17:32:44.683857Z",
     "iopub.status.idle": "2025-10-03T17:32:45.122629Z",
     "shell.execute_reply": "2025-10-03T17:32:45.121662Z"
    },
    "papermill": {
     "duration": 0.447141,
     "end_time": "2025-10-03T17:32:45.124340",
     "exception": false,
     "start_time": "2025-10-03T17:32:44.677199",
     "status": "completed"
    },
    "tags": []
   },
   "outputs": [],
   "source": [
    "# Normalize features\n",
    "scaler = StandardScaler()\n",
    "X_train = scaler.fit_transform(X_train)\n",
    "X_test = scaler.transform(X_test)"
   ]
  },
  {
   "cell_type": "code",
   "execution_count": 14,
   "id": "2af3a61a",
   "metadata": {
    "execution": {
     "iopub.execute_input": "2025-10-03T17:32:45.139472Z",
     "iopub.status.busy": "2025-10-03T17:32:45.139154Z",
     "iopub.status.idle": "2025-10-03T17:32:45.917386Z",
     "shell.execute_reply": "2025-10-03T17:32:45.916401Z"
    },
    "papermill": {
     "duration": 0.787681,
     "end_time": "2025-10-03T17:32:45.919093",
     "exception": false,
     "start_time": "2025-10-03T17:32:45.131412",
     "status": "completed"
    },
    "tags": []
   },
   "outputs": [],
   "source": [
    "from sklearn.impute import SimpleImputer\n",
    "from sklearn.ensemble import RandomForestClassifier\n",
    "from sklearn.model_selection import train_test_split\n",
    "\n",
    "# Impute missing values\n",
    "imputer = SimpleImputer(strategy='mean')  # You can use 'median' or 'most_frequent' if more appropriate\n",
    "X_train_imputed = imputer.fit_transform(X_train)\n",
    "X_test_imputed = imputer.transform(X_test)"
   ]
  },
  {
   "cell_type": "code",
   "execution_count": 15,
   "id": "7bf6afcb",
   "metadata": {
    "execution": {
     "iopub.execute_input": "2025-10-03T17:32:45.932107Z",
     "iopub.status.busy": "2025-10-03T17:32:45.931807Z",
     "iopub.status.idle": "2025-10-03T17:34:17.144445Z",
     "shell.execute_reply": "2025-10-03T17:34:17.143451Z"
    },
    "papermill": {
     "duration": 91.226521,
     "end_time": "2025-10-03T17:34:17.151609",
     "exception": false,
     "start_time": "2025-10-03T17:32:45.925088",
     "status": "completed"
    },
    "tags": []
   },
   "outputs": [
    {
     "data": {
      "text/html": [
       "<style>#sk-container-id-1 {color: black;background-color: white;}#sk-container-id-1 pre{padding: 0;}#sk-container-id-1 div.sk-toggleable {background-color: white;}#sk-container-id-1 label.sk-toggleable__label {cursor: pointer;display: block;width: 100%;margin-bottom: 0;padding: 0.3em;box-sizing: border-box;text-align: center;}#sk-container-id-1 label.sk-toggleable__label-arrow:before {content: \"▸\";float: left;margin-right: 0.25em;color: #696969;}#sk-container-id-1 label.sk-toggleable__label-arrow:hover:before {color: black;}#sk-container-id-1 div.sk-estimator:hover label.sk-toggleable__label-arrow:before {color: black;}#sk-container-id-1 div.sk-toggleable__content {max-height: 0;max-width: 0;overflow: hidden;text-align: left;background-color: #f0f8ff;}#sk-container-id-1 div.sk-toggleable__content pre {margin: 0.2em;color: black;border-radius: 0.25em;background-color: #f0f8ff;}#sk-container-id-1 input.sk-toggleable__control:checked~div.sk-toggleable__content {max-height: 200px;max-width: 100%;overflow: auto;}#sk-container-id-1 input.sk-toggleable__control:checked~label.sk-toggleable__label-arrow:before {content: \"▾\";}#sk-container-id-1 div.sk-estimator input.sk-toggleable__control:checked~label.sk-toggleable__label {background-color: #d4ebff;}#sk-container-id-1 div.sk-label input.sk-toggleable__control:checked~label.sk-toggleable__label {background-color: #d4ebff;}#sk-container-id-1 input.sk-hidden--visually {border: 0;clip: rect(1px 1px 1px 1px);clip: rect(1px, 1px, 1px, 1px);height: 1px;margin: -1px;overflow: hidden;padding: 0;position: absolute;width: 1px;}#sk-container-id-1 div.sk-estimator {font-family: monospace;background-color: #f0f8ff;border: 1px dotted black;border-radius: 0.25em;box-sizing: border-box;margin-bottom: 0.5em;}#sk-container-id-1 div.sk-estimator:hover {background-color: #d4ebff;}#sk-container-id-1 div.sk-parallel-item::after {content: \"\";width: 100%;border-bottom: 1px solid gray;flex-grow: 1;}#sk-container-id-1 div.sk-label:hover label.sk-toggleable__label {background-color: #d4ebff;}#sk-container-id-1 div.sk-serial::before {content: \"\";position: absolute;border-left: 1px solid gray;box-sizing: border-box;top: 0;bottom: 0;left: 50%;z-index: 0;}#sk-container-id-1 div.sk-serial {display: flex;flex-direction: column;align-items: center;background-color: white;padding-right: 0.2em;padding-left: 0.2em;position: relative;}#sk-container-id-1 div.sk-item {position: relative;z-index: 1;}#sk-container-id-1 div.sk-parallel {display: flex;align-items: stretch;justify-content: center;background-color: white;position: relative;}#sk-container-id-1 div.sk-item::before, #sk-container-id-1 div.sk-parallel-item::before {content: \"\";position: absolute;border-left: 1px solid gray;box-sizing: border-box;top: 0;bottom: 0;left: 50%;z-index: -1;}#sk-container-id-1 div.sk-parallel-item {display: flex;flex-direction: column;z-index: 1;position: relative;background-color: white;}#sk-container-id-1 div.sk-parallel-item:first-child::after {align-self: flex-end;width: 50%;}#sk-container-id-1 div.sk-parallel-item:last-child::after {align-self: flex-start;width: 50%;}#sk-container-id-1 div.sk-parallel-item:only-child::after {width: 0;}#sk-container-id-1 div.sk-dashed-wrapped {border: 1px dashed gray;margin: 0 0.4em 0.5em 0.4em;box-sizing: border-box;padding-bottom: 0.4em;background-color: white;}#sk-container-id-1 div.sk-label label {font-family: monospace;font-weight: bold;display: inline-block;line-height: 1.2em;}#sk-container-id-1 div.sk-label-container {text-align: center;}#sk-container-id-1 div.sk-container {/* jupyter's `normalize.less` sets `[hidden] { display: none; }` but bootstrap.min.css set `[hidden] { display: none !important; }` so we also need the `!important` here to be able to override the default hidden behavior on the sphinx rendered scikit-learn.org. See: https://github.com/scikit-learn/scikit-learn/issues/21755 */display: inline-block !important;position: relative;}#sk-container-id-1 div.sk-text-repr-fallback {display: none;}</style><div id=\"sk-container-id-1\" class=\"sk-top-container\"><div class=\"sk-text-repr-fallback\"><pre>RandomForestClassifier(random_state=42)</pre><b>In a Jupyter environment, please rerun this cell to show the HTML representation or trust the notebook. <br />On GitHub, the HTML representation is unable to render, please try loading this page with nbviewer.org.</b></div><div class=\"sk-container\" hidden><div class=\"sk-item\"><div class=\"sk-estimator sk-toggleable\"><input class=\"sk-toggleable__control sk-hidden--visually\" id=\"sk-estimator-id-1\" type=\"checkbox\" checked><label for=\"sk-estimator-id-1\" class=\"sk-toggleable__label sk-toggleable__label-arrow\">RandomForestClassifier</label><div class=\"sk-toggleable__content\"><pre>RandomForestClassifier(random_state=42)</pre></div></div></div></div></div>"
      ],
      "text/plain": [
       "RandomForestClassifier(random_state=42)"
      ]
     },
     "execution_count": 15,
     "metadata": {},
     "output_type": "execute_result"
    }
   ],
   "source": [
    "# Train model\n",
    "model = RandomForestClassifier(random_state=42)\n",
    "model.fit(X_train_imputed, y_train)"
   ]
  },
  {
   "cell_type": "code",
   "execution_count": 16,
   "id": "78818cee",
   "metadata": {
    "execution": {
     "iopub.execute_input": "2025-10-03T17:34:17.165605Z",
     "iopub.status.busy": "2025-10-03T17:34:17.164433Z",
     "iopub.status.idle": "2025-10-03T17:34:19.067621Z",
     "shell.execute_reply": "2025-10-03T17:34:19.066513Z"
    },
    "papermill": {
     "duration": 1.911947,
     "end_time": "2025-10-03T17:34:19.069415",
     "exception": false,
     "start_time": "2025-10-03T17:34:17.157468",
     "status": "completed"
    },
    "tags": []
   },
   "outputs": [
    {
     "name": "stdout",
     "output_type": "stream",
     "text": [
      "Train Accuracy: 1.0\n",
      "Test Accuracy: 0.9998910675381264\n"
     ]
    }
   ],
   "source": [
    "# Accuracy\n",
    "print(\"Train Accuracy:\", model.score(X_train_imputed, y_train))\n",
    "print(\"Test Accuracy:\", model.score(X_test_imputed, y_test))\n"
   ]
  }
 ],
 "metadata": {
  "kaggle": {
   "accelerator": "none",
   "dataSources": [
    {
     "datasetId": 131138,
     "sourceId": 312855,
     "sourceType": "datasetVersion"
    }
   ],
   "dockerImageVersionId": 31089,
   "isGpuEnabled": false,
   "isInternetEnabled": true,
   "language": "python",
   "sourceType": "notebook"
  },
  "kernelspec": {
   "display_name": "Python 3",
   "language": "python",
   "name": "python3"
  },
  "language_info": {
   "codemirror_mode": {
    "name": "ipython",
    "version": 3
   },
   "file_extension": ".py",
   "mimetype": "text/x-python",
   "name": "python",
   "nbconvert_exporter": "python",
   "pygments_lexer": "ipython3",
   "version": "3.11.13"
  },
  "papermill": {
   "default_parameters": {},
   "duration": 120.790401,
   "end_time": "2025-10-03T17:34:19.796438",
   "environment_variables": {},
   "exception": null,
   "input_path": "__notebook__.ipynb",
   "output_path": "__notebook__.ipynb",
   "parameters": {},
   "start_time": "2025-10-03T17:32:19.006037",
   "version": "2.6.0"
  }
 },
 "nbformat": 4,
 "nbformat_minor": 5
}
