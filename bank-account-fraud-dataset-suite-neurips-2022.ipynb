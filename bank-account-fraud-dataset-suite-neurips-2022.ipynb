{
 "cells": [
  {
   "cell_type": "code",
   "execution_count": 1,
   "id": "3d580768",
   "metadata": {
    "_cell_guid": "b1076dfc-b9ad-4769-8c92-a6c4dae69d19",
    "_uuid": "8f2839f25d086af736a60e9eeb907d3b93b6e0e5",
    "execution": {
     "iopub.execute_input": "2025-10-03T10:49:55.133711Z",
     "iopub.status.busy": "2025-10-03T10:49:55.132952Z",
     "iopub.status.idle": "2025-10-03T10:49:56.980870Z",
     "shell.execute_reply": "2025-10-03T10:49:56.979607Z"
    },
    "papermill": {
     "duration": 1.855134,
     "end_time": "2025-10-03T10:49:56.982527",
     "exception": false,
     "start_time": "2025-10-03T10:49:55.127393",
     "status": "completed"
    },
    "tags": []
   },
   "outputs": [
    {
     "name": "stdout",
     "output_type": "stream",
     "text": [
      "/kaggle/input/bank-account-fraud-dataset-neurips-2022/Base.csv\n",
      "/kaggle/input/bank-account-fraud-dataset-neurips-2022/Variant IV.csv\n",
      "/kaggle/input/bank-account-fraud-dataset-neurips-2022/Variant V.csv\n",
      "/kaggle/input/bank-account-fraud-dataset-neurips-2022/Variant I.csv\n",
      "/kaggle/input/bank-account-fraud-dataset-neurips-2022/Variant III.csv\n",
      "/kaggle/input/bank-account-fraud-dataset-neurips-2022/Variant II.csv\n"
     ]
    }
   ],
   "source": [
    "# This Python 3 environment comes with many helpful analytics libraries installed\n",
    "# It is defined by the kaggle/python Docker image: https://github.com/kaggle/docker-python\n",
    "# For example, here's several helpful packages to load\n",
    "\n",
    "import numpy as np # linear algebra\n",
    "import pandas as pd # data processing, CSV file I/O (e.g. pd.read_csv)\n",
    "\n",
    "# Input data files are available in the read-only \"../input/\" directory\n",
    "# For example, running this (by clicking run or pressing Shift+Enter) will list all files under the input directory\n",
    "\n",
    "import os\n",
    "for dirname, _, filenames in os.walk('/kaggle/input'):\n",
    "    for filename in filenames:\n",
    "        print(os.path.join(dirname, filename))\n",
    "\n",
    "# You can write up to 20GB to the current directory (/kaggle/working/) that gets preserved as output when you create a version using \"Save & Run All\" \n",
    "# You can also write temporary files to /kaggle/temp/, but they won't be saved outside of the current session"
   ]
  },
  {
   "cell_type": "code",
   "execution_count": 2,
   "id": "b31cb34d",
   "metadata": {
    "execution": {
     "iopub.execute_input": "2025-10-03T10:49:56.991397Z",
     "iopub.status.busy": "2025-10-03T10:49:56.990981Z",
     "iopub.status.idle": "2025-10-03T10:49:56.995261Z",
     "shell.execute_reply": "2025-10-03T10:49:56.994446Z"
    },
    "papermill": {
     "duration": 0.010256,
     "end_time": "2025-10-03T10:49:56.996705",
     "exception": false,
     "start_time": "2025-10-03T10:49:56.986449",
     "status": "completed"
    },
    "tags": []
   },
   "outputs": [],
   "source": [
    "import warnings\n",
    "warnings.filterwarnings(\"ignore\")"
   ]
  },
  {
   "cell_type": "code",
   "execution_count": 3,
   "id": "11b3da2a",
   "metadata": {
    "execution": {
     "iopub.execute_input": "2025-10-03T10:49:57.005615Z",
     "iopub.status.busy": "2025-10-03T10:49:57.004844Z",
     "iopub.status.idle": "2025-10-03T10:49:58.806955Z",
     "shell.execute_reply": "2025-10-03T10:49:58.806138Z"
    },
    "papermill": {
     "duration": 1.808036,
     "end_time": "2025-10-03T10:49:58.808585",
     "exception": false,
     "start_time": "2025-10-03T10:49:57.000549",
     "status": "completed"
    },
    "tags": []
   },
   "outputs": [],
   "source": [
    "import pandas as pd\n",
    "import matplotlib.pyplot as plt\n",
    "import seaborn as sns"
   ]
  },
  {
   "cell_type": "code",
   "execution_count": 4,
   "id": "a0244f82",
   "metadata": {
    "execution": {
     "iopub.execute_input": "2025-10-03T10:49:58.817026Z",
     "iopub.status.busy": "2025-10-03T10:49:58.816602Z",
     "iopub.status.idle": "2025-10-03T10:50:05.384384Z",
     "shell.execute_reply": "2025-10-03T10:50:05.383527Z"
    },
    "papermill": {
     "duration": 6.573438,
     "end_time": "2025-10-03T10:50:05.385693",
     "exception": false,
     "start_time": "2025-10-03T10:49:58.812255",
     "status": "completed"
    },
    "tags": []
   },
   "outputs": [
    {
     "data": {
      "text/html": [
       "<div>\n",
       "<style scoped>\n",
       "    .dataframe tbody tr th:only-of-type {\n",
       "        vertical-align: middle;\n",
       "    }\n",
       "\n",
       "    .dataframe tbody tr th {\n",
       "        vertical-align: top;\n",
       "    }\n",
       "\n",
       "    .dataframe thead th {\n",
       "        text-align: right;\n",
       "    }\n",
       "</style>\n",
       "<table border=\"1\" class=\"dataframe\">\n",
       "  <thead>\n",
       "    <tr style=\"text-align: right;\">\n",
       "      <th></th>\n",
       "      <th>fraud_bool</th>\n",
       "      <th>income</th>\n",
       "      <th>name_email_similarity</th>\n",
       "      <th>prev_address_months_count</th>\n",
       "      <th>current_address_months_count</th>\n",
       "      <th>customer_age</th>\n",
       "      <th>days_since_request</th>\n",
       "      <th>intended_balcon_amount</th>\n",
       "      <th>payment_type</th>\n",
       "      <th>zip_count_4w</th>\n",
       "      <th>...</th>\n",
       "      <th>has_other_cards</th>\n",
       "      <th>proposed_credit_limit</th>\n",
       "      <th>foreign_request</th>\n",
       "      <th>source</th>\n",
       "      <th>session_length_in_minutes</th>\n",
       "      <th>device_os</th>\n",
       "      <th>keep_alive_session</th>\n",
       "      <th>device_distinct_emails_8w</th>\n",
       "      <th>device_fraud_count</th>\n",
       "      <th>month</th>\n",
       "    </tr>\n",
       "  </thead>\n",
       "  <tbody>\n",
       "    <tr>\n",
       "      <th>0</th>\n",
       "      <td>0</td>\n",
       "      <td>0.3</td>\n",
       "      <td>0.986506</td>\n",
       "      <td>-1</td>\n",
       "      <td>25</td>\n",
       "      <td>40</td>\n",
       "      <td>0.006735</td>\n",
       "      <td>102.453711</td>\n",
       "      <td>AA</td>\n",
       "      <td>1059</td>\n",
       "      <td>...</td>\n",
       "      <td>0</td>\n",
       "      <td>1500.0</td>\n",
       "      <td>0</td>\n",
       "      <td>INTERNET</td>\n",
       "      <td>16.224843</td>\n",
       "      <td>linux</td>\n",
       "      <td>1</td>\n",
       "      <td>1</td>\n",
       "      <td>0</td>\n",
       "      <td>0</td>\n",
       "    </tr>\n",
       "    <tr>\n",
       "      <th>1</th>\n",
       "      <td>0</td>\n",
       "      <td>0.8</td>\n",
       "      <td>0.617426</td>\n",
       "      <td>-1</td>\n",
       "      <td>89</td>\n",
       "      <td>20</td>\n",
       "      <td>0.010095</td>\n",
       "      <td>-0.849551</td>\n",
       "      <td>AD</td>\n",
       "      <td>1658</td>\n",
       "      <td>...</td>\n",
       "      <td>0</td>\n",
       "      <td>1500.0</td>\n",
       "      <td>0</td>\n",
       "      <td>INTERNET</td>\n",
       "      <td>3.363854</td>\n",
       "      <td>other</td>\n",
       "      <td>1</td>\n",
       "      <td>1</td>\n",
       "      <td>0</td>\n",
       "      <td>0</td>\n",
       "    </tr>\n",
       "    <tr>\n",
       "      <th>2</th>\n",
       "      <td>0</td>\n",
       "      <td>0.8</td>\n",
       "      <td>0.996707</td>\n",
       "      <td>9</td>\n",
       "      <td>14</td>\n",
       "      <td>40</td>\n",
       "      <td>0.012316</td>\n",
       "      <td>-1.490386</td>\n",
       "      <td>AB</td>\n",
       "      <td>1095</td>\n",
       "      <td>...</td>\n",
       "      <td>0</td>\n",
       "      <td>200.0</td>\n",
       "      <td>0</td>\n",
       "      <td>INTERNET</td>\n",
       "      <td>22.730559</td>\n",
       "      <td>windows</td>\n",
       "      <td>0</td>\n",
       "      <td>1</td>\n",
       "      <td>0</td>\n",
       "      <td>0</td>\n",
       "    </tr>\n",
       "    <tr>\n",
       "      <th>3</th>\n",
       "      <td>0</td>\n",
       "      <td>0.6</td>\n",
       "      <td>0.475100</td>\n",
       "      <td>11</td>\n",
       "      <td>14</td>\n",
       "      <td>30</td>\n",
       "      <td>0.006991</td>\n",
       "      <td>-1.863101</td>\n",
       "      <td>AB</td>\n",
       "      <td>3483</td>\n",
       "      <td>...</td>\n",
       "      <td>0</td>\n",
       "      <td>200.0</td>\n",
       "      <td>0</td>\n",
       "      <td>INTERNET</td>\n",
       "      <td>15.215816</td>\n",
       "      <td>linux</td>\n",
       "      <td>1</td>\n",
       "      <td>1</td>\n",
       "      <td>0</td>\n",
       "      <td>0</td>\n",
       "    </tr>\n",
       "    <tr>\n",
       "      <th>4</th>\n",
       "      <td>0</td>\n",
       "      <td>0.9</td>\n",
       "      <td>0.842307</td>\n",
       "      <td>-1</td>\n",
       "      <td>29</td>\n",
       "      <td>40</td>\n",
       "      <td>5.742626</td>\n",
       "      <td>47.152498</td>\n",
       "      <td>AA</td>\n",
       "      <td>2339</td>\n",
       "      <td>...</td>\n",
       "      <td>0</td>\n",
       "      <td>200.0</td>\n",
       "      <td>0</td>\n",
       "      <td>INTERNET</td>\n",
       "      <td>3.743048</td>\n",
       "      <td>other</td>\n",
       "      <td>0</td>\n",
       "      <td>1</td>\n",
       "      <td>0</td>\n",
       "      <td>0</td>\n",
       "    </tr>\n",
       "  </tbody>\n",
       "</table>\n",
       "<p>5 rows × 32 columns</p>\n",
       "</div>"
      ],
      "text/plain": [
       "   fraud_bool  income  name_email_similarity  prev_address_months_count  \\\n",
       "0           0     0.3               0.986506                         -1   \n",
       "1           0     0.8               0.617426                         -1   \n",
       "2           0     0.8               0.996707                          9   \n",
       "3           0     0.6               0.475100                         11   \n",
       "4           0     0.9               0.842307                         -1   \n",
       "\n",
       "   current_address_months_count  customer_age  days_since_request  \\\n",
       "0                            25            40            0.006735   \n",
       "1                            89            20            0.010095   \n",
       "2                            14            40            0.012316   \n",
       "3                            14            30            0.006991   \n",
       "4                            29            40            5.742626   \n",
       "\n",
       "   intended_balcon_amount payment_type  zip_count_4w  ...  has_other_cards  \\\n",
       "0              102.453711           AA          1059  ...                0   \n",
       "1               -0.849551           AD          1658  ...                0   \n",
       "2               -1.490386           AB          1095  ...                0   \n",
       "3               -1.863101           AB          3483  ...                0   \n",
       "4               47.152498           AA          2339  ...                0   \n",
       "\n",
       "   proposed_credit_limit  foreign_request    source  \\\n",
       "0                 1500.0                0  INTERNET   \n",
       "1                 1500.0                0  INTERNET   \n",
       "2                  200.0                0  INTERNET   \n",
       "3                  200.0                0  INTERNET   \n",
       "4                  200.0                0  INTERNET   \n",
       "\n",
       "   session_length_in_minutes device_os  keep_alive_session  \\\n",
       "0                  16.224843     linux                   1   \n",
       "1                   3.363854     other                   1   \n",
       "2                  22.730559   windows                   0   \n",
       "3                  15.215816     linux                   1   \n",
       "4                   3.743048     other                   0   \n",
       "\n",
       "   device_distinct_emails_8w device_fraud_count  month  \n",
       "0                          1                  0      0  \n",
       "1                          1                  0      0  \n",
       "2                          1                  0      0  \n",
       "3                          1                  0      0  \n",
       "4                          1                  0      0  \n",
       "\n",
       "[5 rows x 32 columns]"
      ]
     },
     "execution_count": 4,
     "metadata": {},
     "output_type": "execute_result"
    }
   ],
   "source": [
    "df = pd.read_csv(\"/kaggle/input/bank-account-fraud-dataset-neurips-2022/Base.csv\")\n",
    "df.head()"
   ]
  },
  {
   "cell_type": "code",
   "execution_count": 5,
   "id": "13f99774",
   "metadata": {
    "execution": {
     "iopub.execute_input": "2025-10-03T10:50:05.395237Z",
     "iopub.status.busy": "2025-10-03T10:50:05.394556Z",
     "iopub.status.idle": "2025-10-03T10:50:05.401588Z",
     "shell.execute_reply": "2025-10-03T10:50:05.400730Z"
    },
    "papermill": {
     "duration": 0.01326,
     "end_time": "2025-10-03T10:50:05.403036",
     "exception": false,
     "start_time": "2025-10-03T10:50:05.389776",
     "status": "completed"
    },
    "tags": []
   },
   "outputs": [
    {
     "data": {
      "text/plain": [
       "Index(['fraud_bool', 'income', 'name_email_similarity',\n",
       "       'prev_address_months_count', 'current_address_months_count',\n",
       "       'customer_age', 'days_since_request', 'intended_balcon_amount',\n",
       "       'payment_type', 'zip_count_4w', 'velocity_6h', 'velocity_24h',\n",
       "       'velocity_4w', 'bank_branch_count_8w',\n",
       "       'date_of_birth_distinct_emails_4w', 'employment_status',\n",
       "       'credit_risk_score', 'email_is_free', 'housing_status',\n",
       "       'phone_home_valid', 'phone_mobile_valid', 'bank_months_count',\n",
       "       'has_other_cards', 'proposed_credit_limit', 'foreign_request', 'source',\n",
       "       'session_length_in_minutes', 'device_os', 'keep_alive_session',\n",
       "       'device_distinct_emails_8w', 'device_fraud_count', 'month'],\n",
       "      dtype='object')"
      ]
     },
     "execution_count": 5,
     "metadata": {},
     "output_type": "execute_result"
    }
   ],
   "source": [
    "df.columns"
   ]
  },
  {
   "cell_type": "code",
   "execution_count": 6,
   "id": "673ec873",
   "metadata": {
    "execution": {
     "iopub.execute_input": "2025-10-03T10:50:05.412389Z",
     "iopub.status.busy": "2025-10-03T10:50:05.411639Z",
     "iopub.status.idle": "2025-10-03T10:50:05.741956Z",
     "shell.execute_reply": "2025-10-03T10:50:05.740804Z"
    },
    "papermill": {
     "duration": 0.336436,
     "end_time": "2025-10-03T10:50:05.743518",
     "exception": false,
     "start_time": "2025-10-03T10:50:05.407082",
     "status": "completed"
    },
    "tags": []
   },
   "outputs": [
    {
     "name": "stdout",
     "output_type": "stream",
     "text": [
      "<class 'pandas.core.frame.DataFrame'>\n",
      "RangeIndex: 1000000 entries, 0 to 999999\n",
      "Data columns (total 32 columns):\n",
      " #   Column                            Non-Null Count    Dtype  \n",
      "---  ------                            --------------    -----  \n",
      " 0   fraud_bool                        1000000 non-null  int64  \n",
      " 1   income                            1000000 non-null  float64\n",
      " 2   name_email_similarity             1000000 non-null  float64\n",
      " 3   prev_address_months_count         1000000 non-null  int64  \n",
      " 4   current_address_months_count      1000000 non-null  int64  \n",
      " 5   customer_age                      1000000 non-null  int64  \n",
      " 6   days_since_request                1000000 non-null  float64\n",
      " 7   intended_balcon_amount            1000000 non-null  float64\n",
      " 8   payment_type                      1000000 non-null  object \n",
      " 9   zip_count_4w                      1000000 non-null  int64  \n",
      " 10  velocity_6h                       1000000 non-null  float64\n",
      " 11  velocity_24h                      1000000 non-null  float64\n",
      " 12  velocity_4w                       1000000 non-null  float64\n",
      " 13  bank_branch_count_8w              1000000 non-null  int64  \n",
      " 14  date_of_birth_distinct_emails_4w  1000000 non-null  int64  \n",
      " 15  employment_status                 1000000 non-null  object \n",
      " 16  credit_risk_score                 1000000 non-null  int64  \n",
      " 17  email_is_free                     1000000 non-null  int64  \n",
      " 18  housing_status                    1000000 non-null  object \n",
      " 19  phone_home_valid                  1000000 non-null  int64  \n",
      " 20  phone_mobile_valid                1000000 non-null  int64  \n",
      " 21  bank_months_count                 1000000 non-null  int64  \n",
      " 22  has_other_cards                   1000000 non-null  int64  \n",
      " 23  proposed_credit_limit             1000000 non-null  float64\n",
      " 24  foreign_request                   1000000 non-null  int64  \n",
      " 25  source                            1000000 non-null  object \n",
      " 26  session_length_in_minutes         1000000 non-null  float64\n",
      " 27  device_os                         1000000 non-null  object \n",
      " 28  keep_alive_session                1000000 non-null  int64  \n",
      " 29  device_distinct_emails_8w         1000000 non-null  int64  \n",
      " 30  device_fraud_count                1000000 non-null  int64  \n",
      " 31  month                             1000000 non-null  int64  \n",
      "dtypes: float64(9), int64(18), object(5)\n",
      "memory usage: 244.1+ MB\n"
     ]
    }
   ],
   "source": [
    "df.info()"
   ]
  },
  {
   "cell_type": "code",
   "execution_count": 7,
   "id": "52dd3269",
   "metadata": {
    "execution": {
     "iopub.execute_input": "2025-10-03T10:50:05.752754Z",
     "iopub.status.busy": "2025-10-03T10:50:05.752249Z",
     "iopub.status.idle": "2025-10-03T10:50:06.051816Z",
     "shell.execute_reply": "2025-10-03T10:50:06.050997Z"
    },
    "papermill": {
     "duration": 0.305567,
     "end_time": "2025-10-03T10:50:06.053175",
     "exception": false,
     "start_time": "2025-10-03T10:50:05.747608",
     "status": "completed"
    },
    "tags": []
   },
   "outputs": [
    {
     "data": {
      "text/plain": [
       "fraud_bool                   0\n",
       "income                       0\n",
       "device_fraud_count           0\n",
       "device_distinct_emails_8w    0\n",
       "keep_alive_session           0\n",
       "device_os                    0\n",
       "session_length_in_minutes    0\n",
       "source                       0\n",
       "foreign_request              0\n",
       "proposed_credit_limit        0\n",
       "dtype: int64"
      ]
     },
     "execution_count": 7,
     "metadata": {},
     "output_type": "execute_result"
    }
   ],
   "source": [
    "df.isnull().sum().sort_values(ascending=False).head(10)"
   ]
  },
  {
   "cell_type": "code",
   "execution_count": 8,
   "id": "7ccc599d",
   "metadata": {
    "execution": {
     "iopub.execute_input": "2025-10-03T10:50:06.062680Z",
     "iopub.status.busy": "2025-10-03T10:50:06.062164Z",
     "iopub.status.idle": "2025-10-03T10:50:06.476768Z",
     "shell.execute_reply": "2025-10-03T10:50:06.475795Z"
    },
    "papermill": {
     "duration": 0.421009,
     "end_time": "2025-10-03T10:50:06.478369",
     "exception": false,
     "start_time": "2025-10-03T10:50:06.057360",
     "status": "completed"
    },
    "tags": []
   },
   "outputs": [
    {
     "data": {
      "image/png": "[encoded data removed]",
      "text/plain": [
       "<Figure size 640x480 with 1 Axes>"
      ]
     },
     "metadata": {},
     "output_type": "display_data"
    }
   ],
   "source": [
    "# Fraud target variable distribution\n",
    "sns.countplot(x='fraud_bool', data=df)\n",
    "plt.title(\"Fraud vs Non-Fraud\")\n",
    "plt.show()"
   ]
  },
  {
   "cell_type": "code",
   "execution_count": 9,
   "id": "5075de59",
   "metadata": {
    "execution": {
     "iopub.execute_input": "2025-10-03T10:50:06.488930Z",
     "iopub.status.busy": "2025-10-03T10:50:06.488618Z",
     "iopub.status.idle": "2025-10-03T10:50:07.808966Z",
     "shell.execute_reply": "2025-10-03T10:50:07.808018Z"
    },
    "papermill": {
     "duration": 1.32724,
     "end_time": "2025-10-03T10:50:07.810555",
     "exception": false,
     "start_time": "2025-10-03T10:50:06.483315",
     "status": "completed"
    },
    "tags": []
   },
   "outputs": [
    {
     "data": {
      "image/png": "[encoded data removed]",
      "text/plain": [
       "<Figure size 500x300 with 1 Axes>"
      ]
     },
     "metadata": {},
     "output_type": "display_data"
    },
    {
     "data": {
      "image/png": "[encoded data removed]",
      "text/plain": [
       "<Figure size 500x300 with 1 Axes>"
      ]
     },
     "metadata": {},
     "output_type": "display_data"
    },
    {
     "data": {
      "image/png": "[encoded data removed]",
      "text/plain": [
       "<Figure size 500x300 with 1 Axes>"
      ]
     },
     "metadata": {},
     "output_type": "display_data"
    },
    {
     "data": {
      "image/png": "[encoded data removed]",
      "text/plain": [
       "<Figure size 500x300 with 1 Axes>"
      ]
     },
     "metadata": {},
     "output_type": "display_data"
    },
    {
     "data": {
      "image/png": "[encoded data removed]",
      "text/plain": [
       "<Figure size 500x300 with 1 Axes>"
      ]
     },
     "metadata": {},
     "output_type": "display_data"
    }
   ],
   "source": [
    "# Plot numeric features against fraud_bool\n",
    "num_cols = ['income', 'customer_age', 'credit_risk_score', 'zip_count_4w', 'velocity_6h']\n",
    "for col in num_cols:\n",
    "    plt.figure(figsize=(5,3))\n",
    "    sns.boxplot(x='fraud_bool', y=col, data=df)\n",
    "    plt.title(f\"{col} vs Fraud\")\n",
    "    plt.show()"
   ]
  },
  {
   "cell_type": "code",
   "execution_count": 10,
   "id": "1612d8cd",
   "metadata": {
    "execution": {
     "iopub.execute_input": "2025-10-03T10:50:07.824994Z",
     "iopub.status.busy": "2025-10-03T10:50:07.824651Z",
     "iopub.status.idle": "2025-10-03T10:50:09.352150Z",
     "shell.execute_reply": "2025-10-03T10:50:09.351261Z"
    },
    "papermill": {
     "duration": 1.536026,
     "end_time": "2025-10-03T10:50:09.353719",
     "exception": false,
     "start_time": "2025-10-03T10:50:07.817693",
     "status": "completed"
    },
    "tags": []
   },
   "outputs": [],
   "source": [
    "from sklearn.preprocessing import LabelEncoder\n",
    "\n",
    "df = df.drop(columns=['source'])  # high cardinality text column\n",
    "\n",
    "# Encode categoricals\n",
    "cat_cols = df.select_dtypes(include='object').columns\n",
    "le = LabelEncoder()\n",
    "for col in cat_cols:\n",
    "    df[col] = le.fit_transform(df[col].astype(str))\n",
    "\n",
    "# Fill missing with median\n",
    "df.fillna(df.median(numeric_only=True), inplace=True)"
   ]
  },
  {
   "cell_type": "code",
   "execution_count": 11,
   "id": "deb4b305",
   "metadata": {
    "execution": {
     "iopub.execute_input": "2025-10-03T10:50:09.366849Z",
     "iopub.status.busy": "2025-10-03T10:50:09.366561Z",
     "iopub.status.idle": "2025-10-03T10:50:09.565543Z",
     "shell.execute_reply": "2025-10-03T10:50:09.564701Z"
    },
    "papermill": {
     "duration": 0.207334,
     "end_time": "2025-10-03T10:50:09.567087",
     "exception": false,
     "start_time": "2025-10-03T10:50:09.359753",
     "status": "completed"
    },
    "tags": []
   },
   "outputs": [],
   "source": [
    "from sklearn.model_selection import train_test_split\n",
    "\n",
    "X = df.drop(columns='fraud_bool')\n",
    "y = df['fraud_bool']"
   ]
  },
  {
   "cell_type": "code",
   "execution_count": 12,
   "id": "0dcdaaf5",
   "metadata": {
    "execution": {
     "iopub.execute_input": "2025-10-03T10:50:09.581287Z",
     "iopub.status.busy": "2025-10-03T10:50:09.580904Z",
     "iopub.status.idle": "2025-10-03T10:50:10.055009Z",
     "shell.execute_reply": "2025-10-03T10:50:10.054170Z"
    },
    "papermill": {
     "duration": 0.483081,
     "end_time": "2025-10-03T10:50:10.056682",
     "exception": false,
     "start_time": "2025-10-03T10:50:09.573601",
     "status": "completed"
    },
    "tags": []
   },
   "outputs": [],
   "source": [
    "X_train, X_test, y_train, y_test = train_test_split(X, y, test_size=0.2, random_state=42)"
   ]
  },
  {
   "cell_type": "code",
   "execution_count": 13,
   "id": "262924d7",
   "metadata": {
    "execution": {
     "iopub.execute_input": "2025-10-03T10:50:10.070456Z",
     "iopub.status.busy": "2025-10-03T10:50:10.069807Z",
     "iopub.status.idle": "2025-10-03T10:50:24.082577Z",
     "shell.execute_reply": "2025-10-03T10:50:24.081526Z"
    },
    "papermill": {
     "duration": 14.020991,
     "end_time": "2025-10-03T10:50:24.083994",
     "exception": false,
     "start_time": "2025-10-03T10:50:10.063003",
     "status": "completed"
    },
    "tags": []
   },
   "outputs": [
    {
     "name": "stdout",
     "output_type": "stream",
     "text": [
      "[LightGBM] [Info] Number of positive: 8920, number of negative: 791080\n",
      "[LightGBM] [Info] Auto-choosing row-wise multi-threading, the overhead of testing was 0.073886 seconds.\n",
      "You can set `force_row_wise=true` to remove the overhead.\n",
      "And if memory is not enough, you can set `force_col_wise=true`.\n",
      "[LightGBM] [Info] Total Bins 3211\n",
      "[LightGBM] [Info] Number of data points in the train set: 800000, number of used features: 29\n",
      "[LightGBM] [Info] [binary:BoostFromScore]: pavg=0.011150 -> initscore=-4.485103\n",
      "[LightGBM] [Info] Start training from score -4.485103\n"
     ]
    },
    {
     "data": {
      "text/html": [
       "<style>#sk-container-id-1 {color: black;background-color: white;}#sk-container-id-1 pre{padding: 0;}#sk-container-id-1 div.sk-toggleable {background-color: white;}#sk-container-id-1 label.sk-toggleable__label {cursor: pointer;display: block;width: 100%;margin-bottom: 0;padding: 0.3em;box-sizing: border-box;text-align: center;}#sk-container-id-1 label.sk-toggleable__label-arrow:before {content: \"▸\";float: left;margin-right: 0.25em;color: #696969;}#sk-container-id-1 label.sk-toggleable__label-arrow:hover:before {color: black;}#sk-container-id-1 div.sk-estimator:hover label.sk-toggleable__label-arrow:before {color: black;}#sk-container-id-1 div.sk-toggleable__content {max-height: 0;max-width: 0;overflow: hidden;text-align: left;background-color: #f0f8ff;}#sk-container-id-1 div.sk-toggleable__content pre {margin: 0.2em;color: black;border-radius: 0.25em;background-color: #f0f8ff;}#sk-container-id-1 input.sk-toggleable__control:checked~div.sk-toggleable__content {max-height: 200px;max-width: 100%;overflow: auto;}#sk-container-id-1 input.sk-toggleable__control:checked~label.sk-toggleable__label-arrow:before {content: \"▾\";}#sk-container-id-1 div.sk-estimator input.sk-toggleable__control:checked~label.sk-toggleable__label {background-color: #d4ebff;}#sk-container-id-1 div.sk-label input.sk-toggleable__control:checked~label.sk-toggleable__label {background-color: #d4ebff;}#sk-container-id-1 input.sk-hidden--visually {border: 0;clip: rect(1px 1px 1px 1px);clip: rect(1px, 1px, 1px, 1px);height: 1px;margin: -1px;overflow: hidden;padding: 0;position: absolute;width: 1px;}#sk-container-id-1 div.sk-estimator {font-family: monospace;background-color: #f0f8ff;border: 1px dotted black;border-radius: 0.25em;box-sizing: border-box;margin-bottom: 0.5em;}#sk-container-id-1 div.sk-estimator:hover {background-color: #d4ebff;}#sk-container-id-1 div.sk-parallel-item::after {content: \"\";width: 100%;border-bottom: 1px solid gray;flex-grow: 1;}#sk-container-id-1 div.sk-label:hover label.sk-toggleable__label {background-color: #d4ebff;}#sk-container-id-1 div.sk-serial::before {content: \"\";position: absolute;border-left: 1px solid gray;box-sizing: border-box;top: 0;bottom: 0;left: 50%;z-index: 0;}#sk-container-id-1 div.sk-serial {display: flex;flex-direction: column;align-items: center;background-color: white;padding-right: 0.2em;padding-left: 0.2em;position: relative;}#sk-container-id-1 div.sk-item {position: relative;z-index: 1;}#sk-container-id-1 div.sk-parallel {display: flex;align-items: stretch;justify-content: center;background-color: white;position: relative;}#sk-container-id-1 div.sk-item::before, #sk-container-id-1 div.sk-parallel-item::before {content: \"\";position: absolute;border-left: 1px solid gray;box-sizing: border-box;top: 0;bottom: 0;left: 50%;z-index: -1;}#sk-container-id-1 div.sk-parallel-item {display: flex;flex-direction: column;z-index: 1;position: relative;background-color: white;}#sk-container-id-1 div.sk-parallel-item:first-child::after {align-self: flex-end;width: 50%;}#sk-container-id-1 div.sk-parallel-item:last-child::after {align-self: flex-start;width: 50%;}#sk-container-id-1 div.sk-parallel-item:only-child::after {width: 0;}#sk-container-id-1 div.sk-dashed-wrapped {border: 1px dashed gray;margin: 0 0.4em 0.5em 0.4em;box-sizing: border-box;padding-bottom: 0.4em;background-color: white;}#sk-container-id-1 div.sk-label label {font-family: monospace;font-weight: bold;display: inline-block;line-height: 1.2em;}#sk-container-id-1 div.sk-label-container {text-align: center;}#sk-container-id-1 div.sk-container {/* jupyter's `normalize.less` sets `[hidden] { display: none; }` but bootstrap.min.css set `[hidden] { display: none !important; }` so we also need the `!important` here to be able to override the default hidden behavior on the sphinx rendered scikit-learn.org. See: https://github.com/scikit-learn/scikit-learn/issues/21755 */display: inline-block !important;position: relative;}#sk-container-id-1 div.sk-text-repr-fallback {display: none;}</style><div id=\"sk-container-id-1\" class=\"sk-top-container\"><div class=\"sk-text-repr-fallback\"><pre>LGBMClassifier()</pre><b>In a Jupyter environment, please rerun this cell to show the HTML representation or trust the notebook. <br />On GitHub, the HTML representation is unable to render, please try loading this page with nbviewer.org.</b></div><div class=\"sk-container\" hidden><div class=\"sk-item\"><div class=\"sk-estimator sk-toggleable\"><input class=\"sk-toggleable__control sk-hidden--visually\" id=\"sk-estimator-id-1\" type=\"checkbox\" checked><label for=\"sk-estimator-id-1\" class=\"sk-toggleable__label sk-toggleable__label-arrow\">LGBMClassifier</label><div class=\"sk-toggleable__content\"><pre>LGBMClassifier()</pre></div></div></div></div></div>"
      ],
      "text/plain": [
       "LGBMClassifier()"
      ]
     },
     "execution_count": 13,
     "metadata": {},
     "output_type": "execute_result"
    }
   ],
   "source": [
    "import lightgbm as lgb\n",
    "from sklearn.metrics import classification_report, confusion_matrix, roc_auc_score\n",
    "\n",
    "# Train model\n",
    "model = lgb.LGBMClassifier()\n",
    "model.fit(X_train, y_train)"
   ]
  },
  {
   "cell_type": "code",
   "execution_count": 14,
   "id": "343bdb71",
   "metadata": {
    "execution": {
     "iopub.execute_input": "2025-10-03T10:50:24.099462Z",
     "iopub.status.busy": "2025-10-03T10:50:24.098369Z",
     "iopub.status.idle": "2025-10-03T10:50:25.886856Z",
     "shell.execute_reply": "2025-10-03T10:50:25.886048Z"
    },
    "papermill": {
     "duration": 1.797718,
     "end_time": "2025-10-03T10:50:25.888465",
     "exception": false,
     "start_time": "2025-10-03T10:50:24.090747",
     "status": "completed"
    },
    "tags": []
   },
   "outputs": [],
   "source": [
    "# Predict\n",
    "y_pred = model.predict(X_test)\n",
    "y_prob = model.predict_proba(X_test)[:,1]"
   ]
  },
  {
   "cell_type": "code",
   "execution_count": 15,
   "id": "bc039894",
   "metadata": {
    "execution": {
     "iopub.execute_input": "2025-10-03T10:50:25.902320Z",
     "iopub.status.busy": "2025-10-03T10:50:25.902001Z",
     "iopub.status.idle": "2025-10-03T10:50:25.932615Z",
     "shell.execute_reply": "2025-10-03T10:50:25.931668Z"
    },
    "papermill": {
     "duration": 0.039311,
     "end_time": "2025-10-03T10:50:25.934095",
     "exception": false,
     "start_time": "2025-10-03T10:50:25.894784",
     "status": "completed"
    },
    "tags": []
   },
   "outputs": [
    {
     "name": "stdout",
     "output_type": "stream",
     "text": [
      "[[197723    168]\n",
      " [  2012     97]]\n"
     ]
    }
   ],
   "source": [
    "# Evaluation\n",
    "print(confusion_matrix(y_test, y_pred))"
   ]
  },
  {
   "cell_type": "code",
   "execution_count": 16,
   "id": "24760f79",
   "metadata": {
    "execution": {
     "iopub.execute_input": "2025-10-03T10:50:25.948566Z",
     "iopub.status.busy": "2025-10-03T10:50:25.947637Z",
     "iopub.status.idle": "2025-10-03T10:50:26.182050Z",
     "shell.execute_reply": "2025-10-03T10:50:26.180963Z"
    },
    "papermill": {
     "duration": 0.243047,
     "end_time": "2025-10-03T10:50:26.183496",
     "exception": false,
     "start_time": "2025-10-03T10:50:25.940449",
     "status": "completed"
    },
    "tags": []
   },
   "outputs": [
    {
     "name": "stdout",
     "output_type": "stream",
     "text": [
      "              precision    recall  f1-score   support\n",
      "\n",
      "           0       0.99      1.00      0.99    197891\n",
      "           1       0.37      0.05      0.08      2109\n",
      "\n",
      "    accuracy                           0.99    200000\n",
      "   macro avg       0.68      0.52      0.54    200000\n",
      "weighted avg       0.98      0.99      0.98    200000\n",
      "\n"
     ]
    }
   ],
   "source": [
    "print(classification_report(y_test, y_pred))"
   ]
  },
  {
   "cell_type": "code",
   "execution_count": 17,
   "id": "e6cdd9f3",
   "metadata": {
    "execution": {
     "iopub.execute_input": "2025-10-03T10:50:26.198005Z",
     "iopub.status.busy": "2025-10-03T10:50:26.197107Z",
     "iopub.status.idle": "2025-10-03T10:50:26.278707Z",
     "shell.execute_reply": "2025-10-03T10:50:26.277606Z"
    },
    "papermill": {
     "duration": 0.090509,
     "end_time": "2025-10-03T10:50:26.280324",
     "exception": false,
     "start_time": "2025-10-03T10:50:26.189815",
     "status": "completed"
    },
    "tags": []
   },
   "outputs": [
    {
     "name": "stdout",
     "output_type": "stream",
     "text": [
      "ROC AUC: 0.8944054768295066\n"
     ]
    }
   ],
   "source": [
    "print(\"ROC AUC:\", roc_auc_score(y_test, y_prob))"
   ]
  },
  {
   "cell_type": "code",
   "execution_count": 18,
   "id": "e3eaa063",
   "metadata": {
    "execution": {
     "iopub.execute_input": "2025-10-03T10:50:26.294758Z",
     "iopub.status.busy": "2025-10-03T10:50:26.294460Z",
     "iopub.status.idle": "2025-10-03T10:50:26.538441Z",
     "shell.execute_reply": "2025-10-03T10:50:26.537438Z"
    },
    "papermill": {
     "duration": 0.253006,
     "end_time": "2025-10-03T10:50:26.539862",
     "exception": false,
     "start_time": "2025-10-03T10:50:26.286856",
     "status": "completed"
    },
    "tags": []
   },
   "outputs": [
    {
     "data": {
      "image/png": "[encoded data removed]",
      "text/plain": [
       "<Figure size 600x400 with 1 Axes>"
      ]
     },
     "metadata": {},
     "output_type": "display_data"
    }
   ],
   "source": [
    "feat_imp = pd.Series(model.feature_importances_, index=X.columns).sort_values()\n",
    "feat_imp.tail(10).plot(kind='barh', title='Top 10 Important Features', figsize=(6,4))\n",
    "plt.show()"
   ]
  }
 ],
 "metadata": {
  "kaggle": {
   "accelerator": "none",
   "dataSources": [
    {
     "datasetId": 2673949,
     "sourceId": 7082010,
     "sourceType": "datasetVersion"
    }
   ],
   "dockerImageVersionId": 31089,
   "isGpuEnabled": false,
   "isInternetEnabled": true,
   "language": "python",
   "sourceType": "notebook"
  },
  "kernelspec": {
   "display_name": "Python 3",
   "language": "python",
   "name": "python3"
  },
  "language_info": {
   "codemirror_mode": {
    "name": "ipython",
    "version": 3
   },
   "file_extension": ".py",
   "mimetype": "text/x-python",
   "name": "python",
   "nbconvert_exporter": "python",
   "pygments_lexer": "ipython3",
   "version": "3.11.13"
  },
  "papermill": {
   "default_parameters": {},
   "duration": 37.508007,
   "end_time": "2025-10-03T10:50:27.568330",
   "environment_variables": {},
   "exception": null,
   "input_path": "__notebook__.ipynb",
   "output_path": "__notebook__.ipynb",
   "parameters": {},
   "start_time": "2025-10-03T10:49:50.060323",
   "version": "2.6.0"
  }
 },
 "nbformat": 4,
 "nbformat_minor": 5
}
