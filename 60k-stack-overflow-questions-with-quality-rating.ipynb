{
 "cells": [
  {
   "cell_type": "code",
   "execution_count": 1,
   "id": "67a46781",
   "metadata": {
    "_cell_guid": "b1076dfc-b9ad-4769-8c92-a6c4dae69d19",
    "_uuid": "8f2839f25d086af736a60e9eeb907d3b93b6e0e5",
    "execution": {
     "iopub.execute_input": "2025-10-03T14:35:58.402882Z",
     "iopub.status.busy": "2025-10-03T14:35:58.402537Z",
     "iopub.status.idle": "2025-10-03T14:36:00.698135Z",
     "shell.execute_reply": "2025-10-03T14:36:00.696854Z"
    },
    "papermill": {
     "duration": 2.303826,
     "end_time": "2025-10-03T14:36:00.700126",
     "exception": false,
     "start_time": "2025-10-03T14:35:58.396300",
     "status": "completed"
    },
    "tags": []
   },
   "outputs": [
    {
     "name": "stdout",
     "output_type": "stream",
     "text": [
      "/kaggle/input/60k-stack-overflow-questions-with-quality-rate/valid.csv\n",
      "/kaggle/input/60k-stack-overflow-questions-with-quality-rate/train.csv\n"
     ]
    }
   ],
   "source": [
    "# This Python 3 environment comes with many helpful analytics libraries installed\n",
    "# It is defined by the kaggle/python Docker image: https://github.com/kaggle/docker-python\n",
    "# For example, here's several helpful packages to load\n",
    "\n",
    "import numpy as np # linear algebra\n",
    "import pandas as pd # data processing, CSV file I/O (e.g. pd.read_csv)\n",
    "\n",
    "# Input data files are available in the read-only \"../input/\" directory\n",
    "# For example, running this (by clicking run or pressing Shift+Enter) will list all files under the input directory\n",
    "\n",
    "import os\n",
    "for dirname, _, filenames in os.walk('/kaggle/input'):\n",
    "    for filename in filenames:\n",
    "        print(os.path.join(dirname, filename))\n",
    "\n",
    "# You can write up to 20GB to the current directory (/kaggle/working/) that gets preserved as output when you create a version using \"Save & Run All\" \n",
    "# You can also write temporary files to /kaggle/temp/, but they won't be saved outside of the current session"
   ]
  },
  {
   "cell_type": "code",
   "execution_count": 2,
   "id": "a389cc72",
   "metadata": {
    "execution": {
     "iopub.execute_input": "2025-10-03T14:36:00.710040Z",
     "iopub.status.busy": "2025-10-03T14:36:00.709624Z",
     "iopub.status.idle": "2025-10-03T14:36:00.715042Z",
     "shell.execute_reply": "2025-10-03T14:36:00.713989Z"
    },
    "papermill": {
     "duration": 0.012436,
     "end_time": "2025-10-03T14:36:00.717085",
     "exception": false,
     "start_time": "2025-10-03T14:36:00.704649",
     "status": "completed"
    },
    "tags": []
   },
   "outputs": [],
   "source": [
    "import warnings\n",
    "warnings.filterwarnings(\"ignore\")"
   ]
  },
  {
   "cell_type": "code",
   "execution_count": 3,
   "id": "2a27fb65",
   "metadata": {
    "execution": {
     "iopub.execute_input": "2025-10-03T14:36:00.727024Z",
     "iopub.status.busy": "2025-10-03T14:36:00.726684Z",
     "iopub.status.idle": "2025-10-03T14:36:03.017958Z",
     "shell.execute_reply": "2025-10-03T14:36:03.016818Z"
    },
    "papermill": {
     "duration": 2.298216,
     "end_time": "2025-10-03T14:36:03.019756",
     "exception": false,
     "start_time": "2025-10-03T14:36:00.721540",
     "status": "completed"
    },
    "tags": []
   },
   "outputs": [
    {
     "data": {
      "text/html": [
       "<div>\n",
       "<style scoped>\n",
       "    .dataframe tbody tr th:only-of-type {\n",
       "        vertical-align: middle;\n",
       "    }\n",
       "\n",
       "    .dataframe tbody tr th {\n",
       "        vertical-align: top;\n",
       "    }\n",
       "\n",
       "    .dataframe thead th {\n",
       "        text-align: right;\n",
       "    }\n",
       "</style>\n",
       "<table border=\"1\" class=\"dataframe\">\n",
       "  <thead>\n",
       "    <tr style=\"text-align: right;\">\n",
       "      <th></th>\n",
       "      <th>Id</th>\n",
       "      <th>Title</th>\n",
       "      <th>Body</th>\n",
       "      <th>Tags</th>\n",
       "      <th>CreationDate</th>\n",
       "      <th>Y</th>\n",
       "    </tr>\n",
       "  </thead>\n",
       "  <tbody>\n",
       "    <tr>\n",
       "      <th>0</th>\n",
       "      <td>34552656</td>\n",
       "      <td>Java: Repeat Task Every Random Seconds</td>\n",
       "      <td>&lt;p&gt;I'm already familiar with repeating tasks e...</td>\n",
       "      <td>&lt;java&gt;&lt;repeat&gt;</td>\n",
       "      <td>2016-01-01 00:21:59</td>\n",
       "      <td>LQ_CLOSE</td>\n",
       "    </tr>\n",
       "    <tr>\n",
       "      <th>1</th>\n",
       "      <td>34553034</td>\n",
       "      <td>Why are Java Optionals immutable?</td>\n",
       "      <td>&lt;p&gt;I'd like to understand why Java 8 Optionals...</td>\n",
       "      <td>&lt;java&gt;&lt;optional&gt;</td>\n",
       "      <td>2016-01-01 02:03:20</td>\n",
       "      <td>HQ</td>\n",
       "    </tr>\n",
       "    <tr>\n",
       "      <th>2</th>\n",
       "      <td>34553174</td>\n",
       "      <td>Text Overlay Image with Darkened Opacity React...</td>\n",
       "      <td>&lt;p&gt;I am attempting to overlay a title over an ...</td>\n",
       "      <td>&lt;javascript&gt;&lt;image&gt;&lt;overlay&gt;&lt;react-native&gt;&lt;opa...</td>\n",
       "      <td>2016-01-01 02:48:24</td>\n",
       "      <td>HQ</td>\n",
       "    </tr>\n",
       "    <tr>\n",
       "      <th>3</th>\n",
       "      <td>34553318</td>\n",
       "      <td>Why ternary operator in swift is so picky?</td>\n",
       "      <td>&lt;p&gt;The question is very simple, but I just cou...</td>\n",
       "      <td>&lt;swift&gt;&lt;operators&gt;&lt;whitespace&gt;&lt;ternary-operato...</td>\n",
       "      <td>2016-01-01 03:30:17</td>\n",
       "      <td>HQ</td>\n",
       "    </tr>\n",
       "    <tr>\n",
       "      <th>4</th>\n",
       "      <td>34553755</td>\n",
       "      <td>hide/show fab with scale animation</td>\n",
       "      <td>&lt;p&gt;I'm using custom floatingactionmenu. I need...</td>\n",
       "      <td>&lt;android&gt;&lt;material-design&gt;&lt;floating-action-but...</td>\n",
       "      <td>2016-01-01 05:21:48</td>\n",
       "      <td>HQ</td>\n",
       "    </tr>\n",
       "  </tbody>\n",
       "</table>\n",
       "</div>"
      ],
      "text/plain": [
       "         Id                                              Title  \\\n",
       "0  34552656             Java: Repeat Task Every Random Seconds   \n",
       "1  34553034                  Why are Java Optionals immutable?   \n",
       "2  34553174  Text Overlay Image with Darkened Opacity React...   \n",
       "3  34553318         Why ternary operator in swift is so picky?   \n",
       "4  34553755                 hide/show fab with scale animation   \n",
       "\n",
       "                                                Body  \\\n",
       "0  <p>I'm already familiar with repeating tasks e...   \n",
       "1  <p>I'd like to understand why Java 8 Optionals...   \n",
       "2  <p>I am attempting to overlay a title over an ...   \n",
       "3  <p>The question is very simple, but I just cou...   \n",
       "4  <p>I'm using custom floatingactionmenu. I need...   \n",
       "\n",
       "                                                Tags         CreationDate  \\\n",
       "0                                     <java><repeat>  2016-01-01 00:21:59   \n",
       "1                                   <java><optional>  2016-01-01 02:03:20   \n",
       "2  <javascript><image><overlay><react-native><opa...  2016-01-01 02:48:24   \n",
       "3  <swift><operators><whitespace><ternary-operato...  2016-01-01 03:30:17   \n",
       "4  <android><material-design><floating-action-but...  2016-01-01 05:21:48   \n",
       "\n",
       "          Y  \n",
       "0  LQ_CLOSE  \n",
       "1        HQ  \n",
       "2        HQ  \n",
       "3        HQ  \n",
       "4        HQ  "
      ]
     },
     "execution_count": 3,
     "metadata": {},
     "output_type": "execute_result"
    }
   ],
   "source": [
    "df = pd.read_csv('/kaggle/input/60k-stack-overflow-questions-with-quality-rate/train.csv')\n",
    "df.head()"
   ]
  },
  {
   "cell_type": "code",
   "execution_count": 4,
   "id": "d7db4063",
   "metadata": {
    "execution": {
     "iopub.execute_input": "2025-10-03T14:36:03.030029Z",
     "iopub.status.busy": "2025-10-03T14:36:03.029676Z",
     "iopub.status.idle": "2025-10-03T14:36:03.038656Z",
     "shell.execute_reply": "2025-10-03T14:36:03.037712Z"
    },
    "papermill": {
     "duration": 0.016108,
     "end_time": "2025-10-03T14:36:03.040466",
     "exception": false,
     "start_time": "2025-10-03T14:36:03.024358",
     "status": "completed"
    },
    "tags": []
   },
   "outputs": [
    {
     "data": {
      "text/plain": [
       "Index(['Id', 'Title', 'Body', 'Tags', 'CreationDate', 'Y'], dtype='object')"
      ]
     },
     "execution_count": 4,
     "metadata": {},
     "output_type": "execute_result"
    }
   ],
   "source": [
    "df.columns"
   ]
  },
  {
   "cell_type": "code",
   "execution_count": 5,
   "id": "ee0a330a",
   "metadata": {
    "execution": {
     "iopub.execute_input": "2025-10-03T14:36:03.051464Z",
     "iopub.status.busy": "2025-10-03T14:36:03.051120Z",
     "iopub.status.idle": "2025-10-03T14:36:03.094074Z",
     "shell.execute_reply": "2025-10-03T14:36:03.092820Z"
    },
    "papermill": {
     "duration": 0.05089,
     "end_time": "2025-10-03T14:36:03.096086",
     "exception": false,
     "start_time": "2025-10-03T14:36:03.045196",
     "status": "completed"
    },
    "tags": []
   },
   "outputs": [
    {
     "name": "stdout",
     "output_type": "stream",
     "text": [
      "<class 'pandas.core.frame.DataFrame'>\n",
      "RangeIndex: 45000 entries, 0 to 44999\n",
      "Data columns (total 6 columns):\n",
      " #   Column        Non-Null Count  Dtype \n",
      "---  ------        --------------  ----- \n",
      " 0   Id            45000 non-null  int64 \n",
      " 1   Title         45000 non-null  object\n",
      " 2   Body          45000 non-null  object\n",
      " 3   Tags          45000 non-null  object\n",
      " 4   CreationDate  45000 non-null  object\n",
      " 5   Y             45000 non-null  object\n",
      "dtypes: int64(1), object(5)\n",
      "memory usage: 2.1+ MB\n"
     ]
    }
   ],
   "source": [
    "# Check basic info\n",
    "df.info()"
   ]
  },
  {
   "cell_type": "code",
   "execution_count": 6,
   "id": "bea6c8e3",
   "metadata": {
    "execution": {
     "iopub.execute_input": "2025-10-03T14:36:03.106882Z",
     "iopub.status.busy": "2025-10-03T14:36:03.106564Z",
     "iopub.status.idle": "2025-10-03T14:36:03.133894Z",
     "shell.execute_reply": "2025-10-03T14:36:03.132004Z"
    },
    "papermill": {
     "duration": 0.035234,
     "end_time": "2025-10-03T14:36:03.135934",
     "exception": false,
     "start_time": "2025-10-03T14:36:03.100700",
     "status": "completed"
    },
    "tags": []
   },
   "outputs": [
    {
     "name": "stdout",
     "output_type": "stream",
     "text": [
      "Id              0\n",
      "Title           0\n",
      "Body            0\n",
      "Tags            0\n",
      "CreationDate    0\n",
      "Y               0\n",
      "dtype: int64\n"
     ]
    }
   ],
   "source": [
    "# Check for missing values\n",
    "print(df.isnull().sum())"
   ]
  },
  {
   "cell_type": "code",
   "execution_count": 7,
   "id": "e39a8f9f",
   "metadata": {
    "execution": {
     "iopub.execute_input": "2025-10-03T14:36:03.147930Z",
     "iopub.status.busy": "2025-10-03T14:36:03.147588Z",
     "iopub.status.idle": "2025-10-03T14:36:03.669215Z",
     "shell.execute_reply": "2025-10-03T14:36:03.667824Z"
    },
    "papermill": {
     "duration": 0.530507,
     "end_time": "2025-10-03T14:36:03.671148",
     "exception": false,
     "start_time": "2025-10-03T14:36:03.140641",
     "status": "completed"
    },
    "tags": []
   },
   "outputs": [
    {
     "data": {
      "image/png": "[encoded data removed]",
      "text/plain": [
       "<Figure size 640x480 with 1 Axes>"
      ]
     },
     "metadata": {},
     "output_type": "display_data"
    }
   ],
   "source": [
    "# Check target distribution\n",
    "df['Y'].value_counts().plot(kind='bar', title='Target Class Distribution');"
   ]
  },
  {
   "cell_type": "code",
   "execution_count": 8,
   "id": "20878a0d",
   "metadata": {
    "execution": {
     "iopub.execute_input": "2025-10-03T14:36:03.683547Z",
     "iopub.status.busy": "2025-10-03T14:36:03.683169Z",
     "iopub.status.idle": "2025-10-03T14:36:06.101030Z",
     "shell.execute_reply": "2025-10-03T14:36:06.099982Z"
    },
    "papermill": {
     "duration": 2.426333,
     "end_time": "2025-10-03T14:36:06.102993",
     "exception": false,
     "start_time": "2025-10-03T14:36:03.676660",
     "status": "completed"
    },
    "tags": []
   },
   "outputs": [],
   "source": [
    "import seaborn as sns\n",
    "import matplotlib.pyplot as plt\n",
    "\n",
    "# Length of Title and Body\n",
    "df['title_len'] = df['Title'].apply(len)\n",
    "df['body_len'] = df['Body'].apply(len)"
   ]
  },
  {
   "cell_type": "code",
   "execution_count": 9,
   "id": "d08b745e",
   "metadata": {
    "execution": {
     "iopub.execute_input": "2025-10-03T14:36:06.116330Z",
     "iopub.status.busy": "2025-10-03T14:36:06.114989Z",
     "iopub.status.idle": "2025-10-03T14:36:06.392590Z",
     "shell.execute_reply": "2025-10-03T14:36:06.391526Z"
    },
    "papermill": {
     "duration": 0.285766,
     "end_time": "2025-10-03T14:36:06.394224",
     "exception": false,
     "start_time": "2025-10-03T14:36:06.108458",
     "status": "completed"
    },
    "tags": []
   },
   "outputs": [
    {
     "data": {
      "image/png": "[encoded data removed]",
      "text/plain": [
       "<Figure size 640x480 with 1 Axes>"
      ]
     },
     "metadata": {},
     "output_type": "display_data"
    }
   ],
   "source": [
    "# Title length distribution\n",
    "sns.histplot(df['title_len'], bins=30)\n",
    "plt.title(\"Title Length Distribution\")\n",
    "plt.show()"
   ]
  },
  {
   "cell_type": "code",
   "execution_count": 10,
   "id": "525f76e8",
   "metadata": {
    "execution": {
     "iopub.execute_input": "2025-10-03T14:36:06.407039Z",
     "iopub.status.busy": "2025-10-03T14:36:06.406750Z",
     "iopub.status.idle": "2025-10-03T14:36:06.684173Z",
     "shell.execute_reply": "2025-10-03T14:36:06.683128Z"
    },
    "papermill": {
     "duration": 0.285492,
     "end_time": "2025-10-03T14:36:06.685956",
     "exception": false,
     "start_time": "2025-10-03T14:36:06.400464",
     "status": "completed"
    },
    "tags": []
   },
   "outputs": [
    {
     "data": {
      "image/png": "[encoded data removed]",
      "text/plain": [
       "<Figure size 640x480 with 1 Axes>"
      ]
     },
     "metadata": {},
     "output_type": "display_data"
    }
   ],
   "source": [
    "# Body length distribution\n",
    "sns.histplot(df['body_len'], bins=30)\n",
    "plt.title(\"Body Length Distribution\")\n",
    "plt.show()"
   ]
  },
  {
   "cell_type": "code",
   "execution_count": 11,
   "id": "a7dd65d8",
   "metadata": {
    "execution": {
     "iopub.execute_input": "2025-10-03T14:36:06.699057Z",
     "iopub.status.busy": "2025-10-03T14:36:06.698761Z",
     "iopub.status.idle": "2025-10-03T14:36:06.855449Z",
     "shell.execute_reply": "2025-10-03T14:36:06.854337Z"
    },
    "papermill": {
     "duration": 0.165477,
     "end_time": "2025-10-03T14:36:06.857408",
     "exception": false,
     "start_time": "2025-10-03T14:36:06.691931",
     "status": "completed"
    },
    "tags": []
   },
   "outputs": [],
   "source": [
    "# Combine text fields\n",
    "df['text'] = df['Title'] + ' ' + df['Body'] + ' ' + df['Tags']\n",
    "\n",
    "# Keep only text and target\n",
    "data = df[['text', 'Y']].copy()\n",
    "\n",
    "# Rename for clarity\n",
    "data.columns = ['text', 'label']"
   ]
  },
  {
   "cell_type": "code",
   "execution_count": 12,
   "id": "fae24953",
   "metadata": {
    "execution": {
     "iopub.execute_input": "2025-10-03T14:36:06.870956Z",
     "iopub.status.busy": "2025-10-03T14:36:06.870665Z",
     "iopub.status.idle": "2025-10-03T14:36:07.284023Z",
     "shell.execute_reply": "2025-10-03T14:36:07.282984Z"
    },
    "papermill": {
     "duration": 0.422284,
     "end_time": "2025-10-03T14:36:07.286176",
     "exception": false,
     "start_time": "2025-10-03T14:36:06.863892",
     "status": "completed"
    },
    "tags": []
   },
   "outputs": [],
   "source": [
    "from sklearn.model_selection import train_test_split\n",
    "\n",
    "X = data['text']\n",
    "y = data['label']"
   ]
  },
  {
   "cell_type": "code",
   "execution_count": 13,
   "id": "dc3b4f01",
   "metadata": {
    "execution": {
     "iopub.execute_input": "2025-10-03T14:36:07.299623Z",
     "iopub.status.busy": "2025-10-03T14:36:07.299220Z",
     "iopub.status.idle": "2025-10-03T14:36:07.310779Z",
     "shell.execute_reply": "2025-10-03T14:36:07.309485Z"
    },
    "papermill": {
     "duration": 0.020481,
     "end_time": "2025-10-03T14:36:07.312540",
     "exception": false,
     "start_time": "2025-10-03T14:36:07.292059",
     "status": "completed"
    },
    "tags": []
   },
   "outputs": [],
   "source": [
    "# Split data\n",
    "X_train, X_test, y_train, y_test = train_test_split(X, y, test_size=0.2, random_state=42)"
   ]
  },
  {
   "cell_type": "code",
   "execution_count": 14,
   "id": "918c00c7",
   "metadata": {
    "execution": {
     "iopub.execute_input": "2025-10-03T14:36:07.325282Z",
     "iopub.status.busy": "2025-10-03T14:36:07.324914Z",
     "iopub.status.idle": "2025-10-03T14:36:12.767105Z",
     "shell.execute_reply": "2025-10-03T14:36:12.766121Z"
    },
    "papermill": {
     "duration": 5.450496,
     "end_time": "2025-10-03T14:36:12.768871",
     "exception": false,
     "start_time": "2025-10-03T14:36:07.318375",
     "status": "completed"
    },
    "tags": []
   },
   "outputs": [],
   "source": [
    "from sklearn.feature_extraction.text import TfidfVectorizer\n",
    "\n",
    "# Convert text into TF-IDF vectors\n",
    "tfidf = TfidfVectorizer(stop_words='english', max_features=10000)\n",
    "\n",
    "X_train_tfidf = tfidf.fit_transform(X_train)\n",
    "X_test_tfidf = tfidf.transform(X_test)"
   ]
  },
  {
   "cell_type": "code",
   "execution_count": 15,
   "id": "4ce45295",
   "metadata": {
    "execution": {
     "iopub.execute_input": "2025-10-03T14:36:12.781640Z",
     "iopub.status.busy": "2025-10-03T14:36:12.781221Z",
     "iopub.status.idle": "2025-10-03T14:38:08.360281Z",
     "shell.execute_reply": "2025-10-03T14:38:08.359217Z"
    },
    "papermill": {
     "duration": 115.592178,
     "end_time": "2025-10-03T14:38:08.366828",
     "exception": false,
     "start_time": "2025-10-03T14:36:12.774650",
     "status": "completed"
    },
    "tags": []
   },
   "outputs": [
    {
     "data": {
      "text/html": [
       "<style>#sk-container-id-1 {color: black;background-color: white;}#sk-container-id-1 pre{padding: 0;}#sk-container-id-1 div.sk-toggleable {background-color: white;}#sk-container-id-1 label.sk-toggleable__label {cursor: pointer;display: block;width: 100%;margin-bottom: 0;padding: 0.3em;box-sizing: border-box;text-align: center;}#sk-container-id-1 label.sk-toggleable__label-arrow:before {content: \"▸\";float: left;margin-right: 0.25em;color: #696969;}#sk-container-id-1 label.sk-toggleable__label-arrow:hover:before {color: black;}#sk-container-id-1 div.sk-estimator:hover label.sk-toggleable__label-arrow:before {color: black;}#sk-container-id-1 div.sk-toggleable__content {max-height: 0;max-width: 0;overflow: hidden;text-align: left;background-color: #f0f8ff;}#sk-container-id-1 div.sk-toggleable__content pre {margin: 0.2em;color: black;border-radius: 0.25em;background-color: #f0f8ff;}#sk-container-id-1 input.sk-toggleable__control:checked~div.sk-toggleable__content {max-height: 200px;max-width: 100%;overflow: auto;}#sk-container-id-1 input.sk-toggleable__control:checked~label.sk-toggleable__label-arrow:before {content: \"▾\";}#sk-container-id-1 div.sk-estimator input.sk-toggleable__control:checked~label.sk-toggleable__label {background-color: #d4ebff;}#sk-container-id-1 div.sk-label input.sk-toggleable__control:checked~label.sk-toggleable__label {background-color: #d4ebff;}#sk-container-id-1 input.sk-hidden--visually {border: 0;clip: rect(1px 1px 1px 1px);clip: rect(1px, 1px, 1px, 1px);height: 1px;margin: -1px;overflow: hidden;padding: 0;position: absolute;width: 1px;}#sk-container-id-1 div.sk-estimator {font-family: monospace;background-color: #f0f8ff;border: 1px dotted black;border-radius: 0.25em;box-sizing: border-box;margin-bottom: 0.5em;}#sk-container-id-1 div.sk-estimator:hover {background-color: #d4ebff;}#sk-container-id-1 div.sk-parallel-item::after {content: \"\";width: 100%;border-bottom: 1px solid gray;flex-grow: 1;}#sk-container-id-1 div.sk-label:hover label.sk-toggleable__label {background-color: #d4ebff;}#sk-container-id-1 div.sk-serial::before {content: \"\";position: absolute;border-left: 1px solid gray;box-sizing: border-box;top: 0;bottom: 0;left: 50%;z-index: 0;}#sk-container-id-1 div.sk-serial {display: flex;flex-direction: column;align-items: center;background-color: white;padding-right: 0.2em;padding-left: 0.2em;position: relative;}#sk-container-id-1 div.sk-item {position: relative;z-index: 1;}#sk-container-id-1 div.sk-parallel {display: flex;align-items: stretch;justify-content: center;background-color: white;position: relative;}#sk-container-id-1 div.sk-item::before, #sk-container-id-1 div.sk-parallel-item::before {content: \"\";position: absolute;border-left: 1px solid gray;box-sizing: border-box;top: 0;bottom: 0;left: 50%;z-index: -1;}#sk-container-id-1 div.sk-parallel-item {display: flex;flex-direction: column;z-index: 1;position: relative;background-color: white;}#sk-container-id-1 div.sk-parallel-item:first-child::after {align-self: flex-end;width: 50%;}#sk-container-id-1 div.sk-parallel-item:last-child::after {align-self: flex-start;width: 50%;}#sk-container-id-1 div.sk-parallel-item:only-child::after {width: 0;}#sk-container-id-1 div.sk-dashed-wrapped {border: 1px dashed gray;margin: 0 0.4em 0.5em 0.4em;box-sizing: border-box;padding-bottom: 0.4em;background-color: white;}#sk-container-id-1 div.sk-label label {font-family: monospace;font-weight: bold;display: inline-block;line-height: 1.2em;}#sk-container-id-1 div.sk-label-container {text-align: center;}#sk-container-id-1 div.sk-container {/* jupyter's `normalize.less` sets `[hidden] { display: none; }` but bootstrap.min.css set `[hidden] { display: none !important; }` so we also need the `!important` here to be able to override the default hidden behavior on the sphinx rendered scikit-learn.org. See: https://github.com/scikit-learn/scikit-learn/issues/21755 */display: inline-block !important;position: relative;}#sk-container-id-1 div.sk-text-repr-fallback {display: none;}</style><div id=\"sk-container-id-1\" class=\"sk-top-container\"><div class=\"sk-text-repr-fallback\"><pre>RandomForestClassifier(random_state=42)</pre><b>In a Jupyter environment, please rerun this cell to show the HTML representation or trust the notebook. <br />On GitHub, the HTML representation is unable to render, please try loading this page with nbviewer.org.</b></div><div class=\"sk-container\" hidden><div class=\"sk-item\"><div class=\"sk-estimator sk-toggleable\"><input class=\"sk-toggleable__control sk-hidden--visually\" id=\"sk-estimator-id-1\" type=\"checkbox\" checked><label for=\"sk-estimator-id-1\" class=\"sk-toggleable__label sk-toggleable__label-arrow\">RandomForestClassifier</label><div class=\"sk-toggleable__content\"><pre>RandomForestClassifier(random_state=42)</pre></div></div></div></div></div>"
      ],
      "text/plain": [
       "RandomForestClassifier(random_state=42)"
      ]
     },
     "execution_count": 15,
     "metadata": {},
     "output_type": "execute_result"
    }
   ],
   "source": [
    "from sklearn.ensemble import RandomForestClassifier\n",
    "\n",
    "# Create and train the model\n",
    "model = RandomForestClassifier(random_state=42)\n",
    "model.fit(X_train_tfidf, y_train)"
   ]
  },
  {
   "cell_type": "code",
   "execution_count": 16,
   "id": "1b893959",
   "metadata": {
    "execution": {
     "iopub.execute_input": "2025-10-03T14:38:08.380439Z",
     "iopub.status.busy": "2025-10-03T14:38:08.379955Z",
     "iopub.status.idle": "2025-10-03T14:38:09.198567Z",
     "shell.execute_reply": "2025-10-03T14:38:09.197357Z"
    },
    "papermill": {
     "duration": 0.827736,
     "end_time": "2025-10-03T14:38:09.200524",
     "exception": false,
     "start_time": "2025-10-03T14:38:08.372788",
     "status": "completed"
    },
    "tags": []
   },
   "outputs": [
    {
     "name": "stdout",
     "output_type": "stream",
     "text": [
      "              precision    recall  f1-score   support\n",
      "\n",
      "          HQ       0.84      0.84      0.84      2965\n",
      "    LQ_CLOSE       0.78      0.73      0.75      2981\n",
      "     LQ_EDIT       0.83      0.89      0.86      3054\n",
      "\n",
      "    accuracy                           0.82      9000\n",
      "   macro avg       0.82      0.82      0.82      9000\n",
      "weighted avg       0.82      0.82      0.82      9000\n",
      "\n"
     ]
    }
   ],
   "source": [
    "from sklearn.metrics import classification_report, confusion_matrix, ConfusionMatrixDisplay\n",
    "\n",
    "# Predict on test data\n",
    "y_pred = model.predict(X_test_tfidf)\n",
    "\n",
    "# Show classification report\n",
    "print(classification_report(y_test, y_pred))"
   ]
  },
  {
   "cell_type": "code",
   "execution_count": 17,
   "id": "d152fbf8",
   "metadata": {
    "execution": {
     "iopub.execute_input": "2025-10-03T14:38:09.214306Z",
     "iopub.status.busy": "2025-10-03T14:38:09.213948Z",
     "iopub.status.idle": "2025-10-03T14:38:10.042071Z",
     "shell.execute_reply": "2025-10-03T14:38:10.040837Z"
    },
    "papermill": {
     "duration": 0.837063,
     "end_time": "2025-10-03T14:38:10.043871",
     "exception": false,
     "start_time": "2025-10-03T14:38:09.206808",
     "status": "completed"
    },
    "tags": []
   },
   "outputs": [
    {
     "data": {
      "image/png": "[encoded data removed]",
      "text/plain": [
       "<Figure size 640x480 with 2 Axes>"
      ]
     },
     "metadata": {},
     "output_type": "display_data"
    }
   ],
   "source": [
    "# Show confusion matrix\n",
    "ConfusionMatrixDisplay.from_estimator(model, X_test_tfidf, y_test)\n",
    "plt.title(\"Confusion Matrix\")\n",
    "plt.show()"
   ]
  },
  {
   "cell_type": "code",
   "execution_count": 18,
   "id": "57ceda62",
   "metadata": {
    "execution": {
     "iopub.execute_input": "2025-10-03T14:38:10.060262Z",
     "iopub.status.busy": "2025-10-03T14:38:10.059906Z",
     "iopub.status.idle": "2025-10-03T14:38:10.073850Z",
     "shell.execute_reply": "2025-10-03T14:38:10.072733Z"
    },
    "papermill": {
     "duration": 0.024036,
     "end_time": "2025-10-03T14:38:10.075968",
     "exception": false,
     "start_time": "2025-10-03T14:38:10.051932",
     "status": "completed"
    },
    "tags": []
   },
   "outputs": [
    {
     "name": "stdout",
     "output_type": "stream",
     "text": [
      "Text: not able to run function in php <p>I'am not able to run a function in php oops concept.\n",
      "My data gets...\n",
      "Prediction: LQ_CLOSE\n",
      "\n",
      "Text: Export GIT LOG into an Excel file <p>I have looked into the forum, but with no luck.</p>\n",
      "\n",
      "<p>Require...\n",
      "Prediction: LQ_EDIT\n",
      "\n",
      "Text: How to summarize the employees by net revenue and not order date? 8.\tThe sales director would like t...\n",
      "Prediction: LQ_EDIT\n",
      "\n",
      "Text: how to retrieve words based on user inputting letter from a TreeSet or TreeMap efficiently without d...\n",
      "Prediction: LQ_CLOSE\n",
      "\n",
      "...\n",
      "Prediction: LQ_EDIT\n",
      "\n"
     ]
    }
   ],
   "source": [
    "# Predict on 5 random examples\n",
    "sample_preds = model.predict(X_test_tfidf[:5])\n",
    "for i, text in enumerate(X_test[:5]):\n",
    "    print(f\"Text: {text[:100]}...\\nPrediction: {sample_preds[i]}\\n\")"
   ]
  }
 ],
 "metadata": {
  "kaggle": {
   "accelerator": "none",
   "dataSources": [
    {
     "datasetId": 850380,
     "sourceId": 1555593,
     "sourceType": "datasetVersion"
    }
   ],
   "dockerImageVersionId": 31089,
   "isGpuEnabled": false,
   "isInternetEnabled": true,
   "language": "python",
   "sourceType": "notebook"
  },
  "kernelspec": {
   "display_name": "Python 3",
   "language": "python",
   "name": "python3"
  },
  "language_info": {
   "codemirror_mode": {
    "name": "ipython",
    "version": 3
   },
   "file_extension": ".py",
   "mimetype": "text/x-python",
   "name": "python",
   "nbconvert_exporter": "python",
   "pygments_lexer": "ipython3",
   "version": "3.11.13"
  },
  "papermill": {
   "default_parameters": {},
   "duration": 139.277898,
   "end_time": "2025-10-03T14:38:10.905011",
   "environment_variables": {},
   "exception": null,
   "input_path": "__notebook__.ipynb",
   "output_path": "__notebook__.ipynb",
   "parameters": {},
   "start_time": "2025-10-03T14:35:51.627113",
   "version": "2.6.0"
  }
 },
 "nbformat": 4,
 "nbformat_minor": 5
}
