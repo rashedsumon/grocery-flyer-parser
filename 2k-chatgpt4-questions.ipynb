{
 "cells": [
  {
   "cell_type": "code",
   "execution_count": 1,
   "id": "34b155cf",
   "metadata": {
    "_cell_guid": "b1076dfc-b9ad-4769-8c92-a6c4dae69d19",
    "_uuid": "8f2839f25d086af736a60e9eeb907d3b93b6e0e5",
    "execution": {
     "iopub.execute_input": "2025-10-03T11:07:02.096260Z",
     "iopub.status.busy": "2025-10-03T11:07:02.094741Z",
     "iopub.status.idle": "2025-10-03T11:07:04.204929Z",
     "shell.execute_reply": "2025-10-03T11:07:04.203710Z"
    },
    "papermill": {
     "duration": 2.117051,
     "end_time": "2025-10-03T11:07:04.206786",
     "exception": false,
     "start_time": "2025-10-03T11:07:02.089735",
     "status": "completed"
    },
    "tags": []
   },
   "outputs": [
    {
     "name": "stdout",
     "output_type": "stream",
     "text": [
      "/kaggle/input/2k-chatgpt4-questions/Bonus Questions.csv\n",
      "/kaggle/input/2k-chatgpt4-questions/20 Job Categories.csv\n",
      "/kaggle/input/2k-chatgpt4-questions/IELTS Questions.csv\n",
      "/kaggle/input/2k-chatgpt4-questions/Email Marketing.csv\n",
      "/kaggle/input/2k-chatgpt4-questions/Acting As.csv\n",
      "/kaggle/input/2k-chatgpt4-questions/Copywriting Questions.csv\n",
      "/kaggle/input/2k-chatgpt4-questions/Shadow Work For Star Signs.csv\n",
      "/kaggle/input/2k-chatgpt4-questions/Business Questions.csv\n",
      "/kaggle/input/2k-chatgpt4-questions/Google Ads.csv\n"
     ]
    }
   ],
   "source": [
    "# This Python 3 environment comes with many helpful analytics libraries installed\n",
    "# It is defined by the kaggle/python Docker image: https://github.com/kaggle/docker-python\n",
    "# For example, here's several helpful packages to load\n",
    "\n",
    "import numpy as np # linear algebra\n",
    "import pandas as pd # data processing, CSV file I/O (e.g. pd.read_csv)\n",
    "\n",
    "# Input data files are available in the read-only \"../input/\" directory\n",
    "# For example, running this (by clicking run or pressing Shift+Enter) will list all files under the input directory\n",
    "\n",
    "import os\n",
    "for dirname, _, filenames in os.walk('/kaggle/input'):\n",
    "    for filename in filenames:\n",
    "        print(os.path.join(dirname, filename))\n",
    "\n",
    "# You can write up to 20GB to the current directory (/kaggle/working/) that gets preserved as output when you create a version using \"Save & Run All\" \n",
    "# You can also write temporary files to /kaggle/temp/, but they won't be saved outside of the current session"
   ]
  },
  {
   "cell_type": "code",
   "execution_count": 2,
   "id": "3ed6930e",
   "metadata": {
    "execution": {
     "iopub.execute_input": "2025-10-03T11:07:04.215782Z",
     "iopub.status.busy": "2025-10-03T11:07:04.215306Z",
     "iopub.status.idle": "2025-10-03T11:07:04.220365Z",
     "shell.execute_reply": "2025-10-03T11:07:04.219256Z"
    },
    "papermill": {
     "duration": 0.011466,
     "end_time": "2025-10-03T11:07:04.222021",
     "exception": false,
     "start_time": "2025-10-03T11:07:04.210555",
     "status": "completed"
    },
    "tags": []
   },
   "outputs": [],
   "source": [
    "import warnings\n",
    "warnings.filterwarnings(\"ignore\")"
   ]
  },
  {
   "cell_type": "code",
   "execution_count": 3,
   "id": "84d1fc99",
   "metadata": {
    "execution": {
     "iopub.execute_input": "2025-10-03T11:07:04.230480Z",
     "iopub.status.busy": "2025-10-03T11:07:04.230167Z",
     "iopub.status.idle": "2025-10-03T11:07:06.333818Z",
     "shell.execute_reply": "2025-10-03T11:07:06.332998Z"
    },
    "papermill": {
     "duration": 2.110179,
     "end_time": "2025-10-03T11:07:06.336056",
     "exception": false,
     "start_time": "2025-10-03T11:07:04.225877",
     "status": "completed"
    },
    "tags": []
   },
   "outputs": [],
   "source": [
    "import pandas as pd\n",
    "import matplotlib.pyplot as plt\n",
    "import seaborn as sns"
   ]
  },
  {
   "cell_type": "code",
   "execution_count": 4,
   "id": "db075108",
   "metadata": {
    "execution": {
     "iopub.execute_input": "2025-10-03T11:07:06.344563Z",
     "iopub.status.busy": "2025-10-03T11:07:06.344067Z",
     "iopub.status.idle": "2025-10-03T11:07:06.387537Z",
     "shell.execute_reply": "2025-10-03T11:07:06.386606Z"
    },
    "papermill": {
     "duration": 0.049268,
     "end_time": "2025-10-03T11:07:06.389066",
     "exception": false,
     "start_time": "2025-10-03T11:07:06.339798",
     "status": "completed"
    },
    "tags": []
   },
   "outputs": [
    {
     "data": {
      "text/html": [
       "<div>\n",
       "<style scoped>\n",
       "    .dataframe tbody tr th:only-of-type {\n",
       "        vertical-align: middle;\n",
       "    }\n",
       "\n",
       "    .dataframe tbody tr th {\n",
       "        vertical-align: top;\n",
       "    }\n",
       "\n",
       "    .dataframe thead th {\n",
       "        text-align: right;\n",
       "    }\n",
       "</style>\n",
       "<table border=\"1\" class=\"dataframe\">\n",
       "  <thead>\n",
       "    <tr style=\"text-align: right;\">\n",
       "      <th></th>\n",
       "      <th>SEOs</th>\n",
       "    </tr>\n",
       "  </thead>\n",
       "  <tbody>\n",
       "    <tr>\n",
       "      <th>0</th>\n",
       "      <td>Compile a list of ten long-tail keywords relat...</td>\n",
       "    </tr>\n",
       "    <tr>\n",
       "      <th>1</th>\n",
       "      <td>Create a blog post with the title Õ10 Tips for...</td>\n",
       "    </tr>\n",
       "    <tr>\n",
       "      <th>2</th>\n",
       "      <td>Make a list of the top five common SEO mistake...</td>\n",
       "    </tr>\n",
       "    <tr>\n",
       "      <th>3</th>\n",
       "      <td>Create a case study detailing how Chat GPT ass...</td>\n",
       "    </tr>\n",
       "    <tr>\n",
       "      <th>4</th>\n",
       "      <td>Make a list of five Chat GPT tools that SEOs s...</td>\n",
       "    </tr>\n",
       "  </tbody>\n",
       "</table>\n",
       "</div>"
      ],
      "text/plain": [
       "                                                SEOs\n",
       "0  Compile a list of ten long-tail keywords relat...\n",
       "1  Create a blog post with the title Õ10 Tips for...\n",
       "2  Make a list of the top five common SEO mistake...\n",
       "3  Create a case study detailing how Chat GPT ass...\n",
       "4  Make a list of five Chat GPT tools that SEOs s..."
      ]
     },
     "execution_count": 4,
     "metadata": {},
     "output_type": "execute_result"
    }
   ],
   "source": [
    "df = pd.read_csv('/kaggle/input/2k-chatgpt4-questions/20 Job Categories.csv', encoding='ISO-8859-1')\n",
    "df.head()"
   ]
  },
  {
   "cell_type": "code",
   "execution_count": 5,
   "id": "707c79a3",
   "metadata": {
    "execution": {
     "iopub.execute_input": "2025-10-03T11:07:06.396739Z",
     "iopub.status.busy": "2025-10-03T11:07:06.396430Z",
     "iopub.status.idle": "2025-10-03T11:07:06.404192Z",
     "shell.execute_reply": "2025-10-03T11:07:06.403308Z"
    },
    "papermill": {
     "duration": 0.013213,
     "end_time": "2025-10-03T11:07:06.405667",
     "exception": false,
     "start_time": "2025-10-03T11:07:06.392454",
     "status": "completed"
    },
    "tags": []
   },
   "outputs": [
    {
     "data": {
      "text/plain": [
       "Index(['SEOs'], dtype='object')"
      ]
     },
     "execution_count": 5,
     "metadata": {},
     "output_type": "execute_result"
    }
   ],
   "source": [
    "df.columns"
   ]
  },
  {
   "cell_type": "code",
   "execution_count": 6,
   "id": "a6677191",
   "metadata": {
    "execution": {
     "iopub.execute_input": "2025-10-03T11:07:06.414603Z",
     "iopub.status.busy": "2025-10-03T11:07:06.413451Z",
     "iopub.status.idle": "2025-10-03T11:07:06.436697Z",
     "shell.execute_reply": "2025-10-03T11:07:06.435489Z"
    },
    "papermill": {
     "duration": 0.029253,
     "end_time": "2025-10-03T11:07:06.438378",
     "exception": false,
     "start_time": "2025-10-03T11:07:06.409125",
     "status": "completed"
    },
    "tags": []
   },
   "outputs": [
    {
     "name": "stdout",
     "output_type": "stream",
     "text": [
      "<class 'pandas.core.frame.DataFrame'>\n",
      "RangeIndex: 441 entries, 0 to 440\n",
      "Data columns (total 1 columns):\n",
      " #   Column  Non-Null Count  Dtype \n",
      "---  ------  --------------  ----- \n",
      " 0   SEOs    441 non-null    object\n",
      "dtypes: object(1)\n",
      "memory usage: 3.6+ KB\n"
     ]
    }
   ],
   "source": [
    "# Check basic info\n",
    "df.info()"
   ]
  },
  {
   "cell_type": "code",
   "execution_count": 7,
   "id": "cc790f3d",
   "metadata": {
    "execution": {
     "iopub.execute_input": "2025-10-03T11:07:06.446463Z",
     "iopub.status.busy": "2025-10-03T11:07:06.446142Z",
     "iopub.status.idle": "2025-10-03T11:07:06.453800Z",
     "shell.execute_reply": "2025-10-03T11:07:06.452608Z"
    },
    "papermill": {
     "duration": 0.013626,
     "end_time": "2025-10-03T11:07:06.455500",
     "exception": false,
     "start_time": "2025-10-03T11:07:06.441874",
     "status": "completed"
    },
    "tags": []
   },
   "outputs": [
    {
     "data": {
      "text/plain": [
       "SEOs    0\n",
       "dtype: int64"
      ]
     },
     "execution_count": 7,
     "metadata": {},
     "output_type": "execute_result"
    }
   ],
   "source": [
    "# Check for missing values\n",
    "df.isnull().sum()"
   ]
  },
  {
   "cell_type": "code",
   "execution_count": 8,
   "id": "c8dbd5e5",
   "metadata": {
    "execution": {
     "iopub.execute_input": "2025-10-03T11:07:06.463747Z",
     "iopub.status.busy": "2025-10-03T11:07:06.463442Z",
     "iopub.status.idle": "2025-10-03T11:07:06.887946Z",
     "shell.execute_reply": "2025-10-03T11:07:06.886933Z"
    },
    "papermill": {
     "duration": 0.43079,
     "end_time": "2025-10-03T11:07:06.889806",
     "exception": false,
     "start_time": "2025-10-03T11:07:06.459016",
     "status": "completed"
    },
    "tags": []
   },
   "outputs": [
    {
     "data": {
      "image/png": "[encoded data removed]",
      "text/plain": [
       "<Figure size 800x400 with 1 Axes>"
      ]
     },
     "metadata": {},
     "output_type": "display_data"
    }
   ],
   "source": [
    "# Add a new column for text length\n",
    "df['length'] = df['SEOs'].astype(str).apply(len)\n",
    "\n",
    "# Plot text length\n",
    "plt.figure(figsize=(8,4))\n",
    "sns.histplot(df['length'], bins=20, color='skyblue')\n",
    "plt.title('Distribution of Text Lengths')\n",
    "plt.xlabel('Length of SEOs Text')\n",
    "plt.ylabel('Count')\n",
    "plt.show()"
   ]
  },
  {
   "cell_type": "code",
   "execution_count": 9,
   "id": "edc86ecc",
   "metadata": {
    "execution": {
     "iopub.execute_input": "2025-10-03T11:07:06.899149Z",
     "iopub.status.busy": "2025-10-03T11:07:06.898808Z",
     "iopub.status.idle": "2025-10-03T11:07:07.867479Z",
     "shell.execute_reply": "2025-10-03T11:07:07.865543Z"
    },
    "papermill": {
     "duration": 0.975254,
     "end_time": "2025-10-03T11:07:07.869229",
     "exception": false,
     "start_time": "2025-10-03T11:07:06.893975",
     "status": "completed"
    },
    "tags": []
   },
   "outputs": [
    {
     "data": {
      "text/html": [
       "<div>\n",
       "<style scoped>\n",
       "    .dataframe tbody tr th:only-of-type {\n",
       "        vertical-align: middle;\n",
       "    }\n",
       "\n",
       "    .dataframe tbody tr th {\n",
       "        vertical-align: top;\n",
       "    }\n",
       "\n",
       "    .dataframe thead th {\n",
       "        text-align: right;\n",
       "    }\n",
       "</style>\n",
       "<table border=\"1\" class=\"dataframe\">\n",
       "  <thead>\n",
       "    <tr style=\"text-align: right;\">\n",
       "      <th></th>\n",
       "      <th>SEOs</th>\n",
       "      <th>length</th>\n",
       "      <th>Cluster</th>\n",
       "    </tr>\n",
       "  </thead>\n",
       "  <tbody>\n",
       "    <tr>\n",
       "      <th>0</th>\n",
       "      <td>Compile a list of ten long-tail keywords relat...</td>\n",
       "      <td>60</td>\n",
       "      <td>4</td>\n",
       "    </tr>\n",
       "    <tr>\n",
       "      <th>1</th>\n",
       "      <td>Create a blog post with the title Õ10 Tips for...</td>\n",
       "      <td>78</td>\n",
       "      <td>1</td>\n",
       "    </tr>\n",
       "    <tr>\n",
       "      <th>2</th>\n",
       "      <td>Make a list of the top five common SEO mistake...</td>\n",
       "      <td>70</td>\n",
       "      <td>0</td>\n",
       "    </tr>\n",
       "    <tr>\n",
       "      <th>3</th>\n",
       "      <td>Create a case study detailing how Chat GPT ass...</td>\n",
       "      <td>103</td>\n",
       "      <td>1</td>\n",
       "    </tr>\n",
       "    <tr>\n",
       "      <th>4</th>\n",
       "      <td>Make a list of five Chat GPT tools that SEOs s...</td>\n",
       "      <td>56</td>\n",
       "      <td>1</td>\n",
       "    </tr>\n",
       "  </tbody>\n",
       "</table>\n",
       "</div>"
      ],
      "text/plain": [
       "                                                SEOs  length  Cluster\n",
       "0  Compile a list of ten long-tail keywords relat...      60        4\n",
       "1  Create a blog post with the title Õ10 Tips for...      78        1\n",
       "2  Make a list of the top five common SEO mistake...      70        0\n",
       "3  Create a case study detailing how Chat GPT ass...     103        1\n",
       "4  Make a list of five Chat GPT tools that SEOs s...      56        1"
      ]
     },
     "execution_count": 9,
     "metadata": {},
     "output_type": "execute_result"
    }
   ],
   "source": [
    "from sklearn.feature_extraction.text import TfidfVectorizer\n",
    "from sklearn.decomposition import TruncatedSVD\n",
    "from sklearn.cluster import KMeans\n",
    "\n",
    "# Vectorize the text\n",
    "vectorizer = TfidfVectorizer(stop_words='english')\n",
    "X = vectorizer.fit_transform(df['SEOs'].astype(str))\n",
    "\n",
    "# Reduce dimensions\n",
    "svd = TruncatedSVD(n_components=2)\n",
    "X_reduced = svd.fit_transform(X)\n",
    "\n",
    "# Cluster into 5 groups (you can change n_clusters)\n",
    "kmeans = KMeans(n_clusters=5, random_state=42)\n",
    "labels = kmeans.fit_predict(X)\n",
    "\n",
    "# Add labels to the DataFrame\n",
    "df['Cluster'] = labels\n",
    "df.head()"
   ]
  },
  {
   "cell_type": "code",
   "execution_count": 10,
   "id": "f10fe97f",
   "metadata": {
    "execution": {
     "iopub.execute_input": "2025-10-03T11:07:07.879627Z",
     "iopub.status.busy": "2025-10-03T11:07:07.879102Z",
     "iopub.status.idle": "2025-10-03T11:07:08.233427Z",
     "shell.execute_reply": "2025-10-03T11:07:08.232331Z"
    },
    "papermill": {
     "duration": 0.361498,
     "end_time": "2025-10-03T11:07:08.235527",
     "exception": false,
     "start_time": "2025-10-03T11:07:07.874029",
     "status": "completed"
    },
    "tags": []
   },
   "outputs": [
    {
     "data": {
      "image/png": "[encoded data removed]",
      "text/plain": [
       "<Figure size 800x600 with 1 Axes>"
      ]
     },
     "metadata": {},
     "output_type": "display_data"
    }
   ],
   "source": [
    "# Plot clusters\n",
    "plt.figure(figsize=(8,6))\n",
    "sns.scatterplot(x=X_reduced[:,0], y=X_reduced[:,1], hue=labels, palette='Set2')\n",
    "plt.title('SEO Text Clusters')\n",
    "plt.xlabel('SVD Component 1')\n",
    "plt.ylabel('SVD Component 2')\n",
    "plt.legend(title='Cluster')\n",
    "plt.show()"
   ]
  },
  {
   "cell_type": "code",
   "execution_count": 11,
   "id": "a5b378be",
   "metadata": {
    "execution": {
     "iopub.execute_input": "2025-10-03T11:07:08.247561Z",
     "iopub.status.busy": "2025-10-03T11:07:08.247189Z",
     "iopub.status.idle": "2025-10-03T11:07:08.386822Z",
     "shell.execute_reply": "2025-10-03T11:07:08.385813Z"
    },
    "papermill": {
     "duration": 0.147617,
     "end_time": "2025-10-03T11:07:08.388776",
     "exception": false,
     "start_time": "2025-10-03T11:07:08.241159",
     "status": "completed"
    },
    "tags": []
   },
   "outputs": [],
   "source": [
    "from sklearn.model_selection import train_test_split\n",
    "from sklearn.ensemble import RandomForestClassifier\n",
    "from sklearn.metrics import accuracy_score, classification_report\n",
    "\n",
    "# Train-test split\n",
    "X_train, X_test, y_train, y_test = train_test_split(X, labels, test_size=0.2, random_state=42)"
   ]
  },
  {
   "cell_type": "code",
   "execution_count": 12,
   "id": "04f515f2",
   "metadata": {
    "execution": {
     "iopub.execute_input": "2025-10-03T11:07:08.400425Z",
     "iopub.status.busy": "2025-10-03T11:07:08.400069Z",
     "iopub.status.idle": "2025-10-03T11:07:08.667861Z",
     "shell.execute_reply": "2025-10-03T11:07:08.666847Z"
    },
    "papermill": {
     "duration": 0.275757,
     "end_time": "2025-10-03T11:07:08.669752",
     "exception": false,
     "start_time": "2025-10-03T11:07:08.393995",
     "status": "completed"
    },
    "tags": []
   },
   "outputs": [
    {
     "data": {
      "text/html": [
       "<style>#sk-container-id-1 {color: black;background-color: white;}#sk-container-id-1 pre{padding: 0;}#sk-container-id-1 div.sk-toggleable {background-color: white;}#sk-container-id-1 label.sk-toggleable__label {cursor: pointer;display: block;width: 100%;margin-bottom: 0;padding: 0.3em;box-sizing: border-box;text-align: center;}#sk-container-id-1 label.sk-toggleable__label-arrow:before {content: \"▸\";float: left;margin-right: 0.25em;color: #696969;}#sk-container-id-1 label.sk-toggleable__label-arrow:hover:before {color: black;}#sk-container-id-1 div.sk-estimator:hover label.sk-toggleable__label-arrow:before {color: black;}#sk-container-id-1 div.sk-toggleable__content {max-height: 0;max-width: 0;overflow: hidden;text-align: left;background-color: #f0f8ff;}#sk-container-id-1 div.sk-toggleable__content pre {margin: 0.2em;color: black;border-radius: 0.25em;background-color: #f0f8ff;}#sk-container-id-1 input.sk-toggleable__control:checked~div.sk-toggleable__content {max-height: 200px;max-width: 100%;overflow: auto;}#sk-container-id-1 input.sk-toggleable__control:checked~label.sk-toggleable__label-arrow:before {content: \"▾\";}#sk-container-id-1 div.sk-estimator input.sk-toggleable__control:checked~label.sk-toggleable__label {background-color: #d4ebff;}#sk-container-id-1 div.sk-label input.sk-toggleable__control:checked~label.sk-toggleable__label {background-color: #d4ebff;}#sk-container-id-1 input.sk-hidden--visually {border: 0;clip: rect(1px 1px 1px 1px);clip: rect(1px, 1px, 1px, 1px);height: 1px;margin: -1px;overflow: hidden;padding: 0;position: absolute;width: 1px;}#sk-container-id-1 div.sk-estimator {font-family: monospace;background-color: #f0f8ff;border: 1px dotted black;border-radius: 0.25em;box-sizing: border-box;margin-bottom: 0.5em;}#sk-container-id-1 div.sk-estimator:hover {background-color: #d4ebff;}#sk-container-id-1 div.sk-parallel-item::after {content: \"\";width: 100%;border-bottom: 1px solid gray;flex-grow: 1;}#sk-container-id-1 div.sk-label:hover label.sk-toggleable__label {background-color: #d4ebff;}#sk-container-id-1 div.sk-serial::before {content: \"\";position: absolute;border-left: 1px solid gray;box-sizing: border-box;top: 0;bottom: 0;left: 50%;z-index: 0;}#sk-container-id-1 div.sk-serial {display: flex;flex-direction: column;align-items: center;background-color: white;padding-right: 0.2em;padding-left: 0.2em;position: relative;}#sk-container-id-1 div.sk-item {position: relative;z-index: 1;}#sk-container-id-1 div.sk-parallel {display: flex;align-items: stretch;justify-content: center;background-color: white;position: relative;}#sk-container-id-1 div.sk-item::before, #sk-container-id-1 div.sk-parallel-item::before {content: \"\";position: absolute;border-left: 1px solid gray;box-sizing: border-box;top: 0;bottom: 0;left: 50%;z-index: -1;}#sk-container-id-1 div.sk-parallel-item {display: flex;flex-direction: column;z-index: 1;position: relative;background-color: white;}#sk-container-id-1 div.sk-parallel-item:first-child::after {align-self: flex-end;width: 50%;}#sk-container-id-1 div.sk-parallel-item:last-child::after {align-self: flex-start;width: 50%;}#sk-container-id-1 div.sk-parallel-item:only-child::after {width: 0;}#sk-container-id-1 div.sk-dashed-wrapped {border: 1px dashed gray;margin: 0 0.4em 0.5em 0.4em;box-sizing: border-box;padding-bottom: 0.4em;background-color: white;}#sk-container-id-1 div.sk-label label {font-family: monospace;font-weight: bold;display: inline-block;line-height: 1.2em;}#sk-container-id-1 div.sk-label-container {text-align: center;}#sk-container-id-1 div.sk-container {/* jupyter's `normalize.less` sets `[hidden] { display: none; }` but bootstrap.min.css set `[hidden] { display: none !important; }` so we also need the `!important` here to be able to override the default hidden behavior on the sphinx rendered scikit-learn.org. See: https://github.com/scikit-learn/scikit-learn/issues/21755 */display: inline-block !important;position: relative;}#sk-container-id-1 div.sk-text-repr-fallback {display: none;}</style><div id=\"sk-container-id-1\" class=\"sk-top-container\"><div class=\"sk-text-repr-fallback\"><pre>RandomForestClassifier()</pre><b>In a Jupyter environment, please rerun this cell to show the HTML representation or trust the notebook. <br />On GitHub, the HTML representation is unable to render, please try loading this page with nbviewer.org.</b></div><div class=\"sk-container\" hidden><div class=\"sk-item\"><div class=\"sk-estimator sk-toggleable\"><input class=\"sk-toggleable__control sk-hidden--visually\" id=\"sk-estimator-id-1\" type=\"checkbox\" checked><label for=\"sk-estimator-id-1\" class=\"sk-toggleable__label sk-toggleable__label-arrow\">RandomForestClassifier</label><div class=\"sk-toggleable__content\"><pre>RandomForestClassifier()</pre></div></div></div></div></div>"
      ],
      "text/plain": [
       "RandomForestClassifier()"
      ]
     },
     "execution_count": 12,
     "metadata": {},
     "output_type": "execute_result"
    }
   ],
   "source": [
    "# Train model\n",
    "model = RandomForestClassifier()\n",
    "model.fit(X_train, y_train)"
   ]
  },
  {
   "cell_type": "code",
   "execution_count": 13,
   "id": "3def40fc",
   "metadata": {
    "execution": {
     "iopub.execute_input": "2025-10-03T11:07:08.683033Z",
     "iopub.status.busy": "2025-10-03T11:07:08.682666Z",
     "iopub.status.idle": "2025-10-03T11:07:08.704586Z",
     "shell.execute_reply": "2025-10-03T11:07:08.703427Z"
    },
    "papermill": {
     "duration": 0.030076,
     "end_time": "2025-10-03T11:07:08.706247",
     "exception": false,
     "start_time": "2025-10-03T11:07:08.676171",
     "status": "completed"
    },
    "tags": []
   },
   "outputs": [
    {
     "name": "stdout",
     "output_type": "stream",
     "text": [
      "Accuracy: 0.9775280898876404\n",
      "              precision    recall  f1-score   support\n",
      "\n",
      "           0       0.99      1.00      0.99        68\n",
      "           1       0.67      1.00      0.80         2\n",
      "           2       1.00      1.00      1.00         3\n",
      "           3       1.00      1.00      1.00         3\n",
      "           4       1.00      0.85      0.92        13\n",
      "\n",
      "    accuracy                           0.98        89\n",
      "   macro avg       0.93      0.97      0.94        89\n",
      "weighted avg       0.98      0.98      0.98        89\n",
      "\n"
     ]
    }
   ],
   "source": [
    "# Predict and evaluate\n",
    "y_pred = model.predict(X_test)\n",
    "print(\"Accuracy:\", accuracy_score(y_test, y_pred))\n",
    "print(classification_report(y_test, y_pred))"
   ]
  }
 ],
 "metadata": {
  "kaggle": {
   "accelerator": "none",
   "dataSources": [
    {
     "datasetId": 3010833,
     "sourceId": 5178951,
     "sourceType": "datasetVersion"
    }
   ],
   "dockerImageVersionId": 31089,
   "isGpuEnabled": false,
   "isInternetEnabled": true,
   "language": "python",
   "sourceType": "notebook"
  },
  "kernelspec": {
   "display_name": "Python 3",
   "language": "python",
   "name": "python3"
  },
  "language_info": {
   "codemirror_mode": {
    "name": "ipython",
    "version": 3
   },
   "file_extension": ".py",
   "mimetype": "text/x-python",
   "name": "python",
   "nbconvert_exporter": "python",
   "pygments_lexer": "ipython3",
   "version": "3.11.13"
  },
  "papermill": {
   "default_parameters": {},
   "duration": 13.347779,
   "end_time": "2025-10-03T11:07:09.532266",
   "environment_variables": {},
   "exception": null,
   "input_path": "__notebook__.ipynb",
   "output_path": "__notebook__.ipynb",
   "parameters": {},
   "start_time": "2025-10-03T11:06:56.184487",
   "version": "2.6.0"
  }
 },
 "nbformat": 4,
 "nbformat_minor": 5
}
