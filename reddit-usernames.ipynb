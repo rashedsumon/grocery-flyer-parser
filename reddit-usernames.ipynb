{
 "cells": [
  {
   "cell_type": "code",
   "execution_count": 1,
   "id": "b5aa31a2",
   "metadata": {
    "_cell_guid": "b1076dfc-b9ad-4769-8c92-a6c4dae69d19",
    "_uuid": "8f2839f25d086af736a60e9eeb907d3b93b6e0e5",
    "execution": {
     "iopub.execute_input": "2025-10-03T10:52:52.293296Z",
     "iopub.status.busy": "2025-10-03T10:52:52.292877Z",
     "iopub.status.idle": "2025-10-03T10:52:54.008548Z",
     "shell.execute_reply": "2025-10-03T10:52:54.007765Z"
    },
    "papermill": {
     "duration": 1.722555,
     "end_time": "2025-10-03T10:52:54.010067",
     "exception": false,
     "start_time": "2025-10-03T10:52:52.287512",
     "status": "completed"
    },
    "tags": []
   },
   "outputs": [
    {
     "name": "stdout",
     "output_type": "stream",
     "text": [
      "/kaggle/input/reddit-usernames/users.csv\n"
     ]
    }
   ],
   "source": [
    "# This Python 3 environment comes with many helpful analytics libraries installed\n",
    "# It is defined by the kaggle/python Docker image: https://github.com/kaggle/docker-python\n",
    "# For example, here's several helpful packages to load\n",
    "\n",
    "import numpy as np # linear algebra\n",
    "import pandas as pd # data processing, CSV file I/O (e.g. pd.read_csv)\n",
    "\n",
    "# Input data files are available in the read-only \"../input/\" directory\n",
    "# For example, running this (by clicking run or pressing Shift+Enter) will list all files under the input directory\n",
    "\n",
    "import os\n",
    "for dirname, _, filenames in os.walk('/kaggle/input'):\n",
    "    for filename in filenames:\n",
    "        print(os.path.join(dirname, filename))\n",
    "\n",
    "# You can write up to 20GB to the current directory (/kaggle/working/) that gets preserved as output when you create a version using \"Save & Run All\" \n",
    "# You can also write temporary files to /kaggle/temp/, but they won't be saved outside of the current session"
   ]
  },
  {
   "cell_type": "code",
   "execution_count": 2,
   "id": "0f17f9b1",
   "metadata": {
    "execution": {
     "iopub.execute_input": "2025-10-03T10:52:54.018164Z",
     "iopub.status.busy": "2025-10-03T10:52:54.017179Z",
     "iopub.status.idle": "2025-10-03T10:52:54.021132Z",
     "shell.execute_reply": "2025-10-03T10:52:54.020542Z"
    },
    "papermill": {
     "duration": 0.008892,
     "end_time": "2025-10-03T10:52:54.022390",
     "exception": false,
     "start_time": "2025-10-03T10:52:54.013498",
     "status": "completed"
    },
    "tags": []
   },
   "outputs": [],
   "source": [
    "import warnings\n",
    "warnings.filterwarnings(\"ignore\")"
   ]
  },
  {
   "cell_type": "code",
   "execution_count": 3,
   "id": "b121c108",
   "metadata": {
    "execution": {
     "iopub.execute_input": "2025-10-03T10:52:54.029408Z",
     "iopub.status.busy": "2025-10-03T10:52:54.029135Z",
     "iopub.status.idle": "2025-10-03T10:52:56.011969Z",
     "shell.execute_reply": "2025-10-03T10:52:56.011035Z"
    },
    "papermill": {
     "duration": 1.988163,
     "end_time": "2025-10-03T10:52:56.013725",
     "exception": false,
     "start_time": "2025-10-03T10:52:54.025562",
     "status": "completed"
    },
    "tags": []
   },
   "outputs": [],
   "source": [
    "import pandas as pd\n",
    "import matplotlib.pyplot as plt\n",
    "import seaborn as sns\n",
    "from sklearn.model_selection import train_test_split\n",
    "from sklearn.linear_model import LinearRegression\n",
    "from sklearn.metrics import mean_squared_error\n",
    "import numpy as np"
   ]
  },
  {
   "cell_type": "code",
   "execution_count": 4,
   "id": "430f87d6",
   "metadata": {
    "execution": {
     "iopub.execute_input": "2025-10-03T10:52:56.021868Z",
     "iopub.status.busy": "2025-10-03T10:52:56.021062Z",
     "iopub.status.idle": "2025-10-03T10:53:17.747771Z",
     "shell.execute_reply": "2025-10-03T10:53:17.746908Z"
    },
    "papermill": {
     "duration": 21.732144,
     "end_time": "2025-10-03T10:53:17.749288",
     "exception": false,
     "start_time": "2025-10-03T10:52:56.017144",
     "status": "completed"
    },
    "tags": []
   },
   "outputs": [
    {
     "data": {
      "text/html": [
       "<div>\n",
       "<style scoped>\n",
       "    .dataframe tbody tr th:only-of-type {\n",
       "        vertical-align: middle;\n",
       "    }\n",
       "\n",
       "    .dataframe tbody tr th {\n",
       "        vertical-align: top;\n",
       "    }\n",
       "\n",
       "    .dataframe thead th {\n",
       "        text-align: right;\n",
       "    }\n",
       "</style>\n",
       "<table border=\"1\" class=\"dataframe\">\n",
       "  <thead>\n",
       "    <tr style=\"text-align: right;\">\n",
       "      <th></th>\n",
       "      <th>author</th>\n",
       "      <th>n</th>\n",
       "    </tr>\n",
       "  </thead>\n",
       "  <tbody>\n",
       "    <tr>\n",
       "      <th>0</th>\n",
       "      <td>Lee4an</td>\n",
       "      <td>46</td>\n",
       "    </tr>\n",
       "    <tr>\n",
       "      <th>1</th>\n",
       "      <td>Partypooper009</td>\n",
       "      <td>80</td>\n",
       "    </tr>\n",
       "    <tr>\n",
       "      <th>2</th>\n",
       "      <td>Jenna1021</td>\n",
       "      <td>41</td>\n",
       "    </tr>\n",
       "    <tr>\n",
       "      <th>3</th>\n",
       "      <td>ALMEHZA_02</td>\n",
       "      <td>1</td>\n",
       "    </tr>\n",
       "    <tr>\n",
       "      <th>4</th>\n",
       "      <td>Fakehashish</td>\n",
       "      <td>32</td>\n",
       "    </tr>\n",
       "  </tbody>\n",
       "</table>\n",
       "</div>"
      ],
      "text/plain": [
       "           author   n\n",
       "0          Lee4an  46\n",
       "1  Partypooper009  80\n",
       "2       Jenna1021  41\n",
       "3      ALMEHZA_02   1\n",
       "4     Fakehashish  32"
      ]
     },
     "execution_count": 4,
     "metadata": {},
     "output_type": "execute_result"
    }
   ],
   "source": [
    "df = pd.read_csv('/kaggle/input/reddit-usernames/users.csv')\n",
    "df.head()"
   ]
  },
  {
   "cell_type": "code",
   "execution_count": 5,
   "id": "4a8f2eed",
   "metadata": {
    "execution": {
     "iopub.execute_input": "2025-10-03T10:53:17.756685Z",
     "iopub.status.busy": "2025-10-03T10:53:17.756403Z",
     "iopub.status.idle": "2025-10-03T10:53:17.763103Z",
     "shell.execute_reply": "2025-10-03T10:53:17.762401Z"
    },
    "papermill": {
     "duration": 0.011787,
     "end_time": "2025-10-03T10:53:17.764404",
     "exception": false,
     "start_time": "2025-10-03T10:53:17.752617",
     "status": "completed"
    },
    "tags": []
   },
   "outputs": [
    {
     "data": {
      "text/plain": [
       "Index(['author', 'n'], dtype='object')"
      ]
     },
     "execution_count": 5,
     "metadata": {},
     "output_type": "execute_result"
    }
   ],
   "source": [
    "df.columns"
   ]
  },
  {
   "cell_type": "code",
   "execution_count": 6,
   "id": "b8977bd0",
   "metadata": {
    "execution": {
     "iopub.execute_input": "2025-10-03T10:53:17.771716Z",
     "iopub.status.busy": "2025-10-03T10:53:17.771445Z",
     "iopub.status.idle": "2025-10-03T10:53:18.628468Z",
     "shell.execute_reply": "2025-10-03T10:53:18.627351Z"
    },
    "papermill": {
     "duration": 0.86227,
     "end_time": "2025-10-03T10:53:18.629917",
     "exception": false,
     "start_time": "2025-10-03T10:53:17.767647",
     "status": "completed"
    },
    "tags": []
   },
   "outputs": [
    {
     "name": "stdout",
     "output_type": "stream",
     "text": [
      "                  n\n",
      "count  2.586574e+07\n",
      "mean   1.416775e+02\n",
      "std    7.271859e+04\n",
      "min    1.000000e+00\n",
      "25%    1.000000e+00\n",
      "50%    4.000000e+00\n",
      "75%    2.600000e+01\n",
      "max    3.692686e+08\n"
     ]
    }
   ],
   "source": [
    "# Basic statistics\n",
    "print(df.describe())"
   ]
  },
  {
   "cell_type": "code",
   "execution_count": 7,
   "id": "4cc94360",
   "metadata": {
    "execution": {
     "iopub.execute_input": "2025-10-03T10:53:18.637596Z",
     "iopub.status.busy": "2025-10-03T10:53:18.637272Z",
     "iopub.status.idle": "2025-10-03T10:55:07.991266Z",
     "shell.execute_reply": "2025-10-03T10:55:07.990246Z"
    },
    "papermill": {
     "duration": 109.36242,
     "end_time": "2025-10-03T10:55:07.995884",
     "exception": false,
     "start_time": "2025-10-03T10:53:18.633464",
     "status": "completed"
    },
    "tags": []
   },
   "outputs": [
    {
     "data": {
      "image/png": "[encoded data removed]",
      "text/plain": [
       "<Figure size 600x400 with 1 Axes>"
      ]
     },
     "metadata": {},
     "output_type": "display_data"
    }
   ],
   "source": [
    "# Distribution of 'n'\n",
    "plt.figure(figsize=(6,4))\n",
    "sns.histplot(df['n'], bins=30, kde=True, color='blue')\n",
    "plt.title('Distribution of n')\n",
    "plt.show()"
   ]
  },
  {
   "cell_type": "code",
   "execution_count": 8,
   "id": "b6d8e608",
   "metadata": {
    "execution": {
     "iopub.execute_input": "2025-10-03T10:55:08.003643Z",
     "iopub.status.busy": "2025-10-03T10:55:08.003353Z",
     "iopub.status.idle": "2025-10-03T10:55:15.388060Z",
     "shell.execute_reply": "2025-10-03T10:55:15.387206Z"
    },
    "papermill": {
     "duration": 7.390259,
     "end_time": "2025-10-03T10:55:15.389437",
     "exception": false,
     "start_time": "2025-10-03T10:55:07.999178",
     "status": "completed"
    },
    "tags": []
   },
   "outputs": [
    {
     "data": {
      "image/png": "[encoded data removed]",
      "text/plain": [
       "<Figure size 800x400 with 1 Axes>"
      ]
     },
     "metadata": {},
     "output_type": "display_data"
    }
   ],
   "source": [
    "# Top 10 authors by 'n'\n",
    "plt.figure(figsize=(8,4))\n",
    "top_authors = df.sort_values('n', ascending=False).head(10)\n",
    "sns.barplot(x='n', y='author', data=top_authors, palette='viridis')\n",
    "plt.title('Top 10 Authors by n')\n",
    "plt.show()"
   ]
  },
  {
   "cell_type": "code",
   "execution_count": 9,
   "id": "4acf9bd3",
   "metadata": {
    "execution": {
     "iopub.execute_input": "2025-10-03T10:55:15.399605Z",
     "iopub.status.busy": "2025-10-03T10:55:15.399272Z",
     "iopub.status.idle": "2025-10-03T10:58:10.312619Z",
     "shell.execute_reply": "2025-10-03T10:58:10.311662Z"
    },
    "papermill": {
     "duration": 174.919925,
     "end_time": "2025-10-03T10:58:10.314544",
     "exception": false,
     "start_time": "2025-10-03T10:55:15.394619",
     "status": "completed"
    },
    "tags": []
   },
   "outputs": [],
   "source": [
    "# Encode author names into numbers\n",
    "df['author_encoded'] = df['author'].astype('category').cat.codes"
   ]
  },
  {
   "cell_type": "code",
   "execution_count": 10,
   "id": "9fc7b540",
   "metadata": {
    "execution": {
     "iopub.execute_input": "2025-10-03T10:58:10.324114Z",
     "iopub.status.busy": "2025-10-03T10:58:10.323854Z",
     "iopub.status.idle": "2025-10-03T10:58:10.418119Z",
     "shell.execute_reply": "2025-10-03T10:58:10.417354Z"
    },
    "papermill": {
     "duration": 0.100571,
     "end_time": "2025-10-03T10:58:10.419662",
     "exception": false,
     "start_time": "2025-10-03T10:58:10.319091",
     "status": "completed"
    },
    "tags": []
   },
   "outputs": [],
   "source": [
    "# Features and target\n",
    "X = df[['author_encoded']]\n",
    "y = df['n']"
   ]
  },
  {
   "cell_type": "code",
   "execution_count": 11,
   "id": "407e8c75",
   "metadata": {
    "execution": {
     "iopub.execute_input": "2025-10-03T10:58:10.428562Z",
     "iopub.status.busy": "2025-10-03T10:58:10.428241Z",
     "iopub.status.idle": "2025-10-03T10:58:13.327543Z",
     "shell.execute_reply": "2025-10-03T10:58:13.326776Z"
    },
    "papermill": {
     "duration": 2.905366,
     "end_time": "2025-10-03T10:58:13.329069",
     "exception": false,
     "start_time": "2025-10-03T10:58:10.423703",
     "status": "completed"
    },
    "tags": []
   },
   "outputs": [],
   "source": [
    "# Split into train and test sets\n",
    "X_train, X_test, y_train, y_test = train_test_split(X, y, test_size=0.2, random_state=42)"
   ]
  },
  {
   "cell_type": "code",
   "execution_count": 12,
   "id": "8aa1922d",
   "metadata": {
    "execution": {
     "iopub.execute_input": "2025-10-03T10:58:13.338183Z",
     "iopub.status.busy": "2025-10-03T10:58:13.337940Z",
     "iopub.status.idle": "2025-10-03T10:58:15.141165Z",
     "shell.execute_reply": "2025-10-03T10:58:15.140254Z"
    },
    "papermill": {
     "duration": 1.809315,
     "end_time": "2025-10-03T10:58:15.142467",
     "exception": false,
     "start_time": "2025-10-03T10:58:13.333152",
     "status": "completed"
    },
    "tags": []
   },
   "outputs": [
    {
     "data": {
      "text/html": [
       "<style>#sk-container-id-1 {color: black;background-color: white;}#sk-container-id-1 pre{padding: 0;}#sk-container-id-1 div.sk-toggleable {background-color: white;}#sk-container-id-1 label.sk-toggleable__label {cursor: pointer;display: block;width: 100%;margin-bottom: 0;padding: 0.3em;box-sizing: border-box;text-align: center;}#sk-container-id-1 label.sk-toggleable__label-arrow:before {content: \"▸\";float: left;margin-right: 0.25em;color: #696969;}#sk-container-id-1 label.sk-toggleable__label-arrow:hover:before {color: black;}#sk-container-id-1 div.sk-estimator:hover label.sk-toggleable__label-arrow:before {color: black;}#sk-container-id-1 div.sk-toggleable__content {max-height: 0;max-width: 0;overflow: hidden;text-align: left;background-color: #f0f8ff;}#sk-container-id-1 div.sk-toggleable__content pre {margin: 0.2em;color: black;border-radius: 0.25em;background-color: #f0f8ff;}#sk-container-id-1 input.sk-toggleable__control:checked~div.sk-toggleable__content {max-height: 200px;max-width: 100%;overflow: auto;}#sk-container-id-1 input.sk-toggleable__control:checked~label.sk-toggleable__label-arrow:before {content: \"▾\";}#sk-container-id-1 div.sk-estimator input.sk-toggleable__control:checked~label.sk-toggleable__label {background-color: #d4ebff;}#sk-container-id-1 div.sk-label input.sk-toggleable__control:checked~label.sk-toggleable__label {background-color: #d4ebff;}#sk-container-id-1 input.sk-hidden--visually {border: 0;clip: rect(1px 1px 1px 1px);clip: rect(1px, 1px, 1px, 1px);height: 1px;margin: -1px;overflow: hidden;padding: 0;position: absolute;width: 1px;}#sk-container-id-1 div.sk-estimator {font-family: monospace;background-color: #f0f8ff;border: 1px dotted black;border-radius: 0.25em;box-sizing: border-box;margin-bottom: 0.5em;}#sk-container-id-1 div.sk-estimator:hover {background-color: #d4ebff;}#sk-container-id-1 div.sk-parallel-item::after {content: \"\";width: 100%;border-bottom: 1px solid gray;flex-grow: 1;}#sk-container-id-1 div.sk-label:hover label.sk-toggleable__label {background-color: #d4ebff;}#sk-container-id-1 div.sk-serial::before {content: \"\";position: absolute;border-left: 1px solid gray;box-sizing: border-box;top: 0;bottom: 0;left: 50%;z-index: 0;}#sk-container-id-1 div.sk-serial {display: flex;flex-direction: column;align-items: center;background-color: white;padding-right: 0.2em;padding-left: 0.2em;position: relative;}#sk-container-id-1 div.sk-item {position: relative;z-index: 1;}#sk-container-id-1 div.sk-parallel {display: flex;align-items: stretch;justify-content: center;background-color: white;position: relative;}#sk-container-id-1 div.sk-item::before, #sk-container-id-1 div.sk-parallel-item::before {content: \"\";position: absolute;border-left: 1px solid gray;box-sizing: border-box;top: 0;bottom: 0;left: 50%;z-index: -1;}#sk-container-id-1 div.sk-parallel-item {display: flex;flex-direction: column;z-index: 1;position: relative;background-color: white;}#sk-container-id-1 div.sk-parallel-item:first-child::after {align-self: flex-end;width: 50%;}#sk-container-id-1 div.sk-parallel-item:last-child::after {align-self: flex-start;width: 50%;}#sk-container-id-1 div.sk-parallel-item:only-child::after {width: 0;}#sk-container-id-1 div.sk-dashed-wrapped {border: 1px dashed gray;margin: 0 0.4em 0.5em 0.4em;box-sizing: border-box;padding-bottom: 0.4em;background-color: white;}#sk-container-id-1 div.sk-label label {font-family: monospace;font-weight: bold;display: inline-block;line-height: 1.2em;}#sk-container-id-1 div.sk-label-container {text-align: center;}#sk-container-id-1 div.sk-container {/* jupyter's `normalize.less` sets `[hidden] { display: none; }` but bootstrap.min.css set `[hidden] { display: none !important; }` so we also need the `!important` here to be able to override the default hidden behavior on the sphinx rendered scikit-learn.org. See: https://github.com/scikit-learn/scikit-learn/issues/21755 */display: inline-block !important;position: relative;}#sk-container-id-1 div.sk-text-repr-fallback {display: none;}</style><div id=\"sk-container-id-1\" class=\"sk-top-container\"><div class=\"sk-text-repr-fallback\"><pre>LinearRegression()</pre><b>In a Jupyter environment, please rerun this cell to show the HTML representation or trust the notebook. <br />On GitHub, the HTML representation is unable to render, please try loading this page with nbviewer.org.</b></div><div class=\"sk-container\" hidden><div class=\"sk-item\"><div class=\"sk-estimator sk-toggleable\"><input class=\"sk-toggleable__control sk-hidden--visually\" id=\"sk-estimator-id-1\" type=\"checkbox\" checked><label for=\"sk-estimator-id-1\" class=\"sk-toggleable__label sk-toggleable__label-arrow\">LinearRegression</label><div class=\"sk-toggleable__content\"><pre>LinearRegression()</pre></div></div></div></div></div>"
      ],
      "text/plain": [
       "LinearRegression()"
      ]
     },
     "execution_count": 12,
     "metadata": {},
     "output_type": "execute_result"
    }
   ],
   "source": [
    "# Initialize and train model\n",
    "model = LinearRegression()\n",
    "model.fit(X_train, y_train)"
   ]
  },
  {
   "cell_type": "code",
   "execution_count": 13,
   "id": "33bcbc4a",
   "metadata": {
    "execution": {
     "iopub.execute_input": "2025-10-03T10:58:15.152218Z",
     "iopub.status.busy": "2025-10-03T10:58:15.151927Z",
     "iopub.status.idle": "2025-10-03T10:58:15.200516Z",
     "shell.execute_reply": "2025-10-03T10:58:15.199568Z"
    },
    "papermill": {
     "duration": 0.055125,
     "end_time": "2025-10-03T10:58:15.202071",
     "exception": false,
     "start_time": "2025-10-03T10:58:15.146946",
     "status": "completed"
    },
    "tags": []
   },
   "outputs": [],
   "source": [
    "# Predict on test set\n",
    "y_pred = model.predict(X_test)"
   ]
  },
  {
   "cell_type": "code",
   "execution_count": 14,
   "id": "75d65618",
   "metadata": {
    "execution": {
     "iopub.execute_input": "2025-10-03T10:58:15.211786Z",
     "iopub.status.busy": "2025-10-03T10:58:15.211496Z",
     "iopub.status.idle": "2025-10-03T10:58:15.244973Z",
     "shell.execute_reply": "2025-10-03T10:58:15.243905Z"
    },
    "papermill": {
     "duration": 0.039991,
     "end_time": "2025-10-03T10:58:15.246440",
     "exception": false,
     "start_time": "2025-10-03T10:58:15.206449",
     "status": "completed"
    },
    "tags": []
   },
   "outputs": [
    {
     "name": "stdout",
     "output_type": "stream",
     "text": [
      "RandomForestRegressor RMSE: 1197.0976594804868\n"
     ]
    }
   ],
   "source": [
    "# Calculate RMSE\n",
    "rmse = np.sqrt(mean_squared_error(y_test, y_pred))\n",
    "print(\"RandomForestRegressor RMSE:\", rmse)"
   ]
  },
  {
   "cell_type": "code",
   "execution_count": 15,
   "id": "5c746ddf",
   "metadata": {
    "execution": {
     "iopub.execute_input": "2025-10-03T10:58:15.256420Z",
     "iopub.status.busy": "2025-10-03T10:58:15.255861Z",
     "iopub.status.idle": "2025-10-03T10:58:25.810464Z",
     "shell.execute_reply": "2025-10-03T10:58:25.809596Z"
    },
    "papermill": {
     "duration": 10.560851,
     "end_time": "2025-10-03T10:58:25.811810",
     "exception": false,
     "start_time": "2025-10-03T10:58:15.250959",
     "status": "completed"
    },
    "tags": []
   },
   "outputs": [
    {
     "data": {
      "image/png": "[encoded data removed]",
      "text/plain": [
       "<Figure size 600x400 with 1 Axes>"
      ]
     },
     "metadata": {},
     "output_type": "display_data"
    }
   ],
   "source": [
    "# Actual vs Predicted\n",
    "plt.figure(figsize=(6,4))\n",
    "sns.scatterplot(x=y_test, y=y_pred, color='green')\n",
    "plt.xlabel('Actual n')\n",
    "plt.ylabel('Predicted n')\n",
    "plt.title('Actual vs Predicted n (LinearRegression)')\n",
    "plt.show()"
   ]
  }
 ],
 "metadata": {
  "kaggle": {
   "accelerator": "none",
   "dataSources": [
    {
     "datasetId": 6430,
     "sourceId": 9383,
     "sourceType": "datasetVersion"
    }
   ],
   "dockerImageVersionId": 31089,
   "isGpuEnabled": false,
   "isInternetEnabled": true,
   "language": "python",
   "sourceType": "notebook"
  },
  "kernelspec": {
   "display_name": "Python 3",
   "language": "python",
   "name": "python3"
  },
  "language_info": {
   "codemirror_mode": {
    "name": "ipython",
    "version": 3
   },
   "file_extension": ".py",
   "mimetype": "text/x-python",
   "name": "python",
   "nbconvert_exporter": "python",
   "pygments_lexer": "ipython3",
   "version": "3.11.13"
  },
  "papermill": {
   "default_parameters": {},
   "duration": 340.33455,
   "end_time": "2025-10-03T10:58:27.641474",
   "environment_variables": {},
   "exception": null,
   "input_path": "__notebook__.ipynb",
   "output_path": "__notebook__.ipynb",
   "parameters": {},
   "start_time": "2025-10-03T10:52:47.306924",
   "version": "2.6.0"
  }
 },
 "nbformat": 4,
 "nbformat_minor": 5
}
