{
 "cells": [
  {
   "cell_type": "code",
   "execution_count": 1,
   "id": "19c0fe0f",
   "metadata": {
    "_cell_guid": "b1076dfc-b9ad-4769-8c92-a6c4dae69d19",
    "_uuid": "8f2839f25d086af736a60e9eeb907d3b93b6e0e5",
    "execution": {
     "iopub.execute_input": "2025-10-03T13:30:47.268730Z",
     "iopub.status.busy": "2025-10-03T13:30:47.267863Z",
     "iopub.status.idle": "2025-10-03T13:30:49.132502Z",
     "shell.execute_reply": "2025-10-03T13:30:49.131352Z"
    },
    "papermill": {
     "duration": 1.871295,
     "end_time": "2025-10-03T13:30:49.133983",
     "exception": false,
     "start_time": "2025-10-03T13:30:47.262688",
     "status": "completed"
    },
    "tags": []
   },
   "outputs": [
    {
     "name": "stdout",
     "output_type": "stream",
     "text": [
      "/kaggle/input/mexico-covid19-clinical-data/mexico_covid19.csv\n"
     ]
    }
   ],
   "source": [
    "# This Python 3 environment comes with many helpful analytics libraries installed\n",
    "# It is defined by the kaggle/python Docker image: https://github.com/kaggle/docker-python\n",
    "# For example, here's several helpful packages to load\n",
    "\n",
    "import numpy as np # linear algebra\n",
    "import pandas as pd # data processing, CSV file I/O (e.g. pd.read_csv)\n",
    "\n",
    "# Input data files are available in the read-only \"../input/\" directory\n",
    "# For example, running this (by clicking run or pressing Shift+Enter) will list all files under the input directory\n",
    "\n",
    "import os\n",
    "for dirname, _, filenames in os.walk('/kaggle/input'):\n",
    "    for filename in filenames:\n",
    "        print(os.path.join(dirname, filename))\n",
    "\n",
    "# You can write up to 20GB to the current directory (/kaggle/working/) that gets preserved as output when you create a version using \"Save & Run All\" \n",
    "# You can also write temporary files to /kaggle/temp/, but they won't be saved outside of the current session"
   ]
  },
  {
   "cell_type": "code",
   "execution_count": 2,
   "id": "b52b7835",
   "metadata": {
    "execution": {
     "iopub.execute_input": "2025-10-03T13:30:49.142012Z",
     "iopub.status.busy": "2025-10-03T13:30:49.141630Z",
     "iopub.status.idle": "2025-10-03T13:30:49.146145Z",
     "shell.execute_reply": "2025-10-03T13:30:49.145285Z"
    },
    "papermill": {
     "duration": 0.01005,
     "end_time": "2025-10-03T13:30:49.147583",
     "exception": false,
     "start_time": "2025-10-03T13:30:49.137533",
     "status": "completed"
    },
    "tags": []
   },
   "outputs": [],
   "source": [
    "import warnings\n",
    "warnings.filterwarnings(\"ignore\")"
   ]
  },
  {
   "cell_type": "code",
   "execution_count": 3,
   "id": "446f0807",
   "metadata": {
    "execution": {
     "iopub.execute_input": "2025-10-03T13:30:49.155389Z",
     "iopub.status.busy": "2025-10-03T13:30:49.155137Z",
     "iopub.status.idle": "2025-10-03T13:30:51.731092Z",
     "shell.execute_reply": "2025-10-03T13:30:51.730236Z"
    },
    "papermill": {
     "duration": 2.581679,
     "end_time": "2025-10-03T13:30:51.732697",
     "exception": false,
     "start_time": "2025-10-03T13:30:49.151018",
     "status": "completed"
    },
    "tags": []
   },
   "outputs": [],
   "source": [
    "import pandas as pd\n",
    "import matplotlib.pyplot as plt\n",
    "import seaborn as sns\n",
    "from sklearn.model_selection import train_test_split\n",
    "from sklearn.ensemble import RandomForestClassifier\n",
    "from sklearn.metrics import classification_report, confusion_matrix"
   ]
  },
  {
   "cell_type": "code",
   "execution_count": 4,
   "id": "e84e63ac",
   "metadata": {
    "execution": {
     "iopub.execute_input": "2025-10-03T13:30:51.740727Z",
     "iopub.status.busy": "2025-10-03T13:30:51.740274Z",
     "iopub.status.idle": "2025-10-03T13:30:53.948060Z",
     "shell.execute_reply": "2025-10-03T13:30:53.947225Z"
    },
    "papermill": {
     "duration": 2.213397,
     "end_time": "2025-10-03T13:30:53.949554",
     "exception": false,
     "start_time": "2025-10-03T13:30:51.736157",
     "status": "completed"
    },
    "tags": []
   },
   "outputs": [
    {
     "data": {
      "text/html": [
       "<div>\n",
       "<style scoped>\n",
       "    .dataframe tbody tr th:only-of-type {\n",
       "        vertical-align: middle;\n",
       "    }\n",
       "\n",
       "    .dataframe tbody tr th {\n",
       "        vertical-align: top;\n",
       "    }\n",
       "\n",
       "    .dataframe thead th {\n",
       "        text-align: right;\n",
       "    }\n",
       "</style>\n",
       "<table border=\"1\" class=\"dataframe\">\n",
       "  <thead>\n",
       "    <tr style=\"text-align: right;\">\n",
       "      <th></th>\n",
       "      <th>id</th>\n",
       "      <th>FECHA_ARCHIVO</th>\n",
       "      <th>ID_REGISTRO</th>\n",
       "      <th>ENTIDAD_UM</th>\n",
       "      <th>ENTIDAD_RES</th>\n",
       "      <th>RESULTADO</th>\n",
       "      <th>DELAY</th>\n",
       "      <th>ENTIDAD_REGISTRO</th>\n",
       "      <th>ENTIDAD</th>\n",
       "      <th>ABR_ENT</th>\n",
       "      <th>...</th>\n",
       "      <th>OTRA_COM</th>\n",
       "      <th>CARDIOVASCULAR</th>\n",
       "      <th>OBESIDAD</th>\n",
       "      <th>RENAL_CRONICA</th>\n",
       "      <th>TABAQUISMO</th>\n",
       "      <th>OTRO_CASO</th>\n",
       "      <th>MIGRANTE</th>\n",
       "      <th>PAIS_NACIONALIDAD</th>\n",
       "      <th>PAIS_ORIGEN</th>\n",
       "      <th>UCI</th>\n",
       "    </tr>\n",
       "  </thead>\n",
       "  <tbody>\n",
       "    <tr>\n",
       "      <th>0</th>\n",
       "      <td>9269</td>\n",
       "      <td>2020-04-12</td>\n",
       "      <td>00011f</td>\n",
       "      <td>25</td>\n",
       "      <td>25</td>\n",
       "      <td>2</td>\n",
       "      <td>0</td>\n",
       "      <td>25</td>\n",
       "      <td>Sinaloa</td>\n",
       "      <td>SL</td>\n",
       "      <td>...</td>\n",
       "      <td>2</td>\n",
       "      <td>2</td>\n",
       "      <td>1</td>\n",
       "      <td>2</td>\n",
       "      <td>2</td>\n",
       "      <td>2</td>\n",
       "      <td>99</td>\n",
       "      <td>MÃ©xico</td>\n",
       "      <td>97</td>\n",
       "      <td>97</td>\n",
       "    </tr>\n",
       "    <tr>\n",
       "      <th>1</th>\n",
       "      <td>33333</td>\n",
       "      <td>2020-04-12</td>\n",
       "      <td>00014e</td>\n",
       "      <td>14</td>\n",
       "      <td>14</td>\n",
       "      <td>2</td>\n",
       "      <td>0</td>\n",
       "      <td>14</td>\n",
       "      <td>Jalisco</td>\n",
       "      <td>JC</td>\n",
       "      <td>...</td>\n",
       "      <td>2</td>\n",
       "      <td>2</td>\n",
       "      <td>1</td>\n",
       "      <td>2</td>\n",
       "      <td>1</td>\n",
       "      <td>99</td>\n",
       "      <td>99</td>\n",
       "      <td>MÃ©xico</td>\n",
       "      <td>97</td>\n",
       "      <td>2</td>\n",
       "    </tr>\n",
       "    <tr>\n",
       "      <th>2</th>\n",
       "      <td>35483</td>\n",
       "      <td>2020-04-12</td>\n",
       "      <td>000153</td>\n",
       "      <td>8</td>\n",
       "      <td>8</td>\n",
       "      <td>1</td>\n",
       "      <td>0</td>\n",
       "      <td>8</td>\n",
       "      <td>Chihuahua</td>\n",
       "      <td>CH</td>\n",
       "      <td>...</td>\n",
       "      <td>2</td>\n",
       "      <td>2</td>\n",
       "      <td>2</td>\n",
       "      <td>2</td>\n",
       "      <td>2</td>\n",
       "      <td>99</td>\n",
       "      <td>99</td>\n",
       "      <td>MÃ©xico</td>\n",
       "      <td>97</td>\n",
       "      <td>2</td>\n",
       "    </tr>\n",
       "    <tr>\n",
       "      <th>3</th>\n",
       "      <td>7062</td>\n",
       "      <td>2020-04-12</td>\n",
       "      <td>0001b6</td>\n",
       "      <td>9</td>\n",
       "      <td>15</td>\n",
       "      <td>1</td>\n",
       "      <td>0</td>\n",
       "      <td>9</td>\n",
       "      <td>Ciudad de Mexico</td>\n",
       "      <td>DF</td>\n",
       "      <td>...</td>\n",
       "      <td>2</td>\n",
       "      <td>2</td>\n",
       "      <td>1</td>\n",
       "      <td>2</td>\n",
       "      <td>2</td>\n",
       "      <td>99</td>\n",
       "      <td>99</td>\n",
       "      <td>MÃ©xico</td>\n",
       "      <td>97</td>\n",
       "      <td>97</td>\n",
       "    </tr>\n",
       "    <tr>\n",
       "      <th>4</th>\n",
       "      <td>23745</td>\n",
       "      <td>2020-04-12</td>\n",
       "      <td>0001c1</td>\n",
       "      <td>9</td>\n",
       "      <td>9</td>\n",
       "      <td>2</td>\n",
       "      <td>0</td>\n",
       "      <td>9</td>\n",
       "      <td>Ciudad de Mexico</td>\n",
       "      <td>DF</td>\n",
       "      <td>...</td>\n",
       "      <td>2</td>\n",
       "      <td>2</td>\n",
       "      <td>2</td>\n",
       "      <td>2</td>\n",
       "      <td>2</td>\n",
       "      <td>99</td>\n",
       "      <td>99</td>\n",
       "      <td>MÃ©xico</td>\n",
       "      <td>97</td>\n",
       "      <td>97</td>\n",
       "    </tr>\n",
       "  </tbody>\n",
       "</table>\n",
       "<p>5 rows × 41 columns</p>\n",
       "</div>"
      ],
      "text/plain": [
       "      id FECHA_ARCHIVO ID_REGISTRO  ENTIDAD_UM  ENTIDAD_RES  RESULTADO  DELAY  \\\n",
       "0   9269    2020-04-12      00011f          25           25          2      0   \n",
       "1  33333    2020-04-12      00014e          14           14          2      0   \n",
       "2  35483    2020-04-12      000153           8            8          1      0   \n",
       "3   7062    2020-04-12      0001b6           9           15          1      0   \n",
       "4  23745    2020-04-12      0001c1           9            9          2      0   \n",
       "\n",
       "   ENTIDAD_REGISTRO           ENTIDAD ABR_ENT  ... OTRA_COM  CARDIOVASCULAR  \\\n",
       "0                25           Sinaloa      SL  ...        2               2   \n",
       "1                14           Jalisco      JC  ...        2               2   \n",
       "2                 8         Chihuahua      CH  ...        2               2   \n",
       "3                 9  Ciudad de Mexico      DF  ...        2               2   \n",
       "4                 9  Ciudad de Mexico      DF  ...        2               2   \n",
       "\n",
       "   OBESIDAD  RENAL_CRONICA  TABAQUISMO  OTRO_CASO  MIGRANTE PAIS_NACIONALIDAD  \\\n",
       "0         1              2           2          2        99           MÃ©xico   \n",
       "1         1              2           1         99        99           MÃ©xico   \n",
       "2         2              2           2         99        99           MÃ©xico   \n",
       "3         1              2           2         99        99           MÃ©xico   \n",
       "4         2              2           2         99        99           MÃ©xico   \n",
       "\n",
       "  PAIS_ORIGEN UCI  \n",
       "0          97  97  \n",
       "1          97   2  \n",
       "2          97   2  \n",
       "3          97  97  \n",
       "4          97  97  \n",
       "\n",
       "[5 rows x 41 columns]"
      ]
     },
     "execution_count": 4,
     "metadata": {},
     "output_type": "execute_result"
    }
   ],
   "source": [
    "df = pd.read_csv('/kaggle/input/mexico-covid19-clinical-data/mexico_covid19.csv')\n",
    "df.head()"
   ]
  },
  {
   "cell_type": "code",
   "execution_count": 5,
   "id": "00dc3b1e",
   "metadata": {
    "execution": {
     "iopub.execute_input": "2025-10-03T13:30:53.957965Z",
     "iopub.status.busy": "2025-10-03T13:30:53.957658Z",
     "iopub.status.idle": "2025-10-03T13:30:53.964631Z",
     "shell.execute_reply": "2025-10-03T13:30:53.963832Z"
    },
    "papermill": {
     "duration": 0.012769,
     "end_time": "2025-10-03T13:30:53.966171",
     "exception": false,
     "start_time": "2025-10-03T13:30:53.953402",
     "status": "completed"
    },
    "tags": []
   },
   "outputs": [
    {
     "data": {
      "text/plain": [
       "Index(['id', 'FECHA_ARCHIVO', 'ID_REGISTRO', 'ENTIDAD_UM', 'ENTIDAD_RES',\n",
       "       'RESULTADO', 'DELAY', 'ENTIDAD_REGISTRO', 'ENTIDAD', 'ABR_ENT',\n",
       "       'FECHA_ACTUALIZACION', 'ORIGEN', 'SECTOR', 'SEXO', 'ENTIDAD_NAC',\n",
       "       'MUNICIPIO_RES', 'TIPO_PACIENTE', 'FECHA_INGRESO', 'FECHA_SINTOMAS',\n",
       "       'FECHA_DEF', 'INTUBADO', 'NEUMONIA', 'EDAD', 'NACIONALIDAD', 'EMBARAZO',\n",
       "       'HABLA_LENGUA_INDIG', 'DIABETES', 'EPOC', 'ASMA', 'INMUSUPR',\n",
       "       'HIPERTENSION', 'OTRA_COM', 'CARDIOVASCULAR', 'OBESIDAD',\n",
       "       'RENAL_CRONICA', 'TABAQUISMO', 'OTRO_CASO', 'MIGRANTE',\n",
       "       'PAIS_NACIONALIDAD', 'PAIS_ORIGEN', 'UCI'],\n",
       "      dtype='object')"
      ]
     },
     "execution_count": 5,
     "metadata": {},
     "output_type": "execute_result"
    }
   ],
   "source": [
    "df.columns"
   ]
  },
  {
   "cell_type": "code",
   "execution_count": 6,
   "id": "76b4aadb",
   "metadata": {
    "execution": {
     "iopub.execute_input": "2025-10-03T13:30:53.974988Z",
     "iopub.status.busy": "2025-10-03T13:30:53.974709Z",
     "iopub.status.idle": "2025-10-03T13:30:54.133243Z",
     "shell.execute_reply": "2025-10-03T13:30:54.132137Z"
    },
    "papermill": {
     "duration": 0.164919,
     "end_time": "2025-10-03T13:30:54.134818",
     "exception": false,
     "start_time": "2025-10-03T13:30:53.969899",
     "status": "completed"
    },
    "tags": []
   },
   "outputs": [
    {
     "name": "stdout",
     "output_type": "stream",
     "text": [
      "<class 'pandas.core.frame.DataFrame'>\n",
      "RangeIndex: 263007 entries, 0 to 263006\n",
      "Data columns (total 41 columns):\n",
      " #   Column               Non-Null Count   Dtype  \n",
      "---  ------               --------------   -----  \n",
      " 0   id                   263007 non-null  int64  \n",
      " 1   FECHA_ARCHIVO        263007 non-null  object \n",
      " 2   ID_REGISTRO          263007 non-null  object \n",
      " 3   ENTIDAD_UM           263007 non-null  int64  \n",
      " 4   ENTIDAD_RES          263007 non-null  int64  \n",
      " 5   RESULTADO            263007 non-null  int64  \n",
      " 6   DELAY                263007 non-null  int64  \n",
      " 7   ENTIDAD_REGISTRO     263007 non-null  int64  \n",
      " 8   ENTIDAD              263007 non-null  object \n",
      " 9   ABR_ENT              263007 non-null  object \n",
      " 10  FECHA_ACTUALIZACION  263007 non-null  object \n",
      " 11  ORIGEN               263007 non-null  int64  \n",
      " 12  SECTOR               263007 non-null  int64  \n",
      " 13  SEXO                 263007 non-null  int64  \n",
      " 14  ENTIDAD_NAC          263007 non-null  int64  \n",
      " 15  MUNICIPIO_RES        263001 non-null  float64\n",
      " 16  TIPO_PACIENTE        263007 non-null  int64  \n",
      " 17  FECHA_INGRESO        263007 non-null  object \n",
      " 18  FECHA_SINTOMAS       263007 non-null  object \n",
      " 19  FECHA_DEF            263007 non-null  object \n",
      " 20  INTUBADO             263007 non-null  int64  \n",
      " 21  NEUMONIA             263007 non-null  int64  \n",
      " 22  EDAD                 263007 non-null  int64  \n",
      " 23  NACIONALIDAD         263007 non-null  int64  \n",
      " 24  EMBARAZO             263007 non-null  int64  \n",
      " 25  HABLA_LENGUA_INDIG   263007 non-null  int64  \n",
      " 26  DIABETES             263007 non-null  int64  \n",
      " 27  EPOC                 263007 non-null  int64  \n",
      " 28  ASMA                 263007 non-null  int64  \n",
      " 29  INMUSUPR             263007 non-null  int64  \n",
      " 30  HIPERTENSION         263007 non-null  int64  \n",
      " 31  OTRA_COM             263007 non-null  int64  \n",
      " 32  CARDIOVASCULAR       263007 non-null  int64  \n",
      " 33  OBESIDAD             263007 non-null  int64  \n",
      " 34  RENAL_CRONICA        263007 non-null  int64  \n",
      " 35  TABAQUISMO           263007 non-null  int64  \n",
      " 36  OTRO_CASO            263007 non-null  int64  \n",
      " 37  MIGRANTE             263007 non-null  int64  \n",
      " 38  PAIS_NACIONALIDAD    263007 non-null  object \n",
      " 39  PAIS_ORIGEN          263007 non-null  object \n",
      " 40  UCI                  263007 non-null  int64  \n",
      "dtypes: float64(1), int64(30), object(10)\n",
      "memory usage: 82.3+ MB\n"
     ]
    }
   ],
   "source": [
    "df.info()  # Column types and missing values"
   ]
  },
  {
   "cell_type": "code",
   "execution_count": 7,
   "id": "f110e09c",
   "metadata": {
    "execution": {
     "iopub.execute_input": "2025-10-03T13:30:54.143481Z",
     "iopub.status.busy": "2025-10-03T13:30:54.143184Z",
     "iopub.status.idle": "2025-10-03T13:30:58.919924Z",
     "shell.execute_reply": "2025-10-03T13:30:58.919156Z"
    },
    "papermill": {
     "duration": 4.782842,
     "end_time": "2025-10-03T13:30:58.921639",
     "exception": false,
     "start_time": "2025-10-03T13:30:54.138797",
     "status": "completed"
    },
    "tags": []
   },
   "outputs": [],
   "source": [
    "# Drop ID columns and others with too many nulls\n",
    "df = df.drop(columns=['id', 'ID_REGISTRO', 'FECHA_ARCHIVO', 'FECHA_ACTUALIZACION', 'PAIS_NACIONALIDAD', 'PAIS_ORIGEN'])\n",
    "\n",
    "# Convert nulls (- or 97/98/99) to NaN\n",
    "df = df.replace([97, 98, 99, '97', '98', '99'], pd.NA)\n",
    "\n",
    "# Drop rows with missing target or critical data\n",
    "df = df.dropna(subset=['RESULTADO', 'EDAD', 'SEXO'])\n",
    "\n",
    "# Fill remaining missing with mode\n",
    "df = df.fillna(df.mode().iloc[0])"
   ]
  },
  {
   "cell_type": "code",
   "execution_count": 8,
   "id": "36516172",
   "metadata": {
    "execution": {
     "iopub.execute_input": "2025-10-03T13:30:58.930928Z",
     "iopub.status.busy": "2025-10-03T13:30:58.930105Z",
     "iopub.status.idle": "2025-10-03T13:30:59.036223Z",
     "shell.execute_reply": "2025-10-03T13:30:59.035306Z"
    },
    "papermill": {
     "duration": 0.112439,
     "end_time": "2025-10-03T13:30:59.037998",
     "exception": false,
     "start_time": "2025-10-03T13:30:58.925559",
     "status": "completed"
    },
    "tags": []
   },
   "outputs": [],
   "source": [
    "# Convert all object-type columns to category codes\n",
    "for col in df.select_dtypes('object').columns:\n",
    "    df[col] = df[col].astype('category').cat.codes"
   ]
  },
  {
   "cell_type": "code",
   "execution_count": 9,
   "id": "4eb51940",
   "metadata": {
    "execution": {
     "iopub.execute_input": "2025-10-03T13:30:59.047564Z",
     "iopub.status.busy": "2025-10-03T13:30:59.046823Z",
     "iopub.status.idle": "2025-10-03T13:31:00.717222Z",
     "shell.execute_reply": "2025-10-03T13:31:00.716253Z"
    },
    "papermill": {
     "duration": 1.676713,
     "end_time": "2025-10-03T13:31:00.718859",
     "exception": false,
     "start_time": "2025-10-03T13:30:59.042146",
     "status": "completed"
    },
    "tags": []
   },
   "outputs": [
    {
     "data": {
      "image/png": "[encoded data removed]",
      "text/plain": [
       "<Figure size 800x500 with 1 Axes>"
      ]
     },
     "metadata": {},
     "output_type": "display_data"
    }
   ],
   "source": [
    "plt.figure(figsize=(8,5))\n",
    "sns.histplot(df['EDAD'], kde=True)\n",
    "plt.title(\"Age Distribution\")\n",
    "plt.show()"
   ]
  },
  {
   "cell_type": "code",
   "execution_count": 10,
   "id": "8ae6be4a",
   "metadata": {
    "execution": {
     "iopub.execute_input": "2025-10-03T13:31:00.729158Z",
     "iopub.status.busy": "2025-10-03T13:31:00.728617Z",
     "iopub.status.idle": "2025-10-03T13:31:00.905485Z",
     "shell.execute_reply": "2025-10-03T13:31:00.904650Z"
    },
    "papermill": {
     "duration": 0.183716,
     "end_time": "2025-10-03T13:31:00.907014",
     "exception": false,
     "start_time": "2025-10-03T13:31:00.723298",
     "status": "completed"
    },
    "tags": []
   },
   "outputs": [
    {
     "data": {
      "image/png": "[encoded data removed]",
      "text/plain": [
       "<Figure size 640x480 with 1 Axes>"
      ]
     },
     "metadata": {},
     "output_type": "display_data"
    }
   ],
   "source": [
    "sns.countplot(x='RESULTADO', data=df)\n",
    "plt.title(\"COVID Test Results (0: Negative, 1: Positive, 2: Pending)\")\n",
    "plt.show()"
   ]
  },
  {
   "cell_type": "code",
   "execution_count": 11,
   "id": "0ad5919e",
   "metadata": {
    "execution": {
     "iopub.execute_input": "2025-10-03T13:31:00.918928Z",
     "iopub.status.busy": "2025-10-03T13:31:00.918650Z",
     "iopub.status.idle": "2025-10-03T13:31:00.954397Z",
     "shell.execute_reply": "2025-10-03T13:31:00.953429Z"
    },
    "papermill": {
     "duration": 0.043191,
     "end_time": "2025-10-03T13:31:00.956127",
     "exception": false,
     "start_time": "2025-10-03T13:31:00.912936",
     "status": "completed"
    },
    "tags": []
   },
   "outputs": [],
   "source": [
    "X = df.drop(columns=['RESULTADO'])\n",
    "y = df['RESULTADO']  # 1 = Positive"
   ]
  },
  {
   "cell_type": "code",
   "execution_count": 12,
   "id": "5c35e54b",
   "metadata": {
    "execution": {
     "iopub.execute_input": "2025-10-03T13:31:00.966885Z",
     "iopub.status.busy": "2025-10-03T13:31:00.966613Z",
     "iopub.status.idle": "2025-10-03T13:31:00.971569Z",
     "shell.execute_reply": "2025-10-03T13:31:00.970787Z"
    },
    "papermill": {
     "duration": 0.01197,
     "end_time": "2025-10-03T13:31:00.972886",
     "exception": false,
     "start_time": "2025-10-03T13:31:00.960916",
     "status": "completed"
    },
    "tags": []
   },
   "outputs": [],
   "source": [
    "# Convert to binary classification (1: positive, 0: rest)\n",
    "y = (y == 1).astype(int)"
   ]
  },
  {
   "cell_type": "code",
   "execution_count": 13,
   "id": "575ca97b",
   "metadata": {
    "execution": {
     "iopub.execute_input": "2025-10-03T13:31:00.983986Z",
     "iopub.status.busy": "2025-10-03T13:31:00.983208Z",
     "iopub.status.idle": "2025-10-03T13:31:01.136840Z",
     "shell.execute_reply": "2025-10-03T13:31:01.135884Z"
    },
    "papermill": {
     "duration": 0.160822,
     "end_time": "2025-10-03T13:31:01.138525",
     "exception": false,
     "start_time": "2025-10-03T13:31:00.977703",
     "status": "completed"
    },
    "tags": []
   },
   "outputs": [],
   "source": [
    "X_train, X_test, y_train, y_test = train_test_split(X, y, test_size=0.2, random_state=42)"
   ]
  },
  {
   "cell_type": "code",
   "execution_count": 14,
   "id": "c224b766",
   "metadata": {
    "execution": {
     "iopub.execute_input": "2025-10-03T13:31:01.149287Z",
     "iopub.status.busy": "2025-10-03T13:31:01.149027Z",
     "iopub.status.idle": "2025-10-03T13:31:41.685106Z",
     "shell.execute_reply": "2025-10-03T13:31:41.684158Z"
    },
    "papermill": {
     "duration": 40.547238,
     "end_time": "2025-10-03T13:31:41.690629",
     "exception": false,
     "start_time": "2025-10-03T13:31:01.143391",
     "status": "completed"
    },
    "tags": []
   },
   "outputs": [
    {
     "data": {
      "text/html": [
       "<style>#sk-container-id-1 {color: black;background-color: white;}#sk-container-id-1 pre{padding: 0;}#sk-container-id-1 div.sk-toggleable {background-color: white;}#sk-container-id-1 label.sk-toggleable__label {cursor: pointer;display: block;width: 100%;margin-bottom: 0;padding: 0.3em;box-sizing: border-box;text-align: center;}#sk-container-id-1 label.sk-toggleable__label-arrow:before {content: \"▸\";float: left;margin-right: 0.25em;color: #696969;}#sk-container-id-1 label.sk-toggleable__label-arrow:hover:before {color: black;}#sk-container-id-1 div.sk-estimator:hover label.sk-toggleable__label-arrow:before {color: black;}#sk-container-id-1 div.sk-toggleable__content {max-height: 0;max-width: 0;overflow: hidden;text-align: left;background-color: #f0f8ff;}#sk-container-id-1 div.sk-toggleable__content pre {margin: 0.2em;color: black;border-radius: 0.25em;background-color: #f0f8ff;}#sk-container-id-1 input.sk-toggleable__control:checked~div.sk-toggleable__content {max-height: 200px;max-width: 100%;overflow: auto;}#sk-container-id-1 input.sk-toggleable__control:checked~label.sk-toggleable__label-arrow:before {content: \"▾\";}#sk-container-id-1 div.sk-estimator input.sk-toggleable__control:checked~label.sk-toggleable__label {background-color: #d4ebff;}#sk-container-id-1 div.sk-label input.sk-toggleable__control:checked~label.sk-toggleable__label {background-color: #d4ebff;}#sk-container-id-1 input.sk-hidden--visually {border: 0;clip: rect(1px 1px 1px 1px);clip: rect(1px, 1px, 1px, 1px);height: 1px;margin: -1px;overflow: hidden;padding: 0;position: absolute;width: 1px;}#sk-container-id-1 div.sk-estimator {font-family: monospace;background-color: #f0f8ff;border: 1px dotted black;border-radius: 0.25em;box-sizing: border-box;margin-bottom: 0.5em;}#sk-container-id-1 div.sk-estimator:hover {background-color: #d4ebff;}#sk-container-id-1 div.sk-parallel-item::after {content: \"\";width: 100%;border-bottom: 1px solid gray;flex-grow: 1;}#sk-container-id-1 div.sk-label:hover label.sk-toggleable__label {background-color: #d4ebff;}#sk-container-id-1 div.sk-serial::before {content: \"\";position: absolute;border-left: 1px solid gray;box-sizing: border-box;top: 0;bottom: 0;left: 50%;z-index: 0;}#sk-container-id-1 div.sk-serial {display: flex;flex-direction: column;align-items: center;background-color: white;padding-right: 0.2em;padding-left: 0.2em;position: relative;}#sk-container-id-1 div.sk-item {position: relative;z-index: 1;}#sk-container-id-1 div.sk-parallel {display: flex;align-items: stretch;justify-content: center;background-color: white;position: relative;}#sk-container-id-1 div.sk-item::before, #sk-container-id-1 div.sk-parallel-item::before {content: \"\";position: absolute;border-left: 1px solid gray;box-sizing: border-box;top: 0;bottom: 0;left: 50%;z-index: -1;}#sk-container-id-1 div.sk-parallel-item {display: flex;flex-direction: column;z-index: 1;position: relative;background-color: white;}#sk-container-id-1 div.sk-parallel-item:first-child::after {align-self: flex-end;width: 50%;}#sk-container-id-1 div.sk-parallel-item:last-child::after {align-self: flex-start;width: 50%;}#sk-container-id-1 div.sk-parallel-item:only-child::after {width: 0;}#sk-container-id-1 div.sk-dashed-wrapped {border: 1px dashed gray;margin: 0 0.4em 0.5em 0.4em;box-sizing: border-box;padding-bottom: 0.4em;background-color: white;}#sk-container-id-1 div.sk-label label {font-family: monospace;font-weight: bold;display: inline-block;line-height: 1.2em;}#sk-container-id-1 div.sk-label-container {text-align: center;}#sk-container-id-1 div.sk-container {/* jupyter's `normalize.less` sets `[hidden] { display: none; }` but bootstrap.min.css set `[hidden] { display: none !important; }` so we also need the `!important` here to be able to override the default hidden behavior on the sphinx rendered scikit-learn.org. See: https://github.com/scikit-learn/scikit-learn/issues/21755 */display: inline-block !important;position: relative;}#sk-container-id-1 div.sk-text-repr-fallback {display: none;}</style><div id=\"sk-container-id-1\" class=\"sk-top-container\"><div class=\"sk-text-repr-fallback\"><pre>RandomForestClassifier(random_state=42)</pre><b>In a Jupyter environment, please rerun this cell to show the HTML representation or trust the notebook. <br />On GitHub, the HTML representation is unable to render, please try loading this page with nbviewer.org.</b></div><div class=\"sk-container\" hidden><div class=\"sk-item\"><div class=\"sk-estimator sk-toggleable\"><input class=\"sk-toggleable__control sk-hidden--visually\" id=\"sk-estimator-id-1\" type=\"checkbox\" checked><label for=\"sk-estimator-id-1\" class=\"sk-toggleable__label sk-toggleable__label-arrow\">RandomForestClassifier</label><div class=\"sk-toggleable__content\"><pre>RandomForestClassifier(random_state=42)</pre></div></div></div></div></div>"
      ],
      "text/plain": [
       "RandomForestClassifier(random_state=42)"
      ]
     },
     "execution_count": 14,
     "metadata": {},
     "output_type": "execute_result"
    }
   ],
   "source": [
    "model = RandomForestClassifier(n_estimators=100, random_state=42)\n",
    "model.fit(X_train, y_train)"
   ]
  },
  {
   "cell_type": "code",
   "execution_count": 15,
   "id": "0a2a457c",
   "metadata": {
    "execution": {
     "iopub.execute_input": "2025-10-03T13:31:41.701955Z",
     "iopub.status.busy": "2025-10-03T13:31:41.701309Z",
     "iopub.status.idle": "2025-10-03T13:31:44.720742Z",
     "shell.execute_reply": "2025-10-03T13:31:44.719655Z"
    },
    "papermill": {
     "duration": 3.026657,
     "end_time": "2025-10-03T13:31:44.722285",
     "exception": false,
     "start_time": "2025-10-03T13:31:41.695628",
     "status": "completed"
    },
    "tags": []
   },
   "outputs": [
    {
     "name": "stdout",
     "output_type": "stream",
     "text": [
      "[[25906  6074]\n",
      " [ 8595 12003]]\n",
      "              precision    recall  f1-score   support\n",
      "\n",
      "           0       0.75      0.81      0.78     31980\n",
      "           1       0.66      0.58      0.62     20598\n",
      "\n",
      "    accuracy                           0.72     52578\n",
      "   macro avg       0.71      0.70      0.70     52578\n",
      "weighted avg       0.72      0.72      0.72     52578\n",
      "\n"
     ]
    }
   ],
   "source": [
    "y_pred = model.predict(X_test)\n",
    "print(confusion_matrix(y_test, y_pred))\n",
    "print(classification_report(y_test, y_pred))"
   ]
  },
  {
   "cell_type": "code",
   "execution_count": 16,
   "id": "bb882031",
   "metadata": {
    "execution": {
     "iopub.execute_input": "2025-10-03T13:31:44.733624Z",
     "iopub.status.busy": "2025-10-03T13:31:44.733285Z",
     "iopub.status.idle": "2025-10-03T13:31:45.119046Z",
     "shell.execute_reply": "2025-10-03T13:31:45.118186Z"
    },
    "papermill": {
     "duration": 0.39302,
     "end_time": "2025-10-03T13:31:45.120499",
     "exception": false,
     "start_time": "2025-10-03T13:31:44.727479",
     "status": "completed"
    },
    "tags": []
   },
   "outputs": [
    {
     "data": {
      "image/png": "[encoded data removed]",
      "text/plain": [
       "<Figure size 640x480 with 1 Axes>"
      ]
     },
     "metadata": {},
     "output_type": "display_data"
    }
   ],
   "source": [
    "feat_importance = pd.Series(model.feature_importances_, index=X.columns)\n",
    "feat_importance.nlargest(10).plot(kind='barh')\n",
    "plt.title(\"Top 10 Important Features\")\n",
    "plt.show()"
   ]
  }
 ],
 "metadata": {
  "kaggle": {
   "accelerator": "none",
   "dataSources": [
    {
     "datasetId": 678835,
     "sourceId": 1215482,
     "sourceType": "datasetVersion"
    }
   ],
   "dockerImageVersionId": 31089,
   "isGpuEnabled": false,
   "isInternetEnabled": true,
   "language": "python",
   "sourceType": "notebook"
  },
  "kernelspec": {
   "display_name": "Python 3",
   "language": "python",
   "name": "python3"
  },
  "language_info": {
   "codemirror_mode": {
    "name": "ipython",
    "version": 3
   },
   "file_extension": ".py",
   "mimetype": "text/x-python",
   "name": "python",
   "nbconvert_exporter": "python",
   "pygments_lexer": "ipython3",
   "version": "3.11.13"
  },
  "papermill": {
   "default_parameters": {},
   "duration": 64.193475,
   "end_time": "2025-10-03T13:31:46.047505",
   "environment_variables": {},
   "exception": null,
   "input_path": "__notebook__.ipynb",
   "output_path": "__notebook__.ipynb",
   "parameters": {},
   "start_time": "2025-10-03T13:30:41.854030",
   "version": "2.6.0"
  }
 },
 "nbformat": 4,
 "nbformat_minor": 5
}
