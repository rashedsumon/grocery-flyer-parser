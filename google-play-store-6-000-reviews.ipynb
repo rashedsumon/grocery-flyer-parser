{
 "cells": [
  {
   "cell_type": "code",
   "execution_count": 1,
   "id": "d3e2d218",
   "metadata": {
    "_cell_guid": "b1076dfc-b9ad-4769-8c92-a6c4dae69d19",
    "_uuid": "8f2839f25d086af736a60e9eeb907d3b93b6e0e5",
    "execution": {
     "iopub.execute_input": "2025-10-03T13:48:45.729567Z",
     "iopub.status.busy": "2025-10-03T13:48:45.729133Z",
     "iopub.status.idle": "2025-10-03T13:48:47.802690Z",
     "shell.execute_reply": "2025-10-03T13:48:47.801415Z"
    },
    "papermill": {
     "duration": 2.081672,
     "end_time": "2025-10-03T13:48:47.804332",
     "exception": false,
     "start_time": "2025-10-03T13:48:45.722660",
     "status": "completed"
    },
    "tags": []
   },
   "outputs": [
    {
     "name": "stdout",
     "output_type": "stream",
     "text": [
      "/kaggle/input/6000-messengers-reviews-google-play/Training_Data_Google_Play_reviews_6000.csv\n"
     ]
    }
   ],
   "source": [
    "# This Python 3 environment comes with many helpful analytics libraries installed\n",
    "# It is defined by the kaggle/python Docker image: https://github.com/kaggle/docker-python\n",
    "# For example, here's several helpful packages to load\n",
    "\n",
    "import numpy as np # linear algebra\n",
    "import pandas as pd # data processing, CSV file I/O (e.g. pd.read_csv)\n",
    "\n",
    "# Input data files are available in the read-only \"../input/\" directory\n",
    "# For example, running this (by clicking run or pressing Shift+Enter) will list all files under the input directory\n",
    "\n",
    "import os\n",
    "for dirname, _, filenames in os.walk('/kaggle/input'):\n",
    "    for filename in filenames:\n",
    "        print(os.path.join(dirname, filename))\n",
    "\n",
    "# You can write up to 20GB to the current directory (/kaggle/working/) that gets preserved as output when you create a version using \"Save & Run All\" \n",
    "# You can also write temporary files to /kaggle/temp/, but they won't be saved outside of the current session"
   ]
  },
  {
   "cell_type": "code",
   "execution_count": 2,
   "id": "7bc2611f",
   "metadata": {
    "execution": {
     "iopub.execute_input": "2025-10-03T13:48:47.813925Z",
     "iopub.status.busy": "2025-10-03T13:48:47.813478Z",
     "iopub.status.idle": "2025-10-03T13:48:47.817982Z",
     "shell.execute_reply": "2025-10-03T13:48:47.817071Z"
    },
    "papermill": {
     "duration": 0.010826,
     "end_time": "2025-10-03T13:48:47.819576",
     "exception": false,
     "start_time": "2025-10-03T13:48:47.808750",
     "status": "completed"
    },
    "tags": []
   },
   "outputs": [],
   "source": [
    "import warnings\n",
    "warnings.filterwarnings(\"ignore\")"
   ]
  },
  {
   "cell_type": "code",
   "execution_count": 3,
   "id": "616bde18",
   "metadata": {
    "execution": {
     "iopub.execute_input": "2025-10-03T13:48:47.828711Z",
     "iopub.status.busy": "2025-10-03T13:48:47.828367Z",
     "iopub.status.idle": "2025-10-03T13:48:49.910071Z",
     "shell.execute_reply": "2025-10-03T13:48:49.909080Z"
    },
    "papermill": {
     "duration": 2.088306,
     "end_time": "2025-10-03T13:48:49.912026",
     "exception": false,
     "start_time": "2025-10-03T13:48:47.823720",
     "status": "completed"
    },
    "tags": []
   },
   "outputs": [],
   "source": [
    "import pandas as pd\n",
    "import matplotlib.pyplot as plt\n",
    "import seaborn as sns"
   ]
  },
  {
   "cell_type": "code",
   "execution_count": 4,
   "id": "fa1b4e27",
   "metadata": {
    "execution": {
     "iopub.execute_input": "2025-10-03T13:48:49.921024Z",
     "iopub.status.busy": "2025-10-03T13:48:49.920591Z",
     "iopub.status.idle": "2025-10-03T13:48:50.059574Z",
     "shell.execute_reply": "2025-10-03T13:48:50.058639Z"
    },
    "papermill": {
     "duration": 0.145224,
     "end_time": "2025-10-03T13:48:50.061200",
     "exception": false,
     "start_time": "2025-10-03T13:48:49.915976",
     "status": "completed"
    },
    "tags": []
   },
   "outputs": [
    {
     "data": {
      "text/html": [
       "<div>\n",
       "<style scoped>\n",
       "    .dataframe tbody tr th:only-of-type {\n",
       "        vertical-align: middle;\n",
       "    }\n",
       "\n",
       "    .dataframe tbody tr th {\n",
       "        vertical-align: top;\n",
       "    }\n",
       "\n",
       "    .dataframe thead th {\n",
       "        text-align: right;\n",
       "    }\n",
       "</style>\n",
       "<table border=\"1\" class=\"dataframe\">\n",
       "  <thead>\n",
       "    <tr style=\"text-align: right;\">\n",
       "      <th></th>\n",
       "      <th>reviewId</th>\n",
       "      <th>userName</th>\n",
       "      <th>userImage</th>\n",
       "      <th>content</th>\n",
       "      <th>score</th>\n",
       "      <th>thumbsUpCount</th>\n",
       "      <th>reviewCreatedVersion</th>\n",
       "      <th>at</th>\n",
       "      <th>replyContent</th>\n",
       "      <th>repliedAt</th>\n",
       "      <th>appVersion</th>\n",
       "      <th>userLang</th>\n",
       "      <th>app_id</th>\n",
       "    </tr>\n",
       "  </thead>\n",
       "  <tbody>\n",
       "    <tr>\n",
       "      <th>0</th>\n",
       "      <td>495266a4-f451-48c3-a844-fb3c07560d55</td>\n",
       "      <td>Foysal Hossain</td>\n",
       "      <td>https://play-lh.googleusercontent.com/a-/ALV-U...</td>\n",
       "      <td>Gett van for no reason 😂😂😂</td>\n",
       "      <td>1</td>\n",
       "      <td>0</td>\n",
       "      <td>NaN</td>\n",
       "      <td>2023-09-19 15:05:31</td>\n",
       "      <td>NaN</td>\n",
       "      <td>NaN</td>\n",
       "      <td>NaN</td>\n",
       "      <td>EN</td>\n",
       "      <td>org.telegram.messenger</td>\n",
       "    </tr>\n",
       "    <tr>\n",
       "      <th>1</th>\n",
       "      <td>947fcd83-7a28-403d-b03b-d0bc20f52e0e</td>\n",
       "      <td>S K VERMA</td>\n",
       "      <td>https://play-lh.googleusercontent.com/a/ACg8oc...</td>\n",
       "      <td>better' than WhatsApp</td>\n",
       "      <td>4</td>\n",
       "      <td>0</td>\n",
       "      <td>NaN</td>\n",
       "      <td>2023-09-19 14:59:30</td>\n",
       "      <td>NaN</td>\n",
       "      <td>NaN</td>\n",
       "      <td>NaN</td>\n",
       "      <td>EN</td>\n",
       "      <td>org.telegram.messenger</td>\n",
       "    </tr>\n",
       "    <tr>\n",
       "      <th>2</th>\n",
       "      <td>65856211-67ba-4560-84dd-a0055775ed90</td>\n",
       "      <td>Amanuel Abara</td>\n",
       "      <td>https://play-lh.googleusercontent.com/a/ACg8oc...</td>\n",
       "      <td>That was good app for me</td>\n",
       "      <td>5</td>\n",
       "      <td>0</td>\n",
       "      <td>NaN</td>\n",
       "      <td>2023-09-19 14:55:06</td>\n",
       "      <td>NaN</td>\n",
       "      <td>NaN</td>\n",
       "      <td>NaN</td>\n",
       "      <td>EN</td>\n",
       "      <td>org.telegram.messenger</td>\n",
       "    </tr>\n",
       "    <tr>\n",
       "      <th>3</th>\n",
       "      <td>cd5ba250-3a26-43b4-a378-77d18f73a503</td>\n",
       "      <td>Vagarangas X Aopi</td>\n",
       "      <td>https://play-lh.googleusercontent.com/a/ACg8oc...</td>\n",
       "      <td>Love the app</td>\n",
       "      <td>5</td>\n",
       "      <td>0</td>\n",
       "      <td>10.0.4</td>\n",
       "      <td>2023-09-19 14:50:18</td>\n",
       "      <td>NaN</td>\n",
       "      <td>NaN</td>\n",
       "      <td>10.0.4</td>\n",
       "      <td>EN</td>\n",
       "      <td>org.telegram.messenger</td>\n",
       "    </tr>\n",
       "    <tr>\n",
       "      <th>4</th>\n",
       "      <td>e8e886b4-d6c6-416b-b0a1-be90320c4024</td>\n",
       "      <td>Shafin islam</td>\n",
       "      <td>https://play-lh.googleusercontent.com/a-/ALV-U...</td>\n",
       "      <td>🕳️🕳️🕳️</td>\n",
       "      <td>1</td>\n",
       "      <td>0</td>\n",
       "      <td>NaN</td>\n",
       "      <td>2023-09-19 14:48:20</td>\n",
       "      <td>NaN</td>\n",
       "      <td>NaN</td>\n",
       "      <td>NaN</td>\n",
       "      <td>EN</td>\n",
       "      <td>org.telegram.messenger</td>\n",
       "    </tr>\n",
       "  </tbody>\n",
       "</table>\n",
       "</div>"
      ],
      "text/plain": [
       "                               reviewId           userName  \\\n",
       "0  495266a4-f451-48c3-a844-fb3c07560d55     Foysal Hossain   \n",
       "1  947fcd83-7a28-403d-b03b-d0bc20f52e0e          S K VERMA   \n",
       "2  65856211-67ba-4560-84dd-a0055775ed90      Amanuel Abara   \n",
       "3  cd5ba250-3a26-43b4-a378-77d18f73a503  Vagarangas X Aopi   \n",
       "4  e8e886b4-d6c6-416b-b0a1-be90320c4024       Shafin islam   \n",
       "\n",
       "                                           userImage  \\\n",
       "0  https://play-lh.googleusercontent.com/a-/ALV-U...   \n",
       "1  https://play-lh.googleusercontent.com/a/ACg8oc...   \n",
       "2  https://play-lh.googleusercontent.com/a/ACg8oc...   \n",
       "3  https://play-lh.googleusercontent.com/a/ACg8oc...   \n",
       "4  https://play-lh.googleusercontent.com/a-/ALV-U...   \n",
       "\n",
       "                      content  score  thumbsUpCount reviewCreatedVersion  \\\n",
       "0  Gett van for no reason 😂😂😂      1              0                  NaN   \n",
       "1       better' than WhatsApp      4              0                  NaN   \n",
       "2    That was good app for me      5              0                  NaN   \n",
       "3                Love the app      5              0               10.0.4   \n",
       "4                      🕳️🕳️🕳️      1              0                  NaN   \n",
       "\n",
       "                    at replyContent repliedAt appVersion userLang  \\\n",
       "0  2023-09-19 15:05:31          NaN       NaN        NaN       EN   \n",
       "1  2023-09-19 14:59:30          NaN       NaN        NaN       EN   \n",
       "2  2023-09-19 14:55:06          NaN       NaN        NaN       EN   \n",
       "3  2023-09-19 14:50:18          NaN       NaN     10.0.4       EN   \n",
       "4  2023-09-19 14:48:20          NaN       NaN        NaN       EN   \n",
       "\n",
       "                   app_id  \n",
       "0  org.telegram.messenger  \n",
       "1  org.telegram.messenger  \n",
       "2  org.telegram.messenger  \n",
       "3  org.telegram.messenger  \n",
       "4  org.telegram.messenger  "
      ]
     },
     "execution_count": 4,
     "metadata": {},
     "output_type": "execute_result"
    }
   ],
   "source": [
    "df = pd.read_csv('/kaggle/input/6000-messengers-reviews-google-play/Training_Data_Google_Play_reviews_6000.csv')\n",
    "df.head()"
   ]
  },
  {
   "cell_type": "code",
   "execution_count": 5,
   "id": "25e2ff48",
   "metadata": {
    "execution": {
     "iopub.execute_input": "2025-10-03T13:48:50.071322Z",
     "iopub.status.busy": "2025-10-03T13:48:50.071010Z",
     "iopub.status.idle": "2025-10-03T13:48:50.078634Z",
     "shell.execute_reply": "2025-10-03T13:48:50.077781Z"
    },
    "papermill": {
     "duration": 0.014308,
     "end_time": "2025-10-03T13:48:50.080163",
     "exception": false,
     "start_time": "2025-10-03T13:48:50.065855",
     "status": "completed"
    },
    "tags": []
   },
   "outputs": [
    {
     "data": {
      "text/plain": [
       "Index(['reviewId', 'userName', 'userImage', 'content', 'score',\n",
       "       'thumbsUpCount', 'reviewCreatedVersion', 'at', 'replyContent',\n",
       "       'repliedAt', 'appVersion', 'userLang', 'app_id'],\n",
       "      dtype='object')"
      ]
     },
     "execution_count": 5,
     "metadata": {},
     "output_type": "execute_result"
    }
   ],
   "source": [
    "df.columns"
   ]
  },
  {
   "cell_type": "code",
   "execution_count": 6,
   "id": "be6ce88f",
   "metadata": {
    "execution": {
     "iopub.execute_input": "2025-10-03T13:48:50.090270Z",
     "iopub.status.busy": "2025-10-03T13:48:50.089915Z",
     "iopub.status.idle": "2025-10-03T13:48:50.116208Z",
     "shell.execute_reply": "2025-10-03T13:48:50.115075Z"
    },
    "papermill": {
     "duration": 0.033564,
     "end_time": "2025-10-03T13:48:50.118209",
     "exception": false,
     "start_time": "2025-10-03T13:48:50.084645",
     "status": "completed"
    },
    "tags": []
   },
   "outputs": [
    {
     "name": "stdout",
     "output_type": "stream",
     "text": [
      "<class 'pandas.core.frame.DataFrame'>\n",
      "RangeIndex: 6000 entries, 0 to 5999\n",
      "Data columns (total 13 columns):\n",
      " #   Column                Non-Null Count  Dtype \n",
      "---  ------                --------------  ----- \n",
      " 0   reviewId              6000 non-null   object\n",
      " 1   userName              6000 non-null   object\n",
      " 2   userImage             6000 non-null   object\n",
      " 3   content               6000 non-null   object\n",
      " 4   score                 6000 non-null   int64 \n",
      " 5   thumbsUpCount         6000 non-null   int64 \n",
      " 6   reviewCreatedVersion  4396 non-null   object\n",
      " 7   at                    6000 non-null   object\n",
      " 8   replyContent          191 non-null    object\n",
      " 9   repliedAt             191 non-null    object\n",
      " 10  appVersion            4396 non-null   object\n",
      " 11  userLang              6000 non-null   object\n",
      " 12  app_id                6000 non-null   object\n",
      "dtypes: int64(2), object(11)\n",
      "memory usage: 609.5+ KB\n"
     ]
    }
   ],
   "source": [
    "df.info()"
   ]
  },
  {
   "cell_type": "code",
   "execution_count": 7,
   "id": "dc1dcb22",
   "metadata": {
    "execution": {
     "iopub.execute_input": "2025-10-03T13:48:50.128808Z",
     "iopub.status.busy": "2025-10-03T13:48:50.128229Z",
     "iopub.status.idle": "2025-10-03T13:48:50.139243Z",
     "shell.execute_reply": "2025-10-03T13:48:50.138415Z"
    },
    "papermill": {
     "duration": 0.017749,
     "end_time": "2025-10-03T13:48:50.140724",
     "exception": false,
     "start_time": "2025-10-03T13:48:50.122975",
     "status": "completed"
    },
    "tags": []
   },
   "outputs": [
    {
     "data": {
      "text/plain": [
       "reviewId                   0\n",
       "userName                   0\n",
       "userImage                  0\n",
       "content                    0\n",
       "score                      0\n",
       "thumbsUpCount              0\n",
       "reviewCreatedVersion    1604\n",
       "at                         0\n",
       "replyContent            5809\n",
       "repliedAt               5809\n",
       "appVersion              1604\n",
       "userLang                   0\n",
       "app_id                     0\n",
       "dtype: int64"
      ]
     },
     "execution_count": 7,
     "metadata": {},
     "output_type": "execute_result"
    }
   ],
   "source": [
    "df.isnull().sum()"
   ]
  },
  {
   "cell_type": "code",
   "execution_count": 8,
   "id": "b9f19091",
   "metadata": {
    "execution": {
     "iopub.execute_input": "2025-10-03T13:48:50.151301Z",
     "iopub.status.busy": "2025-10-03T13:48:50.150580Z",
     "iopub.status.idle": "2025-10-03T13:48:50.524119Z",
     "shell.execute_reply": "2025-10-03T13:48:50.523198Z"
    },
    "papermill": {
     "duration": 0.380465,
     "end_time": "2025-10-03T13:48:50.525777",
     "exception": false,
     "start_time": "2025-10-03T13:48:50.145312",
     "status": "completed"
    },
    "tags": []
   },
   "outputs": [
    {
     "data": {
      "image/png": "[encoded data removed]",
      "text/plain": [
       "<Figure size 640x480 with 1 Axes>"
      ]
     },
     "metadata": {},
     "output_type": "display_data"
    }
   ],
   "source": [
    "sns.countplot(x='score', data=df)\n",
    "plt.title(\"Rating Distribution\")\n",
    "plt.show()"
   ]
  },
  {
   "cell_type": "code",
   "execution_count": 9,
   "id": "1459b92b",
   "metadata": {
    "execution": {
     "iopub.execute_input": "2025-10-03T13:48:50.537731Z",
     "iopub.status.busy": "2025-10-03T13:48:50.536829Z",
     "iopub.status.idle": "2025-10-03T13:48:50.552802Z",
     "shell.execute_reply": "2025-10-03T13:48:50.551821Z"
    },
    "papermill": {
     "duration": 0.023385,
     "end_time": "2025-10-03T13:48:50.554400",
     "exception": false,
     "start_time": "2025-10-03T13:48:50.531015",
     "status": "completed"
    },
    "tags": []
   },
   "outputs": [
    {
     "data": {
      "text/html": [
       "<div>\n",
       "<style scoped>\n",
       "    .dataframe tbody tr th:only-of-type {\n",
       "        vertical-align: middle;\n",
       "    }\n",
       "\n",
       "    .dataframe tbody tr th {\n",
       "        vertical-align: top;\n",
       "    }\n",
       "\n",
       "    .dataframe thead th {\n",
       "        text-align: right;\n",
       "    }\n",
       "</style>\n",
       "<table border=\"1\" class=\"dataframe\">\n",
       "  <thead>\n",
       "    <tr style=\"text-align: right;\">\n",
       "      <th></th>\n",
       "      <th>content</th>\n",
       "      <th>score</th>\n",
       "      <th>sentiment</th>\n",
       "    </tr>\n",
       "  </thead>\n",
       "  <tbody>\n",
       "    <tr>\n",
       "      <th>0</th>\n",
       "      <td>Gett van for no reason 😂😂😂</td>\n",
       "      <td>1</td>\n",
       "      <td>negative</td>\n",
       "    </tr>\n",
       "    <tr>\n",
       "      <th>1</th>\n",
       "      <td>better' than WhatsApp</td>\n",
       "      <td>4</td>\n",
       "      <td>positive</td>\n",
       "    </tr>\n",
       "    <tr>\n",
       "      <th>2</th>\n",
       "      <td>That was good app for me</td>\n",
       "      <td>5</td>\n",
       "      <td>positive</td>\n",
       "    </tr>\n",
       "    <tr>\n",
       "      <th>3</th>\n",
       "      <td>Love the app</td>\n",
       "      <td>5</td>\n",
       "      <td>positive</td>\n",
       "    </tr>\n",
       "    <tr>\n",
       "      <th>4</th>\n",
       "      <td>🕳️🕳️🕳️</td>\n",
       "      <td>1</td>\n",
       "      <td>negative</td>\n",
       "    </tr>\n",
       "  </tbody>\n",
       "</table>\n",
       "</div>"
      ],
      "text/plain": [
       "                      content  score sentiment\n",
       "0  Gett van for no reason 😂😂😂      1  negative\n",
       "1       better' than WhatsApp      4  positive\n",
       "2    That was good app for me      5  positive\n",
       "3                Love the app      5  positive\n",
       "4                      🕳️🕳️🕳️      1  negative"
      ]
     },
     "execution_count": 9,
     "metadata": {},
     "output_type": "execute_result"
    }
   ],
   "source": [
    "df = df[['content', 'score']].dropna()\n",
    "df = df[df['score'] != 0]  # remove score 0 if any\n",
    "df['sentiment'] = df['score'].apply(lambda x: 'positive' if x >= 4 else ('neutral' if x == 3 else 'negative'))\n",
    "df.head()"
   ]
  },
  {
   "cell_type": "code",
   "execution_count": 10,
   "id": "6717edad",
   "metadata": {
    "execution": {
     "iopub.execute_input": "2025-10-03T13:48:50.566958Z",
     "iopub.status.busy": "2025-10-03T13:48:50.566293Z",
     "iopub.status.idle": "2025-10-03T13:48:50.594030Z",
     "shell.execute_reply": "2025-10-03T13:48:50.592712Z"
    },
    "papermill": {
     "duration": 0.036302,
     "end_time": "2025-10-03T13:48:50.595886",
     "exception": false,
     "start_time": "2025-10-03T13:48:50.559584",
     "status": "completed"
    },
    "tags": []
   },
   "outputs": [],
   "source": [
    "import re\n",
    "df['clean_text'] = df['content'].apply(lambda x: re.sub(r'[^a-zA-Z ]', '', x.lower()))"
   ]
  },
  {
   "cell_type": "code",
   "execution_count": 11,
   "id": "17e672dd",
   "metadata": {
    "execution": {
     "iopub.execute_input": "2025-10-03T13:48:50.607569Z",
     "iopub.status.busy": "2025-10-03T13:48:50.607224Z",
     "iopub.status.idle": "2025-10-03T13:48:50.814921Z",
     "shell.execute_reply": "2025-10-03T13:48:50.813620Z"
    },
    "papermill": {
     "duration": 0.215816,
     "end_time": "2025-10-03T13:48:50.816779",
     "exception": false,
     "start_time": "2025-10-03T13:48:50.600963",
     "status": "completed"
    },
    "tags": []
   },
   "outputs": [],
   "source": [
    "from sklearn.feature_extraction.text import TfidfVectorizer\n",
    "\n",
    "tfidf = TfidfVectorizer(stop_words='english', max_features=3000)"
   ]
  },
  {
   "cell_type": "code",
   "execution_count": 12,
   "id": "6854120f",
   "metadata": {
    "execution": {
     "iopub.execute_input": "2025-10-03T13:48:50.828576Z",
     "iopub.status.busy": "2025-10-03T13:48:50.827859Z",
     "iopub.status.idle": "2025-10-03T13:48:50.943401Z",
     "shell.execute_reply": "2025-10-03T13:48:50.942465Z"
    },
    "papermill": {
     "duration": 0.123178,
     "end_time": "2025-10-03T13:48:50.945115",
     "exception": false,
     "start_time": "2025-10-03T13:48:50.821937",
     "status": "completed"
    },
    "tags": []
   },
   "outputs": [],
   "source": [
    "X = tfidf.fit_transform(df['clean_text'])\n",
    "y = df['sentiment']"
   ]
  },
  {
   "cell_type": "code",
   "execution_count": 13,
   "id": "9bc67c36",
   "metadata": {
    "execution": {
     "iopub.execute_input": "2025-10-03T13:48:50.956613Z",
     "iopub.status.busy": "2025-10-03T13:48:50.955921Z",
     "iopub.status.idle": "2025-10-03T13:48:51.063055Z",
     "shell.execute_reply": "2025-10-03T13:48:51.062173Z"
    },
    "papermill": {
     "duration": 0.114563,
     "end_time": "2025-10-03T13:48:51.064720",
     "exception": false,
     "start_time": "2025-10-03T13:48:50.950157",
     "status": "completed"
    },
    "tags": []
   },
   "outputs": [],
   "source": [
    "from sklearn.model_selection import train_test_split\n",
    "\n",
    "X_train, X_test, y_train, y_test = train_test_split(X, y, test_size=0.2, random_state=42)"
   ]
  },
  {
   "cell_type": "code",
   "execution_count": 14,
   "id": "2e181471",
   "metadata": {
    "execution": {
     "iopub.execute_input": "2025-10-03T13:48:51.076065Z",
     "iopub.status.busy": "2025-10-03T13:48:51.075722Z",
     "iopub.status.idle": "2025-10-03T13:48:51.869658Z",
     "shell.execute_reply": "2025-10-03T13:48:51.867396Z"
    },
    "papermill": {
     "duration": 0.801779,
     "end_time": "2025-10-03T13:48:51.871675",
     "exception": false,
     "start_time": "2025-10-03T13:48:51.069896",
     "status": "completed"
    },
    "tags": []
   },
   "outputs": [
    {
     "data": {
      "text/html": [
       "<style>#sk-container-id-1 {color: black;background-color: white;}#sk-container-id-1 pre{padding: 0;}#sk-container-id-1 div.sk-toggleable {background-color: white;}#sk-container-id-1 label.sk-toggleable__label {cursor: pointer;display: block;width: 100%;margin-bottom: 0;padding: 0.3em;box-sizing: border-box;text-align: center;}#sk-container-id-1 label.sk-toggleable__label-arrow:before {content: \"▸\";float: left;margin-right: 0.25em;color: #696969;}#sk-container-id-1 label.sk-toggleable__label-arrow:hover:before {color: black;}#sk-container-id-1 div.sk-estimator:hover label.sk-toggleable__label-arrow:before {color: black;}#sk-container-id-1 div.sk-toggleable__content {max-height: 0;max-width: 0;overflow: hidden;text-align: left;background-color: #f0f8ff;}#sk-container-id-1 div.sk-toggleable__content pre {margin: 0.2em;color: black;border-radius: 0.25em;background-color: #f0f8ff;}#sk-container-id-1 input.sk-toggleable__control:checked~div.sk-toggleable__content {max-height: 200px;max-width: 100%;overflow: auto;}#sk-container-id-1 input.sk-toggleable__control:checked~label.sk-toggleable__label-arrow:before {content: \"▾\";}#sk-container-id-1 div.sk-estimator input.sk-toggleable__control:checked~label.sk-toggleable__label {background-color: #d4ebff;}#sk-container-id-1 div.sk-label input.sk-toggleable__control:checked~label.sk-toggleable__label {background-color: #d4ebff;}#sk-container-id-1 input.sk-hidden--visually {border: 0;clip: rect(1px 1px 1px 1px);clip: rect(1px, 1px, 1px, 1px);height: 1px;margin: -1px;overflow: hidden;padding: 0;position: absolute;width: 1px;}#sk-container-id-1 div.sk-estimator {font-family: monospace;background-color: #f0f8ff;border: 1px dotted black;border-radius: 0.25em;box-sizing: border-box;margin-bottom: 0.5em;}#sk-container-id-1 div.sk-estimator:hover {background-color: #d4ebff;}#sk-container-id-1 div.sk-parallel-item::after {content: \"\";width: 100%;border-bottom: 1px solid gray;flex-grow: 1;}#sk-container-id-1 div.sk-label:hover label.sk-toggleable__label {background-color: #d4ebff;}#sk-container-id-1 div.sk-serial::before {content: \"\";position: absolute;border-left: 1px solid gray;box-sizing: border-box;top: 0;bottom: 0;left: 50%;z-index: 0;}#sk-container-id-1 div.sk-serial {display: flex;flex-direction: column;align-items: center;background-color: white;padding-right: 0.2em;padding-left: 0.2em;position: relative;}#sk-container-id-1 div.sk-item {position: relative;z-index: 1;}#sk-container-id-1 div.sk-parallel {display: flex;align-items: stretch;justify-content: center;background-color: white;position: relative;}#sk-container-id-1 div.sk-item::before, #sk-container-id-1 div.sk-parallel-item::before {content: \"\";position: absolute;border-left: 1px solid gray;box-sizing: border-box;top: 0;bottom: 0;left: 50%;z-index: -1;}#sk-container-id-1 div.sk-parallel-item {display: flex;flex-direction: column;z-index: 1;position: relative;background-color: white;}#sk-container-id-1 div.sk-parallel-item:first-child::after {align-self: flex-end;width: 50%;}#sk-container-id-1 div.sk-parallel-item:last-child::after {align-self: flex-start;width: 50%;}#sk-container-id-1 div.sk-parallel-item:only-child::after {width: 0;}#sk-container-id-1 div.sk-dashed-wrapped {border: 1px dashed gray;margin: 0 0.4em 0.5em 0.4em;box-sizing: border-box;padding-bottom: 0.4em;background-color: white;}#sk-container-id-1 div.sk-label label {font-family: monospace;font-weight: bold;display: inline-block;line-height: 1.2em;}#sk-container-id-1 div.sk-label-container {text-align: center;}#sk-container-id-1 div.sk-container {/* jupyter's `normalize.less` sets `[hidden] { display: none; }` but bootstrap.min.css set `[hidden] { display: none !important; }` so we also need the `!important` here to be able to override the default hidden behavior on the sphinx rendered scikit-learn.org. See: https://github.com/scikit-learn/scikit-learn/issues/21755 */display: inline-block !important;position: relative;}#sk-container-id-1 div.sk-text-repr-fallback {display: none;}</style><div id=\"sk-container-id-1\" class=\"sk-top-container\"><div class=\"sk-text-repr-fallback\"><pre>LogisticRegression(max_iter=200)</pre><b>In a Jupyter environment, please rerun this cell to show the HTML representation or trust the notebook. <br />On GitHub, the HTML representation is unable to render, please try loading this page with nbviewer.org.</b></div><div class=\"sk-container\" hidden><div class=\"sk-item\"><div class=\"sk-estimator sk-toggleable\"><input class=\"sk-toggleable__control sk-hidden--visually\" id=\"sk-estimator-id-1\" type=\"checkbox\" checked><label for=\"sk-estimator-id-1\" class=\"sk-toggleable__label sk-toggleable__label-arrow\">LogisticRegression</label><div class=\"sk-toggleable__content\"><pre>LogisticRegression(max_iter=200)</pre></div></div></div></div></div>"
      ],
      "text/plain": [
       "LogisticRegression(max_iter=200)"
      ]
     },
     "execution_count": 14,
     "metadata": {},
     "output_type": "execute_result"
    }
   ],
   "source": [
    "from sklearn.linear_model import LogisticRegression\n",
    "\n",
    "model = LogisticRegression(max_iter=200)\n",
    "model.fit(X_train, y_train)"
   ]
  },
  {
   "cell_type": "code",
   "execution_count": 15,
   "id": "4e6c8d2f",
   "metadata": {
    "execution": {
     "iopub.execute_input": "2025-10-03T13:48:51.889406Z",
     "iopub.status.busy": "2025-10-03T13:48:51.889062Z",
     "iopub.status.idle": "2025-10-03T13:48:51.951152Z",
     "shell.execute_reply": "2025-10-03T13:48:51.948961Z"
    },
    "papermill": {
     "duration": 0.073058,
     "end_time": "2025-10-03T13:48:51.953025",
     "exception": false,
     "start_time": "2025-10-03T13:48:51.879967",
     "status": "completed"
    },
    "tags": []
   },
   "outputs": [
    {
     "name": "stdout",
     "output_type": "stream",
     "text": [
      "              precision    recall  f1-score   support\n",
      "\n",
      "    negative       0.77      0.77      0.77       432\n",
      "     neutral       0.00      0.00      0.00        92\n",
      "    positive       0.80      0.91      0.85       676\n",
      "\n",
      "    accuracy                           0.79      1200\n",
      "   macro avg       0.52      0.56      0.54      1200\n",
      "weighted avg       0.73      0.79      0.76      1200\n",
      "\n"
     ]
    }
   ],
   "source": [
    "from sklearn.metrics import classification_report, confusion_matrix\n",
    "\n",
    "y_pred = model.predict(X_test)\n",
    "\n",
    "print(classification_report(y_test, y_pred))"
   ]
  },
  {
   "cell_type": "code",
   "execution_count": 16,
   "id": "311573cc",
   "metadata": {
    "execution": {
     "iopub.execute_input": "2025-10-03T13:48:51.970467Z",
     "iopub.status.busy": "2025-10-03T13:48:51.970125Z",
     "iopub.status.idle": "2025-10-03T13:48:52.196058Z",
     "shell.execute_reply": "2025-10-03T13:48:52.194956Z"
    },
    "papermill": {
     "duration": 0.236352,
     "end_time": "2025-10-03T13:48:52.197587",
     "exception": false,
     "start_time": "2025-10-03T13:48:51.961235",
     "status": "completed"
    },
    "tags": []
   },
   "outputs": [
    {
     "data": {
      "image/png": "[encoded data removed]",
      "text/plain": [
       "<Figure size 640x480 with 2 Axes>"
      ]
     },
     "metadata": {},
     "output_type": "display_data"
    }
   ],
   "source": [
    "sns.heatmap(confusion_matrix(y_test, y_pred), annot=True, fmt='d', cmap='Blues')\n",
    "plt.title(\"Confusion Matrix\")\n",
    "plt.show()"
   ]
  },
  {
   "cell_type": "code",
   "execution_count": 17,
   "id": "45fc3a02",
   "metadata": {
    "execution": {
     "iopub.execute_input": "2025-10-03T13:48:52.210573Z",
     "iopub.status.busy": "2025-10-03T13:48:52.210232Z",
     "iopub.status.idle": "2025-10-03T13:48:52.218776Z",
     "shell.execute_reply": "2025-10-03T13:48:52.217876Z"
    },
    "papermill": {
     "duration": 0.016576,
     "end_time": "2025-10-03T13:48:52.220206",
     "exception": false,
     "start_time": "2025-10-03T13:48:52.203630",
     "status": "completed"
    },
    "tags": []
   },
   "outputs": [
    {
     "data": {
      "text/plain": [
       "array(['positive', 'negative', 'positive'], dtype=object)"
      ]
     },
     "execution_count": 17,
     "metadata": {},
     "output_type": "execute_result"
    }
   ],
   "source": [
    "sample = [\"Great app, very fast!\", \"Terrible, always crashes.\", \"Just okay, nothing special.\"]\n",
    "sample_clean = [re.sub(r'[^a-zA-Z ]', '', s.lower()) for s in sample]\n",
    "sample_vec = tfidf.transform(sample_clean)\n",
    "\n",
    "model.predict(sample_vec)"
   ]
  }
 ],
 "metadata": {
  "kaggle": {
   "accelerator": "none",
   "dataSources": [
    {
     "datasetId": 3778559,
     "sourceId": 6535904,
     "sourceType": "datasetVersion"
    }
   ],
   "dockerImageVersionId": 31089,
   "isGpuEnabled": false,
   "isInternetEnabled": true,
   "language": "python",
   "sourceType": "notebook"
  },
  "kernelspec": {
   "display_name": "Python 3",
   "language": "python",
   "name": "python3"
  },
  "language_info": {
   "codemirror_mode": {
    "name": "ipython",
    "version": 3
   },
   "file_extension": ".py",
   "mimetype": "text/x-python",
   "name": "python",
   "nbconvert_exporter": "python",
   "pygments_lexer": "ipython3",
   "version": "3.11.13"
  },
  "papermill": {
   "default_parameters": {},
   "duration": 13.106988,
   "end_time": "2025-10-03T13:48:52.846083",
   "environment_variables": {},
   "exception": null,
   "input_path": "__notebook__.ipynb",
   "output_path": "__notebook__.ipynb",
   "parameters": {},
   "start_time": "2025-10-03T13:48:39.739095",
   "version": "2.6.0"
  }
 },
 "nbformat": 4,
 "nbformat_minor": 5
}
