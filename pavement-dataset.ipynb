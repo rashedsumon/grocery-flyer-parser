{
 "cells": [
  {
   "cell_type": "code",
   "execution_count": 1,
   "id": "e6b65fd3",
   "metadata": {
    "_cell_guid": "b1076dfc-b9ad-4769-8c92-a6c4dae69d19",
    "_uuid": "8f2839f25d086af736a60e9eeb907d3b93b6e0e5",
    "execution": {
     "iopub.execute_input": "2025-10-03T11:00:49.742808Z",
     "iopub.status.busy": "2025-10-03T11:00:49.742403Z",
     "iopub.status.idle": "2025-10-03T11:00:51.674298Z",
     "shell.execute_reply": "2025-10-03T11:00:51.673293Z"
    },
    "papermill": {
     "duration": 1.938753,
     "end_time": "2025-10-03T11:00:51.675703",
     "exception": false,
     "start_time": "2025-10-03T11:00:49.736950",
     "status": "completed"
    },
    "tags": []
   },
   "outputs": [
    {
     "name": "stdout",
     "output_type": "stream",
     "text": [
      "/kaggle/input/pavement-dataset/ESC 12 Pavement Dataset.csv\n"
     ]
    }
   ],
   "source": [
    "# This Python 3 environment comes with many helpful analytics libraries installed\n",
    "# It is defined by the kaggle/python Docker image: https://github.com/kaggle/docker-python\n",
    "# For example, here's several helpful packages to load\n",
    "\n",
    "import numpy as np # linear algebra\n",
    "import pandas as pd # data processing, CSV file I/O (e.g. pd.read_csv)\n",
    "\n",
    "# Input data files are available in the read-only \"../input/\" directory\n",
    "# For example, running this (by clicking run or pressing Shift+Enter) will list all files under the input directory\n",
    "\n",
    "import os\n",
    "for dirname, _, filenames in os.walk('/kaggle/input'):\n",
    "    for filename in filenames:\n",
    "        print(os.path.join(dirname, filename))\n",
    "\n",
    "# You can write up to 20GB to the current directory (/kaggle/working/) that gets preserved as output when you create a version using \"Save & Run All\" \n",
    "# You can also write temporary files to /kaggle/temp/, but they won't be saved outside of the current session"
   ]
  },
  {
   "cell_type": "code",
   "execution_count": 2,
   "id": "8de0a527",
   "metadata": {
    "execution": {
     "iopub.execute_input": "2025-10-03T11:00:51.683751Z",
     "iopub.status.busy": "2025-10-03T11:00:51.683340Z",
     "iopub.status.idle": "2025-10-03T11:00:51.687778Z",
     "shell.execute_reply": "2025-10-03T11:00:51.686947Z"
    },
    "papermill": {
     "duration": 0.009943,
     "end_time": "2025-10-03T11:00:51.689283",
     "exception": false,
     "start_time": "2025-10-03T11:00:51.679340",
     "status": "completed"
    },
    "tags": []
   },
   "outputs": [],
   "source": [
    "import warnings\n",
    "warnings.filterwarnings(\"ignore\")"
   ]
  },
  {
   "cell_type": "code",
   "execution_count": 3,
   "id": "05b5b57d",
   "metadata": {
    "execution": {
     "iopub.execute_input": "2025-10-03T11:00:51.697072Z",
     "iopub.status.busy": "2025-10-03T11:00:51.696626Z",
     "iopub.status.idle": "2025-10-03T11:00:54.262854Z",
     "shell.execute_reply": "2025-10-03T11:00:54.261816Z"
    },
    "papermill": {
     "duration": 2.571987,
     "end_time": "2025-10-03T11:00:54.264650",
     "exception": false,
     "start_time": "2025-10-03T11:00:51.692663",
     "status": "completed"
    },
    "tags": []
   },
   "outputs": [
    {
     "data": {
      "text/html": [
       "<div>\n",
       "<style scoped>\n",
       "    .dataframe tbody tr th:only-of-type {\n",
       "        vertical-align: middle;\n",
       "    }\n",
       "\n",
       "    .dataframe tbody tr th {\n",
       "        vertical-align: top;\n",
       "    }\n",
       "\n",
       "    .dataframe thead th {\n",
       "        text-align: right;\n",
       "    }\n",
       "</style>\n",
       "<table border=\"1\" class=\"dataframe\">\n",
       "  <thead>\n",
       "    <tr style=\"text-align: right;\">\n",
       "      <th></th>\n",
       "      <th>Segment ID</th>\n",
       "      <th>PCI</th>\n",
       "      <th>Road Type</th>\n",
       "      <th>AADT</th>\n",
       "      <th>Asphalt Type</th>\n",
       "      <th>Last Maintenance</th>\n",
       "      <th>Average Rainfall</th>\n",
       "      <th>Rutting</th>\n",
       "      <th>IRI</th>\n",
       "      <th>Needs Maintenance</th>\n",
       "    </tr>\n",
       "  </thead>\n",
       "  <tbody>\n",
       "    <tr>\n",
       "      <th>0</th>\n",
       "      <td>SID 155440</td>\n",
       "      <td>70.00</td>\n",
       "      <td>Secondary</td>\n",
       "      <td>4634</td>\n",
       "      <td>Concrete</td>\n",
       "      <td>2022</td>\n",
       "      <td>42.07</td>\n",
       "      <td>15.11</td>\n",
       "      <td>0.68</td>\n",
       "      <td>0</td>\n",
       "    </tr>\n",
       "    <tr>\n",
       "      <th>1</th>\n",
       "      <td>SID 244365</td>\n",
       "      <td>37.87</td>\n",
       "      <td>Tertiary</td>\n",
       "      <td>3474</td>\n",
       "      <td>Asphalt</td>\n",
       "      <td>2017</td>\n",
       "      <td>79.60</td>\n",
       "      <td>19.67</td>\n",
       "      <td>0.99</td>\n",
       "      <td>1</td>\n",
       "    </tr>\n",
       "    <tr>\n",
       "      <th>2</th>\n",
       "      <td>SID 137867</td>\n",
       "      <td>88.32</td>\n",
       "      <td>Tertiary</td>\n",
       "      <td>1734</td>\n",
       "      <td>Concrete</td>\n",
       "      <td>2019</td>\n",
       "      <td>62.69</td>\n",
       "      <td>14.73</td>\n",
       "      <td>0.50</td>\n",
       "      <td>0</td>\n",
       "    </tr>\n",
       "    <tr>\n",
       "      <th>3</th>\n",
       "      <td>SID 540519</td>\n",
       "      <td>52.30</td>\n",
       "      <td>Tertiary</td>\n",
       "      <td>3119</td>\n",
       "      <td>Asphalt</td>\n",
       "      <td>2008</td>\n",
       "      <td>79.32</td>\n",
       "      <td>17.01</td>\n",
       "      <td>1.04</td>\n",
       "      <td>1</td>\n",
       "    </tr>\n",
       "    <tr>\n",
       "      <th>4</th>\n",
       "      <td>SID 745776</td>\n",
       "      <td>49.10</td>\n",
       "      <td>Tertiary</td>\n",
       "      <td>3505</td>\n",
       "      <td>Asphalt</td>\n",
       "      <td>2019</td>\n",
       "      <td>71.81</td>\n",
       "      <td>21.08</td>\n",
       "      <td>1.18</td>\n",
       "      <td>1</td>\n",
       "    </tr>\n",
       "  </tbody>\n",
       "</table>\n",
       "</div>"
      ],
      "text/plain": [
       "   Segment ID    PCI  Road Type  AADT Asphalt Type  Last Maintenance  \\\n",
       "0  SID 155440  70.00  Secondary  4634     Concrete              2022   \n",
       "1  SID 244365  37.87   Tertiary  3474      Asphalt              2017   \n",
       "2  SID 137867  88.32   Tertiary  1734     Concrete              2019   \n",
       "3  SID 540519  52.30   Tertiary  3119      Asphalt              2008   \n",
       "4  SID 745776  49.10   Tertiary  3505      Asphalt              2019   \n",
       "\n",
       "   Average Rainfall  Rutting   IRI  Needs Maintenance  \n",
       "0             42.07    15.11  0.68                  0  \n",
       "1             79.60    19.67  0.99                  1  \n",
       "2             62.69    14.73  0.50                  0  \n",
       "3             79.32    17.01  1.04                  1  \n",
       "4             71.81    21.08  1.18                  1  "
      ]
     },
     "execution_count": 3,
     "metadata": {},
     "output_type": "execute_result"
    }
   ],
   "source": [
    "df = pd.read_csv('/kaggle/input/pavement-dataset/ESC 12 Pavement Dataset.csv')\n",
    "df.head()"
   ]
  },
  {
   "cell_type": "code",
   "execution_count": 4,
   "id": "769ee708",
   "metadata": {
    "execution": {
     "iopub.execute_input": "2025-10-03T11:00:54.274042Z",
     "iopub.status.busy": "2025-10-03T11:00:54.273720Z",
     "iopub.status.idle": "2025-10-03T11:00:54.281096Z",
     "shell.execute_reply": "2025-10-03T11:00:54.280290Z"
    },
    "papermill": {
     "duration": 0.014093,
     "end_time": "2025-10-03T11:00:54.282737",
     "exception": false,
     "start_time": "2025-10-03T11:00:54.268644",
     "status": "completed"
    },
    "tags": []
   },
   "outputs": [
    {
     "data": {
      "text/plain": [
       "Index(['Segment ID', 'PCI', 'Road Type', 'AADT', 'Asphalt Type',\n",
       "       'Last Maintenance', 'Average Rainfall', 'Rutting', 'IRI',\n",
       "       'Needs Maintenance'],\n",
       "      dtype='object')"
      ]
     },
     "execution_count": 4,
     "metadata": {},
     "output_type": "execute_result"
    }
   ],
   "source": [
    "df.columns"
   ]
  },
  {
   "cell_type": "code",
   "execution_count": 5,
   "id": "561bfc77",
   "metadata": {
    "execution": {
     "iopub.execute_input": "2025-10-03T11:00:54.290827Z",
     "iopub.status.busy": "2025-10-03T11:00:54.290534Z",
     "iopub.status.idle": "2025-10-03T11:00:54.489819Z",
     "shell.execute_reply": "2025-10-03T11:00:54.488515Z"
    },
    "papermill": {
     "duration": 0.205024,
     "end_time": "2025-10-03T11:00:54.491412",
     "exception": false,
     "start_time": "2025-10-03T11:00:54.286388",
     "status": "completed"
    },
    "tags": []
   },
   "outputs": [
    {
     "name": "stdout",
     "output_type": "stream",
     "text": [
      "<class 'pandas.core.frame.DataFrame'>\n",
      "RangeIndex: 1050000 entries, 0 to 1049999\n",
      "Data columns (total 10 columns):\n",
      " #   Column             Non-Null Count    Dtype  \n",
      "---  ------             --------------    -----  \n",
      " 0   Segment ID         1050000 non-null  object \n",
      " 1   PCI                1050000 non-null  float64\n",
      " 2   Road Type          1050000 non-null  object \n",
      " 3   AADT               1050000 non-null  int64  \n",
      " 4   Asphalt Type       1050000 non-null  object \n",
      " 5   Last Maintenance   1050000 non-null  int64  \n",
      " 6   Average Rainfall   1050000 non-null  float64\n",
      " 7   Rutting            1050000 non-null  float64\n",
      " 8   IRI                1050000 non-null  float64\n",
      " 9   Needs Maintenance  1050000 non-null  int64  \n",
      "dtypes: float64(4), int64(3), object(3)\n",
      "memory usage: 80.1+ MB\n"
     ]
    }
   ],
   "source": [
    "# Check shape and column types\n",
    "df.info()"
   ]
  },
  {
   "cell_type": "code",
   "execution_count": 6,
   "id": "c51e5971",
   "metadata": {
    "execution": {
     "iopub.execute_input": "2025-10-03T11:00:54.500146Z",
     "iopub.status.busy": "2025-10-03T11:00:54.499829Z",
     "iopub.status.idle": "2025-10-03T11:00:56.387747Z",
     "shell.execute_reply": "2025-10-03T11:00:56.386475Z"
    },
    "papermill": {
     "duration": 1.894738,
     "end_time": "2025-10-03T11:00:56.389815",
     "exception": false,
     "start_time": "2025-10-03T11:00:54.495077",
     "status": "completed"
    },
    "tags": []
   },
   "outputs": [
    {
     "data": {
      "text/html": [
       "<div>\n",
       "<style scoped>\n",
       "    .dataframe tbody tr th:only-of-type {\n",
       "        vertical-align: middle;\n",
       "    }\n",
       "\n",
       "    .dataframe tbody tr th {\n",
       "        vertical-align: top;\n",
       "    }\n",
       "\n",
       "    .dataframe thead th {\n",
       "        text-align: right;\n",
       "    }\n",
       "</style>\n",
       "<table border=\"1\" class=\"dataframe\">\n",
       "  <thead>\n",
       "    <tr style=\"text-align: right;\">\n",
       "      <th></th>\n",
       "      <th>Segment ID</th>\n",
       "      <th>PCI</th>\n",
       "      <th>Road Type</th>\n",
       "      <th>AADT</th>\n",
       "      <th>Asphalt Type</th>\n",
       "      <th>Last Maintenance</th>\n",
       "      <th>Average Rainfall</th>\n",
       "      <th>Rutting</th>\n",
       "      <th>IRI</th>\n",
       "      <th>Needs Maintenance</th>\n",
       "    </tr>\n",
       "  </thead>\n",
       "  <tbody>\n",
       "    <tr>\n",
       "      <th>count</th>\n",
       "      <td>1050000</td>\n",
       "      <td>1.050000e+06</td>\n",
       "      <td>1050000</td>\n",
       "      <td>1.050000e+06</td>\n",
       "      <td>1050000</td>\n",
       "      <td>1.050000e+06</td>\n",
       "      <td>1.050000e+06</td>\n",
       "      <td>1.050000e+06</td>\n",
       "      <td>1.050000e+06</td>\n",
       "      <td>1.050000e+06</td>\n",
       "    </tr>\n",
       "    <tr>\n",
       "      <th>unique</th>\n",
       "      <td>1050000</td>\n",
       "      <td>NaN</td>\n",
       "      <td>3</td>\n",
       "      <td>NaN</td>\n",
       "      <td>2</td>\n",
       "      <td>NaN</td>\n",
       "      <td>NaN</td>\n",
       "      <td>NaN</td>\n",
       "      <td>NaN</td>\n",
       "      <td>NaN</td>\n",
       "    </tr>\n",
       "    <tr>\n",
       "      <th>top</th>\n",
       "      <td>SID 155440</td>\n",
       "      <td>NaN</td>\n",
       "      <td>Tertiary</td>\n",
       "      <td>NaN</td>\n",
       "      <td>Concrete</td>\n",
       "      <td>NaN</td>\n",
       "      <td>NaN</td>\n",
       "      <td>NaN</td>\n",
       "      <td>NaN</td>\n",
       "      <td>NaN</td>\n",
       "    </tr>\n",
       "    <tr>\n",
       "      <th>freq</th>\n",
       "      <td>1</td>\n",
       "      <td>NaN</td>\n",
       "      <td>489465</td>\n",
       "      <td>NaN</td>\n",
       "      <td>525294</td>\n",
       "      <td>NaN</td>\n",
       "      <td>NaN</td>\n",
       "      <td>NaN</td>\n",
       "      <td>NaN</td>\n",
       "      <td>NaN</td>\n",
       "    </tr>\n",
       "    <tr>\n",
       "      <th>mean</th>\n",
       "      <td>NaN</td>\n",
       "      <td>5.470744e+01</td>\n",
       "      <td>NaN</td>\n",
       "      <td>1.155683e+04</td>\n",
       "      <td>NaN</td>\n",
       "      <td>2.018147e+03</td>\n",
       "      <td>6.498192e+01</td>\n",
       "      <td>1.659194e+01</td>\n",
       "      <td>8.500802e-01</td>\n",
       "      <td>4.998752e-01</td>\n",
       "    </tr>\n",
       "    <tr>\n",
       "      <th>std</th>\n",
       "      <td>NaN</td>\n",
       "      <td>2.877674e+01</td>\n",
       "      <td>NaN</td>\n",
       "      <td>1.389092e+04</td>\n",
       "      <td>NaN</td>\n",
       "      <td>4.984028e+00</td>\n",
       "      <td>1.802855e+01</td>\n",
       "      <td>2.891353e+00</td>\n",
       "      <td>2.366776e-01</td>\n",
       "      <td>5.000002e-01</td>\n",
       "    </tr>\n",
       "    <tr>\n",
       "      <th>min</th>\n",
       "      <td>NaN</td>\n",
       "      <td>0.000000e+00</td>\n",
       "      <td>NaN</td>\n",
       "      <td>-1.931300e+04</td>\n",
       "      <td>NaN</td>\n",
       "      <td>1.959000e+03</td>\n",
       "      <td>0.000000e+00</td>\n",
       "      <td>7.220000e+00</td>\n",
       "      <td>-2.800000e-01</td>\n",
       "      <td>0.000000e+00</td>\n",
       "    </tr>\n",
       "    <tr>\n",
       "      <th>25%</th>\n",
       "      <td>NaN</td>\n",
       "      <td>2.998000e+01</td>\n",
       "      <td>NaN</td>\n",
       "      <td>2.288000e+03</td>\n",
       "      <td>NaN</td>\n",
       "      <td>2.017000e+03</td>\n",
       "      <td>4.996000e+01</td>\n",
       "      <td>1.400000e+01</td>\n",
       "      <td>6.900000e-01</td>\n",
       "      <td>0.000000e+00</td>\n",
       "    </tr>\n",
       "    <tr>\n",
       "      <th>50%</th>\n",
       "      <td>NaN</td>\n",
       "      <td>5.502000e+01</td>\n",
       "      <td>NaN</td>\n",
       "      <td>5.307000e+03</td>\n",
       "      <td>NaN</td>\n",
       "      <td>2.019000e+03</td>\n",
       "      <td>6.497000e+01</td>\n",
       "      <td>1.703000e+01</td>\n",
       "      <td>8.500000e-01</td>\n",
       "      <td>0.000000e+00</td>\n",
       "    </tr>\n",
       "    <tr>\n",
       "      <th>75%</th>\n",
       "      <td>NaN</td>\n",
       "      <td>8.007000e+01</td>\n",
       "      <td>NaN</td>\n",
       "      <td>1.644100e+04</td>\n",
       "      <td>NaN</td>\n",
       "      <td>2.021000e+03</td>\n",
       "      <td>8.003000e+01</td>\n",
       "      <td>1.920000e+01</td>\n",
       "      <td>1.010000e+00</td>\n",
       "      <td>1.000000e+00</td>\n",
       "    </tr>\n",
       "    <tr>\n",
       "      <th>max</th>\n",
       "      <td>NaN</td>\n",
       "      <td>1.000000e+02</td>\n",
       "      <td>NaN</td>\n",
       "      <td>2.001500e+05</td>\n",
       "      <td>NaN</td>\n",
       "      <td>2.028000e+03</td>\n",
       "      <td>1.298400e+02</td>\n",
       "      <td>2.409000e+01</td>\n",
       "      <td>1.910000e+00</td>\n",
       "      <td>1.000000e+00</td>\n",
       "    </tr>\n",
       "  </tbody>\n",
       "</table>\n",
       "</div>"
      ],
      "text/plain": [
       "        Segment ID           PCI Road Type          AADT Asphalt Type  \\\n",
       "count      1050000  1.050000e+06   1050000  1.050000e+06      1050000   \n",
       "unique     1050000           NaN         3           NaN            2   \n",
       "top     SID 155440           NaN  Tertiary           NaN     Concrete   \n",
       "freq             1           NaN    489465           NaN       525294   \n",
       "mean           NaN  5.470744e+01       NaN  1.155683e+04          NaN   \n",
       "std            NaN  2.877674e+01       NaN  1.389092e+04          NaN   \n",
       "min            NaN  0.000000e+00       NaN -1.931300e+04          NaN   \n",
       "25%            NaN  2.998000e+01       NaN  2.288000e+03          NaN   \n",
       "50%            NaN  5.502000e+01       NaN  5.307000e+03          NaN   \n",
       "75%            NaN  8.007000e+01       NaN  1.644100e+04          NaN   \n",
       "max            NaN  1.000000e+02       NaN  2.001500e+05          NaN   \n",
       "\n",
       "        Last Maintenance  Average Rainfall       Rutting           IRI  \\\n",
       "count       1.050000e+06      1.050000e+06  1.050000e+06  1.050000e+06   \n",
       "unique               NaN               NaN           NaN           NaN   \n",
       "top                  NaN               NaN           NaN           NaN   \n",
       "freq                 NaN               NaN           NaN           NaN   \n",
       "mean        2.018147e+03      6.498192e+01  1.659194e+01  8.500802e-01   \n",
       "std         4.984028e+00      1.802855e+01  2.891353e+00  2.366776e-01   \n",
       "min         1.959000e+03      0.000000e+00  7.220000e+00 -2.800000e-01   \n",
       "25%         2.017000e+03      4.996000e+01  1.400000e+01  6.900000e-01   \n",
       "50%         2.019000e+03      6.497000e+01  1.703000e+01  8.500000e-01   \n",
       "75%         2.021000e+03      8.003000e+01  1.920000e+01  1.010000e+00   \n",
       "max         2.028000e+03      1.298400e+02  2.409000e+01  1.910000e+00   \n",
       "\n",
       "        Needs Maintenance  \n",
       "count        1.050000e+06  \n",
       "unique                NaN  \n",
       "top                   NaN  \n",
       "freq                  NaN  \n",
       "mean         4.998752e-01  \n",
       "std          5.000002e-01  \n",
       "min          0.000000e+00  \n",
       "25%          0.000000e+00  \n",
       "50%          0.000000e+00  \n",
       "75%          1.000000e+00  \n",
       "max          1.000000e+00  "
      ]
     },
     "execution_count": 6,
     "metadata": {},
     "output_type": "execute_result"
    }
   ],
   "source": [
    "# Summary statistics\n",
    "df.describe(include='all')"
   ]
  },
  {
   "cell_type": "code",
   "execution_count": 7,
   "id": "6ab20c9d",
   "metadata": {
    "execution": {
     "iopub.execute_input": "2025-10-03T11:00:56.399258Z",
     "iopub.status.busy": "2025-10-03T11:00:56.398923Z",
     "iopub.status.idle": "2025-10-03T11:00:59.395958Z",
     "shell.execute_reply": "2025-10-03T11:00:59.394521Z"
    },
    "papermill": {
     "duration": 3.004388,
     "end_time": "2025-10-03T11:00:59.398414",
     "exception": false,
     "start_time": "2025-10-03T11:00:56.394026",
     "status": "completed"
    },
    "tags": []
   },
   "outputs": [
    {
     "data": {
      "image/png": "[encoded data removed]",
      "text/plain": [
       "<Figure size 1000x600 with 2 Axes>"
      ]
     },
     "metadata": {},
     "output_type": "display_data"
    }
   ],
   "source": [
    "import seaborn as sns\n",
    "import matplotlib.pyplot as plt\n",
    "\n",
    "# Heatmap for correlations\n",
    "plt.figure(figsize=(10,6))\n",
    "sns.heatmap(df.corr(numeric_only=True), annot=True, cmap='coolwarm')\n",
    "plt.title(\"Correlation Heatmap\")\n",
    "plt.show()"
   ]
  },
  {
   "cell_type": "code",
   "execution_count": 8,
   "id": "bc62d111",
   "metadata": {
    "execution": {
     "iopub.execute_input": "2025-10-03T11:00:59.410461Z",
     "iopub.status.busy": "2025-10-03T11:00:59.409952Z",
     "iopub.status.idle": "2025-10-03T11:00:59.724785Z",
     "shell.execute_reply": "2025-10-03T11:00:59.723763Z"
    },
    "papermill": {
     "duration": 0.322868,
     "end_time": "2025-10-03T11:00:59.726770",
     "exception": false,
     "start_time": "2025-10-03T11:00:59.403902",
     "status": "completed"
    },
    "tags": []
   },
   "outputs": [
    {
     "data": {
      "image/png": "[encoded data removed]",
      "text/plain": [
       "<Figure size 640x480 with 1 Axes>"
      ]
     },
     "metadata": {},
     "output_type": "display_data"
    }
   ],
   "source": [
    "# Boxplot of PCI by Maintenance Need\n",
    "sns.boxplot(data=df, x='Needs Maintenance', y='PCI')\n",
    "plt.title(\"PCI vs Maintenance Need\")\n",
    "plt.show()"
   ]
  },
  {
   "cell_type": "code",
   "execution_count": 9,
   "id": "3deee81c",
   "metadata": {
    "execution": {
     "iopub.execute_input": "2025-10-03T11:00:59.740267Z",
     "iopub.status.busy": "2025-10-03T11:00:59.739914Z",
     "iopub.status.idle": "2025-10-03T11:01:00.813768Z",
     "shell.execute_reply": "2025-10-03T11:01:00.812859Z"
    },
    "papermill": {
     "duration": 1.082344,
     "end_time": "2025-10-03T11:01:00.815734",
     "exception": false,
     "start_time": "2025-10-03T11:00:59.733390",
     "status": "completed"
    },
    "tags": []
   },
   "outputs": [],
   "source": [
    "from sklearn.model_selection import train_test_split\n",
    "from sklearn.preprocessing import LabelEncoder\n",
    "\n",
    "# Encode categorical columns\n",
    "df = df.copy()\n",
    "le = LabelEncoder()\n",
    "for col in ['Road Type', 'Asphalt Type', 'Last Maintenance', 'Needs Maintenance']:\n",
    "    df[col] = le.fit_transform(df[col])\n",
    "\n",
    "# Drop ID column\n",
    "df.drop('Segment ID', axis=1, inplace=True)"
   ]
  },
  {
   "cell_type": "code",
   "execution_count": 10,
   "id": "2f3e7ff5",
   "metadata": {
    "execution": {
     "iopub.execute_input": "2025-10-03T11:01:00.828594Z",
     "iopub.status.busy": "2025-10-03T11:01:00.828159Z",
     "iopub.status.idle": "2025-10-03T11:01:00.852962Z",
     "shell.execute_reply": "2025-10-03T11:01:00.851920Z"
    },
    "papermill": {
     "duration": 0.03337,
     "end_time": "2025-10-03T11:01:00.854896",
     "exception": false,
     "start_time": "2025-10-03T11:01:00.821526",
     "status": "completed"
    },
    "tags": []
   },
   "outputs": [],
   "source": [
    "# Split features and label\n",
    "X = df.drop('Needs Maintenance', axis=1)\n",
    "y = df['Needs Maintenance']"
   ]
  },
  {
   "cell_type": "code",
   "execution_count": 11,
   "id": "913db076",
   "metadata": {
    "execution": {
     "iopub.execute_input": "2025-10-03T11:01:00.868167Z",
     "iopub.status.busy": "2025-10-03T11:01:00.867877Z",
     "iopub.status.idle": "2025-10-03T11:01:01.153064Z",
     "shell.execute_reply": "2025-10-03T11:01:01.151735Z"
    },
    "papermill": {
     "duration": 0.293447,
     "end_time": "2025-10-03T11:01:01.154867",
     "exception": false,
     "start_time": "2025-10-03T11:01:00.861420",
     "status": "completed"
    },
    "tags": []
   },
   "outputs": [],
   "source": [
    "# Train/test split\n",
    "X_train, X_test, y_train, y_test = train_test_split(X, y, test_size=0.2, random_state=42)"
   ]
  },
  {
   "cell_type": "code",
   "execution_count": 12,
   "id": "8ec71669",
   "metadata": {
    "execution": {
     "iopub.execute_input": "2025-10-03T11:01:01.166959Z",
     "iopub.status.busy": "2025-10-03T11:01:01.166677Z",
     "iopub.status.idle": "2025-10-03T11:03:03.598953Z",
     "shell.execute_reply": "2025-10-03T11:03:03.598089Z"
    },
    "papermill": {
     "duration": 122.446086,
     "end_time": "2025-10-03T11:03:03.606414",
     "exception": false,
     "start_time": "2025-10-03T11:01:01.160328",
     "status": "completed"
    },
    "tags": []
   },
   "outputs": [
    {
     "data": {
      "text/html": [
       "<style>#sk-container-id-1 {color: black;background-color: white;}#sk-container-id-1 pre{padding: 0;}#sk-container-id-1 div.sk-toggleable {background-color: white;}#sk-container-id-1 label.sk-toggleable__label {cursor: pointer;display: block;width: 100%;margin-bottom: 0;padding: 0.3em;box-sizing: border-box;text-align: center;}#sk-container-id-1 label.sk-toggleable__label-arrow:before {content: \"▸\";float: left;margin-right: 0.25em;color: #696969;}#sk-container-id-1 label.sk-toggleable__label-arrow:hover:before {color: black;}#sk-container-id-1 div.sk-estimator:hover label.sk-toggleable__label-arrow:before {color: black;}#sk-container-id-1 div.sk-toggleable__content {max-height: 0;max-width: 0;overflow: hidden;text-align: left;background-color: #f0f8ff;}#sk-container-id-1 div.sk-toggleable__content pre {margin: 0.2em;color: black;border-radius: 0.25em;background-color: #f0f8ff;}#sk-container-id-1 input.sk-toggleable__control:checked~div.sk-toggleable__content {max-height: 200px;max-width: 100%;overflow: auto;}#sk-container-id-1 input.sk-toggleable__control:checked~label.sk-toggleable__label-arrow:before {content: \"▾\";}#sk-container-id-1 div.sk-estimator input.sk-toggleable__control:checked~label.sk-toggleable__label {background-color: #d4ebff;}#sk-container-id-1 div.sk-label input.sk-toggleable__control:checked~label.sk-toggleable__label {background-color: #d4ebff;}#sk-container-id-1 input.sk-hidden--visually {border: 0;clip: rect(1px 1px 1px 1px);clip: rect(1px, 1px, 1px, 1px);height: 1px;margin: -1px;overflow: hidden;padding: 0;position: absolute;width: 1px;}#sk-container-id-1 div.sk-estimator {font-family: monospace;background-color: #f0f8ff;border: 1px dotted black;border-radius: 0.25em;box-sizing: border-box;margin-bottom: 0.5em;}#sk-container-id-1 div.sk-estimator:hover {background-color: #d4ebff;}#sk-container-id-1 div.sk-parallel-item::after {content: \"\";width: 100%;border-bottom: 1px solid gray;flex-grow: 1;}#sk-container-id-1 div.sk-label:hover label.sk-toggleable__label {background-color: #d4ebff;}#sk-container-id-1 div.sk-serial::before {content: \"\";position: absolute;border-left: 1px solid gray;box-sizing: border-box;top: 0;bottom: 0;left: 50%;z-index: 0;}#sk-container-id-1 div.sk-serial {display: flex;flex-direction: column;align-items: center;background-color: white;padding-right: 0.2em;padding-left: 0.2em;position: relative;}#sk-container-id-1 div.sk-item {position: relative;z-index: 1;}#sk-container-id-1 div.sk-parallel {display: flex;align-items: stretch;justify-content: center;background-color: white;position: relative;}#sk-container-id-1 div.sk-item::before, #sk-container-id-1 div.sk-parallel-item::before {content: \"\";position: absolute;border-left: 1px solid gray;box-sizing: border-box;top: 0;bottom: 0;left: 50%;z-index: -1;}#sk-container-id-1 div.sk-parallel-item {display: flex;flex-direction: column;z-index: 1;position: relative;background-color: white;}#sk-container-id-1 div.sk-parallel-item:first-child::after {align-self: flex-end;width: 50%;}#sk-container-id-1 div.sk-parallel-item:last-child::after {align-self: flex-start;width: 50%;}#sk-container-id-1 div.sk-parallel-item:only-child::after {width: 0;}#sk-container-id-1 div.sk-dashed-wrapped {border: 1px dashed gray;margin: 0 0.4em 0.5em 0.4em;box-sizing: border-box;padding-bottom: 0.4em;background-color: white;}#sk-container-id-1 div.sk-label label {font-family: monospace;font-weight: bold;display: inline-block;line-height: 1.2em;}#sk-container-id-1 div.sk-label-container {text-align: center;}#sk-container-id-1 div.sk-container {/* jupyter's `normalize.less` sets `[hidden] { display: none; }` but bootstrap.min.css set `[hidden] { display: none !important; }` so we also need the `!important` here to be able to override the default hidden behavior on the sphinx rendered scikit-learn.org. See: https://github.com/scikit-learn/scikit-learn/issues/21755 */display: inline-block !important;position: relative;}#sk-container-id-1 div.sk-text-repr-fallback {display: none;}</style><div id=\"sk-container-id-1\" class=\"sk-top-container\"><div class=\"sk-text-repr-fallback\"><pre>RandomForestClassifier(random_state=42)</pre><b>In a Jupyter environment, please rerun this cell to show the HTML representation or trust the notebook. <br />On GitHub, the HTML representation is unable to render, please try loading this page with nbviewer.org.</b></div><div class=\"sk-container\" hidden><div class=\"sk-item\"><div class=\"sk-estimator sk-toggleable\"><input class=\"sk-toggleable__control sk-hidden--visually\" id=\"sk-estimator-id-1\" type=\"checkbox\" checked><label for=\"sk-estimator-id-1\" class=\"sk-toggleable__label sk-toggleable__label-arrow\">RandomForestClassifier</label><div class=\"sk-toggleable__content\"><pre>RandomForestClassifier(random_state=42)</pre></div></div></div></div></div>"
      ],
      "text/plain": [
       "RandomForestClassifier(random_state=42)"
      ]
     },
     "execution_count": 12,
     "metadata": {},
     "output_type": "execute_result"
    }
   ],
   "source": [
    "from sklearn.ensemble import RandomForestClassifier\n",
    "from sklearn.metrics import classification_report, accuracy_score\n",
    "\n",
    "# Train Random Forest\n",
    "model = RandomForestClassifier(random_state=42)\n",
    "model.fit(X_train, y_train)"
   ]
  },
  {
   "cell_type": "code",
   "execution_count": 13,
   "id": "29daa560",
   "metadata": {
    "execution": {
     "iopub.execute_input": "2025-10-03T11:03:03.619442Z",
     "iopub.status.busy": "2025-10-03T11:03:03.619069Z",
     "iopub.status.idle": "2025-10-03T11:03:05.818525Z",
     "shell.execute_reply": "2025-10-03T11:03:05.817436Z"
    },
    "papermill": {
     "duration": 2.208043,
     "end_time": "2025-10-03T11:03:05.820143",
     "exception": false,
     "start_time": "2025-10-03T11:03:03.612100",
     "status": "completed"
    },
    "tags": []
   },
   "outputs": [
    {
     "name": "stdout",
     "output_type": "stream",
     "text": [
      "Accuracy: 0.9999904761904762\n",
      "              precision    recall  f1-score   support\n",
      "\n",
      "           0       1.00      1.00      1.00    104739\n",
      "           1       1.00      1.00      1.00    105261\n",
      "\n",
      "    accuracy                           1.00    210000\n",
      "   macro avg       1.00      1.00      1.00    210000\n",
      "weighted avg       1.00      1.00      1.00    210000\n",
      "\n"
     ]
    }
   ],
   "source": [
    "# Predict\n",
    "y_pred = model.predict(X_test)\n",
    "\n",
    "# Evaluation\n",
    "print(\"Accuracy:\", accuracy_score(y_test, y_pred))\n",
    "print(classification_report(y_test, y_pred))"
   ]
  },
  {
   "cell_type": "code",
   "execution_count": 14,
   "id": "02932dbe",
   "metadata": {
    "execution": {
     "iopub.execute_input": "2025-10-03T11:03:05.834532Z",
     "iopub.status.busy": "2025-10-03T11:03:05.833295Z",
     "iopub.status.idle": "2025-10-03T11:03:06.101288Z",
     "shell.execute_reply": "2025-10-03T11:03:06.099984Z"
    },
    "papermill": {
     "duration": 0.276959,
     "end_time": "2025-10-03T11:03:06.103108",
     "exception": false,
     "start_time": "2025-10-03T11:03:05.826149",
     "status": "completed"
    },
    "tags": []
   },
   "outputs": [
    {
     "data": {
      "image/png": "[encoded data removed]",
      "text/plain": [
       "<Figure size 640x480 with 1 Axes>"
      ]
     },
     "metadata": {},
     "output_type": "display_data"
    }
   ],
   "source": [
    "# Feature Importance Plot\n",
    "feat_importance = pd.Series(model.feature_importances_, index=X.columns)\n",
    "feat_importance.nlargest(8).plot(kind='barh')\n",
    "plt.title(\"Feature Importance\")\n",
    "plt.show()"
   ]
  },
  {
   "cell_type": "code",
   "execution_count": 15,
   "id": "2e0efcf6",
   "metadata": {
    "execution": {
     "iopub.execute_input": "2025-10-03T11:03:06.117331Z",
     "iopub.status.busy": "2025-10-03T11:03:06.116963Z",
     "iopub.status.idle": "2025-10-03T11:03:06.139941Z",
     "shell.execute_reply": "2025-10-03T11:03:06.138732Z"
    },
    "papermill": {
     "duration": 0.031986,
     "end_time": "2025-10-03T11:03:06.141643",
     "exception": false,
     "start_time": "2025-10-03T11:03:06.109657",
     "status": "completed"
    },
    "tags": []
   },
   "outputs": [
    {
     "data": {
      "text/html": [
       "<div>\n",
       "<style scoped>\n",
       "    .dataframe tbody tr th:only-of-type {\n",
       "        vertical-align: middle;\n",
       "    }\n",
       "\n",
       "    .dataframe tbody tr th {\n",
       "        vertical-align: top;\n",
       "    }\n",
       "\n",
       "    .dataframe thead th {\n",
       "        text-align: right;\n",
       "    }\n",
       "</style>\n",
       "<table border=\"1\" class=\"dataframe\">\n",
       "  <thead>\n",
       "    <tr style=\"text-align: right;\">\n",
       "      <th></th>\n",
       "      <th>PCI</th>\n",
       "      <th>Road Type</th>\n",
       "      <th>AADT</th>\n",
       "      <th>Asphalt Type</th>\n",
       "      <th>Last Maintenance</th>\n",
       "      <th>Average Rainfall</th>\n",
       "      <th>Rutting</th>\n",
       "      <th>IRI</th>\n",
       "      <th>Actual</th>\n",
       "      <th>Predicted</th>\n",
       "    </tr>\n",
       "  </thead>\n",
       "  <tbody>\n",
       "    <tr>\n",
       "      <th>690153</th>\n",
       "      <td>87.09</td>\n",
       "      <td>1</td>\n",
       "      <td>4424</td>\n",
       "      <td>1</td>\n",
       "      <td>55</td>\n",
       "      <td>50.26</td>\n",
       "      <td>14.78</td>\n",
       "      <td>0.86</td>\n",
       "      <td>0</td>\n",
       "      <td>0</td>\n",
       "    </tr>\n",
       "    <tr>\n",
       "      <th>1022027</th>\n",
       "      <td>32.71</td>\n",
       "      <td>1</td>\n",
       "      <td>19283</td>\n",
       "      <td>0</td>\n",
       "      <td>52</td>\n",
       "      <td>79.99</td>\n",
       "      <td>19.24</td>\n",
       "      <td>0.92</td>\n",
       "      <td>1</td>\n",
       "      <td>1</td>\n",
       "    </tr>\n",
       "    <tr>\n",
       "      <th>1044895</th>\n",
       "      <td>27.42</td>\n",
       "      <td>2</td>\n",
       "      <td>3442</td>\n",
       "      <td>1</td>\n",
       "      <td>42</td>\n",
       "      <td>75.16</td>\n",
       "      <td>19.69</td>\n",
       "      <td>0.79</td>\n",
       "      <td>1</td>\n",
       "      <td>1</td>\n",
       "    </tr>\n",
       "    <tr>\n",
       "      <th>55527</th>\n",
       "      <td>53.42</td>\n",
       "      <td>2</td>\n",
       "      <td>1697</td>\n",
       "      <td>1</td>\n",
       "      <td>58</td>\n",
       "      <td>54.76</td>\n",
       "      <td>12.94</td>\n",
       "      <td>0.73</td>\n",
       "      <td>0</td>\n",
       "      <td>0</td>\n",
       "    </tr>\n",
       "    <tr>\n",
       "      <th>401380</th>\n",
       "      <td>78.49</td>\n",
       "      <td>2</td>\n",
       "      <td>1906</td>\n",
       "      <td>1</td>\n",
       "      <td>54</td>\n",
       "      <td>51.42</td>\n",
       "      <td>13.74</td>\n",
       "      <td>1.13</td>\n",
       "      <td>0</td>\n",
       "      <td>0</td>\n",
       "    </tr>\n",
       "  </tbody>\n",
       "</table>\n",
       "</div>"
      ],
      "text/plain": [
       "           PCI  Road Type   AADT  Asphalt Type  Last Maintenance  \\\n",
       "690153   87.09          1   4424             1                55   \n",
       "1022027  32.71          1  19283             0                52   \n",
       "1044895  27.42          2   3442             1                42   \n",
       "55527    53.42          2   1697             1                58   \n",
       "401380   78.49          2   1906             1                54   \n",
       "\n",
       "         Average Rainfall  Rutting   IRI  Actual  Predicted  \n",
       "690153              50.26    14.78  0.86       0          0  \n",
       "1022027             79.99    19.24  0.92       1          1  \n",
       "1044895             75.16    19.69  0.79       1          1  \n",
       "55527               54.76    12.94  0.73       0          0  \n",
       "401380              51.42    13.74  1.13       0          0  "
      ]
     },
     "execution_count": 15,
     "metadata": {},
     "output_type": "execute_result"
    }
   ],
   "source": [
    "# Show some predictions\n",
    "pred_df = X_test.copy()\n",
    "pred_df['Actual'] = y_test\n",
    "pred_df['Predicted'] = y_pred\n",
    "pred_df.head()"
   ]
  }
 ],
 "metadata": {
  "kaggle": {
   "accelerator": "none",
   "dataSources": [
    {
     "datasetId": 7502161,
     "sourceId": 11932744,
     "sourceType": "datasetVersion"
    }
   ],
   "dockerImageVersionId": 31089,
   "isGpuEnabled": false,
   "isInternetEnabled": true,
   "language": "python",
   "sourceType": "notebook"
  },
  "kernelspec": {
   "display_name": "Python 3",
   "language": "python",
   "name": "python3"
  },
  "language_info": {
   "codemirror_mode": {
    "name": "ipython",
    "version": 3
   },
   "file_extension": ".py",
   "mimetype": "text/x-python",
   "name": "python",
   "nbconvert_exporter": "python",
   "pygments_lexer": "ipython3",
   "version": "3.11.13"
  },
  "papermill": {
   "default_parameters": {},
   "duration": 142.89814,
   "end_time": "2025-10-03T11:03:06.970606",
   "environment_variables": {},
   "exception": null,
   "input_path": "__notebook__.ipynb",
   "output_path": "__notebook__.ipynb",
   "parameters": {},
   "start_time": "2025-10-03T11:00:44.072466",
   "version": "2.6.0"
  }
 },
 "nbformat": 4,
 "nbformat_minor": 5
}
