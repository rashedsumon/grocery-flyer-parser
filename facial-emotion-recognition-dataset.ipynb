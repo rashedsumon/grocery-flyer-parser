{
 "cells": [
  {
   "cell_type": "code",
   "execution_count": 1,
   "id": "8d1c780b",
   "metadata": {
    "_cell_guid": "b1076dfc-b9ad-4769-8c92-a6c4dae69d19",
    "_uuid": "8f2839f25d086af736a60e9eeb907d3b93b6e0e5",
    "collapsed": true,
    "execution": {
     "iopub.execute_input": "2025-10-03T11:58:37.579770Z",
     "iopub.status.busy": "2025-10-03T11:58:37.579418Z",
     "iopub.status.idle": "2025-10-03T11:58:39.845400Z",
     "shell.execute_reply": "2025-10-03T11:58:39.844480Z"
    },
    "jupyter": {
     "outputs_hidden": true
    },
    "papermill": {
     "duration": 2.273499,
     "end_time": "2025-10-03T11:58:39.847711",
     "exception": false,
     "start_time": "2025-10-03T11:58:37.574212",
     "status": "completed"
    },
    "tags": []
   },
   "outputs": [
    {
     "name": "stdout",
     "output_type": "stream",
     "text": [
      "/kaggle/input/facial-emotion-recognition/emotions.csv\n",
      "/kaggle/input/facial-emotion-recognition/images/7/Disgust.jpg\n",
      "/kaggle/input/facial-emotion-recognition/images/7/Anger.jpg\n",
      "/kaggle/input/facial-emotion-recognition/images/7/Sad.jpg\n",
      "/kaggle/input/facial-emotion-recognition/images/7/Surprised.jpg\n",
      "/kaggle/input/facial-emotion-recognition/images/7/Neutral.jpg\n",
      "/kaggle/input/facial-emotion-recognition/images/7/Happy.jpg\n",
      "/kaggle/input/facial-emotion-recognition/images/7/Fear.jpg\n",
      "/kaggle/input/facial-emotion-recognition/images/7/Contempt.jpg\n",
      "/kaggle/input/facial-emotion-recognition/images/17/Disgust.jpg\n",
      "/kaggle/input/facial-emotion-recognition/images/17/Anger.jpg\n",
      "/kaggle/input/facial-emotion-recognition/images/17/Sad.jpg\n",
      "/kaggle/input/facial-emotion-recognition/images/17/Surprised.jpg\n",
      "/kaggle/input/facial-emotion-recognition/images/17/Neutral.jpg\n",
      "/kaggle/input/facial-emotion-recognition/images/17/Happy.jpg\n",
      "/kaggle/input/facial-emotion-recognition/images/17/Fear.jpg\n",
      "/kaggle/input/facial-emotion-recognition/images/17/Contempt.jpg\n",
      "/kaggle/input/facial-emotion-recognition/images/2/Disgust.jpg\n",
      "/kaggle/input/facial-emotion-recognition/images/2/Anger.jpg\n",
      "/kaggle/input/facial-emotion-recognition/images/2/Sad.jpg\n",
      "/kaggle/input/facial-emotion-recognition/images/2/Surprised.jpg\n",
      "/kaggle/input/facial-emotion-recognition/images/2/Neutral.jpg\n",
      "/kaggle/input/facial-emotion-recognition/images/2/Happy.jpg\n",
      "/kaggle/input/facial-emotion-recognition/images/2/Fear.jpg\n",
      "/kaggle/input/facial-emotion-recognition/images/2/Contempt.jpg\n",
      "/kaggle/input/facial-emotion-recognition/images/10/Disgust.jpg\n",
      "/kaggle/input/facial-emotion-recognition/images/10/Anger.jpg\n",
      "/kaggle/input/facial-emotion-recognition/images/10/Sad.jpg\n",
      "/kaggle/input/facial-emotion-recognition/images/10/Surprised.jpg\n",
      "/kaggle/input/facial-emotion-recognition/images/10/Neutral.jpg\n",
      "/kaggle/input/facial-emotion-recognition/images/10/Happy.jpg\n",
      "/kaggle/input/facial-emotion-recognition/images/10/Fear.jpg\n",
      "/kaggle/input/facial-emotion-recognition/images/10/Contempt.jpg\n",
      "/kaggle/input/facial-emotion-recognition/images/5/Disgust.jpg\n",
      "/kaggle/input/facial-emotion-recognition/images/5/Anger.jpg\n",
      "/kaggle/input/facial-emotion-recognition/images/5/Sad.jpg\n",
      "/kaggle/input/facial-emotion-recognition/images/5/Surprised.jpg\n",
      "/kaggle/input/facial-emotion-recognition/images/5/Neutral.jpg\n",
      "/kaggle/input/facial-emotion-recognition/images/5/Happy.jpg\n",
      "/kaggle/input/facial-emotion-recognition/images/5/Fear.jpg\n",
      "/kaggle/input/facial-emotion-recognition/images/5/Contempt.jpg\n",
      "/kaggle/input/facial-emotion-recognition/images/8/Disgust.jpg\n",
      "/kaggle/input/facial-emotion-recognition/images/8/Anger.jpg\n",
      "/kaggle/input/facial-emotion-recognition/images/8/Sad.jpg\n",
      "/kaggle/input/facial-emotion-recognition/images/8/Surprised.jpg\n",
      "/kaggle/input/facial-emotion-recognition/images/8/Neutral.jpg\n",
      "/kaggle/input/facial-emotion-recognition/images/8/Happy.jpg\n",
      "/kaggle/input/facial-emotion-recognition/images/8/Fear.jpg\n",
      "/kaggle/input/facial-emotion-recognition/images/8/Contempt.jpg\n",
      "/kaggle/input/facial-emotion-recognition/images/12/Disgust.jpg\n",
      "/kaggle/input/facial-emotion-recognition/images/12/Anger.jpg\n",
      "/kaggle/input/facial-emotion-recognition/images/12/Sad.jpg\n",
      "/kaggle/input/facial-emotion-recognition/images/12/Surprised.jpg\n",
      "/kaggle/input/facial-emotion-recognition/images/12/Neutral.jpg\n",
      "/kaggle/input/facial-emotion-recognition/images/12/Happy.jpg\n",
      "/kaggle/input/facial-emotion-recognition/images/12/Fear.jpg\n",
      "/kaggle/input/facial-emotion-recognition/images/12/Contempt.jpg\n",
      "/kaggle/input/facial-emotion-recognition/images/0/Disgust.jpg\n",
      "/kaggle/input/facial-emotion-recognition/images/0/Anger.jpg\n",
      "/kaggle/input/facial-emotion-recognition/images/0/Sad.jpg\n",
      "/kaggle/input/facial-emotion-recognition/images/0/Surprised.jpg\n",
      "/kaggle/input/facial-emotion-recognition/images/0/Neutral.jpg\n",
      "/kaggle/input/facial-emotion-recognition/images/0/Happy.jpg\n",
      "/kaggle/input/facial-emotion-recognition/images/0/Fear.jpg\n",
      "/kaggle/input/facial-emotion-recognition/images/0/Contempt.jpg\n",
      "/kaggle/input/facial-emotion-recognition/images/18/Disgust.jpg\n",
      "/kaggle/input/facial-emotion-recognition/images/18/Anger.jpg\n",
      "/kaggle/input/facial-emotion-recognition/images/18/Sad.jpg\n",
      "/kaggle/input/facial-emotion-recognition/images/18/Surprised.jpg\n",
      "/kaggle/input/facial-emotion-recognition/images/18/Neutral.jpg\n",
      "/kaggle/input/facial-emotion-recognition/images/18/Happy.jpg\n",
      "/kaggle/input/facial-emotion-recognition/images/18/Fear.jpg\n",
      "/kaggle/input/facial-emotion-recognition/images/18/Contempt.jpg\n",
      "/kaggle/input/facial-emotion-recognition/images/16/Disgust.jpg\n",
      "/kaggle/input/facial-emotion-recognition/images/16/Anger.jpg\n",
      "/kaggle/input/facial-emotion-recognition/images/16/Sad.jpg\n",
      "/kaggle/input/facial-emotion-recognition/images/16/Surprised.jpg\n",
      "/kaggle/input/facial-emotion-recognition/images/16/Neutral.jpg\n",
      "/kaggle/input/facial-emotion-recognition/images/16/Happy.jpg\n",
      "/kaggle/input/facial-emotion-recognition/images/16/Fear.jpg\n",
      "/kaggle/input/facial-emotion-recognition/images/16/Contempt.jpg\n",
      "/kaggle/input/facial-emotion-recognition/images/13/Disgust.jpg\n",
      "/kaggle/input/facial-emotion-recognition/images/13/Anger.jpg\n",
      "/kaggle/input/facial-emotion-recognition/images/13/Sad.jpg\n",
      "/kaggle/input/facial-emotion-recognition/images/13/Surprised.jpg\n",
      "/kaggle/input/facial-emotion-recognition/images/13/Neutral.jpg\n",
      "/kaggle/input/facial-emotion-recognition/images/13/Happy.jpg\n",
      "/kaggle/input/facial-emotion-recognition/images/13/Fear.jpg\n",
      "/kaggle/input/facial-emotion-recognition/images/13/Contempt.jpg\n",
      "/kaggle/input/facial-emotion-recognition/images/15/Disgust.jpg\n",
      "/kaggle/input/facial-emotion-recognition/images/15/Anger.jpg\n",
      "/kaggle/input/facial-emotion-recognition/images/15/Sad.jpg\n",
      "/kaggle/input/facial-emotion-recognition/images/15/Surprised.jpg\n",
      "/kaggle/input/facial-emotion-recognition/images/15/Neutral.jpg\n",
      "/kaggle/input/facial-emotion-recognition/images/15/Happy.jpg\n",
      "/kaggle/input/facial-emotion-recognition/images/15/Fear.jpg\n",
      "/kaggle/input/facial-emotion-recognition/images/15/Contempt.jpg\n",
      "/kaggle/input/facial-emotion-recognition/images/3/Disgust.jpg\n",
      "/kaggle/input/facial-emotion-recognition/images/3/Anger.jpg\n",
      "/kaggle/input/facial-emotion-recognition/images/3/Sad.jpg\n",
      "/kaggle/input/facial-emotion-recognition/images/3/Surprised.jpg\n",
      "/kaggle/input/facial-emotion-recognition/images/3/Neutral.jpg\n",
      "/kaggle/input/facial-emotion-recognition/images/3/Happy.jpg\n",
      "/kaggle/input/facial-emotion-recognition/images/3/Fear.jpg\n",
      "/kaggle/input/facial-emotion-recognition/images/3/Contempt.jpg\n",
      "/kaggle/input/facial-emotion-recognition/images/1/Disgust.jpg\n",
      "/kaggle/input/facial-emotion-recognition/images/1/Anger.jpg\n",
      "/kaggle/input/facial-emotion-recognition/images/1/Sad.jpg\n",
      "/kaggle/input/facial-emotion-recognition/images/1/Surprised.jpg\n",
      "/kaggle/input/facial-emotion-recognition/images/1/Neutral.jpg\n",
      "/kaggle/input/facial-emotion-recognition/images/1/Happy.jpg\n",
      "/kaggle/input/facial-emotion-recognition/images/1/Fear.jpg\n",
      "/kaggle/input/facial-emotion-recognition/images/1/Contempt.jpg\n",
      "/kaggle/input/facial-emotion-recognition/images/14/Disgust.jpg\n",
      "/kaggle/input/facial-emotion-recognition/images/14/Anger.jpg\n",
      "/kaggle/input/facial-emotion-recognition/images/14/Sad.jpg\n",
      "/kaggle/input/facial-emotion-recognition/images/14/Surprised.jpg\n",
      "/kaggle/input/facial-emotion-recognition/images/14/Neutral.jpg\n",
      "/kaggle/input/facial-emotion-recognition/images/14/Happy.jpg\n",
      "/kaggle/input/facial-emotion-recognition/images/14/Fear.jpg\n",
      "/kaggle/input/facial-emotion-recognition/images/14/Contempt.jpg\n",
      "/kaggle/input/facial-emotion-recognition/images/4/Disgust.jpg\n",
      "/kaggle/input/facial-emotion-recognition/images/4/Anger.jpg\n",
      "/kaggle/input/facial-emotion-recognition/images/4/Sad.jpg\n",
      "/kaggle/input/facial-emotion-recognition/images/4/Surprised.jpg\n",
      "/kaggle/input/facial-emotion-recognition/images/4/Neutral.jpg\n",
      "/kaggle/input/facial-emotion-recognition/images/4/Happy.jpg\n",
      "/kaggle/input/facial-emotion-recognition/images/4/Fear.jpg\n",
      "/kaggle/input/facial-emotion-recognition/images/4/Contempt.jpg\n",
      "/kaggle/input/facial-emotion-recognition/images/9/Disgust.jpg\n",
      "/kaggle/input/facial-emotion-recognition/images/9/Anger.jpg\n",
      "/kaggle/input/facial-emotion-recognition/images/9/Sad.jpg\n",
      "/kaggle/input/facial-emotion-recognition/images/9/Surprised.jpg\n",
      "/kaggle/input/facial-emotion-recognition/images/9/Neutral.jpg\n",
      "/kaggle/input/facial-emotion-recognition/images/9/Happy.jpg\n",
      "/kaggle/input/facial-emotion-recognition/images/9/Fear.jpg\n",
      "/kaggle/input/facial-emotion-recognition/images/9/Contempt.jpg\n",
      "/kaggle/input/facial-emotion-recognition/images/6/Disgust.jpg\n",
      "/kaggle/input/facial-emotion-recognition/images/6/Anger.jpg\n",
      "/kaggle/input/facial-emotion-recognition/images/6/Sad.jpg\n",
      "/kaggle/input/facial-emotion-recognition/images/6/Surprised.jpg\n",
      "/kaggle/input/facial-emotion-recognition/images/6/Neutral.jpg\n",
      "/kaggle/input/facial-emotion-recognition/images/6/Happy.jpg\n",
      "/kaggle/input/facial-emotion-recognition/images/6/Fear.jpg\n",
      "/kaggle/input/facial-emotion-recognition/images/6/Contempt.jpg\n",
      "/kaggle/input/facial-emotion-recognition/images/11/Disgust.jpg\n",
      "/kaggle/input/facial-emotion-recognition/images/11/Anger.jpg\n",
      "/kaggle/input/facial-emotion-recognition/images/11/Sad.jpg\n",
      "/kaggle/input/facial-emotion-recognition/images/11/Surprised.jpg\n",
      "/kaggle/input/facial-emotion-recognition/images/11/Neutral.jpg\n",
      "/kaggle/input/facial-emotion-recognition/images/11/Happy.jpg\n",
      "/kaggle/input/facial-emotion-recognition/images/11/Fear.jpg\n",
      "/kaggle/input/facial-emotion-recognition/images/11/Contempt.jpg\n"
     ]
    }
   ],
   "source": [
    "# This Python 3 environment comes with many helpful analytics libraries installed\n",
    "# It is defined by the kaggle/python Docker image: https://github.com/kaggle/docker-python\n",
    "# For example, here's several helpful packages to load\n",
    "\n",
    "import numpy as np # linear algebra\n",
    "import pandas as pd # data processing, CSV file I/O (e.g. pd.read_csv)\n",
    "\n",
    "# Input data files are available in the read-only \"../input/\" directory\n",
    "# For example, running this (by clicking run or pressing Shift+Enter) will list all files under the input directory\n",
    "\n",
    "import os\n",
    "for dirname, _, filenames in os.walk('/kaggle/input'):\n",
    "    for filename in filenames:\n",
    "        print(os.path.join(dirname, filename))\n",
    "\n",
    "# You can write up to 20GB to the current directory (/kaggle/working/) that gets preserved as output when you create a version using \"Save & Run All\" \n",
    "# You can also write temporary files to /kaggle/temp/, but they won't be saved outside of the current session"
   ]
  },
  {
   "cell_type": "code",
   "execution_count": 2,
   "id": "12ced7b2",
   "metadata": {
    "execution": {
     "iopub.execute_input": "2025-10-03T11:58:39.855938Z",
     "iopub.status.busy": "2025-10-03T11:58:39.855486Z",
     "iopub.status.idle": "2025-10-03T11:58:39.859582Z",
     "shell.execute_reply": "2025-10-03T11:58:39.858911Z"
    },
    "papermill": {
     "duration": 0.00952,
     "end_time": "2025-10-03T11:58:39.861007",
     "exception": false,
     "start_time": "2025-10-03T11:58:39.851487",
     "status": "completed"
    },
    "tags": []
   },
   "outputs": [],
   "source": [
    "import warnings\n",
    "warnings.filterwarnings(\"ignore\")"
   ]
  },
  {
   "cell_type": "code",
   "execution_count": 3,
   "id": "4c52026d",
   "metadata": {
    "execution": {
     "iopub.execute_input": "2025-10-03T11:58:39.869373Z",
     "iopub.status.busy": "2025-10-03T11:58:39.869100Z",
     "iopub.status.idle": "2025-10-03T11:59:01.306405Z",
     "shell.execute_reply": "2025-10-03T11:59:01.305305Z"
    },
    "papermill": {
     "duration": 21.443554,
     "end_time": "2025-10-03T11:59:01.308306",
     "exception": false,
     "start_time": "2025-10-03T11:58:39.864752",
     "status": "completed"
    },
    "tags": []
   },
   "outputs": [
    {
     "name": "stderr",
     "output_type": "stream",
     "text": [
      "2025-10-03 11:58:44.498391: E external/local_xla/xla/stream_executor/cuda/cuda_fft.cc:477] Unable to register cuFFT factory: Attempting to register factory for plugin cuFFT when one has already been registered\n",
      "WARNING: All log messages before absl::InitializeLog() is called are written to STDERR\n",
      "E0000 00:00:1759492724.839900      13 cuda_dnn.cc:8310] Unable to register cuDNN factory: Attempting to register factory for plugin cuDNN when one has already been registered\n",
      "E0000 00:00:1759492724.931039      13 cuda_blas.cc:1418] Unable to register cuBLAS factory: Attempting to register factory for plugin cuBLAS when one has already been registered\n"
     ]
    }
   ],
   "source": [
    "import os\n",
    "import pandas as pd\n",
    "import numpy as np\n",
    "import matplotlib.pyplot as plt\n",
    "from PIL import Image\n",
    "from sklearn.model_selection import train_test_split\n",
    "from sklearn.preprocessing import LabelEncoder\n",
    "import tensorflow as tf\n",
    "from tensorflow.keras import layers, models"
   ]
  },
  {
   "cell_type": "code",
   "execution_count": 4,
   "id": "bbee4186",
   "metadata": {
    "execution": {
     "iopub.execute_input": "2025-10-03T11:59:01.321046Z",
     "iopub.status.busy": "2025-10-03T11:59:01.319634Z",
     "iopub.status.idle": "2025-10-03T11:59:01.368047Z",
     "shell.execute_reply": "2025-10-03T11:59:01.366943Z"
    },
    "papermill": {
     "duration": 0.056685,
     "end_time": "2025-10-03T11:59:01.369446",
     "exception": false,
     "start_time": "2025-10-03T11:59:01.312761",
     "status": "completed"
    },
    "tags": []
   },
   "outputs": [
    {
     "data": {
      "text/html": [
       "<div>\n",
       "<style scoped>\n",
       "    .dataframe tbody tr th:only-of-type {\n",
       "        vertical-align: middle;\n",
       "    }\n",
       "\n",
       "    .dataframe tbody tr th {\n",
       "        vertical-align: top;\n",
       "    }\n",
       "\n",
       "    .dataframe thead th {\n",
       "        text-align: right;\n",
       "    }\n",
       "</style>\n",
       "<table border=\"1\" class=\"dataframe\">\n",
       "  <thead>\n",
       "    <tr style=\"text-align: right;\">\n",
       "      <th></th>\n",
       "      <th>set_id</th>\n",
       "      <th>gender</th>\n",
       "      <th>age</th>\n",
       "      <th>country</th>\n",
       "    </tr>\n",
       "  </thead>\n",
       "  <tbody>\n",
       "    <tr>\n",
       "      <th>0</th>\n",
       "      <td>0</td>\n",
       "      <td>FEMALE</td>\n",
       "      <td>36</td>\n",
       "      <td>RU</td>\n",
       "    </tr>\n",
       "    <tr>\n",
       "      <th>1</th>\n",
       "      <td>1</td>\n",
       "      <td>FEMALE</td>\n",
       "      <td>37</td>\n",
       "      <td>RU</td>\n",
       "    </tr>\n",
       "    <tr>\n",
       "      <th>2</th>\n",
       "      <td>2</td>\n",
       "      <td>FEMALE</td>\n",
       "      <td>36</td>\n",
       "      <td>RU</td>\n",
       "    </tr>\n",
       "    <tr>\n",
       "      <th>3</th>\n",
       "      <td>3</td>\n",
       "      <td>MALE</td>\n",
       "      <td>29</td>\n",
       "      <td>RU</td>\n",
       "    </tr>\n",
       "    <tr>\n",
       "      <th>4</th>\n",
       "      <td>4</td>\n",
       "      <td>FEMALE</td>\n",
       "      <td>43</td>\n",
       "      <td>RU</td>\n",
       "    </tr>\n",
       "  </tbody>\n",
       "</table>\n",
       "</div>"
      ],
      "text/plain": [
       "   set_id  gender  age country\n",
       "0       0  FEMALE   36      RU\n",
       "1       1  FEMALE   37      RU\n",
       "2       2  FEMALE   36      RU\n",
       "3       3    MALE   29      RU\n",
       "4       4  FEMALE   43      RU"
      ]
     },
     "execution_count": 4,
     "metadata": {},
     "output_type": "execute_result"
    }
   ],
   "source": [
    "df = pd.read_csv('/kaggle/input/facial-emotion-recognition/emotions.csv')\n",
    "df.head()"
   ]
  },
  {
   "cell_type": "code",
   "execution_count": 5,
   "id": "32f94a24",
   "metadata": {
    "execution": {
     "iopub.execute_input": "2025-10-03T11:59:01.377819Z",
     "iopub.status.busy": "2025-10-03T11:59:01.377499Z",
     "iopub.status.idle": "2025-10-03T11:59:01.384806Z",
     "shell.execute_reply": "2025-10-03T11:59:01.383927Z"
    },
    "papermill": {
     "duration": 0.012849,
     "end_time": "2025-10-03T11:59:01.386131",
     "exception": false,
     "start_time": "2025-10-03T11:59:01.373282",
     "status": "completed"
    },
    "tags": []
   },
   "outputs": [
    {
     "data": {
      "text/plain": [
       "Index(['set_id', 'gender', 'age', 'country'], dtype='object')"
      ]
     },
     "execution_count": 5,
     "metadata": {},
     "output_type": "execute_result"
    }
   ],
   "source": [
    "df.columns"
   ]
  },
  {
   "cell_type": "code",
   "execution_count": 6,
   "id": "d6b47916",
   "metadata": {
    "execution": {
     "iopub.execute_input": "2025-10-03T11:59:01.394746Z",
     "iopub.status.busy": "2025-10-03T11:59:01.394380Z",
     "iopub.status.idle": "2025-10-03T11:59:27.280947Z",
     "shell.execute_reply": "2025-10-03T11:59:27.279980Z"
    },
    "papermill": {
     "duration": 25.892876,
     "end_time": "2025-10-03T11:59:27.282681",
     "exception": false,
     "start_time": "2025-10-03T11:59:01.389805",
     "status": "completed"
    },
    "tags": []
   },
   "outputs": [],
   "source": [
    "# Set the image base path\n",
    "img_base_path = '/kaggle/input/facial-emotion-recognition/images'\n",
    "\n",
    "# Load images and extract labels from subfolder names (e.g., Anger.jpg inside folder 0 means label = 'Anger')\n",
    "images, labels = [], []\n",
    "\n",
    "for i, row in df.iterrows():\n",
    "    folder_path = os.path.join(img_base_path, str(i))\n",
    "    if os.path.isdir(folder_path):\n",
    "        for file in os.listdir(folder_path):\n",
    "            if file.endswith('.jpg'):\n",
    "                label = file.replace('.jpg', '')  # Get emotion label from filename\n",
    "                path = os.path.join(folder_path, file)\n",
    "                img = Image.open(path).resize((48, 48)).convert('L')  # Convert to grayscale\n",
    "                images.append(np.array(img))\n",
    "                labels.append(label)"
   ]
  },
  {
   "cell_type": "code",
   "execution_count": 7,
   "id": "13284504",
   "metadata": {
    "execution": {
     "iopub.execute_input": "2025-10-03T11:59:27.291620Z",
     "iopub.status.busy": "2025-10-03T11:59:27.291338Z",
     "iopub.status.idle": "2025-10-03T11:59:27.301723Z",
     "shell.execute_reply": "2025-10-03T11:59:27.300717Z"
    },
    "papermill": {
     "duration": 0.016798,
     "end_time": "2025-10-03T11:59:27.303361",
     "exception": false,
     "start_time": "2025-10-03T11:59:27.286563",
     "status": "completed"
    },
    "tags": []
   },
   "outputs": [],
   "source": [
    "# Convert image list to NumPy array and normalize\n",
    "X = np.array(images) / 255.0\n",
    "X = X.reshape(-1, 48, 48, 1)"
   ]
  },
  {
   "cell_type": "code",
   "execution_count": 8,
   "id": "3edd5f3b",
   "metadata": {
    "execution": {
     "iopub.execute_input": "2025-10-03T11:59:27.311502Z",
     "iopub.status.busy": "2025-10-03T11:59:27.311204Z",
     "iopub.status.idle": "2025-10-03T11:59:27.316226Z",
     "shell.execute_reply": "2025-10-03T11:59:27.315466Z"
    },
    "papermill": {
     "duration": 0.010382,
     "end_time": "2025-10-03T11:59:27.317406",
     "exception": false,
     "start_time": "2025-10-03T11:59:27.307024",
     "status": "completed"
    },
    "tags": []
   },
   "outputs": [],
   "source": [
    "# Encode labels to numbers, then to one-hot vectors\n",
    "le = LabelEncoder()\n",
    "y = le.fit_transform(labels)\n",
    "y = tf.keras.utils.to_categorical(y)"
   ]
  },
  {
   "cell_type": "code",
   "execution_count": 9,
   "id": "d5b539ed",
   "metadata": {
    "execution": {
     "iopub.execute_input": "2025-10-03T11:59:27.325786Z",
     "iopub.status.busy": "2025-10-03T11:59:27.325470Z",
     "iopub.status.idle": "2025-10-03T11:59:27.776283Z",
     "shell.execute_reply": "2025-10-03T11:59:27.775474Z"
    },
    "papermill": {
     "duration": 0.456943,
     "end_time": "2025-10-03T11:59:27.778021",
     "exception": false,
     "start_time": "2025-10-03T11:59:27.321078",
     "status": "completed"
    },
    "tags": []
   },
   "outputs": [
    {
     "data": {
      "image/png": "[encoded data removed]",
      "text/plain": [
       "<Figure size 640x480 with 6 Axes>"
      ]
     },
     "metadata": {},
     "output_type": "display_data"
    }
   ],
   "source": [
    "for i in range(6):\n",
    "    plt.subplot(2, 3, i+1)\n",
    "    plt.imshow(X[i].reshape(48, 48), cmap='gray')\n",
    "    plt.title(le.inverse_transform([np.argmax(y[i])])[0])\n",
    "    plt.axis('off')\n",
    "plt.tight_layout()\n",
    "plt.show()"
   ]
  },
  {
   "cell_type": "code",
   "execution_count": 10,
   "id": "09b4ffb9",
   "metadata": {
    "execution": {
     "iopub.execute_input": "2025-10-03T11:59:27.787455Z",
     "iopub.status.busy": "2025-10-03T11:59:27.787200Z",
     "iopub.status.idle": "2025-10-03T11:59:27.793383Z",
     "shell.execute_reply": "2025-10-03T11:59:27.792696Z"
    },
    "papermill": {
     "duration": 0.01223,
     "end_time": "2025-10-03T11:59:27.794625",
     "exception": false,
     "start_time": "2025-10-03T11:59:27.782395",
     "status": "completed"
    },
    "tags": []
   },
   "outputs": [],
   "source": [
    "X_train, X_test, y_train, y_test = train_test_split(X, y, test_size=0.2, random_state=42)"
   ]
  },
  {
   "cell_type": "code",
   "execution_count": 11,
   "id": "50ce6dc3",
   "metadata": {
    "execution": {
     "iopub.execute_input": "2025-10-03T11:59:27.805052Z",
     "iopub.status.busy": "2025-10-03T11:59:27.804751Z",
     "iopub.status.idle": "2025-10-03T11:59:27.929001Z",
     "shell.execute_reply": "2025-10-03T11:59:27.928285Z"
    },
    "papermill": {
     "duration": 0.130483,
     "end_time": "2025-10-03T11:59:27.930328",
     "exception": false,
     "start_time": "2025-10-03T11:59:27.799845",
     "status": "completed"
    },
    "tags": []
   },
   "outputs": [
    {
     "name": "stderr",
     "output_type": "stream",
     "text": [
      "2025-10-03 11:59:27.818727: E external/local_xla/xla/stream_executor/cuda/cuda_driver.cc:152] failed call to cuInit: INTERNAL: CUDA error: Failed call to cuInit: UNKNOWN ERROR (303)\n"
     ]
    },
    {
     "data": {
      "text/html": [
       "<pre style=\"white-space:pre;overflow-x:auto;line-height:normal;font-family:Menlo,'DejaVu Sans Mono',consolas,'Courier New',monospace\"><span style=\"font-weight: bold\">Model: \"sequential\"</span>\n",
       "</pre>\n"
      ],
      "text/plain": [
       "\u001b[1mModel: \"sequential\"\u001b[0m\n"
      ]
     },
     "metadata": {},
     "output_type": "display_data"
    },
    {
     "data": {
      "text/html": [
       "<pre style=\"white-space:pre;overflow-x:auto;line-height:normal;font-family:Menlo,'DejaVu Sans Mono',consolas,'Courier New',monospace\">┏━━━━━━━━━━━━━━━━━━━━━━━━━━━━━━━━━┳━━━━━━━━━━━━━━━━━━━━━━━━┳━━━━━━━━━━━━━━━┓\n",
       "┃<span style=\"font-weight: bold\"> Layer (type)                    </span>┃<span style=\"font-weight: bold\"> Output Shape           </span>┃<span style=\"font-weight: bold\">       Param # </span>┃\n",
       "┡━━━━━━━━━━━━━━━━━━━━━━━━━━━━━━━━━╇━━━━━━━━━━━━━━━━━━━━━━━━╇━━━━━━━━━━━━━━━┩\n",
       "│ conv2d (<span style=\"color: #0087ff; text-decoration-color: #0087ff\">Conv2D</span>)                 │ (<span style=\"color: #00d7ff; text-decoration-color: #00d7ff\">None</span>, <span style=\"color: #00af00; text-decoration-color: #00af00\">46</span>, <span style=\"color: #00af00; text-decoration-color: #00af00\">46</span>, <span style=\"color: #00af00; text-decoration-color: #00af00\">32</span>)     │           <span style=\"color: #00af00; text-decoration-color: #00af00\">320</span> │\n",
       "├─────────────────────────────────┼────────────────────────┼───────────────┤\n",
       "│ max_pooling2d (<span style=\"color: #0087ff; text-decoration-color: #0087ff\">MaxPooling2D</span>)    │ (<span style=\"color: #00d7ff; text-decoration-color: #00d7ff\">None</span>, <span style=\"color: #00af00; text-decoration-color: #00af00\">23</span>, <span style=\"color: #00af00; text-decoration-color: #00af00\">23</span>, <span style=\"color: #00af00; text-decoration-color: #00af00\">32</span>)     │             <span style=\"color: #00af00; text-decoration-color: #00af00\">0</span> │\n",
       "├─────────────────────────────────┼────────────────────────┼───────────────┤\n",
       "│ conv2d_1 (<span style=\"color: #0087ff; text-decoration-color: #0087ff\">Conv2D</span>)               │ (<span style=\"color: #00d7ff; text-decoration-color: #00d7ff\">None</span>, <span style=\"color: #00af00; text-decoration-color: #00af00\">21</span>, <span style=\"color: #00af00; text-decoration-color: #00af00\">21</span>, <span style=\"color: #00af00; text-decoration-color: #00af00\">64</span>)     │        <span style=\"color: #00af00; text-decoration-color: #00af00\">18,496</span> │\n",
       "├─────────────────────────────────┼────────────────────────┼───────────────┤\n",
       "│ max_pooling2d_1 (<span style=\"color: #0087ff; text-decoration-color: #0087ff\">MaxPooling2D</span>)  │ (<span style=\"color: #00d7ff; text-decoration-color: #00d7ff\">None</span>, <span style=\"color: #00af00; text-decoration-color: #00af00\">10</span>, <span style=\"color: #00af00; text-decoration-color: #00af00\">10</span>, <span style=\"color: #00af00; text-decoration-color: #00af00\">64</span>)     │             <span style=\"color: #00af00; text-decoration-color: #00af00\">0</span> │\n",
       "├─────────────────────────────────┼────────────────────────┼───────────────┤\n",
       "│ flatten (<span style=\"color: #0087ff; text-decoration-color: #0087ff\">Flatten</span>)               │ (<span style=\"color: #00d7ff; text-decoration-color: #00d7ff\">None</span>, <span style=\"color: #00af00; text-decoration-color: #00af00\">6400</span>)           │             <span style=\"color: #00af00; text-decoration-color: #00af00\">0</span> │\n",
       "├─────────────────────────────────┼────────────────────────┼───────────────┤\n",
       "│ dense (<span style=\"color: #0087ff; text-decoration-color: #0087ff\">Dense</span>)                   │ (<span style=\"color: #00d7ff; text-decoration-color: #00d7ff\">None</span>, <span style=\"color: #00af00; text-decoration-color: #00af00\">64</span>)             │       <span style=\"color: #00af00; text-decoration-color: #00af00\">409,664</span> │\n",
       "├─────────────────────────────────┼────────────────────────┼───────────────┤\n",
       "│ dense_1 (<span style=\"color: #0087ff; text-decoration-color: #0087ff\">Dense</span>)                 │ (<span style=\"color: #00d7ff; text-decoration-color: #00d7ff\">None</span>, <span style=\"color: #00af00; text-decoration-color: #00af00\">8</span>)              │           <span style=\"color: #00af00; text-decoration-color: #00af00\">520</span> │\n",
       "└─────────────────────────────────┴────────────────────────┴───────────────┘\n",
       "</pre>\n"
      ],
      "text/plain": [
       "┏━━━━━━━━━━━━━━━━━━━━━━━━━━━━━━━━━┳━━━━━━━━━━━━━━━━━━━━━━━━┳━━━━━━━━━━━━━━━┓\n",
       "┃\u001b[1m \u001b[0m\u001b[1mLayer (type)                   \u001b[0m\u001b[1m \u001b[0m┃\u001b[1m \u001b[0m\u001b[1mOutput Shape          \u001b[0m\u001b[1m \u001b[0m┃\u001b[1m \u001b[0m\u001b[1m      Param #\u001b[0m\u001b[1m \u001b[0m┃\n",
       "┡━━━━━━━━━━━━━━━━━━━━━━━━━━━━━━━━━╇━━━━━━━━━━━━━━━━━━━━━━━━╇━━━━━━━━━━━━━━━┩\n",
       "│ conv2d (\u001b[38;5;33mConv2D\u001b[0m)                 │ (\u001b[38;5;45mNone\u001b[0m, \u001b[38;5;34m46\u001b[0m, \u001b[38;5;34m46\u001b[0m, \u001b[38;5;34m32\u001b[0m)     │           \u001b[38;5;34m320\u001b[0m │\n",
       "├─────────────────────────────────┼────────────────────────┼───────────────┤\n",
       "│ max_pooling2d (\u001b[38;5;33mMaxPooling2D\u001b[0m)    │ (\u001b[38;5;45mNone\u001b[0m, \u001b[38;5;34m23\u001b[0m, \u001b[38;5;34m23\u001b[0m, \u001b[38;5;34m32\u001b[0m)     │             \u001b[38;5;34m0\u001b[0m │\n",
       "├─────────────────────────────────┼────────────────────────┼───────────────┤\n",
       "│ conv2d_1 (\u001b[38;5;33mConv2D\u001b[0m)               │ (\u001b[38;5;45mNone\u001b[0m, \u001b[38;5;34m21\u001b[0m, \u001b[38;5;34m21\u001b[0m, \u001b[38;5;34m64\u001b[0m)     │        \u001b[38;5;34m18,496\u001b[0m │\n",
       "├─────────────────────────────────┼────────────────────────┼───────────────┤\n",
       "│ max_pooling2d_1 (\u001b[38;5;33mMaxPooling2D\u001b[0m)  │ (\u001b[38;5;45mNone\u001b[0m, \u001b[38;5;34m10\u001b[0m, \u001b[38;5;34m10\u001b[0m, \u001b[38;5;34m64\u001b[0m)     │             \u001b[38;5;34m0\u001b[0m │\n",
       "├─────────────────────────────────┼────────────────────────┼───────────────┤\n",
       "│ flatten (\u001b[38;5;33mFlatten\u001b[0m)               │ (\u001b[38;5;45mNone\u001b[0m, \u001b[38;5;34m6400\u001b[0m)           │             \u001b[38;5;34m0\u001b[0m │\n",
       "├─────────────────────────────────┼────────────────────────┼───────────────┤\n",
       "│ dense (\u001b[38;5;33mDense\u001b[0m)                   │ (\u001b[38;5;45mNone\u001b[0m, \u001b[38;5;34m64\u001b[0m)             │       \u001b[38;5;34m409,664\u001b[0m │\n",
       "├─────────────────────────────────┼────────────────────────┼───────────────┤\n",
       "│ dense_1 (\u001b[38;5;33mDense\u001b[0m)                 │ (\u001b[38;5;45mNone\u001b[0m, \u001b[38;5;34m8\u001b[0m)              │           \u001b[38;5;34m520\u001b[0m │\n",
       "└─────────────────────────────────┴────────────────────────┴───────────────┘\n"
      ]
     },
     "metadata": {},
     "output_type": "display_data"
    },
    {
     "data": {
      "text/html": [
       "<pre style=\"white-space:pre;overflow-x:auto;line-height:normal;font-family:Menlo,'DejaVu Sans Mono',consolas,'Courier New',monospace\"><span style=\"font-weight: bold\"> Total params: </span><span style=\"color: #00af00; text-decoration-color: #00af00\">429,000</span> (1.64 MB)\n",
       "</pre>\n"
      ],
      "text/plain": [
       "\u001b[1m Total params: \u001b[0m\u001b[38;5;34m429,000\u001b[0m (1.64 MB)\n"
      ]
     },
     "metadata": {},
     "output_type": "display_data"
    },
    {
     "data": {
      "text/html": [
       "<pre style=\"white-space:pre;overflow-x:auto;line-height:normal;font-family:Menlo,'DejaVu Sans Mono',consolas,'Courier New',monospace\"><span style=\"font-weight: bold\"> Trainable params: </span><span style=\"color: #00af00; text-decoration-color: #00af00\">429,000</span> (1.64 MB)\n",
       "</pre>\n"
      ],
      "text/plain": [
       "\u001b[1m Trainable params: \u001b[0m\u001b[38;5;34m429,000\u001b[0m (1.64 MB)\n"
      ]
     },
     "metadata": {},
     "output_type": "display_data"
    },
    {
     "data": {
      "text/html": [
       "<pre style=\"white-space:pre;overflow-x:auto;line-height:normal;font-family:Menlo,'DejaVu Sans Mono',consolas,'Courier New',monospace\"><span style=\"font-weight: bold\"> Non-trainable params: </span><span style=\"color: #00af00; text-decoration-color: #00af00\">0</span> (0.00 B)\n",
       "</pre>\n"
      ],
      "text/plain": [
       "\u001b[1m Non-trainable params: \u001b[0m\u001b[38;5;34m0\u001b[0m (0.00 B)\n"
      ]
     },
     "metadata": {},
     "output_type": "display_data"
    }
   ],
   "source": [
    "model = models.Sequential([\n",
    "    layers.Conv2D(32, (3,3), activation='relu', input_shape=(48,48,1)),\n",
    "    layers.MaxPooling2D(2,2),\n",
    "    layers.Conv2D(64, (3,3), activation='relu'),\n",
    "    layers.MaxPooling2D(2,2),\n",
    "    layers.Flatten(),\n",
    "    layers.Dense(64, activation='relu'),\n",
    "    layers.Dense(y.shape[1], activation='softmax')\n",
    "])\n",
    "\n",
    "model.compile(optimizer='adam', loss='categorical_crossentropy', metrics=['accuracy'])\n",
    "model.summary()"
   ]
  },
  {
   "cell_type": "code",
   "execution_count": 12,
   "id": "c2514fd1",
   "metadata": {
    "execution": {
     "iopub.execute_input": "2025-10-03T11:59:27.941542Z",
     "iopub.status.busy": "2025-10-03T11:59:27.941247Z",
     "iopub.status.idle": "2025-10-03T11:59:33.261150Z",
     "shell.execute_reply": "2025-10-03T11:59:33.260437Z"
    },
    "papermill": {
     "duration": 5.327009,
     "end_time": "2025-10-03T11:59:33.262626",
     "exception": false,
     "start_time": "2025-10-03T11:59:27.935617",
     "status": "completed"
    },
    "tags": []
   },
   "outputs": [
    {
     "name": "stdout",
     "output_type": "stream",
     "text": [
      "Epoch 1/10\n",
      "\u001b[1m4/4\u001b[0m \u001b[32m━━━━━━━━━━━━━━━━━━━━\u001b[0m\u001b[37m\u001b[0m \u001b[1m3s\u001b[0m 171ms/step - accuracy: 0.0937 - loss: 2.1283 - val_accuracy: 0.0645 - val_loss: 2.1079\n",
      "Epoch 2/10\n",
      "\u001b[1m4/4\u001b[0m \u001b[32m━━━━━━━━━━━━━━━━━━━━\u001b[0m\u001b[37m\u001b[0m \u001b[1m0s\u001b[0m 68ms/step - accuracy: 0.1187 - loss: 2.0815 - val_accuracy: 0.0645 - val_loss: 2.0847\n",
      "Epoch 3/10\n",
      "\u001b[1m4/4\u001b[0m \u001b[32m━━━━━━━━━━━━━━━━━━━━\u001b[0m\u001b[37m\u001b[0m \u001b[1m0s\u001b[0m 60ms/step - accuracy: 0.1416 - loss: 2.0741 - val_accuracy: 0.0645 - val_loss: 2.0859\n",
      "Epoch 4/10\n",
      "\u001b[1m4/4\u001b[0m \u001b[32m━━━━━━━━━━━━━━━━━━━━\u001b[0m\u001b[37m\u001b[0m \u001b[1m0s\u001b[0m 61ms/step - accuracy: 0.1536 - loss: 2.0741 - val_accuracy: 0.0645 - val_loss: 2.0886\n",
      "Epoch 5/10\n",
      "\u001b[1m4/4\u001b[0m \u001b[32m━━━━━━━━━━━━━━━━━━━━\u001b[0m\u001b[37m\u001b[0m \u001b[1m0s\u001b[0m 60ms/step - accuracy: 0.2821 - loss: 2.0688 - val_accuracy: 0.0323 - val_loss: 2.0944\n",
      "Epoch 6/10\n",
      "\u001b[1m4/4\u001b[0m \u001b[32m━━━━━━━━━━━━━━━━━━━━\u001b[0m\u001b[37m\u001b[0m \u001b[1m0s\u001b[0m 59ms/step - accuracy: 0.1869 - loss: 2.0638 - val_accuracy: 0.0645 - val_loss: 2.1021\n",
      "Epoch 7/10\n",
      "\u001b[1m4/4\u001b[0m \u001b[32m━━━━━━━━━━━━━━━━━━━━\u001b[0m\u001b[37m\u001b[0m \u001b[1m0s\u001b[0m 60ms/step - accuracy: 0.2563 - loss: 2.0512 - val_accuracy: 0.0000e+00 - val_loss: 2.1176\n",
      "Epoch 8/10\n",
      "\u001b[1m4/4\u001b[0m \u001b[32m━━━━━━━━━━━━━━━━━━━━\u001b[0m\u001b[37m\u001b[0m \u001b[1m0s\u001b[0m 59ms/step - accuracy: 0.2402 - loss: 2.0503 - val_accuracy: 0.0323 - val_loss: 2.1194\n",
      "Epoch 9/10\n",
      "\u001b[1m4/4\u001b[0m \u001b[32m━━━━━━━━━━━━━━━━━━━━\u001b[0m\u001b[37m\u001b[0m \u001b[1m0s\u001b[0m 59ms/step - accuracy: 0.2756 - loss: 2.0275 - val_accuracy: 0.0323 - val_loss: 2.1468\n",
      "Epoch 10/10\n",
      "\u001b[1m4/4\u001b[0m \u001b[32m━━━━━━━━━━━━━━━━━━━━\u001b[0m\u001b[37m\u001b[0m \u001b[1m0s\u001b[0m 60ms/step - accuracy: 0.2621 - loss: 2.0108 - val_accuracy: 0.0000e+00 - val_loss: 2.1702\n"
     ]
    }
   ],
   "source": [
    "history = model.fit(X_train, y_train, epochs=10, validation_data=(X_test, y_test), verbose=1)"
   ]
  },
  {
   "cell_type": "code",
   "execution_count": 13,
   "id": "4ddd639a",
   "metadata": {
    "execution": {
     "iopub.execute_input": "2025-10-03T11:59:33.277990Z",
     "iopub.status.busy": "2025-10-03T11:59:33.277705Z",
     "iopub.status.idle": "2025-10-03T11:59:33.389244Z",
     "shell.execute_reply": "2025-10-03T11:59:33.388463Z"
    },
    "papermill": {
     "duration": 0.120571,
     "end_time": "2025-10-03T11:59:33.390560",
     "exception": false,
     "start_time": "2025-10-03T11:59:33.269989",
     "status": "completed"
    },
    "tags": []
   },
   "outputs": [
    {
     "name": "stdout",
     "output_type": "stream",
     "text": [
      "\u001b[1m1/1\u001b[0m \u001b[32m━━━━━━━━━━━━━━━━━━━━\u001b[0m\u001b[37m\u001b[0m \u001b[1m0s\u001b[0m 49ms/step - accuracy: 0.0000e+00 - loss: 2.1702\n",
      "Test Accuracy: 0.0 %\n"
     ]
    }
   ],
   "source": [
    "test_loss, test_acc = model.evaluate(X_test, y_test)\n",
    "print(\"Test Accuracy:\", round(test_acc * 100, 2), \"%\")"
   ]
  },
  {
   "cell_type": "code",
   "execution_count": 14,
   "id": "1e4576e0",
   "metadata": {
    "execution": {
     "iopub.execute_input": "2025-10-03T11:59:33.405755Z",
     "iopub.status.busy": "2025-10-03T11:59:33.405428Z",
     "iopub.status.idle": "2025-10-03T11:59:33.595475Z",
     "shell.execute_reply": "2025-10-03T11:59:33.594711Z"
    },
    "papermill": {
     "duration": 0.199124,
     "end_time": "2025-10-03T11:59:33.596959",
     "exception": false,
     "start_time": "2025-10-03T11:59:33.397835",
     "status": "completed"
    },
    "tags": []
   },
   "outputs": [
    {
     "data": {
      "image/png": "[encoded data removed]",
      "text/plain": [
       "<Figure size 640x480 with 1 Axes>"
      ]
     },
     "metadata": {},
     "output_type": "display_data"
    }
   ],
   "source": [
    "plt.plot(history.history['accuracy'], label='train_acc')\n",
    "plt.plot(history.history['val_accuracy'], label='val_acc')\n",
    "plt.title('Model Accuracy')\n",
    "plt.xlabel('Epoch')\n",
    "plt.ylabel('Accuracy')\n",
    "plt.legend()\n",
    "plt.show()"
   ]
  },
  {
   "cell_type": "code",
   "execution_count": 15,
   "id": "1400287a",
   "metadata": {
    "execution": {
     "iopub.execute_input": "2025-10-03T11:59:33.613423Z",
     "iopub.status.busy": "2025-10-03T11:59:33.613164Z",
     "iopub.status.idle": "2025-10-03T11:59:33.825776Z",
     "shell.execute_reply": "2025-10-03T11:59:33.824988Z"
    },
    "papermill": {
     "duration": 0.222414,
     "end_time": "2025-10-03T11:59:33.827329",
     "exception": false,
     "start_time": "2025-10-03T11:59:33.604915",
     "status": "completed"
    },
    "tags": []
   },
   "outputs": [
    {
     "data": {
      "image/png": "[encoded data removed]",
      "text/plain": [
       "<Figure size 640x480 with 1 Axes>"
      ]
     },
     "metadata": {},
     "output_type": "display_data"
    }
   ],
   "source": [
    "plt.plot(history.history['loss'], label='train_loss')\n",
    "plt.plot(history.history['val_loss'], label='val_loss')\n",
    "plt.title('Model Loss')\n",
    "plt.xlabel('Epoch')\n",
    "plt.ylabel('Loss')\n",
    "plt.legend()\n",
    "plt.show()"
   ]
  }
 ],
 "metadata": {
  "kaggle": {
   "accelerator": "none",
   "dataSources": [
    {
     "datasetId": 3525344,
     "sourceId": 6232032,
     "sourceType": "datasetVersion"
    }
   ],
   "dockerImageVersionId": 31089,
   "isGpuEnabled": false,
   "isInternetEnabled": true,
   "language": "python",
   "sourceType": "notebook"
  },
  "kernelspec": {
   "display_name": "Python 3",
   "language": "python",
   "name": "python3"
  },
  "language_info": {
   "codemirror_mode": {
    "name": "ipython",
    "version": 3
   },
   "file_extension": ".py",
   "mimetype": "text/x-python",
   "name": "python",
   "nbconvert_exporter": "python",
   "pygments_lexer": "ipython3",
   "version": "3.11.13"
  },
  "papermill": {
   "default_parameters": {},
   "duration": 64.751695,
   "end_time": "2025-10-03T11:59:36.511400",
   "environment_variables": {},
   "exception": null,
   "input_path": "__notebook__.ipynb",
   "output_path": "__notebook__.ipynb",
   "parameters": {},
   "start_time": "2025-10-03T11:58:31.759705",
   "version": "2.6.0"
  }
 },
 "nbformat": 4,
 "nbformat_minor": 5
}
