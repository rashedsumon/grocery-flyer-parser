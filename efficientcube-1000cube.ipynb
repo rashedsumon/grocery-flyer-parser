{
 "cells": [
  {
   "cell_type": "code",
   "execution_count": 1,
   "id": "a0c37ff4",
   "metadata": {
    "_cell_guid": "b1076dfc-b9ad-4769-8c92-a6c4dae69d19",
    "_uuid": "8f2839f25d086af736a60e9eeb907d3b93b6e0e5",
    "collapsed": true,
    "execution": {
     "iopub.execute_input": "2025-10-03T12:40:44.595076Z",
     "iopub.status.busy": "2025-10-03T12:40:44.594376Z",
     "iopub.status.idle": "2025-10-03T12:40:46.963561Z",
     "shell.execute_reply": "2025-10-03T12:40:46.962261Z"
    },
    "jupyter": {
     "outputs_hidden": true
    },
    "papermill": {
     "duration": 2.376364,
     "end_time": "2025-10-03T12:40:46.965240",
     "exception": false,
     "start_time": "2025-10-03T12:40:44.588876",
     "status": "completed"
    },
    "tags": []
   },
   "outputs": [
    {
     "name": "stdout",
     "output_type": "stream",
     "text": [
      "/kaggle/input/efficientcube-1000cube/train_cube3_qtm_MLP2RB_04M_1735350897.csv\n",
      "/kaggle/input/efficientcube-1000cube/test_cube3_qtm_MLP2RB_04M_1729775893_e08192_B16777216_tests_data_0_0069.json\n",
      "/kaggle/input/efficientcube-1000cube/test_cube3_qtm_MLP2RB_04M_1729776568_e08192_B16777216_tests_data_0_0069.json\n",
      "/kaggle/input/efficientcube-1000cube/2098_1024_1024_1024.xlsx\n",
      "/kaggle/input/efficientcube-1000cube/test_cube3_qtm_MLP2RB_04M_1729776388_e08192_B16777216_tests_data_0_0069.json\n",
      "/kaggle/input/efficientcube-1000cube/tqdm.txt\n",
      "/kaggle/input/efficientcube-1000cube/test_cube3_qtm_MLP2RB_04M_1729762141_e08192_B262144_tests-data_0_1000_half.json\n",
      "/kaggle/input/efficientcube-1000cube/test_cube3_qtm_MLP2RB_04M_1729762141_e08192_B262144_tests_data_0_1000.json\n",
      "/kaggle/input/efficientcube-1000cube/result_ours.pt\n",
      "/kaggle/input/efficientcube-1000cube/logname_cube.txt\n",
      "/kaggle/input/efficientcube-1000cube/cuda.txt\n",
      "/kaggle/input/efficientcube-1000cube/test_cube3_qtm_MLP2RB_04M_1729776146_e08192_B16777216_tests_data_0_0069.json\n",
      "/kaggle/input/efficientcube-1000cube/test_cube3_qtm_MLP2RB_04M_1729775349_e08192_B16777216_tests_data_0_0069.json\n",
      "/kaggle/input/efficientcube-1000cube/train_cube3_qtm_MLP2RB_04M_1735378399.csv\n"
     ]
    }
   ],
   "source": [
    "# This Python 3 environment comes with many helpful analytics libraries installed\n",
    "# It is defined by the kaggle/python Docker image: https://github.com/kaggle/docker-python\n",
    "# For example, here's several helpful packages to load\n",
    "\n",
    "import numpy as np # linear algebra\n",
    "import pandas as pd # data processing, CSV file I/O (e.g. pd.read_csv)\n",
    "\n",
    "# Input data files are available in the read-only \"../input/\" directory\n",
    "# For example, running this (by clicking run or pressing Shift+Enter) will list all files under the input directory\n",
    "\n",
    "import os\n",
    "for dirname, _, filenames in os.walk('/kaggle/input'):\n",
    "    for filename in filenames:\n",
    "        print(os.path.join(dirname, filename))\n",
    "\n",
    "# You can write up to 20GB to the current directory (/kaggle/working/) that gets preserved as output when you create a version using \"Save & Run All\" \n",
    "# You can also write temporary files to /kaggle/temp/, but they won't be saved outside of the current session"
   ]
  },
  {
   "cell_type": "code",
   "execution_count": 2,
   "id": "fb895c1d",
   "metadata": {
    "execution": {
     "iopub.execute_input": "2025-10-03T12:40:46.974127Z",
     "iopub.status.busy": "2025-10-03T12:40:46.973690Z",
     "iopub.status.idle": "2025-10-03T12:40:46.978369Z",
     "shell.execute_reply": "2025-10-03T12:40:46.977378Z"
    },
    "papermill": {
     "duration": 0.01073,
     "end_time": "2025-10-03T12:40:46.979950",
     "exception": false,
     "start_time": "2025-10-03T12:40:46.969220",
     "status": "completed"
    },
    "tags": []
   },
   "outputs": [],
   "source": [
    "import warnings\n",
    "warnings.filterwarnings(\"ignore\")"
   ]
  },
  {
   "cell_type": "code",
   "execution_count": 3,
   "id": "defe868c",
   "metadata": {
    "execution": {
     "iopub.execute_input": "2025-10-03T12:40:46.988668Z",
     "iopub.status.busy": "2025-10-03T12:40:46.988369Z",
     "iopub.status.idle": "2025-10-03T12:40:47.051747Z",
     "shell.execute_reply": "2025-10-03T12:40:47.050697Z"
    },
    "papermill": {
     "duration": 0.069685,
     "end_time": "2025-10-03T12:40:47.053425",
     "exception": false,
     "start_time": "2025-10-03T12:40:46.983740",
     "status": "completed"
    },
    "tags": []
   },
   "outputs": [
    {
     "data": {
      "text/html": [
       "<div>\n",
       "<style scoped>\n",
       "    .dataframe tbody tr th:only-of-type {\n",
       "        vertical-align: middle;\n",
       "    }\n",
       "\n",
       "    .dataframe tbody tr th {\n",
       "        vertical-align: top;\n",
       "    }\n",
       "\n",
       "    .dataframe thead th {\n",
       "        text-align: right;\n",
       "    }\n",
       "</style>\n",
       "<table border=\"1\" class=\"dataframe\">\n",
       "  <thead>\n",
       "    <tr style=\"text-align: right;\">\n",
       "      <th></th>\n",
       "      <th>epoch</th>\n",
       "      <th>train_loss</th>\n",
       "      <th>vertices_seen</th>\n",
       "      <th>data_gen_time</th>\n",
       "      <th>train_epoch_time</th>\n",
       "    </tr>\n",
       "  </thead>\n",
       "  <tbody>\n",
       "    <tr>\n",
       "      <th>0</th>\n",
       "      <td>1</td>\n",
       "      <td>24.608290</td>\n",
       "      <td>999986</td>\n",
       "      <td>0.116228</td>\n",
       "      <td>2.780205</td>\n",
       "    </tr>\n",
       "    <tr>\n",
       "      <th>1</th>\n",
       "      <td>2</td>\n",
       "      <td>13.568259</td>\n",
       "      <td>999986</td>\n",
       "      <td>0.137915</td>\n",
       "      <td>2.589823</td>\n",
       "    </tr>\n",
       "    <tr>\n",
       "      <th>2</th>\n",
       "      <td>3</td>\n",
       "      <td>13.101940</td>\n",
       "      <td>999986</td>\n",
       "      <td>0.126889</td>\n",
       "      <td>1.918276</td>\n",
       "    </tr>\n",
       "    <tr>\n",
       "      <th>3</th>\n",
       "      <td>4</td>\n",
       "      <td>12.841603</td>\n",
       "      <td>999986</td>\n",
       "      <td>0.138207</td>\n",
       "      <td>1.911882</td>\n",
       "    </tr>\n",
       "    <tr>\n",
       "      <th>4</th>\n",
       "      <td>5</td>\n",
       "      <td>12.723638</td>\n",
       "      <td>999986</td>\n",
       "      <td>0.132302</td>\n",
       "      <td>1.907782</td>\n",
       "    </tr>\n",
       "  </tbody>\n",
       "</table>\n",
       "</div>"
      ],
      "text/plain": [
       "   epoch  train_loss  vertices_seen  data_gen_time  train_epoch_time\n",
       "0      1   24.608290         999986       0.116228          2.780205\n",
       "1      2   13.568259         999986       0.137915          2.589823\n",
       "2      3   13.101940         999986       0.126889          1.918276\n",
       "3      4   12.841603         999986       0.138207          1.911882\n",
       "4      5   12.723638         999986       0.132302          1.907782"
      ]
     },
     "execution_count": 3,
     "metadata": {},
     "output_type": "execute_result"
    }
   ],
   "source": [
    "df = pd.read_csv('/kaggle/input/efficientcube-1000cube/train_cube3_qtm_MLP2RB_04M_1735350897.csv')\n",
    "df.head()"
   ]
  },
  {
   "cell_type": "code",
   "execution_count": 4,
   "id": "99f2be8d",
   "metadata": {
    "execution": {
     "iopub.execute_input": "2025-10-03T12:40:47.062523Z",
     "iopub.status.busy": "2025-10-03T12:40:47.061887Z",
     "iopub.status.idle": "2025-10-03T12:40:47.070875Z",
     "shell.execute_reply": "2025-10-03T12:40:47.069683Z"
    },
    "papermill": {
     "duration": 0.015509,
     "end_time": "2025-10-03T12:40:47.072836",
     "exception": false,
     "start_time": "2025-10-03T12:40:47.057327",
     "status": "completed"
    },
    "tags": []
   },
   "outputs": [
    {
     "data": {
      "text/plain": [
       "Index(['epoch', 'train_loss', 'vertices_seen', 'data_gen_time',\n",
       "       'train_epoch_time'],\n",
       "      dtype='object')"
      ]
     },
     "execution_count": 4,
     "metadata": {},
     "output_type": "execute_result"
    }
   ],
   "source": [
    "df.columns"
   ]
  },
  {
   "cell_type": "code",
   "execution_count": 5,
   "id": "d3c14bbe",
   "metadata": {
    "execution": {
     "iopub.execute_input": "2025-10-03T12:40:47.082343Z",
     "iopub.status.busy": "2025-10-03T12:40:47.082000Z",
     "iopub.status.idle": "2025-10-03T12:40:47.113092Z",
     "shell.execute_reply": "2025-10-03T12:40:47.111983Z"
    },
    "papermill": {
     "duration": 0.037854,
     "end_time": "2025-10-03T12:40:47.114916",
     "exception": false,
     "start_time": "2025-10-03T12:40:47.077062",
     "status": "completed"
    },
    "tags": []
   },
   "outputs": [
    {
     "name": "stdout",
     "output_type": "stream",
     "text": [
      "<class 'pandas.core.frame.DataFrame'>\n",
      "RangeIndex: 8192 entries, 0 to 8191\n",
      "Data columns (total 5 columns):\n",
      " #   Column            Non-Null Count  Dtype  \n",
      "---  ------            --------------  -----  \n",
      " 0   epoch             8192 non-null   int64  \n",
      " 1   train_loss        8192 non-null   float64\n",
      " 2   vertices_seen     8192 non-null   int64  \n",
      " 3   data_gen_time     8192 non-null   float64\n",
      " 4   train_epoch_time  8192 non-null   float64\n",
      "dtypes: float64(3), int64(2)\n",
      "memory usage: 320.1 KB\n"
     ]
    }
   ],
   "source": [
    "# Dataset info\n",
    "df.info()"
   ]
  },
  {
   "cell_type": "code",
   "execution_count": 6,
   "id": "8794e7f7",
   "metadata": {
    "execution": {
     "iopub.execute_input": "2025-10-03T12:40:47.124190Z",
     "iopub.status.busy": "2025-10-03T12:40:47.123877Z",
     "iopub.status.idle": "2025-10-03T12:40:47.131033Z",
     "shell.execute_reply": "2025-10-03T12:40:47.130015Z"
    },
    "papermill": {
     "duration": 0.013829,
     "end_time": "2025-10-03T12:40:47.132727",
     "exception": false,
     "start_time": "2025-10-03T12:40:47.118898",
     "status": "completed"
    },
    "tags": []
   },
   "outputs": [
    {
     "name": "stdout",
     "output_type": "stream",
     "text": [
      "epoch               0\n",
      "train_loss          0\n",
      "vertices_seen       0\n",
      "data_gen_time       0\n",
      "train_epoch_time    0\n",
      "dtype: int64\n"
     ]
    }
   ],
   "source": [
    "# Check for missing values\n",
    "print(df.isnull().sum())"
   ]
  },
  {
   "cell_type": "code",
   "execution_count": 7,
   "id": "5da6d390",
   "metadata": {
    "execution": {
     "iopub.execute_input": "2025-10-03T12:40:47.141891Z",
     "iopub.status.busy": "2025-10-03T12:40:47.141593Z",
     "iopub.status.idle": "2025-10-03T12:40:47.168812Z",
     "shell.execute_reply": "2025-10-03T12:40:47.167810Z"
    },
    "papermill": {
     "duration": 0.033709,
     "end_time": "2025-10-03T12:40:47.170484",
     "exception": false,
     "start_time": "2025-10-03T12:40:47.136775",
     "status": "completed"
    },
    "tags": []
   },
   "outputs": [
    {
     "data": {
      "text/html": [
       "<div>\n",
       "<style scoped>\n",
       "    .dataframe tbody tr th:only-of-type {\n",
       "        vertical-align: middle;\n",
       "    }\n",
       "\n",
       "    .dataframe tbody tr th {\n",
       "        vertical-align: top;\n",
       "    }\n",
       "\n",
       "    .dataframe thead th {\n",
       "        text-align: right;\n",
       "    }\n",
       "</style>\n",
       "<table border=\"1\" class=\"dataframe\">\n",
       "  <thead>\n",
       "    <tr style=\"text-align: right;\">\n",
       "      <th></th>\n",
       "      <th>epoch</th>\n",
       "      <th>train_loss</th>\n",
       "      <th>vertices_seen</th>\n",
       "      <th>data_gen_time</th>\n",
       "      <th>train_epoch_time</th>\n",
       "    </tr>\n",
       "  </thead>\n",
       "  <tbody>\n",
       "    <tr>\n",
       "      <th>count</th>\n",
       "      <td>8192.000000</td>\n",
       "      <td>8192.000000</td>\n",
       "      <td>8192.0</td>\n",
       "      <td>8192.000000</td>\n",
       "      <td>8192.000000</td>\n",
       "    </tr>\n",
       "    <tr>\n",
       "      <th>mean</th>\n",
       "      <td>4096.500000</td>\n",
       "      <td>8.597411</td>\n",
       "      <td>999986.0</td>\n",
       "      <td>0.112326</td>\n",
       "      <td>1.894516</td>\n",
       "    </tr>\n",
       "    <tr>\n",
       "      <th>std</th>\n",
       "      <td>2364.971036</td>\n",
       "      <td>0.467657</td>\n",
       "      <td>0.0</td>\n",
       "      <td>0.003278</td>\n",
       "      <td>0.012924</td>\n",
       "    </tr>\n",
       "    <tr>\n",
       "      <th>min</th>\n",
       "      <td>1.000000</td>\n",
       "      <td>8.252591</td>\n",
       "      <td>999986.0</td>\n",
       "      <td>0.104673</td>\n",
       "      <td>1.889289</td>\n",
       "    </tr>\n",
       "    <tr>\n",
       "      <th>25%</th>\n",
       "      <td>2048.750000</td>\n",
       "      <td>8.350362</td>\n",
       "      <td>999986.0</td>\n",
       "      <td>0.110390</td>\n",
       "      <td>1.893142</td>\n",
       "    </tr>\n",
       "    <tr>\n",
       "      <th>50%</th>\n",
       "      <td>4096.500000</td>\n",
       "      <td>8.454557</td>\n",
       "      <td>999986.0</td>\n",
       "      <td>0.111410</td>\n",
       "      <td>1.893718</td>\n",
       "    </tr>\n",
       "    <tr>\n",
       "      <th>75%</th>\n",
       "      <td>6144.250000</td>\n",
       "      <td>8.659951</td>\n",
       "      <td>999986.0</td>\n",
       "      <td>0.113254</td>\n",
       "      <td>1.894656</td>\n",
       "    </tr>\n",
       "    <tr>\n",
       "      <th>max</th>\n",
       "      <td>8192.000000</td>\n",
       "      <td>24.608290</td>\n",
       "      <td>999986.0</td>\n",
       "      <td>0.147657</td>\n",
       "      <td>2.780205</td>\n",
       "    </tr>\n",
       "  </tbody>\n",
       "</table>\n",
       "</div>"
      ],
      "text/plain": [
       "             epoch   train_loss  vertices_seen  data_gen_time  \\\n",
       "count  8192.000000  8192.000000         8192.0    8192.000000   \n",
       "mean   4096.500000     8.597411       999986.0       0.112326   \n",
       "std    2364.971036     0.467657            0.0       0.003278   \n",
       "min       1.000000     8.252591       999986.0       0.104673   \n",
       "25%    2048.750000     8.350362       999986.0       0.110390   \n",
       "50%    4096.500000     8.454557       999986.0       0.111410   \n",
       "75%    6144.250000     8.659951       999986.0       0.113254   \n",
       "max    8192.000000    24.608290       999986.0       0.147657   \n",
       "\n",
       "       train_epoch_time  \n",
       "count       8192.000000  \n",
       "mean           1.894516  \n",
       "std            0.012924  \n",
       "min            1.889289  \n",
       "25%            1.893142  \n",
       "50%            1.893718  \n",
       "75%            1.894656  \n",
       "max            2.780205  "
      ]
     },
     "execution_count": 7,
     "metadata": {},
     "output_type": "execute_result"
    }
   ],
   "source": [
    "# Basic statistics\n",
    "df.describe()"
   ]
  },
  {
   "cell_type": "code",
   "execution_count": 8,
   "id": "d76ae40f",
   "metadata": {
    "execution": {
     "iopub.execute_input": "2025-10-03T12:40:47.180052Z",
     "iopub.status.busy": "2025-10-03T12:40:47.179729Z",
     "iopub.status.idle": "2025-10-03T12:40:49.960677Z",
     "shell.execute_reply": "2025-10-03T12:40:49.959738Z"
    },
    "papermill": {
     "duration": 2.787978,
     "end_time": "2025-10-03T12:40:49.962663",
     "exception": false,
     "start_time": "2025-10-03T12:40:47.174685",
     "status": "completed"
    },
    "tags": []
   },
   "outputs": [
    {
     "data": {
      "image/png": "[encoded data removed]",
      "text/plain": [
       "<Figure size 640x480 with 1 Axes>"
      ]
     },
     "metadata": {},
     "output_type": "display_data"
    }
   ],
   "source": [
    "import matplotlib.pyplot as plt\n",
    "import seaborn as sns\n",
    "\n",
    "# Plot train loss over epochs\n",
    "plt.plot(df['epoch'], df['train_loss'], color='blue', marker='o')\n",
    "plt.title(\"Train Loss over Epochs\")\n",
    "plt.xlabel(\"Epoch\")\n",
    "plt.ylabel(\"Train Loss\")\n",
    "plt.grid(True)\n",
    "plt.show()"
   ]
  },
  {
   "cell_type": "code",
   "execution_count": 9,
   "id": "148b3508",
   "metadata": {
    "execution": {
     "iopub.execute_input": "2025-10-03T12:40:49.973547Z",
     "iopub.status.busy": "2025-10-03T12:40:49.973081Z",
     "iopub.status.idle": "2025-10-03T12:40:50.257238Z",
     "shell.execute_reply": "2025-10-03T12:40:50.256210Z"
    },
    "papermill": {
     "duration": 0.291431,
     "end_time": "2025-10-03T12:40:50.258919",
     "exception": false,
     "start_time": "2025-10-03T12:40:49.967488",
     "status": "completed"
    },
    "tags": []
   },
   "outputs": [
    {
     "data": {
      "image/png": "[encoded data removed]",
      "text/plain": [
       "<Figure size 640x480 with 2 Axes>"
      ]
     },
     "metadata": {},
     "output_type": "display_data"
    }
   ],
   "source": [
    "# Correlation heatmap\n",
    "sns.heatmap(df.corr(), annot=True, cmap='viridis')\n",
    "plt.title(\"Feature Correlation Heatmap\")\n",
    "plt.show()"
   ]
  },
  {
   "cell_type": "code",
   "execution_count": 10,
   "id": "d428a06c",
   "metadata": {
    "execution": {
     "iopub.execute_input": "2025-10-03T12:40:50.270925Z",
     "iopub.status.busy": "2025-10-03T12:40:50.270636Z",
     "iopub.status.idle": "2025-10-03T12:40:50.643880Z",
     "shell.execute_reply": "2025-10-03T12:40:50.642788Z"
    },
    "papermill": {
     "duration": 0.381226,
     "end_time": "2025-10-03T12:40:50.645696",
     "exception": false,
     "start_time": "2025-10-03T12:40:50.264470",
     "status": "completed"
    },
    "tags": []
   },
   "outputs": [],
   "source": [
    "from sklearn.model_selection import train_test_split\n",
    "\n",
    "# Split features and target\n",
    "X = df.drop('train_loss', axis=1)\n",
    "y = df['train_loss']"
   ]
  },
  {
   "cell_type": "code",
   "execution_count": 11,
   "id": "91c4bbc6",
   "metadata": {
    "execution": {
     "iopub.execute_input": "2025-10-03T12:40:50.659224Z",
     "iopub.status.busy": "2025-10-03T12:40:50.658905Z",
     "iopub.status.idle": "2025-10-03T12:40:50.667842Z",
     "shell.execute_reply": "2025-10-03T12:40:50.666721Z"
    },
    "papermill": {
     "duration": 0.017907,
     "end_time": "2025-10-03T12:40:50.669509",
     "exception": false,
     "start_time": "2025-10-03T12:40:50.651602",
     "status": "completed"
    },
    "tags": []
   },
   "outputs": [],
   "source": [
    "# Split into training and testing sets (80% train, 20% test)\n",
    "X_train, X_test, y_train, y_test = train_test_split(X, y, test_size=0.2, random_state=42)"
   ]
  },
  {
   "cell_type": "code",
   "execution_count": 12,
   "id": "7ba2ba67",
   "metadata": {
    "execution": {
     "iopub.execute_input": "2025-10-03T12:40:50.682197Z",
     "iopub.status.busy": "2025-10-03T12:40:50.681400Z",
     "iopub.status.idle": "2025-10-03T12:40:53.820961Z",
     "shell.execute_reply": "2025-10-03T12:40:53.819948Z"
    },
    "papermill": {
     "duration": 3.147625,
     "end_time": "2025-10-03T12:40:53.822650",
     "exception": false,
     "start_time": "2025-10-03T12:40:50.675025",
     "status": "completed"
    },
    "tags": []
   },
   "outputs": [
    {
     "data": {
      "text/html": [
       "<style>#sk-container-id-1 {color: black;background-color: white;}#sk-container-id-1 pre{padding: 0;}#sk-container-id-1 div.sk-toggleable {background-color: white;}#sk-container-id-1 label.sk-toggleable__label {cursor: pointer;display: block;width: 100%;margin-bottom: 0;padding: 0.3em;box-sizing: border-box;text-align: center;}#sk-container-id-1 label.sk-toggleable__label-arrow:before {content: \"▸\";float: left;margin-right: 0.25em;color: #696969;}#sk-container-id-1 label.sk-toggleable__label-arrow:hover:before {color: black;}#sk-container-id-1 div.sk-estimator:hover label.sk-toggleable__label-arrow:before {color: black;}#sk-container-id-1 div.sk-toggleable__content {max-height: 0;max-width: 0;overflow: hidden;text-align: left;background-color: #f0f8ff;}#sk-container-id-1 div.sk-toggleable__content pre {margin: 0.2em;color: black;border-radius: 0.25em;background-color: #f0f8ff;}#sk-container-id-1 input.sk-toggleable__control:checked~div.sk-toggleable__content {max-height: 200px;max-width: 100%;overflow: auto;}#sk-container-id-1 input.sk-toggleable__control:checked~label.sk-toggleable__label-arrow:before {content: \"▾\";}#sk-container-id-1 div.sk-estimator input.sk-toggleable__control:checked~label.sk-toggleable__label {background-color: #d4ebff;}#sk-container-id-1 div.sk-label input.sk-toggleable__control:checked~label.sk-toggleable__label {background-color: #d4ebff;}#sk-container-id-1 input.sk-hidden--visually {border: 0;clip: rect(1px 1px 1px 1px);clip: rect(1px, 1px, 1px, 1px);height: 1px;margin: -1px;overflow: hidden;padding: 0;position: absolute;width: 1px;}#sk-container-id-1 div.sk-estimator {font-family: monospace;background-color: #f0f8ff;border: 1px dotted black;border-radius: 0.25em;box-sizing: border-box;margin-bottom: 0.5em;}#sk-container-id-1 div.sk-estimator:hover {background-color: #d4ebff;}#sk-container-id-1 div.sk-parallel-item::after {content: \"\";width: 100%;border-bottom: 1px solid gray;flex-grow: 1;}#sk-container-id-1 div.sk-label:hover label.sk-toggleable__label {background-color: #d4ebff;}#sk-container-id-1 div.sk-serial::before {content: \"\";position: absolute;border-left: 1px solid gray;box-sizing: border-box;top: 0;bottom: 0;left: 50%;z-index: 0;}#sk-container-id-1 div.sk-serial {display: flex;flex-direction: column;align-items: center;background-color: white;padding-right: 0.2em;padding-left: 0.2em;position: relative;}#sk-container-id-1 div.sk-item {position: relative;z-index: 1;}#sk-container-id-1 div.sk-parallel {display: flex;align-items: stretch;justify-content: center;background-color: white;position: relative;}#sk-container-id-1 div.sk-item::before, #sk-container-id-1 div.sk-parallel-item::before {content: \"\";position: absolute;border-left: 1px solid gray;box-sizing: border-box;top: 0;bottom: 0;left: 50%;z-index: -1;}#sk-container-id-1 div.sk-parallel-item {display: flex;flex-direction: column;z-index: 1;position: relative;background-color: white;}#sk-container-id-1 div.sk-parallel-item:first-child::after {align-self: flex-end;width: 50%;}#sk-container-id-1 div.sk-parallel-item:last-child::after {align-self: flex-start;width: 50%;}#sk-container-id-1 div.sk-parallel-item:only-child::after {width: 0;}#sk-container-id-1 div.sk-dashed-wrapped {border: 1px dashed gray;margin: 0 0.4em 0.5em 0.4em;box-sizing: border-box;padding-bottom: 0.4em;background-color: white;}#sk-container-id-1 div.sk-label label {font-family: monospace;font-weight: bold;display: inline-block;line-height: 1.2em;}#sk-container-id-1 div.sk-label-container {text-align: center;}#sk-container-id-1 div.sk-container {/* jupyter's `normalize.less` sets `[hidden] { display: none; }` but bootstrap.min.css set `[hidden] { display: none !important; }` so we also need the `!important` here to be able to override the default hidden behavior on the sphinx rendered scikit-learn.org. See: https://github.com/scikit-learn/scikit-learn/issues/21755 */display: inline-block !important;position: relative;}#sk-container-id-1 div.sk-text-repr-fallback {display: none;}</style><div id=\"sk-container-id-1\" class=\"sk-top-container\"><div class=\"sk-text-repr-fallback\"><pre>RandomForestRegressor(random_state=42)</pre><b>In a Jupyter environment, please rerun this cell to show the HTML representation or trust the notebook. <br />On GitHub, the HTML representation is unable to render, please try loading this page with nbviewer.org.</b></div><div class=\"sk-container\" hidden><div class=\"sk-item\"><div class=\"sk-estimator sk-toggleable\"><input class=\"sk-toggleable__control sk-hidden--visually\" id=\"sk-estimator-id-1\" type=\"checkbox\" checked><label for=\"sk-estimator-id-1\" class=\"sk-toggleable__label sk-toggleable__label-arrow\">RandomForestRegressor</label><div class=\"sk-toggleable__content\"><pre>RandomForestRegressor(random_state=42)</pre></div></div></div></div></div>"
      ],
      "text/plain": [
       "RandomForestRegressor(random_state=42)"
      ]
     },
     "execution_count": 12,
     "metadata": {},
     "output_type": "execute_result"
    }
   ],
   "source": [
    "from sklearn.ensemble import RandomForestRegressor\n",
    "\n",
    "# Create and train model\n",
    "model = RandomForestRegressor(n_estimators=100, random_state=42)\n",
    "model.fit(X_train, y_train)"
   ]
  },
  {
   "cell_type": "code",
   "execution_count": 13,
   "id": "23077198",
   "metadata": {
    "execution": {
     "iopub.execute_input": "2025-10-03T12:40:53.835387Z",
     "iopub.status.busy": "2025-10-03T12:40:53.835061Z",
     "iopub.status.idle": "2025-10-03T12:40:53.893791Z",
     "shell.execute_reply": "2025-10-03T12:40:53.892641Z"
    },
    "papermill": {
     "duration": 0.066852,
     "end_time": "2025-10-03T12:40:53.895404",
     "exception": false,
     "start_time": "2025-10-03T12:40:53.828552",
     "status": "completed"
    },
    "tags": []
   },
   "outputs": [
    {
     "name": "stdout",
     "output_type": "stream",
     "text": [
      "Mean Squared Error: 0.00019330299024252523\n",
      "R² Score: 0.9989580691312693\n"
     ]
    }
   ],
   "source": [
    "from sklearn.metrics import mean_squared_error, r2_score\n",
    "\n",
    "# Predict on test set\n",
    "y_pred = model.predict(X_test)\n",
    "\n",
    "# Evaluation metrics\n",
    "mse = mean_squared_error(y_test, y_pred)\n",
    "r2 = r2_score(y_test, y_pred)\n",
    "\n",
    "print(\"Mean Squared Error:\", mse)\n",
    "print(\"R² Score:\", r2)"
   ]
  },
  {
   "cell_type": "code",
   "execution_count": 14,
   "id": "1f9423cc",
   "metadata": {
    "execution": {
     "iopub.execute_input": "2025-10-03T12:40:53.908116Z",
     "iopub.status.busy": "2025-10-03T12:40:53.907812Z",
     "iopub.status.idle": "2025-10-03T12:40:54.158165Z",
     "shell.execute_reply": "2025-10-03T12:40:54.157107Z"
    },
    "papermill": {
     "duration": 0.258812,
     "end_time": "2025-10-03T12:40:54.160030",
     "exception": false,
     "start_time": "2025-10-03T12:40:53.901218",
     "status": "completed"
    },
    "tags": []
   },
   "outputs": [
    {
     "data": {
      "image/png": "[encoded data removed]",
      "text/plain": [
       "<Figure size 640x480 with 1 Axes>"
      ]
     },
     "metadata": {},
     "output_type": "display_data"
    }
   ],
   "source": [
    "# Plot actual vs predicted\n",
    "plt.scatter(y_test, y_pred, alpha=0.6, color='green')\n",
    "plt.plot([y.min(), y.max()], [y.min(), y.max()], 'r--')\n",
    "plt.xlabel('Actual Train Loss')\n",
    "plt.ylabel('Predicted Train Loss')\n",
    "plt.title('Actual vs Predicted Train Loss')\n",
    "plt.grid(True)\n",
    "plt.show()"
   ]
  }
 ],
 "metadata": {
  "kaggle": {
   "accelerator": "none",
   "dataSources": [
    {
     "datasetId": 6375716,
     "sourceId": 10629168,
     "sourceType": "datasetVersion"
    }
   ],
   "dockerImageVersionId": 31089,
   "isGpuEnabled": false,
   "isInternetEnabled": true,
   "language": "python",
   "sourceType": "notebook"
  },
  "kernelspec": {
   "display_name": "Python 3",
   "language": "python",
   "name": "python3"
  },
  "language_info": {
   "codemirror_mode": {
    "name": "ipython",
    "version": 3
   },
   "file_extension": ".py",
   "mimetype": "text/x-python",
   "name": "python",
   "nbconvert_exporter": "python",
   "pygments_lexer": "ipython3",
   "version": "3.11.13"
  },
  "papermill": {
   "default_parameters": {},
   "duration": 16.66354,
   "end_time": "2025-10-03T12:40:54.887407",
   "environment_variables": {},
   "exception": null,
   "input_path": "__notebook__.ipynb",
   "output_path": "__notebook__.ipynb",
   "parameters": {},
   "start_time": "2025-10-03T12:40:38.223867",
   "version": "2.6.0"
  }
 },
 "nbformat": 4,
 "nbformat_minor": 5
}
