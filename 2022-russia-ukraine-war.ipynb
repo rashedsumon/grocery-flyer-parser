{
 "cells": [
  {
   "cell_type": "code",
   "execution_count": 1,
   "id": "fdb05586",
   "metadata": {
    "_cell_guid": "b1076dfc-b9ad-4769-8c92-a6c4dae69d19",
    "_uuid": "8f2839f25d086af736a60e9eeb907d3b93b6e0e5",
    "execution": {
     "iopub.execute_input": "2025-10-03T17:08:48.895189Z",
     "iopub.status.busy": "2025-10-03T17:08:48.894805Z",
     "iopub.status.idle": "2025-10-03T17:08:50.957299Z",
     "shell.execute_reply": "2025-10-03T17:08:50.956210Z"
    },
    "papermill": {
     "duration": 2.069129,
     "end_time": "2025-10-03T17:08:50.959134",
     "exception": false,
     "start_time": "2025-10-03T17:08:48.890005",
     "status": "completed"
    },
    "tags": []
   },
   "outputs": [
    {
     "name": "stdout",
     "output_type": "stream",
     "text": [
      "/kaggle/input/2022-ukraine-russian-war/russia_losses_equipment.csv\n",
      "/kaggle/input/2022-ukraine-russian-war/russia_losses_equipment_correction.csv\n",
      "/kaggle/input/2022-ukraine-russian-war/russia_losses_personnel.csv\n"
     ]
    }
   ],
   "source": [
    "# This Python 3 environment comes with many helpful analytics libraries installed\n",
    "# It is defined by the kaggle/python Docker image: https://github.com/kaggle/docker-python\n",
    "# For example, here's several helpful packages to load\n",
    "\n",
    "import numpy as np # linear algebra\n",
    "import pandas as pd # data processing, CSV file I/O (e.g. pd.read_csv)\n",
    "\n",
    "# Input data files are available in the read-only \"../input/\" directory\n",
    "# For example, running this (by clicking run or pressing Shift+Enter) will list all files under the input directory\n",
    "\n",
    "import os\n",
    "for dirname, _, filenames in os.walk('/kaggle/input'):\n",
    "    for filename in filenames:\n",
    "        print(os.path.join(dirname, filename))\n",
    "\n",
    "# You can write up to 20GB to the current directory (/kaggle/working/) that gets preserved as output when you create a version using \"Save & Run All\" \n",
    "# You can also write temporary files to /kaggle/temp/, but they won't be saved outside of the current session"
   ]
  },
  {
   "cell_type": "code",
   "execution_count": 2,
   "id": "ecd639e2",
   "metadata": {
    "execution": {
     "iopub.execute_input": "2025-10-03T17:08:50.967420Z",
     "iopub.status.busy": "2025-10-03T17:08:50.966955Z",
     "iopub.status.idle": "2025-10-03T17:08:50.972089Z",
     "shell.execute_reply": "2025-10-03T17:08:50.971120Z"
    },
    "papermill": {
     "duration": 0.010897,
     "end_time": "2025-10-03T17:08:50.973625",
     "exception": false,
     "start_time": "2025-10-03T17:08:50.962728",
     "status": "completed"
    },
    "tags": []
   },
   "outputs": [],
   "source": [
    "import warnings\n",
    "warnings.filterwarnings(\"ignore\")"
   ]
  },
  {
   "cell_type": "code",
   "execution_count": 3,
   "id": "a8e65586",
   "metadata": {
    "execution": {
     "iopub.execute_input": "2025-10-03T17:08:50.981003Z",
     "iopub.status.busy": "2025-10-03T17:08:50.980637Z",
     "iopub.status.idle": "2025-10-03T17:08:51.038682Z",
     "shell.execute_reply": "2025-10-03T17:08:51.037760Z"
    },
    "papermill": {
     "duration": 0.063455,
     "end_time": "2025-10-03T17:08:51.040230",
     "exception": false,
     "start_time": "2025-10-03T17:08:50.976775",
     "status": "completed"
    },
    "tags": []
   },
   "outputs": [
    {
     "data": {
      "text/html": [
       "<div>\n",
       "<style scoped>\n",
       "    .dataframe tbody tr th:only-of-type {\n",
       "        vertical-align: middle;\n",
       "    }\n",
       "\n",
       "    .dataframe tbody tr th {\n",
       "        vertical-align: top;\n",
       "    }\n",
       "\n",
       "    .dataframe thead th {\n",
       "        text-align: right;\n",
       "    }\n",
       "</style>\n",
       "<table border=\"1\" class=\"dataframe\">\n",
       "  <thead>\n",
       "    <tr style=\"text-align: right;\">\n",
       "      <th></th>\n",
       "      <th>date</th>\n",
       "      <th>day</th>\n",
       "      <th>aircraft</th>\n",
       "      <th>helicopter</th>\n",
       "      <th>tank</th>\n",
       "      <th>APC</th>\n",
       "      <th>field artillery</th>\n",
       "      <th>MRL</th>\n",
       "      <th>military auto</th>\n",
       "      <th>fuel tank</th>\n",
       "      <th>drone</th>\n",
       "      <th>naval ship</th>\n",
       "      <th>anti-aircraft warfare</th>\n",
       "      <th>special equipment</th>\n",
       "      <th>mobile SRBM system</th>\n",
       "      <th>greatest losses direction</th>\n",
       "      <th>vehicles and fuel tanks</th>\n",
       "      <th>cruise missiles</th>\n",
       "      <th>submarines</th>\n",
       "    </tr>\n",
       "  </thead>\n",
       "  <tbody>\n",
       "    <tr>\n",
       "      <th>0</th>\n",
       "      <td>2025-09-28</td>\n",
       "      <td>1313</td>\n",
       "      <td>427</td>\n",
       "      <td>345</td>\n",
       "      <td>11211</td>\n",
       "      <td>23290</td>\n",
       "      <td>33231</td>\n",
       "      <td>1503</td>\n",
       "      <td>NaN</td>\n",
       "      <td>NaN</td>\n",
       "      <td>64385</td>\n",
       "      <td>28</td>\n",
       "      <td>1223</td>\n",
       "      <td>3977.0</td>\n",
       "      <td>NaN</td>\n",
       "      <td>NaN</td>\n",
       "      <td>63040.0</td>\n",
       "      <td>3747.0</td>\n",
       "      <td>1.0</td>\n",
       "    </tr>\n",
       "    <tr>\n",
       "      <th>1</th>\n",
       "      <td>2025-09-27</td>\n",
       "      <td>1312</td>\n",
       "      <td>427</td>\n",
       "      <td>345</td>\n",
       "      <td>11204</td>\n",
       "      <td>23288</td>\n",
       "      <td>33186</td>\n",
       "      <td>1502</td>\n",
       "      <td>NaN</td>\n",
       "      <td>NaN</td>\n",
       "      <td>63931</td>\n",
       "      <td>28</td>\n",
       "      <td>1223</td>\n",
       "      <td>3977.0</td>\n",
       "      <td>NaN</td>\n",
       "      <td>NaN</td>\n",
       "      <td>62909.0</td>\n",
       "      <td>3747.0</td>\n",
       "      <td>1.0</td>\n",
       "    </tr>\n",
       "    <tr>\n",
       "      <th>2</th>\n",
       "      <td>2025-09-26</td>\n",
       "      <td>1311</td>\n",
       "      <td>427</td>\n",
       "      <td>345</td>\n",
       "      <td>11203</td>\n",
       "      <td>23287</td>\n",
       "      <td>33147</td>\n",
       "      <td>1501</td>\n",
       "      <td>NaN</td>\n",
       "      <td>NaN</td>\n",
       "      <td>63569</td>\n",
       "      <td>28</td>\n",
       "      <td>1222</td>\n",
       "      <td>3975.0</td>\n",
       "      <td>NaN</td>\n",
       "      <td>NaN</td>\n",
       "      <td>62818.0</td>\n",
       "      <td>3747.0</td>\n",
       "      <td>1.0</td>\n",
       "    </tr>\n",
       "    <tr>\n",
       "      <th>3</th>\n",
       "      <td>2025-09-25</td>\n",
       "      <td>1310</td>\n",
       "      <td>427</td>\n",
       "      <td>345</td>\n",
       "      <td>11201</td>\n",
       "      <td>23287</td>\n",
       "      <td>33133</td>\n",
       "      <td>1501</td>\n",
       "      <td>NaN</td>\n",
       "      <td>NaN</td>\n",
       "      <td>63235</td>\n",
       "      <td>28</td>\n",
       "      <td>1222</td>\n",
       "      <td>3975.0</td>\n",
       "      <td>NaN</td>\n",
       "      <td>NaN</td>\n",
       "      <td>62736.0</td>\n",
       "      <td>3747.0</td>\n",
       "      <td>1.0</td>\n",
       "    </tr>\n",
       "    <tr>\n",
       "      <th>4</th>\n",
       "      <td>2025-09-24</td>\n",
       "      <td>1309</td>\n",
       "      <td>426</td>\n",
       "      <td>345</td>\n",
       "      <td>11201</td>\n",
       "      <td>23285</td>\n",
       "      <td>33095</td>\n",
       "      <td>1496</td>\n",
       "      <td>NaN</td>\n",
       "      <td>NaN</td>\n",
       "      <td>62820</td>\n",
       "      <td>28</td>\n",
       "      <td>1218</td>\n",
       "      <td>3973.0</td>\n",
       "      <td>NaN</td>\n",
       "      <td>NaN</td>\n",
       "      <td>62616.0</td>\n",
       "      <td>3747.0</td>\n",
       "      <td>1.0</td>\n",
       "    </tr>\n",
       "  </tbody>\n",
       "</table>\n",
       "</div>"
      ],
      "text/plain": [
       "         date   day  aircraft  helicopter   tank    APC  field artillery  \\\n",
       "0  2025-09-28  1313       427         345  11211  23290            33231   \n",
       "1  2025-09-27  1312       427         345  11204  23288            33186   \n",
       "2  2025-09-26  1311       427         345  11203  23287            33147   \n",
       "3  2025-09-25  1310       427         345  11201  23287            33133   \n",
       "4  2025-09-24  1309       426         345  11201  23285            33095   \n",
       "\n",
       "    MRL  military auto  fuel tank  drone  naval ship  anti-aircraft warfare  \\\n",
       "0  1503            NaN        NaN  64385          28                   1223   \n",
       "1  1502            NaN        NaN  63931          28                   1223   \n",
       "2  1501            NaN        NaN  63569          28                   1222   \n",
       "3  1501            NaN        NaN  63235          28                   1222   \n",
       "4  1496            NaN        NaN  62820          28                   1218   \n",
       "\n",
       "   special equipment  mobile SRBM system greatest losses direction  \\\n",
       "0             3977.0                 NaN                       NaN   \n",
       "1             3977.0                 NaN                       NaN   \n",
       "2             3975.0                 NaN                       NaN   \n",
       "3             3975.0                 NaN                       NaN   \n",
       "4             3973.0                 NaN                       NaN   \n",
       "\n",
       "   vehicles and fuel tanks  cruise missiles  submarines  \n",
       "0                  63040.0           3747.0         1.0  \n",
       "1                  62909.0           3747.0         1.0  \n",
       "2                  62818.0           3747.0         1.0  \n",
       "3                  62736.0           3747.0         1.0  \n",
       "4                  62616.0           3747.0         1.0  "
      ]
     },
     "execution_count": 3,
     "metadata": {},
     "output_type": "execute_result"
    }
   ],
   "source": [
    "df = pd.read_csv('/kaggle/input/2022-ukraine-russian-war/russia_losses_equipment.csv')\n",
    "df.head()"
   ]
  },
  {
   "cell_type": "code",
   "execution_count": 4,
   "id": "2f3c7750",
   "metadata": {
    "execution": {
     "iopub.execute_input": "2025-10-03T17:08:51.048657Z",
     "iopub.status.busy": "2025-10-03T17:08:51.048330Z",
     "iopub.status.idle": "2025-10-03T17:08:51.056362Z",
     "shell.execute_reply": "2025-10-03T17:08:51.055441Z"
    },
    "papermill": {
     "duration": 0.014241,
     "end_time": "2025-10-03T17:08:51.058006",
     "exception": false,
     "start_time": "2025-10-03T17:08:51.043765",
     "status": "completed"
    },
    "tags": []
   },
   "outputs": [
    {
     "data": {
      "text/plain": [
       "Index(['date', 'day', 'aircraft', 'helicopter', 'tank', 'APC',\n",
       "       'field artillery', 'MRL', 'military auto', 'fuel tank', 'drone',\n",
       "       'naval ship', 'anti-aircraft warfare', 'special equipment',\n",
       "       'mobile SRBM system', 'greatest losses direction',\n",
       "       'vehicles and fuel tanks', 'cruise missiles', 'submarines'],\n",
       "      dtype='object')"
      ]
     },
     "execution_count": 4,
     "metadata": {},
     "output_type": "execute_result"
    }
   ],
   "source": [
    "df.columns"
   ]
  },
  {
   "cell_type": "code",
   "execution_count": 5,
   "id": "7e8dbfcf",
   "metadata": {
    "execution": {
     "iopub.execute_input": "2025-10-03T17:08:51.066098Z",
     "iopub.status.busy": "2025-10-03T17:08:51.065698Z",
     "iopub.status.idle": "2025-10-03T17:08:51.088574Z",
     "shell.execute_reply": "2025-10-03T17:08:51.087250Z"
    },
    "papermill": {
     "duration": 0.028711,
     "end_time": "2025-10-03T17:08:51.090130",
     "exception": false,
     "start_time": "2025-10-03T17:08:51.061419",
     "status": "completed"
    },
    "tags": []
   },
   "outputs": [
    {
     "name": "stdout",
     "output_type": "stream",
     "text": [
      "<class 'pandas.core.frame.DataFrame'>\n",
      "RangeIndex: 1312 entries, 0 to 1311\n",
      "Data columns (total 19 columns):\n",
      " #   Column                     Non-Null Count  Dtype  \n",
      "---  ------                     --------------  -----  \n",
      " 0   date                       1312 non-null   object \n",
      " 1   day                        1312 non-null   int64  \n",
      " 2   aircraft                   1312 non-null   int64  \n",
      " 3   helicopter                 1312 non-null   int64  \n",
      " 4   tank                       1312 non-null   int64  \n",
      " 5   APC                        1312 non-null   int64  \n",
      " 6   field artillery            1312 non-null   int64  \n",
      " 7   MRL                        1312 non-null   int64  \n",
      " 8   military auto              65 non-null     float64\n",
      " 9   fuel tank                  65 non-null     float64\n",
      " 10  drone                      1312 non-null   int64  \n",
      " 11  naval ship                 1312 non-null   int64  \n",
      " 12  anti-aircraft warfare      1312 non-null   int64  \n",
      " 13  special equipment          1293 non-null   float64\n",
      " 14  mobile SRBM system         36 non-null     float64\n",
      " 15  greatest losses direction  203 non-null    object \n",
      " 16  vehicles and fuel tanks    1247 non-null   float64\n",
      " 17  cruise missiles            1247 non-null   float64\n",
      " 18  submarines                 746 non-null    float64\n",
      "dtypes: float64(7), int64(10), object(2)\n",
      "memory usage: 194.9+ KB\n"
     ]
    }
   ],
   "source": [
    "# Check column info\n",
    "df.info()"
   ]
  },
  {
   "cell_type": "code",
   "execution_count": 6,
   "id": "d7466ab3",
   "metadata": {
    "execution": {
     "iopub.execute_input": "2025-10-03T17:08:51.098890Z",
     "iopub.status.busy": "2025-10-03T17:08:51.098148Z",
     "iopub.status.idle": "2025-10-03T17:08:51.103808Z",
     "shell.execute_reply": "2025-10-03T17:08:51.102970Z"
    },
    "papermill": {
     "duration": 0.012044,
     "end_time": "2025-10-03T17:08:51.105735",
     "exception": false,
     "start_time": "2025-10-03T17:08:51.093691",
     "status": "completed"
    },
    "tags": []
   },
   "outputs": [],
   "source": [
    "# Fill missing values with 0 for simplicity\n",
    "df.fillna(0, inplace=True)"
   ]
  },
  {
   "cell_type": "code",
   "execution_count": 7,
   "id": "fa72d973",
   "metadata": {
    "execution": {
     "iopub.execute_input": "2025-10-03T17:08:51.114036Z",
     "iopub.status.busy": "2025-10-03T17:08:51.113675Z",
     "iopub.status.idle": "2025-10-03T17:08:51.124773Z",
     "shell.execute_reply": "2025-10-03T17:08:51.123801Z"
    },
    "papermill": {
     "duration": 0.017364,
     "end_time": "2025-10-03T17:08:51.126575",
     "exception": false,
     "start_time": "2025-10-03T17:08:51.109211",
     "status": "completed"
    },
    "tags": []
   },
   "outputs": [],
   "source": [
    "# Convert 'date' to datetime\n",
    "df['date'] = pd.to_datetime(df['date'])\n",
    "\n",
    "# Set 'date' as index\n",
    "df.set_index('date', inplace=True)"
   ]
  },
  {
   "cell_type": "code",
   "execution_count": 8,
   "id": "b1f8b467",
   "metadata": {
    "execution": {
     "iopub.execute_input": "2025-10-03T17:08:51.134987Z",
     "iopub.status.busy": "2025-10-03T17:08:51.134574Z",
     "iopub.status.idle": "2025-10-03T17:08:51.711379Z",
     "shell.execute_reply": "2025-10-03T17:08:51.710362Z"
    },
    "papermill": {
     "duration": 0.582905,
     "end_time": "2025-10-03T17:08:51.713063",
     "exception": false,
     "start_time": "2025-10-03T17:08:51.130158",
     "status": "completed"
    },
    "tags": []
   },
   "outputs": [
    {
     "data": {
      "image/png": "[encoded data removed]",
      "text/plain": [
       "<Figure size 1000x500 with 1 Axes>"
      ]
     },
     "metadata": {},
     "output_type": "display_data"
    }
   ],
   "source": [
    "import matplotlib.pyplot as plt\n",
    "\n",
    "# Plot tank and aircraft losses over time\n",
    "df[['tank', 'aircraft']].plot(figsize=(10,5), title='Tank and Aircraft Losses Over Time')\n",
    "plt.ylabel(\"Number of Units Lost\")\n",
    "plt.grid(True)\n",
    "plt.show()"
   ]
  },
  {
   "cell_type": "code",
   "execution_count": 9,
   "id": "842c1f2f",
   "metadata": {
    "execution": {
     "iopub.execute_input": "2025-10-03T17:08:51.722895Z",
     "iopub.status.busy": "2025-10-03T17:08:51.722427Z",
     "iopub.status.idle": "2025-10-03T17:08:53.362524Z",
     "shell.execute_reply": "2025-10-03T17:08:53.361242Z"
    },
    "papermill": {
     "duration": 1.646894,
     "end_time": "2025-10-03T17:08:53.364438",
     "exception": false,
     "start_time": "2025-10-03T17:08:51.717544",
     "status": "completed"
    },
    "tags": []
   },
   "outputs": [],
   "source": [
    "from sklearn.model_selection import train_test_split\n",
    "\n",
    "# Drop columns not useful for ML\n",
    "df_ml = df.drop(['day', 'greatest losses direction'], axis=1)"
   ]
  },
  {
   "cell_type": "code",
   "execution_count": 10,
   "id": "d2f1e6d3",
   "metadata": {
    "execution": {
     "iopub.execute_input": "2025-10-03T17:08:53.374678Z",
     "iopub.status.busy": "2025-10-03T17:08:53.374204Z",
     "iopub.status.idle": "2025-10-03T17:08:53.380909Z",
     "shell.execute_reply": "2025-10-03T17:08:53.380058Z"
    },
    "papermill": {
     "duration": 0.013553,
     "end_time": "2025-10-03T17:08:53.382329",
     "exception": false,
     "start_time": "2025-10-03T17:08:53.368776",
     "status": "completed"
    },
    "tags": []
   },
   "outputs": [],
   "source": [
    "# Features = all except 'tank', Target = 'tank'\n",
    "X = df_ml.drop('tank', axis=1)\n",
    "y = df_ml['tank']"
   ]
  },
  {
   "cell_type": "code",
   "execution_count": 11,
   "id": "0b243eb9",
   "metadata": {
    "execution": {
     "iopub.execute_input": "2025-10-03T17:08:53.392120Z",
     "iopub.status.busy": "2025-10-03T17:08:53.391754Z",
     "iopub.status.idle": "2025-10-03T17:08:53.402351Z",
     "shell.execute_reply": "2025-10-03T17:08:53.401238Z"
    },
    "papermill": {
     "duration": 0.017574,
     "end_time": "2025-10-03T17:08:53.404213",
     "exception": false,
     "start_time": "2025-10-03T17:08:53.386639",
     "status": "completed"
    },
    "tags": []
   },
   "outputs": [],
   "source": [
    "# Split data\n",
    "X_train, X_test, y_train, y_test = train_test_split(X, y, test_size=0.2, random_state=42)"
   ]
  },
  {
   "cell_type": "code",
   "execution_count": 12,
   "id": "3126a46d",
   "metadata": {
    "execution": {
     "iopub.execute_input": "2025-10-03T17:08:53.413662Z",
     "iopub.status.busy": "2025-10-03T17:08:53.413325Z",
     "iopub.status.idle": "2025-10-03T17:08:54.488201Z",
     "shell.execute_reply": "2025-10-03T17:08:54.487251Z"
    },
    "papermill": {
     "duration": 1.081637,
     "end_time": "2025-10-03T17:08:54.489960",
     "exception": false,
     "start_time": "2025-10-03T17:08:53.408323",
     "status": "completed"
    },
    "tags": []
   },
   "outputs": [
    {
     "data": {
      "text/html": [
       "<style>#sk-container-id-1 {color: black;background-color: white;}#sk-container-id-1 pre{padding: 0;}#sk-container-id-1 div.sk-toggleable {background-color: white;}#sk-container-id-1 label.sk-toggleable__label {cursor: pointer;display: block;width: 100%;margin-bottom: 0;padding: 0.3em;box-sizing: border-box;text-align: center;}#sk-container-id-1 label.sk-toggleable__label-arrow:before {content: \"▸\";float: left;margin-right: 0.25em;color: #696969;}#sk-container-id-1 label.sk-toggleable__label-arrow:hover:before {color: black;}#sk-container-id-1 div.sk-estimator:hover label.sk-toggleable__label-arrow:before {color: black;}#sk-container-id-1 div.sk-toggleable__content {max-height: 0;max-width: 0;overflow: hidden;text-align: left;background-color: #f0f8ff;}#sk-container-id-1 div.sk-toggleable__content pre {margin: 0.2em;color: black;border-radius: 0.25em;background-color: #f0f8ff;}#sk-container-id-1 input.sk-toggleable__control:checked~div.sk-toggleable__content {max-height: 200px;max-width: 100%;overflow: auto;}#sk-container-id-1 input.sk-toggleable__control:checked~label.sk-toggleable__label-arrow:before {content: \"▾\";}#sk-container-id-1 div.sk-estimator input.sk-toggleable__control:checked~label.sk-toggleable__label {background-color: #d4ebff;}#sk-container-id-1 div.sk-label input.sk-toggleable__control:checked~label.sk-toggleable__label {background-color: #d4ebff;}#sk-container-id-1 input.sk-hidden--visually {border: 0;clip: rect(1px 1px 1px 1px);clip: rect(1px, 1px, 1px, 1px);height: 1px;margin: -1px;overflow: hidden;padding: 0;position: absolute;width: 1px;}#sk-container-id-1 div.sk-estimator {font-family: monospace;background-color: #f0f8ff;border: 1px dotted black;border-radius: 0.25em;box-sizing: border-box;margin-bottom: 0.5em;}#sk-container-id-1 div.sk-estimator:hover {background-color: #d4ebff;}#sk-container-id-1 div.sk-parallel-item::after {content: \"\";width: 100%;border-bottom: 1px solid gray;flex-grow: 1;}#sk-container-id-1 div.sk-label:hover label.sk-toggleable__label {background-color: #d4ebff;}#sk-container-id-1 div.sk-serial::before {content: \"\";position: absolute;border-left: 1px solid gray;box-sizing: border-box;top: 0;bottom: 0;left: 50%;z-index: 0;}#sk-container-id-1 div.sk-serial {display: flex;flex-direction: column;align-items: center;background-color: white;padding-right: 0.2em;padding-left: 0.2em;position: relative;}#sk-container-id-1 div.sk-item {position: relative;z-index: 1;}#sk-container-id-1 div.sk-parallel {display: flex;align-items: stretch;justify-content: center;background-color: white;position: relative;}#sk-container-id-1 div.sk-item::before, #sk-container-id-1 div.sk-parallel-item::before {content: \"\";position: absolute;border-left: 1px solid gray;box-sizing: border-box;top: 0;bottom: 0;left: 50%;z-index: -1;}#sk-container-id-1 div.sk-parallel-item {display: flex;flex-direction: column;z-index: 1;position: relative;background-color: white;}#sk-container-id-1 div.sk-parallel-item:first-child::after {align-self: flex-end;width: 50%;}#sk-container-id-1 div.sk-parallel-item:last-child::after {align-self: flex-start;width: 50%;}#sk-container-id-1 div.sk-parallel-item:only-child::after {width: 0;}#sk-container-id-1 div.sk-dashed-wrapped {border: 1px dashed gray;margin: 0 0.4em 0.5em 0.4em;box-sizing: border-box;padding-bottom: 0.4em;background-color: white;}#sk-container-id-1 div.sk-label label {font-family: monospace;font-weight: bold;display: inline-block;line-height: 1.2em;}#sk-container-id-1 div.sk-label-container {text-align: center;}#sk-container-id-1 div.sk-container {/* jupyter's `normalize.less` sets `[hidden] { display: none; }` but bootstrap.min.css set `[hidden] { display: none !important; }` so we also need the `!important` here to be able to override the default hidden behavior on the sphinx rendered scikit-learn.org. See: https://github.com/scikit-learn/scikit-learn/issues/21755 */display: inline-block !important;position: relative;}#sk-container-id-1 div.sk-text-repr-fallback {display: none;}</style><div id=\"sk-container-id-1\" class=\"sk-top-container\"><div class=\"sk-text-repr-fallback\"><pre>RandomForestRegressor(random_state=42)</pre><b>In a Jupyter environment, please rerun this cell to show the HTML representation or trust the notebook. <br />On GitHub, the HTML representation is unable to render, please try loading this page with nbviewer.org.</b></div><div class=\"sk-container\" hidden><div class=\"sk-item\"><div class=\"sk-estimator sk-toggleable\"><input class=\"sk-toggleable__control sk-hidden--visually\" id=\"sk-estimator-id-1\" type=\"checkbox\" checked><label for=\"sk-estimator-id-1\" class=\"sk-toggleable__label sk-toggleable__label-arrow\">RandomForestRegressor</label><div class=\"sk-toggleable__content\"><pre>RandomForestRegressor(random_state=42)</pre></div></div></div></div></div>"
      ],
      "text/plain": [
       "RandomForestRegressor(random_state=42)"
      ]
     },
     "execution_count": 12,
     "metadata": {},
     "output_type": "execute_result"
    }
   ],
   "source": [
    "from sklearn.ensemble import RandomForestRegressor\n",
    "from sklearn.metrics import mean_squared_error, r2_score\n",
    "\n",
    "# Train model\n",
    "model = RandomForestRegressor(n_estimators=100, random_state=42)\n",
    "model.fit(X_train, y_train)"
   ]
  },
  {
   "cell_type": "code",
   "execution_count": 13,
   "id": "d15553c0",
   "metadata": {
    "execution": {
     "iopub.execute_input": "2025-10-03T17:08:54.501929Z",
     "iopub.status.busy": "2025-10-03T17:08:54.501593Z",
     "iopub.status.idle": "2025-10-03T17:08:54.519281Z",
     "shell.execute_reply": "2025-10-03T17:08:54.518285Z"
    },
    "papermill": {
     "duration": 0.026112,
     "end_time": "2025-10-03T17:08:54.521183",
     "exception": false,
     "start_time": "2025-10-03T17:08:54.495071",
     "status": "completed"
    },
    "tags": []
   },
   "outputs": [
    {
     "name": "stdout",
     "output_type": "stream",
     "text": [
      "R2 Score: 0.9999966830609305\n",
      "RMSE: 6.134672079330131\n"
     ]
    }
   ],
   "source": [
    "# Predict\n",
    "y_pred = model.predict(X_test)\n",
    "\n",
    "# Evaluate\n",
    "print(\"R2 Score:\", r2_score(y_test, y_pred))\n",
    "print(\"RMSE:\", mean_squared_error(y_test, y_pred, squared=False))"
   ]
  }
 ],
 "metadata": {
  "kaggle": {
   "accelerator": "none",
   "dataSources": [
    {
     "datasetId": 1967621,
     "sourceId": 12725108,
     "sourceType": "datasetVersion"
    }
   ],
   "dockerImageVersionId": 31089,
   "isGpuEnabled": false,
   "isInternetEnabled": true,
   "language": "python",
   "sourceType": "notebook"
  },
  "kernelspec": {
   "display_name": "Python 3",
   "language": "python",
   "name": "python3"
  },
  "language_info": {
   "codemirror_mode": {
    "name": "ipython",
    "version": 3
   },
   "file_extension": ".py",
   "mimetype": "text/x-python",
   "name": "python",
   "nbconvert_exporter": "python",
   "pygments_lexer": "ipython3",
   "version": "3.11.13"
  },
  "papermill": {
   "default_parameters": {},
   "duration": 12.309015,
   "end_time": "2025-10-03T17:08:55.246353",
   "environment_variables": {},
   "exception": null,
   "input_path": "__notebook__.ipynb",
   "output_path": "__notebook__.ipynb",
   "parameters": {},
   "start_time": "2025-10-03T17:08:42.937338",
   "version": "2.6.0"
  }
 },
 "nbformat": 4,
 "nbformat_minor": 5
}
