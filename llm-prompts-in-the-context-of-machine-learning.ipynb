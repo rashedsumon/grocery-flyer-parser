{
 "cells": [
  {
   "cell_type": "code",
   "execution_count": 1,
   "id": "182f94b2",
   "metadata": {
    "_cell_guid": "b1076dfc-b9ad-4769-8c92-a6c4dae69d19",
    "_uuid": "8f2839f25d086af736a60e9eeb907d3b93b6e0e5",
    "execution": {
     "iopub.execute_input": "2025-10-03T11:05:53.845900Z",
     "iopub.status.busy": "2025-10-03T11:05:53.845537Z",
     "iopub.status.idle": "2025-10-03T11:05:55.747803Z",
     "shell.execute_reply": "2025-10-03T11:05:55.746850Z"
    },
    "papermill": {
     "duration": 1.908519,
     "end_time": "2025-10-03T11:05:55.749356",
     "exception": false,
     "start_time": "2025-10-03T11:05:53.840837",
     "status": "completed"
    },
    "tags": []
   },
   "outputs": [
    {
     "name": "stdout",
     "output_type": "stream",
     "text": [
      "/kaggle/input/llm-prompts-in-the-context-of-machine-learning/ML_Prompts.csv\n"
     ]
    }
   ],
   "source": [
    "# This Python 3 environment comes with many helpful analytics libraries installed\n",
    "# It is defined by the kaggle/python Docker image: https://github.com/kaggle/docker-python\n",
    "# For example, here's several helpful packages to load\n",
    "\n",
    "import numpy as np # linear algebra\n",
    "import pandas as pd # data processing, CSV file I/O (e.g. pd.read_csv)\n",
    "\n",
    "# Input data files are available in the read-only \"../input/\" directory\n",
    "# For example, running this (by clicking run or pressing Shift+Enter) will list all files under the input directory\n",
    "\n",
    "import os\n",
    "for dirname, _, filenames in os.walk('/kaggle/input'):\n",
    "    for filename in filenames:\n",
    "        print(os.path.join(dirname, filename))\n",
    "\n",
    "# You can write up to 20GB to the current directory (/kaggle/working/) that gets preserved as output when you create a version using \"Save & Run All\" \n",
    "# You can also write temporary files to /kaggle/temp/, but they won't be saved outside of the current session"
   ]
  },
  {
   "cell_type": "code",
   "execution_count": 2,
   "id": "c7355501",
   "metadata": {
    "execution": {
     "iopub.execute_input": "2025-10-03T11:05:55.756289Z",
     "iopub.status.busy": "2025-10-03T11:05:55.755832Z",
     "iopub.status.idle": "2025-10-03T11:05:55.760564Z",
     "shell.execute_reply": "2025-10-03T11:05:55.759626Z"
    },
    "papermill": {
     "duration": 0.009728,
     "end_time": "2025-10-03T11:05:55.762124",
     "exception": false,
     "start_time": "2025-10-03T11:05:55.752396",
     "status": "completed"
    },
    "tags": []
   },
   "outputs": [],
   "source": [
    "import warnings\n",
    "warnings.filterwarnings(\"ignore\")"
   ]
  },
  {
   "cell_type": "code",
   "execution_count": 3,
   "id": "f7a250c2",
   "metadata": {
    "execution": {
     "iopub.execute_input": "2025-10-03T11:05:55.769050Z",
     "iopub.status.busy": "2025-10-03T11:05:55.768230Z",
     "iopub.status.idle": "2025-10-03T11:05:56.093708Z",
     "shell.execute_reply": "2025-10-03T11:05:56.092522Z"
    },
    "papermill": {
     "duration": 0.330686,
     "end_time": "2025-10-03T11:05:56.095532",
     "exception": false,
     "start_time": "2025-10-03T11:05:55.764846",
     "status": "completed"
    },
    "tags": []
   },
   "outputs": [
    {
     "data": {
      "text/html": [
       "<div>\n",
       "<style scoped>\n",
       "    .dataframe tbody tr th:only-of-type {\n",
       "        vertical-align: middle;\n",
       "    }\n",
       "\n",
       "    .dataframe tbody tr th {\n",
       "        vertical-align: top;\n",
       "    }\n",
       "\n",
       "    .dataframe thead th {\n",
       "        text-align: right;\n",
       "    }\n",
       "</style>\n",
       "<table border=\"1\" class=\"dataframe\">\n",
       "  <thead>\n",
       "    <tr style=\"text-align: right;\">\n",
       "      <th></th>\n",
       "      <th>the</th>\n",
       "      <th>to</th>\n",
       "      <th>of</th>\n",
       "      <th>for</th>\n",
       "      <th>in</th>\n",
       "      <th>you</th>\n",
       "      <th>on</th>\n",
       "      <th>model</th>\n",
       "      <th>based</th>\n",
       "      <th>how</th>\n",
       "      <th>...</th>\n",
       "      <th>productivity</th>\n",
       "      <th>contexts</th>\n",
       "      <th>aerospace</th>\n",
       "      <th>internet</th>\n",
       "      <th>things</th>\n",
       "      <th>video</th>\n",
       "      <th>disasters</th>\n",
       "      <th>blockchain</th>\n",
       "      <th>automate</th>\n",
       "      <th>label.1</th>\n",
       "    </tr>\n",
       "  </thead>\n",
       "  <tbody>\n",
       "    <tr>\n",
       "      <th>0</th>\n",
       "      <td>0</td>\n",
       "      <td>0</td>\n",
       "      <td>0</td>\n",
       "      <td>1</td>\n",
       "      <td>0</td>\n",
       "      <td>0</td>\n",
       "      <td>0</td>\n",
       "      <td>0</td>\n",
       "      <td>0</td>\n",
       "      <td>0</td>\n",
       "      <td>...</td>\n",
       "      <td>0</td>\n",
       "      <td>0</td>\n",
       "      <td>0</td>\n",
       "      <td>0</td>\n",
       "      <td>0</td>\n",
       "      <td>0</td>\n",
       "      <td>0</td>\n",
       "      <td>0</td>\n",
       "      <td>0</td>\n",
       "      <td>1</td>\n",
       "    </tr>\n",
       "    <tr>\n",
       "      <th>1</th>\n",
       "      <td>1</td>\n",
       "      <td>1</td>\n",
       "      <td>0</td>\n",
       "      <td>1</td>\n",
       "      <td>1</td>\n",
       "      <td>0</td>\n",
       "      <td>1</td>\n",
       "      <td>0</td>\n",
       "      <td>1</td>\n",
       "      <td>0</td>\n",
       "      <td>...</td>\n",
       "      <td>0</td>\n",
       "      <td>0</td>\n",
       "      <td>0</td>\n",
       "      <td>0</td>\n",
       "      <td>0</td>\n",
       "      <td>0</td>\n",
       "      <td>0</td>\n",
       "      <td>0</td>\n",
       "      <td>0</td>\n",
       "      <td>1</td>\n",
       "    </tr>\n",
       "    <tr>\n",
       "      <th>2</th>\n",
       "      <td>1</td>\n",
       "      <td>0</td>\n",
       "      <td>0</td>\n",
       "      <td>1</td>\n",
       "      <td>1</td>\n",
       "      <td>0</td>\n",
       "      <td>0</td>\n",
       "      <td>0</td>\n",
       "      <td>0</td>\n",
       "      <td>1</td>\n",
       "      <td>...</td>\n",
       "      <td>0</td>\n",
       "      <td>0</td>\n",
       "      <td>0</td>\n",
       "      <td>0</td>\n",
       "      <td>0</td>\n",
       "      <td>0</td>\n",
       "      <td>0</td>\n",
       "      <td>0</td>\n",
       "      <td>0</td>\n",
       "      <td>1</td>\n",
       "    </tr>\n",
       "    <tr>\n",
       "      <th>3</th>\n",
       "      <td>0</td>\n",
       "      <td>1</td>\n",
       "      <td>0</td>\n",
       "      <td>0</td>\n",
       "      <td>1</td>\n",
       "      <td>0</td>\n",
       "      <td>0</td>\n",
       "      <td>0</td>\n",
       "      <td>0</td>\n",
       "      <td>0</td>\n",
       "      <td>...</td>\n",
       "      <td>0</td>\n",
       "      <td>0</td>\n",
       "      <td>0</td>\n",
       "      <td>0</td>\n",
       "      <td>0</td>\n",
       "      <td>0</td>\n",
       "      <td>0</td>\n",
       "      <td>0</td>\n",
       "      <td>0</td>\n",
       "      <td>1</td>\n",
       "    </tr>\n",
       "    <tr>\n",
       "      <th>4</th>\n",
       "      <td>1</td>\n",
       "      <td>0</td>\n",
       "      <td>1</td>\n",
       "      <td>0</td>\n",
       "      <td>1</td>\n",
       "      <td>0</td>\n",
       "      <td>0</td>\n",
       "      <td>0</td>\n",
       "      <td>0</td>\n",
       "      <td>0</td>\n",
       "      <td>...</td>\n",
       "      <td>0</td>\n",
       "      <td>0</td>\n",
       "      <td>0</td>\n",
       "      <td>0</td>\n",
       "      <td>0</td>\n",
       "      <td>0</td>\n",
       "      <td>0</td>\n",
       "      <td>0</td>\n",
       "      <td>0</td>\n",
       "      <td>1</td>\n",
       "    </tr>\n",
       "  </tbody>\n",
       "</table>\n",
       "<p>5 rows × 1745 columns</p>\n",
       "</div>"
      ],
      "text/plain": [
       "   the  to  of  for  in  you  on  model  based  how  ...  productivity  \\\n",
       "0    0   0   0    1   0    0   0      0      0    0  ...             0   \n",
       "1    1   1   0    1   1    0   1      0      1    0  ...             0   \n",
       "2    1   0   0    1   1    0   0      0      0    1  ...             0   \n",
       "3    0   1   0    0   1    0   0      0      0    0  ...             0   \n",
       "4    1   0   1    0   1    0   0      0      0    0  ...             0   \n",
       "\n",
       "   contexts  aerospace  internet  things  video  disasters  blockchain  \\\n",
       "0         0          0         0       0      0          0           0   \n",
       "1         0          0         0       0      0          0           0   \n",
       "2         0          0         0       0      0          0           0   \n",
       "3         0          0         0       0      0          0           0   \n",
       "4         0          0         0       0      0          0           0   \n",
       "\n",
       "   automate  label.1  \n",
       "0         0        1  \n",
       "1         0        1  \n",
       "2         0        1  \n",
       "3         0        1  \n",
       "4         0        1  \n",
       "\n",
       "[5 rows x 1745 columns]"
      ]
     },
     "execution_count": 3,
     "metadata": {},
     "output_type": "execute_result"
    }
   ],
   "source": [
    "df = pd.read_csv('/kaggle/input/llm-prompts-in-the-context-of-machine-learning/ML_Prompts.csv', encoding='latin1')\n",
    "df.head()"
   ]
  },
  {
   "cell_type": "code",
   "execution_count": 4,
   "id": "86322f5a",
   "metadata": {
    "execution": {
     "iopub.execute_input": "2025-10-03T11:05:56.103094Z",
     "iopub.status.busy": "2025-10-03T11:05:56.102446Z",
     "iopub.status.idle": "2025-10-03T11:05:56.109134Z",
     "shell.execute_reply": "2025-10-03T11:05:56.108378Z"
    },
    "papermill": {
     "duration": 0.011901,
     "end_time": "2025-10-03T11:05:56.110418",
     "exception": false,
     "start_time": "2025-10-03T11:05:56.098517",
     "status": "completed"
    },
    "tags": []
   },
   "outputs": [
    {
     "data": {
      "text/plain": [
       "Index(['the', 'to', 'of', 'for', 'in', 'you', 'on', 'model', 'based', 'how',\n",
       "       ...\n",
       "       'productivity', 'contexts', 'aerospace', 'internet', 'things', 'video',\n",
       "       'disasters', 'blockchain', 'automate', 'label.1'],\n",
       "      dtype='object', length=1745)"
      ]
     },
     "execution_count": 4,
     "metadata": {},
     "output_type": "execute_result"
    }
   ],
   "source": [
    "df.columns"
   ]
  },
  {
   "cell_type": "code",
   "execution_count": 5,
   "id": "8236a7be",
   "metadata": {
    "execution": {
     "iopub.execute_input": "2025-10-03T11:05:56.117436Z",
     "iopub.status.busy": "2025-10-03T11:05:56.117160Z",
     "iopub.status.idle": "2025-10-03T11:05:56.122233Z",
     "shell.execute_reply": "2025-10-03T11:05:56.121240Z"
    },
    "papermill": {
     "duration": 0.010181,
     "end_time": "2025-10-03T11:05:56.123675",
     "exception": false,
     "start_time": "2025-10-03T11:05:56.113494",
     "status": "completed"
    },
    "tags": []
   },
   "outputs": [
    {
     "name": "stdout",
     "output_type": "stream",
     "text": [
      "Shape: (1600, 1745)\n",
      "\n",
      "Columns:\n",
      " ['the', 'to', 'of', 'for', 'in', 'you', 'on', 'model', 'based', 'how']\n"
     ]
    }
   ],
   "source": [
    "print(\"Shape:\", df.shape)\n",
    "print(\"\\nColumns:\\n\", df.columns.tolist()[:10])  # only show first 10 to avoid long output"
   ]
  },
  {
   "cell_type": "code",
   "execution_count": 6,
   "id": "3fe9402b",
   "metadata": {
    "execution": {
     "iopub.execute_input": "2025-10-03T11:05:56.131317Z",
     "iopub.status.busy": "2025-10-03T11:05:56.131018Z",
     "iopub.status.idle": "2025-10-03T11:05:56.150755Z",
     "shell.execute_reply": "2025-10-03T11:05:56.149868Z"
    },
    "papermill": {
     "duration": 0.025469,
     "end_time": "2025-10-03T11:05:56.152226",
     "exception": false,
     "start_time": "2025-10-03T11:05:56.126757",
     "status": "completed"
    },
    "tags": []
   },
   "outputs": [
    {
     "data": {
      "text/plain": [
       "0"
      ]
     },
     "execution_count": 6,
     "metadata": {},
     "output_type": "execute_result"
    }
   ],
   "source": [
    "# Check for missing values\n",
    "df.isnull().sum().sum()"
   ]
  },
  {
   "cell_type": "code",
   "execution_count": 7,
   "id": "9fb5f41d",
   "metadata": {
    "execution": {
     "iopub.execute_input": "2025-10-03T11:05:56.159940Z",
     "iopub.status.busy": "2025-10-03T11:05:56.159252Z",
     "iopub.status.idle": "2025-10-03T11:05:56.575631Z",
     "shell.execute_reply": "2025-10-03T11:05:56.574815Z"
    },
    "papermill": {
     "duration": 0.421844,
     "end_time": "2025-10-03T11:05:56.577254",
     "exception": false,
     "start_time": "2025-10-03T11:05:56.155410",
     "status": "completed"
    },
    "tags": []
   },
   "outputs": [
    {
     "data": {
      "image/png": "[encoded data removed]",
      "text/plain": [
       "<Figure size 640x480 with 1 Axes>"
      ]
     },
     "metadata": {},
     "output_type": "display_data"
    }
   ],
   "source": [
    "import matplotlib.pyplot as plt\n",
    "\n",
    "# Plot value counts for the label\n",
    "df['label.1'].value_counts().plot(kind='bar', color='skyblue')\n",
    "plt.title('Label Distribution')\n",
    "plt.xlabel('Label')\n",
    "plt.ylabel('Count')\n",
    "plt.show()"
   ]
  },
  {
   "cell_type": "code",
   "execution_count": 8,
   "id": "eb82c268",
   "metadata": {
    "execution": {
     "iopub.execute_input": "2025-10-03T11:05:56.585892Z",
     "iopub.status.busy": "2025-10-03T11:05:56.585537Z",
     "iopub.status.idle": "2025-10-03T11:05:56.602634Z",
     "shell.execute_reply": "2025-10-03T11:05:56.601959Z"
    },
    "papermill": {
     "duration": 0.023147,
     "end_time": "2025-10-03T11:05:56.604207",
     "exception": false,
     "start_time": "2025-10-03T11:05:56.581060",
     "status": "completed"
    },
    "tags": []
   },
   "outputs": [],
   "source": [
    "# Features = all columns except label\n",
    "X = df.drop('label.1', axis=1)\n",
    "y = df['label.1']"
   ]
  },
  {
   "cell_type": "code",
   "execution_count": 9,
   "id": "836be689",
   "metadata": {
    "execution": {
     "iopub.execute_input": "2025-10-03T11:05:56.612333Z",
     "iopub.status.busy": "2025-10-03T11:05:56.612021Z",
     "iopub.status.idle": "2025-10-03T11:05:58.186692Z",
     "shell.execute_reply": "2025-10-03T11:05:58.185793Z"
    },
    "papermill": {
     "duration": 1.580774,
     "end_time": "2025-10-03T11:05:58.188398",
     "exception": false,
     "start_time": "2025-10-03T11:05:56.607624",
     "status": "completed"
    },
    "tags": []
   },
   "outputs": [],
   "source": [
    "from sklearn.model_selection import train_test_split\n",
    "X_train, X_test, y_train, y_test = train_test_split(X, y, test_size=0.2, random_state=42)"
   ]
  },
  {
   "cell_type": "code",
   "execution_count": 10,
   "id": "f8b5d9f3",
   "metadata": {
    "execution": {
     "iopub.execute_input": "2025-10-03T11:05:58.197989Z",
     "iopub.status.busy": "2025-10-03T11:05:58.197487Z",
     "iopub.status.idle": "2025-10-03T11:05:59.281347Z",
     "shell.execute_reply": "2025-10-03T11:05:59.280170Z"
    },
    "papermill": {
     "duration": 1.090193,
     "end_time": "2025-10-03T11:05:59.283032",
     "exception": false,
     "start_time": "2025-10-03T11:05:58.192839",
     "status": "completed"
    },
    "tags": []
   },
   "outputs": [
    {
     "data": {
      "text/html": [
       "<style>#sk-container-id-1 {color: black;background-color: white;}#sk-container-id-1 pre{padding: 0;}#sk-container-id-1 div.sk-toggleable {background-color: white;}#sk-container-id-1 label.sk-toggleable__label {cursor: pointer;display: block;width: 100%;margin-bottom: 0;padding: 0.3em;box-sizing: border-box;text-align: center;}#sk-container-id-1 label.sk-toggleable__label-arrow:before {content: \"▸\";float: left;margin-right: 0.25em;color: #696969;}#sk-container-id-1 label.sk-toggleable__label-arrow:hover:before {color: black;}#sk-container-id-1 div.sk-estimator:hover label.sk-toggleable__label-arrow:before {color: black;}#sk-container-id-1 div.sk-toggleable__content {max-height: 0;max-width: 0;overflow: hidden;text-align: left;background-color: #f0f8ff;}#sk-container-id-1 div.sk-toggleable__content pre {margin: 0.2em;color: black;border-radius: 0.25em;background-color: #f0f8ff;}#sk-container-id-1 input.sk-toggleable__control:checked~div.sk-toggleable__content {max-height: 200px;max-width: 100%;overflow: auto;}#sk-container-id-1 input.sk-toggleable__control:checked~label.sk-toggleable__label-arrow:before {content: \"▾\";}#sk-container-id-1 div.sk-estimator input.sk-toggleable__control:checked~label.sk-toggleable__label {background-color: #d4ebff;}#sk-container-id-1 div.sk-label input.sk-toggleable__control:checked~label.sk-toggleable__label {background-color: #d4ebff;}#sk-container-id-1 input.sk-hidden--visually {border: 0;clip: rect(1px 1px 1px 1px);clip: rect(1px, 1px, 1px, 1px);height: 1px;margin: -1px;overflow: hidden;padding: 0;position: absolute;width: 1px;}#sk-container-id-1 div.sk-estimator {font-family: monospace;background-color: #f0f8ff;border: 1px dotted black;border-radius: 0.25em;box-sizing: border-box;margin-bottom: 0.5em;}#sk-container-id-1 div.sk-estimator:hover {background-color: #d4ebff;}#sk-container-id-1 div.sk-parallel-item::after {content: \"\";width: 100%;border-bottom: 1px solid gray;flex-grow: 1;}#sk-container-id-1 div.sk-label:hover label.sk-toggleable__label {background-color: #d4ebff;}#sk-container-id-1 div.sk-serial::before {content: \"\";position: absolute;border-left: 1px solid gray;box-sizing: border-box;top: 0;bottom: 0;left: 50%;z-index: 0;}#sk-container-id-1 div.sk-serial {display: flex;flex-direction: column;align-items: center;background-color: white;padding-right: 0.2em;padding-left: 0.2em;position: relative;}#sk-container-id-1 div.sk-item {position: relative;z-index: 1;}#sk-container-id-1 div.sk-parallel {display: flex;align-items: stretch;justify-content: center;background-color: white;position: relative;}#sk-container-id-1 div.sk-item::before, #sk-container-id-1 div.sk-parallel-item::before {content: \"\";position: absolute;border-left: 1px solid gray;box-sizing: border-box;top: 0;bottom: 0;left: 50%;z-index: -1;}#sk-container-id-1 div.sk-parallel-item {display: flex;flex-direction: column;z-index: 1;position: relative;background-color: white;}#sk-container-id-1 div.sk-parallel-item:first-child::after {align-self: flex-end;width: 50%;}#sk-container-id-1 div.sk-parallel-item:last-child::after {align-self: flex-start;width: 50%;}#sk-container-id-1 div.sk-parallel-item:only-child::after {width: 0;}#sk-container-id-1 div.sk-dashed-wrapped {border: 1px dashed gray;margin: 0 0.4em 0.5em 0.4em;box-sizing: border-box;padding-bottom: 0.4em;background-color: white;}#sk-container-id-1 div.sk-label label {font-family: monospace;font-weight: bold;display: inline-block;line-height: 1.2em;}#sk-container-id-1 div.sk-label-container {text-align: center;}#sk-container-id-1 div.sk-container {/* jupyter's `normalize.less` sets `[hidden] { display: none; }` but bootstrap.min.css set `[hidden] { display: none !important; }` so we also need the `!important` here to be able to override the default hidden behavior on the sphinx rendered scikit-learn.org. See: https://github.com/scikit-learn/scikit-learn/issues/21755 */display: inline-block !important;position: relative;}#sk-container-id-1 div.sk-text-repr-fallback {display: none;}</style><div id=\"sk-container-id-1\" class=\"sk-top-container\"><div class=\"sk-text-repr-fallback\"><pre>RandomForestClassifier(random_state=42)</pre><b>In a Jupyter environment, please rerun this cell to show the HTML representation or trust the notebook. <br />On GitHub, the HTML representation is unable to render, please try loading this page with nbviewer.org.</b></div><div class=\"sk-container\" hidden><div class=\"sk-item\"><div class=\"sk-estimator sk-toggleable\"><input class=\"sk-toggleable__control sk-hidden--visually\" id=\"sk-estimator-id-1\" type=\"checkbox\" checked><label for=\"sk-estimator-id-1\" class=\"sk-toggleable__label sk-toggleable__label-arrow\">RandomForestClassifier</label><div class=\"sk-toggleable__content\"><pre>RandomForestClassifier(random_state=42)</pre></div></div></div></div></div>"
      ],
      "text/plain": [
       "RandomForestClassifier(random_state=42)"
      ]
     },
     "execution_count": 10,
     "metadata": {},
     "output_type": "execute_result"
    }
   ],
   "source": [
    "from sklearn.ensemble import RandomForestClassifier\n",
    "from sklearn.metrics import accuracy_score, classification_report\n",
    "\n",
    "# Train model\n",
    "model = RandomForestClassifier(n_estimators=100, random_state=42)\n",
    "model.fit(X_train, y_train)"
   ]
  },
  {
   "cell_type": "code",
   "execution_count": 11,
   "id": "4807ad73",
   "metadata": {
    "execution": {
     "iopub.execute_input": "2025-10-03T11:05:59.292662Z",
     "iopub.status.busy": "2025-10-03T11:05:59.292352Z",
     "iopub.status.idle": "2025-10-03T11:05:59.339374Z",
     "shell.execute_reply": "2025-10-03T11:05:59.338247Z"
    },
    "papermill": {
     "duration": 0.053425,
     "end_time": "2025-10-03T11:05:59.340864",
     "exception": false,
     "start_time": "2025-10-03T11:05:59.287439",
     "status": "completed"
    },
    "tags": []
   },
   "outputs": [
    {
     "name": "stdout",
     "output_type": "stream",
     "text": [
      "Accuracy: 0.990625\n",
      "\n",
      "Classification Report:\n",
      "               precision    recall  f1-score   support\n",
      "\n",
      "           1       1.00      1.00      1.00        41\n",
      "           2       0.94      1.00      0.97        48\n",
      "           3       1.00      0.94      0.97        47\n",
      "           4       1.00      1.00      1.00        35\n",
      "           5       1.00      1.00      1.00        35\n",
      "           6       1.00      1.00      1.00        44\n",
      "           7       1.00      1.00      1.00        36\n",
      "           8       1.00      1.00      1.00        34\n",
      "\n",
      "    accuracy                           0.99       320\n",
      "   macro avg       0.99      0.99      0.99       320\n",
      "weighted avg       0.99      0.99      0.99       320\n",
      "\n"
     ]
    }
   ],
   "source": [
    "# Predict and evaluate\n",
    "y_pred = model.predict(X_test)\n",
    "print(\"Accuracy:\", accuracy_score(y_test, y_pred))\n",
    "print(\"\\nClassification Report:\\n\", classification_report(y_test, y_pred))"
   ]
  }
 ],
 "metadata": {
  "kaggle": {
   "accelerator": "none",
   "dataSources": [
    {
     "datasetId": 5314391,
     "sourceId": 8832052,
     "sourceType": "datasetVersion"
    }
   ],
   "dockerImageVersionId": 31089,
   "isGpuEnabled": false,
   "isInternetEnabled": true,
   "language": "python",
   "sourceType": "notebook"
  },
  "kernelspec": {
   "display_name": "Python 3",
   "language": "python",
   "name": "python3"
  },
  "language_info": {
   "codemirror_mode": {
    "name": "ipython",
    "version": 3
   },
   "file_extension": ".py",
   "mimetype": "text/x-python",
   "name": "python",
   "nbconvert_exporter": "python",
   "pygments_lexer": "ipython3",
   "version": "3.11.13"
  },
  "papermill": {
   "default_parameters": {},
   "duration": 11.55733,
   "end_time": "2025-10-03T11:06:00.065222",
   "environment_variables": {},
   "exception": null,
   "input_path": "__notebook__.ipynb",
   "output_path": "__notebook__.ipynb",
   "parameters": {},
   "start_time": "2025-10-03T11:05:48.507892",
   "version": "2.6.0"
  }
 },
 "nbformat": 4,
 "nbformat_minor": 5
}
