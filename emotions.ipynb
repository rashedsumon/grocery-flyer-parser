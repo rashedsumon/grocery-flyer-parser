{
 "cells": [
  {
   "cell_type": "code",
   "execution_count": 1,
   "id": "38a7d614",
   "metadata": {
    "_cell_guid": "b1076dfc-b9ad-4769-8c92-a6c4dae69d19",
    "_uuid": "8f2839f25d086af736a60e9eeb907d3b93b6e0e5",
    "execution": {
     "iopub.execute_input": "2025-10-03T14:30:04.547899Z",
     "iopub.status.busy": "2025-10-03T14:30:04.547619Z",
     "iopub.status.idle": "2025-10-03T14:30:06.665276Z",
     "shell.execute_reply": "2025-10-03T14:30:06.663691Z"
    },
    "papermill": {
     "duration": 2.124327,
     "end_time": "2025-10-03T14:30:06.667106",
     "exception": false,
     "start_time": "2025-10-03T14:30:04.542779",
     "status": "completed"
    },
    "tags": []
   },
   "outputs": [
    {
     "name": "stdout",
     "output_type": "stream",
     "text": [
      "/kaggle/input/emotions/text.csv\n"
     ]
    }
   ],
   "source": [
    "# This Python 3 environment comes with many helpful analytics libraries installed\n",
    "# It is defined by the kaggle/python Docker image: https://github.com/kaggle/docker-python\n",
    "# For example, here's several helpful packages to load\n",
    "\n",
    "import numpy as np # linear algebra\n",
    "import pandas as pd # data processing, CSV file I/O (e.g. pd.read_csv)\n",
    "\n",
    "# Input data files are available in the read-only \"../input/\" directory\n",
    "# For example, running this (by clicking run or pressing Shift+Enter) will list all files under the input directory\n",
    "\n",
    "import os\n",
    "for dirname, _, filenames in os.walk('/kaggle/input'):\n",
    "    for filename in filenames:\n",
    "        print(os.path.join(dirname, filename))\n",
    "\n",
    "# You can write up to 20GB to the current directory (/kaggle/working/) that gets preserved as output when you create a version using \"Save & Run All\" \n",
    "# You can also write temporary files to /kaggle/temp/, but they won't be saved outside of the current session"
   ]
  },
  {
   "cell_type": "code",
   "execution_count": 2,
   "id": "6dd940c7",
   "metadata": {
    "execution": {
     "iopub.execute_input": "2025-10-03T14:30:06.675050Z",
     "iopub.status.busy": "2025-10-03T14:30:06.674476Z",
     "iopub.status.idle": "2025-10-03T14:30:06.681381Z",
     "shell.execute_reply": "2025-10-03T14:30:06.679645Z"
    },
    "papermill": {
     "duration": 0.013335,
     "end_time": "2025-10-03T14:30:06.684023",
     "exception": false,
     "start_time": "2025-10-03T14:30:06.670688",
     "status": "completed"
    },
    "tags": []
   },
   "outputs": [],
   "source": [
    "import warnings\n",
    "warnings.filterwarnings(\"ignore\")"
   ]
  },
  {
   "cell_type": "code",
   "execution_count": 3,
   "id": "45b9e990",
   "metadata": {
    "execution": {
     "iopub.execute_input": "2025-10-03T14:30:06.692749Z",
     "iopub.status.busy": "2025-10-03T14:30:06.692445Z",
     "iopub.status.idle": "2025-10-03T14:30:08.184799Z",
     "shell.execute_reply": "2025-10-03T14:30:08.184081Z"
    },
    "papermill": {
     "duration": 1.497946,
     "end_time": "2025-10-03T14:30:08.186361",
     "exception": false,
     "start_time": "2025-10-03T14:30:06.688415",
     "status": "completed"
    },
    "tags": []
   },
   "outputs": [
    {
     "data": {
      "text/html": [
       "<div>\n",
       "<style scoped>\n",
       "    .dataframe tbody tr th:only-of-type {\n",
       "        vertical-align: middle;\n",
       "    }\n",
       "\n",
       "    .dataframe tbody tr th {\n",
       "        vertical-align: top;\n",
       "    }\n",
       "\n",
       "    .dataframe thead th {\n",
       "        text-align: right;\n",
       "    }\n",
       "</style>\n",
       "<table border=\"1\" class=\"dataframe\">\n",
       "  <thead>\n",
       "    <tr style=\"text-align: right;\">\n",
       "      <th></th>\n",
       "      <th>Unnamed: 0</th>\n",
       "      <th>text</th>\n",
       "      <th>label</th>\n",
       "    </tr>\n",
       "  </thead>\n",
       "  <tbody>\n",
       "    <tr>\n",
       "      <th>0</th>\n",
       "      <td>0</td>\n",
       "      <td>i just feel really helpless and heavy hearted</td>\n",
       "      <td>4</td>\n",
       "    </tr>\n",
       "    <tr>\n",
       "      <th>1</th>\n",
       "      <td>1</td>\n",
       "      <td>ive enjoyed being able to slouch about relax a...</td>\n",
       "      <td>0</td>\n",
       "    </tr>\n",
       "    <tr>\n",
       "      <th>2</th>\n",
       "      <td>2</td>\n",
       "      <td>i gave up my internship with the dmrg and am f...</td>\n",
       "      <td>4</td>\n",
       "    </tr>\n",
       "    <tr>\n",
       "      <th>3</th>\n",
       "      <td>3</td>\n",
       "      <td>i dont know i feel so lost</td>\n",
       "      <td>0</td>\n",
       "    </tr>\n",
       "    <tr>\n",
       "      <th>4</th>\n",
       "      <td>4</td>\n",
       "      <td>i am a kindergarten teacher and i am thoroughl...</td>\n",
       "      <td>4</td>\n",
       "    </tr>\n",
       "  </tbody>\n",
       "</table>\n",
       "</div>"
      ],
      "text/plain": [
       "   Unnamed: 0                                               text  label\n",
       "0           0      i just feel really helpless and heavy hearted      4\n",
       "1           1  ive enjoyed being able to slouch about relax a...      0\n",
       "2           2  i gave up my internship with the dmrg and am f...      4\n",
       "3           3                         i dont know i feel so lost      0\n",
       "4           4  i am a kindergarten teacher and i am thoroughl...      4"
      ]
     },
     "execution_count": 3,
     "metadata": {},
     "output_type": "execute_result"
    }
   ],
   "source": [
    "df = pd.read_csv('/kaggle/input/emotions/text.csv')\n",
    "df.head()"
   ]
  },
  {
   "cell_type": "code",
   "execution_count": 4,
   "id": "45f87137",
   "metadata": {
    "execution": {
     "iopub.execute_input": "2025-10-03T14:30:08.193212Z",
     "iopub.status.busy": "2025-10-03T14:30:08.192920Z",
     "iopub.status.idle": "2025-10-03T14:30:08.199406Z",
     "shell.execute_reply": "2025-10-03T14:30:08.198742Z"
    },
    "papermill": {
     "duration": 0.011265,
     "end_time": "2025-10-03T14:30:08.200710",
     "exception": false,
     "start_time": "2025-10-03T14:30:08.189445",
     "status": "completed"
    },
    "tags": []
   },
   "outputs": [
    {
     "data": {
      "text/plain": [
       "Index(['Unnamed: 0', 'text', 'label'], dtype='object')"
      ]
     },
     "execution_count": 4,
     "metadata": {},
     "output_type": "execute_result"
    }
   ],
   "source": [
    "df.columns"
   ]
  },
  {
   "cell_type": "code",
   "execution_count": 5,
   "id": "106de316",
   "metadata": {
    "execution": {
     "iopub.execute_input": "2025-10-03T14:30:08.207994Z",
     "iopub.status.busy": "2025-10-03T14:30:08.207277Z",
     "iopub.status.idle": "2025-10-03T14:30:08.251188Z",
     "shell.execute_reply": "2025-10-03T14:30:08.250010Z"
    },
    "papermill": {
     "duration": 0.049027,
     "end_time": "2025-10-03T14:30:08.252692",
     "exception": false,
     "start_time": "2025-10-03T14:30:08.203665",
     "status": "completed"
    },
    "tags": []
   },
   "outputs": [
    {
     "name": "stdout",
     "output_type": "stream",
     "text": [
      "<class 'pandas.core.frame.DataFrame'>\n",
      "RangeIndex: 416809 entries, 0 to 416808\n",
      "Data columns (total 3 columns):\n",
      " #   Column      Non-Null Count   Dtype \n",
      "---  ------      --------------   ----- \n",
      " 0   Unnamed: 0  416809 non-null  int64 \n",
      " 1   text        416809 non-null  object\n",
      " 2   label       416809 non-null  int64 \n",
      "dtypes: int64(2), object(1)\n",
      "memory usage: 9.5+ MB\n",
      "None\n"
     ]
    }
   ],
   "source": [
    "# Basic info and class distribution\n",
    "print(df.info())"
   ]
  },
  {
   "cell_type": "code",
   "execution_count": 6,
   "id": "66e7d21e",
   "metadata": {
    "execution": {
     "iopub.execute_input": "2025-10-03T14:30:08.259879Z",
     "iopub.status.busy": "2025-10-03T14:30:08.259610Z",
     "iopub.status.idle": "2025-10-03T14:30:08.269751Z",
     "shell.execute_reply": "2025-10-03T14:30:08.268682Z"
    },
    "papermill": {
     "duration": 0.01564,
     "end_time": "2025-10-03T14:30:08.271399",
     "exception": false,
     "start_time": "2025-10-03T14:30:08.255759",
     "status": "completed"
    },
    "tags": []
   },
   "outputs": [
    {
     "name": "stdout",
     "output_type": "stream",
     "text": [
      "label\n",
      "1    141067\n",
      "0    121187\n",
      "3     57317\n",
      "4     47712\n",
      "2     34554\n",
      "5     14972\n",
      "Name: count, dtype: int64\n"
     ]
    }
   ],
   "source": [
    "print(df['label'].value_counts())"
   ]
  },
  {
   "cell_type": "code",
   "execution_count": 7,
   "id": "c08aa5bc",
   "metadata": {
    "execution": {
     "iopub.execute_input": "2025-10-03T14:30:08.278530Z",
     "iopub.status.busy": "2025-10-03T14:30:08.278213Z",
     "iopub.status.idle": "2025-10-03T14:30:10.770394Z",
     "shell.execute_reply": "2025-10-03T14:30:10.769314Z"
    },
    "papermill": {
     "duration": 2.497449,
     "end_time": "2025-10-03T14:30:10.771953",
     "exception": false,
     "start_time": "2025-10-03T14:30:08.274504",
     "status": "completed"
    },
    "tags": []
   },
   "outputs": [
    {
     "data": {
      "image/png": "[encoded data removed]",
      "text/plain": [
       "<Figure size 800x400 with 1 Axes>"
      ]
     },
     "metadata": {},
     "output_type": "display_data"
    }
   ],
   "source": [
    "import seaborn as sns\n",
    "import matplotlib.pyplot as plt\n",
    "\n",
    "# Plot label counts\n",
    "plt.figure(figsize=(8,4))\n",
    "sns.countplot(x='label', data=df)\n",
    "plt.title(\"Emotion Label Distribution\")\n",
    "plt.xticks(rotation=45)\n",
    "plt.show()"
   ]
  },
  {
   "cell_type": "code",
   "execution_count": 8,
   "id": "7532b26a",
   "metadata": {
    "execution": {
     "iopub.execute_input": "2025-10-03T14:30:10.781024Z",
     "iopub.status.busy": "2025-10-03T14:30:10.780630Z",
     "iopub.status.idle": "2025-10-03T14:30:11.154457Z",
     "shell.execute_reply": "2025-10-03T14:30:11.153353Z"
    },
    "papermill": {
     "duration": 0.381037,
     "end_time": "2025-10-03T14:30:11.156404",
     "exception": false,
     "start_time": "2025-10-03T14:30:10.775367",
     "status": "completed"
    },
    "tags": []
   },
   "outputs": [],
   "source": [
    "from sklearn.model_selection import train_test_split\n",
    "from sklearn.preprocessing import LabelEncoder\n",
    "\n",
    "# Features and target\n",
    "X = df['text']\n",
    "y = LabelEncoder().fit_transform(df['label'])  # Convert text labels to numbers"
   ]
  },
  {
   "cell_type": "code",
   "execution_count": 9,
   "id": "6ebe594c",
   "metadata": {
    "execution": {
     "iopub.execute_input": "2025-10-03T14:30:11.165226Z",
     "iopub.status.busy": "2025-10-03T14:30:11.164881Z",
     "iopub.status.idle": "2025-10-03T14:30:11.201597Z",
     "shell.execute_reply": "2025-10-03T14:30:11.200695Z"
    },
    "papermill": {
     "duration": 0.043129,
     "end_time": "2025-10-03T14:30:11.203353",
     "exception": false,
     "start_time": "2025-10-03T14:30:11.160224",
     "status": "completed"
    },
    "tags": []
   },
   "outputs": [],
   "source": [
    "# Split into training and test sets\n",
    "X_train, X_test, y_train, y_test = train_test_split(X, y, test_size=0.2, random_state=42)"
   ]
  },
  {
   "cell_type": "code",
   "execution_count": 10,
   "id": "c0e1ee97",
   "metadata": {
    "execution": {
     "iopub.execute_input": "2025-10-03T14:30:11.211912Z",
     "iopub.status.busy": "2025-10-03T14:30:11.211358Z",
     "iopub.status.idle": "2025-10-03T14:30:17.509394Z",
     "shell.execute_reply": "2025-10-03T14:30:17.508418Z"
    },
    "papermill": {
     "duration": 6.303919,
     "end_time": "2025-10-03T14:30:17.510980",
     "exception": false,
     "start_time": "2025-10-03T14:30:11.207061",
     "status": "completed"
    },
    "tags": []
   },
   "outputs": [],
   "source": [
    "from sklearn.feature_extraction.text import TfidfVectorizer\n",
    "\n",
    "# Convert text to numeric vectors\n",
    "vectorizer = TfidfVectorizer()\n",
    "X_train_vec = vectorizer.fit_transform(X_train)\n",
    "X_test_vec = vectorizer.transform(X_test)"
   ]
  },
  {
   "cell_type": "code",
   "execution_count": 11,
   "id": "0fc50cb4",
   "metadata": {
    "execution": {
     "iopub.execute_input": "2025-10-03T14:30:17.518812Z",
     "iopub.status.busy": "2025-10-03T14:30:17.518558Z",
     "iopub.status.idle": "2025-10-03T14:32:42.791627Z",
     "shell.execute_reply": "2025-10-03T14:32:42.790190Z"
    },
    "papermill": {
     "duration": 145.283038,
     "end_time": "2025-10-03T14:32:42.797491",
     "exception": false,
     "start_time": "2025-10-03T14:30:17.514453",
     "status": "completed"
    },
    "tags": []
   },
   "outputs": [
    {
     "data": {
      "text/html": [
       "<style>#sk-container-id-1 {color: black;background-color: white;}#sk-container-id-1 pre{padding: 0;}#sk-container-id-1 div.sk-toggleable {background-color: white;}#sk-container-id-1 label.sk-toggleable__label {cursor: pointer;display: block;width: 100%;margin-bottom: 0;padding: 0.3em;box-sizing: border-box;text-align: center;}#sk-container-id-1 label.sk-toggleable__label-arrow:before {content: \"▸\";float: left;margin-right: 0.25em;color: #696969;}#sk-container-id-1 label.sk-toggleable__label-arrow:hover:before {color: black;}#sk-container-id-1 div.sk-estimator:hover label.sk-toggleable__label-arrow:before {color: black;}#sk-container-id-1 div.sk-toggleable__content {max-height: 0;max-width: 0;overflow: hidden;text-align: left;background-color: #f0f8ff;}#sk-container-id-1 div.sk-toggleable__content pre {margin: 0.2em;color: black;border-radius: 0.25em;background-color: #f0f8ff;}#sk-container-id-1 input.sk-toggleable__control:checked~div.sk-toggleable__content {max-height: 200px;max-width: 100%;overflow: auto;}#sk-container-id-1 input.sk-toggleable__control:checked~label.sk-toggleable__label-arrow:before {content: \"▾\";}#sk-container-id-1 div.sk-estimator input.sk-toggleable__control:checked~label.sk-toggleable__label {background-color: #d4ebff;}#sk-container-id-1 div.sk-label input.sk-toggleable__control:checked~label.sk-toggleable__label {background-color: #d4ebff;}#sk-container-id-1 input.sk-hidden--visually {border: 0;clip: rect(1px 1px 1px 1px);clip: rect(1px, 1px, 1px, 1px);height: 1px;margin: -1px;overflow: hidden;padding: 0;position: absolute;width: 1px;}#sk-container-id-1 div.sk-estimator {font-family: monospace;background-color: #f0f8ff;border: 1px dotted black;border-radius: 0.25em;box-sizing: border-box;margin-bottom: 0.5em;}#sk-container-id-1 div.sk-estimator:hover {background-color: #d4ebff;}#sk-container-id-1 div.sk-parallel-item::after {content: \"\";width: 100%;border-bottom: 1px solid gray;flex-grow: 1;}#sk-container-id-1 div.sk-label:hover label.sk-toggleable__label {background-color: #d4ebff;}#sk-container-id-1 div.sk-serial::before {content: \"\";position: absolute;border-left: 1px solid gray;box-sizing: border-box;top: 0;bottom: 0;left: 50%;z-index: 0;}#sk-container-id-1 div.sk-serial {display: flex;flex-direction: column;align-items: center;background-color: white;padding-right: 0.2em;padding-left: 0.2em;position: relative;}#sk-container-id-1 div.sk-item {position: relative;z-index: 1;}#sk-container-id-1 div.sk-parallel {display: flex;align-items: stretch;justify-content: center;background-color: white;position: relative;}#sk-container-id-1 div.sk-item::before, #sk-container-id-1 div.sk-parallel-item::before {content: \"\";position: absolute;border-left: 1px solid gray;box-sizing: border-box;top: 0;bottom: 0;left: 50%;z-index: -1;}#sk-container-id-1 div.sk-parallel-item {display: flex;flex-direction: column;z-index: 1;position: relative;background-color: white;}#sk-container-id-1 div.sk-parallel-item:first-child::after {align-self: flex-end;width: 50%;}#sk-container-id-1 div.sk-parallel-item:last-child::after {align-self: flex-start;width: 50%;}#sk-container-id-1 div.sk-parallel-item:only-child::after {width: 0;}#sk-container-id-1 div.sk-dashed-wrapped {border: 1px dashed gray;margin: 0 0.4em 0.5em 0.4em;box-sizing: border-box;padding-bottom: 0.4em;background-color: white;}#sk-container-id-1 div.sk-label label {font-family: monospace;font-weight: bold;display: inline-block;line-height: 1.2em;}#sk-container-id-1 div.sk-label-container {text-align: center;}#sk-container-id-1 div.sk-container {/* jupyter's `normalize.less` sets `[hidden] { display: none; }` but bootstrap.min.css set `[hidden] { display: none !important; }` so we also need the `!important` here to be able to override the default hidden behavior on the sphinx rendered scikit-learn.org. See: https://github.com/scikit-learn/scikit-learn/issues/21755 */display: inline-block !important;position: relative;}#sk-container-id-1 div.sk-text-repr-fallback {display: none;}</style><div id=\"sk-container-id-1\" class=\"sk-top-container\"><div class=\"sk-text-repr-fallback\"><pre>LogisticRegression(max_iter=1000)</pre><b>In a Jupyter environment, please rerun this cell to show the HTML representation or trust the notebook. <br />On GitHub, the HTML representation is unable to render, please try loading this page with nbviewer.org.</b></div><div class=\"sk-container\" hidden><div class=\"sk-item\"><div class=\"sk-estimator sk-toggleable\"><input class=\"sk-toggleable__control sk-hidden--visually\" id=\"sk-estimator-id-1\" type=\"checkbox\" checked><label for=\"sk-estimator-id-1\" class=\"sk-toggleable__label sk-toggleable__label-arrow\">LogisticRegression</label><div class=\"sk-toggleable__content\"><pre>LogisticRegression(max_iter=1000)</pre></div></div></div></div></div>"
      ],
      "text/plain": [
       "LogisticRegression(max_iter=1000)"
      ]
     },
     "execution_count": 11,
     "metadata": {},
     "output_type": "execute_result"
    }
   ],
   "source": [
    "from sklearn.linear_model import LogisticRegression\n",
    "\n",
    "# Train a simple and powerful model\n",
    "model = LogisticRegression(max_iter=1000)\n",
    "model.fit(X_train_vec, y_train)"
   ]
  },
  {
   "cell_type": "code",
   "execution_count": 12,
   "id": "8aacc975",
   "metadata": {
    "execution": {
     "iopub.execute_input": "2025-10-03T14:32:42.812351Z",
     "iopub.status.busy": "2025-10-03T14:32:42.811946Z",
     "iopub.status.idle": "2025-10-03T14:32:43.003730Z",
     "shell.execute_reply": "2025-10-03T14:32:43.002453Z"
    },
    "papermill": {
     "duration": 0.201114,
     "end_time": "2025-10-03T14:32:43.005484",
     "exception": false,
     "start_time": "2025-10-03T14:32:42.804370",
     "status": "completed"
    },
    "tags": []
   },
   "outputs": [
    {
     "name": "stdout",
     "output_type": "stream",
     "text": [
      "Accuracy: 0.894244379933303\n",
      "              precision    recall  f1-score   support\n",
      "\n",
      "           0       0.93      0.94      0.94     24201\n",
      "           1       0.91      0.93      0.92     28164\n",
      "           2       0.79      0.75      0.77      6929\n",
      "           3       0.90      0.90      0.90     11441\n",
      "           4       0.85      0.83      0.84      9594\n",
      "           5       0.75      0.69      0.72      3033\n",
      "\n",
      "    accuracy                           0.89     83362\n",
      "   macro avg       0.86      0.84      0.85     83362\n",
      "weighted avg       0.89      0.89      0.89     83362\n",
      "\n"
     ]
    }
   ],
   "source": [
    "from sklearn.metrics import classification_report, accuracy_score, confusion_matrix\n",
    "import seaborn as sns\n",
    "\n",
    "# Make predictions\n",
    "y_pred = model.predict(X_test_vec)\n",
    "\n",
    "# Accuracy and report\n",
    "print(\"Accuracy:\", accuracy_score(y_test, y_pred))\n",
    "print(classification_report(y_test, y_pred))"
   ]
  },
  {
   "cell_type": "code",
   "execution_count": 13,
   "id": "bb8ca690",
   "metadata": {
    "execution": {
     "iopub.execute_input": "2025-10-03T14:32:43.014005Z",
     "iopub.status.busy": "2025-10-03T14:32:43.013731Z",
     "iopub.status.idle": "2025-10-03T14:32:43.268687Z",
     "shell.execute_reply": "2025-10-03T14:32:43.267851Z"
    },
    "papermill": {
     "duration": 0.261015,
     "end_time": "2025-10-03T14:32:43.270200",
     "exception": false,
     "start_time": "2025-10-03T14:32:43.009185",
     "status": "completed"
    },
    "tags": []
   },
   "outputs": [
    {
     "data": {
      "image/png": "[encoded data removed]",
      "text/plain": [
       "<Figure size 800x600 with 2 Axes>"
      ]
     },
     "metadata": {},
     "output_type": "display_data"
    }
   ],
   "source": [
    "# Confusion matrix\n",
    "plt.figure(figsize=(8,6))\n",
    "sns.heatmap(confusion_matrix(y_test, y_pred), annot=True, fmt='d')\n",
    "plt.title(\"Confusion Matrix\")\n",
    "plt.show()"
   ]
  }
 ],
 "metadata": {
  "kaggle": {
   "accelerator": "none",
   "dataSources": [
    {
     "datasetId": 4403839,
     "sourceId": 7563141,
     "sourceType": "datasetVersion"
    }
   ],
   "dockerImageVersionId": 31089,
   "isGpuEnabled": false,
   "isInternetEnabled": true,
   "language": "python",
   "sourceType": "notebook"
  },
  "kernelspec": {
   "display_name": "Python 3",
   "language": "python",
   "name": "python3"
  },
  "language_info": {
   "codemirror_mode": {
    "name": "ipython",
    "version": 3
   },
   "file_extension": ".py",
   "mimetype": "text/x-python",
   "name": "python",
   "nbconvert_exporter": "python",
   "pygments_lexer": "ipython3",
   "version": "3.11.13"
  },
  "papermill": {
   "default_parameters": {},
   "duration": 165.840588,
   "end_time": "2025-10-03T14:32:43.995496",
   "environment_variables": {},
   "exception": null,
   "input_path": "__notebook__.ipynb",
   "output_path": "__notebook__.ipynb",
   "parameters": {},
   "start_time": "2025-10-03T14:29:58.154908",
   "version": "2.6.0"
  }
 },
 "nbformat": 4,
 "nbformat_minor": 5
}
