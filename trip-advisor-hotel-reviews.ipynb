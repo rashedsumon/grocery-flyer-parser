{
 "cells": [
  {
   "cell_type": "code",
   "execution_count": 1,
   "id": "2c1ea6b6",
   "metadata": {
    "_cell_guid": "b1076dfc-b9ad-4769-8c92-a6c4dae69d19",
    "_uuid": "8f2839f25d086af736a60e9eeb907d3b93b6e0e5",
    "execution": {
     "iopub.execute_input": "2025-10-03T14:14:46.048683Z",
     "iopub.status.busy": "2025-10-03T14:14:46.048041Z",
     "iopub.status.idle": "2025-10-03T14:14:48.376692Z",
     "shell.execute_reply": "2025-10-03T14:14:48.375351Z"
    },
    "papermill": {
     "duration": 2.335434,
     "end_time": "2025-10-03T14:14:48.378613",
     "exception": false,
     "start_time": "2025-10-03T14:14:46.043179",
     "status": "completed"
    },
    "tags": []
   },
   "outputs": [
    {
     "name": "stdout",
     "output_type": "stream",
     "text": [
      "/kaggle/input/trip-advisor-hotel-reviews/tripadvisor_hotel_reviews.csv\n"
     ]
    }
   ],
   "source": [
    "# This Python 3 environment comes with many helpful analytics libraries installed\n",
    "# It is defined by the kaggle/python Docker image: https://github.com/kaggle/docker-python\n",
    "# For example, here's several helpful packages to load\n",
    "\n",
    "import numpy as np # linear algebra\n",
    "import pandas as pd # data processing, CSV file I/O (e.g. pd.read_csv)\n",
    "\n",
    "# Input data files are available in the read-only \"../input/\" directory\n",
    "# For example, running this (by clicking run or pressing Shift+Enter) will list all files under the input directory\n",
    "\n",
    "import os\n",
    "for dirname, _, filenames in os.walk('/kaggle/input'):\n",
    "    for filename in filenames:\n",
    "        print(os.path.join(dirname, filename))\n",
    "\n",
    "# You can write up to 20GB to the current directory (/kaggle/working/) that gets preserved as output when you create a version using \"Save & Run All\" \n",
    "# You can also write temporary files to /kaggle/temp/, but they won't be saved outside of the current session"
   ]
  },
  {
   "cell_type": "code",
   "execution_count": 2,
   "id": "9ade5732",
   "metadata": {
    "execution": {
     "iopub.execute_input": "2025-10-03T14:14:48.388061Z",
     "iopub.status.busy": "2025-10-03T14:14:48.387614Z",
     "iopub.status.idle": "2025-10-03T14:14:48.394028Z",
     "shell.execute_reply": "2025-10-03T14:14:48.392856Z"
    },
    "papermill": {
     "duration": 0.014399,
     "end_time": "2025-10-03T14:14:48.397335",
     "exception": false,
     "start_time": "2025-10-03T14:14:48.382936",
     "status": "completed"
    },
    "tags": []
   },
   "outputs": [],
   "source": [
    "import warnings\n",
    "warnings.filterwarnings(\"ignore\")"
   ]
  },
  {
   "cell_type": "code",
   "execution_count": 3,
   "id": "957227c0",
   "metadata": {
    "execution": {
     "iopub.execute_input": "2025-10-03T14:14:48.406521Z",
     "iopub.status.busy": "2025-10-03T14:14:48.405977Z",
     "iopub.status.idle": "2025-10-03T14:14:50.763051Z",
     "shell.execute_reply": "2025-10-03T14:14:50.761930Z"
    },
    "papermill": {
     "duration": 2.363276,
     "end_time": "2025-10-03T14:14:50.764780",
     "exception": false,
     "start_time": "2025-10-03T14:14:48.401504",
     "status": "completed"
    },
    "tags": []
   },
   "outputs": [],
   "source": [
    "#Import necessary libraries\n",
    "import pandas as pd\n",
    "import matplotlib.pyplot as plt\n",
    "import seaborn as sns"
   ]
  },
  {
   "cell_type": "code",
   "execution_count": 4,
   "id": "1391210b",
   "metadata": {
    "execution": {
     "iopub.execute_input": "2025-10-03T14:14:50.772793Z",
     "iopub.status.busy": "2025-10-03T14:14:50.772312Z",
     "iopub.status.idle": "2025-10-03T14:14:51.166966Z",
     "shell.execute_reply": "2025-10-03T14:14:51.165889Z"
    },
    "papermill": {
     "duration": 0.400432,
     "end_time": "2025-10-03T14:14:51.168603",
     "exception": false,
     "start_time": "2025-10-03T14:14:50.768171",
     "status": "completed"
    },
    "tags": []
   },
   "outputs": [
    {
     "data": {
      "text/html": [
       "<div>\n",
       "<style scoped>\n",
       "    .dataframe tbody tr th:only-of-type {\n",
       "        vertical-align: middle;\n",
       "    }\n",
       "\n",
       "    .dataframe tbody tr th {\n",
       "        vertical-align: top;\n",
       "    }\n",
       "\n",
       "    .dataframe thead th {\n",
       "        text-align: right;\n",
       "    }\n",
       "</style>\n",
       "<table border=\"1\" class=\"dataframe\">\n",
       "  <thead>\n",
       "    <tr style=\"text-align: right;\">\n",
       "      <th></th>\n",
       "      <th>Review</th>\n",
       "      <th>Rating</th>\n",
       "    </tr>\n",
       "  </thead>\n",
       "  <tbody>\n",
       "    <tr>\n",
       "      <th>0</th>\n",
       "      <td>nice hotel expensive parking got good deal sta...</td>\n",
       "      <td>4</td>\n",
       "    </tr>\n",
       "    <tr>\n",
       "      <th>1</th>\n",
       "      <td>ok nothing special charge diamond member hilto...</td>\n",
       "      <td>2</td>\n",
       "    </tr>\n",
       "    <tr>\n",
       "      <th>2</th>\n",
       "      <td>nice rooms not 4* experience hotel monaco seat...</td>\n",
       "      <td>3</td>\n",
       "    </tr>\n",
       "    <tr>\n",
       "      <th>3</th>\n",
       "      <td>unique, great stay, wonderful time hotel monac...</td>\n",
       "      <td>5</td>\n",
       "    </tr>\n",
       "    <tr>\n",
       "      <th>4</th>\n",
       "      <td>great stay great stay, went seahawk game aweso...</td>\n",
       "      <td>5</td>\n",
       "    </tr>\n",
       "  </tbody>\n",
       "</table>\n",
       "</div>"
      ],
      "text/plain": [
       "                                              Review  Rating\n",
       "0  nice hotel expensive parking got good deal sta...       4\n",
       "1  ok nothing special charge diamond member hilto...       2\n",
       "2  nice rooms not 4* experience hotel monaco seat...       3\n",
       "3  unique, great stay, wonderful time hotel monac...       5\n",
       "4  great stay great stay, went seahawk game aweso...       5"
      ]
     },
     "execution_count": 4,
     "metadata": {},
     "output_type": "execute_result"
    }
   ],
   "source": [
    "df = pd.read_csv('/kaggle/input/trip-advisor-hotel-reviews/tripadvisor_hotel_reviews.csv')\n",
    "df.head()"
   ]
  },
  {
   "cell_type": "code",
   "execution_count": 5,
   "id": "12d79c3c",
   "metadata": {
    "execution": {
     "iopub.execute_input": "2025-10-03T14:14:51.177660Z",
     "iopub.status.busy": "2025-10-03T14:14:51.177212Z",
     "iopub.status.idle": "2025-10-03T14:14:51.185528Z",
     "shell.execute_reply": "2025-10-03T14:14:51.184344Z"
    },
    "papermill": {
     "duration": 0.014857,
     "end_time": "2025-10-03T14:14:51.187134",
     "exception": false,
     "start_time": "2025-10-03T14:14:51.172277",
     "status": "completed"
    },
    "tags": []
   },
   "outputs": [
    {
     "data": {
      "text/plain": [
       "Index(['Review', 'Rating'], dtype='object')"
      ]
     },
     "execution_count": 5,
     "metadata": {},
     "output_type": "execute_result"
    }
   ],
   "source": [
    "df.columns"
   ]
  },
  {
   "cell_type": "code",
   "execution_count": 6,
   "id": "6a8d9a35",
   "metadata": {
    "execution": {
     "iopub.execute_input": "2025-10-03T14:14:51.195812Z",
     "iopub.status.busy": "2025-10-03T14:14:51.194908Z",
     "iopub.status.idle": "2025-10-03T14:14:51.222595Z",
     "shell.execute_reply": "2025-10-03T14:14:51.221413Z"
    },
    "papermill": {
     "duration": 0.033823,
     "end_time": "2025-10-03T14:14:51.224350",
     "exception": false,
     "start_time": "2025-10-03T14:14:51.190527",
     "status": "completed"
    },
    "tags": []
   },
   "outputs": [
    {
     "name": "stdout",
     "output_type": "stream",
     "text": [
      "<class 'pandas.core.frame.DataFrame'>\n",
      "RangeIndex: 20491 entries, 0 to 20490\n",
      "Data columns (total 2 columns):\n",
      " #   Column  Non-Null Count  Dtype \n",
      "---  ------  --------------  ----- \n",
      " 0   Review  20491 non-null  object\n",
      " 1   Rating  20491 non-null  int64 \n",
      "dtypes: int64(1), object(1)\n",
      "memory usage: 320.3+ KB\n"
     ]
    }
   ],
   "source": [
    "# Check missing values and data types\n",
    "df.info()"
   ]
  },
  {
   "cell_type": "code",
   "execution_count": 7,
   "id": "c51cbfe3",
   "metadata": {
    "execution": {
     "iopub.execute_input": "2025-10-03T14:14:51.232360Z",
     "iopub.status.busy": "2025-10-03T14:14:51.231990Z",
     "iopub.status.idle": "2025-10-03T14:14:51.245202Z",
     "shell.execute_reply": "2025-10-03T14:14:51.244025Z"
    },
    "papermill": {
     "duration": 0.019179,
     "end_time": "2025-10-03T14:14:51.246948",
     "exception": false,
     "start_time": "2025-10-03T14:14:51.227769",
     "status": "completed"
    },
    "tags": []
   },
   "outputs": [
    {
     "data": {
      "text/plain": [
       "Rating\n",
       "1    1421\n",
       "2    1793\n",
       "3    2184\n",
       "4    6039\n",
       "5    9054\n",
       "Name: count, dtype: int64"
      ]
     },
     "execution_count": 7,
     "metadata": {},
     "output_type": "execute_result"
    }
   ],
   "source": [
    "# Check class distribution (Ratings)\n",
    "df['Rating'].value_counts().sort_index()"
   ]
  },
  {
   "cell_type": "code",
   "execution_count": 8,
   "id": "a8310649",
   "metadata": {
    "execution": {
     "iopub.execute_input": "2025-10-03T14:14:51.255217Z",
     "iopub.status.busy": "2025-10-03T14:14:51.254852Z",
     "iopub.status.idle": "2025-10-03T14:14:51.535521Z",
     "shell.execute_reply": "2025-10-03T14:14:51.534574Z"
    },
    "papermill": {
     "duration": 0.286847,
     "end_time": "2025-10-03T14:14:51.537319",
     "exception": false,
     "start_time": "2025-10-03T14:14:51.250472",
     "status": "completed"
    },
    "tags": []
   },
   "outputs": [
    {
     "data": {
      "image/png": "[encoded data removed]",
      "text/plain": [
       "<Figure size 640x480 with 1 Axes>"
      ]
     },
     "metadata": {},
     "output_type": "display_data"
    }
   ],
   "source": [
    "# Plot rating count\n",
    "sns.countplot(data=df, x='Rating')\n",
    "plt.title(\"Rating Distribution\")\n",
    "plt.show()"
   ]
  },
  {
   "cell_type": "code",
   "execution_count": 9,
   "id": "80609a38",
   "metadata": {
    "execution": {
     "iopub.execute_input": "2025-10-03T14:14:51.546435Z",
     "iopub.status.busy": "2025-10-03T14:14:51.546092Z",
     "iopub.status.idle": "2025-10-03T14:14:52.009518Z",
     "shell.execute_reply": "2025-10-03T14:14:52.008339Z"
    },
    "papermill": {
     "duration": 0.470172,
     "end_time": "2025-10-03T14:14:52.011460",
     "exception": false,
     "start_time": "2025-10-03T14:14:51.541288",
     "status": "completed"
    },
    "tags": []
   },
   "outputs": [],
   "source": [
    "# Use sklearn tools\n",
    "from sklearn.model_selection import train_test_split\n",
    "from sklearn.feature_extraction.text import TfidfVectorizer\n",
    "\n",
    "# Split dataset\n",
    "X = df['Review']\n",
    "y = df['Rating']"
   ]
  },
  {
   "cell_type": "code",
   "execution_count": 10,
   "id": "99433295",
   "metadata": {
    "execution": {
     "iopub.execute_input": "2025-10-03T14:14:52.027039Z",
     "iopub.status.busy": "2025-10-03T14:14:52.025772Z",
     "iopub.status.idle": "2025-10-03T14:14:52.036300Z",
     "shell.execute_reply": "2025-10-03T14:14:52.035493Z"
    },
    "papermill": {
     "duration": 0.017288,
     "end_time": "2025-10-03T14:14:52.037897",
     "exception": false,
     "start_time": "2025-10-03T14:14:52.020609",
     "status": "completed"
    },
    "tags": []
   },
   "outputs": [],
   "source": [
    "X_train, X_test, y_train, y_test = train_test_split(X, y, test_size=0.2, random_state=42)"
   ]
  },
  {
   "cell_type": "code",
   "execution_count": 11,
   "id": "54c915e2",
   "metadata": {
    "execution": {
     "iopub.execute_input": "2025-10-03T14:14:52.046998Z",
     "iopub.status.busy": "2025-10-03T14:14:52.046663Z",
     "iopub.status.idle": "2025-10-03T14:14:54.194722Z",
     "shell.execute_reply": "2025-10-03T14:14:54.193490Z"
    },
    "papermill": {
     "duration": 2.154665,
     "end_time": "2025-10-03T14:14:54.196540",
     "exception": false,
     "start_time": "2025-10-03T14:14:52.041875",
     "status": "completed"
    },
    "tags": []
   },
   "outputs": [],
   "source": [
    "# Convert text to TF-IDF vectors\n",
    "tfidf = TfidfVectorizer(stop_words='english', max_features=5000)\n",
    "X_train_tfidf = tfidf.fit_transform(X_train)\n",
    "X_test_tfidf = tfidf.transform(X_test)"
   ]
  },
  {
   "cell_type": "code",
   "execution_count": 12,
   "id": "25874f51",
   "metadata": {
    "execution": {
     "iopub.execute_input": "2025-10-03T14:14:54.205221Z",
     "iopub.status.busy": "2025-10-03T14:14:54.204840Z",
     "iopub.status.idle": "2025-10-03T14:15:38.412603Z",
     "shell.execute_reply": "2025-10-03T14:15:38.411353Z"
    },
    "papermill": {
     "duration": 44.218573,
     "end_time": "2025-10-03T14:15:38.418920",
     "exception": false,
     "start_time": "2025-10-03T14:14:54.200347",
     "status": "completed"
    },
    "tags": []
   },
   "outputs": [
    {
     "data": {
      "text/html": [
       "<style>#sk-container-id-1 {color: black;background-color: white;}#sk-container-id-1 pre{padding: 0;}#sk-container-id-1 div.sk-toggleable {background-color: white;}#sk-container-id-1 label.sk-toggleable__label {cursor: pointer;display: block;width: 100%;margin-bottom: 0;padding: 0.3em;box-sizing: border-box;text-align: center;}#sk-container-id-1 label.sk-toggleable__label-arrow:before {content: \"▸\";float: left;margin-right: 0.25em;color: #696969;}#sk-container-id-1 label.sk-toggleable__label-arrow:hover:before {color: black;}#sk-container-id-1 div.sk-estimator:hover label.sk-toggleable__label-arrow:before {color: black;}#sk-container-id-1 div.sk-toggleable__content {max-height: 0;max-width: 0;overflow: hidden;text-align: left;background-color: #f0f8ff;}#sk-container-id-1 div.sk-toggleable__content pre {margin: 0.2em;color: black;border-radius: 0.25em;background-color: #f0f8ff;}#sk-container-id-1 input.sk-toggleable__control:checked~div.sk-toggleable__content {max-height: 200px;max-width: 100%;overflow: auto;}#sk-container-id-1 input.sk-toggleable__control:checked~label.sk-toggleable__label-arrow:before {content: \"▾\";}#sk-container-id-1 div.sk-estimator input.sk-toggleable__control:checked~label.sk-toggleable__label {background-color: #d4ebff;}#sk-container-id-1 div.sk-label input.sk-toggleable__control:checked~label.sk-toggleable__label {background-color: #d4ebff;}#sk-container-id-1 input.sk-hidden--visually {border: 0;clip: rect(1px 1px 1px 1px);clip: rect(1px, 1px, 1px, 1px);height: 1px;margin: -1px;overflow: hidden;padding: 0;position: absolute;width: 1px;}#sk-container-id-1 div.sk-estimator {font-family: monospace;background-color: #f0f8ff;border: 1px dotted black;border-radius: 0.25em;box-sizing: border-box;margin-bottom: 0.5em;}#sk-container-id-1 div.sk-estimator:hover {background-color: #d4ebff;}#sk-container-id-1 div.sk-parallel-item::after {content: \"\";width: 100%;border-bottom: 1px solid gray;flex-grow: 1;}#sk-container-id-1 div.sk-label:hover label.sk-toggleable__label {background-color: #d4ebff;}#sk-container-id-1 div.sk-serial::before {content: \"\";position: absolute;border-left: 1px solid gray;box-sizing: border-box;top: 0;bottom: 0;left: 50%;z-index: 0;}#sk-container-id-1 div.sk-serial {display: flex;flex-direction: column;align-items: center;background-color: white;padding-right: 0.2em;padding-left: 0.2em;position: relative;}#sk-container-id-1 div.sk-item {position: relative;z-index: 1;}#sk-container-id-1 div.sk-parallel {display: flex;align-items: stretch;justify-content: center;background-color: white;position: relative;}#sk-container-id-1 div.sk-item::before, #sk-container-id-1 div.sk-parallel-item::before {content: \"\";position: absolute;border-left: 1px solid gray;box-sizing: border-box;top: 0;bottom: 0;left: 50%;z-index: -1;}#sk-container-id-1 div.sk-parallel-item {display: flex;flex-direction: column;z-index: 1;position: relative;background-color: white;}#sk-container-id-1 div.sk-parallel-item:first-child::after {align-self: flex-end;width: 50%;}#sk-container-id-1 div.sk-parallel-item:last-child::after {align-self: flex-start;width: 50%;}#sk-container-id-1 div.sk-parallel-item:only-child::after {width: 0;}#sk-container-id-1 div.sk-dashed-wrapped {border: 1px dashed gray;margin: 0 0.4em 0.5em 0.4em;box-sizing: border-box;padding-bottom: 0.4em;background-color: white;}#sk-container-id-1 div.sk-label label {font-family: monospace;font-weight: bold;display: inline-block;line-height: 1.2em;}#sk-container-id-1 div.sk-label-container {text-align: center;}#sk-container-id-1 div.sk-container {/* jupyter's `normalize.less` sets `[hidden] { display: none; }` but bootstrap.min.css set `[hidden] { display: none !important; }` so we also need the `!important` here to be able to override the default hidden behavior on the sphinx rendered scikit-learn.org. See: https://github.com/scikit-learn/scikit-learn/issues/21755 */display: inline-block !important;position: relative;}#sk-container-id-1 div.sk-text-repr-fallback {display: none;}</style><div id=\"sk-container-id-1\" class=\"sk-top-container\"><div class=\"sk-text-repr-fallback\"><pre>RandomForestClassifier()</pre><b>In a Jupyter environment, please rerun this cell to show the HTML representation or trust the notebook. <br />On GitHub, the HTML representation is unable to render, please try loading this page with nbviewer.org.</b></div><div class=\"sk-container\" hidden><div class=\"sk-item\"><div class=\"sk-estimator sk-toggleable\"><input class=\"sk-toggleable__control sk-hidden--visually\" id=\"sk-estimator-id-1\" type=\"checkbox\" checked><label for=\"sk-estimator-id-1\" class=\"sk-toggleable__label sk-toggleable__label-arrow\">RandomForestClassifier</label><div class=\"sk-toggleable__content\"><pre>RandomForestClassifier()</pre></div></div></div></div></div>"
      ],
      "text/plain": [
       "RandomForestClassifier()"
      ]
     },
     "execution_count": 12,
     "metadata": {},
     "output_type": "execute_result"
    }
   ],
   "source": [
    "from sklearn.ensemble import RandomForestClassifier\n",
    "from sklearn.metrics import classification_report, confusion_matrix\n",
    "\n",
    "# Train model\n",
    "model = RandomForestClassifier()\n",
    "model.fit(X_train_tfidf, y_train)"
   ]
  },
  {
   "cell_type": "code",
   "execution_count": 13,
   "id": "1e0afb2c",
   "metadata": {
    "execution": {
     "iopub.execute_input": "2025-10-03T14:15:38.428113Z",
     "iopub.status.busy": "2025-10-03T14:15:38.427787Z",
     "iopub.status.idle": "2025-10-03T14:15:38.695487Z",
     "shell.execute_reply": "2025-10-03T14:15:38.694230Z"
    },
    "papermill": {
     "duration": 0.274352,
     "end_time": "2025-10-03T14:15:38.697221",
     "exception": false,
     "start_time": "2025-10-03T14:15:38.422869",
     "status": "completed"
    },
    "tags": []
   },
   "outputs": [
    {
     "name": "stdout",
     "output_type": "stream",
     "text": [
      "              precision    recall  f1-score   support\n",
      "\n",
      "           1       0.73      0.49      0.58       292\n",
      "           2       0.36      0.07      0.11       333\n",
      "           3       0.50      0.03      0.05       432\n",
      "           4       0.44      0.33      0.37      1252\n",
      "           5       0.57      0.92      0.71      1790\n",
      "\n",
      "    accuracy                           0.55      4099\n",
      "   macro avg       0.52      0.37      0.37      4099\n",
      "weighted avg       0.52      0.55      0.48      4099\n",
      "\n"
     ]
    }
   ],
   "source": [
    "# Predict\n",
    "y_pred = model.predict(X_test_tfidf)\n",
    "\n",
    "# Evaluate\n",
    "print(classification_report(y_test, y_pred))"
   ]
  }
 ],
 "metadata": {
  "kaggle": {
   "accelerator": "none",
   "dataSources": [
    {
     "datasetId": 897156,
     "sourceId": 1526618,
     "sourceType": "datasetVersion"
    }
   ],
   "dockerImageVersionId": 31089,
   "isGpuEnabled": false,
   "isInternetEnabled": true,
   "language": "python",
   "sourceType": "notebook"
  },
  "kernelspec": {
   "display_name": "Python 3",
   "language": "python",
   "name": "python3"
  },
  "language_info": {
   "codemirror_mode": {
    "name": "ipython",
    "version": 3
   },
   "file_extension": ".py",
   "mimetype": "text/x-python",
   "name": "python",
   "nbconvert_exporter": "python",
   "pygments_lexer": "ipython3",
   "version": "3.11.13"
  },
  "papermill": {
   "default_parameters": {},
   "duration": 59.760311,
   "end_time": "2025-10-03T14:15:39.523796",
   "environment_variables": {},
   "exception": null,
   "input_path": "__notebook__.ipynb",
   "output_path": "__notebook__.ipynb",
   "parameters": {},
   "start_time": "2025-10-03T14:14:39.763485",
   "version": "2.6.0"
  }
 },
 "nbformat": 4,
 "nbformat_minor": 5
}
