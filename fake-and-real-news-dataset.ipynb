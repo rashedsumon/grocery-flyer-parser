{
 "cells": [
  {
   "cell_type": "code",
   "execution_count": 1,
   "id": "1709069f",
   "metadata": {
    "_cell_guid": "b1076dfc-b9ad-4769-8c92-a6c4dae69d19",
    "_uuid": "8f2839f25d086af736a60e9eeb907d3b93b6e0e5",
    "execution": {
     "iopub.execute_input": "2025-10-03T17:03:57.707107Z",
     "iopub.status.busy": "2025-10-03T17:03:57.706725Z",
     "iopub.status.idle": "2025-10-03T17:03:59.591010Z",
     "shell.execute_reply": "2025-10-03T17:03:59.589821Z"
    },
    "papermill": {
     "duration": 1.890593,
     "end_time": "2025-10-03T17:03:59.592582",
     "exception": false,
     "start_time": "2025-10-03T17:03:57.701989",
     "status": "completed"
    },
    "tags": []
   },
   "outputs": [
    {
     "name": "stdout",
     "output_type": "stream",
     "text": [
      "/kaggle/input/fake-and-real-news-dataset/True.csv\n",
      "/kaggle/input/fake-and-real-news-dataset/Fake.csv\n"
     ]
    }
   ],
   "source": [
    "# This Python 3 environment comes with many helpful analytics libraries installed\n",
    "# It is defined by the kaggle/python Docker image: https://github.com/kaggle/docker-python\n",
    "# For example, here's several helpful packages to load\n",
    "\n",
    "import numpy as np # linear algebra\n",
    "import pandas as pd # data processing, CSV file I/O (e.g. pd.read_csv)\n",
    "\n",
    "# Input data files are available in the read-only \"../input/\" directory\n",
    "# For example, running this (by clicking run or pressing Shift+Enter) will list all files under the input directory\n",
    "\n",
    "import os\n",
    "for dirname, _, filenames in os.walk('/kaggle/input'):\n",
    "    for filename in filenames:\n",
    "        print(os.path.join(dirname, filename))\n",
    "\n",
    "# You can write up to 20GB to the current directory (/kaggle/working/) that gets preserved as output when you create a version using \"Save & Run All\" \n",
    "# You can also write temporary files to /kaggle/temp/, but they won't be saved outside of the current session"
   ]
  },
  {
   "cell_type": "code",
   "execution_count": 2,
   "id": "8a5aa7cc",
   "metadata": {
    "execution": {
     "iopub.execute_input": "2025-10-03T17:03:59.600702Z",
     "iopub.status.busy": "2025-10-03T17:03:59.600257Z",
     "iopub.status.idle": "2025-10-03T17:03:59.604985Z",
     "shell.execute_reply": "2025-10-03T17:03:59.603967Z"
    },
    "papermill": {
     "duration": 0.010039,
     "end_time": "2025-10-03T17:03:59.606313",
     "exception": false,
     "start_time": "2025-10-03T17:03:59.596274",
     "status": "completed"
    },
    "tags": []
   },
   "outputs": [],
   "source": [
    "import warnings\n",
    "warnings.filterwarnings(\"ignore\")"
   ]
  },
  {
   "cell_type": "code",
   "execution_count": 3,
   "id": "00b3e45b",
   "metadata": {
    "execution": {
     "iopub.execute_input": "2025-10-03T17:03:59.614019Z",
     "iopub.status.busy": "2025-10-03T17:03:59.613475Z",
     "iopub.status.idle": "2025-10-03T17:04:01.444018Z",
     "shell.execute_reply": "2025-10-03T17:04:01.442894Z"
    },
    "papermill": {
     "duration": 1.836253,
     "end_time": "2025-10-03T17:04:01.445756",
     "exception": false,
     "start_time": "2025-10-03T17:03:59.609503",
     "status": "completed"
    },
    "tags": []
   },
   "outputs": [],
   "source": [
    "# Load dataset\n",
    "import pandas as pd\n",
    "from sklearn.model_selection import train_test_split\n",
    "from sklearn.feature_extraction.text import TfidfVectorizer\n",
    "from sklearn.linear_model import PassiveAggressiveClassifier\n",
    "from sklearn.metrics import accuracy_score, confusion_matrix, classification_report"
   ]
  },
  {
   "cell_type": "code",
   "execution_count": 4,
   "id": "9894414b",
   "metadata": {
    "execution": {
     "iopub.execute_input": "2025-10-03T17:04:01.453495Z",
     "iopub.status.busy": "2025-10-03T17:04:01.452957Z",
     "iopub.status.idle": "2025-10-03T17:04:03.521402Z",
     "shell.execute_reply": "2025-10-03T17:04:03.520409Z"
    },
    "papermill": {
     "duration": 2.073916,
     "end_time": "2025-10-03T17:04:03.522925",
     "exception": false,
     "start_time": "2025-10-03T17:04:01.449009",
     "status": "completed"
    },
    "tags": []
   },
   "outputs": [
    {
     "data": {
      "text/html": [
       "<div>\n",
       "<style scoped>\n",
       "    .dataframe tbody tr th:only-of-type {\n",
       "        vertical-align: middle;\n",
       "    }\n",
       "\n",
       "    .dataframe tbody tr th {\n",
       "        vertical-align: top;\n",
       "    }\n",
       "\n",
       "    .dataframe thead th {\n",
       "        text-align: right;\n",
       "    }\n",
       "</style>\n",
       "<table border=\"1\" class=\"dataframe\">\n",
       "  <thead>\n",
       "    <tr style=\"text-align: right;\">\n",
       "      <th></th>\n",
       "      <th>title</th>\n",
       "      <th>text</th>\n",
       "      <th>subject</th>\n",
       "      <th>date</th>\n",
       "    </tr>\n",
       "  </thead>\n",
       "  <tbody>\n",
       "    <tr>\n",
       "      <th>0</th>\n",
       "      <td>Donald Trump Sends Out Embarrassing New Year’...</td>\n",
       "      <td>Donald Trump just couldn t wish all Americans ...</td>\n",
       "      <td>News</td>\n",
       "      <td>December 31, 2017</td>\n",
       "    </tr>\n",
       "    <tr>\n",
       "      <th>1</th>\n",
       "      <td>Drunk Bragging Trump Staffer Started Russian ...</td>\n",
       "      <td>House Intelligence Committee Chairman Devin Nu...</td>\n",
       "      <td>News</td>\n",
       "      <td>December 31, 2017</td>\n",
       "    </tr>\n",
       "    <tr>\n",
       "      <th>2</th>\n",
       "      <td>Sheriff David Clarke Becomes An Internet Joke...</td>\n",
       "      <td>On Friday, it was revealed that former Milwauk...</td>\n",
       "      <td>News</td>\n",
       "      <td>December 30, 2017</td>\n",
       "    </tr>\n",
       "    <tr>\n",
       "      <th>3</th>\n",
       "      <td>Trump Is So Obsessed He Even Has Obama’s Name...</td>\n",
       "      <td>On Christmas day, Donald Trump announced that ...</td>\n",
       "      <td>News</td>\n",
       "      <td>December 29, 2017</td>\n",
       "    </tr>\n",
       "    <tr>\n",
       "      <th>4</th>\n",
       "      <td>Pope Francis Just Called Out Donald Trump Dur...</td>\n",
       "      <td>Pope Francis used his annual Christmas Day mes...</td>\n",
       "      <td>News</td>\n",
       "      <td>December 25, 2017</td>\n",
       "    </tr>\n",
       "  </tbody>\n",
       "</table>\n",
       "</div>"
      ],
      "text/plain": [
       "                                               title  \\\n",
       "0   Donald Trump Sends Out Embarrassing New Year’...   \n",
       "1   Drunk Bragging Trump Staffer Started Russian ...   \n",
       "2   Sheriff David Clarke Becomes An Internet Joke...   \n",
       "3   Trump Is So Obsessed He Even Has Obama’s Name...   \n",
       "4   Pope Francis Just Called Out Donald Trump Dur...   \n",
       "\n",
       "                                                text subject  \\\n",
       "0  Donald Trump just couldn t wish all Americans ...    News   \n",
       "1  House Intelligence Committee Chairman Devin Nu...    News   \n",
       "2  On Friday, it was revealed that former Milwauk...    News   \n",
       "3  On Christmas day, Donald Trump announced that ...    News   \n",
       "4  Pope Francis used his annual Christmas Day mes...    News   \n",
       "\n",
       "                date  \n",
       "0  December 31, 2017  \n",
       "1  December 31, 2017  \n",
       "2  December 30, 2017  \n",
       "3  December 29, 2017  \n",
       "4  December 25, 2017  "
      ]
     },
     "execution_count": 4,
     "metadata": {},
     "output_type": "execute_result"
    }
   ],
   "source": [
    "df = pd.read_csv('/kaggle/input/fake-and-real-news-dataset/Fake.csv')\n",
    "df.head()"
   ]
  },
  {
   "cell_type": "code",
   "execution_count": 5,
   "id": "e809b569",
   "metadata": {
    "execution": {
     "iopub.execute_input": "2025-10-03T17:04:03.530653Z",
     "iopub.status.busy": "2025-10-03T17:04:03.530350Z",
     "iopub.status.idle": "2025-10-03T17:04:03.537560Z",
     "shell.execute_reply": "2025-10-03T17:04:03.536786Z"
    },
    "papermill": {
     "duration": 0.012584,
     "end_time": "2025-10-03T17:04:03.538870",
     "exception": false,
     "start_time": "2025-10-03T17:04:03.526286",
     "status": "completed"
    },
    "tags": []
   },
   "outputs": [
    {
     "data": {
      "text/plain": [
       "Index(['title', 'text', 'subject', 'date'], dtype='object')"
      ]
     },
     "execution_count": 5,
     "metadata": {},
     "output_type": "execute_result"
    }
   ],
   "source": [
    "df.columns"
   ]
  },
  {
   "cell_type": "code",
   "execution_count": 6,
   "id": "4b9e8751",
   "metadata": {
    "execution": {
     "iopub.execute_input": "2025-10-03T17:04:03.547302Z",
     "iopub.status.busy": "2025-10-03T17:04:03.546330Z",
     "iopub.status.idle": "2025-10-03T17:04:06.003978Z",
     "shell.execute_reply": "2025-10-03T17:04:06.003000Z"
    },
    "papermill": {
     "duration": 2.463556,
     "end_time": "2025-10-03T17:04:06.005749",
     "exception": false,
     "start_time": "2025-10-03T17:04:03.542193",
     "status": "completed"
    },
    "tags": []
   },
   "outputs": [],
   "source": [
    "# Load fake and real datasets\n",
    "fake = pd.read_csv('/kaggle/input/fake-and-real-news-dataset/Fake.csv')\n",
    "real = pd.read_csv('/kaggle/input/fake-and-real-news-dataset/True.csv')"
   ]
  },
  {
   "cell_type": "code",
   "execution_count": 7,
   "id": "20a53105",
   "metadata": {
    "execution": {
     "iopub.execute_input": "2025-10-03T17:04:06.013721Z",
     "iopub.status.busy": "2025-10-03T17:04:06.013441Z",
     "iopub.status.idle": "2025-10-03T17:04:06.020732Z",
     "shell.execute_reply": "2025-10-03T17:04:06.020036Z"
    },
    "papermill": {
     "duration": 0.013093,
     "end_time": "2025-10-03T17:04:06.022318",
     "exception": false,
     "start_time": "2025-10-03T17:04:06.009225",
     "status": "completed"
    },
    "tags": []
   },
   "outputs": [],
   "source": [
    "# Add labels\n",
    "fake['label'] = 'FAKE'\n",
    "real['label'] = 'REAL'"
   ]
  },
  {
   "cell_type": "code",
   "execution_count": 8,
   "id": "e46a2a21",
   "metadata": {
    "execution": {
     "iopub.execute_input": "2025-10-03T17:04:06.030162Z",
     "iopub.status.busy": "2025-10-03T17:04:06.029759Z",
     "iopub.status.idle": "2025-10-03T17:04:06.262970Z",
     "shell.execute_reply": "2025-10-03T17:04:06.261839Z"
    },
    "papermill": {
     "duration": 0.239068,
     "end_time": "2025-10-03T17:04:06.264654",
     "exception": false,
     "start_time": "2025-10-03T17:04:06.025586",
     "status": "completed"
    },
    "tags": []
   },
   "outputs": [],
   "source": [
    "# Combine datasets\n",
    "data = pd.concat([fake, real]).reset_index(drop=True)\n",
    "\n",
    "# Use only title and text columns\n",
    "data['content'] = data['title'] + \" \" + data['text']"
   ]
  },
  {
   "cell_type": "code",
   "execution_count": 9,
   "id": "4ac90a24",
   "metadata": {
    "execution": {
     "iopub.execute_input": "2025-10-03T17:04:06.272982Z",
     "iopub.status.busy": "2025-10-03T17:04:06.272648Z",
     "iopub.status.idle": "2025-10-03T17:04:06.277656Z",
     "shell.execute_reply": "2025-10-03T17:04:06.276731Z"
    },
    "papermill": {
     "duration": 0.010982,
     "end_time": "2025-10-03T17:04:06.279333",
     "exception": false,
     "start_time": "2025-10-03T17:04:06.268351",
     "status": "completed"
    },
    "tags": []
   },
   "outputs": [],
   "source": [
    "# Split data\n",
    "X = data['content']\n",
    "y = data['label']"
   ]
  },
  {
   "cell_type": "code",
   "execution_count": 10,
   "id": "e2d62bb4",
   "metadata": {
    "execution": {
     "iopub.execute_input": "2025-10-03T17:04:06.287181Z",
     "iopub.status.busy": "2025-10-03T17:04:06.286839Z",
     "iopub.status.idle": "2025-10-03T17:04:06.346574Z",
     "shell.execute_reply": "2025-10-03T17:04:06.345548Z"
    },
    "papermill": {
     "duration": 0.065878,
     "end_time": "2025-10-03T17:04:06.348498",
     "exception": false,
     "start_time": "2025-10-03T17:04:06.282620",
     "status": "completed"
    },
    "tags": []
   },
   "outputs": [],
   "source": [
    "# Stratified split\n",
    "X_train, X_test, y_train, y_test = train_test_split(\n",
    "    X, y, test_size=0.2, random_state=42, stratify=y\n",
    ")"
   ]
  },
  {
   "cell_type": "code",
   "execution_count": 11,
   "id": "e0f5d0c5",
   "metadata": {
    "execution": {
     "iopub.execute_input": "2025-10-03T17:04:06.356772Z",
     "iopub.status.busy": "2025-10-03T17:04:06.356461Z",
     "iopub.status.idle": "2025-10-03T17:04:20.768491Z",
     "shell.execute_reply": "2025-10-03T17:04:20.767515Z"
    },
    "papermill": {
     "duration": 14.418181,
     "end_time": "2025-10-03T17:04:20.770277",
     "exception": false,
     "start_time": "2025-10-03T17:04:06.352096",
     "status": "completed"
    },
    "tags": []
   },
   "outputs": [],
   "source": [
    "# TF-IDF Vectorization\n",
    "tfidf = TfidfVectorizer(stop_words='english', max_df=0.7)\n",
    "X_train_tfidf = tfidf.fit_transform(X_train)\n",
    "X_test_tfidf = tfidf.transform(X_test)"
   ]
  },
  {
   "cell_type": "code",
   "execution_count": 12,
   "id": "91d67f98",
   "metadata": {
    "execution": {
     "iopub.execute_input": "2025-10-03T17:04:20.778229Z",
     "iopub.status.busy": "2025-10-03T17:04:20.777902Z",
     "iopub.status.idle": "2025-10-03T17:04:21.179695Z",
     "shell.execute_reply": "2025-10-03T17:04:21.178721Z"
    },
    "papermill": {
     "duration": 0.407662,
     "end_time": "2025-10-03T17:04:21.181337",
     "exception": false,
     "start_time": "2025-10-03T17:04:20.773675",
     "status": "completed"
    },
    "tags": []
   },
   "outputs": [
    {
     "data": {
      "text/html": [
       "<style>#sk-container-id-1 {color: black;background-color: white;}#sk-container-id-1 pre{padding: 0;}#sk-container-id-1 div.sk-toggleable {background-color: white;}#sk-container-id-1 label.sk-toggleable__label {cursor: pointer;display: block;width: 100%;margin-bottom: 0;padding: 0.3em;box-sizing: border-box;text-align: center;}#sk-container-id-1 label.sk-toggleable__label-arrow:before {content: \"▸\";float: left;margin-right: 0.25em;color: #696969;}#sk-container-id-1 label.sk-toggleable__label-arrow:hover:before {color: black;}#sk-container-id-1 div.sk-estimator:hover label.sk-toggleable__label-arrow:before {color: black;}#sk-container-id-1 div.sk-toggleable__content {max-height: 0;max-width: 0;overflow: hidden;text-align: left;background-color: #f0f8ff;}#sk-container-id-1 div.sk-toggleable__content pre {margin: 0.2em;color: black;border-radius: 0.25em;background-color: #f0f8ff;}#sk-container-id-1 input.sk-toggleable__control:checked~div.sk-toggleable__content {max-height: 200px;max-width: 100%;overflow: auto;}#sk-container-id-1 input.sk-toggleable__control:checked~label.sk-toggleable__label-arrow:before {content: \"▾\";}#sk-container-id-1 div.sk-estimator input.sk-toggleable__control:checked~label.sk-toggleable__label {background-color: #d4ebff;}#sk-container-id-1 div.sk-label input.sk-toggleable__control:checked~label.sk-toggleable__label {background-color: #d4ebff;}#sk-container-id-1 input.sk-hidden--visually {border: 0;clip: rect(1px 1px 1px 1px);clip: rect(1px, 1px, 1px, 1px);height: 1px;margin: -1px;overflow: hidden;padding: 0;position: absolute;width: 1px;}#sk-container-id-1 div.sk-estimator {font-family: monospace;background-color: #f0f8ff;border: 1px dotted black;border-radius: 0.25em;box-sizing: border-box;margin-bottom: 0.5em;}#sk-container-id-1 div.sk-estimator:hover {background-color: #d4ebff;}#sk-container-id-1 div.sk-parallel-item::after {content: \"\";width: 100%;border-bottom: 1px solid gray;flex-grow: 1;}#sk-container-id-1 div.sk-label:hover label.sk-toggleable__label {background-color: #d4ebff;}#sk-container-id-1 div.sk-serial::before {content: \"\";position: absolute;border-left: 1px solid gray;box-sizing: border-box;top: 0;bottom: 0;left: 50%;z-index: 0;}#sk-container-id-1 div.sk-serial {display: flex;flex-direction: column;align-items: center;background-color: white;padding-right: 0.2em;padding-left: 0.2em;position: relative;}#sk-container-id-1 div.sk-item {position: relative;z-index: 1;}#sk-container-id-1 div.sk-parallel {display: flex;align-items: stretch;justify-content: center;background-color: white;position: relative;}#sk-container-id-1 div.sk-item::before, #sk-container-id-1 div.sk-parallel-item::before {content: \"\";position: absolute;border-left: 1px solid gray;box-sizing: border-box;top: 0;bottom: 0;left: 50%;z-index: -1;}#sk-container-id-1 div.sk-parallel-item {display: flex;flex-direction: column;z-index: 1;position: relative;background-color: white;}#sk-container-id-1 div.sk-parallel-item:first-child::after {align-self: flex-end;width: 50%;}#sk-container-id-1 div.sk-parallel-item:last-child::after {align-self: flex-start;width: 50%;}#sk-container-id-1 div.sk-parallel-item:only-child::after {width: 0;}#sk-container-id-1 div.sk-dashed-wrapped {border: 1px dashed gray;margin: 0 0.4em 0.5em 0.4em;box-sizing: border-box;padding-bottom: 0.4em;background-color: white;}#sk-container-id-1 div.sk-label label {font-family: monospace;font-weight: bold;display: inline-block;line-height: 1.2em;}#sk-container-id-1 div.sk-label-container {text-align: center;}#sk-container-id-1 div.sk-container {/* jupyter's `normalize.less` sets `[hidden] { display: none; }` but bootstrap.min.css set `[hidden] { display: none !important; }` so we also need the `!important` here to be able to override the default hidden behavior on the sphinx rendered scikit-learn.org. See: https://github.com/scikit-learn/scikit-learn/issues/21755 */display: inline-block !important;position: relative;}#sk-container-id-1 div.sk-text-repr-fallback {display: none;}</style><div id=\"sk-container-id-1\" class=\"sk-top-container\"><div class=\"sk-text-repr-fallback\"><pre>PassiveAggressiveClassifier()</pre><b>In a Jupyter environment, please rerun this cell to show the HTML representation or trust the notebook. <br />On GitHub, the HTML representation is unable to render, please try loading this page with nbviewer.org.</b></div><div class=\"sk-container\" hidden><div class=\"sk-item\"><div class=\"sk-estimator sk-toggleable\"><input class=\"sk-toggleable__control sk-hidden--visually\" id=\"sk-estimator-id-1\" type=\"checkbox\" checked><label for=\"sk-estimator-id-1\" class=\"sk-toggleable__label sk-toggleable__label-arrow\">PassiveAggressiveClassifier</label><div class=\"sk-toggleable__content\"><pre>PassiveAggressiveClassifier()</pre></div></div></div></div></div>"
      ],
      "text/plain": [
       "PassiveAggressiveClassifier()"
      ]
     },
     "execution_count": 12,
     "metadata": {},
     "output_type": "execute_result"
    }
   ],
   "source": [
    "# Train PassiveAggressiveClassifier\n",
    "model = PassiveAggressiveClassifier()\n",
    "model.fit(X_train_tfidf, y_train)"
   ]
  },
  {
   "cell_type": "code",
   "execution_count": 13,
   "id": "874d77ec",
   "metadata": {
    "execution": {
     "iopub.execute_input": "2025-10-03T17:04:21.190361Z",
     "iopub.status.busy": "2025-10-03T17:04:21.190058Z",
     "iopub.status.idle": "2025-10-03T17:04:21.505990Z",
     "shell.execute_reply": "2025-10-03T17:04:21.504901Z"
    },
    "papermill": {
     "duration": 0.3226,
     "end_time": "2025-10-03T17:04:21.507545",
     "exception": false,
     "start_time": "2025-10-03T17:04:21.184945",
     "status": "completed"
    },
    "tags": []
   },
   "outputs": [
    {
     "name": "stdout",
     "output_type": "stream",
     "text": [
      "Accuracy: 0.9952115812917595\n",
      "Confusion Matrix:\n",
      " [[4676   20]\n",
      " [  23 4261]]\n",
      "Classification Report:\n",
      "               precision    recall  f1-score   support\n",
      "\n",
      "        FAKE       1.00      1.00      1.00      4696\n",
      "        REAL       1.00      0.99      0.99      4284\n",
      "\n",
      "    accuracy                           1.00      8980\n",
      "   macro avg       1.00      1.00      1.00      8980\n",
      "weighted avg       1.00      1.00      1.00      8980\n",
      "\n"
     ]
    }
   ],
   "source": [
    "# Predict and evaluate\n",
    "y_pred = model.predict(X_test_tfidf)\n",
    "print(\"Accuracy:\", accuracy_score(y_test, y_pred))\n",
    "print(\"Confusion Matrix:\\n\", confusion_matrix(y_test, y_pred))\n",
    "print(\"Classification Report:\\n\", classification_report(y_test, y_pred))"
   ]
  }
 ],
 "metadata": {
  "kaggle": {
   "accelerator": "none",
   "dataSources": [
    {
     "datasetId": 4831777,
     "sourceId": 8165591,
     "sourceType": "datasetVersion"
    }
   ],
   "dockerImageVersionId": 31089,
   "isGpuEnabled": false,
   "isInternetEnabled": true,
   "language": "python",
   "sourceType": "notebook"
  },
  "kernelspec": {
   "display_name": "Python 3",
   "language": "python",
   "name": "python3"
  },
  "language_info": {
   "codemirror_mode": {
    "name": "ipython",
    "version": 3
   },
   "file_extension": ".py",
   "mimetype": "text/x-python",
   "name": "python",
   "nbconvert_exporter": "python",
   "pygments_lexer": "ipython3",
   "version": "3.11.13"
  },
  "papermill": {
   "default_parameters": {},
   "duration": 30.221915,
   "end_time": "2025-10-03T17:04:22.332003",
   "environment_variables": {},
   "exception": null,
   "input_path": "__notebook__.ipynb",
   "output_path": "__notebook__.ipynb",
   "parameters": {},
   "start_time": "2025-10-03T17:03:52.110088",
   "version": "2.6.0"
  }
 },
 "nbformat": 4,
 "nbformat_minor": 5
}
