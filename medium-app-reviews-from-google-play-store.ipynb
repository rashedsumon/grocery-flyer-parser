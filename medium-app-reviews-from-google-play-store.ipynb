{
 "cells": [
  {
   "cell_type": "code",
   "execution_count": 1,
   "id": "a2335929",
   "metadata": {
    "_cell_guid": "b1076dfc-b9ad-4769-8c92-a6c4dae69d19",
    "_uuid": "8f2839f25d086af736a60e9eeb907d3b93b6e0e5",
    "execution": {
     "iopub.execute_input": "2025-10-03T13:47:38.728849Z",
     "iopub.status.busy": "2025-10-03T13:47:38.727798Z",
     "iopub.status.idle": "2025-10-03T13:47:40.990481Z",
     "shell.execute_reply": "2025-10-03T13:47:40.989462Z"
    },
    "papermill": {
     "duration": 2.269874,
     "end_time": "2025-10-03T13:47:40.992157",
     "exception": false,
     "start_time": "2025-10-03T13:47:38.722283",
     "status": "completed"
    },
    "tags": []
   },
   "outputs": [
    {
     "name": "stdout",
     "output_type": "stream",
     "text": [
      "/kaggle/input/medium-app-reviews-from-google-play-store/dataset.csv\n"
     ]
    }
   ],
   "source": [
    "# This Python 3 environment comes with many helpful analytics libraries installed\n",
    "# It is defined by the kaggle/python Docker image: https://github.com/kaggle/docker-python\n",
    "# For example, here's several helpful packages to load\n",
    "\n",
    "import numpy as np # linear algebra\n",
    "import pandas as pd # data processing, CSV file I/O (e.g. pd.read_csv)\n",
    "\n",
    "# Input data files are available in the read-only \"../input/\" directory\n",
    "# For example, running this (by clicking run or pressing Shift+Enter) will list all files under the input directory\n",
    "\n",
    "import os\n",
    "for dirname, _, filenames in os.walk('/kaggle/input'):\n",
    "    for filename in filenames:\n",
    "        print(os.path.join(dirname, filename))\n",
    "\n",
    "# You can write up to 20GB to the current directory (/kaggle/working/) that gets preserved as output when you create a version using \"Save & Run All\" \n",
    "# You can also write temporary files to /kaggle/temp/, but they won't be saved outside of the current session"
   ]
  },
  {
   "cell_type": "code",
   "execution_count": 2,
   "id": "381694d8",
   "metadata": {
    "execution": {
     "iopub.execute_input": "2025-10-03T13:47:41.001851Z",
     "iopub.status.busy": "2025-10-03T13:47:41.000307Z",
     "iopub.status.idle": "2025-10-03T13:47:41.006601Z",
     "shell.execute_reply": "2025-10-03T13:47:41.005509Z"
    },
    "papermill": {
     "duration": 0.012498,
     "end_time": "2025-10-03T13:47:41.008447",
     "exception": false,
     "start_time": "2025-10-03T13:47:40.995949",
     "status": "completed"
    },
    "tags": []
   },
   "outputs": [],
   "source": [
    "import warnings\n",
    "warnings.filterwarnings(\"ignore\")"
   ]
  },
  {
   "cell_type": "code",
   "execution_count": 3,
   "id": "cc42118b",
   "metadata": {
    "execution": {
     "iopub.execute_input": "2025-10-03T13:47:41.017217Z",
     "iopub.status.busy": "2025-10-03T13:47:41.016887Z",
     "iopub.status.idle": "2025-10-03T13:47:41.542653Z",
     "shell.execute_reply": "2025-10-03T13:47:41.541355Z"
    },
    "papermill": {
     "duration": 0.532124,
     "end_time": "2025-10-03T13:47:41.544344",
     "exception": false,
     "start_time": "2025-10-03T13:47:41.012220",
     "status": "completed"
    },
    "tags": []
   },
   "outputs": [
    {
     "data": {
      "text/html": [
       "<div>\n",
       "<style scoped>\n",
       "    .dataframe tbody tr th:only-of-type {\n",
       "        vertical-align: middle;\n",
       "    }\n",
       "\n",
       "    .dataframe tbody tr th {\n",
       "        vertical-align: top;\n",
       "    }\n",
       "\n",
       "    .dataframe thead th {\n",
       "        text-align: right;\n",
       "    }\n",
       "</style>\n",
       "<table border=\"1\" class=\"dataframe\">\n",
       "  <thead>\n",
       "    <tr style=\"text-align: right;\">\n",
       "      <th></th>\n",
       "      <th>reviewId</th>\n",
       "      <th>content</th>\n",
       "      <th>score</th>\n",
       "      <th>thumbsUpCount</th>\n",
       "      <th>reviewCreatedVersion</th>\n",
       "      <th>at</th>\n",
       "      <th>replyContent</th>\n",
       "      <th>repliedAt</th>\n",
       "      <th>predicted_category</th>\n",
       "      <th>sentiment</th>\n",
       "      <th>appVersion</th>\n",
       "    </tr>\n",
       "  </thead>\n",
       "  <tbody>\n",
       "    <tr>\n",
       "      <th>0</th>\n",
       "      <td>326d4bdd-8fc6-4d64-b3bf-ce393fb2ae9b</td>\n",
       "      <td>woww</td>\n",
       "      <td>5</td>\n",
       "      <td>0</td>\n",
       "      <td>NaN</td>\n",
       "      <td>2022-08-16 05:55:38</td>\n",
       "      <td>NaN</td>\n",
       "      <td>NaN</td>\n",
       "      <td>USER_EXPERIENCE</td>\n",
       "      <td>NEUTRAL</td>\n",
       "      <td>NaN</td>\n",
       "    </tr>\n",
       "    <tr>\n",
       "      <th>1</th>\n",
       "      <td>4bbf741b-2f69-43cd-bb76-f9b5f84c83b5</td>\n",
       "      <td>let me know more details about this</td>\n",
       "      <td>3</td>\n",
       "      <td>0</td>\n",
       "      <td>4.5.1143533</td>\n",
       "      <td>2022-08-16 04:44:45</td>\n",
       "      <td>NaN</td>\n",
       "      <td>NaN</td>\n",
       "      <td>CONTENT</td>\n",
       "      <td>NEUTRAL</td>\n",
       "      <td>NaN</td>\n",
       "    </tr>\n",
       "    <tr>\n",
       "      <th>2</th>\n",
       "      <td>3cb1136d-e7c6-4999-aa84-fdc7bcdccf56</td>\n",
       "      <td>i've been using this for a while and there's a...</td>\n",
       "      <td>2</td>\n",
       "      <td>0</td>\n",
       "      <td>4.5.1143533</td>\n",
       "      <td>2022-08-16 04:05:27</td>\n",
       "      <td>NaN</td>\n",
       "      <td>NaN</td>\n",
       "      <td>INTERFACE</td>\n",
       "      <td>NEGATIVE</td>\n",
       "      <td>NaN</td>\n",
       "    </tr>\n",
       "    <tr>\n",
       "      <th>3</th>\n",
       "      <td>d6f80f05-a6e8-44f3-a380-7c59ed3d208b</td>\n",
       "      <td>good</td>\n",
       "      <td>2</td>\n",
       "      <td>0</td>\n",
       "      <td>4.5.1143533</td>\n",
       "      <td>2022-08-16 00:22:33</td>\n",
       "      <td>NaN</td>\n",
       "      <td>NaN</td>\n",
       "      <td>USER_EXPERIENCE</td>\n",
       "      <td>POSITIVE</td>\n",
       "      <td>NaN</td>\n",
       "    </tr>\n",
       "    <tr>\n",
       "      <th>4</th>\n",
       "      <td>eecb277c-c658-4b2d-86c9-77d3a7022cac</td>\n",
       "      <td>mjkobe</td>\n",
       "      <td>5</td>\n",
       "      <td>0</td>\n",
       "      <td>4.5.1143533</td>\n",
       "      <td>2022-08-15 20:08:25</td>\n",
       "      <td>NaN</td>\n",
       "      <td>NaN</td>\n",
       "      <td>USER_EXPERIENCE</td>\n",
       "      <td>NEUTRAL</td>\n",
       "      <td>NaN</td>\n",
       "    </tr>\n",
       "  </tbody>\n",
       "</table>\n",
       "</div>"
      ],
      "text/plain": [
       "                               reviewId  \\\n",
       "0  326d4bdd-8fc6-4d64-b3bf-ce393fb2ae9b   \n",
       "1  4bbf741b-2f69-43cd-bb76-f9b5f84c83b5   \n",
       "2  3cb1136d-e7c6-4999-aa84-fdc7bcdccf56   \n",
       "3  d6f80f05-a6e8-44f3-a380-7c59ed3d208b   \n",
       "4  eecb277c-c658-4b2d-86c9-77d3a7022cac   \n",
       "\n",
       "                                             content  score  thumbsUpCount  \\\n",
       "0                                               woww      5              0   \n",
       "1                let me know more details about this      3              0   \n",
       "2  i've been using this for a while and there's a...      2              0   \n",
       "3                                               good      2              0   \n",
       "4                                             mjkobe      5              0   \n",
       "\n",
       "  reviewCreatedVersion                   at replyContent repliedAt  \\\n",
       "0                  NaN  2022-08-16 05:55:38          NaN       NaN   \n",
       "1          4.5.1143533  2022-08-16 04:44:45          NaN       NaN   \n",
       "2          4.5.1143533  2022-08-16 04:05:27          NaN       NaN   \n",
       "3          4.5.1143533  2022-08-16 00:22:33          NaN       NaN   \n",
       "4          4.5.1143533  2022-08-15 20:08:25          NaN       NaN   \n",
       "\n",
       "  predicted_category sentiment appVersion  \n",
       "0    USER_EXPERIENCE   NEUTRAL        NaN  \n",
       "1            CONTENT   NEUTRAL        NaN  \n",
       "2          INTERFACE  NEGATIVE        NaN  \n",
       "3    USER_EXPERIENCE  POSITIVE        NaN  \n",
       "4    USER_EXPERIENCE   NEUTRAL        NaN  "
      ]
     },
     "execution_count": 3,
     "metadata": {},
     "output_type": "execute_result"
    }
   ],
   "source": [
    "df = pd.read_csv('/kaggle/input/medium-app-reviews-from-google-play-store/dataset.csv')\n",
    "df.head()"
   ]
  },
  {
   "cell_type": "code",
   "execution_count": 4,
   "id": "5d933ede",
   "metadata": {
    "execution": {
     "iopub.execute_input": "2025-10-03T13:47:41.553916Z",
     "iopub.status.busy": "2025-10-03T13:47:41.552880Z",
     "iopub.status.idle": "2025-10-03T13:47:41.561055Z",
     "shell.execute_reply": "2025-10-03T13:47:41.560281Z"
    },
    "papermill": {
     "duration": 0.014267,
     "end_time": "2025-10-03T13:47:41.562611",
     "exception": false,
     "start_time": "2025-10-03T13:47:41.548344",
     "status": "completed"
    },
    "tags": []
   },
   "outputs": [
    {
     "data": {
      "text/plain": [
       "Index(['reviewId', 'content', 'score', 'thumbsUpCount', 'reviewCreatedVersion',\n",
       "       'at', 'replyContent', 'repliedAt', 'predicted_category', 'sentiment',\n",
       "       'appVersion'],\n",
       "      dtype='object')"
      ]
     },
     "execution_count": 4,
     "metadata": {},
     "output_type": "execute_result"
    }
   ],
   "source": [
    "df.columns"
   ]
  },
  {
   "cell_type": "code",
   "execution_count": 5,
   "id": "928cf9e9",
   "metadata": {
    "execution": {
     "iopub.execute_input": "2025-10-03T13:47:41.571892Z",
     "iopub.status.busy": "2025-10-03T13:47:41.571223Z",
     "iopub.status.idle": "2025-10-03T13:47:41.625531Z",
     "shell.execute_reply": "2025-10-03T13:47:41.624292Z"
    },
    "papermill": {
     "duration": 0.061208,
     "end_time": "2025-10-03T13:47:41.627780",
     "exception": false,
     "start_time": "2025-10-03T13:47:41.566572",
     "status": "completed"
    },
    "tags": []
   },
   "outputs": [
    {
     "name": "stdout",
     "output_type": "stream",
     "text": [
      "<class 'pandas.core.frame.DataFrame'>\n",
      "RangeIndex: 62633 entries, 0 to 62632\n",
      "Data columns (total 11 columns):\n",
      " #   Column                Non-Null Count  Dtype \n",
      "---  ------                --------------  ----- \n",
      " 0   reviewId              62633 non-null  object\n",
      " 1   content               62633 non-null  object\n",
      " 2   score                 62633 non-null  int64 \n",
      " 3   thumbsUpCount         62633 non-null  int64 \n",
      " 4   reviewCreatedVersion  56165 non-null  object\n",
      " 5   at                    62633 non-null  object\n",
      " 6   replyContent          2488 non-null   object\n",
      " 7   repliedAt             2488 non-null   object\n",
      " 8   predicted_category    62633 non-null  object\n",
      " 9   sentiment             62633 non-null  object\n",
      " 10  appVersion            13654 non-null  object\n",
      "dtypes: int64(2), object(9)\n",
      "memory usage: 5.3+ MB\n",
      "None\n"
     ]
    }
   ],
   "source": [
    "# Check basic info\n",
    "print(df.info())"
   ]
  },
  {
   "cell_type": "code",
   "execution_count": 6,
   "id": "e27b70e9",
   "metadata": {
    "execution": {
     "iopub.execute_input": "2025-10-03T13:47:41.637088Z",
     "iopub.status.busy": "2025-10-03T13:47:41.636781Z",
     "iopub.status.idle": "2025-10-03T13:47:44.218149Z",
     "shell.execute_reply": "2025-10-03T13:47:44.216920Z"
    },
    "papermill": {
     "duration": 2.588145,
     "end_time": "2025-10-03T13:47:44.220063",
     "exception": false,
     "start_time": "2025-10-03T13:47:41.631918",
     "status": "completed"
    },
    "tags": []
   },
   "outputs": [
    {
     "data": {
      "image/png": "[encoded data removed]",
      "text/plain": [
       "<Figure size 640x480 with 1 Axes>"
      ]
     },
     "metadata": {},
     "output_type": "display_data"
    }
   ],
   "source": [
    "import matplotlib.pyplot as plt\n",
    "import seaborn as sns\n",
    "\n",
    "# Sentiment distribution\n",
    "sns.countplot(data=df, x='sentiment')\n",
    "plt.title(\"Sentiment Count\")\n",
    "plt.show()"
   ]
  },
  {
   "cell_type": "code",
   "execution_count": 7,
   "id": "04a5423d",
   "metadata": {
    "execution": {
     "iopub.execute_input": "2025-10-03T13:47:44.230909Z",
     "iopub.status.busy": "2025-10-03T13:47:44.230384Z",
     "iopub.status.idle": "2025-10-03T13:47:44.481810Z",
     "shell.execute_reply": "2025-10-03T13:47:44.480828Z"
    },
    "papermill": {
     "duration": 0.258993,
     "end_time": "2025-10-03T13:47:44.483711",
     "exception": false,
     "start_time": "2025-10-03T13:47:44.224718",
     "status": "completed"
    },
    "tags": []
   },
   "outputs": [
    {
     "data": {
      "image/png": "[encoded data removed]",
      "text/plain": [
       "<Figure size 640x480 with 1 Axes>"
      ]
     },
     "metadata": {},
     "output_type": "display_data"
    }
   ],
   "source": [
    "# Score vs Sentiment\n",
    "sns.boxplot(data=df, x='sentiment', y='score')\n",
    "plt.title(\"Score by Sentiment\")\n",
    "plt.show()"
   ]
  },
  {
   "cell_type": "code",
   "execution_count": 8,
   "id": "e19b0af7",
   "metadata": {
    "execution": {
     "iopub.execute_input": "2025-10-03T13:47:44.494544Z",
     "iopub.status.busy": "2025-10-03T13:47:44.494213Z",
     "iopub.status.idle": "2025-10-03T13:47:44.899612Z",
     "shell.execute_reply": "2025-10-03T13:47:44.898780Z"
    },
    "papermill": {
     "duration": 0.412712,
     "end_time": "2025-10-03T13:47:44.901392",
     "exception": false,
     "start_time": "2025-10-03T13:47:44.488680",
     "status": "completed"
    },
    "tags": []
   },
   "outputs": [],
   "source": [
    "import string\n",
    "from sklearn.model_selection import train_test_split\n",
    "from sklearn.feature_extraction.text import TfidfVectorizer\n",
    "\n",
    "# Fill NaNs and clean content\n",
    "df['content'] = df['content'].fillna('').str.lower()"
   ]
  },
  {
   "cell_type": "code",
   "execution_count": 9,
   "id": "fe257551",
   "metadata": {
    "execution": {
     "iopub.execute_input": "2025-10-03T13:47:44.912779Z",
     "iopub.status.busy": "2025-10-03T13:47:44.912338Z",
     "iopub.status.idle": "2025-10-03T13:47:44.917841Z",
     "shell.execute_reply": "2025-10-03T13:47:44.916819Z"
    },
    "papermill": {
     "duration": 0.013251,
     "end_time": "2025-10-03T13:47:44.919639",
     "exception": false,
     "start_time": "2025-10-03T13:47:44.906388",
     "status": "completed"
    },
    "tags": []
   },
   "outputs": [],
   "source": [
    "# Split data\n",
    "X = df['content']\n",
    "y = df['sentiment']"
   ]
  },
  {
   "cell_type": "code",
   "execution_count": 10,
   "id": "fa94adf6",
   "metadata": {
    "execution": {
     "iopub.execute_input": "2025-10-03T13:47:44.930481Z",
     "iopub.status.busy": "2025-10-03T13:47:44.930145Z",
     "iopub.status.idle": "2025-10-03T13:47:45.700837Z",
     "shell.execute_reply": "2025-10-03T13:47:45.699710Z"
    },
    "papermill": {
     "duration": 0.778553,
     "end_time": "2025-10-03T13:47:45.703045",
     "exception": false,
     "start_time": "2025-10-03T13:47:44.924492",
     "status": "completed"
    },
    "tags": []
   },
   "outputs": [],
   "source": [
    "# TF-IDF vectorization\n",
    "vectorizer = TfidfVectorizer(stop_words='english', max_features=3000)\n",
    "X_vec = vectorizer.fit_transform(X)"
   ]
  },
  {
   "cell_type": "code",
   "execution_count": 11,
   "id": "bad060b6",
   "metadata": {
    "execution": {
     "iopub.execute_input": "2025-10-03T13:47:45.715544Z",
     "iopub.status.busy": "2025-10-03T13:47:45.715206Z",
     "iopub.status.idle": "2025-10-03T13:47:45.729643Z",
     "shell.execute_reply": "2025-10-03T13:47:45.728659Z"
    },
    "papermill": {
     "duration": 0.022904,
     "end_time": "2025-10-03T13:47:45.731433",
     "exception": false,
     "start_time": "2025-10-03T13:47:45.708529",
     "status": "completed"
    },
    "tags": []
   },
   "outputs": [],
   "source": [
    "# Train-test split\n",
    "X_train, X_test, y_train, y_test = train_test_split(X_vec, y, test_size=0.2, random_state=42)"
   ]
  },
  {
   "cell_type": "code",
   "execution_count": 12,
   "id": "9e1c60c6",
   "metadata": {
    "execution": {
     "iopub.execute_input": "2025-10-03T13:47:45.742183Z",
     "iopub.status.busy": "2025-10-03T13:47:45.741840Z",
     "iopub.status.idle": "2025-10-03T13:47:49.981098Z",
     "shell.execute_reply": "2025-10-03T13:47:49.980201Z"
    },
    "papermill": {
     "duration": 4.246845,
     "end_time": "2025-10-03T13:47:49.983011",
     "exception": false,
     "start_time": "2025-10-03T13:47:45.736166",
     "status": "completed"
    },
    "tags": []
   },
   "outputs": [
    {
     "data": {
      "text/html": [
       "<style>#sk-container-id-1 {color: black;background-color: white;}#sk-container-id-1 pre{padding: 0;}#sk-container-id-1 div.sk-toggleable {background-color: white;}#sk-container-id-1 label.sk-toggleable__label {cursor: pointer;display: block;width: 100%;margin-bottom: 0;padding: 0.3em;box-sizing: border-box;text-align: center;}#sk-container-id-1 label.sk-toggleable__label-arrow:before {content: \"▸\";float: left;margin-right: 0.25em;color: #696969;}#sk-container-id-1 label.sk-toggleable__label-arrow:hover:before {color: black;}#sk-container-id-1 div.sk-estimator:hover label.sk-toggleable__label-arrow:before {color: black;}#sk-container-id-1 div.sk-toggleable__content {max-height: 0;max-width: 0;overflow: hidden;text-align: left;background-color: #f0f8ff;}#sk-container-id-1 div.sk-toggleable__content pre {margin: 0.2em;color: black;border-radius: 0.25em;background-color: #f0f8ff;}#sk-container-id-1 input.sk-toggleable__control:checked~div.sk-toggleable__content {max-height: 200px;max-width: 100%;overflow: auto;}#sk-container-id-1 input.sk-toggleable__control:checked~label.sk-toggleable__label-arrow:before {content: \"▾\";}#sk-container-id-1 div.sk-estimator input.sk-toggleable__control:checked~label.sk-toggleable__label {background-color: #d4ebff;}#sk-container-id-1 div.sk-label input.sk-toggleable__control:checked~label.sk-toggleable__label {background-color: #d4ebff;}#sk-container-id-1 input.sk-hidden--visually {border: 0;clip: rect(1px 1px 1px 1px);clip: rect(1px, 1px, 1px, 1px);height: 1px;margin: -1px;overflow: hidden;padding: 0;position: absolute;width: 1px;}#sk-container-id-1 div.sk-estimator {font-family: monospace;background-color: #f0f8ff;border: 1px dotted black;border-radius: 0.25em;box-sizing: border-box;margin-bottom: 0.5em;}#sk-container-id-1 div.sk-estimator:hover {background-color: #d4ebff;}#sk-container-id-1 div.sk-parallel-item::after {content: \"\";width: 100%;border-bottom: 1px solid gray;flex-grow: 1;}#sk-container-id-1 div.sk-label:hover label.sk-toggleable__label {background-color: #d4ebff;}#sk-container-id-1 div.sk-serial::before {content: \"\";position: absolute;border-left: 1px solid gray;box-sizing: border-box;top: 0;bottom: 0;left: 50%;z-index: 0;}#sk-container-id-1 div.sk-serial {display: flex;flex-direction: column;align-items: center;background-color: white;padding-right: 0.2em;padding-left: 0.2em;position: relative;}#sk-container-id-1 div.sk-item {position: relative;z-index: 1;}#sk-container-id-1 div.sk-parallel {display: flex;align-items: stretch;justify-content: center;background-color: white;position: relative;}#sk-container-id-1 div.sk-item::before, #sk-container-id-1 div.sk-parallel-item::before {content: \"\";position: absolute;border-left: 1px solid gray;box-sizing: border-box;top: 0;bottom: 0;left: 50%;z-index: -1;}#sk-container-id-1 div.sk-parallel-item {display: flex;flex-direction: column;z-index: 1;position: relative;background-color: white;}#sk-container-id-1 div.sk-parallel-item:first-child::after {align-self: flex-end;width: 50%;}#sk-container-id-1 div.sk-parallel-item:last-child::after {align-self: flex-start;width: 50%;}#sk-container-id-1 div.sk-parallel-item:only-child::after {width: 0;}#sk-container-id-1 div.sk-dashed-wrapped {border: 1px dashed gray;margin: 0 0.4em 0.5em 0.4em;box-sizing: border-box;padding-bottom: 0.4em;background-color: white;}#sk-container-id-1 div.sk-label label {font-family: monospace;font-weight: bold;display: inline-block;line-height: 1.2em;}#sk-container-id-1 div.sk-label-container {text-align: center;}#sk-container-id-1 div.sk-container {/* jupyter's `normalize.less` sets `[hidden] { display: none; }` but bootstrap.min.css set `[hidden] { display: none !important; }` so we also need the `!important` here to be able to override the default hidden behavior on the sphinx rendered scikit-learn.org. See: https://github.com/scikit-learn/scikit-learn/issues/21755 */display: inline-block !important;position: relative;}#sk-container-id-1 div.sk-text-repr-fallback {display: none;}</style><div id=\"sk-container-id-1\" class=\"sk-top-container\"><div class=\"sk-text-repr-fallback\"><pre>LogisticRegression(max_iter=200)</pre><b>In a Jupyter environment, please rerun this cell to show the HTML representation or trust the notebook. <br />On GitHub, the HTML representation is unable to render, please try loading this page with nbviewer.org.</b></div><div class=\"sk-container\" hidden><div class=\"sk-item\"><div class=\"sk-estimator sk-toggleable\"><input class=\"sk-toggleable__control sk-hidden--visually\" id=\"sk-estimator-id-1\" type=\"checkbox\" checked><label for=\"sk-estimator-id-1\" class=\"sk-toggleable__label sk-toggleable__label-arrow\">LogisticRegression</label><div class=\"sk-toggleable__content\"><pre>LogisticRegression(max_iter=200)</pre></div></div></div></div></div>"
      ],
      "text/plain": [
       "LogisticRegression(max_iter=200)"
      ]
     },
     "execution_count": 12,
     "metadata": {},
     "output_type": "execute_result"
    }
   ],
   "source": [
    "from sklearn.linear_model import LogisticRegression\n",
    "from sklearn.metrics import classification_report, accuracy_score\n",
    "\n",
    "# Train Logistic Regression\n",
    "model = LogisticRegression(max_iter=200)\n",
    "model.fit(X_train, y_train)"
   ]
  },
  {
   "cell_type": "code",
   "execution_count": 13,
   "id": "67849e14",
   "metadata": {
    "execution": {
     "iopub.execute_input": "2025-10-03T13:47:49.999896Z",
     "iopub.status.busy": "2025-10-03T13:47:49.999543Z",
     "iopub.status.idle": "2025-10-03T13:47:50.391064Z",
     "shell.execute_reply": "2025-10-03T13:47:50.389936Z"
    },
    "papermill": {
     "duration": 0.402054,
     "end_time": "2025-10-03T13:47:50.392710",
     "exception": false,
     "start_time": "2025-10-03T13:47:49.990656",
     "status": "completed"
    },
    "tags": []
   },
   "outputs": [
    {
     "name": "stdout",
     "output_type": "stream",
     "text": [
      "Accuracy: 0.8800191586173864\n",
      "              precision    recall  f1-score   support\n",
      "\n",
      "    NEGATIVE       0.80      0.67      0.73      1392\n",
      "     NEUTRAL       0.70      0.58      0.64      1733\n",
      "    POSITIVE       0.92      0.96      0.94      9402\n",
      "\n",
      "    accuracy                           0.88     12527\n",
      "   macro avg       0.80      0.74      0.77     12527\n",
      "weighted avg       0.87      0.88      0.87     12527\n",
      "\n"
     ]
    }
   ],
   "source": [
    "# Predict\n",
    "y_pred = model.predict(X_test)\n",
    "\n",
    "# Accuracy\n",
    "print(\"Accuracy:\", accuracy_score(y_test, y_pred))\n",
    "print(classification_report(y_test, y_pred))"
   ]
  },
  {
   "cell_type": "code",
   "execution_count": 14,
   "id": "2defff82",
   "metadata": {
    "execution": {
     "iopub.execute_input": "2025-10-03T13:47:50.403981Z",
     "iopub.status.busy": "2025-10-03T13:47:50.403584Z",
     "iopub.status.idle": "2025-10-03T13:47:50.669905Z",
     "shell.execute_reply": "2025-10-03T13:47:50.668893Z"
    },
    "papermill": {
     "duration": 0.274055,
     "end_time": "2025-10-03T13:47:50.671927",
     "exception": false,
     "start_time": "2025-10-03T13:47:50.397872",
     "status": "completed"
    },
    "tags": []
   },
   "outputs": [
    {
     "data": {
      "image/png": "[encoded data removed]",
      "text/plain": [
       "<Figure size 640x480 with 2 Axes>"
      ]
     },
     "metadata": {},
     "output_type": "display_data"
    }
   ],
   "source": [
    "from sklearn.metrics import ConfusionMatrixDisplay\n",
    "from sklearn.metrics import confusion_matrix\n",
    "\n",
    "# Confusion Matrix\n",
    "cm = confusion_matrix(y_test, y_pred, labels=model.classes_)\n",
    "disp = ConfusionMatrixDisplay(confusion_matrix=cm, display_labels=model.classes_)\n",
    "disp.plot(cmap='Blues')\n",
    "plt.title(\"Confusion Matrix\")\n",
    "plt.show()"
   ]
  }
 ],
 "metadata": {
  "kaggle": {
   "accelerator": "none",
   "dataSources": [
    {
     "datasetId": 2413374,
     "sourceId": 12275414,
     "sourceType": "datasetVersion"
    }
   ],
   "dockerImageVersionId": 31089,
   "isGpuEnabled": false,
   "isInternetEnabled": true,
   "language": "python",
   "sourceType": "notebook"
  },
  "kernelspec": {
   "display_name": "Python 3",
   "language": "python",
   "name": "python3"
  },
  "language_info": {
   "codemirror_mode": {
    "name": "ipython",
    "version": 3
   },
   "file_extension": ".py",
   "mimetype": "text/x-python",
   "name": "python",
   "nbconvert_exporter": "python",
   "pygments_lexer": "ipython3",
   "version": "3.11.13"
  },
  "papermill": {
   "default_parameters": {},
   "duration": 19.900187,
   "end_time": "2025-10-03T13:47:51.403192",
   "environment_variables": {},
   "exception": null,
   "input_path": "__notebook__.ipynb",
   "output_path": "__notebook__.ipynb",
   "parameters": {},
   "start_time": "2025-10-03T13:47:31.503005",
   "version": "2.6.0"
  }
 },
 "nbformat": 4,
 "nbformat_minor": 5
}
