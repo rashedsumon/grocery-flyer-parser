{
 "cells": [
  {
   "cell_type": "code",
   "execution_count": 1,
   "id": "a0b4caf8",
   "metadata": {
    "_cell_guid": "b1076dfc-b9ad-4769-8c92-a6c4dae69d19",
    "_uuid": "8f2839f25d086af736a60e9eeb907d3b93b6e0e5",
    "execution": {
     "iopub.execute_input": "2025-10-03T17:11:25.553035Z",
     "iopub.status.busy": "2025-10-03T17:11:25.552695Z",
     "iopub.status.idle": "2025-10-03T17:11:27.888799Z",
     "shell.execute_reply": "2025-10-03T17:11:27.887591Z"
    },
    "papermill": {
     "duration": 2.344195,
     "end_time": "2025-10-03T17:11:27.890588",
     "exception": false,
     "start_time": "2025-10-03T17:11:25.546393",
     "status": "completed"
    },
    "tags": []
   },
   "outputs": [
    {
     "name": "stdout",
     "output_type": "stream",
     "text": [
      "/kaggle/input/mri-and-alzheimers/oasis_cross-sectional.csv\n",
      "/kaggle/input/mri-and-alzheimers/oasis_longitudinal.csv\n"
     ]
    }
   ],
   "source": [
    "# This Python 3 environment comes with many helpful analytics libraries installed\n",
    "# It is defined by the kaggle/python Docker image: https://github.com/kaggle/docker-python\n",
    "# For example, here's several helpful packages to load\n",
    "\n",
    "import numpy as np # linear algebra\n",
    "import pandas as pd # data processing, CSV file I/O (e.g. pd.read_csv)\n",
    "\n",
    "# Input data files are available in the read-only \"../input/\" directory\n",
    "# For example, running this (by clicking run or pressing Shift+Enter) will list all files under the input directory\n",
    "\n",
    "import os\n",
    "for dirname, _, filenames in os.walk('/kaggle/input'):\n",
    "    for filename in filenames:\n",
    "        print(os.path.join(dirname, filename))\n",
    "\n",
    "# You can write up to 20GB to the current directory (/kaggle/working/) that gets preserved as output when you create a version using \"Save & Run All\" \n",
    "# You can also write temporary files to /kaggle/temp/, but they won't be saved outside of the current session"
   ]
  },
  {
   "cell_type": "code",
   "execution_count": 2,
   "id": "732bcdb8",
   "metadata": {
    "execution": {
     "iopub.execute_input": "2025-10-03T17:11:27.901266Z",
     "iopub.status.busy": "2025-10-03T17:11:27.900863Z",
     "iopub.status.idle": "2025-10-03T17:11:27.905769Z",
     "shell.execute_reply": "2025-10-03T17:11:27.904659Z"
    },
    "papermill": {
     "duration": 0.011684,
     "end_time": "2025-10-03T17:11:27.907337",
     "exception": false,
     "start_time": "2025-10-03T17:11:27.895653",
     "status": "completed"
    },
    "tags": []
   },
   "outputs": [],
   "source": [
    "import warnings\n",
    "warnings.filterwarnings(\"ignore\")"
   ]
  },
  {
   "cell_type": "code",
   "execution_count": 3,
   "id": "d9a24c86",
   "metadata": {
    "execution": {
     "iopub.execute_input": "2025-10-03T17:11:27.917192Z",
     "iopub.status.busy": "2025-10-03T17:11:27.916832Z",
     "iopub.status.idle": "2025-10-03T17:11:30.303408Z",
     "shell.execute_reply": "2025-10-03T17:11:30.302322Z"
    },
    "papermill": {
     "duration": 2.39388,
     "end_time": "2025-10-03T17:11:30.305662",
     "exception": false,
     "start_time": "2025-10-03T17:11:27.911782",
     "status": "completed"
    },
    "tags": []
   },
   "outputs": [],
   "source": [
    "import pandas as pd\n",
    "import seaborn as sns\n",
    "import matplotlib.pyplot as plt"
   ]
  },
  {
   "cell_type": "code",
   "execution_count": 4,
   "id": "27ff38d4",
   "metadata": {
    "execution": {
     "iopub.execute_input": "2025-10-03T17:11:30.315877Z",
     "iopub.status.busy": "2025-10-03T17:11:30.315383Z",
     "iopub.status.idle": "2025-10-03T17:11:30.372343Z",
     "shell.execute_reply": "2025-10-03T17:11:30.371491Z"
    },
    "papermill": {
     "duration": 0.064269,
     "end_time": "2025-10-03T17:11:30.374569",
     "exception": false,
     "start_time": "2025-10-03T17:11:30.310300",
     "status": "completed"
    },
    "tags": []
   },
   "outputs": [
    {
     "data": {
      "text/html": [
       "<div>\n",
       "<style scoped>\n",
       "    .dataframe tbody tr th:only-of-type {\n",
       "        vertical-align: middle;\n",
       "    }\n",
       "\n",
       "    .dataframe tbody tr th {\n",
       "        vertical-align: top;\n",
       "    }\n",
       "\n",
       "    .dataframe thead th {\n",
       "        text-align: right;\n",
       "    }\n",
       "</style>\n",
       "<table border=\"1\" class=\"dataframe\">\n",
       "  <thead>\n",
       "    <tr style=\"text-align: right;\">\n",
       "      <th></th>\n",
       "      <th>ID</th>\n",
       "      <th>M/F</th>\n",
       "      <th>Hand</th>\n",
       "      <th>Age</th>\n",
       "      <th>Educ</th>\n",
       "      <th>SES</th>\n",
       "      <th>MMSE</th>\n",
       "      <th>CDR</th>\n",
       "      <th>eTIV</th>\n",
       "      <th>nWBV</th>\n",
       "      <th>ASF</th>\n",
       "      <th>Delay</th>\n",
       "    </tr>\n",
       "  </thead>\n",
       "  <tbody>\n",
       "    <tr>\n",
       "      <th>0</th>\n",
       "      <td>OAS1_0001_MR1</td>\n",
       "      <td>F</td>\n",
       "      <td>R</td>\n",
       "      <td>74</td>\n",
       "      <td>2.0</td>\n",
       "      <td>3.0</td>\n",
       "      <td>29.0</td>\n",
       "      <td>0.0</td>\n",
       "      <td>1344</td>\n",
       "      <td>0.743</td>\n",
       "      <td>1.306</td>\n",
       "      <td>NaN</td>\n",
       "    </tr>\n",
       "    <tr>\n",
       "      <th>1</th>\n",
       "      <td>OAS1_0002_MR1</td>\n",
       "      <td>F</td>\n",
       "      <td>R</td>\n",
       "      <td>55</td>\n",
       "      <td>4.0</td>\n",
       "      <td>1.0</td>\n",
       "      <td>29.0</td>\n",
       "      <td>0.0</td>\n",
       "      <td>1147</td>\n",
       "      <td>0.810</td>\n",
       "      <td>1.531</td>\n",
       "      <td>NaN</td>\n",
       "    </tr>\n",
       "    <tr>\n",
       "      <th>2</th>\n",
       "      <td>OAS1_0003_MR1</td>\n",
       "      <td>F</td>\n",
       "      <td>R</td>\n",
       "      <td>73</td>\n",
       "      <td>4.0</td>\n",
       "      <td>3.0</td>\n",
       "      <td>27.0</td>\n",
       "      <td>0.5</td>\n",
       "      <td>1454</td>\n",
       "      <td>0.708</td>\n",
       "      <td>1.207</td>\n",
       "      <td>NaN</td>\n",
       "    </tr>\n",
       "    <tr>\n",
       "      <th>3</th>\n",
       "      <td>OAS1_0004_MR1</td>\n",
       "      <td>M</td>\n",
       "      <td>R</td>\n",
       "      <td>28</td>\n",
       "      <td>NaN</td>\n",
       "      <td>NaN</td>\n",
       "      <td>NaN</td>\n",
       "      <td>NaN</td>\n",
       "      <td>1588</td>\n",
       "      <td>0.803</td>\n",
       "      <td>1.105</td>\n",
       "      <td>NaN</td>\n",
       "    </tr>\n",
       "    <tr>\n",
       "      <th>4</th>\n",
       "      <td>OAS1_0005_MR1</td>\n",
       "      <td>M</td>\n",
       "      <td>R</td>\n",
       "      <td>18</td>\n",
       "      <td>NaN</td>\n",
       "      <td>NaN</td>\n",
       "      <td>NaN</td>\n",
       "      <td>NaN</td>\n",
       "      <td>1737</td>\n",
       "      <td>0.848</td>\n",
       "      <td>1.010</td>\n",
       "      <td>NaN</td>\n",
       "    </tr>\n",
       "  </tbody>\n",
       "</table>\n",
       "</div>"
      ],
      "text/plain": [
       "              ID M/F Hand  Age  Educ  SES  MMSE  CDR  eTIV   nWBV    ASF  \\\n",
       "0  OAS1_0001_MR1   F    R   74   2.0  3.0  29.0  0.0  1344  0.743  1.306   \n",
       "1  OAS1_0002_MR1   F    R   55   4.0  1.0  29.0  0.0  1147  0.810  1.531   \n",
       "2  OAS1_0003_MR1   F    R   73   4.0  3.0  27.0  0.5  1454  0.708  1.207   \n",
       "3  OAS1_0004_MR1   M    R   28   NaN  NaN   NaN  NaN  1588  0.803  1.105   \n",
       "4  OAS1_0005_MR1   M    R   18   NaN  NaN   NaN  NaN  1737  0.848  1.010   \n",
       "\n",
       "   Delay  \n",
       "0    NaN  \n",
       "1    NaN  \n",
       "2    NaN  \n",
       "3    NaN  \n",
       "4    NaN  "
      ]
     },
     "execution_count": 4,
     "metadata": {},
     "output_type": "execute_result"
    }
   ],
   "source": [
    "df = pd.read_csv('/kaggle/input/mri-and-alzheimers/oasis_cross-sectional.csv')\n",
    "df.head()"
   ]
  },
  {
   "cell_type": "code",
   "execution_count": 5,
   "id": "7ce38216",
   "metadata": {
    "execution": {
     "iopub.execute_input": "2025-10-03T17:11:30.385058Z",
     "iopub.status.busy": "2025-10-03T17:11:30.384702Z",
     "iopub.status.idle": "2025-10-03T17:11:30.393045Z",
     "shell.execute_reply": "2025-10-03T17:11:30.391952Z"
    },
    "papermill": {
     "duration": 0.01562,
     "end_time": "2025-10-03T17:11:30.394884",
     "exception": false,
     "start_time": "2025-10-03T17:11:30.379264",
     "status": "completed"
    },
    "tags": []
   },
   "outputs": [
    {
     "data": {
      "text/plain": [
       "Index(['ID', 'M/F', 'Hand', 'Age', 'Educ', 'SES', 'MMSE', 'CDR', 'eTIV',\n",
       "       'nWBV', 'ASF', 'Delay'],\n",
       "      dtype='object')"
      ]
     },
     "execution_count": 5,
     "metadata": {},
     "output_type": "execute_result"
    }
   ],
   "source": [
    "df.columns"
   ]
  },
  {
   "cell_type": "code",
   "execution_count": 6,
   "id": "d8b298f4",
   "metadata": {
    "execution": {
     "iopub.execute_input": "2025-10-03T17:11:30.405521Z",
     "iopub.status.busy": "2025-10-03T17:11:30.405127Z",
     "iopub.status.idle": "2025-10-03T17:11:30.431709Z",
     "shell.execute_reply": "2025-10-03T17:11:30.430598Z"
    },
    "papermill": {
     "duration": 0.034382,
     "end_time": "2025-10-03T17:11:30.433916",
     "exception": false,
     "start_time": "2025-10-03T17:11:30.399534",
     "status": "completed"
    },
    "tags": []
   },
   "outputs": [
    {
     "name": "stdout",
     "output_type": "stream",
     "text": [
      "<class 'pandas.core.frame.DataFrame'>\n",
      "RangeIndex: 436 entries, 0 to 435\n",
      "Data columns (total 12 columns):\n",
      " #   Column  Non-Null Count  Dtype  \n",
      "---  ------  --------------  -----  \n",
      " 0   ID      436 non-null    object \n",
      " 1   M/F     436 non-null    object \n",
      " 2   Hand    436 non-null    object \n",
      " 3   Age     436 non-null    int64  \n",
      " 4   Educ    235 non-null    float64\n",
      " 5   SES     216 non-null    float64\n",
      " 6   MMSE    235 non-null    float64\n",
      " 7   CDR     235 non-null    float64\n",
      " 8   eTIV    436 non-null    int64  \n",
      " 9   nWBV    436 non-null    float64\n",
      " 10  ASF     436 non-null    float64\n",
      " 11  Delay   20 non-null     float64\n",
      "dtypes: float64(7), int64(2), object(3)\n",
      "memory usage: 41.0+ KB\n"
     ]
    }
   ],
   "source": [
    "# See structure and missing values\n",
    "df.info()"
   ]
  },
  {
   "cell_type": "code",
   "execution_count": 7,
   "id": "f43a6d78",
   "metadata": {
    "execution": {
     "iopub.execute_input": "2025-10-03T17:11:30.445151Z",
     "iopub.status.busy": "2025-10-03T17:11:30.444789Z",
     "iopub.status.idle": "2025-10-03T17:11:30.453863Z",
     "shell.execute_reply": "2025-10-03T17:11:30.452493Z"
    },
    "papermill": {
     "duration": 0.016681,
     "end_time": "2025-10-03T17:11:30.455709",
     "exception": false,
     "start_time": "2025-10-03T17:11:30.439028",
     "status": "completed"
    },
    "tags": []
   },
   "outputs": [
    {
     "data": {
      "text/plain": [
       "ID         0\n",
       "M/F        0\n",
       "Hand       0\n",
       "Age        0\n",
       "Educ     201\n",
       "SES      220\n",
       "MMSE     201\n",
       "CDR      201\n",
       "eTIV       0\n",
       "nWBV       0\n",
       "ASF        0\n",
       "Delay    416\n",
       "dtype: int64"
      ]
     },
     "execution_count": 7,
     "metadata": {},
     "output_type": "execute_result"
    }
   ],
   "source": [
    "df.isnull().sum()"
   ]
  },
  {
   "cell_type": "code",
   "execution_count": 8,
   "id": "c1580eb6",
   "metadata": {
    "execution": {
     "iopub.execute_input": "2025-10-03T17:11:30.469093Z",
     "iopub.status.busy": "2025-10-03T17:11:30.468758Z",
     "iopub.status.idle": "2025-10-03T17:11:30.920700Z",
     "shell.execute_reply": "2025-10-03T17:11:30.919659Z"
    },
    "papermill": {
     "duration": 0.46167,
     "end_time": "2025-10-03T17:11:30.922592",
     "exception": false,
     "start_time": "2025-10-03T17:11:30.460922",
     "status": "completed"
    },
    "tags": []
   },
   "outputs": [
    {
     "data": {
      "image/png": "[encoded data removed]",
      "text/plain": [
       "<Figure size 640x480 with 1 Axes>"
      ]
     },
     "metadata": {},
     "output_type": "display_data"
    }
   ],
   "source": [
    "# Plot Gender vs Alzheimer status (CDR)\n",
    "sns.countplot(data=df, x='M/F', hue='CDR')\n",
    "plt.title('Gender vs CDR (Alzheimer Severity)')\n",
    "plt.show()"
   ]
  },
  {
   "cell_type": "code",
   "execution_count": 9,
   "id": "489843ff",
   "metadata": {
    "execution": {
     "iopub.execute_input": "2025-10-03T17:11:30.934688Z",
     "iopub.status.busy": "2025-10-03T17:11:30.934118Z",
     "iopub.status.idle": "2025-10-03T17:11:31.272142Z",
     "shell.execute_reply": "2025-10-03T17:11:31.270449Z"
    },
    "papermill": {
     "duration": 0.346493,
     "end_time": "2025-10-03T17:11:31.274560",
     "exception": false,
     "start_time": "2025-10-03T17:11:30.928067",
     "status": "completed"
    },
    "tags": []
   },
   "outputs": [
    {
     "data": {
      "image/png": "[encoded data removed]",
      "text/plain": [
       "<Figure size 640x480 with 1 Axes>"
      ]
     },
     "metadata": {},
     "output_type": "display_data"
    }
   ],
   "source": [
    "# Age distribution\n",
    "sns.histplot(df['Age'], bins=20, kde=True)\n",
    "plt.title('Age Distribution')\n",
    "plt.show()"
   ]
  },
  {
   "cell_type": "code",
   "execution_count": 10,
   "id": "aca73405",
   "metadata": {
    "execution": {
     "iopub.execute_input": "2025-10-03T17:11:31.294963Z",
     "iopub.status.busy": "2025-10-03T17:11:31.293748Z",
     "iopub.status.idle": "2025-10-03T17:11:31.520011Z",
     "shell.execute_reply": "2025-10-03T17:11:31.518864Z"
    },
    "papermill": {
     "duration": 0.238591,
     "end_time": "2025-10-03T17:11:31.521782",
     "exception": false,
     "start_time": "2025-10-03T17:11:31.283191",
     "status": "completed"
    },
    "tags": []
   },
   "outputs": [
    {
     "data": {
      "image/png": "[encoded data removed]",
      "text/plain": [
       "<Figure size 640x480 with 1 Axes>"
      ]
     },
     "metadata": {},
     "output_type": "display_data"
    }
   ],
   "source": [
    "# MMSE score vs Alzheimer severity\n",
    "sns.boxplot(data=df, x='CDR', y='MMSE')\n",
    "plt.title('MMSE vs CDR')\n",
    "plt.show()"
   ]
  },
  {
   "cell_type": "code",
   "execution_count": 11,
   "id": "29bb66c8",
   "metadata": {
    "execution": {
     "iopub.execute_input": "2025-10-03T17:11:31.535990Z",
     "iopub.status.busy": "2025-10-03T17:11:31.535249Z",
     "iopub.status.idle": "2025-10-03T17:11:31.564296Z",
     "shell.execute_reply": "2025-10-03T17:11:31.563339Z"
    },
    "papermill": {
     "duration": 0.038187,
     "end_time": "2025-10-03T17:11:31.566152",
     "exception": false,
     "start_time": "2025-10-03T17:11:31.527965",
     "status": "completed"
    },
    "tags": []
   },
   "outputs": [
    {
     "data": {
      "text/html": [
       "<div>\n",
       "<style scoped>\n",
       "    .dataframe tbody tr th:only-of-type {\n",
       "        vertical-align: middle;\n",
       "    }\n",
       "\n",
       "    .dataframe tbody tr th {\n",
       "        vertical-align: top;\n",
       "    }\n",
       "\n",
       "    .dataframe thead th {\n",
       "        text-align: right;\n",
       "    }\n",
       "</style>\n",
       "<table border=\"1\" class=\"dataframe\">\n",
       "  <thead>\n",
       "    <tr style=\"text-align: right;\">\n",
       "      <th></th>\n",
       "      <th>M/F</th>\n",
       "      <th>Hand</th>\n",
       "      <th>Age</th>\n",
       "      <th>Educ</th>\n",
       "      <th>SES</th>\n",
       "      <th>MMSE</th>\n",
       "      <th>CDR</th>\n",
       "      <th>eTIV</th>\n",
       "      <th>nWBV</th>\n",
       "      <th>ASF</th>\n",
       "      <th>Delay</th>\n",
       "    </tr>\n",
       "  </thead>\n",
       "  <tbody>\n",
       "    <tr>\n",
       "      <th>0</th>\n",
       "      <td>1</td>\n",
       "      <td>0</td>\n",
       "      <td>74</td>\n",
       "      <td>2.0</td>\n",
       "      <td>3.0</td>\n",
       "      <td>29.0</td>\n",
       "      <td>0.0</td>\n",
       "      <td>1344</td>\n",
       "      <td>0.743</td>\n",
       "      <td>1.306</td>\n",
       "      <td>11.0</td>\n",
       "    </tr>\n",
       "    <tr>\n",
       "      <th>1</th>\n",
       "      <td>1</td>\n",
       "      <td>0</td>\n",
       "      <td>55</td>\n",
       "      <td>4.0</td>\n",
       "      <td>1.0</td>\n",
       "      <td>29.0</td>\n",
       "      <td>0.0</td>\n",
       "      <td>1147</td>\n",
       "      <td>0.810</td>\n",
       "      <td>1.531</td>\n",
       "      <td>11.0</td>\n",
       "    </tr>\n",
       "    <tr>\n",
       "      <th>2</th>\n",
       "      <td>1</td>\n",
       "      <td>0</td>\n",
       "      <td>73</td>\n",
       "      <td>4.0</td>\n",
       "      <td>3.0</td>\n",
       "      <td>27.0</td>\n",
       "      <td>0.5</td>\n",
       "      <td>1454</td>\n",
       "      <td>0.708</td>\n",
       "      <td>1.207</td>\n",
       "      <td>11.0</td>\n",
       "    </tr>\n",
       "    <tr>\n",
       "      <th>3</th>\n",
       "      <td>0</td>\n",
       "      <td>0</td>\n",
       "      <td>28</td>\n",
       "      <td>3.0</td>\n",
       "      <td>2.0</td>\n",
       "      <td>29.0</td>\n",
       "      <td>0.0</td>\n",
       "      <td>1588</td>\n",
       "      <td>0.803</td>\n",
       "      <td>1.105</td>\n",
       "      <td>11.0</td>\n",
       "    </tr>\n",
       "    <tr>\n",
       "      <th>4</th>\n",
       "      <td>0</td>\n",
       "      <td>0</td>\n",
       "      <td>18</td>\n",
       "      <td>3.0</td>\n",
       "      <td>2.0</td>\n",
       "      <td>29.0</td>\n",
       "      <td>0.0</td>\n",
       "      <td>1737</td>\n",
       "      <td>0.848</td>\n",
       "      <td>1.010</td>\n",
       "      <td>11.0</td>\n",
       "    </tr>\n",
       "  </tbody>\n",
       "</table>\n",
       "</div>"
      ],
      "text/plain": [
       "   M/F  Hand  Age  Educ  SES  MMSE  CDR  eTIV   nWBV    ASF  Delay\n",
       "0    1     0   74   2.0  3.0  29.0  0.0  1344  0.743  1.306   11.0\n",
       "1    1     0   55   4.0  1.0  29.0  0.0  1147  0.810  1.531   11.0\n",
       "2    1     0   73   4.0  3.0  27.0  0.5  1454  0.708  1.207   11.0\n",
       "3    0     0   28   3.0  2.0  29.0  0.0  1588  0.803  1.105   11.0\n",
       "4    0     0   18   3.0  2.0  29.0  0.0  1737  0.848  1.010   11.0"
      ]
     },
     "execution_count": 11,
     "metadata": {},
     "output_type": "execute_result"
    }
   ],
   "source": [
    "# Fill missing numeric values with median\n",
    "df.fillna(df.median(numeric_only=True), inplace=True)\n",
    "\n",
    "# Convert categorical columns to numbers\n",
    "df['M/F'] = df['M/F'].map({'M': 0, 'F': 1})\n",
    "df['Hand'] = df['Hand'].map({'R': 0, 'L': 1})\n",
    "\n",
    "# Drop ID column\n",
    "df.drop(columns=['ID'], inplace=True)\n",
    "\n",
    "# Check cleaned data\n",
    "df.head()"
   ]
  },
  {
   "cell_type": "code",
   "execution_count": 12,
   "id": "e5e96f51",
   "metadata": {
    "execution": {
     "iopub.execute_input": "2025-10-03T17:11:31.582053Z",
     "iopub.status.busy": "2025-10-03T17:11:31.581701Z",
     "iopub.status.idle": "2025-10-03T17:11:31.996878Z",
     "shell.execute_reply": "2025-10-03T17:11:31.995709Z"
    },
    "papermill": {
     "duration": 0.426218,
     "end_time": "2025-10-03T17:11:31.999077",
     "exception": false,
     "start_time": "2025-10-03T17:11:31.572859",
     "status": "completed"
    },
    "tags": []
   },
   "outputs": [],
   "source": [
    "from sklearn.model_selection import train_test_split\n",
    "\n",
    "# Binary classification: 0.0 → Healthy, 0.5 or 1.0 → Alzheimer's\n",
    "df['CDR'] = df['CDR'].apply(lambda x: 0 if x == 0 else 1)"
   ]
  },
  {
   "cell_type": "code",
   "execution_count": 13,
   "id": "f1e71e73",
   "metadata": {
    "execution": {
     "iopub.execute_input": "2025-10-03T17:11:32.014631Z",
     "iopub.status.busy": "2025-10-03T17:11:32.013124Z",
     "iopub.status.idle": "2025-10-03T17:11:32.020067Z",
     "shell.execute_reply": "2025-10-03T17:11:32.018902Z"
    },
    "papermill": {
     "duration": 0.016015,
     "end_time": "2025-10-03T17:11:32.022077",
     "exception": false,
     "start_time": "2025-10-03T17:11:32.006062",
     "status": "completed"
    },
    "tags": []
   },
   "outputs": [],
   "source": [
    "X = df.drop('CDR', axis=1)\n",
    "y = df['CDR']"
   ]
  },
  {
   "cell_type": "code",
   "execution_count": 14,
   "id": "9e744e5b",
   "metadata": {
    "execution": {
     "iopub.execute_input": "2025-10-03T17:11:32.036520Z",
     "iopub.status.busy": "2025-10-03T17:11:32.036108Z",
     "iopub.status.idle": "2025-10-03T17:11:32.045411Z",
     "shell.execute_reply": "2025-10-03T17:11:32.044264Z"
    },
    "papermill": {
     "duration": 0.019132,
     "end_time": "2025-10-03T17:11:32.047894",
     "exception": false,
     "start_time": "2025-10-03T17:11:32.028762",
     "status": "completed"
    },
    "tags": []
   },
   "outputs": [],
   "source": [
    "# Split data into train and test\n",
    "X_train, X_test, y_train, y_test = train_test_split(X, y, test_size=0.2, random_state=0)"
   ]
  },
  {
   "cell_type": "code",
   "execution_count": 15,
   "id": "58c66c8c",
   "metadata": {
    "execution": {
     "iopub.execute_input": "2025-10-03T17:11:32.061556Z",
     "iopub.status.busy": "2025-10-03T17:11:32.061186Z",
     "iopub.status.idle": "2025-10-03T17:11:36.703169Z",
     "shell.execute_reply": "2025-10-03T17:11:36.702206Z"
    },
    "papermill": {
     "duration": 4.650929,
     "end_time": "2025-10-03T17:11:36.705129",
     "exception": false,
     "start_time": "2025-10-03T17:11:32.054200",
     "status": "completed"
    },
    "tags": []
   },
   "outputs": [
    {
     "data": {
      "text/html": [
       "<style>#sk-container-id-1 {color: black;background-color: white;}#sk-container-id-1 pre{padding: 0;}#sk-container-id-1 div.sk-toggleable {background-color: white;}#sk-container-id-1 label.sk-toggleable__label {cursor: pointer;display: block;width: 100%;margin-bottom: 0;padding: 0.3em;box-sizing: border-box;text-align: center;}#sk-container-id-1 label.sk-toggleable__label-arrow:before {content: \"▸\";float: left;margin-right: 0.25em;color: #696969;}#sk-container-id-1 label.sk-toggleable__label-arrow:hover:before {color: black;}#sk-container-id-1 div.sk-estimator:hover label.sk-toggleable__label-arrow:before {color: black;}#sk-container-id-1 div.sk-toggleable__content {max-height: 0;max-width: 0;overflow: hidden;text-align: left;background-color: #f0f8ff;}#sk-container-id-1 div.sk-toggleable__content pre {margin: 0.2em;color: black;border-radius: 0.25em;background-color: #f0f8ff;}#sk-container-id-1 input.sk-toggleable__control:checked~div.sk-toggleable__content {max-height: 200px;max-width: 100%;overflow: auto;}#sk-container-id-1 input.sk-toggleable__control:checked~label.sk-toggleable__label-arrow:before {content: \"▾\";}#sk-container-id-1 div.sk-estimator input.sk-toggleable__control:checked~label.sk-toggleable__label {background-color: #d4ebff;}#sk-container-id-1 div.sk-label input.sk-toggleable__control:checked~label.sk-toggleable__label {background-color: #d4ebff;}#sk-container-id-1 input.sk-hidden--visually {border: 0;clip: rect(1px 1px 1px 1px);clip: rect(1px, 1px, 1px, 1px);height: 1px;margin: -1px;overflow: hidden;padding: 0;position: absolute;width: 1px;}#sk-container-id-1 div.sk-estimator {font-family: monospace;background-color: #f0f8ff;border: 1px dotted black;border-radius: 0.25em;box-sizing: border-box;margin-bottom: 0.5em;}#sk-container-id-1 div.sk-estimator:hover {background-color: #d4ebff;}#sk-container-id-1 div.sk-parallel-item::after {content: \"\";width: 100%;border-bottom: 1px solid gray;flex-grow: 1;}#sk-container-id-1 div.sk-label:hover label.sk-toggleable__label {background-color: #d4ebff;}#sk-container-id-1 div.sk-serial::before {content: \"\";position: absolute;border-left: 1px solid gray;box-sizing: border-box;top: 0;bottom: 0;left: 50%;z-index: 0;}#sk-container-id-1 div.sk-serial {display: flex;flex-direction: column;align-items: center;background-color: white;padding-right: 0.2em;padding-left: 0.2em;position: relative;}#sk-container-id-1 div.sk-item {position: relative;z-index: 1;}#sk-container-id-1 div.sk-parallel {display: flex;align-items: stretch;justify-content: center;background-color: white;position: relative;}#sk-container-id-1 div.sk-item::before, #sk-container-id-1 div.sk-parallel-item::before {content: \"\";position: absolute;border-left: 1px solid gray;box-sizing: border-box;top: 0;bottom: 0;left: 50%;z-index: -1;}#sk-container-id-1 div.sk-parallel-item {display: flex;flex-direction: column;z-index: 1;position: relative;background-color: white;}#sk-container-id-1 div.sk-parallel-item:first-child::after {align-self: flex-end;width: 50%;}#sk-container-id-1 div.sk-parallel-item:last-child::after {align-self: flex-start;width: 50%;}#sk-container-id-1 div.sk-parallel-item:only-child::after {width: 0;}#sk-container-id-1 div.sk-dashed-wrapped {border: 1px dashed gray;margin: 0 0.4em 0.5em 0.4em;box-sizing: border-box;padding-bottom: 0.4em;background-color: white;}#sk-container-id-1 div.sk-label label {font-family: monospace;font-weight: bold;display: inline-block;line-height: 1.2em;}#sk-container-id-1 div.sk-label-container {text-align: center;}#sk-container-id-1 div.sk-container {/* jupyter's `normalize.less` sets `[hidden] { display: none; }` but bootstrap.min.css set `[hidden] { display: none !important; }` so we also need the `!important` here to be able to override the default hidden behavior on the sphinx rendered scikit-learn.org. See: https://github.com/scikit-learn/scikit-learn/issues/21755 */display: inline-block !important;position: relative;}#sk-container-id-1 div.sk-text-repr-fallback {display: none;}</style><div id=\"sk-container-id-1\" class=\"sk-top-container\"><div class=\"sk-text-repr-fallback\"><pre>LogisticRegression(max_iter=1000)</pre><b>In a Jupyter environment, please rerun this cell to show the HTML representation or trust the notebook. <br />On GitHub, the HTML representation is unable to render, please try loading this page with nbviewer.org.</b></div><div class=\"sk-container\" hidden><div class=\"sk-item\"><div class=\"sk-estimator sk-toggleable\"><input class=\"sk-toggleable__control sk-hidden--visually\" id=\"sk-estimator-id-1\" type=\"checkbox\" checked><label for=\"sk-estimator-id-1\" class=\"sk-toggleable__label sk-toggleable__label-arrow\">LogisticRegression</label><div class=\"sk-toggleable__content\"><pre>LogisticRegression(max_iter=1000)</pre></div></div></div></div></div>"
      ],
      "text/plain": [
       "LogisticRegression(max_iter=1000)"
      ]
     },
     "execution_count": 15,
     "metadata": {},
     "output_type": "execute_result"
    }
   ],
   "source": [
    "from sklearn.linear_model import LogisticRegression\n",
    "\n",
    "# Create and train the model\n",
    "model = LogisticRegression(max_iter=1000)\n",
    "model.fit(X_train, y_train)"
   ]
  },
  {
   "cell_type": "code",
   "execution_count": 16,
   "id": "34498a3a",
   "metadata": {
    "execution": {
     "iopub.execute_input": "2025-10-03T17:11:36.727690Z",
     "iopub.status.busy": "2025-10-03T17:11:36.727309Z",
     "iopub.status.idle": "2025-10-03T17:11:36.735272Z",
     "shell.execute_reply": "2025-10-03T17:11:36.734496Z"
    },
    "papermill": {
     "duration": 0.022154,
     "end_time": "2025-10-03T17:11:36.737297",
     "exception": false,
     "start_time": "2025-10-03T17:11:36.715143",
     "status": "completed"
    },
    "tags": []
   },
   "outputs": [],
   "source": [
    "# Predict on test data\n",
    "y_pred = model.predict(X_test)"
   ]
  },
  {
   "cell_type": "code",
   "execution_count": 17,
   "id": "d3a4e1c6",
   "metadata": {
    "execution": {
     "iopub.execute_input": "2025-10-03T17:11:36.758625Z",
     "iopub.status.busy": "2025-10-03T17:11:36.758239Z",
     "iopub.status.idle": "2025-10-03T17:11:36.776491Z",
     "shell.execute_reply": "2025-10-03T17:11:36.775651Z"
    },
    "papermill": {
     "duration": 0.031166,
     "end_time": "2025-10-03T17:11:36.778665",
     "exception": false,
     "start_time": "2025-10-03T17:11:36.747499",
     "status": "completed"
    },
    "tags": []
   },
   "outputs": [
    {
     "name": "stdout",
     "output_type": "stream",
     "text": [
      "              precision    recall  f1-score   support\n",
      "\n",
      "           0       0.93      0.93      0.93        71\n",
      "           1       0.71      0.71      0.71        17\n",
      "\n",
      "    accuracy                           0.89        88\n",
      "   macro avg       0.82      0.82      0.82        88\n",
      "weighted avg       0.89      0.89      0.89        88\n",
      "\n"
     ]
    }
   ],
   "source": [
    "from sklearn.metrics import confusion_matrix, classification_report\n",
    "# Classification Report\n",
    "print(classification_report(y_test, y_pred))"
   ]
  },
  {
   "cell_type": "code",
   "execution_count": 18,
   "id": "10909994",
   "metadata": {
    "execution": {
     "iopub.execute_input": "2025-10-03T17:11:36.800123Z",
     "iopub.status.busy": "2025-10-03T17:11:36.799739Z",
     "iopub.status.idle": "2025-10-03T17:11:37.000997Z",
     "shell.execute_reply": "2025-10-03T17:11:36.999854Z"
    },
    "papermill": {
     "duration": 0.214032,
     "end_time": "2025-10-03T17:11:37.002731",
     "exception": false,
     "start_time": "2025-10-03T17:11:36.788699",
     "status": "completed"
    },
    "tags": []
   },
   "outputs": [
    {
     "data": {
      "image/png": "[encoded data removed]",
      "text/plain": [
       "<Figure size 640x480 with 2 Axes>"
      ]
     },
     "metadata": {},
     "output_type": "display_data"
    }
   ],
   "source": [
    "# Confusion Matrix\n",
    "sns.heatmap(confusion_matrix(y_test, y_pred), annot=True, fmt='d', cmap='Greens')\n",
    "plt.title('Confusion Matrix')\n",
    "plt.xlabel('Predicted')\n",
    "plt.ylabel('Actual')\n",
    "plt.show()"
   ]
  }
 ],
 "metadata": {
  "kaggle": {
   "accelerator": "none",
   "dataSources": [
    {
     "datasetId": 1980,
     "sourceId": 3398,
     "sourceType": "datasetVersion"
    }
   ],
   "dockerImageVersionId": 31089,
   "isGpuEnabled": false,
   "isInternetEnabled": true,
   "language": "python",
   "sourceType": "notebook"
  },
  "kernelspec": {
   "display_name": "Python 3",
   "language": "python",
   "name": "python3"
  },
  "language_info": {
   "codemirror_mode": {
    "name": "ipython",
    "version": 3
   },
   "file_extension": ".py",
   "mimetype": "text/x-python",
   "name": "python",
   "nbconvert_exporter": "python",
   "pygments_lexer": "ipython3",
   "version": "3.11.13"
  },
  "papermill": {
   "default_parameters": {},
   "duration": 18.908954,
   "end_time": "2025-10-03T17:11:37.731621",
   "environment_variables": {},
   "exception": null,
   "input_path": "__notebook__.ipynb",
   "output_path": "__notebook__.ipynb",
   "parameters": {},
   "start_time": "2025-10-03T17:11:18.822667",
   "version": "2.6.0"
  }
 },
 "nbformat": 4,
 "nbformat_minor": 5
}
