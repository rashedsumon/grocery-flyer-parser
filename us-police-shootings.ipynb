{
 "cells": [
  {
   "cell_type": "code",
   "execution_count": 1,
   "id": "a2b1c879",
   "metadata": {
    "_cell_guid": "b1076dfc-b9ad-4769-8c92-a6c4dae69d19",
    "_uuid": "8f2839f25d086af736a60e9eeb907d3b93b6e0e5",
    "execution": {
     "iopub.execute_input": "2025-10-03T17:30:23.771874Z",
     "iopub.status.busy": "2025-10-03T17:30:23.771517Z",
     "iopub.status.idle": "2025-10-03T17:30:25.922200Z",
     "shell.execute_reply": "2025-10-03T17:30:25.920889Z"
    },
    "papermill": {
     "duration": 2.158692,
     "end_time": "2025-10-03T17:30:25.924365",
     "exception": false,
     "start_time": "2025-10-03T17:30:23.765673",
     "status": "completed"
    },
    "tags": []
   },
   "outputs": [
    {
     "name": "stdout",
     "output_type": "stream",
     "text": [
      "/kaggle/input/us-police-shootings/shootings.csv\n"
     ]
    }
   ],
   "source": [
    "# This Python 3 environment comes with many helpful analytics libraries installed\n",
    "# It is defined by the kaggle/python Docker image: https://github.com/kaggle/docker-python\n",
    "# For example, here's several helpful packages to load\n",
    "\n",
    "import numpy as np # linear algebra\n",
    "import pandas as pd # data processing, CSV file I/O (e.g. pd.read_csv)\n",
    "\n",
    "# Input data files are available in the read-only \"../input/\" directory\n",
    "# For example, running this (by clicking run or pressing Shift+Enter) will list all files under the input directory\n",
    "\n",
    "import os\n",
    "for dirname, _, filenames in os.walk('/kaggle/input'):\n",
    "    for filename in filenames:\n",
    "        print(os.path.join(dirname, filename))\n",
    "\n",
    "# You can write up to 20GB to the current directory (/kaggle/working/) that gets preserved as output when you create a version using \"Save & Run All\" \n",
    "# You can also write temporary files to /kaggle/temp/, but they won't be saved outside of the current session"
   ]
  },
  {
   "cell_type": "code",
   "execution_count": 2,
   "id": "d715ed8a",
   "metadata": {
    "execution": {
     "iopub.execute_input": "2025-10-03T17:30:25.933928Z",
     "iopub.status.busy": "2025-10-03T17:30:25.933504Z",
     "iopub.status.idle": "2025-10-03T17:30:25.938694Z",
     "shell.execute_reply": "2025-10-03T17:30:25.937350Z"
    },
    "papermill": {
     "duration": 0.012025,
     "end_time": "2025-10-03T17:30:25.940942",
     "exception": false,
     "start_time": "2025-10-03T17:30:25.928917",
     "status": "completed"
    },
    "tags": []
   },
   "outputs": [],
   "source": [
    "import warnings\n",
    "warnings.filterwarnings(\"ignore\")"
   ]
  },
  {
   "cell_type": "code",
   "execution_count": 3,
   "id": "b97eecea",
   "metadata": {
    "execution": {
     "iopub.execute_input": "2025-10-03T17:30:25.949732Z",
     "iopub.status.busy": "2025-10-03T17:30:25.949392Z",
     "iopub.status.idle": "2025-10-03T17:30:26.028554Z",
     "shell.execute_reply": "2025-10-03T17:30:26.027302Z"
    },
    "papermill": {
     "duration": 0.085751,
     "end_time": "2025-10-03T17:30:26.030417",
     "exception": false,
     "start_time": "2025-10-03T17:30:25.944666",
     "status": "completed"
    },
    "tags": []
   },
   "outputs": [
    {
     "data": {
      "text/html": [
       "<div>\n",
       "<style scoped>\n",
       "    .dataframe tbody tr th:only-of-type {\n",
       "        vertical-align: middle;\n",
       "    }\n",
       "\n",
       "    .dataframe tbody tr th {\n",
       "        vertical-align: top;\n",
       "    }\n",
       "\n",
       "    .dataframe thead th {\n",
       "        text-align: right;\n",
       "    }\n",
       "</style>\n",
       "<table border=\"1\" class=\"dataframe\">\n",
       "  <thead>\n",
       "    <tr style=\"text-align: right;\">\n",
       "      <th></th>\n",
       "      <th>id</th>\n",
       "      <th>name</th>\n",
       "      <th>date</th>\n",
       "      <th>manner_of_death</th>\n",
       "      <th>armed</th>\n",
       "      <th>age</th>\n",
       "      <th>gender</th>\n",
       "      <th>race</th>\n",
       "      <th>city</th>\n",
       "      <th>state</th>\n",
       "      <th>signs_of_mental_illness</th>\n",
       "      <th>threat_level</th>\n",
       "      <th>flee</th>\n",
       "      <th>body_camera</th>\n",
       "      <th>arms_category</th>\n",
       "    </tr>\n",
       "  </thead>\n",
       "  <tbody>\n",
       "    <tr>\n",
       "      <th>0</th>\n",
       "      <td>3</td>\n",
       "      <td>Tim Elliot</td>\n",
       "      <td>2015-01-02</td>\n",
       "      <td>shot</td>\n",
       "      <td>gun</td>\n",
       "      <td>53.0</td>\n",
       "      <td>M</td>\n",
       "      <td>Asian</td>\n",
       "      <td>Shelton</td>\n",
       "      <td>WA</td>\n",
       "      <td>True</td>\n",
       "      <td>attack</td>\n",
       "      <td>Not fleeing</td>\n",
       "      <td>False</td>\n",
       "      <td>Guns</td>\n",
       "    </tr>\n",
       "    <tr>\n",
       "      <th>1</th>\n",
       "      <td>4</td>\n",
       "      <td>Lewis Lee Lembke</td>\n",
       "      <td>2015-01-02</td>\n",
       "      <td>shot</td>\n",
       "      <td>gun</td>\n",
       "      <td>47.0</td>\n",
       "      <td>M</td>\n",
       "      <td>White</td>\n",
       "      <td>Aloha</td>\n",
       "      <td>OR</td>\n",
       "      <td>False</td>\n",
       "      <td>attack</td>\n",
       "      <td>Not fleeing</td>\n",
       "      <td>False</td>\n",
       "      <td>Guns</td>\n",
       "    </tr>\n",
       "    <tr>\n",
       "      <th>2</th>\n",
       "      <td>5</td>\n",
       "      <td>John Paul Quintero</td>\n",
       "      <td>2015-01-03</td>\n",
       "      <td>shot and Tasered</td>\n",
       "      <td>unarmed</td>\n",
       "      <td>23.0</td>\n",
       "      <td>M</td>\n",
       "      <td>Hispanic</td>\n",
       "      <td>Wichita</td>\n",
       "      <td>KS</td>\n",
       "      <td>False</td>\n",
       "      <td>other</td>\n",
       "      <td>Not fleeing</td>\n",
       "      <td>False</td>\n",
       "      <td>Unarmed</td>\n",
       "    </tr>\n",
       "    <tr>\n",
       "      <th>3</th>\n",
       "      <td>8</td>\n",
       "      <td>Matthew Hoffman</td>\n",
       "      <td>2015-01-04</td>\n",
       "      <td>shot</td>\n",
       "      <td>toy weapon</td>\n",
       "      <td>32.0</td>\n",
       "      <td>M</td>\n",
       "      <td>White</td>\n",
       "      <td>San Francisco</td>\n",
       "      <td>CA</td>\n",
       "      <td>True</td>\n",
       "      <td>attack</td>\n",
       "      <td>Not fleeing</td>\n",
       "      <td>False</td>\n",
       "      <td>Other unusual objects</td>\n",
       "    </tr>\n",
       "    <tr>\n",
       "      <th>4</th>\n",
       "      <td>9</td>\n",
       "      <td>Michael Rodriguez</td>\n",
       "      <td>2015-01-04</td>\n",
       "      <td>shot</td>\n",
       "      <td>nail gun</td>\n",
       "      <td>39.0</td>\n",
       "      <td>M</td>\n",
       "      <td>Hispanic</td>\n",
       "      <td>Evans</td>\n",
       "      <td>CO</td>\n",
       "      <td>False</td>\n",
       "      <td>attack</td>\n",
       "      <td>Not fleeing</td>\n",
       "      <td>False</td>\n",
       "      <td>Piercing objects</td>\n",
       "    </tr>\n",
       "  </tbody>\n",
       "</table>\n",
       "</div>"
      ],
      "text/plain": [
       "   id                name        date   manner_of_death       armed   age  \\\n",
       "0   3          Tim Elliot  2015-01-02              shot         gun  53.0   \n",
       "1   4    Lewis Lee Lembke  2015-01-02              shot         gun  47.0   \n",
       "2   5  John Paul Quintero  2015-01-03  shot and Tasered     unarmed  23.0   \n",
       "3   8     Matthew Hoffman  2015-01-04              shot  toy weapon  32.0   \n",
       "4   9   Michael Rodriguez  2015-01-04              shot    nail gun  39.0   \n",
       "\n",
       "  gender      race           city state  signs_of_mental_illness threat_level  \\\n",
       "0      M     Asian        Shelton    WA                     True       attack   \n",
       "1      M     White          Aloha    OR                    False       attack   \n",
       "2      M  Hispanic        Wichita    KS                    False        other   \n",
       "3      M     White  San Francisco    CA                     True       attack   \n",
       "4      M  Hispanic          Evans    CO                    False       attack   \n",
       "\n",
       "          flee  body_camera          arms_category  \n",
       "0  Not fleeing        False                   Guns  \n",
       "1  Not fleeing        False                   Guns  \n",
       "2  Not fleeing        False                Unarmed  \n",
       "3  Not fleeing        False  Other unusual objects  \n",
       "4  Not fleeing        False       Piercing objects  "
      ]
     },
     "execution_count": 3,
     "metadata": {},
     "output_type": "execute_result"
    }
   ],
   "source": [
    "df = pd.read_csv('/kaggle/input/us-police-shootings/shootings.csv')\n",
    "df.head()"
   ]
  },
  {
   "cell_type": "code",
   "execution_count": 4,
   "id": "bbcd5db9",
   "metadata": {
    "execution": {
     "iopub.execute_input": "2025-10-03T17:30:26.039697Z",
     "iopub.status.busy": "2025-10-03T17:30:26.039329Z",
     "iopub.status.idle": "2025-10-03T17:30:26.048241Z",
     "shell.execute_reply": "2025-10-03T17:30:26.046805Z"
    },
    "papermill": {
     "duration": 0.015529,
     "end_time": "2025-10-03T17:30:26.049878",
     "exception": false,
     "start_time": "2025-10-03T17:30:26.034349",
     "status": "completed"
    },
    "tags": []
   },
   "outputs": [
    {
     "data": {
      "text/plain": [
       "Index(['id', 'name', 'date', 'manner_of_death', 'armed', 'age', 'gender',\n",
       "       'race', 'city', 'state', 'signs_of_mental_illness', 'threat_level',\n",
       "       'flee', 'body_camera', 'arms_category'],\n",
       "      dtype='object')"
      ]
     },
     "execution_count": 4,
     "metadata": {},
     "output_type": "execute_result"
    }
   ],
   "source": [
    "df.columns"
   ]
  },
  {
   "cell_type": "code",
   "execution_count": 5,
   "id": "a010f121",
   "metadata": {
    "execution": {
     "iopub.execute_input": "2025-10-03T17:30:26.058874Z",
     "iopub.status.busy": "2025-10-03T17:30:26.058556Z",
     "iopub.status.idle": "2025-10-03T17:30:26.071193Z",
     "shell.execute_reply": "2025-10-03T17:30:26.069941Z"
    },
    "papermill": {
     "duration": 0.019136,
     "end_time": "2025-10-03T17:30:26.072956",
     "exception": false,
     "start_time": "2025-10-03T17:30:26.053820",
     "status": "completed"
    },
    "tags": []
   },
   "outputs": [
    {
     "data": {
      "text/plain": [
       "((4895, 15),\n",
       " id                         0\n",
       " name                       0\n",
       " date                       0\n",
       " manner_of_death            0\n",
       " armed                      0\n",
       " age                        0\n",
       " gender                     0\n",
       " race                       0\n",
       " city                       0\n",
       " state                      0\n",
       " signs_of_mental_illness    0\n",
       " threat_level               0\n",
       " flee                       0\n",
       " body_camera                0\n",
       " arms_category              0\n",
       " dtype: int64)"
      ]
     },
     "execution_count": 5,
     "metadata": {},
     "output_type": "execute_result"
    }
   ],
   "source": [
    "# Dataset shape and missing values\n",
    "df.shape, df.isnull().sum()"
   ]
  },
  {
   "cell_type": "code",
   "execution_count": 6,
   "id": "e67958df",
   "metadata": {
    "execution": {
     "iopub.execute_input": "2025-10-03T17:30:26.081817Z",
     "iopub.status.busy": "2025-10-03T17:30:26.081506Z",
     "iopub.status.idle": "2025-10-03T17:30:26.100571Z",
     "shell.execute_reply": "2025-10-03T17:30:26.099489Z"
    },
    "papermill": {
     "duration": 0.025758,
     "end_time": "2025-10-03T17:30:26.102573",
     "exception": false,
     "start_time": "2025-10-03T17:30:26.076815",
     "status": "completed"
    },
    "tags": []
   },
   "outputs": [],
   "source": [
    "# Drop 'id', 'name', 'date' (not useful for prediction)\n",
    "df.drop(['id', 'name', 'date'], axis=1, inplace=True)\n",
    "\n",
    "# Drop rows with missing values\n",
    "df.dropna(inplace=True)"
   ]
  },
  {
   "cell_type": "code",
   "execution_count": 7,
   "id": "0b4d3c01",
   "metadata": {
    "execution": {
     "iopub.execute_input": "2025-10-03T17:30:26.111971Z",
     "iopub.status.busy": "2025-10-03T17:30:26.111641Z",
     "iopub.status.idle": "2025-10-03T17:30:26.137342Z",
     "shell.execute_reply": "2025-10-03T17:30:26.136331Z"
    },
    "papermill": {
     "duration": 0.032546,
     "end_time": "2025-10-03T17:30:26.139144",
     "exception": false,
     "start_time": "2025-10-03T17:30:26.106598",
     "status": "completed"
    },
    "tags": []
   },
   "outputs": [
    {
     "name": "stdout",
     "output_type": "stream",
     "text": [
      "<class 'pandas.core.frame.DataFrame'>\n",
      "RangeIndex: 4895 entries, 0 to 4894\n",
      "Data columns (total 12 columns):\n",
      " #   Column                   Non-Null Count  Dtype  \n",
      "---  ------                   --------------  -----  \n",
      " 0   manner_of_death          4895 non-null   object \n",
      " 1   armed                    4895 non-null   object \n",
      " 2   age                      4895 non-null   float64\n",
      " 3   gender                   4895 non-null   object \n",
      " 4   race                     4895 non-null   object \n",
      " 5   city                     4895 non-null   object \n",
      " 6   state                    4895 non-null   object \n",
      " 7   signs_of_mental_illness  4895 non-null   bool   \n",
      " 8   threat_level             4895 non-null   object \n",
      " 9   flee                     4895 non-null   object \n",
      " 10  body_camera              4895 non-null   bool   \n",
      " 11  arms_category            4895 non-null   object \n",
      "dtypes: bool(2), float64(1), object(9)\n",
      "memory usage: 392.1+ KB\n"
     ]
    }
   ],
   "source": [
    "# Confirm cleaned data\n",
    "df.info()"
   ]
  },
  {
   "cell_type": "code",
   "execution_count": 8,
   "id": "25d4b192",
   "metadata": {
    "execution": {
     "iopub.execute_input": "2025-10-03T17:30:26.148588Z",
     "iopub.status.busy": "2025-10-03T17:30:26.148109Z",
     "iopub.status.idle": "2025-10-03T17:30:28.631889Z",
     "shell.execute_reply": "2025-10-03T17:30:28.630666Z"
    },
    "papermill": {
     "duration": 2.490532,
     "end_time": "2025-10-03T17:30:28.633874",
     "exception": false,
     "start_time": "2025-10-03T17:30:26.143342",
     "status": "completed"
    },
    "tags": []
   },
   "outputs": [
    {
     "data": {
      "image/png": "[encoded data removed]",
      "text/plain": [
       "<Figure size 640x480 with 1 Axes>"
      ]
     },
     "metadata": {},
     "output_type": "display_data"
    }
   ],
   "source": [
    "import seaborn as sns\n",
    "import matplotlib.pyplot as plt\n",
    "\n",
    "# Race distribution\n",
    "sns.countplot(data=df, x='race')\n",
    "plt.title(\"Race Distribution\")\n",
    "plt.show()"
   ]
  },
  {
   "cell_type": "code",
   "execution_count": 9,
   "id": "f72c84c9",
   "metadata": {
    "execution": {
     "iopub.execute_input": "2025-10-03T17:30:28.643960Z",
     "iopub.status.busy": "2025-10-03T17:30:28.643517Z",
     "iopub.status.idle": "2025-10-03T17:30:28.776359Z",
     "shell.execute_reply": "2025-10-03T17:30:28.775202Z"
    },
    "papermill": {
     "duration": 0.139871,
     "end_time": "2025-10-03T17:30:28.778314",
     "exception": false,
     "start_time": "2025-10-03T17:30:28.638443",
     "status": "completed"
    },
    "tags": []
   },
   "outputs": [
    {
     "data": {
      "image/png": "[encoded data removed]",
      "text/plain": [
       "<Figure size 640x480 with 1 Axes>"
      ]
     },
     "metadata": {},
     "output_type": "display_data"
    }
   ],
   "source": [
    "# Gender distribution\n",
    "sns.countplot(data=df, x='gender')\n",
    "plt.title(\"Gender Distribution\")\n",
    "plt.show()"
   ]
  },
  {
   "cell_type": "code",
   "execution_count": 10,
   "id": "d26a82e8",
   "metadata": {
    "execution": {
     "iopub.execute_input": "2025-10-03T17:30:28.790411Z",
     "iopub.status.busy": "2025-10-03T17:30:28.789193Z",
     "iopub.status.idle": "2025-10-03T17:30:28.984665Z",
     "shell.execute_reply": "2025-10-03T17:30:28.983360Z"
    },
    "papermill": {
     "duration": 0.20319,
     "end_time": "2025-10-03T17:30:28.986532",
     "exception": false,
     "start_time": "2025-10-03T17:30:28.783342",
     "status": "completed"
    },
    "tags": []
   },
   "outputs": [
    {
     "data": {
      "image/png": "[encoded data removed]",
      "text/plain": [
       "<Figure size 640x480 with 1 Axes>"
      ]
     },
     "metadata": {},
     "output_type": "display_data"
    }
   ],
   "source": [
    "# Armed vs Unarmed\n",
    "sns.countplot(data=df, x='armed', order=df['armed'].value_counts().iloc[:10].index)\n",
    "plt.title(\"Top 10 Armed Types\")\n",
    "plt.xticks(rotation=45)\n",
    "plt.show()"
   ]
  },
  {
   "cell_type": "code",
   "execution_count": 11,
   "id": "5b3c43d2",
   "metadata": {
    "execution": {
     "iopub.execute_input": "2025-10-03T17:30:29.000087Z",
     "iopub.status.busy": "2025-10-03T17:30:28.999768Z",
     "iopub.status.idle": "2025-10-03T17:30:29.262583Z",
     "shell.execute_reply": "2025-10-03T17:30:29.261494Z"
    },
    "papermill": {
     "duration": 0.271014,
     "end_time": "2025-10-03T17:30:29.264431",
     "exception": false,
     "start_time": "2025-10-03T17:30:28.993417",
     "status": "completed"
    },
    "tags": []
   },
   "outputs": [
    {
     "data": {
      "image/png": "[encoded data removed]",
      "text/plain": [
       "<Figure size 640x480 with 1 Axes>"
      ]
     },
     "metadata": {},
     "output_type": "display_data"
    }
   ],
   "source": [
    "# Threat Level by Race\n",
    "sns.countplot(data=df, x='threat_level', hue='race')\n",
    "plt.title(\"Threat Level by Race\")\n",
    "plt.show()"
   ]
  },
  {
   "cell_type": "code",
   "execution_count": 12,
   "id": "0e8e6044",
   "metadata": {
    "execution": {
     "iopub.execute_input": "2025-10-03T17:30:29.278732Z",
     "iopub.status.busy": "2025-10-03T17:30:29.278432Z",
     "iopub.status.idle": "2025-10-03T17:30:29.632116Z",
     "shell.execute_reply": "2025-10-03T17:30:29.630905Z"
    },
    "papermill": {
     "duration": 0.363103,
     "end_time": "2025-10-03T17:30:29.634146",
     "exception": false,
     "start_time": "2025-10-03T17:30:29.271043",
     "status": "completed"
    },
    "tags": []
   },
   "outputs": [],
   "source": [
    "from sklearn.preprocessing import LabelEncoder\n",
    "from sklearn.model_selection import train_test_split\n",
    "\n",
    "# Copy the dataset\n",
    "data = df.copy()\n",
    "\n",
    "# Encode categorical columns\n",
    "for col in data.columns:\n",
    "    if data[col].dtype == 'object':\n",
    "        data[col] = LabelEncoder().fit_transform(data[col])"
   ]
  },
  {
   "cell_type": "code",
   "execution_count": 13,
   "id": "d3752dd2",
   "metadata": {
    "execution": {
     "iopub.execute_input": "2025-10-03T17:30:29.646811Z",
     "iopub.status.busy": "2025-10-03T17:30:29.646484Z",
     "iopub.status.idle": "2025-10-03T17:30:29.654646Z",
     "shell.execute_reply": "2025-10-03T17:30:29.653537Z"
    },
    "papermill": {
     "duration": 0.017046,
     "end_time": "2025-10-03T17:30:29.656889",
     "exception": false,
     "start_time": "2025-10-03T17:30:29.639843",
     "status": "completed"
    },
    "tags": []
   },
   "outputs": [],
   "source": [
    "# Features and Target\n",
    "X = data.drop('threat_level', axis=1)\n",
    "y = data['threat_level']"
   ]
  },
  {
   "cell_type": "code",
   "execution_count": 14,
   "id": "b867919e",
   "metadata": {
    "execution": {
     "iopub.execute_input": "2025-10-03T17:30:29.670663Z",
     "iopub.status.busy": "2025-10-03T17:30:29.670353Z",
     "iopub.status.idle": "2025-10-03T17:30:29.680621Z",
     "shell.execute_reply": "2025-10-03T17:30:29.679550Z"
    },
    "papermill": {
     "duration": 0.01869,
     "end_time": "2025-10-03T17:30:29.682469",
     "exception": false,
     "start_time": "2025-10-03T17:30:29.663779",
     "status": "completed"
    },
    "tags": []
   },
   "outputs": [],
   "source": [
    "# Train-test split\n",
    "X_train, X_test, y_train, y_test = train_test_split(X, y, test_size=0.2, random_state=42)"
   ]
  },
  {
   "cell_type": "code",
   "execution_count": 15,
   "id": "2a4fa642",
   "metadata": {
    "execution": {
     "iopub.execute_input": "2025-10-03T17:30:29.695626Z",
     "iopub.status.busy": "2025-10-03T17:30:29.695309Z",
     "iopub.status.idle": "2025-10-03T17:30:30.838497Z",
     "shell.execute_reply": "2025-10-03T17:30:30.837247Z"
    },
    "papermill": {
     "duration": 1.152228,
     "end_time": "2025-10-03T17:30:30.840317",
     "exception": false,
     "start_time": "2025-10-03T17:30:29.688089",
     "status": "completed"
    },
    "tags": []
   },
   "outputs": [
    {
     "data": {
      "text/html": [
       "<style>#sk-container-id-1 {color: black;background-color: white;}#sk-container-id-1 pre{padding: 0;}#sk-container-id-1 div.sk-toggleable {background-color: white;}#sk-container-id-1 label.sk-toggleable__label {cursor: pointer;display: block;width: 100%;margin-bottom: 0;padding: 0.3em;box-sizing: border-box;text-align: center;}#sk-container-id-1 label.sk-toggleable__label-arrow:before {content: \"▸\";float: left;margin-right: 0.25em;color: #696969;}#sk-container-id-1 label.sk-toggleable__label-arrow:hover:before {color: black;}#sk-container-id-1 div.sk-estimator:hover label.sk-toggleable__label-arrow:before {color: black;}#sk-container-id-1 div.sk-toggleable__content {max-height: 0;max-width: 0;overflow: hidden;text-align: left;background-color: #f0f8ff;}#sk-container-id-1 div.sk-toggleable__content pre {margin: 0.2em;color: black;border-radius: 0.25em;background-color: #f0f8ff;}#sk-container-id-1 input.sk-toggleable__control:checked~div.sk-toggleable__content {max-height: 200px;max-width: 100%;overflow: auto;}#sk-container-id-1 input.sk-toggleable__control:checked~label.sk-toggleable__label-arrow:before {content: \"▾\";}#sk-container-id-1 div.sk-estimator input.sk-toggleable__control:checked~label.sk-toggleable__label {background-color: #d4ebff;}#sk-container-id-1 div.sk-label input.sk-toggleable__control:checked~label.sk-toggleable__label {background-color: #d4ebff;}#sk-container-id-1 input.sk-hidden--visually {border: 0;clip: rect(1px 1px 1px 1px);clip: rect(1px, 1px, 1px, 1px);height: 1px;margin: -1px;overflow: hidden;padding: 0;position: absolute;width: 1px;}#sk-container-id-1 div.sk-estimator {font-family: monospace;background-color: #f0f8ff;border: 1px dotted black;border-radius: 0.25em;box-sizing: border-box;margin-bottom: 0.5em;}#sk-container-id-1 div.sk-estimator:hover {background-color: #d4ebff;}#sk-container-id-1 div.sk-parallel-item::after {content: \"\";width: 100%;border-bottom: 1px solid gray;flex-grow: 1;}#sk-container-id-1 div.sk-label:hover label.sk-toggleable__label {background-color: #d4ebff;}#sk-container-id-1 div.sk-serial::before {content: \"\";position: absolute;border-left: 1px solid gray;box-sizing: border-box;top: 0;bottom: 0;left: 50%;z-index: 0;}#sk-container-id-1 div.sk-serial {display: flex;flex-direction: column;align-items: center;background-color: white;padding-right: 0.2em;padding-left: 0.2em;position: relative;}#sk-container-id-1 div.sk-item {position: relative;z-index: 1;}#sk-container-id-1 div.sk-parallel {display: flex;align-items: stretch;justify-content: center;background-color: white;position: relative;}#sk-container-id-1 div.sk-item::before, #sk-container-id-1 div.sk-parallel-item::before {content: \"\";position: absolute;border-left: 1px solid gray;box-sizing: border-box;top: 0;bottom: 0;left: 50%;z-index: -1;}#sk-container-id-1 div.sk-parallel-item {display: flex;flex-direction: column;z-index: 1;position: relative;background-color: white;}#sk-container-id-1 div.sk-parallel-item:first-child::after {align-self: flex-end;width: 50%;}#sk-container-id-1 div.sk-parallel-item:last-child::after {align-self: flex-start;width: 50%;}#sk-container-id-1 div.sk-parallel-item:only-child::after {width: 0;}#sk-container-id-1 div.sk-dashed-wrapped {border: 1px dashed gray;margin: 0 0.4em 0.5em 0.4em;box-sizing: border-box;padding-bottom: 0.4em;background-color: white;}#sk-container-id-1 div.sk-label label {font-family: monospace;font-weight: bold;display: inline-block;line-height: 1.2em;}#sk-container-id-1 div.sk-label-container {text-align: center;}#sk-container-id-1 div.sk-container {/* jupyter's `normalize.less` sets `[hidden] { display: none; }` but bootstrap.min.css set `[hidden] { display: none !important; }` so we also need the `!important` here to be able to override the default hidden behavior on the sphinx rendered scikit-learn.org. See: https://github.com/scikit-learn/scikit-learn/issues/21755 */display: inline-block !important;position: relative;}#sk-container-id-1 div.sk-text-repr-fallback {display: none;}</style><div id=\"sk-container-id-1\" class=\"sk-top-container\"><div class=\"sk-text-repr-fallback\"><pre>RandomForestClassifier()</pre><b>In a Jupyter environment, please rerun this cell to show the HTML representation or trust the notebook. <br />On GitHub, the HTML representation is unable to render, please try loading this page with nbviewer.org.</b></div><div class=\"sk-container\" hidden><div class=\"sk-item\"><div class=\"sk-estimator sk-toggleable\"><input class=\"sk-toggleable__control sk-hidden--visually\" id=\"sk-estimator-id-1\" type=\"checkbox\" checked><label for=\"sk-estimator-id-1\" class=\"sk-toggleable__label sk-toggleable__label-arrow\">RandomForestClassifier</label><div class=\"sk-toggleable__content\"><pre>RandomForestClassifier()</pre></div></div></div></div></div>"
      ],
      "text/plain": [
       "RandomForestClassifier()"
      ]
     },
     "execution_count": 15,
     "metadata": {},
     "output_type": "execute_result"
    }
   ],
   "source": [
    "from sklearn.ensemble import RandomForestClassifier\n",
    "from sklearn.metrics import classification_report, accuracy_score\n",
    "\n",
    "# Train model\n",
    "model = RandomForestClassifier()\n",
    "model.fit(X_train, y_train)"
   ]
  },
  {
   "cell_type": "code",
   "execution_count": 16,
   "id": "cdab33cf",
   "metadata": {
    "execution": {
     "iopub.execute_input": "2025-10-03T17:30:30.853788Z",
     "iopub.status.busy": "2025-10-03T17:30:30.853471Z",
     "iopub.status.idle": "2025-10-03T17:30:30.902717Z",
     "shell.execute_reply": "2025-10-03T17:30:30.900626Z"
    },
    "papermill": {
     "duration": 0.05948,
     "end_time": "2025-10-03T17:30:30.906158",
     "exception": false,
     "start_time": "2025-10-03T17:30:30.846678",
     "status": "completed"
    },
    "tags": []
   },
   "outputs": [
    {
     "name": "stdout",
     "output_type": "stream",
     "text": [
      "Accuracy: 0.7129724208375894\n",
      "              precision    recall  f1-score   support\n",
      "\n",
      "           0       0.78      0.85      0.81       650\n",
      "           1       0.56      0.48      0.52       290\n",
      "           2       0.29      0.13      0.18        39\n",
      "\n",
      "    accuracy                           0.71       979\n",
      "   macro avg       0.54      0.49      0.50       979\n",
      "weighted avg       0.69      0.71      0.70       979\n",
      "\n"
     ]
    }
   ],
   "source": [
    "# Predict\n",
    "y_pred = model.predict(X_test)\n",
    "\n",
    "# Evaluation\n",
    "print(\"Accuracy:\", accuracy_score(y_test, y_pred))\n",
    "print(classification_report(y_test, y_pred))"
   ]
  }
 ],
 "metadata": {
  "kaggle": {
   "accelerator": "none",
   "dataSources": [
    {
     "datasetId": 806447,
     "sourceId": 1382162,
     "sourceType": "datasetVersion"
    }
   ],
   "dockerImageVersionId": 31089,
   "isGpuEnabled": false,
   "isInternetEnabled": true,
   "language": "python",
   "sourceType": "notebook"
  },
  "kernelspec": {
   "display_name": "Python 3",
   "language": "python",
   "name": "python3"
  },
  "language_info": {
   "codemirror_mode": {
    "name": "ipython",
    "version": 3
   },
   "file_extension": ".py",
   "mimetype": "text/x-python",
   "name": "python",
   "nbconvert_exporter": "python",
   "pygments_lexer": "ipython3",
   "version": "3.11.13"
  },
  "papermill": {
   "default_parameters": {},
   "duration": 14.131495,
   "end_time": "2025-10-03T17:30:31.735808",
   "environment_variables": {},
   "exception": null,
   "input_path": "__notebook__.ipynb",
   "output_path": "__notebook__.ipynb",
   "parameters": {},
   "start_time": "2025-10-03T17:30:17.604313",
   "version": "2.6.0"
  }
 },
 "nbformat": 4,
 "nbformat_minor": 5
}
