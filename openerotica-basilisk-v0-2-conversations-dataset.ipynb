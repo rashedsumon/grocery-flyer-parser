{
 "cells": [
  {
   "cell_type": "code",
   "execution_count": 1,
   "id": "8c4258dc",
   "metadata": {
    "_cell_guid": "b1076dfc-b9ad-4769-8c92-a6c4dae69d19",
    "_uuid": "8f2839f25d086af736a60e9eeb907d3b93b6e0e5",
    "execution": {
     "iopub.execute_input": "2025-10-03T11:18:41.453188Z",
     "iopub.status.busy": "2025-10-03T11:18:41.452832Z",
     "iopub.status.idle": "2025-10-03T11:18:43.204181Z",
     "shell.execute_reply": "2025-10-03T11:18:43.202831Z"
    },
    "papermill": {
     "duration": 1.757241,
     "end_time": "2025-10-03T11:18:43.205653",
     "exception": false,
     "start_time": "2025-10-03T11:18:41.448412",
     "status": "completed"
    },
    "tags": []
   },
   "outputs": [
    {
     "name": "stdout",
     "output_type": "stream",
     "text": [
      "/kaggle/input/openerotica-basilisk-v0-2-conversations-dataset/train.csv\n"
     ]
    }
   ],
   "source": [
    "# This Python 3 environment comes with many helpful analytics libraries installed\n",
    "# It is defined by the kaggle/python Docker image: https://github.com/kaggle/docker-python\n",
    "# For example, here's several helpful packages to load\n",
    "\n",
    "import numpy as np # linear algebra\n",
    "import pandas as pd # data processing, CSV file I/O (e.g. pd.read_csv)\n",
    "\n",
    "# Input data files are available in the read-only \"../input/\" directory\n",
    "# For example, running this (by clicking run or pressing Shift+Enter) will list all files under the input directory\n",
    "\n",
    "import os\n",
    "for dirname, _, filenames in os.walk('/kaggle/input'):\n",
    "    for filename in filenames:\n",
    "        print(os.path.join(dirname, filename))\n",
    "\n",
    "# You can write up to 20GB to the current directory (/kaggle/working/) that gets preserved as output when you create a version using \"Save & Run All\" \n",
    "# You can also write temporary files to /kaggle/temp/, but they won't be saved outside of the current session"
   ]
  },
  {
   "cell_type": "code",
   "execution_count": 2,
   "id": "4d8ae2d0",
   "metadata": {
    "execution": {
     "iopub.execute_input": "2025-10-03T11:18:43.212976Z",
     "iopub.status.busy": "2025-10-03T11:18:43.212229Z",
     "iopub.status.idle": "2025-10-03T11:18:43.216384Z",
     "shell.execute_reply": "2025-10-03T11:18:43.215687Z"
    },
    "papermill": {
     "duration": 0.008715,
     "end_time": "2025-10-03T11:18:43.217591",
     "exception": false,
     "start_time": "2025-10-03T11:18:43.208876",
     "status": "completed"
    },
    "tags": []
   },
   "outputs": [],
   "source": [
    "import warnings\n",
    "warnings.filterwarnings(\"ignore\")"
   ]
  },
  {
   "cell_type": "code",
   "execution_count": 3,
   "id": "7cd5e4e5",
   "metadata": {
    "execution": {
     "iopub.execute_input": "2025-10-03T11:18:43.223950Z",
     "iopub.status.busy": "2025-10-03T11:18:43.223300Z",
     "iopub.status.idle": "2025-10-03T11:19:02.142335Z",
     "shell.execute_reply": "2025-10-03T11:19:02.141303Z"
    },
    "papermill": {
     "duration": 18.923613,
     "end_time": "2025-10-03T11:19:02.143831",
     "exception": false,
     "start_time": "2025-10-03T11:18:43.220218",
     "status": "completed"
    },
    "tags": []
   },
   "outputs": [
    {
     "data": {
      "text/html": [
       "<div>\n",
       "<style scoped>\n",
       "    .dataframe tbody tr th:only-of-type {\n",
       "        vertical-align: middle;\n",
       "    }\n",
       "\n",
       "    .dataframe tbody tr th {\n",
       "        vertical-align: top;\n",
       "    }\n",
       "\n",
       "    .dataframe thead th {\n",
       "        text-align: right;\n",
       "    }\n",
       "</style>\n",
       "<table border=\"1\" class=\"dataframe\">\n",
       "  <thead>\n",
       "    <tr style=\"text-align: right;\">\n",
       "      <th></th>\n",
       "      <th>id</th>\n",
       "      <th>conversations</th>\n",
       "    </tr>\n",
       "  </thead>\n",
       "  <tbody>\n",
       "    <tr>\n",
       "      <th>0</th>\n",
       "      <td>0</td>\n",
       "      <td>[{'from': 'human', 'value': \"make up a new tit...</td>\n",
       "    </tr>\n",
       "    <tr>\n",
       "      <th>1</th>\n",
       "      <td>1</td>\n",
       "      <td>[{'from': 'human', 'value': \"make up a title a...</td>\n",
       "    </tr>\n",
       "    <tr>\n",
       "      <th>2</th>\n",
       "      <td>2</td>\n",
       "      <td>[{'from': 'human', 'value': 'create a video ti...</td>\n",
       "    </tr>\n",
       "    <tr>\n",
       "      <th>3</th>\n",
       "      <td>3</td>\n",
       "      <td>[{'from': 'human', 'value': \"create an erotic ...</td>\n",
       "    </tr>\n",
       "    <tr>\n",
       "      <th>4</th>\n",
       "      <td>4</td>\n",
       "      <td>[{'from': 'human', 'value': 'Make up a long an...</td>\n",
       "    </tr>\n",
       "  </tbody>\n",
       "</table>\n",
       "</div>"
      ],
      "text/plain": [
       "   id                                      conversations\n",
       "0   0  [{'from': 'human', 'value': \"make up a new tit...\n",
       "1   1  [{'from': 'human', 'value': \"make up a title a...\n",
       "2   2  [{'from': 'human', 'value': 'create a video ti...\n",
       "3   3  [{'from': 'human', 'value': \"create an erotic ...\n",
       "4   4  [{'from': 'human', 'value': 'Make up a long an..."
      ]
     },
     "execution_count": 3,
     "metadata": {},
     "output_type": "execute_result"
    }
   ],
   "source": [
    "df = pd.read_csv('/kaggle/input/openerotica-basilisk-v0-2-conversations-dataset/train.csv')\n",
    "df.head()"
   ]
  },
  {
   "cell_type": "code",
   "execution_count": 4,
   "id": "7e234004",
   "metadata": {
    "execution": {
     "iopub.execute_input": "2025-10-03T11:19:02.150813Z",
     "iopub.status.busy": "2025-10-03T11:19:02.150504Z",
     "iopub.status.idle": "2025-10-03T11:19:02.157132Z",
     "shell.execute_reply": "2025-10-03T11:19:02.156349Z"
    },
    "papermill": {
     "duration": 0.011878,
     "end_time": "2025-10-03T11:19:02.158738",
     "exception": false,
     "start_time": "2025-10-03T11:19:02.146860",
     "status": "completed"
    },
    "tags": []
   },
   "outputs": [
    {
     "data": {
      "text/plain": [
       "Index(['id', 'conversations'], dtype='object')"
      ]
     },
     "execution_count": 4,
     "metadata": {},
     "output_type": "execute_result"
    }
   ],
   "source": [
    "df.columns"
   ]
  },
  {
   "cell_type": "code",
   "execution_count": 5,
   "id": "216eda26",
   "metadata": {
    "execution": {
     "iopub.execute_input": "2025-10-03T11:19:02.165760Z",
     "iopub.status.busy": "2025-10-03T11:19:02.165453Z",
     "iopub.status.idle": "2025-10-03T11:19:02.666415Z",
     "shell.execute_reply": "2025-10-03T11:19:02.665560Z"
    },
    "papermill": {
     "duration": 0.505968,
     "end_time": "2025-10-03T11:19:02.667828",
     "exception": false,
     "start_time": "2025-10-03T11:19:02.161860",
     "status": "completed"
    },
    "tags": []
   },
   "outputs": [
    {
     "data": {
      "image/png": "[encoded data removed]",
      "text/plain": [
       "<Figure size 640x480 with 1 Axes>"
      ]
     },
     "metadata": {},
     "output_type": "display_data"
    }
   ],
   "source": [
    "import matplotlib.pyplot as plt\n",
    "\n",
    "# Calculate conversation length (number of characters)\n",
    "df['length'] = df['conversations'].apply(len)\n",
    "\n",
    "# Plot histogram of conversation lengths\n",
    "plt.hist(df['length'], bins=30, color='skyblue')\n",
    "plt.title('Distribution of Conversation Lengths')\n",
    "plt.xlabel('Number of Characters')\n",
    "plt.ylabel('Frequency')\n",
    "plt.show()"
   ]
  },
  {
   "cell_type": "code",
   "execution_count": 6,
   "id": "c1610892",
   "metadata": {
    "execution": {
     "iopub.execute_input": "2025-10-03T11:19:02.675365Z",
     "iopub.status.busy": "2025-10-03T11:19:02.675069Z",
     "iopub.status.idle": "2025-10-03T11:20:30.400219Z",
     "shell.execute_reply": "2025-10-03T11:20:30.399208Z"
    },
    "papermill": {
     "duration": 87.731103,
     "end_time": "2025-10-03T11:20:30.402289",
     "exception": false,
     "start_time": "2025-10-03T11:19:02.671186",
     "status": "completed"
    },
    "tags": []
   },
   "outputs": [],
   "source": [
    "from sklearn.feature_extraction.text import TfidfVectorizer\n",
    "\n",
    "# Vectorize conversations with TF-IDF (basic, no advanced cleaning)\n",
    "vectorizer = TfidfVectorizer(max_features=5000, stop_words='english')\n",
    "X = vectorizer.fit_transform(df['conversations'])"
   ]
  },
  {
   "cell_type": "code",
   "execution_count": 7,
   "id": "8fdbfc53",
   "metadata": {
    "execution": {
     "iopub.execute_input": "2025-10-03T11:20:30.410870Z",
     "iopub.status.busy": "2025-10-03T11:20:30.410450Z",
     "iopub.status.idle": "2025-10-03T11:20:30.418290Z",
     "shell.execute_reply": "2025-10-03T11:20:30.417279Z"
    },
    "papermill": {
     "duration": 0.013749,
     "end_time": "2025-10-03T11:20:30.419847",
     "exception": false,
     "start_time": "2025-10-03T11:20:30.406098",
     "status": "completed"
    },
    "tags": []
   },
   "outputs": [],
   "source": [
    "# For demonstraion: create dummy binary target (0 or 1 randomly)\n",
    "import numpy as np\n",
    "np.random.seed(0)\n",
    "df['target'] = np.random.randint(0, 2, size=len(df))\n",
    "\n",
    "y = df['target']"
   ]
  },
  {
   "cell_type": "code",
   "execution_count": 8,
   "id": "4599d47d",
   "metadata": {
    "execution": {
     "iopub.execute_input": "2025-10-03T11:20:30.428191Z",
     "iopub.status.busy": "2025-10-03T11:20:30.427569Z",
     "iopub.status.idle": "2025-10-03T11:20:30.690976Z",
     "shell.execute_reply": "2025-10-03T11:20:30.689725Z"
    },
    "papermill": {
     "duration": 0.269554,
     "end_time": "2025-10-03T11:20:30.692914",
     "exception": false,
     "start_time": "2025-10-03T11:20:30.423360",
     "status": "completed"
    },
    "tags": []
   },
   "outputs": [],
   "source": [
    "from sklearn.model_selection import train_test_split\n",
    "X_train, X_test, y_train, y_test = train_test_split(X, y, test_size=0.2, random_state=42)"
   ]
  },
  {
   "cell_type": "code",
   "execution_count": 9,
   "id": "6d2a1c4d",
   "metadata": {
    "execution": {
     "iopub.execute_input": "2025-10-03T11:20:30.701067Z",
     "iopub.status.busy": "2025-10-03T11:20:30.700782Z",
     "iopub.status.idle": "2025-10-03T11:20:49.290091Z",
     "shell.execute_reply": "2025-10-03T11:20:49.289102Z"
    },
    "papermill": {
     "duration": 18.594775,
     "end_time": "2025-10-03T11:20:49.291433",
     "exception": false,
     "start_time": "2025-10-03T11:20:30.696658",
     "status": "completed"
    },
    "tags": []
   },
   "outputs": [
    {
     "data": {
      "text/html": [
       "<style>#sk-container-id-1 {color: black;background-color: white;}#sk-container-id-1 pre{padding: 0;}#sk-container-id-1 div.sk-toggleable {background-color: white;}#sk-container-id-1 label.sk-toggleable__label {cursor: pointer;display: block;width: 100%;margin-bottom: 0;padding: 0.3em;box-sizing: border-box;text-align: center;}#sk-container-id-1 label.sk-toggleable__label-arrow:before {content: \"▸\";float: left;margin-right: 0.25em;color: #696969;}#sk-container-id-1 label.sk-toggleable__label-arrow:hover:before {color: black;}#sk-container-id-1 div.sk-estimator:hover label.sk-toggleable__label-arrow:before {color: black;}#sk-container-id-1 div.sk-toggleable__content {max-height: 0;max-width: 0;overflow: hidden;text-align: left;background-color: #f0f8ff;}#sk-container-id-1 div.sk-toggleable__content pre {margin: 0.2em;color: black;border-radius: 0.25em;background-color: #f0f8ff;}#sk-container-id-1 input.sk-toggleable__control:checked~div.sk-toggleable__content {max-height: 200px;max-width: 100%;overflow: auto;}#sk-container-id-1 input.sk-toggleable__control:checked~label.sk-toggleable__label-arrow:before {content: \"▾\";}#sk-container-id-1 div.sk-estimator input.sk-toggleable__control:checked~label.sk-toggleable__label {background-color: #d4ebff;}#sk-container-id-1 div.sk-label input.sk-toggleable__control:checked~label.sk-toggleable__label {background-color: #d4ebff;}#sk-container-id-1 input.sk-hidden--visually {border: 0;clip: rect(1px 1px 1px 1px);clip: rect(1px, 1px, 1px, 1px);height: 1px;margin: -1px;overflow: hidden;padding: 0;position: absolute;width: 1px;}#sk-container-id-1 div.sk-estimator {font-family: monospace;background-color: #f0f8ff;border: 1px dotted black;border-radius: 0.25em;box-sizing: border-box;margin-bottom: 0.5em;}#sk-container-id-1 div.sk-estimator:hover {background-color: #d4ebff;}#sk-container-id-1 div.sk-parallel-item::after {content: \"\";width: 100%;border-bottom: 1px solid gray;flex-grow: 1;}#sk-container-id-1 div.sk-label:hover label.sk-toggleable__label {background-color: #d4ebff;}#sk-container-id-1 div.sk-serial::before {content: \"\";position: absolute;border-left: 1px solid gray;box-sizing: border-box;top: 0;bottom: 0;left: 50%;z-index: 0;}#sk-container-id-1 div.sk-serial {display: flex;flex-direction: column;align-items: center;background-color: white;padding-right: 0.2em;padding-left: 0.2em;position: relative;}#sk-container-id-1 div.sk-item {position: relative;z-index: 1;}#sk-container-id-1 div.sk-parallel {display: flex;align-items: stretch;justify-content: center;background-color: white;position: relative;}#sk-container-id-1 div.sk-item::before, #sk-container-id-1 div.sk-parallel-item::before {content: \"\";position: absolute;border-left: 1px solid gray;box-sizing: border-box;top: 0;bottom: 0;left: 50%;z-index: -1;}#sk-container-id-1 div.sk-parallel-item {display: flex;flex-direction: column;z-index: 1;position: relative;background-color: white;}#sk-container-id-1 div.sk-parallel-item:first-child::after {align-self: flex-end;width: 50%;}#sk-container-id-1 div.sk-parallel-item:last-child::after {align-self: flex-start;width: 50%;}#sk-container-id-1 div.sk-parallel-item:only-child::after {width: 0;}#sk-container-id-1 div.sk-dashed-wrapped {border: 1px dashed gray;margin: 0 0.4em 0.5em 0.4em;box-sizing: border-box;padding-bottom: 0.4em;background-color: white;}#sk-container-id-1 div.sk-label label {font-family: monospace;font-weight: bold;display: inline-block;line-height: 1.2em;}#sk-container-id-1 div.sk-label-container {text-align: center;}#sk-container-id-1 div.sk-container {/* jupyter's `normalize.less` sets `[hidden] { display: none; }` but bootstrap.min.css set `[hidden] { display: none !important; }` so we also need the `!important` here to be able to override the default hidden behavior on the sphinx rendered scikit-learn.org. See: https://github.com/scikit-learn/scikit-learn/issues/21755 */display: inline-block !important;position: relative;}#sk-container-id-1 div.sk-text-repr-fallback {display: none;}</style><div id=\"sk-container-id-1\" class=\"sk-top-container\"><div class=\"sk-text-repr-fallback\"><pre>LogisticRegression(max_iter=200)</pre><b>In a Jupyter environment, please rerun this cell to show the HTML representation or trust the notebook. <br />On GitHub, the HTML representation is unable to render, please try loading this page with nbviewer.org.</b></div><div class=\"sk-container\" hidden><div class=\"sk-item\"><div class=\"sk-estimator sk-toggleable\"><input class=\"sk-toggleable__control sk-hidden--visually\" id=\"sk-estimator-id-1\" type=\"checkbox\" checked><label for=\"sk-estimator-id-1\" class=\"sk-toggleable__label sk-toggleable__label-arrow\">LogisticRegression</label><div class=\"sk-toggleable__content\"><pre>LogisticRegression(max_iter=200)</pre></div></div></div></div></div>"
      ],
      "text/plain": [
       "LogisticRegression(max_iter=200)"
      ]
     },
     "execution_count": 9,
     "metadata": {},
     "output_type": "execute_result"
    }
   ],
   "source": [
    "from sklearn.linear_model import LogisticRegression\n",
    "from sklearn.metrics import classification_report, ConfusionMatrixDisplay\n",
    "\n",
    "# Train model\n",
    "model = LogisticRegression(max_iter=200)\n",
    "model.fit(X_train, y_train)"
   ]
  },
  {
   "cell_type": "code",
   "execution_count": 10,
   "id": "69f7a9ab",
   "metadata": {
    "execution": {
     "iopub.execute_input": "2025-10-03T11:20:49.299819Z",
     "iopub.status.busy": "2025-10-03T11:20:49.299512Z",
     "iopub.status.idle": "2025-10-03T11:20:49.400799Z",
     "shell.execute_reply": "2025-10-03T11:20:49.399770Z"
    },
    "papermill": {
     "duration": 0.107023,
     "end_time": "2025-10-03T11:20:49.402304",
     "exception": false,
     "start_time": "2025-10-03T11:20:49.295281",
     "status": "completed"
    },
    "tags": []
   },
   "outputs": [
    {
     "name": "stdout",
     "output_type": "stream",
     "text": [
      "              precision    recall  f1-score   support\n",
      "\n",
      "           0       0.50      0.49      0.49     25400\n",
      "           1       0.50      0.50      0.50     25589\n",
      "\n",
      "    accuracy                           0.50     50989\n",
      "   macro avg       0.50      0.50      0.50     50989\n",
      "weighted avg       0.50      0.50      0.50     50989\n",
      "\n"
     ]
    }
   ],
   "source": [
    "# Predict and evaluate\n",
    "y_pred = model.predict(X_test)\n",
    "print(classification_report(y_test, y_pred))"
   ]
  },
  {
   "cell_type": "code",
   "execution_count": 11,
   "id": "589ccd5e",
   "metadata": {
    "execution": {
     "iopub.execute_input": "2025-10-03T11:20:49.410625Z",
     "iopub.status.busy": "2025-10-03T11:20:49.410310Z",
     "iopub.status.idle": "2025-10-03T11:20:49.637429Z",
     "shell.execute_reply": "2025-10-03T11:20:49.636288Z"
    },
    "papermill": {
     "duration": 0.232783,
     "end_time": "2025-10-03T11:20:49.638872",
     "exception": false,
     "start_time": "2025-10-03T11:20:49.406089",
     "status": "completed"
    },
    "tags": []
   },
   "outputs": [
    {
     "data": {
      "image/png": "[encoded data removed]",
      "text/plain": [
       "<Figure size 640x480 with 2 Axes>"
      ]
     },
     "metadata": {},
     "output_type": "display_data"
    }
   ],
   "source": [
    "import matplotlib.pyplot as plt\n",
    "from sklearn.metrics import ConfusionMatrixDisplay\n",
    "\n",
    "# Plot confusion matrix\n",
    "ConfusionMatrixDisplay.from_estimator(model, X_test, y_test, cmap='Blues')\n",
    "plt.title('Confusion Matrix')\n",
    "plt.show()"
   ]
  }
 ],
 "metadata": {
  "kaggle": {
   "accelerator": "none",
   "dataSources": [
    {
     "datasetId": 4085035,
     "sourceId": 7089382,
     "sourceType": "datasetVersion"
    }
   ],
   "dockerImageVersionId": 31089,
   "isGpuEnabled": false,
   "isInternetEnabled": true,
   "language": "python",
   "sourceType": "notebook"
  },
  "kernelspec": {
   "display_name": "Python 3",
   "language": "python",
   "name": "python3"
  },
  "language_info": {
   "codemirror_mode": {
    "name": "ipython",
    "version": 3
   },
   "file_extension": ".py",
   "mimetype": "text/x-python",
   "name": "python",
   "nbconvert_exporter": "python",
   "pygments_lexer": "ipython3",
   "version": "3.11.13"
  },
  "papermill": {
   "default_parameters": {},
   "duration": 134.398391,
   "end_time": "2025-10-03T11:20:50.664715",
   "environment_variables": {},
   "exception": null,
   "input_path": "__notebook__.ipynb",
   "output_path": "__notebook__.ipynb",
   "parameters": {},
   "start_time": "2025-10-03T11:18:36.266324",
   "version": "2.6.0"
  }
 },
 "nbformat": 4,
 "nbformat_minor": 5
}
