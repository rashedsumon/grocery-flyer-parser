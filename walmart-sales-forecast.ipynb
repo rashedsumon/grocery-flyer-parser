{
 "cells": [
  {
   "cell_type": "code",
   "execution_count": 1,
   "id": "3685bd93",
   "metadata": {
    "_cell_guid": "b1076dfc-b9ad-4769-8c92-a6c4dae69d19",
    "_uuid": "8f2839f25d086af736a60e9eeb907d3b93b6e0e5",
    "execution": {
     "iopub.execute_input": "2025-10-03T09:56:52.271732Z",
     "iopub.status.busy": "2025-10-03T09:56:52.271303Z",
     "iopub.status.idle": "2025-10-03T09:56:54.787685Z",
     "shell.execute_reply": "2025-10-03T09:56:54.786097Z"
    },
    "papermill": {
     "duration": 2.52388,
     "end_time": "2025-10-03T09:56:54.789513",
     "exception": false,
     "start_time": "2025-10-03T09:56:52.265633",
     "status": "completed"
    },
    "tags": []
   },
   "outputs": [
    {
     "name": "stdout",
     "output_type": "stream",
     "text": [
      "/kaggle/input/walmart-sales-forecast/features.csv\n",
      "/kaggle/input/walmart-sales-forecast/stores.csv\n",
      "/kaggle/input/walmart-sales-forecast/train.csv\n",
      "/kaggle/input/walmart-sales-forecast/test.csv\n"
     ]
    }
   ],
   "source": [
    "# This Python 3 environment comes with many helpful analytics libraries installed\n",
    "# It is defined by the kaggle/python Docker image: https://github.com/kaggle/docker-python\n",
    "# For example, here's several helpful packages to load\n",
    "\n",
    "import numpy as np # linear algebra\n",
    "import pandas as pd # data processing, CSV file I/O (e.g. pd.read_csv)\n",
    "\n",
    "# Input data files are available in the read-only \"../input/\" directory\n",
    "# For example, running this (by clicking run or pressing Shift+Enter) will list all files under the input directory\n",
    "\n",
    "import os\n",
    "for dirname, _, filenames in os.walk('/kaggle/input'):\n",
    "    for filename in filenames:\n",
    "        print(os.path.join(dirname, filename))\n",
    "\n",
    "# You can write up to 20GB to the current directory (/kaggle/working/) that gets preserved as output when you create a version using \"Save & Run All\" \n",
    "# You can also write temporary files to /kaggle/temp/, but they won't be saved outside of the current session"
   ]
  },
  {
   "cell_type": "code",
   "execution_count": 2,
   "id": "ebdcdf31",
   "metadata": {
    "execution": {
     "iopub.execute_input": "2025-10-03T09:56:54.799621Z",
     "iopub.status.busy": "2025-10-03T09:56:54.799106Z",
     "iopub.status.idle": "2025-10-03T09:56:54.805807Z",
     "shell.execute_reply": "2025-10-03T09:56:54.804424Z"
    },
    "papermill": {
     "duration": 0.013676,
     "end_time": "2025-10-03T09:56:54.807738",
     "exception": false,
     "start_time": "2025-10-03T09:56:54.794062",
     "status": "completed"
    },
    "tags": []
   },
   "outputs": [],
   "source": [
    "import warnings\n",
    "warnings.filterwarnings(\"ignore\")"
   ]
  },
  {
   "cell_type": "code",
   "execution_count": 3,
   "id": "144b470d",
   "metadata": {
    "execution": {
     "iopub.execute_input": "2025-10-03T09:56:54.816655Z",
     "iopub.status.busy": "2025-10-03T09:56:54.816280Z",
     "iopub.status.idle": "2025-10-03T09:56:57.303341Z",
     "shell.execute_reply": "2025-10-03T09:56:57.301855Z"
    },
    "papermill": {
     "duration": 2.494117,
     "end_time": "2025-10-03T09:56:57.305615",
     "exception": false,
     "start_time": "2025-10-03T09:56:54.811498",
     "status": "completed"
    },
    "tags": []
   },
   "outputs": [],
   "source": [
    "import pandas as pd\n",
    "import seaborn as sns\n",
    "import matplotlib.pyplot as plt"
   ]
  },
  {
   "cell_type": "code",
   "execution_count": 4,
   "id": "1d4175a7",
   "metadata": {
    "execution": {
     "iopub.execute_input": "2025-10-03T09:56:57.315754Z",
     "iopub.status.busy": "2025-10-03T09:56:57.315322Z",
     "iopub.status.idle": "2025-10-03T09:56:57.758852Z",
     "shell.execute_reply": "2025-10-03T09:56:57.757471Z"
    },
    "papermill": {
     "duration": 0.450795,
     "end_time": "2025-10-03T09:56:57.760665",
     "exception": false,
     "start_time": "2025-10-03T09:56:57.309870",
     "status": "completed"
    },
    "tags": []
   },
   "outputs": [
    {
     "data": {
      "text/html": [
       "<div>\n",
       "<style scoped>\n",
       "    .dataframe tbody tr th:only-of-type {\n",
       "        vertical-align: middle;\n",
       "    }\n",
       "\n",
       "    .dataframe tbody tr th {\n",
       "        vertical-align: top;\n",
       "    }\n",
       "\n",
       "    .dataframe thead th {\n",
       "        text-align: right;\n",
       "    }\n",
       "</style>\n",
       "<table border=\"1\" class=\"dataframe\">\n",
       "  <thead>\n",
       "    <tr style=\"text-align: right;\">\n",
       "      <th></th>\n",
       "      <th>Store</th>\n",
       "      <th>Dept</th>\n",
       "      <th>Date</th>\n",
       "      <th>Weekly_Sales</th>\n",
       "      <th>IsHoliday</th>\n",
       "    </tr>\n",
       "  </thead>\n",
       "  <tbody>\n",
       "    <tr>\n",
       "      <th>0</th>\n",
       "      <td>1</td>\n",
       "      <td>1</td>\n",
       "      <td>2010-02-05</td>\n",
       "      <td>24924.50</td>\n",
       "      <td>False</td>\n",
       "    </tr>\n",
       "    <tr>\n",
       "      <th>1</th>\n",
       "      <td>1</td>\n",
       "      <td>1</td>\n",
       "      <td>2010-02-12</td>\n",
       "      <td>46039.49</td>\n",
       "      <td>True</td>\n",
       "    </tr>\n",
       "    <tr>\n",
       "      <th>2</th>\n",
       "      <td>1</td>\n",
       "      <td>1</td>\n",
       "      <td>2010-02-19</td>\n",
       "      <td>41595.55</td>\n",
       "      <td>False</td>\n",
       "    </tr>\n",
       "    <tr>\n",
       "      <th>3</th>\n",
       "      <td>1</td>\n",
       "      <td>1</td>\n",
       "      <td>2010-02-26</td>\n",
       "      <td>19403.54</td>\n",
       "      <td>False</td>\n",
       "    </tr>\n",
       "    <tr>\n",
       "      <th>4</th>\n",
       "      <td>1</td>\n",
       "      <td>1</td>\n",
       "      <td>2010-03-05</td>\n",
       "      <td>21827.90</td>\n",
       "      <td>False</td>\n",
       "    </tr>\n",
       "  </tbody>\n",
       "</table>\n",
       "</div>"
      ],
      "text/plain": [
       "   Store  Dept        Date  Weekly_Sales  IsHoliday\n",
       "0      1     1  2010-02-05      24924.50      False\n",
       "1      1     1  2010-02-12      46039.49       True\n",
       "2      1     1  2010-02-19      41595.55      False\n",
       "3      1     1  2010-02-26      19403.54      False\n",
       "4      1     1  2010-03-05      21827.90      False"
      ]
     },
     "execution_count": 4,
     "metadata": {},
     "output_type": "execute_result"
    }
   ],
   "source": [
    "df = pd.read_csv('/kaggle/input/walmart-sales-forecast/train.csv')\n",
    "df.head()"
   ]
  },
  {
   "cell_type": "code",
   "execution_count": 5,
   "id": "29ced05e",
   "metadata": {
    "execution": {
     "iopub.execute_input": "2025-10-03T09:56:57.770504Z",
     "iopub.status.busy": "2025-10-03T09:56:57.770157Z",
     "iopub.status.idle": "2025-10-03T09:56:57.778540Z",
     "shell.execute_reply": "2025-10-03T09:56:57.777371Z"
    },
    "papermill": {
     "duration": 0.015109,
     "end_time": "2025-10-03T09:56:57.780303",
     "exception": false,
     "start_time": "2025-10-03T09:56:57.765194",
     "status": "completed"
    },
    "tags": []
   },
   "outputs": [
    {
     "data": {
      "text/plain": [
       "Index(['Store', 'Dept', 'Date', 'Weekly_Sales', 'IsHoliday'], dtype='object')"
      ]
     },
     "execution_count": 5,
     "metadata": {},
     "output_type": "execute_result"
    }
   ],
   "source": [
    "df.columns"
   ]
  },
  {
   "cell_type": "code",
   "execution_count": 6,
   "id": "a8b4c0f6",
   "metadata": {
    "execution": {
     "iopub.execute_input": "2025-10-03T09:56:57.789605Z",
     "iopub.status.busy": "2025-10-03T09:56:57.789277Z",
     "iopub.status.idle": "2025-10-03T09:56:57.849190Z",
     "shell.execute_reply": "2025-10-03T09:56:57.847458Z"
    },
    "papermill": {
     "duration": 0.066509,
     "end_time": "2025-10-03T09:56:57.851043",
     "exception": false,
     "start_time": "2025-10-03T09:56:57.784534",
     "status": "completed"
    },
    "tags": []
   },
   "outputs": [
    {
     "name": "stdout",
     "output_type": "stream",
     "text": [
      "<class 'pandas.core.frame.DataFrame'>\n",
      "RangeIndex: 421570 entries, 0 to 421569\n",
      "Data columns (total 5 columns):\n",
      " #   Column        Non-Null Count   Dtype  \n",
      "---  ------        --------------   -----  \n",
      " 0   Store         421570 non-null  int64  \n",
      " 1   Dept          421570 non-null  int64  \n",
      " 2   Date          421570 non-null  object \n",
      " 3   Weekly_Sales  421570 non-null  float64\n",
      " 4   IsHoliday     421570 non-null  bool   \n",
      "dtypes: bool(1), float64(1), int64(2), object(1)\n",
      "memory usage: 13.3+ MB\n"
     ]
    }
   ],
   "source": [
    "df.info()"
   ]
  },
  {
   "cell_type": "code",
   "execution_count": 7,
   "id": "fa315d11",
   "metadata": {
    "execution": {
     "iopub.execute_input": "2025-10-03T09:56:57.861668Z",
     "iopub.status.busy": "2025-10-03T09:56:57.861335Z",
     "iopub.status.idle": "2025-10-03T09:56:57.903768Z",
     "shell.execute_reply": "2025-10-03T09:56:57.902825Z"
    },
    "papermill": {
     "duration": 0.050532,
     "end_time": "2025-10-03T09:56:57.906013",
     "exception": false,
     "start_time": "2025-10-03T09:56:57.855481",
     "status": "completed"
    },
    "tags": []
   },
   "outputs": [
    {
     "data": {
      "text/plain": [
       "Store           0\n",
       "Dept            0\n",
       "Date            0\n",
       "Weekly_Sales    0\n",
       "IsHoliday       0\n",
       "dtype: int64"
      ]
     },
     "execution_count": 7,
     "metadata": {},
     "output_type": "execute_result"
    }
   ],
   "source": [
    "df.isnull().sum()"
   ]
  },
  {
   "cell_type": "code",
   "execution_count": 8,
   "id": "6150903b",
   "metadata": {
    "execution": {
     "iopub.execute_input": "2025-10-03T09:56:57.915688Z",
     "iopub.status.busy": "2025-10-03T09:56:57.914883Z",
     "iopub.status.idle": "2025-10-03T09:56:58.504130Z",
     "shell.execute_reply": "2025-10-03T09:56:58.503000Z"
    },
    "papermill": {
     "duration": 0.595613,
     "end_time": "2025-10-03T09:56:58.505794",
     "exception": false,
     "start_time": "2025-10-03T09:56:57.910181",
     "status": "completed"
    },
    "tags": []
   },
   "outputs": [
    {
     "data": {
      "image/png": "[encoded data removed]",
      "text/plain": [
       "<Figure size 1200x400 with 1 Axes>"
      ]
     },
     "metadata": {},
     "output_type": "display_data"
    }
   ],
   "source": [
    "# Sales over time (overall)\n",
    "df['Date'] = pd.to_datetime(df['Date'])\n",
    "df_grouped = df.groupby('Date')['Weekly_Sales'].sum().reset_index()\n",
    "\n",
    "plt.figure(figsize=(12, 4))\n",
    "sns.lineplot(data=df_grouped, x='Date', y='Weekly_Sales')\n",
    "plt.title(\"Weekly Sales Over Time\")\n",
    "plt.show()"
   ]
  },
  {
   "cell_type": "code",
   "execution_count": 9,
   "id": "61801168",
   "metadata": {
    "execution": {
     "iopub.execute_input": "2025-10-03T09:56:58.517849Z",
     "iopub.status.busy": "2025-10-03T09:56:58.517531Z",
     "iopub.status.idle": "2025-10-03T09:56:58.614283Z",
     "shell.execute_reply": "2025-10-03T09:56:58.612734Z"
    },
    "papermill": {
     "duration": 0.105606,
     "end_time": "2025-10-03T09:56:58.616602",
     "exception": false,
     "start_time": "2025-10-03T09:56:58.510996",
     "status": "completed"
    },
    "tags": []
   },
   "outputs": [],
   "source": [
    "# Encode IsHoliday column\n",
    "df['IsHoliday'] = df['IsHoliday'].astype(int)\n",
    "\n",
    "# Extract useful time features\n",
    "df['Year'] = df['Date'].dt.year\n",
    "df['Month'] = df['Date'].dt.month\n",
    "df['Week'] = df['Date'].dt.isocalendar().week\n",
    "\n",
    "# Drop Date column\n",
    "df = df.drop('Date', axis=1)"
   ]
  },
  {
   "cell_type": "code",
   "execution_count": 10,
   "id": "80d85827",
   "metadata": {
    "execution": {
     "iopub.execute_input": "2025-10-03T09:56:58.629623Z",
     "iopub.status.busy": "2025-10-03T09:56:58.629275Z",
     "iopub.status.idle": "2025-10-03T09:56:59.033252Z",
     "shell.execute_reply": "2025-10-03T09:56:59.032143Z"
    },
    "papermill": {
     "duration": 0.41288,
     "end_time": "2025-10-03T09:56:59.035188",
     "exception": false,
     "start_time": "2025-10-03T09:56:58.622308",
     "status": "completed"
    },
    "tags": []
   },
   "outputs": [],
   "source": [
    "from sklearn.model_selection import train_test_split\n",
    "\n",
    "X = df.drop('Weekly_Sales', axis=1)\n",
    "y = df['Weekly_Sales']"
   ]
  },
  {
   "cell_type": "code",
   "execution_count": 11,
   "id": "365fb2b8",
   "metadata": {
    "execution": {
     "iopub.execute_input": "2025-10-03T09:56:59.047848Z",
     "iopub.status.busy": "2025-10-03T09:56:59.047002Z",
     "iopub.status.idle": "2025-10-03T09:56:59.133144Z",
     "shell.execute_reply": "2025-10-03T09:56:59.132046Z"
    },
    "papermill": {
     "duration": 0.094806,
     "end_time": "2025-10-03T09:56:59.135131",
     "exception": false,
     "start_time": "2025-10-03T09:56:59.040325",
     "status": "completed"
    },
    "tags": []
   },
   "outputs": [],
   "source": [
    "X_train, X_test, y_train, y_test = train_test_split(X, y, test_size=0.2, random_state=42)"
   ]
  },
  {
   "cell_type": "code",
   "execution_count": 12,
   "id": "c5cf5bab",
   "metadata": {
    "execution": {
     "iopub.execute_input": "2025-10-03T09:56:59.146767Z",
     "iopub.status.busy": "2025-10-03T09:56:59.146467Z",
     "iopub.status.idle": "2025-10-03T09:57:00.910456Z",
     "shell.execute_reply": "2025-10-03T09:57:00.909315Z"
    },
    "papermill": {
     "duration": 1.771746,
     "end_time": "2025-10-03T09:57:00.912265",
     "exception": false,
     "start_time": "2025-10-03T09:56:59.140519",
     "status": "completed"
    },
    "tags": []
   },
   "outputs": [
    {
     "data": {
      "text/html": [
       "<style>#sk-container-id-1 {color: black;background-color: white;}#sk-container-id-1 pre{padding: 0;}#sk-container-id-1 div.sk-toggleable {background-color: white;}#sk-container-id-1 label.sk-toggleable__label {cursor: pointer;display: block;width: 100%;margin-bottom: 0;padding: 0.3em;box-sizing: border-box;text-align: center;}#sk-container-id-1 label.sk-toggleable__label-arrow:before {content: \"▸\";float: left;margin-right: 0.25em;color: #696969;}#sk-container-id-1 label.sk-toggleable__label-arrow:hover:before {color: black;}#sk-container-id-1 div.sk-estimator:hover label.sk-toggleable__label-arrow:before {color: black;}#sk-container-id-1 div.sk-toggleable__content {max-height: 0;max-width: 0;overflow: hidden;text-align: left;background-color: #f0f8ff;}#sk-container-id-1 div.sk-toggleable__content pre {margin: 0.2em;color: black;border-radius: 0.25em;background-color: #f0f8ff;}#sk-container-id-1 input.sk-toggleable__control:checked~div.sk-toggleable__content {max-height: 200px;max-width: 100%;overflow: auto;}#sk-container-id-1 input.sk-toggleable__control:checked~label.sk-toggleable__label-arrow:before {content: \"▾\";}#sk-container-id-1 div.sk-estimator input.sk-toggleable__control:checked~label.sk-toggleable__label {background-color: #d4ebff;}#sk-container-id-1 div.sk-label input.sk-toggleable__control:checked~label.sk-toggleable__label {background-color: #d4ebff;}#sk-container-id-1 input.sk-hidden--visually {border: 0;clip: rect(1px 1px 1px 1px);clip: rect(1px, 1px, 1px, 1px);height: 1px;margin: -1px;overflow: hidden;padding: 0;position: absolute;width: 1px;}#sk-container-id-1 div.sk-estimator {font-family: monospace;background-color: #f0f8ff;border: 1px dotted black;border-radius: 0.25em;box-sizing: border-box;margin-bottom: 0.5em;}#sk-container-id-1 div.sk-estimator:hover {background-color: #d4ebff;}#sk-container-id-1 div.sk-parallel-item::after {content: \"\";width: 100%;border-bottom: 1px solid gray;flex-grow: 1;}#sk-container-id-1 div.sk-label:hover label.sk-toggleable__label {background-color: #d4ebff;}#sk-container-id-1 div.sk-serial::before {content: \"\";position: absolute;border-left: 1px solid gray;box-sizing: border-box;top: 0;bottom: 0;left: 50%;z-index: 0;}#sk-container-id-1 div.sk-serial {display: flex;flex-direction: column;align-items: center;background-color: white;padding-right: 0.2em;padding-left: 0.2em;position: relative;}#sk-container-id-1 div.sk-item {position: relative;z-index: 1;}#sk-container-id-1 div.sk-parallel {display: flex;align-items: stretch;justify-content: center;background-color: white;position: relative;}#sk-container-id-1 div.sk-item::before, #sk-container-id-1 div.sk-parallel-item::before {content: \"\";position: absolute;border-left: 1px solid gray;box-sizing: border-box;top: 0;bottom: 0;left: 50%;z-index: -1;}#sk-container-id-1 div.sk-parallel-item {display: flex;flex-direction: column;z-index: 1;position: relative;background-color: white;}#sk-container-id-1 div.sk-parallel-item:first-child::after {align-self: flex-end;width: 50%;}#sk-container-id-1 div.sk-parallel-item:last-child::after {align-self: flex-start;width: 50%;}#sk-container-id-1 div.sk-parallel-item:only-child::after {width: 0;}#sk-container-id-1 div.sk-dashed-wrapped {border: 1px dashed gray;margin: 0 0.4em 0.5em 0.4em;box-sizing: border-box;padding-bottom: 0.4em;background-color: white;}#sk-container-id-1 div.sk-label label {font-family: monospace;font-weight: bold;display: inline-block;line-height: 1.2em;}#sk-container-id-1 div.sk-label-container {text-align: center;}#sk-container-id-1 div.sk-container {/* jupyter's `normalize.less` sets `[hidden] { display: none; }` but bootstrap.min.css set `[hidden] { display: none !important; }` so we also need the `!important` here to be able to override the default hidden behavior on the sphinx rendered scikit-learn.org. See: https://github.com/scikit-learn/scikit-learn/issues/21755 */display: inline-block !important;position: relative;}#sk-container-id-1 div.sk-text-repr-fallback {display: none;}</style><div id=\"sk-container-id-1\" class=\"sk-top-container\"><div class=\"sk-text-repr-fallback\"><pre>XGBRegressor(base_score=None, booster=None, callbacks=None,\n",
       "             colsample_bylevel=None, colsample_bynode=None,\n",
       "             colsample_bytree=None, device=None, early_stopping_rounds=None,\n",
       "             enable_categorical=False, eval_metric=None, feature_types=None,\n",
       "             gamma=None, grow_policy=None, importance_type=None,\n",
       "             interaction_constraints=None, learning_rate=0.1, max_bin=None,\n",
       "             max_cat_threshold=None, max_cat_to_onehot=None,\n",
       "             max_delta_step=None, max_depth=None, max_leaves=None,\n",
       "             min_child_weight=None, missing=nan, monotone_constraints=None,\n",
       "             multi_strategy=None, n_estimators=100, n_jobs=None,\n",
       "             num_parallel_tree=None, random_state=42, ...)</pre><b>In a Jupyter environment, please rerun this cell to show the HTML representation or trust the notebook. <br />On GitHub, the HTML representation is unable to render, please try loading this page with nbviewer.org.</b></div><div class=\"sk-container\" hidden><div class=\"sk-item\"><div class=\"sk-estimator sk-toggleable\"><input class=\"sk-toggleable__control sk-hidden--visually\" id=\"sk-estimator-id-1\" type=\"checkbox\" checked><label for=\"sk-estimator-id-1\" class=\"sk-toggleable__label sk-toggleable__label-arrow\">XGBRegressor</label><div class=\"sk-toggleable__content\"><pre>XGBRegressor(base_score=None, booster=None, callbacks=None,\n",
       "             colsample_bylevel=None, colsample_bynode=None,\n",
       "             colsample_bytree=None, device=None, early_stopping_rounds=None,\n",
       "             enable_categorical=False, eval_metric=None, feature_types=None,\n",
       "             gamma=None, grow_policy=None, importance_type=None,\n",
       "             interaction_constraints=None, learning_rate=0.1, max_bin=None,\n",
       "             max_cat_threshold=None, max_cat_to_onehot=None,\n",
       "             max_delta_step=None, max_depth=None, max_leaves=None,\n",
       "             min_child_weight=None, missing=nan, monotone_constraints=None,\n",
       "             multi_strategy=None, n_estimators=100, n_jobs=None,\n",
       "             num_parallel_tree=None, random_state=42, ...)</pre></div></div></div></div></div>"
      ],
      "text/plain": [
       "XGBRegressor(base_score=None, booster=None, callbacks=None,\n",
       "             colsample_bylevel=None, colsample_bynode=None,\n",
       "             colsample_bytree=None, device=None, early_stopping_rounds=None,\n",
       "             enable_categorical=False, eval_metric=None, feature_types=None,\n",
       "             gamma=None, grow_policy=None, importance_type=None,\n",
       "             interaction_constraints=None, learning_rate=0.1, max_bin=None,\n",
       "             max_cat_threshold=None, max_cat_to_onehot=None,\n",
       "             max_delta_step=None, max_depth=None, max_leaves=None,\n",
       "             min_child_weight=None, missing=nan, monotone_constraints=None,\n",
       "             multi_strategy=None, n_estimators=100, n_jobs=None,\n",
       "             num_parallel_tree=None, random_state=42, ...)"
      ]
     },
     "execution_count": 12,
     "metadata": {},
     "output_type": "execute_result"
    }
   ],
   "source": [
    "from xgboost import XGBRegressor\n",
    "\n",
    "model = XGBRegressor(n_estimators=100, learning_rate=0.1, random_state=42)\n",
    "model.fit(X_train, y_train)"
   ]
  },
  {
   "cell_type": "code",
   "execution_count": 13,
   "id": "ffa60ca9",
   "metadata": {
    "execution": {
     "iopub.execute_input": "2025-10-03T09:57:00.926854Z",
     "iopub.status.busy": "2025-10-03T09:57:00.926509Z",
     "iopub.status.idle": "2025-10-03T09:57:01.024707Z",
     "shell.execute_reply": "2025-10-03T09:57:01.024001Z"
    },
    "papermill": {
     "duration": 0.107225,
     "end_time": "2025-10-03T09:57:01.026679",
     "exception": false,
     "start_time": "2025-10-03T09:57:00.919454",
     "status": "completed"
    },
    "tags": []
   },
   "outputs": [],
   "source": [
    "y_pred = model.predict(X_test)"
   ]
  },
  {
   "cell_type": "code",
   "execution_count": 14,
   "id": "5db67eed",
   "metadata": {
    "execution": {
     "iopub.execute_input": "2025-10-03T09:57:01.039993Z",
     "iopub.status.busy": "2025-10-03T09:57:01.039639Z",
     "iopub.status.idle": "2025-10-03T09:57:01.071797Z",
     "shell.execute_reply": "2025-10-03T09:57:01.070488Z"
    },
    "papermill": {
     "duration": 0.041076,
     "end_time": "2025-10-03T09:57:01.073790",
     "exception": false,
     "start_time": "2025-10-03T09:57:01.032714",
     "status": "completed"
    },
    "tags": []
   },
   "outputs": [
    {
     "name": "stdout",
     "output_type": "stream",
     "text": [
      "Mean Squared Error: 74280331.89822485\n",
      "R² Score: 0.857556157652594\n"
     ]
    }
   ],
   "source": [
    "from sklearn.metrics import mean_squared_error, r2_score\n",
    "# Calculate metrics\n",
    "mse = mean_squared_error(y_test, y_pred)\n",
    "r2 = r2_score(y_test, y_pred)\n",
    "\n",
    "print(\"Mean Squared Error:\", mse)\n",
    "print(\"R² Score:\", r2)"
   ]
  }
 ],
 "metadata": {
  "kaggle": {
   "accelerator": "none",
   "dataSources": [
    {
     "datasetId": 2107830,
     "sourceId": 3502310,
     "sourceType": "datasetVersion"
    }
   ],
   "dockerImageVersionId": 31089,
   "isGpuEnabled": false,
   "isInternetEnabled": true,
   "language": "python",
   "sourceType": "notebook"
  },
  "kernelspec": {
   "display_name": "Python 3",
   "language": "python",
   "name": "python3"
  },
  "language_info": {
   "codemirror_mode": {
    "name": "ipython",
    "version": 3
   },
   "file_extension": ".py",
   "mimetype": "text/x-python",
   "name": "python",
   "nbconvert_exporter": "python",
   "pygments_lexer": "ipython3",
   "version": "3.11.13"
  },
  "papermill": {
   "default_parameters": {},
   "duration": 16.594245,
   "end_time": "2025-10-03T09:57:01.801704",
   "environment_variables": {},
   "exception": null,
   "input_path": "__notebook__.ipynb",
   "output_path": "__notebook__.ipynb",
   "parameters": {},
   "start_time": "2025-10-03T09:56:45.207459",
   "version": "2.6.0"
  }
 },
 "nbformat": 4,
 "nbformat_minor": 5
}
