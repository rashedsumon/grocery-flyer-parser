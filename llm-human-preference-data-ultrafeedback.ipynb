{
 "cells": [
  {
   "cell_type": "code",
   "execution_count": 1,
   "id": "06ea7c23",
   "metadata": {
    "_cell_guid": "b1076dfc-b9ad-4769-8c92-a6c4dae69d19",
    "_uuid": "8f2839f25d086af736a60e9eeb907d3b93b6e0e5",
    "execution": {
     "iopub.execute_input": "2025-10-03T13:35:09.851533Z",
     "iopub.status.busy": "2025-10-03T13:35:09.851198Z",
     "iopub.status.idle": "2025-10-03T13:35:11.811388Z",
     "shell.execute_reply": "2025-10-03T13:35:11.810287Z"
    },
    "papermill": {
     "duration": 1.966486,
     "end_time": "2025-10-03T13:35:11.813041",
     "exception": false,
     "start_time": "2025-10-03T13:35:09.846555",
     "status": "completed"
    },
    "tags": []
   },
   "outputs": [
    {
     "name": "stdout",
     "output_type": "stream",
     "text": [
      "/kaggle/input/llm-human-preference-data-ultrafeedback/ultrafeedback_lmsysformat.parquet\n",
      "/kaggle/input/llm-human-preference-data-ultrafeedback/ultrafeedback_ties.parquet\n",
      "/kaggle/input/llm-human-preference-data-ultrafeedback/ultrafeedback.parquet\n",
      "/kaggle/input/llm-human-preference-data-ultrafeedback/ultrafeedback.csv\n",
      "/kaggle/input/llm-human-preference-data-ultrafeedback/ultrafeedback_ties.csv\n"
     ]
    }
   ],
   "source": [
    "# This Python 3 environment comes with many helpful analytics libraries installed\n",
    "# It is defined by the kaggle/python Docker image: https://github.com/kaggle/docker-python\n",
    "# For example, here's several helpful packages to load\n",
    "\n",
    "import numpy as np # linear algebra\n",
    "import pandas as pd # data processing, CSV file I/O (e.g. pd.read_csv)\n",
    "\n",
    "# Input data files are available in the read-only \"../input/\" directory\n",
    "# For example, running this (by clicking run or pressing Shift+Enter) will list all files under the input directory\n",
    "\n",
    "import os\n",
    "for dirname, _, filenames in os.walk('/kaggle/input'):\n",
    "    for filename in filenames:\n",
    "        print(os.path.join(dirname, filename))\n",
    "\n",
    "# You can write up to 20GB to the current directory (/kaggle/working/) that gets preserved as output when you create a version using \"Save & Run All\" \n",
    "# You can also write temporary files to /kaggle/temp/, but they won't be saved outside of the current session"
   ]
  },
  {
   "cell_type": "code",
   "execution_count": 2,
   "id": "b989b2d8",
   "metadata": {
    "execution": {
     "iopub.execute_input": "2025-10-03T13:35:11.820948Z",
     "iopub.status.busy": "2025-10-03T13:35:11.820518Z",
     "iopub.status.idle": "2025-10-03T13:35:11.825392Z",
     "shell.execute_reply": "2025-10-03T13:35:11.824519Z"
    },
    "papermill": {
     "duration": 0.010587,
     "end_time": "2025-10-03T13:35:11.827234",
     "exception": false,
     "start_time": "2025-10-03T13:35:11.816647",
     "status": "completed"
    },
    "tags": []
   },
   "outputs": [],
   "source": [
    "import warnings\n",
    "warnings.filterwarnings(\"ignore\")"
   ]
  },
  {
   "cell_type": "code",
   "execution_count": 3,
   "id": "11c12059",
   "metadata": {
    "execution": {
     "iopub.execute_input": "2025-10-03T13:35:11.834626Z",
     "iopub.status.busy": "2025-10-03T13:35:11.834273Z",
     "iopub.status.idle": "2025-10-03T13:35:13.770280Z",
     "shell.execute_reply": "2025-10-03T13:35:13.769359Z"
    },
    "papermill": {
     "duration": 1.941528,
     "end_time": "2025-10-03T13:35:13.771920",
     "exception": false,
     "start_time": "2025-10-03T13:35:11.830392",
     "status": "completed"
    },
    "tags": []
   },
   "outputs": [],
   "source": [
    "import pandas as pd\n",
    "import seaborn as sns\n",
    "import matplotlib.pyplot as plt"
   ]
  },
  {
   "cell_type": "code",
   "execution_count": 4,
   "id": "15311825",
   "metadata": {
    "execution": {
     "iopub.execute_input": "2025-10-03T13:35:13.779822Z",
     "iopub.status.busy": "2025-10-03T13:35:13.778816Z",
     "iopub.status.idle": "2025-10-03T13:35:35.886035Z",
     "shell.execute_reply": "2025-10-03T13:35:35.885230Z"
    },
    "papermill": {
     "duration": 22.112864,
     "end_time": "2025-10-03T13:35:35.887984",
     "exception": false,
     "start_time": "2025-10-03T13:35:13.775120",
     "status": "completed"
    },
    "tags": []
   },
   "outputs": [
    {
     "data": {
      "text/html": [
       "<div>\n",
       "<style scoped>\n",
       "    .dataframe tbody tr th:only-of-type {\n",
       "        vertical-align: middle;\n",
       "    }\n",
       "\n",
       "    .dataframe tbody tr th {\n",
       "        vertical-align: top;\n",
       "    }\n",
       "\n",
       "    .dataframe thead th {\n",
       "        text-align: right;\n",
       "    }\n",
       "</style>\n",
       "<table border=\"1\" class=\"dataframe\">\n",
       "  <thead>\n",
       "    <tr style=\"text-align: right;\">\n",
       "      <th></th>\n",
       "      <th>source</th>\n",
       "      <th>prompt</th>\n",
       "      <th>chosen</th>\n",
       "      <th>chosen-rating</th>\n",
       "      <th>chosen-model</th>\n",
       "      <th>rejected</th>\n",
       "      <th>rejected-rating</th>\n",
       "      <th>rejected-model</th>\n",
       "    </tr>\n",
       "  </thead>\n",
       "  <tbody>\n",
       "    <tr>\n",
       "      <th>0</th>\n",
       "      <td>evol_instruct</td>\n",
       "      <td>Can you write a C++ program that prompts the u...</td>\n",
       "      <td>[{'content': 'Can you write a C++ program that...</td>\n",
       "      <td>5.00</td>\n",
       "      <td>starchat</td>\n",
       "      <td>[{'content': 'Can you write a C++ program that...</td>\n",
       "      <td>1.25</td>\n",
       "      <td>alpaca-7b</td>\n",
       "    </tr>\n",
       "    <tr>\n",
       "      <th>1</th>\n",
       "      <td>evol_instruct</td>\n",
       "      <td>Can you write a C++ program that prompts the u...</td>\n",
       "      <td>[{'content': 'Can you write a C++ program that...</td>\n",
       "      <td>5.00</td>\n",
       "      <td>starchat</td>\n",
       "      <td>[{'content': 'Can you write a C++ program that...</td>\n",
       "      <td>4.00</td>\n",
       "      <td>vicuna-33b</td>\n",
       "    </tr>\n",
       "    <tr>\n",
       "      <th>2</th>\n",
       "      <td>evol_instruct</td>\n",
       "      <td>Can you write a C++ program that prompts the u...</td>\n",
       "      <td>[{'content': 'Can you write a C++ program that...</td>\n",
       "      <td>5.00</td>\n",
       "      <td>starchat</td>\n",
       "      <td>[{'content': 'Can you write a C++ program that...</td>\n",
       "      <td>1.25</td>\n",
       "      <td>pythia-12b</td>\n",
       "    </tr>\n",
       "    <tr>\n",
       "      <th>3</th>\n",
       "      <td>evol_instruct</td>\n",
       "      <td>Suppose you are a content creator and want to ...</td>\n",
       "      <td>[{'content': 'Suppose you are a content creato...</td>\n",
       "      <td>4.75</td>\n",
       "      <td>gpt-4</td>\n",
       "      <td>[{'content': 'Suppose you are a content creato...</td>\n",
       "      <td>4.25</td>\n",
       "      <td>llama-2-13b-chat</td>\n",
       "    </tr>\n",
       "    <tr>\n",
       "      <th>4</th>\n",
       "      <td>evol_instruct</td>\n",
       "      <td>Suppose you are a content creator and want to ...</td>\n",
       "      <td>[{'content': 'Suppose you are a content creato...</td>\n",
       "      <td>4.75</td>\n",
       "      <td>gpt-4</td>\n",
       "      <td>[{'content': 'Suppose you are a content creato...</td>\n",
       "      <td>3.25</td>\n",
       "      <td>starchat</td>\n",
       "    </tr>\n",
       "  </tbody>\n",
       "</table>\n",
       "</div>"
      ],
      "text/plain": [
       "          source                                             prompt  \\\n",
       "0  evol_instruct  Can you write a C++ program that prompts the u...   \n",
       "1  evol_instruct  Can you write a C++ program that prompts the u...   \n",
       "2  evol_instruct  Can you write a C++ program that prompts the u...   \n",
       "3  evol_instruct  Suppose you are a content creator and want to ...   \n",
       "4  evol_instruct  Suppose you are a content creator and want to ...   \n",
       "\n",
       "                                              chosen  chosen-rating  \\\n",
       "0  [{'content': 'Can you write a C++ program that...           5.00   \n",
       "1  [{'content': 'Can you write a C++ program that...           5.00   \n",
       "2  [{'content': 'Can you write a C++ program that...           5.00   \n",
       "3  [{'content': 'Suppose you are a content creato...           4.75   \n",
       "4  [{'content': 'Suppose you are a content creato...           4.75   \n",
       "\n",
       "  chosen-model                                           rejected  \\\n",
       "0     starchat  [{'content': 'Can you write a C++ program that...   \n",
       "1     starchat  [{'content': 'Can you write a C++ program that...   \n",
       "2     starchat  [{'content': 'Can you write a C++ program that...   \n",
       "3        gpt-4  [{'content': 'Suppose you are a content creato...   \n",
       "4        gpt-4  [{'content': 'Suppose you are a content creato...   \n",
       "\n",
       "   rejected-rating    rejected-model  \n",
       "0             1.25         alpaca-7b  \n",
       "1             4.00        vicuna-33b  \n",
       "2             1.25        pythia-12b  \n",
       "3             4.25  llama-2-13b-chat  \n",
       "4             3.25          starchat  "
      ]
     },
     "execution_count": 4,
     "metadata": {},
     "output_type": "execute_result"
    }
   ],
   "source": [
    "df = pd.read_csv('/kaggle/input/llm-human-preference-data-ultrafeedback/ultrafeedback.csv')\n",
    "df.head()"
   ]
  },
  {
   "cell_type": "code",
   "execution_count": 5,
   "id": "8405d650",
   "metadata": {
    "execution": {
     "iopub.execute_input": "2025-10-03T13:35:35.895950Z",
     "iopub.status.busy": "2025-10-03T13:35:35.895637Z",
     "iopub.status.idle": "2025-10-03T13:35:35.903174Z",
     "shell.execute_reply": "2025-10-03T13:35:35.902185Z"
    },
    "papermill": {
     "duration": 0.013405,
     "end_time": "2025-10-03T13:35:35.904802",
     "exception": false,
     "start_time": "2025-10-03T13:35:35.891397",
     "status": "completed"
    },
    "tags": []
   },
   "outputs": [
    {
     "data": {
      "text/plain": [
       "Index(['source', 'prompt', 'chosen', 'chosen-rating', 'chosen-model',\n",
       "       'rejected', 'rejected-rating', 'rejected-model'],\n",
       "      dtype='object')"
      ]
     },
     "execution_count": 5,
     "metadata": {},
     "output_type": "execute_result"
    }
   ],
   "source": [
    "df.columns"
   ]
  },
  {
   "cell_type": "code",
   "execution_count": 6,
   "id": "1b5aded9",
   "metadata": {
    "execution": {
     "iopub.execute_input": "2025-10-03T13:35:35.912833Z",
     "iopub.status.busy": "2025-10-03T13:35:35.912527Z",
     "iopub.status.idle": "2025-10-03T13:35:35.991495Z",
     "shell.execute_reply": "2025-10-03T13:35:35.990468Z"
    },
    "papermill": {
     "duration": 0.08476,
     "end_time": "2025-10-03T13:35:35.993165",
     "exception": false,
     "start_time": "2025-10-03T13:35:35.908405",
     "status": "completed"
    },
    "tags": []
   },
   "outputs": [
    {
     "name": "stdout",
     "output_type": "stream",
     "text": [
      "source             0\n",
      "prompt             0\n",
      "chosen             0\n",
      "chosen-rating      0\n",
      "chosen-model       0\n",
      "rejected           0\n",
      "rejected-rating    0\n",
      "rejected-model     0\n",
      "dtype: int64\n"
     ]
    }
   ],
   "source": [
    "# Check missing values\n",
    "print(df.isnull().sum())"
   ]
  },
  {
   "cell_type": "code",
   "execution_count": 7,
   "id": "013f05f1",
   "metadata": {
    "execution": {
     "iopub.execute_input": "2025-10-03T13:35:36.001222Z",
     "iopub.status.busy": "2025-10-03T13:35:36.000868Z",
     "iopub.status.idle": "2025-10-03T13:35:36.006840Z",
     "shell.execute_reply": "2025-10-03T13:35:36.005605Z"
    },
    "papermill": {
     "duration": 0.011835,
     "end_time": "2025-10-03T13:35:36.008497",
     "exception": false,
     "start_time": "2025-10-03T13:35:35.996662",
     "status": "completed"
    },
    "tags": []
   },
   "outputs": [
    {
     "name": "stdout",
     "output_type": "stream",
     "text": [
      "source              object\n",
      "prompt              object\n",
      "chosen              object\n",
      "chosen-rating      float64\n",
      "chosen-model        object\n",
      "rejected            object\n",
      "rejected-rating    float64\n",
      "rejected-model      object\n",
      "dtype: object\n"
     ]
    }
   ],
   "source": [
    "# Show column data types\n",
    "print(df.dtypes)"
   ]
  },
  {
   "cell_type": "code",
   "execution_count": 8,
   "id": "90750bec",
   "metadata": {
    "execution": {
     "iopub.execute_input": "2025-10-03T13:35:36.016680Z",
     "iopub.status.busy": "2025-10-03T13:35:36.016330Z",
     "iopub.status.idle": "2025-10-03T13:35:36.030979Z",
     "shell.execute_reply": "2025-10-03T13:35:36.029884Z"
    },
    "papermill": {
     "duration": 0.020778,
     "end_time": "2025-10-03T13:35:36.032710",
     "exception": false,
     "start_time": "2025-10-03T13:35:36.011932",
     "status": "completed"
    },
    "tags": []
   },
   "outputs": [],
   "source": [
    "# Create a label: 1 if 'chosen' rating is higher, else 0\n",
    "df['label'] = (df['chosen-rating'] > df['rejected-rating']).astype(int)\n",
    "\n",
    "# Features and label\n",
    "X = df[['chosen-rating', 'rejected-rating']]\n",
    "y = df['label']"
   ]
  },
  {
   "cell_type": "code",
   "execution_count": 9,
   "id": "6e6b957c",
   "metadata": {
    "execution": {
     "iopub.execute_input": "2025-10-03T13:35:36.040866Z",
     "iopub.status.busy": "2025-10-03T13:35:36.040514Z",
     "iopub.status.idle": "2025-10-03T13:35:38.310014Z",
     "shell.execute_reply": "2025-10-03T13:35:38.308998Z"
    },
    "papermill": {
     "duration": 2.275538,
     "end_time": "2025-10-03T13:35:38.311786",
     "exception": false,
     "start_time": "2025-10-03T13:35:36.036248",
     "status": "completed"
    },
    "tags": []
   },
   "outputs": [
    {
     "data": {
      "image/png": "[encoded data removed]",
      "text/plain": [
       "<Figure size 1000x400 with 1 Axes>"
      ]
     },
     "metadata": {},
     "output_type": "display_data"
    }
   ],
   "source": [
    "# Histogram of chosen vs rejected ratings\n",
    "plt.figure(figsize=(10,4))\n",
    "sns.histplot(df['chosen-rating'], color='green', label='Chosen', kde=True)\n",
    "sns.histplot(df['rejected-rating'], color='red', label='Rejected', kde=True)\n",
    "plt.legend(); plt.title('Rating Distribution'); plt.show()"
   ]
  },
  {
   "cell_type": "code",
   "execution_count": 10,
   "id": "aeddfb28",
   "metadata": {
    "execution": {
     "iopub.execute_input": "2025-10-03T13:35:38.321401Z",
     "iopub.status.busy": "2025-10-03T13:35:38.321043Z",
     "iopub.status.idle": "2025-10-03T13:35:38.687411Z",
     "shell.execute_reply": "2025-10-03T13:35:38.686355Z"
    },
    "papermill": {
     "duration": 0.37318,
     "end_time": "2025-10-03T13:35:38.689116",
     "exception": false,
     "start_time": "2025-10-03T13:35:38.315936",
     "status": "completed"
    },
    "tags": []
   },
   "outputs": [],
   "source": [
    "from sklearn.model_selection import train_test_split\n",
    "\n",
    "# Split the data\n",
    "X_train, X_test, y_train, y_test = train_test_split(X, y, test_size=0.2, random_state=42)"
   ]
  },
  {
   "cell_type": "code",
   "execution_count": 11,
   "id": "679bc798",
   "metadata": {
    "execution": {
     "iopub.execute_input": "2025-10-03T13:35:38.698294Z",
     "iopub.status.busy": "2025-10-03T13:35:38.697974Z",
     "iopub.status.idle": "2025-10-03T13:35:44.967504Z",
     "shell.execute_reply": "2025-10-03T13:35:44.965677Z"
    },
    "papermill": {
     "duration": 6.276154,
     "end_time": "2025-10-03T13:35:44.969348",
     "exception": false,
     "start_time": "2025-10-03T13:35:38.693194",
     "status": "completed"
    },
    "tags": []
   },
   "outputs": [
    {
     "name": "stdout",
     "output_type": "stream",
     "text": [
      "[LightGBM] [Warning] Contains only one class\n",
      "[LightGBM] [Info] Number of positive: 0, number of negative: 126140\n",
      "[LightGBM] [Info] Auto-choosing col-wise multi-threading, the overhead of testing was 0.002635 seconds.\n",
      "You can set `force_col_wise=true` to remove the overhead.\n",
      "[LightGBM] [Info] Total Bins 34\n",
      "[LightGBM] [Info] Number of data points in the train set: 126140, number of used features: 2\n",
      "[LightGBM] [Info] [binary:BoostFromScore]: pavg=0.000000 -> initscore=-34.538776\n",
      "[LightGBM] [Info] Start training from score -34.538776\n",
      "[LightGBM] [Warning] Stopped training because there are no more leaves that meet the split requirements\n",
      "[LightGBM] [Warning] Stopped training because there are no more leaves that meet the split requirements\n",
      "[LightGBM] [Warning] Stopped training because there are no more leaves that meet the split requirements\n",
      "[LightGBM] [Warning] Stopped training because there are no more leaves that meet the split requirements\n",
      "[LightGBM] [Warning] Stopped training because there are no more leaves that meet the split requirements\n",
      "[LightGBM] [Warning] Stopped training because there are no more leaves that meet the split requirements\n",
      "[LightGBM] [Warning] Stopped training because there are no more leaves that meet the split requirements\n",
      "[LightGBM] [Warning] Stopped training because there are no more leaves that meet the split requirements\n",
      "[LightGBM] [Warning] Stopped training because there are no more leaves that meet the split requirements\n",
      "[LightGBM] [Warning] Stopped training because there are no more leaves that meet the split requirements\n",
      "[LightGBM] [Warning] Stopped training because there are no more leaves that meet the split requirements\n",
      "[LightGBM] [Warning] Stopped training because there are no more leaves that meet the split requirements\n",
      "[LightGBM] [Warning] Stopped training because there are no more leaves that meet the split requirements\n",
      "[LightGBM] [Warning] Stopped training because there are no more leaves that meet the split requirements\n",
      "[LightGBM] [Warning] Stopped training because there are no more leaves that meet the split requirements\n",
      "[LightGBM] [Warning] Stopped training because there are no more leaves that meet the split requirements\n",
      "[LightGBM] [Warning] Stopped training because there are no more leaves that meet the split requirements\n",
      "[LightGBM] [Warning] Stopped training because there are no more leaves that meet the split requirements\n",
      "[LightGBM] [Warning] Stopped training because there are no more leaves that meet the split requirements\n",
      "[LightGBM] [Warning] Stopped training because there are no more leaves that meet the split requirements\n",
      "[LightGBM] [Warning] Stopped training because there are no more leaves that meet the split requirements\n",
      "[LightGBM] [Warning] Stopped training because there are no more leaves that meet the split requirements\n",
      "[LightGBM] [Warning] Stopped training because there are no more leaves that meet the split requirements\n",
      "[LightGBM] [Warning] Stopped training because there are no more leaves that meet the split requirements\n",
      "[LightGBM] [Warning] Stopped training because there are no more leaves that meet the split requirements\n",
      "[LightGBM] [Warning] Stopped training because there are no more leaves that meet the split requirements\n",
      "[LightGBM] [Warning] Stopped training because there are no more leaves that meet the split requirements\n",
      "[LightGBM] [Warning] Stopped training because there are no more leaves that meet the split requirements\n",
      "[LightGBM] [Warning] Stopped training because there are no more leaves that meet the split requirements\n",
      "[LightGBM] [Warning] Stopped training because there are no more leaves that meet the split requirements\n",
      "[LightGBM] [Warning] Stopped training because there are no more leaves that meet the split requirements\n",
      "[LightGBM] [Warning] Stopped training because there are no more leaves that meet the split requirements\n",
      "[LightGBM] [Warning] Stopped training because there are no more leaves that meet the split requirements\n",
      "[LightGBM] [Warning] Stopped training because there are no more leaves that meet the split requirements\n",
      "[LightGBM] [Warning] Stopped training because there are no more leaves that meet the split requirements\n",
      "[LightGBM] [Warning] Stopped training because there are no more leaves that meet the split requirements\n",
      "[LightGBM] [Warning] Stopped training because there are no more leaves that meet the split requirements\n",
      "[LightGBM] [Warning] Stopped training because there are no more leaves that meet the split requirements\n",
      "[LightGBM] [Warning] Stopped training because there are no more leaves that meet the split requirements\n",
      "[LightGBM] [Warning] Stopped training because there are no more leaves that meet the split requirements\n",
      "[LightGBM] [Warning] Stopped training because there are no more leaves that meet the split requirements\n",
      "[LightGBM] [Warning] Stopped training because there are no more leaves that meet the split requirements\n",
      "[LightGBM] [Warning] Stopped training because there are no more leaves that meet the split requirements\n",
      "[LightGBM] [Warning] Stopped training because there are no more leaves that meet the split requirements\n",
      "[LightGBM] [Warning] Stopped training because there are no more leaves that meet the split requirements\n",
      "[LightGBM] [Warning] Stopped training because there are no more leaves that meet the split requirements\n",
      "[LightGBM] [Warning] Stopped training because there are no more leaves that meet the split requirements\n",
      "[LightGBM] [Warning] Stopped training because there are no more leaves that meet the split requirements\n",
      "[LightGBM] [Warning] Stopped training because there are no more leaves that meet the split requirements\n",
      "[LightGBM] [Warning] Stopped training because there are no more leaves that meet the split requirements\n",
      "[LightGBM] [Warning] Stopped training because there are no more leaves that meet the split requirements\n",
      "[LightGBM] [Warning] Stopped training because there are no more leaves that meet the split requirements\n",
      "[LightGBM] [Warning] Stopped training because there are no more leaves that meet the split requirements\n",
      "[LightGBM] [Warning] Stopped training because there are no more leaves that meet the split requirements\n",
      "[LightGBM] [Warning] Stopped training because there are no more leaves that meet the split requirements\n",
      "[LightGBM] [Warning] Stopped training because there are no more leaves that meet the split requirements\n",
      "[LightGBM] [Warning] Stopped training because there are no more leaves that meet the split requirements\n",
      "[LightGBM] [Warning] Stopped training because there are no more leaves that meet the split requirements\n",
      "[LightGBM] [Warning] Stopped training because there are no more leaves that meet the split requirements\n",
      "[LightGBM] [Warning] Stopped training because there are no more leaves that meet the split requirements\n",
      "[LightGBM] [Warning] Stopped training because there are no more leaves that meet the split requirements\n",
      "[LightGBM] [Warning] Stopped training because there are no more leaves that meet the split requirements\n",
      "[LightGBM] [Warning] Stopped training because there are no more leaves that meet the split requirements\n",
      "[LightGBM] [Warning] Stopped training because there are no more leaves that meet the split requirements\n",
      "[LightGBM] [Warning] Stopped training because there are no more leaves that meet the split requirements\n",
      "[LightGBM] [Warning] Stopped training because there are no more leaves that meet the split requirements\n",
      "[LightGBM] [Warning] Stopped training because there are no more leaves that meet the split requirements\n",
      "[LightGBM] [Warning] Stopped training because there are no more leaves that meet the split requirements\n",
      "[LightGBM] [Warning] Stopped training because there are no more leaves that meet the split requirements\n",
      "[LightGBM] [Warning] Stopped training because there are no more leaves that meet the split requirements\n",
      "[LightGBM] [Warning] Stopped training because there are no more leaves that meet the split requirements\n",
      "[LightGBM] [Warning] Stopped training because there are no more leaves that meet the split requirements\n",
      "[LightGBM] [Warning] Stopped training because there are no more leaves that meet the split requirements\n",
      "[LightGBM] [Warning] Stopped training because there are no more leaves that meet the split requirements\n",
      "[LightGBM] [Warning] Stopped training because there are no more leaves that meet the split requirements\n",
      "[LightGBM] [Warning] Stopped training because there are no more leaves that meet the split requirements\n",
      "[LightGBM] [Warning] Stopped training because there are no more leaves that meet the split requirements\n",
      "[LightGBM] [Warning] Stopped training because there are no more leaves that meet the split requirements\n",
      "[LightGBM] [Warning] Stopped training because there are no more leaves that meet the split requirements\n",
      "[LightGBM] [Warning] Stopped training because there are no more leaves that meet the split requirements\n",
      "[LightGBM] [Warning] Stopped training because there are no more leaves that meet the split requirements\n",
      "[LightGBM] [Warning] Stopped training because there are no more leaves that meet the split requirements\n",
      "[LightGBM] [Warning] Stopped training because there are no more leaves that meet the split requirements\n",
      "[LightGBM] [Warning] Stopped training because there are no more leaves that meet the split requirements\n",
      "[LightGBM] [Warning] Stopped training because there are no more leaves that meet the split requirements\n",
      "[LightGBM] [Warning] Stopped training because there are no more leaves that meet the split requirements\n",
      "[LightGBM] [Warning] Stopped training because there are no more leaves that meet the split requirements\n",
      "[LightGBM] [Warning] Stopped training because there are no more leaves that meet the split requirements\n",
      "[LightGBM] [Warning] Stopped training because there are no more leaves that meet the split requirements\n",
      "[LightGBM] [Warning] Stopped training because there are no more leaves that meet the split requirements\n",
      "[LightGBM] [Warning] Stopped training because there are no more leaves that meet the split requirements\n",
      "[LightGBM] [Warning] Stopped training because there are no more leaves that meet the split requirements\n",
      "[LightGBM] [Warning] Stopped training because there are no more leaves that meet the split requirements\n",
      "[LightGBM] [Warning] Stopped training because there are no more leaves that meet the split requirements\n",
      "[LightGBM] [Warning] Stopped training because there are no more leaves that meet the split requirements\n",
      "[LightGBM] [Warning] Stopped training because there are no more leaves that meet the split requirements\n",
      "[LightGBM] [Warning] Stopped training because there are no more leaves that meet the split requirements\n",
      "[LightGBM] [Warning] Stopped training because there are no more leaves that meet the split requirements\n",
      "[LightGBM] [Warning] Stopped training because there are no more leaves that meet the split requirements\n",
      "[LightGBM] [Warning] Stopped training because there are no more leaves that meet the split requirements\n"
     ]
    },
    {
     "data": {
      "text/html": [
       "<style>#sk-container-id-1 {color: black;background-color: white;}#sk-container-id-1 pre{padding: 0;}#sk-container-id-1 div.sk-toggleable {background-color: white;}#sk-container-id-1 label.sk-toggleable__label {cursor: pointer;display: block;width: 100%;margin-bottom: 0;padding: 0.3em;box-sizing: border-box;text-align: center;}#sk-container-id-1 label.sk-toggleable__label-arrow:before {content: \"▸\";float: left;margin-right: 0.25em;color: #696969;}#sk-container-id-1 label.sk-toggleable__label-arrow:hover:before {color: black;}#sk-container-id-1 div.sk-estimator:hover label.sk-toggleable__label-arrow:before {color: black;}#sk-container-id-1 div.sk-toggleable__content {max-height: 0;max-width: 0;overflow: hidden;text-align: left;background-color: #f0f8ff;}#sk-container-id-1 div.sk-toggleable__content pre {margin: 0.2em;color: black;border-radius: 0.25em;background-color: #f0f8ff;}#sk-container-id-1 input.sk-toggleable__control:checked~div.sk-toggleable__content {max-height: 200px;max-width: 100%;overflow: auto;}#sk-container-id-1 input.sk-toggleable__control:checked~label.sk-toggleable__label-arrow:before {content: \"▾\";}#sk-container-id-1 div.sk-estimator input.sk-toggleable__control:checked~label.sk-toggleable__label {background-color: #d4ebff;}#sk-container-id-1 div.sk-label input.sk-toggleable__control:checked~label.sk-toggleable__label {background-color: #d4ebff;}#sk-container-id-1 input.sk-hidden--visually {border: 0;clip: rect(1px 1px 1px 1px);clip: rect(1px, 1px, 1px, 1px);height: 1px;margin: -1px;overflow: hidden;padding: 0;position: absolute;width: 1px;}#sk-container-id-1 div.sk-estimator {font-family: monospace;background-color: #f0f8ff;border: 1px dotted black;border-radius: 0.25em;box-sizing: border-box;margin-bottom: 0.5em;}#sk-container-id-1 div.sk-estimator:hover {background-color: #d4ebff;}#sk-container-id-1 div.sk-parallel-item::after {content: \"\";width: 100%;border-bottom: 1px solid gray;flex-grow: 1;}#sk-container-id-1 div.sk-label:hover label.sk-toggleable__label {background-color: #d4ebff;}#sk-container-id-1 div.sk-serial::before {content: \"\";position: absolute;border-left: 1px solid gray;box-sizing: border-box;top: 0;bottom: 0;left: 50%;z-index: 0;}#sk-container-id-1 div.sk-serial {display: flex;flex-direction: column;align-items: center;background-color: white;padding-right: 0.2em;padding-left: 0.2em;position: relative;}#sk-container-id-1 div.sk-item {position: relative;z-index: 1;}#sk-container-id-1 div.sk-parallel {display: flex;align-items: stretch;justify-content: center;background-color: white;position: relative;}#sk-container-id-1 div.sk-item::before, #sk-container-id-1 div.sk-parallel-item::before {content: \"\";position: absolute;border-left: 1px solid gray;box-sizing: border-box;top: 0;bottom: 0;left: 50%;z-index: -1;}#sk-container-id-1 div.sk-parallel-item {display: flex;flex-direction: column;z-index: 1;position: relative;background-color: white;}#sk-container-id-1 div.sk-parallel-item:first-child::after {align-self: flex-end;width: 50%;}#sk-container-id-1 div.sk-parallel-item:last-child::after {align-self: flex-start;width: 50%;}#sk-container-id-1 div.sk-parallel-item:only-child::after {width: 0;}#sk-container-id-1 div.sk-dashed-wrapped {border: 1px dashed gray;margin: 0 0.4em 0.5em 0.4em;box-sizing: border-box;padding-bottom: 0.4em;background-color: white;}#sk-container-id-1 div.sk-label label {font-family: monospace;font-weight: bold;display: inline-block;line-height: 1.2em;}#sk-container-id-1 div.sk-label-container {text-align: center;}#sk-container-id-1 div.sk-container {/* jupyter's `normalize.less` sets `[hidden] { display: none; }` but bootstrap.min.css set `[hidden] { display: none !important; }` so we also need the `!important` here to be able to override the default hidden behavior on the sphinx rendered scikit-learn.org. See: https://github.com/scikit-learn/scikit-learn/issues/21755 */display: inline-block !important;position: relative;}#sk-container-id-1 div.sk-text-repr-fallback {display: none;}</style><div id=\"sk-container-id-1\" class=\"sk-top-container\"><div class=\"sk-text-repr-fallback\"><pre>LGBMClassifier()</pre><b>In a Jupyter environment, please rerun this cell to show the HTML representation or trust the notebook. <br />On GitHub, the HTML representation is unable to render, please try loading this page with nbviewer.org.</b></div><div class=\"sk-container\" hidden><div class=\"sk-item\"><div class=\"sk-estimator sk-toggleable\"><input class=\"sk-toggleable__control sk-hidden--visually\" id=\"sk-estimator-id-1\" type=\"checkbox\" checked><label for=\"sk-estimator-id-1\" class=\"sk-toggleable__label sk-toggleable__label-arrow\">LGBMClassifier</label><div class=\"sk-toggleable__content\"><pre>LGBMClassifier()</pre></div></div></div></div></div>"
      ],
      "text/plain": [
       "LGBMClassifier()"
      ]
     },
     "execution_count": 11,
     "metadata": {},
     "output_type": "execute_result"
    }
   ],
   "source": [
    "from lightgbm import LGBMClassifier\n",
    "from sklearn.metrics import accuracy_score\n",
    "\n",
    "# Train a LightGBM model\n",
    "model = LGBMClassifier()\n",
    "model.fit(X_train, y_train)"
   ]
  },
  {
   "cell_type": "code",
   "execution_count": 12,
   "id": "e162d263",
   "metadata": {
    "execution": {
     "iopub.execute_input": "2025-10-03T13:35:44.984334Z",
     "iopub.status.busy": "2025-10-03T13:35:44.983618Z",
     "iopub.status.idle": "2025-10-03T13:35:44.999218Z",
     "shell.execute_reply": "2025-10-03T13:35:44.997799Z"
    },
    "papermill": {
     "duration": 0.02661,
     "end_time": "2025-10-03T13:35:45.000992",
     "exception": false,
     "start_time": "2025-10-03T13:35:44.974382",
     "status": "completed"
    },
    "tags": []
   },
   "outputs": [
    {
     "name": "stdout",
     "output_type": "stream",
     "text": [
      "Accuracy: 1.0\n"
     ]
    }
   ],
   "source": [
    "# Predict and check accuracy\n",
    "y_pred = model.predict(X_test)\n",
    "print(\"Accuracy:\", accuracy_score(y_test, y_pred))"
   ]
  },
  {
   "cell_type": "code",
   "execution_count": 13,
   "id": "901e268e",
   "metadata": {
    "execution": {
     "iopub.execute_input": "2025-10-03T13:35:45.013319Z",
     "iopub.status.busy": "2025-10-03T13:35:45.012966Z",
     "iopub.status.idle": "2025-10-03T13:35:45.222197Z",
     "shell.execute_reply": "2025-10-03T13:35:45.221070Z"
    },
    "papermill": {
     "duration": 0.216779,
     "end_time": "2025-10-03T13:35:45.223874",
     "exception": false,
     "start_time": "2025-10-03T13:35:45.007095",
     "status": "completed"
    },
    "tags": []
   },
   "outputs": [
    {
     "data": {
      "image/png": "[encoded data removed]",
      "text/plain": [
       "<Figure size 640x480 with 2 Axes>"
      ]
     },
     "metadata": {},
     "output_type": "display_data"
    }
   ],
   "source": [
    "# Confusion matrix\n",
    "from sklearn.metrics import ConfusionMatrixDisplay\n",
    "\n",
    "ConfusionMatrixDisplay.from_predictions(y_test, y_pred, cmap=\"Blues\")\n",
    "plt.title(\"Prediction vs Actual (Confusion Matrix)\")\n",
    "plt.show()"
   ]
  }
 ],
 "metadata": {
  "kaggle": {
   "accelerator": "none",
   "dataSources": [
    {
     "datasetId": 4927617,
     "sourceId": 8297557,
     "sourceType": "datasetVersion"
    }
   ],
   "dockerImageVersionId": 31089,
   "isGpuEnabled": false,
   "isInternetEnabled": true,
   "language": "python",
   "sourceType": "notebook"
  },
  "kernelspec": {
   "display_name": "Python 3",
   "language": "python",
   "name": "python3"
  },
  "language_info": {
   "codemirror_mode": {
    "name": "ipython",
    "version": 3
   },
   "file_extension": ".py",
   "mimetype": "text/x-python",
   "name": "python",
   "nbconvert_exporter": "python",
   "pygments_lexer": "ipython3",
   "version": "3.11.13"
  },
  "papermill": {
   "default_parameters": {},
   "duration": 42.116865,
   "end_time": "2025-10-03T13:35:46.350861",
   "environment_variables": {},
   "exception": null,
   "input_path": "__notebook__.ipynb",
   "output_path": "__notebook__.ipynb",
   "parameters": {},
   "start_time": "2025-10-03T13:35:04.233996",
   "version": "2.6.0"
  }
 },
 "nbformat": 4,
 "nbformat_minor": 5
}
