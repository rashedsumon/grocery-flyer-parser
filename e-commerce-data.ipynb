{
 "cells": [
  {
   "cell_type": "code",
   "execution_count": 1,
   "id": "875511e8",
   "metadata": {
    "_cell_guid": "b1076dfc-b9ad-4769-8c92-a6c4dae69d19",
    "_uuid": "8f2839f25d086af736a60e9eeb907d3b93b6e0e5",
    "execution": {
     "iopub.execute_input": "2025-10-03T17:07:23.995155Z",
     "iopub.status.busy": "2025-10-03T17:07:23.994846Z",
     "iopub.status.idle": "2025-10-03T17:07:26.174750Z",
     "shell.execute_reply": "2025-10-03T17:07:26.173094Z"
    },
    "papermill": {
     "duration": 2.188055,
     "end_time": "2025-10-03T17:07:26.176576",
     "exception": false,
     "start_time": "2025-10-03T17:07:23.988521",
     "status": "completed"
    },
    "tags": []
   },
   "outputs": [
    {
     "name": "stdout",
     "output_type": "stream",
     "text": [
      "/kaggle/input/ecommerce-data/data.csv\n"
     ]
    }
   ],
   "source": [
    "# This Python 3 environment comes with many helpful analytics libraries installed\n",
    "# It is defined by the kaggle/python Docker image: https://github.com/kaggle/docker-python\n",
    "# For example, here's several helpful packages to load\n",
    "\n",
    "import numpy as np # linear algebra\n",
    "import pandas as pd # data processing, CSV file I/O (e.g. pd.read_csv)\n",
    "\n",
    "# Input data files are available in the read-only \"../input/\" directory\n",
    "# For example, running this (by clicking run or pressing Shift+Enter) will list all files under the input directory\n",
    "\n",
    "import os\n",
    "for dirname, _, filenames in os.walk('/kaggle/input'):\n",
    "    for filename in filenames:\n",
    "        print(os.path.join(dirname, filename))\n",
    "\n",
    "# You can write up to 20GB to the current directory (/kaggle/working/) that gets preserved as output when you create a version using \"Save & Run All\" \n",
    "# You can also write temporary files to /kaggle/temp/, but they won't be saved outside of the current session"
   ]
  },
  {
   "cell_type": "code",
   "execution_count": 2,
   "id": "0aa029ba",
   "metadata": {
    "execution": {
     "iopub.execute_input": "2025-10-03T17:07:26.187593Z",
     "iopub.status.busy": "2025-10-03T17:07:26.187074Z",
     "iopub.status.idle": "2025-10-03T17:07:26.193004Z",
     "shell.execute_reply": "2025-10-03T17:07:26.191626Z"
    },
    "papermill": {
     "duration": 0.013434,
     "end_time": "2025-10-03T17:07:26.195086",
     "exception": false,
     "start_time": "2025-10-03T17:07:26.181652",
     "status": "completed"
    },
    "tags": []
   },
   "outputs": [],
   "source": [
    "import warnings\n",
    "warnings.filterwarnings(\"ignore\")"
   ]
  },
  {
   "cell_type": "code",
   "execution_count": 3,
   "id": "4709452c",
   "metadata": {
    "execution": {
     "iopub.execute_input": "2025-10-03T17:07:26.204061Z",
     "iopub.status.busy": "2025-10-03T17:07:26.203751Z",
     "iopub.status.idle": "2025-10-03T17:07:29.383058Z",
     "shell.execute_reply": "2025-10-03T17:07:29.381823Z"
    },
    "papermill": {
     "duration": 3.185661,
     "end_time": "2025-10-03T17:07:29.384868",
     "exception": false,
     "start_time": "2025-10-03T17:07:26.199207",
     "status": "completed"
    },
    "tags": []
   },
   "outputs": [],
   "source": [
    "import pandas as pd\n",
    "import seaborn as sns\n",
    "import matplotlib.pyplot as plt\n",
    "from sklearn.model_selection import train_test_split\n",
    "from sklearn.ensemble import RandomForestClassifier\n",
    "from sklearn.preprocessing import LabelEncoder\n",
    "from sklearn.metrics import classification_report, confusion_matrix"
   ]
  },
  {
   "cell_type": "code",
   "execution_count": 4,
   "id": "46b21d1c",
   "metadata": {
    "execution": {
     "iopub.execute_input": "2025-10-03T17:07:29.394562Z",
     "iopub.status.busy": "2025-10-03T17:07:29.393975Z",
     "iopub.status.idle": "2025-10-03T17:07:31.177262Z",
     "shell.execute_reply": "2025-10-03T17:07:31.176251Z"
    },
    "papermill": {
     "duration": 1.79017,
     "end_time": "2025-10-03T17:07:31.179202",
     "exception": false,
     "start_time": "2025-10-03T17:07:29.389032",
     "status": "completed"
    },
    "tags": []
   },
   "outputs": [
    {
     "data": {
      "text/html": [
       "<div>\n",
       "<style scoped>\n",
       "    .dataframe tbody tr th:only-of-type {\n",
       "        vertical-align: middle;\n",
       "    }\n",
       "\n",
       "    .dataframe tbody tr th {\n",
       "        vertical-align: top;\n",
       "    }\n",
       "\n",
       "    .dataframe thead th {\n",
       "        text-align: right;\n",
       "    }\n",
       "</style>\n",
       "<table border=\"1\" class=\"dataframe\">\n",
       "  <thead>\n",
       "    <tr style=\"text-align: right;\">\n",
       "      <th></th>\n",
       "      <th>InvoiceNo</th>\n",
       "      <th>StockCode</th>\n",
       "      <th>Description</th>\n",
       "      <th>Quantity</th>\n",
       "      <th>InvoiceDate</th>\n",
       "      <th>UnitPrice</th>\n",
       "      <th>CustomerID</th>\n",
       "      <th>Country</th>\n",
       "    </tr>\n",
       "  </thead>\n",
       "  <tbody>\n",
       "    <tr>\n",
       "      <th>0</th>\n",
       "      <td>536365</td>\n",
       "      <td>85123A</td>\n",
       "      <td>WHITE HANGING HEART T-LIGHT HOLDER</td>\n",
       "      <td>6</td>\n",
       "      <td>12/1/2010 8:26</td>\n",
       "      <td>2.55</td>\n",
       "      <td>17850.0</td>\n",
       "      <td>United Kingdom</td>\n",
       "    </tr>\n",
       "    <tr>\n",
       "      <th>1</th>\n",
       "      <td>536365</td>\n",
       "      <td>71053</td>\n",
       "      <td>WHITE METAL LANTERN</td>\n",
       "      <td>6</td>\n",
       "      <td>12/1/2010 8:26</td>\n",
       "      <td>3.39</td>\n",
       "      <td>17850.0</td>\n",
       "      <td>United Kingdom</td>\n",
       "    </tr>\n",
       "    <tr>\n",
       "      <th>2</th>\n",
       "      <td>536365</td>\n",
       "      <td>84406B</td>\n",
       "      <td>CREAM CUPID HEARTS COAT HANGER</td>\n",
       "      <td>8</td>\n",
       "      <td>12/1/2010 8:26</td>\n",
       "      <td>2.75</td>\n",
       "      <td>17850.0</td>\n",
       "      <td>United Kingdom</td>\n",
       "    </tr>\n",
       "    <tr>\n",
       "      <th>3</th>\n",
       "      <td>536365</td>\n",
       "      <td>84029G</td>\n",
       "      <td>KNITTED UNION FLAG HOT WATER BOTTLE</td>\n",
       "      <td>6</td>\n",
       "      <td>12/1/2010 8:26</td>\n",
       "      <td>3.39</td>\n",
       "      <td>17850.0</td>\n",
       "      <td>United Kingdom</td>\n",
       "    </tr>\n",
       "    <tr>\n",
       "      <th>4</th>\n",
       "      <td>536365</td>\n",
       "      <td>84029E</td>\n",
       "      <td>RED WOOLLY HOTTIE WHITE HEART.</td>\n",
       "      <td>6</td>\n",
       "      <td>12/1/2010 8:26</td>\n",
       "      <td>3.39</td>\n",
       "      <td>17850.0</td>\n",
       "      <td>United Kingdom</td>\n",
       "    </tr>\n",
       "  </tbody>\n",
       "</table>\n",
       "</div>"
      ],
      "text/plain": [
       "  InvoiceNo StockCode                          Description  Quantity  \\\n",
       "0    536365    85123A   WHITE HANGING HEART T-LIGHT HOLDER         6   \n",
       "1    536365     71053                  WHITE METAL LANTERN         6   \n",
       "2    536365    84406B       CREAM CUPID HEARTS COAT HANGER         8   \n",
       "3    536365    84029G  KNITTED UNION FLAG HOT WATER BOTTLE         6   \n",
       "4    536365    84029E       RED WOOLLY HOTTIE WHITE HEART.         6   \n",
       "\n",
       "      InvoiceDate  UnitPrice  CustomerID         Country  \n",
       "0  12/1/2010 8:26       2.55     17850.0  United Kingdom  \n",
       "1  12/1/2010 8:26       3.39     17850.0  United Kingdom  \n",
       "2  12/1/2010 8:26       2.75     17850.0  United Kingdom  \n",
       "3  12/1/2010 8:26       3.39     17850.0  United Kingdom  \n",
       "4  12/1/2010 8:26       3.39     17850.0  United Kingdom  "
      ]
     },
     "execution_count": 4,
     "metadata": {},
     "output_type": "execute_result"
    }
   ],
   "source": [
    "df = pd.read_csv('/kaggle/input/ecommerce-data/data.csv', encoding='ISO-8859-1')\n",
    "df.head()"
   ]
  },
  {
   "cell_type": "code",
   "execution_count": 5,
   "id": "364143d6",
   "metadata": {
    "execution": {
     "iopub.execute_input": "2025-10-03T17:07:31.188828Z",
     "iopub.status.busy": "2025-10-03T17:07:31.188474Z",
     "iopub.status.idle": "2025-10-03T17:07:31.196540Z",
     "shell.execute_reply": "2025-10-03T17:07:31.195428Z"
    },
    "papermill": {
     "duration": 0.01493,
     "end_time": "2025-10-03T17:07:31.198106",
     "exception": false,
     "start_time": "2025-10-03T17:07:31.183176",
     "status": "completed"
    },
    "tags": []
   },
   "outputs": [
    {
     "data": {
      "text/plain": [
       "Index(['InvoiceNo', 'StockCode', 'Description', 'Quantity', 'InvoiceDate',\n",
       "       'UnitPrice', 'CustomerID', 'Country'],\n",
       "      dtype='object')"
      ]
     },
     "execution_count": 5,
     "metadata": {},
     "output_type": "execute_result"
    }
   ],
   "source": [
    "df.columns"
   ]
  },
  {
   "cell_type": "code",
   "execution_count": 6,
   "id": "3a76abce",
   "metadata": {
    "execution": {
     "iopub.execute_input": "2025-10-03T17:07:31.207391Z",
     "iopub.status.busy": "2025-10-03T17:07:31.207066Z",
     "iopub.status.idle": "2025-10-03T17:07:31.381740Z",
     "shell.execute_reply": "2025-10-03T17:07:31.380270Z"
    },
    "papermill": {
     "duration": 0.1818,
     "end_time": "2025-10-03T17:07:31.383861",
     "exception": false,
     "start_time": "2025-10-03T17:07:31.202061",
     "status": "completed"
    },
    "tags": []
   },
   "outputs": [
    {
     "name": "stdout",
     "output_type": "stream",
     "text": [
      "<class 'pandas.core.frame.DataFrame'>\n",
      "RangeIndex: 541909 entries, 0 to 541908\n",
      "Data columns (total 8 columns):\n",
      " #   Column       Non-Null Count   Dtype  \n",
      "---  ------       --------------   -----  \n",
      " 0   InvoiceNo    541909 non-null  object \n",
      " 1   StockCode    541909 non-null  object \n",
      " 2   Description  540455 non-null  object \n",
      " 3   Quantity     541909 non-null  int64  \n",
      " 4   InvoiceDate  541909 non-null  object \n",
      " 5   UnitPrice    541909 non-null  float64\n",
      " 6   CustomerID   406829 non-null  float64\n",
      " 7   Country      541909 non-null  object \n",
      "dtypes: float64(2), int64(1), object(5)\n",
      "memory usage: 33.1+ MB\n",
      "None\n"
     ]
    }
   ],
   "source": [
    "# View info and check missing values\n",
    "print(df.info())"
   ]
  },
  {
   "cell_type": "code",
   "execution_count": 7,
   "id": "eff21773",
   "metadata": {
    "execution": {
     "iopub.execute_input": "2025-10-03T17:07:31.393995Z",
     "iopub.status.busy": "2025-10-03T17:07:31.393643Z",
     "iopub.status.idle": "2025-10-03T17:07:31.542682Z",
     "shell.execute_reply": "2025-10-03T17:07:31.541505Z"
    },
    "papermill": {
     "duration": 0.156389,
     "end_time": "2025-10-03T17:07:31.544434",
     "exception": false,
     "start_time": "2025-10-03T17:07:31.388045",
     "status": "completed"
    },
    "tags": []
   },
   "outputs": [
    {
     "name": "stdout",
     "output_type": "stream",
     "text": [
      "InvoiceNo           0\n",
      "StockCode           0\n",
      "Description      1454\n",
      "Quantity            0\n",
      "InvoiceDate         0\n",
      "UnitPrice           0\n",
      "CustomerID     135080\n",
      "Country             0\n",
      "dtype: int64\n"
     ]
    }
   ],
   "source": [
    "print(df.isnull().sum())"
   ]
  },
  {
   "cell_type": "code",
   "execution_count": 8,
   "id": "6b06a70e",
   "metadata": {
    "execution": {
     "iopub.execute_input": "2025-10-03T17:07:31.554127Z",
     "iopub.status.busy": "2025-10-03T17:07:31.553791Z",
     "iopub.status.idle": "2025-10-03T17:07:31.734296Z",
     "shell.execute_reply": "2025-10-03T17:07:31.733085Z"
    },
    "papermill": {
     "duration": 0.187341,
     "end_time": "2025-10-03T17:07:31.736049",
     "exception": false,
     "start_time": "2025-10-03T17:07:31.548708",
     "status": "completed"
    },
    "tags": []
   },
   "outputs": [],
   "source": [
    "# Drop rows with missing values (simple handling)\n",
    "df.dropna(inplace=True)"
   ]
  },
  {
   "cell_type": "code",
   "execution_count": 9,
   "id": "e76e5e1c",
   "metadata": {
    "execution": {
     "iopub.execute_input": "2025-10-03T17:07:31.746655Z",
     "iopub.status.busy": "2025-10-03T17:07:31.746280Z",
     "iopub.status.idle": "2025-10-03T17:07:32.049187Z",
     "shell.execute_reply": "2025-10-03T17:07:32.048223Z"
    },
    "papermill": {
     "duration": 0.310714,
     "end_time": "2025-10-03T17:07:32.051237",
     "exception": false,
     "start_time": "2025-10-03T17:07:31.740523",
     "status": "completed"
    },
    "tags": []
   },
   "outputs": [
    {
     "data": {
      "image/png": "[encoded data removed]",
      "text/plain": [
       "<Figure size 640x480 with 1 Axes>"
      ]
     },
     "metadata": {},
     "output_type": "display_data"
    }
   ],
   "source": [
    "# Top 5 selling countries (excluding UK if it's dominant)\n",
    "top_countries = df['Country'].value_counts().drop('United Kingdom', errors='ignore').head(5)\n",
    "\n",
    "# Plot\n",
    "sns.barplot(x=top_countries.values, y=top_countries.index)\n",
    "plt.title('Top 5 Countries by Transactions')\n",
    "plt.xlabel('Number of Transactions')\n",
    "plt.show()"
   ]
  },
  {
   "cell_type": "code",
   "execution_count": 10,
   "id": "2ee8bf44",
   "metadata": {
    "execution": {
     "iopub.execute_input": "2025-10-03T17:07:32.061494Z",
     "iopub.status.busy": "2025-10-03T17:07:32.061128Z",
     "iopub.status.idle": "2025-10-03T17:07:32.608158Z",
     "shell.execute_reply": "2025-10-03T17:07:32.606960Z"
    },
    "papermill": {
     "duration": 0.554149,
     "end_time": "2025-10-03T17:07:32.610079",
     "exception": false,
     "start_time": "2025-10-03T17:07:32.055930",
     "status": "completed"
    },
    "tags": []
   },
   "outputs": [
    {
     "data": {
      "image/png": "[encoded data removed]",
      "text/plain": [
       "<Figure size 640x480 with 1 Axes>"
      ]
     },
     "metadata": {},
     "output_type": "display_data"
    }
   ],
   "source": [
    "# Transactions over time\n",
    "df['InvoiceDate'] = pd.to_datetime(df['InvoiceDate'])\n",
    "df.set_index('InvoiceDate').resample('M')['InvoiceNo'].count().plot()\n",
    "plt.title('Monthly Transactions')\n",
    "plt.ylabel('Number of Invoices')\n",
    "plt.show()"
   ]
  },
  {
   "cell_type": "code",
   "execution_count": 11,
   "id": "abc903d1",
   "metadata": {
    "execution": {
     "iopub.execute_input": "2025-10-03T17:07:32.622786Z",
     "iopub.status.busy": "2025-10-03T17:07:32.622477Z",
     "iopub.status.idle": "2025-10-03T17:07:32.694559Z",
     "shell.execute_reply": "2025-10-03T17:07:32.693298Z"
    },
    "papermill": {
     "duration": 0.080201,
     "end_time": "2025-10-03T17:07:32.696267",
     "exception": false,
     "start_time": "2025-10-03T17:07:32.616066",
     "status": "completed"
    },
    "tags": []
   },
   "outputs": [],
   "source": [
    "# Create 'TotalAmount' feature\n",
    "df['TotalAmount'] = df['Quantity'] * df['UnitPrice']\n",
    "\n",
    "# Keep only positive values (valid purchases)\n",
    "df = df[df['TotalAmount'] > 0]"
   ]
  },
  {
   "cell_type": "code",
   "execution_count": 12,
   "id": "7528fb8f",
   "metadata": {
    "execution": {
     "iopub.execute_input": "2025-10-03T17:07:32.709072Z",
     "iopub.status.busy": "2025-10-03T17:07:32.708748Z",
     "iopub.status.idle": "2025-10-03T17:07:32.789262Z",
     "shell.execute_reply": "2025-10-03T17:07:32.788347Z"
    },
    "papermill": {
     "duration": 0.08916,
     "end_time": "2025-10-03T17:07:32.790820",
     "exception": false,
     "start_time": "2025-10-03T17:07:32.701660",
     "status": "completed"
    },
    "tags": []
   },
   "outputs": [],
   "source": [
    "# Encode Country labels\n",
    "le = LabelEncoder()\n",
    "df['CountryLabel'] = le.fit_transform(df['Country'])"
   ]
  },
  {
   "cell_type": "code",
   "execution_count": 13,
   "id": "14750ca4",
   "metadata": {
    "execution": {
     "iopub.execute_input": "2025-10-03T17:07:32.802020Z",
     "iopub.status.busy": "2025-10-03T17:07:32.801721Z",
     "iopub.status.idle": "2025-10-03T17:07:32.810258Z",
     "shell.execute_reply": "2025-10-03T17:07:32.809272Z"
    },
    "papermill": {
     "duration": 0.016356,
     "end_time": "2025-10-03T17:07:32.812231",
     "exception": false,
     "start_time": "2025-10-03T17:07:32.795875",
     "status": "completed"
    },
    "tags": []
   },
   "outputs": [],
   "source": [
    "# Features and target\n",
    "X = df[['Quantity', 'UnitPrice', 'TotalAmount']]\n",
    "y = df['CountryLabel']"
   ]
  },
  {
   "cell_type": "code",
   "execution_count": 14,
   "id": "c710042d",
   "metadata": {
    "execution": {
     "iopub.execute_input": "2025-10-03T17:07:32.824014Z",
     "iopub.status.busy": "2025-10-03T17:07:32.823706Z",
     "iopub.status.idle": "2025-10-03T17:07:32.878572Z",
     "shell.execute_reply": "2025-10-03T17:07:32.877345Z"
    },
    "papermill": {
     "duration": 0.063174,
     "end_time": "2025-10-03T17:07:32.880614",
     "exception": false,
     "start_time": "2025-10-03T17:07:32.817440",
     "status": "completed"
    },
    "tags": []
   },
   "outputs": [],
   "source": [
    "# Split into train and test\n",
    "X_train, X_test, y_train, y_test = train_test_split(X, y, test_size=0.2, random_state=42)"
   ]
  },
  {
   "cell_type": "code",
   "execution_count": 15,
   "id": "cf31270f",
   "metadata": {
    "execution": {
     "iopub.execute_input": "2025-10-03T17:07:32.892491Z",
     "iopub.status.busy": "2025-10-03T17:07:32.892105Z",
     "iopub.status.idle": "2025-10-03T17:07:53.568277Z",
     "shell.execute_reply": "2025-10-03T17:07:53.567294Z"
    },
    "papermill": {
     "duration": 20.684056,
     "end_time": "2025-10-03T17:07:53.570084",
     "exception": false,
     "start_time": "2025-10-03T17:07:32.886028",
     "status": "completed"
    },
    "tags": []
   },
   "outputs": [
    {
     "data": {
      "text/html": [
       "<style>#sk-container-id-1 {color: black;background-color: white;}#sk-container-id-1 pre{padding: 0;}#sk-container-id-1 div.sk-toggleable {background-color: white;}#sk-container-id-1 label.sk-toggleable__label {cursor: pointer;display: block;width: 100%;margin-bottom: 0;padding: 0.3em;box-sizing: border-box;text-align: center;}#sk-container-id-1 label.sk-toggleable__label-arrow:before {content: \"▸\";float: left;margin-right: 0.25em;color: #696969;}#sk-container-id-1 label.sk-toggleable__label-arrow:hover:before {color: black;}#sk-container-id-1 div.sk-estimator:hover label.sk-toggleable__label-arrow:before {color: black;}#sk-container-id-1 div.sk-toggleable__content {max-height: 0;max-width: 0;overflow: hidden;text-align: left;background-color: #f0f8ff;}#sk-container-id-1 div.sk-toggleable__content pre {margin: 0.2em;color: black;border-radius: 0.25em;background-color: #f0f8ff;}#sk-container-id-1 input.sk-toggleable__control:checked~div.sk-toggleable__content {max-height: 200px;max-width: 100%;overflow: auto;}#sk-container-id-1 input.sk-toggleable__control:checked~label.sk-toggleable__label-arrow:before {content: \"▾\";}#sk-container-id-1 div.sk-estimator input.sk-toggleable__control:checked~label.sk-toggleable__label {background-color: #d4ebff;}#sk-container-id-1 div.sk-label input.sk-toggleable__control:checked~label.sk-toggleable__label {background-color: #d4ebff;}#sk-container-id-1 input.sk-hidden--visually {border: 0;clip: rect(1px 1px 1px 1px);clip: rect(1px, 1px, 1px, 1px);height: 1px;margin: -1px;overflow: hidden;padding: 0;position: absolute;width: 1px;}#sk-container-id-1 div.sk-estimator {font-family: monospace;background-color: #f0f8ff;border: 1px dotted black;border-radius: 0.25em;box-sizing: border-box;margin-bottom: 0.5em;}#sk-container-id-1 div.sk-estimator:hover {background-color: #d4ebff;}#sk-container-id-1 div.sk-parallel-item::after {content: \"\";width: 100%;border-bottom: 1px solid gray;flex-grow: 1;}#sk-container-id-1 div.sk-label:hover label.sk-toggleable__label {background-color: #d4ebff;}#sk-container-id-1 div.sk-serial::before {content: \"\";position: absolute;border-left: 1px solid gray;box-sizing: border-box;top: 0;bottom: 0;left: 50%;z-index: 0;}#sk-container-id-1 div.sk-serial {display: flex;flex-direction: column;align-items: center;background-color: white;padding-right: 0.2em;padding-left: 0.2em;position: relative;}#sk-container-id-1 div.sk-item {position: relative;z-index: 1;}#sk-container-id-1 div.sk-parallel {display: flex;align-items: stretch;justify-content: center;background-color: white;position: relative;}#sk-container-id-1 div.sk-item::before, #sk-container-id-1 div.sk-parallel-item::before {content: \"\";position: absolute;border-left: 1px solid gray;box-sizing: border-box;top: 0;bottom: 0;left: 50%;z-index: -1;}#sk-container-id-1 div.sk-parallel-item {display: flex;flex-direction: column;z-index: 1;position: relative;background-color: white;}#sk-container-id-1 div.sk-parallel-item:first-child::after {align-self: flex-end;width: 50%;}#sk-container-id-1 div.sk-parallel-item:last-child::after {align-self: flex-start;width: 50%;}#sk-container-id-1 div.sk-parallel-item:only-child::after {width: 0;}#sk-container-id-1 div.sk-dashed-wrapped {border: 1px dashed gray;margin: 0 0.4em 0.5em 0.4em;box-sizing: border-box;padding-bottom: 0.4em;background-color: white;}#sk-container-id-1 div.sk-label label {font-family: monospace;font-weight: bold;display: inline-block;line-height: 1.2em;}#sk-container-id-1 div.sk-label-container {text-align: center;}#sk-container-id-1 div.sk-container {/* jupyter's `normalize.less` sets `[hidden] { display: none; }` but bootstrap.min.css set `[hidden] { display: none !important; }` so we also need the `!important` here to be able to override the default hidden behavior on the sphinx rendered scikit-learn.org. See: https://github.com/scikit-learn/scikit-learn/issues/21755 */display: inline-block !important;position: relative;}#sk-container-id-1 div.sk-text-repr-fallback {display: none;}</style><div id=\"sk-container-id-1\" class=\"sk-top-container\"><div class=\"sk-text-repr-fallback\"><pre>RandomForestClassifier(random_state=42)</pre><b>In a Jupyter environment, please rerun this cell to show the HTML representation or trust the notebook. <br />On GitHub, the HTML representation is unable to render, please try loading this page with nbviewer.org.</b></div><div class=\"sk-container\" hidden><div class=\"sk-item\"><div class=\"sk-estimator sk-toggleable\"><input class=\"sk-toggleable__control sk-hidden--visually\" id=\"sk-estimator-id-1\" type=\"checkbox\" checked><label for=\"sk-estimator-id-1\" class=\"sk-toggleable__label sk-toggleable__label-arrow\">RandomForestClassifier</label><div class=\"sk-toggleable__content\"><pre>RandomForestClassifier(random_state=42)</pre></div></div></div></div></div>"
      ],
      "text/plain": [
       "RandomForestClassifier(random_state=42)"
      ]
     },
     "execution_count": 15,
     "metadata": {},
     "output_type": "execute_result"
    }
   ],
   "source": [
    "model = RandomForestClassifier(n_estimators=100, random_state=42)\n",
    "model.fit(X_train, y_train)"
   ]
  },
  {
   "cell_type": "code",
   "execution_count": 16,
   "id": "03d94245",
   "metadata": {
    "execution": {
     "iopub.execute_input": "2025-10-03T17:07:53.582621Z",
     "iopub.status.busy": "2025-10-03T17:07:53.582220Z",
     "iopub.status.idle": "2025-10-03T17:07:56.336023Z",
     "shell.execute_reply": "2025-10-03T17:07:56.334647Z"
    },
    "papermill": {
     "duration": 2.761744,
     "end_time": "2025-10-03T17:07:56.337738",
     "exception": false,
     "start_time": "2025-10-03T17:07:53.575994",
     "status": "completed"
    },
    "tags": []
   },
   "outputs": [
    {
     "name": "stdout",
     "output_type": "stream",
     "text": [
      "                      precision    recall  f1-score   support\n",
      "\n",
      "           Australia       0.41      0.05      0.10       204\n",
      "             Austria       0.00      0.00      0.00        78\n",
      "             Bahrain       0.00      0.00      0.00         4\n",
      "             Belgium       0.92      0.03      0.05       432\n",
      "              Brazil       0.00      0.00      0.00         6\n",
      "              Canada       0.00      0.00      0.00        30\n",
      "     Channel Islands       0.00      0.00      0.00       159\n",
      "              Cyprus       0.00      0.00      0.00       114\n",
      "      Czech Republic       0.00      0.00      0.00         5\n",
      "             Denmark       0.67      0.03      0.05        79\n",
      "                EIRE       0.53      0.02      0.03      1406\n",
      "  European Community       0.00      0.00      0.00         5\n",
      "             Finland       0.17      0.01      0.03       138\n",
      "              France       0.44      0.01      0.02      1623\n",
      "             Germany       0.52      0.03      0.06      1867\n",
      "              Greece       0.00      0.00      0.00        27\n",
      "             Iceland       0.00      0.00      0.00        29\n",
      "              Israel       0.00      0.00      0.00        47\n",
      "               Italy       0.00      0.00      0.00       149\n",
      "               Japan       0.00      0.00      0.00        60\n",
      "             Lebanon       0.00      0.00      0.00        10\n",
      "           Lithuania       0.00      0.00      0.00         4\n",
      "               Malta       0.00      0.00      0.00        25\n",
      "         Netherlands       0.44      0.11      0.17       450\n",
      "              Norway       0.00      0.00      0.00       223\n",
      "              Poland       0.00      0.00      0.00        71\n",
      "            Portugal       0.00      0.00      0.00       314\n",
      "                 RSA       0.00      0.00      0.00         4\n",
      "        Saudi Arabia       0.00      0.00      0.00         1\n",
      "           Singapore       0.00      0.00      0.00        42\n",
      "               Spain       0.50      0.02      0.04       517\n",
      "              Sweden       0.50      0.05      0.09        80\n",
      "         Switzerland       0.10      0.01      0.01       345\n",
      "                 USA       0.00      0.00      0.00        33\n",
      "United Arab Emirates       0.00      0.00      0.00        14\n",
      "      United Kingdom       0.90      1.00      0.94     70928\n",
      "         Unspecified       0.00      0.00      0.00        54\n",
      "\n",
      "            accuracy                           0.89     79577\n",
      "           macro avg       0.16      0.04      0.04     79577\n",
      "        weighted avg       0.84      0.89      0.85     79577\n",
      "\n"
     ]
    }
   ],
   "source": [
    "y_pred = model.predict(X_test)\n",
    "\n",
    "# Show classification report\n",
    "print(classification_report(y_test, y_pred, target_names=le.classes_))"
   ]
  },
  {
   "cell_type": "code",
   "execution_count": 17,
   "id": "3b409943",
   "metadata": {
    "execution": {
     "iopub.execute_input": "2025-10-03T17:07:56.350473Z",
     "iopub.status.busy": "2025-10-03T17:07:56.350099Z",
     "iopub.status.idle": "2025-10-03T17:07:56.861145Z",
     "shell.execute_reply": "2025-10-03T17:07:56.859564Z"
    },
    "papermill": {
     "duration": 0.519874,
     "end_time": "2025-10-03T17:07:56.863426",
     "exception": false,
     "start_time": "2025-10-03T17:07:56.343552",
     "status": "completed"
    },
    "tags": []
   },
   "outputs": [
    {
     "data": {
      "image/png": "[encoded data removed]",
      "text/plain": [
       "<Figure size 1200x600 with 2 Axes>"
      ]
     },
     "metadata": {},
     "output_type": "display_data"
    }
   ],
   "source": [
    "# Confusion Matrix\n",
    "plt.figure(figsize=(12, 6))\n",
    "sns.heatmap(confusion_matrix(y_test, y_pred), annot=False, cmap='Blues')\n",
    "plt.title(\"Confusion Matrix\")\n",
    "plt.xlabel(\"Predicted\")\n",
    "plt.ylabel(\"True\")\n",
    "plt.show()"
   ]
  }
 ],
 "metadata": {
  "kaggle": {
   "accelerator": "none",
   "dataSources": [
    {
     "datasetId": 1985,
     "sourceId": 3404,
     "sourceType": "datasetVersion"
    }
   ],
   "dockerImageVersionId": 31089,
   "isGpuEnabled": false,
   "isInternetEnabled": true,
   "language": "python",
   "sourceType": "notebook"
  },
  "kernelspec": {
   "display_name": "Python 3",
   "language": "python",
   "name": "python3"
  },
  "language_info": {
   "codemirror_mode": {
    "name": "ipython",
    "version": 3
   },
   "file_extension": ".py",
   "mimetype": "text/x-python",
   "name": "python",
   "nbconvert_exporter": "python",
   "pygments_lexer": "ipython3",
   "version": "3.11.13"
  },
  "papermill": {
   "default_parameters": {},
   "duration": 39.838355,
   "end_time": "2025-10-03T17:07:57.693160",
   "environment_variables": {},
   "exception": null,
   "input_path": "__notebook__.ipynb",
   "output_path": "__notebook__.ipynb",
   "parameters": {},
   "start_time": "2025-10-03T17:07:17.854805",
   "version": "2.6.0"
  }
 },
 "nbformat": 4,
 "nbformat_minor": 5
}
